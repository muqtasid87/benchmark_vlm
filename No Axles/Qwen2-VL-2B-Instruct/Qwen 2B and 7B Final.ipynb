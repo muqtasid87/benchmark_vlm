{
 "cells": [
  {
   "cell_type": "code",
   "execution_count": 2,
   "metadata": {
    "colab": {
     "base_uri": "https://localhost:8080/"
    },
    "id": "o2vP9MtDmuLm",
    "outputId": "8d2200b2-9935-462c-9c42-a7e648d8d36a"
   },
   "outputs": [
    {
     "name": "stdout",
     "output_type": "stream",
     "text": [
      "fatal: destination path 'benchmark_vlm' already exists and is not an empty directory.\n"
     ]
    }
   ],
   "source": [
    "!git clone https://github.com/muqtasid87/benchmark_vlm"
   ]
  },
  {
   "cell_type": "code",
   "execution_count": 3,
   "metadata": {
    "id": "plFroaGkxr7n"
   },
   "outputs": [],
   "source": [
    "from transformers import Qwen2VLForConditionalGeneration, AutoTokenizer, AutoProcessor\n",
    "from transformers import BitsAndBytesConfig\n",
    "from transformers.image_utils import load_image\n",
    "import torch\n",
    "import csv\n",
    "import platform\n",
    "from transformers import pipeline\n",
    "import psutil\n",
    "import numpy as np\n",
    "from PIL import Image\n",
    "import os\n",
    "import shutil\n",
    "import time\n",
    "from codecarbon import EmissionsTracker"
   ]
  },
  {
   "cell_type": "code",
   "execution_count": 4,
   "metadata": {
    "colab": {
     "base_uri": "https://localhost:8080/",
     "height": 49,
     "referenced_widgets": [
      "beff6fe1bbfd489c88b4d0f9940a1d01",
      "6872ab4ee023411b83902a76159f51a5",
      "03fb4a86fd634888a5b7b79b8de644c0",
      "6b414c9df53d4cff91d850c1ec206af4",
      "24bdb648a9924a1e9c7492bfad303051",
      "e320a6d270f944fcb0002ef0f8316f55",
      "1c8a0accbd9e4ecd92ea6759abcb90b8",
      "ac395c5cf8984c588b5aec4b16d3ecd7",
      "b2b2c799c6424b3d8c04b6b0d740495f",
      "c14df69eb5b34254aab962df8ff25261",
      "35e83eef2b3942de9988b141242abf26"
     ]
    },
    "id": "hdmdVbNBxaZl",
    "outputId": "4e6c4c7a-c491-4f59-a7f2-6d9f04ecd6e9"
   },
   "outputs": [],
   "source": [
    "# model_id = [\"Qwen/Qwen2-VL-2B-Instruct-GPTQ-Int4\",\"Qwen/Qwen2-VL-7B-Instruct-AWQ\"]\n",
    "model_id = [\"Qwen/Qwen2-VL-7B-Instruct-AWQ\"]"
   ]
  },
  {
   "cell_type": "code",
   "execution_count": 5,
   "metadata": {
    "id": "L10lGQF8yCdE"
   },
   "outputs": [],
   "source": [
    "# Image directory\n",
    "img_dir = 'benchmark_vlm/master'"
   ]
  },
  {
   "cell_type": "markdown",
   "metadata": {
    "id": "8k86dXQJ9_81"
   },
   "source": [
    "### Inference Function"
   ]
  },
  {
   "cell_type": "code",
   "execution_count": 6,
   "metadata": {
    "id": "iDIEGC215lsG"
   },
   "outputs": [],
   "source": [
    "# Function to run inference\n",
    "def infer_image(image_path, prompt):\n",
    "    with open(image_path, \"rb\") as f:\n",
    "          input_image = Image.open(f).convert(\"RGB\")\n",
    "\n",
    "    \n",
    "    conversation = [\n",
    "          {\n",
    "            \"role\": \"user\",\n",
    "            \"content\": [\n",
    "                {\"type\": \"image\"},\n",
    "                {\"type\": \"text\", \"text\": prompt},\n",
    "                \n",
    "              ],\n",
    "          },\n",
    "      ]\n",
    "\n",
    "    text_prompt = processor.apply_chat_template(conversation, add_generation_prompt=True)\n",
    "    inputs = processor(text=[text_prompt], images=[input_image], padding=True, return_tensors=\"pt\").to(\"cuda\")\n",
    "\n",
    "    output_ids = model.generate(**inputs, max_new_tokens=2)\n",
    "    generated_ids = [output_ids[len(input_ids) :]for input_ids, output_ids in zip(inputs.input_ids, output_ids)]\n",
    "    output_text = processor.batch_decode(generated_ids, skip_special_tokens=True, clean_up_tokenization_spaces=True)\n",
    "\n",
    "    return output_text[0].lower()\n",
    "    \n",
    "    \n",
    "    "
   ]
  },
  {
   "cell_type": "markdown",
   "metadata": {
    "id": "kymovqsQ99A_"
   },
   "source": [
    "### Validation function"
   ]
  },
  {
   "cell_type": "code",
   "execution_count": 7,
   "metadata": {
    "id": "NM8O5ht0-G9x"
   },
   "outputs": [],
   "source": [
    "# Define vehicle classes for validation\n",
    "vehicle_classes = {\n",
    "    \"Class 1 - Motorcycles\": [\"motorcycle\", \"motorbike\", \"bike\", \"scooter\", \"motor\", \"moped\"],\n",
    "    \"Class 2 - Car, SUV, Station Wagons\": [\"car\", \"sedan\", \"hatchback\", \"suv\", \"mpv\", \"crossover\", \"station wagon\", \"wagon\", 'coupe', 'convertible', 'sports car'],\n",
    "    \"Class 3 - 2 axle lorry, van, pickup\": [\"pickup\", \"van\", \"minivan\"],\n",
    "    \"Class 4 - 2 axles, 5 or 6 wheels bus or truck\": [\"bus\", \"truck\", 'trailer', 'lorry', 'tractor', 'tanker', 'dump truck', \"tow truck\", \"dump trailer\"],\n",
    "    \"Class 5 - 3 axle truck, bus\": [\"bus\", \"truck\"],\n",
    "    \"Class 6 - 4 axles\": [\"coach\", \"bus\", \"truck\", 'trailer', 'lorry', 'tractor', 'tanker', 'dump truck', \"tow truck\", \"dump trailer\"],\n",
    "    \"Class 7 - 5 or more axles\": [\"coach\", \"bus\", \"truck\", 'trailer', 'lorry', 'tractor', 'tanker', 'dump truck', \"tow truck\", \"dump trailer\"],\n",
    "    \"bus 2\" : [\"coach\", \"bus\"],\n",
    "    \"bus 3\" : [\"coach\", \"bus\"],\n",
    "    \"truck 2\" : [\"truck\", 'trailer', 'lorry', 'tractor', 'tanker', 'dump truck', \"tow truck\", \"dump trailer\"],\n",
    "    \"truck 3\" : [\"truck\", 'trailer', 'lorry', 'tractor', 'tanker', 'dump truck', \"tow truck\", \"dump trailer\"],\n",
    "    \"truck 4\" : [\"truck\", 'trailer', 'lorry', 'tractor', 'tanker', 'dump truck', \"tow truck\", \"dump trailer\"],\n",
    "    \"truck 5\" : [\"truck\", 'trailer', 'lorry', 'tractor', 'tanker', 'dump truck', \"tow truck\", \"dump trailer\"],\n",
    "    \"van\" : [\"van\", \"minivan\", 'minibus',\"mpv\"],\n",
    "    \"pickup\" : [\"pickup\", \"pickup truck\", \"camper\"],\n",
    "}\n",
    "\n",
    "valid_vehicle_types = {type for sublist in vehicle_classes.values() for type in sublist}"
   ]
  },
  {
   "cell_type": "code",
   "execution_count": 8,
   "metadata": {
    "id": "thh669gy5oLj"
   },
   "outputs": [],
   "source": [
    "# Validate predictions\n",
    "\n",
    "def validate_prediction(folder_name, prediction, axles=None):\n",
    "    # Extract folder label\n",
    "    for class_name, valid_labels in vehicle_classes.items():\n",
    "        if folder_name.startswith(class_name):\n",
    "            if axles:  # Use axle count for bus/truck\n",
    "                if axles == 1 or 0:\n",
    "                  return False\n",
    "                elif axles == 2:\n",
    "                    return \"2\" in folder_name[-1]\n",
    "                elif axles == 3:\n",
    "                    return \"3\" in folder_name[-1]\n",
    "                elif axles == 4:\n",
    "                    return \"4\" in folder_name[-1]\n",
    "                elif axles >= 5:\n",
    "                    return \"5\" in folder_name[-1]\n",
    "            if isinstance(valid_labels, list):\n",
    "                return prediction in valid_labels\n",
    "            return prediction == valid_labels\n",
    "    return False"
   ]
  },
  {
   "cell_type": "markdown",
   "metadata": {
    "id": "mYX4uILS97b0"
   },
   "source": [
    "# Main Loop"
   ]
  },
  {
   "cell_type": "code",
   "execution_count": 9,
   "metadata": {},
   "outputs": [],
   "source": [
    "from tqdm import tqdm"
   ]
  },
  {
   "cell_type": "code",
   "execution_count": 10,
   "metadata": {
    "colab": {
     "base_uri": "https://localhost:8080/"
    },
    "id": "as1UY4lBj0Ha",
    "outputId": "5a7878a3-4ca6-4958-a2b8-646dfb69a5ac"
   },
   "outputs": [],
   "source": [
    "def main_loop(wrong_predictions_dir, img_dir=img_dir, use_axles=True, valid_vehicle_types=valid_vehicle_types):\n",
    "    total_files = sum(len(files) for _, _, files in os.walk(img_dir))\n",
    "    progress_bar = tqdm(total=total_files, desc=\"Processing Images\", unit=\"file\")\n",
    "    # Main processing loop\n",
    "    start_time = time.time()\n",
    "    tracker = EmissionsTracker()\n",
    "    tracker.start()\n",
    "    results = []\n",
    "    for root, dirs, files in os.walk(img_dir):\n",
    "        for file in files:\n",
    "            if file.endswith((\".jpg\", \".png\", \".jpeg\")):\n",
    "                image_path = os.path.join(root, file)\n",
    "                folder_name = os.path.basename(os.path.dirname(image_path))\n",
    "                progress_bar.set_description(f\"Processing: {folder_name}\")\n",
    "                progress_bar.update(1)  # Increment the progress bar\n",
    "\n",
    "                try:\n",
    "                    # First inference: vehicle type\n",
    "                    # vehicle_prompt = f\"<image> answer en What type of vehicle is this? Answer in only one word.\"\n",
    "                    vehicle_prompt = f\"What type of vehicle is this? Choose one from: {', '.join(valid_vehicle_types)}. Answer in one word\"\n",
    "                    prediction = infer_image(image_path, vehicle_prompt)\n",
    "                    print(f\"Vehicle Prediction: {prediction}\")\n",
    "\n",
    "                    # Handle buses and trucks\n",
    "                    axles = None\n",
    "                    if prediction in [\"bus\", \"truck\", 'trailer', 'lorry', 'tractor', 'tanker', 'dump truck',  \"tow truck\", \"dump trailer\"]:\n",
    "                        # Check if it's a pickup truck\n",
    "                        if prediction == 'truck':\n",
    "                            pickup_prompt = \"Is this a pickup truck? Respond with only yes or no.\"\n",
    "                            is_pickup = infer_image(image_path, pickup_prompt).strip().lower()\n",
    "                            print(f\"Is Pickup Truck: {is_pickup}\")\n",
    "                            if is_pickup == \"yes\":\n",
    "                                prediction = \"pickup truck\"\n",
    "                            elif use_axles:\n",
    "                                # Predict axles for non-pickup trucks\n",
    "                                axle_prompt = \"How many axles does this vehicle have? Answer with a single integer value.\"\n",
    "                                axle_prediction = infer_image(image_path, axle_prompt)\n",
    "                                print(f\"Axle Prediction: {axle_prediction}\")\n",
    "                    \n",
    "                                try:\n",
    "                                    axles = int(axle_prediction)\n",
    "                                except ValueError:\n",
    "                                    print(f\"Invalid axle prediction: {axle_prediction}\")\n",
    "                                    axles = None  # Fallback if parsing fails\n",
    "                        elif use_axles:\n",
    "\n",
    "                            axle_prompt = \"How many axles does this vehicle have? Answer with a single integer value\"\n",
    "                            axle_prediction = infer_image(image_path, axle_prompt)\n",
    "                            print(f\"Axle Prediction: {axle_prediction}\")\n",
    "    \n",
    "                            try:\n",
    "                                axles = int(axle_prediction)\n",
    "                            except ValueError:\n",
    "                                print(f\"Invalid axle prediction: {axle_prediction}\")\n",
    "\n",
    "                    # Validate prediction\n",
    "                    is_correct = validate_prediction(folder_name, prediction, axles)\n",
    "                    print(f\"Validation Result: {is_correct}\")\n",
    "\n",
    "                    # Store results\n",
    "                    results.append({\n",
    "                        \"image\": image_path,\n",
    "                        \"folder_label\": folder_name,\n",
    "                        \"prediction\": prediction,\n",
    "                        \"axles\": axles,\n",
    "                        \"is_correct\": is_correct\n",
    "                    })\n",
    "\n",
    "                    # Handle wrong predictions\n",
    "                    if not is_correct:\n",
    "                        # Create a folder for the wrong prediction\n",
    "                        wrong_folder = os.path.join(wrong_predictions_dir, prediction, str(axles))\n",
    "                        os.makedirs(wrong_folder, exist_ok=True)\n",
    "\n",
    "                        # Copy the image to the folder\n",
    "                        shutil.copy(image_path, os.path.join(wrong_folder, file))\n",
    "                except Exception as e:\n",
    "                    print(f\"Error processing {image_path}: {e}\")\n",
    "                    continue\n",
    "    \n",
    "    progress_bar.close()\n",
    "    emissions = tracker.stop()\n",
    "    # Stop the timer\n",
    "    end_time = time.time()\n",
    "    elapsed_time = end_time - start_time\n",
    "    print(f\"Total processing time: {elapsed_time:.2f} seconds\")\n",
    "    print(f\"CO2 emissions: {emissions:.6f} kg\")\n",
    "    return (results, elapsed_time, emissions)"
   ]
  },
  {
   "cell_type": "code",
   "execution_count": 11,
   "metadata": {
    "colab": {
     "base_uri": "https://localhost:8080/"
    },
    "id": "H4COQqG95sqN",
    "outputId": "59ceb760-001c-4faf-cf3d-740399491993"
   },
   "outputs": [],
   "source": [
    "# Save results to CSV\n",
    "def export_results(results, model_id, elapsed_time, emissions):\n",
    "# Save results to CSV\n",
    "    output_csv = f'experiment_data/{models}/axles/results.csv'\n",
    "    with open(output_csv, mode=\"w\", newline=\"\") as file:\n",
    "        writer = csv.DictWriter(file, fieldnames=[\"image\", \"folder_label\", \"prediction\", \"axles\", \"is_correct\"])\n",
    "        writer.writeheader()\n",
    "        writer.writerows(results)\n",
    "\n",
    "    # Metrics calculation\n",
    "    correct_predictions = sum(1 for r in results if r[\"is_correct\"])\n",
    "    total_images = len(results)\n",
    "    accuracy = correct_predictions / total_images * 100 if total_images > 0 else 0\n",
    "    wrong_predictions = total_images - correct_predictions\n",
    "\n",
    "    # Per-class metrics\n",
    "    class_metrics = {}\n",
    "    for result in results:\n",
    "        label = result[\"folder_label\"]\n",
    "        correct = result[\"is_correct\"]\n",
    "        if label not in class_metrics:\n",
    "            class_metrics[label] = {\"correct\": 0, \"total\": 0}\n",
    "        class_metrics[label][\"total\"] += 1\n",
    "        if correct:\n",
    "            class_metrics[label][\"correct\"] += 1\n",
    "\n",
    "    # Aggregate class metrics\n",
    "    per_class_accuracy = {\n",
    "        label: (data[\"correct\"] / data[\"total\"]) * 100\n",
    "        for label, data in class_metrics.items()\n",
    "    }\n",
    "    per_class_error_rate = {\n",
    "        label: 100 - acc for label, acc in per_class_accuracy.items()\n",
    "    }\n",
    "\n",
    "    # Collect system configuration\n",
    "    system_config = {\n",
    "        \"Processor\": platform.processor(),\n",
    "        \"CPU Count\": psutil.cpu_count(logical=True),\n",
    "        \"Memory (GB)\": round(psutil.virtual_memory().total / (1024 ** 3), 2),\n",
    "        \"Elapsed Time (seconds)\": elapsed_time,\n",
    "        \"CO2 Emissions (kg)\": round(emissions, 6)\n",
    "    }\n",
    "\n",
    "    # Metrics dictionarya\n",
    "    metrics = {\n",
    "        \"Total Images\": total_images,\n",
    "        \"Correct Predictions\": correct_predictions,\n",
    "        \"Wrong Predictions\": wrong_predictions,\n",
    "        \"Accuracy (%)\": accuracy,\n",
    "        \"Error Rate (%)\": 100 - accuracy\n",
    "    }\n",
    "\n",
    "    # Save metrics to CSV\n",
    "    metrics_csv = f'experiment_data/{models}/axles/metrics.csv'\n",
    "    with open(metrics_csv, mode=\"w\", newline=\"\") as file:\n",
    "        writer = csv.writer(file)\n",
    "        writer.writerow([\"Model\", \"Metric\", \"Value\"])\n",
    "        for key, value in metrics.items():\n",
    "            writer.writerow([model_id, key, value])\n",
    "        for label, acc in per_class_accuracy.items():\n",
    "            writer.writerow([model_id, f\"Per-Class Accuracy: {label}\", acc])\n",
    "            writer.writerow([model_id, f\"Per-Class Error Rate: {label}\", per_class_error_rate[label]])\n",
    "        for key, value in system_config.items():\n",
    "            writer.writerow([model_id, key, value])\n",
    "\n",
    "    # Print final metrics\n",
    "    print(\"\\n--- Metrics ---\")\n",
    "    for key, value in metrics.items():\n",
    "        print(f\"{key}: {value}\")\n",
    "    for label, acc in per_class_accuracy.items():\n",
    "        print(f\"Class '{label}' - Accuracy: {acc:.2f}%, Error Rate: {per_class_error_rate[label]:.2f}%\")\n",
    "    for key, value in system_config.items():\n",
    "        print(f\"{key}: {value}\")"
   ]
  },
  {
   "cell_type": "code",
   "execution_count": 12,
   "metadata": {},
   "outputs": [
    {
     "name": "stdout",
     "output_type": "stream",
     "text": [
      "Qwen/Qwen2-VL-7B-Instruct-AWQ\n"
     ]
    },
    {
     "name": "stderr",
     "output_type": "stream",
     "text": [
      "We suggest you to set `torch_dtype=torch.float16` for better efficiency with AWQ.\n",
      "`Qwen2VLRotaryEmbedding` can now be fully parameterized by passing the model config through the `config` argument. All other arguments will be removed in v4.46\n"
     ]
    },
    {
     "data": {
      "application/vnd.jupyter.widget-view+json": {
       "model_id": "9e40b2c8e7514aa69eca88243bc30e1f",
       "version_major": 2,
       "version_minor": 0
      },
      "text/plain": [
       "Loading checkpoint shards:   0%|          | 0/2 [00:00<?, ?it/s]"
      ]
     },
     "metadata": {},
     "output_type": "display_data"
    },
    {
     "name": "stderr",
     "output_type": "stream",
     "text": [
      "Processing Images:   0%|          | 0/932 [00:00<?, ?file/s][codecarbon INFO @ 11:04:12] [setup] RAM Tracking...\n",
      "[codecarbon INFO @ 11:04:12] [setup] CPU Tracking...\n",
      "[codecarbon WARNING @ 11:04:12] No CPU tracking mode found. Falling back on CPU constant mode. \n",
      " Linux OS detected: Please ensure RAPL files exist at \\sys\\class\\powercap\\intel-rapl to measure CPU\n",
      "\n",
      "[codecarbon INFO @ 11:04:13] CPU Model on constant consumption mode: AMD EPYC 7513 32-Core Processor\n",
      "[codecarbon INFO @ 11:04:13] [setup] GPU Tracking...\n",
      "[codecarbon INFO @ 11:04:13] Tracking Nvidia GPU via pynvml\n",
      "[codecarbon INFO @ 11:04:13] >>> Tracker's metadata:\n",
      "[codecarbon INFO @ 11:04:13]   Platform system: Linux-5.15.0-125-generic-x86_64-with-glibc2.35\n",
      "[codecarbon INFO @ 11:04:13]   Python version: 3.11.10\n",
      "[codecarbon INFO @ 11:04:13]   CodeCarbon version: 2.8.2\n",
      "[codecarbon INFO @ 11:04:13]   Available RAM : 503.471 GB\n",
      "[codecarbon INFO @ 11:04:13]   CPU count: 128\n",
      "[codecarbon INFO @ 11:04:13]   CPU model: AMD EPYC 7513 32-Core Processor\n",
      "[codecarbon INFO @ 11:04:13]   GPU count: 1\n",
      "[codecarbon INFO @ 11:04:13]   GPU model: 1 x NVIDIA A100-SXM4-80GB\n",
      "[codecarbon INFO @ 11:04:17] Saving emissions data to file /emissions.csv\n",
      "Processing: Class 1 - Motorcycles:   0%|          | 2/932 [00:06<45:26,  2.93s/file]  "
     ]
    },
    {
     "name": "stdout",
     "output_type": "stream",
     "text": [
      "Vehicle Prediction: motorbike\n",
      "Validation Result: True\n"
     ]
    },
    {
     "name": "stderr",
     "output_type": "stream",
     "text": [
      "Processing: Class 1 - Motorcycles:   0%|          | 3/932 [00:06<28:31,  1.84s/file]"
     ]
    },
    {
     "name": "stdout",
     "output_type": "stream",
     "text": [
      "Vehicle Prediction: motorbike\n",
      "Validation Result: True\n"
     ]
    },
    {
     "name": "stderr",
     "output_type": "stream",
     "text": [
      "Processing: Class 1 - Motorcycles:   0%|          | 4/932 [00:07<20:25,  1.32s/file]"
     ]
    },
    {
     "name": "stdout",
     "output_type": "stream",
     "text": [
      "Vehicle Prediction: motorbike\n",
      "Validation Result: True\n"
     ]
    },
    {
     "name": "stderr",
     "output_type": "stream",
     "text": [
      "Processing: Class 1 - Motorcycles:   1%|          | 5/932 [00:07<15:54,  1.03s/file]"
     ]
    },
    {
     "name": "stdout",
     "output_type": "stream",
     "text": [
      "Vehicle Prediction: motorcycle\n",
      "Validation Result: True\n"
     ]
    },
    {
     "name": "stderr",
     "output_type": "stream",
     "text": [
      "Processing: Class 1 - Motorcycles:   1%|          | 6/932 [00:08<13:20,  1.16file/s]"
     ]
    },
    {
     "name": "stdout",
     "output_type": "stream",
     "text": [
      "Vehicle Prediction: motorbike\n",
      "Validation Result: True\n"
     ]
    },
    {
     "name": "stderr",
     "output_type": "stream",
     "text": [
      "Processing: Class 1 - Motorcycles:   1%|          | 7/932 [00:08<11:35,  1.33file/s]"
     ]
    },
    {
     "name": "stdout",
     "output_type": "stream",
     "text": [
      "Vehicle Prediction: motorbike\n",
      "Validation Result: True\n"
     ]
    },
    {
     "name": "stderr",
     "output_type": "stream",
     "text": [
      "Processing: Class 1 - Motorcycles:   1%|          | 8/932 [00:09<10:26,  1.48file/s]"
     ]
    },
    {
     "name": "stdout",
     "output_type": "stream",
     "text": [
      "Vehicle Prediction: motorbike\n",
      "Validation Result: True\n"
     ]
    },
    {
     "name": "stderr",
     "output_type": "stream",
     "text": [
      "Processing: Class 1 - Motorcycles:   1%|          | 9/932 [00:10<09:43,  1.58file/s]"
     ]
    },
    {
     "name": "stdout",
     "output_type": "stream",
     "text": [
      "Vehicle Prediction: motorbike\n",
      "Validation Result: True\n"
     ]
    },
    {
     "name": "stderr",
     "output_type": "stream",
     "text": [
      "Processing: Class 1 - Motorcycles:   1%|          | 10/932 [00:10<09:09,  1.68file/s]"
     ]
    },
    {
     "name": "stdout",
     "output_type": "stream",
     "text": [
      "Vehicle Prediction: motorbike\n",
      "Validation Result: True\n"
     ]
    },
    {
     "name": "stderr",
     "output_type": "stream",
     "text": [
      "Processing: Class 1 - Motorcycles:   1%|          | 11/932 [00:11<08:46,  1.75file/s]"
     ]
    },
    {
     "name": "stdout",
     "output_type": "stream",
     "text": [
      "Vehicle Prediction: motorbike\n",
      "Validation Result: True\n"
     ]
    },
    {
     "name": "stderr",
     "output_type": "stream",
     "text": [
      "Processing: Class 1 - Motorcycles:   1%|▏         | 12/932 [00:11<08:31,  1.80file/s]"
     ]
    },
    {
     "name": "stdout",
     "output_type": "stream",
     "text": [
      "Vehicle Prediction: motorbike\n",
      "Validation Result: True\n"
     ]
    },
    {
     "name": "stderr",
     "output_type": "stream",
     "text": [
      "Processing: Class 1 - Motorcycles:   1%|▏         | 13/932 [00:12<08:22,  1.83file/s]"
     ]
    },
    {
     "name": "stdout",
     "output_type": "stream",
     "text": [
      "Vehicle Prediction: motorbike\n",
      "Validation Result: True\n"
     ]
    },
    {
     "name": "stderr",
     "output_type": "stream",
     "text": [
      "Processing: Class 1 - Motorcycles:   2%|▏         | 14/932 [00:12<08:13,  1.86file/s]"
     ]
    },
    {
     "name": "stdout",
     "output_type": "stream",
     "text": [
      "Vehicle Prediction: motorbike\n",
      "Validation Result: True\n"
     ]
    },
    {
     "name": "stderr",
     "output_type": "stream",
     "text": [
      "Processing: Class 1 - Motorcycles:   2%|▏         | 15/932 [00:13<08:11,  1.87file/s]"
     ]
    },
    {
     "name": "stdout",
     "output_type": "stream",
     "text": [
      "Vehicle Prediction: motorbike\n",
      "Validation Result: True\n"
     ]
    },
    {
     "name": "stderr",
     "output_type": "stream",
     "text": [
      "Processing: Class 1 - Motorcycles:   2%|▏         | 16/932 [00:13<08:11,  1.86file/s]"
     ]
    },
    {
     "name": "stdout",
     "output_type": "stream",
     "text": [
      "Vehicle Prediction: motorbike\n",
      "Validation Result: True\n"
     ]
    },
    {
     "name": "stderr",
     "output_type": "stream",
     "text": [
      "Processing: Class 1 - Motorcycles:   2%|▏         | 17/932 [00:14<08:06,  1.88file/s]"
     ]
    },
    {
     "name": "stdout",
     "output_type": "stream",
     "text": [
      "Vehicle Prediction: motorbike\n",
      "Validation Result: True\n"
     ]
    },
    {
     "name": "stderr",
     "output_type": "stream",
     "text": [
      "Processing: Class 1 - Motorcycles:   2%|▏         | 18/932 [00:14<08:04,  1.89file/s]"
     ]
    },
    {
     "name": "stdout",
     "output_type": "stream",
     "text": [
      "Vehicle Prediction: motorbike\n",
      "Validation Result: True\n"
     ]
    },
    {
     "name": "stderr",
     "output_type": "stream",
     "text": [
      "Processing: Class 1 - Motorcycles:   2%|▏         | 19/932 [00:15<08:03,  1.89file/s]"
     ]
    },
    {
     "name": "stdout",
     "output_type": "stream",
     "text": [
      "Vehicle Prediction: sco\n",
      "Validation Result: False\n"
     ]
    },
    {
     "name": "stderr",
     "output_type": "stream",
     "text": [
      "Processing: Class 1 - Motorcycles:   2%|▏         | 20/932 [00:15<07:58,  1.91file/s]"
     ]
    },
    {
     "name": "stdout",
     "output_type": "stream",
     "text": [
      "Vehicle Prediction: motorbike\n",
      "Validation Result: True\n"
     ]
    },
    {
     "name": "stderr",
     "output_type": "stream",
     "text": [
      "Processing: Class 1 - Motorcycles:   2%|▏         | 21/932 [00:16<07:58,  1.90file/s]"
     ]
    },
    {
     "name": "stdout",
     "output_type": "stream",
     "text": [
      "Vehicle Prediction: motorbike\n",
      "Validation Result: True\n"
     ]
    },
    {
     "name": "stderr",
     "output_type": "stream",
     "text": [
      "Processing: Class 1 - Motorcycles:   2%|▏         | 22/932 [00:16<07:57,  1.91file/s]"
     ]
    },
    {
     "name": "stdout",
     "output_type": "stream",
     "text": [
      "Vehicle Prediction: motorbike\n",
      "Validation Result: True\n"
     ]
    },
    {
     "name": "stderr",
     "output_type": "stream",
     "text": [
      "Processing: Class 1 - Motorcycles:   2%|▏         | 23/932 [00:17<07:53,  1.92file/s]"
     ]
    },
    {
     "name": "stdout",
     "output_type": "stream",
     "text": [
      "Vehicle Prediction: motorcycle\n",
      "Validation Result: True\n"
     ]
    },
    {
     "name": "stderr",
     "output_type": "stream",
     "text": [
      "Processing: Class 1 - Motorcycles:   3%|▎         | 24/932 [00:17<07:52,  1.92file/s]"
     ]
    },
    {
     "name": "stdout",
     "output_type": "stream",
     "text": [
      "Vehicle Prediction: motorbike\n",
      "Validation Result: True\n"
     ]
    },
    {
     "name": "stderr",
     "output_type": "stream",
     "text": [
      "Processing: Class 1 - Motorcycles:   3%|▎         | 25/932 [00:18<07:53,  1.91file/s]"
     ]
    },
    {
     "name": "stdout",
     "output_type": "stream",
     "text": [
      "Vehicle Prediction: motorbike\n",
      "Validation Result: True\n"
     ]
    },
    {
     "name": "stderr",
     "output_type": "stream",
     "text": [
      "Processing: Class 1 - Motorcycles:   3%|▎         | 26/932 [00:18<07:50,  1.93file/s]"
     ]
    },
    {
     "name": "stdout",
     "output_type": "stream",
     "text": [
      "Vehicle Prediction: motorcycle\n",
      "Validation Result: True\n"
     ]
    },
    {
     "name": "stderr",
     "output_type": "stream",
     "text": [
      "Processing: Class 1 - Motorcycles:   3%|▎         | 27/932 [00:19<07:49,  1.93file/s][codecarbon INFO @ 11:04:32] Energy consumed for RAM : 0.000787 kWh. RAM Power : 188.80178117752075 W\n",
      "[codecarbon INFO @ 11:04:32] Energy consumed for all CPUs : 0.000417 kWh. Total CPU Power : 100.0 W\n",
      "[codecarbon INFO @ 11:04:32] Energy consumed for all GPUs : 0.001180 kWh. Total GPU Power : 283.0326951715746 W\n",
      "[codecarbon INFO @ 11:04:32] 0.002384 kWh of electricity used since the beginning.\n"
     ]
    },
    {
     "name": "stdout",
     "output_type": "stream",
     "text": [
      "Vehicle Prediction: motorbike\n",
      "Validation Result: True\n"
     ]
    },
    {
     "name": "stderr",
     "output_type": "stream",
     "text": [
      "Processing: Class 1 - Motorcycles:   3%|▎         | 28/932 [00:19<07:51,  1.92file/s]"
     ]
    },
    {
     "name": "stdout",
     "output_type": "stream",
     "text": [
      "Vehicle Prediction: motorbike\n",
      "Validation Result: True\n"
     ]
    },
    {
     "name": "stderr",
     "output_type": "stream",
     "text": [
      "Processing: Class 1 - Motorcycles:   3%|▎         | 29/932 [00:20<07:49,  1.92file/s]"
     ]
    },
    {
     "name": "stdout",
     "output_type": "stream",
     "text": [
      "Vehicle Prediction: motorcycle\n",
      "Validation Result: True\n"
     ]
    },
    {
     "name": "stderr",
     "output_type": "stream",
     "text": [
      "Processing: Class 1 - Motorcycles:   3%|▎         | 30/932 [00:20<07:46,  1.93file/s]"
     ]
    },
    {
     "name": "stdout",
     "output_type": "stream",
     "text": [
      "Vehicle Prediction: motorbike\n",
      "Validation Result: True\n"
     ]
    },
    {
     "name": "stderr",
     "output_type": "stream",
     "text": [
      "Processing: Class 1 - Motorcycles:   3%|▎         | 31/932 [00:21<07:46,  1.93file/s]"
     ]
    },
    {
     "name": "stdout",
     "output_type": "stream",
     "text": [
      "Vehicle Prediction: motorbike\n",
      "Validation Result: True\n"
     ]
    },
    {
     "name": "stderr",
     "output_type": "stream",
     "text": [
      "Processing: Class 1 - Motorcycles:   3%|▎         | 32/932 [00:21<07:46,  1.93file/s]"
     ]
    },
    {
     "name": "stdout",
     "output_type": "stream",
     "text": [
      "Vehicle Prediction: motorbike\n",
      "Validation Result: True\n"
     ]
    },
    {
     "name": "stderr",
     "output_type": "stream",
     "text": [
      "Processing: Class 1 - Motorcycles:   4%|▎         | 33/932 [00:22<07:45,  1.93file/s]"
     ]
    },
    {
     "name": "stdout",
     "output_type": "stream",
     "text": [
      "Vehicle Prediction: motorbike\n",
      "Validation Result: True\n"
     ]
    },
    {
     "name": "stderr",
     "output_type": "stream",
     "text": [
      "Processing: Class 1 - Motorcycles:   4%|▎         | 34/932 [00:23<07:46,  1.92file/s]"
     ]
    },
    {
     "name": "stdout",
     "output_type": "stream",
     "text": [
      "Vehicle Prediction: motorcycle\n",
      "Validation Result: True\n"
     ]
    },
    {
     "name": "stderr",
     "output_type": "stream",
     "text": [
      "Processing: Class 1 - Motorcycles:   4%|▍         | 35/932 [00:23<07:47,  1.92file/s]"
     ]
    },
    {
     "name": "stdout",
     "output_type": "stream",
     "text": [
      "Vehicle Prediction: motorbike\n",
      "Validation Result: True\n"
     ]
    },
    {
     "name": "stderr",
     "output_type": "stream",
     "text": [
      "Processing: Class 1 - Motorcycles:   4%|▍         | 36/932 [00:24<07:44,  1.93file/s]"
     ]
    },
    {
     "name": "stdout",
     "output_type": "stream",
     "text": [
      "Vehicle Prediction: motorbike\n",
      "Validation Result: True\n"
     ]
    },
    {
     "name": "stderr",
     "output_type": "stream",
     "text": [
      "Processing: Class 1 - Motorcycles:   4%|▍         | 37/932 [00:24<07:47,  1.91file/s]"
     ]
    },
    {
     "name": "stdout",
     "output_type": "stream",
     "text": [
      "Vehicle Prediction: motorbike\n",
      "Validation Result: True\n"
     ]
    },
    {
     "name": "stderr",
     "output_type": "stream",
     "text": [
      "Processing: Class 1 - Motorcycles:   4%|▍         | 38/932 [00:25<07:46,  1.92file/s]"
     ]
    },
    {
     "name": "stdout",
     "output_type": "stream",
     "text": [
      "Vehicle Prediction: motorcycle\n",
      "Validation Result: True\n"
     ]
    },
    {
     "name": "stderr",
     "output_type": "stream",
     "text": [
      "Processing: Class 1 - Motorcycles:   4%|▍         | 39/932 [00:25<07:43,  1.93file/s]"
     ]
    },
    {
     "name": "stdout",
     "output_type": "stream",
     "text": [
      "Vehicle Prediction: motorbike\n",
      "Validation Result: True\n"
     ]
    },
    {
     "name": "stderr",
     "output_type": "stream",
     "text": [
      "Processing: Class 1 - Motorcycles:   4%|▍         | 40/932 [00:26<07:42,  1.93file/s]"
     ]
    },
    {
     "name": "stdout",
     "output_type": "stream",
     "text": [
      "Vehicle Prediction: motorbike\n",
      "Validation Result: True\n"
     ]
    },
    {
     "name": "stderr",
     "output_type": "stream",
     "text": [
      "Processing: Class 1 - Motorcycles:   4%|▍         | 41/932 [00:26<07:44,  1.92file/s]"
     ]
    },
    {
     "name": "stdout",
     "output_type": "stream",
     "text": [
      "Vehicle Prediction: motorcycle\n",
      "Validation Result: True\n"
     ]
    },
    {
     "name": "stderr",
     "output_type": "stream",
     "text": [
      "Processing: Class 1 - Motorcycles:   5%|▍         | 42/932 [00:27<07:42,  1.92file/s]"
     ]
    },
    {
     "name": "stdout",
     "output_type": "stream",
     "text": [
      "Vehicle Prediction: motorbike\n",
      "Validation Result: True\n"
     ]
    },
    {
     "name": "stderr",
     "output_type": "stream",
     "text": [
      "Processing: Class 1 - Motorcycles:   5%|▍         | 43/932 [00:27<07:42,  1.92file/s]"
     ]
    },
    {
     "name": "stdout",
     "output_type": "stream",
     "text": [
      "Vehicle Prediction: motorbike\n",
      "Validation Result: True\n"
     ]
    },
    {
     "name": "stderr",
     "output_type": "stream",
     "text": [
      "Processing: Class 1 - Motorcycles:   5%|▍         | 44/932 [00:28<07:40,  1.93file/s]"
     ]
    },
    {
     "name": "stdout",
     "output_type": "stream",
     "text": [
      "Vehicle Prediction: motorbike\n",
      "Validation Result: True\n"
     ]
    },
    {
     "name": "stderr",
     "output_type": "stream",
     "text": [
      "Processing: Class 1 - Motorcycles:   5%|▍         | 45/932 [00:28<07:38,  1.93file/s]"
     ]
    },
    {
     "name": "stdout",
     "output_type": "stream",
     "text": [
      "Vehicle Prediction: motorbike\n",
      "Validation Result: True\n"
     ]
    },
    {
     "name": "stderr",
     "output_type": "stream",
     "text": [
      "Processing: Class 1 - Motorcycles:   5%|▍         | 46/932 [00:29<07:42,  1.91file/s]"
     ]
    },
    {
     "name": "stdout",
     "output_type": "stream",
     "text": [
      "Vehicle Prediction: motorbike\n",
      "Validation Result: True\n"
     ]
    },
    {
     "name": "stderr",
     "output_type": "stream",
     "text": [
      "Processing: Class 1 - Motorcycles:   5%|▌         | 47/932 [00:29<07:43,  1.91file/s]"
     ]
    },
    {
     "name": "stdout",
     "output_type": "stream",
     "text": [
      "Vehicle Prediction: motorbike\n",
      "Validation Result: True\n"
     ]
    },
    {
     "name": "stderr",
     "output_type": "stream",
     "text": [
      "Processing: Class 1 - Motorcycles:   5%|▌         | 48/932 [00:30<07:39,  1.93file/s]"
     ]
    },
    {
     "name": "stdout",
     "output_type": "stream",
     "text": [
      "Vehicle Prediction: motorbike\n",
      "Validation Result: True\n"
     ]
    },
    {
     "name": "stderr",
     "output_type": "stream",
     "text": [
      "Processing: Class 1 - Motorcycles:   5%|▌         | 49/932 [00:30<07:36,  1.94file/s]"
     ]
    },
    {
     "name": "stdout",
     "output_type": "stream",
     "text": [
      "Vehicle Prediction: motorbike\n",
      "Validation Result: True\n"
     ]
    },
    {
     "name": "stderr",
     "output_type": "stream",
     "text": [
      "Processing: Class 1 - Motorcycles:   5%|▌         | 50/932 [00:31<07:36,  1.93file/s]"
     ]
    },
    {
     "name": "stdout",
     "output_type": "stream",
     "text": [
      "Vehicle Prediction: motorbike\n",
      "Validation Result: True\n"
     ]
    },
    {
     "name": "stderr",
     "output_type": "stream",
     "text": [
      "Processing: Class 1 - Motorcycles:   5%|▌         | 51/932 [00:31<07:36,  1.93file/s]"
     ]
    },
    {
     "name": "stdout",
     "output_type": "stream",
     "text": [
      "Vehicle Prediction: motorbike\n",
      "Validation Result: True\n"
     ]
    },
    {
     "name": "stderr",
     "output_type": "stream",
     "text": [
      "Processing: Class 1 - Motorcycles:   6%|▌         | 52/932 [00:32<07:33,  1.94file/s]"
     ]
    },
    {
     "name": "stdout",
     "output_type": "stream",
     "text": [
      "Vehicle Prediction: motorbike\n",
      "Validation Result: True\n"
     ]
    },
    {
     "name": "stderr",
     "output_type": "stream",
     "text": [
      "Processing: Class 1 - Motorcycles:   6%|▌         | 53/932 [00:32<07:37,  1.92file/s]"
     ]
    },
    {
     "name": "stdout",
     "output_type": "stream",
     "text": [
      "Vehicle Prediction: motorbike\n",
      "Validation Result: True\n"
     ]
    },
    {
     "name": "stderr",
     "output_type": "stream",
     "text": [
      "Processing: Class 1 - Motorcycles:   6%|▌         | 54/932 [00:33<07:34,  1.93file/s]"
     ]
    },
    {
     "name": "stdout",
     "output_type": "stream",
     "text": [
      "Vehicle Prediction: motorbike\n",
      "Validation Result: True\n"
     ]
    },
    {
     "name": "stderr",
     "output_type": "stream",
     "text": [
      "Processing: Class 1 - Motorcycles:   6%|▌         | 55/932 [00:33<07:32,  1.94file/s]"
     ]
    },
    {
     "name": "stdout",
     "output_type": "stream",
     "text": [
      "Vehicle Prediction: motorbike\n",
      "Validation Result: True\n"
     ]
    },
    {
     "name": "stderr",
     "output_type": "stream",
     "text": [
      "[codecarbon INFO @ 11:04:47] Energy consumed for RAM : 0.001573 kWh. RAM Power : 188.80178117752075 W\n",
      "[codecarbon INFO @ 11:04:47] Energy consumed for all CPUs : 0.000833 kWh. Total CPU Power : 100.0 W\n",
      "[codecarbon INFO @ 11:04:47] Energy consumed for all GPUs : 0.002484 kWh. Total GPU Power : 313.0234431600296 W\n",
      "[codecarbon INFO @ 11:04:47] 0.004890 kWh of electricity used since the beginning.\n",
      "Processing: Class 1 - Motorcycles:   6%|▌         | 56/932 [00:34<07:33,  1.93file/s]"
     ]
    },
    {
     "name": "stdout",
     "output_type": "stream",
     "text": [
      "Vehicle Prediction: motorbike\n",
      "Validation Result: True\n"
     ]
    },
    {
     "name": "stderr",
     "output_type": "stream",
     "text": [
      "Processing: Class 1 - Motorcycles:   6%|▌         | 57/932 [00:34<07:35,  1.92file/s]"
     ]
    },
    {
     "name": "stdout",
     "output_type": "stream",
     "text": [
      "Vehicle Prediction: motorbike\n",
      "Validation Result: True\n"
     ]
    },
    {
     "name": "stderr",
     "output_type": "stream",
     "text": [
      "Processing: Class 1 - Motorcycles:   6%|▌         | 58/932 [00:35<07:32,  1.93file/s]"
     ]
    },
    {
     "name": "stdout",
     "output_type": "stream",
     "text": [
      "Vehicle Prediction: motorbike\n",
      "Validation Result: True\n"
     ]
    },
    {
     "name": "stderr",
     "output_type": "stream",
     "text": [
      "Processing: Class 1 - Motorcycles:   6%|▋         | 59/932 [00:36<07:33,  1.93file/s]"
     ]
    },
    {
     "name": "stdout",
     "output_type": "stream",
     "text": [
      "Vehicle Prediction: motorcycle\n",
      "Validation Result: True\n"
     ]
    },
    {
     "name": "stderr",
     "output_type": "stream",
     "text": [
      "Processing: Class 1 - Motorcycles:   6%|▋         | 60/932 [00:36<07:32,  1.93file/s]"
     ]
    },
    {
     "name": "stdout",
     "output_type": "stream",
     "text": [
      "Vehicle Prediction: motorbike\n",
      "Validation Result: True\n"
     ]
    },
    {
     "name": "stderr",
     "output_type": "stream",
     "text": [
      "Processing: Class 1 - Motorcycles:   7%|▋         | 61/932 [00:37<07:30,  1.93file/s]"
     ]
    },
    {
     "name": "stdout",
     "output_type": "stream",
     "text": [
      "Vehicle Prediction: motorbike\n",
      "Validation Result: True\n"
     ]
    },
    {
     "name": "stderr",
     "output_type": "stream",
     "text": [
      "Processing: Class 1 - Motorcycles:   7%|▋         | 62/932 [00:37<07:29,  1.94file/s]"
     ]
    },
    {
     "name": "stdout",
     "output_type": "stream",
     "text": [
      "Vehicle Prediction: motorcycle\n",
      "Validation Result: True\n"
     ]
    },
    {
     "name": "stderr",
     "output_type": "stream",
     "text": [
      "Processing: Class 1 - Motorcycles:   7%|▋         | 63/932 [00:38<07:31,  1.92file/s]"
     ]
    },
    {
     "name": "stdout",
     "output_type": "stream",
     "text": [
      "Vehicle Prediction: motorbike\n",
      "Validation Result: True\n"
     ]
    },
    {
     "name": "stderr",
     "output_type": "stream",
     "text": [
      "Processing: Class 1 - Motorcycles:   7%|▋         | 64/932 [00:38<07:28,  1.93file/s]"
     ]
    },
    {
     "name": "stdout",
     "output_type": "stream",
     "text": [
      "Vehicle Prediction: motorcycle\n",
      "Validation Result: True\n"
     ]
    },
    {
     "name": "stderr",
     "output_type": "stream",
     "text": [
      "Processing: Class 1 - Motorcycles:   7%|▋         | 65/932 [00:39<07:27,  1.94file/s]"
     ]
    },
    {
     "name": "stdout",
     "output_type": "stream",
     "text": [
      "Vehicle Prediction: motorbike\n",
      "Validation Result: True\n"
     ]
    },
    {
     "name": "stderr",
     "output_type": "stream",
     "text": [
      "Processing: Class 1 - Motorcycles:   7%|▋         | 66/932 [00:39<07:29,  1.93file/s]"
     ]
    },
    {
     "name": "stdout",
     "output_type": "stream",
     "text": [
      "Vehicle Prediction: motorbike\n",
      "Validation Result: True\n"
     ]
    },
    {
     "name": "stderr",
     "output_type": "stream",
     "text": [
      "Processing: Class 1 - Motorcycles:   7%|▋         | 67/932 [00:39<06:27,  2.23file/s]"
     ]
    },
    {
     "name": "stdout",
     "output_type": "stream",
     "text": [
      "Vehicle Prediction: motorbike\n",
      "Validation Result: True\n"
     ]
    },
    {
     "name": "stderr",
     "output_type": "stream",
     "text": [
      "Processing: Class 1 - Motorcycles:   7%|▋         | 68/932 [00:40<06:44,  2.13file/s]"
     ]
    },
    {
     "name": "stdout",
     "output_type": "stream",
     "text": [
      "Vehicle Prediction: motorbike\n",
      "Validation Result: True\n"
     ]
    },
    {
     "name": "stderr",
     "output_type": "stream",
     "text": [
      "Processing: Class 1 - Motorcycles:   7%|▋         | 69/932 [00:40<06:56,  2.07file/s]"
     ]
    },
    {
     "name": "stdout",
     "output_type": "stream",
     "text": [
      "Vehicle Prediction: sco\n",
      "Validation Result: False\n"
     ]
    },
    {
     "name": "stderr",
     "output_type": "stream",
     "text": [
      "Processing: Class 1 - Motorcycles:   8%|▊         | 70/932 [00:41<07:07,  2.01file/s]"
     ]
    },
    {
     "name": "stdout",
     "output_type": "stream",
     "text": [
      "Vehicle Prediction: motorcycle\n",
      "Validation Result: True\n"
     ]
    },
    {
     "name": "stderr",
     "output_type": "stream",
     "text": [
      "Processing: Class 1 - Motorcycles:   8%|▊         | 71/932 [00:41<07:11,  2.00file/s]"
     ]
    },
    {
     "name": "stdout",
     "output_type": "stream",
     "text": [
      "Vehicle Prediction: motorcycle\n",
      "Validation Result: True\n"
     ]
    },
    {
     "name": "stderr",
     "output_type": "stream",
     "text": [
      "Processing: Class 1 - Motorcycles:   8%|▊         | 72/932 [00:42<06:12,  2.31file/s]"
     ]
    },
    {
     "name": "stdout",
     "output_type": "stream",
     "text": [
      "Vehicle Prediction: motorcycle\n",
      "Validation Result: True\n"
     ]
    },
    {
     "name": "stderr",
     "output_type": "stream",
     "text": [
      "Processing: Class 1 - Motorcycles:   8%|▊         | 73/932 [00:42<05:33,  2.58file/s]"
     ]
    },
    {
     "name": "stdout",
     "output_type": "stream",
     "text": [
      "Vehicle Prediction: motorcycle\n",
      "Validation Result: True\n"
     ]
    },
    {
     "name": "stderr",
     "output_type": "stream",
     "text": [
      "Processing: Class 1 - Motorcycles:   8%|▊         | 74/932 [00:43<06:07,  2.33file/s]"
     ]
    },
    {
     "name": "stdout",
     "output_type": "stream",
     "text": [
      "Vehicle Prediction: motorcycle\n",
      "Validation Result: True\n"
     ]
    },
    {
     "name": "stderr",
     "output_type": "stream",
     "text": [
      "Processing: Class 1 - Motorcycles:   8%|▊         | 75/932 [00:43<06:28,  2.20file/s]"
     ]
    },
    {
     "name": "stdout",
     "output_type": "stream",
     "text": [
      "Vehicle Prediction: motorcycle\n",
      "Validation Result: True\n"
     ]
    },
    {
     "name": "stderr",
     "output_type": "stream",
     "text": [
      "Processing: Class 1 - Motorcycles:   8%|▊         | 76/932 [00:44<06:47,  2.10file/s]"
     ]
    },
    {
     "name": "stdout",
     "output_type": "stream",
     "text": [
      "Vehicle Prediction: motorcycle\n",
      "Validation Result: True\n"
     ]
    },
    {
     "name": "stderr",
     "output_type": "stream",
     "text": [
      "Processing: Class 1 - Motorcycles:   8%|▊         | 77/932 [00:44<06:58,  2.04file/s]"
     ]
    },
    {
     "name": "stdout",
     "output_type": "stream",
     "text": [
      "Vehicle Prediction: motorcycle\n",
      "Validation Result: True\n"
     ]
    },
    {
     "name": "stderr",
     "output_type": "stream",
     "text": [
      "Processing: Class 1 - Motorcycles:   8%|▊         | 78/932 [00:45<07:03,  2.02file/s]"
     ]
    },
    {
     "name": "stdout",
     "output_type": "stream",
     "text": [
      "Vehicle Prediction: motorcycle\n",
      "Validation Result: True\n"
     ]
    },
    {
     "name": "stderr",
     "output_type": "stream",
     "text": [
      "Processing: Class 1 - Motorcycles:   8%|▊         | 79/932 [00:45<07:09,  1.99file/s]"
     ]
    },
    {
     "name": "stdout",
     "output_type": "stream",
     "text": [
      "Vehicle Prediction: motorcycle\n",
      "Validation Result: True\n"
     ]
    },
    {
     "name": "stderr",
     "output_type": "stream",
     "text": [
      "Processing: Class 1 - Motorcycles:   9%|▊         | 80/932 [00:45<06:12,  2.29file/s]"
     ]
    },
    {
     "name": "stdout",
     "output_type": "stream",
     "text": [
      "Vehicle Prediction: motorcycle\n",
      "Validation Result: True\n"
     ]
    },
    {
     "name": "stderr",
     "output_type": "stream",
     "text": [
      "Processing: Class 1 - Motorcycles:   9%|▊         | 81/932 [00:46<05:32,  2.56file/s]"
     ]
    },
    {
     "name": "stdout",
     "output_type": "stream",
     "text": [
      "Vehicle Prediction: motorcycle\n",
      "Validation Result: True\n"
     ]
    },
    {
     "name": "stderr",
     "output_type": "stream",
     "text": [
      "Processing: Class 1 - Motorcycles:   9%|▉         | 82/932 [00:46<06:04,  2.33file/s]"
     ]
    },
    {
     "name": "stdout",
     "output_type": "stream",
     "text": [
      "Vehicle Prediction: motorcycle\n",
      "Validation Result: True\n"
     ]
    },
    {
     "name": "stderr",
     "output_type": "stream",
     "text": [
      "Processing: Class 1 - Motorcycles:   9%|▉         | 83/932 [00:47<06:27,  2.19file/s]"
     ]
    },
    {
     "name": "stdout",
     "output_type": "stream",
     "text": [
      "Vehicle Prediction: motorcycle\n",
      "Validation Result: True\n"
     ]
    },
    {
     "name": "stderr",
     "output_type": "stream",
     "text": [
      "Processing: Class 1 - Motorcycles:   9%|▉         | 84/932 [00:47<06:44,  2.10file/s]"
     ]
    },
    {
     "name": "stdout",
     "output_type": "stream",
     "text": [
      "Vehicle Prediction: sco\n",
      "Validation Result: False\n"
     ]
    },
    {
     "name": "stderr",
     "output_type": "stream",
     "text": [
      "Processing: Class 1 - Motorcycles:   9%|▉         | 85/932 [00:48<06:52,  2.05file/s]"
     ]
    },
    {
     "name": "stdout",
     "output_type": "stream",
     "text": [
      "Vehicle Prediction: sco\n",
      "Validation Result: False\n"
     ]
    },
    {
     "name": "stderr",
     "output_type": "stream",
     "text": [
      "Processing: Class 1 - Motorcycles:   9%|▉         | 86/932 [00:48<06:57,  2.02file/s]"
     ]
    },
    {
     "name": "stdout",
     "output_type": "stream",
     "text": [
      "Vehicle Prediction: motorbike\n",
      "Validation Result: True\n"
     ]
    },
    {
     "name": "stderr",
     "output_type": "stream",
     "text": [
      "Processing: Class 1 - Motorcycles:   9%|▉         | 87/932 [00:49<07:05,  1.98file/s][codecarbon INFO @ 11:05:02] Energy consumed for RAM : 0.002360 kWh. RAM Power : 188.80178117752075 W\n",
      "[codecarbon INFO @ 11:05:02] Energy consumed for all CPUs : 0.001250 kWh. Total CPU Power : 100.0 W\n",
      "[codecarbon INFO @ 11:05:02] Energy consumed for all GPUs : 0.003785 kWh. Total GPU Power : 312.4401430423748 W\n",
      "[codecarbon INFO @ 11:05:02] 0.007395 kWh of electricity used since the beginning.\n"
     ]
    },
    {
     "name": "stdout",
     "output_type": "stream",
     "text": [
      "Vehicle Prediction: sco\n",
      "Validation Result: False\n"
     ]
    },
    {
     "name": "stderr",
     "output_type": "stream",
     "text": [
      "Processing: Class 1 - Motorcycles:   9%|▉         | 88/932 [00:49<06:09,  2.29file/s]"
     ]
    },
    {
     "name": "stdout",
     "output_type": "stream",
     "text": [
      "Vehicle Prediction: motorcycle\n",
      "Validation Result: True\n"
     ]
    },
    {
     "name": "stderr",
     "output_type": "stream",
     "text": [
      "Processing: Class 1 - Motorcycles:  10%|▉         | 89/932 [00:49<05:27,  2.57file/s]"
     ]
    },
    {
     "name": "stdout",
     "output_type": "stream",
     "text": [
      "Vehicle Prediction: motorcycle\n",
      "Validation Result: True\n"
     ]
    },
    {
     "name": "stderr",
     "output_type": "stream",
     "text": [
      "Processing: Class 1 - Motorcycles:  10%|▉         | 90/932 [00:50<04:58,  2.82file/s]"
     ]
    },
    {
     "name": "stdout",
     "output_type": "stream",
     "text": [
      "Vehicle Prediction: motorbike\n",
      "Validation Result: True\n"
     ]
    },
    {
     "name": "stderr",
     "output_type": "stream",
     "text": [
      "Processing: Class 1 - Motorcycles:  10%|▉         | 91/932 [00:50<04:38,  3.02file/s]"
     ]
    },
    {
     "name": "stdout",
     "output_type": "stream",
     "text": [
      "Vehicle Prediction: sco\n",
      "Validation Result: False\n"
     ]
    },
    {
     "name": "stderr",
     "output_type": "stream",
     "text": [
      "Processing: Class 1 - Motorcycles:  10%|▉         | 92/932 [00:50<04:26,  3.15file/s]"
     ]
    },
    {
     "name": "stdout",
     "output_type": "stream",
     "text": [
      "Vehicle Prediction: motorbike\n",
      "Validation Result: True\n"
     ]
    },
    {
     "name": "stderr",
     "output_type": "stream",
     "text": [
      "Processing: Class 1 - Motorcycles:  10%|▉         | 93/932 [00:51<04:16,  3.27file/s]"
     ]
    },
    {
     "name": "stdout",
     "output_type": "stream",
     "text": [
      "Vehicle Prediction: sco\n",
      "Validation Result: False\n"
     ]
    },
    {
     "name": "stderr",
     "output_type": "stream",
     "text": [
      "Processing: Class 1 - Motorcycles:  10%|█         | 94/932 [00:51<04:08,  3.37file/s]"
     ]
    },
    {
     "name": "stdout",
     "output_type": "stream",
     "text": [
      "Vehicle Prediction: motorcycle\n",
      "Validation Result: True\n"
     ]
    },
    {
     "name": "stderr",
     "output_type": "stream",
     "text": [
      "Processing: Class 1 - Motorcycles:  10%|█         | 95/932 [00:51<04:02,  3.45file/s]"
     ]
    },
    {
     "name": "stdout",
     "output_type": "stream",
     "text": [
      "Vehicle Prediction: motorbike\n",
      "Validation Result: True\n"
     ]
    },
    {
     "name": "stderr",
     "output_type": "stream",
     "text": [
      "Processing: Class 1 - Motorcycles:  10%|█         | 96/932 [00:51<03:58,  3.51file/s]"
     ]
    },
    {
     "name": "stdout",
     "output_type": "stream",
     "text": [
      "Vehicle Prediction: motorbike\n",
      "Validation Result: True\n"
     ]
    },
    {
     "name": "stderr",
     "output_type": "stream",
     "text": [
      "Processing: Class 1 - Motorcycles:  10%|█         | 97/932 [00:52<03:56,  3.52file/s]"
     ]
    },
    {
     "name": "stdout",
     "output_type": "stream",
     "text": [
      "Vehicle Prediction: motorbike\n",
      "Validation Result: True\n"
     ]
    },
    {
     "name": "stderr",
     "output_type": "stream",
     "text": [
      "Processing: Class 1 - Motorcycles:  11%|█         | 98/932 [00:52<04:58,  2.80file/s]"
     ]
    },
    {
     "name": "stdout",
     "output_type": "stream",
     "text": [
      "Vehicle Prediction: motorbike\n",
      "Validation Result: True\n"
     ]
    },
    {
     "name": "stderr",
     "output_type": "stream",
     "text": [
      "Processing: Class 1 - Motorcycles:  11%|█         | 99/932 [00:53<05:36,  2.48file/s]"
     ]
    },
    {
     "name": "stdout",
     "output_type": "stream",
     "text": [
      "Vehicle Prediction: sco\n",
      "Validation Result: False\n"
     ]
    },
    {
     "name": "stderr",
     "output_type": "stream",
     "text": [
      "Processing: Class 1 - Motorcycles:  11%|█         | 100/932 [00:53<06:02,  2.30file/s]"
     ]
    },
    {
     "name": "stdout",
     "output_type": "stream",
     "text": [
      "Vehicle Prediction: motorbike\n",
      "Validation Result: True\n"
     ]
    },
    {
     "name": "stderr",
     "output_type": "stream",
     "text": [
      "Processing: Class 2 - Car, SUV, Station Wagons:  11%|█         | 101/932 [00:53<05:23,  2.57file/s]"
     ]
    },
    {
     "name": "stdout",
     "output_type": "stream",
     "text": [
      "Vehicle Prediction: motorcycle\n",
      "Validation Result: True\n"
     ]
    },
    {
     "name": "stderr",
     "output_type": "stream",
     "text": [
      "Processing: Class 2 - Car, SUV, Station Wagons:  11%|█         | 102/932 [00:54<05:00,  2.76file/s]"
     ]
    },
    {
     "name": "stdout",
     "output_type": "stream",
     "text": [
      "Vehicle Prediction: sedan\n",
      "Validation Result: True\n"
     ]
    },
    {
     "name": "stderr",
     "output_type": "stream",
     "text": [
      "Processing: Class 2 - Car, SUV, Station Wagons:  11%|█         | 103/932 [00:54<04:57,  2.79file/s]"
     ]
    },
    {
     "name": "stdout",
     "output_type": "stream",
     "text": [
      "Vehicle Prediction: sedan\n",
      "Validation Result: True\n"
     ]
    },
    {
     "name": "stderr",
     "output_type": "stream",
     "text": [
      "Processing: Class 2 - Car, SUV, Station Wagons:  11%|█         | 104/932 [00:54<05:07,  2.70file/s]"
     ]
    },
    {
     "name": "stdout",
     "output_type": "stream",
     "text": [
      "Vehicle Prediction: sedan\n",
      "Validation Result: True\n"
     ]
    },
    {
     "name": "stderr",
     "output_type": "stream",
     "text": [
      "Processing: Class 2 - Car, SUV, Station Wagons:  11%|█▏        | 105/932 [00:55<07:11,  1.92file/s]"
     ]
    },
    {
     "name": "stdout",
     "output_type": "stream",
     "text": [
      "Vehicle Prediction: sedan\n",
      "Validation Result: True\n"
     ]
    },
    {
     "name": "stderr",
     "output_type": "stream",
     "text": [
      "Processing: Class 2 - Car, SUV, Station Wagons:  11%|█▏        | 106/932 [00:56<09:17,  1.48file/s]"
     ]
    },
    {
     "name": "stdout",
     "output_type": "stream",
     "text": [
      "Vehicle Prediction: sedan\n",
      "Validation Result: True\n"
     ]
    },
    {
     "name": "stderr",
     "output_type": "stream",
     "text": [
      "Processing: Class 2 - Car, SUV, Station Wagons:  11%|█▏        | 107/932 [00:57<07:45,  1.77file/s]"
     ]
    },
    {
     "name": "stdout",
     "output_type": "stream",
     "text": [
      "Vehicle Prediction: sedan\n",
      "Validation Result: True\n"
     ]
    },
    {
     "name": "stderr",
     "output_type": "stream",
     "text": [
      "Processing: Class 2 - Car, SUV, Station Wagons:  12%|█▏        | 108/932 [00:57<08:23,  1.64file/s]"
     ]
    },
    {
     "name": "stdout",
     "output_type": "stream",
     "text": [
      "Vehicle Prediction: sedan\n",
      "Validation Result: True\n"
     ]
    },
    {
     "name": "stderr",
     "output_type": "stream",
     "text": [
      "Processing: Class 2 - Car, SUV, Station Wagons:  12%|█▏        | 109/932 [00:58<07:06,  1.93file/s]"
     ]
    },
    {
     "name": "stdout",
     "output_type": "stream",
     "text": [
      "Vehicle Prediction: sedan\n",
      "Validation Result: True\n"
     ]
    },
    {
     "name": "stderr",
     "output_type": "stream",
     "text": [
      "Processing: Class 2 - Car, SUV, Station Wagons:  12%|█▏        | 110/932 [00:59<09:02,  1.52file/s]"
     ]
    },
    {
     "name": "stdout",
     "output_type": "stream",
     "text": [
      "Vehicle Prediction: sedan\n",
      "Validation Result: True\n"
     ]
    },
    {
     "name": "stderr",
     "output_type": "stream",
     "text": [
      "Processing: Class 2 - Car, SUV, Station Wagons:  12%|█▏        | 111/932 [00:59<07:29,  1.83file/s]"
     ]
    },
    {
     "name": "stdout",
     "output_type": "stream",
     "text": [
      "Vehicle Prediction: sedan\n",
      "Validation Result: True\n"
     ]
    },
    {
     "name": "stderr",
     "output_type": "stream",
     "text": [
      "Processing: Class 2 - Car, SUV, Station Wagons:  12%|█▏        | 112/932 [00:59<06:23,  2.14file/s]"
     ]
    },
    {
     "name": "stdout",
     "output_type": "stream",
     "text": [
      "Vehicle Prediction: sedan\n",
      "Validation Result: True\n"
     ]
    },
    {
     "name": "stderr",
     "output_type": "stream",
     "text": [
      "Processing: Class 2 - Car, SUV, Station Wagons:  12%|█▏        | 113/932 [01:00<06:39,  2.05file/s]"
     ]
    },
    {
     "name": "stdout",
     "output_type": "stream",
     "text": [
      "Vehicle Prediction: sedan\n",
      "Validation Result: True\n"
     ]
    },
    {
     "name": "stderr",
     "output_type": "stream",
     "text": [
      "Processing: Class 2 - Car, SUV, Station Wagons:  12%|█▏        | 114/932 [01:00<05:52,  2.32file/s]"
     ]
    },
    {
     "name": "stdout",
     "output_type": "stream",
     "text": [
      "Vehicle Prediction: sedan\n",
      "Validation Result: True\n"
     ]
    },
    {
     "name": "stderr",
     "output_type": "stream",
     "text": [
      "Processing: Class 2 - Car, SUV, Station Wagons:  12%|█▏        | 115/932 [01:01<05:40,  2.40file/s]"
     ]
    },
    {
     "name": "stdout",
     "output_type": "stream",
     "text": [
      "Vehicle Prediction: coupe\n",
      "Validation Result: True\n"
     ]
    },
    {
     "name": "stderr",
     "output_type": "stream",
     "text": [
      "Processing: Class 2 - Car, SUV, Station Wagons:  12%|█▏        | 116/932 [01:01<05:45,  2.36file/s]"
     ]
    },
    {
     "name": "stdout",
     "output_type": "stream",
     "text": [
      "Vehicle Prediction: coupe\n",
      "Validation Result: True\n"
     ]
    },
    {
     "name": "stderr",
     "output_type": "stream",
     "text": [
      "Processing: Class 2 - Car, SUV, Station Wagons:  13%|█▎        | 117/932 [01:01<05:54,  2.30file/s]"
     ]
    },
    {
     "name": "stdout",
     "output_type": "stream",
     "text": [
      "Vehicle Prediction: coupe\n",
      "Validation Result: True\n"
     ]
    },
    {
     "name": "stderr",
     "output_type": "stream",
     "text": [
      "Processing: Class 2 - Car, SUV, Station Wagons:  13%|█▎        | 118/932 [01:02<08:13,  1.65file/s]"
     ]
    },
    {
     "name": "stdout",
     "output_type": "stream",
     "text": [
      "Vehicle Prediction: coupe\n",
      "Validation Result: True\n"
     ]
    },
    {
     "name": "stderr",
     "output_type": "stream",
     "text": [
      "Processing: Class 2 - Car, SUV, Station Wagons:  13%|█▎        | 119/932 [01:03<08:02,  1.69file/s]"
     ]
    },
    {
     "name": "stdout",
     "output_type": "stream",
     "text": [
      "Vehicle Prediction: coupe\n",
      "Validation Result: True\n"
     ]
    },
    {
     "name": "stderr",
     "output_type": "stream",
     "text": [
      "[codecarbon INFO @ 11:05:17] Energy consumed for RAM : 0.003146 kWh. RAM Power : 188.80178117752075 W\n",
      "[codecarbon INFO @ 11:05:17] Energy consumed for all CPUs : 0.001667 kWh. Total CPU Power : 100.0 W\n",
      "[codecarbon INFO @ 11:05:17] Energy consumed for all GPUs : 0.005054 kWh. Total GPU Power : 304.5582001184509 W\n",
      "[codecarbon INFO @ 11:05:17] 0.009867 kWh of electricity used since the beginning.\n",
      "Processing: Class 2 - Car, SUV, Station Wagons:  13%|█▎        | 120/932 [01:04<09:43,  1.39file/s]"
     ]
    },
    {
     "name": "stdout",
     "output_type": "stream",
     "text": [
      "Vehicle Prediction: coupe\n",
      "Validation Result: True\n"
     ]
    },
    {
     "name": "stderr",
     "output_type": "stream",
     "text": [
      "Processing: Class 2 - Car, SUV, Station Wagons:  13%|█▎        | 121/932 [01:04<07:56,  1.70file/s]"
     ]
    },
    {
     "name": "stdout",
     "output_type": "stream",
     "text": [
      "Vehicle Prediction: coupe\n",
      "Validation Result: True\n"
     ]
    },
    {
     "name": "stderr",
     "output_type": "stream",
     "text": [
      "Processing: Class 2 - Car, SUV, Station Wagons:  13%|█▎        | 122/932 [01:05<06:53,  1.96file/s]"
     ]
    },
    {
     "name": "stdout",
     "output_type": "stream",
     "text": [
      "Vehicle Prediction: crossover\n",
      "Validation Result: True\n"
     ]
    },
    {
     "name": "stderr",
     "output_type": "stream",
     "text": [
      "Processing: Class 2 - Car, SUV, Station Wagons:  13%|█▎        | 123/932 [01:05<06:03,  2.22file/s]"
     ]
    },
    {
     "name": "stdout",
     "output_type": "stream",
     "text": [
      "Vehicle Prediction: crossover\n",
      "Validation Result: True\n"
     ]
    },
    {
     "name": "stderr",
     "output_type": "stream",
     "text": [
      "Processing: Class 2 - Car, SUV, Station Wagons:  13%|█▎        | 124/932 [01:06<07:09,  1.88file/s]"
     ]
    },
    {
     "name": "stdout",
     "output_type": "stream",
     "text": [
      "Vehicle Prediction: crossover\n",
      "Validation Result: True\n"
     ]
    },
    {
     "name": "stderr",
     "output_type": "stream",
     "text": [
      "Processing: Class 2 - Car, SUV, Station Wagons:  13%|█▎        | 125/932 [01:06<06:10,  2.18file/s]"
     ]
    },
    {
     "name": "stdout",
     "output_type": "stream",
     "text": [
      "Vehicle Prediction: sedan\n",
      "Validation Result: True\n"
     ]
    },
    {
     "name": "stderr",
     "output_type": "stream",
     "text": [
      "Processing: Class 2 - Car, SUV, Station Wagons:  14%|█▎        | 126/932 [01:07<07:12,  1.86file/s]"
     ]
    },
    {
     "name": "stdout",
     "output_type": "stream",
     "text": [
      "Vehicle Prediction: crossover\n",
      "Validation Result: True\n"
     ]
    },
    {
     "name": "stderr",
     "output_type": "stream",
     "text": [
      "Processing: Class 2 - Car, SUV, Station Wagons:  14%|█▎        | 127/932 [01:07<06:28,  2.07file/s]"
     ]
    },
    {
     "name": "stdout",
     "output_type": "stream",
     "text": [
      "Vehicle Prediction: crossover\n",
      "Validation Result: True\n"
     ]
    },
    {
     "name": "stderr",
     "output_type": "stream",
     "text": [
      "Processing: Class 2 - Car, SUV, Station Wagons:  14%|█▎        | 128/932 [01:07<05:45,  2.33file/s]"
     ]
    },
    {
     "name": "stdout",
     "output_type": "stream",
     "text": [
      "Vehicle Prediction: hatch\n",
      "Validation Result: False\n"
     ]
    },
    {
     "name": "stderr",
     "output_type": "stream",
     "text": [
      "Processing: Class 2 - Car, SUV, Station Wagons:  14%|█▍        | 129/932 [01:08<06:35,  2.03file/s]"
     ]
    },
    {
     "name": "stdout",
     "output_type": "stream",
     "text": [
      "Vehicle Prediction: sedan\n",
      "Validation Result: True\n"
     ]
    },
    {
     "name": "stderr",
     "output_type": "stream",
     "text": [
      "Processing: Class 2 - Car, SUV, Station Wagons:  14%|█▍        | 130/932 [01:09<08:34,  1.56file/s]"
     ]
    },
    {
     "name": "stdout",
     "output_type": "stream",
     "text": [
      "Vehicle Prediction: crossover\n",
      "Validation Result: True\n"
     ]
    },
    {
     "name": "stderr",
     "output_type": "stream",
     "text": [
      "Processing: Class 2 - Car, SUV, Station Wagons:  14%|█▍        | 131/932 [01:09<07:08,  1.87file/s]"
     ]
    },
    {
     "name": "stdout",
     "output_type": "stream",
     "text": [
      "Vehicle Prediction: crossover\n",
      "Validation Result: True\n"
     ]
    },
    {
     "name": "stderr",
     "output_type": "stream",
     "text": [
      "Processing: Class 2 - Car, SUV, Station Wagons:  14%|█▍        | 132/932 [01:10<06:11,  2.15file/s]"
     ]
    },
    {
     "name": "stdout",
     "output_type": "stream",
     "text": [
      "Vehicle Prediction: sedan\n",
      "Validation Result: True\n"
     ]
    },
    {
     "name": "stderr",
     "output_type": "stream",
     "text": [
      "Processing: Class 2 - Car, SUV, Station Wagons:  14%|█▍        | 133/932 [01:10<08:14,  1.61file/s]"
     ]
    },
    {
     "name": "stdout",
     "output_type": "stream",
     "text": [
      "Vehicle Prediction: wagon\n",
      "Validation Result: True\n"
     ]
    },
    {
     "name": "stderr",
     "output_type": "stream",
     "text": [
      "Processing: Class 2 - Car, SUV, Station Wagons:  14%|█▍        | 134/932 [01:11<06:57,  1.91file/s]"
     ]
    },
    {
     "name": "stdout",
     "output_type": "stream",
     "text": [
      "Vehicle Prediction: wagon\n",
      "Validation Result: True\n"
     ]
    },
    {
     "name": "stderr",
     "output_type": "stream",
     "text": [
      "Processing: Class 2 - Car, SUV, Station Wagons:  14%|█▍        | 135/932 [01:12<08:53,  1.49file/s]"
     ]
    },
    {
     "name": "stdout",
     "output_type": "stream",
     "text": [
      "Vehicle Prediction: wagon\n",
      "Validation Result: True\n"
     ]
    },
    {
     "name": "stderr",
     "output_type": "stream",
     "text": [
      "Processing: Class 2 - Car, SUV, Station Wagons:  15%|█▍        | 136/932 [01:12<07:44,  1.71file/s]"
     ]
    },
    {
     "name": "stdout",
     "output_type": "stream",
     "text": [
      "Vehicle Prediction: wagon\n",
      "Validation Result: True\n"
     ]
    },
    {
     "name": "stderr",
     "output_type": "stream",
     "text": [
      "Processing: Class 2 - Car, SUV, Station Wagons:  15%|█▍        | 137/932 [01:13<09:26,  1.40file/s]"
     ]
    },
    {
     "name": "stdout",
     "output_type": "stream",
     "text": [
      "Vehicle Prediction: wagon\n",
      "Validation Result: True\n"
     ]
    },
    {
     "name": "stderr",
     "output_type": "stream",
     "text": [
      "Processing: Class 2 - Car, SUV, Station Wagons:  15%|█▍        | 138/932 [01:14<09:26,  1.40file/s]"
     ]
    },
    {
     "name": "stdout",
     "output_type": "stream",
     "text": [
      "Vehicle Prediction: wagon\n",
      "Validation Result: True\n"
     ]
    },
    {
     "name": "stderr",
     "output_type": "stream",
     "text": [
      "Processing: Class 2 - Car, SUV, Station Wagons:  15%|█▍        | 139/932 [01:14<07:59,  1.66file/s]"
     ]
    },
    {
     "name": "stdout",
     "output_type": "stream",
     "text": [
      "Vehicle Prediction: wagon\n",
      "Validation Result: True\n"
     ]
    },
    {
     "name": "stderr",
     "output_type": "stream",
     "text": [
      "Processing: Class 2 - Car, SUV, Station Wagons:  15%|█▌        | 140/932 [01:15<06:42,  1.97file/s]"
     ]
    },
    {
     "name": "stdout",
     "output_type": "stream",
     "text": [
      "Vehicle Prediction: sedan\n",
      "Validation Result: True\n"
     ]
    },
    {
     "name": "stderr",
     "output_type": "stream",
     "text": [
      "Processing: Class 2 - Car, SUV, Station Wagons:  15%|█▌        | 141/932 [01:15<05:55,  2.22file/s]"
     ]
    },
    {
     "name": "stdout",
     "output_type": "stream",
     "text": [
      "Vehicle Prediction: wagon\n",
      "Validation Result: True\n"
     ]
    },
    {
     "name": "stderr",
     "output_type": "stream",
     "text": [
      "Processing: Class 2 - Car, SUV, Station Wagons:  15%|█▌        | 142/932 [01:16<06:58,  1.89file/s]"
     ]
    },
    {
     "name": "stdout",
     "output_type": "stream",
     "text": [
      "Vehicle Prediction: wagon\n",
      "Validation Result: True\n"
     ]
    },
    {
     "name": "stderr",
     "output_type": "stream",
     "text": [
      "Processing: Class 2 - Car, SUV, Station Wagons:  15%|█▌        | 143/932 [01:16<06:00,  2.19file/s]"
     ]
    },
    {
     "name": "stdout",
     "output_type": "stream",
     "text": [
      "Vehicle Prediction: wagon\n",
      "Validation Result: True\n"
     ]
    },
    {
     "name": "stderr",
     "output_type": "stream",
     "text": [
      "Processing: Class 2 - Car, SUV, Station Wagons:  15%|█▌        | 144/932 [01:16<05:22,  2.44file/s]"
     ]
    },
    {
     "name": "stdout",
     "output_type": "stream",
     "text": [
      "Vehicle Prediction: wagon\n",
      "Validation Result: True\n"
     ]
    },
    {
     "name": "stderr",
     "output_type": "stream",
     "text": [
      "Processing: Class 2 - Car, SUV, Station Wagons:  16%|█▌        | 145/932 [01:16<04:56,  2.65file/s]"
     ]
    },
    {
     "name": "stdout",
     "output_type": "stream",
     "text": [
      "Vehicle Prediction: wagon\n",
      "Validation Result: True\n"
     ]
    },
    {
     "name": "stderr",
     "output_type": "stream",
     "text": [
      "Processing: Class 2 - Car, SUV, Station Wagons:  16%|█▌        | 146/932 [01:17<04:36,  2.84file/s]"
     ]
    },
    {
     "name": "stdout",
     "output_type": "stream",
     "text": [
      "Vehicle Prediction: wagon\n",
      "Validation Result: True\n"
     ]
    },
    {
     "name": "stderr",
     "output_type": "stream",
     "text": [
      "Processing: Class 2 - Car, SUV, Station Wagons:  16%|█▌        | 147/932 [01:17<05:30,  2.38file/s]"
     ]
    },
    {
     "name": "stdout",
     "output_type": "stream",
     "text": [
      "Vehicle Prediction: wagon\n",
      "Validation Result: True\n"
     ]
    },
    {
     "name": "stderr",
     "output_type": "stream",
     "text": [
      "Processing: Class 2 - Car, SUV, Station Wagons:  16%|█▌        | 148/932 [01:18<07:53,  1.66file/s]"
     ]
    },
    {
     "name": "stdout",
     "output_type": "stream",
     "text": [
      "Vehicle Prediction: wagon\n",
      "Validation Result: True\n"
     ]
    },
    {
     "name": "stderr",
     "output_type": "stream",
     "text": [
      "Processing: Class 2 - Car, SUV, Station Wagons:  16%|█▌        | 149/932 [01:19<06:46,  1.93file/s]"
     ]
    },
    {
     "name": "stdout",
     "output_type": "stream",
     "text": [
      "Vehicle Prediction: wagon\n",
      "Validation Result: True\n"
     ]
    },
    {
     "name": "stderr",
     "output_type": "stream",
     "text": [
      "[codecarbon INFO @ 11:05:32] Energy consumed for RAM : 0.003932 kWh. RAM Power : 188.80178117752075 W\n",
      "[codecarbon INFO @ 11:05:32] Energy consumed for all CPUs : 0.002083 kWh. Total CPU Power : 100.0 W\n",
      "[codecarbon INFO @ 11:05:32] Energy consumed for all GPUs : 0.006337 kWh. Total GPU Power : 307.95977631426393 W\n",
      "[codecarbon INFO @ 11:05:32] 0.012352 kWh of electricity used since the beginning.\n",
      "Processing: Class 2 - Car, SUV, Station Wagons:  16%|█▌        | 150/932 [01:19<05:51,  2.23file/s]"
     ]
    },
    {
     "name": "stdout",
     "output_type": "stream",
     "text": [
      "Vehicle Prediction: suv\n",
      "Validation Result: True\n"
     ]
    },
    {
     "name": "stderr",
     "output_type": "stream",
     "text": [
      "Processing: Class 2 - Car, SUV, Station Wagons:  16%|█▌        | 151/932 [01:19<05:15,  2.48file/s]"
     ]
    },
    {
     "name": "stdout",
     "output_type": "stream",
     "text": [
      "Vehicle Prediction: suv\n",
      "Validation Result: True\n"
     ]
    },
    {
     "name": "stderr",
     "output_type": "stream",
     "text": [
      "Processing: Class 2 - Car, SUV, Station Wagons:  16%|█▋        | 152/932 [01:20<05:49,  2.23file/s]"
     ]
    },
    {
     "name": "stdout",
     "output_type": "stream",
     "text": [
      "Vehicle Prediction: suv\n",
      "Validation Result: True\n"
     ]
    },
    {
     "name": "stderr",
     "output_type": "stream",
     "text": [
      "Processing: Class 2 - Car, SUV, Station Wagons:  16%|█▋        | 153/932 [01:20<05:48,  2.23file/s]"
     ]
    },
    {
     "name": "stdout",
     "output_type": "stream",
     "text": [
      "Vehicle Prediction: suv\n",
      "Validation Result: True\n"
     ]
    },
    {
     "name": "stderr",
     "output_type": "stream",
     "text": [
      "Processing: Class 2 - Car, SUV, Station Wagons:  17%|█▋        | 154/932 [01:21<05:32,  2.34file/s]"
     ]
    },
    {
     "name": "stdout",
     "output_type": "stream",
     "text": [
      "Vehicle Prediction: suv\n",
      "Validation Result: True\n"
     ]
    },
    {
     "name": "stderr",
     "output_type": "stream",
     "text": [
      "Processing: Class 2 - Car, SUV, Station Wagons:  17%|█▋        | 155/932 [01:21<04:59,  2.60file/s]"
     ]
    },
    {
     "name": "stdout",
     "output_type": "stream",
     "text": [
      "Vehicle Prediction: suv\n",
      "Validation Result: True\n"
     ]
    },
    {
     "name": "stderr",
     "output_type": "stream",
     "text": [
      "Processing: Class 2 - Car, SUV, Station Wagons:  17%|█▋        | 156/932 [01:21<04:51,  2.66file/s]"
     ]
    },
    {
     "name": "stdout",
     "output_type": "stream",
     "text": [
      "Vehicle Prediction: suv\n",
      "Validation Result: True\n"
     ]
    },
    {
     "name": "stderr",
     "output_type": "stream",
     "text": [
      "Processing: Class 2 - Car, SUV, Station Wagons:  17%|█▋        | 157/932 [01:22<04:34,  2.83file/s]"
     ]
    },
    {
     "name": "stdout",
     "output_type": "stream",
     "text": [
      "Vehicle Prediction: suv\n",
      "Validation Result: True\n"
     ]
    },
    {
     "name": "stderr",
     "output_type": "stream",
     "text": [
      "Processing: Class 2 - Car, SUV, Station Wagons:  17%|█▋        | 158/932 [01:22<04:22,  2.94file/s]"
     ]
    },
    {
     "name": "stdout",
     "output_type": "stream",
     "text": [
      "Vehicle Prediction: suv\n",
      "Validation Result: True\n"
     ]
    },
    {
     "name": "stderr",
     "output_type": "stream",
     "text": [
      "Processing: Class 2 - Car, SUV, Station Wagons:  17%|█▋        | 159/932 [01:22<04:12,  3.06file/s]"
     ]
    },
    {
     "name": "stdout",
     "output_type": "stream",
     "text": [
      "Vehicle Prediction: suv\n",
      "Validation Result: True\n"
     ]
    },
    {
     "name": "stderr",
     "output_type": "stream",
     "text": [
      "Processing: Class 2 - Car, SUV, Station Wagons:  17%|█▋        | 160/932 [01:23<06:29,  1.98file/s]"
     ]
    },
    {
     "name": "stdout",
     "output_type": "stream",
     "text": [
      "Vehicle Prediction: suv\n",
      "Validation Result: True\n"
     ]
    },
    {
     "name": "stderr",
     "output_type": "stream",
     "text": [
      "Processing: Class 2 - Car, SUV, Station Wagons:  17%|█▋        | 161/932 [01:23<05:41,  2.26file/s]"
     ]
    },
    {
     "name": "stdout",
     "output_type": "stream",
     "text": [
      "Vehicle Prediction: suv\n",
      "Validation Result: True\n"
     ]
    },
    {
     "name": "stderr",
     "output_type": "stream",
     "text": [
      "Processing: Class 2 - Car, SUV, Station Wagons:  17%|█▋        | 162/932 [01:24<05:04,  2.53file/s]"
     ]
    },
    {
     "name": "stdout",
     "output_type": "stream",
     "text": [
      "Vehicle Prediction: suv\n",
      "Validation Result: True\n"
     ]
    },
    {
     "name": "stderr",
     "output_type": "stream",
     "text": [
      "Processing: Class 2 - Car, SUV, Station Wagons:  17%|█▋        | 163/932 [01:24<04:53,  2.62file/s]"
     ]
    },
    {
     "name": "stdout",
     "output_type": "stream",
     "text": [
      "Vehicle Prediction: suv\n",
      "Validation Result: True\n"
     ]
    },
    {
     "name": "stderr",
     "output_type": "stream",
     "text": [
      "Processing: Class 2 - Car, SUV, Station Wagons:  18%|█▊        | 164/932 [01:24<04:34,  2.79file/s]"
     ]
    },
    {
     "name": "stdout",
     "output_type": "stream",
     "text": [
      "Vehicle Prediction: suv\n",
      "Validation Result: True\n"
     ]
    },
    {
     "name": "stderr",
     "output_type": "stream",
     "text": [
      "Processing: Class 2 - Car, SUV, Station Wagons:  18%|█▊        | 165/932 [01:25<04:24,  2.90file/s]"
     ]
    },
    {
     "name": "stdout",
     "output_type": "stream",
     "text": [
      "Vehicle Prediction: suv\n",
      "Validation Result: True\n"
     ]
    },
    {
     "name": "stderr",
     "output_type": "stream",
     "text": [
      "Processing: Class 2 - Car, SUV, Station Wagons:  18%|█▊        | 166/932 [01:25<04:11,  3.04file/s]"
     ]
    },
    {
     "name": "stdout",
     "output_type": "stream",
     "text": [
      "Vehicle Prediction: suv\n",
      "Validation Result: True\n"
     ]
    },
    {
     "name": "stderr",
     "output_type": "stream",
     "text": [
      "Processing: Class 2 - Car, SUV, Station Wagons:  18%|█▊        | 167/932 [01:26<05:10,  2.47file/s]"
     ]
    },
    {
     "name": "stdout",
     "output_type": "stream",
     "text": [
      "Vehicle Prediction: suv\n",
      "Validation Result: True\n"
     ]
    },
    {
     "name": "stderr",
     "output_type": "stream",
     "text": [
      "Processing: Class 2 - Car, SUV, Station Wagons:  18%|█▊        | 168/932 [01:26<05:05,  2.50file/s]"
     ]
    },
    {
     "name": "stdout",
     "output_type": "stream",
     "text": [
      "Vehicle Prediction: suv\n",
      "Validation Result: True\n"
     ]
    },
    {
     "name": "stderr",
     "output_type": "stream",
     "text": [
      "Processing: Class 2 - Car, SUV, Station Wagons:  18%|█▊        | 169/932 [01:26<04:48,  2.64file/s]"
     ]
    },
    {
     "name": "stdout",
     "output_type": "stream",
     "text": [
      "Vehicle Prediction: minivan\n",
      "Validation Result: False\n"
     ]
    },
    {
     "name": "stderr",
     "output_type": "stream",
     "text": [
      "Processing: Class 2 - Car, SUV, Station Wagons:  18%|█▊        | 170/932 [01:27<04:38,  2.74file/s]"
     ]
    },
    {
     "name": "stdout",
     "output_type": "stream",
     "text": [
      "Vehicle Prediction: suv\n",
      "Validation Result: True\n"
     ]
    },
    {
     "name": "stderr",
     "output_type": "stream",
     "text": [
      "Processing: Class 2 - Car, SUV, Station Wagons:  18%|█▊        | 171/932 [01:27<05:05,  2.49file/s]"
     ]
    },
    {
     "name": "stdout",
     "output_type": "stream",
     "text": [
      "Vehicle Prediction: suv\n",
      "Validation Result: True\n"
     ]
    },
    {
     "name": "stderr",
     "output_type": "stream",
     "text": [
      "Processing: Class 2 - Car, SUV, Station Wagons:  18%|█▊        | 172/932 [01:27<04:38,  2.73file/s]"
     ]
    },
    {
     "name": "stdout",
     "output_type": "stream",
     "text": [
      "Vehicle Prediction: suv\n",
      "Validation Result: True\n"
     ]
    },
    {
     "name": "stderr",
     "output_type": "stream",
     "text": [
      "Processing: Class 2 - Car, SUV, Station Wagons:  19%|█▊        | 173/932 [01:28<04:19,  2.92file/s]"
     ]
    },
    {
     "name": "stdout",
     "output_type": "stream",
     "text": [
      "Vehicle Prediction: suv\n",
      "Validation Result: True\n"
     ]
    },
    {
     "name": "stderr",
     "output_type": "stream",
     "text": [
      "Processing: Class 2 - Car, SUV, Station Wagons:  19%|█▊        | 174/932 [01:28<04:21,  2.90file/s]"
     ]
    },
    {
     "name": "stdout",
     "output_type": "stream",
     "text": [
      "Vehicle Prediction: convertible\n",
      "Validation Result: True\n"
     ]
    },
    {
     "name": "stderr",
     "output_type": "stream",
     "text": [
      "Processing: Class 2 - Car, SUV, Station Wagons:  19%|█▉        | 175/932 [01:29<06:41,  1.88file/s]"
     ]
    },
    {
     "name": "stdout",
     "output_type": "stream",
     "text": [
      "Vehicle Prediction: suv\n",
      "Validation Result: True\n"
     ]
    },
    {
     "name": "stderr",
     "output_type": "stream",
     "text": [
      "Processing: Class 2 - Car, SUV, Station Wagons:  19%|█▉        | 176/932 [01:30<07:55,  1.59file/s]"
     ]
    },
    {
     "name": "stdout",
     "output_type": "stream",
     "text": [
      "Vehicle Prediction: suv\n",
      "Validation Result: True\n"
     ]
    },
    {
     "name": "stderr",
     "output_type": "stream",
     "text": [
      "Processing: Class 2 - Car, SUV, Station Wagons:  19%|█▉        | 177/932 [01:31<09:21,  1.35file/s]"
     ]
    },
    {
     "name": "stdout",
     "output_type": "stream",
     "text": [
      "Vehicle Prediction: suv\n",
      "Validation Result: True\n"
     ]
    },
    {
     "name": "stderr",
     "output_type": "stream",
     "text": [
      "Processing: Class 2 - Car, SUV, Station Wagons:  19%|█▉        | 178/932 [01:32<10:20,  1.22file/s]"
     ]
    },
    {
     "name": "stdout",
     "output_type": "stream",
     "text": [
      "Vehicle Prediction: suv\n",
      "Validation Result: True\n"
     ]
    },
    {
     "name": "stderr",
     "output_type": "stream",
     "text": [
      "Processing: Class 2 - Car, SUV, Station Wagons:  19%|█▉        | 179/932 [01:33<10:20,  1.21file/s]"
     ]
    },
    {
     "name": "stdout",
     "output_type": "stream",
     "text": [
      "Vehicle Prediction: suv\n",
      "Validation Result: True\n"
     ]
    },
    {
     "name": "stderr",
     "output_type": "stream",
     "text": [
      "Processing: Class 2 - Car, SUV, Station Wagons:  19%|█▉        | 180/932 [01:34<11:03,  1.13file/s]"
     ]
    },
    {
     "name": "stdout",
     "output_type": "stream",
     "text": [
      "Vehicle Prediction: suv\n",
      "Validation Result: True\n"
     ]
    },
    {
     "name": "stderr",
     "output_type": "stream",
     "text": [
      "[codecarbon INFO @ 11:05:47] Energy consumed for RAM : 0.004719 kWh. RAM Power : 188.80178117752075 W\n",
      "[codecarbon INFO @ 11:05:47] Energy consumed for all CPUs : 0.002500 kWh. Total CPU Power : 100.0 W\n",
      "[codecarbon INFO @ 11:05:47] Energy consumed for all GPUs : 0.007642 kWh. Total GPU Power : 313.40367337948135 W\n",
      "[codecarbon INFO @ 11:05:47] 0.014861 kWh of electricity used since the beginning.\n",
      "Processing: Class 2 - Car, SUV, Station Wagons:  19%|█▉        | 181/932 [01:34<08:59,  1.39file/s]"
     ]
    },
    {
     "name": "stdout",
     "output_type": "stream",
     "text": [
      "Vehicle Prediction: sedan\n",
      "Validation Result: True\n"
     ]
    },
    {
     "name": "stderr",
     "output_type": "stream",
     "text": [
      "Processing: Class 2 - Car, SUV, Station Wagons:  20%|█▉        | 182/932 [01:35<09:00,  1.39file/s]"
     ]
    },
    {
     "name": "stdout",
     "output_type": "stream",
     "text": [
      "Vehicle Prediction: sedan\n",
      "Validation Result: True\n"
     ]
    },
    {
     "name": "stderr",
     "output_type": "stream",
     "text": [
      "Processing: Class 2 - Car, SUV, Station Wagons:  20%|█▉        | 183/932 [01:35<07:25,  1.68file/s]"
     ]
    },
    {
     "name": "stdout",
     "output_type": "stream",
     "text": [
      "Vehicle Prediction: sedan\n",
      "Validation Result: True\n"
     ]
    },
    {
     "name": "stderr",
     "output_type": "stream",
     "text": [
      "Processing: Class 2 - Car, SUV, Station Wagons:  20%|█▉        | 184/932 [01:35<06:20,  1.97file/s]"
     ]
    },
    {
     "name": "stdout",
     "output_type": "stream",
     "text": [
      "Vehicle Prediction: sedan\n",
      "Validation Result: True\n"
     ]
    },
    {
     "name": "stderr",
     "output_type": "stream",
     "text": [
      "Processing: Class 2 - Car, SUV, Station Wagons:  20%|█▉        | 185/932 [01:36<05:35,  2.23file/s]"
     ]
    },
    {
     "name": "stdout",
     "output_type": "stream",
     "text": [
      "Vehicle Prediction: sedan\n",
      "Validation Result: True\n"
     ]
    },
    {
     "name": "stderr",
     "output_type": "stream",
     "text": [
      "Processing: Class 2 - Car, SUV, Station Wagons:  20%|█▉        | 186/932 [01:36<05:10,  2.41file/s]"
     ]
    },
    {
     "name": "stdout",
     "output_type": "stream",
     "text": [
      "Vehicle Prediction: sedan\n",
      "Validation Result: True\n"
     ]
    },
    {
     "name": "stderr",
     "output_type": "stream",
     "text": [
      "Processing: Class 2 - Car, SUV, Station Wagons:  20%|██        | 187/932 [01:37<07:18,  1.70file/s]"
     ]
    },
    {
     "name": "stdout",
     "output_type": "stream",
     "text": [
      "Vehicle Prediction: sedan\n",
      "Validation Result: True\n"
     ]
    },
    {
     "name": "stderr",
     "output_type": "stream",
     "text": [
      "Processing: Class 2 - Car, SUV, Station Wagons:  20%|██        | 188/932 [01:37<06:14,  1.98file/s]"
     ]
    },
    {
     "name": "stdout",
     "output_type": "stream",
     "text": [
      "Vehicle Prediction: sedan\n",
      "Validation Result: True\n"
     ]
    },
    {
     "name": "stderr",
     "output_type": "stream",
     "text": [
      "Processing: Class 2 - Car, SUV, Station Wagons:  20%|██        | 189/932 [01:38<06:14,  1.99file/s]"
     ]
    },
    {
     "name": "stdout",
     "output_type": "stream",
     "text": [
      "Vehicle Prediction: car\n",
      "Validation Result: True\n"
     ]
    },
    {
     "name": "stderr",
     "output_type": "stream",
     "text": [
      "Processing: Class 2 - Car, SUV, Station Wagons:  20%|██        | 190/932 [01:38<05:46,  2.14file/s]"
     ]
    },
    {
     "name": "stdout",
     "output_type": "stream",
     "text": [
      "Vehicle Prediction: coupe\n",
      "Validation Result: True\n"
     ]
    },
    {
     "name": "stderr",
     "output_type": "stream",
     "text": [
      "Processing: Class 2 - Car, SUV, Station Wagons:  20%|██        | 191/932 [01:39<07:43,  1.60file/s]"
     ]
    },
    {
     "name": "stdout",
     "output_type": "stream",
     "text": [
      "Vehicle Prediction: car\n",
      "Validation Result: True\n"
     ]
    },
    {
     "name": "stderr",
     "output_type": "stream",
     "text": [
      "Processing: Class 2 - Car, SUV, Station Wagons:  21%|██        | 192/932 [01:40<08:33,  1.44file/s]"
     ]
    },
    {
     "name": "stdout",
     "output_type": "stream",
     "text": [
      "Vehicle Prediction: car\n",
      "Validation Result: True\n"
     ]
    },
    {
     "name": "stderr",
     "output_type": "stream",
     "text": [
      "Processing: Class 2 - Car, SUV, Station Wagons:  21%|██        | 193/932 [01:40<07:16,  1.69file/s]"
     ]
    },
    {
     "name": "stdout",
     "output_type": "stream",
     "text": [
      "Vehicle Prediction: car\n",
      "Validation Result: True\n"
     ]
    },
    {
     "name": "stderr",
     "output_type": "stream",
     "text": [
      "Processing: Class 2 - Car, SUV, Station Wagons:  21%|██        | 194/932 [01:41<08:26,  1.46file/s]"
     ]
    },
    {
     "name": "stdout",
     "output_type": "stream",
     "text": [
      "Vehicle Prediction: coupe\n",
      "Validation Result: True\n"
     ]
    },
    {
     "name": "stderr",
     "output_type": "stream",
     "text": [
      "Processing: Class 2 - Car, SUV, Station Wagons:  21%|██        | 195/932 [01:42<07:18,  1.68file/s]"
     ]
    },
    {
     "name": "stdout",
     "output_type": "stream",
     "text": [
      "Vehicle Prediction: car\n",
      "Validation Result: True\n"
     ]
    },
    {
     "name": "stderr",
     "output_type": "stream",
     "text": [
      "Processing: Class 2 - Car, SUV, Station Wagons:  21%|██        | 196/932 [01:42<06:30,  1.89file/s]"
     ]
    },
    {
     "name": "stdout",
     "output_type": "stream",
     "text": [
      "Vehicle Prediction: coupe\n",
      "Validation Result: True\n"
     ]
    },
    {
     "name": "stderr",
     "output_type": "stream",
     "text": [
      "Processing: Class 2 - Car, SUV, Station Wagons:  21%|██        | 197/932 [01:43<08:23,  1.46file/s]"
     ]
    },
    {
     "name": "stdout",
     "output_type": "stream",
     "text": [
      "Vehicle Prediction: coupe\n",
      "Validation Result: True\n"
     ]
    },
    {
     "name": "stderr",
     "output_type": "stream",
     "text": [
      "Processing: Class 2 - Car, SUV, Station Wagons:  21%|██        | 198/932 [01:44<09:14,  1.32file/s]"
     ]
    },
    {
     "name": "stdout",
     "output_type": "stream",
     "text": [
      "Vehicle Prediction: car\n",
      "Validation Result: True\n"
     ]
    },
    {
     "name": "stderr",
     "output_type": "stream",
     "text": [
      "Processing: Class 2 - Car, SUV, Station Wagons:  21%|██▏       | 199/932 [01:45<10:00,  1.22file/s]"
     ]
    },
    {
     "name": "stdout",
     "output_type": "stream",
     "text": [
      "Vehicle Prediction: convertible\n",
      "Validation Result: True\n"
     ]
    },
    {
     "name": "stderr",
     "output_type": "stream",
     "text": [
      "Processing: pickup:  21%|██▏       | 200/932 [01:45<08:06,  1.51file/s]                            "
     ]
    },
    {
     "name": "stdout",
     "output_type": "stream",
     "text": [
      "Vehicle Prediction: convertible\n",
      "Validation Result: True\n",
      "Vehicle Prediction: truck\n"
     ]
    },
    {
     "name": "stderr",
     "output_type": "stream",
     "text": [
      "Processing: pickup:  22%|██▏       | 201/932 [01:46<08:22,  1.45file/s]"
     ]
    },
    {
     "name": "stdout",
     "output_type": "stream",
     "text": [
      "Is Pickup Truck: yes\n",
      "Validation Result: True\n",
      "Vehicle Prediction: truck\n"
     ]
    },
    {
     "name": "stderr",
     "output_type": "stream",
     "text": [
      "Processing: pickup:  22%|██▏       | 202/932 [01:47<08:00,  1.52file/s]"
     ]
    },
    {
     "name": "stdout",
     "output_type": "stream",
     "text": [
      "Is Pickup Truck: yes\n",
      "Validation Result: True\n",
      "Vehicle Prediction: truck\n"
     ]
    },
    {
     "name": "stderr",
     "output_type": "stream",
     "text": [
      "Processing: pickup:  22%|██▏       | 203/932 [01:47<07:33,  1.61file/s]"
     ]
    },
    {
     "name": "stdout",
     "output_type": "stream",
     "text": [
      "Is Pickup Truck: yes\n",
      "Validation Result: True\n",
      "Vehicle Prediction: truck\n"
     ]
    },
    {
     "name": "stderr",
     "output_type": "stream",
     "text": [
      "Processing: pickup:  22%|██▏       | 204/932 [01:48<07:44,  1.57file/s]"
     ]
    },
    {
     "name": "stdout",
     "output_type": "stream",
     "text": [
      "Is Pickup Truck: yes\n",
      "Validation Result: True\n",
      "Vehicle Prediction: truck\n"
     ]
    },
    {
     "name": "stderr",
     "output_type": "stream",
     "text": [
      "Processing: pickup:  22%|██▏       | 205/932 [01:49<07:48,  1.55file/s]"
     ]
    },
    {
     "name": "stdout",
     "output_type": "stream",
     "text": [
      "Is Pickup Truck: yes\n",
      "Validation Result: True\n"
     ]
    },
    {
     "name": "stderr",
     "output_type": "stream",
     "text": [
      "[codecarbon INFO @ 11:06:02] Energy consumed for RAM : 0.005505 kWh. RAM Power : 188.80178117752075 W\n",
      "[codecarbon INFO @ 11:06:02] Energy consumed for all CPUs : 0.002916 kWh. Total CPU Power : 100.0 W\n",
      "[codecarbon INFO @ 11:06:02] Energy consumed for all GPUs : 0.008933 kWh. Total GPU Power : 309.90280186493254 W\n",
      "[codecarbon INFO @ 11:06:02] 0.017355 kWh of electricity used since the beginning.\n"
     ]
    },
    {
     "name": "stdout",
     "output_type": "stream",
     "text": [
      "Vehicle Prediction: truck\n"
     ]
    },
    {
     "name": "stderr",
     "output_type": "stream",
     "text": [
      "Processing: pickup:  22%|██▏       | 206/932 [01:49<07:28,  1.62file/s]"
     ]
    },
    {
     "name": "stdout",
     "output_type": "stream",
     "text": [
      "Is Pickup Truck: yes\n",
      "Validation Result: True\n",
      "Vehicle Prediction: truck\n",
      "Is Pickup Truck: yes.\n"
     ]
    },
    {
     "name": "stderr",
     "output_type": "stream",
     "text": [
      "Processing: pickup:  22%|██▏       | 207/932 [01:50<08:08,  1.48file/s]"
     ]
    },
    {
     "name": "stdout",
     "output_type": "stream",
     "text": [
      "Axle Prediction: 4\n",
      "Validation Result: False\n",
      "Vehicle Prediction: truck\n"
     ]
    },
    {
     "name": "stderr",
     "output_type": "stream",
     "text": [
      "Processing: pickup:  22%|██▏       | 208/932 [01:50<07:42,  1.56file/s]"
     ]
    },
    {
     "name": "stdout",
     "output_type": "stream",
     "text": [
      "Is Pickup Truck: yes\n",
      "Validation Result: True\n",
      "Vehicle Prediction: truck\n",
      "Is Pickup Truck: yes.\n"
     ]
    },
    {
     "name": "stderr",
     "output_type": "stream",
     "text": [
      "Processing: pickup:  22%|██▏       | 209/932 [01:51<08:21,  1.44file/s]"
     ]
    },
    {
     "name": "stdout",
     "output_type": "stream",
     "text": [
      "Axle Prediction: 2\n",
      "Validation Result: False\n",
      "Vehicle Prediction: truck\n"
     ]
    },
    {
     "name": "stderr",
     "output_type": "stream",
     "text": [
      "Processing: pickup:  23%|██▎       | 210/932 [01:52<08:31,  1.41file/s]"
     ]
    },
    {
     "name": "stdout",
     "output_type": "stream",
     "text": [
      "Is Pickup Truck: yes\n",
      "Validation Result: True\n",
      "Vehicle Prediction: truck\n"
     ]
    },
    {
     "name": "stderr",
     "output_type": "stream",
     "text": [
      "Processing: pickup:  23%|██▎       | 211/932 [01:53<08:00,  1.50file/s]"
     ]
    },
    {
     "name": "stdout",
     "output_type": "stream",
     "text": [
      "Is Pickup Truck: yes\n",
      "Validation Result: True\n",
      "Vehicle Prediction: truck\n"
     ]
    },
    {
     "name": "stderr",
     "output_type": "stream",
     "text": [
      "Processing: pickup:  23%|██▎       | 212/932 [01:53<07:32,  1.59file/s]"
     ]
    },
    {
     "name": "stdout",
     "output_type": "stream",
     "text": [
      "Is Pickup Truck: yes\n",
      "Validation Result: True\n",
      "Vehicle Prediction: truck\n"
     ]
    },
    {
     "name": "stderr",
     "output_type": "stream",
     "text": [
      "Processing: pickup:  23%|██▎       | 213/932 [01:54<07:15,  1.65file/s]"
     ]
    },
    {
     "name": "stdout",
     "output_type": "stream",
     "text": [
      "Is Pickup Truck: yes\n",
      "Validation Result: True\n",
      "Vehicle Prediction: truck\n"
     ]
    },
    {
     "name": "stderr",
     "output_type": "stream",
     "text": [
      "Processing: pickup:  23%|██▎       | 214/932 [01:54<07:47,  1.54file/s]"
     ]
    },
    {
     "name": "stdout",
     "output_type": "stream",
     "text": [
      "Is Pickup Truck: yes\n",
      "Validation Result: True\n",
      "Vehicle Prediction: truck\n",
      "Is Pickup Truck: yes.\n"
     ]
    },
    {
     "name": "stderr",
     "output_type": "stream",
     "text": [
      "Processing: pickup:  23%|██▎       | 215/932 [01:55<08:20,  1.43file/s]"
     ]
    },
    {
     "name": "stdout",
     "output_type": "stream",
     "text": [
      "Axle Prediction: 2\n",
      "Validation Result: False\n",
      "Vehicle Prediction: truck\n"
     ]
    },
    {
     "name": "stderr",
     "output_type": "stream",
     "text": [
      "Processing: pickup:  23%|██▎       | 216/932 [01:56<07:50,  1.52file/s]"
     ]
    },
    {
     "name": "stdout",
     "output_type": "stream",
     "text": [
      "Is Pickup Truck: yes\n",
      "Validation Result: True\n",
      "Vehicle Prediction: truck\n"
     ]
    },
    {
     "name": "stderr",
     "output_type": "stream",
     "text": [
      "Processing: pickup:  23%|██▎       | 217/932 [01:56<07:25,  1.61file/s]"
     ]
    },
    {
     "name": "stdout",
     "output_type": "stream",
     "text": [
      "Is Pickup Truck: yes\n",
      "Validation Result: True\n",
      "Vehicle Prediction: truck\n"
     ]
    },
    {
     "name": "stderr",
     "output_type": "stream",
     "text": [
      "Processing: pickup:  23%|██▎       | 218/932 [01:57<07:51,  1.51file/s]"
     ]
    },
    {
     "name": "stdout",
     "output_type": "stream",
     "text": [
      "Is Pickup Truck: yes\n",
      "Validation Result: True\n",
      "Vehicle Prediction: truck\n"
     ]
    },
    {
     "name": "stderr",
     "output_type": "stream",
     "text": [
      "Processing: pickup:  23%|██▎       | 219/932 [01:58<07:27,  1.59file/s]"
     ]
    },
    {
     "name": "stdout",
     "output_type": "stream",
     "text": [
      "Is Pickup Truck: yes\n",
      "Validation Result: True\n",
      "Vehicle Prediction: truck\n"
     ]
    },
    {
     "name": "stderr",
     "output_type": "stream",
     "text": [
      "Processing: pickup:  24%|██▎       | 220/932 [01:58<07:51,  1.51file/s]"
     ]
    },
    {
     "name": "stdout",
     "output_type": "stream",
     "text": [
      "Is Pickup Truck: yes\n",
      "Validation Result: True\n",
      "Vehicle Prediction: truck\n",
      "Is Pickup Truck: yes.\n"
     ]
    },
    {
     "name": "stderr",
     "output_type": "stream",
     "text": [
      "Processing: pickup:  24%|██▎       | 221/932 [01:59<08:26,  1.40file/s]"
     ]
    },
    {
     "name": "stdout",
     "output_type": "stream",
     "text": [
      "Axle Prediction: 2\n",
      "Validation Result: False\n",
      "Vehicle Prediction: truck\n"
     ]
    },
    {
     "name": "stderr",
     "output_type": "stream",
     "text": [
      "Processing: pickup:  24%|██▍       | 222/932 [02:00<07:49,  1.51file/s]"
     ]
    },
    {
     "name": "stdout",
     "output_type": "stream",
     "text": [
      "Is Pickup Truck: yes\n",
      "Validation Result: True\n",
      "Vehicle Prediction: truck\n"
     ]
    },
    {
     "name": "stderr",
     "output_type": "stream",
     "text": [
      "Processing: pickup:  24%|██▍       | 223/932 [02:00<07:25,  1.59file/s]"
     ]
    },
    {
     "name": "stdout",
     "output_type": "stream",
     "text": [
      "Is Pickup Truck: yes\n",
      "Validation Result: True\n",
      "Vehicle Prediction: truck\n"
     ]
    },
    {
     "name": "stderr",
     "output_type": "stream",
     "text": [
      "Processing: pickup:  24%|██▍       | 224/932 [02:01<07:10,  1.64file/s]"
     ]
    },
    {
     "name": "stdout",
     "output_type": "stream",
     "text": [
      "Is Pickup Truck: yes\n",
      "Validation Result: True\n",
      "Vehicle Prediction: truck\n"
     ]
    },
    {
     "name": "stderr",
     "output_type": "stream",
     "text": [
      "Processing: pickup:  24%|██▍       | 225/932 [02:02<07:37,  1.54file/s]"
     ]
    },
    {
     "name": "stdout",
     "output_type": "stream",
     "text": [
      "Is Pickup Truck: yes\n",
      "Validation Result: True\n",
      "Vehicle Prediction: truck\n"
     ]
    },
    {
     "name": "stderr",
     "output_type": "stream",
     "text": [
      "Processing: pickup:  24%|██▍       | 226/932 [02:04<12:33,  1.07s/file]"
     ]
    },
    {
     "name": "stdout",
     "output_type": "stream",
     "text": [
      "Is Pickup Truck: yes\n",
      "Validation Result: True\n"
     ]
    },
    {
     "name": "stderr",
     "output_type": "stream",
     "text": [
      "[codecarbon INFO @ 11:06:17] Energy consumed for RAM : 0.006292 kWh. RAM Power : 188.80178117752075 W\n",
      "[codecarbon INFO @ 11:06:17] Energy consumed for all CPUs : 0.003333 kWh. Total CPU Power : 100.0 W\n",
      "[codecarbon INFO @ 11:06:17] Energy consumed for all GPUs : 0.010152 kWh. Total GPU Power : 292.4424719118372 W\n",
      "[codecarbon INFO @ 11:06:17] 0.019776 kWh of electricity used since the beginning.\n",
      "[codecarbon INFO @ 11:06:17] 0.074105 g.CO2eq/s mean an estimation of 2,336.971274633804 kg.CO2eq/year\n"
     ]
    },
    {
     "name": "stdout",
     "output_type": "stream",
     "text": [
      "Vehicle Prediction: truck\n"
     ]
    },
    {
     "name": "stderr",
     "output_type": "stream",
     "text": [
      "Processing: pickup:  24%|██▍       | 227/932 [02:05<15:08,  1.29s/file]"
     ]
    },
    {
     "name": "stdout",
     "output_type": "stream",
     "text": [
      "Is Pickup Truck: yes\n",
      "Validation Result: True\n",
      "Vehicle Prediction: truck\n"
     ]
    },
    {
     "name": "stderr",
     "output_type": "stream",
     "text": [
      "Processing: pickup:  24%|██▍       | 228/932 [02:06<13:05,  1.12s/file]"
     ]
    },
    {
     "name": "stdout",
     "output_type": "stream",
     "text": [
      "Is Pickup Truck: yes\n",
      "Validation Result: True\n",
      "Vehicle Prediction: truck\n"
     ]
    },
    {
     "name": "stderr",
     "output_type": "stream",
     "text": [
      "Processing: pickup:  25%|██▍       | 229/932 [02:07<11:02,  1.06file/s]"
     ]
    },
    {
     "name": "stdout",
     "output_type": "stream",
     "text": [
      "Is Pickup Truck: yes\n",
      "Validation Result: True\n",
      "Vehicle Prediction: truck\n",
      "Is Pickup Truck: yes.\n"
     ]
    },
    {
     "name": "stderr",
     "output_type": "stream",
     "text": [
      "Processing: pickup:  25%|██▍       | 230/932 [02:09<15:16,  1.30s/file]"
     ]
    },
    {
     "name": "stdout",
     "output_type": "stream",
     "text": [
      "Axle Prediction: 2\n",
      "Validation Result: False\n",
      "Vehicle Prediction: truck\n"
     ]
    },
    {
     "name": "stderr",
     "output_type": "stream",
     "text": [
      "Processing: pickup:  25%|██▍       | 231/932 [02:10<13:15,  1.13s/file]"
     ]
    },
    {
     "name": "stdout",
     "output_type": "stream",
     "text": [
      "Is Pickup Truck: yes\n",
      "Validation Result: True\n",
      "Vehicle Prediction: truck\n"
     ]
    },
    {
     "name": "stderr",
     "output_type": "stream",
     "text": [
      "Processing: pickup:  25%|██▍       | 232/932 [02:10<11:57,  1.03s/file]"
     ]
    },
    {
     "name": "stdout",
     "output_type": "stream",
     "text": [
      "Is Pickup Truck: yes\n",
      "Validation Result: True\n",
      "Vehicle Prediction: truck\n"
     ]
    },
    {
     "name": "stderr",
     "output_type": "stream",
     "text": [
      "Processing: pickup:  25%|██▌       | 233/932 [02:11<10:57,  1.06file/s]"
     ]
    },
    {
     "name": "stdout",
     "output_type": "stream",
     "text": [
      "Is Pickup Truck: yes\n",
      "Validation Result: True\n",
      "Vehicle Prediction: truck\n"
     ]
    },
    {
     "name": "stderr",
     "output_type": "stream",
     "text": [
      "Processing: pickup:  25%|██▌       | 234/932 [02:12<10:44,  1.08file/s]"
     ]
    },
    {
     "name": "stdout",
     "output_type": "stream",
     "text": [
      "Is Pickup Truck: yes\n",
      "Validation Result: True\n",
      "Vehicle Prediction: truck\n"
     ]
    },
    {
     "name": "stderr",
     "output_type": "stream",
     "text": [
      "Processing: pickup:  25%|██▌       | 235/932 [02:13<09:28,  1.23file/s]"
     ]
    },
    {
     "name": "stdout",
     "output_type": "stream",
     "text": [
      "Is Pickup Truck: yes\n",
      "Validation Result: True\n",
      "Vehicle Prediction: truck\n",
      "Is Pickup Truck: yes.\n"
     ]
    },
    {
     "name": "stderr",
     "output_type": "stream",
     "text": [
      "Processing: pickup:  25%|██▌       | 236/932 [02:15<14:05,  1.21s/file]"
     ]
    },
    {
     "name": "stdout",
     "output_type": "stream",
     "text": [
      "Axle Prediction: 4\n",
      "Validation Result: False\n",
      "Vehicle Prediction: truck\n"
     ]
    },
    {
     "name": "stderr",
     "output_type": "stream",
     "text": [
      "Processing: pickup:  25%|██▌       | 237/932 [02:15<11:49,  1.02s/file]"
     ]
    },
    {
     "name": "stdout",
     "output_type": "stream",
     "text": [
      "Is Pickup Truck: yes\n",
      "Validation Result: True\n",
      "Vehicle Prediction: truck\n"
     ]
    },
    {
     "name": "stderr",
     "output_type": "stream",
     "text": [
      "Processing: pickup:  26%|██▌       | 238/932 [02:16<10:09,  1.14file/s]"
     ]
    },
    {
     "name": "stdout",
     "output_type": "stream",
     "text": [
      "Is Pickup Truck: yes\n",
      "Validation Result: True\n",
      "Vehicle Prediction: truck\n"
     ]
    },
    {
     "name": "stderr",
     "output_type": "stream",
     "text": [
      "Processing: pickup:  26%|██▌       | 239/932 [02:16<08:58,  1.29file/s]"
     ]
    },
    {
     "name": "stdout",
     "output_type": "stream",
     "text": [
      "Is Pickup Truck: yes\n",
      "Validation Result: True\n",
      "Vehicle Prediction: truck\n"
     ]
    },
    {
     "name": "stderr",
     "output_type": "stream",
     "text": [
      "Processing: pickup:  26%|██▌       | 240/932 [02:17<08:11,  1.41file/s]"
     ]
    },
    {
     "name": "stdout",
     "output_type": "stream",
     "text": [
      "Is Pickup Truck: yes\n",
      "Validation Result: True\n",
      "Vehicle Prediction: truck\n"
     ]
    },
    {
     "name": "stderr",
     "output_type": "stream",
     "text": [
      "Processing: pickup:  26%|██▌       | 241/932 [02:17<07:37,  1.51file/s]"
     ]
    },
    {
     "name": "stdout",
     "output_type": "stream",
     "text": [
      "Is Pickup Truck: yes\n",
      "Validation Result: True\n",
      "Vehicle Prediction: truck\n"
     ]
    },
    {
     "name": "stderr",
     "output_type": "stream",
     "text": [
      "Processing: pickup:  26%|██▌       | 242/932 [02:18<07:12,  1.60file/s]"
     ]
    },
    {
     "name": "stdout",
     "output_type": "stream",
     "text": [
      "Is Pickup Truck: yes\n",
      "Validation Result: True\n",
      "Vehicle Prediction: truck\n"
     ]
    },
    {
     "name": "stderr",
     "output_type": "stream",
     "text": [
      "Processing: pickup:  26%|██▌       | 243/932 [02:19<07:37,  1.51file/s]"
     ]
    },
    {
     "name": "stdout",
     "output_type": "stream",
     "text": [
      "Is Pickup Truck: yes\n",
      "Validation Result: True\n"
     ]
    },
    {
     "name": "stderr",
     "output_type": "stream",
     "text": [
      "[codecarbon INFO @ 11:06:32] Energy consumed for RAM : 0.007078 kWh. RAM Power : 188.80178117752075 W\n",
      "[codecarbon INFO @ 11:06:32] Energy consumed for all CPUs : 0.003749 kWh. Total CPU Power : 100.0 W\n",
      "[codecarbon INFO @ 11:06:32] Energy consumed for all GPUs : 0.011421 kWh. Total GPU Power : 304.74804183762296 W\n",
      "[codecarbon INFO @ 11:06:32] 0.022248 kWh of electricity used since the beginning.\n"
     ]
    },
    {
     "name": "stdout",
     "output_type": "stream",
     "text": [
      "Vehicle Prediction: truck\n"
     ]
    },
    {
     "name": "stderr",
     "output_type": "stream",
     "text": [
      "Processing: pickup:  26%|██▌       | 244/932 [02:19<07:50,  1.46file/s]"
     ]
    },
    {
     "name": "stdout",
     "output_type": "stream",
     "text": [
      "Is Pickup Truck: yes\n",
      "Validation Result: True\n",
      "Vehicle Prediction: truck\n",
      "Is Pickup Truck: yes.\n"
     ]
    },
    {
     "name": "stderr",
     "output_type": "stream",
     "text": [
      "Processing: pickup:  26%|██▋       | 245/932 [02:22<12:55,  1.13s/file]"
     ]
    },
    {
     "name": "stdout",
     "output_type": "stream",
     "text": [
      "Axle Prediction: 2\n",
      "Validation Result: False\n",
      "Vehicle Prediction: truck\n"
     ]
    },
    {
     "name": "stderr",
     "output_type": "stream",
     "text": [
      "Processing: pickup:  26%|██▋       | 246/932 [02:22<11:35,  1.01s/file]"
     ]
    },
    {
     "name": "stdout",
     "output_type": "stream",
     "text": [
      "Is Pickup Truck: yes\n",
      "Validation Result: True\n",
      "Vehicle Prediction: truck\n",
      "Is Pickup Truck: yes.\n"
     ]
    },
    {
     "name": "stderr",
     "output_type": "stream",
     "text": [
      "Processing: pickup:  27%|██▋       | 247/932 [02:23<11:20,  1.01file/s]"
     ]
    },
    {
     "name": "stdout",
     "output_type": "stream",
     "text": [
      "Axle Prediction: 4\n",
      "Validation Result: False\n",
      "Vehicle Prediction: truck\n"
     ]
    },
    {
     "name": "stderr",
     "output_type": "stream",
     "text": [
      "Processing: pickup:  27%|██▋       | 248/932 [02:24<10:25,  1.09file/s]"
     ]
    },
    {
     "name": "stdout",
     "output_type": "stream",
     "text": [
      "Is Pickup Truck: yes\n",
      "Validation Result: True\n",
      "Vehicle Prediction: truck\n"
     ]
    },
    {
     "name": "stderr",
     "output_type": "stream",
     "text": [
      "Processing: pickup:  27%|██▋       | 249/932 [02:25<09:47,  1.16file/s]"
     ]
    },
    {
     "name": "stdout",
     "output_type": "stream",
     "text": [
      "Is Pickup Truck: yes\n",
      "Validation Result: True\n",
      "Vehicle Prediction: truck\n"
     ]
    },
    {
     "name": "stderr",
     "output_type": "stream",
     "text": [
      "Processing: pickup:  27%|██▋       | 250/932 [02:25<09:09,  1.24file/s]"
     ]
    },
    {
     "name": "stdout",
     "output_type": "stream",
     "text": [
      "Is Pickup Truck: yes\n",
      "Validation Result: True\n",
      "Vehicle Prediction: truck\n"
     ]
    },
    {
     "name": "stderr",
     "output_type": "stream",
     "text": [
      "Processing: pickup:  27%|██▋       | 251/932 [02:26<08:53,  1.28file/s]"
     ]
    },
    {
     "name": "stdout",
     "output_type": "stream",
     "text": [
      "Is Pickup Truck: yes\n",
      "Validation Result: True\n",
      "Vehicle Prediction: truck\n"
     ]
    },
    {
     "name": "stderr",
     "output_type": "stream",
     "text": [
      "Processing: pickup:  27%|██▋       | 252/932 [02:27<08:45,  1.29file/s]"
     ]
    },
    {
     "name": "stdout",
     "output_type": "stream",
     "text": [
      "Is Pickup Truck: yes\n",
      "Validation Result: True\n",
      "Vehicle Prediction: truck\n"
     ]
    },
    {
     "name": "stderr",
     "output_type": "stream",
     "text": [
      "Processing: pickup:  27%|██▋       | 253/932 [02:28<08:36,  1.32file/s]"
     ]
    },
    {
     "name": "stdout",
     "output_type": "stream",
     "text": [
      "Is Pickup Truck: yes\n",
      "Validation Result: True\n",
      "Vehicle Prediction: truck\n"
     ]
    },
    {
     "name": "stderr",
     "output_type": "stream",
     "text": [
      "Processing: pickup:  27%|██▋       | 254/932 [02:28<08:33,  1.32file/s]"
     ]
    },
    {
     "name": "stdout",
     "output_type": "stream",
     "text": [
      "Is Pickup Truck: yes\n",
      "Validation Result: True\n",
      "Vehicle Prediction: truck\n"
     ]
    },
    {
     "name": "stderr",
     "output_type": "stream",
     "text": [
      "Processing: pickup:  27%|██▋       | 255/932 [02:29<08:27,  1.33file/s]"
     ]
    },
    {
     "name": "stdout",
     "output_type": "stream",
     "text": [
      "Is Pickup Truck: yes\n",
      "Validation Result: True\n",
      "Vehicle Prediction: truck\n"
     ]
    },
    {
     "name": "stderr",
     "output_type": "stream",
     "text": [
      "Processing: pickup:  27%|██▋       | 256/932 [02:30<08:15,  1.37file/s]"
     ]
    },
    {
     "name": "stdout",
     "output_type": "stream",
     "text": [
      "Is Pickup Truck: yes\n",
      "Validation Result: True\n",
      "Vehicle Prediction: truck\n"
     ]
    },
    {
     "name": "stderr",
     "output_type": "stream",
     "text": [
      "Processing: pickup:  28%|██▊       | 257/932 [02:30<07:36,  1.48file/s]"
     ]
    },
    {
     "name": "stdout",
     "output_type": "stream",
     "text": [
      "Is Pickup Truck: yes\n",
      "Validation Result: True\n",
      "Vehicle Prediction: truck\n"
     ]
    },
    {
     "name": "stderr",
     "output_type": "stream",
     "text": [
      "Processing: pickup:  28%|██▊       | 258/932 [02:31<07:07,  1.58file/s]"
     ]
    },
    {
     "name": "stdout",
     "output_type": "stream",
     "text": [
      "Is Pickup Truck: yes\n",
      "Validation Result: True\n",
      "Vehicle Prediction: truck\n"
     ]
    },
    {
     "name": "stderr",
     "output_type": "stream",
     "text": [
      "Processing: pickup:  28%|██▊       | 259/932 [02:31<06:50,  1.64file/s]"
     ]
    },
    {
     "name": "stdout",
     "output_type": "stream",
     "text": [
      "Is Pickup Truck: yes\n",
      "Validation Result: True\n",
      "Vehicle Prediction: truck\n",
      "Is Pickup Truck: yes.\n"
     ]
    },
    {
     "name": "stderr",
     "output_type": "stream",
     "text": [
      "Processing: pickup:  28%|██▊       | 260/932 [02:32<07:28,  1.50file/s]"
     ]
    },
    {
     "name": "stdout",
     "output_type": "stream",
     "text": [
      "Axle Prediction: 2\n",
      "Validation Result: False\n",
      "Vehicle Prediction: truck\n"
     ]
    },
    {
     "name": "stderr",
     "output_type": "stream",
     "text": [
      "Processing: pickup:  28%|██▊       | 261/932 [02:33<07:42,  1.45file/s]"
     ]
    },
    {
     "name": "stdout",
     "output_type": "stream",
     "text": [
      "Is Pickup Truck: yes\n",
      "Validation Result: True\n",
      "Vehicle Prediction: truck\n"
     ]
    },
    {
     "name": "stderr",
     "output_type": "stream",
     "text": [
      "Processing: pickup:  28%|██▊       | 262/932 [02:34<07:45,  1.44file/s]"
     ]
    },
    {
     "name": "stdout",
     "output_type": "stream",
     "text": [
      "Is Pickup Truck: yes\n",
      "Validation Result: True\n"
     ]
    },
    {
     "name": "stderr",
     "output_type": "stream",
     "text": [
      "[codecarbon INFO @ 11:06:47] Energy consumed for RAM : 0.007864 kWh. RAM Power : 188.80178117752075 W\n",
      "[codecarbon INFO @ 11:06:47] Energy consumed for all CPUs : 0.004166 kWh. Total CPU Power : 100.0 W\n",
      "[codecarbon INFO @ 11:06:47] Energy consumed for all GPUs : 0.012679 kWh. Total GPU Power : 301.9461078228315 W\n",
      "[codecarbon INFO @ 11:06:47] 0.024709 kWh of electricity used since the beginning.\n"
     ]
    },
    {
     "name": "stdout",
     "output_type": "stream",
     "text": [
      "Vehicle Prediction: truck\n"
     ]
    },
    {
     "name": "stderr",
     "output_type": "stream",
     "text": [
      "Processing: pickup:  28%|██▊       | 263/932 [02:34<07:55,  1.41file/s]"
     ]
    },
    {
     "name": "stdout",
     "output_type": "stream",
     "text": [
      "Is Pickup Truck: yes\n",
      "Validation Result: True\n",
      "Vehicle Prediction: truck\n"
     ]
    },
    {
     "name": "stderr",
     "output_type": "stream",
     "text": [
      "Processing: pickup:  28%|██▊       | 264/932 [02:35<07:27,  1.49file/s]"
     ]
    },
    {
     "name": "stdout",
     "output_type": "stream",
     "text": [
      "Is Pickup Truck: yes\n",
      "Validation Result: True\n",
      "Vehicle Prediction: truck\n"
     ]
    },
    {
     "name": "stderr",
     "output_type": "stream",
     "text": [
      "Processing: pickup:  28%|██▊       | 265/932 [02:36<07:00,  1.58file/s]"
     ]
    },
    {
     "name": "stdout",
     "output_type": "stream",
     "text": [
      "Is Pickup Truck: yes\n",
      "Validation Result: True\n",
      "Vehicle Prediction: truck\n"
     ]
    },
    {
     "name": "stderr",
     "output_type": "stream",
     "text": [
      "Processing: pickup:  29%|██▊       | 266/932 [02:36<06:45,  1.64file/s]"
     ]
    },
    {
     "name": "stdout",
     "output_type": "stream",
     "text": [
      "Is Pickup Truck: yes\n",
      "Validation Result: True\n",
      "Vehicle Prediction: truck\n"
     ]
    },
    {
     "name": "stderr",
     "output_type": "stream",
     "text": [
      "Processing: pickup:  29%|██▊       | 267/932 [02:37<07:09,  1.55file/s]"
     ]
    },
    {
     "name": "stdout",
     "output_type": "stream",
     "text": [
      "Is Pickup Truck: yes\n",
      "Validation Result: True\n",
      "Vehicle Prediction: truck\n",
      "Is Pickup Truck: yes.\n"
     ]
    },
    {
     "name": "stderr",
     "output_type": "stream",
     "text": [
      "Processing: pickup:  29%|██▉       | 268/932 [02:39<12:10,  1.10s/file]"
     ]
    },
    {
     "name": "stdout",
     "output_type": "stream",
     "text": [
      "Axle Prediction: 4\n",
      "Validation Result: False\n",
      "Vehicle Prediction: truck\n"
     ]
    },
    {
     "name": "stderr",
     "output_type": "stream",
     "text": [
      "Processing: pickup:  29%|██▉       | 269/932 [02:40<10:22,  1.07file/s]"
     ]
    },
    {
     "name": "stdout",
     "output_type": "stream",
     "text": [
      "Is Pickup Truck: yes\n",
      "Validation Result: True\n",
      "Vehicle Prediction: truck\n",
      "Is Pickup Truck: yes.\n"
     ]
    },
    {
     "name": "stderr",
     "output_type": "stream",
     "text": [
      "Processing: pickup:  29%|██▉       | 270/932 [02:40<10:02,  1.10file/s]"
     ]
    },
    {
     "name": "stdout",
     "output_type": "stream",
     "text": [
      "Axle Prediction: 4\n",
      "Validation Result: False\n",
      "Vehicle Prediction: truck\n"
     ]
    },
    {
     "name": "stderr",
     "output_type": "stream",
     "text": [
      "Processing: pickup:  29%|██▉       | 271/932 [02:41<08:52,  1.24file/s]"
     ]
    },
    {
     "name": "stdout",
     "output_type": "stream",
     "text": [
      "Is Pickup Truck: yes\n",
      "Validation Result: True\n",
      "Vehicle Prediction: truck\n"
     ]
    },
    {
     "name": "stderr",
     "output_type": "stream",
     "text": [
      "Processing: pickup:  29%|██▉       | 272/932 [02:42<08:04,  1.36file/s]"
     ]
    },
    {
     "name": "stdout",
     "output_type": "stream",
     "text": [
      "Is Pickup Truck: yes\n",
      "Validation Result: True\n",
      "Vehicle Prediction: truck\n",
      "Is Pickup Truck: yes.\n"
     ]
    },
    {
     "name": "stderr",
     "output_type": "stream",
     "text": [
      "Processing: pickup:  29%|██▉       | 273/932 [02:44<12:43,  1.16s/file]"
     ]
    },
    {
     "name": "stdout",
     "output_type": "stream",
     "text": [
      "Axle Prediction: 2\n",
      "Validation Result: False\n",
      "Vehicle Prediction: truck\n"
     ]
    },
    {
     "name": "stderr",
     "output_type": "stream",
     "text": [
      "Processing: pickup:  29%|██▉       | 274/932 [02:44<10:46,  1.02file/s]"
     ]
    },
    {
     "name": "stdout",
     "output_type": "stream",
     "text": [
      "Is Pickup Truck: yes\n",
      "Validation Result: True\n",
      "Vehicle Prediction: truck\n"
     ]
    },
    {
     "name": "stderr",
     "output_type": "stream",
     "text": [
      "Processing: pickup:  30%|██▉       | 275/932 [02:45<09:24,  1.16file/s]"
     ]
    },
    {
     "name": "stdout",
     "output_type": "stream",
     "text": [
      "Is Pickup Truck: yes\n",
      "Validation Result: True\n",
      "Vehicle Prediction: truck\n"
     ]
    },
    {
     "name": "stderr",
     "output_type": "stream",
     "text": [
      "Processing: pickup:  30%|██▉       | 276/932 [02:45<08:23,  1.30file/s]"
     ]
    },
    {
     "name": "stdout",
     "output_type": "stream",
     "text": [
      "Is Pickup Truck: yes\n",
      "Validation Result: True\n",
      "Vehicle Prediction: truck\n"
     ]
    },
    {
     "name": "stderr",
     "output_type": "stream",
     "text": [
      "Processing: pickup:  30%|██▉       | 277/932 [02:46<08:23,  1.30file/s]"
     ]
    },
    {
     "name": "stdout",
     "output_type": "stream",
     "text": [
      "Is Pickup Truck: yes\n",
      "Validation Result: True\n",
      "Vehicle Prediction: truck\n"
     ]
    },
    {
     "name": "stderr",
     "output_type": "stream",
     "text": [
      "Processing: pickup:  30%|██▉       | 278/932 [02:47<07:41,  1.42file/s]"
     ]
    },
    {
     "name": "stdout",
     "output_type": "stream",
     "text": [
      "Is Pickup Truck: yes\n",
      "Validation Result: True\n",
      "Vehicle Prediction: truck\n",
      "Is Pickup Truck: yes.\n"
     ]
    },
    {
     "name": "stderr",
     "output_type": "stream",
     "text": [
      "Processing: pickup:  30%|██▉       | 279/932 [02:48<07:59,  1.36file/s]"
     ]
    },
    {
     "name": "stdout",
     "output_type": "stream",
     "text": [
      "Axle Prediction: 2\n",
      "Validation Result: False\n",
      "Vehicle Prediction: truck\n"
     ]
    },
    {
     "name": "stderr",
     "output_type": "stream",
     "text": [
      "Processing: pickup:  30%|███       | 280/932 [02:48<07:23,  1.47file/s]"
     ]
    },
    {
     "name": "stdout",
     "output_type": "stream",
     "text": [
      "Is Pickup Truck: yes\n",
      "Validation Result: True\n",
      "Vehicle Prediction: truck\n"
     ]
    },
    {
     "name": "stderr",
     "output_type": "stream",
     "text": [
      "Processing: pickup:  30%|███       | 281/932 [02:49<06:54,  1.57file/s]"
     ]
    },
    {
     "name": "stdout",
     "output_type": "stream",
     "text": [
      "Is Pickup Truck: yes\n",
      "Validation Result: True\n"
     ]
    },
    {
     "name": "stderr",
     "output_type": "stream",
     "text": [
      "[codecarbon INFO @ 11:07:02] Energy consumed for RAM : 0.008651 kWh. RAM Power : 188.80178117752075 W\n",
      "[codecarbon INFO @ 11:07:02] Energy consumed for all CPUs : 0.004582 kWh. Total CPU Power : 100.0 W\n",
      "[codecarbon INFO @ 11:07:02] Energy consumed for all GPUs : 0.013922 kWh. Total GPU Power : 298.5339047254224 W\n",
      "[codecarbon INFO @ 11:07:02] 0.027155 kWh of electricity used since the beginning.\n"
     ]
    },
    {
     "name": "stdout",
     "output_type": "stream",
     "text": [
      "Vehicle Prediction: truck\n"
     ]
    },
    {
     "name": "stderr",
     "output_type": "stream",
     "text": [
      "Processing: pickup:  30%|███       | 282/932 [02:49<06:41,  1.62file/s]"
     ]
    },
    {
     "name": "stdout",
     "output_type": "stream",
     "text": [
      "Is Pickup Truck: yes\n",
      "Validation Result: True\n",
      "Vehicle Prediction: truck\n",
      "Is Pickup Truck: yes.\n"
     ]
    },
    {
     "name": "stderr",
     "output_type": "stream",
     "text": [
      "Processing: pickup:  30%|███       | 283/932 [02:51<11:43,  1.08s/file]"
     ]
    },
    {
     "name": "stdout",
     "output_type": "stream",
     "text": [
      "Axle Prediction: 2\n",
      "Validation Result: False\n",
      "Vehicle Prediction: truck\n"
     ]
    },
    {
     "name": "stderr",
     "output_type": "stream",
     "text": [
      "Processing: pickup:  30%|███       | 284/932 [02:53<14:40,  1.36s/file]"
     ]
    },
    {
     "name": "stdout",
     "output_type": "stream",
     "text": [
      "Is Pickup Truck: yes\n",
      "Validation Result: True\n",
      "Vehicle Prediction: truck\n"
     ]
    },
    {
     "name": "stderr",
     "output_type": "stream",
     "text": [
      "Processing: pickup:  31%|███       | 285/932 [02:54<12:25,  1.15s/file]"
     ]
    },
    {
     "name": "stdout",
     "output_type": "stream",
     "text": [
      "Is Pickup Truck: yes\n",
      "Validation Result: True\n",
      "Vehicle Prediction: truck\n"
     ]
    },
    {
     "name": "stderr",
     "output_type": "stream",
     "text": [
      "Processing: pickup:  31%|███       | 286/932 [02:55<11:04,  1.03s/file]"
     ]
    },
    {
     "name": "stdout",
     "output_type": "stream",
     "text": [
      "Is Pickup Truck: yes\n",
      "Validation Result: True\n",
      "Vehicle Prediction: truck\n"
     ]
    },
    {
     "name": "stderr",
     "output_type": "stream",
     "text": [
      "Processing: pickup:  31%|███       | 287/932 [02:55<09:28,  1.13file/s]"
     ]
    },
    {
     "name": "stdout",
     "output_type": "stream",
     "text": [
      "Is Pickup Truck: yes\n",
      "Validation Result: True\n",
      "Vehicle Prediction: truck\n"
     ]
    },
    {
     "name": "stderr",
     "output_type": "stream",
     "text": [
      "Processing: pickup:  31%|███       | 288/932 [02:57<11:14,  1.05s/file]"
     ]
    },
    {
     "name": "stdout",
     "output_type": "stream",
     "text": [
      "Is Pickup Truck: yes\n",
      "Validation Result: True\n",
      "Vehicle Prediction: truck\n"
     ]
    },
    {
     "name": "stderr",
     "output_type": "stream",
     "text": [
      "Processing: pickup:  31%|███       | 289/932 [02:57<09:37,  1.11file/s]"
     ]
    },
    {
     "name": "stdout",
     "output_type": "stream",
     "text": [
      "Is Pickup Truck: yes\n",
      "Validation Result: True\n",
      "Vehicle Prediction: truck\n"
     ]
    },
    {
     "name": "stderr",
     "output_type": "stream",
     "text": [
      "Processing: pickup:  31%|███       | 290/932 [02:58<09:27,  1.13file/s]"
     ]
    },
    {
     "name": "stdout",
     "output_type": "stream",
     "text": [
      "Is Pickup Truck: yes\n",
      "Validation Result: True\n",
      "Vehicle Prediction: truck\n"
     ]
    },
    {
     "name": "stderr",
     "output_type": "stream",
     "text": [
      "Processing: pickup:  31%|███       | 291/932 [02:59<08:20,  1.28file/s]"
     ]
    },
    {
     "name": "stdout",
     "output_type": "stream",
     "text": [
      "Is Pickup Truck: yes\n",
      "Validation Result: True\n",
      "Vehicle Prediction: truck\n",
      "Is Pickup Truck: yes.\n"
     ]
    },
    {
     "name": "stderr",
     "output_type": "stream",
     "text": [
      "Processing: pickup:  31%|███▏      | 292/932 [03:00<08:29,  1.26file/s]"
     ]
    },
    {
     "name": "stdout",
     "output_type": "stream",
     "text": [
      "Axle Prediction: 2\n",
      "Validation Result: False\n",
      "Vehicle Prediction: truck\n",
      "Is Pickup Truck: yes.\n"
     ]
    },
    {
     "name": "stderr",
     "output_type": "stream",
     "text": [
      "Processing: pickup:  31%|███▏      | 293/932 [03:00<08:48,  1.21file/s]"
     ]
    },
    {
     "name": "stdout",
     "output_type": "stream",
     "text": [
      "Axle Prediction: 2\n",
      "Validation Result: False\n",
      "Vehicle Prediction: truck\n",
      "Is Pickup Truck: yes.\n"
     ]
    },
    {
     "name": "stderr",
     "output_type": "stream",
     "text": [
      "Processing: pickup:  32%|███▏      | 294/932 [03:02<11:06,  1.04s/file]"
     ]
    },
    {
     "name": "stdout",
     "output_type": "stream",
     "text": [
      "Axle Prediction: 2\n",
      "Validation Result: False\n",
      "Vehicle Prediction: truck\n",
      "Is Pickup Truck: yes.\n"
     ]
    },
    {
     "name": "stderr",
     "output_type": "stream",
     "text": [
      "[codecarbon INFO @ 11:07:17] Energy consumed for RAM : 0.009437 kWh. RAM Power : 188.80178117752075 W\n",
      "[codecarbon INFO @ 11:07:17] Energy consumed for all CPUs : 0.004999 kWh. Total CPU Power : 100.0 W\n",
      "[codecarbon INFO @ 11:07:17] Energy consumed for all GPUs : 0.015202 kWh. Total GPU Power : 307.23528322460044 W\n",
      "[codecarbon INFO @ 11:07:17] 0.029638 kWh of electricity used since the beginning.\n",
      "Processing: pickup:  32%|███▏      | 295/932 [03:04<14:36,  1.38s/file]"
     ]
    },
    {
     "name": "stdout",
     "output_type": "stream",
     "text": [
      "Axle Prediction: 2\n",
      "Validation Result: False\n",
      "Vehicle Prediction: truck\n"
     ]
    },
    {
     "name": "stderr",
     "output_type": "stream",
     "text": [
      "Processing: pickup:  32%|███▏      | 296/932 [03:05<12:34,  1.19s/file]"
     ]
    },
    {
     "name": "stdout",
     "output_type": "stream",
     "text": [
      "Is Pickup Truck: yes\n",
      "Validation Result: True\n",
      "Vehicle Prediction: truck\n"
     ]
    },
    {
     "name": "stderr",
     "output_type": "stream",
     "text": [
      "Processing: pickup:  32%|███▏      | 297/932 [03:05<10:33,  1.00file/s]"
     ]
    },
    {
     "name": "stdout",
     "output_type": "stream",
     "text": [
      "Is Pickup Truck: yes\n",
      "Validation Result: True\n",
      "Vehicle Prediction: truck\n"
     ]
    },
    {
     "name": "stderr",
     "output_type": "stream",
     "text": [
      "Processing: pickup:  32%|███▏      | 298/932 [03:06<09:41,  1.09file/s]"
     ]
    },
    {
     "name": "stdout",
     "output_type": "stream",
     "text": [
      "Is Pickup Truck: yes\n",
      "Validation Result: True\n",
      "Vehicle Prediction: truck\n"
     ]
    },
    {
     "name": "stderr",
     "output_type": "stream",
     "text": [
      "Processing: pickup:  32%|███▏      | 299/932 [03:07<08:32,  1.24file/s]"
     ]
    },
    {
     "name": "stdout",
     "output_type": "stream",
     "text": [
      "Is Pickup Truck: yes\n",
      "Validation Result: True\n",
      "Vehicle Prediction: truck\n"
     ]
    },
    {
     "name": "stderr",
     "output_type": "stream",
     "text": [
      "Processing: van:  32%|███▏      | 300/932 [03:07<07:45,  1.36file/s]   "
     ]
    },
    {
     "name": "stdout",
     "output_type": "stream",
     "text": [
      "Is Pickup Truck: yes\n",
      "Validation Result: True\n"
     ]
    },
    {
     "name": "stderr",
     "output_type": "stream",
     "text": [
      "Processing: van:  32%|███▏      | 301/932 [03:08<06:20,  1.66file/s]"
     ]
    },
    {
     "name": "stdout",
     "output_type": "stream",
     "text": [
      "Vehicle Prediction: minivan\n",
      "Validation Result: True\n"
     ]
    },
    {
     "name": "stderr",
     "output_type": "stream",
     "text": [
      "Processing: van:  32%|███▏      | 302/932 [03:08<05:19,  1.97file/s]"
     ]
    },
    {
     "name": "stdout",
     "output_type": "stream",
     "text": [
      "Vehicle Prediction: van\n",
      "Validation Result: True\n"
     ]
    },
    {
     "name": "stderr",
     "output_type": "stream",
     "text": [
      "Processing: van:  33%|███▎      | 303/932 [03:08<04:39,  2.25file/s]"
     ]
    },
    {
     "name": "stdout",
     "output_type": "stream",
     "text": [
      "Vehicle Prediction: minivan\n",
      "Validation Result: True\n"
     ]
    },
    {
     "name": "stderr",
     "output_type": "stream",
     "text": [
      "Processing: van:  33%|███▎      | 304/932 [03:09<04:26,  2.36file/s]"
     ]
    },
    {
     "name": "stdout",
     "output_type": "stream",
     "text": [
      "Vehicle Prediction: van\n",
      "Validation Result: True\n"
     ]
    },
    {
     "name": "stderr",
     "output_type": "stream",
     "text": [
      "Processing: van:  33%|███▎      | 305/932 [03:09<03:59,  2.62file/s]"
     ]
    },
    {
     "name": "stdout",
     "output_type": "stream",
     "text": [
      "Vehicle Prediction: minivan\n",
      "Validation Result: True\n"
     ]
    },
    {
     "name": "stderr",
     "output_type": "stream",
     "text": [
      "Processing: van:  33%|███▎      | 306/932 [03:09<03:43,  2.80file/s]"
     ]
    },
    {
     "name": "stdout",
     "output_type": "stream",
     "text": [
      "Vehicle Prediction: minivan\n",
      "Validation Result: True\n"
     ]
    },
    {
     "name": "stderr",
     "output_type": "stream",
     "text": [
      "Processing: van:  33%|███▎      | 307/932 [03:10<03:48,  2.74file/s]"
     ]
    },
    {
     "name": "stdout",
     "output_type": "stream",
     "text": [
      "Vehicle Prediction: van\n",
      "Validation Result: True\n"
     ]
    },
    {
     "name": "stderr",
     "output_type": "stream",
     "text": [
      "Processing: van:  33%|███▎      | 308/932 [03:10<03:50,  2.70file/s]"
     ]
    },
    {
     "name": "stdout",
     "output_type": "stream",
     "text": [
      "Vehicle Prediction: minivan\n",
      "Validation Result: True\n"
     ]
    },
    {
     "name": "stderr",
     "output_type": "stream",
     "text": [
      "Processing: van:  33%|███▎      | 309/932 [03:10<03:50,  2.70file/s]"
     ]
    },
    {
     "name": "stdout",
     "output_type": "stream",
     "text": [
      "Vehicle Prediction: minivan\n",
      "Validation Result: True\n"
     ]
    },
    {
     "name": "stderr",
     "output_type": "stream",
     "text": [
      "Processing: van:  33%|███▎      | 310/932 [03:11<03:36,  2.88file/s]"
     ]
    },
    {
     "name": "stdout",
     "output_type": "stream",
     "text": [
      "Vehicle Prediction: minivan\n",
      "Validation Result: True\n"
     ]
    },
    {
     "name": "stderr",
     "output_type": "stream",
     "text": [
      "Processing: van:  33%|███▎      | 311/932 [03:12<05:36,  1.85file/s]"
     ]
    },
    {
     "name": "stdout",
     "output_type": "stream",
     "text": [
      "Vehicle Prediction: minivan\n",
      "Validation Result: True\n"
     ]
    },
    {
     "name": "stderr",
     "output_type": "stream",
     "text": [
      "Processing: van:  33%|███▎      | 312/932 [03:12<04:47,  2.15file/s]"
     ]
    },
    {
     "name": "stdout",
     "output_type": "stream",
     "text": [
      "Vehicle Prediction: minivan\n",
      "Validation Result: True\n"
     ]
    },
    {
     "name": "stderr",
     "output_type": "stream",
     "text": [
      "Processing: van:  34%|███▎      | 313/932 [03:13<06:25,  1.61file/s]"
     ]
    },
    {
     "name": "stdout",
     "output_type": "stream",
     "text": [
      "Vehicle Prediction: minivan\n",
      "Validation Result: True\n"
     ]
    },
    {
     "name": "stderr",
     "output_type": "stream",
     "text": [
      "Processing: van:  34%|███▎      | 314/932 [03:13<05:22,  1.92file/s]"
     ]
    },
    {
     "name": "stdout",
     "output_type": "stream",
     "text": [
      "Vehicle Prediction: minivan\n",
      "Validation Result: True\n"
     ]
    },
    {
     "name": "stderr",
     "output_type": "stream",
     "text": [
      "Processing: van:  34%|███▍      | 315/932 [03:13<04:49,  2.13file/s]"
     ]
    },
    {
     "name": "stdout",
     "output_type": "stream",
     "text": [
      "Vehicle Prediction: minivan\n",
      "Validation Result: True\n"
     ]
    },
    {
     "name": "stderr",
     "output_type": "stream",
     "text": [
      "Processing: van:  34%|███▍      | 316/932 [03:14<04:16,  2.40file/s]"
     ]
    },
    {
     "name": "stdout",
     "output_type": "stream",
     "text": [
      "Vehicle Prediction: minivan\n",
      "Validation Result: True\n"
     ]
    },
    {
     "name": "stderr",
     "output_type": "stream",
     "text": [
      "Processing: van:  34%|███▍      | 317/932 [03:14<04:13,  2.43file/s]"
     ]
    },
    {
     "name": "stdout",
     "output_type": "stream",
     "text": [
      "Vehicle Prediction: minivan\n",
      "Validation Result: True\n"
     ]
    },
    {
     "name": "stderr",
     "output_type": "stream",
     "text": [
      "Processing: van:  34%|███▍      | 318/932 [03:14<03:49,  2.67file/s]"
     ]
    },
    {
     "name": "stdout",
     "output_type": "stream",
     "text": [
      "Vehicle Prediction: minivan\n",
      "Validation Result: True\n"
     ]
    },
    {
     "name": "stderr",
     "output_type": "stream",
     "text": [
      "Processing: van:  34%|███▍      | 319/932 [03:15<03:50,  2.66file/s]"
     ]
    },
    {
     "name": "stdout",
     "output_type": "stream",
     "text": [
      "Vehicle Prediction: minivan\n",
      "Validation Result: True\n"
     ]
    },
    {
     "name": "stderr",
     "output_type": "stream",
     "text": [
      "Processing: van:  34%|███▍      | 320/932 [03:15<04:03,  2.51file/s]"
     ]
    },
    {
     "name": "stdout",
     "output_type": "stream",
     "text": [
      "Vehicle Prediction: minivan\n",
      "Validation Result: True\n"
     ]
    },
    {
     "name": "stderr",
     "output_type": "stream",
     "text": [
      "Processing: van:  34%|███▍      | 321/932 [03:16<04:49,  2.11file/s]"
     ]
    },
    {
     "name": "stdout",
     "output_type": "stream",
     "text": [
      "Vehicle Prediction: minivan\n",
      "Validation Result: True\n"
     ]
    },
    {
     "name": "stderr",
     "output_type": "stream",
     "text": [
      "Processing: van:  35%|███▍      | 322/932 [03:17<05:45,  1.77file/s]"
     ]
    },
    {
     "name": "stdout",
     "output_type": "stream",
     "text": [
      "Vehicle Prediction: minivan\n",
      "Validation Result: True\n"
     ]
    },
    {
     "name": "stderr",
     "output_type": "stream",
     "text": [
      "Processing: van:  35%|███▍      | 323/932 [03:17<05:13,  1.95file/s]"
     ]
    },
    {
     "name": "stdout",
     "output_type": "stream",
     "text": [
      "Vehicle Prediction: van\n",
      "Validation Result: True\n"
     ]
    },
    {
     "name": "stderr",
     "output_type": "stream",
     "text": [
      "Processing: van:  35%|███▍      | 324/932 [03:17<04:33,  2.22file/s]"
     ]
    },
    {
     "name": "stdout",
     "output_type": "stream",
     "text": [
      "Vehicle Prediction: van\n",
      "Validation Result: True\n"
     ]
    },
    {
     "name": "stderr",
     "output_type": "stream",
     "text": [
      "Processing: van:  35%|███▍      | 325/932 [03:18<04:02,  2.50file/s]"
     ]
    },
    {
     "name": "stdout",
     "output_type": "stream",
     "text": [
      "Vehicle Prediction: van\n",
      "Validation Result: True\n"
     ]
    },
    {
     "name": "stderr",
     "output_type": "stream",
     "text": [
      "Processing: van:  35%|███▍      | 326/932 [03:18<03:43,  2.71file/s]"
     ]
    },
    {
     "name": "stdout",
     "output_type": "stream",
     "text": [
      "Vehicle Prediction: van\n",
      "Validation Result: True\n"
     ]
    },
    {
     "name": "stderr",
     "output_type": "stream",
     "text": [
      "Processing: van:  35%|███▌      | 327/932 [03:18<03:27,  2.91file/s]"
     ]
    },
    {
     "name": "stdout",
     "output_type": "stream",
     "text": [
      "Vehicle Prediction: van\n",
      "Validation Result: True\n"
     ]
    },
    {
     "name": "stderr",
     "output_type": "stream",
     "text": [
      "Processing: van:  35%|███▌      | 328/932 [03:19<03:16,  3.07file/s]"
     ]
    },
    {
     "name": "stdout",
     "output_type": "stream",
     "text": [
      "Vehicle Prediction: van\n",
      "Validation Result: True\n"
     ]
    },
    {
     "name": "stderr",
     "output_type": "stream",
     "text": [
      "Processing: van:  35%|███▌      | 329/932 [03:19<03:13,  3.11file/s][codecarbon INFO @ 11:07:32] Energy consumed for RAM : 0.010223 kWh. RAM Power : 188.80178117752075 W\n",
      "[codecarbon INFO @ 11:07:32] Energy consumed for all CPUs : 0.005415 kWh. Total CPU Power : 100.0 W\n",
      "[codecarbon INFO @ 11:07:32] Energy consumed for all GPUs : 0.016463 kWh. Total GPU Power : 302.61198246024634 W\n",
      "[codecarbon INFO @ 11:07:32] 0.032101 kWh of electricity used since the beginning.\n"
     ]
    },
    {
     "name": "stdout",
     "output_type": "stream",
     "text": [
      "Vehicle Prediction: van\n",
      "Validation Result: True\n"
     ]
    },
    {
     "name": "stderr",
     "output_type": "stream",
     "text": [
      "Processing: van:  35%|███▌      | 330/932 [03:19<03:08,  3.20file/s]"
     ]
    },
    {
     "name": "stdout",
     "output_type": "stream",
     "text": [
      "Vehicle Prediction: van\n",
      "Validation Result: True\n"
     ]
    },
    {
     "name": "stderr",
     "output_type": "stream",
     "text": [
      "Processing: van:  36%|███▌      | 331/932 [03:19<03:02,  3.29file/s]"
     ]
    },
    {
     "name": "stdout",
     "output_type": "stream",
     "text": [
      "Vehicle Prediction: van\n",
      "Validation Result: True\n"
     ]
    },
    {
     "name": "stderr",
     "output_type": "stream",
     "text": [
      "Processing: van:  36%|███▌      | 332/932 [03:20<03:00,  3.32file/s]"
     ]
    },
    {
     "name": "stdout",
     "output_type": "stream",
     "text": [
      "Vehicle Prediction: van\n",
      "Validation Result: True\n"
     ]
    },
    {
     "name": "stderr",
     "output_type": "stream",
     "text": [
      "Processing: van:  36%|███▌      | 333/932 [03:21<04:50,  2.06file/s]"
     ]
    },
    {
     "name": "stdout",
     "output_type": "stream",
     "text": [
      "Vehicle Prediction: van\n",
      "Validation Result: True\n"
     ]
    },
    {
     "name": "stderr",
     "output_type": "stream",
     "text": [
      "Processing: van:  36%|███▌      | 334/932 [03:21<04:14,  2.35file/s]"
     ]
    },
    {
     "name": "stdout",
     "output_type": "stream",
     "text": [
      "Vehicle Prediction: van\n",
      "Validation Result: True\n"
     ]
    },
    {
     "name": "stderr",
     "output_type": "stream",
     "text": [
      "Processing: van:  36%|███▌      | 335/932 [03:21<03:48,  2.61file/s]"
     ]
    },
    {
     "name": "stdout",
     "output_type": "stream",
     "text": [
      "Vehicle Prediction: minivan\n",
      "Validation Result: True\n"
     ]
    },
    {
     "name": "stderr",
     "output_type": "stream",
     "text": [
      "Processing: van:  36%|███▌      | 336/932 [03:22<03:47,  2.61file/s]"
     ]
    },
    {
     "name": "stdout",
     "output_type": "stream",
     "text": [
      "Vehicle Prediction: minivan\n",
      "Validation Result: True\n"
     ]
    },
    {
     "name": "stderr",
     "output_type": "stream",
     "text": [
      "Processing: van:  36%|███▌      | 337/932 [03:22<03:30,  2.82file/s]"
     ]
    },
    {
     "name": "stdout",
     "output_type": "stream",
     "text": [
      "Vehicle Prediction: minivan\n",
      "Validation Result: True\n"
     ]
    },
    {
     "name": "stderr",
     "output_type": "stream",
     "text": [
      "Processing: van:  36%|███▋      | 338/932 [03:22<03:22,  2.93file/s]"
     ]
    },
    {
     "name": "stdout",
     "output_type": "stream",
     "text": [
      "Vehicle Prediction: minivan\n",
      "Validation Result: True\n"
     ]
    },
    {
     "name": "stderr",
     "output_type": "stream",
     "text": [
      "Processing: van:  36%|███▋      | 339/932 [03:22<03:12,  3.09file/s]"
     ]
    },
    {
     "name": "stdout",
     "output_type": "stream",
     "text": [
      "Vehicle Prediction: minivan\n",
      "Validation Result: True\n"
     ]
    },
    {
     "name": "stderr",
     "output_type": "stream",
     "text": [
      "Processing: van:  36%|███▋      | 340/932 [03:23<03:04,  3.21file/s]"
     ]
    },
    {
     "name": "stdout",
     "output_type": "stream",
     "text": [
      "Vehicle Prediction: minivan\n",
      "Validation Result: True\n"
     ]
    },
    {
     "name": "stderr",
     "output_type": "stream",
     "text": [
      "Processing: van:  37%|███▋      | 341/932 [03:23<02:58,  3.31file/s]"
     ]
    },
    {
     "name": "stdout",
     "output_type": "stream",
     "text": [
      "Vehicle Prediction: minivan\n",
      "Validation Result: True\n"
     ]
    },
    {
     "name": "stderr",
     "output_type": "stream",
     "text": [
      "Processing: van:  37%|███▋      | 342/932 [03:23<02:54,  3.37file/s]"
     ]
    },
    {
     "name": "stdout",
     "output_type": "stream",
     "text": [
      "Vehicle Prediction: minivan\n",
      "Validation Result: True\n"
     ]
    },
    {
     "name": "stderr",
     "output_type": "stream",
     "text": [
      "Processing: van:  37%|███▋      | 343/932 [03:24<03:12,  3.05file/s]"
     ]
    },
    {
     "name": "stdout",
     "output_type": "stream",
     "text": [
      "Vehicle Prediction: minivan\n",
      "Validation Result: True\n"
     ]
    },
    {
     "name": "stderr",
     "output_type": "stream",
     "text": [
      "Processing: van:  37%|███▋      | 344/932 [03:24<03:06,  3.15file/s]"
     ]
    },
    {
     "name": "stdout",
     "output_type": "stream",
     "text": [
      "Vehicle Prediction: minivan\n",
      "Validation Result: True\n"
     ]
    },
    {
     "name": "stderr",
     "output_type": "stream",
     "text": [
      "Processing: van:  37%|███▋      | 345/932 [03:24<03:00,  3.25file/s]"
     ]
    },
    {
     "name": "stdout",
     "output_type": "stream",
     "text": [
      "Vehicle Prediction: minivan\n",
      "Validation Result: True\n"
     ]
    },
    {
     "name": "stderr",
     "output_type": "stream",
     "text": [
      "Processing: van:  37%|███▋      | 346/932 [03:25<02:55,  3.33file/s]"
     ]
    },
    {
     "name": "stdout",
     "output_type": "stream",
     "text": [
      "Vehicle Prediction: minivan\n",
      "Validation Result: True\n"
     ]
    },
    {
     "name": "stderr",
     "output_type": "stream",
     "text": [
      "Processing: van:  37%|███▋      | 347/932 [03:25<03:10,  3.07file/s]"
     ]
    },
    {
     "name": "stdout",
     "output_type": "stream",
     "text": [
      "Vehicle Prediction: minivan\n",
      "Validation Result: True\n"
     ]
    },
    {
     "name": "stderr",
     "output_type": "stream",
     "text": [
      "Processing: van:  37%|███▋      | 348/932 [03:25<03:06,  3.13file/s]"
     ]
    },
    {
     "name": "stdout",
     "output_type": "stream",
     "text": [
      "Vehicle Prediction: van\n",
      "Validation Result: True\n"
     ]
    },
    {
     "name": "stderr",
     "output_type": "stream",
     "text": [
      "Processing: van:  37%|███▋      | 349/932 [03:26<03:01,  3.21file/s]"
     ]
    },
    {
     "name": "stdout",
     "output_type": "stream",
     "text": [
      "Vehicle Prediction: minivan\n",
      "Validation Result: True\n"
     ]
    },
    {
     "name": "stderr",
     "output_type": "stream",
     "text": [
      "Processing: van:  38%|███▊      | 350/932 [03:26<02:56,  3.30file/s]"
     ]
    },
    {
     "name": "stdout",
     "output_type": "stream",
     "text": [
      "Vehicle Prediction: van\n",
      "Validation Result: True\n"
     ]
    },
    {
     "name": "stderr",
     "output_type": "stream",
     "text": [
      "Processing: van:  38%|███▊      | 351/932 [03:26<02:52,  3.37file/s]"
     ]
    },
    {
     "name": "stdout",
     "output_type": "stream",
     "text": [
      "Vehicle Prediction: van\n",
      "Validation Result: True\n"
     ]
    },
    {
     "name": "stderr",
     "output_type": "stream",
     "text": [
      "Processing: van:  38%|███▊      | 352/932 [03:26<02:52,  3.36file/s]"
     ]
    },
    {
     "name": "stdout",
     "output_type": "stream",
     "text": [
      "Vehicle Prediction: minivan\n",
      "Validation Result: True\n"
     ]
    },
    {
     "name": "stderr",
     "output_type": "stream",
     "text": [
      "Processing: van:  38%|███▊      | 353/932 [03:27<02:50,  3.39file/s]"
     ]
    },
    {
     "name": "stdout",
     "output_type": "stream",
     "text": [
      "Vehicle Prediction: minivan\n",
      "Validation Result: True\n"
     ]
    },
    {
     "name": "stderr",
     "output_type": "stream",
     "text": [
      "Processing: van:  38%|███▊      | 354/932 [03:27<02:52,  3.36file/s]"
     ]
    },
    {
     "name": "stdout",
     "output_type": "stream",
     "text": [
      "Vehicle Prediction: van\n",
      "Validation Result: True\n"
     ]
    },
    {
     "name": "stderr",
     "output_type": "stream",
     "text": [
      "Processing: van:  38%|███▊      | 355/932 [03:27<02:49,  3.40file/s]"
     ]
    },
    {
     "name": "stdout",
     "output_type": "stream",
     "text": [
      "Vehicle Prediction: van\n",
      "Validation Result: True\n"
     ]
    },
    {
     "name": "stderr",
     "output_type": "stream",
     "text": [
      "Processing: van:  38%|███▊      | 356/932 [03:28<02:47,  3.44file/s]"
     ]
    },
    {
     "name": "stdout",
     "output_type": "stream",
     "text": [
      "Vehicle Prediction: van\n",
      "Validation Result: True\n"
     ]
    },
    {
     "name": "stderr",
     "output_type": "stream",
     "text": [
      "Processing: van:  38%|███▊      | 357/932 [03:29<04:35,  2.09file/s]"
     ]
    },
    {
     "name": "stdout",
     "output_type": "stream",
     "text": [
      "Vehicle Prediction: van\n",
      "Validation Result: True\n"
     ]
    },
    {
     "name": "stderr",
     "output_type": "stream",
     "text": [
      "Processing: van:  38%|███▊      | 358/932 [03:29<04:03,  2.36file/s]"
     ]
    },
    {
     "name": "stdout",
     "output_type": "stream",
     "text": [
      "Vehicle Prediction: minivan\n",
      "Validation Result: True\n"
     ]
    },
    {
     "name": "stderr",
     "output_type": "stream",
     "text": [
      "Processing: van:  39%|███▊      | 359/932 [03:29<03:38,  2.62file/s]"
     ]
    },
    {
     "name": "stdout",
     "output_type": "stream",
     "text": [
      "Vehicle Prediction: minivan\n",
      "Validation Result: True\n"
     ]
    },
    {
     "name": "stderr",
     "output_type": "stream",
     "text": [
      "Processing: van:  39%|███▊      | 360/932 [03:29<03:23,  2.80file/s]"
     ]
    },
    {
     "name": "stdout",
     "output_type": "stream",
     "text": [
      "Vehicle Prediction: minivan\n",
      "Validation Result: True\n"
     ]
    },
    {
     "name": "stderr",
     "output_type": "stream",
     "text": [
      "Processing: van:  39%|███▊      | 361/932 [03:30<03:10,  2.99file/s]"
     ]
    },
    {
     "name": "stdout",
     "output_type": "stream",
     "text": [
      "Vehicle Prediction: van\n",
      "Validation Result: True\n"
     ]
    },
    {
     "name": "stderr",
     "output_type": "stream",
     "text": [
      "Processing: van:  39%|███▉      | 362/932 [03:30<03:03,  3.11file/s]"
     ]
    },
    {
     "name": "stdout",
     "output_type": "stream",
     "text": [
      "Vehicle Prediction: van\n",
      "Validation Result: True\n"
     ]
    },
    {
     "name": "stderr",
     "output_type": "stream",
     "text": [
      "Processing: van:  39%|███▉      | 363/932 [03:30<03:00,  3.16file/s]"
     ]
    },
    {
     "name": "stdout",
     "output_type": "stream",
     "text": [
      "Vehicle Prediction: minivan\n",
      "Validation Result: True\n"
     ]
    },
    {
     "name": "stderr",
     "output_type": "stream",
     "text": [
      "Processing: van:  39%|███▉      | 364/932 [03:31<03:11,  2.96file/s]"
     ]
    },
    {
     "name": "stdout",
     "output_type": "stream",
     "text": [
      "Vehicle Prediction: van\n",
      "Validation Result: True\n"
     ]
    },
    {
     "name": "stderr",
     "output_type": "stream",
     "text": [
      "Processing: van:  39%|███▉      | 365/932 [03:31<03:18,  2.85file/s]"
     ]
    },
    {
     "name": "stdout",
     "output_type": "stream",
     "text": [
      "Vehicle Prediction: van\n",
      "Validation Result: True\n"
     ]
    },
    {
     "name": "stderr",
     "output_type": "stream",
     "text": [
      "Processing: van:  39%|███▉      | 366/932 [03:31<03:33,  2.66file/s]"
     ]
    },
    {
     "name": "stdout",
     "output_type": "stream",
     "text": [
      "Vehicle Prediction: van\n",
      "Validation Result: True\n"
     ]
    },
    {
     "name": "stderr",
     "output_type": "stream",
     "text": [
      "Processing: van:  39%|███▉      | 367/932 [03:32<03:35,  2.62file/s]"
     ]
    },
    {
     "name": "stdout",
     "output_type": "stream",
     "text": [
      "Vehicle Prediction: van\n",
      "Validation Result: True\n"
     ]
    },
    {
     "name": "stderr",
     "output_type": "stream",
     "text": [
      "Processing: van:  39%|███▉      | 368/932 [03:32<03:35,  2.62file/s]"
     ]
    },
    {
     "name": "stdout",
     "output_type": "stream",
     "text": [
      "Vehicle Prediction: van\n",
      "Validation Result: True\n"
     ]
    },
    {
     "name": "stderr",
     "output_type": "stream",
     "text": [
      "Processing: van:  40%|███▉      | 369/932 [03:33<03:34,  2.62file/s]"
     ]
    },
    {
     "name": "stdout",
     "output_type": "stream",
     "text": [
      "Vehicle Prediction: van\n",
      "Validation Result: True\n"
     ]
    },
    {
     "name": "stderr",
     "output_type": "stream",
     "text": [
      "Processing: van:  40%|███▉      | 370/932 [03:33<03:34,  2.62file/s]"
     ]
    },
    {
     "name": "stdout",
     "output_type": "stream",
     "text": [
      "Vehicle Prediction: minivan\n",
      "Validation Result: True\n"
     ]
    },
    {
     "name": "stderr",
     "output_type": "stream",
     "text": [
      "Processing: van:  40%|███▉      | 371/932 [03:33<03:35,  2.60file/s]"
     ]
    },
    {
     "name": "stdout",
     "output_type": "stream",
     "text": [
      "Vehicle Prediction: van\n",
      "Validation Result: True\n"
     ]
    },
    {
     "name": "stderr",
     "output_type": "stream",
     "text": [
      "Processing: van:  40%|███▉      | 372/932 [03:34<03:29,  2.67file/s][codecarbon INFO @ 11:07:47] Energy consumed for RAM : 0.011010 kWh. RAM Power : 188.80178117752075 W\n",
      "[codecarbon INFO @ 11:07:47] Energy consumed for all CPUs : 0.005832 kWh. Total CPU Power : 100.0 W\n",
      "[codecarbon INFO @ 11:07:47] Energy consumed for all GPUs : 0.017720 kWh. Total GPU Power : 301.91237226094245 W\n",
      "[codecarbon INFO @ 11:07:47] 0.034562 kWh of electricity used since the beginning.\n"
     ]
    },
    {
     "name": "stdout",
     "output_type": "stream",
     "text": [
      "Vehicle Prediction: van\n",
      "Validation Result: True\n"
     ]
    },
    {
     "name": "stderr",
     "output_type": "stream",
     "text": [
      "Processing: van:  40%|████      | 373/932 [03:34<03:16,  2.84file/s]"
     ]
    },
    {
     "name": "stdout",
     "output_type": "stream",
     "text": [
      "Vehicle Prediction: minivan\n",
      "Validation Result: True\n"
     ]
    },
    {
     "name": "stderr",
     "output_type": "stream",
     "text": [
      "Processing: van:  40%|████      | 374/932 [03:34<03:07,  2.98file/s]"
     ]
    },
    {
     "name": "stdout",
     "output_type": "stream",
     "text": [
      "Vehicle Prediction: minivan\n",
      "Validation Result: True\n"
     ]
    },
    {
     "name": "stderr",
     "output_type": "stream",
     "text": [
      "Processing: van:  40%|████      | 375/932 [03:35<02:58,  3.12file/s]"
     ]
    },
    {
     "name": "stdout",
     "output_type": "stream",
     "text": [
      "Vehicle Prediction: minivan\n",
      "Validation Result: True\n"
     ]
    },
    {
     "name": "stderr",
     "output_type": "stream",
     "text": [
      "Processing: van:  40%|████      | 376/932 [03:35<02:53,  3.21file/s]"
     ]
    },
    {
     "name": "stdout",
     "output_type": "stream",
     "text": [
      "Vehicle Prediction: minivan\n",
      "Validation Result: True\n"
     ]
    },
    {
     "name": "stderr",
     "output_type": "stream",
     "text": [
      "Processing: van:  40%|████      | 377/932 [03:36<03:49,  2.41file/s]"
     ]
    },
    {
     "name": "stdout",
     "output_type": "stream",
     "text": [
      "Vehicle Prediction: minivan\n",
      "Validation Result: True\n"
     ]
    },
    {
     "name": "stderr",
     "output_type": "stream",
     "text": [
      "Processing: van:  41%|████      | 378/932 [03:36<03:42,  2.48file/s]"
     ]
    },
    {
     "name": "stdout",
     "output_type": "stream",
     "text": [
      "Vehicle Prediction: minivan\n",
      "Validation Result: True\n"
     ]
    },
    {
     "name": "stderr",
     "output_type": "stream",
     "text": [
      "Processing: van:  41%|████      | 379/932 [03:36<03:39,  2.52file/s]"
     ]
    },
    {
     "name": "stdout",
     "output_type": "stream",
     "text": [
      "Vehicle Prediction: minivan\n",
      "Validation Result: True\n"
     ]
    },
    {
     "name": "stderr",
     "output_type": "stream",
     "text": [
      "Processing: van:  41%|████      | 380/932 [03:37<03:21,  2.74file/s]"
     ]
    },
    {
     "name": "stdout",
     "output_type": "stream",
     "text": [
      "Vehicle Prediction: minivan\n",
      "Validation Result: True\n"
     ]
    },
    {
     "name": "stderr",
     "output_type": "stream",
     "text": [
      "Processing: van:  41%|████      | 381/932 [03:37<03:34,  2.57file/s]"
     ]
    },
    {
     "name": "stdout",
     "output_type": "stream",
     "text": [
      "Vehicle Prediction: minivan\n",
      "Validation Result: True\n"
     ]
    },
    {
     "name": "stderr",
     "output_type": "stream",
     "text": [
      "Processing: van:  41%|████      | 382/932 [03:37<03:17,  2.79file/s]"
     ]
    },
    {
     "name": "stdout",
     "output_type": "stream",
     "text": [
      "Vehicle Prediction: minivan\n",
      "Validation Result: True\n"
     ]
    },
    {
     "name": "stderr",
     "output_type": "stream",
     "text": [
      "Processing: van:  41%|████      | 383/932 [03:38<03:06,  2.94file/s]"
     ]
    },
    {
     "name": "stdout",
     "output_type": "stream",
     "text": [
      "Vehicle Prediction: minivan\n",
      "Validation Result: True\n"
     ]
    },
    {
     "name": "stderr",
     "output_type": "stream",
     "text": [
      "Processing: van:  41%|████      | 384/932 [03:38<02:56,  3.10file/s]"
     ]
    },
    {
     "name": "stdout",
     "output_type": "stream",
     "text": [
      "Vehicle Prediction: minivan\n",
      "Validation Result: True\n"
     ]
    },
    {
     "name": "stderr",
     "output_type": "stream",
     "text": [
      "Processing: van:  41%|████▏     | 385/932 [03:39<04:01,  2.26file/s]"
     ]
    },
    {
     "name": "stdout",
     "output_type": "stream",
     "text": [
      "Vehicle Prediction: minivan\n",
      "Validation Result: True\n"
     ]
    },
    {
     "name": "stderr",
     "output_type": "stream",
     "text": [
      "Processing: van:  41%|████▏     | 386/932 [03:39<03:51,  2.36file/s]"
     ]
    },
    {
     "name": "stdout",
     "output_type": "stream",
     "text": [
      "Vehicle Prediction: minivan\n",
      "Validation Result: True\n"
     ]
    },
    {
     "name": "stderr",
     "output_type": "stream",
     "text": [
      "Processing: van:  42%|████▏     | 387/932 [03:39<03:44,  2.43file/s]"
     ]
    },
    {
     "name": "stdout",
     "output_type": "stream",
     "text": [
      "Vehicle Prediction: van\n",
      "Validation Result: True\n"
     ]
    },
    {
     "name": "stderr",
     "output_type": "stream",
     "text": [
      "Processing: van:  42%|████▏     | 388/932 [03:40<04:14,  2.14file/s]"
     ]
    },
    {
     "name": "stdout",
     "output_type": "stream",
     "text": [
      "Vehicle Prediction: van\n",
      "Validation Result: True\n"
     ]
    },
    {
     "name": "stderr",
     "output_type": "stream",
     "text": [
      "Processing: van:  42%|████▏     | 389/932 [03:40<03:51,  2.35file/s]"
     ]
    },
    {
     "name": "stdout",
     "output_type": "stream",
     "text": [
      "Vehicle Prediction: van\n",
      "Validation Result: True\n"
     ]
    },
    {
     "name": "stderr",
     "output_type": "stream",
     "text": [
      "Processing: van:  42%|████▏     | 390/932 [03:41<03:27,  2.61file/s]"
     ]
    },
    {
     "name": "stdout",
     "output_type": "stream",
     "text": [
      "Vehicle Prediction: van\n",
      "Validation Result: True\n"
     ]
    },
    {
     "name": "stderr",
     "output_type": "stream",
     "text": [
      "Processing: van:  42%|████▏     | 391/932 [03:41<03:13,  2.80file/s]"
     ]
    },
    {
     "name": "stdout",
     "output_type": "stream",
     "text": [
      "Vehicle Prediction: van\n",
      "Validation Result: True\n"
     ]
    },
    {
     "name": "stderr",
     "output_type": "stream",
     "text": [
      "Processing: van:  42%|████▏     | 392/932 [03:41<03:04,  2.93file/s]"
     ]
    },
    {
     "name": "stdout",
     "output_type": "stream",
     "text": [
      "Vehicle Prediction: van\n",
      "Validation Result: True\n"
     ]
    },
    {
     "name": "stderr",
     "output_type": "stream",
     "text": [
      "Processing: van:  42%|████▏     | 393/932 [03:42<04:49,  1.86file/s]"
     ]
    },
    {
     "name": "stdout",
     "output_type": "stream",
     "text": [
      "Vehicle Prediction: van\n",
      "Validation Result: True\n"
     ]
    },
    {
     "name": "stderr",
     "output_type": "stream",
     "text": [
      "Processing: van:  42%|████▏     | 394/932 [03:43<04:24,  2.03file/s]"
     ]
    },
    {
     "name": "stdout",
     "output_type": "stream",
     "text": [
      "Vehicle Prediction: van\n",
      "Validation Result: True\n"
     ]
    },
    {
     "name": "stderr",
     "output_type": "stream",
     "text": [
      "Processing: van:  42%|████▏     | 395/932 [03:44<05:43,  1.56file/s]"
     ]
    },
    {
     "name": "stdout",
     "output_type": "stream",
     "text": [
      "Vehicle Prediction: minivan\n",
      "Validation Result: True\n"
     ]
    },
    {
     "name": "stderr",
     "output_type": "stream",
     "text": [
      "Processing: van:  42%|████▏     | 396/932 [03:44<04:47,  1.86file/s]"
     ]
    },
    {
     "name": "stdout",
     "output_type": "stream",
     "text": [
      "Vehicle Prediction: van\n",
      "Validation Result: True\n"
     ]
    },
    {
     "name": "stderr",
     "output_type": "stream",
     "text": [
      "Processing: van:  43%|████▎     | 397/932 [03:44<04:22,  2.04file/s]"
     ]
    },
    {
     "name": "stdout",
     "output_type": "stream",
     "text": [
      "Vehicle Prediction: minivan\n",
      "Validation Result: True\n"
     ]
    },
    {
     "name": "stderr",
     "output_type": "stream",
     "text": [
      "Processing: van:  43%|████▎     | 398/932 [03:45<03:56,  2.26file/s]"
     ]
    },
    {
     "name": "stdout",
     "output_type": "stream",
     "text": [
      "Vehicle Prediction: van\n",
      "Validation Result: True\n"
     ]
    },
    {
     "name": "stderr",
     "output_type": "stream",
     "text": [
      "Processing: van:  43%|████▎     | 399/932 [03:46<05:25,  1.64file/s]"
     ]
    },
    {
     "name": "stdout",
     "output_type": "stream",
     "text": [
      "Vehicle Prediction: van\n",
      "Validation Result: True\n"
     ]
    },
    {
     "name": "stderr",
     "output_type": "stream",
     "text": [
      "Processing: bus 2:  43%|████▎     | 400/932 [03:46<04:36,  1.92file/s]"
     ]
    },
    {
     "name": "stdout",
     "output_type": "stream",
     "text": [
      "Vehicle Prediction: van\n",
      "Validation Result: True\n"
     ]
    },
    {
     "name": "stderr",
     "output_type": "stream",
     "text": [
      "Processing: bus 2:  43%|████▎     | 401/932 [03:47<05:49,  1.52file/s]"
     ]
    },
    {
     "name": "stdout",
     "output_type": "stream",
     "text": [
      "Vehicle Prediction: minibus\n",
      "Validation Result: False\n"
     ]
    },
    {
     "name": "stderr",
     "output_type": "stream",
     "text": [
      "Processing: bus 2:  43%|████▎     | 402/932 [03:48<06:42,  1.32file/s]"
     ]
    },
    {
     "name": "stdout",
     "output_type": "stream",
     "text": [
      "Vehicle Prediction: minibus\n",
      "Validation Result: False\n"
     ]
    },
    {
     "name": "stderr",
     "output_type": "stream",
     "text": [
      "Processing: bus 2:  43%|████▎     | 403/932 [03:49<07:19,  1.20file/s][codecarbon INFO @ 11:08:02] Energy consumed for RAM : 0.011796 kWh. RAM Power : 188.80178117752075 W\n",
      "[codecarbon INFO @ 11:08:02] Energy consumed for all CPUs : 0.006248 kWh. Total CPU Power : 100.0 W\n",
      "[codecarbon INFO @ 11:08:02] Energy consumed for all GPUs : 0.019008 kWh. Total GPU Power : 309.1850832708329 W\n",
      "[codecarbon INFO @ 11:08:02] 0.037053 kWh of electricity used since the beginning.\n"
     ]
    },
    {
     "name": "stdout",
     "output_type": "stream",
     "text": [
      "Vehicle Prediction: minibus\n",
      "Validation Result: False\n"
     ]
    },
    {
     "name": "stderr",
     "output_type": "stream",
     "text": [
      "Processing: bus 2:  43%|████▎     | 404/932 [03:50<07:44,  1.14file/s]"
     ]
    },
    {
     "name": "stdout",
     "output_type": "stream",
     "text": [
      "Vehicle Prediction: minibus\n",
      "Validation Result: False\n",
      "Vehicle Prediction: bus\n"
     ]
    },
    {
     "name": "stderr",
     "output_type": "stream",
     "text": [
      "Processing: bus 2:  43%|████▎     | 405/932 [03:52<10:34,  1.20s/file]"
     ]
    },
    {
     "name": "stdout",
     "output_type": "stream",
     "text": [
      "Axle Prediction: 2\n",
      "Validation Result: True\n",
      "Vehicle Prediction: bus\n"
     ]
    },
    {
     "name": "stderr",
     "output_type": "stream",
     "text": [
      "Processing: bus 2:  44%|████▎     | 406/932 [03:54<12:36,  1.44s/file]"
     ]
    },
    {
     "name": "stdout",
     "output_type": "stream",
     "text": [
      "Axle Prediction: 6\n",
      "Validation Result: False\n",
      "Vehicle Prediction: bus\n"
     ]
    },
    {
     "name": "stderr",
     "output_type": "stream",
     "text": [
      "Processing: bus 2:  44%|████▎     | 407/932 [03:56<13:59,  1.60s/file]"
     ]
    },
    {
     "name": "stdout",
     "output_type": "stream",
     "text": [
      "Axle Prediction: 2\n",
      "Validation Result: True\n",
      "Vehicle Prediction: bus\n"
     ]
    },
    {
     "name": "stderr",
     "output_type": "stream",
     "text": [
      "Processing: bus 2:  44%|████▍     | 408/932 [03:57<11:36,  1.33s/file]"
     ]
    },
    {
     "name": "stdout",
     "output_type": "stream",
     "text": [
      "Axle Prediction: 2\n",
      "Validation Result: True\n",
      "Vehicle Prediction: bus\n"
     ]
    },
    {
     "name": "stderr",
     "output_type": "stream",
     "text": [
      "Processing: bus 2:  44%|████▍     | 409/932 [03:58<13:13,  1.52s/file]"
     ]
    },
    {
     "name": "stdout",
     "output_type": "stream",
     "text": [
      "Axle Prediction: 2\n",
      "Validation Result: True\n"
     ]
    },
    {
     "name": "stderr",
     "output_type": "stream",
     "text": [
      "Processing: bus 2:  44%|████▍     | 410/932 [03:59<09:57,  1.14s/file]"
     ]
    },
    {
     "name": "stdout",
     "output_type": "stream",
     "text": [
      "Vehicle Prediction: minibus\n",
      "Validation Result: False\n"
     ]
    },
    {
     "name": "stderr",
     "output_type": "stream",
     "text": [
      "Processing: bus 2:  44%|████▍     | 411/932 [03:59<07:40,  1.13file/s]"
     ]
    },
    {
     "name": "stdout",
     "output_type": "stream",
     "text": [
      "Vehicle Prediction: minibus\n",
      "Validation Result: False\n",
      "Vehicle Prediction: bus\n"
     ]
    },
    {
     "name": "stderr",
     "output_type": "stream",
     "text": [
      "Processing: bus 2:  44%|████▍     | 412/932 [04:00<06:43,  1.29file/s]"
     ]
    },
    {
     "name": "stdout",
     "output_type": "stream",
     "text": [
      "Axle Prediction: 2\n",
      "Validation Result: True\n",
      "Vehicle Prediction: bus\n"
     ]
    },
    {
     "name": "stderr",
     "output_type": "stream",
     "text": [
      "Processing: bus 2:  44%|████▍     | 413/932 [04:00<06:04,  1.42file/s]"
     ]
    },
    {
     "name": "stdout",
     "output_type": "stream",
     "text": [
      "Axle Prediction: 4\n",
      "Validation Result: False\n",
      "Vehicle Prediction: bus\n"
     ]
    },
    {
     "name": "stderr",
     "output_type": "stream",
     "text": [
      "Processing: bus 2:  44%|████▍     | 414/932 [04:01<05:35,  1.54file/s]"
     ]
    },
    {
     "name": "stdout",
     "output_type": "stream",
     "text": [
      "Axle Prediction: 2\n",
      "Validation Result: True\n",
      "Vehicle Prediction: bus\n"
     ]
    },
    {
     "name": "stderr",
     "output_type": "stream",
     "text": [
      "Processing: bus 2:  45%|████▍     | 415/932 [04:01<05:16,  1.64file/s]"
     ]
    },
    {
     "name": "stdout",
     "output_type": "stream",
     "text": [
      "Axle Prediction: 2\n",
      "Validation Result: True\n",
      "Vehicle Prediction: bus\n"
     ]
    },
    {
     "name": "stderr",
     "output_type": "stream",
     "text": [
      "Processing: bus 2:  45%|████▍     | 416/932 [04:02<05:06,  1.69file/s]"
     ]
    },
    {
     "name": "stdout",
     "output_type": "stream",
     "text": [
      "Axle Prediction: 4\n",
      "Validation Result: False\n",
      "Vehicle Prediction: bus\n"
     ]
    },
    {
     "name": "stderr",
     "output_type": "stream",
     "text": [
      "Processing: bus 2:  45%|████▍     | 417/932 [04:02<04:54,  1.75file/s]"
     ]
    },
    {
     "name": "stdout",
     "output_type": "stream",
     "text": [
      "Axle Prediction: 4\n",
      "Validation Result: False\n",
      "Vehicle Prediction: bus\n"
     ]
    },
    {
     "name": "stderr",
     "output_type": "stream",
     "text": [
      "Processing: bus 2:  45%|████▍     | 418/932 [04:03<04:47,  1.79file/s]"
     ]
    },
    {
     "name": "stdout",
     "output_type": "stream",
     "text": [
      "Axle Prediction: 2\n",
      "Validation Result: True\n"
     ]
    },
    {
     "name": "stderr",
     "output_type": "stream",
     "text": [
      "Processing: bus 2:  45%|████▍     | 419/932 [04:03<04:06,  2.08file/s]"
     ]
    },
    {
     "name": "stdout",
     "output_type": "stream",
     "text": [
      "Vehicle Prediction: minibus\n",
      "Validation Result: False\n",
      "Vehicle Prediction: bus\n"
     ]
    },
    {
     "name": "stderr",
     "output_type": "stream",
     "text": [
      "Processing: bus 2:  45%|████▌     | 420/932 [04:04<04:12,  2.02file/s]"
     ]
    },
    {
     "name": "stdout",
     "output_type": "stream",
     "text": [
      "Axle Prediction: 2\n",
      "Validation Result: True\n"
     ]
    },
    {
     "name": "stderr",
     "output_type": "stream",
     "text": [
      "[codecarbon INFO @ 11:08:17] Energy consumed for RAM : 0.012582 kWh. RAM Power : 188.80178117752075 W\n",
      "[codecarbon INFO @ 11:08:17] Energy consumed for all CPUs : 0.006665 kWh. Total CPU Power : 100.0 W\n",
      "[codecarbon INFO @ 11:08:17] Energy consumed for all GPUs : 0.020276 kWh. Total GPU Power : 304.37237938052266 W\n",
      "[codecarbon INFO @ 11:08:17] 0.039523 kWh of electricity used since the beginning.\n",
      "[codecarbon INFO @ 11:08:17] 0.074007 g.CO2eq/s mean an estimation of 2,333.8720687534774 kg.CO2eq/year\n"
     ]
    },
    {
     "name": "stdout",
     "output_type": "stream",
     "text": [
      "Vehicle Prediction: bus\n"
     ]
    },
    {
     "name": "stderr",
     "output_type": "stream",
     "text": [
      "Processing: bus 2:  45%|████▌     | 421/932 [04:04<04:19,  1.97file/s]"
     ]
    },
    {
     "name": "stdout",
     "output_type": "stream",
     "text": [
      "Axle Prediction: 2\n",
      "Validation Result: True\n",
      "Vehicle Prediction: bus\n"
     ]
    },
    {
     "name": "stderr",
     "output_type": "stream",
     "text": [
      "Processing: bus 2:  45%|████▌     | 422/932 [04:05<04:26,  1.92file/s]"
     ]
    },
    {
     "name": "stdout",
     "output_type": "stream",
     "text": [
      "Axle Prediction: 2\n",
      "Validation Result: True\n",
      "Vehicle Prediction: bus\n"
     ]
    },
    {
     "name": "stderr",
     "output_type": "stream",
     "text": [
      "Processing: bus 2:  45%|████▌     | 423/932 [04:05<04:29,  1.89file/s]"
     ]
    },
    {
     "name": "stdout",
     "output_type": "stream",
     "text": [
      "Axle Prediction: 2\n",
      "Validation Result: True\n",
      "Vehicle Prediction: bus\n"
     ]
    },
    {
     "name": "stderr",
     "output_type": "stream",
     "text": [
      "Processing: bus 2:  45%|████▌     | 424/932 [04:06<04:37,  1.83file/s]"
     ]
    },
    {
     "name": "stdout",
     "output_type": "stream",
     "text": [
      "Axle Prediction: 2\n",
      "Validation Result: True\n",
      "Vehicle Prediction: bus\n"
     ]
    },
    {
     "name": "stderr",
     "output_type": "stream",
     "text": [
      "Processing: bus 2:  46%|████▌     | 425/932 [04:08<07:58,  1.06file/s]"
     ]
    },
    {
     "name": "stdout",
     "output_type": "stream",
     "text": [
      "Axle Prediction: 2\n",
      "Validation Result: True\n",
      "Vehicle Prediction: bus\n"
     ]
    },
    {
     "name": "stderr",
     "output_type": "stream",
     "text": [
      "Processing: bus 2:  46%|████▌     | 426/932 [04:08<07:08,  1.18file/s]"
     ]
    },
    {
     "name": "stdout",
     "output_type": "stream",
     "text": [
      "Axle Prediction: 2\n",
      "Validation Result: True\n",
      "Vehicle Prediction: bus\n"
     ]
    },
    {
     "name": "stderr",
     "output_type": "stream",
     "text": [
      "Processing: bus 2:  46%|████▌     | 427/932 [04:09<06:23,  1.32file/s]"
     ]
    },
    {
     "name": "stdout",
     "output_type": "stream",
     "text": [
      "Axle Prediction: 2\n",
      "Validation Result: True\n",
      "Vehicle Prediction: bus\n"
     ]
    },
    {
     "name": "stderr",
     "output_type": "stream",
     "text": [
      "Processing: bus 2:  46%|████▌     | 428/932 [04:11<09:09,  1.09s/file]"
     ]
    },
    {
     "name": "stdout",
     "output_type": "stream",
     "text": [
      "Axle Prediction: 2\n",
      "Validation Result: True\n",
      "Vehicle Prediction: bus\n"
     ]
    },
    {
     "name": "stderr",
     "output_type": "stream",
     "text": [
      "Processing: bus 2:  46%|████▌     | 429/932 [04:11<08:04,  1.04file/s]"
     ]
    },
    {
     "name": "stdout",
     "output_type": "stream",
     "text": [
      "Axle Prediction: 2\n",
      "Validation Result: True\n",
      "Vehicle Prediction: bus\n"
     ]
    },
    {
     "name": "stderr",
     "output_type": "stream",
     "text": [
      "Processing: bus 2:  46%|████▌     | 430/932 [04:13<10:19,  1.23s/file]"
     ]
    },
    {
     "name": "stdout",
     "output_type": "stream",
     "text": [
      "Axle Prediction: 2\n",
      "Validation Result: True\n",
      "Vehicle Prediction: bus\n"
     ]
    },
    {
     "name": "stderr",
     "output_type": "stream",
     "text": [
      "Processing: bus 2:  46%|████▌     | 431/932 [04:15<11:56,  1.43s/file]"
     ]
    },
    {
     "name": "stdout",
     "output_type": "stream",
     "text": [
      "Axle Prediction: 2\n",
      "Validation Result: True\n",
      "Vehicle Prediction: bus\n"
     ]
    },
    {
     "name": "stderr",
     "output_type": "stream",
     "text": [
      "Processing: bus 2:  46%|████▋     | 432/932 [04:17<13:03,  1.57s/file]"
     ]
    },
    {
     "name": "stdout",
     "output_type": "stream",
     "text": [
      "Axle Prediction: 2\n",
      "Validation Result: True\n",
      "Vehicle Prediction: bus\n"
     ]
    },
    {
     "name": "stderr",
     "output_type": "stream",
     "text": [
      "Processing: bus 2:  46%|████▋     | 433/932 [04:18<10:29,  1.26s/file]"
     ]
    },
    {
     "name": "stdout",
     "output_type": "stream",
     "text": [
      "Axle Prediction: 2\n",
      "Validation Result: True\n",
      "Vehicle Prediction: bus\n"
     ]
    },
    {
     "name": "stderr",
     "output_type": "stream",
     "text": [
      "[codecarbon INFO @ 11:08:32] Energy consumed for RAM : 0.013369 kWh. RAM Power : 188.80178117752075 W\n",
      "[codecarbon INFO @ 11:08:32] Energy consumed for all CPUs : 0.007082 kWh. Total CPU Power : 100.0 W\n",
      "[codecarbon INFO @ 11:08:32] Energy consumed for all GPUs : 0.021571 kWh. Total GPU Power : 310.8661229338168 W\n",
      "[codecarbon INFO @ 11:08:32] 0.042021 kWh of electricity used since the beginning.\n",
      "Processing: bus 2:  47%|████▋     | 434/932 [04:20<12:15,  1.48s/file]"
     ]
    },
    {
     "name": "stdout",
     "output_type": "stream",
     "text": [
      "Axle Prediction: 2\n",
      "Validation Result: True\n",
      "Vehicle Prediction: bus\n"
     ]
    },
    {
     "name": "stderr",
     "output_type": "stream",
     "text": [
      "Processing: bus 2:  47%|████▋     | 435/932 [04:20<10:11,  1.23s/file]"
     ]
    },
    {
     "name": "stdout",
     "output_type": "stream",
     "text": [
      "Axle Prediction: 2\n",
      "Validation Result: True\n",
      "Vehicle Prediction: bus\n"
     ]
    },
    {
     "name": "stderr",
     "output_type": "stream",
     "text": [
      "Processing: bus 2:  47%|████▋     | 436/932 [04:22<11:44,  1.42s/file]"
     ]
    },
    {
     "name": "stdout",
     "output_type": "stream",
     "text": [
      "Axle Prediction: 3\n",
      "Validation Result: False\n",
      "Vehicle Prediction: bus\n"
     ]
    },
    {
     "name": "stderr",
     "output_type": "stream",
     "text": [
      "Processing: bus 2:  47%|████▋     | 437/932 [04:24<12:50,  1.56s/file]"
     ]
    },
    {
     "name": "stdout",
     "output_type": "stream",
     "text": [
      "Axle Prediction: 2\n",
      "Validation Result: True\n",
      "Vehicle Prediction: bus\n"
     ]
    },
    {
     "name": "stderr",
     "output_type": "stream",
     "text": [
      "Processing: bus 2:  47%|████▋     | 438/932 [04:26<13:37,  1.65s/file]"
     ]
    },
    {
     "name": "stdout",
     "output_type": "stream",
     "text": [
      "Axle Prediction: 2\n",
      "Validation Result: True\n",
      "Vehicle Prediction: bus\n"
     ]
    },
    {
     "name": "stderr",
     "output_type": "stream",
     "text": [
      "Processing: bus 2:  47%|████▋     | 439/932 [04:28<14:08,  1.72s/file]"
     ]
    },
    {
     "name": "stdout",
     "output_type": "stream",
     "text": [
      "Axle Prediction: 2\n",
      "Validation Result: True\n",
      "Vehicle Prediction: bus\n"
     ]
    },
    {
     "name": "stderr",
     "output_type": "stream",
     "text": [
      "Processing: bus 2:  47%|████▋     | 440/932 [04:30<14:28,  1.77s/file]"
     ]
    },
    {
     "name": "stdout",
     "output_type": "stream",
     "text": [
      "Axle Prediction: 2\n",
      "Validation Result: True\n",
      "Vehicle Prediction: bus\n"
     ]
    },
    {
     "name": "stderr",
     "output_type": "stream",
     "text": [
      "Processing: bus 2:  47%|████▋     | 441/932 [04:31<14:45,  1.80s/file]"
     ]
    },
    {
     "name": "stdout",
     "output_type": "stream",
     "text": [
      "Axle Prediction: 4\n",
      "Validation Result: False\n",
      "Vehicle Prediction: bus\n"
     ]
    },
    {
     "name": "stderr",
     "output_type": "stream",
     "text": [
      "Processing: truck 2:  47%|████▋     | 442/932 [04:32<11:40,  1.43s/file]"
     ]
    },
    {
     "name": "stdout",
     "output_type": "stream",
     "text": [
      "Axle Prediction: 2\n",
      "Validation Result: True\n",
      "Vehicle Prediction: truck\n",
      "Is Pickup Truck: yes.\n"
     ]
    },
    {
     "name": "stderr",
     "output_type": "stream",
     "text": [
      "[codecarbon INFO @ 11:08:47] Energy consumed for RAM : 0.014155 kWh. RAM Power : 188.80178117752075 W\n",
      "[codecarbon INFO @ 11:08:47] Energy consumed for all CPUs : 0.007498 kWh. Total CPU Power : 100.0 W\n",
      "[codecarbon INFO @ 11:08:47] Energy consumed for all GPUs : 0.022887 kWh. Total GPU Power : 316.00747425625025 W\n",
      "[codecarbon INFO @ 11:08:47] 0.044540 kWh of electricity used since the beginning.\n",
      "Processing: truck 2:  48%|████▊     | 443/932 [04:34<14:09,  1.74s/file]"
     ]
    },
    {
     "name": "stdout",
     "output_type": "stream",
     "text": [
      "Axle Prediction: 2\n",
      "Validation Result: True\n",
      "Vehicle Prediction: truck\n",
      "Is Pickup Truck: yes.\n"
     ]
    },
    {
     "name": "stderr",
     "output_type": "stream",
     "text": [
      "Processing: truck 2:  48%|████▊     | 444/932 [04:35<12:23,  1.52s/file]"
     ]
    },
    {
     "name": "stdout",
     "output_type": "stream",
     "text": [
      "Axle Prediction: 2\n",
      "Validation Result: True\n",
      "Vehicle Prediction: truck\n",
      "Is Pickup Truck: yes.\n"
     ]
    },
    {
     "name": "stderr",
     "output_type": "stream",
     "text": [
      "Processing: truck 2:  48%|████▊     | 445/932 [04:38<14:14,  1.75s/file]"
     ]
    },
    {
     "name": "stdout",
     "output_type": "stream",
     "text": [
      "Axle Prediction: 2\n",
      "Validation Result: True\n",
      "Vehicle Prediction: truck\n",
      "Is Pickup Truck: no.\n"
     ]
    },
    {
     "name": "stderr",
     "output_type": "stream",
     "text": [
      "Processing: truck 2:  48%|████▊     | 446/932 [04:40<15:10,  1.87s/file]"
     ]
    },
    {
     "name": "stdout",
     "output_type": "stream",
     "text": [
      "Axle Prediction: 2\n",
      "Validation Result: True\n",
      "Vehicle Prediction: truck\n",
      "Is Pickup Truck: yes.\n"
     ]
    },
    {
     "name": "stderr",
     "output_type": "stream",
     "text": [
      "Processing: truck 2:  48%|████▊     | 447/932 [04:43<17:42,  2.19s/file]"
     ]
    },
    {
     "name": "stdout",
     "output_type": "stream",
     "text": [
      "Axle Prediction: 2\n",
      "Validation Result: True\n",
      "Vehicle Prediction: truck\n",
      "Is Pickup Truck: no\n"
     ]
    },
    {
     "name": "stderr",
     "output_type": "stream",
     "text": [
      "Processing: truck 2:  48%|████▊     | 448/932 [04:46<20:02,  2.48s/file]"
     ]
    },
    {
     "name": "stdout",
     "output_type": "stream",
     "text": [
      "Axle Prediction: 2\n",
      "Validation Result: True\n",
      "Vehicle Prediction: truck\n",
      "Is Pickup Truck: yes.\n"
     ]
    },
    {
     "name": "stderr",
     "output_type": "stream",
     "text": [
      "Processing: truck 2:  48%|████▊     | 449/932 [04:48<19:10,  2.38s/file]"
     ]
    },
    {
     "name": "stdout",
     "output_type": "stream",
     "text": [
      "Axle Prediction: 2\n",
      "Validation Result: True\n"
     ]
    },
    {
     "name": "stderr",
     "output_type": "stream",
     "text": [
      "[codecarbon INFO @ 11:09:02] Energy consumed for RAM : 0.014941 kWh. RAM Power : 188.80178117752075 W\n",
      "[codecarbon INFO @ 11:09:02] Energy consumed for all CPUs : 0.007915 kWh. Total CPU Power : 100.0 W\n",
      "[codecarbon INFO @ 11:09:02] Energy consumed for all GPUs : 0.024189 kWh. Total GPU Power : 312.4539397803861 W\n",
      "[codecarbon INFO @ 11:09:02] 0.047045 kWh of electricity used since the beginning.\n"
     ]
    },
    {
     "name": "stdout",
     "output_type": "stream",
     "text": [
      "Vehicle Prediction: truck\n"
     ]
    },
    {
     "name": "stderr",
     "output_type": "stream",
     "text": [
      "Processing: truck 2:  48%|████▊     | 450/932 [04:50<16:53,  2.10s/file]"
     ]
    },
    {
     "name": "stdout",
     "output_type": "stream",
     "text": [
      "Is Pickup Truck: yes\n",
      "Validation Result: False\n",
      "Vehicle Prediction: truck\n",
      "Is Pickup Truck: no.\n"
     ]
    },
    {
     "name": "stderr",
     "output_type": "stream",
     "text": [
      "Processing: truck 2:  48%|████▊     | 451/932 [04:53<19:11,  2.39s/file]"
     ]
    },
    {
     "name": "stdout",
     "output_type": "stream",
     "text": [
      "Axle Prediction: 2\n",
      "Validation Result: True\n",
      "Vehicle Prediction: truck\n",
      "Is Pickup Truck: no\n"
     ]
    },
    {
     "name": "stderr",
     "output_type": "stream",
     "text": [
      "Processing: truck 2:  48%|████▊     | 452/932 [04:54<16:22,  2.05s/file]"
     ]
    },
    {
     "name": "stdout",
     "output_type": "stream",
     "text": [
      "Axle Prediction: 2\n",
      "Validation Result: True\n",
      "Vehicle Prediction: truck\n",
      "Is Pickup Truck: yes.\n"
     ]
    },
    {
     "name": "stderr",
     "output_type": "stream",
     "text": [
      "Processing: truck 2:  49%|████▊     | 453/932 [04:56<16:52,  2.11s/file]"
     ]
    },
    {
     "name": "stdout",
     "output_type": "stream",
     "text": [
      "Axle Prediction: 2\n",
      "Validation Result: True\n",
      "Vehicle Prediction: truck\n",
      "Is Pickup Truck: yes.\n"
     ]
    },
    {
     "name": "stderr",
     "output_type": "stream",
     "text": [
      "Processing: truck 2:  49%|████▊     | 454/932 [04:58<16:58,  2.13s/file]"
     ]
    },
    {
     "name": "stdout",
     "output_type": "stream",
     "text": [
      "Axle Prediction: 2\n",
      "Validation Result: True\n",
      "Vehicle Prediction: truck\n",
      "Is Pickup Truck: yes.\n"
     ]
    },
    {
     "name": "stderr",
     "output_type": "stream",
     "text": [
      "Processing: truck 2:  49%|████▉     | 455/932 [05:01<17:02,  2.14s/file]"
     ]
    },
    {
     "name": "stdout",
     "output_type": "stream",
     "text": [
      "Axle Prediction: 2\n",
      "Validation Result: True\n",
      "Vehicle Prediction: truck\n",
      "Is Pickup Truck: no\n"
     ]
    },
    {
     "name": "stderr",
     "output_type": "stream",
     "text": [
      "Processing: truck 2:  49%|████▉     | 456/932 [05:02<14:35,  1.84s/file]"
     ]
    },
    {
     "name": "stdout",
     "output_type": "stream",
     "text": [
      "Axle Prediction: 2\n",
      "Validation Result: True\n",
      "Vehicle Prediction: truck\n",
      "Is Pickup Truck: no.\n"
     ]
    },
    {
     "name": "stderr",
     "output_type": "stream",
     "text": [
      "Processing: truck 2:  49%|████▉     | 457/932 [05:03<13:28,  1.70s/file]"
     ]
    },
    {
     "name": "stdout",
     "output_type": "stream",
     "text": [
      "Axle Prediction: 2\n",
      "Validation Result: True\n"
     ]
    },
    {
     "name": "stderr",
     "output_type": "stream",
     "text": [
      "[codecarbon INFO @ 11:09:17] Energy consumed for RAM : 0.015728 kWh. RAM Power : 188.80178117752075 W\n",
      "[codecarbon INFO @ 11:09:17] Energy consumed for all CPUs : 0.008331 kWh. Total CPU Power : 100.0 W\n",
      "[codecarbon INFO @ 11:09:17] Energy consumed for all GPUs : 0.025506 kWh. Total GPU Power : 316.1698552428069 W\n",
      "[codecarbon INFO @ 11:09:17] 0.049565 kWh of electricity used since the beginning.\n"
     ]
    },
    {
     "name": "stdout",
     "output_type": "stream",
     "text": [
      "Vehicle Prediction: truck\n",
      "Is Pickup Truck: no\n"
     ]
    },
    {
     "name": "stderr",
     "output_type": "stream",
     "text": [
      "Processing: truck 2:  49%|████▉     | 458/932 [05:06<16:35,  2.10s/file]"
     ]
    },
    {
     "name": "stdout",
     "output_type": "stream",
     "text": [
      "Axle Prediction: 2\n",
      "Validation Result: True\n",
      "Vehicle Prediction: truck\n",
      "Is Pickup Truck: no\n"
     ]
    },
    {
     "name": "stderr",
     "output_type": "stream",
     "text": [
      "Processing: truck 2:  49%|████▉     | 459/932 [05:07<14:53,  1.89s/file]"
     ]
    },
    {
     "name": "stdout",
     "output_type": "stream",
     "text": [
      "Axle Prediction: 2\n",
      "Validation Result: True\n",
      "Vehicle Prediction: truck\n",
      "Is Pickup Truck: no\n"
     ]
    },
    {
     "name": "stderr",
     "output_type": "stream",
     "text": [
      "Processing: truck 2:  49%|████▉     | 460/932 [05:09<12:58,  1.65s/file]"
     ]
    },
    {
     "name": "stdout",
     "output_type": "stream",
     "text": [
      "Axle Prediction: 2\n",
      "Validation Result: True\n",
      "Vehicle Prediction: truck\n",
      "Is Pickup Truck: no.\n"
     ]
    },
    {
     "name": "stderr",
     "output_type": "stream",
     "text": [
      "Processing: truck 2:  49%|████▉     | 461/932 [05:10<11:38,  1.48s/file]"
     ]
    },
    {
     "name": "stdout",
     "output_type": "stream",
     "text": [
      "Axle Prediction: 2\n",
      "Validation Result: True\n",
      "Vehicle Prediction: truck\n",
      "Is Pickup Truck: no.\n"
     ]
    },
    {
     "name": "stderr",
     "output_type": "stream",
     "text": [
      "Processing: truck 2:  50%|████▉     | 462/932 [05:11<11:01,  1.41s/file]"
     ]
    },
    {
     "name": "stdout",
     "output_type": "stream",
     "text": [
      "Axle Prediction: 2\n",
      "Validation Result: True\n"
     ]
    },
    {
     "name": "stderr",
     "output_type": "stream",
     "text": [
      "Processing: truck 2:  50%|████▉     | 463/932 [05:11<08:35,  1.10s/file]"
     ]
    },
    {
     "name": "stdout",
     "output_type": "stream",
     "text": [
      "Vehicle Prediction: tow\n",
      "Validation Result: False\n",
      "Vehicle Prediction: truck\n",
      "Is Pickup Truck: no.\n"
     ]
    },
    {
     "name": "stderr",
     "output_type": "stream",
     "text": [
      "Processing: truck 2:  50%|████▉     | 464/932 [05:13<09:14,  1.19s/file]"
     ]
    },
    {
     "name": "stdout",
     "output_type": "stream",
     "text": [
      "Axle Prediction: 2\n",
      "Validation Result: True\n",
      "Vehicle Prediction: truck\n",
      "Is Pickup Truck: yes.\n"
     ]
    },
    {
     "name": "stderr",
     "output_type": "stream",
     "text": [
      "Processing: truck 2:  50%|████▉     | 465/932 [05:14<09:40,  1.24s/file]"
     ]
    },
    {
     "name": "stdout",
     "output_type": "stream",
     "text": [
      "Axle Prediction: 2\n",
      "Validation Result: True\n",
      "Vehicle Prediction: truck\n",
      "Is Pickup Truck: no.\n"
     ]
    },
    {
     "name": "stderr",
     "output_type": "stream",
     "text": [
      "Processing: truck 2:  50%|█████     | 466/932 [05:17<13:27,  1.73s/file]"
     ]
    },
    {
     "name": "stdout",
     "output_type": "stream",
     "text": [
      "Axle Prediction: 2\n",
      "Validation Result: True\n",
      "Vehicle Prediction: truck\n",
      "Is Pickup Truck: no\n"
     ]
    },
    {
     "name": "stderr",
     "output_type": "stream",
     "text": [
      "Processing: truck 2:  50%|█████     | 467/932 [05:18<12:02,  1.55s/file]"
     ]
    },
    {
     "name": "stdout",
     "output_type": "stream",
     "text": [
      "Axle Prediction: 2\n",
      "Validation Result: True\n"
     ]
    },
    {
     "name": "stderr",
     "output_type": "stream",
     "text": [
      "[codecarbon INFO @ 11:09:32] Energy consumed for RAM : 0.016514 kWh. RAM Power : 188.80178117752075 W\n",
      "[codecarbon INFO @ 11:09:32] Energy consumed for all CPUs : 0.008748 kWh. Total CPU Power : 100.0 W\n",
      "[codecarbon INFO @ 11:09:32] Energy consumed for all GPUs : 0.026813 kWh. Total GPU Power : 313.7430093260841 W\n",
      "[codecarbon INFO @ 11:09:32] 0.052075 kWh of electricity used since the beginning.\n"
     ]
    },
    {
     "name": "stdout",
     "output_type": "stream",
     "text": [
      "Vehicle Prediction: truck\n",
      "Is Pickup Truck: no\n"
     ]
    },
    {
     "name": "stderr",
     "output_type": "stream",
     "text": [
      "Processing: truck 2:  50%|█████     | 468/932 [05:21<15:15,  1.97s/file]"
     ]
    },
    {
     "name": "stdout",
     "output_type": "stream",
     "text": [
      "Axle Prediction: 2\n",
      "Validation Result: True\n",
      "Vehicle Prediction: truck\n",
      "Is Pickup Truck: no.\n"
     ]
    },
    {
     "name": "stderr",
     "output_type": "stream",
     "text": [
      "Processing: truck 2:  50%|█████     | 469/932 [05:23<15:49,  2.05s/file]"
     ]
    },
    {
     "name": "stdout",
     "output_type": "stream",
     "text": [
      "Axle Prediction: 2\n",
      "Validation Result: True\n",
      "Vehicle Prediction: truck\n",
      "Is Pickup Truck: no.\n"
     ]
    },
    {
     "name": "stderr",
     "output_type": "stream",
     "text": [
      "Processing: truck 2:  50%|█████     | 470/932 [05:24<13:01,  1.69s/file]"
     ]
    },
    {
     "name": "stdout",
     "output_type": "stream",
     "text": [
      "Axle Prediction: 2\n",
      "Validation Result: True\n",
      "Vehicle Prediction: truck\n",
      "Is Pickup Truck: no.\n"
     ]
    },
    {
     "name": "stderr",
     "output_type": "stream",
     "text": [
      "Processing: truck 2:  51%|█████     | 471/932 [05:26<13:00,  1.69s/file]"
     ]
    },
    {
     "name": "stdout",
     "output_type": "stream",
     "text": [
      "Axle Prediction: 2\n",
      "Validation Result: True\n",
      "Vehicle Prediction: truck\n",
      "Is Pickup Truck: no\n"
     ]
    },
    {
     "name": "stderr",
     "output_type": "stream",
     "text": [
      "Processing: truck 2:  51%|█████     | 472/932 [05:28<14:01,  1.83s/file]"
     ]
    },
    {
     "name": "stdout",
     "output_type": "stream",
     "text": [
      "Axle Prediction: 2\n",
      "Validation Result: True\n",
      "Vehicle Prediction: truck\n"
     ]
    },
    {
     "name": "stderr",
     "output_type": "stream",
     "text": [
      "Processing: truck 2:  51%|█████     | 473/932 [05:29<13:07,  1.72s/file]"
     ]
    },
    {
     "name": "stdout",
     "output_type": "stream",
     "text": [
      "Is Pickup Truck: yes\n",
      "Validation Result: False\n",
      "Vehicle Prediction: truck\n",
      "Is Pickup Truck: no\n"
     ]
    },
    {
     "name": "stderr",
     "output_type": "stream",
     "text": [
      "Processing: truck 2:  51%|█████     | 474/932 [05:30<11:06,  1.46s/file]"
     ]
    },
    {
     "name": "stdout",
     "output_type": "stream",
     "text": [
      "Axle Prediction: 2\n",
      "Validation Result: True\n",
      "Vehicle Prediction: truck\n"
     ]
    },
    {
     "name": "stderr",
     "output_type": "stream",
     "text": [
      "Processing: truck 2:  51%|█████     | 475/932 [05:32<11:01,  1.45s/file]"
     ]
    },
    {
     "name": "stdout",
     "output_type": "stream",
     "text": [
      "Is Pickup Truck: yes\n",
      "Validation Result: False\n",
      "Vehicle Prediction: truck\n"
     ]
    },
    {
     "name": "stderr",
     "output_type": "stream",
     "text": [
      "Processing: truck 2:  51%|█████     | 476/932 [05:33<10:04,  1.32s/file]"
     ]
    },
    {
     "name": "stdout",
     "output_type": "stream",
     "text": [
      "Is Pickup Truck: yes\n",
      "Validation Result: False\n",
      "Vehicle Prediction: truck\n"
     ]
    },
    {
     "name": "stderr",
     "output_type": "stream",
     "text": [
      "[codecarbon INFO @ 11:09:47] Energy consumed for RAM : 0.017301 kWh. RAM Power : 188.80178117752075 W\n",
      "[codecarbon INFO @ 11:09:47] Energy consumed for all CPUs : 0.009164 kWh. Total CPU Power : 100.0 W\n",
      "[codecarbon INFO @ 11:09:47] Energy consumed for all GPUs : 0.028132 kWh. Total GPU Power : 316.8129797914428 W\n",
      "[codecarbon INFO @ 11:09:47] 0.054597 kWh of electricity used since the beginning.\n"
     ]
    },
    {
     "name": "stdout",
     "output_type": "stream",
     "text": [
      "Is Pickup Truck: no.\n"
     ]
    },
    {
     "name": "stderr",
     "output_type": "stream",
     "text": [
      "Processing: truck 2:  51%|█████     | 477/932 [05:34<10:54,  1.44s/file]"
     ]
    },
    {
     "name": "stdout",
     "output_type": "stream",
     "text": [
      "Axle Prediction: 2\n",
      "Validation Result: True\n",
      "Vehicle Prediction: truck\n",
      "Is Pickup Truck: no.\n"
     ]
    },
    {
     "name": "stderr",
     "output_type": "stream",
     "text": [
      "Processing: truck 2:  51%|█████▏    | 478/932 [05:36<11:28,  1.52s/file]"
     ]
    },
    {
     "name": "stdout",
     "output_type": "stream",
     "text": [
      "Axle Prediction: 2\n",
      "Validation Result: True\n",
      "Vehicle Prediction: truck\n",
      "Is Pickup Truck: no\n"
     ]
    },
    {
     "name": "stderr",
     "output_type": "stream",
     "text": [
      "Processing: truck 2:  51%|█████▏    | 479/932 [05:37<09:51,  1.31s/file]"
     ]
    },
    {
     "name": "stdout",
     "output_type": "stream",
     "text": [
      "Axle Prediction: 4\n",
      "Validation Result: False\n",
      "Vehicle Prediction: truck\n",
      "Is Pickup Truck: no.\n"
     ]
    },
    {
     "name": "stderr",
     "output_type": "stream",
     "text": [
      "Processing: truck 2:  52%|█████▏    | 480/932 [05:39<10:44,  1.43s/file]"
     ]
    },
    {
     "name": "stdout",
     "output_type": "stream",
     "text": [
      "Axle Prediction: 2\n",
      "Validation Result: True\n",
      "Vehicle Prediction: truck\n",
      "Is Pickup Truck: no.\n"
     ]
    },
    {
     "name": "stderr",
     "output_type": "stream",
     "text": [
      "Processing: truck 2:  52%|█████▏    | 481/932 [05:42<14:09,  1.88s/file]"
     ]
    },
    {
     "name": "stdout",
     "output_type": "stream",
     "text": [
      "Axle Prediction: 2\n",
      "Validation Result: True\n",
      "Vehicle Prediction: truck\n",
      "Is Pickup Truck: yes.\n"
     ]
    },
    {
     "name": "stderr",
     "output_type": "stream",
     "text": [
      "Processing: truck 2:  52%|█████▏    | 482/932 [05:45<16:35,  2.21s/file]"
     ]
    },
    {
     "name": "stdout",
     "output_type": "stream",
     "text": [
      "Axle Prediction: 2\n",
      "Validation Result: True\n",
      "Vehicle Prediction: truck\n",
      "Is Pickup Truck: no\n"
     ]
    },
    {
     "name": "stderr",
     "output_type": "stream",
     "text": [
      "Processing: truck 2:  52%|█████▏    | 483/932 [05:45<13:35,  1.82s/file]"
     ]
    },
    {
     "name": "stdout",
     "output_type": "stream",
     "text": [
      "Axle Prediction: 2\n",
      "Validation Result: True\n",
      "Vehicle Prediction: truck\n",
      "Is Pickup Truck: no\n"
     ]
    },
    {
     "name": "stderr",
     "output_type": "stream",
     "text": [
      "Processing: truck 2:  52%|█████▏    | 484/932 [05:46<11:20,  1.52s/file]"
     ]
    },
    {
     "name": "stdout",
     "output_type": "stream",
     "text": [
      "Axle Prediction: 2\n",
      "Validation Result: True\n",
      "Vehicle Prediction: truck\n",
      "Is Pickup Truck: no.\n"
     ]
    },
    {
     "name": "stderr",
     "output_type": "stream",
     "text": [
      "Processing: truck 2:  52%|█████▏    | 485/932 [05:47<09:46,  1.31s/file]"
     ]
    },
    {
     "name": "stdout",
     "output_type": "stream",
     "text": [
      "Axle Prediction: 2\n",
      "Validation Result: True\n",
      "Vehicle Prediction: truck\n",
      "Is Pickup Truck: no.\n"
     ]
    },
    {
     "name": "stderr",
     "output_type": "stream",
     "text": [
      "Processing: truck 2:  52%|█████▏    | 486/932 [05:48<08:40,  1.17s/file]"
     ]
    },
    {
     "name": "stdout",
     "output_type": "stream",
     "text": [
      "Axle Prediction: 2\n",
      "Validation Result: True\n",
      "Vehicle Prediction: truck\n",
      "Is Pickup Truck: no.\n"
     ]
    },
    {
     "name": "stderr",
     "output_type": "stream",
     "text": [
      "Processing: truck 2:  52%|█████▏    | 487/932 [05:49<07:52,  1.06s/file]"
     ]
    },
    {
     "name": "stdout",
     "output_type": "stream",
     "text": [
      "Axle Prediction: 2\n",
      "Validation Result: True\n"
     ]
    },
    {
     "name": "stderr",
     "output_type": "stream",
     "text": [
      "[codecarbon INFO @ 11:10:02] Energy consumed for RAM : 0.018087 kWh. RAM Power : 188.80178117752075 W\n",
      "[codecarbon INFO @ 11:10:02] Energy consumed for all CPUs : 0.009581 kWh. Total CPU Power : 100.0 W\n",
      "[codecarbon INFO @ 11:10:02] Energy consumed for all GPUs : 0.029439 kWh. Total GPU Power : 313.59159454461854 W\n",
      "[codecarbon INFO @ 11:10:02] 0.057106 kWh of electricity used since the beginning.\n"
     ]
    },
    {
     "name": "stdout",
     "output_type": "stream",
     "text": [
      "Vehicle Prediction: truck\n",
      "Is Pickup Truck: no\n"
     ]
    },
    {
     "name": "stderr",
     "output_type": "stream",
     "text": [
      "Processing: truck 2:  52%|█████▏    | 488/932 [05:50<07:21,  1.01file/s]"
     ]
    },
    {
     "name": "stdout",
     "output_type": "stream",
     "text": [
      "Axle Prediction: 2\n",
      "Validation Result: True\n",
      "Vehicle Prediction: truck\n",
      "Is Pickup Truck: no\n"
     ]
    },
    {
     "name": "stderr",
     "output_type": "stream",
     "text": [
      "Processing: truck 2:  52%|█████▏    | 489/932 [05:50<06:58,  1.06file/s]"
     ]
    },
    {
     "name": "stdout",
     "output_type": "stream",
     "text": [
      "Axle Prediction: 2\n",
      "Validation Result: True\n",
      "Vehicle Prediction: truck\n",
      "Is Pickup Truck: no\n"
     ]
    },
    {
     "name": "stderr",
     "output_type": "stream",
     "text": [
      "Processing: truck 2:  53%|█████▎    | 490/932 [05:51<06:41,  1.10file/s]"
     ]
    },
    {
     "name": "stdout",
     "output_type": "stream",
     "text": [
      "Axle Prediction: 2\n",
      "Validation Result: True\n",
      "Vehicle Prediction: truck\n",
      "Is Pickup Truck: no\n"
     ]
    },
    {
     "name": "stderr",
     "output_type": "stream",
     "text": [
      "Processing: truck 2:  53%|█████▎    | 491/932 [05:52<06:28,  1.13file/s]"
     ]
    },
    {
     "name": "stdout",
     "output_type": "stream",
     "text": [
      "Axle Prediction: 2\n",
      "Validation Result: True\n",
      "Vehicle Prediction: truck\n",
      "Is Pickup Truck: no\n"
     ]
    },
    {
     "name": "stderr",
     "output_type": "stream",
     "text": [
      "Processing: truck 2:  53%|█████▎    | 492/932 [05:53<06:23,  1.15file/s]"
     ]
    },
    {
     "name": "stdout",
     "output_type": "stream",
     "text": [
      "Axle Prediction: 6\n",
      "Validation Result: False\n",
      "Vehicle Prediction: truck\n",
      "Is Pickup Truck: no\n"
     ]
    },
    {
     "name": "stderr",
     "output_type": "stream",
     "text": [
      "Processing: truck 2:  53%|█████▎    | 493/932 [05:54<06:15,  1.17file/s]"
     ]
    },
    {
     "name": "stdout",
     "output_type": "stream",
     "text": [
      "Axle Prediction: 2\n",
      "Validation Result: True\n",
      "Vehicle Prediction: truck\n",
      "Is Pickup Truck: no\n"
     ]
    },
    {
     "name": "stderr",
     "output_type": "stream",
     "text": [
      "Processing: truck 2:  53%|█████▎    | 494/932 [05:55<06:10,  1.18file/s]"
     ]
    },
    {
     "name": "stdout",
     "output_type": "stream",
     "text": [
      "Axle Prediction: 3\n",
      "Validation Result: False\n",
      "Vehicle Prediction: truck\n",
      "Is Pickup Truck: no\n"
     ]
    },
    {
     "name": "stderr",
     "output_type": "stream",
     "text": [
      "Processing: truck 2:  53%|█████▎    | 495/932 [05:55<06:05,  1.20file/s]"
     ]
    },
    {
     "name": "stdout",
     "output_type": "stream",
     "text": [
      "Axle Prediction: 2\n",
      "Validation Result: True\n",
      "Vehicle Prediction: truck\n",
      "Is Pickup Truck: no\n"
     ]
    },
    {
     "name": "stderr",
     "output_type": "stream",
     "text": [
      "Processing: truck 2:  53%|█████▎    | 496/932 [05:56<06:01,  1.21file/s]"
     ]
    },
    {
     "name": "stdout",
     "output_type": "stream",
     "text": [
      "Axle Prediction: 3\n",
      "Validation Result: False\n",
      "Vehicle Prediction: truck\n",
      "Is Pickup Truck: no\n"
     ]
    },
    {
     "name": "stderr",
     "output_type": "stream",
     "text": [
      "Processing: truck 2:  53%|█████▎    | 497/932 [05:57<05:57,  1.22file/s]"
     ]
    },
    {
     "name": "stdout",
     "output_type": "stream",
     "text": [
      "Axle Prediction: 2\n",
      "Validation Result: True\n",
      "Vehicle Prediction: truck\n",
      "Is Pickup Truck: no\n"
     ]
    },
    {
     "name": "stderr",
     "output_type": "stream",
     "text": [
      "Processing: truck 2:  53%|█████▎    | 498/932 [05:58<05:53,  1.23file/s]"
     ]
    },
    {
     "name": "stdout",
     "output_type": "stream",
     "text": [
      "Axle Prediction: 2\n",
      "Validation Result: True\n",
      "Vehicle Prediction: truck\n",
      "Is Pickup Truck: no\n"
     ]
    },
    {
     "name": "stderr",
     "output_type": "stream",
     "text": [
      "Processing: truck 2:  54%|█████▎    | 499/932 [05:59<05:52,  1.23file/s]"
     ]
    },
    {
     "name": "stdout",
     "output_type": "stream",
     "text": [
      "Axle Prediction: 4\n",
      "Validation Result: False\n",
      "Vehicle Prediction: truck\n",
      "Is Pickup Truck: no\n"
     ]
    },
    {
     "name": "stderr",
     "output_type": "stream",
     "text": [
      "Processing: truck 2:  54%|█████▎    | 500/932 [05:59<05:56,  1.21file/s]"
     ]
    },
    {
     "name": "stdout",
     "output_type": "stream",
     "text": [
      "Axle Prediction: 2\n",
      "Validation Result: True\n",
      "Vehicle Prediction: truck\n",
      "Is Pickup Truck: no\n"
     ]
    },
    {
     "name": "stderr",
     "output_type": "stream",
     "text": [
      "Processing: truck 2:  54%|█████▍    | 501/932 [06:00<05:54,  1.22file/s]"
     ]
    },
    {
     "name": "stdout",
     "output_type": "stream",
     "text": [
      "Axle Prediction: 4\n",
      "Validation Result: False\n",
      "Vehicle Prediction: truck\n",
      "Is Pickup Truck: no.\n"
     ]
    },
    {
     "name": "stderr",
     "output_type": "stream",
     "text": [
      "Processing: truck 2:  54%|█████▍    | 502/932 [06:01<05:53,  1.22file/s]"
     ]
    },
    {
     "name": "stdout",
     "output_type": "stream",
     "text": [
      "Axle Prediction: 2\n",
      "Validation Result: True\n",
      "Vehicle Prediction: truck\n",
      "Is Pickup Truck: no.\n"
     ]
    },
    {
     "name": "stderr",
     "output_type": "stream",
     "text": [
      "Processing: truck 2:  54%|█████▍    | 503/932 [06:02<05:52,  1.22file/s]"
     ]
    },
    {
     "name": "stdout",
     "output_type": "stream",
     "text": [
      "Axle Prediction: 2\n",
      "Validation Result: True\n",
      "Vehicle Prediction: truck\n",
      "Is Pickup Truck: no\n"
     ]
    },
    {
     "name": "stderr",
     "output_type": "stream",
     "text": [
      "Processing: truck 2:  54%|█████▍    | 504/932 [06:03<05:53,  1.21file/s]"
     ]
    },
    {
     "name": "stdout",
     "output_type": "stream",
     "text": [
      "Axle Prediction: 3\n",
      "Validation Result: False\n",
      "Vehicle Prediction: truck\n",
      "Is Pickup Truck: no.\n"
     ]
    },
    {
     "name": "stderr",
     "output_type": "stream",
     "text": [
      "Processing: truck 2:  54%|█████▍    | 505/932 [06:04<05:51,  1.22file/s]"
     ]
    },
    {
     "name": "stdout",
     "output_type": "stream",
     "text": [
      "Axle Prediction: 2\n",
      "Validation Result: True\n"
     ]
    },
    {
     "name": "stderr",
     "output_type": "stream",
     "text": [
      "[codecarbon INFO @ 11:10:17] Energy consumed for RAM : 0.018873 kWh. RAM Power : 188.80178117752075 W\n",
      "[codecarbon INFO @ 11:10:17] Energy consumed for all CPUs : 0.009997 kWh. Total CPU Power : 100.0 W\n",
      "[codecarbon INFO @ 11:10:17] Energy consumed for all GPUs : 0.030646 kWh. Total GPU Power : 289.7508116448787 W\n",
      "[codecarbon INFO @ 11:10:17] 0.059516 kWh of electricity used since the beginning.\n",
      "[codecarbon INFO @ 11:10:17] 0.074926 g.CO2eq/s mean an estimation of 2,362.8506460391186 kg.CO2eq/year\n"
     ]
    },
    {
     "name": "stdout",
     "output_type": "stream",
     "text": [
      "Vehicle Prediction: truck\n",
      "Is Pickup Truck: no\n"
     ]
    },
    {
     "name": "stderr",
     "output_type": "stream",
     "text": [
      "Processing: truck 2:  54%|█████▍    | 506/932 [06:04<05:48,  1.22file/s]"
     ]
    },
    {
     "name": "stdout",
     "output_type": "stream",
     "text": [
      "Axle Prediction: 2\n",
      "Validation Result: True\n",
      "Vehicle Prediction: truck\n",
      "Is Pickup Truck: no\n"
     ]
    },
    {
     "name": "stderr",
     "output_type": "stream",
     "text": [
      "Processing: truck 2:  54%|█████▍    | 507/932 [06:05<05:46,  1.23file/s]"
     ]
    },
    {
     "name": "stdout",
     "output_type": "stream",
     "text": [
      "Axle Prediction: 2\n",
      "Validation Result: True\n",
      "Vehicle Prediction: truck\n",
      "Is Pickup Truck: no\n"
     ]
    },
    {
     "name": "stderr",
     "output_type": "stream",
     "text": [
      "Processing: truck 2:  55%|█████▍    | 508/932 [06:06<05:43,  1.23file/s]"
     ]
    },
    {
     "name": "stdout",
     "output_type": "stream",
     "text": [
      "Axle Prediction: 2\n",
      "Validation Result: True\n",
      "Vehicle Prediction: truck\n",
      "Is Pickup Truck: no\n"
     ]
    },
    {
     "name": "stderr",
     "output_type": "stream",
     "text": [
      "Processing: truck 2:  55%|█████▍    | 509/932 [06:07<05:41,  1.24file/s]"
     ]
    },
    {
     "name": "stdout",
     "output_type": "stream",
     "text": [
      "Axle Prediction: 2\n",
      "Validation Result: True\n",
      "Vehicle Prediction: truck\n",
      "Is Pickup Truck: no\n"
     ]
    },
    {
     "name": "stderr",
     "output_type": "stream",
     "text": [
      "Processing: truck 2:  55%|█████▍    | 510/932 [06:08<05:41,  1.23file/s]"
     ]
    },
    {
     "name": "stdout",
     "output_type": "stream",
     "text": [
      "Axle Prediction: 2\n",
      "Validation Result: True\n",
      "Vehicle Prediction: truck\n",
      "Is Pickup Truck: no\n"
     ]
    },
    {
     "name": "stderr",
     "output_type": "stream",
     "text": [
      "Processing: truck 2:  55%|█████▍    | 511/932 [06:08<05:43,  1.22file/s]"
     ]
    },
    {
     "name": "stdout",
     "output_type": "stream",
     "text": [
      "Axle Prediction: 3\n",
      "Validation Result: False\n",
      "Vehicle Prediction: truck\n",
      "Is Pickup Truck: no\n"
     ]
    },
    {
     "name": "stderr",
     "output_type": "stream",
     "text": [
      "Processing: truck 2:  55%|█████▍    | 512/932 [06:09<05:43,  1.22file/s]"
     ]
    },
    {
     "name": "stdout",
     "output_type": "stream",
     "text": [
      "Axle Prediction: 3\n",
      "Validation Result: False\n",
      "Vehicle Prediction: truck\n",
      "Is Pickup Truck: no\n"
     ]
    },
    {
     "name": "stderr",
     "output_type": "stream",
     "text": [
      "Processing: truck 2:  55%|█████▌    | 513/932 [06:10<05:43,  1.22file/s]"
     ]
    },
    {
     "name": "stdout",
     "output_type": "stream",
     "text": [
      "Axle Prediction: 3\n",
      "Validation Result: False\n",
      "Vehicle Prediction: truck\n",
      "Is Pickup Truck: no\n"
     ]
    },
    {
     "name": "stderr",
     "output_type": "stream",
     "text": [
      "Processing: truck 2:  55%|█████▌    | 514/932 [06:13<10:08,  1.46s/file]"
     ]
    },
    {
     "name": "stdout",
     "output_type": "stream",
     "text": [
      "Axle Prediction: 4\n",
      "Validation Result: False\n",
      "Vehicle Prediction: truck\n",
      "Is Pickup Truck: yes.\n"
     ]
    },
    {
     "name": "stderr",
     "output_type": "stream",
     "text": [
      "Processing: truck 2:  55%|█████▌    | 515/932 [06:15<10:38,  1.53s/file]"
     ]
    },
    {
     "name": "stdout",
     "output_type": "stream",
     "text": [
      "Axle Prediction: 2\n",
      "Validation Result: True\n",
      "Vehicle Prediction: truck\n",
      "Is Pickup Truck: no.\n"
     ]
    },
    {
     "name": "stderr",
     "output_type": "stream",
     "text": [
      "Processing: truck 2:  55%|█████▌    | 516/932 [06:16<10:59,  1.58s/file]"
     ]
    },
    {
     "name": "stdout",
     "output_type": "stream",
     "text": [
      "Axle Prediction: 2\n",
      "Validation Result: True\n",
      "Vehicle Prediction: truck\n",
      "Is Pickup Truck: yes.\n"
     ]
    },
    {
     "name": "stderr",
     "output_type": "stream",
     "text": [
      "Processing: truck 2:  55%|█████▌    | 517/932 [06:19<12:08,  1.76s/file]"
     ]
    },
    {
     "name": "stdout",
     "output_type": "stream",
     "text": [
      "Axle Prediction: 2\n",
      "Validation Result: True\n"
     ]
    },
    {
     "name": "stderr",
     "output_type": "stream",
     "text": [
      "[codecarbon INFO @ 11:10:32] Energy consumed for RAM : 0.019660 kWh. RAM Power : 188.80178117752075 W\n",
      "[codecarbon INFO @ 11:10:32] Energy consumed for all CPUs : 0.010414 kWh. Total CPU Power : 100.0 W\n",
      "[codecarbon INFO @ 11:10:32] Energy consumed for all GPUs : 0.031921 kWh. Total GPU Power : 306.21081034214205 W\n",
      "[codecarbon INFO @ 11:10:32] 0.061995 kWh of electricity used since the beginning.\n"
     ]
    },
    {
     "name": "stdout",
     "output_type": "stream",
     "text": [
      "Vehicle Prediction: truck\n",
      "Is Pickup Truck: no.\n"
     ]
    },
    {
     "name": "stderr",
     "output_type": "stream",
     "text": [
      "Processing: truck 2:  56%|█████▌    | 518/932 [06:19<10:16,  1.49s/file]"
     ]
    },
    {
     "name": "stdout",
     "output_type": "stream",
     "text": [
      "Axle Prediction: 2\n",
      "Validation Result: True\n",
      "Vehicle Prediction: truck\n",
      "Is Pickup Truck: no.\n"
     ]
    },
    {
     "name": "stderr",
     "output_type": "stream",
     "text": [
      "Processing: truck 2:  56%|█████▌    | 519/932 [06:22<13:17,  1.93s/file]"
     ]
    },
    {
     "name": "stdout",
     "output_type": "stream",
     "text": [
      "Axle Prediction: 2\n",
      "Validation Result: True\n",
      "Vehicle Prediction: truck\n"
     ]
    },
    {
     "name": "stderr",
     "output_type": "stream",
     "text": [
      "Processing: truck 2:  56%|█████▌    | 520/932 [06:24<13:25,  1.96s/file]"
     ]
    },
    {
     "name": "stdout",
     "output_type": "stream",
     "text": [
      "Is Pickup Truck: yes\n",
      "Validation Result: False\n",
      "Vehicle Prediction: truck\n",
      "Is Pickup Truck: no\n"
     ]
    },
    {
     "name": "stderr",
     "output_type": "stream",
     "text": [
      "Processing: truck 2:  56%|█████▌    | 521/932 [06:25<11:18,  1.65s/file]"
     ]
    },
    {
     "name": "stdout",
     "output_type": "stream",
     "text": [
      "Axle Prediction: 2\n",
      "Validation Result: True\n",
      "Vehicle Prediction: truck\n",
      "Is Pickup Truck: no\n"
     ]
    },
    {
     "name": "stderr",
     "output_type": "stream",
     "text": [
      "Processing: truck 2:  56%|█████▌    | 522/932 [06:28<13:57,  2.04s/file]"
     ]
    },
    {
     "name": "stdout",
     "output_type": "stream",
     "text": [
      "Axle Prediction: 2\n",
      "Validation Result: True\n",
      "Vehicle Prediction: truck\n",
      "Is Pickup Truck: yes.\n"
     ]
    },
    {
     "name": "stderr",
     "output_type": "stream",
     "text": [
      "Processing: truck 2:  56%|█████▌    | 523/932 [06:31<15:13,  2.23s/file]"
     ]
    },
    {
     "name": "stdout",
     "output_type": "stream",
     "text": [
      "Axle Prediction: 2\n",
      "Validation Result: True\n",
      "Vehicle Prediction: truck\n",
      "Is Pickup Truck: no.\n"
     ]
    },
    {
     "name": "stderr",
     "output_type": "stream",
     "text": [
      "Processing: truck 2:  56%|█████▌    | 524/932 [06:32<13:45,  2.02s/file]"
     ]
    },
    {
     "name": "stdout",
     "output_type": "stream",
     "text": [
      "Axle Prediction: 2\n",
      "Validation Result: True\n",
      "Vehicle Prediction: truck\n",
      "Is Pickup Truck: no\n"
     ]
    },
    {
     "name": "stderr",
     "output_type": "stream",
     "text": [
      "[codecarbon INFO @ 11:10:47] Energy consumed for RAM : 0.020446 kWh. RAM Power : 188.80178117752075 W\n",
      "[codecarbon INFO @ 11:10:47] Energy consumed for all CPUs : 0.010830 kWh. Total CPU Power : 100.0 W\n",
      "[codecarbon INFO @ 11:10:47] Energy consumed for all GPUs : 0.033233 kWh. Total GPU Power : 315.00664036163886 W\n",
      "[codecarbon INFO @ 11:10:47] 0.064510 kWh of electricity used since the beginning.\n",
      "Processing: truck 2:  56%|█████▋    | 525/932 [06:34<13:21,  1.97s/file]"
     ]
    },
    {
     "name": "stdout",
     "output_type": "stream",
     "text": [
      "Axle Prediction: 4\n",
      "Validation Result: False\n",
      "Vehicle Prediction: truck\n",
      "Is Pickup Truck: no\n"
     ]
    },
    {
     "name": "stderr",
     "output_type": "stream",
     "text": [
      "Processing: truck 2:  56%|█████▋    | 526/932 [06:36<12:25,  1.84s/file]"
     ]
    },
    {
     "name": "stdout",
     "output_type": "stream",
     "text": [
      "Axle Prediction: 2\n",
      "Validation Result: True\n",
      "Vehicle Prediction: tanker\n"
     ]
    },
    {
     "name": "stderr",
     "output_type": "stream",
     "text": [
      "Processing: truck 2:  57%|█████▋    | 527/932 [06:37<10:20,  1.53s/file]"
     ]
    },
    {
     "name": "stdout",
     "output_type": "stream",
     "text": [
      "Axle Prediction: 2\n",
      "Validation Result: True\n",
      "Vehicle Prediction: truck\n",
      "Is Pickup Truck: no\n"
     ]
    },
    {
     "name": "stderr",
     "output_type": "stream",
     "text": [
      "Processing: truck 2:  57%|█████▋    | 528/932 [06:38<08:52,  1.32s/file]"
     ]
    },
    {
     "name": "stdout",
     "output_type": "stream",
     "text": [
      "Axle Prediction: 2\n",
      "Validation Result: True\n",
      "Vehicle Prediction: truck\n",
      "Is Pickup Truck: no\n"
     ]
    },
    {
     "name": "stderr",
     "output_type": "stream",
     "text": [
      "Processing: truck 2:  57%|█████▋    | 529/932 [06:41<12:17,  1.83s/file]"
     ]
    },
    {
     "name": "stdout",
     "output_type": "stream",
     "text": [
      "Axle Prediction: 4\n",
      "Validation Result: False\n",
      "Vehicle Prediction: dump truck\n"
     ]
    },
    {
     "name": "stderr",
     "output_type": "stream",
     "text": [
      "Processing: truck 2:  57%|█████▋    | 530/932 [06:42<12:20,  1.84s/file]"
     ]
    },
    {
     "name": "stdout",
     "output_type": "stream",
     "text": [
      "Axle Prediction: 3\n",
      "Validation Result: False\n",
      "Vehicle Prediction: truck\n",
      "Is Pickup Truck: no\n"
     ]
    },
    {
     "name": "stderr",
     "output_type": "stream",
     "text": [
      "Processing: truck 2:  57%|█████▋    | 531/932 [06:45<14:15,  2.13s/file]"
     ]
    },
    {
     "name": "stdout",
     "output_type": "stream",
     "text": [
      "Axle Prediction: 4\n",
      "Validation Result: False\n",
      "Vehicle Prediction: truck\n",
      "Is Pickup Truck: yes.\n"
     ]
    },
    {
     "name": "stderr",
     "output_type": "stream",
     "text": [
      "Processing: truck 2:  57%|█████▋    | 532/932 [06:48<15:34,  2.34s/file]"
     ]
    },
    {
     "name": "stdout",
     "output_type": "stream",
     "text": [
      "Axle Prediction: 2\n",
      "Validation Result: True\n",
      "Vehicle Prediction: truck\n"
     ]
    },
    {
     "name": "stderr",
     "output_type": "stream",
     "text": [
      "[codecarbon INFO @ 11:11:02] Energy consumed for RAM : 0.021232 kWh. RAM Power : 188.80178117752075 W\n",
      "[codecarbon INFO @ 11:11:02] Energy consumed for all CPUs : 0.011247 kWh. Total CPU Power : 100.0 W\n",
      "[codecarbon INFO @ 11:11:02] Energy consumed for all GPUs : 0.034549 kWh. Total GPU Power : 315.9727616678465 W\n",
      "[codecarbon INFO @ 11:11:02] 0.067029 kWh of electricity used since the beginning.\n"
     ]
    },
    {
     "name": "stdout",
     "output_type": "stream",
     "text": [
      "Is Pickup Truck: yes.\n"
     ]
    },
    {
     "name": "stderr",
     "output_type": "stream",
     "text": [
      "Processing: truck 2:  57%|█████▋    | 533/932 [06:50<14:40,  2.21s/file]"
     ]
    },
    {
     "name": "stdout",
     "output_type": "stream",
     "text": [
      "Axle Prediction: 2\n",
      "Validation Result: True\n",
      "Vehicle Prediction: truck\n",
      "Is Pickup Truck: no\n"
     ]
    },
    {
     "name": "stderr",
     "output_type": "stream",
     "text": [
      "Processing: truck 2:  57%|█████▋    | 534/932 [06:51<12:07,  1.83s/file]"
     ]
    },
    {
     "name": "stdout",
     "output_type": "stream",
     "text": [
      "Axle Prediction: 2\n",
      "Validation Result: True\n",
      "Vehicle Prediction: truck\n",
      "Is Pickup Truck: no\n"
     ]
    },
    {
     "name": "stderr",
     "output_type": "stream",
     "text": [
      "Processing: truck 2:  57%|█████▋    | 535/932 [06:54<14:35,  2.20s/file]"
     ]
    },
    {
     "name": "stdout",
     "output_type": "stream",
     "text": [
      "Axle Prediction: 2\n",
      "Validation Result: True\n",
      "Vehicle Prediction: truck\n",
      "Is Pickup Truck: yes.\n"
     ]
    },
    {
     "name": "stderr",
     "output_type": "stream",
     "text": [
      "Processing: truck 2:  58%|█████▊    | 536/932 [06:57<15:21,  2.33s/file]"
     ]
    },
    {
     "name": "stdout",
     "output_type": "stream",
     "text": [
      "Axle Prediction: 2\n",
      "Validation Result: True\n",
      "Vehicle Prediction: truck\n",
      "Is Pickup Truck: no.\n"
     ]
    },
    {
     "name": "stderr",
     "output_type": "stream",
     "text": [
      "Processing: truck 2:  58%|█████▊    | 537/932 [06:58<13:27,  2.04s/file]"
     ]
    },
    {
     "name": "stdout",
     "output_type": "stream",
     "text": [
      "Axle Prediction: 2\n",
      "Validation Result: True\n",
      "Vehicle Prediction: truck\n",
      "Is Pickup Truck: no.\n"
     ]
    },
    {
     "name": "stderr",
     "output_type": "stream",
     "text": [
      "Processing: truck 2:  58%|█████▊    | 538/932 [06:59<12:06,  1.85s/file]"
     ]
    },
    {
     "name": "stdout",
     "output_type": "stream",
     "text": [
      "Axle Prediction: 2\n",
      "Validation Result: True\n",
      "Vehicle Prediction: truck\n",
      "Is Pickup Truck: no\n"
     ]
    },
    {
     "name": "stderr",
     "output_type": "stream",
     "text": [
      "Processing: truck 2:  58%|█████▊    | 539/932 [07:02<14:15,  2.18s/file]"
     ]
    },
    {
     "name": "stdout",
     "output_type": "stream",
     "text": [
      "Axle Prediction: 2\n",
      "Validation Result: True\n",
      "Vehicle Prediction: truck\n",
      "Is Pickup Truck: no\n"
     ]
    },
    {
     "name": "stderr",
     "output_type": "stream",
     "text": [
      "Processing: truck 2:  58%|█████▊    | 540/932 [07:03<11:50,  1.81s/file]"
     ]
    },
    {
     "name": "stdout",
     "output_type": "stream",
     "text": [
      "Axle Prediction: 2\n",
      "Validation Result: True\n"
     ]
    },
    {
     "name": "stderr",
     "output_type": "stream",
     "text": [
      "[codecarbon INFO @ 11:11:17] Energy consumed for RAM : 0.022019 kWh. RAM Power : 188.80178117752075 W\n",
      "[codecarbon INFO @ 11:11:17] Energy consumed for all CPUs : 0.011663 kWh. Total CPU Power : 100.0 W\n",
      "[codecarbon INFO @ 11:11:17] Energy consumed for all GPUs : 0.035867 kWh. Total GPU Power : 316.2852197342087 W\n",
      "[codecarbon INFO @ 11:11:17] 0.069549 kWh of electricity used since the beginning.\n"
     ]
    },
    {
     "name": "stdout",
     "output_type": "stream",
     "text": [
      "Vehicle Prediction: truck\n",
      "Is Pickup Truck: yes.\n"
     ]
    },
    {
     "name": "stderr",
     "output_type": "stream",
     "text": [
      "Processing: truck 2:  58%|█████▊    | 541/932 [07:06<14:03,  2.16s/file]"
     ]
    },
    {
     "name": "stdout",
     "output_type": "stream",
     "text": [
      "Axle Prediction: 4\n",
      "Validation Result: False\n",
      "Vehicle Prediction: truck\n",
      "Is Pickup Truck: no\n"
     ]
    },
    {
     "name": "stderr",
     "output_type": "stream",
     "text": [
      "Processing: truck 2:  58%|█████▊    | 542/932 [07:08<12:27,  1.92s/file]"
     ]
    },
    {
     "name": "stdout",
     "output_type": "stream",
     "text": [
      "Axle Prediction: 2\n",
      "Validation Result: True\n",
      "Vehicle Prediction: truck\n",
      "Is Pickup Truck: no\n"
     ]
    },
    {
     "name": "stderr",
     "output_type": "stream",
     "text": [
      "Processing: bus 3:  58%|█████▊    | 543/932 [07:09<10:45,  1.66s/file]  "
     ]
    },
    {
     "name": "stdout",
     "output_type": "stream",
     "text": [
      "Axle Prediction: 2\n",
      "Validation Result: True\n",
      "Vehicle Prediction: bus\n"
     ]
    },
    {
     "name": "stderr",
     "output_type": "stream",
     "text": [
      "Processing: bus 3:  58%|█████▊    | 544/932 [07:11<11:19,  1.75s/file]"
     ]
    },
    {
     "name": "stdout",
     "output_type": "stream",
     "text": [
      "Axle Prediction: 6\n",
      "Validation Result: False\n",
      "Vehicle Prediction: bus\n"
     ]
    },
    {
     "name": "stderr",
     "output_type": "stream",
     "text": [
      "Processing: bus 3:  58%|█████▊    | 545/932 [07:13<11:42,  1.82s/file]"
     ]
    },
    {
     "name": "stdout",
     "output_type": "stream",
     "text": [
      "Axle Prediction: 6\n",
      "Validation Result: False\n",
      "Vehicle Prediction: bus\n"
     ]
    },
    {
     "name": "stderr",
     "output_type": "stream",
     "text": [
      "Processing: bus 3:  59%|█████▊    | 546/932 [07:13<09:39,  1.50s/file]"
     ]
    },
    {
     "name": "stdout",
     "output_type": "stream",
     "text": [
      "Axle Prediction: 3\n",
      "Validation Result: True\n",
      "Vehicle Prediction: bus\n"
     ]
    },
    {
     "name": "stderr",
     "output_type": "stream",
     "text": [
      "Processing: bus 3:  59%|█████▊    | 547/932 [07:15<09:30,  1.48s/file]"
     ]
    },
    {
     "name": "stdout",
     "output_type": "stream",
     "text": [
      "Axle Prediction: 6\n",
      "Validation Result: False\n",
      "Vehicle Prediction: bus\n"
     ]
    },
    {
     "name": "stderr",
     "output_type": "stream",
     "text": [
      "Processing: bus 3:  59%|█████▉    | 548/932 [07:17<10:25,  1.63s/file]"
     ]
    },
    {
     "name": "stdout",
     "output_type": "stream",
     "text": [
      "Axle Prediction: 6\n",
      "Validation Result: False\n",
      "Vehicle Prediction: bus\n"
     ]
    },
    {
     "name": "stderr",
     "output_type": "stream",
     "text": [
      "Processing: bus 3:  59%|█████▉    | 549/932 [07:17<08:16,  1.30s/file]"
     ]
    },
    {
     "name": "stdout",
     "output_type": "stream",
     "text": [
      "Axle Prediction: 6\n",
      "Validation Result: False\n",
      "Vehicle Prediction: bus\n"
     ]
    },
    {
     "name": "stderr",
     "output_type": "stream",
     "text": [
      "Processing: bus 3:  59%|█████▉    | 550/932 [07:18<06:47,  1.07s/file]"
     ]
    },
    {
     "name": "stdout",
     "output_type": "stream",
     "text": [
      "Axle Prediction: 6\n",
      "Validation Result: False\n",
      "Vehicle Prediction: bus\n"
     ]
    },
    {
     "name": "stderr",
     "output_type": "stream",
     "text": [
      "Processing: bus 3:  59%|█████▉    | 551/932 [07:18<05:44,  1.10file/s]"
     ]
    },
    {
     "name": "stdout",
     "output_type": "stream",
     "text": [
      "Axle Prediction: 4\n",
      "Validation Result: False\n",
      "Vehicle Prediction: bus\n"
     ]
    },
    {
     "name": "stderr",
     "output_type": "stream",
     "text": [
      "Processing: bus 3:  59%|█████▉    | 552/932 [07:19<05:00,  1.26file/s][codecarbon INFO @ 11:11:32] Energy consumed for RAM : 0.022805 kWh. RAM Power : 188.80178117752075 W\n",
      "[codecarbon INFO @ 11:11:32] Energy consumed for all CPUs : 0.012080 kWh. Total CPU Power : 100.0 W\n",
      "[codecarbon INFO @ 11:11:32] Energy consumed for all GPUs : 0.037169 kWh. Total GPU Power : 312.51323767285464 W\n",
      "[codecarbon INFO @ 11:11:32] 0.072054 kWh of electricity used since the beginning.\n"
     ]
    },
    {
     "name": "stdout",
     "output_type": "stream",
     "text": [
      "Axle Prediction: 6\n",
      "Validation Result: False\n",
      "Vehicle Prediction: bus\n"
     ]
    },
    {
     "name": "stderr",
     "output_type": "stream",
     "text": [
      "Processing: bus 3:  59%|█████▉    | 553/932 [07:20<05:19,  1.19file/s]"
     ]
    },
    {
     "name": "stdout",
     "output_type": "stream",
     "text": [
      "Axle Prediction: 2\n",
      "Validation Result: False\n",
      "Vehicle Prediction: bus\n"
     ]
    },
    {
     "name": "stderr",
     "output_type": "stream",
     "text": [
      "Processing: bus 3:  59%|█████▉    | 554/932 [07:21<06:25,  1.02s/file]"
     ]
    },
    {
     "name": "stdout",
     "output_type": "stream",
     "text": [
      "Axle Prediction: 3\n",
      "Validation Result: True\n",
      "Vehicle Prediction: bus\n"
     ]
    },
    {
     "name": "stderr",
     "output_type": "stream",
     "text": [
      "Processing: bus 3:  60%|█████▉    | 555/932 [07:23<08:17,  1.32s/file]"
     ]
    },
    {
     "name": "stdout",
     "output_type": "stream",
     "text": [
      "Axle Prediction: 6\n",
      "Validation Result: False\n",
      "Vehicle Prediction: bus\n"
     ]
    },
    {
     "name": "stderr",
     "output_type": "stream",
     "text": [
      "Processing: bus 3:  60%|█████▉    | 556/932 [07:24<06:47,  1.08s/file]"
     ]
    },
    {
     "name": "stdout",
     "output_type": "stream",
     "text": [
      "Axle Prediction: 3\n",
      "Validation Result: True\n",
      "Vehicle Prediction: bus\n"
     ]
    },
    {
     "name": "stderr",
     "output_type": "stream",
     "text": [
      "Processing: bus 3:  60%|█████▉    | 557/932 [07:26<08:06,  1.30s/file]"
     ]
    },
    {
     "name": "stdout",
     "output_type": "stream",
     "text": [
      "Axle Prediction: 6\n",
      "Validation Result: False\n",
      "Vehicle Prediction: bus\n"
     ]
    },
    {
     "name": "stderr",
     "output_type": "stream",
     "text": [
      "Processing: bus 3:  60%|█████▉    | 558/932 [07:27<08:46,  1.41s/file]"
     ]
    },
    {
     "name": "stdout",
     "output_type": "stream",
     "text": [
      "Axle Prediction: 6\n",
      "Validation Result: False\n",
      "Vehicle Prediction: bus\n"
     ]
    },
    {
     "name": "stderr",
     "output_type": "stream",
     "text": [
      "Processing: bus 3:  60%|█████▉    | 559/932 [07:29<09:47,  1.58s/file]"
     ]
    },
    {
     "name": "stdout",
     "output_type": "stream",
     "text": [
      "Axle Prediction: 6\n",
      "Validation Result: False\n",
      "Vehicle Prediction: bus\n"
     ]
    },
    {
     "name": "stderr",
     "output_type": "stream",
     "text": [
      "Processing: bus 3:  60%|██████    | 560/932 [07:31<10:45,  1.74s/file]"
     ]
    },
    {
     "name": "stdout",
     "output_type": "stream",
     "text": [
      "Axle Prediction: 6\n",
      "Validation Result: False\n",
      "Vehicle Prediction: bus\n"
     ]
    },
    {
     "name": "stderr",
     "output_type": "stream",
     "text": [
      "Processing: bus 3:  60%|██████    | 561/932 [07:32<08:30,  1.38s/file]"
     ]
    },
    {
     "name": "stdout",
     "output_type": "stream",
     "text": [
      "Axle Prediction: 3\n",
      "Validation Result: True\n",
      "Vehicle Prediction: bus\n"
     ]
    },
    {
     "name": "stderr",
     "output_type": "stream",
     "text": [
      "Processing: bus 3:  60%|██████    | 562/932 [07:34<09:16,  1.50s/file]"
     ]
    },
    {
     "name": "stdout",
     "output_type": "stream",
     "text": [
      "Axle Prediction: 4\n",
      "Validation Result: False\n"
     ]
    },
    {
     "name": "stderr",
     "output_type": "stream",
     "text": [
      "[codecarbon INFO @ 11:11:47] Energy consumed for RAM : 0.023592 kWh. RAM Power : 188.80178117752075 W\n",
      "[codecarbon INFO @ 11:11:47] Energy consumed for all CPUs : 0.012497 kWh. Total CPU Power : 100.0 W\n",
      "[codecarbon INFO @ 11:11:47] Energy consumed for all GPUs : 0.038490 kWh. Total GPU Power : 317.1489614322248 W\n",
      "[codecarbon INFO @ 11:11:47] 0.074578 kWh of electricity used since the beginning.\n"
     ]
    },
    {
     "name": "stdout",
     "output_type": "stream",
     "text": [
      "Vehicle Prediction: bus\n"
     ]
    },
    {
     "name": "stderr",
     "output_type": "stream",
     "text": [
      "Processing: bus 3:  60%|██████    | 563/932 [07:35<09:49,  1.60s/file]"
     ]
    },
    {
     "name": "stdout",
     "output_type": "stream",
     "text": [
      "Axle Prediction: 3\n",
      "Validation Result: True\n",
      "Vehicle Prediction: bus\n"
     ]
    },
    {
     "name": "stderr",
     "output_type": "stream",
     "text": [
      "Processing: bus 3:  61%|██████    | 564/932 [07:37<09:31,  1.55s/file]"
     ]
    },
    {
     "name": "stdout",
     "output_type": "stream",
     "text": [
      "Axle Prediction: 3\n",
      "Validation Result: True\n",
      "Vehicle Prediction: bus\n"
     ]
    },
    {
     "name": "stderr",
     "output_type": "stream",
     "text": [
      "Processing: bus 3:  61%|██████    | 565/932 [07:38<07:54,  1.29s/file]"
     ]
    },
    {
     "name": "stdout",
     "output_type": "stream",
     "text": [
      "Axle Prediction: 4\n",
      "Validation Result: False\n",
      "Vehicle Prediction: bus\n"
     ]
    },
    {
     "name": "stderr",
     "output_type": "stream",
     "text": [
      "Processing: bus 3:  61%|██████    | 566/932 [07:39<08:58,  1.47s/file]"
     ]
    },
    {
     "name": "stdout",
     "output_type": "stream",
     "text": [
      "Axle Prediction: 4\n",
      "Validation Result: False\n",
      "Vehicle Prediction: bus\n"
     ]
    },
    {
     "name": "stderr",
     "output_type": "stream",
     "text": [
      "Processing: bus 3:  61%|██████    | 567/932 [07:40<07:23,  1.22s/file]"
     ]
    },
    {
     "name": "stdout",
     "output_type": "stream",
     "text": [
      "Axle Prediction: 2\n",
      "Validation Result: False\n",
      "Vehicle Prediction: bus\n"
     ]
    },
    {
     "name": "stderr",
     "output_type": "stream",
     "text": [
      "Processing: bus 3:  61%|██████    | 568/932 [07:42<08:14,  1.36s/file]"
     ]
    },
    {
     "name": "stdout",
     "output_type": "stream",
     "text": [
      "Axle Prediction: 6\n",
      "Validation Result: False\n",
      "Vehicle Prediction: bus\n"
     ]
    },
    {
     "name": "stderr",
     "output_type": "stream",
     "text": [
      "Processing: bus 3:  61%|██████    | 569/932 [07:43<08:42,  1.44s/file]"
     ]
    },
    {
     "name": "stdout",
     "output_type": "stream",
     "text": [
      "Axle Prediction: 3\n",
      "Validation Result: True\n",
      "Vehicle Prediction: bus\n"
     ]
    },
    {
     "name": "stderr",
     "output_type": "stream",
     "text": [
      "Processing: bus 3:  61%|██████    | 570/932 [07:44<07:09,  1.19s/file]"
     ]
    },
    {
     "name": "stdout",
     "output_type": "stream",
     "text": [
      "Axle Prediction: 4\n",
      "Validation Result: False\n",
      "Vehicle Prediction: bus\n"
     ]
    },
    {
     "name": "stderr",
     "output_type": "stream",
     "text": [
      "Processing: bus 3:  61%|██████▏   | 571/932 [07:45<06:01,  1.00s/file]"
     ]
    },
    {
     "name": "stdout",
     "output_type": "stream",
     "text": [
      "Axle Prediction: 3\n",
      "Validation Result: True\n",
      "Vehicle Prediction: bus\n"
     ]
    },
    {
     "name": "stderr",
     "output_type": "stream",
     "text": [
      "Processing: bus 3:  61%|██████▏   | 572/932 [07:45<05:14,  1.15file/s]"
     ]
    },
    {
     "name": "stdout",
     "output_type": "stream",
     "text": [
      "Axle Prediction: 6\n",
      "Validation Result: False\n",
      "Vehicle Prediction: bus\n"
     ]
    },
    {
     "name": "stderr",
     "output_type": "stream",
     "text": [
      "Processing: bus 3:  61%|██████▏   | 573/932 [07:47<06:33,  1.10s/file]"
     ]
    },
    {
     "name": "stdout",
     "output_type": "stream",
     "text": [
      "Axle Prediction: 6\n",
      "Validation Result: False\n",
      "Vehicle Prediction: bus\n"
     ]
    },
    {
     "name": "stderr",
     "output_type": "stream",
     "text": [
      "Processing: bus 3:  62%|██████▏   | 574/932 [07:49<08:13,  1.38s/file][codecarbon INFO @ 11:12:02] Energy consumed for RAM : 0.024378 kWh. RAM Power : 188.80178117752075 W\n",
      "[codecarbon INFO @ 11:12:02] Energy consumed for all CPUs : 0.012913 kWh. Total CPU Power : 100.0 W\n",
      "[codecarbon INFO @ 11:12:02] Energy consumed for all GPUs : 0.039794 kWh. Total GPU Power : 313.0056381252351 W\n",
      "[codecarbon INFO @ 11:12:02] 0.077085 kWh of electricity used since the beginning.\n"
     ]
    },
    {
     "name": "stdout",
     "output_type": "stream",
     "text": [
      "Axle Prediction: 3\n",
      "Validation Result: True\n",
      "Vehicle Prediction: bus\n"
     ]
    },
    {
     "name": "stderr",
     "output_type": "stream",
     "text": [
      "Processing: bus 3:  62%|██████▏   | 575/932 [07:51<09:19,  1.57s/file]"
     ]
    },
    {
     "name": "stdout",
     "output_type": "stream",
     "text": [
      "Axle Prediction: 6\n",
      "Validation Result: False\n",
      "Vehicle Prediction: bus\n"
     ]
    },
    {
     "name": "stderr",
     "output_type": "stream",
     "text": [
      "Processing: bus 3:  62%|██████▏   | 576/932 [07:52<09:12,  1.55s/file]"
     ]
    },
    {
     "name": "stdout",
     "output_type": "stream",
     "text": [
      "Axle Prediction: 6\n",
      "Validation Result: False\n",
      "Vehicle Prediction: bus\n"
     ]
    },
    {
     "name": "stderr",
     "output_type": "stream",
     "text": [
      "Processing: bus 3:  62%|██████▏   | 577/932 [07:56<12:08,  2.05s/file]"
     ]
    },
    {
     "name": "stdout",
     "output_type": "stream",
     "text": [
      "Axle Prediction: 6\n",
      "Validation Result: False\n",
      "Vehicle Prediction: bus\n"
     ]
    },
    {
     "name": "stderr",
     "output_type": "stream",
     "text": [
      "Processing: bus 3:  62%|██████▏   | 578/932 [07:58<11:54,  2.02s/file]"
     ]
    },
    {
     "name": "stdout",
     "output_type": "stream",
     "text": [
      "Axle Prediction: 6\n",
      "Validation Result: False\n",
      "Vehicle Prediction: bus\n"
     ]
    },
    {
     "name": "stderr",
     "output_type": "stream",
     "text": [
      "Processing: bus 3:  62%|██████▏   | 579/932 [07:59<11:19,  1.92s/file]"
     ]
    },
    {
     "name": "stdout",
     "output_type": "stream",
     "text": [
      "Axle Prediction: 6\n",
      "Validation Result: False\n",
      "Vehicle Prediction: bus\n"
     ]
    },
    {
     "name": "stderr",
     "output_type": "stream",
     "text": [
      "Processing: bus 3:  62%|██████▏   | 580/932 [08:01<11:26,  1.95s/file]"
     ]
    },
    {
     "name": "stdout",
     "output_type": "stream",
     "text": [
      "Axle Prediction: 6\n",
      "Validation Result: False\n",
      "Vehicle Prediction: bus\n"
     ]
    },
    {
     "name": "stderr",
     "output_type": "stream",
     "text": [
      "Processing: bus 3:  62%|██████▏   | 581/932 [08:03<11:08,  1.90s/file]"
     ]
    },
    {
     "name": "stdout",
     "output_type": "stream",
     "text": [
      "Axle Prediction: 3\n",
      "Validation Result: True\n"
     ]
    },
    {
     "name": "stderr",
     "output_type": "stream",
     "text": [
      "[codecarbon INFO @ 11:12:17] Energy consumed for RAM : 0.025164 kWh. RAM Power : 188.80178117752075 W\n",
      "[codecarbon INFO @ 11:12:17] Energy consumed for all CPUs : 0.013330 kWh. Total CPU Power : 100.0 W\n",
      "[codecarbon INFO @ 11:12:17] Energy consumed for all GPUs : 0.041045 kWh. Total GPU Power : 300.2766738685861 W\n",
      "[codecarbon INFO @ 11:12:17] 0.079539 kWh of electricity used since the beginning.\n",
      "[codecarbon INFO @ 11:12:17] 0.075034 g.CO2eq/s mean an estimation of 2,366.2732326492633 kg.CO2eq/year\n"
     ]
    },
    {
     "name": "stdout",
     "output_type": "stream",
     "text": [
      "Vehicle Prediction: bus\n"
     ]
    },
    {
     "name": "stderr",
     "output_type": "stream",
     "text": [
      "Processing: bus 3:  62%|██████▏   | 582/932 [08:06<12:13,  2.10s/file]"
     ]
    },
    {
     "name": "stdout",
     "output_type": "stream",
     "text": [
      "Axle Prediction: 3\n",
      "Validation Result: True\n",
      "Vehicle Prediction: bus\n"
     ]
    },
    {
     "name": "stderr",
     "output_type": "stream",
     "text": [
      "Processing: bus 3:  63%|██████▎   | 583/932 [08:08<12:07,  2.08s/file]"
     ]
    },
    {
     "name": "stdout",
     "output_type": "stream",
     "text": [
      "Axle Prediction: 6\n",
      "Validation Result: False\n",
      "Vehicle Prediction: bus\n"
     ]
    },
    {
     "name": "stderr",
     "output_type": "stream",
     "text": [
      "Processing: bus 3:  63%|██████▎   | 584/932 [08:10<12:02,  2.08s/file]"
     ]
    },
    {
     "name": "stdout",
     "output_type": "stream",
     "text": [
      "Axle Prediction: 6\n",
      "Validation Result: False\n",
      "Vehicle Prediction: bus\n"
     ]
    },
    {
     "name": "stderr",
     "output_type": "stream",
     "text": [
      "Processing: bus 3:  63%|██████▎   | 585/932 [08:12<11:59,  2.07s/file]"
     ]
    },
    {
     "name": "stdout",
     "output_type": "stream",
     "text": [
      "Axle Prediction: 2\n",
      "Validation Result: False\n",
      "Vehicle Prediction: bus\n"
     ]
    },
    {
     "name": "stderr",
     "output_type": "stream",
     "text": [
      "Processing: bus 3:  63%|██████▎   | 586/932 [08:14<11:43,  2.03s/file]"
     ]
    },
    {
     "name": "stdout",
     "output_type": "stream",
     "text": [
      "Axle Prediction: 4\n",
      "Validation Result: False\n",
      "Vehicle Prediction: bus\n"
     ]
    },
    {
     "name": "stderr",
     "output_type": "stream",
     "text": [
      "Processing: bus 3:  63%|██████▎   | 587/932 [08:16<11:35,  2.02s/file]"
     ]
    },
    {
     "name": "stdout",
     "output_type": "stream",
     "text": [
      "Axle Prediction: 6\n",
      "Validation Result: False\n",
      "Vehicle Prediction: bus\n"
     ]
    },
    {
     "name": "stderr",
     "output_type": "stream",
     "text": [
      "Processing: bus 3:  63%|██████▎   | 588/932 [08:17<09:51,  1.72s/file]"
     ]
    },
    {
     "name": "stdout",
     "output_type": "stream",
     "text": [
      "Axle Prediction: 6\n",
      "Validation Result: False\n",
      "Vehicle Prediction: bus\n"
     ]
    },
    {
     "name": "stderr",
     "output_type": "stream",
     "text": [
      "[codecarbon INFO @ 11:12:32] Energy consumed for RAM : 0.025951 kWh. RAM Power : 188.80178117752075 W\n",
      "[codecarbon INFO @ 11:12:32] Energy consumed for all CPUs : 0.013746 kWh. Total CPU Power : 100.0 W\n",
      "[codecarbon INFO @ 11:12:32] Energy consumed for all GPUs : 0.042328 kWh. Total GPU Power : 308.0896765062415 W\n",
      "[codecarbon INFO @ 11:12:32] 0.082025 kWh of electricity used since the beginning.\n",
      "Processing: bus 3:  63%|██████▎   | 589/932 [08:19<10:53,  1.91s/file]"
     ]
    },
    {
     "name": "stdout",
     "output_type": "stream",
     "text": [
      "Axle Prediction: 6\n",
      "Validation Result: False\n",
      "Vehicle Prediction: bus\n"
     ]
    },
    {
     "name": "stderr",
     "output_type": "stream",
     "text": [
      "Processing: bus 3:  63%|██████▎   | 590/932 [08:21<10:26,  1.83s/file]"
     ]
    },
    {
     "name": "stdout",
     "output_type": "stream",
     "text": [
      "Axle Prediction: 6\n",
      "Validation Result: False\n",
      "Vehicle Prediction: bus\n"
     ]
    },
    {
     "name": "stderr",
     "output_type": "stream",
     "text": [
      "Processing: bus 3:  63%|██████▎   | 591/932 [08:23<11:20,  2.00s/file]"
     ]
    },
    {
     "name": "stdout",
     "output_type": "stream",
     "text": [
      "Axle Prediction: 2\n",
      "Validation Result: False\n",
      "Vehicle Prediction: bus\n"
     ]
    },
    {
     "name": "stderr",
     "output_type": "stream",
     "text": [
      "Processing: bus 3:  64%|██████▎   | 592/932 [08:25<11:05,  1.96s/file]"
     ]
    },
    {
     "name": "stdout",
     "output_type": "stream",
     "text": [
      "Axle Prediction: 3\n",
      "Validation Result: True\n",
      "Vehicle Prediction: bus\n"
     ]
    },
    {
     "name": "stderr",
     "output_type": "stream",
     "text": [
      "Processing: bus 3:  64%|██████▎   | 593/932 [08:27<10:58,  1.94s/file]"
     ]
    },
    {
     "name": "stdout",
     "output_type": "stream",
     "text": [
      "Axle Prediction: 3\n",
      "Validation Result: True\n",
      "Vehicle Prediction: bus\n"
     ]
    },
    {
     "name": "stderr",
     "output_type": "stream",
     "text": [
      "Processing: bus 3:  64%|██████▎   | 594/932 [08:29<10:49,  1.92s/file]"
     ]
    },
    {
     "name": "stdout",
     "output_type": "stream",
     "text": [
      "Axle Prediction: 3\n",
      "Validation Result: True\n",
      "Vehicle Prediction: bus\n"
     ]
    },
    {
     "name": "stderr",
     "output_type": "stream",
     "text": [
      "Processing: bus 3:  64%|██████▍   | 595/932 [08:29<08:28,  1.51s/file]"
     ]
    },
    {
     "name": "stdout",
     "output_type": "stream",
     "text": [
      "Axle Prediction: 3\n",
      "Validation Result: True\n",
      "Vehicle Prediction: bus\n"
     ]
    },
    {
     "name": "stderr",
     "output_type": "stream",
     "text": [
      "Processing: bus 3:  64%|██████▍   | 596/932 [08:30<06:51,  1.23s/file]"
     ]
    },
    {
     "name": "stdout",
     "output_type": "stream",
     "text": [
      "Axle Prediction: 6\n",
      "Validation Result: False\n",
      "Vehicle Prediction: bus\n"
     ]
    },
    {
     "name": "stderr",
     "output_type": "stream",
     "text": [
      "Processing: bus 3:  64%|██████▍   | 597/932 [08:30<05:43,  1.02s/file]"
     ]
    },
    {
     "name": "stdout",
     "output_type": "stream",
     "text": [
      "Axle Prediction: 6\n",
      "Validation Result: False\n",
      "Vehicle Prediction: bus\n"
     ]
    },
    {
     "name": "stderr",
     "output_type": "stream",
     "text": [
      "Processing: bus 3:  64%|██████▍   | 598/932 [08:31<04:55,  1.13file/s]"
     ]
    },
    {
     "name": "stdout",
     "output_type": "stream",
     "text": [
      "Axle Prediction: 3\n",
      "Validation Result: True\n",
      "Vehicle Prediction: bus\n"
     ]
    },
    {
     "name": "stderr",
     "output_type": "stream",
     "text": [
      "Processing: bus 3:  64%|██████▍   | 599/932 [08:31<04:18,  1.29file/s]"
     ]
    },
    {
     "name": "stdout",
     "output_type": "stream",
     "text": [
      "Axle Prediction: 6\n",
      "Validation Result: False\n",
      "Vehicle Prediction: bus\n"
     ]
    },
    {
     "name": "stderr",
     "output_type": "stream",
     "text": [
      "Processing: bus 3:  64%|██████▍   | 600/932 [08:32<03:54,  1.42file/s]"
     ]
    },
    {
     "name": "stdout",
     "output_type": "stream",
     "text": [
      "Axle Prediction: 6\n",
      "Validation Result: False\n",
      "Vehicle Prediction: bus\n"
     ]
    },
    {
     "name": "stderr",
     "output_type": "stream",
     "text": [
      "Processing: bus 3:  64%|██████▍   | 601/932 [08:33<03:37,  1.52file/s]"
     ]
    },
    {
     "name": "stdout",
     "output_type": "stream",
     "text": [
      "Axle Prediction: 4\n",
      "Validation Result: False\n",
      "Vehicle Prediction: bus\n"
     ]
    },
    {
     "name": "stderr",
     "output_type": "stream",
     "text": [
      "Processing: bus 3:  65%|██████▍   | 602/932 [08:33<03:26,  1.59file/s]"
     ]
    },
    {
     "name": "stdout",
     "output_type": "stream",
     "text": [
      "Axle Prediction: 3\n",
      "Validation Result: True\n",
      "Vehicle Prediction: bus\n"
     ]
    },
    {
     "name": "stderr",
     "output_type": "stream",
     "text": [
      "Processing: bus 3:  65%|██████▍   | 603/932 [08:34<03:19,  1.65file/s]"
     ]
    },
    {
     "name": "stdout",
     "output_type": "stream",
     "text": [
      "Axle Prediction: 6\n",
      "Validation Result: False\n"
     ]
    },
    {
     "name": "stderr",
     "output_type": "stream",
     "text": [
      "[codecarbon INFO @ 11:12:47] Energy consumed for RAM : 0.026737 kWh. RAM Power : 188.80178117752075 W\n",
      "[codecarbon INFO @ 11:12:47] Energy consumed for all CPUs : 0.014163 kWh. Total CPU Power : 100.0 W\n",
      "[codecarbon INFO @ 11:12:47] Energy consumed for all GPUs : 0.043604 kWh. Total GPU Power : 306.3540308158698 W\n",
      "[codecarbon INFO @ 11:12:47] 0.084504 kWh of electricity used since the beginning.\n"
     ]
    },
    {
     "name": "stdout",
     "output_type": "stream",
     "text": [
      "Vehicle Prediction: bus\n"
     ]
    },
    {
     "name": "stderr",
     "output_type": "stream",
     "text": [
      "Processing: bus 3:  65%|██████▍   | 604/932 [08:34<03:13,  1.70file/s]"
     ]
    },
    {
     "name": "stdout",
     "output_type": "stream",
     "text": [
      "Axle Prediction: 6\n",
      "Validation Result: False\n",
      "Vehicle Prediction: bus\n"
     ]
    },
    {
     "name": "stderr",
     "output_type": "stream",
     "text": [
      "Processing: bus 3:  65%|██████▍   | 605/932 [08:35<03:09,  1.73file/s]"
     ]
    },
    {
     "name": "stdout",
     "output_type": "stream",
     "text": [
      "Axle Prediction: 2\n",
      "Validation Result: False\n",
      "Vehicle Prediction: bus\n"
     ]
    },
    {
     "name": "stderr",
     "output_type": "stream",
     "text": [
      "Processing: bus 3:  65%|██████▌   | 606/932 [08:35<03:05,  1.75file/s]"
     ]
    },
    {
     "name": "stdout",
     "output_type": "stream",
     "text": [
      "Axle Prediction: 3\n",
      "Validation Result: True\n",
      "Vehicle Prediction: bus\n"
     ]
    },
    {
     "name": "stderr",
     "output_type": "stream",
     "text": [
      "Processing: bus 3:  65%|██████▌   | 607/932 [08:36<03:04,  1.76file/s]"
     ]
    },
    {
     "name": "stdout",
     "output_type": "stream",
     "text": [
      "Axle Prediction: 6\n",
      "Validation Result: False\n",
      "Vehicle Prediction: bus\n"
     ]
    },
    {
     "name": "stderr",
     "output_type": "stream",
     "text": [
      "Processing: bus 3:  65%|██████▌   | 608/932 [08:36<03:01,  1.79file/s]"
     ]
    },
    {
     "name": "stdout",
     "output_type": "stream",
     "text": [
      "Axle Prediction: 6\n",
      "Validation Result: False\n",
      "Vehicle Prediction: bus\n"
     ]
    },
    {
     "name": "stderr",
     "output_type": "stream",
     "text": [
      "Processing: bus 3:  65%|██████▌   | 609/932 [08:37<03:00,  1.79file/s]"
     ]
    },
    {
     "name": "stdout",
     "output_type": "stream",
     "text": [
      "Axle Prediction: 6\n",
      "Validation Result: False\n",
      "Vehicle Prediction: bus\n"
     ]
    },
    {
     "name": "stderr",
     "output_type": "stream",
     "text": [
      "Processing: bus 3:  65%|██████▌   | 610/932 [08:38<02:58,  1.80file/s]"
     ]
    },
    {
     "name": "stdout",
     "output_type": "stream",
     "text": [
      "Axle Prediction: 2\n",
      "Validation Result: False\n",
      "Vehicle Prediction: bus\n"
     ]
    },
    {
     "name": "stderr",
     "output_type": "stream",
     "text": [
      "Processing: bus 3:  66%|██████▌   | 611/932 [08:38<02:58,  1.80file/s]"
     ]
    },
    {
     "name": "stdout",
     "output_type": "stream",
     "text": [
      "Axle Prediction: 6\n",
      "Validation Result: False\n",
      "Vehicle Prediction: bus\n"
     ]
    },
    {
     "name": "stderr",
     "output_type": "stream",
     "text": [
      "Processing: bus 3:  66%|██████▌   | 612/932 [08:39<02:55,  1.82file/s]"
     ]
    },
    {
     "name": "stdout",
     "output_type": "stream",
     "text": [
      "Axle Prediction: 3\n",
      "Validation Result: True\n",
      "Vehicle Prediction: bus\n"
     ]
    },
    {
     "name": "stderr",
     "output_type": "stream",
     "text": [
      "Processing: bus 3:  66%|██████▌   | 613/932 [08:39<02:54,  1.83file/s]"
     ]
    },
    {
     "name": "stdout",
     "output_type": "stream",
     "text": [
      "Axle Prediction: 4\n",
      "Validation Result: False\n",
      "Vehicle Prediction: bus\n"
     ]
    },
    {
     "name": "stderr",
     "output_type": "stream",
     "text": [
      "Processing: bus 3:  66%|██████▌   | 614/932 [08:40<02:54,  1.83file/s]"
     ]
    },
    {
     "name": "stdout",
     "output_type": "stream",
     "text": [
      "Axle Prediction: 6\n",
      "Validation Result: False\n",
      "Vehicle Prediction: bus\n"
     ]
    },
    {
     "name": "stderr",
     "output_type": "stream",
     "text": [
      "Processing: bus 3:  66%|██████▌   | 615/932 [08:40<02:51,  1.85file/s]"
     ]
    },
    {
     "name": "stdout",
     "output_type": "stream",
     "text": [
      "Axle Prediction: 6\n",
      "Validation Result: False\n",
      "Vehicle Prediction: bus\n"
     ]
    },
    {
     "name": "stderr",
     "output_type": "stream",
     "text": [
      "Processing: bus 3:  66%|██████▌   | 616/932 [08:41<02:52,  1.83file/s]"
     ]
    },
    {
     "name": "stdout",
     "output_type": "stream",
     "text": [
      "Axle Prediction: 6\n",
      "Validation Result: False\n",
      "Vehicle Prediction: bus\n"
     ]
    },
    {
     "name": "stderr",
     "output_type": "stream",
     "text": [
      "Processing: bus 3:  66%|██████▌   | 617/932 [08:41<02:52,  1.82file/s]"
     ]
    },
    {
     "name": "stdout",
     "output_type": "stream",
     "text": [
      "Axle Prediction: 6\n",
      "Validation Result: False\n",
      "Vehicle Prediction: bus\n"
     ]
    },
    {
     "name": "stderr",
     "output_type": "stream",
     "text": [
      "Processing: bus 3:  66%|██████▋   | 618/932 [08:42<02:52,  1.82file/s]"
     ]
    },
    {
     "name": "stdout",
     "output_type": "stream",
     "text": [
      "Axle Prediction: 6\n",
      "Validation Result: False\n",
      "Vehicle Prediction: bus\n"
     ]
    },
    {
     "name": "stderr",
     "output_type": "stream",
     "text": [
      "Processing: bus 3:  66%|██████▋   | 619/932 [08:42<02:53,  1.80file/s]"
     ]
    },
    {
     "name": "stdout",
     "output_type": "stream",
     "text": [
      "Axle Prediction: 2\n",
      "Validation Result: False\n",
      "Vehicle Prediction: bus\n"
     ]
    },
    {
     "name": "stderr",
     "output_type": "stream",
     "text": [
      "Processing: bus 3:  67%|██████▋   | 620/932 [08:43<02:52,  1.81file/s]"
     ]
    },
    {
     "name": "stdout",
     "output_type": "stream",
     "text": [
      "Axle Prediction: 2\n",
      "Validation Result: False\n",
      "Vehicle Prediction: bus\n"
     ]
    },
    {
     "name": "stderr",
     "output_type": "stream",
     "text": [
      "Processing: bus 3:  67%|██████▋   | 621/932 [08:44<02:51,  1.81file/s]"
     ]
    },
    {
     "name": "stdout",
     "output_type": "stream",
     "text": [
      "Axle Prediction: 2\n",
      "Validation Result: False\n",
      "Vehicle Prediction: bus\n"
     ]
    },
    {
     "name": "stderr",
     "output_type": "stream",
     "text": [
      "Processing: bus 3:  67%|██████▋   | 622/932 [08:44<02:51,  1.81file/s]"
     ]
    },
    {
     "name": "stdout",
     "output_type": "stream",
     "text": [
      "Axle Prediction: 2\n",
      "Validation Result: False\n",
      "Vehicle Prediction: bus\n"
     ]
    },
    {
     "name": "stderr",
     "output_type": "stream",
     "text": [
      "Processing: bus 3:  67%|██████▋   | 623/932 [08:45<02:49,  1.82file/s]"
     ]
    },
    {
     "name": "stdout",
     "output_type": "stream",
     "text": [
      "Axle Prediction: 3\n",
      "Validation Result: True\n",
      "Vehicle Prediction: bus\n"
     ]
    },
    {
     "name": "stderr",
     "output_type": "stream",
     "text": [
      "Processing: bus 3:  67%|██████▋   | 624/932 [08:45<02:46,  1.85file/s]"
     ]
    },
    {
     "name": "stdout",
     "output_type": "stream",
     "text": [
      "Axle Prediction: 2\n",
      "Validation Result: False\n",
      "Vehicle Prediction: bus\n"
     ]
    },
    {
     "name": "stderr",
     "output_type": "stream",
     "text": [
      "Processing: bus 3:  67%|██████▋   | 625/932 [08:46<02:46,  1.84file/s]"
     ]
    },
    {
     "name": "stdout",
     "output_type": "stream",
     "text": [
      "Axle Prediction: 6\n",
      "Validation Result: False\n",
      "Vehicle Prediction: bus\n"
     ]
    },
    {
     "name": "stderr",
     "output_type": "stream",
     "text": [
      "Processing: bus 3:  67%|██████▋   | 626/932 [08:46<02:58,  1.72file/s]"
     ]
    },
    {
     "name": "stdout",
     "output_type": "stream",
     "text": [
      "Axle Prediction: 3\n",
      "Validation Result: True\n",
      "Vehicle Prediction: bus\n"
     ]
    },
    {
     "name": "stderr",
     "output_type": "stream",
     "text": [
      "Processing: bus 3:  67%|██████▋   | 627/932 [08:47<03:06,  1.64file/s]"
     ]
    },
    {
     "name": "stdout",
     "output_type": "stream",
     "text": [
      "Axle Prediction: 6\n",
      "Validation Result: False\n",
      "Vehicle Prediction: bus\n"
     ]
    },
    {
     "name": "stderr",
     "output_type": "stream",
     "text": [
      "[codecarbon INFO @ 11:13:02] Energy consumed for RAM : 0.027524 kWh. RAM Power : 188.80178117752075 W\n",
      "[codecarbon INFO @ 11:13:02] Energy consumed for all CPUs : 0.014579 kWh. Total CPU Power : 100.0 W\n",
      "[codecarbon INFO @ 11:13:02] Energy consumed for all GPUs : 0.044826 kWh. Total GPU Power : 293.245521396385 W\n",
      "[codecarbon INFO @ 11:13:02] 0.086928 kWh of electricity used since the beginning.\n",
      "Processing: bus 3:  67%|██████▋   | 628/932 [08:49<05:17,  1.04s/file]"
     ]
    },
    {
     "name": "stdout",
     "output_type": "stream",
     "text": [
      "Axle Prediction: 6\n",
      "Validation Result: False\n",
      "Vehicle Prediction: bus\n"
     ]
    },
    {
     "name": "stderr",
     "output_type": "stream",
     "text": [
      "Processing: bus 3:  67%|██████▋   | 629/932 [08:51<06:32,  1.29s/file]"
     ]
    },
    {
     "name": "stdout",
     "output_type": "stream",
     "text": [
      "Axle Prediction: 6\n",
      "Validation Result: False\n",
      "Vehicle Prediction: bus\n"
     ]
    },
    {
     "name": "stderr",
     "output_type": "stream",
     "text": [
      "Processing: bus 3:  68%|██████▊   | 630/932 [08:53<07:33,  1.50s/file]"
     ]
    },
    {
     "name": "stdout",
     "output_type": "stream",
     "text": [
      "Axle Prediction: 3\n",
      "Validation Result: True\n",
      "Vehicle Prediction: bus\n"
     ]
    },
    {
     "name": "stderr",
     "output_type": "stream",
     "text": [
      "Processing: bus 3:  68%|██████▊   | 631/932 [08:55<08:43,  1.74s/file]"
     ]
    },
    {
     "name": "stdout",
     "output_type": "stream",
     "text": [
      "Axle Prediction: 6\n",
      "Validation Result: False\n",
      "Vehicle Prediction: bus\n"
     ]
    },
    {
     "name": "stderr",
     "output_type": "stream",
     "text": [
      "Processing: bus 3:  68%|██████▊   | 632/932 [08:56<07:35,  1.52s/file]"
     ]
    },
    {
     "name": "stdout",
     "output_type": "stream",
     "text": [
      "Axle Prediction: 3\n",
      "Validation Result: True\n",
      "Vehicle Prediction: bus\n"
     ]
    },
    {
     "name": "stderr",
     "output_type": "stream",
     "text": [
      "Processing: bus 3:  68%|██████▊   | 633/932 [08:58<08:33,  1.72s/file]"
     ]
    },
    {
     "name": "stdout",
     "output_type": "stream",
     "text": [
      "Axle Prediction: 6\n",
      "Validation Result: False\n",
      "Vehicle Prediction: bus\n"
     ]
    },
    {
     "name": "stderr",
     "output_type": "stream",
     "text": [
      "Processing: bus 3:  68%|██████▊   | 634/932 [09:01<09:07,  1.84s/file]"
     ]
    },
    {
     "name": "stdout",
     "output_type": "stream",
     "text": [
      "Axle Prediction: 4\n",
      "Validation Result: False\n",
      "Vehicle Prediction: bus\n"
     ]
    },
    {
     "name": "stderr",
     "output_type": "stream",
     "text": [
      "Processing: bus 3:  68%|██████▊   | 635/932 [09:03<09:35,  1.94s/file]"
     ]
    },
    {
     "name": "stdout",
     "output_type": "stream",
     "text": [
      "Axle Prediction: 4\n",
      "Validation Result: False\n"
     ]
    },
    {
     "name": "stderr",
     "output_type": "stream",
     "text": [
      "[codecarbon INFO @ 11:13:17] Energy consumed for RAM : 0.028310 kWh. RAM Power : 188.80178117752075 W\n",
      "[codecarbon INFO @ 11:13:17] Energy consumed for all CPUs : 0.014996 kWh. Total CPU Power : 100.0 W\n",
      "[codecarbon INFO @ 11:13:17] Energy consumed for all GPUs : 0.046083 kWh. Total GPU Power : 301.97804466197215 W\n",
      "[codecarbon INFO @ 11:13:17] 0.089389 kWh of electricity used since the beginning.\n"
     ]
    },
    {
     "name": "stdout",
     "output_type": "stream",
     "text": [
      "Vehicle Prediction: bus\n"
     ]
    },
    {
     "name": "stderr",
     "output_type": "stream",
     "text": [
      "Processing: bus 3:  68%|██████▊   | 636/932 [09:05<09:55,  2.01s/file]"
     ]
    },
    {
     "name": "stdout",
     "output_type": "stream",
     "text": [
      "Axle Prediction: 4\n",
      "Validation Result: False\n",
      "Vehicle Prediction: bus\n"
     ]
    },
    {
     "name": "stderr",
     "output_type": "stream",
     "text": [
      "Processing: bus 3:  68%|██████▊   | 637/932 [09:06<07:45,  1.58s/file]"
     ]
    },
    {
     "name": "stdout",
     "output_type": "stream",
     "text": [
      "Axle Prediction: 3\n",
      "Validation Result: True\n",
      "Vehicle Prediction: bus\n"
     ]
    },
    {
     "name": "stderr",
     "output_type": "stream",
     "text": [
      "Processing: bus 3:  68%|██████▊   | 638/932 [09:06<06:14,  1.27s/file]"
     ]
    },
    {
     "name": "stdout",
     "output_type": "stream",
     "text": [
      "Axle Prediction: 3\n",
      "Validation Result: True\n",
      "Vehicle Prediction: bus\n"
     ]
    },
    {
     "name": "stderr",
     "output_type": "stream",
     "text": [
      "Processing: bus 3:  69%|██████▊   | 639/932 [09:07<05:10,  1.06s/file]"
     ]
    },
    {
     "name": "stdout",
     "output_type": "stream",
     "text": [
      "Axle Prediction: 6\n",
      "Validation Result: False\n",
      "Vehicle Prediction: bus\n"
     ]
    },
    {
     "name": "stderr",
     "output_type": "stream",
     "text": [
      "Processing: bus 3:  69%|██████▊   | 640/932 [09:07<04:26,  1.09file/s]"
     ]
    },
    {
     "name": "stdout",
     "output_type": "stream",
     "text": [
      "Axle Prediction: 3\n",
      "Validation Result: True\n",
      "Vehicle Prediction: bus\n"
     ]
    },
    {
     "name": "stderr",
     "output_type": "stream",
     "text": [
      "Processing: truck 3:  69%|██████▉   | 641/932 [09:08<03:54,  1.24file/s]"
     ]
    },
    {
     "name": "stdout",
     "output_type": "stream",
     "text": [
      "Axle Prediction: 3\n",
      "Validation Result: True\n",
      "Vehicle Prediction: truck\n",
      "Is Pickup Truck: no.\n"
     ]
    },
    {
     "name": "stderr",
     "output_type": "stream",
     "text": [
      "Processing: truck 3:  69%|██████▉   | 642/932 [09:09<03:55,  1.23file/s]"
     ]
    },
    {
     "name": "stdout",
     "output_type": "stream",
     "text": [
      "Axle Prediction: 3\n",
      "Validation Result: True\n",
      "Vehicle Prediction: truck\n",
      "Is Pickup Truck: no\n"
     ]
    },
    {
     "name": "stderr",
     "output_type": "stream",
     "text": [
      "Processing: truck 3:  69%|██████▉   | 643/932 [09:10<04:52,  1.01s/file]"
     ]
    },
    {
     "name": "stdout",
     "output_type": "stream",
     "text": [
      "Axle Prediction: 6\n",
      "Validation Result: False\n",
      "Vehicle Prediction: dump truck\n"
     ]
    },
    {
     "name": "stderr",
     "output_type": "stream",
     "text": [
      "Processing: truck 3:  69%|██████▉   | 644/932 [09:11<04:49,  1.01s/file]"
     ]
    },
    {
     "name": "stdout",
     "output_type": "stream",
     "text": [
      "Axle Prediction: 6\n",
      "Validation Result: False\n",
      "Vehicle Prediction: truck\n",
      "Is Pickup Truck: no.\n"
     ]
    },
    {
     "name": "stderr",
     "output_type": "stream",
     "text": [
      "Processing: truck 3:  69%|██████▉   | 645/932 [09:13<05:29,  1.15s/file]"
     ]
    },
    {
     "name": "stdout",
     "output_type": "stream",
     "text": [
      "Axle Prediction: 6\n",
      "Validation Result: False\n",
      "Vehicle Prediction: dump truck\n"
     ]
    },
    {
     "name": "stderr",
     "output_type": "stream",
     "text": [
      "Processing: truck 3:  69%|██████▉   | 646/932 [09:14<05:15,  1.10s/file]"
     ]
    },
    {
     "name": "stdout",
     "output_type": "stream",
     "text": [
      "Axle Prediction: 4\n",
      "Validation Result: False\n",
      "Vehicle Prediction: dump truck\n"
     ]
    },
    {
     "name": "stderr",
     "output_type": "stream",
     "text": [
      "Processing: truck 3:  69%|██████▉   | 647/932 [09:15<05:05,  1.07s/file]"
     ]
    },
    {
     "name": "stdout",
     "output_type": "stream",
     "text": [
      "Axle Prediction: 2\n",
      "Validation Result: False\n",
      "Vehicle Prediction: dump truck\n"
     ]
    },
    {
     "name": "stderr",
     "output_type": "stream",
     "text": [
      "Processing: truck 3:  70%|██████▉   | 648/932 [09:16<04:58,  1.05s/file]"
     ]
    },
    {
     "name": "stdout",
     "output_type": "stream",
     "text": [
      "Axle Prediction: 3\n",
      "Validation Result: True\n",
      "Vehicle Prediction: dump truck\n"
     ]
    },
    {
     "name": "stderr",
     "output_type": "stream",
     "text": [
      "Processing: truck 3:  70%|██████▉   | 649/932 [09:17<04:52,  1.03s/file]"
     ]
    },
    {
     "name": "stdout",
     "output_type": "stream",
     "text": [
      "Axle Prediction: 3\n",
      "Validation Result: True\n",
      "Vehicle Prediction: truck\n",
      "Is Pickup Truck: no\n"
     ]
    },
    {
     "name": "stderr",
     "output_type": "stream",
     "text": [
      "Processing: truck 3:  70%|██████▉   | 650/932 [09:18<05:28,  1.16s/file]"
     ]
    },
    {
     "name": "stdout",
     "output_type": "stream",
     "text": [
      "Axle Prediction: 3\n",
      "Validation Result: True\n",
      "Vehicle Prediction: truck\n"
     ]
    },
    {
     "name": "stderr",
     "output_type": "stream",
     "text": [
      "[codecarbon INFO @ 11:13:32] Energy consumed for RAM : 0.029096 kWh. RAM Power : 188.80178117752075 W\n",
      "[codecarbon INFO @ 11:13:32] Energy consumed for all CPUs : 0.015412 kWh. Total CPU Power : 100.0 W\n",
      "[codecarbon INFO @ 11:13:32] Energy consumed for all GPUs : 0.047365 kWh. Total GPU Power : 307.60281639019973 W\n",
      "[codecarbon INFO @ 11:13:32] 0.091873 kWh of electricity used since the beginning.\n"
     ]
    },
    {
     "name": "stdout",
     "output_type": "stream",
     "text": [
      "Is Pickup Truck: no\n"
     ]
    },
    {
     "name": "stderr",
     "output_type": "stream",
     "text": [
      "Processing: truck 3:  70%|██████▉   | 651/932 [09:19<05:54,  1.26s/file]"
     ]
    },
    {
     "name": "stdout",
     "output_type": "stream",
     "text": [
      "Axle Prediction: 6\n",
      "Validation Result: False\n",
      "Vehicle Prediction: truck\n",
      "Is Pickup Truck: no.\n"
     ]
    },
    {
     "name": "stderr",
     "output_type": "stream",
     "text": [
      "Processing: truck 3:  70%|██████▉   | 652/932 [09:21<06:10,  1.32s/file]"
     ]
    },
    {
     "name": "stdout",
     "output_type": "stream",
     "text": [
      "Axle Prediction: 3\n",
      "Validation Result: True\n",
      "Vehicle Prediction: truck\n",
      "Is Pickup Truck: no\n"
     ]
    },
    {
     "name": "stderr",
     "output_type": "stream",
     "text": [
      "Processing: truck 3:  70%|███████   | 653/932 [09:22<06:21,  1.37s/file]"
     ]
    },
    {
     "name": "stdout",
     "output_type": "stream",
     "text": [
      "Axle Prediction: 3\n",
      "Validation Result: True\n",
      "Vehicle Prediction: truck\n",
      "Is Pickup Truck: no.\n"
     ]
    },
    {
     "name": "stderr",
     "output_type": "stream",
     "text": [
      "Processing: truck 3:  70%|███████   | 654/932 [09:24<06:49,  1.47s/file]"
     ]
    },
    {
     "name": "stdout",
     "output_type": "stream",
     "text": [
      "Axle Prediction: 6\n",
      "Validation Result: False\n",
      "Vehicle Prediction: dump truck\n"
     ]
    },
    {
     "name": "stderr",
     "output_type": "stream",
     "text": [
      "Processing: truck 3:  70%|███████   | 655/932 [09:25<06:09,  1.33s/file]"
     ]
    },
    {
     "name": "stdout",
     "output_type": "stream",
     "text": [
      "Axle Prediction: 6\n",
      "Validation Result: False\n",
      "Vehicle Prediction: truck\n",
      "Is Pickup Truck: no\n"
     ]
    },
    {
     "name": "stderr",
     "output_type": "stream",
     "text": [
      "Processing: truck 3:  70%|███████   | 656/932 [09:26<05:51,  1.27s/file]"
     ]
    },
    {
     "name": "stdout",
     "output_type": "stream",
     "text": [
      "Axle Prediction: 6\n",
      "Validation Result: False\n",
      "Vehicle Prediction: truck\n",
      "Is Pickup Truck: no.\n"
     ]
    },
    {
     "name": "stderr",
     "output_type": "stream",
     "text": [
      "Processing: truck 3:  70%|███████   | 657/932 [09:28<06:07,  1.33s/file]"
     ]
    },
    {
     "name": "stdout",
     "output_type": "stream",
     "text": [
      "Axle Prediction: 3\n",
      "Validation Result: True\n",
      "Vehicle Prediction: truck\n",
      "Is Pickup Truck: no\n"
     ]
    },
    {
     "name": "stderr",
     "output_type": "stream",
     "text": [
      "Processing: truck 3:  71%|███████   | 658/932 [09:29<06:17,  1.38s/file]"
     ]
    },
    {
     "name": "stdout",
     "output_type": "stream",
     "text": [
      "Axle Prediction: 3\n",
      "Validation Result: True\n",
      "Vehicle Prediction: truck\n",
      "Is Pickup Truck: no\n"
     ]
    },
    {
     "name": "stderr",
     "output_type": "stream",
     "text": [
      "Processing: truck 3:  71%|███████   | 659/932 [09:31<06:24,  1.41s/file]"
     ]
    },
    {
     "name": "stdout",
     "output_type": "stream",
     "text": [
      "Axle Prediction: 6\n",
      "Validation Result: False\n",
      "Vehicle Prediction: dump truck\n"
     ]
    },
    {
     "name": "stderr",
     "output_type": "stream",
     "text": [
      "Processing: truck 3:  71%|███████   | 660/932 [09:32<05:51,  1.29s/file]"
     ]
    },
    {
     "name": "stdout",
     "output_type": "stream",
     "text": [
      "Axle Prediction: 6\n",
      "Validation Result: False\n",
      "Vehicle Prediction: truck\n",
      "Is Pickup Truck: no.\n"
     ]
    },
    {
     "name": "stderr",
     "output_type": "stream",
     "text": [
      "Processing: truck 3:  71%|███████   | 661/932 [09:33<06:05,  1.35s/file]"
     ]
    },
    {
     "name": "stdout",
     "output_type": "stream",
     "text": [
      "Axle Prediction: 6\n",
      "Validation Result: False\n"
     ]
    },
    {
     "name": "stderr",
     "output_type": "stream",
     "text": [
      "[codecarbon INFO @ 11:13:47] Energy consumed for RAM : 0.029883 kWh. RAM Power : 188.80178117752075 W\n",
      "[codecarbon INFO @ 11:13:47] Energy consumed for all CPUs : 0.015829 kWh. Total CPU Power : 100.0 W\n",
      "[codecarbon INFO @ 11:13:47] Energy consumed for all GPUs : 0.048676 kWh. Total GPU Power : 314.5985761936466 W\n"
     ]
    },
    {
     "name": "stdout",
     "output_type": "stream",
     "text": [
      "Vehicle Prediction: dump truck\n"
     ]
    },
    {
     "name": "stderr",
     "output_type": "stream",
     "text": [
      "[codecarbon INFO @ 11:13:47] 0.094388 kWh of electricity used since the beginning.\n",
      "Processing: truck 3:  71%|███████   | 662/932 [09:34<05:36,  1.25s/file]"
     ]
    },
    {
     "name": "stdout",
     "output_type": "stream",
     "text": [
      "Axle Prediction: 6\n",
      "Validation Result: False\n",
      "Vehicle Prediction: truck\n",
      "Is Pickup Truck: no\n"
     ]
    },
    {
     "name": "stderr",
     "output_type": "stream",
     "text": [
      "Processing: truck 3:  71%|███████   | 663/932 [09:36<05:54,  1.32s/file]"
     ]
    },
    {
     "name": "stdout",
     "output_type": "stream",
     "text": [
      "Axle Prediction: 6\n",
      "Validation Result: False\n",
      "Vehicle Prediction: truck\n",
      "Is Pickup Truck: no.\n"
     ]
    },
    {
     "name": "stderr",
     "output_type": "stream",
     "text": [
      "Processing: truck 3:  71%|███████   | 664/932 [09:37<06:07,  1.37s/file]"
     ]
    },
    {
     "name": "stdout",
     "output_type": "stream",
     "text": [
      "Axle Prediction: 3\n",
      "Validation Result: True\n",
      "Vehicle Prediction: dump truck\n"
     ]
    },
    {
     "name": "stderr",
     "output_type": "stream",
     "text": [
      "Processing: truck 3:  71%|███████▏  | 665/932 [09:38<05:36,  1.26s/file]"
     ]
    },
    {
     "name": "stdout",
     "output_type": "stream",
     "text": [
      "Axle Prediction: 3\n",
      "Validation Result: True\n",
      "Vehicle Prediction: truck\n",
      "Is Pickup Truck: no\n"
     ]
    },
    {
     "name": "stderr",
     "output_type": "stream",
     "text": [
      "Processing: truck 3:  71%|███████▏  | 666/932 [09:40<05:53,  1.33s/file]"
     ]
    },
    {
     "name": "stdout",
     "output_type": "stream",
     "text": [
      "Axle Prediction: 3\n",
      "Validation Result: True\n",
      "Vehicle Prediction: truck\n",
      "Is Pickup Truck: no.\n"
     ]
    },
    {
     "name": "stderr",
     "output_type": "stream",
     "text": [
      "Processing: truck 3:  72%|███████▏  | 667/932 [09:41<06:04,  1.37s/file]"
     ]
    },
    {
     "name": "stdout",
     "output_type": "stream",
     "text": [
      "Axle Prediction: 3\n",
      "Validation Result: True\n",
      "Vehicle Prediction: dump truck\n"
     ]
    },
    {
     "name": "stderr",
     "output_type": "stream",
     "text": [
      "Processing: truck 3:  72%|███████▏  | 668/932 [09:42<05:33,  1.26s/file]"
     ]
    },
    {
     "name": "stdout",
     "output_type": "stream",
     "text": [
      "Axle Prediction: 3\n",
      "Validation Result: True\n",
      "Vehicle Prediction: truck\n",
      "Is Pickup Truck: no\n"
     ]
    },
    {
     "name": "stderr",
     "output_type": "stream",
     "text": [
      "Processing: truck 3:  72%|███████▏  | 669/932 [09:44<05:49,  1.33s/file]"
     ]
    },
    {
     "name": "stdout",
     "output_type": "stream",
     "text": [
      "Axle Prediction: 3\n",
      "Validation Result: True\n",
      "Vehicle Prediction: dump truck\n"
     ]
    },
    {
     "name": "stderr",
     "output_type": "stream",
     "text": [
      "Processing: truck 3:  72%|███████▏  | 670/932 [09:45<05:23,  1.23s/file]"
     ]
    },
    {
     "name": "stdout",
     "output_type": "stream",
     "text": [
      "Axle Prediction: 6\n",
      "Validation Result: False\n",
      "Vehicle Prediction: dump truck\n"
     ]
    },
    {
     "name": "stderr",
     "output_type": "stream",
     "text": [
      "Processing: truck 3:  72%|███████▏  | 671/932 [09:46<05:03,  1.16s/file]"
     ]
    },
    {
     "name": "stdout",
     "output_type": "stream",
     "text": [
      "Axle Prediction: 4\n",
      "Validation Result: False\n",
      "Vehicle Prediction: truck\n",
      "Is Pickup Truck: no.\n"
     ]
    },
    {
     "name": "stderr",
     "output_type": "stream",
     "text": [
      "Processing: truck 3:  72%|███████▏  | 672/932 [09:47<05:26,  1.25s/file]"
     ]
    },
    {
     "name": "stdout",
     "output_type": "stream",
     "text": [
      "Axle Prediction: 4\n",
      "Validation Result: False\n",
      "Vehicle Prediction: truck\n",
      "Is Pickup Truck: no.\n"
     ]
    },
    {
     "name": "stderr",
     "output_type": "stream",
     "text": [
      "Processing: truck 3:  72%|███████▏  | 673/932 [09:49<05:43,  1.33s/file]"
     ]
    },
    {
     "name": "stdout",
     "output_type": "stream",
     "text": [
      "Axle Prediction: 3\n",
      "Validation Result: True\n"
     ]
    },
    {
     "name": "stderr",
     "output_type": "stream",
     "text": [
      "[codecarbon INFO @ 11:14:02] Energy consumed for RAM : 0.030669 kWh. RAM Power : 188.80178117752075 W\n",
      "[codecarbon INFO @ 11:14:02] Energy consumed for all CPUs : 0.016245 kWh. Total CPU Power : 100.0 W\n",
      "[codecarbon INFO @ 11:14:02] Energy consumed for all GPUs : 0.049995 kWh. Total GPU Power : 316.8835849519235 W\n",
      "[codecarbon INFO @ 11:14:02] 0.096909 kWh of electricity used since the beginning.\n"
     ]
    },
    {
     "name": "stdout",
     "output_type": "stream",
     "text": [
      "Vehicle Prediction: dump truck\n"
     ]
    },
    {
     "name": "stderr",
     "output_type": "stream",
     "text": [
      "Processing: truck 3:  72%|███████▏  | 674/932 [09:50<05:16,  1.23s/file]"
     ]
    },
    {
     "name": "stdout",
     "output_type": "stream",
     "text": [
      "Axle Prediction: 6\n",
      "Validation Result: False\n",
      "Vehicle Prediction: truck\n",
      "Is Pickup Truck: no.\n"
     ]
    },
    {
     "name": "stderr",
     "output_type": "stream",
     "text": [
      "Processing: truck 3:  72%|███████▏  | 675/932 [09:51<05:34,  1.30s/file]"
     ]
    },
    {
     "name": "stdout",
     "output_type": "stream",
     "text": [
      "Axle Prediction: 4\n",
      "Validation Result: False\n",
      "Vehicle Prediction: dump truck\n"
     ]
    },
    {
     "name": "stderr",
     "output_type": "stream",
     "text": [
      "Processing: truck 3:  73%|███████▎  | 676/932 [09:52<05:10,  1.21s/file]"
     ]
    },
    {
     "name": "stdout",
     "output_type": "stream",
     "text": [
      "Axle Prediction: 6\n",
      "Validation Result: False\n",
      "Vehicle Prediction: truck\n",
      "Is Pickup Truck: no.\n"
     ]
    },
    {
     "name": "stderr",
     "output_type": "stream",
     "text": [
      "Processing: truck 3:  73%|███████▎  | 677/932 [09:54<05:29,  1.29s/file]"
     ]
    },
    {
     "name": "stdout",
     "output_type": "stream",
     "text": [
      "Axle Prediction: 3\n",
      "Validation Result: True\n",
      "Vehicle Prediction: truck\n",
      "Is Pickup Truck: no\n"
     ]
    },
    {
     "name": "stderr",
     "output_type": "stream",
     "text": [
      "Processing: truck 3:  73%|███████▎  | 678/932 [09:55<05:43,  1.35s/file]"
     ]
    },
    {
     "name": "stdout",
     "output_type": "stream",
     "text": [
      "Axle Prediction: 3\n",
      "Validation Result: True\n",
      "Vehicle Prediction: dump truck\n"
     ]
    },
    {
     "name": "stderr",
     "output_type": "stream",
     "text": [
      "Processing: truck 3:  73%|███████▎  | 679/932 [09:56<05:15,  1.25s/file]"
     ]
    },
    {
     "name": "stdout",
     "output_type": "stream",
     "text": [
      "Axle Prediction: 6\n",
      "Validation Result: False\n",
      "Vehicle Prediction: truck\n",
      "Is Pickup Truck: no.\n"
     ]
    },
    {
     "name": "stderr",
     "output_type": "stream",
     "text": [
      "Processing: truck 3:  73%|███████▎  | 680/932 [09:58<05:31,  1.32s/file]"
     ]
    },
    {
     "name": "stdout",
     "output_type": "stream",
     "text": [
      "Axle Prediction: 3\n",
      "Validation Result: True\n",
      "Vehicle Prediction: truck\n",
      "Is Pickup Truck: no\n"
     ]
    },
    {
     "name": "stderr",
     "output_type": "stream",
     "text": [
      "Processing: truck 3:  73%|███████▎  | 681/932 [09:59<05:41,  1.36s/file]"
     ]
    },
    {
     "name": "stdout",
     "output_type": "stream",
     "text": [
      "Axle Prediction: 3\n",
      "Validation Result: True\n",
      "Vehicle Prediction: truck\n",
      "Is Pickup Truck: no.\n"
     ]
    },
    {
     "name": "stderr",
     "output_type": "stream",
     "text": [
      "Processing: truck 3:  73%|███████▎  | 682/932 [10:01<05:48,  1.40s/file]"
     ]
    },
    {
     "name": "stdout",
     "output_type": "stream",
     "text": [
      "Axle Prediction: 4\n",
      "Validation Result: False\n",
      "Vehicle Prediction: truck\n",
      "Is Pickup Truck: no\n"
     ]
    },
    {
     "name": "stderr",
     "output_type": "stream",
     "text": [
      "Processing: truck 3:  73%|███████▎  | 683/932 [10:02<05:53,  1.42s/file]"
     ]
    },
    {
     "name": "stdout",
     "output_type": "stream",
     "text": [
      "Axle Prediction: 3\n",
      "Validation Result: True\n",
      "Vehicle Prediction: truck\n",
      "Is Pickup Truck: no\n"
     ]
    },
    {
     "name": "stderr",
     "output_type": "stream",
     "text": [
      "Processing: truck 3:  73%|███████▎  | 684/932 [10:03<05:56,  1.44s/file]"
     ]
    },
    {
     "name": "stdout",
     "output_type": "stream",
     "text": [
      "Axle Prediction: 3\n",
      "Validation Result: True\n"
     ]
    },
    {
     "name": "stderr",
     "output_type": "stream",
     "text": [
      "[codecarbon INFO @ 11:14:17] Energy consumed for RAM : 0.031455 kWh. RAM Power : 188.80178117752075 W\n",
      "[codecarbon INFO @ 11:14:17] Energy consumed for all CPUs : 0.016662 kWh. Total CPU Power : 100.0 W\n",
      "[codecarbon INFO @ 11:14:17] Energy consumed for all GPUs : 0.051311 kWh. Total GPU Power : 315.8510550169826 W\n",
      "[codecarbon INFO @ 11:14:17] 0.099428 kWh of electricity used since the beginning.\n",
      "[codecarbon INFO @ 11:14:17] 0.074533 g.CO2eq/s mean an estimation of 2,350.473609797407 kg.CO2eq/year\n"
     ]
    },
    {
     "name": "stdout",
     "output_type": "stream",
     "text": [
      "Vehicle Prediction: dump truck\n"
     ]
    },
    {
     "name": "stderr",
     "output_type": "stream",
     "text": [
      "Processing: truck 3:  73%|███████▎  | 685/932 [10:04<05:23,  1.31s/file]"
     ]
    },
    {
     "name": "stdout",
     "output_type": "stream",
     "text": [
      "Axle Prediction: 6\n",
      "Validation Result: False\n",
      "Vehicle Prediction: truck\n",
      "Is Pickup Truck: no.\n"
     ]
    },
    {
     "name": "stderr",
     "output_type": "stream",
     "text": [
      "Processing: truck 3:  74%|███████▎  | 686/932 [10:06<05:33,  1.36s/file]"
     ]
    },
    {
     "name": "stdout",
     "output_type": "stream",
     "text": [
      "Axle Prediction: 3\n",
      "Validation Result: True\n",
      "Vehicle Prediction: truck\n",
      "Is Pickup Truck: no.\n"
     ]
    },
    {
     "name": "stderr",
     "output_type": "stream",
     "text": [
      "Processing: truck 3:  74%|███████▎  | 687/932 [10:07<05:41,  1.39s/file]"
     ]
    },
    {
     "name": "stdout",
     "output_type": "stream",
     "text": [
      "Axle Prediction: 4\n",
      "Validation Result: False\n",
      "Vehicle Prediction: truck\n",
      "Is Pickup Truck: no\n"
     ]
    },
    {
     "name": "stderr",
     "output_type": "stream",
     "text": [
      "Processing: truck 3:  74%|███████▍  | 688/932 [10:09<05:46,  1.42s/file]"
     ]
    },
    {
     "name": "stdout",
     "output_type": "stream",
     "text": [
      "Axle Prediction: 3\n",
      "Validation Result: True\n",
      "Vehicle Prediction: dump truck\n"
     ]
    },
    {
     "name": "stderr",
     "output_type": "stream",
     "text": [
      "Processing: truck 3:  74%|███████▍  | 689/932 [10:10<05:13,  1.29s/file]"
     ]
    },
    {
     "name": "stdout",
     "output_type": "stream",
     "text": [
      "Axle Prediction: 6\n",
      "Validation Result: False\n",
      "Vehicle Prediction: dump truck\n"
     ]
    },
    {
     "name": "stderr",
     "output_type": "stream",
     "text": [
      "Processing: truck 3:  74%|███████▍  | 690/932 [10:11<04:51,  1.20s/file]"
     ]
    },
    {
     "name": "stdout",
     "output_type": "stream",
     "text": [
      "Axle Prediction: 6\n",
      "Validation Result: False\n",
      "Vehicle Prediction: tanker\n"
     ]
    },
    {
     "name": "stderr",
     "output_type": "stream",
     "text": [
      "Processing: truck 3:  74%|███████▍  | 691/932 [10:12<04:34,  1.14s/file]"
     ]
    },
    {
     "name": "stdout",
     "output_type": "stream",
     "text": [
      "Axle Prediction: 6\n",
      "Validation Result: False\n",
      "Vehicle Prediction: truck\n",
      "Is Pickup Truck: no\n"
     ]
    },
    {
     "name": "stderr",
     "output_type": "stream",
     "text": [
      "Processing: truck 3:  74%|███████▍  | 692/932 [10:13<04:57,  1.24s/file]"
     ]
    },
    {
     "name": "stdout",
     "output_type": "stream",
     "text": [
      "Axle Prediction: 3\n",
      "Validation Result: True\n"
     ]
    },
    {
     "name": "stderr",
     "output_type": "stream",
     "text": [
      "Processing: truck 3:  74%|███████▍  | 693/932 [10:14<04:05,  1.03s/file]"
     ]
    },
    {
     "name": "stdout",
     "output_type": "stream",
     "text": [
      "Vehicle Prediction: tow\n",
      "Validation Result: False\n",
      "Vehicle Prediction: dump truck\n"
     ]
    },
    {
     "name": "stderr",
     "output_type": "stream",
     "text": [
      "Processing: truck 3:  74%|███████▍  | 694/932 [10:15<04:01,  1.02s/file]"
     ]
    },
    {
     "name": "stdout",
     "output_type": "stream",
     "text": [
      "Axle Prediction: 6\n",
      "Validation Result: False\n",
      "Vehicle Prediction: truck\n",
      "Is Pickup Truck: no.\n"
     ]
    },
    {
     "name": "stderr",
     "output_type": "stream",
     "text": [
      "Processing: truck 3:  75%|███████▍  | 695/932 [10:16<04:33,  1.15s/file]"
     ]
    },
    {
     "name": "stdout",
     "output_type": "stream",
     "text": [
      "Axle Prediction: 6\n",
      "Validation Result: False\n",
      "Vehicle Prediction: dump truck\n"
     ]
    },
    {
     "name": "stderr",
     "output_type": "stream",
     "text": [
      "Processing: truck 3:  75%|███████▍  | 696/932 [10:17<04:21,  1.11s/file]"
     ]
    },
    {
     "name": "stdout",
     "output_type": "stream",
     "text": [
      "Axle Prediction: 3\n",
      "Validation Result: True\n",
      "Vehicle Prediction: dump truck\n"
     ]
    },
    {
     "name": "stderr",
     "output_type": "stream",
     "text": [
      "Processing: truck 3:  75%|███████▍  | 697/932 [10:18<04:12,  1.07s/file]"
     ]
    },
    {
     "name": "stdout",
     "output_type": "stream",
     "text": [
      "Axle Prediction: 6\n",
      "Validation Result: False\n"
     ]
    },
    {
     "name": "stderr",
     "output_type": "stream",
     "text": [
      "[codecarbon INFO @ 11:14:32] Energy consumed for RAM : 0.032241 kWh. RAM Power : 188.80178117752075 W\n",
      "[codecarbon INFO @ 11:14:32] Energy consumed for all CPUs : 0.017078 kWh. Total CPU Power : 100.0 W\n",
      "[codecarbon INFO @ 11:14:32] Energy consumed for all GPUs : 0.052625 kWh. Total GPU Power : 315.6157501955491 W\n",
      "[codecarbon INFO @ 11:14:32] 0.101945 kWh of electricity used since the beginning.\n"
     ]
    },
    {
     "name": "stdout",
     "output_type": "stream",
     "text": [
      "Vehicle Prediction: truck\n",
      "Is Pickup Truck: no\n"
     ]
    },
    {
     "name": "stderr",
     "output_type": "stream",
     "text": [
      "Processing: truck 3:  75%|███████▍  | 698/932 [10:20<04:39,  1.19s/file]"
     ]
    },
    {
     "name": "stdout",
     "output_type": "stream",
     "text": [
      "Axle Prediction: 6\n",
      "Validation Result: False\n",
      "Vehicle Prediction: truck\n",
      "Is Pickup Truck: no\n"
     ]
    },
    {
     "name": "stderr",
     "output_type": "stream",
     "text": [
      "Processing: truck 3:  75%|███████▌  | 699/932 [10:21<04:57,  1.28s/file]"
     ]
    },
    {
     "name": "stdout",
     "output_type": "stream",
     "text": [
      "Axle Prediction: 6\n",
      "Validation Result: False\n",
      "Vehicle Prediction: truck\n",
      "Is Pickup Truck: no.\n"
     ]
    },
    {
     "name": "stderr",
     "output_type": "stream",
     "text": [
      "Processing: truck 3:  75%|███████▌  | 700/932 [10:23<05:10,  1.34s/file]"
     ]
    },
    {
     "name": "stdout",
     "output_type": "stream",
     "text": [
      "Axle Prediction: 3\n",
      "Validation Result: True\n",
      "Vehicle Prediction: dump truck\n"
     ]
    },
    {
     "name": "stderr",
     "output_type": "stream",
     "text": [
      "Processing: truck 3:  75%|███████▌  | 701/932 [10:24<04:45,  1.24s/file]"
     ]
    },
    {
     "name": "stdout",
     "output_type": "stream",
     "text": [
      "Axle Prediction: 6\n",
      "Validation Result: False\n",
      "Vehicle Prediction: dump truck\n"
     ]
    },
    {
     "name": "stderr",
     "output_type": "stream",
     "text": [
      "Processing: truck 3:  75%|███████▌  | 702/932 [10:25<04:27,  1.16s/file]"
     ]
    },
    {
     "name": "stdout",
     "output_type": "stream",
     "text": [
      "Axle Prediction: 6\n",
      "Validation Result: False\n",
      "Vehicle Prediction: dump truck\n"
     ]
    },
    {
     "name": "stderr",
     "output_type": "stream",
     "text": [
      "Processing: truck 3:  75%|███████▌  | 703/932 [10:26<04:15,  1.11s/file]"
     ]
    },
    {
     "name": "stdout",
     "output_type": "stream",
     "text": [
      "Axle Prediction: 6\n",
      "Validation Result: False\n",
      "Vehicle Prediction: truck\n",
      "Is Pickup Truck: no.\n"
     ]
    },
    {
     "name": "stderr",
     "output_type": "stream",
     "text": [
      "Processing: truck 3:  76%|███████▌  | 704/932 [10:27<04:38,  1.22s/file]"
     ]
    },
    {
     "name": "stdout",
     "output_type": "stream",
     "text": [
      "Axle Prediction: 6\n",
      "Validation Result: False\n",
      "Vehicle Prediction: truck\n",
      "Is Pickup Truck: no.\n"
     ]
    },
    {
     "name": "stderr",
     "output_type": "stream",
     "text": [
      "Processing: truck 3:  76%|███████▌  | 705/932 [10:29<04:54,  1.30s/file]"
     ]
    },
    {
     "name": "stdout",
     "output_type": "stream",
     "text": [
      "Axle Prediction: 2\n",
      "Validation Result: False\n",
      "Vehicle Prediction: dump truck\n"
     ]
    },
    {
     "name": "stderr",
     "output_type": "stream",
     "text": [
      "Processing: truck 3:  76%|███████▌  | 706/932 [10:30<04:32,  1.21s/file]"
     ]
    },
    {
     "name": "stdout",
     "output_type": "stream",
     "text": [
      "Axle Prediction: 6\n",
      "Validation Result: False\n",
      "Vehicle Prediction: dump truck\n"
     ]
    },
    {
     "name": "stderr",
     "output_type": "stream",
     "text": [
      "Processing: truck 3:  76%|███████▌  | 707/932 [10:31<04:17,  1.14s/file]"
     ]
    },
    {
     "name": "stdout",
     "output_type": "stream",
     "text": [
      "Axle Prediction: 6\n",
      "Validation Result: False\n",
      "Vehicle Prediction: dump truck\n"
     ]
    },
    {
     "name": "stderr",
     "output_type": "stream",
     "text": [
      "Processing: truck 3:  76%|███████▌  | 708/932 [10:32<04:06,  1.10s/file]"
     ]
    },
    {
     "name": "stdout",
     "output_type": "stream",
     "text": [
      "Axle Prediction: 6\n",
      "Validation Result: False\n",
      "Vehicle Prediction: truck\n",
      "Is Pickup Truck: no.\n"
     ]
    },
    {
     "name": "stderr",
     "output_type": "stream",
     "text": [
      "Processing: truck 3:  76%|███████▌  | 709/932 [10:33<04:29,  1.21s/file]"
     ]
    },
    {
     "name": "stdout",
     "output_type": "stream",
     "text": [
      "Axle Prediction: 3\n",
      "Validation Result: True\n",
      "Vehicle Prediction: dump truck\n"
     ]
    },
    {
     "name": "stderr",
     "output_type": "stream",
     "text": [
      "[codecarbon INFO @ 11:14:47] Energy consumed for RAM : 0.033028 kWh. RAM Power : 188.80178117752075 W\n",
      "[codecarbon INFO @ 11:14:47] Energy consumed for all CPUs : 0.017495 kWh. Total CPU Power : 100.0 W\n",
      "[codecarbon INFO @ 11:14:47] Energy consumed for all GPUs : 0.053951 kWh. Total GPU Power : 318.19775273378684 W\n",
      "[codecarbon INFO @ 11:14:47] 0.104473 kWh of electricity used since the beginning.\n",
      "Processing: truck 3:  76%|███████▌  | 710/932 [10:34<04:14,  1.15s/file]"
     ]
    },
    {
     "name": "stdout",
     "output_type": "stream",
     "text": [
      "Axle Prediction: 2\n",
      "Validation Result: False\n",
      "Vehicle Prediction: truck\n",
      "Is Pickup Truck: no\n"
     ]
    },
    {
     "name": "stderr",
     "output_type": "stream",
     "text": [
      "Processing: truck 3:  76%|███████▋  | 711/932 [10:36<04:35,  1.25s/file]"
     ]
    },
    {
     "name": "stdout",
     "output_type": "stream",
     "text": [
      "Axle Prediction: 6\n",
      "Validation Result: False\n",
      "Vehicle Prediction: truck\n",
      "Is Pickup Truck: no\n"
     ]
    },
    {
     "name": "stderr",
     "output_type": "stream",
     "text": [
      "Processing: truck 3:  76%|███████▋  | 712/932 [10:37<04:49,  1.32s/file]"
     ]
    },
    {
     "name": "stdout",
     "output_type": "stream",
     "text": [
      "Axle Prediction: 6\n",
      "Validation Result: False\n",
      "Vehicle Prediction: truck\n",
      "Is Pickup Truck: no.\n"
     ]
    },
    {
     "name": "stderr",
     "output_type": "stream",
     "text": [
      "Processing: truck 3:  77%|███████▋  | 713/932 [10:39<04:59,  1.37s/file]"
     ]
    },
    {
     "name": "stdout",
     "output_type": "stream",
     "text": [
      "Axle Prediction: 3\n",
      "Validation Result: True\n",
      "Vehicle Prediction: truck\n",
      "Is Pickup Truck: no\n"
     ]
    },
    {
     "name": "stderr",
     "output_type": "stream",
     "text": [
      "Processing: truck 3:  77%|███████▋  | 714/932 [10:40<05:04,  1.40s/file]"
     ]
    },
    {
     "name": "stdout",
     "output_type": "stream",
     "text": [
      "Axle Prediction: 6\n",
      "Validation Result: False\n",
      "Vehicle Prediction: dump truck\n"
     ]
    },
    {
     "name": "stderr",
     "output_type": "stream",
     "text": [
      "Processing: truck 3:  77%|███████▋  | 715/932 [10:41<04:36,  1.28s/file]"
     ]
    },
    {
     "name": "stdout",
     "output_type": "stream",
     "text": [
      "Axle Prediction: 6\n",
      "Validation Result: False\n",
      "Vehicle Prediction: dump truck\n"
     ]
    },
    {
     "name": "stderr",
     "output_type": "stream",
     "text": [
      "Processing: truck 3:  77%|███████▋  | 716/932 [10:42<04:17,  1.19s/file]"
     ]
    },
    {
     "name": "stdout",
     "output_type": "stream",
     "text": [
      "Axle Prediction: 6\n",
      "Validation Result: False\n",
      "Vehicle Prediction: dump truck\n"
     ]
    },
    {
     "name": "stderr",
     "output_type": "stream",
     "text": [
      "Processing: truck 3:  77%|███████▋  | 717/932 [10:43<04:03,  1.13s/file]"
     ]
    },
    {
     "name": "stdout",
     "output_type": "stream",
     "text": [
      "Axle Prediction: 6\n",
      "Validation Result: False\n",
      "Vehicle Prediction: truck\n",
      "Is Pickup Truck: no\n"
     ]
    },
    {
     "name": "stderr",
     "output_type": "stream",
     "text": [
      "Processing: truck 3:  77%|███████▋  | 718/932 [10:45<04:23,  1.23s/file]"
     ]
    },
    {
     "name": "stdout",
     "output_type": "stream",
     "text": [
      "Axle Prediction: 3\n",
      "Validation Result: True\n",
      "Vehicle Prediction: truck\n",
      "Is Pickup Truck: no\n"
     ]
    },
    {
     "name": "stderr",
     "output_type": "stream",
     "text": [
      "Processing: truck 3:  77%|███████▋  | 719/932 [10:46<04:37,  1.30s/file]"
     ]
    },
    {
     "name": "stdout",
     "output_type": "stream",
     "text": [
      "Axle Prediction: 6\n",
      "Validation Result: False\n",
      "Vehicle Prediction: truck\n",
      "Is Pickup Truck: no.\n"
     ]
    },
    {
     "name": "stderr",
     "output_type": "stream",
     "text": [
      "Processing: truck 3:  77%|███████▋  | 720/932 [10:47<04:47,  1.36s/file]"
     ]
    },
    {
     "name": "stdout",
     "output_type": "stream",
     "text": [
      "Axle Prediction: 4\n",
      "Validation Result: False\n",
      "Vehicle Prediction: truck\n",
      "Is Pickup Truck: no.\n"
     ]
    },
    {
     "name": "stderr",
     "output_type": "stream",
     "text": [
      "[codecarbon INFO @ 11:15:02] Energy consumed for RAM : 0.033814 kWh. RAM Power : 188.80178117752075 W\n",
      "[codecarbon INFO @ 11:15:02] Energy consumed for all CPUs : 0.017911 kWh. Total CPU Power : 100.0 W\n",
      "[codecarbon INFO @ 11:15:02] Energy consumed for all GPUs : 0.055273 kWh. Total GPU Power : 317.4936188414782 W\n",
      "[codecarbon INFO @ 11:15:02] 0.106999 kWh of electricity used since the beginning.\n",
      "Processing: truck 3:  77%|███████▋  | 721/932 [10:49<04:53,  1.39s/file]"
     ]
    },
    {
     "name": "stdout",
     "output_type": "stream",
     "text": [
      "Axle Prediction: 6\n",
      "Validation Result: False\n",
      "Vehicle Prediction: dump truck\n"
     ]
    },
    {
     "name": "stderr",
     "output_type": "stream",
     "text": [
      "Processing: truck 3:  77%|███████▋  | 722/932 [10:50<04:29,  1.28s/file]"
     ]
    },
    {
     "name": "stdout",
     "output_type": "stream",
     "text": [
      "Axle Prediction: 6\n",
      "Validation Result: False\n",
      "Vehicle Prediction: truck\n",
      "Is Pickup Truck: no.\n"
     ]
    },
    {
     "name": "stderr",
     "output_type": "stream",
     "text": [
      "Processing: truck 3:  78%|███████▊  | 723/932 [10:51<04:40,  1.34s/file]"
     ]
    },
    {
     "name": "stdout",
     "output_type": "stream",
     "text": [
      "Axle Prediction: 6\n",
      "Validation Result: False\n",
      "Vehicle Prediction: dump truck\n"
     ]
    },
    {
     "name": "stderr",
     "output_type": "stream",
     "text": [
      "Processing: truck 3:  78%|███████▊  | 724/932 [10:52<04:17,  1.24s/file]"
     ]
    },
    {
     "name": "stdout",
     "output_type": "stream",
     "text": [
      "Axle Prediction: 3\n",
      "Validation Result: True\n",
      "Vehicle Prediction: truck\n",
      "Is Pickup Truck: no.\n"
     ]
    },
    {
     "name": "stderr",
     "output_type": "stream",
     "text": [
      "Processing: truck 3:  78%|███████▊  | 725/932 [10:54<04:31,  1.31s/file]"
     ]
    },
    {
     "name": "stdout",
     "output_type": "stream",
     "text": [
      "Axle Prediction: 6\n",
      "Validation Result: False\n",
      "Vehicle Prediction: tanker\n"
     ]
    },
    {
     "name": "stderr",
     "output_type": "stream",
     "text": [
      "Processing: truck 3:  78%|███████▊  | 726/932 [10:55<04:11,  1.22s/file]"
     ]
    },
    {
     "name": "stdout",
     "output_type": "stream",
     "text": [
      "Axle Prediction: 6\n",
      "Validation Result: False\n",
      "Vehicle Prediction: dump truck\n"
     ]
    },
    {
     "name": "stderr",
     "output_type": "stream",
     "text": [
      "Processing: truck 3:  78%|███████▊  | 727/932 [10:56<03:55,  1.15s/file]"
     ]
    },
    {
     "name": "stdout",
     "output_type": "stream",
     "text": [
      "Axle Prediction: 6\n",
      "Validation Result: False\n",
      "Vehicle Prediction: truck\n",
      "Is Pickup Truck: no.\n"
     ]
    },
    {
     "name": "stderr",
     "output_type": "stream",
     "text": [
      "Processing: truck 3:  78%|███████▊  | 728/932 [10:57<04:14,  1.25s/file]"
     ]
    },
    {
     "name": "stdout",
     "output_type": "stream",
     "text": [
      "Axle Prediction: 3\n",
      "Validation Result: True\n",
      "Vehicle Prediction: truck\n",
      "Is Pickup Truck: no\n"
     ]
    },
    {
     "name": "stderr",
     "output_type": "stream",
     "text": [
      "Processing: truck 3:  78%|███████▊  | 729/932 [10:59<04:27,  1.32s/file]"
     ]
    },
    {
     "name": "stdout",
     "output_type": "stream",
     "text": [
      "Axle Prediction: 6\n",
      "Validation Result: False\n",
      "Vehicle Prediction: truck\n",
      "Is Pickup Truck: no\n"
     ]
    },
    {
     "name": "stderr",
     "output_type": "stream",
     "text": [
      "Processing: truck 3:  78%|███████▊  | 730/932 [11:00<04:36,  1.37s/file]"
     ]
    },
    {
     "name": "stdout",
     "output_type": "stream",
     "text": [
      "Axle Prediction: 6\n",
      "Validation Result: False\n",
      "Vehicle Prediction: truck\n",
      "Is Pickup Truck: no\n"
     ]
    },
    {
     "name": "stderr",
     "output_type": "stream",
     "text": [
      "Processing: truck 3:  78%|███████▊  | 731/932 [11:02<04:42,  1.41s/file]"
     ]
    },
    {
     "name": "stdout",
     "output_type": "stream",
     "text": [
      "Axle Prediction: 6\n",
      "Validation Result: False\n",
      "Vehicle Prediction: truck\n"
     ]
    },
    {
     "name": "stderr",
     "output_type": "stream",
     "text": [
      "[codecarbon INFO @ 11:15:17] Energy consumed for RAM : 0.034600 kWh. RAM Power : 188.80178117752075 W\n",
      "[codecarbon INFO @ 11:15:17] Energy consumed for all CPUs : 0.018328 kWh. Total CPU Power : 100.0 W\n",
      "[codecarbon INFO @ 11:15:17] Energy consumed for all GPUs : 0.056556 kWh. Total GPU Power : 307.99901431721656 W\n",
      "[codecarbon INFO @ 11:15:17] 0.109485 kWh of electricity used since the beginning.\n"
     ]
    },
    {
     "name": "stdout",
     "output_type": "stream",
     "text": [
      "Is Pickup Truck: no.\n"
     ]
    },
    {
     "name": "stderr",
     "output_type": "stream",
     "text": [
      "Processing: truck 3:  79%|███████▊  | 732/932 [11:06<06:54,  2.07s/file]"
     ]
    },
    {
     "name": "stdout",
     "output_type": "stream",
     "text": [
      "Axle Prediction: 4\n",
      "Validation Result: False\n",
      "Vehicle Prediction: truck\n",
      "Is Pickup Truck: no\n"
     ]
    },
    {
     "name": "stderr",
     "output_type": "stream",
     "text": [
      "Processing: truck 3:  79%|███████▊  | 733/932 [11:06<05:39,  1.71s/file]"
     ]
    },
    {
     "name": "stdout",
     "output_type": "stream",
     "text": [
      "Axle Prediction: 4\n",
      "Validation Result: False\n",
      "Vehicle Prediction: truck\n",
      "Is Pickup Truck: no\n"
     ]
    },
    {
     "name": "stderr",
     "output_type": "stream",
     "text": [
      "Processing: truck 3:  79%|███████▉  | 734/932 [11:07<04:44,  1.44s/file]"
     ]
    },
    {
     "name": "stdout",
     "output_type": "stream",
     "text": [
      "Axle Prediction: 6\n",
      "Validation Result: False\n",
      "Vehicle Prediction: truck\n",
      "Is Pickup Truck: no\n"
     ]
    },
    {
     "name": "stderr",
     "output_type": "stream",
     "text": [
      "Processing: truck 3:  79%|███████▉  | 735/932 [11:08<04:07,  1.26s/file]"
     ]
    },
    {
     "name": "stdout",
     "output_type": "stream",
     "text": [
      "Axle Prediction: 3\n",
      "Validation Result: True\n",
      "Vehicle Prediction: truck\n",
      "Is Pickup Truck: no\n"
     ]
    },
    {
     "name": "stderr",
     "output_type": "stream",
     "text": [
      "Processing: truck 3:  79%|███████▉  | 736/932 [11:09<03:57,  1.21s/file]"
     ]
    },
    {
     "name": "stdout",
     "output_type": "stream",
     "text": [
      "Axle Prediction: 4\n",
      "Validation Result: False\n",
      "Vehicle Prediction: truck\n",
      "Is Pickup Truck: no.\n"
     ]
    },
    {
     "name": "stderr",
     "output_type": "stream",
     "text": [
      "Processing: truck 3:  79%|███████▉  | 737/932 [11:12<05:13,  1.61s/file]"
     ]
    },
    {
     "name": "stdout",
     "output_type": "stream",
     "text": [
      "Axle Prediction: 6\n",
      "Validation Result: False\n",
      "Vehicle Prediction: truck\n",
      "Is Pickup Truck: no.\n"
     ]
    },
    {
     "name": "stderr",
     "output_type": "stream",
     "text": [
      "Processing: truck 3:  79%|███████▉  | 738/932 [11:14<06:06,  1.89s/file]"
     ]
    },
    {
     "name": "stdout",
     "output_type": "stream",
     "text": [
      "Axle Prediction: 6\n",
      "Validation Result: False\n",
      "Vehicle Prediction: truck\n",
      "Is Pickup Truck: no.\n"
     ]
    },
    {
     "name": "stderr",
     "output_type": "stream",
     "text": [
      "Processing: truck 3:  79%|███████▉  | 739/932 [11:16<05:54,  1.84s/file]"
     ]
    },
    {
     "name": "stdout",
     "output_type": "stream",
     "text": [
      "Axle Prediction: 6\n",
      "Validation Result: False\n",
      "Vehicle Prediction: truck\n",
      "Is Pickup Truck: no\n"
     ]
    },
    {
     "name": "stderr",
     "output_type": "stream",
     "text": [
      "Processing: truck 3:  79%|███████▉  | 740/932 [11:17<04:53,  1.53s/file]"
     ]
    },
    {
     "name": "stdout",
     "output_type": "stream",
     "text": [
      "Axle Prediction: 3\n",
      "Validation Result: True\n",
      "Vehicle Prediction: truck\n",
      "Is Pickup Truck: no.\n"
     ]
    },
    {
     "name": "stderr",
     "output_type": "stream",
     "text": [
      "[codecarbon INFO @ 11:15:32] Energy consumed for RAM : 0.035387 kWh. RAM Power : 188.80178117752075 W\n",
      "[codecarbon INFO @ 11:15:32] Energy consumed for all CPUs : 0.018745 kWh. Total CPU Power : 100.0 W\n",
      "[codecarbon INFO @ 11:15:32] Energy consumed for all GPUs : 0.057850 kWh. Total GPU Power : 310.5408470968769 W\n",
      "[codecarbon INFO @ 11:15:32] 0.111981 kWh of electricity used since the beginning.\n",
      "Processing: truck 4:  80%|███████▉  | 741/932 [11:20<06:14,  1.96s/file]"
     ]
    },
    {
     "name": "stdout",
     "output_type": "stream",
     "text": [
      "Axle Prediction: 2\n",
      "Validation Result: False\n",
      "Vehicle Prediction: trailer\n"
     ]
    },
    {
     "name": "stderr",
     "output_type": "stream",
     "text": [
      "Processing: truck 4:  80%|███████▉  | 742/932 [11:20<05:04,  1.60s/file]"
     ]
    },
    {
     "name": "stdout",
     "output_type": "stream",
     "text": [
      "Axle Prediction: 4\n",
      "Validation Result: True\n",
      "Vehicle Prediction: dump trailer\n"
     ]
    },
    {
     "name": "stderr",
     "output_type": "stream",
     "text": [
      "Processing: truck 4:  80%|███████▉  | 743/932 [11:22<05:06,  1.62s/file]"
     ]
    },
    {
     "name": "stdout",
     "output_type": "stream",
     "text": [
      "Axle Prediction: 4\n",
      "Validation Result: True\n",
      "Vehicle Prediction: dump trailer\n"
     ]
    },
    {
     "name": "stderr",
     "output_type": "stream",
     "text": [
      "Processing: truck 4:  80%|███████▉  | 744/932 [11:23<04:25,  1.41s/file]"
     ]
    },
    {
     "name": "stdout",
     "output_type": "stream",
     "text": [
      "Axle Prediction: 4\n",
      "Validation Result: True\n",
      "Vehicle Prediction: dump trailer\n"
     ]
    },
    {
     "name": "stderr",
     "output_type": "stream",
     "text": [
      "Processing: truck 4:  80%|███████▉  | 745/932 [11:24<04:24,  1.41s/file]"
     ]
    },
    {
     "name": "stdout",
     "output_type": "stream",
     "text": [
      "Axle Prediction: 3\n",
      "Validation Result: False\n",
      "Vehicle Prediction: trailer\n"
     ]
    },
    {
     "name": "stderr",
     "output_type": "stream",
     "text": [
      "Processing: truck 4:  80%|████████  | 746/932 [11:25<03:59,  1.29s/file]"
     ]
    },
    {
     "name": "stdout",
     "output_type": "stream",
     "text": [
      "Axle Prediction: 3\n",
      "Validation Result: False\n",
      "Vehicle Prediction: trailer\n"
     ]
    },
    {
     "name": "stderr",
     "output_type": "stream",
     "text": [
      "Processing: truck 4:  80%|████████  | 747/932 [11:27<04:04,  1.32s/file]"
     ]
    },
    {
     "name": "stdout",
     "output_type": "stream",
     "text": [
      "Axle Prediction: 3\n",
      "Validation Result: False\n",
      "Vehicle Prediction: dump trailer\n"
     ]
    },
    {
     "name": "stderr",
     "output_type": "stream",
     "text": [
      "Processing: truck 4:  80%|████████  | 748/932 [11:27<03:23,  1.11s/file]"
     ]
    },
    {
     "name": "stdout",
     "output_type": "stream",
     "text": [
      "Axle Prediction: 4\n",
      "Validation Result: True\n",
      "Vehicle Prediction: dump trailer\n"
     ]
    },
    {
     "name": "stderr",
     "output_type": "stream",
     "text": [
      "Processing: truck 4:  80%|████████  | 749/932 [11:29<03:38,  1.19s/file]"
     ]
    },
    {
     "name": "stdout",
     "output_type": "stream",
     "text": [
      "Axle Prediction: 4\n",
      "Validation Result: True\n",
      "Vehicle Prediction: dump trailer\n"
     ]
    },
    {
     "name": "stderr",
     "output_type": "stream",
     "text": [
      "Processing: truck 4:  80%|████████  | 750/932 [11:31<04:02,  1.33s/file]"
     ]
    },
    {
     "name": "stdout",
     "output_type": "stream",
     "text": [
      "Axle Prediction: 3\n",
      "Validation Result: False\n",
      "Vehicle Prediction: dump truck\n"
     ]
    },
    {
     "name": "stderr",
     "output_type": "stream",
     "text": [
      "Processing: truck 4:  81%|████████  | 751/932 [11:31<03:20,  1.11s/file]"
     ]
    },
    {
     "name": "stdout",
     "output_type": "stream",
     "text": [
      "Axle Prediction: 3\n",
      "Validation Result: False\n",
      "Vehicle Prediction: trailer\n"
     ]
    },
    {
     "name": "stderr",
     "output_type": "stream",
     "text": [
      "Processing: truck 4:  81%|████████  | 752/932 [11:33<03:49,  1.28s/file]"
     ]
    },
    {
     "name": "stdout",
     "output_type": "stream",
     "text": [
      "Axle Prediction: 4\n",
      "Validation Result: True\n",
      "Vehicle Prediction: dump trailer\n"
     ]
    },
    {
     "name": "stderr",
     "output_type": "stream",
     "text": [
      "[codecarbon INFO @ 11:15:47] Energy consumed for RAM : 0.036173 kWh. RAM Power : 188.80178117752075 W\n",
      "[codecarbon INFO @ 11:15:47] Energy consumed for all CPUs : 0.019161 kWh. Total CPU Power : 100.0 W\n",
      "[codecarbon INFO @ 11:15:47] Energy consumed for all GPUs : 0.059196 kWh. Total GPU Power : 323.13731633565334 W\n",
      "[codecarbon INFO @ 11:15:47] 0.114530 kWh of electricity used since the beginning.\n",
      "Processing: truck 4:  81%|████████  | 753/932 [11:35<04:24,  1.48s/file]"
     ]
    },
    {
     "name": "stdout",
     "output_type": "stream",
     "text": [
      "Axle Prediction: 6\n",
      "Validation Result: False\n",
      "Vehicle Prediction: dump truck\n"
     ]
    },
    {
     "name": "stderr",
     "output_type": "stream",
     "text": [
      "Processing: truck 4:  81%|████████  | 754/932 [11:35<03:39,  1.24s/file]"
     ]
    },
    {
     "name": "stdout",
     "output_type": "stream",
     "text": [
      "Axle Prediction: 6\n",
      "Validation Result: False\n",
      "Vehicle Prediction: truck\n",
      "Is Pickup Truck: no\n"
     ]
    },
    {
     "name": "stderr",
     "output_type": "stream",
     "text": [
      "Processing: truck 4:  81%|████████  | 755/932 [11:38<05:15,  1.78s/file]"
     ]
    },
    {
     "name": "stdout",
     "output_type": "stream",
     "text": [
      "Axle Prediction: 4\n",
      "Validation Result: True\n",
      "Vehicle Prediction: truck\n",
      "Is Pickup Truck: no\n"
     ]
    },
    {
     "name": "stderr",
     "output_type": "stream",
     "text": [
      "Processing: truck 4:  81%|████████  | 756/932 [11:40<04:44,  1.62s/file]"
     ]
    },
    {
     "name": "stdout",
     "output_type": "stream",
     "text": [
      "Axle Prediction: 6\n",
      "Validation Result: False\n",
      "Vehicle Prediction: dump truck\n"
     ]
    },
    {
     "name": "stderr",
     "output_type": "stream",
     "text": [
      "Processing: truck 4:  81%|████████  | 757/932 [11:41<04:04,  1.39s/file]"
     ]
    },
    {
     "name": "stdout",
     "output_type": "stream",
     "text": [
      "Axle Prediction: 6\n",
      "Validation Result: False\n",
      "Vehicle Prediction: dump trailer\n"
     ]
    },
    {
     "name": "stderr",
     "output_type": "stream",
     "text": [
      "Processing: truck 4:  81%|████████▏ | 758/932 [11:43<04:32,  1.57s/file]"
     ]
    },
    {
     "name": "stdout",
     "output_type": "stream",
     "text": [
      "Axle Prediction: 4\n",
      "Validation Result: True\n",
      "Vehicle Prediction: trailer\n"
     ]
    },
    {
     "name": "stderr",
     "output_type": "stream",
     "text": [
      "Processing: truck 4:  81%|████████▏ | 759/932 [11:44<04:36,  1.60s/file]"
     ]
    },
    {
     "name": "stdout",
     "output_type": "stream",
     "text": [
      "Axle Prediction: 4\n",
      "Validation Result: True\n",
      "Vehicle Prediction: trailer\n"
     ]
    },
    {
     "name": "stderr",
     "output_type": "stream",
     "text": [
      "Processing: truck 4:  82%|████████▏ | 760/932 [11:46<04:38,  1.62s/file]"
     ]
    },
    {
     "name": "stdout",
     "output_type": "stream",
     "text": [
      "Axle Prediction: 3\n",
      "Validation Result: False\n",
      "Vehicle Prediction: dump truck\n"
     ]
    },
    {
     "name": "stderr",
     "output_type": "stream",
     "text": [
      "Processing: truck 4:  82%|████████▏ | 761/932 [11:48<04:38,  1.63s/file]"
     ]
    },
    {
     "name": "stdout",
     "output_type": "stream",
     "text": [
      "Axle Prediction: 3\n",
      "Validation Result: False\n",
      "Vehicle Prediction: truck\n",
      "Is Pickup Truck: no\n"
     ]
    },
    {
     "name": "stderr",
     "output_type": "stream",
     "text": [
      "Processing: truck 4:  82%|████████▏ | 762/932 [11:48<04:02,  1.43s/file]"
     ]
    },
    {
     "name": "stdout",
     "output_type": "stream",
     "text": [
      "Axle Prediction: 3\n",
      "Validation Result: False\n"
     ]
    },
    {
     "name": "stderr",
     "output_type": "stream",
     "text": [
      "[codecarbon INFO @ 11:16:02] Energy consumed for RAM : 0.036959 kWh. RAM Power : 188.80178117752075 W\n",
      "[codecarbon INFO @ 11:16:02] Energy consumed for all CPUs : 0.019578 kWh. Total CPU Power : 100.0 W\n",
      "[codecarbon INFO @ 11:16:02] Energy consumed for all GPUs : 0.060515 kWh. Total GPU Power : 316.59484604818834 W\n",
      "[codecarbon INFO @ 11:16:02] 0.117051 kWh of electricity used since the beginning.\n"
     ]
    },
    {
     "name": "stdout",
     "output_type": "stream",
     "text": [
      "Vehicle Prediction: dump trailer\n"
     ]
    },
    {
     "name": "stderr",
     "output_type": "stream",
     "text": [
      "Processing: truck 4:  82%|████████▏ | 763/932 [11:51<04:43,  1.68s/file]"
     ]
    },
    {
     "name": "stdout",
     "output_type": "stream",
     "text": [
      "Axle Prediction: 4\n",
      "Validation Result: True\n",
      "Vehicle Prediction: dump truck\n"
     ]
    },
    {
     "name": "stderr",
     "output_type": "stream",
     "text": [
      "Processing: truck 4:  82%|████████▏ | 764/932 [11:51<03:45,  1.34s/file]"
     ]
    },
    {
     "name": "stdout",
     "output_type": "stream",
     "text": [
      "Axle Prediction: 6\n",
      "Validation Result: False\n",
      "Vehicle Prediction: truck\n",
      "Is Pickup Truck: no\n"
     ]
    },
    {
     "name": "stderr",
     "output_type": "stream",
     "text": [
      "Processing: truck 4:  82%|████████▏ | 765/932 [11:53<03:37,  1.30s/file]"
     ]
    },
    {
     "name": "stdout",
     "output_type": "stream",
     "text": [
      "Axle Prediction: 6\n",
      "Validation Result: False\n",
      "Vehicle Prediction: dump trailer\n"
     ]
    },
    {
     "name": "stderr",
     "output_type": "stream",
     "text": [
      "Processing: truck 4:  82%|████████▏ | 766/932 [11:54<03:53,  1.41s/file]"
     ]
    },
    {
     "name": "stdout",
     "output_type": "stream",
     "text": [
      "Axle Prediction: 4\n",
      "Validation Result: True\n",
      "Vehicle Prediction: trailer\n"
     ]
    },
    {
     "name": "stderr",
     "output_type": "stream",
     "text": [
      "Processing: truck 4:  82%|████████▏ | 767/932 [11:56<03:52,  1.41s/file]"
     ]
    },
    {
     "name": "stdout",
     "output_type": "stream",
     "text": [
      "Axle Prediction: 4\n",
      "Validation Result: True\n",
      "Vehicle Prediction: dump trailer\n"
     ]
    },
    {
     "name": "stderr",
     "output_type": "stream",
     "text": [
      "Processing: truck 4:  82%|████████▏ | 768/932 [11:57<03:51,  1.41s/file]"
     ]
    },
    {
     "name": "stdout",
     "output_type": "stream",
     "text": [
      "Axle Prediction: 3\n",
      "Validation Result: False\n",
      "Vehicle Prediction: truck\n",
      "Is Pickup Truck: no\n"
     ]
    },
    {
     "name": "stderr",
     "output_type": "stream",
     "text": [
      "Processing: truck 4:  83%|████████▎ | 769/932 [11:59<03:55,  1.44s/file]"
     ]
    },
    {
     "name": "stdout",
     "output_type": "stream",
     "text": [
      "Axle Prediction: 3\n",
      "Validation Result: False\n",
      "Vehicle Prediction: trailer\n"
     ]
    },
    {
     "name": "stderr",
     "output_type": "stream",
     "text": [
      "Processing: truck 4:  83%|████████▎ | 770/932 [12:00<03:47,  1.40s/file]"
     ]
    },
    {
     "name": "stdout",
     "output_type": "stream",
     "text": [
      "Axle Prediction: 4\n",
      "Validation Result: True\n",
      "Vehicle Prediction: truck\n",
      "Is Pickup Truck: no\n"
     ]
    },
    {
     "name": "stderr",
     "output_type": "stream",
     "text": [
      "Processing: truck 4:  83%|████████▎ | 771/932 [12:01<03:35,  1.34s/file]"
     ]
    },
    {
     "name": "stdout",
     "output_type": "stream",
     "text": [
      "Axle Prediction: 6\n",
      "Validation Result: False\n",
      "Vehicle Prediction: trailer\n"
     ]
    },
    {
     "name": "stderr",
     "output_type": "stream",
     "text": [
      "Processing: truck 4:  83%|████████▎ | 772/932 [12:03<04:05,  1.53s/file]"
     ]
    },
    {
     "name": "stdout",
     "output_type": "stream",
     "text": [
      "Axle Prediction: 6\n",
      "Validation Result: False\n"
     ]
    },
    {
     "name": "stderr",
     "output_type": "stream",
     "text": [
      "[codecarbon INFO @ 11:16:17] Energy consumed for RAM : 0.037745 kWh. RAM Power : 188.80178117752075 W\n",
      "[codecarbon INFO @ 11:16:17] Energy consumed for all CPUs : 0.019994 kWh. Total CPU Power : 100.0 W\n",
      "[codecarbon INFO @ 11:16:17] Energy consumed for all GPUs : 0.061836 kWh. Total GPU Power : 317.69776825990505 W\n",
      "[codecarbon INFO @ 11:16:17] 0.119575 kWh of electricity used since the beginning.\n",
      "[codecarbon INFO @ 11:16:17] 0.075506 g.CO2eq/s mean an estimation of 2,381.1453063697977 kg.CO2eq/year\n"
     ]
    },
    {
     "name": "stdout",
     "output_type": "stream",
     "text": [
      "Vehicle Prediction: truck\n",
      "Is Pickup Truck: no.\n"
     ]
    },
    {
     "name": "stderr",
     "output_type": "stream",
     "text": [
      "Processing: truck 4:  83%|████████▎ | 773/932 [12:06<05:10,  1.95s/file]"
     ]
    },
    {
     "name": "stdout",
     "output_type": "stream",
     "text": [
      "Axle Prediction: 4\n",
      "Validation Result: True\n",
      "Vehicle Prediction: truck\n",
      "Is Pickup Truck: no.\n"
     ]
    },
    {
     "name": "stderr",
     "output_type": "stream",
     "text": [
      "Processing: truck 4:  83%|████████▎ | 774/932 [12:08<05:08,  1.95s/file]"
     ]
    },
    {
     "name": "stdout",
     "output_type": "stream",
     "text": [
      "Axle Prediction: 3\n",
      "Validation Result: False\n",
      "Vehicle Prediction: dump truck\n"
     ]
    },
    {
     "name": "stderr",
     "output_type": "stream",
     "text": [
      "Processing: truck 4:  83%|████████▎ | 775/932 [12:08<04:01,  1.54s/file]"
     ]
    },
    {
     "name": "stdout",
     "output_type": "stream",
     "text": [
      "Axle Prediction: 3\n",
      "Validation Result: False\n",
      "Vehicle Prediction: truck\n",
      "Is Pickup Truck: no\n"
     ]
    },
    {
     "name": "stderr",
     "output_type": "stream",
     "text": [
      "Processing: truck 4:  83%|████████▎ | 776/932 [12:11<05:08,  1.98s/file]"
     ]
    },
    {
     "name": "stdout",
     "output_type": "stream",
     "text": [
      "Axle Prediction: 4\n",
      "Validation Result: True\n",
      "Vehicle Prediction: dump truck\n"
     ]
    },
    {
     "name": "stderr",
     "output_type": "stream",
     "text": [
      "Processing: truck 4:  83%|████████▎ | 777/932 [12:12<04:10,  1.61s/file]"
     ]
    },
    {
     "name": "stdout",
     "output_type": "stream",
     "text": [
      "Axle Prediction: 3\n",
      "Validation Result: False\n",
      "Vehicle Prediction: dump trailer\n"
     ]
    },
    {
     "name": "stderr",
     "output_type": "stream",
     "text": [
      "Processing: truck 4:  83%|████████▎ | 778/932 [12:14<04:10,  1.63s/file]"
     ]
    },
    {
     "name": "stdout",
     "output_type": "stream",
     "text": [
      "Axle Prediction: 3\n",
      "Validation Result: False\n",
      "Vehicle Prediction: dump trailer\n"
     ]
    },
    {
     "name": "stderr",
     "output_type": "stream",
     "text": [
      "Processing: truck 4:  84%|████████▎ | 779/932 [12:15<03:58,  1.56s/file]"
     ]
    },
    {
     "name": "stdout",
     "output_type": "stream",
     "text": [
      "Axle Prediction: 4\n",
      "Validation Result: True\n",
      "Vehicle Prediction: dump truck\n"
     ]
    },
    {
     "name": "stderr",
     "output_type": "stream",
     "text": [
      "Processing: truck 4:  84%|████████▎ | 780/932 [12:17<04:17,  1.70s/file]"
     ]
    },
    {
     "name": "stdout",
     "output_type": "stream",
     "text": [
      "Axle Prediction: 6\n",
      "Validation Result: False\n",
      "Vehicle Prediction: dump truck\n"
     ]
    },
    {
     "name": "stderr",
     "output_type": "stream",
     "text": [
      "Processing: truck 4:  84%|████████▍ | 781/932 [12:19<04:07,  1.64s/file][codecarbon INFO @ 11:16:32] Energy consumed for RAM : 0.038531 kWh. RAM Power : 188.80178117752075 W\n",
      "[codecarbon INFO @ 11:16:32] Energy consumed for all CPUs : 0.020410 kWh. Total CPU Power : 100.0 W\n",
      "[codecarbon INFO @ 11:16:32] Energy consumed for all GPUs : 0.063167 kWh. Total GPU Power : 319.392796812558 W\n",
      "[codecarbon INFO @ 11:16:32] 0.122109 kWh of electricity used since the beginning.\n"
     ]
    },
    {
     "name": "stdout",
     "output_type": "stream",
     "text": [
      "Axle Prediction: 6\n",
      "Validation Result: False\n",
      "Vehicle Prediction: truck\n",
      "Is Pickup Truck: no\n"
     ]
    },
    {
     "name": "stderr",
     "output_type": "stream",
     "text": [
      "Processing: truck 4:  84%|████████▍ | 782/932 [12:20<03:28,  1.39s/file]"
     ]
    },
    {
     "name": "stdout",
     "output_type": "stream",
     "text": [
      "Axle Prediction: 2\n",
      "Validation Result: False\n",
      "Vehicle Prediction: truck\n",
      "Is Pickup Truck: no\n"
     ]
    },
    {
     "name": "stderr",
     "output_type": "stream",
     "text": [
      "Processing: truck 4:  84%|████████▍ | 783/932 [12:23<04:35,  1.85s/file]"
     ]
    },
    {
     "name": "stdout",
     "output_type": "stream",
     "text": [
      "Axle Prediction: 3\n",
      "Validation Result: False\n",
      "Vehicle Prediction: truck\n",
      "Is Pickup Truck: no\n"
     ]
    },
    {
     "name": "stderr",
     "output_type": "stream",
     "text": [
      "Processing: truck 4:  84%|████████▍ | 784/932 [12:24<04:00,  1.63s/file]"
     ]
    },
    {
     "name": "stdout",
     "output_type": "stream",
     "text": [
      "Axle Prediction: 3\n",
      "Validation Result: False\n",
      "Vehicle Prediction: truck\n",
      "Is Pickup Truck: no\n"
     ]
    },
    {
     "name": "stderr",
     "output_type": "stream",
     "text": [
      "Processing: truck 4:  84%|████████▍ | 785/932 [12:27<04:58,  2.03s/file]"
     ]
    },
    {
     "name": "stdout",
     "output_type": "stream",
     "text": [
      "Axle Prediction: 6\n",
      "Validation Result: False\n",
      "Vehicle Prediction: truck\n",
      "Is Pickup Truck: no.\n"
     ]
    },
    {
     "name": "stderr",
     "output_type": "stream",
     "text": [
      "Processing: truck 4:  84%|████████▍ | 786/932 [12:30<05:46,  2.37s/file]"
     ]
    },
    {
     "name": "stdout",
     "output_type": "stream",
     "text": [
      "Axle Prediction: 3\n",
      "Validation Result: False\n",
      "Vehicle Prediction: dump truck\n"
     ]
    },
    {
     "name": "stderr",
     "output_type": "stream",
     "text": [
      "Processing: truck 4:  84%|████████▍ | 787/932 [12:32<05:27,  2.26s/file]"
     ]
    },
    {
     "name": "stdout",
     "output_type": "stream",
     "text": [
      "Axle Prediction: 6\n",
      "Validation Result: False\n",
      "Vehicle Prediction: truck\n",
      "Is Pickup Truck: no\n"
     ]
    },
    {
     "name": "stderr",
     "output_type": "stream",
     "text": [
      "[codecarbon INFO @ 11:16:47] Energy consumed for RAM : 0.039318 kWh. RAM Power : 188.80178117752075 W\n",
      "[codecarbon INFO @ 11:16:47] Energy consumed for all CPUs : 0.020827 kWh. Total CPU Power : 100.0 W\n",
      "[codecarbon INFO @ 11:16:47] Energy consumed for all GPUs : 0.064475 kWh. Total GPU Power : 314.05687623540024 W\n",
      "[codecarbon INFO @ 11:16:47] 0.124620 kWh of electricity used since the beginning.\n",
      "Processing: truck 4:  85%|████████▍ | 788/932 [12:35<05:53,  2.45s/file]"
     ]
    },
    {
     "name": "stdout",
     "output_type": "stream",
     "text": [
      "Axle Prediction: 4\n",
      "Validation Result: True\n",
      "Vehicle Prediction: truck\n",
      "Is Pickup Truck: no\n"
     ]
    },
    {
     "name": "stderr",
     "output_type": "stream",
     "text": [
      "Processing: truck 4:  85%|████████▍ | 789/932 [12:38<06:10,  2.59s/file]"
     ]
    },
    {
     "name": "stdout",
     "output_type": "stream",
     "text": [
      "Axle Prediction: 6\n",
      "Validation Result: False\n",
      "Vehicle Prediction: dump trailer\n"
     ]
    },
    {
     "name": "stderr",
     "output_type": "stream",
     "text": [
      "Processing: truck 4:  85%|████████▍ | 790/932 [12:39<05:28,  2.32s/file]"
     ]
    },
    {
     "name": "stdout",
     "output_type": "stream",
     "text": [
      "Axle Prediction: 4\n",
      "Validation Result: True\n",
      "Vehicle Prediction: dump truck\n"
     ]
    },
    {
     "name": "stderr",
     "output_type": "stream",
     "text": [
      "Processing: truck 4:  85%|████████▍ | 791/932 [12:41<05:11,  2.21s/file]"
     ]
    },
    {
     "name": "stdout",
     "output_type": "stream",
     "text": [
      "Axle Prediction: 6\n",
      "Validation Result: False\n",
      "Vehicle Prediction: dump truck\n"
     ]
    },
    {
     "name": "stderr",
     "output_type": "stream",
     "text": [
      "Processing: truck 4:  85%|████████▍ | 792/932 [12:43<04:43,  2.02s/file]"
     ]
    },
    {
     "name": "stdout",
     "output_type": "stream",
     "text": [
      "Axle Prediction: 6\n",
      "Validation Result: False\n",
      "Vehicle Prediction: dump trailer\n"
     ]
    },
    {
     "name": "stderr",
     "output_type": "stream",
     "text": [
      "Processing: truck 4:  85%|████████▌ | 793/932 [12:44<04:25,  1.91s/file]"
     ]
    },
    {
     "name": "stdout",
     "output_type": "stream",
     "text": [
      "Axle Prediction: 4\n",
      "Validation Result: True\n",
      "Vehicle Prediction: dump truck\n"
     ]
    },
    {
     "name": "stderr",
     "output_type": "stream",
     "text": [
      "Processing: truck 4:  85%|████████▌ | 794/932 [12:45<03:35,  1.56s/file]"
     ]
    },
    {
     "name": "stdout",
     "output_type": "stream",
     "text": [
      "Axle Prediction: 8\n",
      "Validation Result: False\n",
      "Vehicle Prediction: trailer\n"
     ]
    },
    {
     "name": "stderr",
     "output_type": "stream",
     "text": [
      "Processing: truck 4:  85%|████████▌ | 795/932 [12:46<02:51,  1.25s/file]"
     ]
    },
    {
     "name": "stdout",
     "output_type": "stream",
     "text": [
      "Axle Prediction: 3\n",
      "Validation Result: False\n",
      "Vehicle Prediction: truck\n",
      "Is Pickup Truck: no\n"
     ]
    },
    {
     "name": "stderr",
     "output_type": "stream",
     "text": [
      "Processing: truck 4:  85%|████████▌ | 796/932 [12:47<02:31,  1.11s/file]"
     ]
    },
    {
     "name": "stdout",
     "output_type": "stream",
     "text": [
      "Axle Prediction: 6\n",
      "Validation Result: False\n",
      "Vehicle Prediction: truck\n",
      "Is Pickup Truck: no\n"
     ]
    },
    {
     "name": "stderr",
     "output_type": "stream",
     "text": [
      "Processing: truck 4:  86%|████████▌ | 797/932 [12:47<02:18,  1.02s/file]"
     ]
    },
    {
     "name": "stdout",
     "output_type": "stream",
     "text": [
      "Axle Prediction: 3\n",
      "Validation Result: False\n",
      "Vehicle Prediction: trailer\n"
     ]
    },
    {
     "name": "stderr",
     "output_type": "stream",
     "text": [
      "Processing: truck 4:  86%|████████▌ | 798/932 [12:48<01:57,  1.14file/s]"
     ]
    },
    {
     "name": "stdout",
     "output_type": "stream",
     "text": [
      "Axle Prediction: 3\n",
      "Validation Result: False\n",
      "Vehicle Prediction: truck\n",
      "Is Pickup Truck: no\n"
     ]
    },
    {
     "name": "stderr",
     "output_type": "stream",
     "text": [
      "Processing: truck 4:  86%|████████▌ | 799/932 [12:49<01:52,  1.18file/s]"
     ]
    },
    {
     "name": "stdout",
     "output_type": "stream",
     "text": [
      "Axle Prediction: 6\n",
      "Validation Result: False\n"
     ]
    },
    {
     "name": "stderr",
     "output_type": "stream",
     "text": [
      "[codecarbon INFO @ 11:17:02] Energy consumed for RAM : 0.040104 kWh. RAM Power : 188.80178117752075 W\n",
      "[codecarbon INFO @ 11:17:02] Energy consumed for all CPUs : 0.021243 kWh. Total CPU Power : 100.0 W\n",
      "[codecarbon INFO @ 11:17:02] Energy consumed for all GPUs : 0.065786 kWh. Total GPU Power : 314.7647703633271 W\n",
      "[codecarbon INFO @ 11:17:02] 0.127134 kWh of electricity used since the beginning.\n"
     ]
    },
    {
     "name": "stdout",
     "output_type": "stream",
     "text": [
      "Vehicle Prediction: dump trailer\n"
     ]
    },
    {
     "name": "stderr",
     "output_type": "stream",
     "text": [
      "Processing: truck 4:  86%|████████▌ | 800/932 [12:49<01:39,  1.32file/s]"
     ]
    },
    {
     "name": "stdout",
     "output_type": "stream",
     "text": [
      "Axle Prediction: 4\n",
      "Validation Result: True\n",
      "Vehicle Prediction: tanker\n"
     ]
    },
    {
     "name": "stderr",
     "output_type": "stream",
     "text": [
      "Processing: truck 4:  86%|████████▌ | 801/932 [12:50<01:31,  1.44file/s]"
     ]
    },
    {
     "name": "stdout",
     "output_type": "stream",
     "text": [
      "Axle Prediction: 3\n",
      "Validation Result: False\n",
      "Vehicle Prediction: truck\n",
      "Is Pickup Truck: no\n"
     ]
    },
    {
     "name": "stderr",
     "output_type": "stream",
     "text": [
      "Processing: truck 4:  86%|████████▌ | 802/932 [12:51<01:33,  1.38file/s]"
     ]
    },
    {
     "name": "stdout",
     "output_type": "stream",
     "text": [
      "Axle Prediction: 4\n",
      "Validation Result: True\n",
      "Vehicle Prediction: dump truck\n"
     ]
    },
    {
     "name": "stderr",
     "output_type": "stream",
     "text": [
      "Processing: truck 4:  86%|████████▌ | 803/932 [12:51<01:26,  1.49file/s]"
     ]
    },
    {
     "name": "stdout",
     "output_type": "stream",
     "text": [
      "Axle Prediction: 6\n",
      "Validation Result: False\n",
      "Vehicle Prediction: truck\n",
      "Is Pickup Truck: no\n"
     ]
    },
    {
     "name": "stderr",
     "output_type": "stream",
     "text": [
      "Processing: truck 4:  86%|████████▋ | 804/932 [12:52<01:29,  1.43file/s]"
     ]
    },
    {
     "name": "stdout",
     "output_type": "stream",
     "text": [
      "Axle Prediction: 3\n",
      "Validation Result: False\n",
      "Vehicle Prediction: truck\n",
      "Is Pickup Truck: no\n"
     ]
    },
    {
     "name": "stderr",
     "output_type": "stream",
     "text": [
      "Processing: truck 4:  86%|████████▋ | 805/932 [12:53<01:33,  1.36file/s]"
     ]
    },
    {
     "name": "stdout",
     "output_type": "stream",
     "text": [
      "Axle Prediction: 4\n",
      "Validation Result: True\n",
      "Vehicle Prediction: truck\n",
      "Is Pickup Truck: no\n"
     ]
    },
    {
     "name": "stderr",
     "output_type": "stream",
     "text": [
      "Processing: truck 4:  86%|████████▋ | 806/932 [12:54<01:36,  1.31file/s]"
     ]
    },
    {
     "name": "stdout",
     "output_type": "stream",
     "text": [
      "Axle Prediction: 3\n",
      "Validation Result: False\n",
      "Vehicle Prediction: dump truck\n"
     ]
    },
    {
     "name": "stderr",
     "output_type": "stream",
     "text": [
      "Processing: truck 4:  87%|████████▋ | 807/932 [12:54<01:27,  1.43file/s]"
     ]
    },
    {
     "name": "stdout",
     "output_type": "stream",
     "text": [
      "Axle Prediction: 3\n",
      "Validation Result: False\n",
      "Vehicle Prediction: dump trailer\n"
     ]
    },
    {
     "name": "stderr",
     "output_type": "stream",
     "text": [
      "Processing: truck 4:  87%|████████▋ | 808/932 [12:55<01:20,  1.54file/s]"
     ]
    },
    {
     "name": "stdout",
     "output_type": "stream",
     "text": [
      "Axle Prediction: 3\n",
      "Validation Result: False\n",
      "Vehicle Prediction: truck\n",
      "Is Pickup Truck: no\n"
     ]
    },
    {
     "name": "stderr",
     "output_type": "stream",
     "text": [
      "Processing: truck 4:  87%|████████▋ | 809/932 [12:55<01:25,  1.44file/s]"
     ]
    },
    {
     "name": "stdout",
     "output_type": "stream",
     "text": [
      "Axle Prediction: 3\n",
      "Validation Result: False\n",
      "Vehicle Prediction: dump trailer\n"
     ]
    },
    {
     "name": "stderr",
     "output_type": "stream",
     "text": [
      "Processing: truck 4:  87%|████████▋ | 810/932 [12:56<01:19,  1.54file/s]"
     ]
    },
    {
     "name": "stdout",
     "output_type": "stream",
     "text": [
      "Axle Prediction: 6\n",
      "Validation Result: False\n",
      "Vehicle Prediction: dump truck\n"
     ]
    },
    {
     "name": "stderr",
     "output_type": "stream",
     "text": [
      "Processing: truck 4:  87%|████████▋ | 811/932 [12:56<01:15,  1.61file/s]"
     ]
    },
    {
     "name": "stdout",
     "output_type": "stream",
     "text": [
      "Axle Prediction: 6\n",
      "Validation Result: False\n",
      "Vehicle Prediction: dump truck\n"
     ]
    },
    {
     "name": "stderr",
     "output_type": "stream",
     "text": [
      "Processing: truck 4:  87%|████████▋ | 812/932 [12:57<01:12,  1.66file/s]"
     ]
    },
    {
     "name": "stdout",
     "output_type": "stream",
     "text": [
      "Axle Prediction: 3\n",
      "Validation Result: False\n",
      "Vehicle Prediction: truck\n",
      "Is Pickup Truck: no\n"
     ]
    },
    {
     "name": "stderr",
     "output_type": "stream",
     "text": [
      "Processing: truck 4:  87%|████████▋ | 813/932 [12:58<01:19,  1.49file/s]"
     ]
    },
    {
     "name": "stdout",
     "output_type": "stream",
     "text": [
      "Axle Prediction: 4\n",
      "Validation Result: True\n",
      "Vehicle Prediction: dump trailer\n"
     ]
    },
    {
     "name": "stderr",
     "output_type": "stream",
     "text": [
      "Processing: truck 4:  87%|████████▋ | 814/932 [12:58<01:14,  1.59file/s]"
     ]
    },
    {
     "name": "stdout",
     "output_type": "stream",
     "text": [
      "Axle Prediction: 4\n",
      "Validation Result: True\n",
      "Vehicle Prediction: dump trailer\n"
     ]
    },
    {
     "name": "stderr",
     "output_type": "stream",
     "text": [
      "Processing: truck 4:  87%|████████▋ | 815/932 [12:59<01:11,  1.64file/s]"
     ]
    },
    {
     "name": "stdout",
     "output_type": "stream",
     "text": [
      "Axle Prediction: 3\n",
      "Validation Result: False\n",
      "Vehicle Prediction: dump truck\n"
     ]
    },
    {
     "name": "stderr",
     "output_type": "stream",
     "text": [
      "Processing: truck 4:  88%|████████▊ | 816/932 [13:00<01:08,  1.70file/s]"
     ]
    },
    {
     "name": "stdout",
     "output_type": "stream",
     "text": [
      "Axle Prediction: 6\n",
      "Validation Result: False\n",
      "Vehicle Prediction: truck\n",
      "Is Pickup Truck: no\n"
     ]
    },
    {
     "name": "stderr",
     "output_type": "stream",
     "text": [
      "Processing: truck 4:  88%|████████▊ | 817/932 [13:00<01:14,  1.54file/s]"
     ]
    },
    {
     "name": "stdout",
     "output_type": "stream",
     "text": [
      "Axle Prediction: 3\n",
      "Validation Result: False\n",
      "Vehicle Prediction: truck\n",
      "Is Pickup Truck: no\n"
     ]
    },
    {
     "name": "stderr",
     "output_type": "stream",
     "text": [
      "Processing: truck 4:  88%|████████▊ | 818/932 [13:01<01:20,  1.42file/s]"
     ]
    },
    {
     "name": "stdout",
     "output_type": "stream",
     "text": [
      "Axle Prediction: 6\n",
      "Validation Result: False\n",
      "Vehicle Prediction: trailer\n"
     ]
    },
    {
     "name": "stderr",
     "output_type": "stream",
     "text": [
      "Processing: truck 4:  88%|████████▊ | 819/932 [13:02<01:13,  1.54file/s]"
     ]
    },
    {
     "name": "stdout",
     "output_type": "stream",
     "text": [
      "Axle Prediction: 4\n",
      "Validation Result: True\n",
      "Vehicle Prediction: truck\n",
      "Is Pickup Truck: no\n"
     ]
    },
    {
     "name": "stderr",
     "output_type": "stream",
     "text": [
      "[codecarbon INFO @ 11:17:17] Energy consumed for RAM : 0.040890 kWh. RAM Power : 188.80178117752075 W\n",
      "[codecarbon INFO @ 11:17:17] Energy consumed for all CPUs : 0.021660 kWh. Total CPU Power : 100.0 W\n",
      "[codecarbon INFO @ 11:17:17] Energy consumed for all GPUs : 0.067004 kWh. Total GPU Power : 292.02632513058103 W\n",
      "[codecarbon INFO @ 11:17:17] 0.129554 kWh of electricity used since the beginning.\n",
      "Processing: truck 4:  88%|████████▊ | 820/932 [13:05<02:32,  1.36s/file]"
     ]
    },
    {
     "name": "stdout",
     "output_type": "stream",
     "text": [
      "Axle Prediction: 6\n",
      "Validation Result: False\n",
      "Vehicle Prediction: truck\n",
      "Is Pickup Truck: no\n"
     ]
    },
    {
     "name": "stderr",
     "output_type": "stream",
     "text": [
      "Processing: truck 4:  88%|████████▊ | 821/932 [13:07<02:57,  1.60s/file]"
     ]
    },
    {
     "name": "stdout",
     "output_type": "stream",
     "text": [
      "Axle Prediction: 6\n",
      "Validation Result: False\n",
      "Vehicle Prediction: truck\n",
      "Is Pickup Truck: no.\n"
     ]
    },
    {
     "name": "stderr",
     "output_type": "stream",
     "text": [
      "Processing: truck 4:  88%|████████▊ | 822/932 [13:10<03:37,  1.97s/file]"
     ]
    },
    {
     "name": "stdout",
     "output_type": "stream",
     "text": [
      "Axle Prediction: 4\n",
      "Validation Result: True\n",
      "Vehicle Prediction: truck\n",
      "Is Pickup Truck: no.\n"
     ]
    },
    {
     "name": "stderr",
     "output_type": "stream",
     "text": [
      "Processing: truck 4:  88%|████████▊ | 823/932 [13:13<04:03,  2.23s/file]"
     ]
    },
    {
     "name": "stdout",
     "output_type": "stream",
     "text": [
      "Axle Prediction: 4\n",
      "Validation Result: True\n",
      "Vehicle Prediction: truck\n",
      "Is Pickup Truck: no.\n"
     ]
    },
    {
     "name": "stderr",
     "output_type": "stream",
     "text": [
      "Processing: truck 4:  88%|████████▊ | 824/932 [13:15<04:21,  2.42s/file]"
     ]
    },
    {
     "name": "stdout",
     "output_type": "stream",
     "text": [
      "Axle Prediction: 4\n",
      "Validation Result: True\n",
      "Vehicle Prediction: truck\n",
      "Is Pickup Truck: no\n"
     ]
    },
    {
     "name": "stderr",
     "output_type": "stream",
     "text": [
      "Processing: truck 4:  89%|████████▊ | 825/932 [13:16<03:26,  1.93s/file]"
     ]
    },
    {
     "name": "stdout",
     "output_type": "stream",
     "text": [
      "Axle Prediction: 3\n",
      "Validation Result: False\n",
      "Vehicle Prediction: dump truck\n"
     ]
    },
    {
     "name": "stderr",
     "output_type": "stream",
     "text": [
      "Processing: truck 4:  89%|████████▊ | 826/932 [13:18<03:06,  1.76s/file]"
     ]
    },
    {
     "name": "stdout",
     "output_type": "stream",
     "text": [
      "Axle Prediction: 6\n",
      "Validation Result: False\n",
      "Vehicle Prediction: truck\n",
      "Is Pickup Truck: no\n"
     ]
    },
    {
     "name": "stderr",
     "output_type": "stream",
     "text": [
      "Processing: truck 4:  89%|████████▊ | 827/932 [13:19<02:43,  1.56s/file]"
     ]
    },
    {
     "name": "stdout",
     "output_type": "stream",
     "text": [
      "Axle Prediction: 3\n",
      "Validation Result: False\n"
     ]
    },
    {
     "name": "stderr",
     "output_type": "stream",
     "text": [
      "[codecarbon INFO @ 11:17:32] Energy consumed for RAM : 0.041676 kWh. RAM Power : 188.80178117752075 W\n",
      "[codecarbon INFO @ 11:17:32] Energy consumed for all CPUs : 0.022076 kWh. Total CPU Power : 100.0 W\n",
      "[codecarbon INFO @ 11:17:32] Energy consumed for all GPUs : 0.068319 kWh. Total GPU Power : 315.94718432099074 W\n",
      "[codecarbon INFO @ 11:17:32] 0.132072 kWh of electricity used since the beginning.\n"
     ]
    },
    {
     "name": "stdout",
     "output_type": "stream",
     "text": [
      "Vehicle Prediction: truck\n",
      "Is Pickup Truck: no\n"
     ]
    },
    {
     "name": "stderr",
     "output_type": "stream",
     "text": [
      "Processing: truck 5:  89%|████████▉ | 828/932 [13:20<02:27,  1.42s/file]"
     ]
    },
    {
     "name": "stdout",
     "output_type": "stream",
     "text": [
      "Axle Prediction: 6\n",
      "Validation Result: False\n",
      "Vehicle Prediction: dump truck\n"
     ]
    },
    {
     "name": "stderr",
     "output_type": "stream",
     "text": [
      "Processing: truck 5:  89%|████████▉ | 829/932 [13:21<02:26,  1.42s/file]"
     ]
    },
    {
     "name": "stdout",
     "output_type": "stream",
     "text": [
      "Axle Prediction: 6\n",
      "Validation Result: True\n",
      "Vehicle Prediction: truck\n",
      "Is Pickup Truck: no\n"
     ]
    },
    {
     "name": "stderr",
     "output_type": "stream",
     "text": [
      "Processing: truck 5:  89%|████████▉ | 830/932 [13:24<03:03,  1.80s/file]"
     ]
    },
    {
     "name": "stdout",
     "output_type": "stream",
     "text": [
      "Axle Prediction: 6\n",
      "Validation Result: True\n",
      "Vehicle Prediction: truck\n",
      "Is Pickup Truck: no.\n"
     ]
    },
    {
     "name": "stderr",
     "output_type": "stream",
     "text": [
      "Processing: truck 5:  89%|████████▉ | 831/932 [13:27<03:36,  2.14s/file]"
     ]
    },
    {
     "name": "stdout",
     "output_type": "stream",
     "text": [
      "Axle Prediction: 6\n",
      "Validation Result: True\n",
      "Vehicle Prediction: dump truck\n"
     ]
    },
    {
     "name": "stderr",
     "output_type": "stream",
     "text": [
      "Processing: truck 5:  89%|████████▉ | 832/932 [13:28<02:52,  1.73s/file]"
     ]
    },
    {
     "name": "stdout",
     "output_type": "stream",
     "text": [
      "Axle Prediction: 8\n",
      "Validation Result: True\n",
      "Vehicle Prediction: tanker\n"
     ]
    },
    {
     "name": "stderr",
     "output_type": "stream",
     "text": [
      "Processing: truck 5:  89%|████████▉ | 833/932 [13:28<02:17,  1.38s/file]"
     ]
    },
    {
     "name": "stdout",
     "output_type": "stream",
     "text": [
      "Axle Prediction: 3\n",
      "Validation Result: False\n",
      "Vehicle Prediction: truck\n",
      "Is Pickup Truck: no\n"
     ]
    },
    {
     "name": "stderr",
     "output_type": "stream",
     "text": [
      "Processing: truck 5:  89%|████████▉ | 834/932 [13:30<02:45,  1.68s/file]"
     ]
    },
    {
     "name": "stdout",
     "output_type": "stream",
     "text": [
      "Axle Prediction: 6\n",
      "Validation Result: True\n",
      "Vehicle Prediction: truck\n",
      "Is Pickup Truck: no.\n"
     ]
    },
    {
     "name": "stderr",
     "output_type": "stream",
     "text": [
      "Processing: truck 5:  90%|████████▉ | 835/932 [13:32<02:45,  1.71s/file]"
     ]
    },
    {
     "name": "stdout",
     "output_type": "stream",
     "text": [
      "Axle Prediction: 8\n",
      "Validation Result: True\n",
      "Vehicle Prediction: dump truck\n"
     ]
    },
    {
     "name": "stderr",
     "output_type": "stream",
     "text": [
      "Processing: truck 5:  90%|████████▉ | 836/932 [13:33<02:11,  1.37s/file]"
     ]
    },
    {
     "name": "stdout",
     "output_type": "stream",
     "text": [
      "Axle Prediction: 6\n",
      "Validation Result: True\n"
     ]
    },
    {
     "name": "stderr",
     "output_type": "stream",
     "text": [
      "[codecarbon INFO @ 11:17:47] Energy consumed for RAM : 0.042463 kWh. RAM Power : 188.80178117752075 W\n",
      "[codecarbon INFO @ 11:17:47] Energy consumed for all CPUs : 0.022493 kWh. Total CPU Power : 100.0 W\n",
      "[codecarbon INFO @ 11:17:47] Energy consumed for all GPUs : 0.069630 kWh. Total GPU Power : 314.7963123362159 W\n",
      "[codecarbon INFO @ 11:17:47] 0.134586 kWh of electricity used since the beginning.\n"
     ]
    },
    {
     "name": "stdout",
     "output_type": "stream",
     "text": [
      "Vehicle Prediction: truck\n",
      "Is Pickup Truck: no\n"
     ]
    },
    {
     "name": "stderr",
     "output_type": "stream",
     "text": [
      "Processing: truck 5:  90%|████████▉ | 837/932 [13:37<03:24,  2.15s/file]"
     ]
    },
    {
     "name": "stdout",
     "output_type": "stream",
     "text": [
      "Axle Prediction: 6\n",
      "Validation Result: True\n",
      "Vehicle Prediction: truck\n",
      "Is Pickup Truck: no.\n"
     ]
    },
    {
     "name": "stderr",
     "output_type": "stream",
     "text": [
      "Processing: truck 5:  90%|████████▉ | 838/932 [13:38<03:03,  1.95s/file]"
     ]
    },
    {
     "name": "stdout",
     "output_type": "stream",
     "text": [
      "Axle Prediction: 6\n",
      "Validation Result: True\n",
      "Vehicle Prediction: truck\n",
      "Is Pickup Truck: no.\n"
     ]
    },
    {
     "name": "stderr",
     "output_type": "stream",
     "text": [
      "Processing: truck 5:  90%|█████████ | 839/932 [13:40<02:47,  1.81s/file]"
     ]
    },
    {
     "name": "stdout",
     "output_type": "stream",
     "text": [
      "Axle Prediction: 3\n",
      "Validation Result: False\n",
      "Vehicle Prediction: truck\n",
      "Is Pickup Truck: no.\n"
     ]
    },
    {
     "name": "stderr",
     "output_type": "stream",
     "text": [
      "Processing: truck 5:  90%|█████████ | 840/932 [13:41<02:37,  1.71s/file]"
     ]
    },
    {
     "name": "stdout",
     "output_type": "stream",
     "text": [
      "Axle Prediction: 3\n",
      "Validation Result: False\n",
      "Vehicle Prediction: tanker\n"
     ]
    },
    {
     "name": "stderr",
     "output_type": "stream",
     "text": [
      "Processing: truck 5:  90%|█████████ | 841/932 [13:42<02:15,  1.49s/file]"
     ]
    },
    {
     "name": "stdout",
     "output_type": "stream",
     "text": [
      "Axle Prediction: 6\n",
      "Validation Result: True\n",
      "Vehicle Prediction: truck\n",
      "Is Pickup Truck: no\n"
     ]
    },
    {
     "name": "stderr",
     "output_type": "stream",
     "text": [
      "Processing: truck 5:  90%|█████████ | 842/932 [13:44<02:13,  1.49s/file]"
     ]
    },
    {
     "name": "stdout",
     "output_type": "stream",
     "text": [
      "Axle Prediction: 8\n",
      "Validation Result: True\n",
      "Vehicle Prediction: truck\n",
      "Is Pickup Truck: no.\n"
     ]
    },
    {
     "name": "stderr",
     "output_type": "stream",
     "text": [
      "Processing: truck 5:  90%|█████████ | 843/932 [13:45<02:11,  1.48s/file]"
     ]
    },
    {
     "name": "stdout",
     "output_type": "stream",
     "text": [
      "Axle Prediction: 4\n",
      "Validation Result: False\n",
      "Vehicle Prediction: truck\n",
      "Is Pickup Truck: no.\n"
     ]
    },
    {
     "name": "stderr",
     "output_type": "stream",
     "text": [
      "Processing: truck 5:  91%|█████████ | 844/932 [13:47<02:10,  1.48s/file]"
     ]
    },
    {
     "name": "stdout",
     "output_type": "stream",
     "text": [
      "Axle Prediction: 6\n",
      "Validation Result: True\n",
      "Vehicle Prediction: truck\n",
      "Is Pickup Truck: no.\n"
     ]
    },
    {
     "name": "stderr",
     "output_type": "stream",
     "text": [
      "Processing: truck 5:  91%|█████████ | 845/932 [13:48<02:08,  1.48s/file]"
     ]
    },
    {
     "name": "stdout",
     "output_type": "stream",
     "text": [
      "Axle Prediction: 6\n",
      "Validation Result: True\n",
      "Vehicle Prediction: truck\n"
     ]
    },
    {
     "name": "stderr",
     "output_type": "stream",
     "text": [
      "[codecarbon INFO @ 11:18:02] Energy consumed for RAM : 0.043249 kWh. RAM Power : 188.80178117752075 W\n",
      "[codecarbon INFO @ 11:18:02] Energy consumed for all CPUs : 0.022909 kWh. Total CPU Power : 100.0 W\n",
      "[codecarbon INFO @ 11:18:02] Energy consumed for all GPUs : 0.070907 kWh. Total GPU Power : 306.6147630212567 W\n",
      "[codecarbon INFO @ 11:18:02] 0.137066 kWh of electricity used since the beginning.\n"
     ]
    },
    {
     "name": "stdout",
     "output_type": "stream",
     "text": [
      "Is Pickup Truck: no.\n"
     ]
    },
    {
     "name": "stderr",
     "output_type": "stream",
     "text": [
      "Processing: truck 5:  91%|█████████ | 846/932 [13:50<02:07,  1.48s/file]"
     ]
    },
    {
     "name": "stdout",
     "output_type": "stream",
     "text": [
      "Axle Prediction: 3\n",
      "Validation Result: False\n",
      "Vehicle Prediction: dump truck\n"
     ]
    },
    {
     "name": "stderr",
     "output_type": "stream",
     "text": [
      "Processing: truck 5:  91%|█████████ | 847/932 [13:52<02:21,  1.66s/file]"
     ]
    },
    {
     "name": "stdout",
     "output_type": "stream",
     "text": [
      "Axle Prediction: 6\n",
      "Validation Result: True\n",
      "Vehicle Prediction: truck\n",
      "Is Pickup Truck: no.\n"
     ]
    },
    {
     "name": "stderr",
     "output_type": "stream",
     "text": [
      "Processing: truck 5:  91%|█████████ | 848/932 [13:53<02:14,  1.61s/file]"
     ]
    },
    {
     "name": "stdout",
     "output_type": "stream",
     "text": [
      "Axle Prediction: 6\n",
      "Validation Result: True\n",
      "Vehicle Prediction: truck\n",
      "Is Pickup Truck: no.\n"
     ]
    },
    {
     "name": "stderr",
     "output_type": "stream",
     "text": [
      "Processing: truck 5:  91%|█████████ | 849/932 [13:55<02:10,  1.57s/file]"
     ]
    },
    {
     "name": "stdout",
     "output_type": "stream",
     "text": [
      "Axle Prediction: 6\n",
      "Validation Result: True\n",
      "Vehicle Prediction: tanker\n"
     ]
    },
    {
     "name": "stderr",
     "output_type": "stream",
     "text": [
      "Processing: truck 5:  91%|█████████ | 850/932 [13:56<01:54,  1.40s/file]"
     ]
    },
    {
     "name": "stdout",
     "output_type": "stream",
     "text": [
      "Axle Prediction: 6\n",
      "Validation Result: True\n",
      "Vehicle Prediction: truck\n",
      "Is Pickup Truck: no.\n"
     ]
    },
    {
     "name": "stderr",
     "output_type": "stream",
     "text": [
      "Processing: truck 5:  91%|█████████▏| 851/932 [13:57<01:55,  1.42s/file]"
     ]
    },
    {
     "name": "stdout",
     "output_type": "stream",
     "text": [
      "Axle Prediction: 4\n",
      "Validation Result: False\n",
      "Vehicle Prediction: truck\n",
      "Is Pickup Truck: no.\n"
     ]
    },
    {
     "name": "stderr",
     "output_type": "stream",
     "text": [
      "Processing: truck 5:  91%|█████████▏| 852/932 [13:59<01:54,  1.44s/file]"
     ]
    },
    {
     "name": "stdout",
     "output_type": "stream",
     "text": [
      "Axle Prediction: 3\n",
      "Validation Result: False\n",
      "Vehicle Prediction: truck\n",
      "Is Pickup Truck: no.\n"
     ]
    },
    {
     "name": "stderr",
     "output_type": "stream",
     "text": [
      "Processing: truck 5:  92%|█████████▏| 853/932 [14:00<01:54,  1.45s/file]"
     ]
    },
    {
     "name": "stdout",
     "output_type": "stream",
     "text": [
      "Axle Prediction: 6\n",
      "Validation Result: True\n",
      "Vehicle Prediction: truck\n",
      "Is Pickup Truck: no.\n"
     ]
    },
    {
     "name": "stderr",
     "output_type": "stream",
     "text": [
      "Processing: truck 5:  92%|█████████▏| 854/932 [14:02<01:53,  1.45s/file]"
     ]
    },
    {
     "name": "stdout",
     "output_type": "stream",
     "text": [
      "Axle Prediction: 4\n",
      "Validation Result: False\n",
      "Vehicle Prediction: truck\n",
      "Is Pickup Truck: no.\n"
     ]
    },
    {
     "name": "stderr",
     "output_type": "stream",
     "text": [
      "Processing: truck 5:  92%|█████████▏| 855/932 [14:03<02:00,  1.57s/file]"
     ]
    },
    {
     "name": "stdout",
     "output_type": "stream",
     "text": [
      "Axle Prediction: 6\n",
      "Validation Result: True\n",
      "Vehicle Prediction: dump truck\n"
     ]
    },
    {
     "name": "stderr",
     "output_type": "stream",
     "text": [
      "Processing: truck 5:  92%|█████████▏| 856/932 [14:04<01:36,  1.27s/file][codecarbon INFO @ 11:18:17] Energy consumed for RAM : 0.044035 kWh. RAM Power : 188.80178117752075 W\n",
      "[codecarbon INFO @ 11:18:17] Energy consumed for all CPUs : 0.023326 kWh. Total CPU Power : 100.0 W\n",
      "[codecarbon INFO @ 11:18:17] Energy consumed for all GPUs : 0.072225 kWh. Total GPU Power : 316.31358743453023 W\n",
      "[codecarbon INFO @ 11:18:17] 0.139586 kWh of electricity used since the beginning.\n",
      "[codecarbon INFO @ 11:18:17] 0.074992 g.CO2eq/s mean an estimation of 2,364.9338606567935 kg.CO2eq/year\n"
     ]
    },
    {
     "name": "stdout",
     "output_type": "stream",
     "text": [
      "Axle Prediction: 6\n",
      "Validation Result: True\n",
      "Vehicle Prediction: dump truck\n"
     ]
    },
    {
     "name": "stderr",
     "output_type": "stream",
     "text": [
      "Processing: truck 5:  92%|█████████▏| 857/932 [14:04<01:19,  1.05s/file]"
     ]
    },
    {
     "name": "stdout",
     "output_type": "stream",
     "text": [
      "Axle Prediction: 6\n",
      "Validation Result: True\n",
      "Vehicle Prediction: truck\n",
      "Is Pickup Truck: no\n"
     ]
    },
    {
     "name": "stderr",
     "output_type": "stream",
     "text": [
      "Processing: truck 5:  92%|█████████▏| 858/932 [14:05<01:13,  1.01file/s]"
     ]
    },
    {
     "name": "stdout",
     "output_type": "stream",
     "text": [
      "Axle Prediction: 6\n",
      "Validation Result: True\n",
      "Vehicle Prediction: trailer\n"
     ]
    },
    {
     "name": "stderr",
     "output_type": "stream",
     "text": [
      "Processing: truck 5:  92%|█████████▏| 859/932 [14:07<01:31,  1.25s/file]"
     ]
    },
    {
     "name": "stdout",
     "output_type": "stream",
     "text": [
      "Axle Prediction: 8\n",
      "Validation Result: True\n",
      "Vehicle Prediction: truck\n",
      "Is Pickup Truck: no\n"
     ]
    },
    {
     "name": "stderr",
     "output_type": "stream",
     "text": [
      "Processing: truck 5:  92%|█████████▏| 860/932 [14:08<01:20,  1.12s/file]"
     ]
    },
    {
     "name": "stdout",
     "output_type": "stream",
     "text": [
      "Axle Prediction: 8\n",
      "Validation Result: True\n",
      "Vehicle Prediction: truck\n",
      "Is Pickup Truck: no\n"
     ]
    },
    {
     "name": "stderr",
     "output_type": "stream",
     "text": [
      "Processing: truck 5:  92%|█████████▏| 861/932 [14:09<01:12,  1.02s/file]"
     ]
    },
    {
     "name": "stdout",
     "output_type": "stream",
     "text": [
      "Axle Prediction: 3\n",
      "Validation Result: False\n",
      "Vehicle Prediction: truck\n",
      "Is Pickup Truck: no\n"
     ]
    },
    {
     "name": "stderr",
     "output_type": "stream",
     "text": [
      "Processing: truck 5:  92%|█████████▏| 862/932 [14:10<01:07,  1.04file/s]"
     ]
    },
    {
     "name": "stdout",
     "output_type": "stream",
     "text": [
      "Axle Prediction: 6\n",
      "Validation Result: True\n",
      "Vehicle Prediction: truck\n",
      "Is Pickup Truck: no\n"
     ]
    },
    {
     "name": "stderr",
     "output_type": "stream",
     "text": [
      "Processing: truck 5:  93%|█████████▎| 863/932 [14:10<01:03,  1.09file/s]"
     ]
    },
    {
     "name": "stdout",
     "output_type": "stream",
     "text": [
      "Axle Prediction: 8\n",
      "Validation Result: True\n",
      "Vehicle Prediction: dump truck\n"
     ]
    },
    {
     "name": "stderr",
     "output_type": "stream",
     "text": [
      "Processing: truck 5:  93%|█████████▎| 864/932 [14:11<00:54,  1.24file/s]"
     ]
    },
    {
     "name": "stdout",
     "output_type": "stream",
     "text": [
      "Axle Prediction: 3\n",
      "Validation Result: False\n",
      "Vehicle Prediction: dump truck\n"
     ]
    },
    {
     "name": "stderr",
     "output_type": "stream",
     "text": [
      "Processing: truck 5:  93%|█████████▎| 865/932 [14:12<00:48,  1.37file/s]"
     ]
    },
    {
     "name": "stdout",
     "output_type": "stream",
     "text": [
      "Axle Prediction: 8\n",
      "Validation Result: True\n",
      "Vehicle Prediction: truck\n",
      "Is Pickup Truck: no\n"
     ]
    },
    {
     "name": "stderr",
     "output_type": "stream",
     "text": [
      "Processing: truck 5:  93%|█████████▎| 866/932 [14:12<00:49,  1.32file/s]"
     ]
    },
    {
     "name": "stdout",
     "output_type": "stream",
     "text": [
      "Axle Prediction: 8\n",
      "Validation Result: True\n",
      "Vehicle Prediction: dump truck\n"
     ]
    },
    {
     "name": "stderr",
     "output_type": "stream",
     "text": [
      "Processing: truck 5:  93%|█████████▎| 867/932 [14:13<00:45,  1.44file/s]"
     ]
    },
    {
     "name": "stdout",
     "output_type": "stream",
     "text": [
      "Axle Prediction: 4\n",
      "Validation Result: False\n",
      "Vehicle Prediction: dump truck\n"
     ]
    },
    {
     "name": "stderr",
     "output_type": "stream",
     "text": [
      "Processing: truck 5:  93%|█████████▎| 868/932 [14:13<00:42,  1.52file/s]"
     ]
    },
    {
     "name": "stdout",
     "output_type": "stream",
     "text": [
      "Axle Prediction: 6\n",
      "Validation Result: True\n",
      "Vehicle Prediction: tanker\n"
     ]
    },
    {
     "name": "stderr",
     "output_type": "stream",
     "text": [
      "Processing: truck 5:  93%|█████████▎| 869/932 [14:14<00:39,  1.61file/s]"
     ]
    },
    {
     "name": "stdout",
     "output_type": "stream",
     "text": [
      "Axle Prediction: 8\n",
      "Validation Result: True\n",
      "Vehicle Prediction: truck\n",
      "Is Pickup Truck: no\n"
     ]
    },
    {
     "name": "stderr",
     "output_type": "stream",
     "text": [
      "Processing: truck 5:  93%|█████████▎| 870/932 [14:15<00:42,  1.48file/s]"
     ]
    },
    {
     "name": "stdout",
     "output_type": "stream",
     "text": [
      "Axle Prediction: 6\n",
      "Validation Result: True\n",
      "Vehicle Prediction: dump truck\n"
     ]
    },
    {
     "name": "stderr",
     "output_type": "stream",
     "text": [
      "Processing: truck 5:  93%|█████████▎| 871/932 [14:15<00:38,  1.57file/s]"
     ]
    },
    {
     "name": "stdout",
     "output_type": "stream",
     "text": [
      "Axle Prediction: 6\n",
      "Validation Result: True\n",
      "Vehicle Prediction: truck\n",
      "Is Pickup Truck: no.\n"
     ]
    },
    {
     "name": "stderr",
     "output_type": "stream",
     "text": [
      "Processing: truck 5:  94%|█████████▎| 872/932 [14:16<00:41,  1.45file/s]"
     ]
    },
    {
     "name": "stdout",
     "output_type": "stream",
     "text": [
      "Axle Prediction: 6\n",
      "Validation Result: True\n",
      "Vehicle Prediction: truck\n",
      "Is Pickup Truck: no.\n"
     ]
    },
    {
     "name": "stderr",
     "output_type": "stream",
     "text": [
      "[codecarbon INFO @ 11:18:32] Energy consumed for RAM : 0.044822 kWh. RAM Power : 188.80178117752075 W\n",
      "[codecarbon INFO @ 11:18:32] Energy consumed for all CPUs : 0.023742 kWh. Total CPU Power : 100.0 W\n",
      "[codecarbon INFO @ 11:18:32] Energy consumed for all GPUs : 0.073463 kWh. Total GPU Power : 297.155251787788 W\n",
      "[codecarbon INFO @ 11:18:32] 0.142027 kWh of electricity used since the beginning.\n",
      "Processing: truck 5:  94%|█████████▎| 873/932 [14:19<01:24,  1.43s/file]"
     ]
    },
    {
     "name": "stdout",
     "output_type": "stream",
     "text": [
      "Axle Prediction: 8\n",
      "Validation Result: True\n",
      "Vehicle Prediction: truck\n",
      "Is Pickup Truck: no\n"
     ]
    },
    {
     "name": "stderr",
     "output_type": "stream",
     "text": [
      "Processing: truck 5:  94%|█████████▍| 874/932 [14:20<01:11,  1.24s/file]"
     ]
    },
    {
     "name": "stdout",
     "output_type": "stream",
     "text": [
      "Axle Prediction: 3\n",
      "Validation Result: False\n",
      "Vehicle Prediction: dump truck\n"
     ]
    },
    {
     "name": "stderr",
     "output_type": "stream",
     "text": [
      "Processing: truck 5:  94%|█████████▍| 875/932 [14:21<00:58,  1.03s/file]"
     ]
    },
    {
     "name": "stdout",
     "output_type": "stream",
     "text": [
      "Axle Prediction: 3\n",
      "Validation Result: False\n",
      "Vehicle Prediction: dump truck\n"
     ]
    },
    {
     "name": "stderr",
     "output_type": "stream",
     "text": [
      "Processing: truck 5:  94%|█████████▍| 876/932 [14:21<00:49,  1.12file/s]"
     ]
    },
    {
     "name": "stdout",
     "output_type": "stream",
     "text": [
      "Axle Prediction: 6\n",
      "Validation Result: True\n",
      "Vehicle Prediction: truck\n",
      "Is Pickup Truck: no.\n"
     ]
    },
    {
     "name": "stderr",
     "output_type": "stream",
     "text": [
      "Processing: truck 5:  94%|█████████▍| 877/932 [14:22<00:48,  1.15file/s]"
     ]
    },
    {
     "name": "stdout",
     "output_type": "stream",
     "text": [
      "Axle Prediction: 6\n",
      "Validation Result: True\n",
      "Vehicle Prediction: truck\n",
      "Is Pickup Truck: no\n"
     ]
    },
    {
     "name": "stderr",
     "output_type": "stream",
     "text": [
      "Processing: truck 5:  94%|█████████▍| 878/932 [14:23<00:46,  1.16file/s]"
     ]
    },
    {
     "name": "stdout",
     "output_type": "stream",
     "text": [
      "Axle Prediction: 6\n",
      "Validation Result: True\n",
      "Vehicle Prediction: dump truck\n"
     ]
    },
    {
     "name": "stderr",
     "output_type": "stream",
     "text": [
      "Processing: truck 5:  94%|█████████▍| 879/932 [14:23<00:40,  1.31file/s]"
     ]
    },
    {
     "name": "stdout",
     "output_type": "stream",
     "text": [
      "Axle Prediction: 6\n",
      "Validation Result: True\n",
      "Vehicle Prediction: truck\n",
      "Is Pickup Truck: no\n"
     ]
    },
    {
     "name": "stderr",
     "output_type": "stream",
     "text": [
      "Processing: truck 5:  94%|█████████▍| 880/932 [14:24<00:40,  1.29file/s]"
     ]
    },
    {
     "name": "stdout",
     "output_type": "stream",
     "text": [
      "Axle Prediction: 3\n",
      "Validation Result: False\n",
      "Vehicle Prediction: dump truck\n"
     ]
    },
    {
     "name": "stderr",
     "output_type": "stream",
     "text": [
      "Processing: truck 5:  95%|█████████▍| 881/932 [14:25<00:36,  1.41file/s]"
     ]
    },
    {
     "name": "stdout",
     "output_type": "stream",
     "text": [
      "Axle Prediction: 6\n",
      "Validation Result: True\n",
      "Vehicle Prediction: truck\n",
      "Is Pickup Truck: no.\n"
     ]
    },
    {
     "name": "stderr",
     "output_type": "stream",
     "text": [
      "Processing: truck 5:  95%|█████████▍| 882/932 [14:26<00:37,  1.35file/s]"
     ]
    },
    {
     "name": "stdout",
     "output_type": "stream",
     "text": [
      "Axle Prediction: 6\n",
      "Validation Result: True\n",
      "Vehicle Prediction: truck\n",
      "Is Pickup Truck: no\n"
     ]
    },
    {
     "name": "stderr",
     "output_type": "stream",
     "text": [
      "Processing: truck 5:  95%|█████████▍| 883/932 [14:26<00:37,  1.29file/s]"
     ]
    },
    {
     "name": "stdout",
     "output_type": "stream",
     "text": [
      "Axle Prediction: 6\n",
      "Validation Result: True\n",
      "Vehicle Prediction: dump truck\n"
     ]
    },
    {
     "name": "stderr",
     "output_type": "stream",
     "text": [
      "Processing: truck 5:  95%|█████████▍| 884/932 [14:27<00:33,  1.42file/s]"
     ]
    },
    {
     "name": "stdout",
     "output_type": "stream",
     "text": [
      "Axle Prediction: 6\n",
      "Validation Result: True\n",
      "Vehicle Prediction: dump truck\n"
     ]
    },
    {
     "name": "stderr",
     "output_type": "stream",
     "text": [
      "Processing: truck 5:  95%|█████████▍| 885/932 [14:28<00:30,  1.52file/s]"
     ]
    },
    {
     "name": "stdout",
     "output_type": "stream",
     "text": [
      "Axle Prediction: 6\n",
      "Validation Result: True\n",
      "Vehicle Prediction: dump truck\n"
     ]
    },
    {
     "name": "stderr",
     "output_type": "stream",
     "text": [
      "Processing: truck 5:  95%|█████████▌| 886/932 [14:28<00:28,  1.61file/s]"
     ]
    },
    {
     "name": "stdout",
     "output_type": "stream",
     "text": [
      "Axle Prediction: 6\n",
      "Validation Result: True\n",
      "Vehicle Prediction: tanker\n"
     ]
    },
    {
     "name": "stderr",
     "output_type": "stream",
     "text": [
      "Processing: truck 5:  95%|█████████▌| 887/932 [14:29<00:26,  1.69file/s]"
     ]
    },
    {
     "name": "stdout",
     "output_type": "stream",
     "text": [
      "Axle Prediction: 6\n",
      "Validation Result: True\n",
      "Vehicle Prediction: dump truck\n"
     ]
    },
    {
     "name": "stderr",
     "output_type": "stream",
     "text": [
      "Processing: truck 5:  95%|█████████▌| 888/932 [14:29<00:25,  1.72file/s]"
     ]
    },
    {
     "name": "stdout",
     "output_type": "stream",
     "text": [
      "Axle Prediction: 6\n",
      "Validation Result: True\n",
      "Vehicle Prediction: truck\n",
      "Is Pickup Truck: no\n"
     ]
    },
    {
     "name": "stderr",
     "output_type": "stream",
     "text": [
      "Processing: truck 5:  95%|█████████▌| 889/932 [14:30<00:27,  1.55file/s]"
     ]
    },
    {
     "name": "stdout",
     "output_type": "stream",
     "text": [
      "Axle Prediction: 8\n",
      "Validation Result: True\n",
      "Vehicle Prediction: truck\n",
      "Is Pickup Truck: no\n"
     ]
    },
    {
     "name": "stderr",
     "output_type": "stream",
     "text": [
      "Processing: truck 5:  95%|█████████▌| 890/932 [14:31<00:29,  1.42file/s]"
     ]
    },
    {
     "name": "stdout",
     "output_type": "stream",
     "text": [
      "Axle Prediction: 6\n",
      "Validation Result: True\n",
      "Vehicle Prediction: truck\n",
      "Is Pickup Truck: no\n"
     ]
    },
    {
     "name": "stderr",
     "output_type": "stream",
     "text": [
      "Processing: truck 5:  96%|█████████▌| 891/932 [14:32<00:30,  1.36file/s]"
     ]
    },
    {
     "name": "stdout",
     "output_type": "stream",
     "text": [
      "Axle Prediction: 6\n",
      "Validation Result: True\n",
      "Vehicle Prediction: truck\n",
      "Is Pickup Truck: no.\n"
     ]
    },
    {
     "name": "stderr",
     "output_type": "stream",
     "text": [
      "Processing: truck 5:  96%|█████████▌| 892/932 [14:32<00:30,  1.32file/s]"
     ]
    },
    {
     "name": "stdout",
     "output_type": "stream",
     "text": [
      "Axle Prediction: 6\n",
      "Validation Result: True\n",
      "Vehicle Prediction: dump truck\n"
     ]
    },
    {
     "name": "stderr",
     "output_type": "stream",
     "text": [
      "Processing: truck 5:  96%|█████████▌| 893/932 [14:33<00:27,  1.44file/s]"
     ]
    },
    {
     "name": "stdout",
     "output_type": "stream",
     "text": [
      "Axle Prediction: 6\n",
      "Validation Result: True\n",
      "Vehicle Prediction: dump truck\n"
     ]
    },
    {
     "name": "stderr",
     "output_type": "stream",
     "text": [
      "Processing: truck 5:  96%|█████████▌| 894/932 [14:34<00:24,  1.54file/s]"
     ]
    },
    {
     "name": "stdout",
     "output_type": "stream",
     "text": [
      "Axle Prediction: 6\n",
      "Validation Result: True\n"
     ]
    },
    {
     "name": "stderr",
     "output_type": "stream",
     "text": [
      "[codecarbon INFO @ 11:18:47] Energy consumed for RAM : 0.045608 kWh. RAM Power : 188.80178117752075 W\n",
      "[codecarbon INFO @ 11:18:47] Energy consumed for all CPUs : 0.024159 kWh. Total CPU Power : 100.0 W\n",
      "[codecarbon INFO @ 11:18:47] Energy consumed for all GPUs : 0.074672 kWh. Total GPU Power : 290.21690520068205 W\n",
      "[codecarbon INFO @ 11:18:47] 0.144438 kWh of electricity used since the beginning.\n"
     ]
    },
    {
     "name": "stdout",
     "output_type": "stream",
     "text": [
      "Vehicle Prediction: dump truck\n"
     ]
    },
    {
     "name": "stderr",
     "output_type": "stream",
     "text": [
      "Processing: truck 5:  96%|█████████▌| 895/932 [14:34<00:23,  1.59file/s]"
     ]
    },
    {
     "name": "stdout",
     "output_type": "stream",
     "text": [
      "Axle Prediction: 6\n",
      "Validation Result: True\n",
      "Vehicle Prediction: dump truck\n"
     ]
    },
    {
     "name": "stderr",
     "output_type": "stream",
     "text": [
      "Processing: truck 5:  96%|█████████▌| 896/932 [14:35<00:21,  1.66file/s]"
     ]
    },
    {
     "name": "stdout",
     "output_type": "stream",
     "text": [
      "Axle Prediction: 8\n",
      "Validation Result: True\n",
      "Vehicle Prediction: dump truck\n"
     ]
    },
    {
     "name": "stderr",
     "output_type": "stream",
     "text": [
      "Processing: truck 5:  96%|█████████▌| 897/932 [14:35<00:20,  1.72file/s]"
     ]
    },
    {
     "name": "stdout",
     "output_type": "stream",
     "text": [
      "Axle Prediction: 6\n",
      "Validation Result: True\n",
      "Vehicle Prediction: dump truck\n"
     ]
    },
    {
     "name": "stderr",
     "output_type": "stream",
     "text": [
      "Processing: truck 5:  96%|█████████▋| 898/932 [14:36<00:19,  1.74file/s]"
     ]
    },
    {
     "name": "stdout",
     "output_type": "stream",
     "text": [
      "Axle Prediction: 6\n",
      "Validation Result: True\n",
      "Vehicle Prediction: truck\n",
      "Is Pickup Truck: no.\n"
     ]
    },
    {
     "name": "stderr",
     "output_type": "stream",
     "text": [
      "Processing: truck 5:  96%|█████████▋| 899/932 [14:37<00:21,  1.54file/s]"
     ]
    },
    {
     "name": "stdout",
     "output_type": "stream",
     "text": [
      "Axle Prediction: 6\n",
      "Validation Result: True\n",
      "Vehicle Prediction: dump truck\n"
     ]
    },
    {
     "name": "stderr",
     "output_type": "stream",
     "text": [
      "Processing: truck 5:  97%|█████████▋| 900/932 [14:37<00:19,  1.62file/s]"
     ]
    },
    {
     "name": "stdout",
     "output_type": "stream",
     "text": [
      "Axle Prediction: 6\n",
      "Validation Result: True\n",
      "Vehicle Prediction: dump truck\n"
     ]
    },
    {
     "name": "stderr",
     "output_type": "stream",
     "text": [
      "Processing: truck 5:  97%|█████████▋| 901/932 [14:38<00:18,  1.68file/s]"
     ]
    },
    {
     "name": "stdout",
     "output_type": "stream",
     "text": [
      "Axle Prediction: 6\n",
      "Validation Result: True\n",
      "Vehicle Prediction: truck\n",
      "Is Pickup Truck: no\n"
     ]
    },
    {
     "name": "stderr",
     "output_type": "stream",
     "text": [
      "Processing: truck 5:  97%|█████████▋| 902/932 [14:38<00:19,  1.51file/s]"
     ]
    },
    {
     "name": "stdout",
     "output_type": "stream",
     "text": [
      "Axle Prediction: 6\n",
      "Validation Result: True\n",
      "Vehicle Prediction: truck\n",
      "Is Pickup Truck: no\n"
     ]
    },
    {
     "name": "stderr",
     "output_type": "stream",
     "text": [
      "Processing: truck 5:  97%|█████████▋| 903/932 [14:39<00:20,  1.41file/s]"
     ]
    },
    {
     "name": "stdout",
     "output_type": "stream",
     "text": [
      "Axle Prediction: 8\n",
      "Validation Result: True\n",
      "Vehicle Prediction: dump truck\n"
     ]
    },
    {
     "name": "stderr",
     "output_type": "stream",
     "text": [
      "Processing: truck 5:  97%|█████████▋| 904/932 [14:40<00:18,  1.52file/s]"
     ]
    },
    {
     "name": "stdout",
     "output_type": "stream",
     "text": [
      "Axle Prediction: 6\n",
      "Validation Result: True\n",
      "Vehicle Prediction: dump truck\n"
     ]
    },
    {
     "name": "stderr",
     "output_type": "stream",
     "text": [
      "Processing: truck 5:  97%|█████████▋| 905/932 [14:40<00:16,  1.60file/s]"
     ]
    },
    {
     "name": "stdout",
     "output_type": "stream",
     "text": [
      "Axle Prediction: 4\n",
      "Validation Result: False\n",
      "Vehicle Prediction: dump truck\n"
     ]
    },
    {
     "name": "stderr",
     "output_type": "stream",
     "text": [
      "Processing: truck 5:  97%|█████████▋| 906/932 [14:41<00:15,  1.66file/s]"
     ]
    },
    {
     "name": "stdout",
     "output_type": "stream",
     "text": [
      "Axle Prediction: 3\n",
      "Validation Result: False\n"
     ]
    },
    {
     "name": "stderr",
     "output_type": "stream",
     "text": [
      "Processing: truck 5:  97%|█████████▋| 907/932 [14:41<00:12,  1.97file/s]"
     ]
    },
    {
     "name": "stdout",
     "output_type": "stream",
     "text": [
      "Vehicle Prediction: tow\n",
      "Validation Result: False\n",
      "Vehicle Prediction: dump truck\n"
     ]
    },
    {
     "name": "stderr",
     "output_type": "stream",
     "text": [
      "Processing: truck 5:  97%|█████████▋| 908/932 [14:42<00:12,  1.93file/s]"
     ]
    },
    {
     "name": "stdout",
     "output_type": "stream",
     "text": [
      "Axle Prediction: 6\n",
      "Validation Result: True\n",
      "Vehicle Prediction: dump truck\n"
     ]
    },
    {
     "name": "stderr",
     "output_type": "stream",
     "text": [
      "Processing: truck 5:  98%|█████████▊| 909/932 [14:42<00:12,  1.86file/s]"
     ]
    },
    {
     "name": "stdout",
     "output_type": "stream",
     "text": [
      "Axle Prediction: 4\n",
      "Validation Result: False\n",
      "Vehicle Prediction: truck\n",
      "Is Pickup Truck: no\n"
     ]
    },
    {
     "name": "stderr",
     "output_type": "stream",
     "text": [
      "Processing: truck 5:  98%|█████████▊| 910/932 [14:43<00:13,  1.62file/s]"
     ]
    },
    {
     "name": "stdout",
     "output_type": "stream",
     "text": [
      "Axle Prediction: 3\n",
      "Validation Result: False\n",
      "Vehicle Prediction: lorry\n"
     ]
    },
    {
     "name": "stderr",
     "output_type": "stream",
     "text": [
      "Processing: truck 5:  98%|█████████▊| 911/932 [14:44<00:12,  1.66file/s]"
     ]
    },
    {
     "name": "stdout",
     "output_type": "stream",
     "text": [
      "Axle Prediction: 6\n",
      "Validation Result: True\n",
      "Vehicle Prediction: dump truck\n"
     ]
    },
    {
     "name": "stderr",
     "output_type": "stream",
     "text": [
      "Processing: truck 5:  98%|█████████▊| 912/932 [14:44<00:11,  1.70file/s]"
     ]
    },
    {
     "name": "stdout",
     "output_type": "stream",
     "text": [
      "Axle Prediction: 6\n",
      "Validation Result: True\n",
      "Vehicle Prediction: truck\n",
      "Is Pickup Truck: no\n"
     ]
    },
    {
     "name": "stderr",
     "output_type": "stream",
     "text": [
      "Processing: truck 5:  98%|█████████▊| 913/932 [14:45<00:12,  1.53file/s]"
     ]
    },
    {
     "name": "stdout",
     "output_type": "stream",
     "text": [
      "Axle Prediction: 8\n",
      "Validation Result: True\n",
      "Vehicle Prediction: truck\n",
      "Is Pickup Truck: no\n"
     ]
    },
    {
     "name": "stderr",
     "output_type": "stream",
     "text": [
      "Processing: truck 5:  98%|█████████▊| 914/932 [14:46<00:12,  1.42file/s]"
     ]
    },
    {
     "name": "stdout",
     "output_type": "stream",
     "text": [
      "Axle Prediction: 6\n",
      "Validation Result: True\n",
      "Vehicle Prediction: dump truck\n"
     ]
    },
    {
     "name": "stderr",
     "output_type": "stream",
     "text": [
      "Processing: truck 5:  98%|█████████▊| 915/932 [14:46<00:11,  1.53file/s]"
     ]
    },
    {
     "name": "stdout",
     "output_type": "stream",
     "text": [
      "Axle Prediction: 3\n",
      "Validation Result: False\n",
      "Vehicle Prediction: dump truck\n"
     ]
    },
    {
     "name": "stderr",
     "output_type": "stream",
     "text": [
      "Processing: truck 5:  98%|█████████▊| 916/932 [14:47<00:09,  1.61file/s]"
     ]
    },
    {
     "name": "stdout",
     "output_type": "stream",
     "text": [
      "Axle Prediction: 6\n",
      "Validation Result: True\n",
      "Vehicle Prediction: truck\n",
      "Is Pickup Truck: no.\n"
     ]
    },
    {
     "name": "stderr",
     "output_type": "stream",
     "text": [
      "Processing: truck 5:  98%|█████████▊| 917/932 [14:48<00:10,  1.46file/s]"
     ]
    },
    {
     "name": "stdout",
     "output_type": "stream",
     "text": [
      "Axle Prediction: 6\n",
      "Validation Result: True\n",
      "Vehicle Prediction: dump truck\n"
     ]
    },
    {
     "name": "stderr",
     "output_type": "stream",
     "text": [
      "Processing: truck 5:  98%|█████████▊| 918/932 [14:48<00:08,  1.56file/s]"
     ]
    },
    {
     "name": "stdout",
     "output_type": "stream",
     "text": [
      "Axle Prediction: 6\n",
      "Validation Result: True\n",
      "Vehicle Prediction: truck\n"
     ]
    },
    {
     "name": "stderr",
     "output_type": "stream",
     "text": [
      "[codecarbon INFO @ 11:19:02] Energy consumed for RAM : 0.046394 kWh. RAM Power : 188.80178117752075 W\n",
      "[codecarbon INFO @ 11:19:02] Energy consumed for all CPUs : 0.024575 kWh. Total CPU Power : 100.0 W\n",
      "[codecarbon INFO @ 11:19:02] Energy consumed for all GPUs : 0.075873 kWh. Total GPU Power : 288.4627669023564 W\n",
      "[codecarbon INFO @ 11:19:02] 0.146843 kWh of electricity used since the beginning.\n"
     ]
    },
    {
     "name": "stdout",
     "output_type": "stream",
     "text": [
      "Is Pickup Truck: no\n"
     ]
    },
    {
     "name": "stderr",
     "output_type": "stream",
     "text": [
      "Processing: truck 5:  99%|█████████▊| 919/932 [14:49<00:09,  1.43file/s]"
     ]
    },
    {
     "name": "stdout",
     "output_type": "stream",
     "text": [
      "Axle Prediction: 6\n",
      "Validation Result: True\n",
      "Vehicle Prediction: dump truck\n"
     ]
    },
    {
     "name": "stderr",
     "output_type": "stream",
     "text": [
      "Processing: truck 5:  99%|█████████▊| 920/932 [14:50<00:07,  1.54file/s]"
     ]
    },
    {
     "name": "stdout",
     "output_type": "stream",
     "text": [
      "Axle Prediction: 6\n",
      "Validation Result: True\n",
      "Vehicle Prediction: dump truck\n"
     ]
    },
    {
     "name": "stderr",
     "output_type": "stream",
     "text": [
      "Processing: truck 5:  99%|█████████▉| 921/932 [14:50<00:06,  1.62file/s]"
     ]
    },
    {
     "name": "stdout",
     "output_type": "stream",
     "text": [
      "Axle Prediction: 6\n",
      "Validation Result: True\n",
      "Vehicle Prediction: dump truck\n"
     ]
    },
    {
     "name": "stderr",
     "output_type": "stream",
     "text": [
      "Processing: truck 5:  99%|█████████▉| 922/932 [14:51<00:05,  1.67file/s]"
     ]
    },
    {
     "name": "stdout",
     "output_type": "stream",
     "text": [
      "Axle Prediction: 6\n",
      "Validation Result: True\n",
      "Vehicle Prediction: dump truck\n"
     ]
    },
    {
     "name": "stderr",
     "output_type": "stream",
     "text": [
      "Processing: truck 5:  99%|█████████▉| 923/932 [14:51<00:05,  1.69file/s]"
     ]
    },
    {
     "name": "stdout",
     "output_type": "stream",
     "text": [
      "Axle Prediction: 6\n",
      "Validation Result: True\n",
      "Vehicle Prediction: truck\n",
      "Is Pickup Truck: no\n"
     ]
    },
    {
     "name": "stderr",
     "output_type": "stream",
     "text": [
      "Processing: truck 5:  99%|█████████▉| 924/932 [14:52<00:05,  1.50file/s]"
     ]
    },
    {
     "name": "stdout",
     "output_type": "stream",
     "text": [
      "Axle Prediction: 6\n",
      "Validation Result: True\n",
      "Vehicle Prediction: truck\n",
      "Is Pickup Truck: no\n"
     ]
    },
    {
     "name": "stderr",
     "output_type": "stream",
     "text": [
      "Processing: truck 5:  99%|█████████▉| 925/932 [14:54<00:07,  1.12s/file]"
     ]
    },
    {
     "name": "stdout",
     "output_type": "stream",
     "text": [
      "Axle Prediction: 3\n",
      "Validation Result: False\n",
      "Vehicle Prediction: dump truck\n"
     ]
    },
    {
     "name": "stderr",
     "output_type": "stream",
     "text": [
      "Processing: truck 5:  99%|█████████▉| 926/932 [14:56<00:07,  1.20s/file]"
     ]
    },
    {
     "name": "stdout",
     "output_type": "stream",
     "text": [
      "Axle Prediction: 6\n",
      "Validation Result: True\n",
      "Vehicle Prediction: dump truck\n"
     ]
    },
    {
     "name": "stderr",
     "output_type": "stream",
     "text": [
      "Processing: truck 5:  99%|█████████▉| 927/932 [14:57<00:06,  1.34s/file]"
     ]
    },
    {
     "name": "stdout",
     "output_type": "stream",
     "text": [
      "Axle Prediction: 6\n",
      "Validation Result: True\n",
      "Vehicle Prediction: truck\n",
      "Is Pickup Truck: no\n"
     ]
    },
    {
     "name": "stderr",
     "output_type": "stream",
     "text": [
      "Processing: truck 5:  99%|█████████▉| 927/932 [14:58<00:04,  1.03file/s]\n",
      "[codecarbon INFO @ 11:19:11] Energy consumed for RAM : 0.046883 kWh. RAM Power : 188.80178117752075 W\n",
      "[codecarbon INFO @ 11:19:11] Energy consumed for all CPUs : 0.024834 kWh. Total CPU Power : 100.0 W\n",
      "[codecarbon INFO @ 11:19:11] Energy consumed for all GPUs : 0.076664 kWh. Total GPU Power : 305.5347751449195 W\n",
      "[codecarbon INFO @ 11:19:11] 0.148381 kWh of electricity used since the beginning.\n"
     ]
    },
    {
     "name": "stdout",
     "output_type": "stream",
     "text": [
      "Axle Prediction: 6\n",
      "Validation Result: True\n",
      "Total processing time: 898.80 seconds\n",
      "CO2 emissions: 0.066730 kg\n",
      "\n",
      "--- Metrics ---\n",
      "Total Images: 927\n",
      "Correct Predictions: 646\n",
      "Wrong Predictions: 281\n",
      "Accuracy (%): 69.68716289104638\n",
      "Error Rate (%): 30.312837108953616\n",
      "Class 'Class 1 - Motorcycles' - Accuracy: 92.00%, Error Rate: 8.00%\n",
      "Class 'Class 2 - Car, SUV, Station Wagons' - Accuracy: 97.98%, Error Rate: 2.02%\n",
      "Class 'pickup' - Accuracy: 82.00%, Error Rate: 18.00%\n",
      "Class 'van' - Accuracy: 100.00%, Error Rate: 0.00%\n",
      "Class 'bus 2' - Accuracy: 69.05%, Error Rate: 30.95%\n",
      "Class 'truck 2' - Accuracy: 78.22%, Error Rate: 21.78%\n",
      "Class 'bus 3' - Accuracy: 27.55%, Error Rate: 72.45%\n",
      "Class 'truck 3' - Accuracy: 33.00%, Error Rate: 67.00%\n",
      "Class 'truck 4' - Accuracy: 32.18%, Error Rate: 67.82%\n",
      "Class 'truck 5' - Accuracy: 79.00%, Error Rate: 21.00%\n",
      "Processor: x86_64\n",
      "CPU Count: 128\n",
      "Memory (GB): 503.47\n",
      "Elapsed Time (seconds): 898.7975969314575\n",
      "CO2 Emissions (kg): 0.06673\n"
     ]
    }
   ],
   "source": [
    "for models in model_id:\n",
    "    print(models)\n",
    "    model = Qwen2VLForConditionalGeneration.from_pretrained(models, torch_dtype=torch.bfloat16, device_map=\"auto\").eval()\n",
    "    min_pixels = 256*28*28\n",
    "    max_pixels = 1280*28*28\n",
    "    processor = AutoProcessor.from_pretrained(models, min_pixels=min_pixels, max_pixels=max_pixels) #\n",
    "\n",
    "    wrong_predictions_dir = f'experiment_data/{models}/axles/wrong_predictions'  # Directory to store wrongly predicted images\n",
    "    os.makedirs(wrong_predictions_dir, exist_ok=True)\n",
    "    run = main_loop(wrong_predictions_dir = wrong_predictions_dir)\n",
    "    export_results(run[0], models, run[1], run[2])\n",
    "    \n",
    "        "
   ]
  },
  {
   "cell_type": "code",
   "execution_count": null,
   "metadata": {},
   "outputs": [],
   "source": []
  }
 ],
 "metadata": {
  "accelerator": "GPU",
  "colab": {
   "gpuType": "T4",
   "provenance": []
  },
  "kernelspec": {
   "display_name": "Python 3 (ipykernel)",
   "language": "python",
   "name": "python3"
  },
  "language_info": {
   "codemirror_mode": {
    "name": "ipython",
    "version": 3
   },
   "file_extension": ".py",
   "mimetype": "text/x-python",
   "name": "python",
   "nbconvert_exporter": "python",
   "pygments_lexer": "ipython3",
   "version": "3.11.10"
  },
  "widgets": {
   "application/vnd.jupyter.widget-state+json": {
    "03fb4a86fd634888a5b7b79b8de644c0": {
     "model_module": "@jupyter-widgets/controls",
     "model_module_version": "1.5.0",
     "model_name": "FloatProgressModel",
     "state": {
      "_dom_classes": [],
      "_model_module": "@jupyter-widgets/controls",
      "_model_module_version": "1.5.0",
      "_model_name": "FloatProgressModel",
      "_view_count": null,
      "_view_module": "@jupyter-widgets/controls",
      "_view_module_version": "1.5.0",
      "_view_name": "ProgressView",
      "bar_style": "success",
      "description": "",
      "description_tooltip": null,
      "layout": "IPY_MODEL_ac395c5cf8984c588b5aec4b16d3ecd7",
      "max": 2,
      "min": 0,
      "orientation": "horizontal",
      "style": "IPY_MODEL_b2b2c799c6424b3d8c04b6b0d740495f",
      "value": 2
     }
    },
    "1c8a0accbd9e4ecd92ea6759abcb90b8": {
     "model_module": "@jupyter-widgets/controls",
     "model_module_version": "1.5.0",
     "model_name": "DescriptionStyleModel",
     "state": {
      "_model_module": "@jupyter-widgets/controls",
      "_model_module_version": "1.5.0",
      "_model_name": "DescriptionStyleModel",
      "_view_count": null,
      "_view_module": "@jupyter-widgets/base",
      "_view_module_version": "1.2.0",
      "_view_name": "StyleView",
      "description_width": ""
     }
    },
    "24bdb648a9924a1e9c7492bfad303051": {
     "model_module": "@jupyter-widgets/base",
     "model_module_version": "1.2.0",
     "model_name": "LayoutModel",
     "state": {
      "_model_module": "@jupyter-widgets/base",
      "_model_module_version": "1.2.0",
      "_model_name": "LayoutModel",
      "_view_count": null,
      "_view_module": "@jupyter-widgets/base",
      "_view_module_version": "1.2.0",
      "_view_name": "LayoutView",
      "align_content": null,
      "align_items": null,
      "align_self": null,
      "border": null,
      "bottom": null,
      "display": null,
      "flex": null,
      "flex_flow": null,
      "grid_area": null,
      "grid_auto_columns": null,
      "grid_auto_flow": null,
      "grid_auto_rows": null,
      "grid_column": null,
      "grid_gap": null,
      "grid_row": null,
      "grid_template_areas": null,
      "grid_template_columns": null,
      "grid_template_rows": null,
      "height": null,
      "justify_content": null,
      "justify_items": null,
      "left": null,
      "margin": null,
      "max_height": null,
      "max_width": null,
      "min_height": null,
      "min_width": null,
      "object_fit": null,
      "object_position": null,
      "order": null,
      "overflow": null,
      "overflow_x": null,
      "overflow_y": null,
      "padding": null,
      "right": null,
      "top": null,
      "visibility": null,
      "width": null
     }
    },
    "35e83eef2b3942de9988b141242abf26": {
     "model_module": "@jupyter-widgets/controls",
     "model_module_version": "1.5.0",
     "model_name": "DescriptionStyleModel",
     "state": {
      "_model_module": "@jupyter-widgets/controls",
      "_model_module_version": "1.5.0",
      "_model_name": "DescriptionStyleModel",
      "_view_count": null,
      "_view_module": "@jupyter-widgets/base",
      "_view_module_version": "1.2.0",
      "_view_name": "StyleView",
      "description_width": ""
     }
    },
    "6872ab4ee023411b83902a76159f51a5": {
     "model_module": "@jupyter-widgets/controls",
     "model_module_version": "1.5.0",
     "model_name": "HTMLModel",
     "state": {
      "_dom_classes": [],
      "_model_module": "@jupyter-widgets/controls",
      "_model_module_version": "1.5.0",
      "_model_name": "HTMLModel",
      "_view_count": null,
      "_view_module": "@jupyter-widgets/controls",
      "_view_module_version": "1.5.0",
      "_view_name": "HTMLView",
      "description": "",
      "description_tooltip": null,
      "layout": "IPY_MODEL_e320a6d270f944fcb0002ef0f8316f55",
      "placeholder": "​",
      "style": "IPY_MODEL_1c8a0accbd9e4ecd92ea6759abcb90b8",
      "value": "Loading checkpoint shards: 100%"
     }
    },
    "6b414c9df53d4cff91d850c1ec206af4": {
     "model_module": "@jupyter-widgets/controls",
     "model_module_version": "1.5.0",
     "model_name": "HTMLModel",
     "state": {
      "_dom_classes": [],
      "_model_module": "@jupyter-widgets/controls",
      "_model_module_version": "1.5.0",
      "_model_name": "HTMLModel",
      "_view_count": null,
      "_view_module": "@jupyter-widgets/controls",
      "_view_module_version": "1.5.0",
      "_view_name": "HTMLView",
      "description": "",
      "description_tooltip": null,
      "layout": "IPY_MODEL_c14df69eb5b34254aab962df8ff25261",
      "placeholder": "​",
      "style": "IPY_MODEL_35e83eef2b3942de9988b141242abf26",
      "value": " 2/2 [00:15&lt;00:00,  7.38s/it]"
     }
    },
    "ac395c5cf8984c588b5aec4b16d3ecd7": {
     "model_module": "@jupyter-widgets/base",
     "model_module_version": "1.2.0",
     "model_name": "LayoutModel",
     "state": {
      "_model_module": "@jupyter-widgets/base",
      "_model_module_version": "1.2.0",
      "_model_name": "LayoutModel",
      "_view_count": null,
      "_view_module": "@jupyter-widgets/base",
      "_view_module_version": "1.2.0",
      "_view_name": "LayoutView",
      "align_content": null,
      "align_items": null,
      "align_self": null,
      "border": null,
      "bottom": null,
      "display": null,
      "flex": null,
      "flex_flow": null,
      "grid_area": null,
      "grid_auto_columns": null,
      "grid_auto_flow": null,
      "grid_auto_rows": null,
      "grid_column": null,
      "grid_gap": null,
      "grid_row": null,
      "grid_template_areas": null,
      "grid_template_columns": null,
      "grid_template_rows": null,
      "height": null,
      "justify_content": null,
      "justify_items": null,
      "left": null,
      "margin": null,
      "max_height": null,
      "max_width": null,
      "min_height": null,
      "min_width": null,
      "object_fit": null,
      "object_position": null,
      "order": null,
      "overflow": null,
      "overflow_x": null,
      "overflow_y": null,
      "padding": null,
      "right": null,
      "top": null,
      "visibility": null,
      "width": null
     }
    },
    "b2b2c799c6424b3d8c04b6b0d740495f": {
     "model_module": "@jupyter-widgets/controls",
     "model_module_version": "1.5.0",
     "model_name": "ProgressStyleModel",
     "state": {
      "_model_module": "@jupyter-widgets/controls",
      "_model_module_version": "1.5.0",
      "_model_name": "ProgressStyleModel",
      "_view_count": null,
      "_view_module": "@jupyter-widgets/base",
      "_view_module_version": "1.2.0",
      "_view_name": "StyleView",
      "bar_color": null,
      "description_width": ""
     }
    },
    "beff6fe1bbfd489c88b4d0f9940a1d01": {
     "model_module": "@jupyter-widgets/controls",
     "model_module_version": "1.5.0",
     "model_name": "HBoxModel",
     "state": {
      "_dom_classes": [],
      "_model_module": "@jupyter-widgets/controls",
      "_model_module_version": "1.5.0",
      "_model_name": "HBoxModel",
      "_view_count": null,
      "_view_module": "@jupyter-widgets/controls",
      "_view_module_version": "1.5.0",
      "_view_name": "HBoxView",
      "box_style": "",
      "children": [
       "IPY_MODEL_6872ab4ee023411b83902a76159f51a5",
       "IPY_MODEL_03fb4a86fd634888a5b7b79b8de644c0",
       "IPY_MODEL_6b414c9df53d4cff91d850c1ec206af4"
      ],
      "layout": "IPY_MODEL_24bdb648a9924a1e9c7492bfad303051"
     }
    },
    "c14df69eb5b34254aab962df8ff25261": {
     "model_module": "@jupyter-widgets/base",
     "model_module_version": "1.2.0",
     "model_name": "LayoutModel",
     "state": {
      "_model_module": "@jupyter-widgets/base",
      "_model_module_version": "1.2.0",
      "_model_name": "LayoutModel",
      "_view_count": null,
      "_view_module": "@jupyter-widgets/base",
      "_view_module_version": "1.2.0",
      "_view_name": "LayoutView",
      "align_content": null,
      "align_items": null,
      "align_self": null,
      "border": null,
      "bottom": null,
      "display": null,
      "flex": null,
      "flex_flow": null,
      "grid_area": null,
      "grid_auto_columns": null,
      "grid_auto_flow": null,
      "grid_auto_rows": null,
      "grid_column": null,
      "grid_gap": null,
      "grid_row": null,
      "grid_template_areas": null,
      "grid_template_columns": null,
      "grid_template_rows": null,
      "height": null,
      "justify_content": null,
      "justify_items": null,
      "left": null,
      "margin": null,
      "max_height": null,
      "max_width": null,
      "min_height": null,
      "min_width": null,
      "object_fit": null,
      "object_position": null,
      "order": null,
      "overflow": null,
      "overflow_x": null,
      "overflow_y": null,
      "padding": null,
      "right": null,
      "top": null,
      "visibility": null,
      "width": null
     }
    },
    "e320a6d270f944fcb0002ef0f8316f55": {
     "model_module": "@jupyter-widgets/base",
     "model_module_version": "1.2.0",
     "model_name": "LayoutModel",
     "state": {
      "_model_module": "@jupyter-widgets/base",
      "_model_module_version": "1.2.0",
      "_model_name": "LayoutModel",
      "_view_count": null,
      "_view_module": "@jupyter-widgets/base",
      "_view_module_version": "1.2.0",
      "_view_name": "LayoutView",
      "align_content": null,
      "align_items": null,
      "align_self": null,
      "border": null,
      "bottom": null,
      "display": null,
      "flex": null,
      "flex_flow": null,
      "grid_area": null,
      "grid_auto_columns": null,
      "grid_auto_flow": null,
      "grid_auto_rows": null,
      "grid_column": null,
      "grid_gap": null,
      "grid_row": null,
      "grid_template_areas": null,
      "grid_template_columns": null,
      "grid_template_rows": null,
      "height": null,
      "justify_content": null,
      "justify_items": null,
      "left": null,
      "margin": null,
      "max_height": null,
      "max_width": null,
      "min_height": null,
      "min_width": null,
      "object_fit": null,
      "object_position": null,
      "order": null,
      "overflow": null,
      "overflow_x": null,
      "overflow_y": null,
      "padding": null,
      "right": null,
      "top": null,
      "visibility": null,
      "width": null
     }
    }
   }
  }
 },
 "nbformat": 4,
 "nbformat_minor": 4
}
