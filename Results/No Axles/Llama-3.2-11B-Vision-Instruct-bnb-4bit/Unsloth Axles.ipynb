{
 "cells": [
  {
   "cell_type": "code",
   "execution_count": 1,
   "metadata": {
    "id": "plFroaGkxr7n"
   },
   "outputs": [
    {
     "name": "stdout",
     "output_type": "stream",
     "text": [
      "🦥 Unsloth: Will patch your computer to enable 2x faster free finetuning.\n",
      "🦥 Unsloth Zoo will now patch everything to make training faster!\n"
     ]
    }
   ],
   "source": [
    "from unsloth import FastVisionModel # FastLanguageModel for LLMs\n",
    "import torch\n",
    "from transformers import BitsAndBytesConfig\n",
    "from transformers.image_utils import load_image\n",
    "import torch\n",
    "import csv\n",
    "import platform\n",
    "from transformers import pipeline\n",
    "import psutil\n",
    "import numpy as np\n",
    "from PIL import Image\n",
    "import os\n",
    "import shutil\n",
    "import time\n",
    "from codecarbon import EmissionsTracker"
   ]
  },
  {
   "cell_type": "code",
   "execution_count": 2,
   "metadata": {
    "colab": {
     "base_uri": "https://localhost:8080/",
     "height": 49,
     "referenced_widgets": [
      "beff6fe1bbfd489c88b4d0f9940a1d01",
      "6872ab4ee023411b83902a76159f51a5",
      "03fb4a86fd634888a5b7b79b8de644c0",
      "6b414c9df53d4cff91d850c1ec206af4",
      "24bdb648a9924a1e9c7492bfad303051",
      "e320a6d270f944fcb0002ef0f8316f55",
      "1c8a0accbd9e4ecd92ea6759abcb90b8",
      "ac395c5cf8984c588b5aec4b16d3ecd7",
      "b2b2c799c6424b3d8c04b6b0d740495f",
      "c14df69eb5b34254aab962df8ff25261",
      "35e83eef2b3942de9988b141242abf26"
     ]
    },
    "id": "hdmdVbNBxaZl",
    "outputId": "4e6c4c7a-c491-4f59-a7f2-6d9f04ecd6e9"
   },
   "outputs": [],
   "source": [
    "model_list = [ # Llama 3.2 vision support\n",
    "    \"unsloth/Llama-3.2-90B-Vision-Instruct-bnb-4bit\", # Can fit in a 80GB card!\n",
    "\n",
    "    \"unsloth/Pixtral-12B-2409-bnb-4bit\",              \n",
    "\n",
    "    \"unsloth/Qwen2-VL-72B-Instruct-bnb-4bit\",\n",
    "\n",
    "         \n",
    "]\n",
    "\n",
    "model_id = [\"unsloth/Llama-3.2-11B-Vision-Instruct-bnb-4bit\"]"
   ]
  },
  {
   "cell_type": "code",
   "execution_count": 3,
   "metadata": {
    "id": "L10lGQF8yCdE"
   },
   "outputs": [],
   "source": [
    "# Image directory\n",
    "img_dir = 'benchmark_vlm/master'"
   ]
  },
  {
   "cell_type": "markdown",
   "metadata": {
    "id": "8k86dXQJ9_81"
   },
   "source": [
    "### Inference Function"
   ]
  },
  {
   "cell_type": "code",
   "execution_count": 4,
   "metadata": {},
   "outputs": [],
   "source": [
    "# model, tokenizer = FastVisionModel.from_pretrained(models, load_in_4bit = True, use_gradient_checkpointing = False)"
   ]
  },
  {
   "cell_type": "code",
   "execution_count": 5,
   "metadata": {
    "id": "iDIEGC215lsG"
   },
   "outputs": [],
   "source": [
    "# Function to run inference\n",
    "def infer_image(image_path, prompt):\n",
    "    with open(image_path, \"rb\") as f:\n",
    "          input_image = Image.open(f).convert(\"RGB\")\n",
    "\n",
    "    \n",
    "    messages = [\n",
    "    {\"role\": \"user\", \"content\": [\n",
    "        {\"type\": \"image\"},\n",
    "        {\"type\": \"text\", \"text\": prompt}\n",
    "    ]}\n",
    "]\n",
    "   \n",
    "    input_text = tokenizer.apply_chat_template(messages, add_generation_prompt = True)\n",
    "    inputs = tokenizer( input_image, input_text, add_special_tokens = False, return_tensors = \"pt\",).to(\"cuda\")\n",
    "    output = model.generate(**inputs, max_new_tokens=3)\n",
    "    return (tokenizer.decode(output[0]).split()[-1].split('.')[0].lower())\n",
    "\n",
    "    \n",
    "    \n",
    "    \n",
    "    "
   ]
  },
  {
   "cell_type": "code",
   "execution_count": 6,
   "metadata": {},
   "outputs": [],
   "source": [
    "# infer_image('benchmark_vlm/master/Class 5 - 3 axle truck, bus/truck 3/165_jpg.rf.0a6d8c9e33bab77bf8be134e5163fac2.jpg', 'Is this a pickup truck? Respond with only yes or no.')"
   ]
  },
  {
   "cell_type": "markdown",
   "metadata": {
    "id": "kymovqsQ99A_"
   },
   "source": [
    "### Validation function"
   ]
  },
  {
   "cell_type": "code",
   "execution_count": 7,
   "metadata": {
    "id": "NM8O5ht0-G9x"
   },
   "outputs": [],
   "source": [
    "# Define vehicle classes for validation\n",
    "vehicle_classes = {\n",
    "    \"Class 1 - Motorcycles\": [\"motorcycle\", \"motorbike\", \"bike\", \"scooter\", \"motor\", \"moped\"],\n",
    "    \"Class 2 - Car, SUV, Station Wagons\": [\"car\", \"sedan\", \"hatchback\", \"suv\", \"mpv\", \"crossover\", \"station wagon\", \"wagon\", 'coupe','coupé', 'convertible', 'sports car'],\n",
    "    \"Class 3 - 2 axle lorry, van, pickup\": [\"pickup\", \"van\", \"minivan\"],\n",
    "    \"Class 4 - 2 axles, 5 or 6 wheels bus or truck\": [\"bus\", \"truck\", 'trailer', 'lorry', 'tractor', 'tanker', 'dump truck', \"tow truck\", \"dump trailer\"],\n",
    "    \"Class 5 - 3 axle truck, bus\": [\"bus\", \"truck\"],\n",
    "    \"Class 6 - 4 axles\": [\"coach\", \"bus\", \"truck\", 'trailer', 'lorry', 'tractor', 'tanker', 'dump truck', \"tow truck\", \"dump trailer\"],\n",
    "    \"Class 7 - 5 or more axles\": [\"coach\", \"bus\", \"truck\", 'trailer', 'lorry', 'tractor', 'tanker', 'dump truck', \"tow truck\", \"dump trailer\"],\n",
    "    \"bus 2\" : [\"coach\", \"bus\"],\n",
    "    \"bus 3\" : [\"coach\", \"bus\"],\n",
    "    \"truck 2\" : [\"truck\", 'trailer', 'lorry', 'tractor', 'tanker', 'dump truck', \"tow truck\", \"dump trailer\"],\n",
    "    \"truck 3\" : [\"truck\", 'trailer', 'lorry', 'tractor', 'tanker', 'dump truck', \"tow truck\", \"dump trailer\"],\n",
    "    \"truck 4\" : [\"truck\", 'trailer', 'lorry', 'tractor', 'tanker', 'dump truck', \"tow truck\", \"dump trailer\"],\n",
    "    \"truck 5\" : [\"truck\", 'trailer', 'lorry', 'tractor', 'tanker', 'dump truck', \"tow truck\", \"dump trailer\"],\n",
    "    \"van\" : [\"van\", \"minivan\", 'minibus', 'mpv'],\n",
    "    \"pickup\" : [\"pickup\", \"pickup truck\", \"camper\"],\n",
    "}\n",
    "\n",
    "valid_vehicle_types = {type for sublist in vehicle_classes.values() for type in sublist}"
   ]
  },
  {
   "cell_type": "code",
   "execution_count": 8,
   "metadata": {
    "id": "thh669gy5oLj"
   },
   "outputs": [],
   "source": [
    "# Validate predictions\n",
    "\n",
    "def validate_prediction(folder_name, prediction, axles=None):\n",
    "    # Extract folder label\n",
    "    for class_name, valid_labels in vehicle_classes.items():\n",
    "        if folder_name.startswith(class_name):\n",
    "            if axles:  # Use axle count for bus/truck\n",
    "                if axles == 1 or 0 or isinstance(axles, str):\n",
    "                  return False\n",
    "                elif axles == 2:\n",
    "                    return \"2\" in folder_name[-1]\n",
    "                elif axles == 3:\n",
    "                    return \"3\" in folder_name[-1]\n",
    "                elif axles == 4:\n",
    "                    return \"4\" in folder_name[-1]\n",
    "                elif axles >= 5:\n",
    "                    return \"5\" in folder_name[-1]\n",
    "            if isinstance(valid_labels, list):\n",
    "                return prediction in valid_labels\n",
    "            return prediction == valid_labels\n",
    "    return False"
   ]
  },
  {
   "cell_type": "markdown",
   "metadata": {
    "id": "mYX4uILS97b0"
   },
   "source": [
    "# Main Loop"
   ]
  },
  {
   "cell_type": "code",
   "execution_count": 9,
   "metadata": {},
   "outputs": [],
   "source": [
    "from tqdm import tqdm"
   ]
  },
  {
   "cell_type": "code",
   "execution_count": 10,
   "metadata": {
    "colab": {
     "base_uri": "https://localhost:8080/"
    },
    "id": "as1UY4lBj0Ha",
    "outputId": "5a7878a3-4ca6-4958-a2b8-646dfb69a5ac"
   },
   "outputs": [],
   "source": [
    "def main_loop(wrong_predictions_dir, img_dir=img_dir, use_axles=True, valid_vehicle_types=valid_vehicle_types):\n",
    "    total_files = sum(len(files) for _, _, files in os.walk(img_dir))\n",
    "    progress_bar = tqdm(total=total_files, desc=\"Processing Images\", unit=\"file\")\n",
    "    # Main processing loop\n",
    "    start_time = time.time()\n",
    "    tracker = EmissionsTracker()\n",
    "    tracker.start()\n",
    "    results = []\n",
    "    for root, dirs, files in os.walk(img_dir):\n",
    "        for file in files:\n",
    "            if file.endswith((\".jpg\", \".png\", \".jpeg\")):\n",
    "                image_path = os.path.join(root, file)\n",
    "                folder_name = os.path.basename(os.path.dirname(image_path))\n",
    "                progress_bar.set_description(f\"Processing: {folder_name}\")\n",
    "                progress_bar.update(1)  # Increment the progress bar\n",
    "\n",
    "                try:\n",
    "                    # First inference: vehicle type\n",
    "                    # vehicle_prompt = f\"<image> answer en What type of vehicle is this? Answer in only one word.\"\n",
    "                    vehicle_prompt = f\"What type of vehicle is this? Choose one from: {', '.join(valid_vehicle_types)}. Answer in one word\"\n",
    "                    prediction = infer_image(image_path, vehicle_prompt)\n",
    "                    print(f\"Vehicle Prediction: {prediction}\")\n",
    "\n",
    "                    # Handle buses and trucks\n",
    "                    axles = None\n",
    "                    if prediction in [\"bus\", \"truck\", 'trailer', 'lorry', 'tractor', 'tanker', 'dump truck',  \"tow truck\", \"dump trailer\"]:\n",
    "                        # Check if it's a pickup truck\n",
    "                        if prediction == 'truck':\n",
    "                            pickup_prompt = \"Is this a pickup truck? Respond with only yes or no.\"\n",
    "                            is_pickup = infer_image(image_path, pickup_prompt).strip().lower()\n",
    "                            print(f\"Is Pickup Truck: {is_pickup}\")\n",
    "                            if is_pickup == \"yes\":\n",
    "                                prediction = \"pickup truck\"\n",
    "                            elif use_axles:\n",
    "                                # Predict axles for non-pickup trucks\n",
    "                                axle_prompt = \"How many axles does this vehicle have? Output a single integer value.\"\n",
    "                                axle_prediction = infer_image(image_path, axle_prompt)[0]\n",
    "                                print(f\"Axle Prediction: {axle_prediction}\")\n",
    "                    \n",
    "                                try:\n",
    "                                    axles = int(axle_prediction)\n",
    "                                except ValueError:\n",
    "                                    print(f\"Invalid axle prediction: {axle_prediction}\")\n",
    "                                    axles = None  # Fallback if parsing fails\n",
    "                        elif use_axles:\n",
    "\n",
    "                            axle_prompt = \"How many axles does this vehicle have? Output a single integer value\"\n",
    "                            axle_prediction = infer_image(image_path, axle_prompt)\n",
    "                            print(f\"Axle Prediction: {axle_prediction}\")\n",
    "    \n",
    "                            try:\n",
    "                                axles = int(axle_prediction)\n",
    "                            except ValueError:\n",
    "                                print(f\"Invalid axle prediction: {axle_prediction}\")\n",
    "\n",
    "                    # Validate prediction\n",
    "                    is_correct = validate_prediction(folder_name, prediction, axles)\n",
    "                    print(f\"Validation Result: {is_correct}\")\n",
    "\n",
    "                    # Store results\n",
    "                    results.append({\n",
    "                        \"image\": image_path,\n",
    "                        \"folder_label\": folder_name,\n",
    "                        \"prediction\": prediction,\n",
    "                        \"axles\": axles,\n",
    "                        \"is_correct\": is_correct\n",
    "                    })\n",
    "\n",
    "                    # Handle wrong predictions\n",
    "                    if not is_correct:\n",
    "                        # Create a folder for the wrong prediction\n",
    "                        wrong_folder = os.path.join(wrong_predictions_dir, prediction, str(axles))\n",
    "                        os.makedirs(wrong_folder, exist_ok=True)\n",
    "\n",
    "                        # Copy the image to the folder\n",
    "                        shutil.copy(image_path, os.path.join(wrong_folder, file))\n",
    "                except Exception as e:\n",
    "                    print(f\"Error processing {image_path}: {e}\")\n",
    "                    continue\n",
    "    \n",
    "    progress_bar.close()\n",
    "    emissions = tracker.stop()\n",
    "    # Stop the timer\n",
    "    end_time = time.time()\n",
    "    elapsed_time = end_time - start_time\n",
    "    print(f\"Total processing time: {elapsed_time:.2f} seconds\")\n",
    "    print(f\"CO2 emissions: {emissions:.6f} kg\")\n",
    "    return (results, elapsed_time, emissions)"
   ]
  },
  {
   "cell_type": "code",
   "execution_count": 11,
   "metadata": {
    "colab": {
     "base_uri": "https://localhost:8080/"
    },
    "id": "H4COQqG95sqN",
    "outputId": "59ceb760-001c-4faf-cf3d-740399491993"
   },
   "outputs": [],
   "source": [
    "# Save results to CSV\n",
    "def export_results(results, model_id, elapsed_time, emissions):\n",
    "# Save results to CSV\n",
    "    output_csv = f'experiment_data/{models}/axles/results.csv'\n",
    "    with open(output_csv, mode=\"w\", newline=\"\") as file:\n",
    "        writer = csv.DictWriter(file, fieldnames=[\"image\", \"folder_label\", \"prediction\", \"axles\", \"is_correct\"])\n",
    "        writer.writeheader()\n",
    "        writer.writerows(results)\n",
    "\n",
    "    # Metrics calculation\n",
    "    correct_predictions = sum(1 for r in results if r[\"is_correct\"])\n",
    "    total_images = len(results)\n",
    "    accuracy = correct_predictions / total_images * 100 if total_images > 0 else 0\n",
    "    wrong_predictions = total_images - correct_predictions\n",
    "\n",
    "    # Per-class metrics\n",
    "    class_metrics = {}\n",
    "    for result in results:\n",
    "        label = result[\"folder_label\"]\n",
    "        correct = result[\"is_correct\"]\n",
    "        if label not in class_metrics:\n",
    "            class_metrics[label] = {\"correct\": 0, \"total\": 0}\n",
    "        class_metrics[label][\"total\"] += 1\n",
    "        if correct:\n",
    "            class_metrics[label][\"correct\"] += 1\n",
    "\n",
    "    # Aggregate class metrics\n",
    "    per_class_accuracy = {\n",
    "        label: (data[\"correct\"] / data[\"total\"]) * 100\n",
    "        for label, data in class_metrics.items()\n",
    "    }\n",
    "    per_class_error_rate = {\n",
    "        label: 100 - acc for label, acc in per_class_accuracy.items()\n",
    "    }\n",
    "\n",
    "    # Collect system configuration\n",
    "    system_config = {\n",
    "        \"Processor\": platform.processor(),\n",
    "        \"CPU Count\": psutil.cpu_count(logical=True),\n",
    "        \"Memory (GB)\": round(psutil.virtual_memory().total / (1024 ** 3), 2),\n",
    "        \"Elapsed Time (seconds)\": elapsed_time,\n",
    "        # \"CO2 Emissions (kg)\": round(emissions, 6)\n",
    "    }\n",
    "\n",
    "    # Metrics dictionarya\n",
    "    metrics = {\n",
    "        \"Total Images\": total_images,\n",
    "        \"Correct Predictions\": correct_predictions,\n",
    "        \"Wrong Predictions\": wrong_predictions,\n",
    "        \"Accuracy (%)\": accuracy,\n",
    "        \"Error Rate (%)\": 100 - accuracy\n",
    "    }\n",
    "\n",
    "    # Save metrics to CSV\n",
    "    metrics_csv = f'experiment_data/{models}/axles/metrics.csv'\n",
    "    with open(metrics_csv, mode=\"w\", newline=\"\") as file:\n",
    "        writer = csv.writer(file)\n",
    "        writer.writerow([\"Model\", \"Metric\", \"Value\"])\n",
    "        for key, value in metrics.items():\n",
    "            writer.writerow([model_id, key, value])\n",
    "        for label, acc in per_class_accuracy.items():\n",
    "            writer.writerow([model_id, f\"Per-Class Accuracy: {label}\", acc])\n",
    "            writer.writerow([model_id, f\"Per-Class Error Rate: {label}\", per_class_error_rate[label]])\n",
    "        for key, value in system_config.items():\n",
    "            writer.writerow([model_id, key, value])\n",
    "\n",
    "    # Print final metrics\n",
    "    print(\"\\n--- Metrics ---\")\n",
    "    for key, value in metrics.items():\n",
    "        print(f\"{key}: {value}\")\n",
    "    for label, acc in per_class_accuracy.items():\n",
    "        print(f\"Class '{label}' - Accuracy: {acc:.2f}%, Error Rate: {per_class_error_rate[label]:.2f}%\")\n",
    "    for key, value in system_config.items():\n",
    "        print(f\"{key}: {value}\")"
   ]
  },
  {
   "cell_type": "code",
   "execution_count": 12,
   "metadata": {},
   "outputs": [
    {
     "name": "stdout",
     "output_type": "stream",
     "text": [
      "unsloth/Llama-3.2-11B-Vision-Instruct-bnb-4bit\n",
      "==((====))==  Unsloth 2024.12.9: Fast Mllama vision patching. Transformers: 4.48.0.dev0.\n",
      "   \\\\   /|    GPU: NVIDIA A100-SXM4-80GB. Max memory: 79.256 GB. Platform: Linux.\n",
      "O^O/ \\_/ \\    Torch: 2.5.1+cu124. CUDA: 8.0. CUDA Toolkit: 12.4. Triton: 3.1.0\n",
      "\\        /    Bfloat16 = TRUE. FA [Xformers = None. FA2 = False]\n",
      " \"-____-\"     Free Apache license: http://github.com/unslothai/unsloth\n",
      "Unsloth: Fast downloading is enabled - ignore downloading bars which are red colored!\n"
     ]
    },
    {
     "data": {
      "application/vnd.jupyter.widget-view+json": {
       "model_id": "33f2003d80164676b6d7c59bc8c8b47c",
       "version_major": 2,
       "version_minor": 0
      },
      "text/plain": [
       "Loading checkpoint shards:   0%|          | 0/2 [00:00<?, ?it/s]"
      ]
     },
     "metadata": {},
     "output_type": "display_data"
    },
    {
     "name": "stderr",
     "output_type": "stream",
     "text": [
      "Processing Images:   0%|          | 0/932 [00:00<?, ?file/s][codecarbon INFO @ 14:20:18] [setup] RAM Tracking...\n",
      "[codecarbon INFO @ 14:20:18] [setup] CPU Tracking...\n",
      "[codecarbon WARNING @ 14:20:18] No CPU tracking mode found. Falling back on CPU constant mode. \n",
      " Linux OS detected: Please ensure RAPL files exist at \\sys\\class\\powercap\\intel-rapl to measure CPU\n",
      "\n",
      "[codecarbon INFO @ 14:20:20] CPU Model on constant consumption mode: AMD EPYC 7513 32-Core Processor\n",
      "[codecarbon INFO @ 14:20:20] [setup] GPU Tracking...\n",
      "[codecarbon INFO @ 14:20:20] Tracking Nvidia GPU via pynvml\n",
      "[codecarbon INFO @ 14:20:20] >>> Tracker's metadata:\n",
      "[codecarbon INFO @ 14:20:20]   Platform system: Linux-5.15.0-125-generic-x86_64-with-glibc2.35\n",
      "[codecarbon INFO @ 14:20:20]   Python version: 3.11.10\n",
      "[codecarbon INFO @ 14:20:20]   CodeCarbon version: 2.8.2\n",
      "[codecarbon INFO @ 14:20:20]   Available RAM : 503.471 GB\n",
      "[codecarbon INFO @ 14:20:20]   CPU count: 128\n",
      "[codecarbon INFO @ 14:20:20]   CPU model: AMD EPYC 7513 32-Core Processor\n",
      "[codecarbon INFO @ 14:20:20]   GPU count: 1\n",
      "[codecarbon INFO @ 14:20:20]   GPU model: 1 x NVIDIA A100-SXM4-80GB BUT only tracking these GPU ids : [0]\n",
      "[codecarbon INFO @ 14:20:23] Saving emissions data to file /emissions.csv\n",
      "Processing: Class 1 - Motorcycles:   0%|          | 2/932 [00:16<2:15:43,  8.76s/file]"
     ]
    },
    {
     "name": "stdout",
     "output_type": "stream",
     "text": [
      "Vehicle Prediction: motorcycle\n",
      "Validation Result: True\n"
     ]
    },
    {
     "name": "stderr",
     "output_type": "stream",
     "text": [
      "Processing: Class 1 - Motorcycles:   0%|          | 3/932 [00:16<1:16:58,  4.97s/file]"
     ]
    },
    {
     "name": "stdout",
     "output_type": "stream",
     "text": [
      "Vehicle Prediction: motorbike\n",
      "Validation Result: True\n"
     ]
    },
    {
     "name": "stderr",
     "output_type": "stream",
     "text": [
      "Processing: Class 1 - Motorcycles:   0%|          | 4/932 [00:17<49:20,  3.19s/file]  "
     ]
    },
    {
     "name": "stdout",
     "output_type": "stream",
     "text": [
      "Vehicle Prediction: moped\n",
      "Validation Result: True\n"
     ]
    },
    {
     "name": "stderr",
     "output_type": "stream",
     "text": [
      "Processing: Class 1 - Motorcycles:   1%|          | 5/932 [00:17<34:11,  2.21s/file]"
     ]
    },
    {
     "name": "stdout",
     "output_type": "stream",
     "text": [
      "Vehicle Prediction: motorbike\n",
      "Validation Result: True\n"
     ]
    },
    {
     "name": "stderr",
     "output_type": "stream",
     "text": [
      "Processing: Class 1 - Motorcycles:   1%|          | 6/932 [00:18<24:57,  1.62s/file]"
     ]
    },
    {
     "name": "stdout",
     "output_type": "stream",
     "text": [
      "Vehicle Prediction: moped\n",
      "Validation Result: True\n"
     ]
    },
    {
     "name": "stderr",
     "output_type": "stream",
     "text": [
      "Processing: Class 1 - Motorcycles:   1%|          | 7/932 [00:18<19:08,  1.24s/file]"
     ]
    },
    {
     "name": "stdout",
     "output_type": "stream",
     "text": [
      "Vehicle Prediction: moped\n",
      "Validation Result: True\n"
     ]
    },
    {
     "name": "stderr",
     "output_type": "stream",
     "text": [
      "Processing: Class 1 - Motorcycles:   1%|          | 8/932 [00:19<15:19,  1.00file/s]"
     ]
    },
    {
     "name": "stdout",
     "output_type": "stream",
     "text": [
      "Vehicle Prediction: motorbike\n",
      "Validation Result: True\n"
     ]
    },
    {
     "name": "stderr",
     "output_type": "stream",
     "text": [
      "[codecarbon INFO @ 14:20:38] Energy consumed for RAM : 0.000788 kWh. RAM Power : 188.80178117752075 W\n",
      "[codecarbon INFO @ 14:20:38] Energy consumed for all CPUs : 0.000417 kWh. Total CPU Power : 100.0 W\n",
      "[codecarbon INFO @ 14:20:38] Energy consumed for all GPUs : 0.000521 kWh. Total GPU Power : 124.7533306665819 W\n",
      "[codecarbon INFO @ 14:20:38] 0.001726 kWh of electricity used since the beginning.\n",
      "Processing: Class 1 - Motorcycles:   1%|          | 9/932 [00:19<12:44,  1.21file/s]"
     ]
    },
    {
     "name": "stdout",
     "output_type": "stream",
     "text": [
      "Vehicle Prediction: motorcycle\n",
      "Validation Result: True\n"
     ]
    },
    {
     "name": "stderr",
     "output_type": "stream",
     "text": [
      "Processing: Class 1 - Motorcycles:   1%|          | 10/932 [00:19<11:04,  1.39file/s]"
     ]
    },
    {
     "name": "stdout",
     "output_type": "stream",
     "text": [
      "Vehicle Prediction: moped\n",
      "Validation Result: True\n"
     ]
    },
    {
     "name": "stderr",
     "output_type": "stream",
     "text": [
      "Processing: Class 1 - Motorcycles:   1%|          | 11/932 [00:20<09:52,  1.56file/s]"
     ]
    },
    {
     "name": "stdout",
     "output_type": "stream",
     "text": [
      "Vehicle Prediction: motorbike\n",
      "Validation Result: True\n"
     ]
    },
    {
     "name": "stderr",
     "output_type": "stream",
     "text": [
      "Processing: Class 1 - Motorcycles:   1%|▏         | 12/932 [00:20<08:59,  1.70file/s]"
     ]
    },
    {
     "name": "stdout",
     "output_type": "stream",
     "text": [
      "Vehicle Prediction: motorbike\n",
      "Validation Result: True\n"
     ]
    },
    {
     "name": "stderr",
     "output_type": "stream",
     "text": [
      "Processing: Class 1 - Motorcycles:   1%|▏         | 13/932 [00:21<08:24,  1.82file/s]"
     ]
    },
    {
     "name": "stdout",
     "output_type": "stream",
     "text": [
      "Vehicle Prediction: moped\n",
      "Validation Result: True\n"
     ]
    },
    {
     "name": "stderr",
     "output_type": "stream",
     "text": [
      "Processing: Class 1 - Motorcycles:   2%|▏         | 14/932 [00:21<08:08,  1.88file/s]"
     ]
    },
    {
     "name": "stdout",
     "output_type": "stream",
     "text": [
      "Vehicle Prediction: moped\n",
      "Validation Result: True\n"
     ]
    },
    {
     "name": "stderr",
     "output_type": "stream",
     "text": [
      "Processing: Class 1 - Motorcycles:   2%|▏         | 15/932 [00:22<07:51,  1.95file/s]"
     ]
    },
    {
     "name": "stdout",
     "output_type": "stream",
     "text": [
      "Vehicle Prediction: moped\n",
      "Validation Result: True\n"
     ]
    },
    {
     "name": "stderr",
     "output_type": "stream",
     "text": [
      "Processing: Class 1 - Motorcycles:   2%|▏         | 16/932 [00:22<07:35,  2.01file/s]"
     ]
    },
    {
     "name": "stdout",
     "output_type": "stream",
     "text": [
      "Vehicle Prediction: moped\n",
      "Validation Result: True\n"
     ]
    },
    {
     "name": "stderr",
     "output_type": "stream",
     "text": [
      "Processing: Class 1 - Motorcycles:   2%|▏         | 17/932 [00:23<07:24,  2.06file/s]"
     ]
    },
    {
     "name": "stdout",
     "output_type": "stream",
     "text": [
      "Vehicle Prediction: motorbike\n",
      "Validation Result: True\n"
     ]
    },
    {
     "name": "stderr",
     "output_type": "stream",
     "text": [
      "Processing: Class 1 - Motorcycles:   2%|▏         | 18/932 [00:23<07:17,  2.09file/s]"
     ]
    },
    {
     "name": "stdout",
     "output_type": "stream",
     "text": [
      "Vehicle Prediction: motorcycle\n",
      "Validation Result: True\n"
     ]
    },
    {
     "name": "stderr",
     "output_type": "stream",
     "text": [
      "Processing: Class 1 - Motorcycles:   2%|▏         | 19/932 [00:24<07:15,  2.10file/s]"
     ]
    },
    {
     "name": "stdout",
     "output_type": "stream",
     "text": [
      "Vehicle Prediction: moped\n",
      "Validation Result: True\n"
     ]
    },
    {
     "name": "stderr",
     "output_type": "stream",
     "text": [
      "Processing: Class 1 - Motorcycles:   2%|▏         | 20/932 [00:24<07:10,  2.12file/s]"
     ]
    },
    {
     "name": "stdout",
     "output_type": "stream",
     "text": [
      "Vehicle Prediction: motorcycle\n",
      "Validation Result: True\n"
     ]
    },
    {
     "name": "stderr",
     "output_type": "stream",
     "text": [
      "Processing: Class 1 - Motorcycles:   2%|▏         | 21/932 [00:25<07:05,  2.14file/s]"
     ]
    },
    {
     "name": "stdout",
     "output_type": "stream",
     "text": [
      "Vehicle Prediction: motorbike\n",
      "Validation Result: True\n"
     ]
    },
    {
     "name": "stderr",
     "output_type": "stream",
     "text": [
      "Processing: Class 1 - Motorcycles:   2%|▏         | 22/932 [00:25<07:02,  2.15file/s]"
     ]
    },
    {
     "name": "stdout",
     "output_type": "stream",
     "text": [
      "Vehicle Prediction: moped\n",
      "Validation Result: True\n"
     ]
    },
    {
     "name": "stderr",
     "output_type": "stream",
     "text": [
      "Processing: Class 1 - Motorcycles:   2%|▏         | 23/932 [00:26<07:07,  2.13file/s]"
     ]
    },
    {
     "name": "stdout",
     "output_type": "stream",
     "text": [
      "Vehicle Prediction: motorcycle\n",
      "Validation Result: True\n"
     ]
    },
    {
     "name": "stderr",
     "output_type": "stream",
     "text": [
      "Processing: Class 1 - Motorcycles:   3%|▎         | 24/932 [00:26<07:04,  2.14file/s]"
     ]
    },
    {
     "name": "stdout",
     "output_type": "stream",
     "text": [
      "Vehicle Prediction: motorbike\n",
      "Validation Result: True\n"
     ]
    },
    {
     "name": "stderr",
     "output_type": "stream",
     "text": [
      "Processing: Class 1 - Motorcycles:   3%|▎         | 25/932 [00:26<07:01,  2.15file/s]"
     ]
    },
    {
     "name": "stdout",
     "output_type": "stream",
     "text": [
      "Vehicle Prediction: moped\n",
      "Validation Result: True\n"
     ]
    },
    {
     "name": "stderr",
     "output_type": "stream",
     "text": [
      "Processing: Class 1 - Motorcycles:   3%|▎         | 26/932 [00:27<06:59,  2.16file/s]"
     ]
    },
    {
     "name": "stdout",
     "output_type": "stream",
     "text": [
      "Vehicle Prediction: motorcycle\n",
      "Validation Result: True\n"
     ]
    },
    {
     "name": "stderr",
     "output_type": "stream",
     "text": [
      "Processing: Class 1 - Motorcycles:   3%|▎         | 27/932 [00:27<06:58,  2.16file/s]"
     ]
    },
    {
     "name": "stdout",
     "output_type": "stream",
     "text": [
      "Vehicle Prediction: motorcycle\n",
      "Validation Result: True\n"
     ]
    },
    {
     "name": "stderr",
     "output_type": "stream",
     "text": [
      "Processing: Class 1 - Motorcycles:   3%|▎         | 28/932 [00:28<07:07,  2.12file/s]"
     ]
    },
    {
     "name": "stdout",
     "output_type": "stream",
     "text": [
      "Vehicle Prediction: moped\n",
      "Validation Result: True\n"
     ]
    },
    {
     "name": "stderr",
     "output_type": "stream",
     "text": [
      "Processing: Class 1 - Motorcycles:   3%|▎         | 29/932 [00:28<07:04,  2.13file/s]"
     ]
    },
    {
     "name": "stdout",
     "output_type": "stream",
     "text": [
      "Vehicle Prediction: motorcycle\n",
      "Validation Result: True\n"
     ]
    },
    {
     "name": "stderr",
     "output_type": "stream",
     "text": [
      "Processing: Class 1 - Motorcycles:   3%|▎         | 30/932 [00:29<07:00,  2.14file/s]"
     ]
    },
    {
     "name": "stdout",
     "output_type": "stream",
     "text": [
      "Vehicle Prediction: motorcycle\n",
      "Validation Result: True\n"
     ]
    },
    {
     "name": "stderr",
     "output_type": "stream",
     "text": [
      "Processing: Class 1 - Motorcycles:   3%|▎         | 31/932 [00:29<06:58,  2.15file/s]"
     ]
    },
    {
     "name": "stdout",
     "output_type": "stream",
     "text": [
      "Vehicle Prediction: motorbike\n",
      "Validation Result: True\n"
     ]
    },
    {
     "name": "stderr",
     "output_type": "stream",
     "text": [
      "Processing: Class 1 - Motorcycles:   3%|▎         | 32/932 [00:30<07:01,  2.14file/s]"
     ]
    },
    {
     "name": "stdout",
     "output_type": "stream",
     "text": [
      "Vehicle Prediction: moped\n",
      "Validation Result: True\n"
     ]
    },
    {
     "name": "stderr",
     "output_type": "stream",
     "text": [
      "Processing: Class 1 - Motorcycles:   4%|▎         | 33/932 [00:30<06:58,  2.15file/s]"
     ]
    },
    {
     "name": "stdout",
     "output_type": "stream",
     "text": [
      "Vehicle Prediction: motorbike\n",
      "Validation Result: True\n"
     ]
    },
    {
     "name": "stderr",
     "output_type": "stream",
     "text": [
      "Processing: Class 1 - Motorcycles:   4%|▎         | 34/932 [00:31<06:56,  2.16file/s]"
     ]
    },
    {
     "name": "stdout",
     "output_type": "stream",
     "text": [
      "Vehicle Prediction: motorbike\n",
      "Validation Result: True\n"
     ]
    },
    {
     "name": "stderr",
     "output_type": "stream",
     "text": [
      "Processing: Class 1 - Motorcycles:   4%|▍         | 35/932 [00:31<06:54,  2.16file/s]"
     ]
    },
    {
     "name": "stdout",
     "output_type": "stream",
     "text": [
      "Vehicle Prediction: motorcycle\n",
      "Validation Result: True\n"
     ]
    },
    {
     "name": "stderr",
     "output_type": "stream",
     "text": [
      "Processing: Class 1 - Motorcycles:   4%|▍         | 36/932 [00:32<06:56,  2.15file/s]"
     ]
    },
    {
     "name": "stdout",
     "output_type": "stream",
     "text": [
      "Vehicle Prediction: motorcycle\n",
      "Validation Result: True\n"
     ]
    },
    {
     "name": "stderr",
     "output_type": "stream",
     "text": [
      "Processing: Class 1 - Motorcycles:   4%|▍         | 37/932 [00:32<06:58,  2.14file/s]"
     ]
    },
    {
     "name": "stdout",
     "output_type": "stream",
     "text": [
      "Vehicle Prediction: motorcycle\n",
      "Validation Result: True\n"
     ]
    },
    {
     "name": "stderr",
     "output_type": "stream",
     "text": [
      "Processing: Class 1 - Motorcycles:   4%|▍         | 38/932 [00:33<06:56,  2.15file/s]"
     ]
    },
    {
     "name": "stdout",
     "output_type": "stream",
     "text": [
      "Vehicle Prediction: motorbike\n",
      "Validation Result: True\n"
     ]
    },
    {
     "name": "stderr",
     "output_type": "stream",
     "text": [
      "Processing: Class 1 - Motorcycles:   4%|▍         | 39/932 [00:33<06:53,  2.16file/s]"
     ]
    },
    {
     "name": "stdout",
     "output_type": "stream",
     "text": [
      "Vehicle Prediction: motorcycle\n",
      "Validation Result: True\n"
     ]
    },
    {
     "name": "stderr",
     "output_type": "stream",
     "text": [
      "Processing: Class 1 - Motorcycles:   4%|▍         | 40/932 [00:33<06:51,  2.17file/s]"
     ]
    },
    {
     "name": "stdout",
     "output_type": "stream",
     "text": [
      "Vehicle Prediction: moped\n",
      "Validation Result: True\n"
     ]
    },
    {
     "name": "stderr",
     "output_type": "stream",
     "text": [
      "Processing: Class 1 - Motorcycles:   4%|▍         | 41/932 [00:34<06:51,  2.17file/s][codecarbon INFO @ 14:20:53] Energy consumed for RAM : 0.001574 kWh. RAM Power : 188.80178117752075 W\n",
      "[codecarbon INFO @ 14:20:53] Energy consumed for all CPUs : 0.000834 kWh. Total CPU Power : 100.0 W\n",
      "[codecarbon INFO @ 14:20:53] Energy consumed for all GPUs : 0.001617 kWh. Total GPU Power : 263.2298700370725 W\n",
      "[codecarbon INFO @ 14:20:53] 0.004025 kWh of electricity used since the beginning.\n"
     ]
    },
    {
     "name": "stdout",
     "output_type": "stream",
     "text": [
      "Vehicle Prediction: motorcycle\n",
      "Validation Result: True\n"
     ]
    },
    {
     "name": "stderr",
     "output_type": "stream",
     "text": [
      "Processing: Class 1 - Motorcycles:   5%|▍         | 42/932 [00:34<06:49,  2.17file/s]"
     ]
    },
    {
     "name": "stdout",
     "output_type": "stream",
     "text": [
      "Vehicle Prediction: motorbike\n",
      "Validation Result: True\n"
     ]
    },
    {
     "name": "stderr",
     "output_type": "stream",
     "text": [
      "Processing: Class 1 - Motorcycles:   5%|▍         | 43/932 [00:35<06:54,  2.15file/s]"
     ]
    },
    {
     "name": "stdout",
     "output_type": "stream",
     "text": [
      "Vehicle Prediction: motorcycle\n",
      "Validation Result: True\n"
     ]
    },
    {
     "name": "stderr",
     "output_type": "stream",
     "text": [
      "Processing: Class 1 - Motorcycles:   5%|▍         | 44/932 [00:35<06:52,  2.15file/s]"
     ]
    },
    {
     "name": "stdout",
     "output_type": "stream",
     "text": [
      "Vehicle Prediction: motorcycle\n",
      "Validation Result: True\n"
     ]
    },
    {
     "name": "stderr",
     "output_type": "stream",
     "text": [
      "Processing: Class 1 - Motorcycles:   5%|▍         | 45/932 [00:36<06:51,  2.15file/s]"
     ]
    },
    {
     "name": "stdout",
     "output_type": "stream",
     "text": [
      "Vehicle Prediction: motorbike\n",
      "Validation Result: True\n"
     ]
    },
    {
     "name": "stderr",
     "output_type": "stream",
     "text": [
      "Processing: Class 1 - Motorcycles:   5%|▍         | 46/932 [00:36<06:55,  2.13file/s]"
     ]
    },
    {
     "name": "stdout",
     "output_type": "stream",
     "text": [
      "Vehicle Prediction: motorcycle\n",
      "Validation Result: True\n"
     ]
    },
    {
     "name": "stderr",
     "output_type": "stream",
     "text": [
      "Processing: Class 1 - Motorcycles:   5%|▌         | 47/932 [00:37<06:55,  2.13file/s]"
     ]
    },
    {
     "name": "stdout",
     "output_type": "stream",
     "text": [
      "Vehicle Prediction: moped\n",
      "Validation Result: True\n"
     ]
    },
    {
     "name": "stderr",
     "output_type": "stream",
     "text": [
      "Processing: Class 1 - Motorcycles:   5%|▌         | 48/932 [00:37<06:51,  2.15file/s]"
     ]
    },
    {
     "name": "stdout",
     "output_type": "stream",
     "text": [
      "Vehicle Prediction: moped\n",
      "Validation Result: True\n"
     ]
    },
    {
     "name": "stderr",
     "output_type": "stream",
     "text": [
      "Processing: Class 1 - Motorcycles:   5%|▌         | 49/932 [00:38<06:48,  2.16file/s]"
     ]
    },
    {
     "name": "stdout",
     "output_type": "stream",
     "text": [
      "Vehicle Prediction: motorbike\n",
      "Validation Result: True\n"
     ]
    },
    {
     "name": "stderr",
     "output_type": "stream",
     "text": [
      "Processing: Class 1 - Motorcycles:   5%|▌         | 50/932 [00:38<06:46,  2.17file/s]"
     ]
    },
    {
     "name": "stdout",
     "output_type": "stream",
     "text": [
      "Vehicle Prediction: motorbike\n",
      "Validation Result: True\n"
     ]
    },
    {
     "name": "stderr",
     "output_type": "stream",
     "text": [
      "Processing: Class 1 - Motorcycles:   5%|▌         | 51/932 [00:39<06:44,  2.18file/s]"
     ]
    },
    {
     "name": "stdout",
     "output_type": "stream",
     "text": [
      "Vehicle Prediction: motorcycle\n",
      "Validation Result: True\n"
     ]
    },
    {
     "name": "stderr",
     "output_type": "stream",
     "text": [
      "Processing: Class 1 - Motorcycles:   6%|▌         | 52/932 [00:39<06:50,  2.14file/s]"
     ]
    },
    {
     "name": "stdout",
     "output_type": "stream",
     "text": [
      "Vehicle Prediction: motorcycle\n",
      "Validation Result: True\n"
     ]
    },
    {
     "name": "stderr",
     "output_type": "stream",
     "text": [
      "Processing: Class 1 - Motorcycles:   6%|▌         | 53/932 [00:39<06:47,  2.16file/s]"
     ]
    },
    {
     "name": "stdout",
     "output_type": "stream",
     "text": [
      "Vehicle Prediction: motorcycle\n",
      "Validation Result: True\n"
     ]
    },
    {
     "name": "stderr",
     "output_type": "stream",
     "text": [
      "Processing: Class 1 - Motorcycles:   6%|▌         | 54/932 [00:40<06:45,  2.17file/s]"
     ]
    },
    {
     "name": "stdout",
     "output_type": "stream",
     "text": [
      "Vehicle Prediction: moped\n",
      "Validation Result: True\n"
     ]
    },
    {
     "name": "stderr",
     "output_type": "stream",
     "text": [
      "Processing: Class 1 - Motorcycles:   6%|▌         | 55/932 [00:40<06:44,  2.17file/s]"
     ]
    },
    {
     "name": "stdout",
     "output_type": "stream",
     "text": [
      "Vehicle Prediction: motorcycle\n",
      "Validation Result: True\n"
     ]
    },
    {
     "name": "stderr",
     "output_type": "stream",
     "text": [
      "Processing: Class 1 - Motorcycles:   6%|▌         | 56/932 [00:41<06:51,  2.13file/s]"
     ]
    },
    {
     "name": "stdout",
     "output_type": "stream",
     "text": [
      "Vehicle Prediction: moped\n",
      "Validation Result: True\n"
     ]
    },
    {
     "name": "stderr",
     "output_type": "stream",
     "text": [
      "Processing: Class 1 - Motorcycles:   6%|▌         | 57/932 [00:41<06:49,  2.14file/s]"
     ]
    },
    {
     "name": "stdout",
     "output_type": "stream",
     "text": [
      "Vehicle Prediction: motorbike\n",
      "Validation Result: True\n"
     ]
    },
    {
     "name": "stderr",
     "output_type": "stream",
     "text": [
      "Processing: Class 1 - Motorcycles:   6%|▌         | 58/932 [00:42<06:46,  2.15file/s]"
     ]
    },
    {
     "name": "stdout",
     "output_type": "stream",
     "text": [
      "Vehicle Prediction: moped\n",
      "Validation Result: True\n"
     ]
    },
    {
     "name": "stderr",
     "output_type": "stream",
     "text": [
      "Processing: Class 1 - Motorcycles:   6%|▋         | 59/932 [00:42<06:44,  2.16file/s]"
     ]
    },
    {
     "name": "stdout",
     "output_type": "stream",
     "text": [
      "Vehicle Prediction: motorcycle\n",
      "Validation Result: True\n"
     ]
    },
    {
     "name": "stderr",
     "output_type": "stream",
     "text": [
      "Processing: Class 1 - Motorcycles:   6%|▋         | 60/932 [00:43<06:42,  2.17file/s]"
     ]
    },
    {
     "name": "stdout",
     "output_type": "stream",
     "text": [
      "Vehicle Prediction: motorbike\n",
      "Validation Result: True\n"
     ]
    },
    {
     "name": "stderr",
     "output_type": "stream",
     "text": [
      "Processing: Class 1 - Motorcycles:   7%|▋         | 61/932 [00:43<06:46,  2.14file/s]"
     ]
    },
    {
     "name": "stdout",
     "output_type": "stream",
     "text": [
      "Vehicle Prediction: moped\n",
      "Validation Result: True\n"
     ]
    },
    {
     "name": "stderr",
     "output_type": "stream",
     "text": [
      "Processing: Class 1 - Motorcycles:   7%|▋         | 62/932 [00:44<06:45,  2.14file/s]"
     ]
    },
    {
     "name": "stdout",
     "output_type": "stream",
     "text": [
      "Vehicle Prediction: motorcycle\n",
      "Validation Result: True\n"
     ]
    },
    {
     "name": "stderr",
     "output_type": "stream",
     "text": [
      "Processing: Class 1 - Motorcycles:   7%|▋         | 63/932 [00:44<06:43,  2.15file/s]"
     ]
    },
    {
     "name": "stdout",
     "output_type": "stream",
     "text": [
      "Vehicle Prediction: moped\n",
      "Validation Result: True\n"
     ]
    },
    {
     "name": "stderr",
     "output_type": "stream",
     "text": [
      "Processing: Class 1 - Motorcycles:   7%|▋         | 64/932 [00:45<06:41,  2.16file/s]"
     ]
    },
    {
     "name": "stdout",
     "output_type": "stream",
     "text": [
      "Vehicle Prediction: motorcycle\n",
      "Validation Result: True\n"
     ]
    },
    {
     "name": "stderr",
     "output_type": "stream",
     "text": [
      "Processing: Class 1 - Motorcycles:   7%|▋         | 65/932 [00:45<06:44,  2.15file/s]"
     ]
    },
    {
     "name": "stdout",
     "output_type": "stream",
     "text": [
      "Vehicle Prediction: moped\n",
      "Validation Result: True\n"
     ]
    },
    {
     "name": "stderr",
     "output_type": "stream",
     "text": [
      "Processing: Class 1 - Motorcycles:   7%|▋         | 66/932 [00:46<06:42,  2.15file/s]"
     ]
    },
    {
     "name": "stdout",
     "output_type": "stream",
     "text": [
      "Vehicle Prediction: motorcycle\n",
      "Validation Result: True\n"
     ]
    },
    {
     "name": "stderr",
     "output_type": "stream",
     "text": [
      "Processing: Class 1 - Motorcycles:   7%|▋         | 67/932 [00:46<06:37,  2.18file/s]"
     ]
    },
    {
     "name": "stdout",
     "output_type": "stream",
     "text": [
      "Vehicle Prediction: motorcycle\n",
      "Validation Result: True\n"
     ]
    },
    {
     "name": "stderr",
     "output_type": "stream",
     "text": [
      "Processing: Class 1 - Motorcycles:   7%|▋         | 68/932 [00:46<06:36,  2.18file/s]"
     ]
    },
    {
     "name": "stdout",
     "output_type": "stream",
     "text": [
      "Vehicle Prediction: motorbike\n",
      "Validation Result: True\n"
     ]
    },
    {
     "name": "stderr",
     "output_type": "stream",
     "text": [
      "Processing: Class 1 - Motorcycles:   7%|▋         | 69/932 [00:47<06:35,  2.18file/s]"
     ]
    },
    {
     "name": "stdout",
     "output_type": "stream",
     "text": [
      "Vehicle Prediction: motorbike\n",
      "Validation Result: True\n"
     ]
    },
    {
     "name": "stderr",
     "output_type": "stream",
     "text": [
      "Processing: Class 1 - Motorcycles:   8%|▊         | 70/932 [00:47<06:37,  2.17file/s]"
     ]
    },
    {
     "name": "stdout",
     "output_type": "stream",
     "text": [
      "Vehicle Prediction: motorcycle\n",
      "Validation Result: True\n"
     ]
    },
    {
     "name": "stderr",
     "output_type": "stream",
     "text": [
      "Processing: Class 1 - Motorcycles:   8%|▊         | 71/932 [00:48<06:36,  2.17file/s]"
     ]
    },
    {
     "name": "stdout",
     "output_type": "stream",
     "text": [
      "Vehicle Prediction: motorcycle\n",
      "Validation Result: True\n"
     ]
    },
    {
     "name": "stderr",
     "output_type": "stream",
     "text": [
      "Processing: Class 1 - Motorcycles:   8%|▊         | 72/932 [00:48<06:33,  2.18file/s]"
     ]
    },
    {
     "name": "stdout",
     "output_type": "stream",
     "text": [
      "Vehicle Prediction: motorcycle\n",
      "Validation Result: True\n"
     ]
    },
    {
     "name": "stderr",
     "output_type": "stream",
     "text": [
      "Processing: Class 1 - Motorcycles:   8%|▊         | 73/932 [00:49<06:31,  2.20file/s]"
     ]
    },
    {
     "name": "stdout",
     "output_type": "stream",
     "text": [
      "Vehicle Prediction: motorcycle\n",
      "Validation Result: True\n"
     ]
    },
    {
     "name": "stderr",
     "output_type": "stream",
     "text": [
      "[codecarbon INFO @ 14:21:08] Energy consumed for RAM : 0.002360 kWh. RAM Power : 188.80178117752075 W\n",
      "[codecarbon INFO @ 14:21:08] Energy consumed for all CPUs : 0.001250 kWh. Total CPU Power : 100.0 W\n",
      "Processing: Class 1 - Motorcycles:   8%|▊         | 74/932 [00:49<06:35,  2.17file/s][codecarbon INFO @ 14:21:08] Energy consumed for all GPUs : 0.002745 kWh. Total GPU Power : 270.77405908052407 W\n",
      "[codecarbon INFO @ 14:21:08] 0.006355 kWh of electricity used since the beginning.\n"
     ]
    },
    {
     "name": "stdout",
     "output_type": "stream",
     "text": [
      "Vehicle Prediction: motorcycle\n",
      "Validation Result: True\n"
     ]
    },
    {
     "name": "stderr",
     "output_type": "stream",
     "text": [
      "Processing: Class 1 - Motorcycles:   8%|▊         | 75/932 [00:50<06:37,  2.15file/s]"
     ]
    },
    {
     "name": "stdout",
     "output_type": "stream",
     "text": [
      "Vehicle Prediction: motorcycle\n",
      "Validation Result: True\n"
     ]
    },
    {
     "name": "stderr",
     "output_type": "stream",
     "text": [
      "Processing: Class 1 - Motorcycles:   8%|▊         | 76/932 [00:50<06:34,  2.17file/s]"
     ]
    },
    {
     "name": "stdout",
     "output_type": "stream",
     "text": [
      "Vehicle Prediction: motorcycle\n",
      "Validation Result: True\n"
     ]
    },
    {
     "name": "stderr",
     "output_type": "stream",
     "text": [
      "Processing: Class 1 - Motorcycles:   8%|▊         | 77/932 [00:51<06:33,  2.17file/s]"
     ]
    },
    {
     "name": "stdout",
     "output_type": "stream",
     "text": [
      "Vehicle Prediction: motorcycle\n",
      "Validation Result: True\n"
     ]
    },
    {
     "name": "stderr",
     "output_type": "stream",
     "text": [
      "Processing: Class 1 - Motorcycles:   8%|▊         | 78/932 [00:51<06:31,  2.18file/s]"
     ]
    },
    {
     "name": "stdout",
     "output_type": "stream",
     "text": [
      "Vehicle Prediction: motorcycle\n",
      "Validation Result: True\n"
     ]
    },
    {
     "name": "stderr",
     "output_type": "stream",
     "text": [
      "Processing: Class 1 - Motorcycles:   8%|▊         | 79/932 [00:51<06:32,  2.18file/s]"
     ]
    },
    {
     "name": "stdout",
     "output_type": "stream",
     "text": [
      "Vehicle Prediction: motorcycle\n",
      "Validation Result: True\n"
     ]
    },
    {
     "name": "stderr",
     "output_type": "stream",
     "text": [
      "Processing: Class 1 - Motorcycles:   9%|▊         | 80/932 [00:52<06:29,  2.19file/s]"
     ]
    },
    {
     "name": "stdout",
     "output_type": "stream",
     "text": [
      "Vehicle Prediction: motorbike\n",
      "Validation Result: True\n"
     ]
    },
    {
     "name": "stderr",
     "output_type": "stream",
     "text": [
      "Processing: Class 1 - Motorcycles:   9%|▊         | 81/932 [00:52<06:26,  2.20file/s]"
     ]
    },
    {
     "name": "stdout",
     "output_type": "stream",
     "text": [
      "Vehicle Prediction: motorcycle\n",
      "Validation Result: True\n"
     ]
    },
    {
     "name": "stderr",
     "output_type": "stream",
     "text": [
      "Processing: Class 1 - Motorcycles:   9%|▉         | 82/932 [00:53<06:26,  2.20file/s]"
     ]
    },
    {
     "name": "stdout",
     "output_type": "stream",
     "text": [
      "Vehicle Prediction: motorbike\n",
      "Validation Result: True\n"
     ]
    },
    {
     "name": "stderr",
     "output_type": "stream",
     "text": [
      "Processing: Class 1 - Motorcycles:   9%|▉         | 83/932 [00:53<06:27,  2.19file/s]"
     ]
    },
    {
     "name": "stdout",
     "output_type": "stream",
     "text": [
      "Vehicle Prediction: motorbike\n",
      "Validation Result: True\n"
     ]
    },
    {
     "name": "stderr",
     "output_type": "stream",
     "text": [
      "Processing: Class 1 - Motorcycles:   9%|▉         | 84/932 [00:54<06:28,  2.18file/s]"
     ]
    },
    {
     "name": "stdout",
     "output_type": "stream",
     "text": [
      "Vehicle Prediction: moped\n",
      "Validation Result: True\n"
     ]
    },
    {
     "name": "stderr",
     "output_type": "stream",
     "text": [
      "Processing: Class 1 - Motorcycles:   9%|▉         | 85/932 [00:54<06:28,  2.18file/s]"
     ]
    },
    {
     "name": "stdout",
     "output_type": "stream",
     "text": [
      "Vehicle Prediction: moped\n",
      "Validation Result: True\n"
     ]
    },
    {
     "name": "stderr",
     "output_type": "stream",
     "text": [
      "Processing: Class 1 - Motorcycles:   9%|▉         | 86/932 [00:55<06:27,  2.19file/s]"
     ]
    },
    {
     "name": "stdout",
     "output_type": "stream",
     "text": [
      "Vehicle Prediction: motorcycle\n",
      "Validation Result: True\n"
     ]
    },
    {
     "name": "stderr",
     "output_type": "stream",
     "text": [
      "Processing: Class 1 - Motorcycles:   9%|▉         | 87/932 [00:55<06:25,  2.19file/s]"
     ]
    },
    {
     "name": "stdout",
     "output_type": "stream",
     "text": [
      "Vehicle Prediction: moped\n",
      "Validation Result: True\n"
     ]
    },
    {
     "name": "stderr",
     "output_type": "stream",
     "text": [
      "Processing: Class 1 - Motorcycles:   9%|▉         | 88/932 [00:56<06:26,  2.18file/s]"
     ]
    },
    {
     "name": "stdout",
     "output_type": "stream",
     "text": [
      "Vehicle Prediction: moped\n",
      "Validation Result: True\n"
     ]
    },
    {
     "name": "stderr",
     "output_type": "stream",
     "text": [
      "Processing: Class 1 - Motorcycles:  10%|▉         | 89/932 [00:56<06:23,  2.20file/s]"
     ]
    },
    {
     "name": "stdout",
     "output_type": "stream",
     "text": [
      "Vehicle Prediction: motorcycle\n",
      "Validation Result: True\n"
     ]
    },
    {
     "name": "stderr",
     "output_type": "stream",
     "text": [
      "Processing: Class 1 - Motorcycles:  10%|▉         | 90/932 [00:56<06:21,  2.20file/s]"
     ]
    },
    {
     "name": "stdout",
     "output_type": "stream",
     "text": [
      "Vehicle Prediction: moped\n",
      "Validation Result: True\n"
     ]
    },
    {
     "name": "stderr",
     "output_type": "stream",
     "text": [
      "Processing: Class 1 - Motorcycles:  10%|▉         | 91/932 [00:57<06:20,  2.21file/s]"
     ]
    },
    {
     "name": "stdout",
     "output_type": "stream",
     "text": [
      "Vehicle Prediction: scooter\n",
      "Validation Result: True\n"
     ]
    },
    {
     "name": "stderr",
     "output_type": "stream",
     "text": [
      "Processing: Class 1 - Motorcycles:  10%|▉         | 92/932 [00:57<06:19,  2.22file/s]"
     ]
    },
    {
     "name": "stdout",
     "output_type": "stream",
     "text": [
      "Vehicle Prediction: moped\n",
      "Validation Result: True\n"
     ]
    },
    {
     "name": "stderr",
     "output_type": "stream",
     "text": [
      "Processing: Class 1 - Motorcycles:  10%|▉         | 93/932 [00:58<06:20,  2.20file/s]"
     ]
    },
    {
     "name": "stdout",
     "output_type": "stream",
     "text": [
      "Vehicle Prediction: scooter\n",
      "Validation Result: True\n"
     ]
    },
    {
     "name": "stderr",
     "output_type": "stream",
     "text": [
      "Processing: Class 1 - Motorcycles:  10%|█         | 94/932 [00:58<06:19,  2.21file/s]"
     ]
    },
    {
     "name": "stdout",
     "output_type": "stream",
     "text": [
      "Vehicle Prediction: motorcycle\n",
      "Validation Result: True\n"
     ]
    },
    {
     "name": "stderr",
     "output_type": "stream",
     "text": [
      "Processing: Class 1 - Motorcycles:  10%|█         | 95/932 [00:59<06:18,  2.21file/s]"
     ]
    },
    {
     "name": "stdout",
     "output_type": "stream",
     "text": [
      "Vehicle Prediction: moped\n",
      "Validation Result: True\n"
     ]
    },
    {
     "name": "stderr",
     "output_type": "stream",
     "text": [
      "Processing: Class 1 - Motorcycles:  10%|█         | 96/932 [00:59<06:17,  2.21file/s]"
     ]
    },
    {
     "name": "stdout",
     "output_type": "stream",
     "text": [
      "Vehicle Prediction: moped\n",
      "Validation Result: True\n"
     ]
    },
    {
     "name": "stderr",
     "output_type": "stream",
     "text": [
      "Processing: Class 1 - Motorcycles:  10%|█         | 97/932 [01:00<06:19,  2.20file/s]"
     ]
    },
    {
     "name": "stdout",
     "output_type": "stream",
     "text": [
      "Vehicle Prediction: moped\n",
      "Validation Result: True\n"
     ]
    },
    {
     "name": "stderr",
     "output_type": "stream",
     "text": [
      "Processing: Class 1 - Motorcycles:  11%|█         | 98/932 [01:00<06:22,  2.18file/s]"
     ]
    },
    {
     "name": "stdout",
     "output_type": "stream",
     "text": [
      "Vehicle Prediction: moped\n",
      "Validation Result: True\n"
     ]
    },
    {
     "name": "stderr",
     "output_type": "stream",
     "text": [
      "Processing: Class 1 - Motorcycles:  11%|█         | 99/932 [01:01<06:21,  2.18file/s]"
     ]
    },
    {
     "name": "stdout",
     "output_type": "stream",
     "text": [
      "Vehicle Prediction: moped\n",
      "Validation Result: True\n"
     ]
    },
    {
     "name": "stderr",
     "output_type": "stream",
     "text": [
      "Processing: Class 1 - Motorcycles:  11%|█         | 100/932 [01:01<06:20,  2.19file/s]"
     ]
    },
    {
     "name": "stdout",
     "output_type": "stream",
     "text": [
      "Vehicle Prediction: moped\n",
      "Validation Result: True\n"
     ]
    },
    {
     "name": "stderr",
     "output_type": "stream",
     "text": [
      "Processing: Class 2 - Car, SUV, Station Wagons:  11%|█         | 101/932 [01:01<06:18,  2.19file/s]"
     ]
    },
    {
     "name": "stdout",
     "output_type": "stream",
     "text": [
      "Vehicle Prediction: motorbike\n",
      "Validation Result: True\n"
     ]
    },
    {
     "name": "stderr",
     "output_type": "stream",
     "text": [
      "Processing: Class 2 - Car, SUV, Station Wagons:  11%|█         | 102/932 [01:02<06:20,  2.18file/s]"
     ]
    },
    {
     "name": "stdout",
     "output_type": "stream",
     "text": [
      "Vehicle Prediction: car\n",
      "Validation Result: True\n"
     ]
    },
    {
     "name": "stderr",
     "output_type": "stream",
     "text": [
      "Processing: Class 2 - Car, SUV, Station Wagons:  11%|█         | 103/932 [01:02<06:18,  2.19file/s]"
     ]
    },
    {
     "name": "stdout",
     "output_type": "stream",
     "text": [
      "Vehicle Prediction: car\n",
      "Validation Result: True\n"
     ]
    },
    {
     "name": "stderr",
     "output_type": "stream",
     "text": [
      "Processing: Class 2 - Car, SUV, Station Wagons:  11%|█         | 104/932 [01:03<06:17,  2.19file/s]"
     ]
    },
    {
     "name": "stdout",
     "output_type": "stream",
     "text": [
      "Vehicle Prediction: car\n",
      "Validation Result: True\n"
     ]
    },
    {
     "name": "stderr",
     "output_type": "stream",
     "text": [
      "Processing: Class 2 - Car, SUV, Station Wagons:  11%|█▏        | 105/932 [01:03<06:19,  2.18file/s]"
     ]
    },
    {
     "name": "stdout",
     "output_type": "stream",
     "text": [
      "Vehicle Prediction: car\n",
      "Validation Result: True\n"
     ]
    },
    {
     "name": "stderr",
     "output_type": "stream",
     "text": [
      "Processing: Class 2 - Car, SUV, Station Wagons:  11%|█▏        | 106/932 [01:04<06:30,  2.12file/s][codecarbon INFO @ 14:21:23] Energy consumed for RAM : 0.003132 kWh. RAM Power : 188.80178117752075 W\n",
      "[codecarbon INFO @ 14:21:23] Energy consumed for all CPUs : 0.001659 kWh. Total CPU Power : 100.0 W\n",
      "[codecarbon INFO @ 14:21:23] Energy consumed for all GPUs : 0.003841 kWh. Total GPU Power : 267.9247434483246 W\n",
      "[codecarbon INFO @ 14:21:23] 0.008633 kWh of electricity used since the beginning.\n"
     ]
    },
    {
     "name": "stdout",
     "output_type": "stream",
     "text": [
      "Vehicle Prediction: car\n",
      "Validation Result: True\n"
     ]
    },
    {
     "name": "stderr",
     "output_type": "stream",
     "text": [
      "Processing: Class 2 - Car, SUV, Station Wagons:  11%|█▏        | 107/932 [01:04<06:29,  2.12file/s]"
     ]
    },
    {
     "name": "stdout",
     "output_type": "stream",
     "text": [
      "Vehicle Prediction: car\n",
      "Validation Result: True\n"
     ]
    },
    {
     "name": "stderr",
     "output_type": "stream",
     "text": [
      "Processing: Class 2 - Car, SUV, Station Wagons:  12%|█▏        | 108/932 [01:05<06:27,  2.13file/s]"
     ]
    },
    {
     "name": "stdout",
     "output_type": "stream",
     "text": [
      "Vehicle Prediction: car\n",
      "Validation Result: True\n"
     ]
    },
    {
     "name": "stderr",
     "output_type": "stream",
     "text": [
      "Processing: Class 2 - Car, SUV, Station Wagons:  12%|█▏        | 109/932 [01:05<06:21,  2.16file/s]"
     ]
    },
    {
     "name": "stdout",
     "output_type": "stream",
     "text": [
      "Vehicle Prediction: car\n",
      "Validation Result: True\n"
     ]
    },
    {
     "name": "stderr",
     "output_type": "stream",
     "text": [
      "Processing: Class 2 - Car, SUV, Station Wagons:  12%|█▏        | 110/932 [01:06<06:24,  2.14file/s]"
     ]
    },
    {
     "name": "stdout",
     "output_type": "stream",
     "text": [
      "Vehicle Prediction: car\n",
      "Validation Result: True\n"
     ]
    },
    {
     "name": "stderr",
     "output_type": "stream",
     "text": [
      "Processing: Class 2 - Car, SUV, Station Wagons:  12%|█▏        | 111/932 [01:06<06:23,  2.14file/s]"
     ]
    },
    {
     "name": "stdout",
     "output_type": "stream",
     "text": [
      "Vehicle Prediction: car\n",
      "Validation Result: True\n"
     ]
    },
    {
     "name": "stderr",
     "output_type": "stream",
     "text": [
      "Processing: Class 2 - Car, SUV, Station Wagons:  12%|█▏        | 112/932 [01:07<06:20,  2.15file/s]"
     ]
    },
    {
     "name": "stdout",
     "output_type": "stream",
     "text": [
      "Vehicle Prediction: sedan\n",
      "Validation Result: True\n"
     ]
    },
    {
     "name": "stderr",
     "output_type": "stream",
     "text": [
      "Processing: Class 2 - Car, SUV, Station Wagons:  12%|█▏        | 113/932 [01:07<06:17,  2.17file/s]"
     ]
    },
    {
     "name": "stdout",
     "output_type": "stream",
     "text": [
      "Vehicle Prediction: car\n",
      "Validation Result: True\n"
     ]
    },
    {
     "name": "stderr",
     "output_type": "stream",
     "text": [
      "Processing: Class 2 - Car, SUV, Station Wagons:  12%|█▏        | 114/932 [01:08<06:13,  2.19file/s]"
     ]
    },
    {
     "name": "stdout",
     "output_type": "stream",
     "text": [
      "Vehicle Prediction: car\n",
      "Validation Result: True\n"
     ]
    },
    {
     "name": "stderr",
     "output_type": "stream",
     "text": [
      "Processing: Class 2 - Car, SUV, Station Wagons:  12%|█▏        | 115/932 [01:08<06:15,  2.18file/s]"
     ]
    },
    {
     "name": "stdout",
     "output_type": "stream",
     "text": [
      "Vehicle Prediction: car\n",
      "Validation Result: True\n"
     ]
    },
    {
     "name": "stderr",
     "output_type": "stream",
     "text": [
      "Processing: Class 2 - Car, SUV, Station Wagons:  12%|█▏        | 116/932 [01:08<06:15,  2.18file/s]"
     ]
    },
    {
     "name": "stdout",
     "output_type": "stream",
     "text": [
      "Vehicle Prediction: coupe\n",
      "Validation Result: True\n"
     ]
    },
    {
     "name": "stderr",
     "output_type": "stream",
     "text": [
      "Processing: Class 2 - Car, SUV, Station Wagons:  13%|█▎        | 117/932 [01:09<06:12,  2.19file/s]"
     ]
    },
    {
     "name": "stdout",
     "output_type": "stream",
     "text": [
      "Vehicle Prediction: car\n",
      "Validation Result: True\n"
     ]
    },
    {
     "name": "stderr",
     "output_type": "stream",
     "text": [
      "Processing: Class 2 - Car, SUV, Station Wagons:  13%|█▎        | 118/932 [01:09<06:19,  2.15file/s]"
     ]
    },
    {
     "name": "stdout",
     "output_type": "stream",
     "text": [
      "Vehicle Prediction: car\n",
      "Validation Result: True\n"
     ]
    },
    {
     "name": "stderr",
     "output_type": "stream",
     "text": [
      "Processing: Class 2 - Car, SUV, Station Wagons:  13%|█▎        | 119/932 [01:10<06:18,  2.15file/s]"
     ]
    },
    {
     "name": "stdout",
     "output_type": "stream",
     "text": [
      "Vehicle Prediction: car\n",
      "Validation Result: True\n"
     ]
    },
    {
     "name": "stderr",
     "output_type": "stream",
     "text": [
      "Processing: Class 2 - Car, SUV, Station Wagons:  13%|█▎        | 120/932 [01:10<06:24,  2.11file/s]"
     ]
    },
    {
     "name": "stdout",
     "output_type": "stream",
     "text": [
      "Vehicle Prediction: car\n",
      "Validation Result: True\n"
     ]
    },
    {
     "name": "stderr",
     "output_type": "stream",
     "text": [
      "Processing: Class 2 - Car, SUV, Station Wagons:  13%|█▎        | 121/932 [01:11<06:19,  2.14file/s]"
     ]
    },
    {
     "name": "stdout",
     "output_type": "stream",
     "text": [
      "Vehicle Prediction: car\n",
      "Validation Result: True\n"
     ]
    },
    {
     "name": "stderr",
     "output_type": "stream",
     "text": [
      "Processing: Class 2 - Car, SUV, Station Wagons:  13%|█▎        | 122/932 [01:11<06:16,  2.15file/s]"
     ]
    },
    {
     "name": "stdout",
     "output_type": "stream",
     "text": [
      "Vehicle Prediction: crossover\n",
      "Validation Result: True\n"
     ]
    },
    {
     "name": "stderr",
     "output_type": "stream",
     "text": [
      "Processing: Class 2 - Car, SUV, Station Wagons:  13%|█▎        | 123/932 [01:12<06:12,  2.17file/s]"
     ]
    },
    {
     "name": "stdout",
     "output_type": "stream",
     "text": [
      "Vehicle Prediction: suv\n",
      "Validation Result: True\n"
     ]
    },
    {
     "name": "stderr",
     "output_type": "stream",
     "text": [
      "Processing: Class 2 - Car, SUV, Station Wagons:  13%|█▎        | 124/932 [01:12<06:17,  2.14file/s]"
     ]
    },
    {
     "name": "stdout",
     "output_type": "stream",
     "text": [
      "Vehicle Prediction: crossover\n",
      "Validation Result: True\n"
     ]
    },
    {
     "name": "stderr",
     "output_type": "stream",
     "text": [
      "Processing: Class 2 - Car, SUV, Station Wagons:  13%|█▎        | 125/932 [01:13<06:14,  2.16file/s]"
     ]
    },
    {
     "name": "stdout",
     "output_type": "stream",
     "text": [
      "Vehicle Prediction: car\n",
      "Validation Result: True\n"
     ]
    },
    {
     "name": "stderr",
     "output_type": "stream",
     "text": [
      "Processing: Class 2 - Car, SUV, Station Wagons:  14%|█▎        | 126/932 [01:13<06:12,  2.16file/s]"
     ]
    },
    {
     "name": "stdout",
     "output_type": "stream",
     "text": [
      "Vehicle Prediction: coupe\n",
      "Validation Result: True\n"
     ]
    },
    {
     "name": "stderr",
     "output_type": "stream",
     "text": [
      "Processing: Class 2 - Car, SUV, Station Wagons:  14%|█▎        | 127/932 [01:14<06:09,  2.18file/s]"
     ]
    },
    {
     "name": "stdout",
     "output_type": "stream",
     "text": [
      "Vehicle Prediction: coupé\n",
      "Validation Result: True\n"
     ]
    },
    {
     "name": "stderr",
     "output_type": "stream",
     "text": [
      "Processing: Class 2 - Car, SUV, Station Wagons:  14%|█▎        | 128/932 [01:14<06:07,  2.19file/s]"
     ]
    },
    {
     "name": "stdout",
     "output_type": "stream",
     "text": [
      "Vehicle Prediction: hatchback\n",
      "Validation Result: True\n"
     ]
    },
    {
     "name": "stderr",
     "output_type": "stream",
     "text": [
      "Processing: Class 2 - Car, SUV, Station Wagons:  14%|█▍        | 129/932 [01:14<06:09,  2.17file/s]"
     ]
    },
    {
     "name": "stdout",
     "output_type": "stream",
     "text": [
      "Vehicle Prediction: car\n",
      "Validation Result: True\n"
     ]
    },
    {
     "name": "stderr",
     "output_type": "stream",
     "text": [
      "Processing: Class 2 - Car, SUV, Station Wagons:  14%|█▍        | 130/932 [01:15<06:14,  2.14file/s]"
     ]
    },
    {
     "name": "stdout",
     "output_type": "stream",
     "text": [
      "Vehicle Prediction: crossover\n",
      "Validation Result: True\n"
     ]
    },
    {
     "name": "stderr",
     "output_type": "stream",
     "text": [
      "Processing: Class 2 - Car, SUV, Station Wagons:  14%|█▍        | 131/932 [01:15<06:09,  2.17file/s]"
     ]
    },
    {
     "name": "stdout",
     "output_type": "stream",
     "text": [
      "Vehicle Prediction: coupe\n",
      "Validation Result: True\n"
     ]
    },
    {
     "name": "stderr",
     "output_type": "stream",
     "text": [
      "Processing: Class 2 - Car, SUV, Station Wagons:  14%|█▍        | 132/932 [01:16<06:06,  2.18file/s]"
     ]
    },
    {
     "name": "stdout",
     "output_type": "stream",
     "text": [
      "Vehicle Prediction: car\n",
      "Validation Result: True\n"
     ]
    },
    {
     "name": "stderr",
     "output_type": "stream",
     "text": [
      "Processing: Class 2 - Car, SUV, Station Wagons:  14%|█▍        | 133/932 [01:16<06:12,  2.15file/s]"
     ]
    },
    {
     "name": "stdout",
     "output_type": "stream",
     "text": [
      "Vehicle Prediction: hatchback\n",
      "Validation Result: True\n"
     ]
    },
    {
     "name": "stderr",
     "output_type": "stream",
     "text": [
      "Processing: Class 2 - Car, SUV, Station Wagons:  14%|█▍        | 134/932 [01:17<06:09,  2.16file/s]"
     ]
    },
    {
     "name": "stdout",
     "output_type": "stream",
     "text": [
      "Vehicle Prediction: wagon\n",
      "Validation Result: True\n"
     ]
    },
    {
     "name": "stderr",
     "output_type": "stream",
     "text": [
      "Processing: Class 2 - Car, SUV, Station Wagons:  14%|█▍        | 135/932 [01:17<06:12,  2.14file/s]"
     ]
    },
    {
     "name": "stdout",
     "output_type": "stream",
     "text": [
      "Vehicle Prediction: wagon\n",
      "Validation Result: True\n"
     ]
    },
    {
     "name": "stderr",
     "output_type": "stream",
     "text": [
      "Processing: Class 2 - Car, SUV, Station Wagons:  15%|█▍        | 136/932 [01:18<06:09,  2.16file/s]"
     ]
    },
    {
     "name": "stdout",
     "output_type": "stream",
     "text": [
      "Vehicle Prediction: hatchback\n",
      "Validation Result: True\n"
     ]
    },
    {
     "name": "stderr",
     "output_type": "stream",
     "text": [
      "Processing: Class 2 - Car, SUV, Station Wagons:  15%|█▍        | 137/932 [01:18<06:20,  2.09file/s]"
     ]
    },
    {
     "name": "stdout",
     "output_type": "stream",
     "text": [
      "Vehicle Prediction: hatchback\n",
      "Validation Result: True\n"
     ]
    },
    {
     "name": "stderr",
     "output_type": "stream",
     "text": [
      "Processing: Class 2 - Car, SUV, Station Wagons:  15%|█▍        | 138/932 [01:19<06:21,  2.08file/s]"
     ]
    },
    {
     "name": "stdout",
     "output_type": "stream",
     "text": [
      "Vehicle Prediction: wagon\n",
      "Validation Result: True\n"
     ]
    },
    {
     "name": "stderr",
     "output_type": "stream",
     "text": [
      "[codecarbon INFO @ 14:21:38] Energy consumed for RAM : 0.003918 kWh. RAM Power : 188.80178117752075 W\n",
      "[codecarbon INFO @ 14:21:38] Energy consumed for all CPUs : 0.002076 kWh. Total CPU Power : 100.0 W\n",
      "[codecarbon INFO @ 14:21:38] Energy consumed for all GPUs : 0.004942 kWh. Total GPU Power : 264.2837936859467 W\n",
      "[codecarbon INFO @ 14:21:38] 0.010936 kWh of electricity used since the beginning.\n",
      "Processing: Class 2 - Car, SUV, Station Wagons:  15%|█▍        | 139/932 [01:19<06:14,  2.12file/s]"
     ]
    },
    {
     "name": "stdout",
     "output_type": "stream",
     "text": [
      "Vehicle Prediction: hatchback\n",
      "Validation Result: True\n"
     ]
    },
    {
     "name": "stderr",
     "output_type": "stream",
     "text": [
      "Processing: Class 2 - Car, SUV, Station Wagons:  15%|█▌        | 140/932 [01:20<06:10,  2.14file/s]"
     ]
    },
    {
     "name": "stdout",
     "output_type": "stream",
     "text": [
      "Vehicle Prediction: sedan\n",
      "Validation Result: True\n"
     ]
    },
    {
     "name": "stderr",
     "output_type": "stream",
     "text": [
      "Processing: Class 2 - Car, SUV, Station Wagons:  15%|█▌        | 141/932 [01:20<06:06,  2.16file/s]"
     ]
    },
    {
     "name": "stdout",
     "output_type": "stream",
     "text": [
      "Vehicle Prediction: wagon\n",
      "Validation Result: True\n"
     ]
    },
    {
     "name": "stderr",
     "output_type": "stream",
     "text": [
      "Processing: Class 2 - Car, SUV, Station Wagons:  15%|█▌        | 142/932 [01:21<06:12,  2.12file/s]"
     ]
    },
    {
     "name": "stdout",
     "output_type": "stream",
     "text": [
      "Vehicle Prediction: wagon\n",
      "Validation Result: True\n"
     ]
    },
    {
     "name": "stderr",
     "output_type": "stream",
     "text": [
      "Processing: Class 2 - Car, SUV, Station Wagons:  15%|█▌        | 143/932 [01:21<06:10,  2.13file/s]"
     ]
    },
    {
     "name": "stdout",
     "output_type": "stream",
     "text": [
      "Vehicle Prediction: wagen\n",
      "Validation Result: False\n"
     ]
    },
    {
     "name": "stderr",
     "output_type": "stream",
     "text": [
      "Processing: Class 2 - Car, SUV, Station Wagons:  15%|█▌        | 144/932 [01:21<06:05,  2.16file/s]"
     ]
    },
    {
     "name": "stdout",
     "output_type": "stream",
     "text": [
      "Vehicle Prediction: suv\n",
      "Validation Result: True\n"
     ]
    },
    {
     "name": "stderr",
     "output_type": "stream",
     "text": [
      "Processing: Class 2 - Car, SUV, Station Wagons:  16%|█▌        | 145/932 [01:22<06:02,  2.17file/s]"
     ]
    },
    {
     "name": "stdout",
     "output_type": "stream",
     "text": [
      "Vehicle Prediction: wagon\n",
      "Validation Result: True\n"
     ]
    },
    {
     "name": "stderr",
     "output_type": "stream",
     "text": [
      "Processing: Class 2 - Car, SUV, Station Wagons:  16%|█▌        | 146/932 [01:22<05:59,  2.19file/s]"
     ]
    },
    {
     "name": "stdout",
     "output_type": "stream",
     "text": [
      "Vehicle Prediction: wagon\n",
      "Validation Result: True\n"
     ]
    },
    {
     "name": "stderr",
     "output_type": "stream",
     "text": [
      "Processing: Class 2 - Car, SUV, Station Wagons:  16%|█▌        | 147/932 [01:23<06:00,  2.18file/s]"
     ]
    },
    {
     "name": "stdout",
     "output_type": "stream",
     "text": [
      "Vehicle Prediction: wagon\n",
      "Validation Result: True\n"
     ]
    },
    {
     "name": "stderr",
     "output_type": "stream",
     "text": [
      "Processing: Class 2 - Car, SUV, Station Wagons:  16%|█▌        | 148/932 [01:23<06:11,  2.11file/s]"
     ]
    },
    {
     "name": "stdout",
     "output_type": "stream",
     "text": [
      "Vehicle Prediction: hatchback\n",
      "Validation Result: True\n"
     ]
    },
    {
     "name": "stderr",
     "output_type": "stream",
     "text": [
      "Processing: Class 2 - Car, SUV, Station Wagons:  16%|█▌        | 149/932 [01:24<06:05,  2.14file/s]"
     ]
    },
    {
     "name": "stdout",
     "output_type": "stream",
     "text": [
      "Vehicle Prediction: hatchback\n",
      "Validation Result: True\n"
     ]
    },
    {
     "name": "stderr",
     "output_type": "stream",
     "text": [
      "Processing: Class 2 - Car, SUV, Station Wagons:  16%|█▌        | 150/932 [01:24<06:04,  2.14file/s]"
     ]
    },
    {
     "name": "stdout",
     "output_type": "stream",
     "text": [
      "Vehicle Prediction: suv\n",
      "Validation Result: True\n"
     ]
    },
    {
     "name": "stderr",
     "output_type": "stream",
     "text": [
      "Processing: Class 2 - Car, SUV, Station Wagons:  16%|█▌        | 151/932 [01:25<06:04,  2.14file/s]"
     ]
    },
    {
     "name": "stdout",
     "output_type": "stream",
     "text": [
      "Vehicle Prediction: suv\n",
      "Validation Result: True\n"
     ]
    },
    {
     "name": "stderr",
     "output_type": "stream",
     "text": [
      "Processing: Class 2 - Car, SUV, Station Wagons:  16%|█▋        | 152/932 [01:25<06:02,  2.15file/s]"
     ]
    },
    {
     "name": "stdout",
     "output_type": "stream",
     "text": [
      "Vehicle Prediction: suv\n",
      "Validation Result: True\n"
     ]
    },
    {
     "name": "stderr",
     "output_type": "stream",
     "text": [
      "Processing: Class 2 - Car, SUV, Station Wagons:  16%|█▋        | 153/932 [01:26<05:58,  2.17file/s]"
     ]
    },
    {
     "name": "stdout",
     "output_type": "stream",
     "text": [
      "Vehicle Prediction: suv\n",
      "Validation Result: True\n"
     ]
    },
    {
     "name": "stderr",
     "output_type": "stream",
     "text": [
      "Processing: Class 2 - Car, SUV, Station Wagons:  17%|█▋        | 154/932 [01:26<05:55,  2.19file/s]"
     ]
    },
    {
     "name": "stdout",
     "output_type": "stream",
     "text": [
      "Vehicle Prediction: suv\n",
      "Validation Result: True\n"
     ]
    },
    {
     "name": "stderr",
     "output_type": "stream",
     "text": [
      "Processing: Class 2 - Car, SUV, Station Wagons:  17%|█▋        | 155/932 [01:27<05:53,  2.20file/s]"
     ]
    },
    {
     "name": "stdout",
     "output_type": "stream",
     "text": [
      "Vehicle Prediction: suv\n",
      "Validation Result: True\n"
     ]
    },
    {
     "name": "stderr",
     "output_type": "stream",
     "text": [
      "Processing: Class 2 - Car, SUV, Station Wagons:  17%|█▋        | 156/932 [01:27<05:54,  2.19file/s]"
     ]
    },
    {
     "name": "stdout",
     "output_type": "stream",
     "text": [
      "Vehicle Prediction: suv\n",
      "Validation Result: True\n"
     ]
    },
    {
     "name": "stderr",
     "output_type": "stream",
     "text": [
      "Processing: Class 2 - Car, SUV, Station Wagons:  17%|█▋        | 157/932 [01:27<05:54,  2.19file/s]"
     ]
    },
    {
     "name": "stdout",
     "output_type": "stream",
     "text": [
      "Vehicle Prediction: suv\n",
      "Validation Result: True\n"
     ]
    },
    {
     "name": "stderr",
     "output_type": "stream",
     "text": [
      "Processing: Class 2 - Car, SUV, Station Wagons:  17%|█▋        | 158/932 [01:28<05:52,  2.19file/s]"
     ]
    },
    {
     "name": "stdout",
     "output_type": "stream",
     "text": [
      "Vehicle Prediction: suv\n",
      "Validation Result: True\n"
     ]
    },
    {
     "name": "stderr",
     "output_type": "stream",
     "text": [
      "Processing: Class 2 - Car, SUV, Station Wagons:  17%|█▋        | 159/932 [01:28<05:52,  2.20file/s]"
     ]
    },
    {
     "name": "stdout",
     "output_type": "stream",
     "text": [
      "Vehicle Prediction: suv\n",
      "Validation Result: True\n"
     ]
    },
    {
     "name": "stderr",
     "output_type": "stream",
     "text": [
      "Processing: Class 2 - Car, SUV, Station Wagons:  17%|█▋        | 160/932 [01:29<05:58,  2.15file/s]"
     ]
    },
    {
     "name": "stdout",
     "output_type": "stream",
     "text": [
      "Vehicle Prediction: suv\n",
      "Validation Result: True\n"
     ]
    },
    {
     "name": "stderr",
     "output_type": "stream",
     "text": [
      "Processing: Class 2 - Car, SUV, Station Wagons:  17%|█▋        | 161/932 [01:29<05:58,  2.15file/s]"
     ]
    },
    {
     "name": "stdout",
     "output_type": "stream",
     "text": [
      "Vehicle Prediction: suv\n",
      "Validation Result: True\n"
     ]
    },
    {
     "name": "stderr",
     "output_type": "stream",
     "text": [
      "Processing: Class 2 - Car, SUV, Station Wagons:  17%|█▋        | 162/932 [01:30<05:54,  2.17file/s]"
     ]
    },
    {
     "name": "stdout",
     "output_type": "stream",
     "text": [
      "Vehicle Prediction: suv\n",
      "Validation Result: True\n"
     ]
    },
    {
     "name": "stderr",
     "output_type": "stream",
     "text": [
      "Processing: Class 2 - Car, SUV, Station Wagons:  17%|█▋        | 163/932 [01:30<05:51,  2.19file/s]"
     ]
    },
    {
     "name": "stdout",
     "output_type": "stream",
     "text": [
      "Vehicle Prediction: suv\n",
      "Validation Result: True\n"
     ]
    },
    {
     "name": "stderr",
     "output_type": "stream",
     "text": [
      "Processing: Class 2 - Car, SUV, Station Wagons:  18%|█▊        | 164/932 [01:31<05:48,  2.20file/s]"
     ]
    },
    {
     "name": "stdout",
     "output_type": "stream",
     "text": [
      "Vehicle Prediction: suv\n",
      "Validation Result: True\n"
     ]
    },
    {
     "name": "stderr",
     "output_type": "stream",
     "text": [
      "Processing: Class 2 - Car, SUV, Station Wagons:  18%|█▊        | 165/932 [01:31<05:52,  2.18file/s]"
     ]
    },
    {
     "name": "stdout",
     "output_type": "stream",
     "text": [
      "Vehicle Prediction: suv\n",
      "Validation Result: True\n"
     ]
    },
    {
     "name": "stderr",
     "output_type": "stream",
     "text": [
      "Processing: Class 2 - Car, SUV, Station Wagons:  18%|█▊        | 166/932 [01:32<05:49,  2.19file/s]"
     ]
    },
    {
     "name": "stdout",
     "output_type": "stream",
     "text": [
      "Vehicle Prediction: suv\n",
      "Validation Result: True\n"
     ]
    },
    {
     "name": "stderr",
     "output_type": "stream",
     "text": [
      "Processing: Class 2 - Car, SUV, Station Wagons:  18%|█▊        | 167/932 [01:32<05:49,  2.19file/s]"
     ]
    },
    {
     "name": "stdout",
     "output_type": "stream",
     "text": [
      "Vehicle Prediction: suv\n",
      "Validation Result: True\n"
     ]
    },
    {
     "name": "stderr",
     "output_type": "stream",
     "text": [
      "Processing: Class 2 - Car, SUV, Station Wagons:  18%|█▊        | 168/932 [01:33<05:48,  2.19file/s]"
     ]
    },
    {
     "name": "stdout",
     "output_type": "stream",
     "text": [
      "Vehicle Prediction: suv\n",
      "Validation Result: True\n"
     ]
    },
    {
     "name": "stderr",
     "output_type": "stream",
     "text": [
      "Processing: Class 2 - Car, SUV, Station Wagons:  18%|█▊        | 169/932 [01:33<05:50,  2.18file/s]"
     ]
    },
    {
     "name": "stdout",
     "output_type": "stream",
     "text": [
      "Vehicle Prediction: suv\n",
      "Validation Result: True\n"
     ]
    },
    {
     "name": "stderr",
     "output_type": "stream",
     "text": [
      "Processing: Class 2 - Car, SUV, Station Wagons:  18%|█▊        | 170/932 [01:33<05:48,  2.19file/s]"
     ]
    },
    {
     "name": "stdout",
     "output_type": "stream",
     "text": [
      "Vehicle Prediction: suv\n",
      "Validation Result: True\n"
     ]
    },
    {
     "name": "stderr",
     "output_type": "stream",
     "text": [
      "Processing: Class 2 - Car, SUV, Station Wagons:  18%|█▊        | 171/932 [01:34<05:46,  2.20file/s][codecarbon INFO @ 14:21:53] Energy consumed for RAM : 0.004705 kWh. RAM Power : 188.80178117752075 W\n",
      "[codecarbon INFO @ 14:21:53] Energy consumed for all CPUs : 0.002492 kWh. Total CPU Power : 100.0 W\n",
      "[codecarbon INFO @ 14:21:53] Energy consumed for all GPUs : 0.006045 kWh. Total GPU Power : 264.8336887712882 W\n",
      "[codecarbon INFO @ 14:21:53] 0.013242 kWh of electricity used since the beginning.\n"
     ]
    },
    {
     "name": "stdout",
     "output_type": "stream",
     "text": [
      "Vehicle Prediction: suv\n",
      "Validation Result: True\n"
     ]
    },
    {
     "name": "stderr",
     "output_type": "stream",
     "text": [
      "Processing: Class 2 - Car, SUV, Station Wagons:  18%|█▊        | 172/932 [01:34<05:44,  2.21file/s]"
     ]
    },
    {
     "name": "stdout",
     "output_type": "stream",
     "text": [
      "Vehicle Prediction: suv\n",
      "Validation Result: True\n"
     ]
    },
    {
     "name": "stderr",
     "output_type": "stream",
     "text": [
      "Processing: Class 2 - Car, SUV, Station Wagons:  19%|█▊        | 173/932 [01:35<05:42,  2.21file/s]"
     ]
    },
    {
     "name": "stdout",
     "output_type": "stream",
     "text": [
      "Vehicle Prediction: suv\n",
      "Validation Result: True\n"
     ]
    },
    {
     "name": "stderr",
     "output_type": "stream",
     "text": [
      "Processing: Class 2 - Car, SUV, Station Wagons:  19%|█▊        | 174/932 [01:35<05:44,  2.20file/s]"
     ]
    },
    {
     "name": "stdout",
     "output_type": "stream",
     "text": [
      "Vehicle Prediction: hatchback\n",
      "Validation Result: True\n"
     ]
    },
    {
     "name": "stderr",
     "output_type": "stream",
     "text": [
      "Processing: Class 2 - Car, SUV, Station Wagons:  19%|█▉        | 175/932 [01:36<05:48,  2.17file/s]"
     ]
    },
    {
     "name": "stdout",
     "output_type": "stream",
     "text": [
      "Vehicle Prediction: suv\n",
      "Validation Result: True\n"
     ]
    },
    {
     "name": "stderr",
     "output_type": "stream",
     "text": [
      "Processing: Class 2 - Car, SUV, Station Wagons:  19%|█▉        | 176/932 [01:36<05:47,  2.18file/s]"
     ]
    },
    {
     "name": "stdout",
     "output_type": "stream",
     "text": [
      "Vehicle Prediction: car\n",
      "Validation Result: True\n"
     ]
    },
    {
     "name": "stderr",
     "output_type": "stream",
     "text": [
      "Processing: Class 2 - Car, SUV, Station Wagons:  19%|█▉        | 177/932 [01:37<05:51,  2.15file/s]"
     ]
    },
    {
     "name": "stdout",
     "output_type": "stream",
     "text": [
      "Vehicle Prediction: suv\n",
      "Validation Result: True\n"
     ]
    },
    {
     "name": "stderr",
     "output_type": "stream",
     "text": [
      "Processing: Class 2 - Car, SUV, Station Wagons:  19%|█▉        | 178/932 [01:37<06:00,  2.09file/s]"
     ]
    },
    {
     "name": "stdout",
     "output_type": "stream",
     "text": [
      "Vehicle Prediction: suv\n",
      "Validation Result: True\n"
     ]
    },
    {
     "name": "stderr",
     "output_type": "stream",
     "text": [
      "Processing: Class 2 - Car, SUV, Station Wagons:  19%|█▉        | 179/932 [01:38<05:58,  2.10file/s]"
     ]
    },
    {
     "name": "stdout",
     "output_type": "stream",
     "text": [
      "Vehicle Prediction: suv\n",
      "Validation Result: True\n"
     ]
    },
    {
     "name": "stderr",
     "output_type": "stream",
     "text": [
      "Processing: Class 2 - Car, SUV, Station Wagons:  19%|█▉        | 180/932 [01:38<06:03,  2.07file/s]"
     ]
    },
    {
     "name": "stdout",
     "output_type": "stream",
     "text": [
      "Vehicle Prediction: hatchback\n",
      "Validation Result: True\n"
     ]
    },
    {
     "name": "stderr",
     "output_type": "stream",
     "text": [
      "Processing: Class 2 - Car, SUV, Station Wagons:  19%|█▉        | 181/932 [01:39<05:56,  2.11file/s]"
     ]
    },
    {
     "name": "stdout",
     "output_type": "stream",
     "text": [
      "Vehicle Prediction: car\n",
      "Validation Result: True\n"
     ]
    },
    {
     "name": "stderr",
     "output_type": "stream",
     "text": [
      "Processing: Class 2 - Car, SUV, Station Wagons:  20%|█▉        | 182/932 [01:39<05:56,  2.10file/s]"
     ]
    },
    {
     "name": "stdout",
     "output_type": "stream",
     "text": [
      "Vehicle Prediction: car\n",
      "Validation Result: True\n"
     ]
    },
    {
     "name": "stderr",
     "output_type": "stream",
     "text": [
      "Processing: Class 2 - Car, SUV, Station Wagons:  20%|█▉        | 183/932 [01:40<05:52,  2.13file/s]"
     ]
    },
    {
     "name": "stdout",
     "output_type": "stream",
     "text": [
      "Vehicle Prediction: car\n",
      "Validation Result: True\n"
     ]
    },
    {
     "name": "stderr",
     "output_type": "stream",
     "text": [
      "Processing: Class 2 - Car, SUV, Station Wagons:  20%|█▉        | 184/932 [01:40<05:46,  2.16file/s]"
     ]
    },
    {
     "name": "stdout",
     "output_type": "stream",
     "text": [
      "Vehicle Prediction: car\n",
      "Validation Result: True\n"
     ]
    },
    {
     "name": "stderr",
     "output_type": "stream",
     "text": [
      "Processing: Class 2 - Car, SUV, Station Wagons:  20%|█▉        | 185/932 [01:40<05:43,  2.18file/s]"
     ]
    },
    {
     "name": "stdout",
     "output_type": "stream",
     "text": [
      "Vehicle Prediction: car\n",
      "Validation Result: True\n"
     ]
    },
    {
     "name": "stderr",
     "output_type": "stream",
     "text": [
      "Processing: Class 2 - Car, SUV, Station Wagons:  20%|█▉        | 186/932 [01:41<05:40,  2.19file/s]"
     ]
    },
    {
     "name": "stdout",
     "output_type": "stream",
     "text": [
      "Vehicle Prediction: sedan\n",
      "Validation Result: True\n"
     ]
    },
    {
     "name": "stderr",
     "output_type": "stream",
     "text": [
      "Processing: Class 2 - Car, SUV, Station Wagons:  20%|██        | 187/932 [01:41<05:46,  2.15file/s]"
     ]
    },
    {
     "name": "stdout",
     "output_type": "stream",
     "text": [
      "Vehicle Prediction: car\n",
      "Validation Result: True\n"
     ]
    },
    {
     "name": "stderr",
     "output_type": "stream",
     "text": [
      "Processing: Class 2 - Car, SUV, Station Wagons:  20%|██        | 188/932 [01:42<05:42,  2.18file/s]"
     ]
    },
    {
     "name": "stdout",
     "output_type": "stream",
     "text": [
      "Vehicle Prediction: car\n",
      "Validation Result: True\n"
     ]
    },
    {
     "name": "stderr",
     "output_type": "stream",
     "text": [
      "Processing: Class 2 - Car, SUV, Station Wagons:  20%|██        | 189/932 [01:42<05:39,  2.19file/s]"
     ]
    },
    {
     "name": "stdout",
     "output_type": "stream",
     "text": [
      "Vehicle Prediction: car\n",
      "Validation Result: True\n"
     ]
    },
    {
     "name": "stderr",
     "output_type": "stream",
     "text": [
      "Processing: Class 2 - Car, SUV, Station Wagons:  20%|██        | 190/932 [01:43<05:37,  2.20file/s]"
     ]
    },
    {
     "name": "stdout",
     "output_type": "stream",
     "text": [
      "Vehicle Prediction: car\n",
      "Validation Result: True\n"
     ]
    },
    {
     "name": "stderr",
     "output_type": "stream",
     "text": [
      "Processing: Class 2 - Car, SUV, Station Wagons:  20%|██        | 191/932 [01:43<05:46,  2.14file/s]"
     ]
    },
    {
     "name": "stdout",
     "output_type": "stream",
     "text": [
      "Vehicle Prediction: car\n",
      "Validation Result: True\n"
     ]
    },
    {
     "name": "stderr",
     "output_type": "stream",
     "text": [
      "Processing: Class 2 - Car, SUV, Station Wagons:  21%|██        | 192/932 [01:44<05:50,  2.11file/s]"
     ]
    },
    {
     "name": "stdout",
     "output_type": "stream",
     "text": [
      "Vehicle Prediction: car\n",
      "Validation Result: True\n"
     ]
    },
    {
     "name": "stderr",
     "output_type": "stream",
     "text": [
      "Processing: Class 2 - Car, SUV, Station Wagons:  21%|██        | 193/932 [01:44<05:44,  2.15file/s]"
     ]
    },
    {
     "name": "stdout",
     "output_type": "stream",
     "text": [
      "Vehicle Prediction: car\n",
      "Validation Result: True\n"
     ]
    },
    {
     "name": "stderr",
     "output_type": "stream",
     "text": [
      "Processing: Class 2 - Car, SUV, Station Wagons:  21%|██        | 194/932 [01:45<05:41,  2.16file/s]"
     ]
    },
    {
     "name": "stdout",
     "output_type": "stream",
     "text": [
      "Vehicle Prediction: car\n",
      "Validation Result: True\n"
     ]
    },
    {
     "name": "stderr",
     "output_type": "stream",
     "text": [
      "Processing: Class 2 - Car, SUV, Station Wagons:  21%|██        | 195/932 [01:45<05:38,  2.18file/s]"
     ]
    },
    {
     "name": "stdout",
     "output_type": "stream",
     "text": [
      "Vehicle Prediction: car\n",
      "Validation Result: True\n"
     ]
    },
    {
     "name": "stderr",
     "output_type": "stream",
     "text": [
      "Processing: Class 2 - Car, SUV, Station Wagons:  21%|██        | 196/932 [01:45<05:39,  2.17file/s]"
     ]
    },
    {
     "name": "stdout",
     "output_type": "stream",
     "text": [
      "Vehicle Prediction: coupe\n",
      "Validation Result: True\n"
     ]
    },
    {
     "name": "stderr",
     "output_type": "stream",
     "text": [
      "Processing: Class 2 - Car, SUV, Station Wagons:  21%|██        | 197/932 [01:46<05:56,  2.06file/s]"
     ]
    },
    {
     "name": "stdout",
     "output_type": "stream",
     "text": [
      "Vehicle Prediction: car\n",
      "Validation Result: True\n"
     ]
    },
    {
     "name": "stderr",
     "output_type": "stream",
     "text": [
      "Processing: Class 2 - Car, SUV, Station Wagons:  21%|██        | 198/932 [01:46<05:50,  2.10file/s]"
     ]
    },
    {
     "name": "stdout",
     "output_type": "stream",
     "text": [
      "Vehicle Prediction: coupe\n",
      "Validation Result: True\n"
     ]
    },
    {
     "name": "stderr",
     "output_type": "stream",
     "text": [
      "Processing: Class 2 - Car, SUV, Station Wagons:  21%|██▏       | 199/932 [01:47<05:48,  2.11file/s]"
     ]
    },
    {
     "name": "stdout",
     "output_type": "stream",
     "text": [
      "Vehicle Prediction: car\n",
      "Validation Result: True\n"
     ]
    },
    {
     "name": "stderr",
     "output_type": "stream",
     "text": [
      "Processing: pickup:  21%|██▏       | 200/932 [01:47<05:47,  2.11file/s]                            "
     ]
    },
    {
     "name": "stdout",
     "output_type": "stream",
     "text": [
      "Vehicle Prediction: car\n",
      "Validation Result: True\n",
      "Vehicle Prediction: truck\n"
     ]
    },
    {
     "name": "stderr",
     "output_type": "stream",
     "text": [
      "Processing: pickup:  22%|██▏       | 201/932 [01:48<07:20,  1.66file/s]"
     ]
    },
    {
     "name": "stdout",
     "output_type": "stream",
     "text": [
      "Is Pickup Truck: yes\n",
      "Validation Result: True\n"
     ]
    },
    {
     "name": "stderr",
     "output_type": "stream",
     "text": [
      "[codecarbon INFO @ 14:22:08] Energy consumed for RAM : 0.005491 kWh. RAM Power : 188.80178117752075 W\n",
      "[codecarbon INFO @ 14:22:08] Energy consumed for all CPUs : 0.002909 kWh. Total CPU Power : 100.0 W\n",
      "[codecarbon INFO @ 14:22:08] Energy consumed for all GPUs : 0.007153 kWh. Total GPU Power : 265.9013153488911 W\n",
      "[codecarbon INFO @ 14:22:08] 0.015552 kWh of electricity used since the beginning.\n"
     ]
    },
    {
     "name": "stdout",
     "output_type": "stream",
     "text": [
      "Vehicle Prediction: truck\n",
      "Is Pickup Truck: no\n"
     ]
    },
    {
     "name": "stderr",
     "output_type": "stream",
     "text": [
      "Processing: pickup:  22%|██▏       | 202/932 [01:50<09:48,  1.24file/s]"
     ]
    },
    {
     "name": "stdout",
     "output_type": "stream",
     "text": [
      "Axle Prediction: 2\n",
      "Validation Result: False\n",
      "Vehicle Prediction: truck\n"
     ]
    },
    {
     "name": "stderr",
     "output_type": "stream",
     "text": [
      "Processing: pickup:  22%|██▏       | 203/932 [01:51<10:05,  1.20file/s]"
     ]
    },
    {
     "name": "stdout",
     "output_type": "stream",
     "text": [
      "Is Pickup Truck: yes\n",
      "Validation Result: True\n",
      "Vehicle Prediction: truck\n",
      "Is Pickup Truck: no\n"
     ]
    },
    {
     "name": "stderr",
     "output_type": "stream",
     "text": [
      "Processing: pickup:  22%|██▏       | 204/932 [01:52<11:45,  1.03file/s]"
     ]
    },
    {
     "name": "stdout",
     "output_type": "stream",
     "text": [
      "Axle Prediction: 2\n",
      "Validation Result: False\n",
      "Vehicle Prediction: truck\n",
      "Is Pickup Truck: no\n"
     ]
    },
    {
     "name": "stderr",
     "output_type": "stream",
     "text": [
      "Processing: pickup:  22%|██▏       | 205/932 [01:53<13:04,  1.08s/file]"
     ]
    },
    {
     "name": "stdout",
     "output_type": "stream",
     "text": [
      "Axle Prediction: 2\n",
      "Validation Result: False\n",
      "Vehicle Prediction: truck\n",
      "Is Pickup Truck: no\n"
     ]
    },
    {
     "name": "stderr",
     "output_type": "stream",
     "text": [
      "Processing: pickup:  22%|██▏       | 206/932 [01:54<13:51,  1.15s/file]"
     ]
    },
    {
     "name": "stdout",
     "output_type": "stream",
     "text": [
      "Axle Prediction: 2\n",
      "Validation Result: False\n",
      "Vehicle Prediction: truck\n",
      "Is Pickup Truck: no\n"
     ]
    },
    {
     "name": "stderr",
     "output_type": "stream",
     "text": [
      "Processing: pickup:  22%|██▏       | 207/932 [01:56<14:20,  1.19s/file]"
     ]
    },
    {
     "name": "stdout",
     "output_type": "stream",
     "text": [
      "Axle Prediction: 2\n",
      "Validation Result: False\n",
      "Vehicle Prediction: truck\n"
     ]
    },
    {
     "name": "stderr",
     "output_type": "stream",
     "text": [
      "Processing: pickup:  22%|██▏       | 208/932 [01:57<13:14,  1.10s/file]"
     ]
    },
    {
     "name": "stdout",
     "output_type": "stream",
     "text": [
      "Is Pickup Truck: yes\n",
      "Validation Result: True\n",
      "Vehicle Prediction: truck\n"
     ]
    },
    {
     "name": "stderr",
     "output_type": "stream",
     "text": [
      "Processing: pickup:  22%|██▏       | 209/932 [01:58<12:29,  1.04s/file]"
     ]
    },
    {
     "name": "stdout",
     "output_type": "stream",
     "text": [
      "Is Pickup Truck: yes\n",
      "Validation Result: True\n",
      "Vehicle Prediction: truck\n"
     ]
    },
    {
     "name": "stderr",
     "output_type": "stream",
     "text": [
      "Processing: pickup:  23%|██▎       | 210/932 [01:58<12:01,  1.00file/s]"
     ]
    },
    {
     "name": "stdout",
     "output_type": "stream",
     "text": [
      "Is Pickup Truck: yes\n",
      "Validation Result: True\n",
      "Vehicle Prediction: truck\n",
      "Is Pickup Truck: no\n"
     ]
    },
    {
     "name": "stderr",
     "output_type": "stream",
     "text": [
      "Processing: pickup:  23%|██▎       | 211/932 [02:00<13:03,  1.09s/file]"
     ]
    },
    {
     "name": "stdout",
     "output_type": "stream",
     "text": [
      "Axle Prediction: 2\n",
      "Validation Result: False\n",
      "Vehicle Prediction: truck\n",
      "Is Pickup Truck: no\n"
     ]
    },
    {
     "name": "stderr",
     "output_type": "stream",
     "text": [
      "Processing: pickup:  23%|██▎       | 212/932 [02:01<13:44,  1.15s/file]"
     ]
    },
    {
     "name": "stdout",
     "output_type": "stream",
     "text": [
      "Axle Prediction: 2\n",
      "Validation Result: False\n",
      "Vehicle Prediction: truck\n"
     ]
    },
    {
     "name": "stderr",
     "output_type": "stream",
     "text": [
      "Processing: pickup:  23%|██▎       | 213/932 [02:02<12:54,  1.08s/file]"
     ]
    },
    {
     "name": "stdout",
     "output_type": "stream",
     "text": [
      "Is Pickup Truck: yes\n",
      "Validation Result: True\n",
      "Vehicle Prediction: truck\n",
      "Is Pickup Truck: no\n"
     ]
    },
    {
     "name": "stderr",
     "output_type": "stream",
     "text": [
      "Processing: pickup:  23%|██▎       | 214/932 [02:03<13:47,  1.15s/file]"
     ]
    },
    {
     "name": "stdout",
     "output_type": "stream",
     "text": [
      "Axle Prediction: 2\n",
      "Validation Result: False\n",
      "Vehicle Prediction: truck\n"
     ]
    },
    {
     "name": "stderr",
     "output_type": "stream",
     "text": [
      "[codecarbon INFO @ 14:22:23] Energy consumed for RAM : 0.006277 kWh. RAM Power : 188.80178117752075 W\n",
      "[codecarbon INFO @ 14:22:23] Energy consumed for all CPUs : 0.003326 kWh. Total CPU Power : 100.0 W\n",
      "[codecarbon INFO @ 14:22:23] Energy consumed for all GPUs : 0.008280 kWh. Total GPU Power : 270.62202352344156 W\n",
      "[codecarbon INFO @ 14:22:23] 0.017883 kWh of electricity used since the beginning.\n",
      "[codecarbon INFO @ 14:22:23] 0.066999 g.CO2eq/s mean an estimation of 2,112.879812207156 kg.CO2eq/year\n"
     ]
    },
    {
     "name": "stdout",
     "output_type": "stream",
     "text": [
      "Is Pickup Truck: no\n"
     ]
    },
    {
     "name": "stderr",
     "output_type": "stream",
     "text": [
      "Processing: pickup:  23%|██▎       | 215/932 [02:05<14:31,  1.22s/file]"
     ]
    },
    {
     "name": "stdout",
     "output_type": "stream",
     "text": [
      "Axle Prediction: 2\n",
      "Validation Result: False\n",
      "Vehicle Prediction: truck\n",
      "Is Pickup Truck: no\n"
     ]
    },
    {
     "name": "stderr",
     "output_type": "stream",
     "text": [
      "Processing: pickup:  23%|██▎       | 216/932 [02:06<14:45,  1.24s/file]"
     ]
    },
    {
     "name": "stdout",
     "output_type": "stream",
     "text": [
      "Axle Prediction: 2\n",
      "Validation Result: False\n",
      "Vehicle Prediction: truck\n",
      "Is Pickup Truck: no\n"
     ]
    },
    {
     "name": "stderr",
     "output_type": "stream",
     "text": [
      "Processing: pickup:  23%|██▎       | 217/932 [02:07<15:06,  1.27s/file]"
     ]
    },
    {
     "name": "stdout",
     "output_type": "stream",
     "text": [
      "Axle Prediction: h\n",
      "Invalid axle prediction: h\n",
      "Validation Result: False\n",
      "Vehicle Prediction: truck\n",
      "Is Pickup Truck: no\n"
     ]
    },
    {
     "name": "stderr",
     "output_type": "stream",
     "text": [
      "Processing: pickup:  23%|██▎       | 218/932 [02:09<15:20,  1.29s/file]"
     ]
    },
    {
     "name": "stdout",
     "output_type": "stream",
     "text": [
      "Axle Prediction: 2\n",
      "Validation Result: False\n",
      "Vehicle Prediction: truck\n",
      "Is Pickup Truck: no\n"
     ]
    },
    {
     "name": "stderr",
     "output_type": "stream",
     "text": [
      "Processing: pickup:  23%|██▎       | 219/932 [02:10<15:15,  1.28s/file]"
     ]
    },
    {
     "name": "stdout",
     "output_type": "stream",
     "text": [
      "Axle Prediction: 2\n",
      "Validation Result: False\n",
      "Vehicle Prediction: truck\n",
      "Is Pickup Truck: no\n"
     ]
    },
    {
     "name": "stderr",
     "output_type": "stream",
     "text": [
      "Processing: pickup:  24%|██▎       | 220/932 [02:11<15:15,  1.29s/file]"
     ]
    },
    {
     "name": "stdout",
     "output_type": "stream",
     "text": [
      "Axle Prediction: 2\n",
      "Validation Result: False\n",
      "Vehicle Prediction: truck\n",
      "Is Pickup Truck: no<|eot_id|>\n"
     ]
    },
    {
     "name": "stderr",
     "output_type": "stream",
     "text": [
      "Processing: pickup:  24%|██▎       | 221/932 [02:12<15:15,  1.29s/file]"
     ]
    },
    {
     "name": "stdout",
     "output_type": "stream",
     "text": [
      "Axle Prediction: 2\n",
      "Validation Result: False\n",
      "Vehicle Prediction: truck\n",
      "Is Pickup Truck: no\n"
     ]
    },
    {
     "name": "stderr",
     "output_type": "stream",
     "text": [
      "Processing: pickup:  24%|██▍       | 222/932 [02:14<15:11,  1.28s/file]"
     ]
    },
    {
     "name": "stdout",
     "output_type": "stream",
     "text": [
      "Axle Prediction: 2\n",
      "Validation Result: False\n",
      "Vehicle Prediction: truck\n",
      "Is Pickup Truck: no\n"
     ]
    },
    {
     "name": "stderr",
     "output_type": "stream",
     "text": [
      "Processing: pickup:  24%|██▍       | 223/932 [02:15<15:22,  1.30s/file]"
     ]
    },
    {
     "name": "stdout",
     "output_type": "stream",
     "text": [
      "Axle Prediction: 2\n",
      "Validation Result: False\n",
      "Vehicle Prediction: truck\n",
      "Is Pickup Truck: no\n"
     ]
    },
    {
     "name": "stderr",
     "output_type": "stream",
     "text": [
      "Processing: pickup:  24%|██▍       | 224/932 [02:16<15:16,  1.29s/file]"
     ]
    },
    {
     "name": "stdout",
     "output_type": "stream",
     "text": [
      "Axle Prediction: 2\n",
      "Validation Result: False\n",
      "Vehicle Prediction: truck\n"
     ]
    },
    {
     "name": "stderr",
     "output_type": "stream",
     "text": [
      "Processing: pickup:  24%|██▍       | 225/932 [02:17<13:48,  1.17s/file]"
     ]
    },
    {
     "name": "stdout",
     "output_type": "stream",
     "text": [
      "Is Pickup Truck: yes\n",
      "Validation Result: True\n",
      "Vehicle Prediction: truck\n",
      "Is Pickup Truck: no\n"
     ]
    },
    {
     "name": "stderr",
     "output_type": "stream",
     "text": [
      "Processing: pickup:  24%|██▍       | 226/932 [02:19<15:12,  1.29s/file]"
     ]
    },
    {
     "name": "stdout",
     "output_type": "stream",
     "text": [
      "Axle Prediction: 2\n",
      "Validation Result: False\n"
     ]
    },
    {
     "name": "stderr",
     "output_type": "stream",
     "text": [
      "[codecarbon INFO @ 14:22:38] Energy consumed for RAM : 0.007063 kWh. RAM Power : 188.80178117752075 W\n",
      "[codecarbon INFO @ 14:22:38] Energy consumed for all CPUs : 0.003742 kWh. Total CPU Power : 100.0 W\n",
      "[codecarbon INFO @ 14:22:38] Energy consumed for all GPUs : 0.009385 kWh. Total GPU Power : 265.2329824361667 W\n",
      "[codecarbon INFO @ 14:22:38] 0.020190 kWh of electricity used since the beginning.\n"
     ]
    },
    {
     "name": "stdout",
     "output_type": "stream",
     "text": [
      "Vehicle Prediction: truck\n",
      "Is Pickup Truck: no\n"
     ]
    },
    {
     "name": "stderr",
     "output_type": "stream",
     "text": [
      "Processing: pickup:  24%|██▍       | 227/932 [02:20<15:14,  1.30s/file]"
     ]
    },
    {
     "name": "stdout",
     "output_type": "stream",
     "text": [
      "Axle Prediction: 2\n",
      "Validation Result: False\n",
      "Vehicle Prediction: truck\n",
      "Is Pickup Truck: no\n"
     ]
    },
    {
     "name": "stderr",
     "output_type": "stream",
     "text": [
      "Processing: pickup:  24%|██▍       | 228/932 [02:21<15:12,  1.30s/file]"
     ]
    },
    {
     "name": "stdout",
     "output_type": "stream",
     "text": [
      "Axle Prediction: 2\n",
      "Validation Result: False\n",
      "Vehicle Prediction: truck\n"
     ]
    },
    {
     "name": "stderr",
     "output_type": "stream",
     "text": [
      "Processing: pickup:  25%|██▍       | 229/932 [02:22<13:45,  1.17s/file]"
     ]
    },
    {
     "name": "stdout",
     "output_type": "stream",
     "text": [
      "Is Pickup Truck: yes\n",
      "Validation Result: True\n",
      "Vehicle Prediction: truck\n",
      "Is Pickup Truck: no\n"
     ]
    },
    {
     "name": "stderr",
     "output_type": "stream",
     "text": [
      "Processing: pickup:  25%|██▍       | 230/932 [02:24<14:14,  1.22s/file]"
     ]
    },
    {
     "name": "stdout",
     "output_type": "stream",
     "text": [
      "Axle Prediction: 2\n",
      "Validation Result: False\n",
      "Vehicle Prediction: truck\n",
      "Is Pickup Truck: no\n"
     ]
    },
    {
     "name": "stderr",
     "output_type": "stream",
     "text": [
      "Processing: pickup:  25%|██▍       | 231/932 [02:25<14:30,  1.24s/file]"
     ]
    },
    {
     "name": "stdout",
     "output_type": "stream",
     "text": [
      "Axle Prediction: 2\n",
      "Validation Result: False\n",
      "Vehicle Prediction: truck\n",
      "Is Pickup Truck: no\n"
     ]
    },
    {
     "name": "stderr",
     "output_type": "stream",
     "text": [
      "Processing: pickup:  25%|██▍       | 232/932 [02:26<14:36,  1.25s/file]"
     ]
    },
    {
     "name": "stdout",
     "output_type": "stream",
     "text": [
      "Axle Prediction: 2\n",
      "Validation Result: False\n",
      "Vehicle Prediction: truck\n"
     ]
    },
    {
     "name": "stderr",
     "output_type": "stream",
     "text": [
      "Processing: pickup:  25%|██▌       | 233/932 [02:27<13:22,  1.15s/file]"
     ]
    },
    {
     "name": "stdout",
     "output_type": "stream",
     "text": [
      "Is Pickup Truck: yes\n",
      "Validation Result: True\n",
      "Vehicle Prediction: truck\n"
     ]
    },
    {
     "name": "stderr",
     "output_type": "stream",
     "text": [
      "Processing: pickup:  25%|██▌       | 234/932 [02:28<12:27,  1.07s/file]"
     ]
    },
    {
     "name": "stdout",
     "output_type": "stream",
     "text": [
      "Is Pickup Truck: yes\n",
      "Validation Result: True\n",
      "Vehicle Prediction: truck\n",
      "Is Pickup Truck: no\n"
     ]
    },
    {
     "name": "stderr",
     "output_type": "stream",
     "text": [
      "Processing: pickup:  25%|██▌       | 235/932 [02:29<13:25,  1.16s/file]"
     ]
    },
    {
     "name": "stdout",
     "output_type": "stream",
     "text": [
      "Axle Prediction: 3\n",
      "Validation Result: False\n",
      "Vehicle Prediction: truck\n",
      "Is Pickup Truck: no\n"
     ]
    },
    {
     "name": "stderr",
     "output_type": "stream",
     "text": [
      "Processing: pickup:  25%|██▌       | 236/932 [02:31<13:57,  1.20s/file]"
     ]
    },
    {
     "name": "stdout",
     "output_type": "stream",
     "text": [
      "Axle Prediction: 2\n",
      "Validation Result: False\n",
      "Vehicle Prediction: truck\n"
     ]
    },
    {
     "name": "stderr",
     "output_type": "stream",
     "text": [
      "Processing: pickup:  25%|██▌       | 237/932 [02:32<12:56,  1.12s/file]"
     ]
    },
    {
     "name": "stdout",
     "output_type": "stream",
     "text": [
      "Is Pickup Truck: yes\n",
      "Validation Result: True\n",
      "Vehicle Prediction: truck\n"
     ]
    },
    {
     "name": "stderr",
     "output_type": "stream",
     "text": [
      "Processing: pickup:  26%|██▌       | 238/932 [02:32<12:09,  1.05s/file]"
     ]
    },
    {
     "name": "stdout",
     "output_type": "stream",
     "text": [
      "Is Pickup Truck: yes\n",
      "Validation Result: True\n",
      "Vehicle Prediction: truck\n",
      "Is Pickup Truck: no\n"
     ]
    },
    {
     "name": "stderr",
     "output_type": "stream",
     "text": [
      "Processing: pickup:  26%|██▌       | 239/932 [02:34<13:02,  1.13s/file]"
     ]
    },
    {
     "name": "stdout",
     "output_type": "stream",
     "text": [
      "Axle Prediction: 2\n",
      "Validation Result: False\n"
     ]
    },
    {
     "name": "stderr",
     "output_type": "stream",
     "text": [
      "[codecarbon INFO @ 14:22:53] Energy consumed for RAM : 0.007850 kWh. RAM Power : 188.80178117752075 W\n",
      "[codecarbon INFO @ 14:22:53] Energy consumed for all CPUs : 0.004159 kWh. Total CPU Power : 100.0 W\n",
      "[codecarbon INFO @ 14:22:53] Energy consumed for all GPUs : 0.010516 kWh. Total GPU Power : 271.5714735803781 W\n",
      "[codecarbon INFO @ 14:22:53] 0.022524 kWh of electricity used since the beginning.\n"
     ]
    },
    {
     "name": "stdout",
     "output_type": "stream",
     "text": [
      "Vehicle Prediction: truck\n",
      "Is Pickup Truck: no\n"
     ]
    },
    {
     "name": "stderr",
     "output_type": "stream",
     "text": [
      "Processing: pickup:  26%|██▌       | 240/932 [02:35<13:34,  1.18s/file]"
     ]
    },
    {
     "name": "stdout",
     "output_type": "stream",
     "text": [
      "Axle Prediction: 2\n",
      "Validation Result: False\n",
      "Vehicle Prediction: truck\n",
      "Is Pickup Truck: no\n"
     ]
    },
    {
     "name": "stderr",
     "output_type": "stream",
     "text": [
      "Processing: pickup:  26%|██▌       | 241/932 [02:36<14:06,  1.22s/file]"
     ]
    },
    {
     "name": "stdout",
     "output_type": "stream",
     "text": [
      "Axle Prediction: 2\n",
      "Validation Result: False\n",
      "Vehicle Prediction: truck\n",
      "Is Pickup Truck: no\n"
     ]
    },
    {
     "name": "stderr",
     "output_type": "stream",
     "text": [
      "Processing: pickup:  26%|██▌       | 242/932 [02:38<14:21,  1.25s/file]"
     ]
    },
    {
     "name": "stdout",
     "output_type": "stream",
     "text": [
      "Axle Prediction: 2\n",
      "Validation Result: False\n",
      "Vehicle Prediction: truck\n",
      "Is Pickup Truck: no\n"
     ]
    },
    {
     "name": "stderr",
     "output_type": "stream",
     "text": [
      "Processing: pickup:  26%|██▌       | 243/932 [02:39<14:29,  1.26s/file]"
     ]
    },
    {
     "name": "stdout",
     "output_type": "stream",
     "text": [
      "Axle Prediction: 2\n",
      "Validation Result: False\n",
      "Vehicle Prediction: truck\n"
     ]
    },
    {
     "name": "stderr",
     "output_type": "stream",
     "text": [
      "Processing: pickup:  26%|██▌       | 244/932 [02:40<13:16,  1.16s/file]"
     ]
    },
    {
     "name": "stdout",
     "output_type": "stream",
     "text": [
      "Is Pickup Truck: yes\n",
      "Validation Result: True\n",
      "Vehicle Prediction: truck\n",
      "Is Pickup Truck: no\n"
     ]
    },
    {
     "name": "stderr",
     "output_type": "stream",
     "text": [
      "Processing: pickup:  26%|██▋       | 245/932 [02:41<14:02,  1.23s/file]"
     ]
    },
    {
     "name": "stdout",
     "output_type": "stream",
     "text": [
      "Axle Prediction: 2\n",
      "Validation Result: False\n",
      "Vehicle Prediction: truck\n"
     ]
    },
    {
     "name": "stderr",
     "output_type": "stream",
     "text": [
      "Processing: pickup:  26%|██▋       | 246/932 [02:42<12:53,  1.13s/file]"
     ]
    },
    {
     "name": "stdout",
     "output_type": "stream",
     "text": [
      "Is Pickup Truck: yes\n",
      "Validation Result: True\n",
      "Vehicle Prediction: truck\n",
      "Is Pickup Truck: no\n"
     ]
    },
    {
     "name": "stderr",
     "output_type": "stream",
     "text": [
      "Processing: pickup:  27%|██▋       | 247/932 [02:43<13:26,  1.18s/file]"
     ]
    },
    {
     "name": "stdout",
     "output_type": "stream",
     "text": [
      "Axle Prediction: 2\n",
      "Validation Result: False\n",
      "Vehicle Prediction: truck\n",
      "Is Pickup Truck: no\n"
     ]
    },
    {
     "name": "stderr",
     "output_type": "stream",
     "text": [
      "Processing: pickup:  27%|██▋       | 248/932 [02:45<13:57,  1.22s/file]"
     ]
    },
    {
     "name": "stdout",
     "output_type": "stream",
     "text": [
      "Axle Prediction: 2\n",
      "Validation Result: False\n",
      "Vehicle Prediction: truck\n"
     ]
    },
    {
     "name": "stderr",
     "output_type": "stream",
     "text": [
      "Processing: pickup:  27%|██▋       | 249/932 [02:46<12:50,  1.13s/file]"
     ]
    },
    {
     "name": "stdout",
     "output_type": "stream",
     "text": [
      "Is Pickup Truck: yes\n",
      "Validation Result: True\n",
      "Vehicle Prediction: truck\n"
     ]
    },
    {
     "name": "stderr",
     "output_type": "stream",
     "text": [
      "Processing: pickup:  27%|██▋       | 250/932 [02:47<11:59,  1.06s/file]"
     ]
    },
    {
     "name": "stdout",
     "output_type": "stream",
     "text": [
      "Is Pickup Truck: yes\n",
      "Validation Result: True\n",
      "Vehicle Prediction: truck\n"
     ]
    },
    {
     "name": "stderr",
     "output_type": "stream",
     "text": [
      "Processing: pickup:  27%|██▋       | 251/932 [02:47<11:26,  1.01s/file]"
     ]
    },
    {
     "name": "stdout",
     "output_type": "stream",
     "text": [
      "Is Pickup Truck: yes\n",
      "Validation Result: True\n",
      "Vehicle Prediction: truck\n",
      "Is Pickup Truck: no\n"
     ]
    },
    {
     "name": "stderr",
     "output_type": "stream",
     "text": [
      "Processing: pickup:  27%|██▋       | 252/932 [02:49<12:31,  1.11s/file][codecarbon INFO @ 14:23:08] Energy consumed for RAM : 0.008636 kWh. RAM Power : 188.80178117752075 W\n",
      "[codecarbon INFO @ 14:23:08] Energy consumed for all CPUs : 0.004575 kWh. Total CPU Power : 100.0 W\n"
     ]
    },
    {
     "name": "stdout",
     "output_type": "stream",
     "text": [
      "Axle Prediction: 2\n",
      "Validation Result: False\n"
     ]
    },
    {
     "name": "stderr",
     "output_type": "stream",
     "text": [
      "[codecarbon INFO @ 14:23:08] Energy consumed for all GPUs : 0.011652 kWh. Total GPU Power : 272.6563042194893 W\n",
      "[codecarbon INFO @ 14:23:08] 0.024862 kWh of electricity used since the beginning.\n"
     ]
    },
    {
     "name": "stdout",
     "output_type": "stream",
     "text": [
      "Vehicle Prediction: truck\n",
      "Is Pickup Truck: no\n"
     ]
    },
    {
     "name": "stderr",
     "output_type": "stream",
     "text": [
      "Processing: pickup:  27%|██▋       | 253/932 [02:50<13:09,  1.16s/file]"
     ]
    },
    {
     "name": "stdout",
     "output_type": "stream",
     "text": [
      "Axle Prediction: 2\n",
      "Validation Result: False\n",
      "Vehicle Prediction: truck\n",
      "Is Pickup Truck: no\n"
     ]
    },
    {
     "name": "stderr",
     "output_type": "stream",
     "text": [
      "Processing: pickup:  27%|██▋       | 254/932 [02:51<13:44,  1.22s/file]"
     ]
    },
    {
     "name": "stdout",
     "output_type": "stream",
     "text": [
      "Axle Prediction: 2\n",
      "Validation Result: False\n",
      "Vehicle Prediction: truck\n",
      "Is Pickup Truck: no\n"
     ]
    },
    {
     "name": "stderr",
     "output_type": "stream",
     "text": [
      "Processing: pickup:  27%|██▋       | 255/932 [02:53<13:55,  1.23s/file]"
     ]
    },
    {
     "name": "stdout",
     "output_type": "stream",
     "text": [
      "Axle Prediction: 2\n",
      "Validation Result: False\n",
      "Vehicle Prediction: truck\n"
     ]
    },
    {
     "name": "stderr",
     "output_type": "stream",
     "text": [
      "Processing: pickup:  27%|██▋       | 256/932 [02:54<12:46,  1.13s/file]"
     ]
    },
    {
     "name": "stdout",
     "output_type": "stream",
     "text": [
      "Is Pickup Truck: yes\n",
      "Validation Result: True\n",
      "Vehicle Prediction: truck\n"
     ]
    },
    {
     "name": "stderr",
     "output_type": "stream",
     "text": [
      "Processing: pickup:  28%|██▊       | 257/932 [02:55<11:55,  1.06s/file]"
     ]
    },
    {
     "name": "stdout",
     "output_type": "stream",
     "text": [
      "Is Pickup Truck: yes\n",
      "Validation Result: True\n",
      "Vehicle Prediction: truck\n",
      "Is Pickup Truck: no\n"
     ]
    },
    {
     "name": "stderr",
     "output_type": "stream",
     "text": [
      "Processing: pickup:  28%|██▊       | 258/932 [02:56<12:41,  1.13s/file]"
     ]
    },
    {
     "name": "stdout",
     "output_type": "stream",
     "text": [
      "Axle Prediction: 2\n",
      "Validation Result: False\n",
      "Vehicle Prediction: truck\n",
      "Is Pickup Truck: no\n"
     ]
    },
    {
     "name": "stderr",
     "output_type": "stream",
     "text": [
      "Processing: pickup:  28%|██▊       | 259/932 [02:57<13:20,  1.19s/file]"
     ]
    },
    {
     "name": "stdout",
     "output_type": "stream",
     "text": [
      "Axle Prediction: 2\n",
      "Validation Result: False\n",
      "Vehicle Prediction: truck\n",
      "Is Pickup Truck: no\n"
     ]
    },
    {
     "name": "stderr",
     "output_type": "stream",
     "text": [
      "Processing: pickup:  28%|██▊       | 260/932 [02:58<13:39,  1.22s/file]"
     ]
    },
    {
     "name": "stdout",
     "output_type": "stream",
     "text": [
      "Axle Prediction: 2\n",
      "Validation Result: False\n",
      "Vehicle Prediction: truck\n"
     ]
    },
    {
     "name": "stderr",
     "output_type": "stream",
     "text": [
      "Processing: pickup:  28%|██▊       | 261/932 [02:59<12:32,  1.12s/file]"
     ]
    },
    {
     "name": "stdout",
     "output_type": "stream",
     "text": [
      "Is Pickup Truck: yes\n",
      "Validation Result: True\n",
      "Vehicle Prediction: truck\n",
      "Is Pickup Truck: no\n"
     ]
    },
    {
     "name": "stderr",
     "output_type": "stream",
     "text": [
      "Processing: pickup:  28%|██▊       | 262/932 [03:01<13:03,  1.17s/file]"
     ]
    },
    {
     "name": "stdout",
     "output_type": "stream",
     "text": [
      "Axle Prediction: 2\n",
      "Validation Result: False\n",
      "Vehicle Prediction: truck\n"
     ]
    },
    {
     "name": "stderr",
     "output_type": "stream",
     "text": [
      "Processing: pickup:  28%|██▊       | 263/932 [03:01<12:05,  1.08s/file]"
     ]
    },
    {
     "name": "stdout",
     "output_type": "stream",
     "text": [
      "Is Pickup Truck: yes\n",
      "Validation Result: True\n",
      "Vehicle Prediction: truck\n",
      "Is Pickup Truck: no\n"
     ]
    },
    {
     "name": "stderr",
     "output_type": "stream",
     "text": [
      "Processing: pickup:  28%|██▊       | 264/932 [03:03<12:46,  1.15s/file]"
     ]
    },
    {
     "name": "stdout",
     "output_type": "stream",
     "text": [
      "Axle Prediction: 2\n",
      "Validation Result: False\n",
      "Vehicle Prediction: truck\n"
     ]
    },
    {
     "name": "stderr",
     "output_type": "stream",
     "text": [
      "Processing: pickup:  28%|██▊       | 265/932 [03:04<11:55,  1.07s/file]"
     ]
    },
    {
     "name": "stdout",
     "output_type": "stream",
     "text": [
      "Is Pickup Truck: yes\n",
      "Validation Result: True\n"
     ]
    },
    {
     "name": "stderr",
     "output_type": "stream",
     "text": [
      "[codecarbon INFO @ 14:23:23] Energy consumed for RAM : 0.009419 kWh. RAM Power : 188.80178117752075 W\n",
      "[codecarbon INFO @ 14:23:23] Energy consumed for all CPUs : 0.004990 kWh. Total CPU Power : 100.0 W\n",
      "[codecarbon INFO @ 14:23:23] Energy consumed for all GPUs : 0.012783 kWh. Total GPU Power : 272.7551916277058 W\n",
      "[codecarbon INFO @ 14:23:23] 0.027192 kWh of electricity used since the beginning.\n"
     ]
    },
    {
     "name": "stdout",
     "output_type": "stream",
     "text": [
      "Vehicle Prediction: truck\n",
      "Is Pickup Truck: no\n"
     ]
    },
    {
     "name": "stderr",
     "output_type": "stream",
     "text": [
      "Processing: pickup:  29%|██▊       | 266/932 [03:05<12:46,  1.15s/file]"
     ]
    },
    {
     "name": "stdout",
     "output_type": "stream",
     "text": [
      "Axle Prediction: 2\n",
      "Validation Result: False\n",
      "Vehicle Prediction: truck\n",
      "Is Pickup Truck: no\n"
     ]
    },
    {
     "name": "stderr",
     "output_type": "stream",
     "text": [
      "Processing: pickup:  29%|██▊       | 267/932 [03:06<13:21,  1.20s/file]"
     ]
    },
    {
     "name": "stdout",
     "output_type": "stream",
     "text": [
      "Axle Prediction: 2\n",
      "Validation Result: False\n",
      "Vehicle Prediction: truck\n"
     ]
    },
    {
     "name": "stderr",
     "output_type": "stream",
     "text": [
      "Processing: pickup:  29%|██▉       | 268/932 [03:07<12:20,  1.12s/file]"
     ]
    },
    {
     "name": "stdout",
     "output_type": "stream",
     "text": [
      "Is Pickup Truck: yes\n",
      "Validation Result: True\n",
      "Vehicle Prediction: truck\n",
      "Is Pickup Truck: no\n"
     ]
    },
    {
     "name": "stderr",
     "output_type": "stream",
     "text": [
      "Processing: pickup:  29%|██▉       | 269/932 [03:09<12:51,  1.16s/file]"
     ]
    },
    {
     "name": "stdout",
     "output_type": "stream",
     "text": [
      "Axle Prediction: 2\n",
      "Validation Result: False\n",
      "Vehicle Prediction: truck\n",
      "Is Pickup Truck: no\n"
     ]
    },
    {
     "name": "stderr",
     "output_type": "stream",
     "text": [
      "Processing: pickup:  29%|██▉       | 270/932 [03:10<13:12,  1.20s/file]"
     ]
    },
    {
     "name": "stdout",
     "output_type": "stream",
     "text": [
      "Axle Prediction: 2\n",
      "Validation Result: False\n",
      "Vehicle Prediction: truck\n"
     ]
    },
    {
     "name": "stderr",
     "output_type": "stream",
     "text": [
      "Processing: pickup:  29%|██▉       | 271/932 [03:11<12:12,  1.11s/file]"
     ]
    },
    {
     "name": "stdout",
     "output_type": "stream",
     "text": [
      "Is Pickup Truck: yes\n",
      "Validation Result: True\n",
      "Vehicle Prediction: truck\n",
      "Is Pickup Truck: no\n"
     ]
    },
    {
     "name": "stderr",
     "output_type": "stream",
     "text": [
      "Processing: pickup:  29%|██▉       | 272/932 [03:12<12:44,  1.16s/file]"
     ]
    },
    {
     "name": "stdout",
     "output_type": "stream",
     "text": [
      "Axle Prediction: 5\n",
      "Validation Result: False\n",
      "Vehicle Prediction: truck\n",
      "Is Pickup Truck: no\n"
     ]
    },
    {
     "name": "stderr",
     "output_type": "stream",
     "text": [
      "Processing: pickup:  29%|██▉       | 273/932 [03:13<13:15,  1.21s/file]"
     ]
    },
    {
     "name": "stdout",
     "output_type": "stream",
     "text": [
      "Axle Prediction: 2\n",
      "Validation Result: False\n",
      "Vehicle Prediction: truck\n"
     ]
    },
    {
     "name": "stderr",
     "output_type": "stream",
     "text": [
      "Processing: pickup:  29%|██▉       | 274/932 [03:14<12:12,  1.11s/file]"
     ]
    },
    {
     "name": "stdout",
     "output_type": "stream",
     "text": [
      "Is Pickup Truck: yes\n",
      "Validation Result: True\n",
      "Vehicle Prediction: truck\n"
     ]
    },
    {
     "name": "stderr",
     "output_type": "stream",
     "text": [
      "Processing: pickup:  30%|██▉       | 275/932 [03:15<11:27,  1.05s/file]"
     ]
    },
    {
     "name": "stdout",
     "output_type": "stream",
     "text": [
      "Is Pickup Truck: yes\n",
      "Validation Result: True\n",
      "Vehicle Prediction: truck\n"
     ]
    },
    {
     "name": "stderr",
     "output_type": "stream",
     "text": [
      "Processing: pickup:  30%|██▉       | 276/932 [03:16<10:56,  1.00s/file]"
     ]
    },
    {
     "name": "stdout",
     "output_type": "stream",
     "text": [
      "Is Pickup Truck: yes\n",
      "Validation Result: True\n",
      "Vehicle Prediction: truck\n",
      "Is Pickup Truck: no\n"
     ]
    },
    {
     "name": "stderr",
     "output_type": "stream",
     "text": [
      "Processing: pickup:  30%|██▉       | 277/932 [03:17<11:51,  1.09s/file]"
     ]
    },
    {
     "name": "stdout",
     "output_type": "stream",
     "text": [
      "Axle Prediction: 2\n",
      "Validation Result: False\n",
      "Vehicle Prediction: truck\n",
      "Is Pickup Truck: no\n"
     ]
    },
    {
     "name": "stderr",
     "output_type": "stream",
     "text": [
      "Processing: pickup:  30%|██▉       | 278/932 [03:19<12:27,  1.14s/file]"
     ]
    },
    {
     "name": "stdout",
     "output_type": "stream",
     "text": [
      "Axle Prediction: 2\n",
      "Validation Result: False\n"
     ]
    },
    {
     "name": "stderr",
     "output_type": "stream",
     "text": [
      "[codecarbon INFO @ 14:23:38] Energy consumed for RAM : 0.010205 kWh. RAM Power : 188.80178117752075 W\n",
      "[codecarbon INFO @ 14:23:38] Energy consumed for all CPUs : 0.005406 kWh. Total CPU Power : 100.0 W\n",
      "[codecarbon INFO @ 14:23:38] Energy consumed for all GPUs : 0.013930 kWh. Total GPU Power : 275.2486383268047 W\n",
      "[codecarbon INFO @ 14:23:38] 0.029541 kWh of electricity used since the beginning.\n"
     ]
    },
    {
     "name": "stdout",
     "output_type": "stream",
     "text": [
      "Vehicle Prediction: truck\n",
      "Is Pickup Truck: no\n"
     ]
    },
    {
     "name": "stderr",
     "output_type": "stream",
     "text": [
      "Processing: pickup:  30%|██▉       | 279/932 [03:20<12:52,  1.18s/file]"
     ]
    },
    {
     "name": "stdout",
     "output_type": "stream",
     "text": [
      "Axle Prediction: 2\n",
      "Validation Result: False\n",
      "Vehicle Prediction: truck\n",
      "Is Pickup Truck: no\n"
     ]
    },
    {
     "name": "stderr",
     "output_type": "stream",
     "text": [
      "Processing: pickup:  30%|███       | 280/932 [03:21<13:10,  1.21s/file]"
     ]
    },
    {
     "name": "stdout",
     "output_type": "stream",
     "text": [
      "Axle Prediction: 2\n",
      "Validation Result: False\n",
      "Vehicle Prediction: truck\n",
      "Is Pickup Truck: no\n"
     ]
    },
    {
     "name": "stderr",
     "output_type": "stream",
     "text": [
      "Processing: pickup:  30%|███       | 281/932 [03:22<13:22,  1.23s/file]"
     ]
    },
    {
     "name": "stdout",
     "output_type": "stream",
     "text": [
      "Axle Prediction: 2\n",
      "Validation Result: False\n",
      "Vehicle Prediction: truck\n",
      "Is Pickup Truck: no\n"
     ]
    },
    {
     "name": "stderr",
     "output_type": "stream",
     "text": [
      "Processing: pickup:  30%|███       | 282/932 [03:24<13:30,  1.25s/file]"
     ]
    },
    {
     "name": "stdout",
     "output_type": "stream",
     "text": [
      "Axle Prediction: 2\n",
      "Validation Result: False\n",
      "Vehicle Prediction: truck\n"
     ]
    },
    {
     "name": "stderr",
     "output_type": "stream",
     "text": [
      "Processing: pickup:  30%|███       | 283/932 [03:25<12:24,  1.15s/file]"
     ]
    },
    {
     "name": "stdout",
     "output_type": "stream",
     "text": [
      "Is Pickup Truck: yes\n",
      "Validation Result: True\n",
      "Vehicle Prediction: truck\n",
      "Is Pickup Truck: no\n"
     ]
    },
    {
     "name": "stderr",
     "output_type": "stream",
     "text": [
      "Processing: pickup:  30%|███       | 284/932 [03:26<13:20,  1.24s/file]"
     ]
    },
    {
     "name": "stdout",
     "output_type": "stream",
     "text": [
      "Axle Prediction: 2\n",
      "Validation Result: False\n",
      "Vehicle Prediction: truck\n",
      "Is Pickup Truck: no\n"
     ]
    },
    {
     "name": "stderr",
     "output_type": "stream",
     "text": [
      "Processing: pickup:  31%|███       | 285/932 [03:27<13:29,  1.25s/file]"
     ]
    },
    {
     "name": "stdout",
     "output_type": "stream",
     "text": [
      "Axle Prediction: 2\n",
      "Validation Result: False\n",
      "Vehicle Prediction: truck\n",
      "Is Pickup Truck: no\n"
     ]
    },
    {
     "name": "stderr",
     "output_type": "stream",
     "text": [
      "Processing: pickup:  31%|███       | 286/932 [03:29<13:47,  1.28s/file]"
     ]
    },
    {
     "name": "stdout",
     "output_type": "stream",
     "text": [
      "Axle Prediction: 2\n",
      "Validation Result: False\n",
      "Vehicle Prediction: truck\n",
      "Is Pickup Truck: no\n"
     ]
    },
    {
     "name": "stderr",
     "output_type": "stream",
     "text": [
      "Processing: pickup:  31%|███       | 287/932 [03:30<13:46,  1.28s/file]"
     ]
    },
    {
     "name": "stdout",
     "output_type": "stream",
     "text": [
      "Axle Prediction: 2\n",
      "Validation Result: False\n",
      "Vehicle Prediction: truck\n"
     ]
    },
    {
     "name": "stderr",
     "output_type": "stream",
     "text": [
      "Processing: pickup:  31%|███       | 288/932 [03:31<12:34,  1.17s/file]"
     ]
    },
    {
     "name": "stdout",
     "output_type": "stream",
     "text": [
      "Is Pickup Truck: yes\n",
      "Validation Result: True\n",
      "Vehicle Prediction: truck\n"
     ]
    },
    {
     "name": "stderr",
     "output_type": "stream",
     "text": [
      "Processing: pickup:  31%|███       | 289/932 [03:32<11:41,  1.09s/file]"
     ]
    },
    {
     "name": "stdout",
     "output_type": "stream",
     "text": [
      "Is Pickup Truck: yes\n",
      "Validation Result: True\n",
      "Vehicle Prediction: truck\n"
     ]
    },
    {
     "name": "stderr",
     "output_type": "stream",
     "text": [
      "Processing: pickup:  31%|███       | 290/932 [03:33<11:02,  1.03s/file]"
     ]
    },
    {
     "name": "stdout",
     "output_type": "stream",
     "text": [
      "Is Pickup Truck: yes\n",
      "Validation Result: True\n",
      "Vehicle Prediction: truck\n",
      "Is Pickup Truck: no\n"
     ]
    },
    {
     "name": "stderr",
     "output_type": "stream",
     "text": [
      "Processing: pickup:  31%|███       | 291/932 [03:34<11:51,  1.11s/file][codecarbon INFO @ 14:23:53] Energy consumed for RAM : 0.010991 kWh. RAM Power : 188.80178117752075 W\n",
      "[codecarbon INFO @ 14:23:53] Energy consumed for all CPUs : 0.005823 kWh. Total CPU Power : 100.0 W\n",
      "[codecarbon INFO @ 14:23:53] Energy consumed for all GPUs : 0.015064 kWh. Total GPU Power : 272.34760252725295 W\n",
      "[codecarbon INFO @ 14:23:53] 0.031879 kWh of electricity used since the beginning.\n"
     ]
    },
    {
     "name": "stdout",
     "output_type": "stream",
     "text": [
      "Axle Prediction: 2\n",
      "Validation Result: False\n",
      "Vehicle Prediction: truck\n",
      "Is Pickup Truck: no\n"
     ]
    },
    {
     "name": "stderr",
     "output_type": "stream",
     "text": [
      "Processing: pickup:  31%|███▏      | 292/932 [03:35<12:34,  1.18s/file]"
     ]
    },
    {
     "name": "stdout",
     "output_type": "stream",
     "text": [
      "Axle Prediction: 2\n",
      "Validation Result: False\n",
      "Vehicle Prediction: truck\n",
      "Is Pickup Truck: no\n"
     ]
    },
    {
     "name": "stderr",
     "output_type": "stream",
     "text": [
      "Processing: pickup:  31%|███▏      | 293/932 [03:37<12:58,  1.22s/file]"
     ]
    },
    {
     "name": "stdout",
     "output_type": "stream",
     "text": [
      "Axle Prediction: 1\n",
      "Validation Result: False\n",
      "Vehicle Prediction: truck\n"
     ]
    },
    {
     "name": "stderr",
     "output_type": "stream",
     "text": [
      "Processing: pickup:  32%|███▏      | 294/932 [03:37<11:55,  1.12s/file]"
     ]
    },
    {
     "name": "stdout",
     "output_type": "stream",
     "text": [
      "Is Pickup Truck: yes\n",
      "Validation Result: True\n",
      "Vehicle Prediction: truck\n",
      "Is Pickup Truck: no\n"
     ]
    },
    {
     "name": "stderr",
     "output_type": "stream",
     "text": [
      "Processing: pickup:  32%|███▏      | 295/932 [03:39<12:34,  1.18s/file]"
     ]
    },
    {
     "name": "stdout",
     "output_type": "stream",
     "text": [
      "Axle Prediction: 2\n",
      "Validation Result: False\n",
      "Vehicle Prediction: truck\n"
     ]
    },
    {
     "name": "stderr",
     "output_type": "stream",
     "text": [
      "Processing: pickup:  32%|███▏      | 296/932 [03:40<11:39,  1.10s/file]"
     ]
    },
    {
     "name": "stdout",
     "output_type": "stream",
     "text": [
      "Is Pickup Truck: yes\n",
      "Validation Result: True\n",
      "Vehicle Prediction: truck\n",
      "Is Pickup Truck: no\n"
     ]
    },
    {
     "name": "stderr",
     "output_type": "stream",
     "text": [
      "Processing: pickup:  32%|███▏      | 297/932 [03:41<12:18,  1.16s/file]"
     ]
    },
    {
     "name": "stdout",
     "output_type": "stream",
     "text": [
      "Axle Prediction: 2\n",
      "Validation Result: False\n",
      "Vehicle Prediction: truck\n"
     ]
    },
    {
     "name": "stderr",
     "output_type": "stream",
     "text": [
      "Processing: pickup:  32%|███▏      | 298/932 [03:42<11:28,  1.09s/file]"
     ]
    },
    {
     "name": "stdout",
     "output_type": "stream",
     "text": [
      "Is Pickup Truck: yes\n",
      "Validation Result: True\n",
      "Vehicle Prediction: truck\n",
      "Is Pickup Truck: no\n"
     ]
    },
    {
     "name": "stderr",
     "output_type": "stream",
     "text": [
      "Processing: pickup:  32%|███▏      | 299/932 [03:43<12:04,  1.14s/file]"
     ]
    },
    {
     "name": "stdout",
     "output_type": "stream",
     "text": [
      "Axle Prediction: 2\n",
      "Validation Result: False\n",
      "Vehicle Prediction: truck\n",
      "Is Pickup Truck: no\n"
     ]
    },
    {
     "name": "stderr",
     "output_type": "stream",
     "text": [
      "Processing: van:  32%|███▏      | 300/932 [03:45<12:32,  1.19s/file]   "
     ]
    },
    {
     "name": "stdout",
     "output_type": "stream",
     "text": [
      "Axle Prediction: 2\n",
      "Validation Result: False\n"
     ]
    },
    {
     "name": "stderr",
     "output_type": "stream",
     "text": [
      "Processing: van:  32%|███▏      | 301/932 [03:45<10:11,  1.03file/s]"
     ]
    },
    {
     "name": "stdout",
     "output_type": "stream",
     "text": [
      "Vehicle Prediction: minibus\n",
      "Validation Result: True\n"
     ]
    },
    {
     "name": "stderr",
     "output_type": "stream",
     "text": [
      "Processing: van:  32%|███▏      | 302/932 [03:45<08:31,  1.23file/s]"
     ]
    },
    {
     "name": "stdout",
     "output_type": "stream",
     "text": [
      "Vehicle Prediction: van\n",
      "Validation Result: True\n"
     ]
    },
    {
     "name": "stderr",
     "output_type": "stream",
     "text": [
      "Processing: van:  33%|███▎      | 303/932 [03:46<07:22,  1.42file/s]"
     ]
    },
    {
     "name": "stdout",
     "output_type": "stream",
     "text": [
      "Vehicle Prediction: minibus\n",
      "Validation Result: True\n"
     ]
    },
    {
     "name": "stderr",
     "output_type": "stream",
     "text": [
      "Processing: van:  33%|███▎      | 304/932 [03:46<06:36,  1.58file/s]"
     ]
    },
    {
     "name": "stdout",
     "output_type": "stream",
     "text": [
      "Vehicle Prediction: van\n",
      "Validation Result: True\n"
     ]
    },
    {
     "name": "stderr",
     "output_type": "stream",
     "text": [
      "Processing: van:  33%|███▎      | 305/932 [03:47<06:01,  1.73file/s]"
     ]
    },
    {
     "name": "stdout",
     "output_type": "stream",
     "text": [
      "Vehicle Prediction: minivan\n",
      "Validation Result: True\n"
     ]
    },
    {
     "name": "stderr",
     "output_type": "stream",
     "text": [
      "Processing: van:  33%|███▎      | 306/932 [03:47<05:37,  1.86file/s]"
     ]
    },
    {
     "name": "stdout",
     "output_type": "stream",
     "text": [
      "Vehicle Prediction: van\n",
      "Validation Result: True\n"
     ]
    },
    {
     "name": "stderr",
     "output_type": "stream",
     "text": [
      "Processing: van:  33%|███▎      | 307/932 [03:48<05:20,  1.95file/s]"
     ]
    },
    {
     "name": "stdout",
     "output_type": "stream",
     "text": [
      "Vehicle Prediction: van\n",
      "Validation Result: True\n"
     ]
    },
    {
     "name": "stderr",
     "output_type": "stream",
     "text": [
      "Processing: van:  33%|███▎      | 308/932 [03:48<05:12,  2.00file/s]"
     ]
    },
    {
     "name": "stdout",
     "output_type": "stream",
     "text": [
      "Vehicle Prediction: van\n",
      "Validation Result: True\n"
     ]
    },
    {
     "name": "stderr",
     "output_type": "stream",
     "text": [
      "Processing: van:  33%|███▎      | 309/932 [03:49<05:03,  2.05file/s]"
     ]
    },
    {
     "name": "stdout",
     "output_type": "stream",
     "text": [
      "Vehicle Prediction: minivan\n",
      "Validation Result: True\n"
     ]
    },
    {
     "name": "stderr",
     "output_type": "stream",
     "text": [
      "[codecarbon INFO @ 14:24:08] Energy consumed for RAM : 0.011778 kWh. RAM Power : 188.80178117752075 W\n",
      "[codecarbon INFO @ 14:24:08] Energy consumed for all CPUs : 0.006239 kWh. Total CPU Power : 100.0 W\n",
      "[codecarbon INFO @ 14:24:08] Energy consumed for all GPUs : 0.016204 kWh. Total GPU Power : 273.7208922814758 W\n",
      "[codecarbon INFO @ 14:24:08] 0.034221 kWh of electricity used since the beginning.\n",
      "Processing: van:  33%|███▎      | 310/932 [03:49<04:56,  2.10file/s]"
     ]
    },
    {
     "name": "stdout",
     "output_type": "stream",
     "text": [
      "Vehicle Prediction: minivan\n",
      "Validation Result: True\n"
     ]
    },
    {
     "name": "stderr",
     "output_type": "stream",
     "text": [
      "Processing: van:  33%|███▎      | 311/932 [03:50<04:56,  2.09file/s]"
     ]
    },
    {
     "name": "stdout",
     "output_type": "stream",
     "text": [
      "Vehicle Prediction: minivan\n",
      "Validation Result: True\n"
     ]
    },
    {
     "name": "stderr",
     "output_type": "stream",
     "text": [
      "Processing: van:  33%|███▎      | 312/932 [03:50<04:51,  2.13file/s]"
     ]
    },
    {
     "name": "stdout",
     "output_type": "stream",
     "text": [
      "Vehicle Prediction: minivan\n",
      "Validation Result: True\n"
     ]
    },
    {
     "name": "stderr",
     "output_type": "stream",
     "text": [
      "Processing: van:  34%|███▎      | 313/932 [03:50<04:57,  2.08file/s]"
     ]
    },
    {
     "name": "stdout",
     "output_type": "stream",
     "text": [
      "Vehicle Prediction: minivan\n",
      "Validation Result: True\n"
     ]
    },
    {
     "name": "stderr",
     "output_type": "stream",
     "text": [
      "Processing: van:  34%|███▎      | 314/932 [03:51<04:52,  2.11file/s]"
     ]
    },
    {
     "name": "stdout",
     "output_type": "stream",
     "text": [
      "Vehicle Prediction: minivan\n",
      "Validation Result: True\n"
     ]
    },
    {
     "name": "stderr",
     "output_type": "stream",
     "text": [
      "Processing: van:  34%|███▍      | 315/932 [03:51<04:47,  2.15file/s]"
     ]
    },
    {
     "name": "stdout",
     "output_type": "stream",
     "text": [
      "Vehicle Prediction: minivan\n",
      "Validation Result: True\n"
     ]
    },
    {
     "name": "stderr",
     "output_type": "stream",
     "text": [
      "Processing: van:  34%|███▍      | 316/932 [03:52<04:43,  2.17file/s]"
     ]
    },
    {
     "name": "stdout",
     "output_type": "stream",
     "text": [
      "Vehicle Prediction: minivan\n",
      "Validation Result: True\n"
     ]
    },
    {
     "name": "stderr",
     "output_type": "stream",
     "text": [
      "Processing: van:  34%|███▍      | 317/932 [03:52<04:46,  2.15file/s]"
     ]
    },
    {
     "name": "stdout",
     "output_type": "stream",
     "text": [
      "Vehicle Prediction: minivan\n",
      "Validation Result: True\n"
     ]
    },
    {
     "name": "stderr",
     "output_type": "stream",
     "text": [
      "Processing: van:  34%|███▍      | 318/932 [03:53<04:44,  2.16file/s]"
     ]
    },
    {
     "name": "stdout",
     "output_type": "stream",
     "text": [
      "Vehicle Prediction: minivan\n",
      "Validation Result: True\n"
     ]
    },
    {
     "name": "stderr",
     "output_type": "stream",
     "text": [
      "Processing: van:  34%|███▍      | 319/932 [03:53<04:42,  2.17file/s]"
     ]
    },
    {
     "name": "stdout",
     "output_type": "stream",
     "text": [
      "Vehicle Prediction: van\n",
      "Validation Result: True\n"
     ]
    },
    {
     "name": "stderr",
     "output_type": "stream",
     "text": [
      "Processing: van:  34%|███▍      | 320/932 [03:54<04:39,  2.19file/s]"
     ]
    },
    {
     "name": "stdout",
     "output_type": "stream",
     "text": [
      "Vehicle Prediction: minivan\n",
      "Validation Result: True\n"
     ]
    },
    {
     "name": "stderr",
     "output_type": "stream",
     "text": [
      "Processing: van:  34%|███▍      | 321/932 [03:54<04:39,  2.19file/s]"
     ]
    },
    {
     "name": "stdout",
     "output_type": "stream",
     "text": [
      "Vehicle Prediction: minivan\n",
      "Validation Result: True\n"
     ]
    },
    {
     "name": "stderr",
     "output_type": "stream",
     "text": [
      "Processing: van:  35%|███▍      | 322/932 [03:55<04:41,  2.17file/s]"
     ]
    },
    {
     "name": "stdout",
     "output_type": "stream",
     "text": [
      "Vehicle Prediction: minivan\n",
      "Validation Result: True\n"
     ]
    },
    {
     "name": "stderr",
     "output_type": "stream",
     "text": [
      "Processing: van:  35%|███▍      | 323/932 [03:55<04:38,  2.18file/s]"
     ]
    },
    {
     "name": "stdout",
     "output_type": "stream",
     "text": [
      "Vehicle Prediction: van\n",
      "Validation Result: True\n"
     ]
    },
    {
     "name": "stderr",
     "output_type": "stream",
     "text": [
      "Processing: van:  35%|███▍      | 324/932 [03:55<04:36,  2.20file/s]"
     ]
    },
    {
     "name": "stdout",
     "output_type": "stream",
     "text": [
      "Vehicle Prediction: van\n",
      "Validation Result: True\n"
     ]
    },
    {
     "name": "stderr",
     "output_type": "stream",
     "text": [
      "Processing: van:  35%|███▍      | 325/932 [03:56<04:34,  2.21file/s]"
     ]
    },
    {
     "name": "stdout",
     "output_type": "stream",
     "text": [
      "Vehicle Prediction: van\n",
      "Validation Result: True\n"
     ]
    },
    {
     "name": "stderr",
     "output_type": "stream",
     "text": [
      "Processing: van:  35%|███▍      | 326/932 [03:56<04:38,  2.18file/s]"
     ]
    },
    {
     "name": "stdout",
     "output_type": "stream",
     "text": [
      "Vehicle Prediction: van\n",
      "Validation Result: True\n"
     ]
    },
    {
     "name": "stderr",
     "output_type": "stream",
     "text": [
      "Processing: van:  35%|███▌      | 327/932 [03:57<04:37,  2.18file/s]"
     ]
    },
    {
     "name": "stdout",
     "output_type": "stream",
     "text": [
      "Vehicle Prediction: van\n",
      "Validation Result: True\n"
     ]
    },
    {
     "name": "stderr",
     "output_type": "stream",
     "text": [
      "Processing: van:  35%|███▌      | 328/932 [03:57<04:34,  2.20file/s]"
     ]
    },
    {
     "name": "stdout",
     "output_type": "stream",
     "text": [
      "Vehicle Prediction: van\n",
      "Validation Result: True\n"
     ]
    },
    {
     "name": "stderr",
     "output_type": "stream",
     "text": [
      "Processing: van:  35%|███▌      | 329/932 [03:58<04:32,  2.21file/s]"
     ]
    },
    {
     "name": "stdout",
     "output_type": "stream",
     "text": [
      "Vehicle Prediction: van\n",
      "Validation Result: True\n"
     ]
    },
    {
     "name": "stderr",
     "output_type": "stream",
     "text": [
      "Processing: van:  35%|███▌      | 330/932 [03:58<04:31,  2.22file/s]"
     ]
    },
    {
     "name": "stdout",
     "output_type": "stream",
     "text": [
      "Vehicle Prediction: van\n",
      "Validation Result: True\n"
     ]
    },
    {
     "name": "stderr",
     "output_type": "stream",
     "text": [
      "Processing: van:  36%|███▌      | 331/932 [03:59<04:32,  2.20file/s]"
     ]
    },
    {
     "name": "stdout",
     "output_type": "stream",
     "text": [
      "Vehicle Prediction: van\n",
      "Validation Result: True\n"
     ]
    },
    {
     "name": "stderr",
     "output_type": "stream",
     "text": [
      "Processing: van:  36%|███▌      | 332/932 [03:59<04:31,  2.21file/s]"
     ]
    },
    {
     "name": "stdout",
     "output_type": "stream",
     "text": [
      "Vehicle Prediction: van\n",
      "Validation Result: True\n"
     ]
    },
    {
     "name": "stderr",
     "output_type": "stream",
     "text": [
      "Processing: van:  36%|███▌      | 333/932 [04:00<04:31,  2.20file/s]"
     ]
    },
    {
     "name": "stdout",
     "output_type": "stream",
     "text": [
      "Vehicle Prediction: van\n",
      "Validation Result: True\n"
     ]
    },
    {
     "name": "stderr",
     "output_type": "stream",
     "text": [
      "Processing: van:  36%|███▌      | 334/932 [04:00<04:30,  2.21file/s]"
     ]
    },
    {
     "name": "stdout",
     "output_type": "stream",
     "text": [
      "Vehicle Prediction: van\n",
      "Validation Result: True\n"
     ]
    },
    {
     "name": "stderr",
     "output_type": "stream",
     "text": [
      "Processing: van:  36%|███▌      | 335/932 [04:00<04:29,  2.21file/s]"
     ]
    },
    {
     "name": "stdout",
     "output_type": "stream",
     "text": [
      "Vehicle Prediction: minivan\n",
      "Validation Result: True\n"
     ]
    },
    {
     "name": "stderr",
     "output_type": "stream",
     "text": [
      "Processing: van:  36%|███▌      | 336/932 [04:01<04:30,  2.20file/s]"
     ]
    },
    {
     "name": "stdout",
     "output_type": "stream",
     "text": [
      "Vehicle Prediction: minivan\n",
      "Validation Result: True\n"
     ]
    },
    {
     "name": "stderr",
     "output_type": "stream",
     "text": [
      "Processing: van:  36%|███▌      | 337/932 [04:01<04:28,  2.21file/s]"
     ]
    },
    {
     "name": "stdout",
     "output_type": "stream",
     "text": [
      "Vehicle Prediction: minivan\n",
      "Validation Result: True\n"
     ]
    },
    {
     "name": "stderr",
     "output_type": "stream",
     "text": [
      "Processing: van:  36%|███▋      | 338/932 [04:02<04:27,  2.22file/s]"
     ]
    },
    {
     "name": "stdout",
     "output_type": "stream",
     "text": [
      "Vehicle Prediction: minivan\n",
      "Validation Result: True\n"
     ]
    },
    {
     "name": "stderr",
     "output_type": "stream",
     "text": [
      "Processing: van:  36%|███▋      | 339/932 [04:02<04:26,  2.23file/s]"
     ]
    },
    {
     "name": "stdout",
     "output_type": "stream",
     "text": [
      "Vehicle Prediction: minivan\n",
      "Validation Result: True\n"
     ]
    },
    {
     "name": "stderr",
     "output_type": "stream",
     "text": [
      "Processing: van:  36%|███▋      | 340/932 [04:03<04:28,  2.20file/s]"
     ]
    },
    {
     "name": "stdout",
     "output_type": "stream",
     "text": [
      "Vehicle Prediction: minivan\n",
      "Validation Result: True\n"
     ]
    },
    {
     "name": "stderr",
     "output_type": "stream",
     "text": [
      "Processing: van:  37%|███▋      | 341/932 [04:03<04:26,  2.21file/s]"
     ]
    },
    {
     "name": "stdout",
     "output_type": "stream",
     "text": [
      "Vehicle Prediction: minivan\n",
      "Validation Result: True\n"
     ]
    },
    {
     "name": "stderr",
     "output_type": "stream",
     "text": [
      "Processing: van:  37%|███▋      | 342/932 [04:04<04:25,  2.22file/s]"
     ]
    },
    {
     "name": "stdout",
     "output_type": "stream",
     "text": [
      "Vehicle Prediction: minivan\n",
      "Validation Result: True\n"
     ]
    },
    {
     "name": "stderr",
     "output_type": "stream",
     "text": [
      "[codecarbon INFO @ 14:24:23] Energy consumed for RAM : 0.012564 kWh. RAM Power : 188.80178117752075 W\n",
      "[codecarbon INFO @ 14:24:23] Energy consumed for all CPUs : 0.006656 kWh. Total CPU Power : 100.0 W\n",
      "[codecarbon INFO @ 14:24:23] Energy consumed for all GPUs : 0.017339 kWh. Total GPU Power : 272.4297796234415 W\n",
      "[codecarbon INFO @ 14:24:23] 0.036559 kWh of electricity used since the beginning.\n",
      "[codecarbon INFO @ 14:24:23] 0.069992 g.CO2eq/s mean an estimation of 2,207.255376942184 kg.CO2eq/year\n",
      "Processing: van:  37%|███▋      | 343/932 [04:04<04:26,  2.21file/s]"
     ]
    },
    {
     "name": "stdout",
     "output_type": "stream",
     "text": [
      "Vehicle Prediction: minivan\n",
      "Validation Result: True\n"
     ]
    },
    {
     "name": "stderr",
     "output_type": "stream",
     "text": [
      "Processing: van:  37%|███▋      | 344/932 [04:05<04:25,  2.21file/s]"
     ]
    },
    {
     "name": "stdout",
     "output_type": "stream",
     "text": [
      "Vehicle Prediction: minivan\n",
      "Validation Result: True\n"
     ]
    },
    {
     "name": "stderr",
     "output_type": "stream",
     "text": [
      "Processing: van:  37%|███▋      | 345/932 [04:05<04:28,  2.18file/s]"
     ]
    },
    {
     "name": "stdout",
     "output_type": "stream",
     "text": [
      "Vehicle Prediction: van\n",
      "Validation Result: True\n"
     ]
    },
    {
     "name": "stderr",
     "output_type": "stream",
     "text": [
      "Processing: van:  37%|███▋      | 346/932 [04:05<04:26,  2.20file/s]"
     ]
    },
    {
     "name": "stdout",
     "output_type": "stream",
     "text": [
      "Vehicle Prediction: minivan\n",
      "Validation Result: True\n"
     ]
    },
    {
     "name": "stderr",
     "output_type": "stream",
     "text": [
      "Processing: van:  37%|███▋      | 347/932 [04:06<04:24,  2.21file/s]"
     ]
    },
    {
     "name": "stdout",
     "output_type": "stream",
     "text": [
      "Vehicle Prediction: minibus\n",
      "Validation Result: True\n"
     ]
    },
    {
     "name": "stderr",
     "output_type": "stream",
     "text": [
      "Processing: van:  37%|███▋      | 348/932 [04:06<04:23,  2.22file/s]"
     ]
    },
    {
     "name": "stdout",
     "output_type": "stream",
     "text": [
      "Vehicle Prediction: van\n",
      "Validation Result: True\n"
     ]
    },
    {
     "name": "stderr",
     "output_type": "stream",
     "text": [
      "Processing: van:  37%|███▋      | 349/932 [04:07<04:25,  2.19file/s]"
     ]
    },
    {
     "name": "stdout",
     "output_type": "stream",
     "text": [
      "Vehicle Prediction: minivan\n",
      "Validation Result: True\n"
     ]
    },
    {
     "name": "stderr",
     "output_type": "stream",
     "text": [
      "Processing: van:  38%|███▊      | 350/932 [04:07<04:25,  2.19file/s]"
     ]
    },
    {
     "name": "stdout",
     "output_type": "stream",
     "text": [
      "Vehicle Prediction: minibus\n",
      "Validation Result: True\n"
     ]
    },
    {
     "name": "stderr",
     "output_type": "stream",
     "text": [
      "Processing: van:  38%|███▊      | 351/932 [04:08<04:23,  2.21file/s]"
     ]
    },
    {
     "name": "stdout",
     "output_type": "stream",
     "text": [
      "Vehicle Prediction: minibus\n",
      "Validation Result: True\n"
     ]
    },
    {
     "name": "stderr",
     "output_type": "stream",
     "text": [
      "Processing: van:  38%|███▊      | 352/932 [04:08<04:22,  2.21file/s]"
     ]
    },
    {
     "name": "stdout",
     "output_type": "stream",
     "text": [
      "Vehicle Prediction: van\n",
      "Validation Result: True\n"
     ]
    },
    {
     "name": "stderr",
     "output_type": "stream",
     "text": [
      "Processing: van:  38%|███▊      | 353/932 [04:09<04:20,  2.22file/s]"
     ]
    },
    {
     "name": "stdout",
     "output_type": "stream",
     "text": [
      "Vehicle Prediction: van\n",
      "Validation Result: True\n"
     ]
    },
    {
     "name": "stderr",
     "output_type": "stream",
     "text": [
      "Processing: van:  38%|███▊      | 354/932 [04:09<04:22,  2.20file/s]"
     ]
    },
    {
     "name": "stdout",
     "output_type": "stream",
     "text": [
      "Vehicle Prediction: van\n",
      "Validation Result: True\n"
     ]
    },
    {
     "name": "stderr",
     "output_type": "stream",
     "text": [
      "Processing: van:  38%|███▊      | 355/932 [04:10<04:21,  2.21file/s]"
     ]
    },
    {
     "name": "stdout",
     "output_type": "stream",
     "text": [
      "Vehicle Prediction: minibus\n",
      "Validation Result: True\n"
     ]
    },
    {
     "name": "stderr",
     "output_type": "stream",
     "text": [
      "Processing: van:  38%|███▊      | 356/932 [04:10<04:20,  2.21file/s]"
     ]
    },
    {
     "name": "stdout",
     "output_type": "stream",
     "text": [
      "Vehicle Prediction: minivan\n",
      "Validation Result: True\n"
     ]
    },
    {
     "name": "stderr",
     "output_type": "stream",
     "text": [
      "Processing: van:  38%|███▊      | 357/932 [04:10<04:20,  2.21file/s]"
     ]
    },
    {
     "name": "stdout",
     "output_type": "stream",
     "text": [
      "Vehicle Prediction: minivan\n",
      "Validation Result: True\n"
     ]
    },
    {
     "name": "stderr",
     "output_type": "stream",
     "text": [
      "Processing: van:  38%|███▊      | 358/932 [04:11<04:20,  2.20file/s]"
     ]
    },
    {
     "name": "stdout",
     "output_type": "stream",
     "text": [
      "Vehicle Prediction: minibus\n",
      "Validation Result: True\n"
     ]
    },
    {
     "name": "stderr",
     "output_type": "stream",
     "text": [
      "Processing: van:  39%|███▊      | 359/932 [04:11<04:21,  2.19file/s]"
     ]
    },
    {
     "name": "stdout",
     "output_type": "stream",
     "text": [
      "Vehicle Prediction: van\n",
      "Validation Result: True\n"
     ]
    },
    {
     "name": "stderr",
     "output_type": "stream",
     "text": [
      "Processing: van:  39%|███▊      | 360/932 [04:12<04:19,  2.20file/s]"
     ]
    },
    {
     "name": "stdout",
     "output_type": "stream",
     "text": [
      "Vehicle Prediction: van\n",
      "Validation Result: True\n"
     ]
    },
    {
     "name": "stderr",
     "output_type": "stream",
     "text": [
      "Processing: van:  39%|███▊      | 361/932 [04:12<04:18,  2.21file/s]"
     ]
    },
    {
     "name": "stdout",
     "output_type": "stream",
     "text": [
      "Vehicle Prediction: van\n",
      "Validation Result: True\n"
     ]
    },
    {
     "name": "stderr",
     "output_type": "stream",
     "text": [
      "Processing: van:  39%|███▉      | 362/932 [04:13<04:16,  2.22file/s]"
     ]
    },
    {
     "name": "stdout",
     "output_type": "stream",
     "text": [
      "Vehicle Prediction: van\n",
      "Validation Result: True\n"
     ]
    },
    {
     "name": "stderr",
     "output_type": "stream",
     "text": [
      "Processing: van:  39%|███▉      | 363/932 [04:13<04:17,  2.21file/s]"
     ]
    },
    {
     "name": "stdout",
     "output_type": "stream",
     "text": [
      "Vehicle Prediction: van\n",
      "Validation Result: True\n"
     ]
    },
    {
     "name": "stderr",
     "output_type": "stream",
     "text": [
      "Processing: van:  39%|███▉      | 364/932 [04:14<04:17,  2.20file/s]"
     ]
    },
    {
     "name": "stdout",
     "output_type": "stream",
     "text": [
      "Vehicle Prediction: van\n",
      "Validation Result: True\n"
     ]
    },
    {
     "name": "stderr",
     "output_type": "stream",
     "text": [
      "Processing: van:  39%|███▉      | 365/932 [04:14<04:16,  2.21file/s]"
     ]
    },
    {
     "name": "stdout",
     "output_type": "stream",
     "text": [
      "Vehicle Prediction: van\n",
      "Validation Result: True\n"
     ]
    },
    {
     "name": "stderr",
     "output_type": "stream",
     "text": [
      "Processing: van:  39%|███▉      | 366/932 [04:15<04:15,  2.22file/s]"
     ]
    },
    {
     "name": "stdout",
     "output_type": "stream",
     "text": [
      "Vehicle Prediction: van\n",
      "Validation Result: True\n"
     ]
    },
    {
     "name": "stderr",
     "output_type": "stream",
     "text": [
      "Processing: van:  39%|███▉      | 367/932 [04:15<04:14,  2.22file/s]"
     ]
    },
    {
     "name": "stdout",
     "output_type": "stream",
     "text": [
      "Vehicle Prediction: van\n",
      "Validation Result: True\n"
     ]
    },
    {
     "name": "stderr",
     "output_type": "stream",
     "text": [
      "Processing: van:  39%|███▉      | 368/932 [04:15<04:16,  2.20file/s]"
     ]
    },
    {
     "name": "stdout",
     "output_type": "stream",
     "text": [
      "Vehicle Prediction: van\n",
      "Validation Result: True\n"
     ]
    },
    {
     "name": "stderr",
     "output_type": "stream",
     "text": [
      "Processing: van:  40%|███▉      | 369/932 [04:16<04:14,  2.21file/s]"
     ]
    },
    {
     "name": "stdout",
     "output_type": "stream",
     "text": [
      "Vehicle Prediction: van\n",
      "Validation Result: True\n"
     ]
    },
    {
     "name": "stderr",
     "output_type": "stream",
     "text": [
      "Processing: van:  40%|███▉      | 370/932 [04:16<04:13,  2.22file/s]"
     ]
    },
    {
     "name": "stdout",
     "output_type": "stream",
     "text": [
      "Vehicle Prediction: van\n",
      "Validation Result: True\n"
     ]
    },
    {
     "name": "stderr",
     "output_type": "stream",
     "text": [
      "Processing: van:  40%|███▉      | 371/932 [04:17<04:12,  2.22file/s]"
     ]
    },
    {
     "name": "stdout",
     "output_type": "stream",
     "text": [
      "Vehicle Prediction: van\n",
      "Validation Result: True\n"
     ]
    },
    {
     "name": "stderr",
     "output_type": "stream",
     "text": [
      "Processing: van:  40%|███▉      | 372/932 [04:17<04:14,  2.20file/s]"
     ]
    },
    {
     "name": "stdout",
     "output_type": "stream",
     "text": [
      "Vehicle Prediction: van\n",
      "Validation Result: True\n"
     ]
    },
    {
     "name": "stderr",
     "output_type": "stream",
     "text": [
      "Processing: van:  40%|████      | 373/932 [04:18<04:13,  2.20file/s]"
     ]
    },
    {
     "name": "stdout",
     "output_type": "stream",
     "text": [
      "Vehicle Prediction: minivan\n",
      "Validation Result: True\n"
     ]
    },
    {
     "name": "stderr",
     "output_type": "stream",
     "text": [
      "Processing: van:  40%|████      | 374/932 [04:18<04:12,  2.21file/s]"
     ]
    },
    {
     "name": "stdout",
     "output_type": "stream",
     "text": [
      "Vehicle Prediction: minivan\n",
      "Validation Result: True\n"
     ]
    },
    {
     "name": "stderr",
     "output_type": "stream",
     "text": [
      "Processing: van:  40%|████      | 375/932 [04:19<04:11,  2.22file/s]"
     ]
    },
    {
     "name": "stdout",
     "output_type": "stream",
     "text": [
      "Vehicle Prediction: minivan\n",
      "Validation Result: True\n"
     ]
    },
    {
     "name": "stderr",
     "output_type": "stream",
     "text": [
      "[codecarbon INFO @ 14:24:38] Energy consumed for RAM : 0.013350 kWh. RAM Power : 188.80178117752075 W\n",
      "[codecarbon INFO @ 14:24:38] Energy consumed for all CPUs : 0.007073 kWh. Total CPU Power : 100.0 W\n",
      "[codecarbon INFO @ 14:24:38] Energy consumed for all GPUs : 0.018486 kWh. Total GPU Power : 275.32553805869765 W\n",
      "[codecarbon INFO @ 14:24:38] 0.038909 kWh of electricity used since the beginning.\n",
      "Processing: van:  40%|████      | 376/932 [04:19<04:11,  2.21file/s]"
     ]
    },
    {
     "name": "stdout",
     "output_type": "stream",
     "text": [
      "Vehicle Prediction: minivan\n",
      "Validation Result: True\n"
     ]
    },
    {
     "name": "stderr",
     "output_type": "stream",
     "text": [
      "Processing: van:  40%|████      | 377/932 [04:20<04:14,  2.18file/s]"
     ]
    },
    {
     "name": "stdout",
     "output_type": "stream",
     "text": [
      "Vehicle Prediction: minivan\n",
      "Validation Result: True\n"
     ]
    },
    {
     "name": "stderr",
     "output_type": "stream",
     "text": [
      "Processing: van:  41%|████      | 378/932 [04:20<04:12,  2.20file/s]"
     ]
    },
    {
     "name": "stdout",
     "output_type": "stream",
     "text": [
      "Vehicle Prediction: minivan\n",
      "Validation Result: True\n"
     ]
    },
    {
     "name": "stderr",
     "output_type": "stream",
     "text": [
      "Processing: van:  41%|████      | 379/932 [04:20<04:10,  2.21file/s]"
     ]
    },
    {
     "name": "stdout",
     "output_type": "stream",
     "text": [
      "Vehicle Prediction: minivan\n",
      "Validation Result: True\n"
     ]
    },
    {
     "name": "stderr",
     "output_type": "stream",
     "text": [
      "Processing: van:  41%|████      | 380/932 [04:21<04:09,  2.22file/s]"
     ]
    },
    {
     "name": "stdout",
     "output_type": "stream",
     "text": [
      "Vehicle Prediction: minivan\n",
      "Validation Result: True\n"
     ]
    },
    {
     "name": "stderr",
     "output_type": "stream",
     "text": [
      "Processing: van:  41%|████      | 381/932 [04:21<04:12,  2.18file/s]"
     ]
    },
    {
     "name": "stdout",
     "output_type": "stream",
     "text": [
      "Vehicle Prediction: minivan\n",
      "Validation Result: True\n"
     ]
    },
    {
     "name": "stderr",
     "output_type": "stream",
     "text": [
      "Processing: van:  41%|████      | 382/932 [04:22<04:11,  2.19file/s]"
     ]
    },
    {
     "name": "stdout",
     "output_type": "stream",
     "text": [
      "Vehicle Prediction: minivan\n",
      "Validation Result: True\n"
     ]
    },
    {
     "name": "stderr",
     "output_type": "stream",
     "text": [
      "Processing: van:  41%|████      | 383/932 [04:22<04:09,  2.20file/s]"
     ]
    },
    {
     "name": "stdout",
     "output_type": "stream",
     "text": [
      "Vehicle Prediction: minivan\n",
      "Validation Result: True\n"
     ]
    },
    {
     "name": "stderr",
     "output_type": "stream",
     "text": [
      "Processing: van:  41%|████      | 384/932 [04:23<04:07,  2.21file/s]"
     ]
    },
    {
     "name": "stdout",
     "output_type": "stream",
     "text": [
      "Vehicle Prediction: minivan\n",
      "Validation Result: True\n"
     ]
    },
    {
     "name": "stderr",
     "output_type": "stream",
     "text": [
      "Processing: van:  41%|████▏     | 385/932 [04:23<04:08,  2.20file/s]"
     ]
    },
    {
     "name": "stdout",
     "output_type": "stream",
     "text": [
      "Vehicle Prediction: minivan\n",
      "Validation Result: True\n"
     ]
    },
    {
     "name": "stderr",
     "output_type": "stream",
     "text": [
      "Processing: van:  41%|████▏     | 386/932 [04:24<04:09,  2.18file/s]"
     ]
    },
    {
     "name": "stdout",
     "output_type": "stream",
     "text": [
      "Vehicle Prediction: minivan\n",
      "Validation Result: True\n"
     ]
    },
    {
     "name": "stderr",
     "output_type": "stream",
     "text": [
      "Processing: van:  42%|████▏     | 387/932 [04:24<04:08,  2.19file/s]"
     ]
    },
    {
     "name": "stdout",
     "output_type": "stream",
     "text": [
      "Vehicle Prediction: minivan\n",
      "Validation Result: True\n"
     ]
    },
    {
     "name": "stderr",
     "output_type": "stream",
     "text": [
      "Processing: van:  42%|████▏     | 388/932 [04:25<04:08,  2.19file/s]"
     ]
    },
    {
     "name": "stdout",
     "output_type": "stream",
     "text": [
      "Vehicle Prediction: van\n",
      "Validation Result: True\n"
     ]
    },
    {
     "name": "stderr",
     "output_type": "stream",
     "text": [
      "Processing: van:  42%|████▏     | 389/932 [04:25<04:06,  2.20file/s]"
     ]
    },
    {
     "name": "stdout",
     "output_type": "stream",
     "text": [
      "Vehicle Prediction: van\n",
      "Validation Result: True\n"
     ]
    },
    {
     "name": "stderr",
     "output_type": "stream",
     "text": [
      "Processing: van:  42%|████▏     | 390/932 [04:25<04:07,  2.19file/s]"
     ]
    },
    {
     "name": "stdout",
     "output_type": "stream",
     "text": [
      "Vehicle Prediction: van\n",
      "Validation Result: True\n"
     ]
    },
    {
     "name": "stderr",
     "output_type": "stream",
     "text": [
      "Processing: van:  42%|████▏     | 391/932 [04:26<04:08,  2.17file/s]"
     ]
    },
    {
     "name": "stdout",
     "output_type": "stream",
     "text": [
      "Vehicle Prediction: van\n",
      "Validation Result: True\n"
     ]
    },
    {
     "name": "stderr",
     "output_type": "stream",
     "text": [
      "Processing: van:  42%|████▏     | 392/932 [04:26<04:06,  2.19file/s]"
     ]
    },
    {
     "name": "stdout",
     "output_type": "stream",
     "text": [
      "Vehicle Prediction: van\n",
      "Validation Result: True\n"
     ]
    },
    {
     "name": "stderr",
     "output_type": "stream",
     "text": [
      "Processing: van:  42%|████▏     | 393/932 [04:27<04:08,  2.17file/s]"
     ]
    },
    {
     "name": "stdout",
     "output_type": "stream",
     "text": [
      "Vehicle Prediction: van\n",
      "Validation Result: True\n",
      "Vehicle Prediction: truck\n",
      "Is Pickup Truck: no\n"
     ]
    },
    {
     "name": "stderr",
     "output_type": "stream",
     "text": [
      "Processing: van:  42%|████▏     | 394/932 [04:28<06:22,  1.41file/s]"
     ]
    },
    {
     "name": "stdout",
     "output_type": "stream",
     "text": [
      "Axle Prediction: 2\n",
      "Validation Result: False\n"
     ]
    },
    {
     "name": "stderr",
     "output_type": "stream",
     "text": [
      "Processing: van:  42%|████▏     | 395/932 [04:29<05:44,  1.56file/s]"
     ]
    },
    {
     "name": "stdout",
     "output_type": "stream",
     "text": [
      "Vehicle Prediction: minivan\n",
      "Validation Result: True\n"
     ]
    },
    {
     "name": "stderr",
     "output_type": "stream",
     "text": [
      "Processing: van:  42%|████▏     | 396/932 [04:29<05:13,  1.71file/s]"
     ]
    },
    {
     "name": "stdout",
     "output_type": "stream",
     "text": [
      "Vehicle Prediction: van\n",
      "Validation Result: True\n"
     ]
    },
    {
     "name": "stderr",
     "output_type": "stream",
     "text": [
      "Processing: van:  43%|████▎     | 397/932 [04:29<04:51,  1.84file/s]"
     ]
    },
    {
     "name": "stdout",
     "output_type": "stream",
     "text": [
      "Vehicle Prediction: minivan\n",
      "Validation Result: True\n"
     ]
    },
    {
     "name": "stderr",
     "output_type": "stream",
     "text": [
      "Processing: van:  43%|████▎     | 398/932 [04:30<04:36,  1.93file/s]"
     ]
    },
    {
     "name": "stdout",
     "output_type": "stream",
     "text": [
      "Vehicle Prediction: van\n",
      "Validation Result: True\n"
     ]
    },
    {
     "name": "stderr",
     "output_type": "stream",
     "text": [
      "Processing: van:  43%|████▎     | 399/932 [04:30<04:29,  1.98file/s]"
     ]
    },
    {
     "name": "stdout",
     "output_type": "stream",
     "text": [
      "Vehicle Prediction: van\n",
      "Validation Result: True\n"
     ]
    },
    {
     "name": "stderr",
     "output_type": "stream",
     "text": [
      "Processing: bus 2:  43%|████▎     | 400/932 [04:31<04:19,  2.05file/s]"
     ]
    },
    {
     "name": "stdout",
     "output_type": "stream",
     "text": [
      "Vehicle Prediction: van\n",
      "Validation Result: True\n",
      "Vehicle Prediction: bus\n"
     ]
    },
    {
     "name": "stderr",
     "output_type": "stream",
     "text": [
      "Processing: bus 2:  43%|████▎     | 401/932 [04:32<05:27,  1.62file/s]"
     ]
    },
    {
     "name": "stdout",
     "output_type": "stream",
     "text": [
      "Axle Prediction: 2<|eot_id|>\n",
      "Invalid axle prediction: 2<|eot_id|>\n",
      "Validation Result: True\n"
     ]
    },
    {
     "name": "stderr",
     "output_type": "stream",
     "text": [
      "Processing: bus 2:  43%|████▎     | 402/932 [04:32<05:08,  1.72file/s]"
     ]
    },
    {
     "name": "stdout",
     "output_type": "stream",
     "text": [
      "Vehicle Prediction: minibus\n",
      "Validation Result: False\n",
      "Vehicle Prediction: bus\n"
     ]
    },
    {
     "name": "stderr",
     "output_type": "stream",
     "text": [
      "Processing: bus 2:  43%|████▎     | 403/932 [04:33<06:03,  1.46file/s]"
     ]
    },
    {
     "name": "stdout",
     "output_type": "stream",
     "text": [
      "Axle Prediction: 2<|eot_id|>\n",
      "Invalid axle prediction: 2<|eot_id|>\n",
      "Validation Result: True\n"
     ]
    },
    {
     "name": "stderr",
     "output_type": "stream",
     "text": [
      "Processing: bus 2:  43%|████▎     | 404/932 [04:34<05:33,  1.58file/s]"
     ]
    },
    {
     "name": "stdout",
     "output_type": "stream",
     "text": [
      "Vehicle Prediction: minibus\n",
      "Validation Result: False\n"
     ]
    },
    {
     "name": "stderr",
     "output_type": "stream",
     "text": [
      "[codecarbon INFO @ 14:24:53] Energy consumed for RAM : 0.014136 kWh. RAM Power : 188.80178117752075 W\n",
      "[codecarbon INFO @ 14:24:53] Energy consumed for all CPUs : 0.007489 kWh. Total CPU Power : 100.0 W\n",
      "[codecarbon INFO @ 14:24:53] Energy consumed for all GPUs : 0.019630 kWh. Total GPU Power : 274.649701113274 W\n",
      "[codecarbon INFO @ 14:24:53] 0.041256 kWh of electricity used since the beginning.\n"
     ]
    },
    {
     "name": "stdout",
     "output_type": "stream",
     "text": [
      "Vehicle Prediction: bus\n"
     ]
    },
    {
     "name": "stderr",
     "output_type": "stream",
     "text": [
      "Processing: bus 2:  43%|████▎     | 405/932 [04:35<06:22,  1.38file/s]"
     ]
    },
    {
     "name": "stdout",
     "output_type": "stream",
     "text": [
      "Axle Prediction: 2<|eot_id|>\n",
      "Invalid axle prediction: 2<|eot_id|>\n",
      "Validation Result: True\n",
      "Vehicle Prediction: bus\n"
     ]
    },
    {
     "name": "stderr",
     "output_type": "stream",
     "text": [
      "Processing: bus 2:  44%|████▎     | 406/932 [04:36<06:53,  1.27file/s]"
     ]
    },
    {
     "name": "stdout",
     "output_type": "stream",
     "text": [
      "Axle Prediction: 3<|eot_id|>\n",
      "Invalid axle prediction: 3<|eot_id|>\n",
      "Validation Result: True\n",
      "Vehicle Prediction: bus\n"
     ]
    },
    {
     "name": "stderr",
     "output_type": "stream",
     "text": [
      "Processing: bus 2:  44%|████▎     | 407/932 [04:37<07:18,  1.20file/s]"
     ]
    },
    {
     "name": "stdout",
     "output_type": "stream",
     "text": [
      "Axle Prediction: 3<|eot_id|>\n",
      "Invalid axle prediction: 3<|eot_id|>\n",
      "Validation Result: True\n",
      "Vehicle Prediction: bus\n"
     ]
    },
    {
     "name": "stderr",
     "output_type": "stream",
     "text": [
      "Processing: bus 2:  44%|████▍     | 408/932 [04:37<07:17,  1.20file/s]"
     ]
    },
    {
     "name": "stdout",
     "output_type": "stream",
     "text": [
      "Axle Prediction: 3<|eot_id|>\n",
      "Invalid axle prediction: 3<|eot_id|>\n",
      "Validation Result: True\n",
      "Vehicle Prediction: bus\n"
     ]
    },
    {
     "name": "stderr",
     "output_type": "stream",
     "text": [
      "Processing: bus 2:  44%|████▍     | 409/932 [04:38<07:44,  1.12file/s]"
     ]
    },
    {
     "name": "stdout",
     "output_type": "stream",
     "text": [
      "Axle Prediction: has\n",
      "Invalid axle prediction: has\n",
      "Validation Result: True\n",
      "Vehicle Prediction: bus\n"
     ]
    },
    {
     "name": "stderr",
     "output_type": "stream",
     "text": [
      "Processing: bus 2:  44%|████▍     | 410/932 [04:39<07:36,  1.14file/s]"
     ]
    },
    {
     "name": "stdout",
     "output_type": "stream",
     "text": [
      "Axle Prediction: 2<|eot_id|>\n",
      "Invalid axle prediction: 2<|eot_id|>\n",
      "Validation Result: True\n"
     ]
    },
    {
     "name": "stderr",
     "output_type": "stream",
     "text": [
      "Processing: bus 2:  44%|████▍     | 411/932 [04:40<06:29,  1.34file/s]"
     ]
    },
    {
     "name": "stdout",
     "output_type": "stream",
     "text": [
      "Vehicle Prediction: minibus\n",
      "Validation Result: False\n",
      "Vehicle Prediction: bus\n"
     ]
    },
    {
     "name": "stderr",
     "output_type": "stream",
     "text": [
      "Processing: bus 2:  44%|████▍     | 412/932 [04:41<06:44,  1.28file/s]"
     ]
    },
    {
     "name": "stdout",
     "output_type": "stream",
     "text": [
      "Axle Prediction: 2<|eot_id|>\n",
      "Invalid axle prediction: 2<|eot_id|>\n",
      "Validation Result: True\n",
      "Vehicle Prediction: bus\n"
     ]
    },
    {
     "name": "stderr",
     "output_type": "stream",
     "text": [
      "Processing: bus 2:  44%|████▍     | 413/932 [04:41<07:00,  1.23file/s]"
     ]
    },
    {
     "name": "stdout",
     "output_type": "stream",
     "text": [
      "Axle Prediction: has\n",
      "Invalid axle prediction: has\n",
      "Validation Result: True\n",
      "Vehicle Prediction: bus\n"
     ]
    },
    {
     "name": "stderr",
     "output_type": "stream",
     "text": [
      "Processing: bus 2:  44%|████▍     | 414/932 [04:42<07:03,  1.22file/s]"
     ]
    },
    {
     "name": "stdout",
     "output_type": "stream",
     "text": [
      "Axle Prediction: 4<|eot_id|>\n",
      "Invalid axle prediction: 4<|eot_id|>\n",
      "Validation Result: True\n",
      "Vehicle Prediction: bus\n"
     ]
    },
    {
     "name": "stderr",
     "output_type": "stream",
     "text": [
      "Processing: bus 2:  45%|████▍     | 415/932 [04:43<07:14,  1.19file/s]"
     ]
    },
    {
     "name": "stdout",
     "output_type": "stream",
     "text": [
      "Axle Prediction: has\n",
      "Invalid axle prediction: has\n",
      "Validation Result: True\n",
      "Vehicle Prediction: bus\n"
     ]
    },
    {
     "name": "stderr",
     "output_type": "stream",
     "text": [
      "Processing: bus 2:  45%|████▍     | 416/932 [04:44<07:20,  1.17file/s]"
     ]
    },
    {
     "name": "stdout",
     "output_type": "stream",
     "text": [
      "Axle Prediction: depicted\n",
      "Invalid axle prediction: depicted\n",
      "Validation Result: True\n",
      "Vehicle Prediction: bus\n"
     ]
    },
    {
     "name": "stderr",
     "output_type": "stream",
     "text": [
      "Processing: bus 2:  45%|████▍     | 417/932 [04:45<07:19,  1.17file/s]"
     ]
    },
    {
     "name": "stdout",
     "output_type": "stream",
     "text": [
      "Axle Prediction: 3<|eot_id|>\n",
      "Invalid axle prediction: 3<|eot_id|>\n",
      "Validation Result: True\n",
      "Vehicle Prediction: bus\n"
     ]
    },
    {
     "name": "stderr",
     "output_type": "stream",
     "text": [
      "Processing: bus 2:  45%|████▍     | 418/932 [04:46<07:15,  1.18file/s]"
     ]
    },
    {
     "name": "stdout",
     "output_type": "stream",
     "text": [
      "Axle Prediction: 3<|eot_id|>\n",
      "Invalid axle prediction: 3<|eot_id|>\n",
      "Validation Result: True\n",
      "Vehicle Prediction: bus\n"
     ]
    },
    {
     "name": "stderr",
     "output_type": "stream",
     "text": [
      "Processing: bus 2:  45%|████▍     | 419/932 [04:47<07:13,  1.18file/s]"
     ]
    },
    {
     "name": "stdout",
     "output_type": "stream",
     "text": [
      "Axle Prediction: 3<|eot_id|>\n",
      "Invalid axle prediction: 3<|eot_id|>\n",
      "Validation Result: True\n",
      "Vehicle Prediction: bus\n"
     ]
    },
    {
     "name": "stderr",
     "output_type": "stream",
     "text": [
      "Processing: bus 2:  45%|████▌     | 420/932 [04:47<07:20,  1.16file/s]"
     ]
    },
    {
     "name": "stdout",
     "output_type": "stream",
     "text": [
      "Axle Prediction: has\n",
      "Invalid axle prediction: has\n",
      "Validation Result: True\n",
      "Vehicle Prediction: bus\n"
     ]
    },
    {
     "name": "stderr",
     "output_type": "stream",
     "text": [
      "Processing: bus 2:  45%|████▌     | 421/932 [04:48<07:16,  1.17file/s]"
     ]
    },
    {
     "name": "stdout",
     "output_type": "stream",
     "text": [
      "Axle Prediction: 3<|eot_id|>\n",
      "Invalid axle prediction: 3<|eot_id|>\n",
      "Validation Result: True\n",
      "Vehicle Prediction: bus\n"
     ]
    },
    {
     "name": "stderr",
     "output_type": "stream",
     "text": [
      "[codecarbon INFO @ 14:25:08] Energy consumed for RAM : 0.014911 kWh. RAM Power : 188.80178117752075 W\n",
      "[codecarbon INFO @ 14:25:08] Energy consumed for all CPUs : 0.007899 kWh. Total CPU Power : 100.0 W\n",
      "[codecarbon INFO @ 14:25:08] Energy consumed for all GPUs : 0.020749 kWh. Total GPU Power : 272.6497033546127 W\n",
      "[codecarbon INFO @ 14:25:08] 0.043560 kWh of electricity used since the beginning.\n",
      "Processing: bus 2:  45%|████▌     | 422/932 [04:49<07:15,  1.17file/s]"
     ]
    },
    {
     "name": "stdout",
     "output_type": "stream",
     "text": [
      "Axle Prediction: 3<|eot_id|>\n",
      "Invalid axle prediction: 3<|eot_id|>\n",
      "Validation Result: True\n",
      "Vehicle Prediction: bus\n"
     ]
    },
    {
     "name": "stderr",
     "output_type": "stream",
     "text": [
      "Processing: bus 2:  45%|████▌     | 423/932 [04:50<07:11,  1.18file/s]"
     ]
    },
    {
     "name": "stdout",
     "output_type": "stream",
     "text": [
      "Axle Prediction: 3<|eot_id|>\n",
      "Invalid axle prediction: 3<|eot_id|>\n",
      "Validation Result: True\n",
      "Vehicle Prediction: bus\n"
     ]
    },
    {
     "name": "stderr",
     "output_type": "stream",
     "text": [
      "Processing: bus 2:  45%|████▌     | 424/932 [04:51<07:12,  1.17file/s]"
     ]
    },
    {
     "name": "stdout",
     "output_type": "stream",
     "text": [
      "Axle Prediction: 3<|eot_id|>\n",
      "Invalid axle prediction: 3<|eot_id|>\n",
      "Validation Result: True\n",
      "Vehicle Prediction: bus\n"
     ]
    },
    {
     "name": "stderr",
     "output_type": "stream",
     "text": [
      "Processing: bus 2:  46%|████▌     | 425/932 [04:52<07:15,  1.16file/s]"
     ]
    },
    {
     "name": "stdout",
     "output_type": "stream",
     "text": [
      "Axle Prediction: 3<|eot_id|>\n",
      "Invalid axle prediction: 3<|eot_id|>\n",
      "Validation Result: True\n",
      "Vehicle Prediction: bus\n"
     ]
    },
    {
     "name": "stderr",
     "output_type": "stream",
     "text": [
      "Processing: bus 2:  46%|████▌     | 426/932 [04:53<07:11,  1.17file/s]"
     ]
    },
    {
     "name": "stdout",
     "output_type": "stream",
     "text": [
      "Axle Prediction: 3<|eot_id|>\n",
      "Invalid axle prediction: 3<|eot_id|>\n",
      "Validation Result: True\n",
      "Vehicle Prediction: bus\n"
     ]
    },
    {
     "name": "stderr",
     "output_type": "stream",
     "text": [
      "Processing: bus 2:  46%|████▌     | 427/932 [04:53<07:08,  1.18file/s]"
     ]
    },
    {
     "name": "stdout",
     "output_type": "stream",
     "text": [
      "Axle Prediction: 2<|eot_id|>\n",
      "Invalid axle prediction: 2<|eot_id|>\n",
      "Validation Result: True\n",
      "Vehicle Prediction: bus\n"
     ]
    },
    {
     "name": "stderr",
     "output_type": "stream",
     "text": [
      "Processing: bus 2:  46%|████▌     | 428/932 [04:54<07:10,  1.17file/s]"
     ]
    },
    {
     "name": "stdout",
     "output_type": "stream",
     "text": [
      "Axle Prediction: 2<|eot_id|>\n",
      "Invalid axle prediction: 2<|eot_id|>\n",
      "Validation Result: True\n",
      "Vehicle Prediction: bus\n"
     ]
    },
    {
     "name": "stderr",
     "output_type": "stream",
     "text": [
      "Processing: bus 2:  46%|████▌     | 429/932 [04:55<07:08,  1.17file/s]"
     ]
    },
    {
     "name": "stdout",
     "output_type": "stream",
     "text": [
      "Axle Prediction: 3<|eot_id|>\n",
      "Invalid axle prediction: 3<|eot_id|>\n",
      "Validation Result: True\n",
      "Vehicle Prediction: bus\n"
     ]
    },
    {
     "name": "stderr",
     "output_type": "stream",
     "text": [
      "Processing: bus 2:  46%|████▌     | 430/932 [04:56<07:10,  1.17file/s]"
     ]
    },
    {
     "name": "stdout",
     "output_type": "stream",
     "text": [
      "Axle Prediction: 3<|eot_id|>\n",
      "Invalid axle prediction: 3<|eot_id|>\n",
      "Validation Result: True\n",
      "Vehicle Prediction: bus\n"
     ]
    },
    {
     "name": "stderr",
     "output_type": "stream",
     "text": [
      "Processing: bus 2:  46%|████▌     | 431/932 [04:57<07:12,  1.16file/s]"
     ]
    },
    {
     "name": "stdout",
     "output_type": "stream",
     "text": [
      "Axle Prediction: 3<|eot_id|>\n",
      "Invalid axle prediction: 3<|eot_id|>\n",
      "Validation Result: True\n",
      "Vehicle Prediction: bus\n"
     ]
    },
    {
     "name": "stderr",
     "output_type": "stream",
     "text": [
      "Processing: bus 2:  46%|████▋     | 432/932 [04:58<07:21,  1.13file/s]"
     ]
    },
    {
     "name": "stdout",
     "output_type": "stream",
     "text": [
      "Axle Prediction: has\n",
      "Invalid axle prediction: has\n",
      "Validation Result: True\n",
      "Vehicle Prediction: bus\n"
     ]
    },
    {
     "name": "stderr",
     "output_type": "stream",
     "text": [
      "Processing: bus 2:  46%|████▋     | 433/932 [04:59<07:12,  1.15file/s]"
     ]
    },
    {
     "name": "stdout",
     "output_type": "stream",
     "text": [
      "Axle Prediction: 3<|eot_id|>\n",
      "Invalid axle prediction: 3<|eot_id|>\n",
      "Validation Result: True\n",
      "Vehicle Prediction: bus\n"
     ]
    },
    {
     "name": "stderr",
     "output_type": "stream",
     "text": [
      "Processing: bus 2:  47%|████▋     | 434/932 [05:00<07:23,  1.12file/s]"
     ]
    },
    {
     "name": "stdout",
     "output_type": "stream",
     "text": [
      "Axle Prediction: 2<|eot_id|>\n",
      "Invalid axle prediction: 2<|eot_id|>\n",
      "Validation Result: True\n",
      "Vehicle Prediction: bus\n"
     ]
    },
    {
     "name": "stderr",
     "output_type": "stream",
     "text": [
      "Processing: bus 2:  47%|████▋     | 435/932 [05:00<07:14,  1.14file/s]"
     ]
    },
    {
     "name": "stdout",
     "output_type": "stream",
     "text": [
      "Axle Prediction: 3<|eot_id|>\n",
      "Invalid axle prediction: 3<|eot_id|>\n",
      "Validation Result: True\n",
      "Vehicle Prediction: bus\n"
     ]
    },
    {
     "name": "stderr",
     "output_type": "stream",
     "text": [
      "Processing: bus 2:  47%|████▋     | 436/932 [05:01<07:24,  1.12file/s]"
     ]
    },
    {
     "name": "stdout",
     "output_type": "stream",
     "text": [
      "Axle Prediction: 5\n",
      "Validation Result: False\n",
      "Vehicle Prediction: bus\n"
     ]
    },
    {
     "name": "stderr",
     "output_type": "stream",
     "text": [
      "Processing: bus 2:  47%|████▋     | 437/932 [05:02<07:27,  1.11file/s]"
     ]
    },
    {
     "name": "stdout",
     "output_type": "stream",
     "text": [
      "Axle Prediction: has\n",
      "Invalid axle prediction: has\n",
      "Validation Result: True\n",
      "Vehicle Prediction: bus\n"
     ]
    },
    {
     "name": "stderr",
     "output_type": "stream",
     "text": [
      "Processing: bus 2:  47%|████▋     | 438/932 [05:03<07:33,  1.09file/s]"
     ]
    },
    {
     "name": "stdout",
     "output_type": "stream",
     "text": [
      "Axle Prediction: has\n",
      "Invalid axle prediction: has\n",
      "Validation Result: True\n",
      "Vehicle Prediction: bus\n"
     ]
    },
    {
     "name": "stderr",
     "output_type": "stream",
     "text": [
      "[codecarbon INFO @ 14:25:23] Energy consumed for RAM : 0.015698 kWh. RAM Power : 188.80178117752075 W\n",
      "[codecarbon INFO @ 14:25:23] Energy consumed for all CPUs : 0.008316 kWh. Total CPU Power : 100.0 W\n",
      "[codecarbon INFO @ 14:25:23] Energy consumed for all GPUs : 0.021893 kWh. Total GPU Power : 274.6299165351273 W\n",
      "[codecarbon INFO @ 14:25:23] 0.045907 kWh of electricity used since the beginning.\n",
      "Processing: bus 2:  47%|████▋     | 439/932 [05:04<07:33,  1.09file/s]"
     ]
    },
    {
     "name": "stdout",
     "output_type": "stream",
     "text": [
      "Axle Prediction: 3\n",
      "Validation Result: False\n",
      "Vehicle Prediction: bus\n"
     ]
    },
    {
     "name": "stderr",
     "output_type": "stream",
     "text": [
      "Processing: bus 2:  47%|████▋     | 440/932 [05:05<07:35,  1.08file/s]"
     ]
    },
    {
     "name": "stdout",
     "output_type": "stream",
     "text": [
      "Axle Prediction: 3\n",
      "Validation Result: False\n",
      "Vehicle Prediction: bus\n"
     ]
    },
    {
     "name": "stderr",
     "output_type": "stream",
     "text": [
      "Processing: bus 2:  47%|████▋     | 441/932 [05:06<07:26,  1.10file/s]"
     ]
    },
    {
     "name": "stdout",
     "output_type": "stream",
     "text": [
      "Axle Prediction: 2<|eot_id|>\n",
      "Invalid axle prediction: 2<|eot_id|>\n",
      "Validation Result: True\n",
      "Vehicle Prediction: bus\n"
     ]
    },
    {
     "name": "stderr",
     "output_type": "stream",
     "text": [
      "Processing: truck 2:  47%|████▋     | 442/932 [05:07<07:14,  1.13file/s]"
     ]
    },
    {
     "name": "stdout",
     "output_type": "stream",
     "text": [
      "Axle Prediction: 3<|eot_id|>\n",
      "Invalid axle prediction: 3<|eot_id|>\n",
      "Validation Result: True\n",
      "Vehicle Prediction: truck\n",
      "Is Pickup Truck: no\n"
     ]
    },
    {
     "name": "stderr",
     "output_type": "stream",
     "text": [
      "Processing: truck 2:  48%|████▊     | 443/932 [05:08<08:26,  1.04s/file]"
     ]
    },
    {
     "name": "stdout",
     "output_type": "stream",
     "text": [
      "Axle Prediction: 2\n",
      "Validation Result: True\n",
      "Vehicle Prediction: truck\n",
      "Is Pickup Truck: no\n"
     ]
    },
    {
     "name": "stderr",
     "output_type": "stream",
     "text": [
      "Processing: truck 2:  48%|████▊     | 444/932 [05:09<09:02,  1.11s/file]"
     ]
    },
    {
     "name": "stdout",
     "output_type": "stream",
     "text": [
      "Axle Prediction: 3\n",
      "Validation Result: False\n",
      "Vehicle Prediction: truck\n",
      "Is Pickup Truck: no\n"
     ]
    },
    {
     "name": "stderr",
     "output_type": "stream",
     "text": [
      "Processing: truck 2:  48%|████▊     | 445/932 [05:11<09:39,  1.19s/file]"
     ]
    },
    {
     "name": "stdout",
     "output_type": "stream",
     "text": [
      "Axle Prediction: 2\n",
      "Validation Result: True\n",
      "Vehicle Prediction: truck\n",
      "Is Pickup Truck: no\n"
     ]
    },
    {
     "name": "stderr",
     "output_type": "stream",
     "text": [
      "Processing: truck 2:  48%|████▊     | 446/932 [05:12<09:58,  1.23s/file]"
     ]
    },
    {
     "name": "stdout",
     "output_type": "stream",
     "text": [
      "Axle Prediction: 2\n",
      "Validation Result: True\n",
      "Vehicle Prediction: truck\n",
      "Is Pickup Truck: no\n"
     ]
    },
    {
     "name": "stderr",
     "output_type": "stream",
     "text": [
      "Processing: truck 2:  48%|████▊     | 447/932 [05:14<10:19,  1.28s/file]"
     ]
    },
    {
     "name": "stdout",
     "output_type": "stream",
     "text": [
      "Axle Prediction: 2\n",
      "Validation Result: True\n",
      "Vehicle Prediction: truck\n",
      "Is Pickup Truck: no\n"
     ]
    },
    {
     "name": "stderr",
     "output_type": "stream",
     "text": [
      "Processing: truck 2:  48%|████▊     | 448/932 [05:15<10:52,  1.35s/file]"
     ]
    },
    {
     "name": "stdout",
     "output_type": "stream",
     "text": [
      "Axle Prediction: 2\n",
      "Validation Result: True\n",
      "Vehicle Prediction: truck\n",
      "Is Pickup Truck: no\n"
     ]
    },
    {
     "name": "stderr",
     "output_type": "stream",
     "text": [
      "Processing: truck 2:  48%|████▊     | 449/932 [05:16<10:47,  1.34s/file]"
     ]
    },
    {
     "name": "stdout",
     "output_type": "stream",
     "text": [
      "Axle Prediction: 2\n",
      "Validation Result: True\n",
      "Vehicle Prediction: truck\n",
      "Is Pickup Truck: no\n"
     ]
    },
    {
     "name": "stderr",
     "output_type": "stream",
     "text": [
      "Processing: truck 2:  48%|████▊     | 450/932 [05:18<10:52,  1.35s/file]"
     ]
    },
    {
     "name": "stdout",
     "output_type": "stream",
     "text": [
      "Axle Prediction: h\n",
      "Invalid axle prediction: h\n",
      "Validation Result: True\n",
      "Vehicle Prediction: truck\n",
      "Is Pickup Truck: no\n"
     ]
    },
    {
     "name": "stderr",
     "output_type": "stream",
     "text": [
      "[codecarbon INFO @ 14:25:38] Energy consumed for RAM : 0.016484 kWh. RAM Power : 188.80178117752075 W\n",
      "[codecarbon INFO @ 14:25:38] Energy consumed for all CPUs : 0.008733 kWh. Total CPU Power : 100.0 W\n",
      "[codecarbon INFO @ 14:25:38] Energy consumed for all GPUs : 0.023013 kWh. Total GPU Power : 268.93136315061076 W\n",
      "[codecarbon INFO @ 14:25:38] 0.048230 kWh of electricity used since the beginning.\n",
      "Processing: truck 2:  48%|████▊     | 451/932 [05:19<10:56,  1.37s/file]"
     ]
    },
    {
     "name": "stdout",
     "output_type": "stream",
     "text": [
      "Axle Prediction: 3\n",
      "Validation Result: False\n",
      "Vehicle Prediction: truck\n",
      "Is Pickup Truck: no\n"
     ]
    },
    {
     "name": "stderr",
     "output_type": "stream",
     "text": [
      "Processing: truck 2:  48%|████▊     | 452/932 [05:20<10:49,  1.35s/file]"
     ]
    },
    {
     "name": "stdout",
     "output_type": "stream",
     "text": [
      "Axle Prediction: 2\n",
      "Validation Result: True\n",
      "Vehicle Prediction: truck\n",
      "Is Pickup Truck: no\n"
     ]
    },
    {
     "name": "stderr",
     "output_type": "stream",
     "text": [
      "Processing: truck 2:  49%|████▊     | 453/932 [05:22<10:42,  1.34s/file]"
     ]
    },
    {
     "name": "stdout",
     "output_type": "stream",
     "text": [
      "Axle Prediction: 2\n",
      "Validation Result: True\n",
      "Vehicle Prediction: truck\n",
      "Is Pickup Truck: no\n"
     ]
    },
    {
     "name": "stderr",
     "output_type": "stream",
     "text": [
      "Processing: truck 2:  49%|████▊     | 454/932 [05:23<10:36,  1.33s/file]"
     ]
    },
    {
     "name": "stdout",
     "output_type": "stream",
     "text": [
      "Axle Prediction: 2\n",
      "Validation Result: True\n",
      "Vehicle Prediction: truck\n",
      "Is Pickup Truck: no\n"
     ]
    },
    {
     "name": "stderr",
     "output_type": "stream",
     "text": [
      "Processing: truck 2:  49%|████▉     | 455/932 [05:24<10:33,  1.33s/file]"
     ]
    },
    {
     "name": "stdout",
     "output_type": "stream",
     "text": [
      "Axle Prediction: 2\n",
      "Validation Result: True\n",
      "Vehicle Prediction: truck\n",
      "Is Pickup Truck: no\n"
     ]
    },
    {
     "name": "stderr",
     "output_type": "stream",
     "text": [
      "Processing: truck 2:  49%|████▉     | 456/932 [05:26<10:32,  1.33s/file]"
     ]
    },
    {
     "name": "stdout",
     "output_type": "stream",
     "text": [
      "Axle Prediction: 2\n",
      "Validation Result: True\n",
      "Vehicle Prediction: truck\n",
      "Is Pickup Truck: no\n"
     ]
    },
    {
     "name": "stderr",
     "output_type": "stream",
     "text": [
      "Processing: truck 2:  49%|████▉     | 457/932 [05:27<10:24,  1.32s/file]"
     ]
    },
    {
     "name": "stdout",
     "output_type": "stream",
     "text": [
      "Axle Prediction: 2\n",
      "Validation Result: True\n",
      "Vehicle Prediction: truck\n",
      "Is Pickup Truck: no\n"
     ]
    },
    {
     "name": "stderr",
     "output_type": "stream",
     "text": [
      "Processing: truck 2:  49%|████▉     | 458/932 [05:28<10:42,  1.36s/file]"
     ]
    },
    {
     "name": "stdout",
     "output_type": "stream",
     "text": [
      "Axle Prediction: 2\n",
      "Validation Result: True\n",
      "Vehicle Prediction: truck\n",
      "Is Pickup Truck: no\n"
     ]
    },
    {
     "name": "stderr",
     "output_type": "stream",
     "text": [
      "Processing: truck 2:  49%|████▉     | 459/932 [05:30<10:30,  1.33s/file]"
     ]
    },
    {
     "name": "stdout",
     "output_type": "stream",
     "text": [
      "Axle Prediction: 3\n",
      "Validation Result: False\n",
      "Vehicle Prediction: truck\n",
      "Is Pickup Truck: no\n"
     ]
    },
    {
     "name": "stderr",
     "output_type": "stream",
     "text": [
      "Processing: truck 2:  49%|████▉     | 460/932 [05:31<10:23,  1.32s/file]"
     ]
    },
    {
     "name": "stdout",
     "output_type": "stream",
     "text": [
      "Axle Prediction: 2\n",
      "Validation Result: True\n",
      "Vehicle Prediction: truck\n",
      "Is Pickup Truck: no\n"
     ]
    },
    {
     "name": "stderr",
     "output_type": "stream",
     "text": [
      "Processing: truck 2:  49%|████▉     | 461/932 [05:32<10:26,  1.33s/file]"
     ]
    },
    {
     "name": "stdout",
     "output_type": "stream",
     "text": [
      "Axle Prediction: 2\n",
      "Validation Result: True\n",
      "Vehicle Prediction: truck\n",
      "Is Pickup Truck: no\n"
     ]
    },
    {
     "name": "stderr",
     "output_type": "stream",
     "text": [
      "Processing: truck 2:  50%|████▉     | 462/932 [05:34<10:25,  1.33s/file]"
     ]
    },
    {
     "name": "stdout",
     "output_type": "stream",
     "text": [
      "Axle Prediction: 3\n",
      "Validation Result: False\n"
     ]
    },
    {
     "name": "stderr",
     "output_type": "stream",
     "text": [
      "[codecarbon INFO @ 14:25:53] Energy consumed for RAM : 0.017270 kWh. RAM Power : 188.80178117752075 W\n",
      "[codecarbon INFO @ 14:25:53] Energy consumed for all CPUs : 0.009149 kWh. Total CPU Power : 100.0 W\n",
      "[codecarbon INFO @ 14:25:53] Energy consumed for all GPUs : 0.024164 kWh. Total GPU Power : 276.24339598429407 W\n",
      "[codecarbon INFO @ 14:25:53] 0.050584 kWh of electricity used since the beginning.\n"
     ]
    },
    {
     "name": "stdout",
     "output_type": "stream",
     "text": [
      "Vehicle Prediction: truck\n",
      "Is Pickup Truck: no\n"
     ]
    },
    {
     "name": "stderr",
     "output_type": "stream",
     "text": [
      "Processing: truck 2:  50%|████▉     | 463/932 [05:35<10:22,  1.33s/file]"
     ]
    },
    {
     "name": "stdout",
     "output_type": "stream",
     "text": [
      "Axle Prediction: 2\n",
      "Validation Result: True\n",
      "Vehicle Prediction: truck\n",
      "Is Pickup Truck: no\n"
     ]
    },
    {
     "name": "stderr",
     "output_type": "stream",
     "text": [
      "Processing: truck 2:  50%|████▉     | 464/932 [05:36<10:15,  1.31s/file]"
     ]
    },
    {
     "name": "stdout",
     "output_type": "stream",
     "text": [
      "Axle Prediction: 3\n",
      "Validation Result: False\n",
      "Vehicle Prediction: truck\n",
      "Is Pickup Truck: no\n"
     ]
    },
    {
     "name": "stderr",
     "output_type": "stream",
     "text": [
      "Processing: truck 2:  50%|████▉     | 465/932 [05:38<10:09,  1.30s/file]"
     ]
    },
    {
     "name": "stdout",
     "output_type": "stream",
     "text": [
      "Axle Prediction: 2\n",
      "Validation Result: True\n",
      "Vehicle Prediction: truck\n",
      "Is Pickup Truck: no\n"
     ]
    },
    {
     "name": "stderr",
     "output_type": "stream",
     "text": [
      "Processing: truck 2:  50%|█████     | 466/932 [05:39<10:16,  1.32s/file]"
     ]
    },
    {
     "name": "stdout",
     "output_type": "stream",
     "text": [
      "Axle Prediction: 2\n",
      "Validation Result: True\n",
      "Vehicle Prediction: truck\n",
      "Is Pickup Truck: no\n"
     ]
    },
    {
     "name": "stderr",
     "output_type": "stream",
     "text": [
      "Processing: truck 2:  50%|█████     | 467/932 [05:40<10:08,  1.31s/file]"
     ]
    },
    {
     "name": "stdout",
     "output_type": "stream",
     "text": [
      "Axle Prediction: 2\n",
      "Validation Result: True\n",
      "Vehicle Prediction: truck\n",
      "Is Pickup Truck: no\n"
     ]
    },
    {
     "name": "stderr",
     "output_type": "stream",
     "text": [
      "Processing: truck 2:  50%|█████     | 468/932 [05:42<10:23,  1.34s/file]"
     ]
    },
    {
     "name": "stdout",
     "output_type": "stream",
     "text": [
      "Axle Prediction: 2\n",
      "Validation Result: True\n",
      "Vehicle Prediction: truck\n",
      "Is Pickup Truck: no\n"
     ]
    },
    {
     "name": "stderr",
     "output_type": "stream",
     "text": [
      "Processing: truck 2:  50%|█████     | 469/932 [05:43<10:26,  1.35s/file]"
     ]
    },
    {
     "name": "stdout",
     "output_type": "stream",
     "text": [
      "Axle Prediction: 2\n",
      "Validation Result: True\n",
      "Vehicle Prediction: truck\n",
      "Is Pickup Truck: no\n"
     ]
    },
    {
     "name": "stderr",
     "output_type": "stream",
     "text": [
      "Processing: truck 2:  50%|█████     | 470/932 [05:44<10:14,  1.33s/file]"
     ]
    },
    {
     "name": "stdout",
     "output_type": "stream",
     "text": [
      "Axle Prediction: 2\n",
      "Validation Result: True\n",
      "Vehicle Prediction: truck\n",
      "Is Pickup Truck: no\n"
     ]
    },
    {
     "name": "stderr",
     "output_type": "stream",
     "text": [
      "Processing: truck 2:  51%|█████     | 471/932 [05:46<10:10,  1.32s/file]"
     ]
    },
    {
     "name": "stdout",
     "output_type": "stream",
     "text": [
      "Axle Prediction: 2\n",
      "Validation Result: True\n",
      "Vehicle Prediction: truck\n",
      "Is Pickup Truck: no\n"
     ]
    },
    {
     "name": "stderr",
     "output_type": "stream",
     "text": [
      "Processing: truck 2:  51%|█████     | 472/932 [05:47<10:07,  1.32s/file]"
     ]
    },
    {
     "name": "stdout",
     "output_type": "stream",
     "text": [
      "Axle Prediction: 2\n",
      "Validation Result: True\n",
      "Vehicle Prediction: truck\n",
      "Is Pickup Truck: no\n"
     ]
    },
    {
     "name": "stderr",
     "output_type": "stream",
     "text": [
      "Processing: truck 2:  51%|█████     | 473/932 [05:48<10:06,  1.32s/file]"
     ]
    },
    {
     "name": "stdout",
     "output_type": "stream",
     "text": [
      "Axle Prediction: 2\n",
      "Validation Result: True\n",
      "Vehicle Prediction: truck\n"
     ]
    },
    {
     "name": "stderr",
     "output_type": "stream",
     "text": [
      "[codecarbon INFO @ 14:26:08] Energy consumed for RAM : 0.018057 kWh. RAM Power : 188.80178117752075 W\n",
      "[codecarbon INFO @ 14:26:08] Energy consumed for all CPUs : 0.009566 kWh. Total CPU Power : 100.0 W\n",
      "[codecarbon INFO @ 14:26:08] Energy consumed for all GPUs : 0.025300 kWh. Total GPU Power : 272.7082484401382 W\n",
      "[codecarbon INFO @ 14:26:08] 0.052923 kWh of electricity used since the beginning.\n"
     ]
    },
    {
     "name": "stdout",
     "output_type": "stream",
     "text": [
      "Is Pickup Truck: no\n"
     ]
    },
    {
     "name": "stderr",
     "output_type": "stream",
     "text": [
      "Processing: truck 2:  51%|█████     | 474/932 [05:50<10:04,  1.32s/file]"
     ]
    },
    {
     "name": "stdout",
     "output_type": "stream",
     "text": [
      "Axle Prediction: 2\n",
      "Validation Result: True\n",
      "Vehicle Prediction: truck\n",
      "Is Pickup Truck: no\n"
     ]
    },
    {
     "name": "stderr",
     "output_type": "stream",
     "text": [
      "Processing: truck 2:  51%|█████     | 475/932 [05:51<10:11,  1.34s/file]"
     ]
    },
    {
     "name": "stdout",
     "output_type": "stream",
     "text": [
      "Axle Prediction: i\n",
      "Invalid axle prediction: i\n",
      "Validation Result: True\n",
      "Vehicle Prediction: truck\n",
      "Is Pickup Truck: no\n"
     ]
    },
    {
     "name": "stderr",
     "output_type": "stream",
     "text": [
      "Processing: truck 2:  51%|█████     | 476/932 [05:52<10:03,  1.32s/file]"
     ]
    },
    {
     "name": "stdout",
     "output_type": "stream",
     "text": [
      "Axle Prediction: 2\n",
      "Validation Result: True\n",
      "Vehicle Prediction: truck\n",
      "Is Pickup Truck: no\n"
     ]
    },
    {
     "name": "stderr",
     "output_type": "stream",
     "text": [
      "Processing: truck 2:  51%|█████     | 477/932 [05:54<10:08,  1.34s/file]"
     ]
    },
    {
     "name": "stdout",
     "output_type": "stream",
     "text": [
      "Axle Prediction: i\n",
      "Invalid axle prediction: i\n",
      "Validation Result: True\n",
      "Vehicle Prediction: truck\n",
      "Is Pickup Truck: no\n"
     ]
    },
    {
     "name": "stderr",
     "output_type": "stream",
     "text": [
      "Processing: truck 2:  51%|█████▏    | 478/932 [05:55<10:04,  1.33s/file]"
     ]
    },
    {
     "name": "stdout",
     "output_type": "stream",
     "text": [
      "Axle Prediction: 2\n",
      "Validation Result: True\n",
      "Vehicle Prediction: bus\n"
     ]
    },
    {
     "name": "stderr",
     "output_type": "stream",
     "text": [
      "Processing: truck 2:  51%|█████▏    | 479/932 [05:56<08:57,  1.19s/file]"
     ]
    },
    {
     "name": "stdout",
     "output_type": "stream",
     "text": [
      "Axle Prediction: 2<|eot_id|>\n",
      "Invalid axle prediction: 2<|eot_id|>\n",
      "Validation Result: False\n",
      "Vehicle Prediction: truck\n",
      "Is Pickup Truck: no\n"
     ]
    },
    {
     "name": "stderr",
     "output_type": "stream",
     "text": [
      "Processing: truck 2:  52%|█████▏    | 480/932 [05:57<09:13,  1.22s/file]"
     ]
    },
    {
     "name": "stdout",
     "output_type": "stream",
     "text": [
      "Axle Prediction: 2\n",
      "Validation Result: True\n",
      "Vehicle Prediction: truck\n",
      "Is Pickup Truck: no\n"
     ]
    },
    {
     "name": "stderr",
     "output_type": "stream",
     "text": [
      "Processing: truck 2:  52%|█████▏    | 481/932 [05:59<09:35,  1.28s/file]"
     ]
    },
    {
     "name": "stdout",
     "output_type": "stream",
     "text": [
      "Axle Prediction: 2\n",
      "Validation Result: True\n",
      "Vehicle Prediction: truck\n",
      "Is Pickup Truck: no\n"
     ]
    },
    {
     "name": "stderr",
     "output_type": "stream",
     "text": [
      "Processing: truck 2:  52%|█████▏    | 482/932 [06:00<09:46,  1.30s/file]"
     ]
    },
    {
     "name": "stdout",
     "output_type": "stream",
     "text": [
      "Axle Prediction: 2\n",
      "Validation Result: True\n",
      "Vehicle Prediction: truck\n",
      "Is Pickup Truck: no\n"
     ]
    },
    {
     "name": "stderr",
     "output_type": "stream",
     "text": [
      "Processing: truck 2:  52%|█████▏    | 483/932 [06:01<09:51,  1.32s/file]"
     ]
    },
    {
     "name": "stdout",
     "output_type": "stream",
     "text": [
      "Axle Prediction: 2\n",
      "Validation Result: True\n",
      "Vehicle Prediction: truck\n",
      "Is Pickup Truck: no\n"
     ]
    },
    {
     "name": "stderr",
     "output_type": "stream",
     "text": [
      "Processing: truck 2:  52%|█████▏    | 484/932 [06:03<09:45,  1.31s/file]"
     ]
    },
    {
     "name": "stdout",
     "output_type": "stream",
     "text": [
      "Axle Prediction: 2\n",
      "Validation Result: True\n",
      "Vehicle Prediction: truck\n",
      "Is Pickup Truck: no\n"
     ]
    },
    {
     "name": "stderr",
     "output_type": "stream",
     "text": [
      "Processing: truck 2:  52%|█████▏    | 485/932 [06:04<09:42,  1.30s/file][codecarbon INFO @ 14:26:23] Energy consumed for RAM : 0.018843 kWh. RAM Power : 188.80178117752075 W\n",
      "[codecarbon INFO @ 14:26:23] Energy consumed for all CPUs : 0.009982 kWh. Total CPU Power : 100.0 W\n",
      "[codecarbon INFO @ 14:26:23] Energy consumed for all GPUs : 0.026432 kWh. Total GPU Power : 271.62604784682117 W\n",
      "[codecarbon INFO @ 14:26:23] 0.055257 kWh of electricity used since the beginning.\n",
      "[codecarbon INFO @ 14:26:23] 0.070069 g.CO2eq/s mean an estimation of 2,209.7107232064595 kg.CO2eq/year\n"
     ]
    },
    {
     "name": "stdout",
     "output_type": "stream",
     "text": [
      "Axle Prediction: 3\n",
      "Validation Result: False\n",
      "Vehicle Prediction: truck\n",
      "Is Pickup Truck: no\n"
     ]
    },
    {
     "name": "stderr",
     "output_type": "stream",
     "text": [
      "Processing: truck 2:  52%|█████▏    | 486/932 [06:05<09:38,  1.30s/file]"
     ]
    },
    {
     "name": "stdout",
     "output_type": "stream",
     "text": [
      "Axle Prediction: 3\n",
      "Validation Result: False\n",
      "Vehicle Prediction: truck\n",
      "Is Pickup Truck: no\n"
     ]
    },
    {
     "name": "stderr",
     "output_type": "stream",
     "text": [
      "Processing: truck 2:  52%|█████▏    | 487/932 [06:06<09:43,  1.31s/file]"
     ]
    },
    {
     "name": "stdout",
     "output_type": "stream",
     "text": [
      "Axle Prediction: 2\n",
      "Validation Result: True\n",
      "Vehicle Prediction: truck\n",
      "Is Pickup Truck: no\n"
     ]
    },
    {
     "name": "stderr",
     "output_type": "stream",
     "text": [
      "Processing: truck 2:  52%|█████▏    | 488/932 [06:08<09:44,  1.32s/file]"
     ]
    },
    {
     "name": "stdout",
     "output_type": "stream",
     "text": [
      "Axle Prediction: 3\n",
      "Validation Result: False\n",
      "Vehicle Prediction: truck\n",
      "Is Pickup Truck: no\n"
     ]
    },
    {
     "name": "stderr",
     "output_type": "stream",
     "text": [
      "Processing: truck 2:  52%|█████▏    | 489/932 [06:09<09:44,  1.32s/file]"
     ]
    },
    {
     "name": "stdout",
     "output_type": "stream",
     "text": [
      "Axle Prediction: 2\n",
      "Validation Result: True\n",
      "Vehicle Prediction: truck\n",
      "Is Pickup Truck: no\n"
     ]
    },
    {
     "name": "stderr",
     "output_type": "stream",
     "text": [
      "Processing: truck 2:  53%|█████▎    | 490/932 [06:10<09:39,  1.31s/file]"
     ]
    },
    {
     "name": "stdout",
     "output_type": "stream",
     "text": [
      "Axle Prediction: 2\n",
      "Validation Result: True\n",
      "Vehicle Prediction: truck\n",
      "Is Pickup Truck: no\n"
     ]
    },
    {
     "name": "stderr",
     "output_type": "stream",
     "text": [
      "Processing: truck 2:  53%|█████▎    | 491/932 [06:12<09:39,  1.32s/file]"
     ]
    },
    {
     "name": "stdout",
     "output_type": "stream",
     "text": [
      "Axle Prediction: 3\n",
      "Validation Result: False\n",
      "Vehicle Prediction: truck\n",
      "Is Pickup Truck: no\n"
     ]
    },
    {
     "name": "stderr",
     "output_type": "stream",
     "text": [
      "Processing: truck 2:  53%|█████▎    | 492/932 [06:13<09:34,  1.30s/file]"
     ]
    },
    {
     "name": "stdout",
     "output_type": "stream",
     "text": [
      "Axle Prediction: 3\n",
      "Validation Result: False\n",
      "Vehicle Prediction: truck\n",
      "Is Pickup Truck: no\n"
     ]
    },
    {
     "name": "stderr",
     "output_type": "stream",
     "text": [
      "Processing: truck 2:  53%|█████▎    | 493/932 [06:14<09:28,  1.29s/file]"
     ]
    },
    {
     "name": "stdout",
     "output_type": "stream",
     "text": [
      "Axle Prediction: 2\n",
      "Validation Result: True\n",
      "Vehicle Prediction: truck\n",
      "Is Pickup Truck: no\n"
     ]
    },
    {
     "name": "stderr",
     "output_type": "stream",
     "text": [
      "Processing: truck 2:  53%|█████▎    | 494/932 [06:16<09:26,  1.29s/file]"
     ]
    },
    {
     "name": "stdout",
     "output_type": "stream",
     "text": [
      "Axle Prediction: 3\n",
      "Validation Result: False\n",
      "Vehicle Prediction: truck\n",
      "Is Pickup Truck: no\n"
     ]
    },
    {
     "name": "stderr",
     "output_type": "stream",
     "text": [
      "Processing: truck 2:  53%|█████▎    | 495/932 [06:17<09:22,  1.29s/file]"
     ]
    },
    {
     "name": "stdout",
     "output_type": "stream",
     "text": [
      "Axle Prediction: 2\n",
      "Validation Result: True\n",
      "Vehicle Prediction: truck\n",
      "Is Pickup Truck: no\n"
     ]
    },
    {
     "name": "stderr",
     "output_type": "stream",
     "text": [
      "Processing: truck 2:  53%|█████▎    | 496/932 [06:18<09:19,  1.28s/file]"
     ]
    },
    {
     "name": "stdout",
     "output_type": "stream",
     "text": [
      "Axle Prediction: 3\n",
      "Validation Result: False\n",
      "Vehicle Prediction: truck\n"
     ]
    },
    {
     "name": "stderr",
     "output_type": "stream",
     "text": [
      "[codecarbon INFO @ 14:26:38] Energy consumed for RAM : 0.019629 kWh. RAM Power : 188.80178117752075 W\n",
      "[codecarbon INFO @ 14:26:38] Energy consumed for all CPUs : 0.010399 kWh. Total CPU Power : 100.0 W\n",
      "[codecarbon INFO @ 14:26:38] Energy consumed for all GPUs : 0.027570 kWh. Total GPU Power : 273.2848153765722 W\n",
      "[codecarbon INFO @ 14:26:38] 0.057598 kWh of electricity used since the beginning.\n"
     ]
    },
    {
     "name": "stdout",
     "output_type": "stream",
     "text": [
      "Is Pickup Truck: no\n"
     ]
    },
    {
     "name": "stderr",
     "output_type": "stream",
     "text": [
      "Processing: truck 2:  53%|█████▎    | 497/932 [06:19<09:18,  1.28s/file]"
     ]
    },
    {
     "name": "stdout",
     "output_type": "stream",
     "text": [
      "Axle Prediction: 3\n",
      "Validation Result: False\n",
      "Vehicle Prediction: truck\n",
      "Is Pickup Truck: no\n"
     ]
    },
    {
     "name": "stderr",
     "output_type": "stream",
     "text": [
      "Processing: truck 2:  53%|█████▎    | 498/932 [06:21<09:15,  1.28s/file]"
     ]
    },
    {
     "name": "stdout",
     "output_type": "stream",
     "text": [
      "Axle Prediction: 2\n",
      "Validation Result: True\n",
      "Vehicle Prediction: truck\n",
      "Is Pickup Truck: no\n"
     ]
    },
    {
     "name": "stderr",
     "output_type": "stream",
     "text": [
      "Processing: truck 2:  54%|█████▎    | 499/932 [06:22<09:21,  1.30s/file]"
     ]
    },
    {
     "name": "stdout",
     "output_type": "stream",
     "text": [
      "Axle Prediction: 3\n",
      "Validation Result: False\n",
      "Vehicle Prediction: truck\n",
      "Is Pickup Truck: no\n"
     ]
    },
    {
     "name": "stderr",
     "output_type": "stream",
     "text": [
      "Processing: truck 2:  54%|█████▎    | 500/932 [06:23<09:19,  1.29s/file]"
     ]
    },
    {
     "name": "stdout",
     "output_type": "stream",
     "text": [
      "Axle Prediction: 3\n",
      "Validation Result: False\n",
      "Vehicle Prediction: truck\n",
      "Is Pickup Truck: no\n"
     ]
    },
    {
     "name": "stderr",
     "output_type": "stream",
     "text": [
      "Processing: truck 2:  54%|█████▍    | 501/932 [06:25<09:22,  1.30s/file]"
     ]
    },
    {
     "name": "stdout",
     "output_type": "stream",
     "text": [
      "Axle Prediction: 3\n",
      "Validation Result: False\n",
      "Vehicle Prediction: truck\n",
      "Is Pickup Truck: no\n"
     ]
    },
    {
     "name": "stderr",
     "output_type": "stream",
     "text": [
      "Processing: truck 2:  54%|█████▍    | 502/932 [06:26<09:20,  1.30s/file]"
     ]
    },
    {
     "name": "stdout",
     "output_type": "stream",
     "text": [
      "Axle Prediction: 3\n",
      "Validation Result: False\n",
      "Vehicle Prediction: truck\n",
      "Is Pickup Truck: no\n"
     ]
    },
    {
     "name": "stderr",
     "output_type": "stream",
     "text": [
      "Processing: truck 2:  54%|█████▍    | 503/932 [06:27<09:23,  1.31s/file]"
     ]
    },
    {
     "name": "stdout",
     "output_type": "stream",
     "text": [
      "Axle Prediction: 2\n",
      "Validation Result: True\n",
      "Vehicle Prediction: truck\n",
      "Is Pickup Truck: no\n"
     ]
    },
    {
     "name": "stderr",
     "output_type": "stream",
     "text": [
      "Processing: truck 2:  54%|█████▍    | 504/932 [06:29<09:23,  1.32s/file]"
     ]
    },
    {
     "name": "stdout",
     "output_type": "stream",
     "text": [
      "Axle Prediction: 3\n",
      "Validation Result: False\n",
      "Vehicle Prediction: truck\n",
      "Is Pickup Truck: no\n"
     ]
    },
    {
     "name": "stderr",
     "output_type": "stream",
     "text": [
      "Processing: truck 2:  54%|█████▍    | 505/932 [06:30<09:19,  1.31s/file]"
     ]
    },
    {
     "name": "stdout",
     "output_type": "stream",
     "text": [
      "Axle Prediction: 3\n",
      "Validation Result: False\n",
      "Vehicle Prediction: truck\n",
      "Is Pickup Truck: no\n"
     ]
    },
    {
     "name": "stderr",
     "output_type": "stream",
     "text": [
      "Processing: truck 2:  54%|█████▍    | 506/932 [06:31<09:21,  1.32s/file]"
     ]
    },
    {
     "name": "stdout",
     "output_type": "stream",
     "text": [
      "Axle Prediction: 3\n",
      "Validation Result: False\n",
      "Vehicle Prediction: truck\n",
      "Is Pickup Truck: no\n"
     ]
    },
    {
     "name": "stderr",
     "output_type": "stream",
     "text": [
      "Processing: truck 2:  54%|█████▍    | 507/932 [06:33<09:25,  1.33s/file]"
     ]
    },
    {
     "name": "stdout",
     "output_type": "stream",
     "text": [
      "Axle Prediction: 2\n",
      "Validation Result: True\n",
      "Vehicle Prediction: truck\n",
      "Is Pickup Truck: no\n"
     ]
    },
    {
     "name": "stderr",
     "output_type": "stream",
     "text": [
      "Processing: truck 2:  55%|█████▍    | 508/932 [06:34<09:18,  1.32s/file][codecarbon INFO @ 14:26:53] Energy consumed for RAM : 0.020416 kWh. RAM Power : 188.80178117752075 W\n",
      "[codecarbon INFO @ 14:26:53] Energy consumed for all CPUs : 0.010815 kWh. Total CPU Power : 100.0 W\n"
     ]
    },
    {
     "name": "stdout",
     "output_type": "stream",
     "text": [
      "Axle Prediction: 2\n",
      "Validation Result: True\n"
     ]
    },
    {
     "name": "stderr",
     "output_type": "stream",
     "text": [
      "[codecarbon INFO @ 14:26:53] Energy consumed for all GPUs : 0.028696 kWh. Total GPU Power : 270.3103181871039 W\n",
      "[codecarbon INFO @ 14:26:53] 0.059927 kWh of electricity used since the beginning.\n"
     ]
    },
    {
     "name": "stdout",
     "output_type": "stream",
     "text": [
      "Vehicle Prediction: truck\n",
      "Is Pickup Truck: no\n"
     ]
    },
    {
     "name": "stderr",
     "output_type": "stream",
     "text": [
      "Processing: truck 2:  55%|█████▍    | 509/932 [06:35<09:11,  1.30s/file]"
     ]
    },
    {
     "name": "stdout",
     "output_type": "stream",
     "text": [
      "Axle Prediction: 2\n",
      "Validation Result: True\n",
      "Vehicle Prediction: truck\n",
      "Is Pickup Truck: no\n"
     ]
    },
    {
     "name": "stderr",
     "output_type": "stream",
     "text": [
      "Processing: truck 2:  55%|█████▍    | 510/932 [06:36<09:09,  1.30s/file]"
     ]
    },
    {
     "name": "stdout",
     "output_type": "stream",
     "text": [
      "Axle Prediction: 3\n",
      "Validation Result: False\n",
      "Vehicle Prediction: truck\n",
      "Is Pickup Truck: no\n"
     ]
    },
    {
     "name": "stderr",
     "output_type": "stream",
     "text": [
      "Processing: truck 2:  55%|█████▍    | 511/932 [06:38<09:05,  1.30s/file]"
     ]
    },
    {
     "name": "stdout",
     "output_type": "stream",
     "text": [
      "Axle Prediction: 3\n",
      "Validation Result: False\n",
      "Vehicle Prediction: truck\n",
      "Is Pickup Truck: no\n"
     ]
    },
    {
     "name": "stderr",
     "output_type": "stream",
     "text": [
      "Processing: truck 2:  55%|█████▍    | 512/932 [06:39<09:03,  1.29s/file]"
     ]
    },
    {
     "name": "stdout",
     "output_type": "stream",
     "text": [
      "Axle Prediction: 2\n",
      "Validation Result: True\n",
      "Vehicle Prediction: truck\n",
      "Is Pickup Truck: no\n"
     ]
    },
    {
     "name": "stderr",
     "output_type": "stream",
     "text": [
      "Processing: truck 2:  55%|█████▌    | 513/932 [06:40<09:01,  1.29s/file]"
     ]
    },
    {
     "name": "stdout",
     "output_type": "stream",
     "text": [
      "Axle Prediction: 3\n",
      "Validation Result: False\n",
      "Vehicle Prediction: truck\n",
      "Is Pickup Truck: no\n"
     ]
    },
    {
     "name": "stderr",
     "output_type": "stream",
     "text": [
      "Processing: truck 2:  55%|█████▌    | 514/932 [06:42<09:15,  1.33s/file]"
     ]
    },
    {
     "name": "stdout",
     "output_type": "stream",
     "text": [
      "Axle Prediction: 2\n",
      "Validation Result: True\n",
      "Vehicle Prediction: truck\n",
      "Is Pickup Truck: no\n"
     ]
    },
    {
     "name": "stderr",
     "output_type": "stream",
     "text": [
      "Processing: truck 2:  55%|█████▌    | 515/932 [06:43<09:14,  1.33s/file]"
     ]
    },
    {
     "name": "stdout",
     "output_type": "stream",
     "text": [
      "Axle Prediction: 2\n",
      "Validation Result: True\n",
      "Vehicle Prediction: truck\n",
      "Is Pickup Truck: no\n"
     ]
    },
    {
     "name": "stderr",
     "output_type": "stream",
     "text": [
      "Processing: truck 2:  55%|█████▌    | 516/932 [06:44<09:11,  1.32s/file]"
     ]
    },
    {
     "name": "stdout",
     "output_type": "stream",
     "text": [
      "Axle Prediction: 2\n",
      "Validation Result: True\n",
      "Vehicle Prediction: truck\n",
      "Is Pickup Truck: no\n"
     ]
    },
    {
     "name": "stderr",
     "output_type": "stream",
     "text": [
      "Processing: truck 2:  55%|█████▌    | 517/932 [06:46<09:08,  1.32s/file]"
     ]
    },
    {
     "name": "stdout",
     "output_type": "stream",
     "text": [
      "Axle Prediction: 2\n",
      "Validation Result: True\n",
      "Vehicle Prediction: truck\n",
      "Is Pickup Truck: no\n"
     ]
    },
    {
     "name": "stderr",
     "output_type": "stream",
     "text": [
      "Processing: truck 2:  56%|█████▌    | 518/932 [06:47<09:12,  1.33s/file]"
     ]
    },
    {
     "name": "stdout",
     "output_type": "stream",
     "text": [
      "Axle Prediction: 2\n",
      "Validation Result: True\n",
      "Vehicle Prediction: truck\n",
      "Is Pickup Truck: no\n"
     ]
    },
    {
     "name": "stderr",
     "output_type": "stream",
     "text": [
      "Processing: truck 2:  56%|█████▌    | 519/932 [06:48<09:29,  1.38s/file]"
     ]
    },
    {
     "name": "stdout",
     "output_type": "stream",
     "text": [
      "Axle Prediction: *\n",
      "Invalid axle prediction: *\n",
      "Validation Result: True\n"
     ]
    },
    {
     "name": "stderr",
     "output_type": "stream",
     "text": [
      "[codecarbon INFO @ 14:27:08] Energy consumed for RAM : 0.021197 kWh. RAM Power : 188.80178117752075 W\n",
      "[codecarbon INFO @ 14:27:08] Energy consumed for all CPUs : 0.011229 kWh. Total CPU Power : 100.0 W\n",
      "[codecarbon INFO @ 14:27:08] Energy consumed for all GPUs : 0.029806 kWh. Total GPU Power : 268.175157219807 W\n",
      "[codecarbon INFO @ 14:27:08] 0.062232 kWh of electricity used since the beginning.\n"
     ]
    },
    {
     "name": "stdout",
     "output_type": "stream",
     "text": [
      "Vehicle Prediction: truck\n",
      "Is Pickup Truck: no\n"
     ]
    },
    {
     "name": "stderr",
     "output_type": "stream",
     "text": [
      "Processing: truck 2:  56%|█████▌    | 520/932 [06:50<09:44,  1.42s/file]"
     ]
    },
    {
     "name": "stdout",
     "output_type": "stream",
     "text": [
      "Axle Prediction: 2\n",
      "Validation Result: True\n",
      "Vehicle Prediction: truck\n",
      "Is Pickup Truck: no\n"
     ]
    },
    {
     "name": "stderr",
     "output_type": "stream",
     "text": [
      "Processing: truck 2:  56%|█████▌    | 521/932 [06:51<09:28,  1.38s/file]"
     ]
    },
    {
     "name": "stdout",
     "output_type": "stream",
     "text": [
      "Axle Prediction: 2\n",
      "Validation Result: True\n",
      "Vehicle Prediction: truck\n",
      "Is Pickup Truck: no\n"
     ]
    },
    {
     "name": "stderr",
     "output_type": "stream",
     "text": [
      "Processing: truck 2:  56%|█████▌    | 522/932 [06:53<09:35,  1.40s/file]"
     ]
    },
    {
     "name": "stdout",
     "output_type": "stream",
     "text": [
      "Axle Prediction: 2\n",
      "Validation Result: True\n",
      "Vehicle Prediction: truck\n",
      "Is Pickup Truck: no\n"
     ]
    },
    {
     "name": "stderr",
     "output_type": "stream",
     "text": [
      "Processing: truck 2:  56%|█████▌    | 523/932 [06:54<09:28,  1.39s/file]"
     ]
    },
    {
     "name": "stdout",
     "output_type": "stream",
     "text": [
      "Axle Prediction: 2\n",
      "Validation Result: True\n",
      "Vehicle Prediction: truck\n",
      "Is Pickup Truck: no\n"
     ]
    },
    {
     "name": "stderr",
     "output_type": "stream",
     "text": [
      "Processing: truck 2:  56%|█████▌    | 524/932 [06:55<09:14,  1.36s/file]"
     ]
    },
    {
     "name": "stdout",
     "output_type": "stream",
     "text": [
      "Axle Prediction: 2\n",
      "Validation Result: True\n",
      "Vehicle Prediction: bus\n"
     ]
    },
    {
     "name": "stderr",
     "output_type": "stream",
     "text": [
      "Processing: truck 2:  56%|█████▋    | 525/932 [06:56<08:10,  1.20s/file]"
     ]
    },
    {
     "name": "stdout",
     "output_type": "stream",
     "text": [
      "Axle Prediction: 3<|eot_id|>\n",
      "Invalid axle prediction: 3<|eot_id|>\n",
      "Validation Result: False\n",
      "Vehicle Prediction: truck\n",
      "Is Pickup Truck: no\n"
     ]
    },
    {
     "name": "stderr",
     "output_type": "stream",
     "text": [
      "Processing: truck 2:  56%|█████▋    | 526/932 [06:58<08:24,  1.24s/file]"
     ]
    },
    {
     "name": "stdout",
     "output_type": "stream",
     "text": [
      "Axle Prediction: 2\n",
      "Validation Result: True\n",
      "Vehicle Prediction: tanker\n"
     ]
    },
    {
     "name": "stderr",
     "output_type": "stream",
     "text": [
      "Processing: truck 2:  57%|█████▋    | 527/932 [06:58<07:34,  1.12s/file]"
     ]
    },
    {
     "name": "stdout",
     "output_type": "stream",
     "text": [
      "Axle Prediction: 2<|eot_id|>\n",
      "Invalid axle prediction: 2<|eot_id|>\n",
      "Validation Result: True\n",
      "Vehicle Prediction: bus\n"
     ]
    },
    {
     "name": "stderr",
     "output_type": "stream",
     "text": [
      "Processing: truck 2:  57%|█████▋    | 528/932 [06:59<06:59,  1.04s/file]"
     ]
    },
    {
     "name": "stdout",
     "output_type": "stream",
     "text": [
      "Axle Prediction: 3<|eot_id|>\n",
      "Invalid axle prediction: 3<|eot_id|>\n",
      "Validation Result: False\n",
      "Vehicle Prediction: truck\n",
      "Is Pickup Truck: no\n"
     ]
    },
    {
     "name": "stderr",
     "output_type": "stream",
     "text": [
      "Processing: truck 2:  57%|█████▋    | 529/932 [07:01<07:54,  1.18s/file]"
     ]
    },
    {
     "name": "stdout",
     "output_type": "stream",
     "text": [
      "Axle Prediction: 4\n",
      "Validation Result: False\n",
      "Vehicle Prediction: truck\n",
      "Is Pickup Truck: no\n"
     ]
    },
    {
     "name": "stderr",
     "output_type": "stream",
     "text": [
      "Processing: truck 2:  57%|█████▋    | 530/932 [07:02<08:13,  1.23s/file]"
     ]
    },
    {
     "name": "stdout",
     "output_type": "stream",
     "text": [
      "Axle Prediction: 2\n",
      "Validation Result: True\n",
      "Vehicle Prediction: bus\n"
     ]
    },
    {
     "name": "stderr",
     "output_type": "stream",
     "text": [
      "Processing: truck 2:  57%|█████▋    | 531/932 [07:03<07:31,  1.13s/file]"
     ]
    },
    {
     "name": "stdout",
     "output_type": "stream",
     "text": [
      "Axle Prediction: 2<|eot_id|>\n",
      "Invalid axle prediction: 2<|eot_id|>\n",
      "Validation Result: False\n",
      "Vehicle Prediction: truck\n"
     ]
    },
    {
     "name": "stderr",
     "output_type": "stream",
     "text": [
      "[codecarbon INFO @ 14:27:23] Energy consumed for RAM : 0.021983 kWh. RAM Power : 188.80178117752075 W\n",
      "[codecarbon INFO @ 14:27:23] Energy consumed for all CPUs : 0.011646 kWh. Total CPU Power : 100.0 W\n",
      "[codecarbon INFO @ 14:27:23] Energy consumed for all GPUs : 0.030908 kWh. Total GPU Power : 264.603674810916 W\n",
      "[codecarbon INFO @ 14:27:23] 0.064537 kWh of electricity used since the beginning.\n"
     ]
    },
    {
     "name": "stdout",
     "output_type": "stream",
     "text": [
      "Is Pickup Truck: no\n"
     ]
    },
    {
     "name": "stderr",
     "output_type": "stream",
     "text": [
      "Processing: truck 2:  57%|█████▋    | 532/932 [07:04<07:56,  1.19s/file]"
     ]
    },
    {
     "name": "stdout",
     "output_type": "stream",
     "text": [
      "Axle Prediction: 2\n",
      "Validation Result: True\n",
      "Vehicle Prediction: truck\n",
      "Is Pickup Truck: no\n"
     ]
    },
    {
     "name": "stderr",
     "output_type": "stream",
     "text": [
      "Processing: truck 2:  57%|█████▋    | 533/932 [07:06<08:08,  1.22s/file]"
     ]
    },
    {
     "name": "stdout",
     "output_type": "stream",
     "text": [
      "Axle Prediction: 2\n",
      "Validation Result: True\n",
      "Vehicle Prediction: truck\n",
      "Is Pickup Truck: no\n"
     ]
    },
    {
     "name": "stderr",
     "output_type": "stream",
     "text": [
      "Processing: truck 2:  57%|█████▋    | 534/932 [07:07<08:23,  1.26s/file]"
     ]
    },
    {
     "name": "stdout",
     "output_type": "stream",
     "text": [
      "Axle Prediction: 2\n",
      "Validation Result: True\n",
      "Vehicle Prediction: truck\n",
      "Is Pickup Truck: no\n"
     ]
    },
    {
     "name": "stderr",
     "output_type": "stream",
     "text": [
      "Processing: truck 2:  57%|█████▋    | 535/932 [07:08<08:42,  1.32s/file]"
     ]
    },
    {
     "name": "stdout",
     "output_type": "stream",
     "text": [
      "Axle Prediction: 2\n",
      "Validation Result: True\n",
      "Vehicle Prediction: truck\n",
      "Is Pickup Truck: no\n"
     ]
    },
    {
     "name": "stderr",
     "output_type": "stream",
     "text": [
      "Processing: truck 2:  58%|█████▊    | 536/932 [07:10<08:43,  1.32s/file]"
     ]
    },
    {
     "name": "stdout",
     "output_type": "stream",
     "text": [
      "Axle Prediction: 2\n",
      "Validation Result: True\n",
      "Vehicle Prediction: truck\n",
      "Is Pickup Truck: no\n"
     ]
    },
    {
     "name": "stderr",
     "output_type": "stream",
     "text": [
      "Processing: truck 2:  58%|█████▊    | 537/932 [07:11<08:39,  1.32s/file]"
     ]
    },
    {
     "name": "stdout",
     "output_type": "stream",
     "text": [
      "Axle Prediction: 2\n",
      "Validation Result: True\n",
      "Vehicle Prediction: truck\n",
      "Is Pickup Truck: no\n"
     ]
    },
    {
     "name": "stderr",
     "output_type": "stream",
     "text": [
      "Processing: truck 2:  58%|█████▊    | 538/932 [07:12<08:33,  1.30s/file]"
     ]
    },
    {
     "name": "stdout",
     "output_type": "stream",
     "text": [
      "Axle Prediction: 2\n",
      "Validation Result: True\n",
      "Vehicle Prediction: truck\n",
      "Is Pickup Truck: no\n"
     ]
    },
    {
     "name": "stderr",
     "output_type": "stream",
     "text": [
      "Processing: truck 2:  58%|█████▊    | 539/932 [07:14<08:46,  1.34s/file]"
     ]
    },
    {
     "name": "stdout",
     "output_type": "stream",
     "text": [
      "Axle Prediction: 2\n",
      "Validation Result: True\n",
      "Vehicle Prediction: bus\n"
     ]
    },
    {
     "name": "stderr",
     "output_type": "stream",
     "text": [
      "Processing: truck 2:  58%|█████▊    | 540/932 [07:15<07:47,  1.19s/file]"
     ]
    },
    {
     "name": "stdout",
     "output_type": "stream",
     "text": [
      "Axle Prediction: 2<|eot_id|>\n",
      "Invalid axle prediction: 2<|eot_id|>\n",
      "Validation Result: False\n",
      "Vehicle Prediction: truck\n",
      "Is Pickup Truck: no\n"
     ]
    },
    {
     "name": "stderr",
     "output_type": "stream",
     "text": [
      "Processing: truck 2:  58%|█████▊    | 541/932 [07:16<08:06,  1.25s/file]"
     ]
    },
    {
     "name": "stdout",
     "output_type": "stream",
     "text": [
      "Axle Prediction: 3\n",
      "Validation Result: False\n",
      "Vehicle Prediction: truck\n",
      "Is Pickup Truck: no\n"
     ]
    },
    {
     "name": "stderr",
     "output_type": "stream",
     "text": [
      "Processing: truck 2:  58%|█████▊    | 542/932 [07:17<08:19,  1.28s/file]"
     ]
    },
    {
     "name": "stdout",
     "output_type": "stream",
     "text": [
      "Axle Prediction: a\n",
      "Invalid axle prediction: a\n",
      "Validation Result: True\n",
      "Vehicle Prediction: truck\n",
      "Is Pickup Truck: no\n"
     ]
    },
    {
     "name": "stderr",
     "output_type": "stream",
     "text": [
      "Processing: bus 3:  58%|█████▊    | 543/932 [07:19<08:17,  1.28s/file]  "
     ]
    },
    {
     "name": "stdout",
     "output_type": "stream",
     "text": [
      "Axle Prediction: 2\n",
      "Validation Result: True\n"
     ]
    },
    {
     "name": "stderr",
     "output_type": "stream",
     "text": [
      "[codecarbon INFO @ 14:27:38] Energy consumed for RAM : 0.022769 kWh. RAM Power : 188.80178117752075 W\n",
      "[codecarbon INFO @ 14:27:38] Energy consumed for all CPUs : 0.012062 kWh. Total CPU Power : 100.0 W\n",
      "[codecarbon INFO @ 14:27:38] Energy consumed for all GPUs : 0.032028 kWh. Total GPU Power : 268.8098237887619 W\n",
      "[codecarbon INFO @ 14:27:38] 0.066859 kWh of electricity used since the beginning.\n"
     ]
    },
    {
     "name": "stdout",
     "output_type": "stream",
     "text": [
      "Vehicle Prediction: bus\n"
     ]
    },
    {
     "name": "stderr",
     "output_type": "stream",
     "text": [
      "Processing: bus 3:  58%|█████▊    | 544/932 [07:20<07:37,  1.18s/file]"
     ]
    },
    {
     "name": "stdout",
     "output_type": "stream",
     "text": [
      "Axle Prediction: 3<|eot_id|>\n",
      "Invalid axle prediction: 3<|eot_id|>\n",
      "Validation Result: True\n",
      "Vehicle Prediction: bus\n"
     ]
    },
    {
     "name": "stderr",
     "output_type": "stream",
     "text": [
      "Processing: bus 3:  58%|█████▊    | 545/932 [07:20<07:04,  1.10s/file]"
     ]
    },
    {
     "name": "stdout",
     "output_type": "stream",
     "text": [
      "Axle Prediction: 2<|eot_id|>\n",
      "Invalid axle prediction: 2<|eot_id|>\n",
      "Validation Result: True\n",
      "Vehicle Prediction: bus\n"
     ]
    },
    {
     "name": "stderr",
     "output_type": "stream",
     "text": [
      "Processing: bus 3:  59%|█████▊    | 546/932 [07:21<06:35,  1.03s/file]"
     ]
    },
    {
     "name": "stdout",
     "output_type": "stream",
     "text": [
      "Axle Prediction: 3<|eot_id|>\n",
      "Invalid axle prediction: 3<|eot_id|>\n",
      "Validation Result: True\n",
      "Vehicle Prediction: bus\n"
     ]
    },
    {
     "name": "stderr",
     "output_type": "stream",
     "text": [
      "Processing: bus 3:  59%|█████▊    | 547/932 [07:22<06:16,  1.02file/s]"
     ]
    },
    {
     "name": "stdout",
     "output_type": "stream",
     "text": [
      "Axle Prediction: 3<|eot_id|>\n",
      "Invalid axle prediction: 3<|eot_id|>\n",
      "Validation Result: True\n",
      "Vehicle Prediction: bus\n"
     ]
    },
    {
     "name": "stderr",
     "output_type": "stream",
     "text": [
      "Processing: bus 3:  59%|█████▉    | 548/932 [07:23<06:09,  1.04file/s]"
     ]
    },
    {
     "name": "stdout",
     "output_type": "stream",
     "text": [
      "Axle Prediction: 5<|eot_id|>\n",
      "Invalid axle prediction: 5<|eot_id|>\n",
      "Validation Result: True\n",
      "Vehicle Prediction: bus\n"
     ]
    },
    {
     "name": "stderr",
     "output_type": "stream",
     "text": [
      "Processing: bus 3:  59%|█████▉    | 549/932 [07:24<05:54,  1.08file/s]"
     ]
    },
    {
     "name": "stdout",
     "output_type": "stream",
     "text": [
      "Axle Prediction: 3<|eot_id|>\n",
      "Invalid axle prediction: 3<|eot_id|>\n",
      "Validation Result: True\n",
      "Vehicle Prediction: bus\n"
     ]
    },
    {
     "name": "stderr",
     "output_type": "stream",
     "text": [
      "Processing: bus 3:  59%|█████▉    | 550/932 [07:25<05:49,  1.09file/s]"
     ]
    },
    {
     "name": "stdout",
     "output_type": "stream",
     "text": [
      "Axle Prediction: has\n",
      "Invalid axle prediction: has\n",
      "Validation Result: True\n",
      "Vehicle Prediction: bus\n"
     ]
    },
    {
     "name": "stderr",
     "output_type": "stream",
     "text": [
      "Processing: bus 3:  59%|█████▉    | 551/932 [07:26<05:40,  1.12file/s]"
     ]
    },
    {
     "name": "stdout",
     "output_type": "stream",
     "text": [
      "Axle Prediction: 3<|eot_id|>\n",
      "Invalid axle prediction: 3<|eot_id|>\n",
      "Validation Result: True\n",
      "Vehicle Prediction: bus\n"
     ]
    },
    {
     "name": "stderr",
     "output_type": "stream",
     "text": [
      "Processing: bus 3:  59%|█████▉    | 552/932 [07:27<05:39,  1.12file/s]"
     ]
    },
    {
     "name": "stdout",
     "output_type": "stream",
     "text": [
      "Axle Prediction: 3\n",
      "Validation Result: True\n",
      "Vehicle Prediction: bus\n"
     ]
    },
    {
     "name": "stderr",
     "output_type": "stream",
     "text": [
      "Processing: bus 3:  59%|█████▉    | 553/932 [07:27<05:32,  1.14file/s]"
     ]
    },
    {
     "name": "stdout",
     "output_type": "stream",
     "text": [
      "Axle Prediction: 3<|eot_id|>\n",
      "Invalid axle prediction: 3<|eot_id|>\n",
      "Validation Result: True\n",
      "Vehicle Prediction: bus\n"
     ]
    },
    {
     "name": "stderr",
     "output_type": "stream",
     "text": [
      "Processing: bus 3:  59%|█████▉    | 554/932 [07:28<05:32,  1.14file/s]"
     ]
    },
    {
     "name": "stdout",
     "output_type": "stream",
     "text": [
      "Axle Prediction: 2<|eot_id|>\n",
      "Invalid axle prediction: 2<|eot_id|>\n",
      "Validation Result: True\n",
      "Vehicle Prediction: bus\n"
     ]
    },
    {
     "name": "stderr",
     "output_type": "stream",
     "text": [
      "Processing: bus 3:  60%|█████▉    | 555/932 [07:29<05:38,  1.11file/s]"
     ]
    },
    {
     "name": "stdout",
     "output_type": "stream",
     "text": [
      "Axle Prediction: 3<|eot_id|>\n",
      "Invalid axle prediction: 3<|eot_id|>\n",
      "Validation Result: True\n",
      "Vehicle Prediction: bus\n"
     ]
    },
    {
     "name": "stderr",
     "output_type": "stream",
     "text": [
      "Processing: bus 3:  60%|█████▉    | 556/932 [07:30<05:33,  1.13file/s]"
     ]
    },
    {
     "name": "stdout",
     "output_type": "stream",
     "text": [
      "Axle Prediction: 3<|eot_id|>\n",
      "Invalid axle prediction: 3<|eot_id|>\n",
      "Validation Result: True\n",
      "Vehicle Prediction: bus\n"
     ]
    },
    {
     "name": "stderr",
     "output_type": "stream",
     "text": [
      "Processing: bus 3:  60%|█████▉    | 557/932 [07:31<05:35,  1.12file/s]"
     ]
    },
    {
     "name": "stdout",
     "output_type": "stream",
     "text": [
      "Axle Prediction: has\n",
      "Invalid axle prediction: has\n",
      "Validation Result: True\n",
      "Vehicle Prediction: bus\n"
     ]
    },
    {
     "name": "stderr",
     "output_type": "stream",
     "text": [
      "Processing: bus 3:  60%|█████▉    | 558/932 [07:32<05:32,  1.13file/s]"
     ]
    },
    {
     "name": "stdout",
     "output_type": "stream",
     "text": [
      "Axle Prediction: 2<|eot_id|>\n",
      "Invalid axle prediction: 2<|eot_id|>\n",
      "Validation Result: True\n",
      "Vehicle Prediction: bus\n"
     ]
    },
    {
     "name": "stderr",
     "output_type": "stream",
     "text": [
      "Processing: bus 3:  60%|█████▉    | 559/932 [07:33<05:34,  1.12file/s]"
     ]
    },
    {
     "name": "stdout",
     "output_type": "stream",
     "text": [
      "Axle Prediction: 3<|eot_id|>\n",
      "Invalid axle prediction: 3<|eot_id|>\n",
      "Validation Result: True\n",
      "Vehicle Prediction: bus\n"
     ]
    },
    {
     "name": "stderr",
     "output_type": "stream",
     "text": [
      "Processing: bus 3:  60%|██████    | 560/932 [07:34<05:51,  1.06file/s][codecarbon INFO @ 14:27:53] Energy consumed for RAM : 0.023556 kWh. RAM Power : 188.80178117752075 W\n",
      "[codecarbon INFO @ 14:27:53] Energy consumed for all CPUs : 0.012479 kWh. Total CPU Power : 100.0 W\n",
      "[codecarbon INFO @ 14:27:53] Energy consumed for all GPUs : 0.033139 kWh. Total GPU Power : 266.7749995340954 W\n",
      "[codecarbon INFO @ 14:27:53] 0.069173 kWh of electricity used since the beginning.\n"
     ]
    },
    {
     "name": "stdout",
     "output_type": "stream",
     "text": [
      "Axle Prediction: 3<|eot_id|>\n",
      "Invalid axle prediction: 3<|eot_id|>\n",
      "Validation Result: True\n",
      "Vehicle Prediction: bus\n"
     ]
    },
    {
     "name": "stderr",
     "output_type": "stream",
     "text": [
      "Processing: bus 3:  60%|██████    | 561/932 [07:35<05:37,  1.10file/s]"
     ]
    },
    {
     "name": "stdout",
     "output_type": "stream",
     "text": [
      "Axle Prediction: 3<|eot_id|>\n",
      "Invalid axle prediction: 3<|eot_id|>\n",
      "Validation Result: True\n",
      "Vehicle Prediction: bus\n"
     ]
    },
    {
     "name": "stderr",
     "output_type": "stream",
     "text": [
      "Processing: bus 3:  60%|██████    | 562/932 [07:36<05:32,  1.11file/s]"
     ]
    },
    {
     "name": "stdout",
     "output_type": "stream",
     "text": [
      "Axle Prediction: 3<|eot_id|>\n",
      "Invalid axle prediction: 3<|eot_id|>\n",
      "Validation Result: True\n",
      "Vehicle Prediction: bus\n"
     ]
    },
    {
     "name": "stderr",
     "output_type": "stream",
     "text": [
      "Processing: bus 3:  60%|██████    | 563/932 [07:36<05:27,  1.13file/s]"
     ]
    },
    {
     "name": "stdout",
     "output_type": "stream",
     "text": [
      "Axle Prediction: 3<|eot_id|>\n",
      "Invalid axle prediction: 3<|eot_id|>\n",
      "Validation Result: True\n",
      "Vehicle Prediction: bus\n"
     ]
    },
    {
     "name": "stderr",
     "output_type": "stream",
     "text": [
      "Processing: bus 3:  61%|██████    | 564/932 [07:37<05:29,  1.12file/s]"
     ]
    },
    {
     "name": "stdout",
     "output_type": "stream",
     "text": [
      "Axle Prediction: has\n",
      "Invalid axle prediction: has\n",
      "Validation Result: True\n",
      "Vehicle Prediction: bus\n"
     ]
    },
    {
     "name": "stderr",
     "output_type": "stream",
     "text": [
      "Processing: bus 3:  61%|██████    | 565/932 [07:38<05:23,  1.13file/s]"
     ]
    },
    {
     "name": "stdout",
     "output_type": "stream",
     "text": [
      "Axle Prediction: 3<|eot_id|>\n",
      "Invalid axle prediction: 3<|eot_id|>\n",
      "Validation Result: True\n",
      "Vehicle Prediction: bus\n"
     ]
    },
    {
     "name": "stderr",
     "output_type": "stream",
     "text": [
      "Processing: bus 3:  61%|██████    | 566/932 [07:39<05:27,  1.12file/s]"
     ]
    },
    {
     "name": "stdout",
     "output_type": "stream",
     "text": [
      "Axle Prediction: has\n",
      "Invalid axle prediction: has\n",
      "Validation Result: True\n",
      "Vehicle Prediction: bus\n"
     ]
    },
    {
     "name": "stderr",
     "output_type": "stream",
     "text": [
      "Processing: bus 3:  61%|██████    | 567/932 [07:40<05:23,  1.13file/s]"
     ]
    },
    {
     "name": "stdout",
     "output_type": "stream",
     "text": [
      "Axle Prediction: 3<|eot_id|>\n",
      "Invalid axle prediction: 3<|eot_id|>\n",
      "Validation Result: True\n",
      "Vehicle Prediction: bus\n"
     ]
    },
    {
     "name": "stderr",
     "output_type": "stream",
     "text": [
      "Processing: bus 3:  61%|██████    | 568/932 [07:41<05:25,  1.12file/s]"
     ]
    },
    {
     "name": "stdout",
     "output_type": "stream",
     "text": [
      "Axle Prediction: in\n",
      "Invalid axle prediction: in\n",
      "Validation Result: True\n",
      "Vehicle Prediction: bus\n"
     ]
    },
    {
     "name": "stderr",
     "output_type": "stream",
     "text": [
      "Processing: bus 3:  61%|██████    | 569/932 [07:42<05:22,  1.13file/s]"
     ]
    },
    {
     "name": "stdout",
     "output_type": "stream",
     "text": [
      "Axle Prediction: 3<|eot_id|>\n",
      "Invalid axle prediction: 3<|eot_id|>\n",
      "Validation Result: True\n",
      "Vehicle Prediction: bus\n"
     ]
    },
    {
     "name": "stderr",
     "output_type": "stream",
     "text": [
      "Processing: bus 3:  61%|██████    | 570/932 [07:43<05:22,  1.12file/s]"
     ]
    },
    {
     "name": "stdout",
     "output_type": "stream",
     "text": [
      "Axle Prediction: has\n",
      "Invalid axle prediction: has\n",
      "Validation Result: True\n",
      "Vehicle Prediction: bus\n"
     ]
    },
    {
     "name": "stderr",
     "output_type": "stream",
     "text": [
      "Processing: bus 3:  61%|██████▏   | 571/932 [07:44<05:16,  1.14file/s]"
     ]
    },
    {
     "name": "stdout",
     "output_type": "stream",
     "text": [
      "Axle Prediction: 4<|eot_id|>\n",
      "Invalid axle prediction: 4<|eot_id|>\n",
      "Validation Result: True\n",
      "Vehicle Prediction: bus\n"
     ]
    },
    {
     "name": "stderr",
     "output_type": "stream",
     "text": [
      "Processing: bus 3:  61%|██████▏   | 572/932 [07:44<05:13,  1.15file/s]"
     ]
    },
    {
     "name": "stdout",
     "output_type": "stream",
     "text": [
      "Axle Prediction: 3<|eot_id|>\n",
      "Invalid axle prediction: 3<|eot_id|>\n",
      "Validation Result: True\n",
      "Vehicle Prediction: bus\n"
     ]
    },
    {
     "name": "stderr",
     "output_type": "stream",
     "text": [
      "Processing: bus 3:  61%|██████▏   | 573/932 [07:45<05:12,  1.15file/s]"
     ]
    },
    {
     "name": "stdout",
     "output_type": "stream",
     "text": [
      "Axle Prediction: 3<|eot_id|>\n",
      "Invalid axle prediction: 3<|eot_id|>\n",
      "Validation Result: True\n",
      "Vehicle Prediction: bus\n"
     ]
    },
    {
     "name": "stderr",
     "output_type": "stream",
     "text": [
      "Processing: bus 3:  62%|██████▏   | 574/932 [07:46<05:15,  1.14file/s]"
     ]
    },
    {
     "name": "stdout",
     "output_type": "stream",
     "text": [
      "Axle Prediction: 3<|eot_id|>\n",
      "Invalid axle prediction: 3<|eot_id|>\n",
      "Validation Result: True\n",
      "Vehicle Prediction: bus\n"
     ]
    },
    {
     "name": "stderr",
     "output_type": "stream",
     "text": [
      "Processing: bus 3:  62%|██████▏   | 575/932 [07:47<05:16,  1.13file/s]"
     ]
    },
    {
     "name": "stdout",
     "output_type": "stream",
     "text": [
      "Axle Prediction: 3<|eot_id|>\n",
      "Invalid axle prediction: 3<|eot_id|>\n",
      "Validation Result: True\n",
      "Vehicle Prediction: bus\n"
     ]
    },
    {
     "name": "stderr",
     "output_type": "stream",
     "text": [
      "Processing: bus 3:  62%|██████▏   | 576/932 [07:48<05:12,  1.14file/s]"
     ]
    },
    {
     "name": "stdout",
     "output_type": "stream",
     "text": [
      "Axle Prediction: 3<|eot_id|>\n",
      "Invalid axle prediction: 3<|eot_id|>\n",
      "Validation Result: True\n"
     ]
    },
    {
     "name": "stderr",
     "output_type": "stream",
     "text": [
      "[codecarbon INFO @ 14:28:08] Energy consumed for RAM : 0.024343 kWh. RAM Power : 188.80178117752075 W\n",
      "[codecarbon INFO @ 14:28:08] Energy consumed for all CPUs : 0.012896 kWh. Total CPU Power : 100.0 W\n",
      "[codecarbon INFO @ 14:28:08] Energy consumed for all GPUs : 0.034253 kWh. Total GPU Power : 267.04174547541317 W\n",
      "[codecarbon INFO @ 14:28:08] 0.071491 kWh of electricity used since the beginning.\n"
     ]
    },
    {
     "name": "stdout",
     "output_type": "stream",
     "text": [
      "Vehicle Prediction: bus\n"
     ]
    },
    {
     "name": "stderr",
     "output_type": "stream",
     "text": [
      "Processing: bus 3:  62%|██████▏   | 577/932 [07:50<07:26,  1.26s/file]"
     ]
    },
    {
     "name": "stdout",
     "output_type": "stream",
     "text": [
      "Axle Prediction: has\n",
      "Invalid axle prediction: has\n",
      "Validation Result: True\n",
      "Vehicle Prediction: bus\n"
     ]
    },
    {
     "name": "stderr",
     "output_type": "stream",
     "text": [
      "Processing: bus 3:  62%|██████▏   | 578/932 [07:51<06:46,  1.15s/file]"
     ]
    },
    {
     "name": "stdout",
     "output_type": "stream",
     "text": [
      "Axle Prediction: 2<|eot_id|>\n",
      "Invalid axle prediction: 2<|eot_id|>\n",
      "Validation Result: True\n",
      "Vehicle Prediction: bus\n"
     ]
    },
    {
     "name": "stderr",
     "output_type": "stream",
     "text": [
      "Processing: bus 3:  62%|██████▏   | 579/932 [07:52<06:14,  1.06s/file]"
     ]
    },
    {
     "name": "stdout",
     "output_type": "stream",
     "text": [
      "Axle Prediction: 3<|eot_id|>\n",
      "Invalid axle prediction: 3<|eot_id|>\n",
      "Validation Result: True\n",
      "Vehicle Prediction: bus\n"
     ]
    },
    {
     "name": "stderr",
     "output_type": "stream",
     "text": [
      "Processing: bus 3:  62%|██████▏   | 580/932 [07:53<06:02,  1.03s/file]"
     ]
    },
    {
     "name": "stdout",
     "output_type": "stream",
     "text": [
      "Axle Prediction: 3<|eot_id|>\n",
      "Invalid axle prediction: 3<|eot_id|>\n",
      "Validation Result: True\n",
      "Vehicle Prediction: bus\n"
     ]
    },
    {
     "name": "stderr",
     "output_type": "stream",
     "text": [
      "Processing: bus 3:  62%|██████▏   | 581/932 [07:54<05:51,  1.00s/file]"
     ]
    },
    {
     "name": "stdout",
     "output_type": "stream",
     "text": [
      "Axle Prediction: has\n",
      "Invalid axle prediction: has\n",
      "Validation Result: True\n",
      "Vehicle Prediction: bus\n"
     ]
    },
    {
     "name": "stderr",
     "output_type": "stream",
     "text": [
      "Processing: bus 3:  62%|██████▏   | 582/932 [07:55<06:28,  1.11s/file]"
     ]
    },
    {
     "name": "stdout",
     "output_type": "stream",
     "text": [
      "Axle Prediction: 3<|eot_id|>\n",
      "Invalid axle prediction: 3<|eot_id|>\n",
      "Validation Result: True\n",
      "Vehicle Prediction: bus\n"
     ]
    },
    {
     "name": "stderr",
     "output_type": "stream",
     "text": [
      "Processing: bus 3:  63%|██████▎   | 583/932 [07:56<06:07,  1.05s/file]"
     ]
    },
    {
     "name": "stdout",
     "output_type": "stream",
     "text": [
      "Axle Prediction: 2<|eot_id|>\n",
      "Invalid axle prediction: 2<|eot_id|>\n",
      "Validation Result: True\n",
      "Vehicle Prediction: bus\n"
     ]
    },
    {
     "name": "stderr",
     "output_type": "stream",
     "text": [
      "Processing: bus 3:  63%|██████▎   | 584/932 [07:57<06:07,  1.06s/file]"
     ]
    },
    {
     "name": "stdout",
     "output_type": "stream",
     "text": [
      "Axle Prediction: has\n",
      "Invalid axle prediction: has\n",
      "Validation Result: True\n",
      "Vehicle Prediction: bus\n"
     ]
    },
    {
     "name": "stderr",
     "output_type": "stream",
     "text": [
      "Processing: bus 3:  63%|██████▎   | 585/932 [07:58<05:58,  1.03s/file]"
     ]
    },
    {
     "name": "stdout",
     "output_type": "stream",
     "text": [
      "Axle Prediction: 3<|eot_id|>\n",
      "Invalid axle prediction: 3<|eot_id|>\n",
      "Validation Result: True\n",
      "Vehicle Prediction: bus\n"
     ]
    },
    {
     "name": "stderr",
     "output_type": "stream",
     "text": [
      "Processing: bus 3:  63%|██████▎   | 586/932 [07:59<05:55,  1.03s/file]"
     ]
    },
    {
     "name": "stdout",
     "output_type": "stream",
     "text": [
      "Axle Prediction: has\n",
      "Invalid axle prediction: has\n",
      "Validation Result: True\n",
      "Vehicle Prediction: bus\n"
     ]
    },
    {
     "name": "stderr",
     "output_type": "stream",
     "text": [
      "Processing: bus 3:  63%|██████▎   | 587/932 [08:00<05:41,  1.01file/s]"
     ]
    },
    {
     "name": "stdout",
     "output_type": "stream",
     "text": [
      "Axle Prediction: 3<|eot_id|>\n",
      "Invalid axle prediction: 3<|eot_id|>\n",
      "Validation Result: True\n",
      "Vehicle Prediction: bus\n"
     ]
    },
    {
     "name": "stderr",
     "output_type": "stream",
     "text": [
      "Processing: bus 3:  63%|██████▎   | 588/932 [08:01<05:28,  1.05file/s]"
     ]
    },
    {
     "name": "stdout",
     "output_type": "stream",
     "text": [
      "Axle Prediction: 5<|eot_id|>\n",
      "Invalid axle prediction: 5<|eot_id|>\n",
      "Validation Result: True\n",
      "Vehicle Prediction: bus\n"
     ]
    },
    {
     "name": "stderr",
     "output_type": "stream",
     "text": [
      "Processing: bus 3:  63%|██████▎   | 589/932 [08:02<05:52,  1.03s/file]"
     ]
    },
    {
     "name": "stdout",
     "output_type": "stream",
     "text": [
      "Axle Prediction: 3<|eot_id|>\n",
      "Invalid axle prediction: 3<|eot_id|>\n",
      "Validation Result: True\n",
      "Vehicle Prediction: bus\n"
     ]
    },
    {
     "name": "stderr",
     "output_type": "stream",
     "text": [
      "Processing: bus 3:  63%|██████▎   | 590/932 [08:03<05:38,  1.01file/s]"
     ]
    },
    {
     "name": "stdout",
     "output_type": "stream",
     "text": [
      "Axle Prediction: 3<|eot_id|>\n",
      "Invalid axle prediction: 3<|eot_id|>\n",
      "Validation Result: True\n",
      "Vehicle Prediction: bus\n"
     ]
    },
    {
     "name": "stderr",
     "output_type": "stream",
     "text": [
      "[codecarbon INFO @ 14:28:23] Energy consumed for RAM : 0.025129 kWh. RAM Power : 188.80178117752075 W\n",
      "[codecarbon INFO @ 14:28:23] Energy consumed for all CPUs : 0.013312 kWh. Total CPU Power : 100.0 W\n",
      "[codecarbon INFO @ 14:28:23] Energy consumed for all GPUs : 0.035286 kWh. Total GPU Power : 248.06935726309334 W\n",
      "[codecarbon INFO @ 14:28:23] 0.073727 kWh of electricity used since the beginning.\n",
      "Processing: bus 3:  63%|██████▎   | 591/932 [08:04<06:04,  1.07s/file][codecarbon INFO @ 14:28:23] 0.069115 g.CO2eq/s mean an estimation of 2,179.614262827508 kg.CO2eq/year\n"
     ]
    },
    {
     "name": "stdout",
     "output_type": "stream",
     "text": [
      "Axle Prediction: 3<|eot_id|>\n",
      "Invalid axle prediction: 3<|eot_id|>\n",
      "Validation Result: True\n",
      "Vehicle Prediction: bus\n"
     ]
    },
    {
     "name": "stderr",
     "output_type": "stream",
     "text": [
      "Processing: bus 3:  64%|██████▎   | 592/932 [08:05<05:48,  1.03s/file]"
     ]
    },
    {
     "name": "stdout",
     "output_type": "stream",
     "text": [
      "Axle Prediction: 3<|eot_id|>\n",
      "Invalid axle prediction: 3<|eot_id|>\n",
      "Validation Result: True\n",
      "Vehicle Prediction: bus\n"
     ]
    },
    {
     "name": "stderr",
     "output_type": "stream",
     "text": [
      "Processing: bus 3:  64%|██████▎   | 593/932 [08:06<05:32,  1.02file/s]"
     ]
    },
    {
     "name": "stdout",
     "output_type": "stream",
     "text": [
      "Axle Prediction: 3<|eot_id|>\n",
      "Invalid axle prediction: 3<|eot_id|>\n",
      "Validation Result: True\n",
      "Vehicle Prediction: bus\n"
     ]
    },
    {
     "name": "stderr",
     "output_type": "stream",
     "text": [
      "Processing: bus 3:  64%|██████▎   | 594/932 [08:07<05:22,  1.05file/s]"
     ]
    },
    {
     "name": "stdout",
     "output_type": "stream",
     "text": [
      "Axle Prediction: 3<|eot_id|>\n",
      "Invalid axle prediction: 3<|eot_id|>\n",
      "Validation Result: True\n",
      "Vehicle Prediction: bus\n"
     ]
    },
    {
     "name": "stderr",
     "output_type": "stream",
     "text": [
      "Processing: bus 3:  64%|██████▍   | 595/932 [08:08<05:09,  1.09file/s]"
     ]
    },
    {
     "name": "stdout",
     "output_type": "stream",
     "text": [
      "Axle Prediction: 3<|eot_id|>\n",
      "Invalid axle prediction: 3<|eot_id|>\n",
      "Validation Result: True\n",
      "Vehicle Prediction: bus\n"
     ]
    },
    {
     "name": "stderr",
     "output_type": "stream",
     "text": [
      "Processing: bus 3:  64%|██████▍   | 596/932 [08:09<05:00,  1.12file/s]"
     ]
    },
    {
     "name": "stdout",
     "output_type": "stream",
     "text": [
      "Axle Prediction: 3<|eot_id|>\n",
      "Invalid axle prediction: 3<|eot_id|>\n",
      "Validation Result: True\n",
      "Vehicle Prediction: bus\n"
     ]
    },
    {
     "name": "stderr",
     "output_type": "stream",
     "text": [
      "Processing: bus 3:  64%|██████▍   | 597/932 [08:09<04:54,  1.14file/s]"
     ]
    },
    {
     "name": "stdout",
     "output_type": "stream",
     "text": [
      "Axle Prediction: 3<|eot_id|>\n",
      "Invalid axle prediction: 3<|eot_id|>\n",
      "Validation Result: True\n",
      "Vehicle Prediction: bus\n"
     ]
    },
    {
     "name": "stderr",
     "output_type": "stream",
     "text": [
      "Processing: bus 3:  64%|██████▍   | 598/932 [08:10<04:49,  1.16file/s]"
     ]
    },
    {
     "name": "stdout",
     "output_type": "stream",
     "text": [
      "Axle Prediction: 3<|eot_id|>\n",
      "Invalid axle prediction: 3<|eot_id|>\n",
      "Validation Result: True\n",
      "Vehicle Prediction: bus\n"
     ]
    },
    {
     "name": "stderr",
     "output_type": "stream",
     "text": [
      "Processing: bus 3:  64%|██████▍   | 599/932 [08:11<04:46,  1.16file/s]"
     ]
    },
    {
     "name": "stdout",
     "output_type": "stream",
     "text": [
      "Axle Prediction: 3<|eot_id|>\n",
      "Invalid axle prediction: 3<|eot_id|>\n",
      "Validation Result: True\n",
      "Vehicle Prediction: bus\n"
     ]
    },
    {
     "name": "stderr",
     "output_type": "stream",
     "text": [
      "Processing: bus 3:  64%|██████▍   | 600/932 [08:12<04:43,  1.17file/s]"
     ]
    },
    {
     "name": "stdout",
     "output_type": "stream",
     "text": [
      "Axle Prediction: 2<|eot_id|>\n",
      "Invalid axle prediction: 2<|eot_id|>\n",
      "Validation Result: True\n",
      "Vehicle Prediction: bus\n"
     ]
    },
    {
     "name": "stderr",
     "output_type": "stream",
     "text": [
      "Processing: bus 3:  64%|██████▍   | 601/932 [08:13<04:42,  1.17file/s]"
     ]
    },
    {
     "name": "stdout",
     "output_type": "stream",
     "text": [
      "Axle Prediction: 3<|eot_id|>\n",
      "Invalid axle prediction: 3<|eot_id|>\n",
      "Validation Result: True\n",
      "Vehicle Prediction: bus\n"
     ]
    },
    {
     "name": "stderr",
     "output_type": "stream",
     "text": [
      "Processing: bus 3:  65%|██████▍   | 602/932 [08:14<04:41,  1.17file/s]"
     ]
    },
    {
     "name": "stdout",
     "output_type": "stream",
     "text": [
      "Axle Prediction: 3<|eot_id|>\n",
      "Invalid axle prediction: 3<|eot_id|>\n",
      "Validation Result: True\n",
      "Vehicle Prediction: bus\n"
     ]
    },
    {
     "name": "stderr",
     "output_type": "stream",
     "text": [
      "Processing: bus 3:  65%|██████▍   | 603/932 [08:14<04:38,  1.18file/s]"
     ]
    },
    {
     "name": "stdout",
     "output_type": "stream",
     "text": [
      "Axle Prediction: 3<|eot_id|>\n",
      "Invalid axle prediction: 3<|eot_id|>\n",
      "Validation Result: True\n",
      "Vehicle Prediction: bus\n"
     ]
    },
    {
     "name": "stderr",
     "output_type": "stream",
     "text": [
      "Processing: bus 3:  65%|██████▍   | 604/932 [08:15<04:45,  1.15file/s]"
     ]
    },
    {
     "name": "stdout",
     "output_type": "stream",
     "text": [
      "Axle Prediction: has\n",
      "Invalid axle prediction: has\n",
      "Validation Result: True\n",
      "Vehicle Prediction: bus\n"
     ]
    },
    {
     "name": "stderr",
     "output_type": "stream",
     "text": [
      "Processing: bus 3:  65%|██████▍   | 605/932 [08:16<04:41,  1.16file/s]"
     ]
    },
    {
     "name": "stdout",
     "output_type": "stream",
     "text": [
      "Axle Prediction: 3<|eot_id|>\n",
      "Invalid axle prediction: 3<|eot_id|>\n",
      "Validation Result: True\n",
      "Vehicle Prediction: bus\n"
     ]
    },
    {
     "name": "stderr",
     "output_type": "stream",
     "text": [
      "Processing: bus 3:  65%|██████▌   | 606/932 [08:17<04:44,  1.15file/s]"
     ]
    },
    {
     "name": "stdout",
     "output_type": "stream",
     "text": [
      "Axle Prediction: has\n",
      "Invalid axle prediction: has\n",
      "Validation Result: True\n",
      "Vehicle Prediction: bus\n"
     ]
    },
    {
     "name": "stderr",
     "output_type": "stream",
     "text": [
      "Processing: bus 3:  65%|██████▌   | 607/932 [08:18<04:39,  1.16file/s]"
     ]
    },
    {
     "name": "stdout",
     "output_type": "stream",
     "text": [
      "Axle Prediction: 3<|eot_id|>\n",
      "Invalid axle prediction: 3<|eot_id|>\n",
      "Validation Result: True\n",
      "Vehicle Prediction: bus\n"
     ]
    },
    {
     "name": "stderr",
     "output_type": "stream",
     "text": [
      "Processing: bus 3:  65%|██████▌   | 608/932 [08:19<04:35,  1.18file/s]"
     ]
    },
    {
     "name": "stdout",
     "output_type": "stream",
     "text": [
      "Axle Prediction: 3<|eot_id|>\n",
      "Invalid axle prediction: 3<|eot_id|>\n",
      "Validation Result: True\n"
     ]
    },
    {
     "name": "stderr",
     "output_type": "stream",
     "text": [
      "[codecarbon INFO @ 14:28:38] Energy consumed for RAM : 0.025907 kWh. RAM Power : 188.80178117752075 W\n",
      "[codecarbon INFO @ 14:28:38] Energy consumed for all CPUs : 0.013724 kWh. Total CPU Power : 100.0 W\n",
      "[codecarbon INFO @ 14:28:38] Energy consumed for all GPUs : 0.036425 kWh. Total GPU Power : 276.3086852589538 W\n",
      "[codecarbon INFO @ 14:28:38] 0.076056 kWh of electricity used since the beginning.\n"
     ]
    },
    {
     "name": "stdout",
     "output_type": "stream",
     "text": [
      "Vehicle Prediction: bus\n"
     ]
    },
    {
     "name": "stderr",
     "output_type": "stream",
     "text": [
      "Processing: bus 3:  65%|██████▌   | 609/932 [08:20<04:33,  1.18file/s]"
     ]
    },
    {
     "name": "stdout",
     "output_type": "stream",
     "text": [
      "Axle Prediction: 3<|eot_id|>\n",
      "Invalid axle prediction: 3<|eot_id|>\n",
      "Validation Result: True\n",
      "Vehicle Prediction: bus\n"
     ]
    },
    {
     "name": "stderr",
     "output_type": "stream",
     "text": [
      "Processing: bus 3:  65%|██████▌   | 610/932 [08:20<04:36,  1.16file/s]"
     ]
    },
    {
     "name": "stdout",
     "output_type": "stream",
     "text": [
      "Axle Prediction: has\n",
      "Invalid axle prediction: has\n",
      "Validation Result: True\n",
      "Vehicle Prediction: bus\n"
     ]
    },
    {
     "name": "stderr",
     "output_type": "stream",
     "text": [
      "Processing: bus 3:  66%|██████▌   | 611/932 [08:21<04:33,  1.17file/s]"
     ]
    },
    {
     "name": "stdout",
     "output_type": "stream",
     "text": [
      "Axle Prediction: 4<|eot_id|>\n",
      "Invalid axle prediction: 4<|eot_id|>\n",
      "Validation Result: True\n",
      "Vehicle Prediction: bus\n"
     ]
    },
    {
     "name": "stderr",
     "output_type": "stream",
     "text": [
      "Processing: bus 3:  66%|██████▌   | 612/932 [08:22<04:30,  1.18file/s]"
     ]
    },
    {
     "name": "stdout",
     "output_type": "stream",
     "text": [
      "Axle Prediction: 4<|eot_id|>\n",
      "Invalid axle prediction: 4<|eot_id|>\n",
      "Validation Result: True\n",
      "Vehicle Prediction: bus\n"
     ]
    },
    {
     "name": "stderr",
     "output_type": "stream",
     "text": [
      "Processing: bus 3:  66%|██████▌   | 613/932 [08:23<04:33,  1.17file/s]"
     ]
    },
    {
     "name": "stdout",
     "output_type": "stream",
     "text": [
      "Axle Prediction: has\n",
      "Invalid axle prediction: has\n",
      "Validation Result: True\n",
      "Vehicle Prediction: bus\n"
     ]
    },
    {
     "name": "stderr",
     "output_type": "stream",
     "text": [
      "Processing: bus 3:  66%|██████▌   | 614/932 [08:24<04:31,  1.17file/s]"
     ]
    },
    {
     "name": "stdout",
     "output_type": "stream",
     "text": [
      "Axle Prediction: 3<|eot_id|>\n",
      "Invalid axle prediction: 3<|eot_id|>\n",
      "Validation Result: True\n",
      "Vehicle Prediction: bus\n"
     ]
    },
    {
     "name": "stderr",
     "output_type": "stream",
     "text": [
      "Processing: bus 3:  66%|██████▌   | 615/932 [08:25<04:28,  1.18file/s]"
     ]
    },
    {
     "name": "stdout",
     "output_type": "stream",
     "text": [
      "Axle Prediction: 3<|eot_id|>\n",
      "Invalid axle prediction: 3<|eot_id|>\n",
      "Validation Result: True\n",
      "Vehicle Prediction: bus\n"
     ]
    },
    {
     "name": "stderr",
     "output_type": "stream",
     "text": [
      "Processing: bus 3:  66%|██████▌   | 616/932 [08:26<04:28,  1.18file/s]"
     ]
    },
    {
     "name": "stdout",
     "output_type": "stream",
     "text": [
      "Axle Prediction: 3<|eot_id|>\n",
      "Invalid axle prediction: 3<|eot_id|>\n",
      "Validation Result: True\n",
      "Vehicle Prediction: bus\n"
     ]
    },
    {
     "name": "stderr",
     "output_type": "stream",
     "text": [
      "Processing: bus 3:  66%|██████▌   | 617/932 [08:26<04:26,  1.18file/s]"
     ]
    },
    {
     "name": "stdout",
     "output_type": "stream",
     "text": [
      "Axle Prediction: 3<|eot_id|>\n",
      "Invalid axle prediction: 3<|eot_id|>\n",
      "Validation Result: True\n",
      "Vehicle Prediction: bus\n"
     ]
    },
    {
     "name": "stderr",
     "output_type": "stream",
     "text": [
      "Processing: bus 3:  66%|██████▋   | 618/932 [08:27<04:25,  1.18file/s]"
     ]
    },
    {
     "name": "stdout",
     "output_type": "stream",
     "text": [
      "Axle Prediction: 3<|eot_id|>\n",
      "Invalid axle prediction: 3<|eot_id|>\n",
      "Validation Result: True\n",
      "Vehicle Prediction: bus\n"
     ]
    },
    {
     "name": "stderr",
     "output_type": "stream",
     "text": [
      "Processing: bus 3:  66%|██████▋   | 619/932 [08:28<04:25,  1.18file/s]"
     ]
    },
    {
     "name": "stdout",
     "output_type": "stream",
     "text": [
      "Axle Prediction: 3<|eot_id|>\n",
      "Invalid axle prediction: 3<|eot_id|>\n",
      "Validation Result: True\n",
      "Vehicle Prediction: bus\n"
     ]
    },
    {
     "name": "stderr",
     "output_type": "stream",
     "text": [
      "Processing: bus 3:  67%|██████▋   | 620/932 [08:29<04:28,  1.16file/s]"
     ]
    },
    {
     "name": "stdout",
     "output_type": "stream",
     "text": [
      "Axle Prediction: in\n",
      "Invalid axle prediction: in\n",
      "Validation Result: True\n",
      "Vehicle Prediction: bus\n"
     ]
    },
    {
     "name": "stderr",
     "output_type": "stream",
     "text": [
      "Processing: bus 3:  67%|██████▋   | 621/932 [08:30<04:27,  1.16file/s]"
     ]
    },
    {
     "name": "stdout",
     "output_type": "stream",
     "text": [
      "Axle Prediction: 3<|eot_id|>\n",
      "Invalid axle prediction: 3<|eot_id|>\n",
      "Validation Result: True\n",
      "Vehicle Prediction: bus\n"
     ]
    },
    {
     "name": "stderr",
     "output_type": "stream",
     "text": [
      "Processing: bus 3:  67%|██████▋   | 622/932 [08:31<04:30,  1.15file/s]"
     ]
    },
    {
     "name": "stdout",
     "output_type": "stream",
     "text": [
      "Axle Prediction: has\n",
      "Invalid axle prediction: has\n",
      "Validation Result: True\n",
      "Vehicle Prediction: bus\n"
     ]
    },
    {
     "name": "stderr",
     "output_type": "stream",
     "text": [
      "Processing: bus 3:  67%|██████▋   | 623/932 [08:32<04:27,  1.16file/s]"
     ]
    },
    {
     "name": "stdout",
     "output_type": "stream",
     "text": [
      "Axle Prediction: 3<|eot_id|>\n",
      "Invalid axle prediction: 3<|eot_id|>\n",
      "Validation Result: True\n",
      "Vehicle Prediction: bus\n"
     ]
    },
    {
     "name": "stderr",
     "output_type": "stream",
     "text": [
      "Processing: bus 3:  67%|██████▋   | 624/932 [08:33<04:29,  1.14file/s]"
     ]
    },
    {
     "name": "stdout",
     "output_type": "stream",
     "text": [
      "Axle Prediction: has\n",
      "Invalid axle prediction: has\n",
      "Validation Result: True\n",
      "Vehicle Prediction: bus\n"
     ]
    },
    {
     "name": "stderr",
     "output_type": "stream",
     "text": [
      "Processing: bus 3:  67%|██████▋   | 625/932 [08:33<04:24,  1.16file/s]"
     ]
    },
    {
     "name": "stdout",
     "output_type": "stream",
     "text": [
      "Axle Prediction: 3<|eot_id|>\n",
      "Invalid axle prediction: 3<|eot_id|>\n",
      "Validation Result: True\n"
     ]
    },
    {
     "name": "stderr",
     "output_type": "stream",
     "text": [
      "[codecarbon INFO @ 14:28:53] Energy consumed for RAM : 0.026693 kWh. RAM Power : 188.80178117752075 W\n"
     ]
    },
    {
     "name": "stdout",
     "output_type": "stream",
     "text": [
      "Vehicle Prediction: bus\n"
     ]
    },
    {
     "name": "stderr",
     "output_type": "stream",
     "text": [
      "[codecarbon INFO @ 14:28:53] Energy consumed for all CPUs : 0.014141 kWh. Total CPU Power : 100.0 W\n",
      "[codecarbon INFO @ 14:28:53] Energy consumed for all GPUs : 0.037569 kWh. Total GPU Power : 274.68650999917907 W\n",
      "[codecarbon INFO @ 14:28:53] 0.078403 kWh of electricity used since the beginning.\n",
      "Processing: bus 3:  67%|██████▋   | 626/932 [08:34<04:28,  1.14file/s]"
     ]
    },
    {
     "name": "stdout",
     "output_type": "stream",
     "text": [
      "Axle Prediction: has\n",
      "Invalid axle prediction: has\n",
      "Validation Result: True\n",
      "Vehicle Prediction: bus\n"
     ]
    },
    {
     "name": "stderr",
     "output_type": "stream",
     "text": [
      "Processing: bus 3:  67%|██████▋   | 627/932 [08:35<04:24,  1.15file/s]"
     ]
    },
    {
     "name": "stdout",
     "output_type": "stream",
     "text": [
      "Axle Prediction: 3<|eot_id|>\n",
      "Invalid axle prediction: 3<|eot_id|>\n",
      "Validation Result: True\n",
      "Vehicle Prediction: bus\n"
     ]
    },
    {
     "name": "stderr",
     "output_type": "stream",
     "text": [
      "Processing: bus 3:  67%|██████▋   | 628/932 [08:36<04:37,  1.10file/s]"
     ]
    },
    {
     "name": "stdout",
     "output_type": "stream",
     "text": [
      "Axle Prediction: 3<|eot_id|>\n",
      "Invalid axle prediction: 3<|eot_id|>\n",
      "Validation Result: True\n",
      "Vehicle Prediction: bus\n"
     ]
    },
    {
     "name": "stderr",
     "output_type": "stream",
     "text": [
      "Processing: bus 3:  67%|██████▋   | 629/932 [08:37<04:33,  1.11file/s]"
     ]
    },
    {
     "name": "stdout",
     "output_type": "stream",
     "text": [
      "Axle Prediction: 5<|eot_id|>\n",
      "Invalid axle prediction: 5<|eot_id|>\n",
      "Validation Result: True\n",
      "Vehicle Prediction: bus\n"
     ]
    },
    {
     "name": "stderr",
     "output_type": "stream",
     "text": [
      "Processing: bus 3:  68%|██████▊   | 630/932 [08:38<04:37,  1.09file/s]"
     ]
    },
    {
     "name": "stdout",
     "output_type": "stream",
     "text": [
      "Axle Prediction: has\n",
      "Invalid axle prediction: has\n",
      "Validation Result: True\n",
      "Vehicle Prediction: bus\n"
     ]
    },
    {
     "name": "stderr",
     "output_type": "stream",
     "text": [
      "Processing: bus 3:  68%|██████▊   | 631/932 [08:39<05:03,  1.01s/file]"
     ]
    },
    {
     "name": "stdout",
     "output_type": "stream",
     "text": [
      "Axle Prediction: in\n",
      "Invalid axle prediction: in\n",
      "Validation Result: True\n",
      "Vehicle Prediction: bus\n"
     ]
    },
    {
     "name": "stderr",
     "output_type": "stream",
     "text": [
      "Processing: bus 3:  68%|██████▊   | 632/932 [08:40<04:48,  1.04file/s]"
     ]
    },
    {
     "name": "stdout",
     "output_type": "stream",
     "text": [
      "Axle Prediction: 3<|eot_id|>\n",
      "Invalid axle prediction: 3<|eot_id|>\n",
      "Validation Result: True\n",
      "Vehicle Prediction: bus\n"
     ]
    },
    {
     "name": "stderr",
     "output_type": "stream",
     "text": [
      "Processing: bus 3:  68%|██████▊   | 633/932 [08:41<04:59,  1.00s/file]"
     ]
    },
    {
     "name": "stdout",
     "output_type": "stream",
     "text": [
      "Axle Prediction: 3<|eot_id|>\n",
      "Invalid axle prediction: 3<|eot_id|>\n",
      "Validation Result: True\n",
      "Vehicle Prediction: bus\n"
     ]
    },
    {
     "name": "stderr",
     "output_type": "stream",
     "text": [
      "Processing: bus 3:  68%|██████▊   | 634/932 [08:42<05:04,  1.02s/file]"
     ]
    },
    {
     "name": "stdout",
     "output_type": "stream",
     "text": [
      "Axle Prediction: 3<|eot_id|>\n",
      "Invalid axle prediction: 3<|eot_id|>\n",
      "Validation Result: True\n",
      "Vehicle Prediction: bus\n"
     ]
    },
    {
     "name": "stderr",
     "output_type": "stream",
     "text": [
      "Processing: bus 3:  68%|██████▊   | 635/932 [08:43<05:17,  1.07s/file]"
     ]
    },
    {
     "name": "stdout",
     "output_type": "stream",
     "text": [
      "Axle Prediction: 3<|eot_id|>\n",
      "Invalid axle prediction: 3<|eot_id|>\n",
      "Validation Result: True\n",
      "Vehicle Prediction: bus\n"
     ]
    },
    {
     "name": "stderr",
     "output_type": "stream",
     "text": [
      "Processing: bus 3:  68%|██████▊   | 636/932 [08:45<05:29,  1.11s/file]"
     ]
    },
    {
     "name": "stdout",
     "output_type": "stream",
     "text": [
      "Axle Prediction: in\n",
      "Invalid axle prediction: in\n",
      "Validation Result: True\n",
      "Vehicle Prediction: bus\n"
     ]
    },
    {
     "name": "stderr",
     "output_type": "stream",
     "text": [
      "Processing: bus 3:  68%|██████▊   | 637/932 [08:45<05:04,  1.03s/file]"
     ]
    },
    {
     "name": "stdout",
     "output_type": "stream",
     "text": [
      "Axle Prediction: 3<|eot_id|>\n",
      "Invalid axle prediction: 3<|eot_id|>\n",
      "Validation Result: True\n",
      "Vehicle Prediction: bus\n"
     ]
    },
    {
     "name": "stderr",
     "output_type": "stream",
     "text": [
      "Processing: bus 3:  68%|██████▊   | 638/932 [08:46<04:46,  1.03file/s]"
     ]
    },
    {
     "name": "stdout",
     "output_type": "stream",
     "text": [
      "Axle Prediction: 3<|eot_id|>\n",
      "Invalid axle prediction: 3<|eot_id|>\n",
      "Validation Result: True\n",
      "Vehicle Prediction: bus\n"
     ]
    },
    {
     "name": "stderr",
     "output_type": "stream",
     "text": [
      "Processing: bus 3:  69%|██████▊   | 639/932 [08:47<04:33,  1.07file/s]"
     ]
    },
    {
     "name": "stdout",
     "output_type": "stream",
     "text": [
      "Axle Prediction: 5<|eot_id|>\n",
      "Invalid axle prediction: 5<|eot_id|>\n",
      "Validation Result: True\n",
      "Vehicle Prediction: bus\n"
     ]
    },
    {
     "name": "stderr",
     "output_type": "stream",
     "text": [
      "Processing: bus 3:  69%|██████▊   | 640/932 [08:48<04:23,  1.11file/s]"
     ]
    },
    {
     "name": "stdout",
     "output_type": "stream",
     "text": [
      "Axle Prediction: 5<|eot_id|>\n",
      "Invalid axle prediction: 5<|eot_id|>\n",
      "Validation Result: True\n",
      "Vehicle Prediction: bus\n"
     ]
    },
    {
     "name": "stderr",
     "output_type": "stream",
     "text": [
      "Processing: truck 3:  69%|██████▉   | 641/932 [08:49<04:22,  1.11file/s][codecarbon INFO @ 14:29:08] Energy consumed for RAM : 0.027480 kWh. RAM Power : 188.80178117752075 W\n",
      "[codecarbon INFO @ 14:29:08] Energy consumed for all CPUs : 0.014557 kWh. Total CPU Power : 100.0 W\n",
      "[codecarbon INFO @ 14:29:08] Energy consumed for all GPUs : 0.038634 kWh. Total GPU Power : 255.71344896935034 W\n",
      "[codecarbon INFO @ 14:29:08] 0.080671 kWh of electricity used since the beginning.\n"
     ]
    },
    {
     "name": "stdout",
     "output_type": "stream",
     "text": [
      "Axle Prediction: in\n",
      "Invalid axle prediction: in\n",
      "Validation Result: True\n",
      "Vehicle Prediction: truck\n",
      "Is Pickup Truck: no\n"
     ]
    },
    {
     "name": "stderr",
     "output_type": "stream",
     "text": [
      "Processing: truck 3:  69%|██████▉   | 642/932 [08:50<04:54,  1.01s/file]"
     ]
    },
    {
     "name": "stdout",
     "output_type": "stream",
     "text": [
      "Axle Prediction: 3\n",
      "Validation Result: True\n",
      "Vehicle Prediction: truck\n",
      "Is Pickup Truck: no\n"
     ]
    },
    {
     "name": "stderr",
     "output_type": "stream",
     "text": [
      "Processing: truck 3:  69%|██████▉   | 643/932 [08:51<05:19,  1.11s/file]"
     ]
    },
    {
     "name": "stdout",
     "output_type": "stream",
     "text": [
      "Axle Prediction: 3\n",
      "Validation Result: True\n",
      "Vehicle Prediction: truck\n",
      "Is Pickup Truck: no\n"
     ]
    },
    {
     "name": "stderr",
     "output_type": "stream",
     "text": [
      "Processing: truck 3:  69%|██████▉   | 644/932 [08:53<05:42,  1.19s/file]"
     ]
    },
    {
     "name": "stdout",
     "output_type": "stream",
     "text": [
      "Axle Prediction: h\n",
      "Invalid axle prediction: h\n",
      "Validation Result: True\n",
      "Vehicle Prediction: truck\n",
      "Is Pickup Truck: no\n"
     ]
    },
    {
     "name": "stderr",
     "output_type": "stream",
     "text": [
      "Processing: truck 3:  69%|██████▉   | 645/932 [08:54<05:55,  1.24s/file]"
     ]
    },
    {
     "name": "stdout",
     "output_type": "stream",
     "text": [
      "Axle Prediction: 3\n",
      "Validation Result: True\n",
      "Vehicle Prediction: truck\n",
      "Is Pickup Truck: no\n"
     ]
    },
    {
     "name": "stderr",
     "output_type": "stream",
     "text": [
      "Processing: truck 3:  69%|██████▉   | 646/932 [08:55<05:59,  1.26s/file]"
     ]
    },
    {
     "name": "stdout",
     "output_type": "stream",
     "text": [
      "Axle Prediction: 3\n",
      "Validation Result: True\n",
      "Vehicle Prediction: truck\n",
      "Is Pickup Truck: no\n"
     ]
    },
    {
     "name": "stderr",
     "output_type": "stream",
     "text": [
      "Processing: truck 3:  69%|██████▉   | 647/932 [08:57<06:06,  1.29s/file]"
     ]
    },
    {
     "name": "stdout",
     "output_type": "stream",
     "text": [
      "Axle Prediction: t\n",
      "Invalid axle prediction: t\n",
      "Validation Result: True\n",
      "Vehicle Prediction: truck\n",
      "Is Pickup Truck: no\n"
     ]
    },
    {
     "name": "stderr",
     "output_type": "stream",
     "text": [
      "Processing: truck 3:  70%|██████▉   | 648/932 [08:58<06:13,  1.31s/file]"
     ]
    },
    {
     "name": "stdout",
     "output_type": "stream",
     "text": [
      "Axle Prediction: 3\n",
      "Validation Result: True\n",
      "Vehicle Prediction: truck\n",
      "Is Pickup Truck: no\n"
     ]
    },
    {
     "name": "stderr",
     "output_type": "stream",
     "text": [
      "Processing: truck 3:  70%|██████▉   | 649/932 [09:00<06:11,  1.31s/file]"
     ]
    },
    {
     "name": "stdout",
     "output_type": "stream",
     "text": [
      "Axle Prediction: 3\n",
      "Validation Result: True\n",
      "Vehicle Prediction: truck\n",
      "Is Pickup Truck: no\n"
     ]
    },
    {
     "name": "stderr",
     "output_type": "stream",
     "text": [
      "Processing: truck 3:  70%|██████▉   | 650/932 [09:01<06:08,  1.31s/file]"
     ]
    },
    {
     "name": "stdout",
     "output_type": "stream",
     "text": [
      "Axle Prediction: 3\n",
      "Validation Result: True\n",
      "Vehicle Prediction: truck\n",
      "Is Pickup Truck: no\n"
     ]
    },
    {
     "name": "stderr",
     "output_type": "stream",
     "text": [
      "Processing: truck 3:  70%|██████▉   | 651/932 [09:02<06:08,  1.31s/file]"
     ]
    },
    {
     "name": "stdout",
     "output_type": "stream",
     "text": [
      "Axle Prediction: 3\n",
      "Validation Result: True\n",
      "Vehicle Prediction: truck\n",
      "Is Pickup Truck: no\n"
     ]
    },
    {
     "name": "stderr",
     "output_type": "stream",
     "text": [
      "Processing: truck 3:  70%|██████▉   | 652/932 [09:03<06:06,  1.31s/file]"
     ]
    },
    {
     "name": "stdout",
     "output_type": "stream",
     "text": [
      "Axle Prediction: 3\n",
      "Validation Result: True\n"
     ]
    },
    {
     "name": "stderr",
     "output_type": "stream",
     "text": [
      "[codecarbon INFO @ 14:29:23] Energy consumed for RAM : 0.028266 kWh. RAM Power : 188.80178117752075 W\n",
      "[codecarbon INFO @ 14:29:23] Energy consumed for all CPUs : 0.014974 kWh. Total CPU Power : 100.0 W\n",
      "[codecarbon INFO @ 14:29:23] Energy consumed for all GPUs : 0.039776 kWh. Total GPU Power : 274.1735454987719 W\n",
      "[codecarbon INFO @ 14:29:23] 0.083016 kWh of electricity used since the beginning.\n"
     ]
    },
    {
     "name": "stdout",
     "output_type": "stream",
     "text": [
      "Vehicle Prediction: truck\n",
      "Is Pickup Truck: no\n"
     ]
    },
    {
     "name": "stderr",
     "output_type": "stream",
     "text": [
      "Processing: truck 3:  70%|███████   | 653/932 [09:05<06:06,  1.31s/file]"
     ]
    },
    {
     "name": "stdout",
     "output_type": "stream",
     "text": [
      "Axle Prediction: 3\n",
      "Validation Result: True\n",
      "Vehicle Prediction: truck\n",
      "Is Pickup Truck: no\n"
     ]
    },
    {
     "name": "stderr",
     "output_type": "stream",
     "text": [
      "Processing: truck 3:  70%|███████   | 654/932 [09:06<06:06,  1.32s/file]"
     ]
    },
    {
     "name": "stdout",
     "output_type": "stream",
     "text": [
      "Axle Prediction: 3\n",
      "Validation Result: True\n",
      "Vehicle Prediction: truck\n",
      "Is Pickup Truck: no\n"
     ]
    },
    {
     "name": "stderr",
     "output_type": "stream",
     "text": [
      "Processing: truck 3:  70%|███████   | 655/932 [09:07<06:04,  1.32s/file]"
     ]
    },
    {
     "name": "stdout",
     "output_type": "stream",
     "text": [
      "Axle Prediction: 3\n",
      "Validation Result: True\n",
      "Vehicle Prediction: truck\n",
      "Is Pickup Truck: no\n"
     ]
    },
    {
     "name": "stderr",
     "output_type": "stream",
     "text": [
      "Processing: truck 3:  70%|███████   | 656/932 [09:09<06:06,  1.33s/file]"
     ]
    },
    {
     "name": "stdout",
     "output_type": "stream",
     "text": [
      "Axle Prediction: d\n",
      "Invalid axle prediction: d\n",
      "Validation Result: True\n",
      "Vehicle Prediction: truck\n",
      "Is Pickup Truck: no\n"
     ]
    },
    {
     "name": "stderr",
     "output_type": "stream",
     "text": [
      "Processing: truck 3:  70%|███████   | 657/932 [09:10<06:03,  1.32s/file]"
     ]
    },
    {
     "name": "stdout",
     "output_type": "stream",
     "text": [
      "Axle Prediction: 3\n",
      "Validation Result: True\n",
      "Vehicle Prediction: truck\n",
      "Is Pickup Truck: no\n"
     ]
    },
    {
     "name": "stderr",
     "output_type": "stream",
     "text": [
      "Processing: truck 3:  71%|███████   | 658/932 [09:11<06:01,  1.32s/file]"
     ]
    },
    {
     "name": "stdout",
     "output_type": "stream",
     "text": [
      "Axle Prediction: 3\n",
      "Validation Result: True\n",
      "Vehicle Prediction: truck\n",
      "Is Pickup Truck: no\n"
     ]
    },
    {
     "name": "stderr",
     "output_type": "stream",
     "text": [
      "Processing: truck 3:  71%|███████   | 659/932 [09:13<06:04,  1.34s/file]"
     ]
    },
    {
     "name": "stdout",
     "output_type": "stream",
     "text": [
      "Axle Prediction: 3\n",
      "Validation Result: True\n",
      "Vehicle Prediction: truck\n",
      "Is Pickup Truck: no\n"
     ]
    },
    {
     "name": "stderr",
     "output_type": "stream",
     "text": [
      "Processing: truck 3:  71%|███████   | 660/932 [09:14<06:02,  1.33s/file]"
     ]
    },
    {
     "name": "stdout",
     "output_type": "stream",
     "text": [
      "Axle Prediction: 3\n",
      "Validation Result: True\n",
      "Vehicle Prediction: truck\n",
      "Is Pickup Truck: no\n"
     ]
    },
    {
     "name": "stderr",
     "output_type": "stream",
     "text": [
      "Processing: truck 3:  71%|███████   | 661/932 [09:15<06:00,  1.33s/file]"
     ]
    },
    {
     "name": "stdout",
     "output_type": "stream",
     "text": [
      "Axle Prediction: 3\n",
      "Validation Result: True\n",
      "Vehicle Prediction: truck\n",
      "Is Pickup Truck: no\n"
     ]
    },
    {
     "name": "stderr",
     "output_type": "stream",
     "text": [
      "Processing: truck 3:  71%|███████   | 662/932 [09:17<05:58,  1.33s/file]"
     ]
    },
    {
     "name": "stdout",
     "output_type": "stream",
     "text": [
      "Axle Prediction: 3\n",
      "Validation Result: True\n",
      "Vehicle Prediction: truck\n",
      "Is Pickup Truck: no\n"
     ]
    },
    {
     "name": "stderr",
     "output_type": "stream",
     "text": [
      "Processing: truck 3:  71%|███████   | 663/932 [09:18<05:59,  1.34s/file]"
     ]
    },
    {
     "name": "stdout",
     "output_type": "stream",
     "text": [
      "Axle Prediction: h\n",
      "Invalid axle prediction: h\n",
      "Validation Result: True\n",
      "Vehicle Prediction: truck\n"
     ]
    },
    {
     "name": "stderr",
     "output_type": "stream",
     "text": [
      "[codecarbon INFO @ 14:29:38] Energy consumed for RAM : 0.029052 kWh. RAM Power : 188.80178117752075 W\n",
      "[codecarbon INFO @ 14:29:38] Energy consumed for all CPUs : 0.015390 kWh. Total CPU Power : 100.0 W\n",
      "[codecarbon INFO @ 14:29:38] Energy consumed for all GPUs : 0.040927 kWh. Total GPU Power : 276.38585316809565 W\n",
      "[codecarbon INFO @ 14:29:38] 0.085370 kWh of electricity used since the beginning.\n"
     ]
    },
    {
     "name": "stdout",
     "output_type": "stream",
     "text": [
      "Is Pickup Truck: no\n"
     ]
    },
    {
     "name": "stderr",
     "output_type": "stream",
     "text": [
      "Processing: truck 3:  71%|███████   | 664/932 [09:19<05:57,  1.33s/file]"
     ]
    },
    {
     "name": "stdout",
     "output_type": "stream",
     "text": [
      "Axle Prediction: 3\n",
      "Validation Result: True\n",
      "Vehicle Prediction: truck\n",
      "Is Pickup Truck: no\n"
     ]
    },
    {
     "name": "stderr",
     "output_type": "stream",
     "text": [
      "Processing: truck 3:  71%|███████▏  | 665/932 [09:21<05:55,  1.33s/file]"
     ]
    },
    {
     "name": "stdout",
     "output_type": "stream",
     "text": [
      "Axle Prediction: 3\n",
      "Validation Result: True\n",
      "Vehicle Prediction: truck\n",
      "Is Pickup Truck: no\n"
     ]
    },
    {
     "name": "stderr",
     "output_type": "stream",
     "text": [
      "Processing: truck 3:  71%|███████▏  | 666/932 [09:22<05:52,  1.32s/file]"
     ]
    },
    {
     "name": "stdout",
     "output_type": "stream",
     "text": [
      "Axle Prediction: 3\n",
      "Validation Result: True\n",
      "Vehicle Prediction: truck\n",
      "Is Pickup Truck: no\n"
     ]
    },
    {
     "name": "stderr",
     "output_type": "stream",
     "text": [
      "Processing: truck 3:  72%|███████▏  | 667/932 [09:23<05:55,  1.34s/file]"
     ]
    },
    {
     "name": "stdout",
     "output_type": "stream",
     "text": [
      "Axle Prediction: d\n",
      "Invalid axle prediction: d\n",
      "Validation Result: True\n",
      "Vehicle Prediction: truck\n",
      "Is Pickup Truck: no\n"
     ]
    },
    {
     "name": "stderr",
     "output_type": "stream",
     "text": [
      "Processing: truck 3:  72%|███████▏  | 668/932 [09:25<05:52,  1.33s/file]"
     ]
    },
    {
     "name": "stdout",
     "output_type": "stream",
     "text": [
      "Axle Prediction: 3\n",
      "Validation Result: True\n",
      "Vehicle Prediction: truck\n",
      "Is Pickup Truck: no\n"
     ]
    },
    {
     "name": "stderr",
     "output_type": "stream",
     "text": [
      "Processing: truck 3:  72%|███████▏  | 669/932 [09:26<05:53,  1.34s/file]"
     ]
    },
    {
     "name": "stdout",
     "output_type": "stream",
     "text": [
      "Axle Prediction: i\n",
      "Invalid axle prediction: i\n",
      "Validation Result: True\n",
      "Vehicle Prediction: truck\n",
      "Is Pickup Truck: no\n"
     ]
    },
    {
     "name": "stderr",
     "output_type": "stream",
     "text": [
      "Processing: truck 3:  72%|███████▏  | 670/932 [09:27<05:52,  1.35s/file]"
     ]
    },
    {
     "name": "stdout",
     "output_type": "stream",
     "text": [
      "Axle Prediction: 3\n",
      "Validation Result: True\n",
      "Vehicle Prediction: truck\n",
      "Is Pickup Truck: no\n"
     ]
    },
    {
     "name": "stderr",
     "output_type": "stream",
     "text": [
      "Processing: truck 3:  72%|███████▏  | 671/932 [09:29<05:54,  1.36s/file]"
     ]
    },
    {
     "name": "stdout",
     "output_type": "stream",
     "text": [
      "Axle Prediction: 3\n",
      "Validation Result: True\n",
      "Vehicle Prediction: truck\n",
      "Is Pickup Truck: no\n"
     ]
    },
    {
     "name": "stderr",
     "output_type": "stream",
     "text": [
      "Processing: truck 3:  72%|███████▏  | 672/932 [09:30<05:49,  1.34s/file]"
     ]
    },
    {
     "name": "stdout",
     "output_type": "stream",
     "text": [
      "Axle Prediction: 5\n",
      "Validation Result: False\n",
      "Vehicle Prediction: truck\n",
      "Is Pickup Truck: no\n"
     ]
    },
    {
     "name": "stderr",
     "output_type": "stream",
     "text": [
      "Processing: truck 3:  72%|███████▏  | 673/932 [09:31<05:47,  1.34s/file]"
     ]
    },
    {
     "name": "stdout",
     "output_type": "stream",
     "text": [
      "Axle Prediction: 3\n",
      "Validation Result: True\n",
      "Vehicle Prediction: truck\n",
      "Is Pickup Truck: no\n"
     ]
    },
    {
     "name": "stderr",
     "output_type": "stream",
     "text": [
      "Processing: truck 3:  72%|███████▏  | 674/932 [09:33<05:43,  1.33s/file]"
     ]
    },
    {
     "name": "stdout",
     "output_type": "stream",
     "text": [
      "Axle Prediction: 3\n",
      "Validation Result: True\n",
      "Vehicle Prediction: truck\n",
      "Is Pickup Truck: no\n"
     ]
    },
    {
     "name": "stderr",
     "output_type": "stream",
     "text": [
      "[codecarbon INFO @ 14:29:53] Energy consumed for RAM : 0.029838 kWh. RAM Power : 188.80178117752075 W\n",
      "[codecarbon INFO @ 14:29:53] Energy consumed for all CPUs : 0.015807 kWh. Total CPU Power : 100.0 W\n",
      "[codecarbon INFO @ 14:29:53] Energy consumed for all GPUs : 0.042072 kWh. Total GPU Power : 274.91913025579777 W\n",
      "[codecarbon INFO @ 14:29:53] 0.087718 kWh of electricity used since the beginning.\n",
      "Processing: truck 3:  72%|███████▏  | 675/932 [09:34<05:41,  1.33s/file]"
     ]
    },
    {
     "name": "stdout",
     "output_type": "stream",
     "text": [
      "Axle Prediction: 3\n",
      "Validation Result: True\n",
      "Vehicle Prediction: truck\n",
      "Is Pickup Truck: no\n"
     ]
    },
    {
     "name": "stderr",
     "output_type": "stream",
     "text": [
      "Processing: truck 3:  73%|███████▎  | 676/932 [09:35<05:43,  1.34s/file]"
     ]
    },
    {
     "name": "stdout",
     "output_type": "stream",
     "text": [
      "Axle Prediction: 3\n",
      "Validation Result: True\n",
      "Vehicle Prediction: truck\n",
      "Is Pickup Truck: no\n"
     ]
    },
    {
     "name": "stderr",
     "output_type": "stream",
     "text": [
      "Processing: truck 3:  73%|███████▎  | 677/932 [09:37<05:39,  1.33s/file]"
     ]
    },
    {
     "name": "stdout",
     "output_type": "stream",
     "text": [
      "Axle Prediction: 3\n",
      "Validation Result: True\n",
      "Vehicle Prediction: truck\n",
      "Is Pickup Truck: no\n"
     ]
    },
    {
     "name": "stderr",
     "output_type": "stream",
     "text": [
      "Processing: truck 3:  73%|███████▎  | 678/932 [09:38<05:41,  1.35s/file]"
     ]
    },
    {
     "name": "stdout",
     "output_type": "stream",
     "text": [
      "Axle Prediction: t\n",
      "Invalid axle prediction: t\n",
      "Validation Result: True\n",
      "Vehicle Prediction: truck\n",
      "Is Pickup Truck: no\n"
     ]
    },
    {
     "name": "stderr",
     "output_type": "stream",
     "text": [
      "Processing: truck 3:  73%|███████▎  | 679/932 [09:40<05:40,  1.35s/file]"
     ]
    },
    {
     "name": "stdout",
     "output_type": "stream",
     "text": [
      "Axle Prediction: 3\n",
      "Validation Result: True\n",
      "Vehicle Prediction: truck\n",
      "Is Pickup Truck: no\n"
     ]
    },
    {
     "name": "stderr",
     "output_type": "stream",
     "text": [
      "Processing: truck 3:  73%|███████▎  | 680/932 [09:41<05:35,  1.33s/file]"
     ]
    },
    {
     "name": "stdout",
     "output_type": "stream",
     "text": [
      "Axle Prediction: 6\n",
      "Validation Result: False\n",
      "Vehicle Prediction: truck\n",
      "Is Pickup Truck: no\n"
     ]
    },
    {
     "name": "stderr",
     "output_type": "stream",
     "text": [
      "Processing: truck 3:  73%|███████▎  | 681/932 [09:42<05:34,  1.33s/file]"
     ]
    },
    {
     "name": "stdout",
     "output_type": "stream",
     "text": [
      "Axle Prediction: 3\n",
      "Validation Result: True\n",
      "Vehicle Prediction: truck\n",
      "Is Pickup Truck: no\n"
     ]
    },
    {
     "name": "stderr",
     "output_type": "stream",
     "text": [
      "Processing: truck 3:  73%|███████▎  | 682/932 [09:44<05:34,  1.34s/file]"
     ]
    },
    {
     "name": "stdout",
     "output_type": "stream",
     "text": [
      "Axle Prediction: h\n",
      "Invalid axle prediction: h\n",
      "Validation Result: True\n",
      "Vehicle Prediction: truck\n",
      "Is Pickup Truck: no\n"
     ]
    },
    {
     "name": "stderr",
     "output_type": "stream",
     "text": [
      "Processing: truck 3:  73%|███████▎  | 683/932 [09:45<05:30,  1.33s/file]"
     ]
    },
    {
     "name": "stdout",
     "output_type": "stream",
     "text": [
      "Axle Prediction: 3\n",
      "Validation Result: True\n",
      "Vehicle Prediction: truck\n",
      "Is Pickup Truck: no\n"
     ]
    },
    {
     "name": "stderr",
     "output_type": "stream",
     "text": [
      "Processing: truck 3:  73%|███████▎  | 684/932 [09:46<05:29,  1.33s/file]"
     ]
    },
    {
     "name": "stdout",
     "output_type": "stream",
     "text": [
      "Axle Prediction: 3\n",
      "Validation Result: True\n",
      "Vehicle Prediction: truck\n",
      "Is Pickup Truck: no\n"
     ]
    },
    {
     "name": "stderr",
     "output_type": "stream",
     "text": [
      "Processing: truck 3:  73%|███████▎  | 685/932 [09:47<05:26,  1.32s/file]"
     ]
    },
    {
     "name": "stdout",
     "output_type": "stream",
     "text": [
      "Axle Prediction: 3\n",
      "Validation Result: True\n",
      "Vehicle Prediction: trailer\n"
     ]
    },
    {
     "name": "stderr",
     "output_type": "stream",
     "text": [
      "Processing: truck 3:  74%|███████▎  | 686/932 [09:48<04:52,  1.19s/file]"
     ]
    },
    {
     "name": "stdout",
     "output_type": "stream",
     "text": [
      "Axle Prediction: 3<|eot_id|>\n",
      "Invalid axle prediction: 3<|eot_id|>\n",
      "Validation Result: True\n",
      "Vehicle Prediction: truck\n"
     ]
    },
    {
     "name": "stderr",
     "output_type": "stream",
     "text": [
      "[codecarbon INFO @ 14:30:08] Energy consumed for RAM : 0.030625 kWh. RAM Power : 188.80178117752075 W\n",
      "[codecarbon INFO @ 14:30:08] Energy consumed for all CPUs : 0.016223 kWh. Total CPU Power : 100.0 W\n",
      "[codecarbon INFO @ 14:30:08] Energy consumed for all GPUs : 0.043217 kWh. Total GPU Power : 274.747946045793 W\n",
      "[codecarbon INFO @ 14:30:08] 0.090065 kWh of electricity used since the beginning.\n"
     ]
    },
    {
     "name": "stdout",
     "output_type": "stream",
     "text": [
      "Is Pickup Truck: no\n"
     ]
    },
    {
     "name": "stderr",
     "output_type": "stream",
     "text": [
      "Processing: truck 3:  74%|███████▎  | 687/932 [09:50<05:04,  1.24s/file]"
     ]
    },
    {
     "name": "stdout",
     "output_type": "stream",
     "text": [
      "Axle Prediction: 3\n",
      "Validation Result: True\n",
      "Vehicle Prediction: truck\n",
      "Is Pickup Truck: no\n"
     ]
    },
    {
     "name": "stderr",
     "output_type": "stream",
     "text": [
      "Processing: truck 3:  74%|███████▍  | 688/932 [09:51<05:11,  1.28s/file]"
     ]
    },
    {
     "name": "stdout",
     "output_type": "stream",
     "text": [
      "Axle Prediction: t\n",
      "Invalid axle prediction: t\n",
      "Validation Result: True\n",
      "Vehicle Prediction: truck\n",
      "Is Pickup Truck: no\n"
     ]
    },
    {
     "name": "stderr",
     "output_type": "stream",
     "text": [
      "Processing: truck 3:  74%|███████▍  | 689/932 [09:52<05:17,  1.31s/file]"
     ]
    },
    {
     "name": "stdout",
     "output_type": "stream",
     "text": [
      "Axle Prediction: 3\n",
      "Validation Result: True\n",
      "Vehicle Prediction: truck\n",
      "Is Pickup Truck: no\n"
     ]
    },
    {
     "name": "stderr",
     "output_type": "stream",
     "text": [
      "Processing: truck 3:  74%|███████▍  | 690/932 [09:54<05:16,  1.31s/file]"
     ]
    },
    {
     "name": "stdout",
     "output_type": "stream",
     "text": [
      "Axle Prediction: 3\n",
      "Validation Result: True\n",
      "Vehicle Prediction: truck\n",
      "Is Pickup Truck: no\n"
     ]
    },
    {
     "name": "stderr",
     "output_type": "stream",
     "text": [
      "Processing: truck 3:  74%|███████▍  | 691/932 [09:55<05:18,  1.32s/file]"
     ]
    },
    {
     "name": "stdout",
     "output_type": "stream",
     "text": [
      "Axle Prediction: 3\n",
      "Validation Result: True\n",
      "Vehicle Prediction: truck\n",
      "Is Pickup Truck: no\n"
     ]
    },
    {
     "name": "stderr",
     "output_type": "stream",
     "text": [
      "Processing: truck 3:  74%|███████▍  | 692/932 [09:56<05:20,  1.33s/file]"
     ]
    },
    {
     "name": "stdout",
     "output_type": "stream",
     "text": [
      "Axle Prediction: h\n",
      "Invalid axle prediction: h\n",
      "Validation Result: True\n",
      "Vehicle Prediction: truck\n",
      "Is Pickup Truck: no\n"
     ]
    },
    {
     "name": "stderr",
     "output_type": "stream",
     "text": [
      "Processing: truck 3:  74%|███████▍  | 693/932 [09:58<05:16,  1.33s/file]"
     ]
    },
    {
     "name": "stdout",
     "output_type": "stream",
     "text": [
      "Axle Prediction: 3\n",
      "Validation Result: True\n",
      "Vehicle Prediction: truck\n",
      "Is Pickup Truck: no\n"
     ]
    },
    {
     "name": "stderr",
     "output_type": "stream",
     "text": [
      "Processing: truck 3:  74%|███████▍  | 694/932 [09:59<05:18,  1.34s/file]"
     ]
    },
    {
     "name": "stdout",
     "output_type": "stream",
     "text": [
      "Axle Prediction: t\n",
      "Invalid axle prediction: t\n",
      "Validation Result: True\n",
      "Vehicle Prediction: truck\n",
      "Is Pickup Truck: no\n"
     ]
    },
    {
     "name": "stderr",
     "output_type": "stream",
     "text": [
      "Processing: truck 3:  75%|███████▍  | 695/932 [10:00<05:14,  1.33s/file]"
     ]
    },
    {
     "name": "stdout",
     "output_type": "stream",
     "text": [
      "Axle Prediction: 3\n",
      "Validation Result: True\n",
      "Vehicle Prediction: truck\n",
      "Is Pickup Truck: no\n"
     ]
    },
    {
     "name": "stderr",
     "output_type": "stream",
     "text": [
      "Processing: truck 3:  75%|███████▍  | 696/932 [10:02<05:11,  1.32s/file]"
     ]
    },
    {
     "name": "stdout",
     "output_type": "stream",
     "text": [
      "Axle Prediction: 3\n",
      "Validation Result: True\n",
      "Vehicle Prediction: truck\n",
      "Is Pickup Truck: no\n"
     ]
    },
    {
     "name": "stderr",
     "output_type": "stream",
     "text": [
      "Processing: truck 3:  75%|███████▍  | 697/932 [10:03<05:09,  1.32s/file]"
     ]
    },
    {
     "name": "stdout",
     "output_type": "stream",
     "text": [
      "Axle Prediction: 3\n",
      "Validation Result: True\n",
      "Vehicle Prediction: truck\n"
     ]
    },
    {
     "name": "stderr",
     "output_type": "stream",
     "text": [
      "[codecarbon INFO @ 14:30:23] Energy consumed for RAM : 0.031411 kWh. RAM Power : 188.80178117752075 W\n",
      "[codecarbon INFO @ 14:30:23] Energy consumed for all CPUs : 0.016640 kWh. Total CPU Power : 100.0 W\n",
      "[codecarbon INFO @ 14:30:23] Energy consumed for all GPUs : 0.044360 kWh. Total GPU Power : 274.44918222736095 W\n",
      "[codecarbon INFO @ 14:30:23] 0.092411 kWh of electricity used since the beginning.\n",
      "[codecarbon INFO @ 14:30:23] 0.070112 g.CO2eq/s mean an estimation of 2,211.0385716939513 kg.CO2eq/year\n"
     ]
    },
    {
     "name": "stdout",
     "output_type": "stream",
     "text": [
      "Is Pickup Truck: no\n"
     ]
    },
    {
     "name": "stderr",
     "output_type": "stream",
     "text": [
      "Processing: truck 3:  75%|███████▍  | 698/932 [10:04<05:12,  1.33s/file]"
     ]
    },
    {
     "name": "stdout",
     "output_type": "stream",
     "text": [
      "Axle Prediction: 3\n",
      "Validation Result: True\n",
      "Vehicle Prediction: truck\n",
      "Is Pickup Truck: no\n"
     ]
    },
    {
     "name": "stderr",
     "output_type": "stream",
     "text": [
      "Processing: truck 3:  75%|███████▌  | 699/932 [10:06<05:08,  1.32s/file]"
     ]
    },
    {
     "name": "stdout",
     "output_type": "stream",
     "text": [
      "Axle Prediction: 3\n",
      "Validation Result: True\n",
      "Vehicle Prediction: truck\n",
      "Is Pickup Truck: no\n"
     ]
    },
    {
     "name": "stderr",
     "output_type": "stream",
     "text": [
      "Processing: truck 3:  75%|███████▌  | 700/932 [10:07<05:06,  1.32s/file]"
     ]
    },
    {
     "name": "stdout",
     "output_type": "stream",
     "text": [
      "Axle Prediction: 3\n",
      "Validation Result: True\n",
      "Vehicle Prediction: truck\n",
      "Is Pickup Truck: no\n"
     ]
    },
    {
     "name": "stderr",
     "output_type": "stream",
     "text": [
      "Processing: truck 3:  75%|███████▌  | 701/932 [10:08<05:08,  1.34s/file]"
     ]
    },
    {
     "name": "stdout",
     "output_type": "stream",
     "text": [
      "Axle Prediction: 3\n",
      "Validation Result: True\n",
      "Vehicle Prediction: truck\n",
      "Is Pickup Truck: no\n"
     ]
    },
    {
     "name": "stderr",
     "output_type": "stream",
     "text": [
      "Processing: truck 3:  75%|███████▌  | 702/932 [10:10<05:05,  1.33s/file]"
     ]
    },
    {
     "name": "stdout",
     "output_type": "stream",
     "text": [
      "Axle Prediction: 6\n",
      "Validation Result: False\n",
      "Vehicle Prediction: truck\n",
      "Is Pickup Truck: no\n"
     ]
    },
    {
     "name": "stderr",
     "output_type": "stream",
     "text": [
      "Processing: truck 3:  75%|███████▌  | 703/932 [10:11<05:02,  1.32s/file]"
     ]
    },
    {
     "name": "stdout",
     "output_type": "stream",
     "text": [
      "Axle Prediction: 3\n",
      "Validation Result: True\n",
      "Vehicle Prediction: truck\n",
      "Is Pickup Truck: no\n"
     ]
    },
    {
     "name": "stderr",
     "output_type": "stream",
     "text": [
      "Processing: truck 3:  76%|███████▌  | 704/932 [10:12<05:00,  1.32s/file]"
     ]
    },
    {
     "name": "stdout",
     "output_type": "stream",
     "text": [
      "Axle Prediction: 3\n",
      "Validation Result: True\n",
      "Vehicle Prediction: truck\n",
      "Is Pickup Truck: no\n"
     ]
    },
    {
     "name": "stderr",
     "output_type": "stream",
     "text": [
      "Processing: truck 3:  76%|███████▌  | 705/932 [10:14<05:01,  1.33s/file]"
     ]
    },
    {
     "name": "stdout",
     "output_type": "stream",
     "text": [
      "Axle Prediction: i\n",
      "Invalid axle prediction: i\n",
      "Validation Result: True\n",
      "Vehicle Prediction: truck\n",
      "Is Pickup Truck: no\n"
     ]
    },
    {
     "name": "stderr",
     "output_type": "stream",
     "text": [
      "Processing: truck 3:  76%|███████▌  | 706/932 [10:15<04:59,  1.32s/file]"
     ]
    },
    {
     "name": "stdout",
     "output_type": "stream",
     "text": [
      "Axle Prediction: 6\n",
      "Validation Result: False\n",
      "Vehicle Prediction: truck\n",
      "Is Pickup Truck: no\n"
     ]
    },
    {
     "name": "stderr",
     "output_type": "stream",
     "text": [
      "Processing: truck 3:  76%|███████▌  | 707/932 [10:16<04:56,  1.32s/file]"
     ]
    },
    {
     "name": "stdout",
     "output_type": "stream",
     "text": [
      "Axle Prediction: 3\n",
      "Validation Result: True\n",
      "Vehicle Prediction: truck\n",
      "Is Pickup Truck: no\n"
     ]
    },
    {
     "name": "stderr",
     "output_type": "stream",
     "text": [
      "Processing: truck 3:  76%|███████▌  | 708/932 [10:18<04:58,  1.33s/file]"
     ]
    },
    {
     "name": "stdout",
     "output_type": "stream",
     "text": [
      "Axle Prediction: 3\n",
      "Validation Result: True\n",
      "Vehicle Prediction: truck\n",
      "Is Pickup Truck: no\n"
     ]
    },
    {
     "name": "stderr",
     "output_type": "stream",
     "text": [
      "Processing: truck 3:  76%|███████▌  | 709/932 [10:19<04:56,  1.33s/file][codecarbon INFO @ 14:30:38] Energy consumed for RAM : 0.032197 kWh. RAM Power : 188.80178117752075 W\n",
      "[codecarbon INFO @ 14:30:38] Energy consumed for all CPUs : 0.017056 kWh. Total CPU Power : 100.0 W\n",
      "[codecarbon INFO @ 14:30:38] Energy consumed for all GPUs : 0.045514 kWh. Total GPU Power : 276.9451220980285 W\n",
      "[codecarbon INFO @ 14:30:38] 0.094767 kWh of electricity used since the beginning.\n"
     ]
    },
    {
     "name": "stdout",
     "output_type": "stream",
     "text": [
      "Axle Prediction: 3\n",
      "Validation Result: True\n",
      "Vehicle Prediction: truck\n",
      "Is Pickup Truck: no\n"
     ]
    },
    {
     "name": "stderr",
     "output_type": "stream",
     "text": [
      "Processing: truck 3:  76%|███████▌  | 710/932 [10:20<04:53,  1.32s/file]"
     ]
    },
    {
     "name": "stdout",
     "output_type": "stream",
     "text": [
      "Axle Prediction: 3\n",
      "Validation Result: True\n",
      "Vehicle Prediction: truck\n",
      "Is Pickup Truck: no\n"
     ]
    },
    {
     "name": "stderr",
     "output_type": "stream",
     "text": [
      "Processing: truck 3:  76%|███████▋  | 711/932 [10:22<04:56,  1.34s/file]"
     ]
    },
    {
     "name": "stdout",
     "output_type": "stream",
     "text": [
      "Axle Prediction: 3\n",
      "Validation Result: True\n",
      "Vehicle Prediction: truck\n",
      "Is Pickup Truck: no\n"
     ]
    },
    {
     "name": "stderr",
     "output_type": "stream",
     "text": [
      "Processing: truck 3:  76%|███████▋  | 712/932 [10:23<04:53,  1.33s/file]"
     ]
    },
    {
     "name": "stdout",
     "output_type": "stream",
     "text": [
      "Axle Prediction: 3\n",
      "Validation Result: True\n",
      "Vehicle Prediction: truck\n",
      "Is Pickup Truck: no\n"
     ]
    },
    {
     "name": "stderr",
     "output_type": "stream",
     "text": [
      "Processing: truck 3:  77%|███████▋  | 713/932 [10:24<04:50,  1.33s/file]"
     ]
    },
    {
     "name": "stdout",
     "output_type": "stream",
     "text": [
      "Axle Prediction: 3\n",
      "Validation Result: True\n",
      "Vehicle Prediction: truck\n",
      "Is Pickup Truck: no\n"
     ]
    },
    {
     "name": "stderr",
     "output_type": "stream",
     "text": [
      "Processing: truck 3:  77%|███████▋  | 714/932 [10:26<04:48,  1.32s/file]"
     ]
    },
    {
     "name": "stdout",
     "output_type": "stream",
     "text": [
      "Axle Prediction: 3\n",
      "Validation Result: True\n",
      "Vehicle Prediction: truck\n",
      "Is Pickup Truck: no\n"
     ]
    },
    {
     "name": "stderr",
     "output_type": "stream",
     "text": [
      "Processing: truck 3:  77%|███████▋  | 715/932 [10:27<04:46,  1.32s/file]"
     ]
    },
    {
     "name": "stdout",
     "output_type": "stream",
     "text": [
      "Axle Prediction: 3\n",
      "Validation Result: True\n",
      "Vehicle Prediction: truck\n",
      "Is Pickup Truck: no\n"
     ]
    },
    {
     "name": "stderr",
     "output_type": "stream",
     "text": [
      "Processing: truck 3:  77%|███████▋  | 716/932 [10:28<04:44,  1.32s/file]"
     ]
    },
    {
     "name": "stdout",
     "output_type": "stream",
     "text": [
      "Axle Prediction: 3\n",
      "Validation Result: True\n",
      "Vehicle Prediction: truck\n",
      "Is Pickup Truck: no\n"
     ]
    },
    {
     "name": "stderr",
     "output_type": "stream",
     "text": [
      "Processing: truck 3:  77%|███████▋  | 717/932 [10:30<04:48,  1.34s/file]"
     ]
    },
    {
     "name": "stdout",
     "output_type": "stream",
     "text": [
      "Axle Prediction: i\n",
      "Invalid axle prediction: i\n",
      "Validation Result: True\n",
      "Vehicle Prediction: truck\n",
      "Is Pickup Truck: no\n"
     ]
    },
    {
     "name": "stderr",
     "output_type": "stream",
     "text": [
      "Processing: truck 3:  77%|███████▋  | 718/932 [10:31<04:45,  1.33s/file]"
     ]
    },
    {
     "name": "stdout",
     "output_type": "stream",
     "text": [
      "Axle Prediction: 3\n",
      "Validation Result: True\n",
      "Vehicle Prediction: truck\n",
      "Is Pickup Truck: no\n"
     ]
    },
    {
     "name": "stderr",
     "output_type": "stream",
     "text": [
      "Processing: truck 3:  77%|███████▋  | 719/932 [10:32<04:44,  1.33s/file]"
     ]
    },
    {
     "name": "stdout",
     "output_type": "stream",
     "text": [
      "Axle Prediction: 3\n",
      "Validation Result: True\n",
      "Vehicle Prediction: truck\n",
      "Is Pickup Truck: no\n"
     ]
    },
    {
     "name": "stderr",
     "output_type": "stream",
     "text": [
      "Processing: truck 3:  77%|███████▋  | 720/932 [10:34<04:46,  1.35s/file]"
     ]
    },
    {
     "name": "stdout",
     "output_type": "stream",
     "text": [
      "Axle Prediction: d\n",
      "Invalid axle prediction: d\n",
      "Validation Result: True\n"
     ]
    },
    {
     "name": "stderr",
     "output_type": "stream",
     "text": [
      "[codecarbon INFO @ 14:30:53] Energy consumed for RAM : 0.032983 kWh. RAM Power : 188.80178117752075 W\n",
      "[codecarbon INFO @ 14:30:53] Energy consumed for all CPUs : 0.017473 kWh. Total CPU Power : 100.0 W\n",
      "[codecarbon INFO @ 14:30:53] Energy consumed for all GPUs : 0.046672 kWh. Total GPU Power : 278.1712270762659 W\n",
      "[codecarbon INFO @ 14:30:53] 0.097129 kWh of electricity used since the beginning.\n"
     ]
    },
    {
     "name": "stdout",
     "output_type": "stream",
     "text": [
      "Vehicle Prediction: truck\n",
      "Is Pickup Truck: no\n"
     ]
    },
    {
     "name": "stderr",
     "output_type": "stream",
     "text": [
      "Processing: truck 3:  77%|███████▋  | 721/932 [10:35<04:41,  1.34s/file]"
     ]
    },
    {
     "name": "stdout",
     "output_type": "stream",
     "text": [
      "Axle Prediction: 3\n",
      "Validation Result: True\n",
      "Vehicle Prediction: truck\n",
      "Is Pickup Truck: no\n"
     ]
    },
    {
     "name": "stderr",
     "output_type": "stream",
     "text": [
      "Processing: truck 3:  77%|███████▋  | 722/932 [10:36<04:39,  1.33s/file]"
     ]
    },
    {
     "name": "stdout",
     "output_type": "stream",
     "text": [
      "Axle Prediction: 3\n",
      "Validation Result: True\n",
      "Vehicle Prediction: truck\n",
      "Is Pickup Truck: no\n"
     ]
    },
    {
     "name": "stderr",
     "output_type": "stream",
     "text": [
      "Processing: truck 3:  78%|███████▊  | 723/932 [10:38<04:42,  1.35s/file]"
     ]
    },
    {
     "name": "stdout",
     "output_type": "stream",
     "text": [
      "Axle Prediction: 3\n",
      "Validation Result: True\n",
      "Vehicle Prediction: truck\n",
      "Is Pickup Truck: no\n"
     ]
    },
    {
     "name": "stderr",
     "output_type": "stream",
     "text": [
      "Processing: truck 3:  78%|███████▊  | 724/932 [10:39<04:37,  1.34s/file]"
     ]
    },
    {
     "name": "stdout",
     "output_type": "stream",
     "text": [
      "Axle Prediction: 3\n",
      "Validation Result: True\n",
      "Vehicle Prediction: truck\n",
      "Is Pickup Truck: no\n"
     ]
    },
    {
     "name": "stderr",
     "output_type": "stream",
     "text": [
      "Processing: truck 3:  78%|███████▊  | 725/932 [10:40<04:39,  1.35s/file]"
     ]
    },
    {
     "name": "stdout",
     "output_type": "stream",
     "text": [
      "Axle Prediction: t\n",
      "Invalid axle prediction: t\n",
      "Validation Result: True\n",
      "Vehicle Prediction: truck\n",
      "Is Pickup Truck: no\n"
     ]
    },
    {
     "name": "stderr",
     "output_type": "stream",
     "text": [
      "Processing: truck 3:  78%|███████▊  | 726/932 [10:42<04:36,  1.34s/file]"
     ]
    },
    {
     "name": "stdout",
     "output_type": "stream",
     "text": [
      "Axle Prediction: 3\n",
      "Validation Result: True\n",
      "Vehicle Prediction: truck\n",
      "Is Pickup Truck: no\n"
     ]
    },
    {
     "name": "stderr",
     "output_type": "stream",
     "text": [
      "Processing: truck 3:  78%|███████▊  | 727/932 [10:43<04:34,  1.34s/file]"
     ]
    },
    {
     "name": "stdout",
     "output_type": "stream",
     "text": [
      "Axle Prediction: 6\n",
      "Validation Result: False\n",
      "Vehicle Prediction: truck\n",
      "Is Pickup Truck: no\n"
     ]
    },
    {
     "name": "stderr",
     "output_type": "stream",
     "text": [
      "Processing: truck 3:  78%|███████▊  | 728/932 [10:44<04:34,  1.34s/file]"
     ]
    },
    {
     "name": "stdout",
     "output_type": "stream",
     "text": [
      "Axle Prediction: 3\n",
      "Validation Result: True\n",
      "Vehicle Prediction: truck\n",
      "Is Pickup Truck: no\n"
     ]
    },
    {
     "name": "stderr",
     "output_type": "stream",
     "text": [
      "Processing: truck 3:  78%|███████▊  | 729/932 [10:46<04:34,  1.35s/file]"
     ]
    },
    {
     "name": "stdout",
     "output_type": "stream",
     "text": [
      "Axle Prediction: t\n",
      "Invalid axle prediction: t\n",
      "Validation Result: True\n",
      "Vehicle Prediction: truck\n",
      "Is Pickup Truck: no\n"
     ]
    },
    {
     "name": "stderr",
     "output_type": "stream",
     "text": [
      "Processing: truck 3:  78%|███████▊  | 730/932 [10:47<04:34,  1.36s/file]"
     ]
    },
    {
     "name": "stdout",
     "output_type": "stream",
     "text": [
      "Axle Prediction: h\n",
      "Invalid axle prediction: h\n",
      "Validation Result: True\n",
      "Vehicle Prediction: truck\n",
      "Is Pickup Truck: no\n"
     ]
    },
    {
     "name": "stderr",
     "output_type": "stream",
     "text": [
      "Processing: truck 3:  78%|███████▊  | 731/932 [10:48<04:30,  1.35s/file]"
     ]
    },
    {
     "name": "stdout",
     "output_type": "stream",
     "text": [
      "Axle Prediction: 3\n",
      "Validation Result: True\n"
     ]
    },
    {
     "name": "stderr",
     "output_type": "stream",
     "text": [
      "[codecarbon INFO @ 14:31:08] Energy consumed for RAM : 0.033761 kWh. RAM Power : 188.80178117752075 W\n",
      "[codecarbon INFO @ 14:31:08] Energy consumed for all CPUs : 0.017885 kWh. Total CPU Power : 100.0 W\n",
      "[codecarbon INFO @ 14:31:08] Energy consumed for all GPUs : 0.047797 kWh. Total GPU Power : 273.022029883274 W\n",
      "[codecarbon INFO @ 14:31:08] 0.099443 kWh of electricity used since the beginning.\n"
     ]
    },
    {
     "name": "stdout",
     "output_type": "stream",
     "text": [
      "Vehicle Prediction: truck\n",
      "Is Pickup Truck: no\n"
     ]
    },
    {
     "name": "stderr",
     "output_type": "stream",
     "text": [
      "Processing: truck 3:  79%|███████▊  | 732/932 [10:50<05:09,  1.55s/file]"
     ]
    },
    {
     "name": "stdout",
     "output_type": "stream",
     "text": [
      "Axle Prediction: 3\n",
      "Validation Result: True\n",
      "Vehicle Prediction: truck\n",
      "Is Pickup Truck: no\n"
     ]
    },
    {
     "name": "stderr",
     "output_type": "stream",
     "text": [
      "Processing: truck 3:  79%|███████▊  | 733/932 [10:52<04:56,  1.49s/file]"
     ]
    },
    {
     "name": "stdout",
     "output_type": "stream",
     "text": [
      "Axle Prediction: d\n",
      "Invalid axle prediction: d\n",
      "Validation Result: True\n",
      "Vehicle Prediction: truck\n",
      "Is Pickup Truck: no\n"
     ]
    },
    {
     "name": "stderr",
     "output_type": "stream",
     "text": [
      "Processing: truck 3:  79%|███████▉  | 734/932 [10:53<04:42,  1.43s/file]"
     ]
    },
    {
     "name": "stdout",
     "output_type": "stream",
     "text": [
      "Axle Prediction: 3\n",
      "Validation Result: True\n",
      "Vehicle Prediction: truck\n",
      "Is Pickup Truck: no\n"
     ]
    },
    {
     "name": "stderr",
     "output_type": "stream",
     "text": [
      "Processing: truck 3:  79%|███████▉  | 735/932 [10:54<04:31,  1.38s/file]"
     ]
    },
    {
     "name": "stdout",
     "output_type": "stream",
     "text": [
      "Axle Prediction: 5\n",
      "Validation Result: False\n",
      "Vehicle Prediction: truck\n",
      "Is Pickup Truck: no\n"
     ]
    },
    {
     "name": "stderr",
     "output_type": "stream",
     "text": [
      "Processing: truck 3:  79%|███████▉  | 736/932 [10:56<04:29,  1.37s/file]"
     ]
    },
    {
     "name": "stdout",
     "output_type": "stream",
     "text": [
      "Axle Prediction: 3\n",
      "Validation Result: True\n",
      "Vehicle Prediction: truck\n",
      "Is Pickup Truck: no\n"
     ]
    },
    {
     "name": "stderr",
     "output_type": "stream",
     "text": [
      "Processing: truck 3:  79%|███████▉  | 737/932 [10:57<04:28,  1.38s/file]"
     ]
    },
    {
     "name": "stdout",
     "output_type": "stream",
     "text": [
      "Axle Prediction: h\n",
      "Invalid axle prediction: h\n",
      "Validation Result: True\n",
      "Vehicle Prediction: truck\n",
      "Is Pickup Truck: no\n"
     ]
    },
    {
     "name": "stderr",
     "output_type": "stream",
     "text": [
      "Processing: truck 3:  79%|███████▉  | 738/932 [10:58<04:24,  1.36s/file]"
     ]
    },
    {
     "name": "stdout",
     "output_type": "stream",
     "text": [
      "Axle Prediction: 2\n",
      "Validation Result: False\n",
      "Vehicle Prediction: truck\n",
      "Is Pickup Truck: no\n"
     ]
    },
    {
     "name": "stderr",
     "output_type": "stream",
     "text": [
      "Processing: truck 3:  79%|███████▉  | 739/932 [11:00<04:21,  1.35s/file]"
     ]
    },
    {
     "name": "stdout",
     "output_type": "stream",
     "text": [
      "Axle Prediction: 3\n",
      "Validation Result: True\n",
      "Vehicle Prediction: truck\n",
      "Is Pickup Truck: no\n"
     ]
    },
    {
     "name": "stderr",
     "output_type": "stream",
     "text": [
      "Processing: truck 3:  79%|███████▉  | 740/932 [11:01<04:15,  1.33s/file]"
     ]
    },
    {
     "name": "stdout",
     "output_type": "stream",
     "text": [
      "Axle Prediction: 3\n",
      "Validation Result: True\n",
      "Vehicle Prediction: truck\n",
      "Is Pickup Truck: no\n"
     ]
    },
    {
     "name": "stderr",
     "output_type": "stream",
     "text": [
      "Processing: truck 4:  80%|███████▉  | 741/932 [11:02<04:15,  1.34s/file]"
     ]
    },
    {
     "name": "stdout",
     "output_type": "stream",
     "text": [
      "Axle Prediction: 3\n",
      "Validation Result: True\n",
      "Vehicle Prediction: truck\n",
      "Is Pickup Truck: no\n"
     ]
    },
    {
     "name": "stderr",
     "output_type": "stream",
     "text": [
      "Processing: truck 4:  80%|███████▉  | 742/932 [11:04<04:12,  1.33s/file]"
     ]
    },
    {
     "name": "stdout",
     "output_type": "stream",
     "text": [
      "Axle Prediction: 5\n",
      "Validation Result: False\n"
     ]
    },
    {
     "name": "stderr",
     "output_type": "stream",
     "text": [
      "[codecarbon INFO @ 14:31:23] Energy consumed for RAM : 0.034548 kWh. RAM Power : 188.80178117752075 W\n",
      "[codecarbon INFO @ 14:31:23] Energy consumed for all CPUs : 0.018301 kWh. Total CPU Power : 100.0 W\n",
      "[codecarbon INFO @ 14:31:23] Energy consumed for all GPUs : 0.048899 kWh. Total GPU Power : 264.5607771985639 W\n",
      "[codecarbon INFO @ 14:31:23] 0.101748 kWh of electricity used since the beginning.\n"
     ]
    },
    {
     "name": "stdout",
     "output_type": "stream",
     "text": [
      "Vehicle Prediction: trailer\n"
     ]
    },
    {
     "name": "stderr",
     "output_type": "stream",
     "text": [
      "Processing: truck 4:  80%|███████▉  | 743/932 [11:05<03:44,  1.19s/file]"
     ]
    },
    {
     "name": "stdout",
     "output_type": "stream",
     "text": [
      "Axle Prediction: 3<|eot_id|>\n",
      "Invalid axle prediction: 3<|eot_id|>\n",
      "Validation Result: True\n",
      "Vehicle Prediction: truck\n",
      "Is Pickup Truck: no\n"
     ]
    },
    {
     "name": "stderr",
     "output_type": "stream",
     "text": [
      "Processing: truck 4:  80%|███████▉  | 744/932 [11:06<03:52,  1.24s/file]"
     ]
    },
    {
     "name": "stdout",
     "output_type": "stream",
     "text": [
      "Axle Prediction: i\n",
      "Invalid axle prediction: i\n",
      "Validation Result: True\n",
      "Vehicle Prediction: trailer\n"
     ]
    },
    {
     "name": "stderr",
     "output_type": "stream",
     "text": [
      "Processing: truck 4:  80%|███████▉  | 745/932 [11:07<03:32,  1.14s/file]"
     ]
    },
    {
     "name": "stdout",
     "output_type": "stream",
     "text": [
      "Axle Prediction: 3\n",
      "Validation Result: False\n",
      "Vehicle Prediction: trailer\n"
     ]
    },
    {
     "name": "stderr",
     "output_type": "stream",
     "text": [
      "Processing: truck 4:  80%|████████  | 746/932 [11:08<03:17,  1.06s/file]"
     ]
    },
    {
     "name": "stdout",
     "output_type": "stream",
     "text": [
      "Axle Prediction: 5<|eot_id|>\n",
      "Invalid axle prediction: 5<|eot_id|>\n",
      "Validation Result: True\n",
      "Vehicle Prediction: trailer\n"
     ]
    },
    {
     "name": "stderr",
     "output_type": "stream",
     "text": [
      "Processing: truck 4:  80%|████████  | 747/932 [11:09<03:04,  1.00file/s]"
     ]
    },
    {
     "name": "stdout",
     "output_type": "stream",
     "text": [
      "Axle Prediction: three<|eot_id|>\n",
      "Invalid axle prediction: three<|eot_id|>\n",
      "Validation Result: True\n",
      "Vehicle Prediction: truck\n",
      "Is Pickup Truck: no\n"
     ]
    },
    {
     "name": "stderr",
     "output_type": "stream",
     "text": [
      "Processing: truck 4:  80%|████████  | 748/932 [11:10<03:20,  1.09s/file]"
     ]
    },
    {
     "name": "stdout",
     "output_type": "stream",
     "text": [
      "Axle Prediction: 5\n",
      "Validation Result: False\n",
      "Vehicle Prediction: truck\n",
      "Is Pickup Truck: no\n"
     ]
    },
    {
     "name": "stderr",
     "output_type": "stream",
     "text": [
      "Processing: truck 4:  80%|████████  | 749/932 [11:11<03:33,  1.17s/file]"
     ]
    },
    {
     "name": "stdout",
     "output_type": "stream",
     "text": [
      "Axle Prediction: h\n",
      "Invalid axle prediction: h\n",
      "Validation Result: True\n",
      "Vehicle Prediction: trailer\n"
     ]
    },
    {
     "name": "stderr",
     "output_type": "stream",
     "text": [
      "Processing: truck 4:  80%|████████  | 750/932 [11:12<03:16,  1.08s/file]"
     ]
    },
    {
     "name": "stdout",
     "output_type": "stream",
     "text": [
      "Axle Prediction: 3<|eot_id|>\n",
      "Invalid axle prediction: 3<|eot_id|>\n",
      "Validation Result: True\n",
      "Vehicle Prediction: truck\n",
      "Is Pickup Truck: no\n"
     ]
    },
    {
     "name": "stderr",
     "output_type": "stream",
     "text": [
      "Processing: truck 4:  81%|████████  | 751/932 [11:13<03:25,  1.14s/file]"
     ]
    },
    {
     "name": "stdout",
     "output_type": "stream",
     "text": [
      "Axle Prediction: 3\n",
      "Validation Result: False\n",
      "Vehicle Prediction: trailer\n"
     ]
    },
    {
     "name": "stderr",
     "output_type": "stream",
     "text": [
      "Processing: truck 4:  81%|████████  | 752/932 [11:14<03:10,  1.06s/file]"
     ]
    },
    {
     "name": "stdout",
     "output_type": "stream",
     "text": [
      "Axle Prediction: 3<|eot_id|>\n",
      "Invalid axle prediction: 3<|eot_id|>\n",
      "Validation Result: True\n",
      "Vehicle Prediction: truck\n",
      "Is Pickup Truck: no\n"
     ]
    },
    {
     "name": "stderr",
     "output_type": "stream",
     "text": [
      "Processing: truck 4:  81%|████████  | 753/932 [11:16<03:26,  1.15s/file]"
     ]
    },
    {
     "name": "stdout",
     "output_type": "stream",
     "text": [
      "Axle Prediction: 5\n",
      "Validation Result: False\n",
      "Vehicle Prediction: truck\n",
      "Is Pickup Truck: no\n"
     ]
    },
    {
     "name": "stderr",
     "output_type": "stream",
     "text": [
      "Processing: truck 4:  81%|████████  | 754/932 [11:17<03:35,  1.21s/file]"
     ]
    },
    {
     "name": "stdout",
     "output_type": "stream",
     "text": [
      "Axle Prediction: h\n",
      "Invalid axle prediction: h\n",
      "Validation Result: True\n",
      "Vehicle Prediction: truck\n",
      "Is Pickup Truck: no\n"
     ]
    },
    {
     "name": "stderr",
     "output_type": "stream",
     "text": [
      "Processing: truck 4:  81%|████████  | 755/932 [11:19<03:52,  1.31s/file]"
     ]
    },
    {
     "name": "stdout",
     "output_type": "stream",
     "text": [
      "Axle Prediction: d\n",
      "Invalid axle prediction: d\n",
      "Validation Result: True\n"
     ]
    },
    {
     "name": "stderr",
     "output_type": "stream",
     "text": [
      "[codecarbon INFO @ 14:31:38] Energy consumed for RAM : 0.035334 kWh. RAM Power : 188.80178117752075 W\n",
      "[codecarbon INFO @ 14:31:38] Energy consumed for all CPUs : 0.018718 kWh. Total CPU Power : 100.0 W\n",
      "[codecarbon INFO @ 14:31:38] Energy consumed for all GPUs : 0.050028 kWh. Total GPU Power : 271.0675330074361 W\n",
      "[codecarbon INFO @ 14:31:38] 0.104080 kWh of electricity used since the beginning.\n"
     ]
    },
    {
     "name": "stdout",
     "output_type": "stream",
     "text": [
      "Vehicle Prediction: truck\n",
      "Is Pickup Truck: no\n"
     ]
    },
    {
     "name": "stderr",
     "output_type": "stream",
     "text": [
      "Processing: truck 4:  81%|████████  | 756/932 [11:20<03:54,  1.33s/file]"
     ]
    },
    {
     "name": "stdout",
     "output_type": "stream",
     "text": [
      "Axle Prediction: 5\n",
      "Validation Result: False\n",
      "Vehicle Prediction: truck\n",
      "Is Pickup Truck: no\n"
     ]
    },
    {
     "name": "stderr",
     "output_type": "stream",
     "text": [
      "Processing: truck 4:  81%|████████  | 757/932 [11:21<03:52,  1.33s/file]"
     ]
    },
    {
     "name": "stdout",
     "output_type": "stream",
     "text": [
      "Axle Prediction: h\n",
      "Invalid axle prediction: h\n",
      "Validation Result: True\n",
      "Vehicle Prediction: truck\n",
      "Is Pickup Truck: no\n"
     ]
    },
    {
     "name": "stderr",
     "output_type": "stream",
     "text": [
      "Processing: truck 4:  81%|████████▏ | 758/932 [11:23<04:01,  1.39s/file]"
     ]
    },
    {
     "name": "stdout",
     "output_type": "stream",
     "text": [
      "Axle Prediction: i\n",
      "Invalid axle prediction: i\n",
      "Validation Result: True\n",
      "Vehicle Prediction: trailer\n"
     ]
    },
    {
     "name": "stderr",
     "output_type": "stream",
     "text": [
      "Processing: truck 4:  81%|████████▏ | 759/932 [11:24<03:33,  1.24s/file]"
     ]
    },
    {
     "name": "stdout",
     "output_type": "stream",
     "text": [
      "Axle Prediction: 3<|eot_id|>\n",
      "Invalid axle prediction: 3<|eot_id|>\n",
      "Validation Result: True\n",
      "Vehicle Prediction: trailer\n"
     ]
    },
    {
     "name": "stderr",
     "output_type": "stream",
     "text": [
      "Processing: truck 4:  82%|████████▏ | 760/932 [11:24<03:13,  1.13s/file]"
     ]
    },
    {
     "name": "stdout",
     "output_type": "stream",
     "text": [
      "Axle Prediction: 3<|eot_id|>\n",
      "Invalid axle prediction: 3<|eot_id|>\n",
      "Validation Result: True\n",
      "Vehicle Prediction: trailer\n"
     ]
    },
    {
     "name": "stderr",
     "output_type": "stream",
     "text": [
      "Processing: truck 4:  82%|████████▏ | 761/932 [11:25<02:58,  1.04s/file]"
     ]
    },
    {
     "name": "stdout",
     "output_type": "stream",
     "text": [
      "Axle Prediction: 3<|eot_id|>\n",
      "Invalid axle prediction: 3<|eot_id|>\n",
      "Validation Result: True\n",
      "Vehicle Prediction: truck\n",
      "Is Pickup Truck: no\n"
     ]
    },
    {
     "name": "stderr",
     "output_type": "stream",
     "text": [
      "Processing: truck 4:  82%|████████▏ | 762/932 [11:27<03:09,  1.12s/file]"
     ]
    },
    {
     "name": "stdout",
     "output_type": "stream",
     "text": [
      "Axle Prediction: 3\n",
      "Validation Result: False\n",
      "Vehicle Prediction: trailer\n"
     ]
    },
    {
     "name": "stderr",
     "output_type": "stream",
     "text": [
      "Processing: truck 4:  82%|████████▏ | 763/932 [11:28<03:11,  1.13s/file]"
     ]
    },
    {
     "name": "stdout",
     "output_type": "stream",
     "text": [
      "Axle Prediction: 3<|eot_id|>\n",
      "Invalid axle prediction: 3<|eot_id|>\n",
      "Validation Result: True\n",
      "Vehicle Prediction: truck\n",
      "Is Pickup Truck: no\n"
     ]
    },
    {
     "name": "stderr",
     "output_type": "stream",
     "text": [
      "Processing: truck 4:  82%|████████▏ | 764/932 [11:29<03:20,  1.19s/file]"
     ]
    },
    {
     "name": "stdout",
     "output_type": "stream",
     "text": [
      "Axle Prediction: 3\n",
      "Validation Result: False\n",
      "Vehicle Prediction: truck\n",
      "Is Pickup Truck: no\n"
     ]
    },
    {
     "name": "stderr",
     "output_type": "stream",
     "text": [
      "Processing: truck 4:  82%|████████▏ | 765/932 [11:30<03:24,  1.22s/file]"
     ]
    },
    {
     "name": "stdout",
     "output_type": "stream",
     "text": [
      "Axle Prediction: 3\n",
      "Validation Result: False\n",
      "Vehicle Prediction: trailer\n"
     ]
    },
    {
     "name": "stderr",
     "output_type": "stream",
     "text": [
      "Processing: truck 4:  82%|████████▏ | 766/932 [11:31<03:04,  1.11s/file]"
     ]
    },
    {
     "name": "stdout",
     "output_type": "stream",
     "text": [
      "Axle Prediction: 3<|eot_id|>\n",
      "Invalid axle prediction: 3<|eot_id|>\n",
      "Validation Result: True\n",
      "Vehicle Prediction: trailer\n"
     ]
    },
    {
     "name": "stderr",
     "output_type": "stream",
     "text": [
      "Processing: truck 4:  82%|████████▏ | 767/932 [11:32<02:51,  1.04s/file]"
     ]
    },
    {
     "name": "stdout",
     "output_type": "stream",
     "text": [
      "Axle Prediction: 3<|eot_id|>\n",
      "Invalid axle prediction: 3<|eot_id|>\n",
      "Validation Result: True\n",
      "Vehicle Prediction: truck\n",
      "Is Pickup Truck: no\n"
     ]
    },
    {
     "name": "stderr",
     "output_type": "stream",
     "text": [
      "Processing: truck 4:  82%|████████▏ | 768/932 [11:33<03:05,  1.13s/file]"
     ]
    },
    {
     "name": "stdout",
     "output_type": "stream",
     "text": [
      "Axle Prediction: 3\n",
      "Validation Result: False\n"
     ]
    },
    {
     "name": "stderr",
     "output_type": "stream",
     "text": [
      "[codecarbon INFO @ 14:31:53] Energy consumed for RAM : 0.036120 kWh. RAM Power : 188.80178117752075 W\n",
      "[codecarbon INFO @ 14:31:53] Energy consumed for all CPUs : 0.019135 kWh. Total CPU Power : 100.0 W\n",
      "[codecarbon INFO @ 14:31:53] Energy consumed for all GPUs : 0.051148 kWh. Total GPU Power : 268.85909918026397 W\n",
      "[codecarbon INFO @ 14:31:53] 0.106403 kWh of electricity used since the beginning.\n"
     ]
    },
    {
     "name": "stdout",
     "output_type": "stream",
     "text": [
      "Vehicle Prediction: trailer\n"
     ]
    },
    {
     "name": "stderr",
     "output_type": "stream",
     "text": [
      "Processing: truck 4:  83%|████████▎ | 769/932 [11:34<02:50,  1.05s/file]"
     ]
    },
    {
     "name": "stdout",
     "output_type": "stream",
     "text": [
      "Axle Prediction: 3<|eot_id|>\n",
      "Invalid axle prediction: 3<|eot_id|>\n",
      "Validation Result: True\n",
      "Vehicle Prediction: trailer\n"
     ]
    },
    {
     "name": "stderr",
     "output_type": "stream",
     "text": [
      "Processing: truck 4:  83%|████████▎ | 770/932 [11:35<02:42,  1.01s/file]"
     ]
    },
    {
     "name": "stdout",
     "output_type": "stream",
     "text": [
      "Axle Prediction: depicted\n",
      "Invalid axle prediction: depicted\n",
      "Validation Result: True\n",
      "Vehicle Prediction: truck\n",
      "Is Pickup Truck: no\n"
     ]
    },
    {
     "name": "stderr",
     "output_type": "stream",
     "text": [
      "Processing: truck 4:  83%|████████▎ | 771/932 [11:37<02:55,  1.09s/file]"
     ]
    },
    {
     "name": "stdout",
     "output_type": "stream",
     "text": [
      "Axle Prediction: 3\n",
      "Validation Result: False\n",
      "Vehicle Prediction: trailer\n"
     ]
    },
    {
     "name": "stderr",
     "output_type": "stream",
     "text": [
      "Processing: truck 4:  83%|████████▎ | 772/932 [11:38<02:48,  1.05s/file]"
     ]
    },
    {
     "name": "stdout",
     "output_type": "stream",
     "text": [
      "Axle Prediction: 5<|eot_id|>\n",
      "Invalid axle prediction: 5<|eot_id|>\n",
      "Validation Result: True\n",
      "Vehicle Prediction: truck\n",
      "Is Pickup Truck: no\n"
     ]
    },
    {
     "name": "stderr",
     "output_type": "stream",
     "text": [
      "Processing: truck 4:  83%|████████▎ | 773/932 [11:39<03:01,  1.14s/file]"
     ]
    },
    {
     "name": "stdout",
     "output_type": "stream",
     "text": [
      "Axle Prediction: 3\n",
      "Validation Result: False\n",
      "Vehicle Prediction: truck\n",
      "Is Pickup Truck: no\n"
     ]
    },
    {
     "name": "stderr",
     "output_type": "stream",
     "text": [
      "Processing: truck 4:  83%|████████▎ | 774/932 [11:40<03:10,  1.21s/file]"
     ]
    },
    {
     "name": "stdout",
     "output_type": "stream",
     "text": [
      "Axle Prediction: h\n",
      "Invalid axle prediction: h\n",
      "Validation Result: True\n",
      "Vehicle Prediction: truck\n",
      "Is Pickup Truck: no\n"
     ]
    },
    {
     "name": "stderr",
     "output_type": "stream",
     "text": [
      "Processing: truck 4:  83%|████████▎ | 775/932 [11:41<03:13,  1.23s/file]"
     ]
    },
    {
     "name": "stdout",
     "output_type": "stream",
     "text": [
      "Axle Prediction: 3\n",
      "Validation Result: False\n",
      "Vehicle Prediction: truck\n",
      "Is Pickup Truck: no\n"
     ]
    },
    {
     "name": "stderr",
     "output_type": "stream",
     "text": [
      "Processing: truck 4:  83%|████████▎ | 776/932 [11:43<03:22,  1.30s/file]"
     ]
    },
    {
     "name": "stdout",
     "output_type": "stream",
     "text": [
      "Axle Prediction: h\n",
      "Invalid axle prediction: h\n",
      "Validation Result: True\n",
      "Vehicle Prediction: truck\n",
      "Is Pickup Truck: no\n"
     ]
    },
    {
     "name": "stderr",
     "output_type": "stream",
     "text": [
      "Processing: truck 4:  83%|████████▎ | 777/932 [11:44<03:22,  1.30s/file]"
     ]
    },
    {
     "name": "stdout",
     "output_type": "stream",
     "text": [
      "Axle Prediction: 3\n",
      "Validation Result: False\n",
      "Vehicle Prediction: trailer\n"
     ]
    },
    {
     "name": "stderr",
     "output_type": "stream",
     "text": [
      "Processing: truck 4:  83%|████████▎ | 778/932 [11:45<03:03,  1.19s/file]"
     ]
    },
    {
     "name": "stdout",
     "output_type": "stream",
     "text": [
      "Axle Prediction: three\n",
      "Invalid axle prediction: three\n",
      "Validation Result: True\n",
      "Vehicle Prediction: trailer\n"
     ]
    },
    {
     "name": "stderr",
     "output_type": "stream",
     "text": [
      "Processing: truck 4:  84%|████████▎ | 779/932 [11:46<02:46,  1.09s/file]"
     ]
    },
    {
     "name": "stdout",
     "output_type": "stream",
     "text": [
      "Axle Prediction: 3<|eot_id|>\n",
      "Invalid axle prediction: 3<|eot_id|>\n",
      "Validation Result: True\n",
      "Vehicle Prediction: truck\n",
      "Is Pickup Truck: no\n"
     ]
    },
    {
     "name": "stderr",
     "output_type": "stream",
     "text": [
      "Processing: truck 4:  84%|████████▎ | 780/932 [11:48<03:03,  1.21s/file]"
     ]
    },
    {
     "name": "stdout",
     "output_type": "stream",
     "text": [
      "Axle Prediction: 3\n",
      "Validation Result: False\n",
      "Vehicle Prediction: truck\n",
      "Is Pickup Truck: no\n"
     ]
    },
    {
     "name": "stderr",
     "output_type": "stream",
     "text": [
      "Processing: truck 4:  84%|████████▍ | 781/932 [11:49<03:09,  1.25s/file][codecarbon INFO @ 14:32:08] Energy consumed for RAM : 0.036907 kWh. RAM Power : 188.80178117752075 W\n",
      "[codecarbon INFO @ 14:32:08] Energy consumed for all CPUs : 0.019551 kWh. Total CPU Power : 100.0 W\n",
      "[codecarbon INFO @ 14:32:08] Energy consumed for all GPUs : 0.052280 kWh. Total GPU Power : 271.62801340155863 W\n",
      "[codecarbon INFO @ 14:32:08] 0.108738 kWh of electricity used since the beginning.\n"
     ]
    },
    {
     "name": "stdout",
     "output_type": "stream",
     "text": [
      "Axle Prediction: 5\n",
      "Validation Result: False\n",
      "Vehicle Prediction: truck\n",
      "Is Pickup Truck: no\n"
     ]
    },
    {
     "name": "stderr",
     "output_type": "stream",
     "text": [
      "Processing: truck 4:  84%|████████▍ | 782/932 [11:50<03:09,  1.26s/file]"
     ]
    },
    {
     "name": "stdout",
     "output_type": "stream",
     "text": [
      "Axle Prediction: 3\n",
      "Validation Result: False\n",
      "Vehicle Prediction: truck\n",
      "Is Pickup Truck: no\n"
     ]
    },
    {
     "name": "stderr",
     "output_type": "stream",
     "text": [
      "Processing: truck 4:  84%|████████▍ | 783/932 [11:52<03:12,  1.29s/file]"
     ]
    },
    {
     "name": "stdout",
     "output_type": "stream",
     "text": [
      "Axle Prediction: d\n",
      "Invalid axle prediction: d\n",
      "Validation Result: True\n",
      "Vehicle Prediction: truck\n",
      "Is Pickup Truck: no\n"
     ]
    },
    {
     "name": "stderr",
     "output_type": "stream",
     "text": [
      "Processing: truck 4:  84%|████████▍ | 784/932 [11:53<03:14,  1.31s/file]"
     ]
    },
    {
     "name": "stdout",
     "output_type": "stream",
     "text": [
      "Axle Prediction: 3\n",
      "Validation Result: False\n",
      "Vehicle Prediction: truck\n",
      "Is Pickup Truck: no\n"
     ]
    },
    {
     "name": "stderr",
     "output_type": "stream",
     "text": [
      "Processing: truck 4:  84%|████████▍ | 785/932 [11:54<03:20,  1.36s/file]"
     ]
    },
    {
     "name": "stdout",
     "output_type": "stream",
     "text": [
      "Axle Prediction: 3\n",
      "Validation Result: False\n",
      "Vehicle Prediction: truck\n",
      "Is Pickup Truck: no\n"
     ]
    },
    {
     "name": "stderr",
     "output_type": "stream",
     "text": [
      "Processing: truck 4:  84%|████████▍ | 786/932 [11:56<03:24,  1.40s/file]"
     ]
    },
    {
     "name": "stdout",
     "output_type": "stream",
     "text": [
      "Axle Prediction: 3\n",
      "Validation Result: False\n",
      "Vehicle Prediction: truck\n",
      "Is Pickup Truck: no\n"
     ]
    },
    {
     "name": "stderr",
     "output_type": "stream",
     "text": [
      "Processing: truck 4:  84%|████████▍ | 787/932 [11:57<03:22,  1.40s/file]"
     ]
    },
    {
     "name": "stdout",
     "output_type": "stream",
     "text": [
      "Axle Prediction: 3\n",
      "Validation Result: False\n",
      "Vehicle Prediction: truck\n",
      "Is Pickup Truck: no\n"
     ]
    },
    {
     "name": "stderr",
     "output_type": "stream",
     "text": [
      "Processing: truck 4:  85%|████████▍ | 788/932 [11:59<03:20,  1.39s/file]"
     ]
    },
    {
     "name": "stdout",
     "output_type": "stream",
     "text": [
      "Axle Prediction: d\n",
      "Invalid axle prediction: d\n",
      "Validation Result: True\n",
      "Vehicle Prediction: truck\n",
      "Is Pickup Truck: no\n"
     ]
    },
    {
     "name": "stderr",
     "output_type": "stream",
     "text": [
      "Processing: truck 4:  85%|████████▍ | 789/932 [12:00<03:15,  1.37s/file]"
     ]
    },
    {
     "name": "stdout",
     "output_type": "stream",
     "text": [
      "Axle Prediction: 3\n",
      "Validation Result: False\n",
      "Vehicle Prediction: trailer\n"
     ]
    },
    {
     "name": "stderr",
     "output_type": "stream",
     "text": [
      "Processing: truck 4:  85%|████████▍ | 790/932 [12:01<02:55,  1.24s/file]"
     ]
    },
    {
     "name": "stdout",
     "output_type": "stream",
     "text": [
      "Axle Prediction: in\n",
      "Invalid axle prediction: in\n",
      "Validation Result: True\n",
      "Vehicle Prediction: truck\n",
      "Is Pickup Truck: no\n"
     ]
    },
    {
     "name": "stderr",
     "output_type": "stream",
     "text": [
      "Processing: truck 4:  85%|████████▍ | 791/932 [12:02<03:01,  1.29s/file]"
     ]
    },
    {
     "name": "stdout",
     "output_type": "stream",
     "text": [
      "Axle Prediction: i\n",
      "Invalid axle prediction: i\n",
      "Validation Result: True\n",
      "Vehicle Prediction: truck\n",
      "Is Pickup Truck: no\n"
     ]
    },
    {
     "name": "stderr",
     "output_type": "stream",
     "text": [
      "Processing: truck 4:  85%|████████▍ | 792/932 [12:04<03:03,  1.31s/file]"
     ]
    },
    {
     "name": "stdout",
     "output_type": "stream",
     "text": [
      "Axle Prediction: 3\n",
      "Validation Result: False\n"
     ]
    },
    {
     "name": "stderr",
     "output_type": "stream",
     "text": [
      "[codecarbon INFO @ 14:32:23] Energy consumed for RAM : 0.037693 kWh. RAM Power : 188.80178117752075 W\n",
      "[codecarbon INFO @ 14:32:23] Energy consumed for all CPUs : 0.019968 kWh. Total CPU Power : 100.0 W\n",
      "[codecarbon INFO @ 14:32:23] Energy consumed for all GPUs : 0.053393 kWh. Total GPU Power : 267.19415469680007 W\n",
      "[codecarbon INFO @ 14:32:23] 0.111053 kWh of electricity used since the beginning.\n",
      "[codecarbon INFO @ 14:32:23] 0.069863 g.CO2eq/s mean an estimation of 2,203.2137802390807 kg.CO2eq/year\n"
     ]
    },
    {
     "name": "stdout",
     "output_type": "stream",
     "text": [
      "Vehicle Prediction: truck\n",
      "Is Pickup Truck: no\n"
     ]
    },
    {
     "name": "stderr",
     "output_type": "stream",
     "text": [
      "Processing: truck 4:  85%|████████▌ | 793/932 [12:05<03:06,  1.34s/file]"
     ]
    },
    {
     "name": "stdout",
     "output_type": "stream",
     "text": [
      "Axle Prediction: i\n",
      "Invalid axle prediction: i\n",
      "Validation Result: True\n",
      "Vehicle Prediction: truck\n",
      "Is Pickup Truck: no\n"
     ]
    },
    {
     "name": "stderr",
     "output_type": "stream",
     "text": [
      "Processing: truck 4:  85%|████████▌ | 794/932 [12:06<03:05,  1.34s/file]"
     ]
    },
    {
     "name": "stdout",
     "output_type": "stream",
     "text": [
      "Axle Prediction: 3\n",
      "Validation Result: False\n",
      "Vehicle Prediction: trailer\n"
     ]
    },
    {
     "name": "stderr",
     "output_type": "stream",
     "text": [
      "Processing: truck 4:  85%|████████▌ | 795/932 [12:07<02:43,  1.19s/file]"
     ]
    },
    {
     "name": "stdout",
     "output_type": "stream",
     "text": [
      "Axle Prediction: 3<|eot_id|>\n",
      "Invalid axle prediction: 3<|eot_id|>\n",
      "Validation Result: True\n",
      "Vehicle Prediction: truck\n",
      "Is Pickup Truck: no\n"
     ]
    },
    {
     "name": "stderr",
     "output_type": "stream",
     "text": [
      "Processing: truck 4:  85%|████████▌ | 796/932 [12:09<02:47,  1.23s/file]"
     ]
    },
    {
     "name": "stdout",
     "output_type": "stream",
     "text": [
      "Axle Prediction: i\n",
      "Invalid axle prediction: i\n",
      "Validation Result: True\n",
      "Vehicle Prediction: truck\n",
      "Is Pickup Truck: no\n"
     ]
    },
    {
     "name": "stderr",
     "output_type": "stream",
     "text": [
      "Processing: truck 4:  86%|████████▌ | 797/932 [12:10<02:50,  1.26s/file]"
     ]
    },
    {
     "name": "stdout",
     "output_type": "stream",
     "text": [
      "Axle Prediction: 3\n",
      "Validation Result: False\n",
      "Vehicle Prediction: trailer\n"
     ]
    },
    {
     "name": "stderr",
     "output_type": "stream",
     "text": [
      "Processing: truck 4:  86%|████████▌ | 798/932 [12:11<02:33,  1.14s/file]"
     ]
    },
    {
     "name": "stdout",
     "output_type": "stream",
     "text": [
      "Axle Prediction: 5<|eot_id|>\n",
      "Invalid axle prediction: 5<|eot_id|>\n",
      "Validation Result: True\n",
      "Vehicle Prediction: truck\n",
      "Is Pickup Truck: no\n"
     ]
    },
    {
     "name": "stderr",
     "output_type": "stream",
     "text": [
      "Processing: truck 4:  86%|████████▌ | 799/932 [12:12<02:37,  1.19s/file]"
     ]
    },
    {
     "name": "stdout",
     "output_type": "stream",
     "text": [
      "Axle Prediction: 3\n",
      "Validation Result: False\n",
      "Vehicle Prediction: truck\n",
      "Is Pickup Truck: no\n"
     ]
    },
    {
     "name": "stderr",
     "output_type": "stream",
     "text": [
      "Processing: truck 4:  86%|████████▌ | 800/932 [12:13<02:43,  1.24s/file]"
     ]
    },
    {
     "name": "stdout",
     "output_type": "stream",
     "text": [
      "Axle Prediction: 5\n",
      "Validation Result: False\n",
      "Vehicle Prediction: truck\n",
      "Is Pickup Truck: no\n"
     ]
    },
    {
     "name": "stderr",
     "output_type": "stream",
     "text": [
      "Processing: truck 4:  86%|████████▌ | 801/932 [12:15<02:43,  1.25s/file]"
     ]
    },
    {
     "name": "stdout",
     "output_type": "stream",
     "text": [
      "Axle Prediction: 3\n",
      "Validation Result: False\n",
      "Vehicle Prediction: truck\n",
      "Is Pickup Truck: no\n"
     ]
    },
    {
     "name": "stderr",
     "output_type": "stream",
     "text": [
      "Processing: truck 4:  86%|████████▌ | 802/932 [12:16<02:43,  1.26s/file]"
     ]
    },
    {
     "name": "stdout",
     "output_type": "stream",
     "text": [
      "Axle Prediction: 4\n",
      "Validation Result: True\n",
      "Vehicle Prediction: truck\n",
      "Is Pickup Truck: no\n"
     ]
    },
    {
     "name": "stderr",
     "output_type": "stream",
     "text": [
      "Processing: truck 4:  86%|████████▌ | 803/932 [12:17<02:43,  1.27s/file]"
     ]
    },
    {
     "name": "stdout",
     "output_type": "stream",
     "text": [
      "Axle Prediction: 3\n",
      "Validation Result: False\n",
      "Vehicle Prediction: truck\n",
      "Is Pickup Truck: no\n"
     ]
    },
    {
     "name": "stderr",
     "output_type": "stream",
     "text": [
      "Processing: truck 4:  86%|████████▋ | 804/932 [12:19<02:45,  1.29s/file]"
     ]
    },
    {
     "name": "stdout",
     "output_type": "stream",
     "text": [
      "Axle Prediction: t\n",
      "Invalid axle prediction: t\n",
      "Validation Result: True\n"
     ]
    },
    {
     "name": "stderr",
     "output_type": "stream",
     "text": [
      "[codecarbon INFO @ 14:32:38] Energy consumed for RAM : 0.038479 kWh. RAM Power : 188.80178117752075 W\n",
      "[codecarbon INFO @ 14:32:38] Energy consumed for all CPUs : 0.020384 kWh. Total CPU Power : 100.0 W\n",
      "[codecarbon INFO @ 14:32:38] Energy consumed for all GPUs : 0.054533 kWh. Total GPU Power : 273.7175245034126 W\n",
      "[codecarbon INFO @ 14:32:38] 0.113396 kWh of electricity used since the beginning.\n"
     ]
    },
    {
     "name": "stdout",
     "output_type": "stream",
     "text": [
      "Vehicle Prediction: truck\n",
      "Is Pickup Truck: no\n"
     ]
    },
    {
     "name": "stderr",
     "output_type": "stream",
     "text": [
      "Processing: truck 4:  86%|████████▋ | 805/932 [12:20<02:44,  1.29s/file]"
     ]
    },
    {
     "name": "stdout",
     "output_type": "stream",
     "text": [
      "Axle Prediction: 5\n",
      "Validation Result: False\n",
      "Vehicle Prediction: truck\n",
      "Is Pickup Truck: no\n"
     ]
    },
    {
     "name": "stderr",
     "output_type": "stream",
     "text": [
      "Processing: truck 4:  86%|████████▋ | 806/932 [12:21<02:44,  1.31s/file]"
     ]
    },
    {
     "name": "stdout",
     "output_type": "stream",
     "text": [
      "Axle Prediction: h\n",
      "Invalid axle prediction: h\n",
      "Validation Result: True\n",
      "Vehicle Prediction: truck\n",
      "Is Pickup Truck: no\n"
     ]
    },
    {
     "name": "stderr",
     "output_type": "stream",
     "text": [
      "Processing: truck 4:  87%|████████▋ | 807/932 [12:23<02:41,  1.30s/file]"
     ]
    },
    {
     "name": "stdout",
     "output_type": "stream",
     "text": [
      "Axle Prediction: 6\n",
      "Validation Result: False\n",
      "Vehicle Prediction: trailer\n"
     ]
    },
    {
     "name": "stderr",
     "output_type": "stream",
     "text": [
      "Processing: truck 4:  87%|████████▋ | 808/932 [12:23<02:24,  1.16s/file]"
     ]
    },
    {
     "name": "stdout",
     "output_type": "stream",
     "text": [
      "Axle Prediction: 3<|eot_id|>\n",
      "Invalid axle prediction: 3<|eot_id|>\n",
      "Validation Result: True\n",
      "Vehicle Prediction: truck\n",
      "Is Pickup Truck: no\n"
     ]
    },
    {
     "name": "stderr",
     "output_type": "stream",
     "text": [
      "Processing: truck 4:  87%|████████▋ | 809/932 [12:25<02:27,  1.20s/file]"
     ]
    },
    {
     "name": "stdout",
     "output_type": "stream",
     "text": [
      "Axle Prediction: 3\n",
      "Validation Result: False\n",
      "Vehicle Prediction: truck\n",
      "Is Pickup Truck: no\n"
     ]
    },
    {
     "name": "stderr",
     "output_type": "stream",
     "text": [
      "Processing: truck 4:  87%|████████▋ | 810/932 [12:26<02:31,  1.24s/file]"
     ]
    },
    {
     "name": "stdout",
     "output_type": "stream",
     "text": [
      "Axle Prediction: 5\n",
      "Validation Result: False\n",
      "Vehicle Prediction: truck\n",
      "Is Pickup Truck: no\n"
     ]
    },
    {
     "name": "stderr",
     "output_type": "stream",
     "text": [
      "Processing: truck 4:  87%|████████▋ | 811/932 [12:27<02:32,  1.26s/file]"
     ]
    },
    {
     "name": "stdout",
     "output_type": "stream",
     "text": [
      "Axle Prediction: 3\n",
      "Validation Result: False\n",
      "Vehicle Prediction: truck\n",
      "Is Pickup Truck: no\n"
     ]
    },
    {
     "name": "stderr",
     "output_type": "stream",
     "text": [
      "Processing: truck 4:  87%|████████▋ | 812/932 [12:29<02:31,  1.26s/file]"
     ]
    },
    {
     "name": "stdout",
     "output_type": "stream",
     "text": [
      "Axle Prediction: 5\n",
      "Validation Result: False\n",
      "Vehicle Prediction: truck\n",
      "Is Pickup Truck: no\n"
     ]
    },
    {
     "name": "stderr",
     "output_type": "stream",
     "text": [
      "Processing: truck 4:  87%|████████▋ | 813/932 [12:30<02:31,  1.27s/file]"
     ]
    },
    {
     "name": "stdout",
     "output_type": "stream",
     "text": [
      "Axle Prediction: 6\n",
      "Validation Result: False\n",
      "Vehicle Prediction: trailer\n"
     ]
    },
    {
     "name": "stderr",
     "output_type": "stream",
     "text": [
      "Processing: truck 4:  87%|████████▋ | 814/932 [12:31<02:14,  1.14s/file]"
     ]
    },
    {
     "name": "stdout",
     "output_type": "stream",
     "text": [
      "Axle Prediction: 5<|eot_id|>\n",
      "Invalid axle prediction: 5<|eot_id|>\n",
      "Validation Result: True\n",
      "Vehicle Prediction: trailer\n"
     ]
    },
    {
     "name": "stderr",
     "output_type": "stream",
     "text": [
      "Processing: truck 4:  87%|████████▋ | 815/932 [12:32<02:03,  1.05s/file]"
     ]
    },
    {
     "name": "stdout",
     "output_type": "stream",
     "text": [
      "Axle Prediction: 5<|eot_id|>\n",
      "Invalid axle prediction: 5<|eot_id|>\n",
      "Validation Result: True\n",
      "Vehicle Prediction: truck\n",
      "Is Pickup Truck: no\n"
     ]
    },
    {
     "name": "stderr",
     "output_type": "stream",
     "text": [
      "Processing: truck 4:  88%|████████▊ | 816/932 [12:33<02:11,  1.13s/file]"
     ]
    },
    {
     "name": "stdout",
     "output_type": "stream",
     "text": [
      "Axle Prediction: h\n",
      "Invalid axle prediction: h\n",
      "Validation Result: True\n",
      "Vehicle Prediction: truck\n",
      "Is Pickup Truck: no\n"
     ]
    },
    {
     "name": "stderr",
     "output_type": "stream",
     "text": [
      "[codecarbon INFO @ 14:32:53] Energy consumed for RAM : 0.039252 kWh. RAM Power : 188.80178117752075 W\n",
      "[codecarbon INFO @ 14:32:53] Energy consumed for all CPUs : 0.020794 kWh. Total CPU Power : 100.0 W\n",
      "[codecarbon INFO @ 14:32:53] Energy consumed for all GPUs : 0.055656 kWh. Total GPU Power : 274.1912594490547 W\n",
      "[codecarbon INFO @ 14:32:53] 0.115702 kWh of electricity used since the beginning.\n",
      "Processing: truck 4:  88%|████████▊ | 817/932 [12:34<02:15,  1.18s/file]"
     ]
    },
    {
     "name": "stdout",
     "output_type": "stream",
     "text": [
      "Axle Prediction: 3\n",
      "Validation Result: False\n",
      "Vehicle Prediction: truck\n",
      "Is Pickup Truck: no\n"
     ]
    },
    {
     "name": "stderr",
     "output_type": "stream",
     "text": [
      "Processing: truck 4:  88%|████████▊ | 818/932 [12:35<02:19,  1.23s/file]"
     ]
    },
    {
     "name": "stdout",
     "output_type": "stream",
     "text": [
      "Axle Prediction: h\n",
      "Invalid axle prediction: h\n",
      "Validation Result: True\n",
      "Vehicle Prediction: trailer\n"
     ]
    },
    {
     "name": "stderr",
     "output_type": "stream",
     "text": [
      "Processing: truck 4:  88%|████████▊ | 819/932 [12:36<02:05,  1.11s/file]"
     ]
    },
    {
     "name": "stdout",
     "output_type": "stream",
     "text": [
      "Axle Prediction: 4<|eot_id|>\n",
      "Invalid axle prediction: 4<|eot_id|>\n",
      "Validation Result: True\n",
      "Vehicle Prediction: truck\n",
      "Is Pickup Truck: no\n"
     ]
    },
    {
     "name": "stderr",
     "output_type": "stream",
     "text": [
      "Processing: truck 4:  88%|████████▊ | 820/932 [12:38<02:17,  1.23s/file]"
     ]
    },
    {
     "name": "stdout",
     "output_type": "stream",
     "text": [
      "Axle Prediction: 3\n",
      "Validation Result: False\n",
      "Vehicle Prediction: truck\n",
      "Is Pickup Truck: no\n"
     ]
    },
    {
     "name": "stderr",
     "output_type": "stream",
     "text": [
      "Processing: truck 4:  88%|████████▊ | 821/932 [12:39<02:19,  1.25s/file]"
     ]
    },
    {
     "name": "stdout",
     "output_type": "stream",
     "text": [
      "Axle Prediction: 3\n",
      "Validation Result: False\n",
      "Vehicle Prediction: truck\n",
      "Is Pickup Truck: no\n"
     ]
    },
    {
     "name": "stderr",
     "output_type": "stream",
     "text": [
      "Processing: truck 4:  88%|████████▊ | 822/932 [12:41<02:21,  1.28s/file]"
     ]
    },
    {
     "name": "stdout",
     "output_type": "stream",
     "text": [
      "Axle Prediction: 3\n",
      "Validation Result: False\n",
      "Vehicle Prediction: truck\n",
      "Is Pickup Truck: no\n"
     ]
    },
    {
     "name": "stderr",
     "output_type": "stream",
     "text": [
      "Processing: truck 4:  88%|████████▊ | 823/932 [12:42<02:24,  1.32s/file]"
     ]
    },
    {
     "name": "stdout",
     "output_type": "stream",
     "text": [
      "Axle Prediction: i\n",
      "Invalid axle prediction: i\n",
      "Validation Result: True\n",
      "Vehicle Prediction: truck\n",
      "Is Pickup Truck: no\n"
     ]
    },
    {
     "name": "stderr",
     "output_type": "stream",
     "text": [
      "Processing: truck 4:  88%|████████▊ | 824/932 [12:43<02:24,  1.34s/file]"
     ]
    },
    {
     "name": "stdout",
     "output_type": "stream",
     "text": [
      "Axle Prediction: h\n",
      "Invalid axle prediction: h\n",
      "Validation Result: True\n",
      "Vehicle Prediction: truck\n",
      "Is Pickup Truck: no\n"
     ]
    },
    {
     "name": "stderr",
     "output_type": "stream",
     "text": [
      "Processing: truck 4:  89%|████████▊ | 825/932 [12:45<02:23,  1.34s/file]"
     ]
    },
    {
     "name": "stdout",
     "output_type": "stream",
     "text": [
      "Axle Prediction: d\n",
      "Invalid axle prediction: d\n",
      "Validation Result: True\n",
      "Vehicle Prediction: truck\n",
      "Is Pickup Truck: no\n"
     ]
    },
    {
     "name": "stderr",
     "output_type": "stream",
     "text": [
      "Processing: truck 4:  89%|████████▊ | 826/932 [12:46<02:21,  1.34s/file]"
     ]
    },
    {
     "name": "stdout",
     "output_type": "stream",
     "text": [
      "Axle Prediction: 3\n",
      "Validation Result: False\n",
      "Vehicle Prediction: truck\n",
      "Is Pickup Truck: no\n"
     ]
    },
    {
     "name": "stderr",
     "output_type": "stream",
     "text": [
      "Processing: truck 4:  89%|████████▊ | 827/932 [12:47<02:18,  1.32s/file]"
     ]
    },
    {
     "name": "stdout",
     "output_type": "stream",
     "text": [
      "Axle Prediction: 3\n",
      "Validation Result: False\n",
      "Vehicle Prediction: truck\n",
      "Is Pickup Truck: no\n"
     ]
    },
    {
     "name": "stderr",
     "output_type": "stream",
     "text": [
      "Processing: truck 5:  89%|████████▉ | 828/932 [12:49<02:16,  1.31s/file]"
     ]
    },
    {
     "name": "stdout",
     "output_type": "stream",
     "text": [
      "Axle Prediction: 3\n",
      "Validation Result: False\n"
     ]
    },
    {
     "name": "stderr",
     "output_type": "stream",
     "text": [
      "[codecarbon INFO @ 14:33:08] Energy consumed for RAM : 0.040038 kWh. RAM Power : 188.80178117752075 W\n",
      "[codecarbon INFO @ 14:33:08] Energy consumed for all CPUs : 0.021210 kWh. Total CPU Power : 100.0 W\n",
      "[codecarbon INFO @ 14:33:08] Energy consumed for all GPUs : 0.056780 kWh. Total GPU Power : 269.9262408832357 W\n",
      "[codecarbon INFO @ 14:33:08] 0.118029 kWh of electricity used since the beginning.\n"
     ]
    },
    {
     "name": "stdout",
     "output_type": "stream",
     "text": [
      "Vehicle Prediction: truck\n",
      "Is Pickup Truck: no\n"
     ]
    },
    {
     "name": "stderr",
     "output_type": "stream",
     "text": [
      "Processing: truck 5:  89%|████████▉ | 829/932 [12:50<02:14,  1.31s/file]"
     ]
    },
    {
     "name": "stdout",
     "output_type": "stream",
     "text": [
      "Axle Prediction: 3\n",
      "Validation Result: False\n",
      "Vehicle Prediction: truck\n",
      "Is Pickup Truck: no\n"
     ]
    },
    {
     "name": "stderr",
     "output_type": "stream",
     "text": [
      "Processing: truck 5:  89%|████████▉ | 830/932 [12:51<02:13,  1.31s/file]"
     ]
    },
    {
     "name": "stdout",
     "output_type": "stream",
     "text": [
      "Axle Prediction: 5\n",
      "Validation Result: True\n",
      "Vehicle Prediction: truck\n",
      "Is Pickup Truck: no\n"
     ]
    },
    {
     "name": "stderr",
     "output_type": "stream",
     "text": [
      "Processing: truck 5:  89%|████████▉ | 831/932 [12:53<02:15,  1.34s/file]"
     ]
    },
    {
     "name": "stdout",
     "output_type": "stream",
     "text": [
      "Axle Prediction: i\n",
      "Invalid axle prediction: i\n",
      "Validation Result: True\n",
      "Vehicle Prediction: truck\n",
      "Is Pickup Truck: no\n"
     ]
    },
    {
     "name": "stderr",
     "output_type": "stream",
     "text": [
      "Processing: truck 5:  89%|████████▉ | 832/932 [12:54<02:14,  1.34s/file]"
     ]
    },
    {
     "name": "stdout",
     "output_type": "stream",
     "text": [
      "Axle Prediction: 5\n",
      "Validation Result: True\n",
      "Vehicle Prediction: truck\n",
      "Is Pickup Truck: no\n"
     ]
    },
    {
     "name": "stderr",
     "output_type": "stream",
     "text": [
      "Processing: truck 5:  89%|████████▉ | 833/932 [12:55<02:11,  1.33s/file]"
     ]
    },
    {
     "name": "stdout",
     "output_type": "stream",
     "text": [
      "Axle Prediction: 3\n",
      "Validation Result: False\n",
      "Vehicle Prediction: truck\n",
      "Is Pickup Truck: no\n"
     ]
    },
    {
     "name": "stderr",
     "output_type": "stream",
     "text": [
      "Processing: truck 5:  89%|████████▉ | 834/932 [12:57<02:10,  1.33s/file]"
     ]
    },
    {
     "name": "stdout",
     "output_type": "stream",
     "text": [
      "Axle Prediction: 3\n",
      "Validation Result: False\n",
      "Vehicle Prediction: truck\n",
      "Is Pickup Truck: no\n"
     ]
    },
    {
     "name": "stderr",
     "output_type": "stream",
     "text": [
      "Processing: truck 5:  90%|████████▉ | 835/932 [12:58<02:09,  1.34s/file]"
     ]
    },
    {
     "name": "stdout",
     "output_type": "stream",
     "text": [
      "Axle Prediction: i\n",
      "Invalid axle prediction: i\n",
      "Validation Result: True\n",
      "Vehicle Prediction: truck\n",
      "Is Pickup Truck: no\n"
     ]
    },
    {
     "name": "stderr",
     "output_type": "stream",
     "text": [
      "Processing: truck 5:  90%|████████▉ | 836/932 [12:59<02:06,  1.32s/file]"
     ]
    },
    {
     "name": "stdout",
     "output_type": "stream",
     "text": [
      "Axle Prediction: 5\n",
      "Validation Result: True\n",
      "Vehicle Prediction: truck\n",
      "Is Pickup Truck: no\n"
     ]
    },
    {
     "name": "stderr",
     "output_type": "stream",
     "text": [
      "Processing: truck 5:  90%|████████▉ | 837/932 [13:01<02:33,  1.61s/file]"
     ]
    },
    {
     "name": "stdout",
     "output_type": "stream",
     "text": [
      "Axle Prediction: 3\n",
      "Validation Result: False\n",
      "Vehicle Prediction: truck\n",
      "Is Pickup Truck: no\n"
     ]
    },
    {
     "name": "stderr",
     "output_type": "stream",
     "text": [
      "Processing: truck 5:  90%|████████▉ | 838/932 [13:03<02:23,  1.53s/file]"
     ]
    },
    {
     "name": "stdout",
     "output_type": "stream",
     "text": [
      "Axle Prediction: 5\n",
      "Validation Result: True\n",
      "Vehicle Prediction: truck\n",
      "Is Pickup Truck: no\n"
     ]
    },
    {
     "name": "stderr",
     "output_type": "stream",
     "text": [
      "[codecarbon INFO @ 14:33:23] Energy consumed for RAM : 0.040825 kWh. RAM Power : 188.80178117752075 W\n",
      "[codecarbon INFO @ 14:33:23] Energy consumed for all CPUs : 0.021627 kWh. Total CPU Power : 100.0 W\n",
      "[codecarbon INFO @ 14:33:23] Energy consumed for all GPUs : 0.057868 kWh. Total GPU Power : 261.2229781686468 W\n",
      "[codecarbon INFO @ 14:33:23] 0.120320 kWh of electricity used since the beginning.\n",
      "Processing: truck 5:  90%|█████████ | 839/932 [13:04<02:15,  1.46s/file]"
     ]
    },
    {
     "name": "stdout",
     "output_type": "stream",
     "text": [
      "Axle Prediction: 5\n",
      "Validation Result: True\n",
      "Vehicle Prediction: truck\n",
      "Is Pickup Truck: no\n"
     ]
    },
    {
     "name": "stderr",
     "output_type": "stream",
     "text": [
      "Processing: truck 5:  90%|█████████ | 840/932 [13:05<02:09,  1.41s/file]"
     ]
    },
    {
     "name": "stdout",
     "output_type": "stream",
     "text": [
      "Axle Prediction: 2\n",
      "Validation Result: False\n",
      "Vehicle Prediction: tanker\n"
     ]
    },
    {
     "name": "stderr",
     "output_type": "stream",
     "text": [
      "Processing: truck 5:  90%|█████████ | 841/932 [13:06<01:52,  1.24s/file]"
     ]
    },
    {
     "name": "stdout",
     "output_type": "stream",
     "text": [
      "Axle Prediction: 3<|eot_id|>\n",
      "Invalid axle prediction: 3<|eot_id|>\n",
      "Validation Result: True\n",
      "Vehicle Prediction: truck\n",
      "Is Pickup Truck: no\n"
     ]
    },
    {
     "name": "stderr",
     "output_type": "stream",
     "text": [
      "Processing: truck 5:  90%|█████████ | 842/932 [13:08<01:54,  1.28s/file]"
     ]
    },
    {
     "name": "stdout",
     "output_type": "stream",
     "text": [
      "Axle Prediction: 6\n",
      "Validation Result: True\n",
      "Vehicle Prediction: truck\n",
      "Is Pickup Truck: no\n"
     ]
    },
    {
     "name": "stderr",
     "output_type": "stream",
     "text": [
      "Processing: truck 5:  90%|█████████ | 843/932 [13:09<01:54,  1.28s/file]"
     ]
    },
    {
     "name": "stdout",
     "output_type": "stream",
     "text": [
      "Axle Prediction: 3\n",
      "Validation Result: False\n",
      "Vehicle Prediction: truck\n",
      "Is Pickup Truck: no\n"
     ]
    },
    {
     "name": "stderr",
     "output_type": "stream",
     "text": [
      "Processing: truck 5:  91%|█████████ | 844/932 [13:10<01:53,  1.29s/file]"
     ]
    },
    {
     "name": "stdout",
     "output_type": "stream",
     "text": [
      "Axle Prediction: 5\n",
      "Validation Result: True\n",
      "Vehicle Prediction: truck\n",
      "Is Pickup Truck: no\n"
     ]
    },
    {
     "name": "stderr",
     "output_type": "stream",
     "text": [
      "Processing: truck 5:  91%|█████████ | 845/932 [13:12<01:54,  1.31s/file]"
     ]
    },
    {
     "name": "stdout",
     "output_type": "stream",
     "text": [
      "Axle Prediction: 5\n",
      "Validation Result: True\n",
      "Vehicle Prediction: truck\n",
      "Is Pickup Truck: no\n"
     ]
    },
    {
     "name": "stderr",
     "output_type": "stream",
     "text": [
      "Processing: truck 5:  91%|█████████ | 846/932 [13:13<01:54,  1.33s/file]"
     ]
    },
    {
     "name": "stdout",
     "output_type": "stream",
     "text": [
      "Axle Prediction: 3\n",
      "Validation Result: False\n",
      "Vehicle Prediction: truck\n",
      "Is Pickup Truck: no\n"
     ]
    },
    {
     "name": "stderr",
     "output_type": "stream",
     "text": [
      "Processing: truck 5:  91%|█████████ | 847/932 [13:14<01:58,  1.40s/file]"
     ]
    },
    {
     "name": "stdout",
     "output_type": "stream",
     "text": [
      "Axle Prediction: 5\n",
      "Validation Result: True\n",
      "Vehicle Prediction: truck\n",
      "Is Pickup Truck: no\n"
     ]
    },
    {
     "name": "stderr",
     "output_type": "stream",
     "text": [
      "Processing: truck 5:  91%|█████████ | 848/932 [13:16<01:56,  1.39s/file]"
     ]
    },
    {
     "name": "stdout",
     "output_type": "stream",
     "text": [
      "Axle Prediction: i\n",
      "Invalid axle prediction: i\n",
      "Validation Result: True\n",
      "Vehicle Prediction: truck\n",
      "Is Pickup Truck: no\n"
     ]
    },
    {
     "name": "stderr",
     "output_type": "stream",
     "text": [
      "Processing: truck 5:  91%|█████████ | 849/932 [13:17<01:55,  1.39s/file]"
     ]
    },
    {
     "name": "stdout",
     "output_type": "stream",
     "text": [
      "Axle Prediction: 3\n",
      "Validation Result: False\n",
      "Vehicle Prediction: tanker\n"
     ]
    },
    {
     "name": "stderr",
     "output_type": "stream",
     "text": [
      "Processing: truck 5:  91%|█████████ | 850/932 [13:18<01:40,  1.23s/file]"
     ]
    },
    {
     "name": "stdout",
     "output_type": "stream",
     "text": [
      "Axle Prediction: 3<|eot_id|>\n",
      "Invalid axle prediction: 3<|eot_id|>\n",
      "Validation Result: True\n",
      "Vehicle Prediction: truck\n"
     ]
    },
    {
     "name": "stderr",
     "output_type": "stream",
     "text": [
      "[codecarbon INFO @ 14:33:38] Energy consumed for RAM : 0.041611 kWh. RAM Power : 188.80178117752075 W\n",
      "[codecarbon INFO @ 14:33:38] Energy consumed for all CPUs : 0.022043 kWh. Total CPU Power : 100.0 W\n",
      "[codecarbon INFO @ 14:33:38] Energy consumed for all GPUs : 0.058996 kWh. Total GPU Power : 270.7414718681127 W\n",
      "[codecarbon INFO @ 14:33:38] 0.122651 kWh of electricity used since the beginning.\n"
     ]
    },
    {
     "name": "stdout",
     "output_type": "stream",
     "text": [
      "Is Pickup Truck: no\n"
     ]
    },
    {
     "name": "stderr",
     "output_type": "stream",
     "text": [
      "Processing: truck 5:  91%|█████████▏| 851/932 [13:19<01:41,  1.26s/file]"
     ]
    },
    {
     "name": "stdout",
     "output_type": "stream",
     "text": [
      "Axle Prediction: 5\n",
      "Validation Result: True\n",
      "Vehicle Prediction: truck\n",
      "Is Pickup Truck: no\n"
     ]
    },
    {
     "name": "stderr",
     "output_type": "stream",
     "text": [
      "Processing: truck 5:  91%|█████████▏| 852/932 [13:21<01:41,  1.27s/file]"
     ]
    },
    {
     "name": "stdout",
     "output_type": "stream",
     "text": [
      "Axle Prediction: 3\n",
      "Validation Result: False\n",
      "Vehicle Prediction: truck\n",
      "Is Pickup Truck: no\n"
     ]
    },
    {
     "name": "stderr",
     "output_type": "stream",
     "text": [
      "Processing: truck 5:  92%|█████████▏| 853/932 [13:22<01:42,  1.30s/file]"
     ]
    },
    {
     "name": "stdout",
     "output_type": "stream",
     "text": [
      "Axle Prediction: 3\n",
      "Validation Result: False\n",
      "Vehicle Prediction: truck\n",
      "Is Pickup Truck: no\n"
     ]
    },
    {
     "name": "stderr",
     "output_type": "stream",
     "text": [
      "Processing: truck 5:  92%|█████████▏| 854/932 [13:23<01:41,  1.31s/file]"
     ]
    },
    {
     "name": "stdout",
     "output_type": "stream",
     "text": [
      "Axle Prediction: 5\n",
      "Validation Result: True\n",
      "Vehicle Prediction: truck\n",
      "Is Pickup Truck: no\n"
     ]
    },
    {
     "name": "stderr",
     "output_type": "stream",
     "text": [
      "Processing: truck 5:  92%|█████████▏| 855/932 [13:25<01:40,  1.30s/file]"
     ]
    },
    {
     "name": "stdout",
     "output_type": "stream",
     "text": [
      "Axle Prediction: 5\n",
      "Validation Result: True\n",
      "Vehicle Prediction: truck\n",
      "Is Pickup Truck: no\n"
     ]
    },
    {
     "name": "stderr",
     "output_type": "stream",
     "text": [
      "Processing: truck 5:  92%|█████████▏| 856/932 [13:26<01:39,  1.32s/file]"
     ]
    },
    {
     "name": "stdout",
     "output_type": "stream",
     "text": [
      "Axle Prediction: 6\n",
      "Validation Result: True\n",
      "Vehicle Prediction: truck\n",
      "Is Pickup Truck: no\n"
     ]
    },
    {
     "name": "stderr",
     "output_type": "stream",
     "text": [
      "Processing: truck 5:  92%|█████████▏| 857/932 [13:27<01:37,  1.31s/file]"
     ]
    },
    {
     "name": "stdout",
     "output_type": "stream",
     "text": [
      "Axle Prediction: 5\n",
      "Validation Result: True\n",
      "Vehicle Prediction: truck\n",
      "Is Pickup Truck: no\n"
     ]
    },
    {
     "name": "stderr",
     "output_type": "stream",
     "text": [
      "Processing: truck 5:  92%|█████████▏| 858/932 [13:29<01:36,  1.30s/file]"
     ]
    },
    {
     "name": "stdout",
     "output_type": "stream",
     "text": [
      "Axle Prediction: 5\n",
      "Validation Result: True\n",
      "Vehicle Prediction: truck\n",
      "Is Pickup Truck: no\n"
     ]
    },
    {
     "name": "stderr",
     "output_type": "stream",
     "text": [
      "Processing: truck 5:  92%|█████████▏| 859/932 [13:30<01:37,  1.33s/file]"
     ]
    },
    {
     "name": "stdout",
     "output_type": "stream",
     "text": [
      "Axle Prediction: i\n",
      "Invalid axle prediction: i\n",
      "Validation Result: True\n",
      "Vehicle Prediction: truck\n",
      "Is Pickup Truck: no\n"
     ]
    },
    {
     "name": "stderr",
     "output_type": "stream",
     "text": [
      "Processing: truck 5:  92%|█████████▏| 860/932 [13:31<01:34,  1.32s/file]"
     ]
    },
    {
     "name": "stdout",
     "output_type": "stream",
     "text": [
      "Axle Prediction: 6\n",
      "Validation Result: True\n",
      "Vehicle Prediction: truck\n",
      "Is Pickup Truck: no\n"
     ]
    },
    {
     "name": "stderr",
     "output_type": "stream",
     "text": [
      "Processing: truck 5:  92%|█████████▏| 861/932 [13:33<01:33,  1.32s/file]"
     ]
    },
    {
     "name": "stdout",
     "output_type": "stream",
     "text": [
      "Axle Prediction: d\n",
      "Invalid axle prediction: d\n",
      "Validation Result: True\n",
      "Vehicle Prediction: truck\n",
      "Is Pickup Truck: no\n"
     ]
    },
    {
     "name": "stderr",
     "output_type": "stream",
     "text": [
      "Processing: truck 5:  92%|█████████▏| 862/932 [13:34<01:31,  1.31s/file][codecarbon INFO @ 14:33:53] Energy consumed for RAM : 0.042397 kWh. RAM Power : 188.80178117752075 W\n",
      "[codecarbon INFO @ 14:33:53] Energy consumed for all CPUs : 0.022460 kWh. Total CPU Power : 100.0 W\n",
      "[codecarbon INFO @ 14:33:53] Energy consumed for all GPUs : 0.060140 kWh. Total GPU Power : 274.5094781877967 W\n",
      "[codecarbon INFO @ 14:33:53] 0.124997 kWh of electricity used since the beginning.\n"
     ]
    },
    {
     "name": "stdout",
     "output_type": "stream",
     "text": [
      "Axle Prediction: 5\n",
      "Validation Result: True\n",
      "Vehicle Prediction: truck\n",
      "Is Pickup Truck: no\n"
     ]
    },
    {
     "name": "stderr",
     "output_type": "stream",
     "text": [
      "Processing: truck 5:  93%|█████████▎| 863/932 [13:35<01:29,  1.30s/file]"
     ]
    },
    {
     "name": "stdout",
     "output_type": "stream",
     "text": [
      "Axle Prediction: 6\n",
      "Validation Result: True\n",
      "Vehicle Prediction: truck\n",
      "Is Pickup Truck: no\n"
     ]
    },
    {
     "name": "stderr",
     "output_type": "stream",
     "text": [
      "Processing: truck 5:  93%|█████████▎| 864/932 [13:37<01:29,  1.31s/file]"
     ]
    },
    {
     "name": "stdout",
     "output_type": "stream",
     "text": [
      "Axle Prediction: 6\n",
      "Validation Result: True\n",
      "Vehicle Prediction: truck\n",
      "Is Pickup Truck: no\n"
     ]
    },
    {
     "name": "stderr",
     "output_type": "stream",
     "text": [
      "Processing: truck 5:  93%|█████████▎| 865/932 [13:38<01:27,  1.31s/file]"
     ]
    },
    {
     "name": "stdout",
     "output_type": "stream",
     "text": [
      "Axle Prediction: 6\n",
      "Validation Result: True\n",
      "Vehicle Prediction: truck\n",
      "Is Pickup Truck: no\n"
     ]
    },
    {
     "name": "stderr",
     "output_type": "stream",
     "text": [
      "Processing: truck 5:  93%|█████████▎| 866/932 [13:39<01:25,  1.30s/file]"
     ]
    },
    {
     "name": "stdout",
     "output_type": "stream",
     "text": [
      "Axle Prediction: 5\n",
      "Validation Result: True\n",
      "Vehicle Prediction: trailer\n"
     ]
    },
    {
     "name": "stderr",
     "output_type": "stream",
     "text": [
      "Processing: truck 5:  93%|█████████▎| 867/932 [13:40<01:15,  1.16s/file]"
     ]
    },
    {
     "name": "stdout",
     "output_type": "stream",
     "text": [
      "Axle Prediction: 5<|eot_id|>\n",
      "Invalid axle prediction: 5<|eot_id|>\n",
      "Validation Result: True\n",
      "Vehicle Prediction: truck\n",
      "Is Pickup Truck: no\n"
     ]
    },
    {
     "name": "stderr",
     "output_type": "stream",
     "text": [
      "Processing: truck 5:  93%|█████████▎| 868/932 [13:41<01:16,  1.19s/file]"
     ]
    },
    {
     "name": "stdout",
     "output_type": "stream",
     "text": [
      "Axle Prediction: 5\n",
      "Validation Result: True\n",
      "Vehicle Prediction: tanker\n"
     ]
    },
    {
     "name": "stderr",
     "output_type": "stream",
     "text": [
      "Processing: truck 5:  93%|█████████▎| 869/932 [13:42<01:09,  1.10s/file]"
     ]
    },
    {
     "name": "stdout",
     "output_type": "stream",
     "text": [
      "Axle Prediction: in\n",
      "Invalid axle prediction: in\n",
      "Validation Result: True\n",
      "Vehicle Prediction: truck\n",
      "Is Pickup Truck: no\n"
     ]
    },
    {
     "name": "stderr",
     "output_type": "stream",
     "text": [
      "Processing: truck 5:  93%|█████████▎| 870/932 [13:43<01:11,  1.15s/file]"
     ]
    },
    {
     "name": "stdout",
     "output_type": "stream",
     "text": [
      "Axle Prediction: 3\n",
      "Validation Result: False\n",
      "Vehicle Prediction: truck\n",
      "Is Pickup Truck: no\n"
     ]
    },
    {
     "name": "stderr",
     "output_type": "stream",
     "text": [
      "Processing: truck 5:  93%|█████████▎| 871/932 [13:45<01:12,  1.19s/file]"
     ]
    },
    {
     "name": "stdout",
     "output_type": "stream",
     "text": [
      "Axle Prediction: 6\n",
      "Validation Result: True\n",
      "Vehicle Prediction: truck\n",
      "Is Pickup Truck: no\n"
     ]
    },
    {
     "name": "stderr",
     "output_type": "stream",
     "text": [
      "Processing: truck 5:  94%|█████████▎| 872/932 [13:46<01:12,  1.22s/file]"
     ]
    },
    {
     "name": "stdout",
     "output_type": "stream",
     "text": [
      "Axle Prediction: 6\n",
      "Validation Result: True\n",
      "Vehicle Prediction: truck\n",
      "Is Pickup Truck: no\n"
     ]
    },
    {
     "name": "stderr",
     "output_type": "stream",
     "text": [
      "Processing: truck 5:  94%|█████████▎| 873/932 [13:48<01:17,  1.32s/file]"
     ]
    },
    {
     "name": "stdout",
     "output_type": "stream",
     "text": [
      "Axle Prediction: 5\n",
      "Validation Result: True\n",
      "Vehicle Prediction: truck\n",
      "Is Pickup Truck: no\n"
     ]
    },
    {
     "name": "stderr",
     "output_type": "stream",
     "text": [
      "Processing: truck 5:  94%|█████████▍| 874/932 [13:49<01:16,  1.31s/file]"
     ]
    },
    {
     "name": "stdout",
     "output_type": "stream",
     "text": [
      "Axle Prediction: 6\n",
      "Validation Result: True\n"
     ]
    },
    {
     "name": "stderr",
     "output_type": "stream",
     "text": [
      "[codecarbon INFO @ 14:34:08] Energy consumed for RAM : 0.043184 kWh. RAM Power : 188.80178117752075 W\n",
      "[codecarbon INFO @ 14:34:08] Energy consumed for all CPUs : 0.022876 kWh. Total CPU Power : 100.0 W\n",
      "[codecarbon INFO @ 14:34:08] Energy consumed for all GPUs : 0.061270 kWh. Total GPU Power : 271.350946456632 W\n",
      "[codecarbon INFO @ 14:34:08] 0.127330 kWh of electricity used since the beginning.\n"
     ]
    },
    {
     "name": "stdout",
     "output_type": "stream",
     "text": [
      "Vehicle Prediction: truck\n",
      "Is Pickup Truck: no\n"
     ]
    },
    {
     "name": "stderr",
     "output_type": "stream",
     "text": [
      "Processing: truck 5:  94%|█████████▍| 875/932 [13:50<01:14,  1.30s/file]"
     ]
    },
    {
     "name": "stdout",
     "output_type": "stream",
     "text": [
      "Axle Prediction: 5\n",
      "Validation Result: True\n",
      "Vehicle Prediction: truck\n",
      "Is Pickup Truck: no\n"
     ]
    },
    {
     "name": "stderr",
     "output_type": "stream",
     "text": [
      "Processing: truck 5:  94%|█████████▍| 876/932 [13:51<01:12,  1.29s/file]"
     ]
    },
    {
     "name": "stdout",
     "output_type": "stream",
     "text": [
      "Axle Prediction: 6\n",
      "Validation Result: True\n",
      "Vehicle Prediction: truck\n",
      "Is Pickup Truck: no\n"
     ]
    },
    {
     "name": "stderr",
     "output_type": "stream",
     "text": [
      "Processing: truck 5:  94%|█████████▍| 877/932 [13:53<01:10,  1.29s/file]"
     ]
    },
    {
     "name": "stdout",
     "output_type": "stream",
     "text": [
      "Axle Prediction: 5\n",
      "Validation Result: True\n",
      "Vehicle Prediction: truck\n",
      "Is Pickup Truck: no\n"
     ]
    },
    {
     "name": "stderr",
     "output_type": "stream",
     "text": [
      "Processing: truck 5:  94%|█████████▍| 878/932 [13:54<01:09,  1.28s/file]"
     ]
    },
    {
     "name": "stdout",
     "output_type": "stream",
     "text": [
      "Axle Prediction: 6\n",
      "Validation Result: True\n",
      "Vehicle Prediction: truck\n",
      "Is Pickup Truck: no\n"
     ]
    },
    {
     "name": "stderr",
     "output_type": "stream",
     "text": [
      "Processing: truck 5:  94%|█████████▍| 879/932 [13:55<01:08,  1.28s/file]"
     ]
    },
    {
     "name": "stdout",
     "output_type": "stream",
     "text": [
      "Axle Prediction: 6\n",
      "Validation Result: True\n",
      "Vehicle Prediction: truck\n",
      "Is Pickup Truck: no\n"
     ]
    },
    {
     "name": "stderr",
     "output_type": "stream",
     "text": [
      "Processing: truck 5:  94%|█████████▍| 880/932 [13:57<01:07,  1.30s/file]"
     ]
    },
    {
     "name": "stdout",
     "output_type": "stream",
     "text": [
      "Axle Prediction: 5\n",
      "Validation Result: True\n",
      "Vehicle Prediction: truck\n",
      "Is Pickup Truck: no\n"
     ]
    },
    {
     "name": "stderr",
     "output_type": "stream",
     "text": [
      "Processing: truck 5:  95%|█████████▍| 881/932 [13:58<01:06,  1.31s/file]"
     ]
    },
    {
     "name": "stdout",
     "output_type": "stream",
     "text": [
      "Axle Prediction: h\n",
      "Invalid axle prediction: h\n",
      "Validation Result: True\n",
      "Vehicle Prediction: truck\n",
      "Is Pickup Truck: no\n"
     ]
    },
    {
     "name": "stderr",
     "output_type": "stream",
     "text": [
      "Processing: truck 5:  95%|█████████▍| 882/932 [13:59<01:05,  1.32s/file]"
     ]
    },
    {
     "name": "stdout",
     "output_type": "stream",
     "text": [
      "Axle Prediction: 6\n",
      "Validation Result: True\n",
      "Vehicle Prediction: truck\n",
      "Is Pickup Truck: no\n"
     ]
    },
    {
     "name": "stderr",
     "output_type": "stream",
     "text": [
      "Processing: truck 5:  95%|█████████▍| 883/932 [14:01<01:04,  1.32s/file]"
     ]
    },
    {
     "name": "stdout",
     "output_type": "stream",
     "text": [
      "Axle Prediction: 5\n",
      "Validation Result: True\n",
      "Vehicle Prediction: truck\n",
      "Is Pickup Truck: no\n"
     ]
    },
    {
     "name": "stderr",
     "output_type": "stream",
     "text": [
      "Processing: truck 5:  95%|█████████▍| 884/932 [14:02<01:03,  1.33s/file]"
     ]
    },
    {
     "name": "stdout",
     "output_type": "stream",
     "text": [
      "Axle Prediction: 6\n",
      "Validation Result: True\n",
      "Vehicle Prediction: truck\n",
      "Is Pickup Truck: no\n"
     ]
    },
    {
     "name": "stderr",
     "output_type": "stream",
     "text": [
      "Processing: truck 5:  95%|█████████▍| 885/932 [14:03<01:01,  1.32s/file]"
     ]
    },
    {
     "name": "stdout",
     "output_type": "stream",
     "text": [
      "Axle Prediction: 6\n",
      "Validation Result: True\n",
      "Vehicle Prediction: truck\n"
     ]
    },
    {
     "name": "stderr",
     "output_type": "stream",
     "text": [
      "[codecarbon INFO @ 14:34:23] Energy consumed for RAM : 0.043970 kWh. RAM Power : 188.80178117752075 W\n",
      "[codecarbon INFO @ 14:34:23] Energy consumed for all CPUs : 0.023293 kWh. Total CPU Power : 100.0 W\n",
      "[codecarbon INFO @ 14:34:23] Energy consumed for all GPUs : 0.062405 kWh. Total GPU Power : 272.4007730489545 W\n",
      "[codecarbon INFO @ 14:34:23] 0.129668 kWh of electricity used since the beginning.\n",
      "[codecarbon INFO @ 14:34:23] 0.069755 g.CO2eq/s mean an estimation of 2,199.803613780539 kg.CO2eq/year\n"
     ]
    },
    {
     "name": "stdout",
     "output_type": "stream",
     "text": [
      "Is Pickup Truck: no\n"
     ]
    },
    {
     "name": "stderr",
     "output_type": "stream",
     "text": [
      "Processing: truck 5:  95%|█████████▌| 886/932 [14:04<01:00,  1.31s/file]"
     ]
    },
    {
     "name": "stdout",
     "output_type": "stream",
     "text": [
      "Axle Prediction: 6\n",
      "Validation Result: True\n",
      "Vehicle Prediction: truck\n",
      "Is Pickup Truck: no\n"
     ]
    },
    {
     "name": "stderr",
     "output_type": "stream",
     "text": [
      "Processing: truck 5:  95%|█████████▌| 887/932 [14:06<00:59,  1.32s/file]"
     ]
    },
    {
     "name": "stdout",
     "output_type": "stream",
     "text": [
      "Axle Prediction: h\n",
      "Invalid axle prediction: h\n",
      "Validation Result: True\n",
      "Vehicle Prediction: truck\n",
      "Is Pickup Truck: no\n"
     ]
    },
    {
     "name": "stderr",
     "output_type": "stream",
     "text": [
      "Processing: truck 5:  95%|█████████▌| 888/932 [14:07<00:57,  1.31s/file]"
     ]
    },
    {
     "name": "stdout",
     "output_type": "stream",
     "text": [
      "Axle Prediction: 6\n",
      "Validation Result: True\n",
      "Vehicle Prediction: truck\n",
      "Is Pickup Truck: no\n"
     ]
    },
    {
     "name": "stderr",
     "output_type": "stream",
     "text": [
      "Processing: truck 5:  95%|█████████▌| 889/932 [14:08<00:55,  1.30s/file]"
     ]
    },
    {
     "name": "stdout",
     "output_type": "stream",
     "text": [
      "Axle Prediction: 6\n",
      "Validation Result: True\n",
      "Vehicle Prediction: truck\n",
      "Is Pickup Truck: no\n"
     ]
    },
    {
     "name": "stderr",
     "output_type": "stream",
     "text": [
      "Processing: truck 5:  95%|█████████▌| 890/932 [14:10<00:54,  1.29s/file]"
     ]
    },
    {
     "name": "stdout",
     "output_type": "stream",
     "text": [
      "Axle Prediction: 6\n",
      "Validation Result: True\n",
      "Vehicle Prediction: truck\n",
      "Is Pickup Truck: no\n"
     ]
    },
    {
     "name": "stderr",
     "output_type": "stream",
     "text": [
      "Processing: truck 5:  96%|█████████▌| 891/932 [14:11<00:52,  1.29s/file]"
     ]
    },
    {
     "name": "stdout",
     "output_type": "stream",
     "text": [
      "Axle Prediction: 6\n",
      "Validation Result: True\n",
      "Vehicle Prediction: truck\n",
      "Is Pickup Truck: no\n"
     ]
    },
    {
     "name": "stderr",
     "output_type": "stream",
     "text": [
      "Processing: truck 5:  96%|█████████▌| 892/932 [14:12<00:51,  1.28s/file]"
     ]
    },
    {
     "name": "stdout",
     "output_type": "stream",
     "text": [
      "Axle Prediction: 5\n",
      "Validation Result: True\n",
      "Vehicle Prediction: truck\n",
      "Is Pickup Truck: no\n"
     ]
    },
    {
     "name": "stderr",
     "output_type": "stream",
     "text": [
      "Processing: truck 5:  96%|█████████▌| 893/932 [14:13<00:50,  1.28s/file]"
     ]
    },
    {
     "name": "stdout",
     "output_type": "stream",
     "text": [
      "Axle Prediction: 6\n",
      "Validation Result: True\n",
      "Vehicle Prediction: truck\n",
      "Is Pickup Truck: no\n"
     ]
    },
    {
     "name": "stderr",
     "output_type": "stream",
     "text": [
      "Processing: truck 5:  96%|█████████▌| 894/932 [14:15<00:48,  1.28s/file]"
     ]
    },
    {
     "name": "stdout",
     "output_type": "stream",
     "text": [
      "Axle Prediction: 6\n",
      "Validation Result: True\n",
      "Vehicle Prediction: truck\n",
      "Is Pickup Truck: no\n"
     ]
    },
    {
     "name": "stderr",
     "output_type": "stream",
     "text": [
      "Processing: truck 5:  96%|█████████▌| 895/932 [14:16<00:48,  1.30s/file]"
     ]
    },
    {
     "name": "stdout",
     "output_type": "stream",
     "text": [
      "Axle Prediction: 6\n",
      "Validation Result: True\n",
      "Vehicle Prediction: truck\n",
      "Is Pickup Truck: no\n"
     ]
    },
    {
     "name": "stderr",
     "output_type": "stream",
     "text": [
      "Processing: truck 5:  96%|█████████▌| 896/932 [14:17<00:46,  1.30s/file]"
     ]
    },
    {
     "name": "stdout",
     "output_type": "stream",
     "text": [
      "Axle Prediction: 6\n",
      "Validation Result: True\n",
      "Vehicle Prediction: truck\n",
      "Is Pickup Truck: no\n"
     ]
    },
    {
     "name": "stderr",
     "output_type": "stream",
     "text": [
      "Processing: truck 5:  96%|█████████▌| 897/932 [14:19<00:45,  1.29s/file]"
     ]
    },
    {
     "name": "stdout",
     "output_type": "stream",
     "text": [
      "Axle Prediction: 5\n",
      "Validation Result: True\n"
     ]
    },
    {
     "name": "stderr",
     "output_type": "stream",
     "text": [
      "[codecarbon INFO @ 14:34:38] Energy consumed for RAM : 0.044756 kWh. RAM Power : 188.80178117752075 W\n",
      "[codecarbon INFO @ 14:34:38] Energy consumed for all CPUs : 0.023711 kWh. Total CPU Power : 100.0 W\n",
      "[codecarbon INFO @ 14:34:38] Energy consumed for all GPUs : 0.063556 kWh. Total GPU Power : 275.3486654806634 W\n",
      "[codecarbon INFO @ 14:34:38] 0.132023 kWh of electricity used since the beginning.\n"
     ]
    },
    {
     "name": "stdout",
     "output_type": "stream",
     "text": [
      "Vehicle Prediction: truck\n",
      "Is Pickup Truck: no\n"
     ]
    },
    {
     "name": "stderr",
     "output_type": "stream",
     "text": [
      "Processing: truck 5:  96%|█████████▋| 898/932 [14:20<00:44,  1.31s/file]"
     ]
    },
    {
     "name": "stdout",
     "output_type": "stream",
     "text": [
      "Axle Prediction: 6\n",
      "Validation Result: True\n",
      "Vehicle Prediction: truck\n",
      "Is Pickup Truck: no\n"
     ]
    },
    {
     "name": "stderr",
     "output_type": "stream",
     "text": [
      "Processing: truck 5:  96%|█████████▋| 899/932 [14:21<00:42,  1.29s/file]"
     ]
    },
    {
     "name": "stdout",
     "output_type": "stream",
     "text": [
      "Axle Prediction: 6\n",
      "Validation Result: True\n",
      "Vehicle Prediction: truck\n",
      "Is Pickup Truck: no\n"
     ]
    },
    {
     "name": "stderr",
     "output_type": "stream",
     "text": [
      "Processing: truck 5:  97%|█████████▋| 900/932 [14:23<00:41,  1.29s/file]"
     ]
    },
    {
     "name": "stdout",
     "output_type": "stream",
     "text": [
      "Axle Prediction: 6\n",
      "Validation Result: True\n",
      "Vehicle Prediction: truck\n",
      "Is Pickup Truck: no\n"
     ]
    },
    {
     "name": "stderr",
     "output_type": "stream",
     "text": [
      "Processing: truck 5:  97%|█████████▋| 901/932 [14:24<00:39,  1.29s/file]"
     ]
    },
    {
     "name": "stdout",
     "output_type": "stream",
     "text": [
      "Axle Prediction: 6\n",
      "Validation Result: True\n",
      "Vehicle Prediction: truck\n",
      "Is Pickup Truck: no\n"
     ]
    },
    {
     "name": "stderr",
     "output_type": "stream",
     "text": [
      "Processing: truck 5:  97%|█████████▋| 902/932 [14:25<00:39,  1.30s/file]"
     ]
    },
    {
     "name": "stdout",
     "output_type": "stream",
     "text": [
      "Axle Prediction: 5\n",
      "Validation Result: True\n",
      "Vehicle Prediction: truck\n",
      "Is Pickup Truck: no\n"
     ]
    },
    {
     "name": "stderr",
     "output_type": "stream",
     "text": [
      "Processing: truck 5:  97%|█████████▋| 903/932 [14:26<00:37,  1.30s/file]"
     ]
    },
    {
     "name": "stdout",
     "output_type": "stream",
     "text": [
      "Axle Prediction: 6\n",
      "Validation Result: True\n",
      "Vehicle Prediction: truck\n",
      "Is Pickup Truck: no\n"
     ]
    },
    {
     "name": "stderr",
     "output_type": "stream",
     "text": [
      "Processing: truck 5:  97%|█████████▋| 904/932 [14:28<00:36,  1.30s/file]"
     ]
    },
    {
     "name": "stdout",
     "output_type": "stream",
     "text": [
      "Axle Prediction: 6\n",
      "Validation Result: True\n",
      "Vehicle Prediction: truck\n",
      "Is Pickup Truck: no\n"
     ]
    },
    {
     "name": "stderr",
     "output_type": "stream",
     "text": [
      "Processing: truck 5:  97%|█████████▋| 905/932 [14:29<00:35,  1.30s/file]"
     ]
    },
    {
     "name": "stdout",
     "output_type": "stream",
     "text": [
      "Axle Prediction: 6\n",
      "Validation Result: True\n",
      "Vehicle Prediction: truck\n",
      "Is Pickup Truck: no\n"
     ]
    },
    {
     "name": "stderr",
     "output_type": "stream",
     "text": [
      "Processing: truck 5:  97%|█████████▋| 906/932 [14:30<00:34,  1.32s/file]"
     ]
    },
    {
     "name": "stdout",
     "output_type": "stream",
     "text": [
      "Axle Prediction: 6\n",
      "Validation Result: True\n",
      "Vehicle Prediction: truck\n",
      "Is Pickup Truck: no\n"
     ]
    },
    {
     "name": "stderr",
     "output_type": "stream",
     "text": [
      "Processing: truck 5:  97%|█████████▋| 907/932 [14:32<00:32,  1.32s/file]"
     ]
    },
    {
     "name": "stdout",
     "output_type": "stream",
     "text": [
      "Axle Prediction: h\n",
      "Invalid axle prediction: h\n",
      "Validation Result: True\n",
      "Vehicle Prediction: truck\n",
      "Is Pickup Truck: no\n"
     ]
    },
    {
     "name": "stderr",
     "output_type": "stream",
     "text": [
      "Processing: truck 5:  97%|█████████▋| 908/932 [14:33<00:31,  1.31s/file]"
     ]
    },
    {
     "name": "stdout",
     "output_type": "stream",
     "text": [
      "Axle Prediction: 6\n",
      "Validation Result: True\n",
      "Vehicle Prediction: truck\n"
     ]
    },
    {
     "name": "stderr",
     "output_type": "stream",
     "text": [
      "[codecarbon INFO @ 14:34:53] Energy consumed for RAM : 0.045539 kWh. RAM Power : 188.80178117752075 W\n",
      "[codecarbon INFO @ 14:34:53] Energy consumed for all CPUs : 0.024126 kWh. Total CPU Power : 100.0 W\n",
      "[codecarbon INFO @ 14:34:53] Energy consumed for all GPUs : 0.064686 kWh. Total GPU Power : 272.3127407646666 W\n",
      "[codecarbon INFO @ 14:34:53] 0.134350 kWh of electricity used since the beginning.\n"
     ]
    },
    {
     "name": "stdout",
     "output_type": "stream",
     "text": [
      "Is Pickup Truck: no\n"
     ]
    },
    {
     "name": "stderr",
     "output_type": "stream",
     "text": [
      "Processing: truck 5:  98%|█████████▊| 909/932 [14:34<00:29,  1.30s/file]"
     ]
    },
    {
     "name": "stdout",
     "output_type": "stream",
     "text": [
      "Axle Prediction: 6\n",
      "Validation Result: True\n",
      "Vehicle Prediction: truck\n",
      "Is Pickup Truck: no\n"
     ]
    },
    {
     "name": "stderr",
     "output_type": "stream",
     "text": [
      "Processing: truck 5:  98%|█████████▊| 910/932 [14:36<00:28,  1.29s/file]"
     ]
    },
    {
     "name": "stdout",
     "output_type": "stream",
     "text": [
      "Axle Prediction: 5\n",
      "Validation Result: True\n",
      "Vehicle Prediction: truck\n",
      "Is Pickup Truck: no\n"
     ]
    },
    {
     "name": "stderr",
     "output_type": "stream",
     "text": [
      "Processing: truck 5:  98%|█████████▊| 911/932 [14:37<00:27,  1.31s/file]"
     ]
    },
    {
     "name": "stdout",
     "output_type": "stream",
     "text": [
      "Axle Prediction: 3\n",
      "Validation Result: False\n",
      "Vehicle Prediction: truck\n",
      "Is Pickup Truck: no\n"
     ]
    },
    {
     "name": "stderr",
     "output_type": "stream",
     "text": [
      "Processing: truck 5:  98%|█████████▊| 912/932 [14:38<00:25,  1.30s/file]"
     ]
    },
    {
     "name": "stdout",
     "output_type": "stream",
     "text": [
      "Axle Prediction: 6\n",
      "Validation Result: True\n",
      "Vehicle Prediction: truck\n",
      "Is Pickup Truck: no\n"
     ]
    },
    {
     "name": "stderr",
     "output_type": "stream",
     "text": [
      "Processing: truck 5:  98%|█████████▊| 913/932 [14:39<00:24,  1.29s/file]"
     ]
    },
    {
     "name": "stdout",
     "output_type": "stream",
     "text": [
      "Axle Prediction: 6\n",
      "Validation Result: True\n",
      "Vehicle Prediction: truck\n",
      "Is Pickup Truck: no\n"
     ]
    },
    {
     "name": "stderr",
     "output_type": "stream",
     "text": [
      "Processing: truck 5:  98%|█████████▊| 914/932 [14:41<00:23,  1.29s/file]"
     ]
    },
    {
     "name": "stdout",
     "output_type": "stream",
     "text": [
      "Axle Prediction: 5\n",
      "Validation Result: True\n",
      "Vehicle Prediction: truck\n",
      "Is Pickup Truck: no\n"
     ]
    },
    {
     "name": "stderr",
     "output_type": "stream",
     "text": [
      "Processing: truck 5:  98%|█████████▊| 915/932 [14:42<00:21,  1.28s/file]"
     ]
    },
    {
     "name": "stdout",
     "output_type": "stream",
     "text": [
      "Axle Prediction: 5\n",
      "Validation Result: True\n",
      "Vehicle Prediction: truck\n",
      "Is Pickup Truck: no\n"
     ]
    },
    {
     "name": "stderr",
     "output_type": "stream",
     "text": [
      "Processing: truck 5:  98%|█████████▊| 916/932 [14:43<00:20,  1.28s/file]"
     ]
    },
    {
     "name": "stdout",
     "output_type": "stream",
     "text": [
      "Axle Prediction: 6\n",
      "Validation Result: True\n",
      "Vehicle Prediction: truck\n",
      "Is Pickup Truck: no\n"
     ]
    },
    {
     "name": "stderr",
     "output_type": "stream",
     "text": [
      "Processing: truck 5:  98%|█████████▊| 917/932 [14:45<00:19,  1.28s/file]"
     ]
    },
    {
     "name": "stdout",
     "output_type": "stream",
     "text": [
      "Axle Prediction: 5\n",
      "Validation Result: True\n",
      "Vehicle Prediction: truck\n",
      "Is Pickup Truck: no\n"
     ]
    },
    {
     "name": "stderr",
     "output_type": "stream",
     "text": [
      "Processing: truck 5:  98%|█████████▊| 918/932 [14:46<00:18,  1.29s/file]"
     ]
    },
    {
     "name": "stdout",
     "output_type": "stream",
     "text": [
      "Axle Prediction: 6\n",
      "Validation Result: True\n",
      "Vehicle Prediction: truck\n",
      "Is Pickup Truck: no\n"
     ]
    },
    {
     "name": "stderr",
     "output_type": "stream",
     "text": [
      "Processing: truck 5:  99%|█████████▊| 919/932 [14:47<00:16,  1.28s/file]"
     ]
    },
    {
     "name": "stdout",
     "output_type": "stream",
     "text": [
      "Axle Prediction: 3\n",
      "Validation Result: False\n",
      "Vehicle Prediction: truck\n",
      "Is Pickup Truck: no\n"
     ]
    },
    {
     "name": "stderr",
     "output_type": "stream",
     "text": [
      "Processing: truck 5:  99%|█████████▊| 920/932 [14:48<00:15,  1.28s/file]"
     ]
    },
    {
     "name": "stdout",
     "output_type": "stream",
     "text": [
      "Axle Prediction: 6\n",
      "Validation Result: True\n"
     ]
    },
    {
     "name": "stderr",
     "output_type": "stream",
     "text": [
      "[codecarbon INFO @ 14:35:08] Energy consumed for RAM : 0.046325 kWh. RAM Power : 188.80178117752075 W\n",
      "[codecarbon INFO @ 14:35:08] Energy consumed for all CPUs : 0.024542 kWh. Total CPU Power : 100.0 W\n",
      "[codecarbon INFO @ 14:35:08] Energy consumed for all GPUs : 0.065842 kWh. Total GPU Power : 277.61852924031234 W\n",
      "[codecarbon INFO @ 14:35:08] 0.136709 kWh of electricity used since the beginning.\n"
     ]
    },
    {
     "name": "stdout",
     "output_type": "stream",
     "text": [
      "Vehicle Prediction: truck\n",
      "Is Pickup Truck: no\n"
     ]
    },
    {
     "name": "stderr",
     "output_type": "stream",
     "text": [
      "Processing: truck 5:  99%|█████████▉| 921/932 [14:50<00:14,  1.30s/file]"
     ]
    },
    {
     "name": "stdout",
     "output_type": "stream",
     "text": [
      "Axle Prediction: d\n",
      "Invalid axle prediction: d\n",
      "Validation Result: True\n",
      "Vehicle Prediction: truck\n",
      "Is Pickup Truck: no\n"
     ]
    },
    {
     "name": "stderr",
     "output_type": "stream",
     "text": [
      "Processing: truck 5:  99%|█████████▉| 922/932 [14:51<00:12,  1.29s/file]"
     ]
    },
    {
     "name": "stdout",
     "output_type": "stream",
     "text": [
      "Axle Prediction: 6\n",
      "Validation Result: True\n",
      "Vehicle Prediction: truck\n",
      "Is Pickup Truck: no\n"
     ]
    },
    {
     "name": "stderr",
     "output_type": "stream",
     "text": [
      "Processing: truck 5:  99%|█████████▉| 923/932 [14:52<00:11,  1.29s/file]"
     ]
    },
    {
     "name": "stdout",
     "output_type": "stream",
     "text": [
      "Axle Prediction: 6\n",
      "Validation Result: True\n",
      "Vehicle Prediction: truck\n",
      "Is Pickup Truck: no\n"
     ]
    },
    {
     "name": "stderr",
     "output_type": "stream",
     "text": [
      "Processing: truck 5:  99%|█████████▉| 924/932 [14:54<00:10,  1.29s/file]"
     ]
    },
    {
     "name": "stdout",
     "output_type": "stream",
     "text": [
      "Axle Prediction: 5\n",
      "Validation Result: True\n",
      "Vehicle Prediction: truck\n",
      "Is Pickup Truck: no\n"
     ]
    },
    {
     "name": "stderr",
     "output_type": "stream",
     "text": [
      "Processing: truck 5:  99%|█████████▉| 925/932 [14:55<00:09,  1.30s/file]"
     ]
    },
    {
     "name": "stdout",
     "output_type": "stream",
     "text": [
      "Axle Prediction: 3\n",
      "Validation Result: False\n",
      "Vehicle Prediction: truck\n",
      "Is Pickup Truck: no\n"
     ]
    },
    {
     "name": "stderr",
     "output_type": "stream",
     "text": [
      "Processing: truck 5:  99%|█████████▉| 926/932 [14:56<00:07,  1.31s/file]"
     ]
    },
    {
     "name": "stdout",
     "output_type": "stream",
     "text": [
      "Axle Prediction: 6\n",
      "Validation Result: True\n",
      "Vehicle Prediction: truck\n",
      "Is Pickup Truck: no\n"
     ]
    },
    {
     "name": "stderr",
     "output_type": "stream",
     "text": [
      "Processing: truck 5:  99%|█████████▉| 927/932 [14:58<00:06,  1.32s/file]"
     ]
    },
    {
     "name": "stdout",
     "output_type": "stream",
     "text": [
      "Axle Prediction: 6\n",
      "Validation Result: True\n",
      "Vehicle Prediction: truck\n",
      "Is Pickup Truck: no\n"
     ]
    },
    {
     "name": "stderr",
     "output_type": "stream",
     "text": [
      "Processing: truck 5:  99%|█████████▉| 927/932 [14:59<00:04,  1.03file/s]\n",
      "[codecarbon INFO @ 14:35:18] Energy consumed for RAM : 0.046841 kWh. RAM Power : 188.80178117752075 W\n",
      "[codecarbon INFO @ 14:35:18] Energy consumed for all CPUs : 0.024815 kWh. Total CPU Power : 100.0 W\n",
      "[codecarbon INFO @ 14:35:18] Energy consumed for all GPUs : 0.066588 kWh. Total GPU Power : 273.4006205759794 W\n",
      "[codecarbon INFO @ 14:35:18] 0.138244 kWh of electricity used since the beginning.\n"
     ]
    },
    {
     "name": "stdout",
     "output_type": "stream",
     "text": [
      "Axle Prediction: 5\n",
      "Validation Result: True\n",
      "Total processing time: 899.38 seconds\n",
      "CO2 emissions: 0.062172 kg\n",
      "\n",
      "--- Metrics ---\n",
      "Total Images: 927\n",
      "Correct Predictions: 759\n",
      "Wrong Predictions: 168\n",
      "Accuracy (%): 81.87702265372168\n",
      "Error Rate (%): 18.12297734627832\n",
      "Class 'Class 1 - Motorcycles' - Accuracy: 100.00%, Error Rate: 0.00%\n",
      "Class 'Class 2 - Car, SUV, Station Wagons' - Accuracy: 98.99%, Error Rate: 1.01%\n",
      "Class 'pickup' - Accuracy: 34.00%, Error Rate: 66.00%\n",
      "Class 'van' - Accuracy: 99.00%, Error Rate: 1.00%\n",
      "Class 'bus 2' - Accuracy: 85.71%, Error Rate: 14.29%\n",
      "Class 'truck 2' - Accuracy: 70.30%, Error Rate: 29.70%\n",
      "Class 'bus 3' - Accuracy: 100.00%, Error Rate: 0.00%\n",
      "Class 'truck 3' - Accuracy: 93.00%, Error Rate: 7.00%\n",
      "Class 'truck 4' - Accuracy: 50.57%, Error Rate: 49.43%\n",
      "Class 'truck 5' - Accuracy: 86.00%, Error Rate: 14.00%\n",
      "Processor: x86_64\n",
      "CPU Count: 128\n",
      "Memory (GB): 503.47\n",
      "Elapsed Time (seconds): 899.3800072669983\n"
     ]
    }
   ],
   "source": [
    "for models in model_id:\n",
    "    print(models)\n",
    "    model, tokenizer = FastVisionModel.from_pretrained(models, load_in_4bit = True, use_gradient_checkpointing = False)\n",
    "    wrong_predictions_dir = f'experiment_data/{models}/axles/wrong_predictions'  # Directory to store wrongly predicted images\n",
    "    os.makedirs(wrong_predictions_dir, exist_ok=True)\n",
    "    run = main_loop(wrong_predictions_dir = wrong_predictions_dir)\n",
    "    export_results(run[0], models, run[1], run[2])\n",
    "    \n",
    "        "
   ]
  },
  {
   "cell_type": "code",
   "execution_count": null,
   "metadata": {},
   "outputs": [],
   "source": []
  }
 ],
 "metadata": {
  "accelerator": "GPU",
  "colab": {
   "gpuType": "T4",
   "provenance": []
  },
  "kernelspec": {
   "display_name": "Python 3 (ipykernel)",
   "language": "python",
   "name": "python3"
  },
  "language_info": {
   "codemirror_mode": {
    "name": "ipython",
    "version": 3
   },
   "file_extension": ".py",
   "mimetype": "text/x-python",
   "name": "python",
   "nbconvert_exporter": "python",
   "pygments_lexer": "ipython3",
   "version": "3.11.10"
  },
  "widgets": {
   "application/vnd.jupyter.widget-state+json": {
    "03fb4a86fd634888a5b7b79b8de644c0": {
     "model_module": "@jupyter-widgets/controls",
     "model_module_version": "1.5.0",
     "model_name": "FloatProgressModel",
     "state": {
      "_dom_classes": [],
      "_model_module": "@jupyter-widgets/controls",
      "_model_module_version": "1.5.0",
      "_model_name": "FloatProgressModel",
      "_view_count": null,
      "_view_module": "@jupyter-widgets/controls",
      "_view_module_version": "1.5.0",
      "_view_name": "ProgressView",
      "bar_style": "success",
      "description": "",
      "description_tooltip": null,
      "layout": "IPY_MODEL_ac395c5cf8984c588b5aec4b16d3ecd7",
      "max": 2,
      "min": 0,
      "orientation": "horizontal",
      "style": "IPY_MODEL_b2b2c799c6424b3d8c04b6b0d740495f",
      "value": 2
     }
    },
    "1c8a0accbd9e4ecd92ea6759abcb90b8": {
     "model_module": "@jupyter-widgets/controls",
     "model_module_version": "1.5.0",
     "model_name": "DescriptionStyleModel",
     "state": {
      "_model_module": "@jupyter-widgets/controls",
      "_model_module_version": "1.5.0",
      "_model_name": "DescriptionStyleModel",
      "_view_count": null,
      "_view_module": "@jupyter-widgets/base",
      "_view_module_version": "1.2.0",
      "_view_name": "StyleView",
      "description_width": ""
     }
    },
    "24bdb648a9924a1e9c7492bfad303051": {
     "model_module": "@jupyter-widgets/base",
     "model_module_version": "1.2.0",
     "model_name": "LayoutModel",
     "state": {
      "_model_module": "@jupyter-widgets/base",
      "_model_module_version": "1.2.0",
      "_model_name": "LayoutModel",
      "_view_count": null,
      "_view_module": "@jupyter-widgets/base",
      "_view_module_version": "1.2.0",
      "_view_name": "LayoutView",
      "align_content": null,
      "align_items": null,
      "align_self": null,
      "border": null,
      "bottom": null,
      "display": null,
      "flex": null,
      "flex_flow": null,
      "grid_area": null,
      "grid_auto_columns": null,
      "grid_auto_flow": null,
      "grid_auto_rows": null,
      "grid_column": null,
      "grid_gap": null,
      "grid_row": null,
      "grid_template_areas": null,
      "grid_template_columns": null,
      "grid_template_rows": null,
      "height": null,
      "justify_content": null,
      "justify_items": null,
      "left": null,
      "margin": null,
      "max_height": null,
      "max_width": null,
      "min_height": null,
      "min_width": null,
      "object_fit": null,
      "object_position": null,
      "order": null,
      "overflow": null,
      "overflow_x": null,
      "overflow_y": null,
      "padding": null,
      "right": null,
      "top": null,
      "visibility": null,
      "width": null
     }
    },
    "35e83eef2b3942de9988b141242abf26": {
     "model_module": "@jupyter-widgets/controls",
     "model_module_version": "1.5.0",
     "model_name": "DescriptionStyleModel",
     "state": {
      "_model_module": "@jupyter-widgets/controls",
      "_model_module_version": "1.5.0",
      "_model_name": "DescriptionStyleModel",
      "_view_count": null,
      "_view_module": "@jupyter-widgets/base",
      "_view_module_version": "1.2.0",
      "_view_name": "StyleView",
      "description_width": ""
     }
    },
    "6872ab4ee023411b83902a76159f51a5": {
     "model_module": "@jupyter-widgets/controls",
     "model_module_version": "1.5.0",
     "model_name": "HTMLModel",
     "state": {
      "_dom_classes": [],
      "_model_module": "@jupyter-widgets/controls",
      "_model_module_version": "1.5.0",
      "_model_name": "HTMLModel",
      "_view_count": null,
      "_view_module": "@jupyter-widgets/controls",
      "_view_module_version": "1.5.0",
      "_view_name": "HTMLView",
      "description": "",
      "description_tooltip": null,
      "layout": "IPY_MODEL_e320a6d270f944fcb0002ef0f8316f55",
      "placeholder": "​",
      "style": "IPY_MODEL_1c8a0accbd9e4ecd92ea6759abcb90b8",
      "value": "Loading checkpoint shards: 100%"
     }
    },
    "6b414c9df53d4cff91d850c1ec206af4": {
     "model_module": "@jupyter-widgets/controls",
     "model_module_version": "1.5.0",
     "model_name": "HTMLModel",
     "state": {
      "_dom_classes": [],
      "_model_module": "@jupyter-widgets/controls",
      "_model_module_version": "1.5.0",
      "_model_name": "HTMLModel",
      "_view_count": null,
      "_view_module": "@jupyter-widgets/controls",
      "_view_module_version": "1.5.0",
      "_view_name": "HTMLView",
      "description": "",
      "description_tooltip": null,
      "layout": "IPY_MODEL_c14df69eb5b34254aab962df8ff25261",
      "placeholder": "​",
      "style": "IPY_MODEL_35e83eef2b3942de9988b141242abf26",
      "value": " 2/2 [00:15&lt;00:00,  7.38s/it]"
     }
    },
    "ac395c5cf8984c588b5aec4b16d3ecd7": {
     "model_module": "@jupyter-widgets/base",
     "model_module_version": "1.2.0",
     "model_name": "LayoutModel",
     "state": {
      "_model_module": "@jupyter-widgets/base",
      "_model_module_version": "1.2.0",
      "_model_name": "LayoutModel",
      "_view_count": null,
      "_view_module": "@jupyter-widgets/base",
      "_view_module_version": "1.2.0",
      "_view_name": "LayoutView",
      "align_content": null,
      "align_items": null,
      "align_self": null,
      "border": null,
      "bottom": null,
      "display": null,
      "flex": null,
      "flex_flow": null,
      "grid_area": null,
      "grid_auto_columns": null,
      "grid_auto_flow": null,
      "grid_auto_rows": null,
      "grid_column": null,
      "grid_gap": null,
      "grid_row": null,
      "grid_template_areas": null,
      "grid_template_columns": null,
      "grid_template_rows": null,
      "height": null,
      "justify_content": null,
      "justify_items": null,
      "left": null,
      "margin": null,
      "max_height": null,
      "max_width": null,
      "min_height": null,
      "min_width": null,
      "object_fit": null,
      "object_position": null,
      "order": null,
      "overflow": null,
      "overflow_x": null,
      "overflow_y": null,
      "padding": null,
      "right": null,
      "top": null,
      "visibility": null,
      "width": null
     }
    },
    "b2b2c799c6424b3d8c04b6b0d740495f": {
     "model_module": "@jupyter-widgets/controls",
     "model_module_version": "1.5.0",
     "model_name": "ProgressStyleModel",
     "state": {
      "_model_module": "@jupyter-widgets/controls",
      "_model_module_version": "1.5.0",
      "_model_name": "ProgressStyleModel",
      "_view_count": null,
      "_view_module": "@jupyter-widgets/base",
      "_view_module_version": "1.2.0",
      "_view_name": "StyleView",
      "bar_color": null,
      "description_width": ""
     }
    },
    "beff6fe1bbfd489c88b4d0f9940a1d01": {
     "model_module": "@jupyter-widgets/controls",
     "model_module_version": "1.5.0",
     "model_name": "HBoxModel",
     "state": {
      "_dom_classes": [],
      "_model_module": "@jupyter-widgets/controls",
      "_model_module_version": "1.5.0",
      "_model_name": "HBoxModel",
      "_view_count": null,
      "_view_module": "@jupyter-widgets/controls",
      "_view_module_version": "1.5.0",
      "_view_name": "HBoxView",
      "box_style": "",
      "children": [
       "IPY_MODEL_6872ab4ee023411b83902a76159f51a5",
       "IPY_MODEL_03fb4a86fd634888a5b7b79b8de644c0",
       "IPY_MODEL_6b414c9df53d4cff91d850c1ec206af4"
      ],
      "layout": "IPY_MODEL_24bdb648a9924a1e9c7492bfad303051"
     }
    },
    "c14df69eb5b34254aab962df8ff25261": {
     "model_module": "@jupyter-widgets/base",
     "model_module_version": "1.2.0",
     "model_name": "LayoutModel",
     "state": {
      "_model_module": "@jupyter-widgets/base",
      "_model_module_version": "1.2.0",
      "_model_name": "LayoutModel",
      "_view_count": null,
      "_view_module": "@jupyter-widgets/base",
      "_view_module_version": "1.2.0",
      "_view_name": "LayoutView",
      "align_content": null,
      "align_items": null,
      "align_self": null,
      "border": null,
      "bottom": null,
      "display": null,
      "flex": null,
      "flex_flow": null,
      "grid_area": null,
      "grid_auto_columns": null,
      "grid_auto_flow": null,
      "grid_auto_rows": null,
      "grid_column": null,
      "grid_gap": null,
      "grid_row": null,
      "grid_template_areas": null,
      "grid_template_columns": null,
      "grid_template_rows": null,
      "height": null,
      "justify_content": null,
      "justify_items": null,
      "left": null,
      "margin": null,
      "max_height": null,
      "max_width": null,
      "min_height": null,
      "min_width": null,
      "object_fit": null,
      "object_position": null,
      "order": null,
      "overflow": null,
      "overflow_x": null,
      "overflow_y": null,
      "padding": null,
      "right": null,
      "top": null,
      "visibility": null,
      "width": null
     }
    },
    "e320a6d270f944fcb0002ef0f8316f55": {
     "model_module": "@jupyter-widgets/base",
     "model_module_version": "1.2.0",
     "model_name": "LayoutModel",
     "state": {
      "_model_module": "@jupyter-widgets/base",
      "_model_module_version": "1.2.0",
      "_model_name": "LayoutModel",
      "_view_count": null,
      "_view_module": "@jupyter-widgets/base",
      "_view_module_version": "1.2.0",
      "_view_name": "LayoutView",
      "align_content": null,
      "align_items": null,
      "align_self": null,
      "border": null,
      "bottom": null,
      "display": null,
      "flex": null,
      "flex_flow": null,
      "grid_area": null,
      "grid_auto_columns": null,
      "grid_auto_flow": null,
      "grid_auto_rows": null,
      "grid_column": null,
      "grid_gap": null,
      "grid_row": null,
      "grid_template_areas": null,
      "grid_template_columns": null,
      "grid_template_rows": null,
      "height": null,
      "justify_content": null,
      "justify_items": null,
      "left": null,
      "margin": null,
      "max_height": null,
      "max_width": null,
      "min_height": null,
      "min_width": null,
      "object_fit": null,
      "object_position": null,
      "order": null,
      "overflow": null,
      "overflow_x": null,
      "overflow_y": null,
      "padding": null,
      "right": null,
      "top": null,
      "visibility": null,
      "width": null
     }
    }
   }
  }
 },
 "nbformat": 4,
 "nbformat_minor": 4
}
