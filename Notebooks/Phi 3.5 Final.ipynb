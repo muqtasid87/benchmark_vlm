{
 "cells": [
  {
   "cell_type": "code",
   "execution_count": 1,
   "metadata": {
    "colab": {
     "base_uri": "https://localhost:8080/"
    },
    "id": "o2vP9MtDmuLm",
    "outputId": "8d2200b2-9935-462c-9c42-a7e648d8d36a"
   },
   "outputs": [
    {
     "name": "stdout",
     "output_type": "stream",
     "text": [
      "Cloning into 'benchmark_vlm'...\n",
      "remote: Enumerating objects: 2212, done.\u001b[K\n",
      "remote: Counting objects: 100% (20/20), done.\u001b[K\n",
      "remote: Compressing objects: 100% (17/17), done.\u001b[K\n",
      "remote: Total 2212 (delta 1), reused 11 (delta 1), pack-reused 2192 (from 1)\u001b[K\n",
      "Receiving objects: 100% (2212/2212), 133.63 MiB | 21.29 MiB/s, done.\n",
      "Resolving deltas: 100% (1/1), done.\n"
     ]
    }
   ],
   "source": [
    "!git clone https://github.com/muqtasid87/benchmark_vlm"
   ]
  },
  {
   "cell_type": "code",
   "execution_count": 9,
   "metadata": {},
   "outputs": [
    {
     "name": "stdout",
     "output_type": "stream",
     "text": [
      "Requirement already satisfied: transformers in /opt/conda/lib/python3.11/site-packages (4.47.1)\n",
      "Requirement already satisfied: codecarbon in /opt/conda/lib/python3.11/site-packages (2.8.2)\n",
      "Requirement already satisfied: bitsandbytes in /opt/conda/lib/python3.11/site-packages (0.45.0)\n",
      "Collecting accelerate\n",
      "  Downloading accelerate-1.2.1-py3-none-any.whl.metadata (19 kB)\n",
      "Requirement already satisfied: filelock in /opt/conda/lib/python3.11/site-packages (from transformers) (3.16.1)\n",
      "Requirement already satisfied: huggingface-hub<1.0,>=0.24.0 in /opt/conda/lib/python3.11/site-packages (from transformers) (0.27.0)\n",
      "Requirement already satisfied: numpy>=1.17 in /opt/conda/lib/python3.11/site-packages (from transformers) (2.1.2)\n",
      "Requirement already satisfied: packaging>=20.0 in /opt/conda/lib/python3.11/site-packages (from transformers) (24.1)\n",
      "Requirement already satisfied: pyyaml>=5.1 in /opt/conda/lib/python3.11/site-packages (from transformers) (6.0.2)\n",
      "Requirement already satisfied: regex!=2019.12.17 in /opt/conda/lib/python3.11/site-packages (from transformers) (2024.11.6)\n",
      "Requirement already satisfied: requests in /opt/conda/lib/python3.11/site-packages (from transformers) (2.32.3)\n",
      "Requirement already satisfied: tokenizers<0.22,>=0.21 in /opt/conda/lib/python3.11/site-packages (from transformers) (0.21.0)\n",
      "Requirement already satisfied: safetensors>=0.4.1 in /opt/conda/lib/python3.11/site-packages (from transformers) (0.4.5)\n",
      "Requirement already satisfied: tqdm>=4.27 in /opt/conda/lib/python3.11/site-packages (from transformers) (4.66.5)\n",
      "Requirement already satisfied: arrow in /opt/conda/lib/python3.11/site-packages (from codecarbon) (1.3.0)\n",
      "Requirement already satisfied: click in /opt/conda/lib/python3.11/site-packages (from codecarbon) (8.1.7)\n",
      "Requirement already satisfied: fief-client[cli] in /opt/conda/lib/python3.11/site-packages (from codecarbon) (0.20.0)\n",
      "Requirement already satisfied: pandas in /opt/conda/lib/python3.11/site-packages (from codecarbon) (2.2.3)\n",
      "Requirement already satisfied: prometheus-client in /opt/conda/lib/python3.11/site-packages (from codecarbon) (0.21.0)\n",
      "Requirement already satisfied: psutil in /opt/conda/lib/python3.11/site-packages (from codecarbon) (6.1.0)\n",
      "Requirement already satisfied: py-cpuinfo in /opt/conda/lib/python3.11/site-packages (from codecarbon) (9.0.0)\n",
      "Requirement already satisfied: pynvml in /opt/conda/lib/python3.11/site-packages (from codecarbon) (12.0.0)\n",
      "Requirement already satisfied: questionary in /opt/conda/lib/python3.11/site-packages (from codecarbon) (2.0.1)\n",
      "Requirement already satisfied: rapidfuzz in /opt/conda/lib/python3.11/site-packages (from codecarbon) (3.11.0)\n",
      "Requirement already satisfied: rich in /opt/conda/lib/python3.11/site-packages (from codecarbon) (13.9.4)\n",
      "Requirement already satisfied: typer in /opt/conda/lib/python3.11/site-packages (from codecarbon) (0.15.1)\n",
      "Requirement already satisfied: torch in /opt/conda/lib/python3.11/site-packages (from bitsandbytes) (2.5.1+cu124)\n",
      "Requirement already satisfied: typing_extensions>=4.8.0 in /opt/conda/lib/python3.11/site-packages (from bitsandbytes) (4.12.2)\n",
      "Requirement already satisfied: fsspec>=2023.5.0 in /opt/conda/lib/python3.11/site-packages (from huggingface-hub<1.0,>=0.24.0->transformers) (2024.10.0)\n",
      "Requirement already satisfied: networkx in /opt/conda/lib/python3.11/site-packages (from torch->bitsandbytes) (3.4.2)\n",
      "Requirement already satisfied: jinja2 in /opt/conda/lib/python3.11/site-packages (from torch->bitsandbytes) (3.1.4)\n",
      "Requirement already satisfied: nvidia-cuda-nvrtc-cu12==12.4.127 in /opt/conda/lib/python3.11/site-packages (from torch->bitsandbytes) (12.4.127)\n",
      "Requirement already satisfied: nvidia-cuda-runtime-cu12==12.4.127 in /opt/conda/lib/python3.11/site-packages (from torch->bitsandbytes) (12.4.127)\n",
      "Requirement already satisfied: nvidia-cuda-cupti-cu12==12.4.127 in /opt/conda/lib/python3.11/site-packages (from torch->bitsandbytes) (12.4.127)\n",
      "Requirement already satisfied: nvidia-cudnn-cu12==9.1.0.70 in /opt/conda/lib/python3.11/site-packages (from torch->bitsandbytes) (9.1.0.70)\n",
      "Requirement already satisfied: nvidia-cublas-cu12==12.4.5.8 in /opt/conda/lib/python3.11/site-packages (from torch->bitsandbytes) (12.4.5.8)\n",
      "Requirement already satisfied: nvidia-cufft-cu12==11.2.1.3 in /opt/conda/lib/python3.11/site-packages (from torch->bitsandbytes) (11.2.1.3)\n",
      "Requirement already satisfied: nvidia-curand-cu12==10.3.5.147 in /opt/conda/lib/python3.11/site-packages (from torch->bitsandbytes) (10.3.5.147)\n",
      "Requirement already satisfied: nvidia-cusolver-cu12==11.6.1.9 in /opt/conda/lib/python3.11/site-packages (from torch->bitsandbytes) (11.6.1.9)\n",
      "Requirement already satisfied: nvidia-cusparse-cu12==12.3.1.170 in /opt/conda/lib/python3.11/site-packages (from torch->bitsandbytes) (12.3.1.170)\n",
      "Requirement already satisfied: nvidia-nccl-cu12==2.21.5 in /opt/conda/lib/python3.11/site-packages (from torch->bitsandbytes) (2.21.5)\n",
      "Requirement already satisfied: nvidia-nvtx-cu12==12.4.127 in /opt/conda/lib/python3.11/site-packages (from torch->bitsandbytes) (12.4.127)\n",
      "Requirement already satisfied: nvidia-nvjitlink-cu12==12.4.127 in /opt/conda/lib/python3.11/site-packages (from torch->bitsandbytes) (12.4.127)\n",
      "Requirement already satisfied: triton==3.1.0 in /opt/conda/lib/python3.11/site-packages (from torch->bitsandbytes) (3.1.0)\n",
      "Requirement already satisfied: sympy==1.13.1 in /opt/conda/lib/python3.11/site-packages (from torch->bitsandbytes) (1.13.1)\n",
      "Requirement already satisfied: mpmath<1.4,>=1.1.0 in /opt/conda/lib/python3.11/site-packages (from sympy==1.13.1->torch->bitsandbytes) (1.3.0)\n",
      "Requirement already satisfied: python-dateutil>=2.7.0 in /opt/conda/lib/python3.11/site-packages (from arrow->codecarbon) (2.9.0.post0)\n",
      "Requirement already satisfied: types-python-dateutil>=2.8.10 in /opt/conda/lib/python3.11/site-packages (from arrow->codecarbon) (2.9.0.20241003)\n",
      "Requirement already satisfied: httpx<0.28.0,>=0.21.3 in /opt/conda/lib/python3.11/site-packages (from fief-client[cli]->codecarbon) (0.27.2)\n",
      "Requirement already satisfied: jwcrypto<2.0.0,>=1.4 in /opt/conda/lib/python3.11/site-packages (from fief-client[cli]->codecarbon) (1.5.6)\n",
      "Requirement already satisfied: yaspin in /opt/conda/lib/python3.11/site-packages (from fief-client[cli]->codecarbon) (3.1.0)\n",
      "Requirement already satisfied: pytz>=2020.1 in /opt/conda/lib/python3.11/site-packages (from pandas->codecarbon) (2024.2)\n",
      "Requirement already satisfied: tzdata>=2022.7 in /opt/conda/lib/python3.11/site-packages (from pandas->codecarbon) (2024.2)\n",
      "Requirement already satisfied: nvidia-ml-py<13.0.0a0,>=12.0.0 in /opt/conda/lib/python3.11/site-packages (from pynvml->codecarbon) (12.560.30)\n",
      "Requirement already satisfied: prompt_toolkit<=3.0.36,>=2.0 in /opt/conda/lib/python3.11/site-packages (from questionary->codecarbon) (3.0.36)\n",
      "Requirement already satisfied: charset-normalizer<4,>=2 in /opt/conda/lib/python3.11/site-packages (from requests->transformers) (3.4.0)\n",
      "Requirement already satisfied: idna<4,>=2.5 in /opt/conda/lib/python3.11/site-packages (from requests->transformers) (3.10)\n",
      "Requirement already satisfied: urllib3<3,>=1.21.1 in /opt/conda/lib/python3.11/site-packages (from requests->transformers) (2.2.3)\n",
      "Requirement already satisfied: certifi>=2017.4.17 in /opt/conda/lib/python3.11/site-packages (from requests->transformers) (2024.8.30)\n",
      "Requirement already satisfied: markdown-it-py>=2.2.0 in /opt/conda/lib/python3.11/site-packages (from rich->codecarbon) (3.0.0)\n",
      "Requirement already satisfied: pygments<3.0.0,>=2.13.0 in /opt/conda/lib/python3.11/site-packages (from rich->codecarbon) (2.18.0)\n",
      "Requirement already satisfied: shellingham>=1.3.0 in /opt/conda/lib/python3.11/site-packages (from typer->codecarbon) (1.5.4)\n",
      "Requirement already satisfied: anyio in /opt/conda/lib/python3.11/site-packages (from httpx<0.28.0,>=0.21.3->fief-client[cli]->codecarbon) (4.6.2.post1)\n",
      "Requirement already satisfied: httpcore==1.* in /opt/conda/lib/python3.11/site-packages (from httpx<0.28.0,>=0.21.3->fief-client[cli]->codecarbon) (1.0.6)\n",
      "Requirement already satisfied: sniffio in /opt/conda/lib/python3.11/site-packages (from httpx<0.28.0,>=0.21.3->fief-client[cli]->codecarbon) (1.3.1)\n",
      "Requirement already satisfied: h11<0.15,>=0.13 in /opt/conda/lib/python3.11/site-packages (from httpcore==1.*->httpx<0.28.0,>=0.21.3->fief-client[cli]->codecarbon) (0.14.0)\n",
      "Requirement already satisfied: cryptography>=3.4 in /opt/conda/lib/python3.11/site-packages (from jwcrypto<2.0.0,>=1.4->fief-client[cli]->codecarbon) (44.0.0)\n",
      "Requirement already satisfied: mdurl~=0.1 in /opt/conda/lib/python3.11/site-packages (from markdown-it-py>=2.2.0->rich->codecarbon) (0.1.2)\n",
      "Requirement already satisfied: wcwidth in /opt/conda/lib/python3.11/site-packages (from prompt_toolkit<=3.0.36,>=2.0->questionary->codecarbon) (0.2.13)\n",
      "Requirement already satisfied: six>=1.5 in /opt/conda/lib/python3.11/site-packages (from python-dateutil>=2.7.0->arrow->codecarbon) (1.16.0)\n",
      "Requirement already satisfied: MarkupSafe>=2.0 in /opt/conda/lib/python3.11/site-packages (from jinja2->torch->bitsandbytes) (3.0.2)\n",
      "Requirement already satisfied: termcolor<2.4.0,>=2.2.0 in /opt/conda/lib/python3.11/site-packages (from yaspin->fief-client[cli]->codecarbon) (2.3.0)\n",
      "Requirement already satisfied: cffi>=1.12 in /opt/conda/lib/python3.11/site-packages (from cryptography>=3.4->jwcrypto<2.0.0,>=1.4->fief-client[cli]->codecarbon) (1.17.1)\n",
      "Requirement already satisfied: pycparser in /opt/conda/lib/python3.11/site-packages (from cffi>=1.12->cryptography>=3.4->jwcrypto<2.0.0,>=1.4->fief-client[cli]->codecarbon) (2.22)\n",
      "Downloading accelerate-1.2.1-py3-none-any.whl (336 kB)\n",
      "Installing collected packages: accelerate\n",
      "Successfully installed accelerate-1.2.1\n",
      "\u001b[33mWARNING: Running pip as the 'root' user can result in broken permissions and conflicting behaviour with the system package manager, possibly rendering your system unusable.It is recommended to use a virtual environment instead: https://pip.pypa.io/warnings/venv. Use the --root-user-action option if you know what you are doing and want to suppress this warning.\u001b[0m\u001b[33m\n",
      "\u001b[0m"
     ]
    }
   ],
   "source": [
    " !pip install transformers codecarbon bitsandbytes accelerate"
   ]
  },
  {
   "cell_type": "code",
   "execution_count": 1,
   "metadata": {
    "id": "plFroaGkxr7n"
   },
   "outputs": [],
   "source": [
    "from transformers import Qwen2VLForConditionalGeneration, AutoTokenizer, AutoProcessor\n",
    "from transformers import BitsAndBytesConfig\n",
    "from transformers.image_utils import load_image\n",
    "import torch\n",
    "import csv\n",
    "import platform\n",
    "from transformers import pipeline\n",
    "import psutil\n",
    "import numpy as np\n",
    "from PIL import Image\n",
    "import os\n",
    "import shutil\n",
    "import time\n",
    "from codecarbon import EmissionsTracker\n",
    "import requests\n",
    "from transformers import AutoModelForCausalLM\n",
    "from transformers import AutoProcessor"
   ]
  },
  {
   "cell_type": "code",
   "execution_count": 2,
   "metadata": {
    "colab": {
     "base_uri": "https://localhost:8080/",
     "height": 49,
     "referenced_widgets": [
      "beff6fe1bbfd489c88b4d0f9940a1d01",
      "6872ab4ee023411b83902a76159f51a5",
      "03fb4a86fd634888a5b7b79b8de644c0",
      "6b414c9df53d4cff91d850c1ec206af4",
      "24bdb648a9924a1e9c7492bfad303051",
      "e320a6d270f944fcb0002ef0f8316f55",
      "1c8a0accbd9e4ecd92ea6759abcb90b8",
      "ac395c5cf8984c588b5aec4b16d3ecd7",
      "b2b2c799c6424b3d8c04b6b0d740495f",
      "c14df69eb5b34254aab962df8ff25261",
      "35e83eef2b3942de9988b141242abf26"
     ]
    },
    "id": "hdmdVbNBxaZl",
    "outputId": "4e6c4c7a-c491-4f59-a7f2-6d9f04ecd6e9"
   },
   "outputs": [],
   "source": [
    "model_id = [\"microsoft/Phi-3.5-vision-instruct\"]"
   ]
  },
  {
   "cell_type": "code",
   "execution_count": 3,
   "metadata": {
    "id": "L10lGQF8yCdE"
   },
   "outputs": [],
   "source": [
    "# Image directory\n",
    "img_dir = 'benchmark_vlm/master'"
   ]
  },
  {
   "cell_type": "markdown",
   "metadata": {
    "id": "8k86dXQJ9_81"
   },
   "source": [
    "### Inference Function"
   ]
  },
  {
   "cell_type": "code",
   "execution_count": 4,
   "metadata": {},
   "outputs": [
    {
     "data": {
      "application/vnd.jupyter.widget-view+json": {
       "model_id": "7d0896a8daa046d09304635394bb6f6b",
       "version_major": 2,
       "version_minor": 0
      },
      "text/plain": [
       "model.safetensors.index.json:   0%|          | 0.00/68.9k [00:00<?, ?B/s]"
      ]
     },
     "metadata": {},
     "output_type": "display_data"
    },
    {
     "data": {
      "application/vnd.jupyter.widget-view+json": {
       "model_id": "7c48982bdc994b6aa56c3c4cb0665fbd",
       "version_major": 2,
       "version_minor": 0
      },
      "text/plain": [
       "Downloading shards:   0%|          | 0/2 [00:00<?, ?it/s]"
      ]
     },
     "metadata": {},
     "output_type": "display_data"
    },
    {
     "data": {
      "application/vnd.jupyter.widget-view+json": {
       "model_id": "184df772e9934e759af63ec190e8c0bd",
       "version_major": 2,
       "version_minor": 0
      },
      "text/plain": [
       "model-00001-of-00002.safetensors:   0%|          | 0.00/4.94G [00:00<?, ?B/s]"
      ]
     },
     "metadata": {},
     "output_type": "display_data"
    },
    {
     "data": {
      "application/vnd.jupyter.widget-view+json": {
       "model_id": "59af7760c5d74a7484084ab4d7f1fd79",
       "version_major": 2,
       "version_minor": 0
      },
      "text/plain": [
       "model-00002-of-00002.safetensors:   0%|          | 0.00/3.35G [00:00<?, ?B/s]"
      ]
     },
     "metadata": {},
     "output_type": "display_data"
    },
    {
     "data": {
      "application/vnd.jupyter.widget-view+json": {
       "model_id": "426653f2c7ae4ef2a4ee4d4dc3abbebc",
       "version_major": 2,
       "version_minor": 0
      },
      "text/plain": [
       "Loading checkpoint shards:   0%|          | 0/2 [00:00<?, ?it/s]"
      ]
     },
     "metadata": {},
     "output_type": "display_data"
    },
    {
     "data": {
      "application/vnd.jupyter.widget-view+json": {
       "model_id": "3298eb3b2de44c48983f6c98cea34900",
       "version_major": 2,
       "version_minor": 0
      },
      "text/plain": [
       "generation_config.json:   0%|          | 0.00/136 [00:00<?, ?B/s]"
      ]
     },
     "metadata": {},
     "output_type": "display_data"
    },
    {
     "data": {
      "application/vnd.jupyter.widget-view+json": {
       "model_id": "d3a7c3eedd9241d0b072ca763e8fd716",
       "version_major": 2,
       "version_minor": 0
      },
      "text/plain": [
       "processor_config.json:   0%|          | 0.00/119 [00:00<?, ?B/s]"
      ]
     },
     "metadata": {},
     "output_type": "display_data"
    },
    {
     "data": {
      "application/vnd.jupyter.widget-view+json": {
       "model_id": "f3dd3cb6cbb442728dc35ecfba0b5244",
       "version_major": 2,
       "version_minor": 0
      },
      "text/plain": [
       "processing_phi3_v.py:   0%|          | 0.00/22.0k [00:00<?, ?B/s]"
      ]
     },
     "metadata": {},
     "output_type": "display_data"
    },
    {
     "name": "stderr",
     "output_type": "stream",
     "text": [
      "A new version of the following files was downloaded from https://huggingface.co/microsoft/Phi-3.5-vision-instruct:\n",
      "- processing_phi3_v.py\n",
      ". Make sure to double-check they do not contain any added malicious code. To avoid downloading new versions of the code file, you can pin a revision.\n",
      "/opt/conda/lib/python3.11/site-packages/transformers/models/auto/image_processing_auto.py:524: FutureWarning: The image_processor_class argument is deprecated and will be removed in v4.42. Please use `slow_image_processor_class`, or `fast_image_processor_class` instead\n",
      "  warnings.warn(\n"
     ]
    },
    {
     "data": {
      "application/vnd.jupyter.widget-view+json": {
       "model_id": "851075c816b14d5b908f47e1f6d24c3d",
       "version_major": 2,
       "version_minor": 0
      },
      "text/plain": [
       "preprocessor_config.json:   0%|          | 0.00/442 [00:00<?, ?B/s]"
      ]
     },
     "metadata": {},
     "output_type": "display_data"
    },
    {
     "data": {
      "application/vnd.jupyter.widget-view+json": {
       "model_id": "1cfa7fe480f54394931a7f6d6b382e17",
       "version_major": 2,
       "version_minor": 0
      },
      "text/plain": [
       "tokenizer_config.json:   0%|          | 0.00/9.52k [00:00<?, ?B/s]"
      ]
     },
     "metadata": {},
     "output_type": "display_data"
    },
    {
     "data": {
      "application/vnd.jupyter.widget-view+json": {
       "model_id": "e42a4a6709cf46b2aa7545e23736d2e2",
       "version_major": 2,
       "version_minor": 0
      },
      "text/plain": [
       "tokenizer.json:   0%|          | 0.00/1.85M [00:00<?, ?B/s]"
      ]
     },
     "metadata": {},
     "output_type": "display_data"
    },
    {
     "data": {
      "application/vnd.jupyter.widget-view+json": {
       "model_id": "0beb1c2de9bc4b9c9d604d4bd20a87bb",
       "version_major": 2,
       "version_minor": 0
      },
      "text/plain": [
       "special_tokens_map.json:   0%|          | 0.00/670 [00:00<?, ?B/s]"
      ]
     },
     "metadata": {},
     "output_type": "display_data"
    }
   ],
   "source": [
    "# model = AutoModelForCausalLM.from_pretrained(\n",
    "#   model_id[0],\n",
    "#   device_map=\"cuda\",\n",
    "#   trust_remote_code=True,\n",
    "#   torch_dtype=\"auto\",\n",
    "#   _attn_implementation='eager'\n",
    "# )\n",
    "\n",
    "# # for best performance, use num_crops=4 for multi-frame, num_crops=16 for single-frame.\n",
    "# processor = AutoProcessor.from_pretrained(model_id[0],\n",
    "#   trust_remote_code=True,\n",
    "#   num_crops=16\n",
    "# )"
   ]
  },
  {
   "cell_type": "code",
   "execution_count": 25,
   "metadata": {
    "id": "iDIEGC215lsG"
   },
   "outputs": [],
   "source": [
    "# Function to run inference\n",
    "def infer_image(image_path, prompt):\n",
    "    with open(image_path, \"rb\") as f:\n",
    "          input_image = Image.open(f).convert(\"RGB\")\n",
    "\n",
    "    \n",
    "    messages = [\n",
    "    {\"role\": \"user\", \"content\": f\"<|image_1|>\\n{prompt}\"},\n",
    "]\n",
    "\n",
    "    prompt = processor.tokenizer.apply_chat_template(\n",
    "      messages,\n",
    "      tokenize=False,\n",
    "      add_generation_prompt=True\n",
    "    )\n",
    "    \n",
    "    inputs = processor(prompt, input_image, return_tensors=\"pt\").to(\"cuda:0\")\n",
    "\n",
    "    generation_args = {\n",
    "        \"max_new_tokens\": 6,\n",
    "        \"temperature\": 0.1,\n",
    "        \"do_sample\": True,\n",
    "    }\n",
    "    \n",
    "    generate_ids = model.generate(**inputs,\n",
    "    eos_token_id=processor.tokenizer.eos_token_id,\n",
    "    **generation_args\n",
    "  )\n",
    "\n",
    "\n",
    "    # remove input tokens\n",
    "    generate_ids = generate_ids[:, inputs['input_ids'].shape[1]:]\n",
    "    response = processor.batch_decode(generate_ids,\n",
    "    skip_special_tokens=True,\n",
    "    clean_up_tokenization_spaces=False)[0]\n",
    "\n",
    "    print(response.lower())\n",
    "\n",
    "    return response.lower()\n",
    "    \n",
    "    \n",
    "    "
   ]
  },
  {
   "cell_type": "code",
   "execution_count": 26,
   "metadata": {},
   "outputs": [],
   "source": [
    "# Define vehicle classes for validation\n",
    "vehicle_classes = {\n",
    "    \"Class 1 - Motorcycles\": [\"motorcycle\", \"motorbike\", \"bike\", \"scooter\", \"motor\", \"moped\"],\n",
    "    \"Class 2 - Car, SUV, Station Wagons\": [\"car\", \"sedan\", \"hatchback\", \"suv\", \"mpv\", \"crossover\", \"station wagon\", \"wagon\", 'coupe', 'convertible', 'sports car'],\n",
    "    \"Class 3 - 2 axle lorry, van, pickup\": [\"pickup\", \"van\", \"minivan\"],\n",
    "    \"Class 4 - 2 axles, 5 or 6 wheels bus or truck\": [\"bus\", \"truck\", 'trailer', 'lorry', 'tractor', 'tanker', 'dump truck', \"tow truck\", \"dump trailer\"],\n",
    "    \"Class 5 - 3 axle truck, bus\": [\"bus\", \"truck\"],\n",
    "    \"Class 6 - 4 axles\": [\"coach\", \"bus\", \"truck\", 'trailer', 'lorry', 'tractor', 'tanker', 'dump truck', \"tow truck\", \"dump trailer\"],\n",
    "    \"Class 7 - 5 or more axles\": [\"coach\", \"bus\", \"truck\", 'trailer', 'lorry', 'tractor', 'tanker', 'dump truck', \"tow truck\", \"dump trailer\"],\n",
    "    \"bus 2\" : [\"coach\", \"bus\"],\n",
    "    \"bus 3\" : [\"coach\", \"bus\"],\n",
    "    \"truck 2\" : [\"truck\", 'trailer', 'lorry', 'tractor', 'tanker', 'dump truck', \"tow truck\", \"dump trailer\"],\n",
    "    \"truck 3\" : [\"truck\", 'trailer', 'lorry', 'tractor', 'tanker', 'dump truck', \"tow truck\", \"dump trailer\"],\n",
    "    \"truck 4\" : [\"truck\", 'trailer', 'lorry', 'tractor', 'tanker', 'dump truck', \"tow truck\", \"dump trailer\"],\n",
    "    \"truck 5\" : [\"truck\", 'trailer', 'lorry', 'tractor', 'tanker', 'dump truck', \"tow truck\", \"dump trailer\"],\n",
    "    \"van\" : [\"van\", \"minivan\", 'minibus'],\n",
    "    \"pickup\" : [\"pickup\", \"pickup truck\", \"camper\"],\n",
    "}\n",
    "\n",
    "valid_vehicle_types = {type for sublist in vehicle_classes.values() for type in sublist}\n",
    "vehicle_prompt = f\"What type of vehicle is this? Choose one from: {', '.join(valid_vehicle_types)}. Answer in one word\""
   ]
  },
  {
   "cell_type": "markdown",
   "metadata": {
    "id": "kymovqsQ99A_",
    "jp-MarkdownHeadingCollapsed": true
   },
   "source": [
    "### Validation function"
   ]
  },
  {
   "cell_type": "code",
   "execution_count": 20,
   "metadata": {
    "id": "NM8O5ht0-G9x"
   },
   "outputs": [],
   "source": [
    "# Define vehicle classes for validation\n",
    "vehicle_classes = {\n",
    "    \"Class 1 - Motorcycles\": [\"motorcycle\", \"motorbike\", \"bike\", \"scooter\", \"motor\", \"moped\"],\n",
    "    \"Class 2 - Car, SUV, Station Wagons\": [\"car\", \"sedan\", \"hatchback\", \"suv\", \"mpv\", \"crossover\", \"station wagon\", \"wagon\", 'coupe', 'convertible', 'sports car'],\n",
    "    \"Class 3 - 2 axle lorry, van, pickup\": [\"pickup\", \"van\", \"minivan\"],\n",
    "    \"Class 4 - 2 axles, 5 or 6 wheels bus or truck\": [\"bus\", \"truck\", 'trailer', 'lorry', 'tractor', 'tanker', 'dump truck', \"tow truck\", \"dump trailer\"],\n",
    "    \"Class 5 - 3 axle truck, bus\": [\"bus\", \"truck\"],\n",
    "    \"Class 6 - 4 axles\": [\"coach\", \"bus\", \"truck\", 'trailer', 'lorry', 'tractor', 'tanker', 'dump truck', \"tow truck\", \"dump trailer\"],\n",
    "    \"Class 7 - 5 or more axles\": [\"coach\", \"bus\", \"truck\", 'trailer', 'lorry', 'tractor', 'tanker', 'dump truck', \"tow truck\", \"dump trailer\"],\n",
    "    \"bus 2\" : [\"coach\", \"bus\"],\n",
    "    \"bus 3\" : [\"coach\", \"bus\"],\n",
    "    \"truck 2\" : [\"truck\", 'trailer', 'lorry', 'tractor', 'tanker', 'dump truck', \"tow truck\", \"dump trailer\"],\n",
    "    \"truck 3\" : [\"truck\", 'trailer', 'lorry', 'tractor', 'tanker', 'dump truck', \"tow truck\", \"dump trailer\"],\n",
    "    \"truck 4\" : [\"truck\", 'trailer', 'lorry', 'tractor', 'tanker', 'dump truck', \"tow truck\", \"dump trailer\"],\n",
    "    \"truck 5\" : [\"truck\", 'trailer', 'lorry', 'tractor', 'tanker', 'dump truck', \"tow truck\", \"dump trailer\"],\n",
    "    \"van\" : [\"van\", \"minivan\", 'minibus'],\n",
    "    \"pickup\" : [\"pickup\", \"pickup truck\", \"camper\"],\n",
    "}\n",
    "\n",
    "valid_vehicle_types = {type for sublist in vehicle_classes.values() for type in sublist}"
   ]
  },
  {
   "cell_type": "code",
   "execution_count": 21,
   "metadata": {
    "id": "thh669gy5oLj"
   },
   "outputs": [],
   "source": [
    "# Validate predictions\n",
    "\n",
    "def validate_prediction(folder_name, prediction, axles=None):\n",
    "    # Extract folder label\n",
    "    for class_name, valid_labels in vehicle_classes.items():\n",
    "        if folder_name.startswith(class_name):\n",
    "            if axles:  # Use axle count for bus/truck\n",
    "                if axles == 1 or 0:\n",
    "                  return False\n",
    "                elif axles == 2:\n",
    "                    return \"2\" in folder_name[-1]\n",
    "                elif axles == 3:\n",
    "                    return \"3\" in folder_name[-1]\n",
    "                elif axles == 4:\n",
    "                    return \"4\" in folder_name[-1]\n",
    "                elif axles >= 5:\n",
    "                    return \"5\" in folder_name[-1]\n",
    "            if isinstance(valid_labels, list):\n",
    "                return prediction in valid_labels\n",
    "            return prediction == valid_labels\n",
    "    return False"
   ]
  },
  {
   "cell_type": "markdown",
   "metadata": {
    "id": "mYX4uILS97b0",
    "jp-MarkdownHeadingCollapsed": true
   },
   "source": [
    "# Main Loop"
   ]
  },
  {
   "cell_type": "code",
   "execution_count": 22,
   "metadata": {},
   "outputs": [],
   "source": [
    "from tqdm import tqdm"
   ]
  },
  {
   "cell_type": "code",
   "execution_count": 23,
   "metadata": {
    "colab": {
     "base_uri": "https://localhost:8080/"
    },
    "id": "as1UY4lBj0Ha",
    "outputId": "5a7878a3-4ca6-4958-a2b8-646dfb69a5ac"
   },
   "outputs": [],
   "source": [
    "def main_loop(wrong_predictions_dir, img_dir=img_dir, use_axles=False, valid_vehicle_types=valid_vehicle_types):\n",
    "    total_files = sum(len(files) for _, _, files in os.walk(img_dir))\n",
    "    progress_bar = tqdm(total=total_files, desc=\"Processing Images\", unit=\"file\")\n",
    "    # Main processing loop\n",
    "    start_time = time.time()\n",
    "    tracker = EmissionsTracker()\n",
    "    tracker.start()\n",
    "    results = []\n",
    "    for root, dirs, files in os.walk(img_dir):\n",
    "        for file in files:\n",
    "            if file.endswith((\".jpg\", \".png\", \".jpeg\")):\n",
    "                image_path = os.path.join(root, file)\n",
    "                folder_name = os.path.basename(os.path.dirname(image_path))\n",
    "                progress_bar.set_description(f\"Processing: {folder_name}\")\n",
    "                progress_bar.update(1)  # Increment the progress bar\n",
    "\n",
    "                try:\n",
    "                    # First inference: vehicle type\n",
    "                    # vehicle_prompt = f\"<image> answer en What type of vehicle is this? Answer in only one word.\"\n",
    "                    vehicle_prompt = f\"What type of vehicle is this? Choose one from: {', '.join(valid_vehicle_types)}. Answer in one word\"\n",
    "                    prediction = infer_image(image_path, vehicle_prompt)\n",
    "                    print(f\"Vehicle Prediction: {prediction}\")\n",
    "\n",
    "                    # Handle buses and trucks\n",
    "                    axles = None\n",
    "                    if prediction in [\"bus\", \"truck\", 'trailer', 'lorry', 'tractor', 'tanker', 'dump truck',  \"tow truck\", \"dump trailer\"]:\n",
    "                        # Check if it's a pickup truck\n",
    "                        if prediction == 'truck':\n",
    "                            pickup_prompt = \"Is this a pickup truck? Respond with only yes or no.\"\n",
    "                            is_pickup = infer_image(image_path, pickup_prompt).strip().lower()\n",
    "                            print(f\"Is Pickup Truck: {is_pickup}\")\n",
    "                            if is_pickup == \"yes\":\n",
    "                                prediction = \"pickup truck\"\n",
    "                            elif use_axles:\n",
    "                                # Predict axles for non-pickup trucks\n",
    "                                axle_prompt = \"How many axles does this vehicle have? Output a single integer value.\"\n",
    "                                axle_prediction = infer_image(image_path, axle_prompt)\n",
    "                                print(f\"Axle Prediction: {axle_prediction}\")\n",
    "                    \n",
    "                                try:\n",
    "                                    axles = int(axle_prediction)\n",
    "                                except ValueError:\n",
    "                                    print(f\"Invalid axle prediction: {axle_prediction}\")\n",
    "                                    axles = None  # Fallback if parsing fails\n",
    "                        elif use_axles:\n",
    "\n",
    "                            axle_prompt = \"How many axles does this vehicle have? Output a single integer value\"\n",
    "                            axle_prediction = infer_image(image_path, axle_prompt)\n",
    "                            print(f\"Axle Prediction: {axle_prediction}\")\n",
    "    \n",
    "                            try:\n",
    "                                axles = int(axle_prediction)\n",
    "                            except ValueError:\n",
    "                                print(f\"Invalid axle prediction: {axle_prediction}\")\n",
    "\n",
    "                    # Validate prediction\n",
    "                    is_correct = validate_prediction(folder_name, prediction, axles)\n",
    "                    print(f\"Validation Result: {is_correct}\")\n",
    "\n",
    "                    # Store results\n",
    "                    results.append({\n",
    "                        \"image\": image_path,\n",
    "                        \"folder_label\": folder_name,\n",
    "                        \"prediction\": prediction,\n",
    "                        \"axles\": axles,\n",
    "                        \"is_correct\": is_correct\n",
    "                    })\n",
    "\n",
    "                    # Handle wrong predictions\n",
    "                    if not is_correct:\n",
    "                        # Create a folder for the wrong prediction\n",
    "                        wrong_folder = os.path.join(wrong_predictions_dir, prediction, str(axles))\n",
    "                        os.makedirs(wrong_folder, exist_ok=True)\n",
    "\n",
    "                        # Copy the image to the folder\n",
    "                        shutil.copy(image_path, os.path.join(wrong_folder, file))\n",
    "                except Exception as e:\n",
    "                    print(f\"Error processing {image_path}: {e}\")\n",
    "                    continue\n",
    "    \n",
    "    progress_bar.close()\n",
    "    emissions = tracker.stop()\n",
    "    # Stop the timer\n",
    "    end_time = time.time()\n",
    "    elapsed_time = end_time - start_time\n",
    "    print(f\"Total processing time: {elapsed_time:.2f} seconds\")\n",
    "    print(f\"CO2 emissions: {emissions:.6f} kg\")\n",
    "    return (results, elapsed_time, emissions)"
   ]
  },
  {
   "cell_type": "code",
   "execution_count": 24,
   "metadata": {
    "colab": {
     "base_uri": "https://localhost:8080/"
    },
    "id": "H4COQqG95sqN",
    "outputId": "59ceb760-001c-4faf-cf3d-740399491993"
   },
   "outputs": [],
   "source": [
    "# Save results to CSV\n",
    "def export_results(results, model_id, elapsed_time, emissions):\n",
    "# Save results to CSV\n",
    "    output_csv = f'experiment_data/{models}/results.csv'\n",
    "    with open(output_csv, mode=\"w\", newline=\"\") as file:\n",
    "        writer = csv.DictWriter(file, fieldnames=[\"image\", \"folder_label\", \"prediction\", \"axles\", \"is_correct\"])\n",
    "        writer.writeheader()\n",
    "        writer.writerows(results)\n",
    "\n",
    "    # Metrics calculation\n",
    "    correct_predictions = sum(1 for r in results if r[\"is_correct\"])\n",
    "    total_images = len(results)\n",
    "    accuracy = correct_predictions / total_images * 100 if total_images > 0 else 0\n",
    "    wrong_predictions = total_images - correct_predictions\n",
    "\n",
    "    # Per-class metrics\n",
    "    class_metrics = {}\n",
    "    for result in results:\n",
    "        label = result[\"folder_label\"]\n",
    "        correct = result[\"is_correct\"]\n",
    "        if label not in class_metrics:\n",
    "            class_metrics[label] = {\"correct\": 0, \"total\": 0}\n",
    "        class_metrics[label][\"total\"] += 1\n",
    "        if correct:\n",
    "            class_metrics[label][\"correct\"] += 1\n",
    "\n",
    "    # Aggregate class metrics\n",
    "    per_class_accuracy = {\n",
    "        label: (data[\"correct\"] / data[\"total\"]) * 100\n",
    "        for label, data in class_metrics.items()\n",
    "    }\n",
    "    per_class_error_rate = {\n",
    "        label: 100 - acc for label, acc in per_class_accuracy.items()\n",
    "    }\n",
    "\n",
    "    # Collect system configuration\n",
    "    system_config = {\n",
    "        \"Processor\": platform.processor(),\n",
    "        \"CPU Count\": psutil.cpu_count(logical=True),\n",
    "        \"Memory (GB)\": round(psutil.virtual_memory().total / (1024 ** 3), 2),\n",
    "        \"Elapsed Time (seconds)\": elapsed_time,\n",
    "        \"CO2 Emissions (kg)\": round(emissions, 6)\n",
    "    }\n",
    "\n",
    "    # Metrics dictionarya\n",
    "    metrics = {\n",
    "        \"Total Images\": total_images,\n",
    "        \"Correct Predictions\": correct_predictions,\n",
    "        \"Wrong Predictions\": wrong_predictions,\n",
    "        \"Accuracy (%)\": accuracy,\n",
    "        \"Error Rate (%)\": 100 - accuracy\n",
    "    }\n",
    "\n",
    "    # Save metrics to CSV\n",
    "    metrics_csv = f'experiment_data/{models}/metrics.csv'\n",
    "    with open(metrics_csv, mode=\"w\", newline=\"\") as file:\n",
    "        writer = csv.writer(file)\n",
    "        writer.writerow([\"Model\", \"Metric\", \"Value\"])\n",
    "        for key, value in metrics.items():\n",
    "            writer.writerow([model_id, key, value])\n",
    "        for label, acc in per_class_accuracy.items():\n",
    "            writer.writerow([model_id, f\"Per-Class Accuracy: {label}\", acc])\n",
    "            writer.writerow([model_id, f\"Per-Class Error Rate: {label}\", per_class_error_rate[label]])\n",
    "        for key, value in system_config.items():\n",
    "            writer.writerow([model_id, key, value])\n",
    "\n",
    "    # Print final metrics\n",
    "    print(\"\\n--- Metrics ---\")\n",
    "    for key, value in metrics.items():\n",
    "        print(f\"{key}: {value}\")\n",
    "    for label, acc in per_class_accuracy.items():\n",
    "        print(f\"Class '{label}' - Accuracy: {acc:.2f}%, Error Rate: {per_class_error_rate[label]:.2f}%\")\n",
    "    for key, value in system_config.items():\n",
    "        print(f\"{key}: {value}\")"
   ]
  },
  {
   "cell_type": "code",
   "execution_count": null,
   "metadata": {},
   "outputs": [
    {
     "name": "stdout",
     "output_type": "stream",
     "text": [
      "microsoft/Phi-3.5-vision-instruct\n"
     ]
    },
    {
     "data": {
      "application/vnd.jupyter.widget-view+json": {
       "model_id": "b2d66b389ac249ae87da892d2345bd8a",
       "version_major": 2,
       "version_minor": 0
      },
      "text/plain": [
       "Loading checkpoint shards:   0%|          | 0/2 [00:00<?, ?it/s]"
      ]
     },
     "metadata": {},
     "output_type": "display_data"
    },
    {
     "name": "stderr",
     "output_type": "stream",
     "text": [
      "Processing Images:   0%|          | 0/932 [00:00<?, ?file/s][codecarbon INFO @ 14:45:20] [setup] RAM Tracking...\n",
      "[codecarbon INFO @ 14:45:20] [setup] CPU Tracking...\n",
      "[codecarbon WARNING @ 14:45:20] No CPU tracking mode found. Falling back on CPU constant mode. \n",
      " Linux OS detected: Please ensure RAPL files exist at \\sys\\class\\powercap\\intel-rapl to measure CPU\n",
      "\n",
      "[codecarbon INFO @ 14:45:22] CPU Model on constant consumption mode: AMD EPYC 7513 32-Core Processor\n",
      "[codecarbon INFO @ 14:45:22] [setup] GPU Tracking...\n",
      "[codecarbon INFO @ 14:45:22] Tracking Nvidia GPU via pynvml\n",
      "[codecarbon INFO @ 14:45:22] >>> Tracker's metadata:\n",
      "[codecarbon INFO @ 14:45:22]   Platform system: Linux-5.15.0-125-generic-x86_64-with-glibc2.35\n",
      "[codecarbon INFO @ 14:45:22]   Python version: 3.11.10\n",
      "[codecarbon INFO @ 14:45:22]   CodeCarbon version: 2.8.2\n",
      "[codecarbon INFO @ 14:45:22]   Available RAM : 503.471 GB\n",
      "[codecarbon INFO @ 14:45:22]   CPU count: 128\n",
      "[codecarbon INFO @ 14:45:22]   CPU model: AMD EPYC 7513 32-Core Processor\n",
      "[codecarbon INFO @ 14:45:22]   GPU count: 1\n",
      "[codecarbon INFO @ 14:45:22]   GPU model: 1 x NVIDIA A100-SXM4-80GB\n",
      "[codecarbon INFO @ 14:45:25] Saving emissions data to file /emissions.csv\n",
      "Processing: Class 1 - Motorcycles:   0%|          | 1/932 [00:04<1:08:56,  4.44s/file]/opt/conda/lib/python3.11/site-packages/transformers/generation/configuration_utils.py:628: UserWarning: `do_sample` is set to `False`. However, `temperature` is set to `0.0` -- this flag is only used in sample-based generation modes. You should set `do_sample=True` or unset `temperature`.\n",
      "  warnings.warn(\n",
      "The `seen_tokens` attribute is deprecated and will be removed in v4.41. Use the `cache_position` model input instead.\n",
      "`get_max_cache()` is deprecated for all Cache classes. Use `get_max_cache_shape()` instead. Calling `get_max_cache()` will raise error from v4.48\n",
      "You are not running the flash-attention implementation, expect numerical differences.\n",
      "Processing: Class 1 - Motorcycles:   0%|          | 2/932 [00:05<41:42,  2.69s/file]  "
     ]
    },
    {
     "name": "stdout",
     "output_type": "stream",
     "text": [
      "motorcycle\n",
      "Vehicle Prediction: motorcycle\n",
      "Validation Result: True\n"
     ]
    },
    {
     "name": "stderr",
     "output_type": "stream",
     "text": [
      "Processing: Class 1 - Motorcycles:   0%|          | 3/932 [00:06<26:42,  1.72s/file]"
     ]
    },
    {
     "name": "stdout",
     "output_type": "stream",
     "text": [
      "motorcycle\n",
      "Vehicle Prediction: motorcycle\n",
      "Validation Result: True\n"
     ]
    },
    {
     "name": "stderr",
     "output_type": "stream",
     "text": [
      "Processing: Class 1 - Motorcycles:   0%|          | 4/932 [00:07<19:42,  1.27s/file]"
     ]
    },
    {
     "name": "stdout",
     "output_type": "stream",
     "text": [
      "motorcycle\n",
      "Vehicle Prediction: motorcycle\n",
      "Validation Result: True\n"
     ]
    },
    {
     "name": "stderr",
     "output_type": "stream",
     "text": [
      "Processing: Class 1 - Motorcycles:   1%|          | 5/932 [00:07<15:46,  1.02s/file]"
     ]
    },
    {
     "name": "stdout",
     "output_type": "stream",
     "text": [
      "motorcycle\n",
      "Vehicle Prediction: motorcycle\n",
      "Validation Result: True\n"
     ]
    },
    {
     "name": "stderr",
     "output_type": "stream",
     "text": [
      "Processing: Class 1 - Motorcycles:   1%|          | 6/932 [00:08<13:25,  1.15file/s]"
     ]
    },
    {
     "name": "stdout",
     "output_type": "stream",
     "text": [
      "motorcycle\n",
      "Vehicle Prediction: motorcycle\n",
      "Validation Result: True\n"
     ]
    },
    {
     "name": "stderr",
     "output_type": "stream",
     "text": [
      "Processing: Class 1 - Motorcycles:   1%|          | 7/932 [00:08<12:02,  1.28file/s]"
     ]
    },
    {
     "name": "stdout",
     "output_type": "stream",
     "text": [
      "motorcycle\n",
      "Vehicle Prediction: motorcycle\n",
      "Validation Result: True\n"
     ]
    },
    {
     "name": "stderr",
     "output_type": "stream",
     "text": [
      "Processing: Class 1 - Motorcycles:   1%|          | 8/932 [00:09<11:01,  1.40file/s]"
     ]
    },
    {
     "name": "stdout",
     "output_type": "stream",
     "text": [
      "motorcycle\n",
      "Vehicle Prediction: motorcycle\n",
      "Validation Result: True\n"
     ]
    },
    {
     "name": "stderr",
     "output_type": "stream",
     "text": [
      "Processing: Class 1 - Motorcycles:   1%|          | 9/932 [00:09<10:21,  1.48file/s]"
     ]
    },
    {
     "name": "stdout",
     "output_type": "stream",
     "text": [
      "motorcycle\n",
      "Vehicle Prediction: motorcycle\n",
      "Validation Result: True\n"
     ]
    },
    {
     "name": "stderr",
     "output_type": "stream",
     "text": [
      "Processing: Class 1 - Motorcycles:   1%|          | 10/932 [00:10<10:18,  1.49file/s]"
     ]
    },
    {
     "name": "stdout",
     "output_type": "stream",
     "text": [
      "motorcycle\n",
      "Vehicle Prediction: motorcycle\n",
      "Validation Result: True\n"
     ]
    },
    {
     "name": "stderr",
     "output_type": "stream",
     "text": [
      "Processing: Class 1 - Motorcycles:   1%|          | 11/932 [00:11<10:04,  1.52file/s]"
     ]
    },
    {
     "name": "stdout",
     "output_type": "stream",
     "text": [
      "motorcycle\n",
      "Vehicle Prediction: motorcycle\n",
      "Validation Result: True\n"
     ]
    },
    {
     "name": "stderr",
     "output_type": "stream",
     "text": [
      "Processing: Class 1 - Motorcycles:   1%|▏         | 12/932 [00:11<09:45,  1.57file/s]"
     ]
    },
    {
     "name": "stdout",
     "output_type": "stream",
     "text": [
      "motorcycle\n",
      "Vehicle Prediction: motorcycle\n",
      "Validation Result: True\n"
     ]
    },
    {
     "name": "stderr",
     "output_type": "stream",
     "text": [
      "Processing: Class 1 - Motorcycles:   1%|▏         | 13/932 [00:12<09:33,  1.60file/s]"
     ]
    },
    {
     "name": "stdout",
     "output_type": "stream",
     "text": [
      "motorcycle\n",
      "Vehicle Prediction: motorcycle\n",
      "Validation Result: True\n"
     ]
    },
    {
     "name": "stderr",
     "output_type": "stream",
     "text": [
      "Processing: Class 1 - Motorcycles:   2%|▏         | 14/932 [00:13<09:21,  1.64file/s]"
     ]
    },
    {
     "name": "stdout",
     "output_type": "stream",
     "text": [
      "motorcycle\n",
      "Vehicle Prediction: motorcycle\n",
      "Validation Result: True\n"
     ]
    },
    {
     "name": "stderr",
     "output_type": "stream",
     "text": [
      "Processing: Class 1 - Motorcycles:   2%|▏         | 15/932 [00:13<09:11,  1.66file/s]"
     ]
    },
    {
     "name": "stdout",
     "output_type": "stream",
     "text": [
      "scoot\n",
      "Vehicle Prediction: scoot\n",
      "Validation Result: False\n"
     ]
    },
    {
     "name": "stderr",
     "output_type": "stream",
     "text": [
      "Processing: Class 1 - Motorcycles:   2%|▏         | 16/932 [00:14<09:03,  1.69file/s]"
     ]
    },
    {
     "name": "stdout",
     "output_type": "stream",
     "text": [
      "motorcycle\n",
      "Vehicle Prediction: motorcycle\n",
      "Validation Result: True\n"
     ]
    },
    {
     "name": "stderr",
     "output_type": "stream",
     "text": [
      "Processing: Class 1 - Motorcycles:   2%|▏         | 17/932 [00:14<08:59,  1.70file/s]"
     ]
    },
    {
     "name": "stdout",
     "output_type": "stream",
     "text": [
      "motorcycle\n",
      "Vehicle Prediction: motorcycle\n",
      "Validation Result: True\n"
     ]
    },
    {
     "name": "stderr",
     "output_type": "stream",
     "text": [
      "Processing: Class 1 - Motorcycles:   2%|▏         | 18/932 [00:15<08:56,  1.70file/s]"
     ]
    },
    {
     "name": "stdout",
     "output_type": "stream",
     "text": [
      "motorcycle\n",
      "Vehicle Prediction: motorcycle\n",
      "Validation Result: True\n"
     ]
    },
    {
     "name": "stderr",
     "output_type": "stream",
     "text": [
      "Processing: Class 1 - Motorcycles:   2%|▏         | 19/932 [00:15<09:00,  1.69file/s]"
     ]
    },
    {
     "name": "stdout",
     "output_type": "stream",
     "text": [
      "scoot\n",
      "Vehicle Prediction: scoot\n",
      "Validation Result: False\n"
     ]
    },
    {
     "name": "stderr",
     "output_type": "stream",
     "text": [
      "Processing: Class 1 - Motorcycles:   2%|▏         | 20/932 [00:16<08:57,  1.70file/s]"
     ]
    },
    {
     "name": "stdout",
     "output_type": "stream",
     "text": [
      "motorcycle\n",
      "Vehicle Prediction: motorcycle\n",
      "Validation Result: True\n"
     ]
    },
    {
     "name": "stderr",
     "output_type": "stream",
     "text": [
      "Processing: Class 1 - Motorcycles:   2%|▏         | 21/932 [00:17<09:09,  1.66file/s]"
     ]
    },
    {
     "name": "stdout",
     "output_type": "stream",
     "text": [
      "motorcycle\n",
      "Vehicle Prediction: motorcycle\n",
      "Validation Result: True\n"
     ]
    },
    {
     "name": "stderr",
     "output_type": "stream",
     "text": [
      "Processing: Class 1 - Motorcycles:   2%|▏         | 22/932 [00:17<09:19,  1.63file/s]"
     ]
    },
    {
     "name": "stdout",
     "output_type": "stream",
     "text": [
      "motorcycle\n",
      "Vehicle Prediction: motorcycle\n",
      "Validation Result: True\n"
     ]
    },
    {
     "name": "stderr",
     "output_type": "stream",
     "text": [
      "Processing: Class 1 - Motorcycles:   2%|▏         | 23/932 [00:18<09:20,  1.62file/s]"
     ]
    },
    {
     "name": "stdout",
     "output_type": "stream",
     "text": [
      "motorcycle\n",
      "Vehicle Prediction: motorcycle\n",
      "Validation Result: True\n"
     ]
    },
    {
     "name": "stderr",
     "output_type": "stream",
     "text": [
      "Processing: Class 1 - Motorcycles:   3%|▎         | 24/932 [00:19<09:32,  1.59file/s]"
     ]
    },
    {
     "name": "stdout",
     "output_type": "stream",
     "text": [
      "motorcycle\n",
      "Vehicle Prediction: motorcycle\n",
      "Validation Result: True\n"
     ]
    },
    {
     "name": "stderr",
     "output_type": "stream",
     "text": [
      "[codecarbon INFO @ 14:45:40] Energy consumed for RAM : 0.000787 kWh. RAM Power : 188.80178117752075 W\n",
      "[codecarbon INFO @ 14:45:40] Energy consumed for all CPUs : 0.000417 kWh. Total CPU Power : 100.0 W\n",
      "[codecarbon INFO @ 14:45:40] Energy consumed for all GPUs : 0.001111 kWh. Total GPU Power : 266.50603014043287 W\n",
      "[codecarbon INFO @ 14:45:40] 0.002315 kWh of electricity used since the beginning.\n",
      "Processing: Class 1 - Motorcycles:   3%|▎         | 25/932 [00:19<09:30,  1.59file/s]"
     ]
    },
    {
     "name": "stdout",
     "output_type": "stream",
     "text": [
      "motorcycle\n",
      "Vehicle Prediction: motorcycle\n",
      "Validation Result: True\n"
     ]
    },
    {
     "name": "stderr",
     "output_type": "stream",
     "text": [
      "Processing: Class 1 - Motorcycles:   3%|▎         | 26/932 [00:20<09:20,  1.62file/s]"
     ]
    },
    {
     "name": "stdout",
     "output_type": "stream",
     "text": [
      "motorcycle\n",
      "Vehicle Prediction: motorcycle\n",
      "Validation Result: True\n"
     ]
    },
    {
     "name": "stderr",
     "output_type": "stream",
     "text": [
      "Processing: Class 1 - Motorcycles:   3%|▎         | 27/932 [00:20<09:22,  1.61file/s]"
     ]
    },
    {
     "name": "stdout",
     "output_type": "stream",
     "text": [
      "motorcycle\n",
      "Vehicle Prediction: motorcycle\n",
      "Validation Result: True\n"
     ]
    },
    {
     "name": "stderr",
     "output_type": "stream",
     "text": [
      "Processing: Class 1 - Motorcycles:   3%|▎         | 28/932 [00:21<09:25,  1.60file/s]"
     ]
    },
    {
     "name": "stdout",
     "output_type": "stream",
     "text": [
      "motorcycle\n",
      "Vehicle Prediction: motorcycle\n",
      "Validation Result: True\n"
     ]
    },
    {
     "name": "stderr",
     "output_type": "stream",
     "text": [
      "Processing: Class 1 - Motorcycles:   3%|▎         | 29/932 [00:22<09:13,  1.63file/s]"
     ]
    },
    {
     "name": "stdout",
     "output_type": "stream",
     "text": [
      "motorcycle\n",
      "Vehicle Prediction: motorcycle\n",
      "Validation Result: True\n"
     ]
    },
    {
     "name": "stderr",
     "output_type": "stream",
     "text": [
      "Processing: Class 1 - Motorcycles:   3%|▎         | 30/932 [00:22<09:08,  1.65file/s]"
     ]
    },
    {
     "name": "stdout",
     "output_type": "stream",
     "text": [
      "motorcycle\n",
      "Vehicle Prediction: motorcycle\n",
      "Validation Result: True\n"
     ]
    },
    {
     "name": "stderr",
     "output_type": "stream",
     "text": [
      "Processing: Class 1 - Motorcycles:   3%|▎         | 31/932 [00:23<09:05,  1.65file/s]"
     ]
    },
    {
     "name": "stdout",
     "output_type": "stream",
     "text": [
      "scoot\n",
      "Vehicle Prediction: scoot\n",
      "Validation Result: False\n"
     ]
    },
    {
     "name": "stderr",
     "output_type": "stream",
     "text": [
      "Processing: Class 1 - Motorcycles:   3%|▎         | 32/932 [00:24<09:38,  1.56file/s]"
     ]
    },
    {
     "name": "stdout",
     "output_type": "stream",
     "text": [
      "motorcycle\n",
      "Vehicle Prediction: motorcycle\n",
      "Validation Result: True\n"
     ]
    },
    {
     "name": "stderr",
     "output_type": "stream",
     "text": [
      "Processing: Class 1 - Motorcycles:   4%|▎         | 33/932 [00:24<09:45,  1.54file/s]"
     ]
    },
    {
     "name": "stdout",
     "output_type": "stream",
     "text": [
      "motorcycle\n",
      "Vehicle Prediction: motorcycle\n",
      "Validation Result: True\n"
     ]
    },
    {
     "name": "stderr",
     "output_type": "stream",
     "text": [
      "Processing: Class 1 - Motorcycles:   4%|▎         | 34/932 [00:25<09:30,  1.57file/s]"
     ]
    },
    {
     "name": "stdout",
     "output_type": "stream",
     "text": [
      "motorcycle\n",
      "Vehicle Prediction: motorcycle\n",
      "Validation Result: True\n"
     ]
    },
    {
     "name": "stderr",
     "output_type": "stream",
     "text": [
      "Processing: Class 1 - Motorcycles:   4%|▍         | 35/932 [00:25<09:22,  1.60file/s]"
     ]
    },
    {
     "name": "stdout",
     "output_type": "stream",
     "text": [
      "motorcycle\n",
      "Vehicle Prediction: motorcycle\n",
      "Validation Result: True\n"
     ]
    },
    {
     "name": "stderr",
     "output_type": "stream",
     "text": [
      "Processing: Class 1 - Motorcycles:   4%|▍         | 36/932 [00:26<09:09,  1.63file/s]"
     ]
    },
    {
     "name": "stdout",
     "output_type": "stream",
     "text": [
      "motorcycle\n",
      "Vehicle Prediction: motorcycle\n",
      "Validation Result: True\n"
     ]
    },
    {
     "name": "stderr",
     "output_type": "stream",
     "text": [
      "Processing: Class 1 - Motorcycles:   4%|▍         | 37/932 [00:27<09:04,  1.64file/s]"
     ]
    },
    {
     "name": "stdout",
     "output_type": "stream",
     "text": [
      "motorcycle\n",
      "Vehicle Prediction: motorcycle\n",
      "Validation Result: True\n"
     ]
    },
    {
     "name": "stderr",
     "output_type": "stream",
     "text": [
      "Processing: Class 1 - Motorcycles:   4%|▍         | 38/932 [00:28<11:49,  1.26file/s]"
     ]
    },
    {
     "name": "stdout",
     "output_type": "stream",
     "text": [
      "motorcycle\n",
      "Vehicle Prediction: motorcycle\n",
      "Validation Result: True\n"
     ]
    },
    {
     "name": "stderr",
     "output_type": "stream",
     "text": [
      "Processing: Class 1 - Motorcycles:   4%|▍         | 39/932 [00:29<14:02,  1.06file/s]"
     ]
    },
    {
     "name": "stdout",
     "output_type": "stream",
     "text": [
      "scoot\n",
      "Vehicle Prediction: scoot\n",
      "Validation Result: False\n"
     ]
    },
    {
     "name": "stderr",
     "output_type": "stream",
     "text": [
      "Processing: Class 1 - Motorcycles:   4%|▍         | 40/932 [00:30<14:23,  1.03file/s]"
     ]
    },
    {
     "name": "stdout",
     "output_type": "stream",
     "text": [
      "motorcycle\n",
      "Vehicle Prediction: motorcycle\n",
      "Validation Result: True\n"
     ]
    },
    {
     "name": "stderr",
     "output_type": "stream",
     "text": [
      "Processing: Class 1 - Motorcycles:   4%|▍         | 41/932 [00:31<15:48,  1.06s/file]"
     ]
    },
    {
     "name": "stdout",
     "output_type": "stream",
     "text": [
      "motorcycle\n",
      "Vehicle Prediction: motorcycle\n",
      "Validation Result: True\n"
     ]
    },
    {
     "name": "stderr",
     "output_type": "stream",
     "text": [
      "Processing: Class 1 - Motorcycles:   5%|▍         | 42/932 [00:33<15:49,  1.07s/file]"
     ]
    },
    {
     "name": "stdout",
     "output_type": "stream",
     "text": [
      "motorcycle\n",
      "Vehicle Prediction: motorcycle\n",
      "Validation Result: True\n"
     ]
    },
    {
     "name": "stderr",
     "output_type": "stream",
     "text": [
      "Processing: Class 1 - Motorcycles:   5%|▍         | 43/932 [00:34<16:50,  1.14s/file][codecarbon INFO @ 14:45:55] Energy consumed for RAM : 0.001573 kWh. RAM Power : 188.80178117752075 W\n",
      "[codecarbon INFO @ 14:45:55] Energy consumed for all CPUs : 0.000833 kWh. Total CPU Power : 100.0 W\n"
     ]
    },
    {
     "name": "stdout",
     "output_type": "stream",
     "text": [
      "motorcycle\n",
      "Vehicle Prediction: motorcycle\n",
      "Validation Result: True\n"
     ]
    },
    {
     "name": "stderr",
     "output_type": "stream",
     "text": [
      "[codecarbon INFO @ 14:45:55] Energy consumed for all GPUs : 0.002329 kWh. Total GPU Power : 292.3842845573864 W\n",
      "[codecarbon INFO @ 14:45:55] 0.004735 kWh of electricity used since the beginning.\n",
      "Processing: Class 1 - Motorcycles:   5%|▍         | 44/932 [00:35<16:30,  1.12s/file]"
     ]
    },
    {
     "name": "stdout",
     "output_type": "stream",
     "text": [
      "motorcycle\n",
      "Vehicle Prediction: motorcycle\n",
      "Validation Result: True\n"
     ]
    },
    {
     "name": "stderr",
     "output_type": "stream",
     "text": [
      "Processing: Class 1 - Motorcycles:   5%|▍         | 45/932 [00:36<17:14,  1.17s/file]"
     ]
    },
    {
     "name": "stdout",
     "output_type": "stream",
     "text": [
      "motorcycle\n",
      "Vehicle Prediction: motorcycle\n",
      "Validation Result: True\n"
     ]
    },
    {
     "name": "stderr",
     "output_type": "stream",
     "text": [
      "Processing: Class 1 - Motorcycles:   5%|▍         | 46/932 [00:37<16:00,  1.08s/file]"
     ]
    },
    {
     "name": "stdout",
     "output_type": "stream",
     "text": [
      "motorcycle\n",
      "Vehicle Prediction: motorcycle\n",
      "Validation Result: True\n"
     ]
    },
    {
     "name": "stderr",
     "output_type": "stream",
     "text": [
      "Processing: Class 1 - Motorcycles:   5%|▌         | 47/932 [00:38<16:55,  1.15s/file]"
     ]
    },
    {
     "name": "stdout",
     "output_type": "stream",
     "text": [
      "motorcycle\n",
      "Vehicle Prediction: motorcycle\n",
      "Validation Result: True\n"
     ]
    },
    {
     "name": "stderr",
     "output_type": "stream",
     "text": [
      "Processing: Class 1 - Motorcycles:   5%|▌         | 48/932 [00:39<16:41,  1.13s/file]"
     ]
    },
    {
     "name": "stdout",
     "output_type": "stream",
     "text": [
      "motorcycle\n",
      "Vehicle Prediction: motorcycle\n",
      "Validation Result: True\n"
     ]
    },
    {
     "name": "stderr",
     "output_type": "stream",
     "text": [
      "Processing: Class 1 - Motorcycles:   5%|▌         | 49/932 [00:41<17:21,  1.18s/file]"
     ]
    },
    {
     "name": "stdout",
     "output_type": "stream",
     "text": [
      "motorcycle\n",
      "Vehicle Prediction: motorcycle\n",
      "Validation Result: True\n"
     ]
    },
    {
     "name": "stderr",
     "output_type": "stream",
     "text": [
      "Processing: Class 1 - Motorcycles:   5%|▌         | 50/932 [00:42<16:40,  1.13s/file]"
     ]
    },
    {
     "name": "stdout",
     "output_type": "stream",
     "text": [
      "motorcycle\n",
      "Vehicle Prediction: motorcycle\n",
      "Validation Result: True\n"
     ]
    },
    {
     "name": "stderr",
     "output_type": "stream",
     "text": [
      "Processing: Class 1 - Motorcycles:   5%|▌         | 51/932 [00:43<17:19,  1.18s/file]"
     ]
    },
    {
     "name": "stdout",
     "output_type": "stream",
     "text": [
      "motorcycle\n",
      "Vehicle Prediction: motorcycle\n",
      "Validation Result: True\n"
     ]
    },
    {
     "name": "stderr",
     "output_type": "stream",
     "text": [
      "Processing: Class 1 - Motorcycles:   6%|▌         | 52/932 [00:44<16:59,  1.16s/file]"
     ]
    },
    {
     "name": "stdout",
     "output_type": "stream",
     "text": [
      "motorcycle\n",
      "Vehicle Prediction: motorcycle\n",
      "Validation Result: True\n"
     ]
    },
    {
     "name": "stderr",
     "output_type": "stream",
     "text": [
      "Processing: Class 1 - Motorcycles:   6%|▌         | 53/932 [00:45<17:31,  1.20s/file]"
     ]
    },
    {
     "name": "stdout",
     "output_type": "stream",
     "text": [
      "motorcycle\n",
      "Vehicle Prediction: motorcycle\n",
      "Validation Result: True\n"
     ]
    },
    {
     "name": "stderr",
     "output_type": "stream",
     "text": [
      "Processing: Class 1 - Motorcycles:   6%|▌         | 54/932 [00:47<17:32,  1.20s/file]"
     ]
    },
    {
     "name": "stdout",
     "output_type": "stream",
     "text": [
      "motorcycle\n",
      "Vehicle Prediction: motorcycle\n",
      "Validation Result: True\n"
     ]
    },
    {
     "name": "stderr",
     "output_type": "stream",
     "text": [
      "Processing: Class 1 - Motorcycles:   6%|▌         | 55/932 [00:48<17:53,  1.22s/file]"
     ]
    },
    {
     "name": "stdout",
     "output_type": "stream",
     "text": [
      "motorcycle\n",
      "Vehicle Prediction: motorcycle\n",
      "Validation Result: True\n"
     ]
    },
    {
     "name": "stderr",
     "output_type": "stream",
     "text": [
      "[codecarbon INFO @ 14:46:10] Energy consumed for RAM : 0.002351 kWh. RAM Power : 188.80178117752075 W\n",
      "[codecarbon INFO @ 14:46:10] Energy consumed for all CPUs : 0.001245 kWh. Total CPU Power : 100.0 W\n",
      "[codecarbon INFO @ 14:46:10] Energy consumed for all GPUs : 0.003618 kWh. Total GPU Power : 312.8136075448917 W\n",
      "[codecarbon INFO @ 14:46:10] 0.007214 kWh of electricity used since the beginning.\n",
      "Processing: Class 1 - Motorcycles:   6%|▌         | 56/932 [00:49<17:56,  1.23s/file]"
     ]
    },
    {
     "name": "stdout",
     "output_type": "stream",
     "text": [
      "motorcycle\n",
      "Vehicle Prediction: motorcycle\n",
      "Validation Result: True\n"
     ]
    },
    {
     "name": "stderr",
     "output_type": "stream",
     "text": [
      "Processing: Class 1 - Motorcycles:   6%|▌         | 57/932 [00:50<18:06,  1.24s/file]"
     ]
    },
    {
     "name": "stdout",
     "output_type": "stream",
     "text": [
      "motorcycle\n",
      "Vehicle Prediction: motorcycle\n",
      "Validation Result: True\n"
     ]
    },
    {
     "name": "stderr",
     "output_type": "stream",
     "text": [
      "Processing: Class 1 - Motorcycles:   6%|▌         | 58/932 [00:52<18:03,  1.24s/file]"
     ]
    },
    {
     "name": "stdout",
     "output_type": "stream",
     "text": [
      "motorcycle\n",
      "Vehicle Prediction: motorcycle\n",
      "Validation Result: True\n"
     ]
    },
    {
     "name": "stderr",
     "output_type": "stream",
     "text": [
      "Processing: Class 1 - Motorcycles:   6%|▋         | 59/932 [00:53<17:59,  1.24s/file]"
     ]
    },
    {
     "name": "stdout",
     "output_type": "stream",
     "text": [
      "motorcycle\n",
      "Vehicle Prediction: motorcycle\n",
      "Validation Result: True\n"
     ]
    },
    {
     "name": "stderr",
     "output_type": "stream",
     "text": [
      "Processing: Class 1 - Motorcycles:   6%|▋         | 60/932 [00:54<18:04,  1.24s/file]"
     ]
    },
    {
     "name": "stdout",
     "output_type": "stream",
     "text": [
      "motorcycle\n",
      "Vehicle Prediction: motorcycle\n",
      "Validation Result: True\n"
     ]
    },
    {
     "name": "stderr",
     "output_type": "stream",
     "text": [
      "Processing: Class 1 - Motorcycles:   7%|▋         | 61/932 [00:55<17:55,  1.23s/file]"
     ]
    },
    {
     "name": "stdout",
     "output_type": "stream",
     "text": [
      "motorcycle\n",
      "Vehicle Prediction: motorcycle\n",
      "Validation Result: True\n"
     ]
    },
    {
     "name": "stderr",
     "output_type": "stream",
     "text": [
      "Processing: Class 1 - Motorcycles:   7%|▋         | 62/932 [00:57<18:03,  1.25s/file]"
     ]
    },
    {
     "name": "stdout",
     "output_type": "stream",
     "text": [
      "motorcycle\n",
      "Vehicle Prediction: motorcycle\n",
      "Validation Result: True\n"
     ]
    },
    {
     "name": "stderr",
     "output_type": "stream",
     "text": [
      "Processing: Class 1 - Motorcycles:   7%|▋         | 63/932 [00:58<17:45,  1.23s/file]"
     ]
    },
    {
     "name": "stdout",
     "output_type": "stream",
     "text": [
      "motorcycle\n",
      "Vehicle Prediction: motorcycle\n",
      "Validation Result: True\n"
     ]
    },
    {
     "name": "stderr",
     "output_type": "stream",
     "text": [
      "Processing: Class 1 - Motorcycles:   7%|▋         | 64/932 [00:59<18:00,  1.24s/file]"
     ]
    },
    {
     "name": "stdout",
     "output_type": "stream",
     "text": [
      "motorcycle\n",
      "Vehicle Prediction: motorcycle\n",
      "Validation Result: True\n"
     ]
    },
    {
     "name": "stderr",
     "output_type": "stream",
     "text": [
      "Processing: Class 1 - Motorcycles:   7%|▋         | 65/932 [01:00<17:29,  1.21s/file]"
     ]
    },
    {
     "name": "stdout",
     "output_type": "stream",
     "text": [
      "motorcycle\n",
      "Vehicle Prediction: motorcycle\n",
      "Validation Result: True\n"
     ]
    },
    {
     "name": "stderr",
     "output_type": "stream",
     "text": [
      "Processing: Class 1 - Motorcycles:   7%|▋         | 66/932 [01:02<17:47,  1.23s/file]"
     ]
    },
    {
     "name": "stdout",
     "output_type": "stream",
     "text": [
      "motorcycle\n",
      "Vehicle Prediction: motorcycle\n",
      "Validation Result: True\n"
     ]
    },
    {
     "name": "stderr",
     "output_type": "stream",
     "text": [
      "Processing: Class 1 - Motorcycles:   7%|▋         | 67/932 [01:03<17:06,  1.19s/file]"
     ]
    },
    {
     "name": "stdout",
     "output_type": "stream",
     "text": [
      "motorcycle\n",
      "Vehicle Prediction: motorcycle\n",
      "Validation Result: True\n"
     ]
    },
    {
     "name": "stderr",
     "output_type": "stream",
     "text": [
      "[codecarbon INFO @ 14:46:25] Energy consumed for RAM : 0.003135 kWh. RAM Power : 188.80178117752075 W\n",
      "[codecarbon INFO @ 14:46:25] Energy consumed for all CPUs : 0.001661 kWh. Total CPU Power : 100.0 W\n",
      "[codecarbon INFO @ 14:46:25] Energy consumed for all GPUs : 0.004901 kWh. Total GPU Power : 309.19313203645174 W\n",
      "[codecarbon INFO @ 14:46:25] 0.009696 kWh of electricity used since the beginning.\n",
      "Processing: Class 1 - Motorcycles:   7%|▋         | 68/932 [01:04<17:35,  1.22s/file]"
     ]
    },
    {
     "name": "stdout",
     "output_type": "stream",
     "text": [
      "motorcycle\n",
      "Vehicle Prediction: motorcycle\n",
      "Validation Result: True\n"
     ]
    },
    {
     "name": "stderr",
     "output_type": "stream",
     "text": [
      "Processing: Class 1 - Motorcycles:   7%|▋         | 69/932 [01:05<17:01,  1.18s/file]"
     ]
    },
    {
     "name": "stdout",
     "output_type": "stream",
     "text": [
      "motorcycle\n",
      "Vehicle Prediction: motorcycle\n",
      "Validation Result: True\n"
     ]
    },
    {
     "name": "stderr",
     "output_type": "stream",
     "text": [
      "Processing: Class 1 - Motorcycles:   8%|▊         | 70/932 [01:06<17:28,  1.22s/file]"
     ]
    },
    {
     "name": "stdout",
     "output_type": "stream",
     "text": [
      "motorcycle\n",
      "Vehicle Prediction: motorcycle\n",
      "Validation Result: True\n"
     ]
    },
    {
     "name": "stderr",
     "output_type": "stream",
     "text": [
      "Processing: Class 1 - Motorcycles:   8%|▊         | 71/932 [01:07<16:58,  1.18s/file]"
     ]
    },
    {
     "name": "stdout",
     "output_type": "stream",
     "text": [
      "motorcycle\n",
      "Vehicle Prediction: motorcycle\n",
      "Validation Result: True\n"
     ]
    },
    {
     "name": "stderr",
     "output_type": "stream",
     "text": [
      "Processing: Class 1 - Motorcycles:   8%|▊         | 72/932 [01:09<17:23,  1.21s/file]"
     ]
    },
    {
     "name": "stdout",
     "output_type": "stream",
     "text": [
      "motorcycle\n",
      "Vehicle Prediction: motorcycle\n",
      "Validation Result: True\n"
     ]
    },
    {
     "name": "stderr",
     "output_type": "stream",
     "text": [
      "Processing: Class 1 - Motorcycles:   8%|▊         | 73/932 [01:10<16:45,  1.17s/file]"
     ]
    },
    {
     "name": "stdout",
     "output_type": "stream",
     "text": [
      "motorcycle\n",
      "Vehicle Prediction: motorcycle\n",
      "Validation Result: True\n"
     ]
    },
    {
     "name": "stderr",
     "output_type": "stream",
     "text": [
      "Processing: Class 1 - Motorcycles:   8%|▊         | 74/932 [01:11<17:12,  1.20s/file]"
     ]
    },
    {
     "name": "stdout",
     "output_type": "stream",
     "text": [
      "motorcycle\n",
      "Vehicle Prediction: motorcycle\n",
      "Validation Result: True\n"
     ]
    },
    {
     "name": "stderr",
     "output_type": "stream",
     "text": [
      "Processing: Class 1 - Motorcycles:   8%|▊         | 75/932 [01:12<16:43,  1.17s/file]"
     ]
    },
    {
     "name": "stdout",
     "output_type": "stream",
     "text": [
      "motorcycle\n",
      "Vehicle Prediction: motorcycle\n",
      "Validation Result: True\n"
     ]
    },
    {
     "name": "stderr",
     "output_type": "stream",
     "text": [
      "Processing: Class 1 - Motorcycles:   8%|▊         | 76/932 [01:13<17:12,  1.21s/file]"
     ]
    },
    {
     "name": "stdout",
     "output_type": "stream",
     "text": [
      "motorcycle\n",
      "Vehicle Prediction: motorcycle\n",
      "Validation Result: True\n"
     ]
    },
    {
     "name": "stderr",
     "output_type": "stream",
     "text": [
      "Processing: Class 1 - Motorcycles:   8%|▊         | 77/932 [01:15<16:39,  1.17s/file]"
     ]
    },
    {
     "name": "stdout",
     "output_type": "stream",
     "text": [
      "motorcycle\n",
      "Vehicle Prediction: motorcycle\n",
      "Validation Result: True\n"
     ]
    },
    {
     "name": "stderr",
     "output_type": "stream",
     "text": [
      "Processing: Class 1 - Motorcycles:   8%|▊         | 78/932 [01:16<17:09,  1.20s/file]"
     ]
    },
    {
     "name": "stdout",
     "output_type": "stream",
     "text": [
      "motorcycle\n",
      "Vehicle Prediction: motorcycle\n",
      "Validation Result: True\n"
     ]
    },
    {
     "name": "stderr",
     "output_type": "stream",
     "text": [
      "Processing: Class 1 - Motorcycles:   8%|▊         | 79/932 [01:17<16:40,  1.17s/file]"
     ]
    },
    {
     "name": "stdout",
     "output_type": "stream",
     "text": [
      "motorcycle\n",
      "Vehicle Prediction: motorcycle\n",
      "Validation Result: True\n"
     ]
    },
    {
     "name": "stderr",
     "output_type": "stream",
     "text": [
      "Processing: Class 1 - Motorcycles:   9%|▊         | 80/932 [01:18<17:06,  1.20s/file]"
     ]
    },
    {
     "name": "stdout",
     "output_type": "stream",
     "text": [
      "motorcycle\n",
      "Vehicle Prediction: motorcycle\n",
      "Validation Result: True\n"
     ]
    },
    {
     "name": "stderr",
     "output_type": "stream",
     "text": [
      "[codecarbon INFO @ 14:46:40] Energy consumed for RAM : 0.003921 kWh. RAM Power : 188.80178117752075 W\n",
      "[codecarbon INFO @ 14:46:40] Energy consumed for all CPUs : 0.002077 kWh. Total CPU Power : 100.0 W\n",
      "[codecarbon INFO @ 14:46:40] Energy consumed for all GPUs : 0.006246 kWh. Total GPU Power : 322.85924710306284 W\n",
      "[codecarbon INFO @ 14:46:40] 0.012244 kWh of electricity used since the beginning.\n",
      "Processing: Class 1 - Motorcycles:   9%|▊         | 81/932 [01:19<16:34,  1.17s/file]"
     ]
    },
    {
     "name": "stdout",
     "output_type": "stream",
     "text": [
      "motorcycle\n",
      "Vehicle Prediction: motorcycle\n",
      "Validation Result: True\n"
     ]
    },
    {
     "name": "stderr",
     "output_type": "stream",
     "text": [
      "Processing: Class 1 - Motorcycles:   9%|▉         | 82/932 [01:20<14:04,  1.01file/s]"
     ]
    },
    {
     "name": "stdout",
     "output_type": "stream",
     "text": [
      "motorcycle\n",
      "Vehicle Prediction: motorcycle\n",
      "Validation Result: True\n"
     ]
    },
    {
     "name": "stderr",
     "output_type": "stream",
     "text": [
      "Processing: Class 1 - Motorcycles:   9%|▉         | 83/932 [01:20<12:19,  1.15file/s]"
     ]
    },
    {
     "name": "stdout",
     "output_type": "stream",
     "text": [
      "motorcycle\n",
      "Vehicle Prediction: motorcycle\n",
      "Validation Result: True\n"
     ]
    },
    {
     "name": "stderr",
     "output_type": "stream",
     "text": [
      "Processing: Class 1 - Motorcycles:   9%|▉         | 84/932 [01:21<11:05,  1.27file/s]"
     ]
    },
    {
     "name": "stdout",
     "output_type": "stream",
     "text": [
      "scoot\n",
      "Vehicle Prediction: scoot\n",
      "Validation Result: False\n"
     ]
    },
    {
     "name": "stderr",
     "output_type": "stream",
     "text": [
      "Processing: Class 1 - Motorcycles:   9%|▉         | 85/932 [01:22<10:52,  1.30file/s]"
     ]
    },
    {
     "name": "stdout",
     "output_type": "stream",
     "text": [
      "scoot\n",
      "Vehicle Prediction: scoot\n",
      "Validation Result: False\n"
     ]
    },
    {
     "name": "stderr",
     "output_type": "stream",
     "text": [
      "Processing: Class 1 - Motorcycles:   9%|▉         | 86/932 [01:22<10:04,  1.40file/s]"
     ]
    },
    {
     "name": "stdout",
     "output_type": "stream",
     "text": [
      "motorcycle\n",
      "Vehicle Prediction: motorcycle\n",
      "Validation Result: True\n"
     ]
    },
    {
     "name": "stderr",
     "output_type": "stream",
     "text": [
      "Processing: Class 1 - Motorcycles:   9%|▉         | 87/932 [01:23<09:27,  1.49file/s]"
     ]
    },
    {
     "name": "stdout",
     "output_type": "stream",
     "text": [
      "scoot\n",
      "Vehicle Prediction: scoot\n",
      "Validation Result: False\n"
     ]
    },
    {
     "name": "stderr",
     "output_type": "stream",
     "text": [
      "Processing: Class 1 - Motorcycles:   9%|▉         | 88/932 [01:24<08:59,  1.57file/s]"
     ]
    },
    {
     "name": "stdout",
     "output_type": "stream",
     "text": [
      "scoot\n",
      "Vehicle Prediction: scoot\n",
      "Validation Result: False\n"
     ]
    },
    {
     "name": "stderr",
     "output_type": "stream",
     "text": [
      "Processing: Class 1 - Motorcycles:  10%|▉         | 89/932 [01:24<08:42,  1.61file/s]"
     ]
    },
    {
     "name": "stdout",
     "output_type": "stream",
     "text": [
      "scoot\n",
      "Vehicle Prediction: scoot\n",
      "Validation Result: False\n"
     ]
    },
    {
     "name": "stderr",
     "output_type": "stream",
     "text": [
      "Processing: Class 1 - Motorcycles:  10%|▉         | 90/932 [01:25<08:25,  1.66file/s]"
     ]
    },
    {
     "name": "stdout",
     "output_type": "stream",
     "text": [
      "scoot\n",
      "Vehicle Prediction: scoot\n",
      "Validation Result: False\n"
     ]
    },
    {
     "name": "stderr",
     "output_type": "stream",
     "text": [
      "Processing: Class 1 - Motorcycles:  10%|▉         | 91/932 [01:25<08:14,  1.70file/s]"
     ]
    },
    {
     "name": "stdout",
     "output_type": "stream",
     "text": [
      "scoot\n",
      "Vehicle Prediction: scoot\n",
      "Validation Result: False\n"
     ]
    },
    {
     "name": "stderr",
     "output_type": "stream",
     "text": [
      "Processing: Class 1 - Motorcycles:  10%|▉         | 92/932 [01:26<08:06,  1.73file/s]"
     ]
    },
    {
     "name": "stdout",
     "output_type": "stream",
     "text": [
      "motorcycle\n",
      "Vehicle Prediction: motorcycle\n",
      "Validation Result: True\n"
     ]
    },
    {
     "name": "stderr",
     "output_type": "stream",
     "text": [
      "Processing: Class 1 - Motorcycles:  10%|▉         | 93/932 [01:26<08:08,  1.72file/s]"
     ]
    },
    {
     "name": "stdout",
     "output_type": "stream",
     "text": [
      "motorcycle\n",
      "Vehicle Prediction: motorcycle\n",
      "Validation Result: True\n"
     ]
    },
    {
     "name": "stderr",
     "output_type": "stream",
     "text": [
      "Processing: Class 1 - Motorcycles:  10%|█         | 94/932 [01:27<08:00,  1.75file/s]"
     ]
    },
    {
     "name": "stdout",
     "output_type": "stream",
     "text": [
      "motorcycle\n",
      "Vehicle Prediction: motorcycle\n",
      "Validation Result: True\n"
     ]
    },
    {
     "name": "stderr",
     "output_type": "stream",
     "text": [
      "Processing: Class 1 - Motorcycles:  10%|█         | 95/932 [01:27<07:57,  1.75file/s]"
     ]
    },
    {
     "name": "stdout",
     "output_type": "stream",
     "text": [
      "motorcycle\n",
      "Vehicle Prediction: motorcycle\n",
      "Validation Result: True\n"
     ]
    },
    {
     "name": "stderr",
     "output_type": "stream",
     "text": [
      "Processing: Class 1 - Motorcycles:  10%|█         | 96/932 [01:28<07:54,  1.76file/s]"
     ]
    },
    {
     "name": "stdout",
     "output_type": "stream",
     "text": [
      "motorcycle\n",
      "Vehicle Prediction: motorcycle\n",
      "Validation Result: True\n"
     ]
    },
    {
     "name": "stderr",
     "output_type": "stream",
     "text": [
      "Processing: Class 1 - Motorcycles:  10%|█         | 97/932 [01:29<07:50,  1.77file/s]"
     ]
    },
    {
     "name": "stdout",
     "output_type": "stream",
     "text": [
      "motorcycle\n",
      "Vehicle Prediction: motorcycle\n",
      "Validation Result: True\n"
     ]
    },
    {
     "name": "stderr",
     "output_type": "stream",
     "text": [
      "Processing: Class 1 - Motorcycles:  11%|█         | 98/932 [01:29<07:48,  1.78file/s]"
     ]
    },
    {
     "name": "stdout",
     "output_type": "stream",
     "text": [
      "motorcycle\n",
      "Vehicle Prediction: motorcycle\n",
      "Validation Result: True\n"
     ]
    },
    {
     "name": "stderr",
     "output_type": "stream",
     "text": [
      "Processing: Class 1 - Motorcycles:  11%|█         | 99/932 [01:30<07:50,  1.77file/s]"
     ]
    },
    {
     "name": "stdout",
     "output_type": "stream",
     "text": [
      "scoot\n",
      "Vehicle Prediction: scoot\n",
      "Validation Result: False\n"
     ]
    },
    {
     "name": "stderr",
     "output_type": "stream",
     "text": [
      "Processing: Class 1 - Motorcycles:  11%|█         | 100/932 [01:30<07:53,  1.76file/s]"
     ]
    },
    {
     "name": "stdout",
     "output_type": "stream",
     "text": [
      "scoot\n",
      "Vehicle Prediction: scoot\n",
      "Validation Result: False\n"
     ]
    },
    {
     "name": "stderr",
     "output_type": "stream",
     "text": [
      "Processing: Class 2 - Car, SUV, Station Wagons:  11%|█         | 101/932 [01:31<07:52,  1.76file/s]"
     ]
    },
    {
     "name": "stdout",
     "output_type": "stream",
     "text": [
      "motorcycle\n",
      "Vehicle Prediction: motorcycle\n",
      "Validation Result: True\n"
     ]
    },
    {
     "name": "stderr",
     "output_type": "stream",
     "text": [
      "Processing: Class 2 - Car, SUV, Station Wagons:  11%|█         | 102/932 [01:31<07:16,  1.90file/s]"
     ]
    },
    {
     "name": "stdout",
     "output_type": "stream",
     "text": [
      "sedan\n",
      "Vehicle Prediction: sedan\n",
      "Validation Result: True\n"
     ]
    },
    {
     "name": "stderr",
     "output_type": "stream",
     "text": [
      "Processing: Class 2 - Car, SUV, Station Wagons:  11%|█         | 103/932 [01:32<06:56,  1.99file/s]"
     ]
    },
    {
     "name": "stdout",
     "output_type": "stream",
     "text": [
      "sedan\n",
      "Vehicle Prediction: sedan\n",
      "Validation Result: True\n"
     ]
    },
    {
     "name": "stderr",
     "output_type": "stream",
     "text": [
      "Processing: Class 2 - Car, SUV, Station Wagons:  11%|█         | 104/932 [01:32<06:39,  2.07file/s]"
     ]
    },
    {
     "name": "stdout",
     "output_type": "stream",
     "text": [
      "sedan\n",
      "Vehicle Prediction: sedan\n",
      "Validation Result: True\n"
     ]
    },
    {
     "name": "stderr",
     "output_type": "stream",
     "text": [
      "Processing: Class 2 - Car, SUV, Station Wagons:  11%|█▏        | 105/932 [01:33<06:31,  2.11file/s]"
     ]
    },
    {
     "name": "stdout",
     "output_type": "stream",
     "text": [
      "sedan\n",
      "Vehicle Prediction: sedan\n",
      "Validation Result: True\n"
     ]
    },
    {
     "name": "stderr",
     "output_type": "stream",
     "text": [
      "Processing: Class 2 - Car, SUV, Station Wagons:  11%|█▏        | 106/932 [01:33<06:23,  2.15file/s]"
     ]
    },
    {
     "name": "stdout",
     "output_type": "stream",
     "text": [
      "sedan\n",
      "Vehicle Prediction: sedan\n",
      "Validation Result: True\n"
     ]
    },
    {
     "name": "stderr",
     "output_type": "stream",
     "text": [
      "Processing: Class 2 - Car, SUV, Station Wagons:  11%|█▏        | 107/932 [01:33<06:12,  2.21file/s]"
     ]
    },
    {
     "name": "stdout",
     "output_type": "stream",
     "text": [
      "sedan\n",
      "Vehicle Prediction: sedan\n",
      "Validation Result: True\n"
     ]
    },
    {
     "name": "stderr",
     "output_type": "stream",
     "text": [
      "Processing: Class 2 - Car, SUV, Station Wagons:  12%|█▏        | 108/932 [01:34<06:11,  2.22file/s][codecarbon INFO @ 14:46:55] Energy consumed for RAM : 0.004707 kWh. RAM Power : 188.80178117752075 W\n",
      "[codecarbon INFO @ 14:46:55] Energy consumed for all CPUs : 0.002494 kWh. Total CPU Power : 100.0 W\n",
      "[codecarbon INFO @ 14:46:55] Energy consumed for all GPUs : 0.007442 kWh. Total GPU Power : 287.17669205134456 W\n",
      "[codecarbon INFO @ 14:46:55] 0.014643 kWh of electricity used since the beginning.\n"
     ]
    },
    {
     "name": "stdout",
     "output_type": "stream",
     "text": [
      "sedan\n",
      "Vehicle Prediction: sedan\n",
      "Validation Result: True\n"
     ]
    },
    {
     "name": "stderr",
     "output_type": "stream",
     "text": [
      "Processing: Class 2 - Car, SUV, Station Wagons:  12%|█▏        | 109/932 [01:34<06:07,  2.24file/s]"
     ]
    },
    {
     "name": "stdout",
     "output_type": "stream",
     "text": [
      "sedan\n",
      "Vehicle Prediction: sedan\n",
      "Validation Result: True\n"
     ]
    },
    {
     "name": "stderr",
     "output_type": "stream",
     "text": [
      "Processing: Class 2 - Car, SUV, Station Wagons:  12%|█▏        | 110/932 [01:35<06:36,  2.07file/s]"
     ]
    },
    {
     "name": "stdout",
     "output_type": "stream",
     "text": [
      "sedan\n",
      "Vehicle Prediction: sedan\n",
      "Validation Result: True\n"
     ]
    },
    {
     "name": "stderr",
     "output_type": "stream",
     "text": [
      "Processing: Class 2 - Car, SUV, Station Wagons:  12%|█▏        | 111/932 [01:35<06:21,  2.15file/s]"
     ]
    },
    {
     "name": "stdout",
     "output_type": "stream",
     "text": [
      "sedan\n",
      "Vehicle Prediction: sedan\n",
      "Validation Result: True\n"
     ]
    },
    {
     "name": "stderr",
     "output_type": "stream",
     "text": [
      "Processing: Class 2 - Car, SUV, Station Wagons:  12%|█▏        | 112/932 [01:36<06:36,  2.07file/s]"
     ]
    },
    {
     "name": "stdout",
     "output_type": "stream",
     "text": [
      "sedan\n",
      "Vehicle Prediction: sedan\n",
      "Validation Result: True\n"
     ]
    },
    {
     "name": "stderr",
     "output_type": "stream",
     "text": [
      "Processing: Class 2 - Car, SUV, Station Wagons:  12%|█▏        | 113/932 [01:36<06:28,  2.11file/s]"
     ]
    },
    {
     "name": "stdout",
     "output_type": "stream",
     "text": [
      "sedan\n",
      "Vehicle Prediction: sedan\n",
      "Validation Result: True\n"
     ]
    },
    {
     "name": "stderr",
     "output_type": "stream",
     "text": [
      "Processing: Class 2 - Car, SUV, Station Wagons:  12%|█▏        | 114/932 [01:37<06:20,  2.15file/s]"
     ]
    },
    {
     "name": "stdout",
     "output_type": "stream",
     "text": [
      "sedan\n",
      "Vehicle Prediction: sedan\n",
      "Validation Result: True\n"
     ]
    },
    {
     "name": "stderr",
     "output_type": "stream",
     "text": [
      "Processing: Class 2 - Car, SUV, Station Wagons:  12%|█▏        | 115/932 [01:37<06:11,  2.20file/s]"
     ]
    },
    {
     "name": "stdout",
     "output_type": "stream",
     "text": [
      "sports car\n",
      "Vehicle Prediction: sports car\n",
      "Validation Result: True\n"
     ]
    },
    {
     "name": "stderr",
     "output_type": "stream",
     "text": [
      "Processing: Class 2 - Car, SUV, Station Wagons:  12%|█▏        | 116/932 [01:38<06:04,  2.24file/s]"
     ]
    },
    {
     "name": "stdout",
     "output_type": "stream",
     "text": [
      "sports car\n",
      "Vehicle Prediction: sports car\n",
      "Validation Result: True\n"
     ]
    },
    {
     "name": "stderr",
     "output_type": "stream",
     "text": [
      "Processing: Class 2 - Car, SUV, Station Wagons:  13%|█▎        | 117/932 [01:38<06:24,  2.12file/s]"
     ]
    },
    {
     "name": "stdout",
     "output_type": "stream",
     "text": [
      "sports car\n",
      "Vehicle Prediction: sports car\n",
      "Validation Result: True\n"
     ]
    },
    {
     "name": "stderr",
     "output_type": "stream",
     "text": [
      "Processing: Class 2 - Car, SUV, Station Wagons:  13%|█▎        | 118/932 [01:39<06:24,  2.12file/s]"
     ]
    },
    {
     "name": "stdout",
     "output_type": "stream",
     "text": [
      "sports car\n",
      "Vehicle Prediction: sports car\n",
      "Validation Result: True\n"
     ]
    },
    {
     "name": "stderr",
     "output_type": "stream",
     "text": [
      "Processing: Class 2 - Car, SUV, Station Wagons:  13%|█▎        | 119/932 [01:39<06:12,  2.18file/s]"
     ]
    },
    {
     "name": "stdout",
     "output_type": "stream",
     "text": [
      "car\n",
      "Vehicle Prediction: car\n",
      "Validation Result: True\n"
     ]
    },
    {
     "name": "stderr",
     "output_type": "stream",
     "text": [
      "Processing: Class 2 - Car, SUV, Station Wagons:  13%|█▎        | 120/932 [01:40<06:08,  2.20file/s]"
     ]
    },
    {
     "name": "stdout",
     "output_type": "stream",
     "text": [
      "sports car\n",
      "Vehicle Prediction: sports car\n",
      "Validation Result: True\n"
     ]
    },
    {
     "name": "stderr",
     "output_type": "stream",
     "text": [
      "Processing: Class 2 - Car, SUV, Station Wagons:  13%|█▎        | 121/932 [01:40<06:01,  2.24file/s]"
     ]
    },
    {
     "name": "stdout",
     "output_type": "stream",
     "text": [
      "sports car\n",
      "Vehicle Prediction: sports car\n",
      "Validation Result: True\n"
     ]
    },
    {
     "name": "stderr",
     "output_type": "stream",
     "text": [
      "Processing: Class 2 - Car, SUV, Station Wagons:  13%|█▎        | 122/932 [01:40<05:55,  2.28file/s]"
     ]
    },
    {
     "name": "stdout",
     "output_type": "stream",
     "text": [
      "sedan\n",
      "Vehicle Prediction: sedan\n",
      "Validation Result: True\n"
     ]
    },
    {
     "name": "stderr",
     "output_type": "stream",
     "text": [
      "Processing: Class 2 - Car, SUV, Station Wagons:  13%|█▎        | 123/932 [01:41<05:56,  2.27file/s]"
     ]
    },
    {
     "name": "stdout",
     "output_type": "stream",
     "text": [
      "sedan\n",
      "Vehicle Prediction: sedan\n",
      "Validation Result: True\n"
     ]
    },
    {
     "name": "stderr",
     "output_type": "stream",
     "text": [
      "Processing: Class 2 - Car, SUV, Station Wagons:  13%|█▎        | 124/932 [01:41<05:55,  2.27file/s]"
     ]
    },
    {
     "name": "stdout",
     "output_type": "stream",
     "text": [
      "sedan\n",
      "Vehicle Prediction: sedan\n",
      "Validation Result: True\n"
     ]
    },
    {
     "name": "stderr",
     "output_type": "stream",
     "text": [
      "Processing: Class 2 - Car, SUV, Station Wagons:  13%|█▎        | 125/932 [01:42<05:53,  2.28file/s]"
     ]
    },
    {
     "name": "stdout",
     "output_type": "stream",
     "text": [
      "sedan\n",
      "Vehicle Prediction: sedan\n",
      "Validation Result: True\n"
     ]
    },
    {
     "name": "stderr",
     "output_type": "stream",
     "text": [
      "Processing: Class 2 - Car, SUV, Station Wagons:  14%|█▎        | 126/932 [01:42<06:17,  2.13file/s]"
     ]
    },
    {
     "name": "stdout",
     "output_type": "stream",
     "text": [
      "sedan\n",
      "Vehicle Prediction: sedan\n",
      "Validation Result: True\n"
     ]
    },
    {
     "name": "stderr",
     "output_type": "stream",
     "text": [
      "Processing: Class 2 - Car, SUV, Station Wagons:  14%|█▎        | 127/932 [01:43<06:08,  2.18file/s]"
     ]
    },
    {
     "name": "stdout",
     "output_type": "stream",
     "text": [
      "car\n",
      "Vehicle Prediction: car\n",
      "Validation Result: True\n"
     ]
    },
    {
     "name": "stderr",
     "output_type": "stream",
     "text": [
      "Processing: Class 2 - Car, SUV, Station Wagons:  14%|█▎        | 128/932 [01:43<06:00,  2.23file/s]"
     ]
    },
    {
     "name": "stdout",
     "output_type": "stream",
     "text": [
      "car\n",
      "Vehicle Prediction: car\n",
      "Validation Result: True\n"
     ]
    },
    {
     "name": "stderr",
     "output_type": "stream",
     "text": [
      "Processing: Class 2 - Car, SUV, Station Wagons:  14%|█▍        | 129/932 [01:44<05:55,  2.26file/s]"
     ]
    },
    {
     "name": "stdout",
     "output_type": "stream",
     "text": [
      "sedan\n",
      "Vehicle Prediction: sedan\n",
      "Validation Result: True\n"
     ]
    },
    {
     "name": "stderr",
     "output_type": "stream",
     "text": [
      "Processing: Class 2 - Car, SUV, Station Wagons:  14%|█▍        | 130/932 [01:44<05:53,  2.27file/s]"
     ]
    },
    {
     "name": "stdout",
     "output_type": "stream",
     "text": [
      "sedan\n",
      "Vehicle Prediction: sedan\n",
      "Validation Result: True\n"
     ]
    },
    {
     "name": "stderr",
     "output_type": "stream",
     "text": [
      "Processing: Class 2 - Car, SUV, Station Wagons:  14%|█▍        | 131/932 [01:44<05:48,  2.30file/s]"
     ]
    },
    {
     "name": "stdout",
     "output_type": "stream",
     "text": [
      "sedan\n",
      "Vehicle Prediction: sedan\n",
      "Validation Result: True\n"
     ]
    },
    {
     "name": "stderr",
     "output_type": "stream",
     "text": [
      "Processing: Class 2 - Car, SUV, Station Wagons:  14%|█▍        | 132/932 [01:45<05:45,  2.31file/s]"
     ]
    },
    {
     "name": "stdout",
     "output_type": "stream",
     "text": [
      "car\n",
      "Vehicle Prediction: car\n",
      "Validation Result: True\n"
     ]
    },
    {
     "name": "stderr",
     "output_type": "stream",
     "text": [
      "Processing: Class 2 - Car, SUV, Station Wagons:  14%|█▍        | 133/932 [01:45<05:46,  2.31file/s]"
     ]
    },
    {
     "name": "stdout",
     "output_type": "stream",
     "text": [
      "sedan\n",
      "Vehicle Prediction: sedan\n",
      "Validation Result: True\n"
     ]
    },
    {
     "name": "stderr",
     "output_type": "stream",
     "text": [
      "Processing: Class 2 - Car, SUV, Station Wagons:  14%|█▍        | 134/932 [01:46<05:41,  2.33file/s]"
     ]
    },
    {
     "name": "stdout",
     "output_type": "stream",
     "text": [
      "sedan\n",
      "Vehicle Prediction: sedan\n",
      "Validation Result: True\n"
     ]
    },
    {
     "name": "stderr",
     "output_type": "stream",
     "text": [
      "Processing: Class 2 - Car, SUV, Station Wagons:  14%|█▍        | 135/932 [01:46<05:44,  2.31file/s]"
     ]
    },
    {
     "name": "stdout",
     "output_type": "stream",
     "text": [
      "wagon\n",
      "Vehicle Prediction: wagon\n",
      "Validation Result: True\n"
     ]
    },
    {
     "name": "stderr",
     "output_type": "stream",
     "text": [
      "Processing: Class 2 - Car, SUV, Station Wagons:  15%|█▍        | 136/932 [01:47<05:42,  2.33file/s]"
     ]
    },
    {
     "name": "stdout",
     "output_type": "stream",
     "text": [
      "sedan\n",
      "Vehicle Prediction: sedan\n",
      "Validation Result: True\n"
     ]
    },
    {
     "name": "stderr",
     "output_type": "stream",
     "text": [
      "Processing: Class 2 - Car, SUV, Station Wagons:  15%|█▍        | 137/932 [01:47<05:50,  2.27file/s]"
     ]
    },
    {
     "name": "stdout",
     "output_type": "stream",
     "text": [
      "sedan\n",
      "Vehicle Prediction: sedan\n",
      "Validation Result: True\n"
     ]
    },
    {
     "name": "stderr",
     "output_type": "stream",
     "text": [
      "Processing: Class 2 - Car, SUV, Station Wagons:  15%|█▍        | 138/932 [01:47<05:48,  2.28file/s]"
     ]
    },
    {
     "name": "stdout",
     "output_type": "stream",
     "text": [
      "wagon\n",
      "Vehicle Prediction: wagon\n",
      "Validation Result: True\n"
     ]
    },
    {
     "name": "stderr",
     "output_type": "stream",
     "text": [
      "Processing: Class 2 - Car, SUV, Station Wagons:  15%|█▍        | 139/932 [01:48<06:16,  2.10file/s]"
     ]
    },
    {
     "name": "stdout",
     "output_type": "stream",
     "text": [
      "sedan\n",
      "Vehicle Prediction: sedan\n",
      "Validation Result: True\n"
     ]
    },
    {
     "name": "stderr",
     "output_type": "stream",
     "text": [
      "Processing: Class 2 - Car, SUV, Station Wagons:  15%|█▌        | 140/932 [01:48<06:05,  2.17file/s]"
     ]
    },
    {
     "name": "stdout",
     "output_type": "stream",
     "text": [
      "sedan\n",
      "Vehicle Prediction: sedan\n",
      "Validation Result: True\n"
     ]
    },
    {
     "name": "stderr",
     "output_type": "stream",
     "text": [
      "Processing: Class 2 - Car, SUV, Station Wagons:  15%|█▌        | 141/932 [01:49<05:59,  2.20file/s][codecarbon INFO @ 14:47:10] Energy consumed for RAM : 0.005493 kWh. RAM Power : 188.80178117752075 W\n",
      "[codecarbon INFO @ 14:47:10] Energy consumed for all CPUs : 0.002910 kWh. Total CPU Power : 100.0 W\n",
      "[codecarbon INFO @ 14:47:10] Energy consumed for all GPUs : 0.008611 kWh. Total GPU Power : 280.53073139820395 W\n",
      "[codecarbon INFO @ 14:47:10] 0.017014 kWh of electricity used since the beginning.\n"
     ]
    },
    {
     "name": "stdout",
     "output_type": "stream",
     "text": [
      "sedan\n",
      "Vehicle Prediction: sedan\n",
      "Validation Result: True\n"
     ]
    },
    {
     "name": "stderr",
     "output_type": "stream",
     "text": [
      "Processing: Class 2 - Car, SUV, Station Wagons:  15%|█▌        | 142/932 [01:49<05:52,  2.24file/s]"
     ]
    },
    {
     "name": "stdout",
     "output_type": "stream",
     "text": [
      "sedan\n",
      "Vehicle Prediction: sedan\n",
      "Validation Result: True\n"
     ]
    },
    {
     "name": "stderr",
     "output_type": "stream",
     "text": [
      "Processing: Class 2 - Car, SUV, Station Wagons:  15%|█▌        | 143/932 [01:50<06:07,  2.15file/s]"
     ]
    },
    {
     "name": "stdout",
     "output_type": "stream",
     "text": [
      "station w\n",
      "Vehicle Prediction: station w\n",
      "Validation Result: False\n"
     ]
    },
    {
     "name": "stderr",
     "output_type": "stream",
     "text": [
      "Processing: Class 2 - Car, SUV, Station Wagons:  15%|█▌        | 144/932 [01:50<06:30,  2.02file/s]"
     ]
    },
    {
     "name": "stdout",
     "output_type": "stream",
     "text": [
      "sedan\n",
      "Vehicle Prediction: sedan\n",
      "Validation Result: True\n"
     ]
    },
    {
     "name": "stderr",
     "output_type": "stream",
     "text": [
      "Processing: Class 2 - Car, SUV, Station Wagons:  16%|█▌        | 145/932 [01:51<06:15,  2.10file/s]"
     ]
    },
    {
     "name": "stdout",
     "output_type": "stream",
     "text": [
      "wagon\n",
      "Vehicle Prediction: wagon\n",
      "Validation Result: True\n"
     ]
    },
    {
     "name": "stderr",
     "output_type": "stream",
     "text": [
      "Processing: Class 2 - Car, SUV, Station Wagons:  16%|█▌        | 146/932 [01:51<06:10,  2.12file/s]"
     ]
    },
    {
     "name": "stdout",
     "output_type": "stream",
     "text": [
      "hatch\n",
      "Vehicle Prediction: hatch\n",
      "Validation Result: False\n"
     ]
    },
    {
     "name": "stderr",
     "output_type": "stream",
     "text": [
      "Processing: Class 2 - Car, SUV, Station Wagons:  16%|█▌        | 147/932 [01:52<06:23,  2.05file/s]"
     ]
    },
    {
     "name": "stdout",
     "output_type": "stream",
     "text": [
      "wagon\n",
      "Vehicle Prediction: wagon\n",
      "Validation Result: True\n"
     ]
    },
    {
     "name": "stderr",
     "output_type": "stream",
     "text": [
      "Processing: Class 2 - Car, SUV, Station Wagons:  16%|█▌        | 148/932 [01:52<06:19,  2.06file/s]"
     ]
    },
    {
     "name": "stdout",
     "output_type": "stream",
     "text": [
      "sedan\n",
      "Vehicle Prediction: sedan\n",
      "Validation Result: True\n"
     ]
    },
    {
     "name": "stderr",
     "output_type": "stream",
     "text": [
      "Processing: Class 2 - Car, SUV, Station Wagons:  16%|█▌        | 149/932 [01:53<06:05,  2.14file/s]"
     ]
    },
    {
     "name": "stdout",
     "output_type": "stream",
     "text": [
      "wagon\n",
      "Vehicle Prediction: wagon\n",
      "Validation Result: True\n"
     ]
    },
    {
     "name": "stderr",
     "output_type": "stream",
     "text": [
      "Processing: Class 2 - Car, SUV, Station Wagons:  16%|█▌        | 150/932 [01:53<05:58,  2.18file/s]"
     ]
    },
    {
     "name": "stdout",
     "output_type": "stream",
     "text": [
      "suv\n",
      "Vehicle Prediction: suv\n",
      "Validation Result: True\n"
     ]
    },
    {
     "name": "stderr",
     "output_type": "stream",
     "text": [
      "Processing: Class 2 - Car, SUV, Station Wagons:  16%|█▌        | 151/932 [01:54<05:53,  2.21file/s]"
     ]
    },
    {
     "name": "stdout",
     "output_type": "stream",
     "text": [
      "suv\n",
      "Vehicle Prediction: suv\n",
      "Validation Result: True\n"
     ]
    },
    {
     "name": "stderr",
     "output_type": "stream",
     "text": [
      "Processing: Class 2 - Car, SUV, Station Wagons:  16%|█▋        | 152/932 [01:54<05:47,  2.24file/s]"
     ]
    },
    {
     "name": "stdout",
     "output_type": "stream",
     "text": [
      "suv\n",
      "Vehicle Prediction: suv\n",
      "Validation Result: True\n"
     ]
    },
    {
     "name": "stderr",
     "output_type": "stream",
     "text": [
      "Processing: Class 2 - Car, SUV, Station Wagons:  16%|█▋        | 153/932 [01:54<05:43,  2.27file/s]"
     ]
    },
    {
     "name": "stdout",
     "output_type": "stream",
     "text": [
      "suv\n",
      "Vehicle Prediction: suv\n",
      "Validation Result: True\n"
     ]
    },
    {
     "name": "stderr",
     "output_type": "stream",
     "text": [
      "Processing: Class 2 - Car, SUV, Station Wagons:  17%|█▋        | 154/932 [01:55<05:40,  2.29file/s]"
     ]
    },
    {
     "name": "stdout",
     "output_type": "stream",
     "text": [
      "suv\n",
      "Vehicle Prediction: suv\n",
      "Validation Result: True\n"
     ]
    },
    {
     "name": "stderr",
     "output_type": "stream",
     "text": [
      "Processing: Class 2 - Car, SUV, Station Wagons:  17%|█▋        | 155/932 [01:55<06:12,  2.08file/s]"
     ]
    },
    {
     "name": "stdout",
     "output_type": "stream",
     "text": [
      "suv\n",
      "Vehicle Prediction: suv\n",
      "Validation Result: True\n"
     ]
    },
    {
     "name": "stderr",
     "output_type": "stream",
     "text": [
      "Processing: Class 2 - Car, SUV, Station Wagons:  17%|█▋        | 156/932 [01:56<06:18,  2.05file/s]"
     ]
    },
    {
     "name": "stdout",
     "output_type": "stream",
     "text": [
      "suv\n",
      "Vehicle Prediction: suv\n",
      "Validation Result: True\n"
     ]
    },
    {
     "name": "stderr",
     "output_type": "stream",
     "text": [
      "Processing: Class 2 - Car, SUV, Station Wagons:  17%|█▋        | 157/932 [01:56<06:01,  2.15file/s]"
     ]
    },
    {
     "name": "stdout",
     "output_type": "stream",
     "text": [
      "suv\n",
      "Vehicle Prediction: suv\n",
      "Validation Result: True\n"
     ]
    },
    {
     "name": "stderr",
     "output_type": "stream",
     "text": [
      "Processing: Class 2 - Car, SUV, Station Wagons:  17%|█▋        | 158/932 [01:57<05:51,  2.20file/s]"
     ]
    },
    {
     "name": "stdout",
     "output_type": "stream",
     "text": [
      "suv\n",
      "Vehicle Prediction: suv\n",
      "Validation Result: True\n"
     ]
    },
    {
     "name": "stderr",
     "output_type": "stream",
     "text": [
      "Processing: Class 2 - Car, SUV, Station Wagons:  17%|█▋        | 159/932 [01:57<06:13,  2.07file/s]"
     ]
    },
    {
     "name": "stdout",
     "output_type": "stream",
     "text": [
      "suv\n",
      "Vehicle Prediction: suv\n",
      "Validation Result: True\n"
     ]
    },
    {
     "name": "stderr",
     "output_type": "stream",
     "text": [
      "Processing: Class 2 - Car, SUV, Station Wagons:  17%|█▋        | 160/932 [01:58<06:00,  2.14file/s]"
     ]
    },
    {
     "name": "stdout",
     "output_type": "stream",
     "text": [
      "cros\n",
      "Vehicle Prediction: cros\n",
      "Validation Result: False\n"
     ]
    },
    {
     "name": "stderr",
     "output_type": "stream",
     "text": [
      "Processing: Class 2 - Car, SUV, Station Wagons:  17%|█▋        | 161/932 [01:58<05:48,  2.21file/s]"
     ]
    },
    {
     "name": "stdout",
     "output_type": "stream",
     "text": [
      "suv\n",
      "Vehicle Prediction: suv\n",
      "Validation Result: True\n"
     ]
    },
    {
     "name": "stderr",
     "output_type": "stream",
     "text": [
      "Processing: Class 2 - Car, SUV, Station Wagons:  17%|█▋        | 162/932 [01:59<05:44,  2.23file/s]"
     ]
    },
    {
     "name": "stdout",
     "output_type": "stream",
     "text": [
      "suv\n",
      "Vehicle Prediction: suv\n",
      "Validation Result: True\n"
     ]
    },
    {
     "name": "stderr",
     "output_type": "stream",
     "text": [
      "Processing: Class 2 - Car, SUV, Station Wagons:  17%|█▋        | 163/932 [01:59<05:40,  2.26file/s]"
     ]
    },
    {
     "name": "stdout",
     "output_type": "stream",
     "text": [
      "suv\n",
      "Vehicle Prediction: suv\n",
      "Validation Result: True\n"
     ]
    },
    {
     "name": "stderr",
     "output_type": "stream",
     "text": [
      "Processing: Class 2 - Car, SUV, Station Wagons:  18%|█▊        | 164/932 [02:00<06:06,  2.10file/s]"
     ]
    },
    {
     "name": "stdout",
     "output_type": "stream",
     "text": [
      "suv\n",
      "Vehicle Prediction: suv\n",
      "Validation Result: True\n"
     ]
    },
    {
     "name": "stderr",
     "output_type": "stream",
     "text": [
      "Processing: Class 2 - Car, SUV, Station Wagons:  18%|█▊        | 165/932 [02:00<05:50,  2.19file/s]"
     ]
    },
    {
     "name": "stdout",
     "output_type": "stream",
     "text": [
      "suv\n",
      "Vehicle Prediction: suv\n",
      "Validation Result: True\n"
     ]
    },
    {
     "name": "stderr",
     "output_type": "stream",
     "text": [
      "Processing: Class 2 - Car, SUV, Station Wagons:  18%|█▊        | 166/932 [02:00<05:43,  2.23file/s]"
     ]
    },
    {
     "name": "stdout",
     "output_type": "stream",
     "text": [
      "minivan\n",
      "Vehicle Prediction: minivan\n",
      "Validation Result: False\n"
     ]
    },
    {
     "name": "stderr",
     "output_type": "stream",
     "text": [
      "Processing: Class 2 - Car, SUV, Station Wagons:  18%|█▊        | 167/932 [02:01<05:39,  2.25file/s]"
     ]
    },
    {
     "name": "stdout",
     "output_type": "stream",
     "text": [
      "suv\n",
      "Vehicle Prediction: suv\n",
      "Validation Result: True\n"
     ]
    },
    {
     "name": "stderr",
     "output_type": "stream",
     "text": [
      "Processing: Class 2 - Car, SUV, Station Wagons:  18%|█▊        | 168/932 [02:01<05:36,  2.27file/s]"
     ]
    },
    {
     "name": "stdout",
     "output_type": "stream",
     "text": [
      "suv\n",
      "Vehicle Prediction: suv\n",
      "Validation Result: True\n"
     ]
    },
    {
     "name": "stderr",
     "output_type": "stream",
     "text": [
      "Processing: Class 2 - Car, SUV, Station Wagons:  18%|█▊        | 169/932 [02:02<05:36,  2.27file/s]"
     ]
    },
    {
     "name": "stdout",
     "output_type": "stream",
     "text": [
      "suv\n",
      "Vehicle Prediction: suv\n",
      "Validation Result: True\n"
     ]
    },
    {
     "name": "stderr",
     "output_type": "stream",
     "text": [
      "Processing: Class 2 - Car, SUV, Station Wagons:  18%|█▊        | 170/932 [02:02<05:31,  2.30file/s]"
     ]
    },
    {
     "name": "stdout",
     "output_type": "stream",
     "text": [
      "suv\n",
      "Vehicle Prediction: suv\n",
      "Validation Result: True\n"
     ]
    },
    {
     "name": "stderr",
     "output_type": "stream",
     "text": [
      "Processing: Class 2 - Car, SUV, Station Wagons:  18%|█▊        | 171/932 [02:03<05:29,  2.31file/s]"
     ]
    },
    {
     "name": "stdout",
     "output_type": "stream",
     "text": [
      "minivan\n",
      "Vehicle Prediction: minivan\n",
      "Validation Result: False\n"
     ]
    },
    {
     "name": "stderr",
     "output_type": "stream",
     "text": [
      "Processing: Class 2 - Car, SUV, Station Wagons:  18%|█▊        | 172/932 [02:03<05:29,  2.31file/s]"
     ]
    },
    {
     "name": "stdout",
     "output_type": "stream",
     "text": [
      "pickup\n",
      "Vehicle Prediction: pickup\n",
      "Validation Result: False\n"
     ]
    },
    {
     "name": "stderr",
     "output_type": "stream",
     "text": [
      "Processing: Class 2 - Car, SUV, Station Wagons:  19%|█▊        | 173/932 [02:03<05:31,  2.29file/s]"
     ]
    },
    {
     "name": "stdout",
     "output_type": "stream",
     "text": [
      "pickup\n",
      "Vehicle Prediction: pickup\n",
      "Validation Result: False\n"
     ]
    },
    {
     "name": "stderr",
     "output_type": "stream",
     "text": [
      "Processing: Class 2 - Car, SUV, Station Wagons:  19%|█▊        | 174/932 [02:04<05:29,  2.30file/s][codecarbon INFO @ 14:47:25] Energy consumed for RAM : 0.006280 kWh. RAM Power : 188.80178117752075 W\n",
      "[codecarbon INFO @ 14:47:25] Energy consumed for all CPUs : 0.003327 kWh. Total CPU Power : 100.0 W\n",
      "[codecarbon INFO @ 14:47:25] Energy consumed for all GPUs : 0.009789 kWh. Total GPU Power : 282.8929417543405 W\n",
      "[codecarbon INFO @ 14:47:25] 0.019396 kWh of electricity used since the beginning.\n",
      "[codecarbon INFO @ 14:47:25] 0.072677 g.CO2eq/s mean an estimation of 2,291.9362964718584 kg.CO2eq/year\n"
     ]
    },
    {
     "name": "stdout",
     "output_type": "stream",
     "text": [
      "convertible\n",
      "Vehicle Prediction: convertible\n",
      "Validation Result: True\n"
     ]
    },
    {
     "name": "stderr",
     "output_type": "stream",
     "text": [
      "Processing: Class 2 - Car, SUV, Station Wagons:  19%|█▉        | 175/932 [02:04<05:42,  2.21file/s]"
     ]
    },
    {
     "name": "stdout",
     "output_type": "stream",
     "text": [
      "car\n",
      "Vehicle Prediction: car\n",
      "Validation Result: True\n"
     ]
    },
    {
     "name": "stderr",
     "output_type": "stream",
     "text": [
      "Processing: Class 2 - Car, SUV, Station Wagons:  19%|█▉        | 176/932 [02:05<05:37,  2.24file/s]"
     ]
    },
    {
     "name": "stdout",
     "output_type": "stream",
     "text": [
      "cros\n",
      "Vehicle Prediction: cros\n",
      "Validation Result: False\n"
     ]
    },
    {
     "name": "stderr",
     "output_type": "stream",
     "text": [
      "Processing: Class 2 - Car, SUV, Station Wagons:  19%|█▉        | 177/932 [02:05<05:36,  2.24file/s]"
     ]
    },
    {
     "name": "stdout",
     "output_type": "stream",
     "text": [
      "car\n",
      "Vehicle Prediction: car\n",
      "Validation Result: True\n"
     ]
    },
    {
     "name": "stderr",
     "output_type": "stream",
     "text": [
      "Processing: Class 2 - Car, SUV, Station Wagons:  19%|█▉        | 178/932 [02:06<05:42,  2.20file/s]"
     ]
    },
    {
     "name": "stdout",
     "output_type": "stream",
     "text": [
      "suv\n",
      "Vehicle Prediction: suv\n",
      "Validation Result: True\n"
     ]
    },
    {
     "name": "stderr",
     "output_type": "stream",
     "text": [
      "Processing: Class 2 - Car, SUV, Station Wagons:  19%|█▉        | 179/932 [02:06<05:35,  2.25file/s]"
     ]
    },
    {
     "name": "stdout",
     "output_type": "stream",
     "text": [
      "pickup\n",
      "Vehicle Prediction: pickup\n",
      "Validation Result: False\n"
     ]
    },
    {
     "name": "stderr",
     "output_type": "stream",
     "text": [
      "Processing: Class 2 - Car, SUV, Station Wagons:  19%|█▉        | 180/932 [02:07<05:37,  2.23file/s]"
     ]
    },
    {
     "name": "stdout",
     "output_type": "stream",
     "text": [
      "suv\n",
      "Vehicle Prediction: suv\n",
      "Validation Result: True\n"
     ]
    },
    {
     "name": "stderr",
     "output_type": "stream",
     "text": [
      "Processing: Class 2 - Car, SUV, Station Wagons:  19%|█▉        | 181/932 [02:07<05:28,  2.29file/s]"
     ]
    },
    {
     "name": "stdout",
     "output_type": "stream",
     "text": [
      "sports car\n",
      "Vehicle Prediction: sports car\n",
      "Validation Result: True\n"
     ]
    },
    {
     "name": "stderr",
     "output_type": "stream",
     "text": [
      "Processing: Class 2 - Car, SUV, Station Wagons:  20%|█▉        | 182/932 [02:07<05:28,  2.28file/s]"
     ]
    },
    {
     "name": "stdout",
     "output_type": "stream",
     "text": [
      "sedan\n",
      "Vehicle Prediction: sedan\n",
      "Validation Result: True\n"
     ]
    },
    {
     "name": "stderr",
     "output_type": "stream",
     "text": [
      "Processing: Class 2 - Car, SUV, Station Wagons:  20%|█▉        | 183/932 [02:08<05:45,  2.17file/s]"
     ]
    },
    {
     "name": "stdout",
     "output_type": "stream",
     "text": [
      "sedan\n",
      "Vehicle Prediction: sedan\n",
      "Validation Result: True\n"
     ]
    },
    {
     "name": "stderr",
     "output_type": "stream",
     "text": [
      "Processing: Class 2 - Car, SUV, Station Wagons:  20%|█▉        | 184/932 [02:08<05:33,  2.24file/s]"
     ]
    },
    {
     "name": "stdout",
     "output_type": "stream",
     "text": [
      "sports car\n",
      "Vehicle Prediction: sports car\n",
      "Validation Result: True\n"
     ]
    },
    {
     "name": "stderr",
     "output_type": "stream",
     "text": [
      "Processing: Class 2 - Car, SUV, Station Wagons:  20%|█▉        | 185/932 [02:09<05:50,  2.13file/s]"
     ]
    },
    {
     "name": "stdout",
     "output_type": "stream",
     "text": [
      "sedan\n",
      "Vehicle Prediction: sedan\n",
      "Validation Result: True\n"
     ]
    },
    {
     "name": "stderr",
     "output_type": "stream",
     "text": [
      "Processing: Class 2 - Car, SUV, Station Wagons:  20%|█▉        | 186/932 [02:09<05:40,  2.19file/s]"
     ]
    },
    {
     "name": "stdout",
     "output_type": "stream",
     "text": [
      "sedan\n",
      "Vehicle Prediction: sedan\n",
      "Validation Result: True\n"
     ]
    },
    {
     "name": "stderr",
     "output_type": "stream",
     "text": [
      "Processing: Class 2 - Car, SUV, Station Wagons:  20%|██        | 187/932 [02:10<05:36,  2.21file/s]"
     ]
    },
    {
     "name": "stdout",
     "output_type": "stream",
     "text": [
      "sports car\n",
      "Vehicle Prediction: sports car\n",
      "Validation Result: True\n"
     ]
    },
    {
     "name": "stderr",
     "output_type": "stream",
     "text": [
      "Processing: Class 2 - Car, SUV, Station Wagons:  20%|██        | 188/932 [02:10<05:31,  2.24file/s]"
     ]
    },
    {
     "name": "stdout",
     "output_type": "stream",
     "text": [
      "sedan\n",
      "Vehicle Prediction: sedan\n",
      "Validation Result: True\n"
     ]
    },
    {
     "name": "stderr",
     "output_type": "stream",
     "text": [
      "Processing: Class 2 - Car, SUV, Station Wagons:  20%|██        | 189/932 [02:11<05:26,  2.28file/s]"
     ]
    },
    {
     "name": "stdout",
     "output_type": "stream",
     "text": [
      "sedan\n",
      "Vehicle Prediction: sedan\n",
      "Validation Result: True\n"
     ]
    },
    {
     "name": "stderr",
     "output_type": "stream",
     "text": [
      "Processing: Class 2 - Car, SUV, Station Wagons:  20%|██        | 190/932 [02:11<05:25,  2.28file/s]"
     ]
    },
    {
     "name": "stdout",
     "output_type": "stream",
     "text": [
      "sports car\n",
      "Vehicle Prediction: sports car\n",
      "Validation Result: True\n"
     ]
    },
    {
     "name": "stderr",
     "output_type": "stream",
     "text": [
      "Processing: Class 2 - Car, SUV, Station Wagons:  20%|██        | 191/932 [02:12<05:27,  2.26file/s]"
     ]
    },
    {
     "name": "stdout",
     "output_type": "stream",
     "text": [
      "car\n",
      "Vehicle Prediction: car\n",
      "Validation Result: True\n"
     ]
    },
    {
     "name": "stderr",
     "output_type": "stream",
     "text": [
      "Processing: Class 2 - Car, SUV, Station Wagons:  21%|██        | 192/932 [02:12<05:26,  2.27file/s]"
     ]
    },
    {
     "name": "stdout",
     "output_type": "stream",
     "text": [
      "sports car\n",
      "Vehicle Prediction: sports car\n",
      "Validation Result: True\n"
     ]
    },
    {
     "name": "stderr",
     "output_type": "stream",
     "text": [
      "Processing: Class 2 - Car, SUV, Station Wagons:  21%|██        | 193/932 [02:12<05:22,  2.29file/s]"
     ]
    },
    {
     "name": "stdout",
     "output_type": "stream",
     "text": [
      "car\n",
      "Vehicle Prediction: car\n",
      "Validation Result: True\n"
     ]
    },
    {
     "name": "stderr",
     "output_type": "stream",
     "text": [
      "Processing: Class 2 - Car, SUV, Station Wagons:  21%|██        | 194/932 [02:13<05:21,  2.30file/s]"
     ]
    },
    {
     "name": "stdout",
     "output_type": "stream",
     "text": [
      "car\n",
      "Vehicle Prediction: car\n",
      "Validation Result: True\n"
     ]
    },
    {
     "name": "stderr",
     "output_type": "stream",
     "text": [
      "Processing: Class 2 - Car, SUV, Station Wagons:  21%|██        | 195/932 [02:13<05:18,  2.31file/s]"
     ]
    },
    {
     "name": "stdout",
     "output_type": "stream",
     "text": [
      "car\n",
      "Vehicle Prediction: car\n",
      "Validation Result: True\n"
     ]
    },
    {
     "name": "stderr",
     "output_type": "stream",
     "text": [
      "Processing: Class 2 - Car, SUV, Station Wagons:  21%|██        | 196/932 [02:14<05:19,  2.31file/s]"
     ]
    },
    {
     "name": "stdout",
     "output_type": "stream",
     "text": [
      "sports car\n",
      "Vehicle Prediction: sports car\n",
      "Validation Result: True\n"
     ]
    },
    {
     "name": "stderr",
     "output_type": "stream",
     "text": [
      "Processing: Class 2 - Car, SUV, Station Wagons:  21%|██        | 197/932 [02:14<05:35,  2.19file/s]"
     ]
    },
    {
     "name": "stdout",
     "output_type": "stream",
     "text": [
      "sports car\n",
      "Vehicle Prediction: sports car\n",
      "Validation Result: True\n"
     ]
    },
    {
     "name": "stderr",
     "output_type": "stream",
     "text": [
      "Processing: Class 2 - Car, SUV, Station Wagons:  21%|██        | 198/932 [02:15<05:27,  2.24file/s]"
     ]
    },
    {
     "name": "stdout",
     "output_type": "stream",
     "text": [
      "car\n",
      "Vehicle Prediction: car\n",
      "Validation Result: True\n"
     ]
    },
    {
     "name": "stderr",
     "output_type": "stream",
     "text": [
      "Processing: Class 2 - Car, SUV, Station Wagons:  21%|██▏       | 199/932 [02:15<05:24,  2.26file/s]"
     ]
    },
    {
     "name": "stdout",
     "output_type": "stream",
     "text": [
      "car\n",
      "Vehicle Prediction: car\n",
      "Validation Result: True\n"
     ]
    },
    {
     "name": "stderr",
     "output_type": "stream",
     "text": [
      "Processing: pickup:  21%|██▏       | 200/932 [02:15<05:21,  2.28file/s]                            "
     ]
    },
    {
     "name": "stdout",
     "output_type": "stream",
     "text": [
      "car\n",
      "Vehicle Prediction: car\n",
      "Validation Result: True\n"
     ]
    },
    {
     "name": "stderr",
     "output_type": "stream",
     "text": [
      "Processing: pickup:  22%|██▏       | 201/932 [02:16<05:21,  2.27file/s]"
     ]
    },
    {
     "name": "stdout",
     "output_type": "stream",
     "text": [
      "pickup\n",
      "Vehicle Prediction: pickup\n",
      "Validation Result: True\n"
     ]
    },
    {
     "name": "stderr",
     "output_type": "stream",
     "text": [
      "Processing: pickup:  22%|██▏       | 202/932 [02:16<05:39,  2.15file/s]"
     ]
    },
    {
     "name": "stdout",
     "output_type": "stream",
     "text": [
      "pickup\n",
      "Vehicle Prediction: pickup\n",
      "Validation Result: True\n"
     ]
    },
    {
     "name": "stderr",
     "output_type": "stream",
     "text": [
      "Processing: pickup:  22%|██▏       | 203/932 [02:17<05:29,  2.21file/s]"
     ]
    },
    {
     "name": "stdout",
     "output_type": "stream",
     "text": [
      "pickup\n",
      "Vehicle Prediction: pickup\n",
      "Validation Result: True\n"
     ]
    },
    {
     "name": "stderr",
     "output_type": "stream",
     "text": [
      "Processing: pickup:  22%|██▏       | 204/932 [02:17<05:23,  2.25file/s]"
     ]
    },
    {
     "name": "stdout",
     "output_type": "stream",
     "text": [
      "pickup\n",
      "Vehicle Prediction: pickup\n",
      "Validation Result: True\n"
     ]
    },
    {
     "name": "stderr",
     "output_type": "stream",
     "text": [
      "Processing: pickup:  22%|██▏       | 205/932 [02:18<05:19,  2.28file/s]"
     ]
    },
    {
     "name": "stdout",
     "output_type": "stream",
     "text": [
      "pickup\n",
      "Vehicle Prediction: pickup\n",
      "Validation Result: True\n"
     ]
    },
    {
     "name": "stderr",
     "output_type": "stream",
     "text": [
      "Processing: pickup:  22%|██▏       | 206/932 [02:18<05:19,  2.27file/s]"
     ]
    },
    {
     "name": "stdout",
     "output_type": "stream",
     "text": [
      "pickup\n",
      "Vehicle Prediction: pickup\n",
      "Validation Result: True\n"
     ]
    },
    {
     "name": "stderr",
     "output_type": "stream",
     "text": [
      "Processing: pickup:  22%|██▏       | 207/932 [02:19<05:36,  2.15file/s]"
     ]
    },
    {
     "name": "stdout",
     "output_type": "stream",
     "text": [
      "pickup\n",
      "Vehicle Prediction: pickup\n",
      "Validation Result: True\n"
     ]
    },
    {
     "name": "stderr",
     "output_type": "stream",
     "text": [
      "[codecarbon INFO @ 14:47:40] Energy consumed for RAM : 0.007066 kWh. RAM Power : 188.80178117752075 W\n",
      "[codecarbon INFO @ 14:47:40] Energy consumed for all CPUs : 0.003743 kWh. Total CPU Power : 100.0 W\n",
      "[codecarbon INFO @ 14:47:40] Energy consumed for all GPUs : 0.010965 kWh. Total GPU Power : 282.22455137792815 W\n",
      "[codecarbon INFO @ 14:47:40] 0.021774 kWh of electricity used since the beginning.\n",
      "Processing: pickup:  22%|██▏       | 208/932 [02:19<05:49,  2.07file/s]"
     ]
    },
    {
     "name": "stdout",
     "output_type": "stream",
     "text": [
      "pickup\n",
      "Vehicle Prediction: pickup\n",
      "Validation Result: True\n"
     ]
    },
    {
     "name": "stderr",
     "output_type": "stream",
     "text": [
      "Processing: pickup:  22%|██▏       | 209/932 [02:20<05:37,  2.14file/s]"
     ]
    },
    {
     "name": "stdout",
     "output_type": "stream",
     "text": [
      "pickup\n",
      "Vehicle Prediction: pickup\n",
      "Validation Result: True\n"
     ]
    },
    {
     "name": "stderr",
     "output_type": "stream",
     "text": [
      "Processing: pickup:  23%|██▎       | 210/932 [02:20<05:29,  2.19file/s]"
     ]
    },
    {
     "name": "stdout",
     "output_type": "stream",
     "text": [
      "pickup\n",
      "Vehicle Prediction: pickup\n",
      "Validation Result: True\n"
     ]
    },
    {
     "name": "stderr",
     "output_type": "stream",
     "text": [
      "Processing: pickup:  23%|██▎       | 211/932 [02:21<05:23,  2.23file/s]"
     ]
    },
    {
     "name": "stdout",
     "output_type": "stream",
     "text": [
      "pickup\n",
      "Vehicle Prediction: pickup\n",
      "Validation Result: True\n"
     ]
    },
    {
     "name": "stderr",
     "output_type": "stream",
     "text": [
      "Processing: pickup:  23%|██▎       | 212/932 [02:21<05:22,  2.23file/s]"
     ]
    },
    {
     "name": "stdout",
     "output_type": "stream",
     "text": [
      "pickup\n",
      "Vehicle Prediction: pickup\n",
      "Validation Result: True\n"
     ]
    },
    {
     "name": "stderr",
     "output_type": "stream",
     "text": [
      "Processing: pickup:  23%|██▎       | 213/932 [02:21<05:21,  2.24file/s]"
     ]
    },
    {
     "name": "stdout",
     "output_type": "stream",
     "text": [
      "pickup\n",
      "Vehicle Prediction: pickup\n",
      "Validation Result: True\n"
     ]
    },
    {
     "name": "stderr",
     "output_type": "stream",
     "text": [
      "Processing: pickup:  23%|██▎       | 214/932 [02:22<05:17,  2.26file/s]"
     ]
    },
    {
     "name": "stdout",
     "output_type": "stream",
     "text": [
      "pickup\n",
      "Vehicle Prediction: pickup\n",
      "Validation Result: True\n"
     ]
    },
    {
     "name": "stderr",
     "output_type": "stream",
     "text": [
      "Processing: pickup:  23%|██▎       | 215/932 [02:22<05:16,  2.26file/s]"
     ]
    },
    {
     "name": "stdout",
     "output_type": "stream",
     "text": [
      "pickup\n",
      "Vehicle Prediction: pickup\n",
      "Validation Result: True\n"
     ]
    },
    {
     "name": "stderr",
     "output_type": "stream",
     "text": [
      "Processing: pickup:  23%|██▎       | 216/932 [02:23<05:23,  2.22file/s]"
     ]
    },
    {
     "name": "stdout",
     "output_type": "stream",
     "text": [
      "pickup\n",
      "Vehicle Prediction: pickup\n",
      "Validation Result: True\n"
     ]
    },
    {
     "name": "stderr",
     "output_type": "stream",
     "text": [
      "Processing: pickup:  23%|██▎       | 217/932 [02:23<05:28,  2.17file/s]"
     ]
    },
    {
     "name": "stdout",
     "output_type": "stream",
     "text": [
      "pickup\n",
      "Vehicle Prediction: pickup\n",
      "Validation Result: True\n"
     ]
    },
    {
     "name": "stderr",
     "output_type": "stream",
     "text": [
      "Processing: pickup:  23%|██▎       | 218/932 [02:24<05:21,  2.22file/s]"
     ]
    },
    {
     "name": "stdout",
     "output_type": "stream",
     "text": [
      "pickup\n",
      "Vehicle Prediction: pickup\n",
      "Validation Result: True\n"
     ]
    },
    {
     "name": "stderr",
     "output_type": "stream",
     "text": [
      "Processing: pickup:  23%|██▎       | 219/932 [02:24<05:15,  2.26file/s]"
     ]
    },
    {
     "name": "stdout",
     "output_type": "stream",
     "text": [
      "pickup\n",
      "Vehicle Prediction: pickup\n",
      "Validation Result: True\n"
     ]
    },
    {
     "name": "stderr",
     "output_type": "stream",
     "text": [
      "Processing: pickup:  24%|██▎       | 220/932 [02:25<05:16,  2.25file/s]"
     ]
    },
    {
     "name": "stdout",
     "output_type": "stream",
     "text": [
      "pickup\n",
      "Vehicle Prediction: pickup\n",
      "Validation Result: True\n"
     ]
    },
    {
     "name": "stderr",
     "output_type": "stream",
     "text": [
      "Processing: pickup:  24%|██▎       | 221/932 [02:25<05:54,  2.00file/s]"
     ]
    },
    {
     "name": "stdout",
     "output_type": "stream",
     "text": [
      "pickup\n",
      "Vehicle Prediction: pickup\n",
      "Validation Result: True\n"
     ]
    },
    {
     "name": "stderr",
     "output_type": "stream",
     "text": [
      "Processing: pickup:  24%|██▍       | 222/932 [02:26<05:44,  2.06file/s]"
     ]
    },
    {
     "name": "stdout",
     "output_type": "stream",
     "text": [
      "pickup\n",
      "Vehicle Prediction: pickup\n",
      "Validation Result: True\n"
     ]
    },
    {
     "name": "stderr",
     "output_type": "stream",
     "text": [
      "Processing: pickup:  24%|██▍       | 223/932 [02:26<06:05,  1.94file/s]"
     ]
    },
    {
     "name": "stdout",
     "output_type": "stream",
     "text": [
      "pickup\n",
      "Vehicle Prediction: pickup\n",
      "Validation Result: True\n"
     ]
    },
    {
     "name": "stderr",
     "output_type": "stream",
     "text": [
      "Processing: pickup:  24%|██▍       | 224/932 [02:27<05:49,  2.03file/s]"
     ]
    },
    {
     "name": "stdout",
     "output_type": "stream",
     "text": [
      "pickup\n",
      "Vehicle Prediction: pickup\n",
      "Validation Result: True\n"
     ]
    },
    {
     "name": "stderr",
     "output_type": "stream",
     "text": [
      "Processing: pickup:  24%|██▍       | 225/932 [02:27<05:34,  2.12file/s]"
     ]
    },
    {
     "name": "stdout",
     "output_type": "stream",
     "text": [
      "pickup\n",
      "Vehicle Prediction: pickup\n",
      "Validation Result: True\n"
     ]
    },
    {
     "name": "stderr",
     "output_type": "stream",
     "text": [
      "Processing: pickup:  24%|██▍       | 226/932 [02:28<05:32,  2.12file/s]"
     ]
    },
    {
     "name": "stdout",
     "output_type": "stream",
     "text": [
      "pickup\n",
      "Vehicle Prediction: pickup\n",
      "Validation Result: True\n"
     ]
    },
    {
     "name": "stderr",
     "output_type": "stream",
     "text": [
      "Processing: pickup:  24%|██▍       | 227/932 [02:28<05:25,  2.17file/s]"
     ]
    },
    {
     "name": "stdout",
     "output_type": "stream",
     "text": [
      "pickup\n",
      "Vehicle Prediction: pickup\n",
      "Validation Result: True\n"
     ]
    },
    {
     "name": "stderr",
     "output_type": "stream",
     "text": [
      "Processing: pickup:  24%|██▍       | 228/932 [02:28<05:41,  2.06file/s]"
     ]
    },
    {
     "name": "stdout",
     "output_type": "stream",
     "text": [
      "pickup\n",
      "Vehicle Prediction: pickup\n",
      "Validation Result: True\n"
     ]
    },
    {
     "name": "stderr",
     "output_type": "stream",
     "text": [
      "Processing: pickup:  25%|██▍       | 229/932 [02:29<05:27,  2.15file/s]"
     ]
    },
    {
     "name": "stdout",
     "output_type": "stream",
     "text": [
      "pickup\n",
      "Vehicle Prediction: pickup\n",
      "Validation Result: True\n"
     ]
    },
    {
     "name": "stderr",
     "output_type": "stream",
     "text": [
      "Processing: pickup:  25%|██▍       | 230/932 [02:29<05:22,  2.17file/s]"
     ]
    },
    {
     "name": "stdout",
     "output_type": "stream",
     "text": [
      "pickup\n",
      "Vehicle Prediction: pickup\n",
      "Validation Result: True\n"
     ]
    },
    {
     "name": "stderr",
     "output_type": "stream",
     "text": [
      "Processing: pickup:  25%|██▍       | 231/932 [02:30<05:17,  2.21file/s]"
     ]
    },
    {
     "name": "stdout",
     "output_type": "stream",
     "text": [
      "pickup\n",
      "Vehicle Prediction: pickup\n",
      "Validation Result: True\n"
     ]
    },
    {
     "name": "stderr",
     "output_type": "stream",
     "text": [
      "Processing: pickup:  25%|██▍       | 232/932 [02:30<05:15,  2.22file/s]"
     ]
    },
    {
     "name": "stdout",
     "output_type": "stream",
     "text": [
      "pickup\n",
      "Vehicle Prediction: pickup\n",
      "Validation Result: True\n"
     ]
    },
    {
     "name": "stderr",
     "output_type": "stream",
     "text": [
      "Processing: pickup:  25%|██▌       | 233/932 [02:31<05:10,  2.25file/s]"
     ]
    },
    {
     "name": "stdout",
     "output_type": "stream",
     "text": [
      "pickup\n",
      "Vehicle Prediction: pickup\n",
      "Validation Result: True\n"
     ]
    },
    {
     "name": "stderr",
     "output_type": "stream",
     "text": [
      "Processing: pickup:  25%|██▌       | 234/932 [02:31<05:09,  2.25file/s]"
     ]
    },
    {
     "name": "stdout",
     "output_type": "stream",
     "text": [
      "pickup\n",
      "Vehicle Prediction: pickup\n",
      "Validation Result: True\n"
     ]
    },
    {
     "name": "stderr",
     "output_type": "stream",
     "text": [
      "Processing: pickup:  25%|██▌       | 235/932 [02:32<05:06,  2.27file/s]"
     ]
    },
    {
     "name": "stdout",
     "output_type": "stream",
     "text": [
      "pickup\n",
      "Vehicle Prediction: pickup\n",
      "Validation Result: True\n"
     ]
    },
    {
     "name": "stderr",
     "output_type": "stream",
     "text": [
      "Processing: pickup:  25%|██▌       | 236/932 [02:32<05:07,  2.27file/s]"
     ]
    },
    {
     "name": "stdout",
     "output_type": "stream",
     "text": [
      "pickup\n",
      "Vehicle Prediction: pickup\n",
      "Validation Result: True\n"
     ]
    },
    {
     "name": "stderr",
     "output_type": "stream",
     "text": [
      "Processing: pickup:  25%|██▌       | 237/932 [02:32<05:08,  2.25file/s]"
     ]
    },
    {
     "name": "stdout",
     "output_type": "stream",
     "text": [
      "pickup\n",
      "Vehicle Prediction: pickup\n",
      "Validation Result: True\n"
     ]
    },
    {
     "name": "stderr",
     "output_type": "stream",
     "text": [
      "Processing: pickup:  26%|██▌       | 238/932 [02:33<05:06,  2.26file/s]"
     ]
    },
    {
     "name": "stdout",
     "output_type": "stream",
     "text": [
      "pickup\n",
      "Vehicle Prediction: pickup\n",
      "Validation Result: True\n"
     ]
    },
    {
     "name": "stderr",
     "output_type": "stream",
     "text": [
      "Processing: pickup:  26%|██▌       | 239/932 [02:33<05:05,  2.27file/s]"
     ]
    },
    {
     "name": "stdout",
     "output_type": "stream",
     "text": [
      "pickup\n",
      "Vehicle Prediction: pickup\n",
      "Validation Result: True\n"
     ]
    },
    {
     "name": "stderr",
     "output_type": "stream",
     "text": [
      "Processing: pickup:  26%|██▌       | 240/932 [02:34<05:05,  2.27file/s][codecarbon INFO @ 14:47:55] Energy consumed for RAM : 0.007853 kWh. RAM Power : 188.80178117752075 W\n",
      "[codecarbon INFO @ 14:47:55] Energy consumed for all CPUs : 0.004160 kWh. Total CPU Power : 100.0 W\n"
     ]
    },
    {
     "name": "stdout",
     "output_type": "stream",
     "text": [
      "pickup\n",
      "Vehicle Prediction: pickup\n",
      "Validation Result: True\n"
     ]
    },
    {
     "name": "stderr",
     "output_type": "stream",
     "text": [
      "[codecarbon INFO @ 14:47:55] Energy consumed for all GPUs : 0.012113 kWh. Total GPU Power : 275.600880668135 W\n",
      "[codecarbon INFO @ 14:47:55] 0.024126 kWh of electricity used since the beginning.\n",
      "Processing: pickup:  26%|██▌       | 241/932 [02:34<05:06,  2.26file/s]"
     ]
    },
    {
     "name": "stdout",
     "output_type": "stream",
     "text": [
      "pickup\n",
      "Vehicle Prediction: pickup\n",
      "Validation Result: True\n"
     ]
    },
    {
     "name": "stderr",
     "output_type": "stream",
     "text": [
      "Processing: pickup:  26%|██▌       | 242/932 [02:35<05:07,  2.25file/s]"
     ]
    },
    {
     "name": "stdout",
     "output_type": "stream",
     "text": [
      "pickup\n",
      "Vehicle Prediction: pickup\n",
      "Validation Result: True\n"
     ]
    },
    {
     "name": "stderr",
     "output_type": "stream",
     "text": [
      "Processing: pickup:  26%|██▌       | 243/932 [02:35<05:07,  2.24file/s]"
     ]
    },
    {
     "name": "stdout",
     "output_type": "stream",
     "text": [
      "pickup\n",
      "Vehicle Prediction: pickup\n",
      "Validation Result: True\n"
     ]
    },
    {
     "name": "stderr",
     "output_type": "stream",
     "text": [
      "Processing: pickup:  26%|██▌       | 244/932 [02:36<05:05,  2.25file/s]"
     ]
    },
    {
     "name": "stdout",
     "output_type": "stream",
     "text": [
      "pickup\n",
      "Vehicle Prediction: pickup\n",
      "Validation Result: True\n"
     ]
    },
    {
     "name": "stderr",
     "output_type": "stream",
     "text": [
      "Processing: pickup:  26%|██▋       | 245/932 [02:36<05:09,  2.22file/s]"
     ]
    },
    {
     "name": "stdout",
     "output_type": "stream",
     "text": [
      "pickup\n",
      "Vehicle Prediction: pickup\n",
      "Validation Result: True\n"
     ]
    },
    {
     "name": "stderr",
     "output_type": "stream",
     "text": [
      "Processing: pickup:  26%|██▋       | 246/932 [02:36<05:08,  2.22file/s]"
     ]
    },
    {
     "name": "stdout",
     "output_type": "stream",
     "text": [
      "pickup\n",
      "Vehicle Prediction: pickup\n",
      "Validation Result: True\n"
     ]
    },
    {
     "name": "stderr",
     "output_type": "stream",
     "text": [
      "Processing: pickup:  27%|██▋       | 247/932 [02:37<05:55,  1.93file/s]"
     ]
    },
    {
     "name": "stdout",
     "output_type": "stream",
     "text": [
      "pickup\n",
      "Vehicle Prediction: pickup\n",
      "Validation Result: True\n"
     ]
    },
    {
     "name": "stderr",
     "output_type": "stream",
     "text": [
      "Processing: pickup:  27%|██▋       | 248/932 [02:38<05:37,  2.03file/s]"
     ]
    },
    {
     "name": "stdout",
     "output_type": "stream",
     "text": [
      "pickup\n",
      "Vehicle Prediction: pickup\n",
      "Validation Result: True\n"
     ]
    },
    {
     "name": "stderr",
     "output_type": "stream",
     "text": [
      "Processing: pickup:  27%|██▋       | 249/932 [02:38<05:32,  2.05file/s]"
     ]
    },
    {
     "name": "stdout",
     "output_type": "stream",
     "text": [
      "pickup\n",
      "Vehicle Prediction: pickup\n",
      "Validation Result: True\n"
     ]
    },
    {
     "name": "stderr",
     "output_type": "stream",
     "text": [
      "Processing: pickup:  27%|██▋       | 250/932 [02:39<05:27,  2.08file/s]"
     ]
    },
    {
     "name": "stdout",
     "output_type": "stream",
     "text": [
      "pickup\n",
      "Vehicle Prediction: pickup\n",
      "Validation Result: True\n"
     ]
    },
    {
     "name": "stderr",
     "output_type": "stream",
     "text": [
      "Processing: pickup:  27%|██▋       | 251/932 [02:39<05:21,  2.12file/s]"
     ]
    },
    {
     "name": "stdout",
     "output_type": "stream",
     "text": [
      "pickup\n",
      "Vehicle Prediction: pickup\n",
      "Validation Result: True\n"
     ]
    },
    {
     "name": "stderr",
     "output_type": "stream",
     "text": [
      "Processing: pickup:  27%|██▋       | 252/932 [02:40<05:36,  2.02file/s]"
     ]
    },
    {
     "name": "stdout",
     "output_type": "stream",
     "text": [
      "pickup\n",
      "Vehicle Prediction: pickup\n",
      "Validation Result: True\n"
     ]
    },
    {
     "name": "stderr",
     "output_type": "stream",
     "text": [
      "Processing: pickup:  27%|██▋       | 253/932 [02:40<05:27,  2.07file/s]"
     ]
    },
    {
     "name": "stdout",
     "output_type": "stream",
     "text": [
      "pickup\n",
      "Vehicle Prediction: pickup\n",
      "Validation Result: True\n"
     ]
    },
    {
     "name": "stderr",
     "output_type": "stream",
     "text": [
      "Processing: pickup:  27%|██▋       | 254/932 [02:40<05:22,  2.11file/s]"
     ]
    },
    {
     "name": "stdout",
     "output_type": "stream",
     "text": [
      "pickup\n",
      "Vehicle Prediction: pickup\n",
      "Validation Result: True\n"
     ]
    },
    {
     "name": "stderr",
     "output_type": "stream",
     "text": [
      "Processing: pickup:  27%|██▋       | 255/932 [02:41<05:17,  2.13file/s]"
     ]
    },
    {
     "name": "stdout",
     "output_type": "stream",
     "text": [
      "pickup\n",
      "Vehicle Prediction: pickup\n",
      "Validation Result: True\n"
     ]
    },
    {
     "name": "stderr",
     "output_type": "stream",
     "text": [
      "Processing: pickup:  27%|██▋       | 256/932 [02:41<05:14,  2.15file/s]"
     ]
    },
    {
     "name": "stdout",
     "output_type": "stream",
     "text": [
      "pickup\n",
      "Vehicle Prediction: pickup\n",
      "Validation Result: True\n"
     ]
    },
    {
     "name": "stderr",
     "output_type": "stream",
     "text": [
      "Processing: pickup:  28%|██▊       | 257/932 [02:42<05:07,  2.19file/s]"
     ]
    },
    {
     "name": "stdout",
     "output_type": "stream",
     "text": [
      "pickup\n",
      "Vehicle Prediction: pickup\n",
      "Validation Result: True\n"
     ]
    },
    {
     "name": "stderr",
     "output_type": "stream",
     "text": [
      "Processing: pickup:  28%|██▊       | 258/932 [02:42<05:04,  2.21file/s]"
     ]
    },
    {
     "name": "stdout",
     "output_type": "stream",
     "text": [
      "pickup\n",
      "Vehicle Prediction: pickup\n",
      "Validation Result: True\n"
     ]
    },
    {
     "name": "stderr",
     "output_type": "stream",
     "text": [
      "Processing: pickup:  28%|██▊       | 259/932 [02:43<05:03,  2.21file/s]"
     ]
    },
    {
     "name": "stdout",
     "output_type": "stream",
     "text": [
      "pickup\n",
      "Vehicle Prediction: pickup\n",
      "Validation Result: True\n"
     ]
    },
    {
     "name": "stderr",
     "output_type": "stream",
     "text": [
      "Processing: pickup:  28%|██▊       | 260/932 [02:43<05:05,  2.20file/s]"
     ]
    },
    {
     "name": "stdout",
     "output_type": "stream",
     "text": [
      "pickup\n",
      "Vehicle Prediction: pickup\n",
      "Validation Result: True\n"
     ]
    },
    {
     "name": "stderr",
     "output_type": "stream",
     "text": [
      "Processing: pickup:  28%|██▊       | 261/932 [02:44<05:03,  2.21file/s]"
     ]
    },
    {
     "name": "stdout",
     "output_type": "stream",
     "text": [
      "pickup\n",
      "Vehicle Prediction: pickup\n",
      "Validation Result: True\n"
     ]
    },
    {
     "name": "stderr",
     "output_type": "stream",
     "text": [
      "Processing: pickup:  28%|██▊       | 262/932 [02:44<05:01,  2.22file/s]"
     ]
    },
    {
     "name": "stdout",
     "output_type": "stream",
     "text": [
      "pickup\n",
      "Vehicle Prediction: pickup\n",
      "Validation Result: True\n"
     ]
    },
    {
     "name": "stderr",
     "output_type": "stream",
     "text": [
      "Processing: pickup:  28%|██▊       | 263/932 [02:44<04:56,  2.26file/s]"
     ]
    },
    {
     "name": "stdout",
     "output_type": "stream",
     "text": [
      "pickup\n",
      "Vehicle Prediction: pickup\n",
      "Validation Result: True\n"
     ]
    },
    {
     "name": "stderr",
     "output_type": "stream",
     "text": [
      "Processing: pickup:  28%|██▊       | 264/932 [02:45<04:45,  2.34file/s]"
     ]
    },
    {
     "name": "stdout",
     "output_type": "stream",
     "text": [
      "pickup\n",
      "Vehicle Prediction: pickup\n",
      "Validation Result: True\n"
     ]
    },
    {
     "name": "stderr",
     "output_type": "stream",
     "text": [
      "Processing: pickup:  28%|██▊       | 265/932 [02:45<04:50,  2.30file/s]"
     ]
    },
    {
     "name": "stdout",
     "output_type": "stream",
     "text": [
      "pickup\n",
      "Vehicle Prediction: pickup\n",
      "Validation Result: True\n"
     ]
    },
    {
     "name": "stderr",
     "output_type": "stream",
     "text": [
      "Processing: pickup:  29%|██▊       | 266/932 [02:46<05:20,  2.08file/s]"
     ]
    },
    {
     "name": "stdout",
     "output_type": "stream",
     "text": [
      "pickup\n",
      "Vehicle Prediction: pickup\n",
      "Validation Result: True\n"
     ]
    },
    {
     "name": "stderr",
     "output_type": "stream",
     "text": [
      "Processing: pickup:  29%|██▊       | 267/932 [02:46<05:12,  2.13file/s]"
     ]
    },
    {
     "name": "stdout",
     "output_type": "stream",
     "text": [
      "pickup\n",
      "Vehicle Prediction: pickup\n",
      "Validation Result: True\n"
     ]
    },
    {
     "name": "stderr",
     "output_type": "stream",
     "text": [
      "Processing: pickup:  29%|██▉       | 268/932 [02:47<05:06,  2.16file/s]"
     ]
    },
    {
     "name": "stdout",
     "output_type": "stream",
     "text": [
      "pickup\n",
      "Vehicle Prediction: pickup\n",
      "Validation Result: True\n"
     ]
    },
    {
     "name": "stderr",
     "output_type": "stream",
     "text": [
      "Processing: pickup:  29%|██▉       | 269/932 [02:47<05:02,  2.19file/s]"
     ]
    },
    {
     "name": "stdout",
     "output_type": "stream",
     "text": [
      "pickup\n",
      "Vehicle Prediction: pickup\n",
      "Validation Result: True\n"
     ]
    },
    {
     "name": "stderr",
     "output_type": "stream",
     "text": [
      "Processing: pickup:  29%|██▉       | 270/932 [02:48<04:49,  2.28file/s]"
     ]
    },
    {
     "name": "stdout",
     "output_type": "stream",
     "text": [
      "pickup\n",
      "Vehicle Prediction: pickup\n",
      "Validation Result: True\n"
     ]
    },
    {
     "name": "stderr",
     "output_type": "stream",
     "text": [
      "Processing: pickup:  29%|██▉       | 271/932 [02:48<05:10,  2.13file/s]"
     ]
    },
    {
     "name": "stdout",
     "output_type": "stream",
     "text": [
      "pickup\n",
      "Vehicle Prediction: pickup\n",
      "Validation Result: True\n"
     ]
    },
    {
     "name": "stderr",
     "output_type": "stream",
     "text": [
      "Processing: pickup:  29%|██▉       | 272/932 [02:49<05:10,  2.12file/s]"
     ]
    },
    {
     "name": "stdout",
     "output_type": "stream",
     "text": [
      "pickup\n",
      "Vehicle Prediction: pickup\n",
      "Validation Result: True\n"
     ]
    },
    {
     "name": "stderr",
     "output_type": "stream",
     "text": [
      "[codecarbon INFO @ 14:48:10] Energy consumed for RAM : 0.008639 kWh. RAM Power : 188.80178117752075 W\n",
      "[codecarbon INFO @ 14:48:10] Energy consumed for all CPUs : 0.004576 kWh. Total CPU Power : 100.0 W\n",
      "[codecarbon INFO @ 14:48:10] Energy consumed for all GPUs : 0.013249 kWh. Total GPU Power : 272.6891454020412 W\n",
      "[codecarbon INFO @ 14:48:10] 0.026464 kWh of electricity used since the beginning.\n",
      "Processing: pickup:  29%|██▉       | 273/932 [02:49<05:08,  2.14file/s]"
     ]
    },
    {
     "name": "stdout",
     "output_type": "stream",
     "text": [
      "pickup\n",
      "Vehicle Prediction: pickup\n",
      "Validation Result: True\n"
     ]
    },
    {
     "name": "stderr",
     "output_type": "stream",
     "text": [
      "Processing: pickup:  29%|██▉       | 274/932 [02:50<05:04,  2.16file/s]"
     ]
    },
    {
     "name": "stdout",
     "output_type": "stream",
     "text": [
      "pickup\n",
      "Vehicle Prediction: pickup\n",
      "Validation Result: True\n"
     ]
    },
    {
     "name": "stderr",
     "output_type": "stream",
     "text": [
      "Processing: pickup:  30%|██▉       | 275/932 [02:50<05:00,  2.19file/s]"
     ]
    },
    {
     "name": "stdout",
     "output_type": "stream",
     "text": [
      "pickup\n",
      "Vehicle Prediction: pickup\n",
      "Validation Result: True\n"
     ]
    },
    {
     "name": "stderr",
     "output_type": "stream",
     "text": [
      "Processing: pickup:  30%|██▉       | 276/932 [02:50<04:57,  2.21file/s]"
     ]
    },
    {
     "name": "stdout",
     "output_type": "stream",
     "text": [
      "pickup\n",
      "Vehicle Prediction: pickup\n",
      "Validation Result: True\n"
     ]
    },
    {
     "name": "stderr",
     "output_type": "stream",
     "text": [
      "Processing: pickup:  30%|██▉       | 277/932 [02:51<04:55,  2.22file/s]"
     ]
    },
    {
     "name": "stdout",
     "output_type": "stream",
     "text": [
      "pickup\n",
      "Vehicle Prediction: pickup\n",
      "Validation Result: True\n"
     ]
    },
    {
     "name": "stderr",
     "output_type": "stream",
     "text": [
      "Processing: pickup:  30%|██▉       | 278/932 [02:51<04:52,  2.23file/s]"
     ]
    },
    {
     "name": "stdout",
     "output_type": "stream",
     "text": [
      "pickup\n",
      "Vehicle Prediction: pickup\n",
      "Validation Result: True\n"
     ]
    },
    {
     "name": "stderr",
     "output_type": "stream",
     "text": [
      "Processing: pickup:  30%|██▉       | 279/932 [02:52<04:49,  2.26file/s]"
     ]
    },
    {
     "name": "stdout",
     "output_type": "stream",
     "text": [
      "pickup\n",
      "Vehicle Prediction: pickup\n",
      "Validation Result: True\n"
     ]
    },
    {
     "name": "stderr",
     "output_type": "stream",
     "text": [
      "Processing: pickup:  30%|███       | 280/932 [02:52<04:49,  2.25file/s]"
     ]
    },
    {
     "name": "stdout",
     "output_type": "stream",
     "text": [
      "pickup\n",
      "Vehicle Prediction: pickup\n",
      "Validation Result: True\n"
     ]
    },
    {
     "name": "stderr",
     "output_type": "stream",
     "text": [
      "Processing: pickup:  30%|███       | 281/932 [02:53<04:48,  2.26file/s]"
     ]
    },
    {
     "name": "stdout",
     "output_type": "stream",
     "text": [
      "pickup\n",
      "Vehicle Prediction: pickup\n",
      "Validation Result: True\n"
     ]
    },
    {
     "name": "stderr",
     "output_type": "stream",
     "text": [
      "Processing: pickup:  30%|███       | 282/932 [02:53<05:09,  2.10file/s]"
     ]
    },
    {
     "name": "stdout",
     "output_type": "stream",
     "text": [
      "pickup\n",
      "Vehicle Prediction: pickup\n",
      "Validation Result: True\n"
     ]
    },
    {
     "name": "stderr",
     "output_type": "stream",
     "text": [
      "Processing: pickup:  30%|███       | 283/932 [02:54<05:06,  2.12file/s]"
     ]
    },
    {
     "name": "stdout",
     "output_type": "stream",
     "text": [
      "pickup\n",
      "Vehicle Prediction: pickup\n",
      "Validation Result: True\n"
     ]
    },
    {
     "name": "stderr",
     "output_type": "stream",
     "text": [
      "Processing: pickup:  30%|███       | 284/932 [02:54<05:01,  2.15file/s]"
     ]
    },
    {
     "name": "stdout",
     "output_type": "stream",
     "text": [
      "pickup\n",
      "Vehicle Prediction: pickup\n",
      "Validation Result: True\n"
     ]
    },
    {
     "name": "stderr",
     "output_type": "stream",
     "text": [
      "Processing: pickup:  31%|███       | 285/932 [02:55<04:52,  2.21file/s]"
     ]
    },
    {
     "name": "stdout",
     "output_type": "stream",
     "text": [
      "pickup\n",
      "Vehicle Prediction: pickup\n",
      "Validation Result: True\n"
     ]
    },
    {
     "name": "stderr",
     "output_type": "stream",
     "text": [
      "Processing: pickup:  31%|███       | 286/932 [02:55<04:49,  2.23file/s]"
     ]
    },
    {
     "name": "stdout",
     "output_type": "stream",
     "text": [
      "pickup\n",
      "Vehicle Prediction: pickup\n",
      "Validation Result: True\n"
     ]
    },
    {
     "name": "stderr",
     "output_type": "stream",
     "text": [
      "Processing: pickup:  31%|███       | 287/932 [02:55<04:48,  2.24file/s]"
     ]
    },
    {
     "name": "stdout",
     "output_type": "stream",
     "text": [
      "pickup\n",
      "Vehicle Prediction: pickup\n",
      "Validation Result: True\n"
     ]
    },
    {
     "name": "stderr",
     "output_type": "stream",
     "text": [
      "Processing: pickup:  31%|███       | 288/932 [02:56<04:46,  2.25file/s]"
     ]
    },
    {
     "name": "stdout",
     "output_type": "stream",
     "text": [
      "pickup\n",
      "Vehicle Prediction: pickup\n",
      "Validation Result: True\n"
     ]
    },
    {
     "name": "stderr",
     "output_type": "stream",
     "text": [
      "Processing: pickup:  31%|███       | 289/932 [02:56<04:43,  2.27file/s]"
     ]
    },
    {
     "name": "stdout",
     "output_type": "stream",
     "text": [
      "pickup\n",
      "Vehicle Prediction: pickup\n",
      "Validation Result: True\n"
     ]
    },
    {
     "name": "stderr",
     "output_type": "stream",
     "text": [
      "Processing: pickup:  31%|███       | 290/932 [02:57<04:42,  2.27file/s]"
     ]
    },
    {
     "name": "stdout",
     "output_type": "stream",
     "text": [
      "pickup\n",
      "Vehicle Prediction: pickup\n",
      "Validation Result: True\n"
     ]
    },
    {
     "name": "stderr",
     "output_type": "stream",
     "text": [
      "Processing: pickup:  31%|███       | 291/932 [02:57<05:09,  2.07file/s]"
     ]
    },
    {
     "name": "stdout",
     "output_type": "stream",
     "text": [
      "pickup\n",
      "Vehicle Prediction: pickup\n",
      "Validation Result: True\n"
     ]
    },
    {
     "name": "stderr",
     "output_type": "stream",
     "text": [
      "Processing: pickup:  31%|███▏      | 292/932 [02:58<05:03,  2.11file/s]"
     ]
    },
    {
     "name": "stdout",
     "output_type": "stream",
     "text": [
      "pickup\n",
      "Vehicle Prediction: pickup\n",
      "Validation Result: True\n"
     ]
    },
    {
     "name": "stderr",
     "output_type": "stream",
     "text": [
      "Processing: pickup:  31%|███▏      | 293/932 [02:58<04:55,  2.16file/s]"
     ]
    },
    {
     "name": "stdout",
     "output_type": "stream",
     "text": [
      "pickup\n",
      "Vehicle Prediction: pickup\n",
      "Validation Result: True\n"
     ]
    },
    {
     "name": "stderr",
     "output_type": "stream",
     "text": [
      "Processing: pickup:  32%|███▏      | 294/932 [02:59<04:52,  2.18file/s]"
     ]
    },
    {
     "name": "stdout",
     "output_type": "stream",
     "text": [
      "pickup\n",
      "Vehicle Prediction: pickup\n",
      "Validation Result: True\n"
     ]
    },
    {
     "name": "stderr",
     "output_type": "stream",
     "text": [
      "Processing: pickup:  32%|███▏      | 295/932 [02:59<04:48,  2.21file/s]"
     ]
    },
    {
     "name": "stdout",
     "output_type": "stream",
     "text": [
      "pickup\n",
      "Vehicle Prediction: pickup\n",
      "Validation Result: True\n"
     ]
    },
    {
     "name": "stderr",
     "output_type": "stream",
     "text": [
      "Processing: pickup:  32%|███▏      | 296/932 [03:00<04:48,  2.21file/s]"
     ]
    },
    {
     "name": "stdout",
     "output_type": "stream",
     "text": [
      "pickup\n",
      "Vehicle Prediction: pickup\n",
      "Validation Result: True\n"
     ]
    },
    {
     "name": "stderr",
     "output_type": "stream",
     "text": [
      "Processing: pickup:  32%|███▏      | 297/932 [03:00<05:09,  2.05file/s]"
     ]
    },
    {
     "name": "stdout",
     "output_type": "stream",
     "text": [
      "pickup\n",
      "Vehicle Prediction: pickup\n",
      "Validation Result: True\n"
     ]
    },
    {
     "name": "stderr",
     "output_type": "stream",
     "text": [
      "Processing: pickup:  32%|███▏      | 298/932 [03:01<04:57,  2.13file/s]"
     ]
    },
    {
     "name": "stdout",
     "output_type": "stream",
     "text": [
      "pickup\n",
      "Vehicle Prediction: pickup\n",
      "Validation Result: True\n"
     ]
    },
    {
     "name": "stderr",
     "output_type": "stream",
     "text": [
      "Processing: pickup:  32%|███▏      | 299/932 [03:01<05:14,  2.01file/s]"
     ]
    },
    {
     "name": "stdout",
     "output_type": "stream",
     "text": [
      "pickup\n",
      "Vehicle Prediction: pickup\n",
      "Validation Result: True\n"
     ]
    },
    {
     "name": "stderr",
     "output_type": "stream",
     "text": [
      "Processing: van:  32%|███▏      | 300/932 [03:02<05:05,  2.07file/s]   "
     ]
    },
    {
     "name": "stdout",
     "output_type": "stream",
     "text": [
      "pickup\n",
      "Vehicle Prediction: pickup\n",
      "Validation Result: True\n"
     ]
    },
    {
     "name": "stderr",
     "output_type": "stream",
     "text": [
      "Processing: van:  32%|███▏      | 301/932 [03:02<04:55,  2.14file/s]"
     ]
    },
    {
     "name": "stdout",
     "output_type": "stream",
     "text": [
      "van\n",
      "Vehicle Prediction: van\n",
      "Validation Result: True\n"
     ]
    },
    {
     "name": "stderr",
     "output_type": "stream",
     "text": [
      "Processing: van:  32%|███▏      | 302/932 [03:02<04:47,  2.19file/s]"
     ]
    },
    {
     "name": "stdout",
     "output_type": "stream",
     "text": [
      "van\n",
      "Vehicle Prediction: van\n",
      "Validation Result: True\n"
     ]
    },
    {
     "name": "stderr",
     "output_type": "stream",
     "text": [
      "Processing: van:  33%|███▎      | 303/932 [03:03<05:01,  2.09file/s]"
     ]
    },
    {
     "name": "stdout",
     "output_type": "stream",
     "text": [
      "van\n",
      "Vehicle Prediction: van\n",
      "Validation Result: True\n"
     ]
    },
    {
     "name": "stderr",
     "output_type": "stream",
     "text": [
      "Processing: van:  33%|███▎      | 304/932 [03:03<04:53,  2.14file/s]"
     ]
    },
    {
     "name": "stdout",
     "output_type": "stream",
     "text": [
      "van\n",
      "Vehicle Prediction: van\n",
      "Validation Result: True\n"
     ]
    },
    {
     "name": "stderr",
     "output_type": "stream",
     "text": [
      "Processing: van:  33%|███▎      | 305/932 [03:04<05:11,  2.01file/s][codecarbon INFO @ 14:48:25] Energy consumed for RAM : 0.009425 kWh. RAM Power : 188.80178117752075 W\n",
      "[codecarbon INFO @ 14:48:25] Energy consumed for all CPUs : 0.004993 kWh. Total CPU Power : 100.0 W\n",
      "[codecarbon INFO @ 14:48:25] Energy consumed for all GPUs : 0.014431 kWh. Total GPU Power : 283.7152050306343 W\n",
      "[codecarbon INFO @ 14:48:25] 0.028849 kWh of electricity used since the beginning.\n"
     ]
    },
    {
     "name": "stdout",
     "output_type": "stream",
     "text": [
      "van\n",
      "Vehicle Prediction: van\n",
      "Validation Result: True\n"
     ]
    },
    {
     "name": "stderr",
     "output_type": "stream",
     "text": [
      "Processing: van:  33%|███▎      | 306/932 [03:04<04:56,  2.11file/s]"
     ]
    },
    {
     "name": "stdout",
     "output_type": "stream",
     "text": [
      "van\n",
      "Vehicle Prediction: van\n",
      "Validation Result: True\n"
     ]
    },
    {
     "name": "stderr",
     "output_type": "stream",
     "text": [
      "Processing: van:  33%|███▎      | 307/932 [03:05<04:47,  2.17file/s]"
     ]
    },
    {
     "name": "stdout",
     "output_type": "stream",
     "text": [
      "van\n",
      "Vehicle Prediction: van\n",
      "Validation Result: True\n"
     ]
    },
    {
     "name": "stderr",
     "output_type": "stream",
     "text": [
      "Processing: van:  33%|███▎      | 308/932 [03:05<04:42,  2.21file/s]"
     ]
    },
    {
     "name": "stdout",
     "output_type": "stream",
     "text": [
      "van\n",
      "Vehicle Prediction: van\n",
      "Validation Result: True\n"
     ]
    },
    {
     "name": "stderr",
     "output_type": "stream",
     "text": [
      "Processing: van:  33%|███▎      | 309/932 [03:06<04:39,  2.23file/s]"
     ]
    },
    {
     "name": "stdout",
     "output_type": "stream",
     "text": [
      "minivan\n",
      "Vehicle Prediction: minivan\n",
      "Validation Result: True\n"
     ]
    },
    {
     "name": "stderr",
     "output_type": "stream",
     "text": [
      "Processing: van:  33%|███▎      | 310/932 [03:06<04:36,  2.25file/s]"
     ]
    },
    {
     "name": "stdout",
     "output_type": "stream",
     "text": [
      "minivan\n",
      "Vehicle Prediction: minivan\n",
      "Validation Result: True\n"
     ]
    },
    {
     "name": "stderr",
     "output_type": "stream",
     "text": [
      "Processing: van:  33%|███▎      | 311/932 [03:07<04:34,  2.26file/s]"
     ]
    },
    {
     "name": "stdout",
     "output_type": "stream",
     "text": [
      "minivan\n",
      "Vehicle Prediction: minivan\n",
      "Validation Result: True\n"
     ]
    },
    {
     "name": "stderr",
     "output_type": "stream",
     "text": [
      "Processing: van:  33%|███▎      | 312/932 [03:07<04:30,  2.29file/s]"
     ]
    },
    {
     "name": "stdout",
     "output_type": "stream",
     "text": [
      "van\n",
      "Vehicle Prediction: van\n",
      "Validation Result: True\n"
     ]
    },
    {
     "name": "stderr",
     "output_type": "stream",
     "text": [
      "Processing: van:  34%|███▎      | 313/932 [03:07<04:31,  2.28file/s]"
     ]
    },
    {
     "name": "stdout",
     "output_type": "stream",
     "text": [
      "minivan\n",
      "Vehicle Prediction: minivan\n",
      "Validation Result: True\n"
     ]
    },
    {
     "name": "stderr",
     "output_type": "stream",
     "text": [
      "Processing: van:  34%|███▎      | 314/932 [03:08<04:31,  2.28file/s]"
     ]
    },
    {
     "name": "stdout",
     "output_type": "stream",
     "text": [
      "minivan\n",
      "Vehicle Prediction: minivan\n",
      "Validation Result: True\n"
     ]
    },
    {
     "name": "stderr",
     "output_type": "stream",
     "text": [
      "Processing: van:  34%|███▍      | 315/932 [03:08<04:27,  2.31file/s]"
     ]
    },
    {
     "name": "stdout",
     "output_type": "stream",
     "text": [
      "minivan\n",
      "Vehicle Prediction: minivan\n",
      "Validation Result: True\n"
     ]
    },
    {
     "name": "stderr",
     "output_type": "stream",
     "text": [
      "Processing: van:  34%|███▍      | 316/932 [03:09<04:25,  2.32file/s]"
     ]
    },
    {
     "name": "stdout",
     "output_type": "stream",
     "text": [
      "van\n",
      "Vehicle Prediction: van\n",
      "Validation Result: True\n"
     ]
    },
    {
     "name": "stderr",
     "output_type": "stream",
     "text": [
      "Processing: van:  34%|███▍      | 317/932 [03:09<04:24,  2.33file/s]"
     ]
    },
    {
     "name": "stdout",
     "output_type": "stream",
     "text": [
      "minivan\n",
      "Vehicle Prediction: minivan\n",
      "Validation Result: True\n"
     ]
    },
    {
     "name": "stderr",
     "output_type": "stream",
     "text": [
      "Processing: van:  34%|███▍      | 318/932 [03:10<04:43,  2.17file/s]"
     ]
    },
    {
     "name": "stdout",
     "output_type": "stream",
     "text": [
      "van\n",
      "Vehicle Prediction: van\n",
      "Validation Result: True\n"
     ]
    },
    {
     "name": "stderr",
     "output_type": "stream",
     "text": [
      "Processing: van:  34%|███▍      | 319/932 [03:10<04:38,  2.20file/s]"
     ]
    },
    {
     "name": "stdout",
     "output_type": "stream",
     "text": [
      "minivan\n",
      "Vehicle Prediction: minivan\n",
      "Validation Result: True\n"
     ]
    },
    {
     "name": "stderr",
     "output_type": "stream",
     "text": [
      "Processing: van:  34%|███▍      | 320/932 [03:11<04:32,  2.25file/s]"
     ]
    },
    {
     "name": "stdout",
     "output_type": "stream",
     "text": [
      "minivan\n",
      "Vehicle Prediction: minivan\n",
      "Validation Result: True\n"
     ]
    },
    {
     "name": "stderr",
     "output_type": "stream",
     "text": [
      "Processing: van:  34%|███▍      | 321/932 [03:11<04:28,  2.28file/s]"
     ]
    },
    {
     "name": "stdout",
     "output_type": "stream",
     "text": [
      "minivan\n",
      "Vehicle Prediction: minivan\n",
      "Validation Result: True\n"
     ]
    },
    {
     "name": "stderr",
     "output_type": "stream",
     "text": [
      "Processing: van:  35%|███▍      | 322/932 [03:11<04:27,  2.28file/s]"
     ]
    },
    {
     "name": "stdout",
     "output_type": "stream",
     "text": [
      "van\n",
      "Vehicle Prediction: van\n",
      "Validation Result: True\n"
     ]
    },
    {
     "name": "stderr",
     "output_type": "stream",
     "text": [
      "Processing: van:  35%|███▍      | 323/932 [03:12<04:29,  2.26file/s]"
     ]
    },
    {
     "name": "stdout",
     "output_type": "stream",
     "text": [
      "van\n",
      "Vehicle Prediction: van\n",
      "Validation Result: True\n"
     ]
    },
    {
     "name": "stderr",
     "output_type": "stream",
     "text": [
      "Processing: van:  35%|███▍      | 324/932 [03:12<04:25,  2.29file/s]"
     ]
    },
    {
     "name": "stdout",
     "output_type": "stream",
     "text": [
      "van\n",
      "Vehicle Prediction: van\n",
      "Validation Result: True\n"
     ]
    },
    {
     "name": "stderr",
     "output_type": "stream",
     "text": [
      "Processing: van:  35%|███▍      | 325/932 [03:13<04:23,  2.31file/s]"
     ]
    },
    {
     "name": "stdout",
     "output_type": "stream",
     "text": [
      "van\n",
      "Vehicle Prediction: van\n",
      "Validation Result: True\n"
     ]
    },
    {
     "name": "stderr",
     "output_type": "stream",
     "text": [
      "Processing: van:  35%|███▍      | 326/932 [03:13<04:39,  2.16file/s]"
     ]
    },
    {
     "name": "stdout",
     "output_type": "stream",
     "text": [
      "van\n",
      "Vehicle Prediction: van\n",
      "Validation Result: True\n"
     ]
    },
    {
     "name": "stderr",
     "output_type": "stream",
     "text": [
      "Processing: van:  35%|███▌      | 327/932 [03:14<04:33,  2.21file/s]"
     ]
    },
    {
     "name": "stdout",
     "output_type": "stream",
     "text": [
      "van\n",
      "Vehicle Prediction: van\n",
      "Validation Result: True\n"
     ]
    },
    {
     "name": "stderr",
     "output_type": "stream",
     "text": [
      "Processing: van:  35%|███▌      | 328/932 [03:14<04:31,  2.23file/s]"
     ]
    },
    {
     "name": "stdout",
     "output_type": "stream",
     "text": [
      "van\n",
      "Vehicle Prediction: van\n",
      "Validation Result: True\n"
     ]
    },
    {
     "name": "stderr",
     "output_type": "stream",
     "text": [
      "Processing: van:  35%|███▌      | 329/932 [03:14<04:27,  2.26file/s]"
     ]
    },
    {
     "name": "stdout",
     "output_type": "stream",
     "text": [
      "van\n",
      "Vehicle Prediction: van\n",
      "Validation Result: True\n"
     ]
    },
    {
     "name": "stderr",
     "output_type": "stream",
     "text": [
      "Processing: van:  35%|███▌      | 330/932 [03:15<04:23,  2.28file/s]"
     ]
    },
    {
     "name": "stdout",
     "output_type": "stream",
     "text": [
      "van\n",
      "Vehicle Prediction: van\n",
      "Validation Result: True\n"
     ]
    },
    {
     "name": "stderr",
     "output_type": "stream",
     "text": [
      "Processing: van:  36%|███▌      | 331/932 [03:15<04:21,  2.29file/s]"
     ]
    },
    {
     "name": "stdout",
     "output_type": "stream",
     "text": [
      "van\n",
      "Vehicle Prediction: van\n",
      "Validation Result: True\n"
     ]
    },
    {
     "name": "stderr",
     "output_type": "stream",
     "text": [
      "Processing: van:  36%|███▌      | 332/932 [03:16<04:40,  2.14file/s]"
     ]
    },
    {
     "name": "stdout",
     "output_type": "stream",
     "text": [
      "van\n",
      "Vehicle Prediction: van\n",
      "Validation Result: True\n"
     ]
    },
    {
     "name": "stderr",
     "output_type": "stream",
     "text": [
      "Processing: van:  36%|███▌      | 333/932 [03:16<04:36,  2.16file/s]"
     ]
    },
    {
     "name": "stdout",
     "output_type": "stream",
     "text": [
      "van\n",
      "Vehicle Prediction: van\n",
      "Validation Result: True\n"
     ]
    },
    {
     "name": "stderr",
     "output_type": "stream",
     "text": [
      "Processing: van:  36%|███▌      | 334/932 [03:17<04:28,  2.23file/s]"
     ]
    },
    {
     "name": "stdout",
     "output_type": "stream",
     "text": [
      "van\n",
      "Vehicle Prediction: van\n",
      "Validation Result: True\n"
     ]
    },
    {
     "name": "stderr",
     "output_type": "stream",
     "text": [
      "Processing: van:  36%|███▌      | 335/932 [03:17<04:24,  2.26file/s]"
     ]
    },
    {
     "name": "stdout",
     "output_type": "stream",
     "text": [
      "minivan\n",
      "Vehicle Prediction: minivan\n",
      "Validation Result: True\n"
     ]
    },
    {
     "name": "stderr",
     "output_type": "stream",
     "text": [
      "Processing: van:  36%|███▌      | 336/932 [03:18<04:21,  2.28file/s]"
     ]
    },
    {
     "name": "stdout",
     "output_type": "stream",
     "text": [
      "minivan\n",
      "Vehicle Prediction: minivan\n",
      "Validation Result: True\n"
     ]
    },
    {
     "name": "stderr",
     "output_type": "stream",
     "text": [
      "Processing: van:  36%|███▌      | 337/932 [03:18<04:21,  2.28file/s]"
     ]
    },
    {
     "name": "stdout",
     "output_type": "stream",
     "text": [
      "minivan\n",
      "Vehicle Prediction: minivan\n",
      "Validation Result: True\n"
     ]
    },
    {
     "name": "stderr",
     "output_type": "stream",
     "text": [
      "Processing: van:  36%|███▋      | 338/932 [03:19<04:34,  2.17file/s]"
     ]
    },
    {
     "name": "stdout",
     "output_type": "stream",
     "text": [
      "suv\n",
      "Vehicle Prediction: suv\n",
      "Validation Result: False\n"
     ]
    },
    {
     "name": "stderr",
     "output_type": "stream",
     "text": [
      "[codecarbon INFO @ 14:48:40] Energy consumed for RAM : 0.010204 kWh. RAM Power : 188.80178117752075 W\n",
      "[codecarbon INFO @ 14:48:40] Energy consumed for all CPUs : 0.005405 kWh. Total CPU Power : 100.0 W\n",
      "[codecarbon INFO @ 14:48:40] Energy consumed for all GPUs : 0.015612 kWh. Total GPU Power : 286.44069486151864 W\n",
      "[codecarbon INFO @ 14:48:40] 0.031222 kWh of electricity used since the beginning.\n",
      "Processing: van:  36%|███▋      | 339/932 [03:19<04:42,  2.10file/s]"
     ]
    },
    {
     "name": "stdout",
     "output_type": "stream",
     "text": [
      "minivan\n",
      "Vehicle Prediction: minivan\n",
      "Validation Result: True\n"
     ]
    },
    {
     "name": "stderr",
     "output_type": "stream",
     "text": [
      "Processing: van:  36%|███▋      | 340/932 [03:20<04:56,  2.00file/s]"
     ]
    },
    {
     "name": "stdout",
     "output_type": "stream",
     "text": [
      "minivan\n",
      "Vehicle Prediction: minivan\n",
      "Validation Result: True\n"
     ]
    },
    {
     "name": "stderr",
     "output_type": "stream",
     "text": [
      "Processing: van:  37%|███▋      | 341/932 [03:20<04:44,  2.08file/s]"
     ]
    },
    {
     "name": "stdout",
     "output_type": "stream",
     "text": [
      "minivan\n",
      "Vehicle Prediction: minivan\n",
      "Validation Result: True\n"
     ]
    },
    {
     "name": "stderr",
     "output_type": "stream",
     "text": [
      "Processing: van:  37%|███▋      | 342/932 [03:21<04:35,  2.14file/s]"
     ]
    },
    {
     "name": "stdout",
     "output_type": "stream",
     "text": [
      "minivan\n",
      "Vehicle Prediction: minivan\n",
      "Validation Result: True\n"
     ]
    },
    {
     "name": "stderr",
     "output_type": "stream",
     "text": [
      "Processing: van:  37%|███▋      | 343/932 [03:21<04:27,  2.21file/s]"
     ]
    },
    {
     "name": "stdout",
     "output_type": "stream",
     "text": [
      "minivan\n",
      "Vehicle Prediction: minivan\n",
      "Validation Result: True\n"
     ]
    },
    {
     "name": "stderr",
     "output_type": "stream",
     "text": [
      "Processing: van:  37%|███▋      | 344/932 [03:21<04:21,  2.25file/s]"
     ]
    },
    {
     "name": "stdout",
     "output_type": "stream",
     "text": [
      "minivan\n",
      "Vehicle Prediction: minivan\n",
      "Validation Result: True\n"
     ]
    },
    {
     "name": "stderr",
     "output_type": "stream",
     "text": [
      "Processing: van:  37%|███▋      | 345/932 [03:22<04:18,  2.27file/s]"
     ]
    },
    {
     "name": "stdout",
     "output_type": "stream",
     "text": [
      "van\n",
      "Vehicle Prediction: van\n",
      "Validation Result: True\n"
     ]
    },
    {
     "name": "stderr",
     "output_type": "stream",
     "text": [
      "Processing: van:  37%|███▋      | 346/932 [03:22<04:16,  2.29file/s]"
     ]
    },
    {
     "name": "stdout",
     "output_type": "stream",
     "text": [
      "minivan\n",
      "Vehicle Prediction: minivan\n",
      "Validation Result: True\n"
     ]
    },
    {
     "name": "stderr",
     "output_type": "stream",
     "text": [
      "Processing: van:  37%|███▋      | 347/932 [03:23<04:15,  2.29file/s]"
     ]
    },
    {
     "name": "stdout",
     "output_type": "stream",
     "text": [
      "van\n",
      "Vehicle Prediction: van\n",
      "Validation Result: True\n"
     ]
    },
    {
     "name": "stderr",
     "output_type": "stream",
     "text": [
      "Processing: van:  37%|███▋      | 348/932 [03:23<04:39,  2.09file/s]"
     ]
    },
    {
     "name": "stdout",
     "output_type": "stream",
     "text": [
      "minivan\n",
      "Vehicle Prediction: minivan\n",
      "Validation Result: True\n"
     ]
    },
    {
     "name": "stderr",
     "output_type": "stream",
     "text": [
      "Processing: van:  37%|███▋      | 349/932 [03:24<04:26,  2.18file/s]"
     ]
    },
    {
     "name": "stdout",
     "output_type": "stream",
     "text": [
      "van\n",
      "Vehicle Prediction: van\n",
      "Validation Result: True\n"
     ]
    },
    {
     "name": "stderr",
     "output_type": "stream",
     "text": [
      "Processing: van:  38%|███▊      | 350/932 [03:24<04:19,  2.24file/s]"
     ]
    },
    {
     "name": "stdout",
     "output_type": "stream",
     "text": [
      "pickup\n",
      "Vehicle Prediction: pickup\n",
      "Validation Result: False\n"
     ]
    },
    {
     "name": "stderr",
     "output_type": "stream",
     "text": [
      "Processing: van:  38%|███▊      | 351/932 [03:25<04:35,  2.11file/s]"
     ]
    },
    {
     "name": "stdout",
     "output_type": "stream",
     "text": [
      "van\n",
      "Vehicle Prediction: van\n",
      "Validation Result: True\n"
     ]
    },
    {
     "name": "stderr",
     "output_type": "stream",
     "text": [
      "Processing: van:  38%|███▊      | 352/932 [03:25<04:29,  2.15file/s]"
     ]
    },
    {
     "name": "stdout",
     "output_type": "stream",
     "text": [
      "minivan\n",
      "Vehicle Prediction: minivan\n",
      "Validation Result: True\n"
     ]
    },
    {
     "name": "stderr",
     "output_type": "stream",
     "text": [
      "Processing: van:  38%|███▊      | 353/932 [03:25<04:21,  2.21file/s]"
     ]
    },
    {
     "name": "stdout",
     "output_type": "stream",
     "text": [
      "van\n",
      "Vehicle Prediction: van\n",
      "Validation Result: True\n"
     ]
    },
    {
     "name": "stderr",
     "output_type": "stream",
     "text": [
      "Processing: van:  38%|███▊      | 354/932 [03:26<04:16,  2.26file/s]"
     ]
    },
    {
     "name": "stdout",
     "output_type": "stream",
     "text": [
      "van\n",
      "Vehicle Prediction: van\n",
      "Validation Result: True\n"
     ]
    },
    {
     "name": "stderr",
     "output_type": "stream",
     "text": [
      "Processing: van:  38%|███▊      | 355/932 [03:26<04:12,  2.29file/s]"
     ]
    },
    {
     "name": "stdout",
     "output_type": "stream",
     "text": [
      "minivan\n",
      "Vehicle Prediction: minivan\n",
      "Validation Result: True\n"
     ]
    },
    {
     "name": "stderr",
     "output_type": "stream",
     "text": [
      "Processing: van:  38%|███▊      | 356/932 [03:27<04:10,  2.30file/s]"
     ]
    },
    {
     "name": "stdout",
     "output_type": "stream",
     "text": [
      "van\n",
      "Vehicle Prediction: van\n",
      "Validation Result: True\n"
     ]
    },
    {
     "name": "stderr",
     "output_type": "stream",
     "text": [
      "Processing: van:  38%|███▊      | 357/932 [03:27<04:12,  2.27file/s]"
     ]
    },
    {
     "name": "stdout",
     "output_type": "stream",
     "text": [
      "van\n",
      "Vehicle Prediction: van\n",
      "Validation Result: True\n"
     ]
    },
    {
     "name": "stderr",
     "output_type": "stream",
     "text": [
      "Processing: van:  38%|███▊      | 358/932 [03:28<04:29,  2.13file/s]"
     ]
    },
    {
     "name": "stdout",
     "output_type": "stream",
     "text": [
      "minivan\n",
      "Vehicle Prediction: minivan\n",
      "Validation Result: True\n"
     ]
    },
    {
     "name": "stderr",
     "output_type": "stream",
     "text": [
      "Processing: van:  39%|███▊      | 359/932 [03:28<04:22,  2.19file/s]"
     ]
    },
    {
     "name": "stdout",
     "output_type": "stream",
     "text": [
      "van\n",
      "Vehicle Prediction: van\n",
      "Validation Result: True\n"
     ]
    },
    {
     "name": "stderr",
     "output_type": "stream",
     "text": [
      "Processing: van:  39%|███▊      | 360/932 [03:29<04:16,  2.23file/s]"
     ]
    },
    {
     "name": "stdout",
     "output_type": "stream",
     "text": [
      "van\n",
      "Vehicle Prediction: van\n",
      "Validation Result: True\n"
     ]
    },
    {
     "name": "stderr",
     "output_type": "stream",
     "text": [
      "Processing: van:  39%|███▊      | 361/932 [03:29<04:13,  2.26file/s]"
     ]
    },
    {
     "name": "stdout",
     "output_type": "stream",
     "text": [
      "van\n",
      "Vehicle Prediction: van\n",
      "Validation Result: True\n"
     ]
    },
    {
     "name": "stderr",
     "output_type": "stream",
     "text": [
      "Processing: van:  39%|███▉      | 362/932 [03:29<04:10,  2.28file/s]"
     ]
    },
    {
     "name": "stdout",
     "output_type": "stream",
     "text": [
      "van\n",
      "Vehicle Prediction: van\n",
      "Validation Result: True\n"
     ]
    },
    {
     "name": "stderr",
     "output_type": "stream",
     "text": [
      "Processing: van:  39%|███▉      | 363/932 [03:30<04:06,  2.30file/s]"
     ]
    },
    {
     "name": "stdout",
     "output_type": "stream",
     "text": [
      "van\n",
      "Vehicle Prediction: van\n",
      "Validation Result: True\n"
     ]
    },
    {
     "name": "stderr",
     "output_type": "stream",
     "text": [
      "Processing: van:  39%|███▉      | 364/932 [03:30<04:09,  2.28file/s]"
     ]
    },
    {
     "name": "stdout",
     "output_type": "stream",
     "text": [
      "van\n",
      "Vehicle Prediction: van\n",
      "Validation Result: True\n"
     ]
    },
    {
     "name": "stderr",
     "output_type": "stream",
     "text": [
      "Processing: van:  39%|███▉      | 365/932 [03:31<04:06,  2.30file/s]"
     ]
    },
    {
     "name": "stdout",
     "output_type": "stream",
     "text": [
      "van\n",
      "Vehicle Prediction: van\n",
      "Validation Result: True\n"
     ]
    },
    {
     "name": "stderr",
     "output_type": "stream",
     "text": [
      "Processing: van:  39%|███▉      | 366/932 [03:31<04:03,  2.33file/s]"
     ]
    },
    {
     "name": "stdout",
     "output_type": "stream",
     "text": [
      "van\n",
      "Vehicle Prediction: van\n",
      "Validation Result: True\n"
     ]
    },
    {
     "name": "stderr",
     "output_type": "stream",
     "text": [
      "Processing: van:  39%|███▉      | 367/932 [03:32<04:05,  2.30file/s]"
     ]
    },
    {
     "name": "stdout",
     "output_type": "stream",
     "text": [
      "van\n",
      "Vehicle Prediction: van\n",
      "Validation Result: True\n"
     ]
    },
    {
     "name": "stderr",
     "output_type": "stream",
     "text": [
      "Processing: van:  39%|███▉      | 368/932 [03:32<04:02,  2.32file/s]"
     ]
    },
    {
     "name": "stdout",
     "output_type": "stream",
     "text": [
      "van\n",
      "Vehicle Prediction: van\n",
      "Validation Result: True\n"
     ]
    },
    {
     "name": "stderr",
     "output_type": "stream",
     "text": [
      "Processing: van:  40%|███▉      | 369/932 [03:32<04:02,  2.32file/s]"
     ]
    },
    {
     "name": "stdout",
     "output_type": "stream",
     "text": [
      "van\n",
      "Vehicle Prediction: van\n",
      "Validation Result: True\n"
     ]
    },
    {
     "name": "stderr",
     "output_type": "stream",
     "text": [
      "Processing: van:  40%|███▉      | 370/932 [03:33<04:01,  2.33file/s]"
     ]
    },
    {
     "name": "stdout",
     "output_type": "stream",
     "text": [
      "van\n",
      "Vehicle Prediction: van\n",
      "Validation Result: True\n"
     ]
    },
    {
     "name": "stderr",
     "output_type": "stream",
     "text": [
      "Processing: van:  40%|███▉      | 371/932 [03:33<04:03,  2.31file/s]"
     ]
    },
    {
     "name": "stdout",
     "output_type": "stream",
     "text": [
      "van\n",
      "Vehicle Prediction: van\n",
      "Validation Result: True\n"
     ]
    },
    {
     "name": "stderr",
     "output_type": "stream",
     "text": [
      "Processing: van:  40%|███▉      | 372/932 [03:34<04:01,  2.32file/s]"
     ]
    },
    {
     "name": "stdout",
     "output_type": "stream",
     "text": [
      "van\n",
      "Vehicle Prediction: van\n",
      "Validation Result: True\n"
     ]
    },
    {
     "name": "stderr",
     "output_type": "stream",
     "text": [
      "[codecarbon INFO @ 14:48:55] Energy consumed for RAM : 0.010990 kWh. RAM Power : 188.80178117752075 W\n",
      "[codecarbon INFO @ 14:48:55] Energy consumed for all CPUs : 0.005822 kWh. Total CPU Power : 100.0 W\n",
      "[codecarbon INFO @ 14:48:55] Energy consumed for all GPUs : 0.016818 kWh. Total GPU Power : 289.44048598441236 W\n",
      "[codecarbon INFO @ 14:48:55] 0.033630 kWh of electricity used since the beginning.\n",
      "Processing: van:  40%|████      | 373/932 [03:34<03:59,  2.33file/s]"
     ]
    },
    {
     "name": "stdout",
     "output_type": "stream",
     "text": [
      "minivan\n",
      "Vehicle Prediction: minivan\n",
      "Validation Result: True\n"
     ]
    },
    {
     "name": "stderr",
     "output_type": "stream",
     "text": [
      "Processing: van:  40%|████      | 374/932 [03:35<04:15,  2.18file/s]"
     ]
    },
    {
     "name": "stdout",
     "output_type": "stream",
     "text": [
      "minivan\n",
      "Vehicle Prediction: minivan\n",
      "Validation Result: True\n"
     ]
    },
    {
     "name": "stderr",
     "output_type": "stream",
     "text": [
      "Processing: van:  40%|████      | 375/932 [03:35<04:11,  2.22file/s]"
     ]
    },
    {
     "name": "stdout",
     "output_type": "stream",
     "text": [
      "minivan\n",
      "Vehicle Prediction: minivan\n",
      "Validation Result: True\n"
     ]
    },
    {
     "name": "stderr",
     "output_type": "stream",
     "text": [
      "Processing: van:  40%|████      | 376/932 [03:36<04:09,  2.23file/s]"
     ]
    },
    {
     "name": "stdout",
     "output_type": "stream",
     "text": [
      "minivan\n",
      "Vehicle Prediction: minivan\n",
      "Validation Result: True\n"
     ]
    },
    {
     "name": "stderr",
     "output_type": "stream",
     "text": [
      "Processing: van:  40%|████      | 377/932 [03:36<04:46,  1.93file/s]"
     ]
    },
    {
     "name": "stdout",
     "output_type": "stream",
     "text": [
      "minivan\n",
      "Vehicle Prediction: minivan\n",
      "Validation Result: True\n"
     ]
    },
    {
     "name": "stderr",
     "output_type": "stream",
     "text": [
      "Processing: van:  41%|████      | 378/932 [03:37<04:32,  2.04file/s]"
     ]
    },
    {
     "name": "stdout",
     "output_type": "stream",
     "text": [
      "minivan\n",
      "Vehicle Prediction: minivan\n",
      "Validation Result: True\n"
     ]
    },
    {
     "name": "stderr",
     "output_type": "stream",
     "text": [
      "Processing: van:  41%|████      | 379/932 [03:37<04:22,  2.11file/s]"
     ]
    },
    {
     "name": "stdout",
     "output_type": "stream",
     "text": [
      "minivan\n",
      "Vehicle Prediction: minivan\n",
      "Validation Result: True\n"
     ]
    },
    {
     "name": "stderr",
     "output_type": "stream",
     "text": [
      "Processing: van:  41%|████      | 380/932 [03:38<04:14,  2.17file/s]"
     ]
    },
    {
     "name": "stdout",
     "output_type": "stream",
     "text": [
      "minivan\n",
      "Vehicle Prediction: minivan\n",
      "Validation Result: True\n"
     ]
    },
    {
     "name": "stderr",
     "output_type": "stream",
     "text": [
      "Processing: van:  41%|████      | 381/932 [03:38<04:10,  2.20file/s]"
     ]
    },
    {
     "name": "stdout",
     "output_type": "stream",
     "text": [
      "minivan\n",
      "Vehicle Prediction: minivan\n",
      "Validation Result: True\n"
     ]
    },
    {
     "name": "stderr",
     "output_type": "stream",
     "text": [
      "Processing: van:  41%|████      | 382/932 [03:39<04:20,  2.11file/s]"
     ]
    },
    {
     "name": "stdout",
     "output_type": "stream",
     "text": [
      "minivan\n",
      "Vehicle Prediction: minivan\n",
      "Validation Result: True\n"
     ]
    },
    {
     "name": "stderr",
     "output_type": "stream",
     "text": [
      "Processing: van:  41%|████      | 383/932 [03:39<04:12,  2.17file/s]"
     ]
    },
    {
     "name": "stdout",
     "output_type": "stream",
     "text": [
      "minivan\n",
      "Vehicle Prediction: minivan\n",
      "Validation Result: True\n"
     ]
    },
    {
     "name": "stderr",
     "output_type": "stream",
     "text": [
      "Processing: van:  41%|████      | 384/932 [03:39<04:07,  2.22file/s]"
     ]
    },
    {
     "name": "stdout",
     "output_type": "stream",
     "text": [
      "minivan\n",
      "Vehicle Prediction: minivan\n",
      "Validation Result: True\n"
     ]
    },
    {
     "name": "stderr",
     "output_type": "stream",
     "text": [
      "Processing: van:  41%|████▏     | 385/932 [03:40<04:09,  2.19file/s]"
     ]
    },
    {
     "name": "stdout",
     "output_type": "stream",
     "text": [
      "minivan\n",
      "Vehicle Prediction: minivan\n",
      "Validation Result: True\n"
     ]
    },
    {
     "name": "stderr",
     "output_type": "stream",
     "text": [
      "Processing: van:  41%|████▏     | 386/932 [03:40<04:04,  2.24file/s]"
     ]
    },
    {
     "name": "stdout",
     "output_type": "stream",
     "text": [
      "sedan\n",
      "Vehicle Prediction: sedan\n",
      "Validation Result: False\n"
     ]
    },
    {
     "name": "stderr",
     "output_type": "stream",
     "text": [
      "Processing: van:  42%|████▏     | 387/932 [03:41<04:00,  2.26file/s]"
     ]
    },
    {
     "name": "stdout",
     "output_type": "stream",
     "text": [
      "van\n",
      "Vehicle Prediction: van\n",
      "Validation Result: True\n"
     ]
    },
    {
     "name": "stderr",
     "output_type": "stream",
     "text": [
      "Processing: van:  42%|████▏     | 388/932 [03:41<03:58,  2.28file/s]"
     ]
    },
    {
     "name": "stdout",
     "output_type": "stream",
     "text": [
      "van\n",
      "Vehicle Prediction: van\n",
      "Validation Result: True\n"
     ]
    },
    {
     "name": "stderr",
     "output_type": "stream",
     "text": [
      "Processing: van:  42%|████▏     | 389/932 [03:42<04:18,  2.10file/s]"
     ]
    },
    {
     "name": "stdout",
     "output_type": "stream",
     "text": [
      "van\n",
      "Vehicle Prediction: van\n",
      "Validation Result: True\n"
     ]
    },
    {
     "name": "stderr",
     "output_type": "stream",
     "text": [
      "Processing: van:  42%|████▏     | 390/932 [03:42<04:10,  2.16file/s]"
     ]
    },
    {
     "name": "stdout",
     "output_type": "stream",
     "text": [
      "van\n",
      "Vehicle Prediction: van\n",
      "Validation Result: True\n"
     ]
    },
    {
     "name": "stderr",
     "output_type": "stream",
     "text": [
      "Processing: van:  42%|████▏     | 391/932 [03:43<04:03,  2.23file/s]"
     ]
    },
    {
     "name": "stdout",
     "output_type": "stream",
     "text": [
      "van\n",
      "Vehicle Prediction: van\n",
      "Validation Result: True\n"
     ]
    },
    {
     "name": "stderr",
     "output_type": "stream",
     "text": [
      "Processing: van:  42%|████▏     | 392/932 [03:43<03:59,  2.26file/s]"
     ]
    },
    {
     "name": "stdout",
     "output_type": "stream",
     "text": [
      "van\n",
      "Vehicle Prediction: van\n",
      "Validation Result: True\n"
     ]
    },
    {
     "name": "stderr",
     "output_type": "stream",
     "text": [
      "Processing: van:  42%|████▏     | 393/932 [03:43<03:58,  2.26file/s]"
     ]
    },
    {
     "name": "stdout",
     "output_type": "stream",
     "text": [
      "van\n",
      "Vehicle Prediction: van\n",
      "Validation Result: True\n"
     ]
    },
    {
     "name": "stderr",
     "output_type": "stream",
     "text": [
      "Processing: van:  42%|████▏     | 394/932 [03:44<03:59,  2.25file/s]"
     ]
    },
    {
     "name": "stdout",
     "output_type": "stream",
     "text": [
      "van\n",
      "Vehicle Prediction: van\n",
      "Validation Result: True\n"
     ]
    },
    {
     "name": "stderr",
     "output_type": "stream",
     "text": [
      "Processing: van:  42%|████▏     | 395/932 [03:44<04:16,  2.09file/s]"
     ]
    },
    {
     "name": "stdout",
     "output_type": "stream",
     "text": [
      "van\n",
      "Vehicle Prediction: van\n",
      "Validation Result: True\n"
     ]
    },
    {
     "name": "stderr",
     "output_type": "stream",
     "text": [
      "Processing: van:  42%|████▏     | 396/932 [03:45<04:24,  2.03file/s]"
     ]
    },
    {
     "name": "stdout",
     "output_type": "stream",
     "text": [
      "van\n",
      "Vehicle Prediction: van\n",
      "Validation Result: True\n"
     ]
    },
    {
     "name": "stderr",
     "output_type": "stream",
     "text": [
      "Processing: van:  43%|████▎     | 397/932 [03:45<04:30,  1.98file/s]"
     ]
    },
    {
     "name": "stdout",
     "output_type": "stream",
     "text": [
      "van\n",
      "Vehicle Prediction: van\n",
      "Validation Result: True\n"
     ]
    },
    {
     "name": "stderr",
     "output_type": "stream",
     "text": [
      "Processing: van:  43%|████▎     | 398/932 [03:46<04:36,  1.93file/s]"
     ]
    },
    {
     "name": "stdout",
     "output_type": "stream",
     "text": [
      "van\n",
      "Vehicle Prediction: van\n",
      "Validation Result: True\n"
     ]
    },
    {
     "name": "stderr",
     "output_type": "stream",
     "text": [
      "Processing: van:  43%|████▎     | 399/932 [03:46<04:22,  2.03file/s]"
     ]
    },
    {
     "name": "stdout",
     "output_type": "stream",
     "text": [
      "van\n",
      "Vehicle Prediction: van\n",
      "Validation Result: True\n"
     ]
    },
    {
     "name": "stderr",
     "output_type": "stream",
     "text": [
      "Processing: bus 2:  43%|████▎     | 400/932 [03:47<04:28,  1.98file/s]"
     ]
    },
    {
     "name": "stdout",
     "output_type": "stream",
     "text": [
      "van\n",
      "Vehicle Prediction: van\n",
      "Validation Result: True\n"
     ]
    },
    {
     "name": "stderr",
     "output_type": "stream",
     "text": [
      "Processing: bus 2:  43%|████▎     | 401/932 [03:48<04:34,  1.93file/s]"
     ]
    },
    {
     "name": "stdout",
     "output_type": "stream",
     "text": [
      "bus\n",
      "Vehicle Prediction: bus\n",
      "Validation Result: True\n"
     ]
    },
    {
     "name": "stderr",
     "output_type": "stream",
     "text": [
      "Processing: bus 2:  43%|████▎     | 402/932 [03:48<04:44,  1.86file/s]"
     ]
    },
    {
     "name": "stdout",
     "output_type": "stream",
     "text": [
      "bus\n",
      "Vehicle Prediction: bus\n",
      "Validation Result: True\n"
     ]
    },
    {
     "name": "stderr",
     "output_type": "stream",
     "text": [
      "Processing: bus 2:  43%|████▎     | 403/932 [03:49<04:48,  1.83file/s]"
     ]
    },
    {
     "name": "stdout",
     "output_type": "stream",
     "text": [
      "bus\n",
      "Vehicle Prediction: bus\n",
      "Validation Result: True\n"
     ]
    },
    {
     "name": "stderr",
     "output_type": "stream",
     "text": [
      "[codecarbon INFO @ 14:49:10] Energy consumed for RAM : 0.011777 kWh. RAM Power : 188.80178117752075 W\n",
      "[codecarbon INFO @ 14:49:10] Energy consumed for all CPUs : 0.006238 kWh. Total CPU Power : 100.0 W\n",
      "[codecarbon INFO @ 14:49:10] Energy consumed for all GPUs : 0.017989 kWh. Total GPU Power : 281.0327510357719 W\n",
      "[codecarbon INFO @ 14:49:10] 0.036004 kWh of electricity used since the beginning.\n",
      "Processing: bus 2:  43%|████▎     | 404/932 [03:49<04:47,  1.83file/s]"
     ]
    },
    {
     "name": "stdout",
     "output_type": "stream",
     "text": [
      "bus\n",
      "Vehicle Prediction: bus\n",
      "Validation Result: True\n"
     ]
    },
    {
     "name": "stderr",
     "output_type": "stream",
     "text": [
      "Processing: bus 2:  43%|████▎     | 405/932 [03:50<04:54,  1.79file/s]"
     ]
    },
    {
     "name": "stdout",
     "output_type": "stream",
     "text": [
      "bus\n",
      "Vehicle Prediction: bus\n",
      "Validation Result: True\n"
     ]
    },
    {
     "name": "stderr",
     "output_type": "stream",
     "text": [
      "Processing: bus 2:  44%|████▎     | 406/932 [03:50<04:58,  1.76file/s]"
     ]
    },
    {
     "name": "stdout",
     "output_type": "stream",
     "text": [
      "bus\n",
      "Vehicle Prediction: bus\n",
      "Validation Result: True\n"
     ]
    },
    {
     "name": "stderr",
     "output_type": "stream",
     "text": [
      "Processing: bus 2:  44%|████▎     | 407/932 [03:51<04:53,  1.79file/s]"
     ]
    },
    {
     "name": "stdout",
     "output_type": "stream",
     "text": [
      "bus\n",
      "Vehicle Prediction: bus\n",
      "Validation Result: True\n"
     ]
    },
    {
     "name": "stderr",
     "output_type": "stream",
     "text": [
      "Processing: bus 2:  44%|████▍     | 408/932 [03:51<04:34,  1.91file/s]"
     ]
    },
    {
     "name": "stdout",
     "output_type": "stream",
     "text": [
      "bus\n",
      "Vehicle Prediction: bus\n",
      "Validation Result: True\n"
     ]
    },
    {
     "name": "stderr",
     "output_type": "stream",
     "text": [
      "Processing: bus 2:  44%|████▍     | 409/932 [03:52<04:41,  1.86file/s]"
     ]
    },
    {
     "name": "stdout",
     "output_type": "stream",
     "text": [
      "bus\n",
      "Vehicle Prediction: bus\n",
      "Validation Result: True\n"
     ]
    },
    {
     "name": "stderr",
     "output_type": "stream",
     "text": [
      "Processing: bus 2:  44%|████▍     | 410/932 [03:53<04:46,  1.82file/s]"
     ]
    },
    {
     "name": "stdout",
     "output_type": "stream",
     "text": [
      "bus\n",
      "Vehicle Prediction: bus\n",
      "Validation Result: True\n"
     ]
    },
    {
     "name": "stderr",
     "output_type": "stream",
     "text": [
      "Processing: bus 2:  44%|████▍     | 411/932 [03:53<04:51,  1.79file/s]"
     ]
    },
    {
     "name": "stdout",
     "output_type": "stream",
     "text": [
      "minivan\n",
      "Vehicle Prediction: minivan\n",
      "Validation Result: False\n"
     ]
    },
    {
     "name": "stderr",
     "output_type": "stream",
     "text": [
      "Processing: bus 2:  44%|████▍     | 412/932 [03:54<04:53,  1.77file/s]"
     ]
    },
    {
     "name": "stdout",
     "output_type": "stream",
     "text": [
      "bus\n",
      "Vehicle Prediction: bus\n",
      "Validation Result: True\n"
     ]
    },
    {
     "name": "stderr",
     "output_type": "stream",
     "text": [
      "Processing: bus 2:  44%|████▍     | 413/932 [03:54<04:54,  1.76file/s]"
     ]
    },
    {
     "name": "stdout",
     "output_type": "stream",
     "text": [
      "bus\n",
      "Vehicle Prediction: bus\n",
      "Validation Result: True\n"
     ]
    },
    {
     "name": "stderr",
     "output_type": "stream",
     "text": [
      "Processing: bus 2:  44%|████▍     | 414/932 [03:55<04:58,  1.73file/s]"
     ]
    },
    {
     "name": "stdout",
     "output_type": "stream",
     "text": [
      "bus\n",
      "Vehicle Prediction: bus\n",
      "Validation Result: True\n"
     ]
    },
    {
     "name": "stderr",
     "output_type": "stream",
     "text": [
      "Processing: bus 2:  45%|████▍     | 415/932 [03:55<04:56,  1.74file/s]"
     ]
    },
    {
     "name": "stdout",
     "output_type": "stream",
     "text": [
      "bus\n",
      "Vehicle Prediction: bus\n",
      "Validation Result: True\n"
     ]
    },
    {
     "name": "stderr",
     "output_type": "stream",
     "text": [
      "Processing: bus 2:  45%|████▍     | 416/932 [03:56<05:08,  1.68file/s]"
     ]
    },
    {
     "name": "stdout",
     "output_type": "stream",
     "text": [
      "bus\n",
      "Vehicle Prediction: bus\n",
      "Validation Result: True\n"
     ]
    },
    {
     "name": "stderr",
     "output_type": "stream",
     "text": [
      "Processing: bus 2:  45%|████▍     | 417/932 [03:57<05:04,  1.69file/s]"
     ]
    },
    {
     "name": "stdout",
     "output_type": "stream",
     "text": [
      "bus\n",
      "Vehicle Prediction: bus\n",
      "Validation Result: True\n"
     ]
    },
    {
     "name": "stderr",
     "output_type": "stream",
     "text": [
      "Processing: bus 2:  45%|████▍     | 418/932 [03:57<04:59,  1.71file/s]"
     ]
    },
    {
     "name": "stdout",
     "output_type": "stream",
     "text": [
      "bus\n",
      "Vehicle Prediction: bus\n",
      "Validation Result: True\n"
     ]
    },
    {
     "name": "stderr",
     "output_type": "stream",
     "text": [
      "Processing: bus 2:  45%|████▍     | 419/932 [03:58<04:56,  1.73file/s]"
     ]
    },
    {
     "name": "stdout",
     "output_type": "stream",
     "text": [
      "bus\n",
      "Vehicle Prediction: bus\n",
      "Validation Result: True\n"
     ]
    },
    {
     "name": "stderr",
     "output_type": "stream",
     "text": [
      "Processing: bus 2:  45%|████▌     | 420/932 [03:58<04:54,  1.74file/s]"
     ]
    },
    {
     "name": "stdout",
     "output_type": "stream",
     "text": [
      "bus\n",
      "Vehicle Prediction: bus\n",
      "Validation Result: True\n"
     ]
    },
    {
     "name": "stderr",
     "output_type": "stream",
     "text": [
      "Processing: bus 2:  45%|████▌     | 421/932 [03:59<04:46,  1.78file/s]"
     ]
    },
    {
     "name": "stdout",
     "output_type": "stream",
     "text": [
      "bus\n",
      "Vehicle Prediction: bus\n",
      "Validation Result: True\n"
     ]
    },
    {
     "name": "stderr",
     "output_type": "stream",
     "text": [
      "Processing: bus 2:  45%|████▌     | 422/932 [03:59<04:23,  1.93file/s]"
     ]
    },
    {
     "name": "stdout",
     "output_type": "stream",
     "text": [
      "bus\n",
      "Vehicle Prediction: bus\n",
      "Validation Result: True\n"
     ]
    },
    {
     "name": "stderr",
     "output_type": "stream",
     "text": [
      "Processing: bus 2:  45%|████▌     | 423/932 [04:00<04:09,  2.04file/s]"
     ]
    },
    {
     "name": "stdout",
     "output_type": "stream",
     "text": [
      "bus\n",
      "Vehicle Prediction: bus\n",
      "Validation Result: True\n"
     ]
    },
    {
     "name": "stderr",
     "output_type": "stream",
     "text": [
      "Processing: bus 2:  45%|████▌     | 424/932 [04:00<04:00,  2.11file/s]"
     ]
    },
    {
     "name": "stdout",
     "output_type": "stream",
     "text": [
      "bus\n",
      "Vehicle Prediction: bus\n",
      "Validation Result: True\n"
     ]
    },
    {
     "name": "stderr",
     "output_type": "stream",
     "text": [
      "Processing: bus 2:  46%|████▌     | 425/932 [04:01<04:11,  2.02file/s]"
     ]
    },
    {
     "name": "stdout",
     "output_type": "stream",
     "text": [
      "bus\n",
      "Vehicle Prediction: bus\n",
      "Validation Result: True\n"
     ]
    },
    {
     "name": "stderr",
     "output_type": "stream",
     "text": [
      "Processing: bus 2:  46%|████▌     | 426/932 [04:01<03:59,  2.11file/s]"
     ]
    },
    {
     "name": "stdout",
     "output_type": "stream",
     "text": [
      "bus\n",
      "Vehicle Prediction: bus\n",
      "Validation Result: True\n"
     ]
    },
    {
     "name": "stderr",
     "output_type": "stream",
     "text": [
      "Processing: bus 2:  46%|████▌     | 427/932 [04:02<04:06,  2.05file/s]"
     ]
    },
    {
     "name": "stdout",
     "output_type": "stream",
     "text": [
      "bus\n",
      "Vehicle Prediction: bus\n",
      "Validation Result: True\n"
     ]
    },
    {
     "name": "stderr",
     "output_type": "stream",
     "text": [
      "Processing: bus 2:  46%|████▌     | 428/932 [04:02<04:13,  1.99file/s]"
     ]
    },
    {
     "name": "stdout",
     "output_type": "stream",
     "text": [
      "bus\n",
      "Vehicle Prediction: bus\n",
      "Validation Result: True\n"
     ]
    },
    {
     "name": "stderr",
     "output_type": "stream",
     "text": [
      "Processing: bus 2:  46%|████▌     | 429/932 [04:03<04:01,  2.08file/s]"
     ]
    },
    {
     "name": "stdout",
     "output_type": "stream",
     "text": [
      "bus\n",
      "Vehicle Prediction: bus\n",
      "Validation Result: True\n"
     ]
    },
    {
     "name": "stderr",
     "output_type": "stream",
     "text": [
      "Processing: bus 2:  46%|████▌     | 430/932 [04:03<04:08,  2.02file/s]"
     ]
    },
    {
     "name": "stdout",
     "output_type": "stream",
     "text": [
      "bus\n",
      "Vehicle Prediction: bus\n",
      "Validation Result: True\n"
     ]
    },
    {
     "name": "stderr",
     "output_type": "stream",
     "text": [
      "Processing: bus 2:  46%|████▌     | 431/932 [04:04<04:14,  1.97file/s]"
     ]
    },
    {
     "name": "stdout",
     "output_type": "stream",
     "text": [
      "bus\n",
      "Vehicle Prediction: bus\n",
      "Validation Result: True\n"
     ]
    },
    {
     "name": "stderr",
     "output_type": "stream",
     "text": [
      "[codecarbon INFO @ 14:49:25] Energy consumed for RAM : 0.012563 kWh. RAM Power : 188.80178117752075 W\n",
      "[codecarbon INFO @ 14:49:25] Energy consumed for all CPUs : 0.006655 kWh. Total CPU Power : 100.0 W\n",
      "[codecarbon INFO @ 14:49:25] Energy consumed for all GPUs : 0.019187 kWh. Total GPU Power : 287.6901825155722 W\n",
      "[codecarbon INFO @ 14:49:25] 0.038405 kWh of electricity used since the beginning.\n",
      "[codecarbon INFO @ 14:49:25] 0.071239 g.CO2eq/s mean an estimation of 2,246.599476023724 kg.CO2eq/year\n",
      "Processing: bus 2:  46%|████▋     | 432/932 [04:04<04:21,  1.91file/s]"
     ]
    },
    {
     "name": "stdout",
     "output_type": "stream",
     "text": [
      "bus\n",
      "Vehicle Prediction: bus\n",
      "Validation Result: True\n"
     ]
    },
    {
     "name": "stderr",
     "output_type": "stream",
     "text": [
      "Processing: bus 2:  46%|████▋     | 433/932 [04:05<04:06,  2.02file/s]"
     ]
    },
    {
     "name": "stdout",
     "output_type": "stream",
     "text": [
      "bus\n",
      "Vehicle Prediction: bus\n",
      "Validation Result: True\n"
     ]
    },
    {
     "name": "stderr",
     "output_type": "stream",
     "text": [
      "Processing: bus 2:  47%|████▋     | 434/932 [04:05<04:14,  1.96file/s]"
     ]
    },
    {
     "name": "stdout",
     "output_type": "stream",
     "text": [
      "bus\n",
      "Vehicle Prediction: bus\n",
      "Validation Result: True\n"
     ]
    },
    {
     "name": "stderr",
     "output_type": "stream",
     "text": [
      "Processing: bus 2:  47%|████▋     | 435/932 [04:06<04:00,  2.07file/s]"
     ]
    },
    {
     "name": "stdout",
     "output_type": "stream",
     "text": [
      "bus\n",
      "Vehicle Prediction: bus\n",
      "Validation Result: True\n"
     ]
    },
    {
     "name": "stderr",
     "output_type": "stream",
     "text": [
      "Processing: bus 2:  47%|████▋     | 436/932 [04:06<04:08,  2.00file/s]"
     ]
    },
    {
     "name": "stdout",
     "output_type": "stream",
     "text": [
      "bus\n",
      "Vehicle Prediction: bus\n",
      "Validation Result: True\n"
     ]
    },
    {
     "name": "stderr",
     "output_type": "stream",
     "text": [
      "Processing: bus 2:  47%|████▋     | 437/932 [04:07<04:13,  1.95file/s]"
     ]
    },
    {
     "name": "stdout",
     "output_type": "stream",
     "text": [
      "bus\n",
      "Vehicle Prediction: bus\n",
      "Validation Result: True\n"
     ]
    },
    {
     "name": "stderr",
     "output_type": "stream",
     "text": [
      "Processing: bus 2:  47%|████▋     | 438/932 [04:07<04:16,  1.93file/s]"
     ]
    },
    {
     "name": "stdout",
     "output_type": "stream",
     "text": [
      "bus\n",
      "Vehicle Prediction: bus\n",
      "Validation Result: True\n"
     ]
    },
    {
     "name": "stderr",
     "output_type": "stream",
     "text": [
      "Processing: bus 2:  47%|████▋     | 439/932 [04:08<04:17,  1.91file/s]"
     ]
    },
    {
     "name": "stdout",
     "output_type": "stream",
     "text": [
      "bus\n",
      "Vehicle Prediction: bus\n",
      "Validation Result: True\n"
     ]
    },
    {
     "name": "stderr",
     "output_type": "stream",
     "text": [
      "Processing: bus 2:  47%|████▋     | 440/932 [04:08<04:21,  1.88file/s]"
     ]
    },
    {
     "name": "stdout",
     "output_type": "stream",
     "text": [
      "bus\n",
      "Vehicle Prediction: bus\n",
      "Validation Result: True\n"
     ]
    },
    {
     "name": "stderr",
     "output_type": "stream",
     "text": [
      "Processing: bus 2:  47%|████▋     | 441/932 [04:09<04:23,  1.86file/s]"
     ]
    },
    {
     "name": "stdout",
     "output_type": "stream",
     "text": [
      "bus\n",
      "Vehicle Prediction: bus\n",
      "Validation Result: True\n"
     ]
    },
    {
     "name": "stderr",
     "output_type": "stream",
     "text": [
      "Processing: truck 2:  47%|████▋     | 442/932 [04:09<04:05,  1.99file/s]"
     ]
    },
    {
     "name": "stdout",
     "output_type": "stream",
     "text": [
      "bus\n",
      "Vehicle Prediction: bus\n",
      "Validation Result: True\n"
     ]
    },
    {
     "name": "stderr",
     "output_type": "stream",
     "text": [
      "Processing: truck 2:  48%|████▊     | 443/932 [04:10<03:56,  2.07file/s]"
     ]
    },
    {
     "name": "stdout",
     "output_type": "stream",
     "text": [
      "dump tr\n",
      "Vehicle Prediction: dump tr\n",
      "Validation Result: False\n",
      "truck\n",
      "Vehicle Prediction: truck\n"
     ]
    },
    {
     "name": "stderr",
     "output_type": "stream",
     "text": [
      "Processing: truck 2:  48%|████▊     | 444/932 [04:11<04:43,  1.72file/s]"
     ]
    },
    {
     "name": "stdout",
     "output_type": "stream",
     "text": [
      "no\n",
      "Is Pickup Truck: no\n",
      "Validation Result: True\n"
     ]
    },
    {
     "name": "stderr",
     "output_type": "stream",
     "text": [
      "Processing: truck 2:  48%|████▊     | 445/932 [04:11<04:22,  1.86file/s]"
     ]
    },
    {
     "name": "stdout",
     "output_type": "stream",
     "text": [
      "dump tr\n",
      "Vehicle Prediction: dump tr\n",
      "Validation Result: False\n"
     ]
    },
    {
     "name": "stderr",
     "output_type": "stream",
     "text": [
      "Processing: truck 2:  48%|████▊     | 446/932 [04:11<04:05,  1.98file/s]"
     ]
    },
    {
     "name": "stdout",
     "output_type": "stream",
     "text": [
      "lorry\n",
      "Vehicle Prediction: lorry\n",
      "Validation Result: True\n"
     ]
    },
    {
     "name": "stderr",
     "output_type": "stream",
     "text": [
      "Processing: truck 2:  48%|████▊     | 447/932 [04:12<03:56,  2.05file/s]"
     ]
    },
    {
     "name": "stdout",
     "output_type": "stream",
     "text": [
      "dump tr\n",
      "Vehicle Prediction: dump tr\n",
      "Validation Result: False\n"
     ]
    },
    {
     "name": "stderr",
     "output_type": "stream",
     "text": [
      "Processing: truck 2:  48%|████▊     | 448/932 [04:12<03:55,  2.06file/s]"
     ]
    },
    {
     "name": "stdout",
     "output_type": "stream",
     "text": [
      "lorry\n",
      "Vehicle Prediction: lorry\n",
      "Validation Result: True\n",
      "truck\n",
      "Vehicle Prediction: truck\n"
     ]
    },
    {
     "name": "stderr",
     "output_type": "stream",
     "text": [
      "Processing: truck 2:  48%|████▊     | 449/932 [04:13<04:38,  1.73file/s]"
     ]
    },
    {
     "name": "stdout",
     "output_type": "stream",
     "text": [
      "no\n",
      "Is Pickup Truck: no\n",
      "Validation Result: True\n",
      "truck\n",
      "Vehicle Prediction: truck\n"
     ]
    },
    {
     "name": "stderr",
     "output_type": "stream",
     "text": [
      "Processing: truck 2:  48%|████▊     | 450/932 [04:14<05:45,  1.40file/s]"
     ]
    },
    {
     "name": "stdout",
     "output_type": "stream",
     "text": [
      "no\n",
      "Is Pickup Truck: no\n",
      "Validation Result: True\n",
      "truck\n",
      "Vehicle Prediction: truck\n"
     ]
    },
    {
     "name": "stderr",
     "output_type": "stream",
     "text": [
      "Processing: truck 2:  48%|████▊     | 451/932 [04:15<06:32,  1.23file/s]"
     ]
    },
    {
     "name": "stdout",
     "output_type": "stream",
     "text": [
      "no\n",
      "Is Pickup Truck: no\n",
      "Validation Result: True\n",
      "truck\n",
      "Vehicle Prediction: truck\n"
     ]
    },
    {
     "name": "stderr",
     "output_type": "stream",
     "text": [
      "Processing: truck 2:  48%|████▊     | 452/932 [04:16<07:02,  1.14file/s]"
     ]
    },
    {
     "name": "stdout",
     "output_type": "stream",
     "text": [
      "no\n",
      "Is Pickup Truck: no\n",
      "Validation Result: True\n"
     ]
    },
    {
     "name": "stderr",
     "output_type": "stream",
     "text": [
      "Processing: truck 2:  49%|████▊     | 453/932 [04:17<06:01,  1.33file/s]"
     ]
    },
    {
     "name": "stdout",
     "output_type": "stream",
     "text": [
      "tow\n",
      "Vehicle Prediction: tow\n",
      "Validation Result: False\n"
     ]
    },
    {
     "name": "stderr",
     "output_type": "stream",
     "text": [
      "Processing: truck 2:  49%|████▊     | 454/932 [04:17<05:14,  1.52file/s]"
     ]
    },
    {
     "name": "stdout",
     "output_type": "stream",
     "text": [
      "dump tr\n",
      "Vehicle Prediction: dump tr\n",
      "Validation Result: False\n"
     ]
    },
    {
     "name": "stderr",
     "output_type": "stream",
     "text": [
      "Processing: truck 2:  49%|████▉     | 455/932 [04:18<04:40,  1.70file/s]"
     ]
    },
    {
     "name": "stdout",
     "output_type": "stream",
     "text": [
      "pickup\n",
      "Vehicle Prediction: pickup\n",
      "Validation Result: False\n"
     ]
    },
    {
     "name": "stderr",
     "output_type": "stream",
     "text": [
      "Processing: truck 2:  49%|████▉     | 456/932 [04:18<04:17,  1.85file/s]"
     ]
    },
    {
     "name": "stdout",
     "output_type": "stream",
     "text": [
      "lorry\n",
      "Vehicle Prediction: lorry\n",
      "Validation Result: True\n",
      "truck\n",
      "Vehicle Prediction: truck\n"
     ]
    },
    {
     "name": "stderr",
     "output_type": "stream",
     "text": [
      "Processing: truck 2:  49%|████▉     | 457/932 [04:19<04:55,  1.61file/s][codecarbon INFO @ 14:49:40] Energy consumed for RAM : 0.013349 kWh. RAM Power : 188.80178117752075 W\n",
      "[codecarbon INFO @ 14:49:40] Energy consumed for all CPUs : 0.007072 kWh. Total CPU Power : 100.0 W\n",
      "[codecarbon INFO @ 14:49:40] Energy consumed for all GPUs : 0.020386 kWh. Total GPU Power : 287.6671499816451 W\n",
      "[codecarbon INFO @ 14:49:40] 0.040807 kWh of electricity used since the beginning.\n"
     ]
    },
    {
     "name": "stdout",
     "output_type": "stream",
     "text": [
      "no\n",
      "Is Pickup Truck: no\n",
      "Validation Result: True\n",
      "truck\n",
      "Vehicle Prediction: truck\n"
     ]
    },
    {
     "name": "stderr",
     "output_type": "stream",
     "text": [
      "Processing: truck 2:  49%|████▉     | 458/932 [04:20<05:58,  1.32file/s]"
     ]
    },
    {
     "name": "stdout",
     "output_type": "stream",
     "text": [
      "no\n",
      "Is Pickup Truck: no\n",
      "Validation Result: True\n",
      "truck\n",
      "Vehicle Prediction: truck\n"
     ]
    },
    {
     "name": "stderr",
     "output_type": "stream",
     "text": [
      "Processing: truck 2:  49%|████▉     | 459/932 [04:21<06:05,  1.29file/s]"
     ]
    },
    {
     "name": "stdout",
     "output_type": "stream",
     "text": [
      "no\n",
      "Is Pickup Truck: no\n",
      "Validation Result: True\n",
      "truck\n",
      "Vehicle Prediction: truck\n"
     ]
    },
    {
     "name": "stderr",
     "output_type": "stream",
     "text": [
      "Processing: truck 2:  49%|████▉     | 460/932 [04:22<06:32,  1.20file/s]"
     ]
    },
    {
     "name": "stdout",
     "output_type": "stream",
     "text": [
      "no\n",
      "Is Pickup Truck: no\n",
      "Validation Result: True\n",
      "truck\n",
      "Vehicle Prediction: truck\n"
     ]
    },
    {
     "name": "stderr",
     "output_type": "stream",
     "text": [
      "Processing: truck 2:  49%|████▉     | 461/932 [04:23<06:52,  1.14file/s]"
     ]
    },
    {
     "name": "stdout",
     "output_type": "stream",
     "text": [
      "no\n",
      "Is Pickup Truck: no\n",
      "Validation Result: True\n",
      "truck\n",
      "Vehicle Prediction: truck\n"
     ]
    },
    {
     "name": "stderr",
     "output_type": "stream",
     "text": [
      "Processing: truck 2:  50%|████▉     | 462/932 [04:23<06:42,  1.17file/s]"
     ]
    },
    {
     "name": "stdout",
     "output_type": "stream",
     "text": [
      "no\n",
      "Is Pickup Truck: no\n",
      "Validation Result: True\n"
     ]
    },
    {
     "name": "stderr",
     "output_type": "stream",
     "text": [
      "Processing: truck 2:  50%|████▉     | 463/932 [04:24<05:41,  1.37file/s]"
     ]
    },
    {
     "name": "stdout",
     "output_type": "stream",
     "text": [
      "pickup\n",
      "Vehicle Prediction: pickup\n",
      "Validation Result: False\n",
      "truck\n",
      "Vehicle Prediction: truck\n"
     ]
    },
    {
     "name": "stderr",
     "output_type": "stream",
     "text": [
      "Processing: truck 2:  50%|████▉     | 464/932 [04:25<05:53,  1.32file/s]"
     ]
    },
    {
     "name": "stdout",
     "output_type": "stream",
     "text": [
      "no\n",
      "Is Pickup Truck: no\n",
      "Validation Result: True\n"
     ]
    },
    {
     "name": "stderr",
     "output_type": "stream",
     "text": [
      "Processing: truck 2:  50%|████▉     | 465/932 [04:25<05:06,  1.52file/s]"
     ]
    },
    {
     "name": "stdout",
     "output_type": "stream",
     "text": [
      "dump tr\n",
      "Vehicle Prediction: dump tr\n",
      "Validation Result: False\n",
      "truck\n",
      "Vehicle Prediction: truck\n"
     ]
    },
    {
     "name": "stderr",
     "output_type": "stream",
     "text": [
      "Processing: truck 2:  50%|█████     | 466/932 [04:26<05:27,  1.42file/s]"
     ]
    },
    {
     "name": "stdout",
     "output_type": "stream",
     "text": [
      "no\n",
      "Is Pickup Truck: no\n",
      "Validation Result: True\n",
      "truck\n",
      "Vehicle Prediction: truck\n"
     ]
    },
    {
     "name": "stderr",
     "output_type": "stream",
     "text": [
      "Processing: truck 2:  50%|█████     | 467/932 [04:27<05:40,  1.37file/s]"
     ]
    },
    {
     "name": "stdout",
     "output_type": "stream",
     "text": [
      "no\n",
      "Is Pickup Truck: no\n",
      "Validation Result: True\n"
     ]
    },
    {
     "name": "stderr",
     "output_type": "stream",
     "text": [
      "Processing: truck 2:  50%|█████     | 468/932 [04:27<05:00,  1.55file/s]"
     ]
    },
    {
     "name": "stdout",
     "output_type": "stream",
     "text": [
      "lorry\n",
      "Vehicle Prediction: lorry\n",
      "Validation Result: True\n"
     ]
    },
    {
     "name": "stderr",
     "output_type": "stream",
     "text": [
      "Processing: truck 2:  50%|█████     | 469/932 [04:28<04:28,  1.72file/s]"
     ]
    },
    {
     "name": "stdout",
     "output_type": "stream",
     "text": [
      "dump tr\n",
      "Vehicle Prediction: dump tr\n",
      "Validation Result: False\n",
      "truck\n",
      "Vehicle Prediction: truck\n"
     ]
    },
    {
     "name": "stderr",
     "output_type": "stream",
     "text": [
      "Processing: truck 2:  50%|█████     | 470/932 [04:29<05:31,  1.40file/s]"
     ]
    },
    {
     "name": "stdout",
     "output_type": "stream",
     "text": [
      "no\n",
      "Is Pickup Truck: no\n",
      "Validation Result: True\n"
     ]
    },
    {
     "name": "stderr",
     "output_type": "stream",
     "text": [
      "Processing: truck 2:  51%|█████     | 471/932 [04:29<04:52,  1.57file/s]"
     ]
    },
    {
     "name": "stdout",
     "output_type": "stream",
     "text": [
      "dump tr\n",
      "Vehicle Prediction: dump tr\n",
      "Validation Result: False\n",
      "truck\n",
      "Vehicle Prediction: truck\n"
     ]
    },
    {
     "name": "stderr",
     "output_type": "stream",
     "text": [
      "Processing: truck 2:  51%|█████     | 472/932 [04:30<05:17,  1.45file/s]"
     ]
    },
    {
     "name": "stdout",
     "output_type": "stream",
     "text": [
      "no\n",
      "Is Pickup Truck: no\n",
      "Validation Result: True\n"
     ]
    },
    {
     "name": "stderr",
     "output_type": "stream",
     "text": [
      "Processing: truck 2:  51%|█████     | 473/932 [04:30<04:42,  1.63file/s]"
     ]
    },
    {
     "name": "stdout",
     "output_type": "stream",
     "text": [
      "dump tr\n",
      "Vehicle Prediction: dump tr\n",
      "Validation Result: False\n"
     ]
    },
    {
     "name": "stderr",
     "output_type": "stream",
     "text": [
      "Processing: truck 2:  51%|█████     | 474/932 [04:31<04:29,  1.70file/s]"
     ]
    },
    {
     "name": "stdout",
     "output_type": "stream",
     "text": [
      "lorry\n",
      "Vehicle Prediction: lorry\n",
      "Validation Result: True\n"
     ]
    },
    {
     "name": "stderr",
     "output_type": "stream",
     "text": [
      "Processing: truck 2:  51%|█████     | 475/932 [04:31<04:08,  1.84file/s]"
     ]
    },
    {
     "name": "stdout",
     "output_type": "stream",
     "text": [
      "dump tr\n",
      "Vehicle Prediction: dump tr\n",
      "Validation Result: False\n"
     ]
    },
    {
     "name": "stderr",
     "output_type": "stream",
     "text": [
      "Processing: truck 2:  51%|█████     | 476/932 [04:32<03:51,  1.97file/s]"
     ]
    },
    {
     "name": "stdout",
     "output_type": "stream",
     "text": [
      "dump tr\n",
      "Vehicle Prediction: dump tr\n",
      "Validation Result: False\n",
      "truck\n",
      "Vehicle Prediction: truck\n"
     ]
    },
    {
     "name": "stderr",
     "output_type": "stream",
     "text": [
      "Processing: truck 2:  51%|█████     | 477/932 [04:33<04:39,  1.63file/s]"
     ]
    },
    {
     "name": "stdout",
     "output_type": "stream",
     "text": [
      "no\n",
      "Is Pickup Truck: no\n",
      "Validation Result: True\n"
     ]
    },
    {
     "name": "stderr",
     "output_type": "stream",
     "text": [
      "Processing: truck 2:  51%|█████▏    | 478/932 [04:33<04:15,  1.78file/s]"
     ]
    },
    {
     "name": "stdout",
     "output_type": "stream",
     "text": [
      "dump tr\n",
      "Vehicle Prediction: dump tr\n",
      "Validation Result: False\n"
     ]
    },
    {
     "name": "stderr",
     "output_type": "stream",
     "text": [
      "Processing: truck 2:  51%|█████▏    | 479/932 [04:33<03:56,  1.91file/s]"
     ]
    },
    {
     "name": "stdout",
     "output_type": "stream",
     "text": [
      "lorry\n",
      "Vehicle Prediction: lorry\n",
      "Validation Result: True\n"
     ]
    },
    {
     "name": "stderr",
     "output_type": "stream",
     "text": [
      "Processing: truck 2:  52%|█████▏    | 480/932 [04:34<03:44,  2.02file/s][codecarbon INFO @ 14:49:55] Energy consumed for RAM : 0.014136 kWh. RAM Power : 188.80178117752075 W\n",
      "[codecarbon INFO @ 14:49:55] Energy consumed for all CPUs : 0.007488 kWh. Total CPU Power : 100.0 W\n",
      "[codecarbon INFO @ 14:49:55] Energy consumed for all GPUs : 0.021588 kWh. Total GPU Power : 288.61804565441435 W\n",
      "[codecarbon INFO @ 14:49:55] 0.043212 kWh of electricity used since the beginning.\n"
     ]
    },
    {
     "name": "stdout",
     "output_type": "stream",
     "text": [
      "lorry\n",
      "Vehicle Prediction: lorry\n",
      "Validation Result: True\n"
     ]
    },
    {
     "name": "stderr",
     "output_type": "stream",
     "text": [
      "Processing: truck 2:  52%|█████▏    | 481/932 [04:34<03:37,  2.07file/s]"
     ]
    },
    {
     "name": "stdout",
     "output_type": "stream",
     "text": [
      "lorry\n",
      "Vehicle Prediction: lorry\n",
      "Validation Result: True\n",
      "truck\n",
      "Vehicle Prediction: truck\n"
     ]
    },
    {
     "name": "stderr",
     "output_type": "stream",
     "text": [
      "Processing: truck 2:  52%|█████▏    | 482/932 [04:35<04:22,  1.72file/s]"
     ]
    },
    {
     "name": "stdout",
     "output_type": "stream",
     "text": [
      "no\n",
      "Is Pickup Truck: no\n",
      "Validation Result: True\n",
      "truck\n",
      "Vehicle Prediction: truck\n"
     ]
    },
    {
     "name": "stderr",
     "output_type": "stream",
     "text": [
      "Processing: truck 2:  52%|█████▏    | 483/932 [04:36<05:14,  1.43file/s]"
     ]
    },
    {
     "name": "stdout",
     "output_type": "stream",
     "text": [
      "no\n",
      "Is Pickup Truck: no\n",
      "Validation Result: True\n"
     ]
    },
    {
     "name": "stderr",
     "output_type": "stream",
     "text": [
      "Processing: truck 2:  52%|█████▏    | 484/932 [04:37<04:55,  1.52file/s]"
     ]
    },
    {
     "name": "stdout",
     "output_type": "stream",
     "text": [
      "lorry\n",
      "Vehicle Prediction: lorry\n",
      "Validation Result: True\n"
     ]
    },
    {
     "name": "stderr",
     "output_type": "stream",
     "text": [
      "Processing: truck 2:  52%|█████▏    | 485/932 [04:37<04:41,  1.59file/s]"
     ]
    },
    {
     "name": "stdout",
     "output_type": "stream",
     "text": [
      "lorry\n",
      "Vehicle Prediction: lorry\n",
      "Validation Result: True\n"
     ]
    },
    {
     "name": "stderr",
     "output_type": "stream",
     "text": [
      "Processing: truck 2:  52%|█████▏    | 486/932 [04:38<04:31,  1.64file/s]"
     ]
    },
    {
     "name": "stdout",
     "output_type": "stream",
     "text": [
      "lorry\n",
      "Vehicle Prediction: lorry\n",
      "Validation Result: True\n"
     ]
    },
    {
     "name": "stderr",
     "output_type": "stream",
     "text": [
      "Processing: truck 2:  52%|█████▏    | 487/932 [04:38<04:23,  1.69file/s]"
     ]
    },
    {
     "name": "stdout",
     "output_type": "stream",
     "text": [
      "lorry\n",
      "Vehicle Prediction: lorry\n",
      "Validation Result: True\n"
     ]
    },
    {
     "name": "stderr",
     "output_type": "stream",
     "text": [
      "Processing: truck 2:  52%|█████▏    | 488/932 [04:39<04:19,  1.71file/s]"
     ]
    },
    {
     "name": "stdout",
     "output_type": "stream",
     "text": [
      "lorry\n",
      "Vehicle Prediction: lorry\n",
      "Validation Result: True\n"
     ]
    },
    {
     "name": "stderr",
     "output_type": "stream",
     "text": [
      "Processing: truck 2:  52%|█████▏    | 489/932 [04:40<04:16,  1.73file/s]"
     ]
    },
    {
     "name": "stdout",
     "output_type": "stream",
     "text": [
      "lorry\n",
      "Vehicle Prediction: lorry\n",
      "Validation Result: True\n",
      "truck\n",
      "Vehicle Prediction: truck\n"
     ]
    },
    {
     "name": "stderr",
     "output_type": "stream",
     "text": [
      "Processing: truck 2:  53%|█████▎    | 490/932 [04:41<05:10,  1.42file/s]"
     ]
    },
    {
     "name": "stdout",
     "output_type": "stream",
     "text": [
      "no\n",
      "Is Pickup Truck: no\n",
      "Validation Result: True\n"
     ]
    },
    {
     "name": "stderr",
     "output_type": "stream",
     "text": [
      "Processing: truck 2:  53%|█████▎    | 491/932 [04:41<04:51,  1.51file/s]"
     ]
    },
    {
     "name": "stdout",
     "output_type": "stream",
     "text": [
      "lorry\n",
      "Vehicle Prediction: lorry\n",
      "Validation Result: True\n"
     ]
    },
    {
     "name": "stderr",
     "output_type": "stream",
     "text": [
      "Processing: truck 2:  53%|█████▎    | 492/932 [04:42<04:39,  1.57file/s]"
     ]
    },
    {
     "name": "stdout",
     "output_type": "stream",
     "text": [
      "dump tr\n",
      "Vehicle Prediction: dump tr\n",
      "Validation Result: False\n"
     ]
    },
    {
     "name": "stderr",
     "output_type": "stream",
     "text": [
      "Processing: truck 2:  53%|█████▎    | 493/932 [04:42<04:27,  1.64file/s]"
     ]
    },
    {
     "name": "stdout",
     "output_type": "stream",
     "text": [
      "tow\n",
      "Vehicle Prediction: tow\n",
      "Validation Result: False\n"
     ]
    },
    {
     "name": "stderr",
     "output_type": "stream",
     "text": [
      "Processing: truck 2:  53%|█████▎    | 494/932 [04:43<04:20,  1.68file/s]"
     ]
    },
    {
     "name": "stdout",
     "output_type": "stream",
     "text": [
      "lorry\n",
      "Vehicle Prediction: lorry\n",
      "Validation Result: True\n",
      "truck\n",
      "Vehicle Prediction: truck\n"
     ]
    },
    {
     "name": "stderr",
     "output_type": "stream",
     "text": [
      "Processing: truck 2:  53%|█████▎    | 495/932 [04:44<05:13,  1.39file/s]"
     ]
    },
    {
     "name": "stdout",
     "output_type": "stream",
     "text": [
      "no\n",
      "Is Pickup Truck: no\n",
      "Validation Result: True\n"
     ]
    },
    {
     "name": "stderr",
     "output_type": "stream",
     "text": [
      "Processing: truck 2:  53%|█████▎    | 496/932 [04:44<04:50,  1.50file/s]"
     ]
    },
    {
     "name": "stdout",
     "output_type": "stream",
     "text": [
      "lorry\n",
      "Vehicle Prediction: lorry\n",
      "Validation Result: True\n",
      "truck\n",
      "Vehicle Prediction: truck\n"
     ]
    },
    {
     "name": "stderr",
     "output_type": "stream",
     "text": [
      "Processing: truck 2:  53%|█████▎    | 497/932 [04:45<05:36,  1.29file/s]"
     ]
    },
    {
     "name": "stdout",
     "output_type": "stream",
     "text": [
      "no\n",
      "Is Pickup Truck: no\n",
      "Validation Result: True\n"
     ]
    },
    {
     "name": "stderr",
     "output_type": "stream",
     "text": [
      "Processing: truck 2:  53%|█████▎    | 498/932 [04:46<04:51,  1.49file/s]"
     ]
    },
    {
     "name": "stdout",
     "output_type": "stream",
     "text": [
      "lorry\n",
      "Vehicle Prediction: lorry\n",
      "Validation Result: True\n"
     ]
    },
    {
     "name": "stderr",
     "output_type": "stream",
     "text": [
      "Processing: truck 2:  54%|█████▎    | 499/932 [04:46<04:34,  1.58file/s]"
     ]
    },
    {
     "name": "stdout",
     "output_type": "stream",
     "text": [
      "dump tr\n",
      "Vehicle Prediction: dump tr\n",
      "Validation Result: False\n"
     ]
    },
    {
     "name": "stderr",
     "output_type": "stream",
     "text": [
      "Processing: truck 2:  54%|█████▎    | 500/932 [04:47<04:24,  1.63file/s]"
     ]
    },
    {
     "name": "stdout",
     "output_type": "stream",
     "text": [
      "lorry\n",
      "Vehicle Prediction: lorry\n",
      "Validation Result: True\n",
      "truck\n",
      "Vehicle Prediction: truck\n"
     ]
    },
    {
     "name": "stderr",
     "output_type": "stream",
     "text": [
      "Processing: truck 2:  54%|█████▍    | 501/932 [04:48<05:15,  1.36file/s]"
     ]
    },
    {
     "name": "stdout",
     "output_type": "stream",
     "text": [
      "no\n",
      "Is Pickup Truck: no\n",
      "Validation Result: True\n"
     ]
    },
    {
     "name": "stderr",
     "output_type": "stream",
     "text": [
      "Processing: truck 2:  54%|█████▍    | 502/932 [04:48<04:51,  1.48file/s]"
     ]
    },
    {
     "name": "stdout",
     "output_type": "stream",
     "text": [
      "lorry\n",
      "Vehicle Prediction: lorry\n",
      "Validation Result: True\n"
     ]
    },
    {
     "name": "stderr",
     "output_type": "stream",
     "text": [
      "[codecarbon INFO @ 14:50:10] Energy consumed for RAM : 0.014922 kWh. RAM Power : 188.80178117752075 W\n",
      "[codecarbon INFO @ 14:50:10] Energy consumed for all CPUs : 0.007905 kWh. Total CPU Power : 100.0 W\n",
      "[codecarbon INFO @ 14:50:10] Energy consumed for all GPUs : 0.022830 kWh. Total GPU Power : 298.17795626261915 W\n",
      "[codecarbon INFO @ 14:50:10] 0.045657 kWh of electricity used since the beginning.\n",
      "Processing: truck 2:  54%|█████▍    | 503/932 [04:49<04:35,  1.56file/s]"
     ]
    },
    {
     "name": "stdout",
     "output_type": "stream",
     "text": [
      "lorry\n",
      "Vehicle Prediction: lorry\n",
      "Validation Result: True\n",
      "truck\n",
      "Vehicle Prediction: truck\n"
     ]
    },
    {
     "name": "stderr",
     "output_type": "stream",
     "text": [
      "Processing: truck 2:  54%|█████▍    | 504/932 [04:50<05:25,  1.32file/s]"
     ]
    },
    {
     "name": "stdout",
     "output_type": "stream",
     "text": [
      "no\n",
      "Is Pickup Truck: no\n",
      "Validation Result: True\n"
     ]
    },
    {
     "name": "stderr",
     "output_type": "stream",
     "text": [
      "Processing: truck 2:  54%|█████▍    | 505/932 [04:51<04:58,  1.43file/s]"
     ]
    },
    {
     "name": "stdout",
     "output_type": "stream",
     "text": [
      "dump tr\n",
      "Vehicle Prediction: dump tr\n",
      "Validation Result: False\n"
     ]
    },
    {
     "name": "stderr",
     "output_type": "stream",
     "text": [
      "Processing: truck 2:  54%|█████▍    | 506/932 [04:51<04:22,  1.63file/s]"
     ]
    },
    {
     "name": "stdout",
     "output_type": "stream",
     "text": [
      "lorry\n",
      "Vehicle Prediction: lorry\n",
      "Validation Result: True\n"
     ]
    },
    {
     "name": "stderr",
     "output_type": "stream",
     "text": [
      "Processing: truck 2:  54%|█████▍    | 507/932 [04:52<04:16,  1.66file/s]"
     ]
    },
    {
     "name": "stdout",
     "output_type": "stream",
     "text": [
      "lorry\n",
      "Vehicle Prediction: lorry\n",
      "Validation Result: True\n"
     ]
    },
    {
     "name": "stderr",
     "output_type": "stream",
     "text": [
      "Processing: truck 2:  55%|█████▍    | 508/932 [04:52<03:53,  1.82file/s]"
     ]
    },
    {
     "name": "stdout",
     "output_type": "stream",
     "text": [
      "lorry\n",
      "Vehicle Prediction: lorry\n",
      "Validation Result: True\n"
     ]
    },
    {
     "name": "stderr",
     "output_type": "stream",
     "text": [
      "Processing: truck 2:  55%|█████▍    | 509/932 [04:52<03:35,  1.96file/s]"
     ]
    },
    {
     "name": "stdout",
     "output_type": "stream",
     "text": [
      "lorry\n",
      "Vehicle Prediction: lorry\n",
      "Validation Result: True\n"
     ]
    },
    {
     "name": "stderr",
     "output_type": "stream",
     "text": [
      "Processing: truck 2:  55%|█████▍    | 510/932 [04:53<03:43,  1.89file/s]"
     ]
    },
    {
     "name": "stdout",
     "output_type": "stream",
     "text": [
      "lorry\n",
      "Vehicle Prediction: lorry\n",
      "Validation Result: True\n",
      "truck\n",
      "Vehicle Prediction: truck\n"
     ]
    },
    {
     "name": "stderr",
     "output_type": "stream",
     "text": [
      "Processing: truck 2:  55%|█████▍    | 511/932 [04:54<04:45,  1.48file/s]"
     ]
    },
    {
     "name": "stdout",
     "output_type": "stream",
     "text": [
      "no\n",
      "Is Pickup Truck: no\n",
      "Validation Result: True\n"
     ]
    },
    {
     "name": "stderr",
     "output_type": "stream",
     "text": [
      "Processing: truck 2:  55%|█████▍    | 512/932 [04:55<04:27,  1.57file/s]"
     ]
    },
    {
     "name": "stdout",
     "output_type": "stream",
     "text": [
      "dump tr\n",
      "Vehicle Prediction: dump tr\n",
      "Validation Result: False\n"
     ]
    },
    {
     "name": "stderr",
     "output_type": "stream",
     "text": [
      "Processing: truck 2:  55%|█████▌    | 513/932 [04:55<04:16,  1.63file/s]"
     ]
    },
    {
     "name": "stdout",
     "output_type": "stream",
     "text": [
      "lorry\n",
      "Vehicle Prediction: lorry\n",
      "Validation Result: True\n",
      "truck\n",
      "Vehicle Prediction: truck\n"
     ]
    },
    {
     "name": "stderr",
     "output_type": "stream",
     "text": [
      "Processing: truck 2:  55%|█████▌    | 514/932 [04:56<04:40,  1.49file/s]"
     ]
    },
    {
     "name": "stdout",
     "output_type": "stream",
     "text": [
      "no\n",
      "Is Pickup Truck: no\n",
      "Validation Result: True\n"
     ]
    },
    {
     "name": "stderr",
     "output_type": "stream",
     "text": [
      "Processing: truck 2:  55%|█████▌    | 515/932 [04:56<04:09,  1.67file/s]"
     ]
    },
    {
     "name": "stdout",
     "output_type": "stream",
     "text": [
      "pickup\n",
      "Vehicle Prediction: pickup\n",
      "Validation Result: False\n",
      "truck\n",
      "Vehicle Prediction: truck\n"
     ]
    },
    {
     "name": "stderr",
     "output_type": "stream",
     "text": [
      "Processing: truck 2:  55%|█████▌    | 516/932 [04:57<04:33,  1.52file/s]"
     ]
    },
    {
     "name": "stdout",
     "output_type": "stream",
     "text": [
      "no\n",
      "Is Pickup Truck: no\n",
      "Validation Result: True\n",
      "truck\n",
      "Vehicle Prediction: truck\n"
     ]
    },
    {
     "name": "stderr",
     "output_type": "stream",
     "text": [
      "Processing: truck 2:  55%|█████▌    | 517/932 [04:58<04:54,  1.41file/s]"
     ]
    },
    {
     "name": "stdout",
     "output_type": "stream",
     "text": [
      "no\n",
      "Is Pickup Truck: no\n",
      "Validation Result: True\n",
      "truck\n",
      "Vehicle Prediction: truck\n"
     ]
    },
    {
     "name": "stderr",
     "output_type": "stream",
     "text": [
      "Processing: truck 2:  56%|█████▌    | 518/932 [04:59<05:22,  1.28file/s]"
     ]
    },
    {
     "name": "stdout",
     "output_type": "stream",
     "text": [
      "no\n",
      "Is Pickup Truck: no\n",
      "Validation Result: True\n",
      "truck\n",
      "Vehicle Prediction: truck\n"
     ]
    },
    {
     "name": "stderr",
     "output_type": "stream",
     "text": [
      "Processing: truck 2:  56%|█████▌    | 519/932 [05:00<05:51,  1.18file/s]"
     ]
    },
    {
     "name": "stdout",
     "output_type": "stream",
     "text": [
      "no\n",
      "Is Pickup Truck: no\n",
      "Validation Result: True\n"
     ]
    },
    {
     "name": "stderr",
     "output_type": "stream",
     "text": [
      "Processing: truck 2:  56%|█████▌    | 520/932 [05:00<05:02,  1.36file/s]"
     ]
    },
    {
     "name": "stdout",
     "output_type": "stream",
     "text": [
      "dump tr\n",
      "Vehicle Prediction: dump tr\n",
      "Validation Result: False\n",
      "truck\n",
      "Vehicle Prediction: truck\n"
     ]
    },
    {
     "name": "stderr",
     "output_type": "stream",
     "text": [
      "Processing: truck 2:  56%|█████▌    | 521/932 [05:01<05:36,  1.22file/s]"
     ]
    },
    {
     "name": "stdout",
     "output_type": "stream",
     "text": [
      "no\n",
      "Is Pickup Truck: no\n",
      "Validation Result: True\n",
      "truck\n",
      "Vehicle Prediction: truck\n"
     ]
    },
    {
     "name": "stderr",
     "output_type": "stream",
     "text": [
      "Processing: truck 2:  56%|█████▌    | 522/932 [05:02<05:38,  1.21file/s]"
     ]
    },
    {
     "name": "stdout",
     "output_type": "stream",
     "text": [
      "no\n",
      "Is Pickup Truck: no\n",
      "Validation Result: True\n"
     ]
    },
    {
     "name": "stderr",
     "output_type": "stream",
     "text": [
      "Processing: truck 2:  56%|█████▌    | 523/932 [05:03<04:48,  1.42file/s]"
     ]
    },
    {
     "name": "stdout",
     "output_type": "stream",
     "text": [
      "dump tr\n",
      "Vehicle Prediction: dump tr\n",
      "Validation Result: False\n",
      "truck\n",
      "Vehicle Prediction: truck\n"
     ]
    },
    {
     "name": "stderr",
     "output_type": "stream",
     "text": [
      "Processing: truck 2:  56%|█████▌    | 524/932 [05:04<04:59,  1.36file/s]"
     ]
    },
    {
     "name": "stdout",
     "output_type": "stream",
     "text": [
      "no\n",
      "Is Pickup Truck: no\n",
      "Validation Result: True\n"
     ]
    },
    {
     "name": "stderr",
     "output_type": "stream",
     "text": [
      "[codecarbon INFO @ 14:50:25] Energy consumed for RAM : 0.015709 kWh. RAM Power : 188.80178117752075 W\n",
      "[codecarbon INFO @ 14:50:25] Energy consumed for all CPUs : 0.008321 kWh. Total CPU Power : 100.0 W\n",
      "Processing: truck 2:  56%|█████▋    | 525/932 [05:04<04:35,  1.48file/s]"
     ]
    },
    {
     "name": "stdout",
     "output_type": "stream",
     "text": [
      "lorry\n",
      "Vehicle Prediction: lorry\n",
      "Validation Result: True\n"
     ]
    },
    {
     "name": "stderr",
     "output_type": "stream",
     "text": [
      "[codecarbon INFO @ 14:50:25] Energy consumed for all GPUs : 0.024069 kWh. Total GPU Power : 297.47291798752815 W\n",
      "[codecarbon INFO @ 14:50:25] 0.048099 kWh of electricity used since the beginning.\n",
      "Processing: truck 2:  56%|█████▋    | 526/932 [05:04<04:04,  1.66file/s]"
     ]
    },
    {
     "name": "stdout",
     "output_type": "stream",
     "text": [
      "dump tr\n",
      "Vehicle Prediction: dump tr\n",
      "Validation Result: False\n"
     ]
    },
    {
     "name": "stderr",
     "output_type": "stream",
     "text": [
      "Processing: truck 2:  57%|█████▋    | 527/932 [05:05<03:54,  1.73file/s]"
     ]
    },
    {
     "name": "stdout",
     "output_type": "stream",
     "text": [
      "tanker\n",
      "Vehicle Prediction: tanker\n",
      "Validation Result: True\n"
     ]
    },
    {
     "name": "stderr",
     "output_type": "stream",
     "text": [
      "Processing: truck 2:  57%|█████▋    | 528/932 [05:05<03:35,  1.88file/s]"
     ]
    },
    {
     "name": "stdout",
     "output_type": "stream",
     "text": [
      "lorry\n",
      "Vehicle Prediction: lorry\n",
      "Validation Result: True\n",
      "truck\n",
      "Vehicle Prediction: truck\n"
     ]
    },
    {
     "name": "stderr",
     "output_type": "stream",
     "text": [
      "Processing: truck 2:  57%|█████▋    | 529/932 [05:06<04:19,  1.55file/s]"
     ]
    },
    {
     "name": "stdout",
     "output_type": "stream",
     "text": [
      "no\n",
      "Is Pickup Truck: no\n",
      "Validation Result: True\n"
     ]
    },
    {
     "name": "stderr",
     "output_type": "stream",
     "text": [
      "Processing: truck 2:  57%|█████▋    | 530/932 [05:07<04:10,  1.61file/s]"
     ]
    },
    {
     "name": "stdout",
     "output_type": "stream",
     "text": [
      "dump tr\n",
      "Vehicle Prediction: dump tr\n",
      "Validation Result: False\n"
     ]
    },
    {
     "name": "stderr",
     "output_type": "stream",
     "text": [
      "Processing: truck 2:  57%|█████▋    | 531/932 [05:07<03:59,  1.68file/s]"
     ]
    },
    {
     "name": "stdout",
     "output_type": "stream",
     "text": [
      "lorry\n",
      "Vehicle Prediction: lorry\n",
      "Validation Result: True\n"
     ]
    },
    {
     "name": "stderr",
     "output_type": "stream",
     "text": [
      "Processing: truck 2:  57%|█████▋    | 532/932 [05:08<03:53,  1.71file/s]"
     ]
    },
    {
     "name": "stdout",
     "output_type": "stream",
     "text": [
      "dump tr\n",
      "Vehicle Prediction: dump tr\n",
      "Validation Result: False\n",
      "truck\n",
      "Vehicle Prediction: truck\n"
     ]
    },
    {
     "name": "stderr",
     "output_type": "stream",
     "text": [
      "Processing: truck 2:  57%|█████▋    | 533/932 [05:09<04:41,  1.42file/s]"
     ]
    },
    {
     "name": "stdout",
     "output_type": "stream",
     "text": [
      "no\n",
      "Is Pickup Truck: no\n",
      "Validation Result: True\n"
     ]
    },
    {
     "name": "stderr",
     "output_type": "stream",
     "text": [
      "Processing: truck 2:  57%|█████▋    | 534/932 [05:09<04:07,  1.60file/s]"
     ]
    },
    {
     "name": "stdout",
     "output_type": "stream",
     "text": [
      "lorry\n",
      "Vehicle Prediction: lorry\n",
      "Validation Result: True\n",
      "truck\n",
      "Vehicle Prediction: truck\n"
     ]
    },
    {
     "name": "stderr",
     "output_type": "stream",
     "text": [
      "Processing: truck 2:  57%|█████▋    | 535/932 [05:10<04:42,  1.40file/s]"
     ]
    },
    {
     "name": "stdout",
     "output_type": "stream",
     "text": [
      "no\n",
      "Is Pickup Truck: no\n",
      "Validation Result: True\n"
     ]
    },
    {
     "name": "stderr",
     "output_type": "stream",
     "text": [
      "Processing: truck 2:  58%|█████▊    | 536/932 [05:11<04:12,  1.57file/s]"
     ]
    },
    {
     "name": "stdout",
     "output_type": "stream",
     "text": [
      "dump tr\n",
      "Vehicle Prediction: dump tr\n",
      "Validation Result: False\n",
      "truck\n",
      "Vehicle Prediction: truck\n"
     ]
    },
    {
     "name": "stderr",
     "output_type": "stream",
     "text": [
      "Processing: truck 2:  58%|█████▊    | 537/932 [05:12<04:35,  1.43file/s]"
     ]
    },
    {
     "name": "stdout",
     "output_type": "stream",
     "text": [
      "no\n",
      "Is Pickup Truck: no\n",
      "Validation Result: True\n",
      "truck\n",
      "Vehicle Prediction: truck\n"
     ]
    },
    {
     "name": "stderr",
     "output_type": "stream",
     "text": [
      "Processing: truck 2:  58%|█████▊    | 538/932 [05:12<04:51,  1.35file/s]"
     ]
    },
    {
     "name": "stdout",
     "output_type": "stream",
     "text": [
      "no\n",
      "Is Pickup Truck: no\n",
      "Validation Result: True\n",
      "truck\n",
      "Vehicle Prediction: truck\n"
     ]
    },
    {
     "name": "stderr",
     "output_type": "stream",
     "text": [
      "Processing: truck 2:  58%|█████▊    | 539/932 [05:14<05:24,  1.21file/s]"
     ]
    },
    {
     "name": "stdout",
     "output_type": "stream",
     "text": [
      "no\n",
      "Is Pickup Truck: no\n",
      "Validation Result: True\n"
     ]
    },
    {
     "name": "stderr",
     "output_type": "stream",
     "text": [
      "Processing: truck 2:  58%|█████▊    | 540/932 [05:14<04:52,  1.34file/s]"
     ]
    },
    {
     "name": "stdout",
     "output_type": "stream",
     "text": [
      "lorry\n",
      "Vehicle Prediction: lorry\n",
      "Validation Result: True\n"
     ]
    },
    {
     "name": "stderr",
     "output_type": "stream",
     "text": [
      "Processing: truck 2:  58%|█████▊    | 541/932 [05:15<04:17,  1.52file/s]"
     ]
    },
    {
     "name": "stdout",
     "output_type": "stream",
     "text": [
      "dump tr\n",
      "Vehicle Prediction: dump tr\n",
      "Validation Result: False\n"
     ]
    },
    {
     "name": "stderr",
     "output_type": "stream",
     "text": [
      "Processing: truck 2:  58%|█████▊    | 542/932 [05:15<03:50,  1.70file/s]"
     ]
    },
    {
     "name": "stdout",
     "output_type": "stream",
     "text": [
      "lorry\n",
      "Vehicle Prediction: lorry\n",
      "Validation Result: True\n",
      "truck\n",
      "Vehicle Prediction: truck\n"
     ]
    },
    {
     "name": "stderr",
     "output_type": "stream",
     "text": [
      "Processing: bus 3:  58%|█████▊    | 543/932 [05:16<04:21,  1.49file/s]  "
     ]
    },
    {
     "name": "stdout",
     "output_type": "stream",
     "text": [
      "no\n",
      "Is Pickup Truck: no\n",
      "Validation Result: True\n"
     ]
    },
    {
     "name": "stderr",
     "output_type": "stream",
     "text": [
      "Processing: bus 3:  58%|█████▊    | 544/932 [05:16<04:06,  1.57file/s]"
     ]
    },
    {
     "name": "stdout",
     "output_type": "stream",
     "text": [
      "bus\n",
      "Vehicle Prediction: bus\n",
      "Validation Result: True\n"
     ]
    },
    {
     "name": "stderr",
     "output_type": "stream",
     "text": [
      "Processing: bus 3:  58%|█████▊    | 545/932 [05:17<03:45,  1.71file/s]"
     ]
    },
    {
     "name": "stdout",
     "output_type": "stream",
     "text": [
      "bus\n",
      "Vehicle Prediction: bus\n",
      "Validation Result: True\n"
     ]
    },
    {
     "name": "stderr",
     "output_type": "stream",
     "text": [
      "Processing: bus 3:  59%|█████▊    | 546/932 [05:17<03:44,  1.72file/s]"
     ]
    },
    {
     "name": "stdout",
     "output_type": "stream",
     "text": [
      "bus\n",
      "Vehicle Prediction: bus\n",
      "Validation Result: True\n"
     ]
    },
    {
     "name": "stderr",
     "output_type": "stream",
     "text": [
      "Processing: bus 3:  59%|█████▊    | 547/932 [05:18<03:27,  1.86file/s]"
     ]
    },
    {
     "name": "stdout",
     "output_type": "stream",
     "text": [
      "bus\n",
      "Vehicle Prediction: bus\n",
      "Validation Result: True\n"
     ]
    },
    {
     "name": "stderr",
     "output_type": "stream",
     "text": [
      "Processing: bus 3:  59%|█████▉    | 548/932 [05:18<03:28,  1.84file/s]"
     ]
    },
    {
     "name": "stdout",
     "output_type": "stream",
     "text": [
      "bus\n",
      "Vehicle Prediction: bus\n",
      "Validation Result: True\n"
     ]
    },
    {
     "name": "stderr",
     "output_type": "stream",
     "text": [
      "[codecarbon INFO @ 14:50:40] Energy consumed for RAM : 0.016477 kWh. RAM Power : 188.80178117752075 W\n",
      "[codecarbon INFO @ 14:50:40] Energy consumed for all CPUs : 0.008728 kWh. Total CPU Power : 100.0 W\n",
      "Processing: bus 3:  59%|█████▉    | 549/932 [05:19<03:32,  1.81file/s][codecarbon INFO @ 14:50:40] Energy consumed for all GPUs : 0.025221 kWh. Total GPU Power : 282.9701701180598 W\n",
      "[codecarbon INFO @ 14:50:40] 0.050427 kWh of electricity used since the beginning.\n"
     ]
    },
    {
     "name": "stdout",
     "output_type": "stream",
     "text": [
      "bus\n",
      "Vehicle Prediction: bus\n",
      "Validation Result: True\n"
     ]
    },
    {
     "name": "stderr",
     "output_type": "stream",
     "text": [
      "Processing: bus 3:  59%|█████▉    | 550/932 [05:20<03:31,  1.81file/s]"
     ]
    },
    {
     "name": "stdout",
     "output_type": "stream",
     "text": [
      "bus\n",
      "Vehicle Prediction: bus\n",
      "Validation Result: True\n"
     ]
    },
    {
     "name": "stderr",
     "output_type": "stream",
     "text": [
      "Processing: bus 3:  59%|█████▉    | 551/932 [05:20<03:32,  1.79file/s]"
     ]
    },
    {
     "name": "stdout",
     "output_type": "stream",
     "text": [
      "bus\n",
      "Vehicle Prediction: bus\n",
      "Validation Result: True\n"
     ]
    },
    {
     "name": "stderr",
     "output_type": "stream",
     "text": [
      "Processing: bus 3:  59%|█████▉    | 552/932 [05:21<03:34,  1.78file/s]"
     ]
    },
    {
     "name": "stdout",
     "output_type": "stream",
     "text": [
      "bus\n",
      "Vehicle Prediction: bus\n",
      "Validation Result: True\n"
     ]
    },
    {
     "name": "stderr",
     "output_type": "stream",
     "text": [
      "Processing: bus 3:  59%|█████▉    | 553/932 [05:21<03:31,  1.79file/s]"
     ]
    },
    {
     "name": "stdout",
     "output_type": "stream",
     "text": [
      "bus\n",
      "Vehicle Prediction: bus\n",
      "Validation Result: True\n"
     ]
    },
    {
     "name": "stderr",
     "output_type": "stream",
     "text": [
      "Processing: bus 3:  59%|█████▉    | 554/932 [05:22<03:36,  1.74file/s]"
     ]
    },
    {
     "name": "stdout",
     "output_type": "stream",
     "text": [
      "bus\n",
      "Vehicle Prediction: bus\n",
      "Validation Result: True\n"
     ]
    },
    {
     "name": "stderr",
     "output_type": "stream",
     "text": [
      "Processing: bus 3:  60%|█████▉    | 555/932 [05:22<03:37,  1.74file/s]"
     ]
    },
    {
     "name": "stdout",
     "output_type": "stream",
     "text": [
      "bus\n",
      "Vehicle Prediction: bus\n",
      "Validation Result: True\n"
     ]
    },
    {
     "name": "stderr",
     "output_type": "stream",
     "text": [
      "Processing: bus 3:  60%|█████▉    | 556/932 [05:23<03:21,  1.87file/s]"
     ]
    },
    {
     "name": "stdout",
     "output_type": "stream",
     "text": [
      "bus\n",
      "Vehicle Prediction: bus\n",
      "Validation Result: True\n"
     ]
    },
    {
     "name": "stderr",
     "output_type": "stream",
     "text": [
      "Processing: bus 3:  60%|█████▉    | 557/932 [05:23<03:13,  1.94file/s]"
     ]
    },
    {
     "name": "stdout",
     "output_type": "stream",
     "text": [
      "bus\n",
      "Vehicle Prediction: bus\n",
      "Validation Result: True\n"
     ]
    },
    {
     "name": "stderr",
     "output_type": "stream",
     "text": [
      "Processing: bus 3:  60%|█████▉    | 558/932 [05:24<03:04,  2.03file/s]"
     ]
    },
    {
     "name": "stdout",
     "output_type": "stream",
     "text": [
      "bus\n",
      "Vehicle Prediction: bus\n",
      "Validation Result: True\n"
     ]
    },
    {
     "name": "stderr",
     "output_type": "stream",
     "text": [
      "Processing: bus 3:  60%|█████▉    | 559/932 [05:24<02:58,  2.09file/s]"
     ]
    },
    {
     "name": "stdout",
     "output_type": "stream",
     "text": [
      "bus\n",
      "Vehicle Prediction: bus\n",
      "Validation Result: True\n"
     ]
    },
    {
     "name": "stderr",
     "output_type": "stream",
     "text": [
      "Processing: bus 3:  60%|██████    | 560/932 [05:25<03:16,  1.89file/s]"
     ]
    },
    {
     "name": "stdout",
     "output_type": "stream",
     "text": [
      "bus\n",
      "Vehicle Prediction: bus\n",
      "Validation Result: True\n"
     ]
    },
    {
     "name": "stderr",
     "output_type": "stream",
     "text": [
      "Processing: bus 3:  60%|██████    | 561/932 [05:25<03:06,  1.99file/s]"
     ]
    },
    {
     "name": "stdout",
     "output_type": "stream",
     "text": [
      "bus\n",
      "Vehicle Prediction: bus\n",
      "Validation Result: True\n"
     ]
    },
    {
     "name": "stderr",
     "output_type": "stream",
     "text": [
      "Processing: bus 3:  60%|██████    | 562/932 [05:26<02:58,  2.07file/s]"
     ]
    },
    {
     "name": "stdout",
     "output_type": "stream",
     "text": [
      "bus\n",
      "Vehicle Prediction: bus\n",
      "Validation Result: True\n"
     ]
    },
    {
     "name": "stderr",
     "output_type": "stream",
     "text": [
      "Processing: bus 3:  60%|██████    | 563/932 [05:26<02:52,  2.13file/s]"
     ]
    },
    {
     "name": "stdout",
     "output_type": "stream",
     "text": [
      "bus\n",
      "Vehicle Prediction: bus\n",
      "Validation Result: True\n"
     ]
    },
    {
     "name": "stderr",
     "output_type": "stream",
     "text": [
      "Processing: bus 3:  61%|██████    | 564/932 [05:27<02:49,  2.17file/s]"
     ]
    },
    {
     "name": "stdout",
     "output_type": "stream",
     "text": [
      "bus\n",
      "Vehicle Prediction: bus\n",
      "Validation Result: True\n"
     ]
    },
    {
     "name": "stderr",
     "output_type": "stream",
     "text": [
      "Processing: bus 3:  61%|██████    | 565/932 [05:27<02:46,  2.20file/s]"
     ]
    },
    {
     "name": "stdout",
     "output_type": "stream",
     "text": [
      "bus\n",
      "Vehicle Prediction: bus\n",
      "Validation Result: True\n"
     ]
    },
    {
     "name": "stderr",
     "output_type": "stream",
     "text": [
      "Processing: bus 3:  61%|██████    | 566/932 [05:28<02:56,  2.08file/s]"
     ]
    },
    {
     "name": "stdout",
     "output_type": "stream",
     "text": [
      "bus\n",
      "Vehicle Prediction: bus\n",
      "Validation Result: True\n"
     ]
    },
    {
     "name": "stderr",
     "output_type": "stream",
     "text": [
      "Processing: bus 3:  61%|██████    | 567/932 [05:28<03:00,  2.02file/s]"
     ]
    },
    {
     "name": "stdout",
     "output_type": "stream",
     "text": [
      "bus\n",
      "Vehicle Prediction: bus\n",
      "Validation Result: True\n"
     ]
    },
    {
     "name": "stderr",
     "output_type": "stream",
     "text": [
      "Processing: bus 3:  61%|██████    | 568/932 [05:29<02:56,  2.07file/s]"
     ]
    },
    {
     "name": "stdout",
     "output_type": "stream",
     "text": [
      "bus\n",
      "Vehicle Prediction: bus\n",
      "Validation Result: True\n"
     ]
    },
    {
     "name": "stderr",
     "output_type": "stream",
     "text": [
      "Processing: bus 3:  61%|██████    | 569/932 [05:29<02:50,  2.13file/s]"
     ]
    },
    {
     "name": "stdout",
     "output_type": "stream",
     "text": [
      "bus\n",
      "Vehicle Prediction: bus\n",
      "Validation Result: True\n"
     ]
    },
    {
     "name": "stderr",
     "output_type": "stream",
     "text": [
      "Processing: bus 3:  61%|██████    | 570/932 [05:30<03:01,  1.99file/s]"
     ]
    },
    {
     "name": "stdout",
     "output_type": "stream",
     "text": [
      "bus\n",
      "Vehicle Prediction: bus\n",
      "Validation Result: True\n"
     ]
    },
    {
     "name": "stderr",
     "output_type": "stream",
     "text": [
      "Processing: bus 3:  61%|██████▏   | 571/932 [05:30<02:52,  2.09file/s]"
     ]
    },
    {
     "name": "stdout",
     "output_type": "stream",
     "text": [
      "bus\n",
      "Vehicle Prediction: bus\n",
      "Validation Result: True\n"
     ]
    },
    {
     "name": "stderr",
     "output_type": "stream",
     "text": [
      "Processing: bus 3:  61%|██████▏   | 572/932 [05:30<02:46,  2.16file/s]"
     ]
    },
    {
     "name": "stdout",
     "output_type": "stream",
     "text": [
      "bus\n",
      "Vehicle Prediction: bus\n",
      "Validation Result: True\n"
     ]
    },
    {
     "name": "stderr",
     "output_type": "stream",
     "text": [
      "Processing: bus 3:  61%|██████▏   | 573/932 [05:31<02:55,  2.04file/s]"
     ]
    },
    {
     "name": "stdout",
     "output_type": "stream",
     "text": [
      "bus\n",
      "Vehicle Prediction: bus\n",
      "Validation Result: True\n"
     ]
    },
    {
     "name": "stderr",
     "output_type": "stream",
     "text": [
      "Processing: bus 3:  62%|██████▏   | 574/932 [05:31<02:49,  2.11file/s]"
     ]
    },
    {
     "name": "stdout",
     "output_type": "stream",
     "text": [
      "bus\n",
      "Vehicle Prediction: bus\n",
      "Validation Result: True\n"
     ]
    },
    {
     "name": "stderr",
     "output_type": "stream",
     "text": [
      "Processing: bus 3:  62%|██████▏   | 575/932 [05:32<02:45,  2.16file/s]"
     ]
    },
    {
     "name": "stdout",
     "output_type": "stream",
     "text": [
      "bus\n",
      "Vehicle Prediction: bus\n",
      "Validation Result: True\n"
     ]
    },
    {
     "name": "stderr",
     "output_type": "stream",
     "text": [
      "Processing: bus 3:  62%|██████▏   | 576/932 [05:32<02:51,  2.07file/s]"
     ]
    },
    {
     "name": "stdout",
     "output_type": "stream",
     "text": [
      "bus\n",
      "Vehicle Prediction: bus\n",
      "Validation Result: True\n"
     ]
    },
    {
     "name": "stderr",
     "output_type": "stream",
     "text": [
      "Processing: bus 3:  62%|██████▏   | 577/932 [05:33<03:39,  1.62file/s]"
     ]
    },
    {
     "name": "stdout",
     "output_type": "stream",
     "text": [
      "bus\n",
      "Vehicle Prediction: bus\n",
      "Validation Result: True\n"
     ]
    },
    {
     "name": "stderr",
     "output_type": "stream",
     "text": [
      "Processing: bus 3:  62%|██████▏   | 578/932 [05:34<03:33,  1.66file/s][codecarbon INFO @ 14:50:55] Energy consumed for RAM : 0.017260 kWh. RAM Power : 188.80178117752075 W\n",
      "[codecarbon INFO @ 14:50:55] Energy consumed for all CPUs : 0.009143 kWh. Total CPU Power : 100.0 W\n",
      "[codecarbon INFO @ 14:50:55] Energy consumed for all GPUs : 0.026361 kWh. Total GPU Power : 274.75123691115584 W\n",
      "[codecarbon INFO @ 14:50:55] 0.052763 kWh of electricity used since the beginning.\n"
     ]
    },
    {
     "name": "stdout",
     "output_type": "stream",
     "text": [
      "bus\n",
      "Vehicle Prediction: bus\n",
      "Validation Result: True\n"
     ]
    },
    {
     "name": "stderr",
     "output_type": "stream",
     "text": [
      "Processing: bus 3:  62%|██████▏   | 579/932 [05:34<03:15,  1.80file/s]"
     ]
    },
    {
     "name": "stdout",
     "output_type": "stream",
     "text": [
      "bus\n",
      "Vehicle Prediction: bus\n",
      "Validation Result: True\n"
     ]
    },
    {
     "name": "stderr",
     "output_type": "stream",
     "text": [
      "Processing: bus 3:  62%|██████▏   | 580/932 [05:35<03:03,  1.92file/s]"
     ]
    },
    {
     "name": "stdout",
     "output_type": "stream",
     "text": [
      "bus\n",
      "Vehicle Prediction: bus\n",
      "Validation Result: True\n"
     ]
    },
    {
     "name": "stderr",
     "output_type": "stream",
     "text": [
      "Processing: bus 3:  62%|██████▏   | 581/932 [05:35<02:55,  2.00file/s]"
     ]
    },
    {
     "name": "stdout",
     "output_type": "stream",
     "text": [
      "bus\n",
      "Vehicle Prediction: bus\n",
      "Validation Result: True\n"
     ]
    },
    {
     "name": "stderr",
     "output_type": "stream",
     "text": [
      "Processing: bus 3:  62%|██████▏   | 582/932 [05:36<03:04,  1.90file/s]"
     ]
    },
    {
     "name": "stdout",
     "output_type": "stream",
     "text": [
      "bus\n",
      "Vehicle Prediction: bus\n",
      "Validation Result: True\n"
     ]
    },
    {
     "name": "stderr",
     "output_type": "stream",
     "text": [
      "Processing: bus 3:  63%|██████▎   | 583/932 [05:36<03:04,  1.89file/s]"
     ]
    },
    {
     "name": "stdout",
     "output_type": "stream",
     "text": [
      "bus\n",
      "Vehicle Prediction: bus\n",
      "Validation Result: True\n"
     ]
    },
    {
     "name": "stderr",
     "output_type": "stream",
     "text": [
      "Processing: bus 3:  63%|██████▎   | 584/932 [05:37<02:57,  1.96file/s]"
     ]
    },
    {
     "name": "stdout",
     "output_type": "stream",
     "text": [
      "bus\n",
      "Vehicle Prediction: bus\n",
      "Validation Result: True\n"
     ]
    },
    {
     "name": "stderr",
     "output_type": "stream",
     "text": [
      "Processing: bus 3:  63%|██████▎   | 585/932 [05:37<02:52,  2.01file/s]"
     ]
    },
    {
     "name": "stdout",
     "output_type": "stream",
     "text": [
      "bus\n",
      "Vehicle Prediction: bus\n",
      "Validation Result: True\n"
     ]
    },
    {
     "name": "stderr",
     "output_type": "stream",
     "text": [
      "Processing: bus 3:  63%|██████▎   | 586/932 [05:38<02:59,  1.92file/s]"
     ]
    },
    {
     "name": "stdout",
     "output_type": "stream",
     "text": [
      "bus\n",
      "Vehicle Prediction: bus\n",
      "Validation Result: True\n"
     ]
    },
    {
     "name": "stderr",
     "output_type": "stream",
     "text": [
      "Processing: bus 3:  63%|██████▎   | 587/932 [05:38<02:50,  2.02file/s]"
     ]
    },
    {
     "name": "stdout",
     "output_type": "stream",
     "text": [
      "bus\n",
      "Vehicle Prediction: bus\n",
      "Validation Result: True\n"
     ]
    },
    {
     "name": "stderr",
     "output_type": "stream",
     "text": [
      "Processing: bus 3:  63%|██████▎   | 588/932 [05:39<02:43,  2.10file/s]"
     ]
    },
    {
     "name": "stdout",
     "output_type": "stream",
     "text": [
      "bus\n",
      "Vehicle Prediction: bus\n",
      "Validation Result: True\n"
     ]
    },
    {
     "name": "stderr",
     "output_type": "stream",
     "text": [
      "Processing: bus 3:  63%|██████▎   | 589/932 [05:39<02:50,  2.01file/s]"
     ]
    },
    {
     "name": "stdout",
     "output_type": "stream",
     "text": [
      "bus\n",
      "Vehicle Prediction: bus\n",
      "Validation Result: True\n"
     ]
    },
    {
     "name": "stderr",
     "output_type": "stream",
     "text": [
      "Processing: bus 3:  63%|██████▎   | 590/932 [05:40<02:57,  1.92file/s]"
     ]
    },
    {
     "name": "stdout",
     "output_type": "stream",
     "text": [
      "bus\n",
      "Vehicle Prediction: bus\n",
      "Validation Result: True\n"
     ]
    },
    {
     "name": "stderr",
     "output_type": "stream",
     "text": [
      "Processing: bus 3:  63%|██████▎   | 591/932 [05:40<03:05,  1.84file/s]"
     ]
    },
    {
     "name": "stdout",
     "output_type": "stream",
     "text": [
      "bus\n",
      "Vehicle Prediction: bus\n",
      "Validation Result: True\n"
     ]
    },
    {
     "name": "stderr",
     "output_type": "stream",
     "text": [
      "Processing: bus 3:  64%|██████▎   | 592/932 [05:41<03:04,  1.84file/s]"
     ]
    },
    {
     "name": "stdout",
     "output_type": "stream",
     "text": [
      "bus\n",
      "Vehicle Prediction: bus\n",
      "Validation Result: True\n"
     ]
    },
    {
     "name": "stderr",
     "output_type": "stream",
     "text": [
      "Processing: bus 3:  64%|██████▎   | 593/932 [05:42<03:03,  1.85file/s]"
     ]
    },
    {
     "name": "stdout",
     "output_type": "stream",
     "text": [
      "bus\n",
      "Vehicle Prediction: bus\n",
      "Validation Result: True\n"
     ]
    },
    {
     "name": "stderr",
     "output_type": "stream",
     "text": [
      "Processing: bus 3:  64%|██████▎   | 594/932 [05:42<03:02,  1.85file/s]"
     ]
    },
    {
     "name": "stdout",
     "output_type": "stream",
     "text": [
      "bus\n",
      "Vehicle Prediction: bus\n",
      "Validation Result: True\n"
     ]
    },
    {
     "name": "stderr",
     "output_type": "stream",
     "text": [
      "Processing: bus 3:  64%|██████▍   | 595/932 [05:42<02:50,  1.98file/s]"
     ]
    },
    {
     "name": "stdout",
     "output_type": "stream",
     "text": [
      "bus\n",
      "Vehicle Prediction: bus\n",
      "Validation Result: True\n"
     ]
    },
    {
     "name": "stderr",
     "output_type": "stream",
     "text": [
      "Processing: bus 3:  64%|██████▍   | 596/932 [05:43<02:41,  2.08file/s]"
     ]
    },
    {
     "name": "stdout",
     "output_type": "stream",
     "text": [
      "bus\n",
      "Vehicle Prediction: bus\n",
      "Validation Result: True\n"
     ]
    },
    {
     "name": "stderr",
     "output_type": "stream",
     "text": [
      "Processing: bus 3:  64%|██████▍   | 597/932 [05:43<02:34,  2.17file/s]"
     ]
    },
    {
     "name": "stdout",
     "output_type": "stream",
     "text": [
      "bus\n",
      "Vehicle Prediction: bus\n",
      "Validation Result: True\n"
     ]
    },
    {
     "name": "stderr",
     "output_type": "stream",
     "text": [
      "Processing: bus 3:  64%|██████▍   | 598/932 [05:44<02:44,  2.03file/s]"
     ]
    },
    {
     "name": "stdout",
     "output_type": "stream",
     "text": [
      "bus\n",
      "Vehicle Prediction: bus\n",
      "Validation Result: True\n"
     ]
    },
    {
     "name": "stderr",
     "output_type": "stream",
     "text": [
      "Processing: bus 3:  64%|██████▍   | 599/932 [05:44<02:51,  1.94file/s]"
     ]
    },
    {
     "name": "stdout",
     "output_type": "stream",
     "text": [
      "bus\n",
      "Vehicle Prediction: bus\n",
      "Validation Result: True\n"
     ]
    },
    {
     "name": "stderr",
     "output_type": "stream",
     "text": [
      "Processing: bus 3:  64%|██████▍   | 600/932 [05:45<02:51,  1.93file/s]"
     ]
    },
    {
     "name": "stdout",
     "output_type": "stream",
     "text": [
      "bus\n",
      "Vehicle Prediction: bus\n",
      "Validation Result: True\n"
     ]
    },
    {
     "name": "stderr",
     "output_type": "stream",
     "text": [
      "Processing: bus 3:  64%|██████▍   | 601/932 [05:45<02:41,  2.05file/s]"
     ]
    },
    {
     "name": "stdout",
     "output_type": "stream",
     "text": [
      "bus\n",
      "Vehicle Prediction: bus\n",
      "Validation Result: True\n"
     ]
    },
    {
     "name": "stderr",
     "output_type": "stream",
     "text": [
      "Processing: bus 3:  65%|██████▍   | 602/932 [05:46<02:34,  2.14file/s]"
     ]
    },
    {
     "name": "stdout",
     "output_type": "stream",
     "text": [
      "bus\n",
      "Vehicle Prediction: bus\n",
      "Validation Result: True\n"
     ]
    },
    {
     "name": "stderr",
     "output_type": "stream",
     "text": [
      "Processing: bus 3:  65%|██████▍   | 603/932 [05:46<02:29,  2.20file/s]"
     ]
    },
    {
     "name": "stdout",
     "output_type": "stream",
     "text": [
      "bus\n",
      "Vehicle Prediction: bus\n",
      "Validation Result: True\n"
     ]
    },
    {
     "name": "stderr",
     "output_type": "stream",
     "text": [
      "Processing: bus 3:  65%|██████▍   | 604/932 [05:47<02:38,  2.06file/s]"
     ]
    },
    {
     "name": "stdout",
     "output_type": "stream",
     "text": [
      "bus\n",
      "Vehicle Prediction: bus\n",
      "Validation Result: True\n"
     ]
    },
    {
     "name": "stderr",
     "output_type": "stream",
     "text": [
      "Processing: bus 3:  65%|██████▍   | 605/932 [05:47<02:46,  1.97file/s]"
     ]
    },
    {
     "name": "stdout",
     "output_type": "stream",
     "text": [
      "bus\n",
      "Vehicle Prediction: bus\n",
      "Validation Result: True\n"
     ]
    },
    {
     "name": "stderr",
     "output_type": "stream",
     "text": [
      "Processing: bus 3:  65%|██████▌   | 606/932 [05:48<02:37,  2.07file/s]"
     ]
    },
    {
     "name": "stdout",
     "output_type": "stream",
     "text": [
      "bus\n",
      "Vehicle Prediction: bus\n",
      "Validation Result: True\n"
     ]
    },
    {
     "name": "stderr",
     "output_type": "stream",
     "text": [
      "Processing: bus 3:  65%|██████▌   | 607/932 [05:48<02:44,  1.98file/s]"
     ]
    },
    {
     "name": "stdout",
     "output_type": "stream",
     "text": [
      "bus\n",
      "Vehicle Prediction: bus\n",
      "Validation Result: True\n"
     ]
    },
    {
     "name": "stderr",
     "output_type": "stream",
     "text": [
      "Processing: bus 3:  65%|██████▌   | 608/932 [05:49<02:37,  2.05file/s][codecarbon INFO @ 14:51:10] Energy consumed for RAM : 0.018046 kWh. RAM Power : 188.80178117752075 W\n",
      "[codecarbon INFO @ 14:51:10] Energy consumed for all CPUs : 0.009560 kWh. Total CPU Power : 100.0 W\n",
      "[codecarbon INFO @ 14:51:10] Energy consumed for all GPUs : 0.027536 kWh. Total GPU Power : 282.1205564262584 W\n",
      "[codecarbon INFO @ 14:51:10] 0.055141 kWh of electricity used since the beginning.\n"
     ]
    },
    {
     "name": "stdout",
     "output_type": "stream",
     "text": [
      "bus\n",
      "Vehicle Prediction: bus\n",
      "Validation Result: True\n"
     ]
    },
    {
     "name": "stderr",
     "output_type": "stream",
     "text": [
      "Processing: bus 3:  65%|██████▌   | 609/932 [05:49<02:32,  2.12file/s]"
     ]
    },
    {
     "name": "stdout",
     "output_type": "stream",
     "text": [
      "bus\n",
      "Vehicle Prediction: bus\n",
      "Validation Result: True\n"
     ]
    },
    {
     "name": "stderr",
     "output_type": "stream",
     "text": [
      "Processing: bus 3:  65%|██████▌   | 610/932 [05:50<02:27,  2.19file/s]"
     ]
    },
    {
     "name": "stdout",
     "output_type": "stream",
     "text": [
      "bus\n",
      "Vehicle Prediction: bus\n",
      "Validation Result: True\n"
     ]
    },
    {
     "name": "stderr",
     "output_type": "stream",
     "text": [
      "Processing: bus 3:  66%|██████▌   | 611/932 [05:50<02:22,  2.25file/s]"
     ]
    },
    {
     "name": "stdout",
     "output_type": "stream",
     "text": [
      "bus\n",
      "Vehicle Prediction: bus\n",
      "Validation Result: True\n"
     ]
    },
    {
     "name": "stderr",
     "output_type": "stream",
     "text": [
      "Processing: bus 3:  66%|██████▌   | 612/932 [05:51<02:22,  2.25file/s]"
     ]
    },
    {
     "name": "stdout",
     "output_type": "stream",
     "text": [
      "bus\n",
      "Vehicle Prediction: bus\n",
      "Validation Result: True\n"
     ]
    },
    {
     "name": "stderr",
     "output_type": "stream",
     "text": [
      "Processing: bus 3:  66%|██████▌   | 613/932 [05:51<02:33,  2.08file/s]"
     ]
    },
    {
     "name": "stdout",
     "output_type": "stream",
     "text": [
      "bus\n",
      "Vehicle Prediction: bus\n",
      "Validation Result: True\n"
     ]
    },
    {
     "name": "stderr",
     "output_type": "stream",
     "text": [
      "Processing: bus 3:  66%|██████▌   | 614/932 [05:52<02:27,  2.16file/s]"
     ]
    },
    {
     "name": "stdout",
     "output_type": "stream",
     "text": [
      "bus\n",
      "Vehicle Prediction: bus\n",
      "Validation Result: True\n"
     ]
    },
    {
     "name": "stderr",
     "output_type": "stream",
     "text": [
      "Processing: bus 3:  66%|██████▌   | 615/932 [05:52<02:36,  2.02file/s]"
     ]
    },
    {
     "name": "stdout",
     "output_type": "stream",
     "text": [
      "bus\n",
      "Vehicle Prediction: bus\n",
      "Validation Result: True\n"
     ]
    },
    {
     "name": "stderr",
     "output_type": "stream",
     "text": [
      "Processing: bus 3:  66%|██████▌   | 616/932 [05:53<02:40,  1.97file/s]"
     ]
    },
    {
     "name": "stdout",
     "output_type": "stream",
     "text": [
      "bus\n",
      "Vehicle Prediction: bus\n",
      "Validation Result: True\n"
     ]
    },
    {
     "name": "stderr",
     "output_type": "stream",
     "text": [
      "Processing: bus 3:  66%|██████▌   | 617/932 [05:53<02:33,  2.05file/s]"
     ]
    },
    {
     "name": "stdout",
     "output_type": "stream",
     "text": [
      "bus\n",
      "Vehicle Prediction: bus\n",
      "Validation Result: True\n"
     ]
    },
    {
     "name": "stderr",
     "output_type": "stream",
     "text": [
      "Processing: bus 3:  66%|██████▋   | 618/932 [05:53<02:27,  2.14file/s]"
     ]
    },
    {
     "name": "stdout",
     "output_type": "stream",
     "text": [
      "bus\n",
      "Vehicle Prediction: bus\n",
      "Validation Result: True\n"
     ]
    },
    {
     "name": "stderr",
     "output_type": "stream",
     "text": [
      "Processing: bus 3:  66%|██████▋   | 619/932 [05:54<02:35,  2.02file/s]"
     ]
    },
    {
     "name": "stdout",
     "output_type": "stream",
     "text": [
      "bus\n",
      "Vehicle Prediction: bus\n",
      "Validation Result: True\n"
     ]
    },
    {
     "name": "stderr",
     "output_type": "stream",
     "text": [
      "Processing: bus 3:  67%|██████▋   | 620/932 [05:54<02:27,  2.11file/s]"
     ]
    },
    {
     "name": "stdout",
     "output_type": "stream",
     "text": [
      "bus\n",
      "Vehicle Prediction: bus\n",
      "Validation Result: True\n"
     ]
    },
    {
     "name": "stderr",
     "output_type": "stream",
     "text": [
      "Processing: bus 3:  67%|██████▋   | 621/932 [05:55<02:38,  1.97file/s]"
     ]
    },
    {
     "name": "stdout",
     "output_type": "stream",
     "text": [
      "bus\n",
      "Vehicle Prediction: bus\n",
      "Validation Result: True\n"
     ]
    },
    {
     "name": "stderr",
     "output_type": "stream",
     "text": [
      "Processing: bus 3:  67%|██████▋   | 622/932 [05:55<02:28,  2.09file/s]"
     ]
    },
    {
     "name": "stdout",
     "output_type": "stream",
     "text": [
      "bus\n",
      "Vehicle Prediction: bus\n",
      "Validation Result: True\n"
     ]
    },
    {
     "name": "stderr",
     "output_type": "stream",
     "text": [
      "Processing: bus 3:  67%|██████▋   | 623/932 [05:56<02:31,  2.03file/s]"
     ]
    },
    {
     "name": "stdout",
     "output_type": "stream",
     "text": [
      "bus\n",
      "Vehicle Prediction: bus\n",
      "Validation Result: True\n"
     ]
    },
    {
     "name": "stderr",
     "output_type": "stream",
     "text": [
      "Processing: bus 3:  67%|██████▋   | 624/932 [05:57<02:38,  1.95file/s]"
     ]
    },
    {
     "name": "stdout",
     "output_type": "stream",
     "text": [
      "bus\n",
      "Vehicle Prediction: bus\n",
      "Validation Result: True\n"
     ]
    },
    {
     "name": "stderr",
     "output_type": "stream",
     "text": [
      "Processing: bus 3:  67%|██████▋   | 625/932 [05:57<02:38,  1.93file/s]"
     ]
    },
    {
     "name": "stdout",
     "output_type": "stream",
     "text": [
      "bus\n",
      "Vehicle Prediction: bus\n",
      "Validation Result: True\n"
     ]
    },
    {
     "name": "stderr",
     "output_type": "stream",
     "text": [
      "Processing: bus 3:  67%|██████▋   | 626/932 [05:58<02:40,  1.90file/s]"
     ]
    },
    {
     "name": "stdout",
     "output_type": "stream",
     "text": [
      "bus\n",
      "Vehicle Prediction: bus\n",
      "Validation Result: True\n"
     ]
    },
    {
     "name": "stderr",
     "output_type": "stream",
     "text": [
      "Processing: bus 3:  67%|██████▋   | 627/932 [05:58<02:40,  1.90file/s]"
     ]
    },
    {
     "name": "stdout",
     "output_type": "stream",
     "text": [
      "bus\n",
      "Vehicle Prediction: bus\n",
      "Validation Result: True\n"
     ]
    },
    {
     "name": "stderr",
     "output_type": "stream",
     "text": [
      "Processing: bus 3:  67%|██████▋   | 628/932 [05:59<02:35,  1.96file/s]"
     ]
    },
    {
     "name": "stdout",
     "output_type": "stream",
     "text": [
      "bus\n",
      "Vehicle Prediction: bus\n",
      "Validation Result: True\n"
     ]
    },
    {
     "name": "stderr",
     "output_type": "stream",
     "text": [
      "Processing: bus 3:  67%|██████▋   | 629/932 [05:59<02:37,  1.92file/s]"
     ]
    },
    {
     "name": "stdout",
     "output_type": "stream",
     "text": [
      "bus\n",
      "Vehicle Prediction: bus\n",
      "Validation Result: True\n"
     ]
    },
    {
     "name": "stderr",
     "output_type": "stream",
     "text": [
      "Processing: bus 3:  68%|██████▊   | 630/932 [06:00<02:31,  2.00file/s]"
     ]
    },
    {
     "name": "stdout",
     "output_type": "stream",
     "text": [
      "bus\n",
      "Vehicle Prediction: bus\n",
      "Validation Result: True\n"
     ]
    },
    {
     "name": "stderr",
     "output_type": "stream",
     "text": [
      "Processing: bus 3:  68%|██████▊   | 631/932 [06:00<02:34,  1.95file/s]"
     ]
    },
    {
     "name": "stdout",
     "output_type": "stream",
     "text": [
      "bus\n",
      "Vehicle Prediction: bus\n",
      "Validation Result: True\n"
     ]
    },
    {
     "name": "stderr",
     "output_type": "stream",
     "text": [
      "Processing: bus 3:  68%|██████▊   | 632/932 [06:01<02:35,  1.93file/s]"
     ]
    },
    {
     "name": "stdout",
     "output_type": "stream",
     "text": [
      "bus\n",
      "Vehicle Prediction: bus\n",
      "Validation Result: True\n"
     ]
    },
    {
     "name": "stderr",
     "output_type": "stream",
     "text": [
      "Processing: bus 3:  68%|██████▊   | 633/932 [06:01<02:50,  1.76file/s]"
     ]
    },
    {
     "name": "stdout",
     "output_type": "stream",
     "text": [
      "bus\n",
      "Vehicle Prediction: bus\n",
      "Validation Result: True\n"
     ]
    },
    {
     "name": "stderr",
     "output_type": "stream",
     "text": [
      "Processing: bus 3:  68%|██████▊   | 634/932 [06:02<02:41,  1.84file/s]"
     ]
    },
    {
     "name": "stdout",
     "output_type": "stream",
     "text": [
      "bus\n",
      "Vehicle Prediction: bus\n",
      "Validation Result: True\n"
     ]
    },
    {
     "name": "stderr",
     "output_type": "stream",
     "text": [
      "Processing: bus 3:  68%|██████▊   | 635/932 [06:03<02:56,  1.68file/s]"
     ]
    },
    {
     "name": "stdout",
     "output_type": "stream",
     "text": [
      "bus\n",
      "Vehicle Prediction: bus\n",
      "Validation Result: True\n"
     ]
    },
    {
     "name": "stderr",
     "output_type": "stream",
     "text": [
      "Processing: bus 3:  68%|██████▊   | 636/932 [06:03<03:07,  1.58file/s]"
     ]
    },
    {
     "name": "stdout",
     "output_type": "stream",
     "text": [
      "bus\n",
      "Vehicle Prediction: bus\n",
      "Validation Result: True\n"
     ]
    },
    {
     "name": "stderr",
     "output_type": "stream",
     "text": [
      "Processing: bus 3:  68%|██████▊   | 637/932 [06:04<02:47,  1.76file/s]"
     ]
    },
    {
     "name": "stdout",
     "output_type": "stream",
     "text": [
      "bus\n",
      "Vehicle Prediction: bus\n",
      "Validation Result: True\n"
     ]
    },
    {
     "name": "stderr",
     "output_type": "stream",
     "text": [
      "[codecarbon INFO @ 14:51:25] Energy consumed for RAM : 0.018833 kWh. RAM Power : 188.80178117752075 W\n",
      "[codecarbon INFO @ 14:51:25] Energy consumed for all CPUs : 0.009976 kWh. Total CPU Power : 100.0 W\n",
      "[codecarbon INFO @ 14:51:25] Energy consumed for all GPUs : 0.028712 kWh. Total GPU Power : 282.40969319001044 W\n",
      "[codecarbon INFO @ 14:51:25] 0.057521 kWh of electricity used since the beginning.\n",
      "[codecarbon INFO @ 14:51:25] 0.071635 g.CO2eq/s mean an estimation of 2,259.079909286488 kg.CO2eq/year\n",
      "Processing: bus 3:  68%|██████▊   | 638/932 [06:04<02:32,  1.92file/s]"
     ]
    },
    {
     "name": "stdout",
     "output_type": "stream",
     "text": [
      "bus\n",
      "Vehicle Prediction: bus\n",
      "Validation Result: True\n"
     ]
    },
    {
     "name": "stderr",
     "output_type": "stream",
     "text": [
      "Processing: bus 3:  69%|██████▊   | 639/932 [06:05<02:23,  2.04file/s]"
     ]
    },
    {
     "name": "stdout",
     "output_type": "stream",
     "text": [
      "bus\n",
      "Vehicle Prediction: bus\n",
      "Validation Result: True\n"
     ]
    },
    {
     "name": "stderr",
     "output_type": "stream",
     "text": [
      "Processing: bus 3:  69%|██████▊   | 640/932 [06:05<02:17,  2.12file/s]"
     ]
    },
    {
     "name": "stdout",
     "output_type": "stream",
     "text": [
      "bus\n",
      "Vehicle Prediction: bus\n",
      "Validation Result: True\n"
     ]
    },
    {
     "name": "stderr",
     "output_type": "stream",
     "text": [
      "Processing: truck 3:  69%|██████▉   | 641/932 [06:05<02:14,  2.16file/s]"
     ]
    },
    {
     "name": "stdout",
     "output_type": "stream",
     "text": [
      "bus\n",
      "Vehicle Prediction: bus\n",
      "Validation Result: True\n",
      "truck\n",
      "Vehicle Prediction: truck\n"
     ]
    },
    {
     "name": "stderr",
     "output_type": "stream",
     "text": [
      "Processing: truck 3:  69%|██████▉   | 642/932 [06:06<02:40,  1.80file/s]"
     ]
    },
    {
     "name": "stdout",
     "output_type": "stream",
     "text": [
      "no\n",
      "Is Pickup Truck: no\n",
      "Validation Result: True\n"
     ]
    },
    {
     "name": "stderr",
     "output_type": "stream",
     "text": [
      "Processing: truck 3:  69%|██████▉   | 643/932 [06:07<02:40,  1.80file/s]"
     ]
    },
    {
     "name": "stdout",
     "output_type": "stream",
     "text": [
      "dump tr\n",
      "Vehicle Prediction: dump tr\n",
      "Validation Result: False\n"
     ]
    },
    {
     "name": "stderr",
     "output_type": "stream",
     "text": [
      "Processing: truck 3:  69%|██████▉   | 644/932 [06:07<02:40,  1.79file/s]"
     ]
    },
    {
     "name": "stdout",
     "output_type": "stream",
     "text": [
      "dump tr\n",
      "Vehicle Prediction: dump tr\n",
      "Validation Result: False\n"
     ]
    },
    {
     "name": "stderr",
     "output_type": "stream",
     "text": [
      "Processing: truck 3:  69%|██████▉   | 645/932 [06:08<02:40,  1.79file/s]"
     ]
    },
    {
     "name": "stdout",
     "output_type": "stream",
     "text": [
      "dump tr\n",
      "Vehicle Prediction: dump tr\n",
      "Validation Result: False\n"
     ]
    },
    {
     "name": "stderr",
     "output_type": "stream",
     "text": [
      "Processing: truck 3:  69%|██████▉   | 646/932 [06:08<02:38,  1.80file/s]"
     ]
    },
    {
     "name": "stdout",
     "output_type": "stream",
     "text": [
      "dump tr\n",
      "Vehicle Prediction: dump tr\n",
      "Validation Result: False\n"
     ]
    },
    {
     "name": "stderr",
     "output_type": "stream",
     "text": [
      "Processing: truck 3:  69%|██████▉   | 647/932 [06:09<02:38,  1.80file/s]"
     ]
    },
    {
     "name": "stdout",
     "output_type": "stream",
     "text": [
      "dump tr\n",
      "Vehicle Prediction: dump tr\n",
      "Validation Result: False\n"
     ]
    },
    {
     "name": "stderr",
     "output_type": "stream",
     "text": [
      "Processing: truck 3:  70%|██████▉   | 648/932 [06:10<02:38,  1.79file/s]"
     ]
    },
    {
     "name": "stdout",
     "output_type": "stream",
     "text": [
      "dump tr\n",
      "Vehicle Prediction: dump tr\n",
      "Validation Result: False\n"
     ]
    },
    {
     "name": "stderr",
     "output_type": "stream",
     "text": [
      "Processing: truck 3:  70%|██████▉   | 649/932 [06:10<02:39,  1.77file/s]"
     ]
    },
    {
     "name": "stdout",
     "output_type": "stream",
     "text": [
      "dump tr\n",
      "Vehicle Prediction: dump tr\n",
      "Validation Result: False\n"
     ]
    },
    {
     "name": "stderr",
     "output_type": "stream",
     "text": [
      "Processing: truck 3:  70%|██████▉   | 650/932 [06:11<02:39,  1.77file/s]"
     ]
    },
    {
     "name": "stdout",
     "output_type": "stream",
     "text": [
      "dump tr\n",
      "Vehicle Prediction: dump tr\n",
      "Validation Result: False\n"
     ]
    },
    {
     "name": "stderr",
     "output_type": "stream",
     "text": [
      "Processing: truck 3:  70%|██████▉   | 651/932 [06:11<02:39,  1.77file/s]"
     ]
    },
    {
     "name": "stdout",
     "output_type": "stream",
     "text": [
      "dump tr\n",
      "Vehicle Prediction: dump tr\n",
      "Validation Result: False\n",
      "truck\n",
      "Vehicle Prediction: truck\n"
     ]
    },
    {
     "name": "stderr",
     "output_type": "stream",
     "text": [
      "Processing: truck 3:  70%|██████▉   | 652/932 [06:12<03:17,  1.42file/s]"
     ]
    },
    {
     "name": "stdout",
     "output_type": "stream",
     "text": [
      "no\n",
      "Is Pickup Truck: no\n",
      "Validation Result: True\n"
     ]
    },
    {
     "name": "stderr",
     "output_type": "stream",
     "text": [
      "Processing: truck 3:  70%|███████   | 653/932 [06:13<03:05,  1.50file/s]"
     ]
    },
    {
     "name": "stdout",
     "output_type": "stream",
     "text": [
      "dump tr\n",
      "Vehicle Prediction: dump tr\n",
      "Validation Result: False\n"
     ]
    },
    {
     "name": "stderr",
     "output_type": "stream",
     "text": [
      "Processing: truck 3:  70%|███████   | 654/932 [06:13<02:45,  1.68file/s]"
     ]
    },
    {
     "name": "stdout",
     "output_type": "stream",
     "text": [
      "dump tr\n",
      "Vehicle Prediction: dump tr\n",
      "Validation Result: False\n"
     ]
    },
    {
     "name": "stderr",
     "output_type": "stream",
     "text": [
      "Processing: truck 3:  70%|███████   | 655/932 [06:14<02:43,  1.70file/s]"
     ]
    },
    {
     "name": "stdout",
     "output_type": "stream",
     "text": [
      "dump tr\n",
      "Vehicle Prediction: dump tr\n",
      "Validation Result: False\n",
      "truck\n",
      "Vehicle Prediction: truck\n"
     ]
    },
    {
     "name": "stderr",
     "output_type": "stream",
     "text": [
      "Processing: truck 3:  70%|███████   | 656/932 [06:15<03:00,  1.53file/s]"
     ]
    },
    {
     "name": "stdout",
     "output_type": "stream",
     "text": [
      "no\n",
      "Is Pickup Truck: no\n",
      "Validation Result: True\n",
      "truck\n",
      "Vehicle Prediction: truck\n"
     ]
    },
    {
     "name": "stderr",
     "output_type": "stream",
     "text": [
      "Processing: truck 3:  70%|███████   | 657/932 [06:16<03:31,  1.30file/s]"
     ]
    },
    {
     "name": "stdout",
     "output_type": "stream",
     "text": [
      "no\n",
      "Is Pickup Truck: no\n",
      "Validation Result: True\n"
     ]
    },
    {
     "name": "stderr",
     "output_type": "stream",
     "text": [
      "Processing: truck 3:  71%|███████   | 658/932 [06:16<03:14,  1.41file/s]"
     ]
    },
    {
     "name": "stdout",
     "output_type": "stream",
     "text": [
      "dump tr\n",
      "Vehicle Prediction: dump tr\n",
      "Validation Result: False\n"
     ]
    },
    {
     "name": "stderr",
     "output_type": "stream",
     "text": [
      "Processing: truck 3:  71%|███████   | 659/932 [06:17<03:04,  1.48file/s]"
     ]
    },
    {
     "name": "stdout",
     "output_type": "stream",
     "text": [
      "dump tr\n",
      "Vehicle Prediction: dump tr\n",
      "Validation Result: False\n"
     ]
    },
    {
     "name": "stderr",
     "output_type": "stream",
     "text": [
      "Processing: truck 3:  71%|███████   | 660/932 [06:17<02:56,  1.55file/s]"
     ]
    },
    {
     "name": "stdout",
     "output_type": "stream",
     "text": [
      "dump tr\n",
      "Vehicle Prediction: dump tr\n",
      "Validation Result: False\n"
     ]
    },
    {
     "name": "stderr",
     "output_type": "stream",
     "text": [
      "Processing: truck 3:  71%|███████   | 661/932 [06:18<02:51,  1.58file/s]"
     ]
    },
    {
     "name": "stdout",
     "output_type": "stream",
     "text": [
      "dump tr\n",
      "Vehicle Prediction: dump tr\n",
      "Validation Result: False\n"
     ]
    },
    {
     "name": "stderr",
     "output_type": "stream",
     "text": [
      "Processing: truck 3:  71%|███████   | 662/932 [06:19<02:49,  1.59file/s]"
     ]
    },
    {
     "name": "stdout",
     "output_type": "stream",
     "text": [
      "dump tr\n",
      "Vehicle Prediction: dump tr\n",
      "Validation Result: False\n"
     ]
    },
    {
     "name": "stderr",
     "output_type": "stream",
     "text": [
      "[codecarbon INFO @ 14:51:40] Energy consumed for RAM : 0.019619 kWh. RAM Power : 188.80178117752075 W\n",
      "[codecarbon INFO @ 14:51:40] Energy consumed for all CPUs : 0.010393 kWh. Total CPU Power : 100.0 W\n",
      "[codecarbon INFO @ 14:51:40] Energy consumed for all GPUs : 0.029927 kWh. Total GPU Power : 291.6902986249016 W\n",
      "[codecarbon INFO @ 14:51:40] 0.059939 kWh of electricity used since the beginning.\n",
      "Processing: truck 3:  71%|███████   | 663/932 [06:19<02:45,  1.63file/s]"
     ]
    },
    {
     "name": "stdout",
     "output_type": "stream",
     "text": [
      "dump tr\n",
      "Vehicle Prediction: dump tr\n",
      "Validation Result: False\n"
     ]
    },
    {
     "name": "stderr",
     "output_type": "stream",
     "text": [
      "Processing: truck 3:  71%|███████   | 664/932 [06:20<02:44,  1.63file/s]"
     ]
    },
    {
     "name": "stdout",
     "output_type": "stream",
     "text": [
      "dump tr\n",
      "Vehicle Prediction: dump tr\n",
      "Validation Result: False\n"
     ]
    },
    {
     "name": "stderr",
     "output_type": "stream",
     "text": [
      "Processing: truck 3:  71%|███████▏  | 665/932 [06:20<02:41,  1.66file/s]"
     ]
    },
    {
     "name": "stdout",
     "output_type": "stream",
     "text": [
      "dump tr\n",
      "Vehicle Prediction: dump tr\n",
      "Validation Result: False\n"
     ]
    },
    {
     "name": "stderr",
     "output_type": "stream",
     "text": [
      "Processing: truck 3:  71%|███████▏  | 666/932 [06:21<02:39,  1.67file/s]"
     ]
    },
    {
     "name": "stdout",
     "output_type": "stream",
     "text": [
      "dump tr\n",
      "Vehicle Prediction: dump tr\n",
      "Validation Result: False\n"
     ]
    },
    {
     "name": "stderr",
     "output_type": "stream",
     "text": [
      "Processing: truck 3:  72%|███████▏  | 667/932 [06:22<02:36,  1.69file/s]"
     ]
    },
    {
     "name": "stdout",
     "output_type": "stream",
     "text": [
      "dump tr\n",
      "Vehicle Prediction: dump tr\n",
      "Validation Result: False\n"
     ]
    },
    {
     "name": "stderr",
     "output_type": "stream",
     "text": [
      "Processing: truck 3:  72%|███████▏  | 668/932 [06:22<02:35,  1.69file/s]"
     ]
    },
    {
     "name": "stdout",
     "output_type": "stream",
     "text": [
      "dump tr\n",
      "Vehicle Prediction: dump tr\n",
      "Validation Result: False\n"
     ]
    },
    {
     "name": "stderr",
     "output_type": "stream",
     "text": [
      "Processing: truck 3:  72%|███████▏  | 669/932 [06:23<02:34,  1.71file/s]"
     ]
    },
    {
     "name": "stdout",
     "output_type": "stream",
     "text": [
      "dump tr\n",
      "Vehicle Prediction: dump tr\n",
      "Validation Result: False\n"
     ]
    },
    {
     "name": "stderr",
     "output_type": "stream",
     "text": [
      "Processing: truck 3:  72%|███████▏  | 670/932 [06:23<02:33,  1.71file/s]"
     ]
    },
    {
     "name": "stdout",
     "output_type": "stream",
     "text": [
      "dump tr\n",
      "Vehicle Prediction: dump tr\n",
      "Validation Result: False\n"
     ]
    },
    {
     "name": "stderr",
     "output_type": "stream",
     "text": [
      "Processing: truck 3:  72%|███████▏  | 671/932 [06:24<02:32,  1.71file/s]"
     ]
    },
    {
     "name": "stdout",
     "output_type": "stream",
     "text": [
      "dump tr\n",
      "Vehicle Prediction: dump tr\n",
      "Validation Result: False\n",
      "truck\n",
      "Vehicle Prediction: truck\n"
     ]
    },
    {
     "name": "stderr",
     "output_type": "stream",
     "text": [
      "Processing: truck 3:  72%|███████▏  | 672/932 [06:25<03:08,  1.38file/s]"
     ]
    },
    {
     "name": "stdout",
     "output_type": "stream",
     "text": [
      "no\n",
      "Is Pickup Truck: no\n",
      "Validation Result: True\n"
     ]
    },
    {
     "name": "stderr",
     "output_type": "stream",
     "text": [
      "Processing: truck 3:  72%|███████▏  | 673/932 [06:26<02:56,  1.46file/s]"
     ]
    },
    {
     "name": "stdout",
     "output_type": "stream",
     "text": [
      "dump tr\n",
      "Vehicle Prediction: dump tr\n",
      "Validation Result: False\n"
     ]
    },
    {
     "name": "stderr",
     "output_type": "stream",
     "text": [
      "Processing: truck 3:  72%|███████▏  | 674/932 [06:26<02:48,  1.53file/s]"
     ]
    },
    {
     "name": "stdout",
     "output_type": "stream",
     "text": [
      "dump tr\n",
      "Vehicle Prediction: dump tr\n",
      "Validation Result: False\n",
      "truck\n",
      "Vehicle Prediction: truck\n"
     ]
    },
    {
     "name": "stderr",
     "output_type": "stream",
     "text": [
      "Processing: truck 3:  72%|███████▏  | 675/932 [06:27<03:19,  1.29file/s]"
     ]
    },
    {
     "name": "stdout",
     "output_type": "stream",
     "text": [
      "no\n",
      "Is Pickup Truck: no\n",
      "Validation Result: True\n"
     ]
    },
    {
     "name": "stderr",
     "output_type": "stream",
     "text": [
      "Processing: truck 3:  73%|███████▎  | 676/932 [06:28<03:03,  1.40file/s]"
     ]
    },
    {
     "name": "stdout",
     "output_type": "stream",
     "text": [
      "dump tr\n",
      "Vehicle Prediction: dump tr\n",
      "Validation Result: False\n",
      "truck\n",
      "Vehicle Prediction: truck\n"
     ]
    },
    {
     "name": "stderr",
     "output_type": "stream",
     "text": [
      "Processing: truck 3:  73%|███████▎  | 677/932 [06:29<03:28,  1.23file/s]"
     ]
    },
    {
     "name": "stdout",
     "output_type": "stream",
     "text": [
      "no\n",
      "Is Pickup Truck: no\n",
      "Validation Result: True\n"
     ]
    },
    {
     "name": "stderr",
     "output_type": "stream",
     "text": [
      "Processing: truck 3:  73%|███████▎  | 678/932 [06:29<03:08,  1.35file/s]"
     ]
    },
    {
     "name": "stdout",
     "output_type": "stream",
     "text": [
      "dump tr\n",
      "Vehicle Prediction: dump tr\n",
      "Validation Result: False\n"
     ]
    },
    {
     "name": "stderr",
     "output_type": "stream",
     "text": [
      "Processing: truck 3:  73%|███████▎  | 679/932 [06:30<02:54,  1.45file/s]"
     ]
    },
    {
     "name": "stdout",
     "output_type": "stream",
     "text": [
      "dump tr\n",
      "Vehicle Prediction: dump tr\n",
      "Validation Result: False\n"
     ]
    },
    {
     "name": "stderr",
     "output_type": "stream",
     "text": [
      "Processing: truck 3:  73%|███████▎  | 680/932 [06:31<02:44,  1.53file/s]"
     ]
    },
    {
     "name": "stdout",
     "output_type": "stream",
     "text": [
      "dump tr\n",
      "Vehicle Prediction: dump tr\n",
      "Validation Result: False\n",
      "truck\n",
      "Vehicle Prediction: truck\n"
     ]
    },
    {
     "name": "stderr",
     "output_type": "stream",
     "text": [
      "Processing: truck 3:  73%|███████▎  | 681/932 [06:32<03:13,  1.30file/s]"
     ]
    },
    {
     "name": "stdout",
     "output_type": "stream",
     "text": [
      "no\n",
      "Is Pickup Truck: no\n",
      "Validation Result: True\n",
      "truck\n",
      "Vehicle Prediction: truck\n"
     ]
    },
    {
     "name": "stderr",
     "output_type": "stream",
     "text": [
      "Processing: truck 3:  73%|███████▎  | 682/932 [06:33<03:32,  1.18file/s]"
     ]
    },
    {
     "name": "stdout",
     "output_type": "stream",
     "text": [
      "no\n",
      "Is Pickup Truck: no\n",
      "Validation Result: True\n"
     ]
    },
    {
     "name": "stderr",
     "output_type": "stream",
     "text": [
      "Processing: truck 3:  73%|███████▎  | 683/932 [06:33<03:11,  1.30file/s]"
     ]
    },
    {
     "name": "stdout",
     "output_type": "stream",
     "text": [
      "lorry\n",
      "Vehicle Prediction: lorry\n",
      "Validation Result: True\n",
      "truck\n",
      "Vehicle Prediction: truck\n"
     ]
    },
    {
     "name": "stderr",
     "output_type": "stream",
     "text": [
      "[codecarbon INFO @ 14:51:55] Energy consumed for RAM : 0.020405 kWh. RAM Power : 188.80178117752075 W\n",
      "[codecarbon INFO @ 14:51:55] Energy consumed for all CPUs : 0.010809 kWh. Total CPU Power : 100.0 W\n",
      "[codecarbon INFO @ 14:51:55] Energy consumed for all GPUs : 0.031140 kWh. Total GPU Power : 291.10322354388285 W\n",
      "[codecarbon INFO @ 14:51:55] 0.062354 kWh of electricity used since the beginning.\n",
      "Processing: truck 3:  73%|███████▎  | 684/932 [06:34<03:30,  1.18file/s]"
     ]
    },
    {
     "name": "stdout",
     "output_type": "stream",
     "text": [
      "no\n",
      "Is Pickup Truck: no\n",
      "Validation Result: True\n"
     ]
    },
    {
     "name": "stderr",
     "output_type": "stream",
     "text": [
      "Processing: truck 3:  73%|███████▎  | 685/932 [06:35<03:09,  1.31file/s]"
     ]
    },
    {
     "name": "stdout",
     "output_type": "stream",
     "text": [
      "dump tr\n",
      "Vehicle Prediction: dump tr\n",
      "Validation Result: False\n"
     ]
    },
    {
     "name": "stderr",
     "output_type": "stream",
     "text": [
      "Processing: truck 3:  74%|███████▎  | 686/932 [06:35<02:53,  1.41file/s]"
     ]
    },
    {
     "name": "stdout",
     "output_type": "stream",
     "text": [
      "dump tr\n",
      "Vehicle Prediction: dump tr\n",
      "Validation Result: False\n",
      "truck\n",
      "Vehicle Prediction: truck\n"
     ]
    },
    {
     "name": "stderr",
     "output_type": "stream",
     "text": [
      "Processing: truck 3:  74%|███████▎  | 687/932 [06:36<03:19,  1.23file/s]"
     ]
    },
    {
     "name": "stdout",
     "output_type": "stream",
     "text": [
      "no\n",
      "Is Pickup Truck: no\n",
      "Validation Result: True\n",
      "truck\n",
      "Vehicle Prediction: truck\n"
     ]
    },
    {
     "name": "stderr",
     "output_type": "stream",
     "text": [
      "Processing: truck 3:  74%|███████▍  | 688/932 [06:37<03:35,  1.13file/s]"
     ]
    },
    {
     "name": "stdout",
     "output_type": "stream",
     "text": [
      "no\n",
      "Is Pickup Truck: no\n",
      "Validation Result: True\n"
     ]
    },
    {
     "name": "stderr",
     "output_type": "stream",
     "text": [
      "Processing: truck 3:  74%|███████▍  | 689/932 [06:38<03:12,  1.26file/s]"
     ]
    },
    {
     "name": "stdout",
     "output_type": "stream",
     "text": [
      "dump tr\n",
      "Vehicle Prediction: dump tr\n",
      "Validation Result: False\n"
     ]
    },
    {
     "name": "stderr",
     "output_type": "stream",
     "text": [
      "Processing: truck 3:  74%|███████▍  | 690/932 [06:39<02:55,  1.38file/s]"
     ]
    },
    {
     "name": "stdout",
     "output_type": "stream",
     "text": [
      "dump tr\n",
      "Vehicle Prediction: dump tr\n",
      "Validation Result: False\n"
     ]
    },
    {
     "name": "stderr",
     "output_type": "stream",
     "text": [
      "Processing: truck 3:  74%|███████▍  | 691/932 [06:39<02:43,  1.47file/s]"
     ]
    },
    {
     "name": "stdout",
     "output_type": "stream",
     "text": [
      "lorry\n",
      "Vehicle Prediction: lorry\n",
      "Validation Result: True\n"
     ]
    },
    {
     "name": "stderr",
     "output_type": "stream",
     "text": [
      "Processing: truck 3:  74%|███████▍  | 692/932 [06:40<02:36,  1.53file/s]"
     ]
    },
    {
     "name": "stdout",
     "output_type": "stream",
     "text": [
      "dump tr\n",
      "Vehicle Prediction: dump tr\n",
      "Validation Result: False\n"
     ]
    },
    {
     "name": "stderr",
     "output_type": "stream",
     "text": [
      "Processing: truck 3:  74%|███████▍  | 693/932 [06:40<02:29,  1.60file/s]"
     ]
    },
    {
     "name": "stdout",
     "output_type": "stream",
     "text": [
      "tow\n",
      "Vehicle Prediction: tow\n",
      "Validation Result: False\n"
     ]
    },
    {
     "name": "stderr",
     "output_type": "stream",
     "text": [
      "Processing: truck 3:  74%|███████▍  | 694/932 [06:41<02:25,  1.64file/s]"
     ]
    },
    {
     "name": "stdout",
     "output_type": "stream",
     "text": [
      "dump tr\n",
      "Vehicle Prediction: dump tr\n",
      "Validation Result: False\n"
     ]
    },
    {
     "name": "stderr",
     "output_type": "stream",
     "text": [
      "Processing: truck 3:  75%|███████▍  | 695/932 [06:42<02:22,  1.67file/s]"
     ]
    },
    {
     "name": "stdout",
     "output_type": "stream",
     "text": [
      "lorry\n",
      "Vehicle Prediction: lorry\n",
      "Validation Result: True\n"
     ]
    },
    {
     "name": "stderr",
     "output_type": "stream",
     "text": [
      "Processing: truck 3:  75%|███████▍  | 696/932 [06:42<02:19,  1.69file/s]"
     ]
    },
    {
     "name": "stdout",
     "output_type": "stream",
     "text": [
      "dump tr\n",
      "Vehicle Prediction: dump tr\n",
      "Validation Result: False\n"
     ]
    },
    {
     "name": "stderr",
     "output_type": "stream",
     "text": [
      "Processing: truck 3:  75%|███████▍  | 697/932 [06:43<02:17,  1.71file/s]"
     ]
    },
    {
     "name": "stdout",
     "output_type": "stream",
     "text": [
      "dump tr\n",
      "Vehicle Prediction: dump tr\n",
      "Validation Result: False\n"
     ]
    },
    {
     "name": "stderr",
     "output_type": "stream",
     "text": [
      "Processing: truck 3:  75%|███████▍  | 698/932 [06:43<02:16,  1.72file/s]"
     ]
    },
    {
     "name": "stdout",
     "output_type": "stream",
     "text": [
      "dump tr\n",
      "Vehicle Prediction: dump tr\n",
      "Validation Result: False\n",
      "truck\n",
      "Vehicle Prediction: truck\n"
     ]
    },
    {
     "name": "stderr",
     "output_type": "stream",
     "text": [
      "Processing: truck 3:  75%|███████▌  | 699/932 [06:44<02:47,  1.39file/s]"
     ]
    },
    {
     "name": "stdout",
     "output_type": "stream",
     "text": [
      "no\n",
      "Is Pickup Truck: no\n",
      "Validation Result: True\n"
     ]
    },
    {
     "name": "stderr",
     "output_type": "stream",
     "text": [
      "Processing: truck 3:  75%|███████▌  | 700/932 [06:45<02:36,  1.48file/s]"
     ]
    },
    {
     "name": "stdout",
     "output_type": "stream",
     "text": [
      "lorry\n",
      "Vehicle Prediction: lorry\n",
      "Validation Result: True\n"
     ]
    },
    {
     "name": "stderr",
     "output_type": "stream",
     "text": [
      "Processing: truck 3:  75%|███████▌  | 701/932 [06:45<02:29,  1.55file/s]"
     ]
    },
    {
     "name": "stdout",
     "output_type": "stream",
     "text": [
      "dump tr\n",
      "Vehicle Prediction: dump tr\n",
      "Validation Result: False\n"
     ]
    },
    {
     "name": "stderr",
     "output_type": "stream",
     "text": [
      "Processing: truck 3:  75%|███████▌  | 702/932 [06:46<02:25,  1.58file/s]"
     ]
    },
    {
     "name": "stdout",
     "output_type": "stream",
     "text": [
      "dump tr\n",
      "Vehicle Prediction: dump tr\n",
      "Validation Result: False\n"
     ]
    },
    {
     "name": "stderr",
     "output_type": "stream",
     "text": [
      "Processing: truck 3:  75%|███████▌  | 703/932 [06:47<02:20,  1.63file/s]"
     ]
    },
    {
     "name": "stdout",
     "output_type": "stream",
     "text": [
      "dump tr\n",
      "Vehicle Prediction: dump tr\n",
      "Validation Result: False\n",
      "truck\n",
      "Vehicle Prediction: truck\n"
     ]
    },
    {
     "name": "stderr",
     "output_type": "stream",
     "text": [
      "Processing: truck 3:  76%|███████▌  | 704/932 [06:48<02:49,  1.35file/s]"
     ]
    },
    {
     "name": "stdout",
     "output_type": "stream",
     "text": [
      "no\n",
      "Is Pickup Truck: no\n",
      "Validation Result: True\n",
      "truck\n",
      "Vehicle Prediction: truck\n"
     ]
    },
    {
     "name": "stderr",
     "output_type": "stream",
     "text": [
      "Processing: truck 3:  76%|███████▌  | 705/932 [06:49<03:08,  1.20file/s]"
     ]
    },
    {
     "name": "stdout",
     "output_type": "stream",
     "text": [
      "no\n",
      "Is Pickup Truck: no\n",
      "Validation Result: True\n"
     ]
    },
    {
     "name": "stderr",
     "output_type": "stream",
     "text": [
      "[codecarbon INFO @ 14:52:10] Energy consumed for RAM : 0.021192 kWh. RAM Power : 188.80178117752075 W\n",
      "[codecarbon INFO @ 14:52:10] Energy consumed for all CPUs : 0.011226 kWh. Total CPU Power : 100.0 W\n",
      "[codecarbon INFO @ 14:52:10] Energy consumed for all GPUs : 0.032371 kWh. Total GPU Power : 295.5073421272126 W\n",
      "[codecarbon INFO @ 14:52:10] 0.064788 kWh of electricity used since the beginning.\n",
      "Processing: truck 3:  76%|███████▌  | 706/932 [06:49<02:50,  1.33file/s]"
     ]
    },
    {
     "name": "stdout",
     "output_type": "stream",
     "text": [
      "dump tr\n",
      "Vehicle Prediction: dump tr\n",
      "Validation Result: False\n"
     ]
    },
    {
     "name": "stderr",
     "output_type": "stream",
     "text": [
      "Processing: truck 3:  76%|███████▌  | 707/932 [06:50<02:37,  1.43file/s]"
     ]
    },
    {
     "name": "stdout",
     "output_type": "stream",
     "text": [
      "dump tr\n",
      "Vehicle Prediction: dump tr\n",
      "Validation Result: False\n"
     ]
    },
    {
     "name": "stderr",
     "output_type": "stream",
     "text": [
      "Processing: truck 3:  76%|███████▌  | 708/932 [06:50<02:28,  1.51file/s]"
     ]
    },
    {
     "name": "stdout",
     "output_type": "stream",
     "text": [
      "dump tr\n",
      "Vehicle Prediction: dump tr\n",
      "Validation Result: False\n"
     ]
    },
    {
     "name": "stderr",
     "output_type": "stream",
     "text": [
      "Processing: truck 3:  76%|███████▌  | 709/932 [06:51<02:21,  1.58file/s]"
     ]
    },
    {
     "name": "stdout",
     "output_type": "stream",
     "text": [
      "dump tr\n",
      "Vehicle Prediction: dump tr\n",
      "Validation Result: False\n"
     ]
    },
    {
     "name": "stderr",
     "output_type": "stream",
     "text": [
      "Processing: truck 3:  76%|███████▌  | 710/932 [06:52<02:16,  1.62file/s]"
     ]
    },
    {
     "name": "stdout",
     "output_type": "stream",
     "text": [
      "dump tr\n",
      "Vehicle Prediction: dump tr\n",
      "Validation Result: False\n",
      "truck\n",
      "Vehicle Prediction: truck\n"
     ]
    },
    {
     "name": "stderr",
     "output_type": "stream",
     "text": [
      "Processing: truck 3:  76%|███████▋  | 711/932 [06:53<02:44,  1.34file/s]"
     ]
    },
    {
     "name": "stdout",
     "output_type": "stream",
     "text": [
      "no\n",
      "Is Pickup Truck: no\n",
      "Validation Result: True\n",
      "truck\n",
      "Vehicle Prediction: truck\n"
     ]
    },
    {
     "name": "stderr",
     "output_type": "stream",
     "text": [
      "Processing: truck 3:  76%|███████▋  | 712/932 [06:54<03:03,  1.20file/s]"
     ]
    },
    {
     "name": "stdout",
     "output_type": "stream",
     "text": [
      "no\n",
      "Is Pickup Truck: no\n",
      "Validation Result: True\n",
      "truck\n",
      "Vehicle Prediction: truck\n"
     ]
    },
    {
     "name": "stderr",
     "output_type": "stream",
     "text": [
      "Processing: truck 3:  77%|███████▋  | 713/932 [06:55<03:16,  1.12file/s]"
     ]
    },
    {
     "name": "stdout",
     "output_type": "stream",
     "text": [
      "no\n",
      "Is Pickup Truck: no\n",
      "Validation Result: True\n"
     ]
    },
    {
     "name": "stderr",
     "output_type": "stream",
     "text": [
      "Processing: truck 3:  77%|███████▋  | 714/932 [06:55<02:54,  1.25file/s]"
     ]
    },
    {
     "name": "stdout",
     "output_type": "stream",
     "text": [
      "lorry\n",
      "Vehicle Prediction: lorry\n",
      "Validation Result: True\n"
     ]
    },
    {
     "name": "stderr",
     "output_type": "stream",
     "text": [
      "Processing: truck 3:  77%|███████▋  | 715/932 [06:56<02:38,  1.37file/s]"
     ]
    },
    {
     "name": "stdout",
     "output_type": "stream",
     "text": [
      "dump tr\n",
      "Vehicle Prediction: dump tr\n",
      "Validation Result: False\n"
     ]
    },
    {
     "name": "stderr",
     "output_type": "stream",
     "text": [
      "Processing: truck 3:  77%|███████▋  | 716/932 [06:56<02:28,  1.45file/s]"
     ]
    },
    {
     "name": "stdout",
     "output_type": "stream",
     "text": [
      "dump tr\n",
      "Vehicle Prediction: dump tr\n",
      "Validation Result: False\n"
     ]
    },
    {
     "name": "stderr",
     "output_type": "stream",
     "text": [
      "Processing: truck 3:  77%|███████▋  | 717/932 [06:57<02:19,  1.54file/s]"
     ]
    },
    {
     "name": "stdout",
     "output_type": "stream",
     "text": [
      "dump tr\n",
      "Vehicle Prediction: dump tr\n",
      "Validation Result: False\n"
     ]
    },
    {
     "name": "stderr",
     "output_type": "stream",
     "text": [
      "Processing: truck 3:  77%|███████▋  | 718/932 [06:58<02:14,  1.60file/s]"
     ]
    },
    {
     "name": "stdout",
     "output_type": "stream",
     "text": [
      "dump tr\n",
      "Vehicle Prediction: dump tr\n",
      "Validation Result: False\n",
      "truck\n",
      "Vehicle Prediction: truck\n"
     ]
    },
    {
     "name": "stderr",
     "output_type": "stream",
     "text": [
      "Processing: truck 3:  77%|███████▋  | 719/932 [06:59<02:39,  1.33file/s]"
     ]
    },
    {
     "name": "stdout",
     "output_type": "stream",
     "text": [
      "no\n",
      "Is Pickup Truck: no\n",
      "Validation Result: True\n",
      "truck\n",
      "Vehicle Prediction: truck\n"
     ]
    },
    {
     "name": "stderr",
     "output_type": "stream",
     "text": [
      "Processing: truck 3:  77%|███████▋  | 720/932 [07:00<02:56,  1.20file/s]"
     ]
    },
    {
     "name": "stdout",
     "output_type": "stream",
     "text": [
      "no\n",
      "Is Pickup Truck: no\n",
      "Validation Result: True\n"
     ]
    },
    {
     "name": "stderr",
     "output_type": "stream",
     "text": [
      "Processing: truck 3:  77%|███████▋  | 721/932 [07:00<02:39,  1.32file/s]"
     ]
    },
    {
     "name": "stdout",
     "output_type": "stream",
     "text": [
      "lorry\n",
      "Vehicle Prediction: lorry\n",
      "Validation Result: True\n"
     ]
    },
    {
     "name": "stderr",
     "output_type": "stream",
     "text": [
      "Processing: truck 3:  77%|███████▋  | 722/932 [07:01<02:28,  1.42file/s]"
     ]
    },
    {
     "name": "stdout",
     "output_type": "stream",
     "text": [
      "dump tr\n",
      "Vehicle Prediction: dump tr\n",
      "Validation Result: False\n"
     ]
    },
    {
     "name": "stderr",
     "output_type": "stream",
     "text": [
      "Processing: truck 3:  78%|███████▊  | 723/932 [07:01<02:18,  1.51file/s]"
     ]
    },
    {
     "name": "stdout",
     "output_type": "stream",
     "text": [
      "lorry\n",
      "Vehicle Prediction: lorry\n",
      "Validation Result: True\n"
     ]
    },
    {
     "name": "stderr",
     "output_type": "stream",
     "text": [
      "Processing: truck 3:  78%|███████▊  | 724/932 [07:02<02:12,  1.58file/s]"
     ]
    },
    {
     "name": "stdout",
     "output_type": "stream",
     "text": [
      "dump tr\n",
      "Vehicle Prediction: dump tr\n",
      "Validation Result: False\n"
     ]
    },
    {
     "name": "stderr",
     "output_type": "stream",
     "text": [
      "Processing: truck 3:  78%|███████▊  | 725/932 [07:02<02:07,  1.62file/s]"
     ]
    },
    {
     "name": "stdout",
     "output_type": "stream",
     "text": [
      "lorry\n",
      "Vehicle Prediction: lorry\n",
      "Validation Result: True\n",
      "truck\n",
      "Vehicle Prediction: truck\n"
     ]
    },
    {
     "name": "stderr",
     "output_type": "stream",
     "text": [
      "Processing: truck 3:  78%|███████▊  | 726/932 [07:03<02:33,  1.35file/s]"
     ]
    },
    {
     "name": "stdout",
     "output_type": "stream",
     "text": [
      "no\n",
      "Is Pickup Truck: no\n",
      "Validation Result: True\n"
     ]
    },
    {
     "name": "stderr",
     "output_type": "stream",
     "text": [
      "[codecarbon INFO @ 14:52:25] Energy consumed for RAM : 0.021978 kWh. RAM Power : 188.80178117752075 W\n",
      "[codecarbon INFO @ 14:52:25] Energy consumed for all CPUs : 0.011642 kWh. Total CPU Power : 100.0 W\n",
      "[codecarbon INFO @ 14:52:25] Energy consumed for all GPUs : 0.033597 kWh. Total GPU Power : 294.48965597951803 W\n",
      "[codecarbon INFO @ 14:52:25] 0.067218 kWh of electricity used since the beginning.\n",
      "Processing: truck 3:  78%|███████▊  | 727/932 [07:04<02:21,  1.44file/s]"
     ]
    },
    {
     "name": "stdout",
     "output_type": "stream",
     "text": [
      "dump tr\n",
      "Vehicle Prediction: dump tr\n",
      "Validation Result: False\n"
     ]
    },
    {
     "name": "stderr",
     "output_type": "stream",
     "text": [
      "Processing: truck 3:  78%|███████▊  | 728/932 [07:05<02:14,  1.52file/s]"
     ]
    },
    {
     "name": "stdout",
     "output_type": "stream",
     "text": [
      "lorry\n",
      "Vehicle Prediction: lorry\n",
      "Validation Result: True\n"
     ]
    },
    {
     "name": "stderr",
     "output_type": "stream",
     "text": [
      "Processing: truck 3:  78%|███████▊  | 729/932 [07:05<02:08,  1.57file/s]"
     ]
    },
    {
     "name": "stdout",
     "output_type": "stream",
     "text": [
      "dump tr\n",
      "Vehicle Prediction: dump tr\n",
      "Validation Result: False\n"
     ]
    },
    {
     "name": "stderr",
     "output_type": "stream",
     "text": [
      "Processing: truck 3:  78%|███████▊  | 730/932 [07:06<02:04,  1.62file/s]"
     ]
    },
    {
     "name": "stdout",
     "output_type": "stream",
     "text": [
      "lorry\n",
      "Vehicle Prediction: lorry\n",
      "Validation Result: True\n"
     ]
    },
    {
     "name": "stderr",
     "output_type": "stream",
     "text": [
      "Processing: truck 3:  78%|███████▊  | 731/932 [07:06<02:01,  1.66file/s]"
     ]
    },
    {
     "name": "stdout",
     "output_type": "stream",
     "text": [
      "lorry\n",
      "Vehicle Prediction: lorry\n",
      "Validation Result: True\n",
      "truck\n",
      "Vehicle Prediction: truck\n"
     ]
    },
    {
     "name": "stderr",
     "output_type": "stream",
     "text": [
      "Processing: truck 3:  79%|███████▊  | 732/932 [07:07<02:31,  1.32file/s]"
     ]
    },
    {
     "name": "stdout",
     "output_type": "stream",
     "text": [
      "no\n",
      "Is Pickup Truck: no\n",
      "Validation Result: True\n",
      "truck\n",
      "Vehicle Prediction: truck\n"
     ]
    },
    {
     "name": "stderr",
     "output_type": "stream",
     "text": [
      "Processing: truck 3:  79%|███████▊  | 733/932 [07:09<02:47,  1.19file/s]"
     ]
    },
    {
     "name": "stdout",
     "output_type": "stream",
     "text": [
      "no\n",
      "Is Pickup Truck: no\n",
      "Validation Result: True\n"
     ]
    },
    {
     "name": "stderr",
     "output_type": "stream",
     "text": [
      "Processing: truck 3:  79%|███████▉  | 734/932 [07:09<02:29,  1.33file/s]"
     ]
    },
    {
     "name": "stdout",
     "output_type": "stream",
     "text": [
      "dump tr\n",
      "Vehicle Prediction: dump tr\n",
      "Validation Result: False\n"
     ]
    },
    {
     "name": "stderr",
     "output_type": "stream",
     "text": [
      "Processing: truck 3:  79%|███████▉  | 735/932 [07:09<02:08,  1.54file/s]"
     ]
    },
    {
     "name": "stdout",
     "output_type": "stream",
     "text": [
      "dump tr\n",
      "Vehicle Prediction: dump tr\n",
      "Validation Result: False\n"
     ]
    },
    {
     "name": "stderr",
     "output_type": "stream",
     "text": [
      "Processing: truck 3:  79%|███████▉  | 736/932 [07:10<01:54,  1.71file/s]"
     ]
    },
    {
     "name": "stdout",
     "output_type": "stream",
     "text": [
      "dump tr\n",
      "Vehicle Prediction: dump tr\n",
      "Validation Result: False\n",
      "truck\n",
      "Vehicle Prediction: truck\n"
     ]
    },
    {
     "name": "stderr",
     "output_type": "stream",
     "text": [
      "Processing: truck 3:  79%|███████▉  | 737/932 [07:11<02:19,  1.40file/s]"
     ]
    },
    {
     "name": "stdout",
     "output_type": "stream",
     "text": [
      "no\n",
      "Is Pickup Truck: no\n",
      "Validation Result: True\n"
     ]
    },
    {
     "name": "stderr",
     "output_type": "stream",
     "text": [
      "Processing: truck 3:  79%|███████▉  | 738/932 [07:11<02:08,  1.51file/s]"
     ]
    },
    {
     "name": "stdout",
     "output_type": "stream",
     "text": [
      "dump tr\n",
      "Vehicle Prediction: dump tr\n",
      "Validation Result: False\n"
     ]
    },
    {
     "name": "stderr",
     "output_type": "stream",
     "text": [
      "Processing: truck 3:  79%|███████▉  | 739/932 [07:12<01:54,  1.69file/s]"
     ]
    },
    {
     "name": "stdout",
     "output_type": "stream",
     "text": [
      "lorry\n",
      "Vehicle Prediction: lorry\n",
      "Validation Result: True\n"
     ]
    },
    {
     "name": "stderr",
     "output_type": "stream",
     "text": [
      "Processing: truck 3:  79%|███████▉  | 740/932 [07:12<01:49,  1.75file/s]"
     ]
    },
    {
     "name": "stdout",
     "output_type": "stream",
     "text": [
      "lorry\n",
      "Vehicle Prediction: lorry\n",
      "Validation Result: True\n",
      "truck\n",
      "Vehicle Prediction: truck\n"
     ]
    },
    {
     "name": "stderr",
     "output_type": "stream",
     "text": [
      "Processing: truck 4:  80%|███████▉  | 741/932 [07:13<02:04,  1.53file/s]"
     ]
    },
    {
     "name": "stdout",
     "output_type": "stream",
     "text": [
      "no\n",
      "Is Pickup Truck: no\n",
      "Validation Result: True\n",
      "truck\n",
      "Vehicle Prediction: truck\n"
     ]
    },
    {
     "name": "stderr",
     "output_type": "stream",
     "text": [
      "Processing: truck 4:  80%|███████▉  | 742/932 [07:14<02:22,  1.33file/s]"
     ]
    },
    {
     "name": "stdout",
     "output_type": "stream",
     "text": [
      "no\n",
      "Is Pickup Truck: no\n",
      "Validation Result: True\n"
     ]
    },
    {
     "name": "stderr",
     "output_type": "stream",
     "text": [
      "Processing: truck 4:  80%|███████▉  | 743/932 [07:15<02:12,  1.42file/s]"
     ]
    },
    {
     "name": "stdout",
     "output_type": "stream",
     "text": [
      "trailer\n",
      "Vehicle Prediction: trailer\n",
      "Validation Result: True\n"
     ]
    },
    {
     "name": "stderr",
     "output_type": "stream",
     "text": [
      "Processing: truck 4:  80%|███████▉  | 744/932 [07:15<01:57,  1.60file/s]"
     ]
    },
    {
     "name": "stdout",
     "output_type": "stream",
     "text": [
      "trailer\n",
      "Vehicle Prediction: trailer\n",
      "Validation Result: True\n"
     ]
    },
    {
     "name": "stderr",
     "output_type": "stream",
     "text": [
      "Processing: truck 4:  80%|███████▉  | 745/932 [07:16<01:53,  1.64file/s]"
     ]
    },
    {
     "name": "stdout",
     "output_type": "stream",
     "text": [
      "trailer\n",
      "Vehicle Prediction: trailer\n",
      "Validation Result: True\n"
     ]
    },
    {
     "name": "stderr",
     "output_type": "stream",
     "text": [
      "Processing: truck 4:  80%|████████  | 746/932 [07:16<01:43,  1.80file/s]"
     ]
    },
    {
     "name": "stdout",
     "output_type": "stream",
     "text": [
      "trailer\n",
      "Vehicle Prediction: trailer\n",
      "Validation Result: True\n"
     ]
    },
    {
     "name": "stderr",
     "output_type": "stream",
     "text": [
      "Processing: truck 4:  80%|████████  | 747/932 [07:17<01:43,  1.78file/s]"
     ]
    },
    {
     "name": "stdout",
     "output_type": "stream",
     "text": [
      "trailer\n",
      "Vehicle Prediction: trailer\n",
      "Validation Result: True\n"
     ]
    },
    {
     "name": "stderr",
     "output_type": "stream",
     "text": [
      "Processing: truck 4:  80%|████████  | 748/932 [07:17<01:44,  1.76file/s]"
     ]
    },
    {
     "name": "stdout",
     "output_type": "stream",
     "text": [
      "trailer\n",
      "Vehicle Prediction: trailer\n",
      "Validation Result: True\n"
     ]
    },
    {
     "name": "stderr",
     "output_type": "stream",
     "text": [
      "Processing: truck 4:  80%|████████  | 749/932 [07:18<01:43,  1.77file/s]"
     ]
    },
    {
     "name": "stdout",
     "output_type": "stream",
     "text": [
      "trailer\n",
      "Vehicle Prediction: trailer\n",
      "Validation Result: True\n"
     ]
    },
    {
     "name": "stderr",
     "output_type": "stream",
     "text": [
      "Processing: truck 4:  80%|████████  | 750/932 [07:19<01:42,  1.77file/s]"
     ]
    },
    {
     "name": "stdout",
     "output_type": "stream",
     "text": [
      "dump tr\n",
      "Vehicle Prediction: dump tr\n",
      "Validation Result: False\n"
     ]
    },
    {
     "name": "stderr",
     "output_type": "stream",
     "text": [
      "[codecarbon INFO @ 14:52:40] Energy consumed for RAM : 0.022764 kWh. RAM Power : 188.80178117752075 W\n",
      "[codecarbon INFO @ 14:52:40] Energy consumed for all CPUs : 0.012059 kWh. Total CPU Power : 100.0 W\n",
      "[codecarbon INFO @ 14:52:40] Energy consumed for all GPUs : 0.034787 kWh. Total GPU Power : 285.6924037724041 W\n",
      "[codecarbon INFO @ 14:52:40] 0.069611 kWh of electricity used since the beginning.\n",
      "Processing: truck 4:  81%|████████  | 751/932 [07:19<01:43,  1.75file/s]"
     ]
    },
    {
     "name": "stdout",
     "output_type": "stream",
     "text": [
      "dump tr\n",
      "Vehicle Prediction: dump tr\n",
      "Validation Result: False\n"
     ]
    },
    {
     "name": "stderr",
     "output_type": "stream",
     "text": [
      "Processing: truck 4:  81%|████████  | 752/932 [07:20<01:42,  1.76file/s]"
     ]
    },
    {
     "name": "stdout",
     "output_type": "stream",
     "text": [
      "trailer\n",
      "Vehicle Prediction: trailer\n",
      "Validation Result: True\n"
     ]
    },
    {
     "name": "stderr",
     "output_type": "stream",
     "text": [
      "Processing: truck 4:  81%|████████  | 753/932 [07:20<01:42,  1.74file/s]"
     ]
    },
    {
     "name": "stdout",
     "output_type": "stream",
     "text": [
      "dump tra\n",
      "Vehicle Prediction: dump tra\n",
      "Validation Result: False\n"
     ]
    },
    {
     "name": "stderr",
     "output_type": "stream",
     "text": [
      "Processing: truck 4:  81%|████████  | 754/932 [07:21<01:34,  1.88file/s]"
     ]
    },
    {
     "name": "stdout",
     "output_type": "stream",
     "text": [
      "dump tr\n",
      "Vehicle Prediction: dump tr\n",
      "Validation Result: False\n"
     ]
    },
    {
     "name": "stderr",
     "output_type": "stream",
     "text": [
      "Processing: truck 4:  81%|████████  | 755/932 [07:21<01:38,  1.80file/s]"
     ]
    },
    {
     "name": "stdout",
     "output_type": "stream",
     "text": [
      "dump tr\n",
      "Vehicle Prediction: dump tr\n",
      "Validation Result: False\n"
     ]
    },
    {
     "name": "stderr",
     "output_type": "stream",
     "text": [
      "Processing: truck 4:  81%|████████  | 756/932 [07:22<01:37,  1.80file/s]"
     ]
    },
    {
     "name": "stdout",
     "output_type": "stream",
     "text": [
      "lorry\n",
      "Vehicle Prediction: lorry\n",
      "Validation Result: True\n"
     ]
    },
    {
     "name": "stderr",
     "output_type": "stream",
     "text": [
      "Processing: truck 4:  81%|████████  | 757/932 [07:22<01:30,  1.94file/s]"
     ]
    },
    {
     "name": "stdout",
     "output_type": "stream",
     "text": [
      "dump tr\n",
      "Vehicle Prediction: dump tr\n",
      "Validation Result: False\n"
     ]
    },
    {
     "name": "stderr",
     "output_type": "stream",
     "text": [
      "Processing: truck 4:  81%|████████▏ | 758/932 [07:23<01:35,  1.83file/s]"
     ]
    },
    {
     "name": "stdout",
     "output_type": "stream",
     "text": [
      "trailer\n",
      "Vehicle Prediction: trailer\n",
      "Validation Result: True\n"
     ]
    },
    {
     "name": "stderr",
     "output_type": "stream",
     "text": [
      "Processing: truck 4:  81%|████████▏ | 759/932 [07:24<01:36,  1.79file/s]"
     ]
    },
    {
     "name": "stdout",
     "output_type": "stream",
     "text": [
      "trailer\n",
      "Vehicle Prediction: trailer\n",
      "Validation Result: True\n"
     ]
    },
    {
     "name": "stderr",
     "output_type": "stream",
     "text": [
      "Processing: truck 4:  82%|████████▏ | 760/932 [07:24<01:36,  1.78file/s]"
     ]
    },
    {
     "name": "stdout",
     "output_type": "stream",
     "text": [
      "trailer\n",
      "Vehicle Prediction: trailer\n",
      "Validation Result: True\n"
     ]
    },
    {
     "name": "stderr",
     "output_type": "stream",
     "text": [
      "Processing: truck 4:  82%|████████▏ | 761/932 [07:25<01:36,  1.77file/s]"
     ]
    },
    {
     "name": "stdout",
     "output_type": "stream",
     "text": [
      "dump tra\n",
      "Vehicle Prediction: dump tra\n",
      "Validation Result: False\n"
     ]
    },
    {
     "name": "stderr",
     "output_type": "stream",
     "text": [
      "Processing: truck 4:  82%|████████▏ | 762/932 [07:25<01:36,  1.76file/s]"
     ]
    },
    {
     "name": "stdout",
     "output_type": "stream",
     "text": [
      "lorry\n",
      "Vehicle Prediction: lorry\n",
      "Validation Result: True\n"
     ]
    },
    {
     "name": "stderr",
     "output_type": "stream",
     "text": [
      "Processing: truck 4:  82%|████████▏ | 763/932 [07:26<01:35,  1.77file/s]"
     ]
    },
    {
     "name": "stdout",
     "output_type": "stream",
     "text": [
      "dump tr\n",
      "Vehicle Prediction: dump tr\n",
      "Validation Result: False\n"
     ]
    },
    {
     "name": "stderr",
     "output_type": "stream",
     "text": [
      "Processing: truck 4:  82%|████████▏ | 764/932 [07:26<01:27,  1.92file/s]"
     ]
    },
    {
     "name": "stdout",
     "output_type": "stream",
     "text": [
      "dump tr\n",
      "Vehicle Prediction: dump tr\n",
      "Validation Result: False\n"
     ]
    },
    {
     "name": "stderr",
     "output_type": "stream",
     "text": [
      "Processing: truck 4:  82%|████████▏ | 765/932 [07:27<01:22,  2.02file/s]"
     ]
    },
    {
     "name": "stdout",
     "output_type": "stream",
     "text": [
      "dump tr\n",
      "Vehicle Prediction: dump tr\n",
      "Validation Result: False\n"
     ]
    },
    {
     "name": "stderr",
     "output_type": "stream",
     "text": [
      "Processing: truck 4:  82%|████████▏ | 766/932 [07:27<01:26,  1.92file/s]"
     ]
    },
    {
     "name": "stdout",
     "output_type": "stream",
     "text": [
      "dump tr\n",
      "Vehicle Prediction: dump tr\n",
      "Validation Result: False\n"
     ]
    },
    {
     "name": "stderr",
     "output_type": "stream",
     "text": [
      "Processing: truck 4:  82%|████████▏ | 767/932 [07:28<01:28,  1.86file/s]"
     ]
    },
    {
     "name": "stdout",
     "output_type": "stream",
     "text": [
      "trailer\n",
      "Vehicle Prediction: trailer\n",
      "Validation Result: True\n"
     ]
    },
    {
     "name": "stderr",
     "output_type": "stream",
     "text": [
      "Processing: truck 4:  82%|████████▏ | 768/932 [07:28<01:30,  1.81file/s]"
     ]
    },
    {
     "name": "stdout",
     "output_type": "stream",
     "text": [
      "dump tr\n",
      "Vehicle Prediction: dump tr\n",
      "Validation Result: False\n"
     ]
    },
    {
     "name": "stderr",
     "output_type": "stream",
     "text": [
      "Processing: truck 4:  83%|████████▎ | 769/932 [07:29<01:24,  1.93file/s]"
     ]
    },
    {
     "name": "stdout",
     "output_type": "stream",
     "text": [
      "dump tr\n",
      "Vehicle Prediction: dump tr\n",
      "Validation Result: False\n"
     ]
    },
    {
     "name": "stderr",
     "output_type": "stream",
     "text": [
      "Processing: truck 4:  83%|████████▎ | 770/932 [07:29<01:27,  1.85file/s]"
     ]
    },
    {
     "name": "stdout",
     "output_type": "stream",
     "text": [
      "trailer\n",
      "Vehicle Prediction: trailer\n",
      "Validation Result: True\n"
     ]
    },
    {
     "name": "stderr",
     "output_type": "stream",
     "text": [
      "Processing: truck 4:  83%|████████▎ | 771/932 [07:30<01:21,  1.97file/s]"
     ]
    },
    {
     "name": "stdout",
     "output_type": "stream",
     "text": [
      "dump tr\n",
      "Vehicle Prediction: dump tr\n",
      "Validation Result: False\n"
     ]
    },
    {
     "name": "stderr",
     "output_type": "stream",
     "text": [
      "Processing: truck 4:  83%|████████▎ | 772/932 [07:30<01:23,  1.92file/s]"
     ]
    },
    {
     "name": "stdout",
     "output_type": "stream",
     "text": [
      "trailer\n",
      "Vehicle Prediction: trailer\n",
      "Validation Result: True\n",
      "truck\n",
      "Vehicle Prediction: truck\n"
     ]
    },
    {
     "name": "stderr",
     "output_type": "stream",
     "text": [
      "Processing: truck 4:  83%|████████▎ | 773/932 [07:31<01:48,  1.47file/s]"
     ]
    },
    {
     "name": "stdout",
     "output_type": "stream",
     "text": [
      "no\n",
      "Is Pickup Truck: no\n",
      "Validation Result: True\n"
     ]
    },
    {
     "name": "stderr",
     "output_type": "stream",
     "text": [
      "Processing: truck 4:  83%|████████▎ | 774/932 [07:32<01:42,  1.54file/s]"
     ]
    },
    {
     "name": "stdout",
     "output_type": "stream",
     "text": [
      "dump tr\n",
      "Vehicle Prediction: dump tr\n",
      "Validation Result: False\n"
     ]
    },
    {
     "name": "stderr",
     "output_type": "stream",
     "text": [
      "Processing: truck 4:  83%|████████▎ | 775/932 [07:33<01:35,  1.64file/s]"
     ]
    },
    {
     "name": "stdout",
     "output_type": "stream",
     "text": [
      "dump tr\n",
      "Vehicle Prediction: dump tr\n",
      "Validation Result: False\n",
      "truck\n",
      "Vehicle Prediction: truck\n"
     ]
    },
    {
     "name": "stderr",
     "output_type": "stream",
     "text": [
      "Processing: truck 4:  83%|████████▎ | 776/932 [07:34<01:59,  1.31file/s]"
     ]
    },
    {
     "name": "stdout",
     "output_type": "stream",
     "text": [
      "no\n",
      "Is Pickup Truck: no\n",
      "Validation Result: True\n"
     ]
    },
    {
     "name": "stderr",
     "output_type": "stream",
     "text": [
      "[codecarbon INFO @ 14:52:55] Energy consumed for RAM : 0.023551 kWh. RAM Power : 188.80178117752075 W\n",
      "[codecarbon INFO @ 14:52:55] Energy consumed for all CPUs : 0.012475 kWh. Total CPU Power : 100.0 W\n",
      "[codecarbon INFO @ 14:52:55] Energy consumed for all GPUs : 0.035990 kWh. Total GPU Power : 288.7358224708141 W\n",
      "[codecarbon INFO @ 14:52:55] 0.072016 kWh of electricity used since the beginning.\n",
      "Processing: truck 4:  83%|████████▎ | 777/932 [07:34<01:47,  1.44file/s]"
     ]
    },
    {
     "name": "stdout",
     "output_type": "stream",
     "text": [
      "dump tr\n",
      "Vehicle Prediction: dump tr\n",
      "Validation Result: False\n"
     ]
    },
    {
     "name": "stderr",
     "output_type": "stream",
     "text": [
      "Processing: truck 4:  83%|████████▎ | 778/932 [07:35<01:41,  1.52file/s]"
     ]
    },
    {
     "name": "stdout",
     "output_type": "stream",
     "text": [
      "trailer\n",
      "Vehicle Prediction: trailer\n",
      "Validation Result: True\n",
      "truck\n",
      "Vehicle Prediction: truck\n"
     ]
    },
    {
     "name": "stderr",
     "output_type": "stream",
     "text": [
      "Processing: truck 4:  84%|████████▎ | 779/932 [07:36<01:58,  1.29file/s]"
     ]
    },
    {
     "name": "stdout",
     "output_type": "stream",
     "text": [
      "no\n",
      "Is Pickup Truck: no\n",
      "Validation Result: True\n"
     ]
    },
    {
     "name": "stderr",
     "output_type": "stream",
     "text": [
      "Processing: truck 4:  84%|████████▎ | 780/932 [07:36<01:44,  1.46file/s]"
     ]
    },
    {
     "name": "stdout",
     "output_type": "stream",
     "text": [
      "dump tr\n",
      "Vehicle Prediction: dump tr\n",
      "Validation Result: False\n"
     ]
    },
    {
     "name": "stderr",
     "output_type": "stream",
     "text": [
      "Processing: truck 4:  84%|████████▍ | 781/932 [07:37<01:36,  1.56file/s]"
     ]
    },
    {
     "name": "stdout",
     "output_type": "stream",
     "text": [
      "dump tr\n",
      "Vehicle Prediction: dump tr\n",
      "Validation Result: False\n"
     ]
    },
    {
     "name": "stderr",
     "output_type": "stream",
     "text": [
      "Processing: truck 4:  84%|████████▍ | 782/932 [07:37<01:33,  1.61file/s]"
     ]
    },
    {
     "name": "stdout",
     "output_type": "stream",
     "text": [
      "dump tr\n",
      "Vehicle Prediction: dump tr\n",
      "Validation Result: False\n"
     ]
    },
    {
     "name": "stderr",
     "output_type": "stream",
     "text": [
      "Processing: truck 4:  84%|████████▍ | 783/932 [07:38<01:31,  1.63file/s]"
     ]
    },
    {
     "name": "stdout",
     "output_type": "stream",
     "text": [
      "lorry\n",
      "Vehicle Prediction: lorry\n",
      "Validation Result: True\n"
     ]
    },
    {
     "name": "stderr",
     "output_type": "stream",
     "text": [
      "Processing: truck 4:  84%|████████▍ | 784/932 [07:38<01:22,  1.80file/s]"
     ]
    },
    {
     "name": "stdout",
     "output_type": "stream",
     "text": [
      "dump tr\n",
      "Vehicle Prediction: dump tr\n",
      "Validation Result: False\n",
      "truck\n",
      "Vehicle Prediction: truck\n"
     ]
    },
    {
     "name": "stderr",
     "output_type": "stream",
     "text": [
      "Processing: truck 4:  84%|████████▍ | 785/932 [07:39<01:43,  1.42file/s]"
     ]
    },
    {
     "name": "stdout",
     "output_type": "stream",
     "text": [
      "no\n",
      "Is Pickup Truck: no\n",
      "Validation Result: True\n"
     ]
    },
    {
     "name": "stderr",
     "output_type": "stream",
     "text": [
      "Processing: truck 4:  84%|████████▍ | 786/932 [07:40<01:32,  1.58file/s]"
     ]
    },
    {
     "name": "stdout",
     "output_type": "stream",
     "text": [
      "dump tr\n",
      "Vehicle Prediction: dump tr\n",
      "Validation Result: False\n"
     ]
    },
    {
     "name": "stderr",
     "output_type": "stream",
     "text": [
      "Processing: truck 4:  84%|████████▍ | 787/932 [07:40<01:22,  1.75file/s]"
     ]
    },
    {
     "name": "stdout",
     "output_type": "stream",
     "text": [
      "dump tr\n",
      "Vehicle Prediction: dump tr\n",
      "Validation Result: False\n",
      "truck\n",
      "Vehicle Prediction: truck\n"
     ]
    },
    {
     "name": "stderr",
     "output_type": "stream",
     "text": [
      "Processing: truck 4:  85%|████████▍ | 788/932 [07:41<01:42,  1.41file/s]"
     ]
    },
    {
     "name": "stdout",
     "output_type": "stream",
     "text": [
      "no\n",
      "Is Pickup Truck: no\n",
      "Validation Result: True\n",
      "truck\n",
      "Vehicle Prediction: truck\n"
     ]
    },
    {
     "name": "stderr",
     "output_type": "stream",
     "text": [
      "Processing: truck 4:  85%|████████▍ | 789/932 [07:42<01:54,  1.24file/s]"
     ]
    },
    {
     "name": "stdout",
     "output_type": "stream",
     "text": [
      "no\n",
      "Is Pickup Truck: no\n",
      "Validation Result: True\n"
     ]
    },
    {
     "name": "stderr",
     "output_type": "stream",
     "text": [
      "Processing: truck 4:  85%|████████▍ | 790/932 [07:43<01:44,  1.36file/s]"
     ]
    },
    {
     "name": "stdout",
     "output_type": "stream",
     "text": [
      "trailer\n",
      "Vehicle Prediction: trailer\n",
      "Validation Result: True\n"
     ]
    },
    {
     "name": "stderr",
     "output_type": "stream",
     "text": [
      "Processing: truck 4:  85%|████████▍ | 791/932 [07:43<01:30,  1.56file/s]"
     ]
    },
    {
     "name": "stdout",
     "output_type": "stream",
     "text": [
      "dump tr\n",
      "Vehicle Prediction: dump tr\n",
      "Validation Result: False\n"
     ]
    },
    {
     "name": "stderr",
     "output_type": "stream",
     "text": [
      "Processing: truck 4:  85%|████████▍ | 792/932 [07:44<01:26,  1.63file/s]"
     ]
    },
    {
     "name": "stdout",
     "output_type": "stream",
     "text": [
      "dump tr\n",
      "Vehicle Prediction: dump tr\n",
      "Validation Result: False\n",
      "truck\n",
      "Vehicle Prediction: truck\n"
     ]
    },
    {
     "name": "stderr",
     "output_type": "stream",
     "text": [
      "Processing: truck 4:  85%|████████▌ | 793/932 [07:45<01:33,  1.49file/s]"
     ]
    },
    {
     "name": "stdout",
     "output_type": "stream",
     "text": [
      "no\n",
      "Is Pickup Truck: no\n",
      "Validation Result: True\n"
     ]
    },
    {
     "name": "stderr",
     "output_type": "stream",
     "text": [
      "Processing: truck 4:  85%|████████▌ | 794/932 [07:45<01:22,  1.67file/s]"
     ]
    },
    {
     "name": "stdout",
     "output_type": "stream",
     "text": [
      "dump tr\n",
      "Vehicle Prediction: dump tr\n",
      "Validation Result: False\n"
     ]
    },
    {
     "name": "stderr",
     "output_type": "stream",
     "text": [
      "Processing: truck 4:  85%|████████▌ | 795/932 [07:46<01:21,  1.69file/s]"
     ]
    },
    {
     "name": "stdout",
     "output_type": "stream",
     "text": [
      "lorry\n",
      "Vehicle Prediction: lorry\n",
      "Validation Result: True\n",
      "truck\n",
      "Vehicle Prediction: truck\n"
     ]
    },
    {
     "name": "stderr",
     "output_type": "stream",
     "text": [
      "Processing: truck 4:  85%|████████▌ | 796/932 [07:47<01:36,  1.41file/s]"
     ]
    },
    {
     "name": "stdout",
     "output_type": "stream",
     "text": [
      "no\n",
      "Is Pickup Truck: no\n",
      "Validation Result: True\n"
     ]
    },
    {
     "name": "stderr",
     "output_type": "stream",
     "text": [
      "Processing: truck 4:  86%|████████▌ | 797/932 [07:47<01:24,  1.60file/s]"
     ]
    },
    {
     "name": "stdout",
     "output_type": "stream",
     "text": [
      "dump tr\n",
      "Vehicle Prediction: dump tr\n",
      "Validation Result: False\n"
     ]
    },
    {
     "name": "stderr",
     "output_type": "stream",
     "text": [
      "Processing: truck 4:  86%|████████▌ | 798/932 [07:48<01:21,  1.65file/s]"
     ]
    },
    {
     "name": "stdout",
     "output_type": "stream",
     "text": [
      "trailer\n",
      "Vehicle Prediction: trailer\n",
      "Validation Result: True\n",
      "truck\n",
      "Vehicle Prediction: truck\n"
     ]
    },
    {
     "name": "stderr",
     "output_type": "stream",
     "text": [
      "Processing: truck 4:  86%|████████▌ | 799/932 [07:49<01:37,  1.37file/s][codecarbon INFO @ 14:53:10] Energy consumed for RAM : 0.024333 kWh. RAM Power : 188.80178117752075 W\n",
      "[codecarbon INFO @ 14:53:10] Energy consumed for all CPUs : 0.012890 kWh. Total CPU Power : 100.0 W\n",
      "[codecarbon INFO @ 14:53:10] Energy consumed for all GPUs : 0.037191 kWh. Total GPU Power : 289.70588288534384 W\n",
      "[codecarbon INFO @ 14:53:10] 0.074413 kWh of electricity used since the beginning.\n"
     ]
    },
    {
     "name": "stdout",
     "output_type": "stream",
     "text": [
      "no\n",
      "Is Pickup Truck: no\n",
      "Validation Result: True\n"
     ]
    },
    {
     "name": "stderr",
     "output_type": "stream",
     "text": [
      "Processing: truck 4:  86%|████████▌ | 800/932 [07:49<01:29,  1.47file/s]"
     ]
    },
    {
     "name": "stdout",
     "output_type": "stream",
     "text": [
      "trailer\n",
      "Vehicle Prediction: trailer\n",
      "Validation Result: True\n"
     ]
    },
    {
     "name": "stderr",
     "output_type": "stream",
     "text": [
      "Processing: truck 4:  86%|████████▌ | 801/932 [07:50<01:22,  1.58file/s]"
     ]
    },
    {
     "name": "stdout",
     "output_type": "stream",
     "text": [
      "dump tr\n",
      "Vehicle Prediction: dump tr\n",
      "Validation Result: False\n",
      "truck\n",
      "Vehicle Prediction: truck\n"
     ]
    },
    {
     "name": "stderr",
     "output_type": "stream",
     "text": [
      "Processing: truck 4:  86%|████████▌ | 802/932 [07:51<01:38,  1.33file/s]"
     ]
    },
    {
     "name": "stdout",
     "output_type": "stream",
     "text": [
      "no\n",
      "Is Pickup Truck: no\n",
      "Validation Result: True\n"
     ]
    },
    {
     "name": "stderr",
     "output_type": "stream",
     "text": [
      "Processing: truck 4:  86%|████████▌ | 803/932 [07:51<01:28,  1.46file/s]"
     ]
    },
    {
     "name": "stdout",
     "output_type": "stream",
     "text": [
      "dump tr\n",
      "Vehicle Prediction: dump tr\n",
      "Validation Result: False\n"
     ]
    },
    {
     "name": "stderr",
     "output_type": "stream",
     "text": [
      "Processing: truck 4:  86%|████████▋ | 804/932 [07:52<01:22,  1.54file/s]"
     ]
    },
    {
     "name": "stdout",
     "output_type": "stream",
     "text": [
      "dump tr\n",
      "Vehicle Prediction: dump tr\n",
      "Validation Result: False\n"
     ]
    },
    {
     "name": "stderr",
     "output_type": "stream",
     "text": [
      "Processing: truck 4:  86%|████████▋ | 805/932 [07:53<01:18,  1.62file/s]"
     ]
    },
    {
     "name": "stdout",
     "output_type": "stream",
     "text": [
      "lorry\n",
      "Vehicle Prediction: lorry\n",
      "Validation Result: True\n"
     ]
    },
    {
     "name": "stderr",
     "output_type": "stream",
     "text": [
      "Processing: truck 4:  86%|████████▋ | 806/932 [07:53<01:13,  1.72file/s]"
     ]
    },
    {
     "name": "stdout",
     "output_type": "stream",
     "text": [
      "lorry\n",
      "Vehicle Prediction: lorry\n",
      "Validation Result: True\n"
     ]
    },
    {
     "name": "stderr",
     "output_type": "stream",
     "text": [
      "Processing: truck 4:  87%|████████▋ | 807/932 [07:53<01:06,  1.88file/s]"
     ]
    },
    {
     "name": "stdout",
     "output_type": "stream",
     "text": [
      "dump tr\n",
      "Vehicle Prediction: dump tr\n",
      "Validation Result: False\n"
     ]
    },
    {
     "name": "stderr",
     "output_type": "stream",
     "text": [
      "Processing: truck 4:  87%|████████▋ | 808/932 [07:54<01:07,  1.85file/s]"
     ]
    },
    {
     "name": "stdout",
     "output_type": "stream",
     "text": [
      "dump tr\n",
      "Vehicle Prediction: dump tr\n",
      "Validation Result: False\n",
      "truck\n",
      "Vehicle Prediction: truck\n"
     ]
    },
    {
     "name": "stderr",
     "output_type": "stream",
     "text": [
      "Processing: truck 4:  87%|████████▋ | 809/932 [07:55<01:23,  1.48file/s]"
     ]
    },
    {
     "name": "stdout",
     "output_type": "stream",
     "text": [
      "no\n",
      "Is Pickup Truck: no\n",
      "Validation Result: True\n"
     ]
    },
    {
     "name": "stderr",
     "output_type": "stream",
     "text": [
      "Processing: truck 4:  87%|████████▋ | 810/932 [07:56<01:18,  1.56file/s]"
     ]
    },
    {
     "name": "stdout",
     "output_type": "stream",
     "text": [
      "dump tr\n",
      "Vehicle Prediction: dump tr\n",
      "Validation Result: False\n"
     ]
    },
    {
     "name": "stderr",
     "output_type": "stream",
     "text": [
      "Processing: truck 4:  87%|████████▋ | 811/932 [07:56<01:09,  1.73file/s]"
     ]
    },
    {
     "name": "stdout",
     "output_type": "stream",
     "text": [
      "dump tr\n",
      "Vehicle Prediction: dump tr\n",
      "Validation Result: False\n"
     ]
    },
    {
     "name": "stderr",
     "output_type": "stream",
     "text": [
      "Processing: truck 4:  87%|████████▋ | 812/932 [07:56<01:04,  1.87file/s]"
     ]
    },
    {
     "name": "stdout",
     "output_type": "stream",
     "text": [
      "dump tr\n",
      "Vehicle Prediction: dump tr\n",
      "Validation Result: False\n"
     ]
    },
    {
     "name": "stderr",
     "output_type": "stream",
     "text": [
      "Processing: truck 4:  87%|████████▋ | 813/932 [07:57<01:04,  1.85file/s]"
     ]
    },
    {
     "name": "stdout",
     "output_type": "stream",
     "text": [
      "dump tr\n",
      "Vehicle Prediction: dump tr\n",
      "Validation Result: False\n",
      "truck\n",
      "Vehicle Prediction: truck\n"
     ]
    },
    {
     "name": "stderr",
     "output_type": "stream",
     "text": [
      "Processing: truck 4:  87%|████████▋ | 814/932 [07:58<01:20,  1.47file/s]"
     ]
    },
    {
     "name": "stdout",
     "output_type": "stream",
     "text": [
      "no\n",
      "Is Pickup Truck: no\n",
      "Validation Result: True\n"
     ]
    },
    {
     "name": "stderr",
     "output_type": "stream",
     "text": [
      "Processing: truck 4:  87%|████████▋ | 815/932 [07:59<01:15,  1.55file/s]"
     ]
    },
    {
     "name": "stdout",
     "output_type": "stream",
     "text": [
      "tow\n",
      "Vehicle Prediction: tow\n",
      "Validation Result: False\n"
     ]
    },
    {
     "name": "stderr",
     "output_type": "stream",
     "text": [
      "Processing: truck 4:  88%|████████▊ | 816/932 [07:59<01:07,  1.73file/s]"
     ]
    },
    {
     "name": "stdout",
     "output_type": "stream",
     "text": [
      "dump tr\n",
      "Vehicle Prediction: dump tr\n",
      "Validation Result: False\n"
     ]
    },
    {
     "name": "stderr",
     "output_type": "stream",
     "text": [
      "Processing: truck 4:  88%|████████▊ | 817/932 [08:00<01:05,  1.75file/s]"
     ]
    },
    {
     "name": "stdout",
     "output_type": "stream",
     "text": [
      "lorry\n",
      "Vehicle Prediction: lorry\n",
      "Validation Result: True\n",
      "truck\n",
      "Vehicle Prediction: truck\n"
     ]
    },
    {
     "name": "stderr",
     "output_type": "stream",
     "text": [
      "Processing: truck 4:  88%|████████▊ | 818/932 [08:00<01:12,  1.56file/s]"
     ]
    },
    {
     "name": "stdout",
     "output_type": "stream",
     "text": [
      "no\n",
      "Is Pickup Truck: no\n",
      "Validation Result: True\n"
     ]
    },
    {
     "name": "stderr",
     "output_type": "stream",
     "text": [
      "Processing: truck 4:  88%|████████▊ | 819/932 [08:01<01:10,  1.61file/s]"
     ]
    },
    {
     "name": "stdout",
     "output_type": "stream",
     "text": [
      "trailer\n",
      "Vehicle Prediction: trailer\n",
      "Validation Result: True\n",
      "truck\n",
      "Vehicle Prediction: truck\n"
     ]
    },
    {
     "name": "stderr",
     "output_type": "stream",
     "text": [
      "Processing: truck 4:  88%|████████▊ | 820/932 [08:02<01:16,  1.46file/s]"
     ]
    },
    {
     "name": "stdout",
     "output_type": "stream",
     "text": [
      "no\n",
      "Is Pickup Truck: no\n",
      "Validation Result: True\n",
      "truck\n",
      "Vehicle Prediction: truck\n"
     ]
    },
    {
     "name": "stderr",
     "output_type": "stream",
     "text": [
      "Processing: truck 4:  88%|████████▊ | 821/932 [08:03<01:20,  1.39file/s]"
     ]
    },
    {
     "name": "stdout",
     "output_type": "stream",
     "text": [
      "no\n",
      "Is Pickup Truck: no\n",
      "Validation Result: True\n",
      "truck\n",
      "Vehicle Prediction: truck\n"
     ]
    },
    {
     "name": "stderr",
     "output_type": "stream",
     "text": [
      "Processing: truck 4:  88%|████████▊ | 822/932 [08:04<01:28,  1.24file/s]"
     ]
    },
    {
     "name": "stdout",
     "output_type": "stream",
     "text": [
      "no\n",
      "Is Pickup Truck: no\n",
      "Validation Result: True\n"
     ]
    },
    {
     "name": "stderr",
     "output_type": "stream",
     "text": [
      "[codecarbon INFO @ 14:53:25] Energy consumed for RAM : 0.025119 kWh. RAM Power : 188.80178117752075 W\n",
      "[codecarbon INFO @ 14:53:25] Energy consumed for all CPUs : 0.013306 kWh. Total CPU Power : 100.0 W\n",
      "[codecarbon INFO @ 14:53:25] Energy consumed for all GPUs : 0.038418 kWh. Total GPU Power : 294.6023387263285 W\n",
      "[codecarbon INFO @ 14:53:25] 0.076843 kWh of electricity used since the beginning.\n",
      "[codecarbon INFO @ 14:53:25] 0.072413 g.CO2eq/s mean an estimation of 2,283.6008645287056 kg.CO2eq/year\n"
     ]
    },
    {
     "name": "stdout",
     "output_type": "stream",
     "text": [
      "truck\n",
      "Vehicle Prediction: truck\n"
     ]
    },
    {
     "name": "stderr",
     "output_type": "stream",
     "text": [
      "Processing: truck 4:  88%|████████▊ | 823/932 [08:05<01:34,  1.16file/s]"
     ]
    },
    {
     "name": "stdout",
     "output_type": "stream",
     "text": [
      "no\n",
      "Is Pickup Truck: no\n",
      "Validation Result: True\n",
      "truck\n",
      "Vehicle Prediction: truck\n"
     ]
    },
    {
     "name": "stderr",
     "output_type": "stream",
     "text": [
      "Processing: truck 4:  88%|████████▊ | 824/932 [08:06<01:37,  1.11file/s]"
     ]
    },
    {
     "name": "stdout",
     "output_type": "stream",
     "text": [
      "no\n",
      "Is Pickup Truck: no\n",
      "Validation Result: True\n"
     ]
    },
    {
     "name": "stderr",
     "output_type": "stream",
     "text": [
      "Processing: truck 4:  89%|████████▊ | 825/932 [08:06<01:25,  1.25file/s]"
     ]
    },
    {
     "name": "stdout",
     "output_type": "stream",
     "text": [
      "dump tr\n",
      "Vehicle Prediction: dump tr\n",
      "Validation Result: False\n"
     ]
    },
    {
     "name": "stderr",
     "output_type": "stream",
     "text": [
      "Processing: truck 4:  89%|████████▊ | 826/932 [08:07<01:18,  1.36file/s]"
     ]
    },
    {
     "name": "stdout",
     "output_type": "stream",
     "text": [
      "dump tr\n",
      "Vehicle Prediction: dump tr\n",
      "Validation Result: False\n",
      "truck\n",
      "Vehicle Prediction: truck\n"
     ]
    },
    {
     "name": "stderr",
     "output_type": "stream",
     "text": [
      "Processing: truck 4:  89%|████████▊ | 827/932 [08:08<01:19,  1.33file/s]"
     ]
    },
    {
     "name": "stdout",
     "output_type": "stream",
     "text": [
      "no\n",
      "Is Pickup Truck: no\n",
      "Validation Result: True\n",
      "truck\n",
      "Vehicle Prediction: truck\n"
     ]
    },
    {
     "name": "stderr",
     "output_type": "stream",
     "text": [
      "Processing: truck 5:  89%|████████▉ | 828/932 [08:08<01:19,  1.30file/s]"
     ]
    },
    {
     "name": "stdout",
     "output_type": "stream",
     "text": [
      "no\n",
      "Is Pickup Truck: no\n",
      "Validation Result: True\n"
     ]
    },
    {
     "name": "stderr",
     "output_type": "stream",
     "text": [
      "Processing: truck 5:  89%|████████▉ | 829/932 [08:09<01:13,  1.41file/s]"
     ]
    },
    {
     "name": "stdout",
     "output_type": "stream",
     "text": [
      "dump tr\n",
      "Vehicle Prediction: dump tr\n",
      "Validation Result: False\n",
      "truck\n",
      "Vehicle Prediction: truck\n"
     ]
    },
    {
     "name": "stderr",
     "output_type": "stream",
     "text": [
      "Processing: truck 5:  89%|████████▉ | 830/932 [08:10<01:15,  1.36file/s]"
     ]
    },
    {
     "name": "stdout",
     "output_type": "stream",
     "text": [
      "no\n",
      "Is Pickup Truck: no\n",
      "Validation Result: True\n"
     ]
    },
    {
     "name": "stderr",
     "output_type": "stream",
     "text": [
      "Processing: truck 5:  89%|████████▉ | 831/932 [08:10<01:05,  1.54file/s]"
     ]
    },
    {
     "name": "stdout",
     "output_type": "stream",
     "text": [
      "tow\n",
      "Vehicle Prediction: tow\n",
      "Validation Result: False\n"
     ]
    },
    {
     "name": "stderr",
     "output_type": "stream",
     "text": [
      "Processing: truck 5:  89%|████████▉ | 832/932 [08:11<00:58,  1.71file/s]"
     ]
    },
    {
     "name": "stdout",
     "output_type": "stream",
     "text": [
      "dump tr\n",
      "Vehicle Prediction: dump tr\n",
      "Validation Result: False\n",
      "truck\n",
      "Vehicle Prediction: truck\n"
     ]
    },
    {
     "name": "stderr",
     "output_type": "stream",
     "text": [
      "Processing: truck 5:  89%|████████▉ | 833/932 [08:12<01:11,  1.38file/s]"
     ]
    },
    {
     "name": "stdout",
     "output_type": "stream",
     "text": [
      "no\n",
      "Is Pickup Truck: no\n",
      "Validation Result: True\n",
      "truck\n",
      "Vehicle Prediction: truck\n"
     ]
    },
    {
     "name": "stderr",
     "output_type": "stream",
     "text": [
      "Processing: truck 5:  89%|████████▉ | 834/932 [08:13<01:18,  1.24file/s]"
     ]
    },
    {
     "name": "stdout",
     "output_type": "stream",
     "text": [
      "no\n",
      "Is Pickup Truck: no\n",
      "Validation Result: True\n",
      "truck\n",
      "Vehicle Prediction: truck\n"
     ]
    },
    {
     "name": "stderr",
     "output_type": "stream",
     "text": [
      "Processing: truck 5:  90%|████████▉ | 835/932 [08:13<01:18,  1.23file/s]"
     ]
    },
    {
     "name": "stdout",
     "output_type": "stream",
     "text": [
      "no\n",
      "Is Pickup Truck: no\n",
      "Validation Result: True\n"
     ]
    },
    {
     "name": "stderr",
     "output_type": "stream",
     "text": [
      "Processing: truck 5:  90%|████████▉ | 836/932 [08:14<01:09,  1.38file/s]"
     ]
    },
    {
     "name": "stdout",
     "output_type": "stream",
     "text": [
      "dump tr\n",
      "Vehicle Prediction: dump tr\n",
      "Validation Result: False\n"
     ]
    },
    {
     "name": "stderr",
     "output_type": "stream",
     "text": [
      "Processing: truck 5:  90%|████████▉ | 837/932 [08:15<01:06,  1.42file/s]"
     ]
    },
    {
     "name": "stdout",
     "output_type": "stream",
     "text": [
      "dump tr\n",
      "Vehicle Prediction: dump tr\n",
      "Validation Result: False\n",
      "truck\n",
      "Vehicle Prediction: truck\n"
     ]
    },
    {
     "name": "stderr",
     "output_type": "stream",
     "text": [
      "Processing: truck 5:  90%|████████▉ | 838/932 [08:16<01:15,  1.24file/s]"
     ]
    },
    {
     "name": "stdout",
     "output_type": "stream",
     "text": [
      "no\n",
      "Is Pickup Truck: no\n",
      "Validation Result: True\n",
      "truck\n",
      "Vehicle Prediction: truck\n"
     ]
    },
    {
     "name": "stderr",
     "output_type": "stream",
     "text": [
      "Processing: truck 5:  90%|█████████ | 839/932 [08:17<01:21,  1.14file/s]"
     ]
    },
    {
     "name": "stdout",
     "output_type": "stream",
     "text": [
      "no\n",
      "Is Pickup Truck: no\n",
      "Validation Result: True\n",
      "truck\n",
      "Vehicle Prediction: truck\n"
     ]
    },
    {
     "name": "stderr",
     "output_type": "stream",
     "text": [
      "Processing: truck 5:  90%|█████████ | 840/932 [08:18<01:25,  1.07file/s]"
     ]
    },
    {
     "name": "stdout",
     "output_type": "stream",
     "text": [
      "no\n",
      "Is Pickup Truck: no\n",
      "Validation Result: True\n"
     ]
    },
    {
     "name": "stderr",
     "output_type": "stream",
     "text": [
      "Processing: truck 5:  90%|█████████ | 841/932 [08:18<01:14,  1.21file/s]"
     ]
    },
    {
     "name": "stdout",
     "output_type": "stream",
     "text": [
      "tanker\n",
      "Vehicle Prediction: tanker\n",
      "Validation Result: True\n"
     ]
    },
    {
     "name": "stderr",
     "output_type": "stream",
     "text": [
      "[codecarbon INFO @ 14:53:40] Energy consumed for RAM : 0.025907 kWh. RAM Power : 188.80178117752075 W\n",
      "[codecarbon INFO @ 14:53:40] Energy consumed for all CPUs : 0.013723 kWh. Total CPU Power : 100.0 W\n",
      "[codecarbon INFO @ 14:53:40] Energy consumed for all GPUs : 0.039613 kWh. Total GPU Power : 286.6681896885032 W\n",
      "[codecarbon INFO @ 14:53:40] 0.079243 kWh of electricity used since the beginning.\n"
     ]
    },
    {
     "name": "stdout",
     "output_type": "stream",
     "text": [
      "truck\n",
      "Vehicle Prediction: truck\n"
     ]
    },
    {
     "name": "stderr",
     "output_type": "stream",
     "text": [
      "Processing: truck 5:  90%|█████████ | 842/932 [08:19<01:20,  1.11file/s]"
     ]
    },
    {
     "name": "stdout",
     "output_type": "stream",
     "text": [
      "no\n",
      "Is Pickup Truck: no\n",
      "Validation Result: True\n",
      "truck\n",
      "Vehicle Prediction: truck\n"
     ]
    },
    {
     "name": "stderr",
     "output_type": "stream",
     "text": [
      "Processing: truck 5:  90%|█████████ | 843/932 [08:20<01:23,  1.06file/s]"
     ]
    },
    {
     "name": "stdout",
     "output_type": "stream",
     "text": [
      "no\n",
      "Is Pickup Truck: no\n",
      "Validation Result: True\n",
      "truck\n",
      "Vehicle Prediction: truck\n"
     ]
    },
    {
     "name": "stderr",
     "output_type": "stream",
     "text": [
      "Processing: truck 5:  91%|█████████ | 844/932 [08:21<01:25,  1.03file/s]"
     ]
    },
    {
     "name": "stdout",
     "output_type": "stream",
     "text": [
      "no\n",
      "Is Pickup Truck: no\n",
      "Validation Result: True\n",
      "truck\n",
      "Vehicle Prediction: truck\n"
     ]
    },
    {
     "name": "stderr",
     "output_type": "stream",
     "text": [
      "Processing: truck 5:  91%|█████████ | 845/932 [08:23<01:26,  1.00file/s]"
     ]
    },
    {
     "name": "stdout",
     "output_type": "stream",
     "text": [
      "no\n",
      "Is Pickup Truck: no\n",
      "Validation Result: True\n",
      "truck\n",
      "Vehicle Prediction: truck\n"
     ]
    },
    {
     "name": "stderr",
     "output_type": "stream",
     "text": [
      "Processing: truck 5:  91%|█████████ | 846/932 [08:24<01:27,  1.02s/file]"
     ]
    },
    {
     "name": "stdout",
     "output_type": "stream",
     "text": [
      "no\n",
      "Is Pickup Truck: no\n",
      "Validation Result: True\n"
     ]
    },
    {
     "name": "stderr",
     "output_type": "stream",
     "text": [
      "Processing: truck 5:  91%|█████████ | 847/932 [08:24<01:13,  1.15file/s]"
     ]
    },
    {
     "name": "stdout",
     "output_type": "stream",
     "text": [
      "dump tr\n",
      "Vehicle Prediction: dump tr\n",
      "Validation Result: False\n",
      "truck\n",
      "Vehicle Prediction: truck\n"
     ]
    },
    {
     "name": "stderr",
     "output_type": "stream",
     "text": [
      "Processing: truck 5:  91%|█████████ | 848/932 [08:25<01:16,  1.09file/s]"
     ]
    },
    {
     "name": "stdout",
     "output_type": "stream",
     "text": [
      "no\n",
      "Is Pickup Truck: no\n",
      "Validation Result: True\n",
      "truck\n",
      "Vehicle Prediction: truck\n"
     ]
    },
    {
     "name": "stderr",
     "output_type": "stream",
     "text": [
      "Processing: truck 5:  91%|█████████ | 849/932 [08:26<01:19,  1.04file/s]"
     ]
    },
    {
     "name": "stdout",
     "output_type": "stream",
     "text": [
      "no\n",
      "Is Pickup Truck: no\n",
      "Validation Result: True\n"
     ]
    },
    {
     "name": "stderr",
     "output_type": "stream",
     "text": [
      "Processing: truck 5:  91%|█████████ | 850/932 [08:27<01:09,  1.18file/s]"
     ]
    },
    {
     "name": "stdout",
     "output_type": "stream",
     "text": [
      "tanker\n",
      "Vehicle Prediction: tanker\n",
      "Validation Result: True\n",
      "truck\n",
      "Vehicle Prediction: truck\n"
     ]
    },
    {
     "name": "stderr",
     "output_type": "stream",
     "text": [
      "Processing: truck 5:  91%|█████████▏| 851/932 [08:28<01:13,  1.10file/s]"
     ]
    },
    {
     "name": "stdout",
     "output_type": "stream",
     "text": [
      "no\n",
      "Is Pickup Truck: no\n",
      "Validation Result: True\n",
      "truck\n",
      "Vehicle Prediction: truck\n"
     ]
    },
    {
     "name": "stderr",
     "output_type": "stream",
     "text": [
      "Processing: truck 5:  91%|█████████▏| 852/932 [08:29<01:16,  1.05file/s]"
     ]
    },
    {
     "name": "stdout",
     "output_type": "stream",
     "text": [
      "no\n",
      "Is Pickup Truck: no\n",
      "Validation Result: True\n",
      "truck\n",
      "Vehicle Prediction: truck\n"
     ]
    },
    {
     "name": "stderr",
     "output_type": "stream",
     "text": [
      "Processing: truck 5:  92%|█████████▏| 853/932 [08:30<01:17,  1.02file/s]"
     ]
    },
    {
     "name": "stdout",
     "output_type": "stream",
     "text": [
      "no\n",
      "Is Pickup Truck: no\n",
      "Validation Result: True\n",
      "truck\n",
      "Vehicle Prediction: truck\n"
     ]
    },
    {
     "name": "stderr",
     "output_type": "stream",
     "text": [
      "Processing: truck 5:  92%|█████████▏| 854/932 [08:31<01:18,  1.01s/file]"
     ]
    },
    {
     "name": "stdout",
     "output_type": "stream",
     "text": [
      "no\n",
      "Is Pickup Truck: no\n",
      "Validation Result: True\n"
     ]
    },
    {
     "name": "stderr",
     "output_type": "stream",
     "text": [
      "Processing: truck 5:  92%|█████████▏| 855/932 [08:32<01:06,  1.16file/s]"
     ]
    },
    {
     "name": "stdout",
     "output_type": "stream",
     "text": [
      "lorry\n",
      "Vehicle Prediction: lorry\n",
      "Validation Result: True\n"
     ]
    },
    {
     "name": "stderr",
     "output_type": "stream",
     "text": [
      "Processing: truck 5:  92%|█████████▏| 856/932 [08:32<00:56,  1.35file/s]"
     ]
    },
    {
     "name": "stdout",
     "output_type": "stream",
     "text": [
      "dump tr\n",
      "Vehicle Prediction: dump tr\n",
      "Validation Result: False\n"
     ]
    },
    {
     "name": "stderr",
     "output_type": "stream",
     "text": [
      "Processing: truck 5:  92%|█████████▏| 857/932 [08:32<00:48,  1.55file/s]"
     ]
    },
    {
     "name": "stdout",
     "output_type": "stream",
     "text": [
      "dump tr\n",
      "Vehicle Prediction: dump tr\n",
      "Validation Result: False\n",
      "truck\n",
      "Vehicle Prediction: truck\n"
     ]
    },
    {
     "name": "stderr",
     "output_type": "stream",
     "text": [
      "Processing: truck 5:  92%|█████████▏| 858/932 [08:33<00:55,  1.34file/s]"
     ]
    },
    {
     "name": "stdout",
     "output_type": "stream",
     "text": [
      "no\n",
      "Is Pickup Truck: no\n",
      "Validation Result: True\n"
     ]
    },
    {
     "name": "stderr",
     "output_type": "stream",
     "text": [
      "Processing: truck 5:  92%|█████████▏| 859/932 [08:34<00:50,  1.46file/s][codecarbon INFO @ 14:53:55] Energy consumed for RAM : 0.026693 kWh. RAM Power : 188.80178117752075 W\n",
      "[codecarbon INFO @ 14:53:55] Energy consumed for all CPUs : 0.014140 kWh. Total CPU Power : 100.0 W\n",
      "[codecarbon INFO @ 14:53:55] Energy consumed for all GPUs : 0.040828 kWh. Total GPU Power : 291.65354499929134 W\n",
      "[codecarbon INFO @ 14:53:55] 0.081661 kWh of electricity used since the beginning.\n"
     ]
    },
    {
     "name": "stdout",
     "output_type": "stream",
     "text": [
      "dump tr\n",
      "Vehicle Prediction: dump tr\n",
      "Validation Result: False\n",
      "truck\n",
      "Vehicle Prediction: truck\n"
     ]
    },
    {
     "name": "stderr",
     "output_type": "stream",
     "text": [
      "Processing: truck 5:  92%|█████████▏| 860/932 [08:35<00:57,  1.25file/s]"
     ]
    },
    {
     "name": "stdout",
     "output_type": "stream",
     "text": [
      "no\n",
      "Is Pickup Truck: no\n",
      "Validation Result: True\n"
     ]
    },
    {
     "name": "stderr",
     "output_type": "stream",
     "text": [
      "Processing: truck 5:  92%|█████████▏| 861/932 [08:36<00:51,  1.37file/s]"
     ]
    },
    {
     "name": "stdout",
     "output_type": "stream",
     "text": [
      "dump tr\n",
      "Vehicle Prediction: dump tr\n",
      "Validation Result: False\n",
      "truck\n",
      "Vehicle Prediction: truck\n"
     ]
    },
    {
     "name": "stderr",
     "output_type": "stream",
     "text": [
      "Processing: truck 5:  92%|█████████▏| 862/932 [08:37<00:56,  1.24file/s]"
     ]
    },
    {
     "name": "stdout",
     "output_type": "stream",
     "text": [
      "no\n",
      "Is Pickup Truck: no\n",
      "Validation Result: True\n",
      "truck\n",
      "Vehicle Prediction: truck\n"
     ]
    },
    {
     "name": "stderr",
     "output_type": "stream",
     "text": [
      "Processing: truck 5:  93%|█████████▎| 863/932 [08:38<00:59,  1.17file/s]"
     ]
    },
    {
     "name": "stdout",
     "output_type": "stream",
     "text": [
      "no\n",
      "Is Pickup Truck: no\n",
      "Validation Result: True\n"
     ]
    },
    {
     "name": "stderr",
     "output_type": "stream",
     "text": [
      "Processing: truck 5:  93%|█████████▎| 864/932 [08:38<00:49,  1.37file/s]"
     ]
    },
    {
     "name": "stdout",
     "output_type": "stream",
     "text": [
      "dump tr\n",
      "Vehicle Prediction: dump tr\n",
      "Validation Result: False\n"
     ]
    },
    {
     "name": "stderr",
     "output_type": "stream",
     "text": [
      "Processing: truck 5:  93%|█████████▎| 865/932 [08:38<00:43,  1.55file/s]"
     ]
    },
    {
     "name": "stdout",
     "output_type": "stream",
     "text": [
      "dump tr\n",
      "Vehicle Prediction: dump tr\n",
      "Validation Result: False\n",
      "truck\n",
      "Vehicle Prediction: truck\n"
     ]
    },
    {
     "name": "stderr",
     "output_type": "stream",
     "text": [
      "Processing: truck 5:  93%|█████████▎| 866/932 [08:39<00:50,  1.30file/s]"
     ]
    },
    {
     "name": "stdout",
     "output_type": "stream",
     "text": [
      "no\n",
      "Is Pickup Truck: no\n",
      "Validation Result: True\n"
     ]
    },
    {
     "name": "stderr",
     "output_type": "stream",
     "text": [
      "Processing: truck 5:  93%|█████████▎| 867/932 [08:40<00:45,  1.43file/s]"
     ]
    },
    {
     "name": "stdout",
     "output_type": "stream",
     "text": [
      "dump tr\n",
      "Vehicle Prediction: dump tr\n",
      "Validation Result: False\n"
     ]
    },
    {
     "name": "stderr",
     "output_type": "stream",
     "text": [
      "Processing: truck 5:  93%|█████████▎| 868/932 [08:41<00:41,  1.54file/s]"
     ]
    },
    {
     "name": "stdout",
     "output_type": "stream",
     "text": [
      "dump tr\n",
      "Vehicle Prediction: dump tr\n",
      "Validation Result: False\n",
      "truck\n",
      "Vehicle Prediction: truck\n"
     ]
    },
    {
     "name": "stderr",
     "output_type": "stream",
     "text": [
      "Processing: truck 5:  93%|█████████▎| 869/932 [08:42<00:47,  1.33file/s]"
     ]
    },
    {
     "name": "stdout",
     "output_type": "stream",
     "text": [
      "no\n",
      "Is Pickup Truck: no\n",
      "Validation Result: True\n",
      "truck\n",
      "Vehicle Prediction: truck\n"
     ]
    },
    {
     "name": "stderr",
     "output_type": "stream",
     "text": [
      "Processing: truck 5:  93%|█████████▎| 870/932 [08:42<00:47,  1.30file/s]"
     ]
    },
    {
     "name": "stdout",
     "output_type": "stream",
     "text": [
      "no\n",
      "Is Pickup Truck: no\n",
      "Validation Result: True\n"
     ]
    },
    {
     "name": "stderr",
     "output_type": "stream",
     "text": [
      "Processing: truck 5:  93%|█████████▎| 871/932 [08:43<00:42,  1.45file/s]"
     ]
    },
    {
     "name": "stdout",
     "output_type": "stream",
     "text": [
      "dump tr\n",
      "Vehicle Prediction: dump tr\n",
      "Validation Result: False\n"
     ]
    },
    {
     "name": "stderr",
     "output_type": "stream",
     "text": [
      "Processing: truck 5:  94%|█████████▎| 872/932 [08:43<00:36,  1.64file/s]"
     ]
    },
    {
     "name": "stdout",
     "output_type": "stream",
     "text": [
      "dump tr\n",
      "Vehicle Prediction: dump tr\n",
      "Validation Result: False\n"
     ]
    },
    {
     "name": "stderr",
     "output_type": "stream",
     "text": [
      "Processing: truck 5:  94%|█████████▎| 873/932 [08:44<00:35,  1.65file/s]"
     ]
    },
    {
     "name": "stdout",
     "output_type": "stream",
     "text": [
      "lorry\n",
      "Vehicle Prediction: lorry\n",
      "Validation Result: True\n"
     ]
    },
    {
     "name": "stderr",
     "output_type": "stream",
     "text": [
      "Processing: truck 5:  94%|█████████▍| 874/932 [08:44<00:32,  1.80file/s]"
     ]
    },
    {
     "name": "stdout",
     "output_type": "stream",
     "text": [
      "dump tr\n",
      "Vehicle Prediction: dump tr\n",
      "Validation Result: False\n"
     ]
    },
    {
     "name": "stderr",
     "output_type": "stream",
     "text": [
      "Processing: truck 5:  94%|█████████▍| 875/932 [08:45<00:29,  1.94file/s]"
     ]
    },
    {
     "name": "stdout",
     "output_type": "stream",
     "text": [
      "dump tr\n",
      "Vehicle Prediction: dump tr\n",
      "Validation Result: False\n"
     ]
    },
    {
     "name": "stderr",
     "output_type": "stream",
     "text": [
      "Processing: truck 5:  94%|█████████▍| 876/932 [08:45<00:27,  2.05file/s]"
     ]
    },
    {
     "name": "stdout",
     "output_type": "stream",
     "text": [
      "dump tr\n",
      "Vehicle Prediction: dump tr\n",
      "Validation Result: False\n",
      "truck\n",
      "Vehicle Prediction: truck\n"
     ]
    },
    {
     "name": "stderr",
     "output_type": "stream",
     "text": [
      "Processing: truck 5:  94%|█████████▍| 877/932 [08:46<00:34,  1.58file/s]"
     ]
    },
    {
     "name": "stdout",
     "output_type": "stream",
     "text": [
      "no\n",
      "Is Pickup Truck: no\n",
      "Validation Result: True\n"
     ]
    },
    {
     "name": "stderr",
     "output_type": "stream",
     "text": [
      "Processing: truck 5:  94%|█████████▍| 878/932 [08:47<00:30,  1.75file/s]"
     ]
    },
    {
     "name": "stdout",
     "output_type": "stream",
     "text": [
      "dump tr\n",
      "Vehicle Prediction: dump tr\n",
      "Validation Result: False\n"
     ]
    },
    {
     "name": "stderr",
     "output_type": "stream",
     "text": [
      "Processing: truck 5:  94%|█████████▍| 879/932 [08:47<00:30,  1.76file/s]"
     ]
    },
    {
     "name": "stdout",
     "output_type": "stream",
     "text": [
      "lorry\n",
      "Vehicle Prediction: lorry\n",
      "Validation Result: True\n"
     ]
    },
    {
     "name": "stderr",
     "output_type": "stream",
     "text": [
      "Processing: truck 5:  94%|█████████▍| 880/932 [08:48<00:27,  1.91file/s]"
     ]
    },
    {
     "name": "stdout",
     "output_type": "stream",
     "text": [
      "dump tr\n",
      "Vehicle Prediction: dump tr\n",
      "Validation Result: False\n"
     ]
    },
    {
     "name": "stderr",
     "output_type": "stream",
     "text": [
      "Processing: truck 5:  95%|█████████▍| 881/932 [08:48<00:25,  2.01file/s]"
     ]
    },
    {
     "name": "stdout",
     "output_type": "stream",
     "text": [
      "dump tr\n",
      "Vehicle Prediction: dump tr\n",
      "Validation Result: False\n",
      "truck\n",
      "Vehicle Prediction: truck\n"
     ]
    },
    {
     "name": "stderr",
     "output_type": "stream",
     "text": [
      "Processing: truck 5:  95%|█████████▍| 882/932 [08:49<00:29,  1.71file/s]"
     ]
    },
    {
     "name": "stdout",
     "output_type": "stream",
     "text": [
      "no\n",
      "Is Pickup Truck: no\n",
      "Validation Result: True\n"
     ]
    },
    {
     "name": "stderr",
     "output_type": "stream",
     "text": [
      "[codecarbon INFO @ 14:54:10] Energy consumed for RAM : 0.027479 kWh. RAM Power : 188.80178117752075 W\n",
      "[codecarbon INFO @ 14:54:10] Energy consumed for all CPUs : 0.014556 kWh. Total CPU Power : 100.0 W\n",
      "[codecarbon INFO @ 14:54:10] Energy consumed for all GPUs : 0.042015 kWh. Total GPU Power : 284.84426602760755 W\n",
      "[codecarbon INFO @ 14:54:10] 0.084050 kWh of electricity used since the beginning.\n",
      "Processing: truck 5:  95%|█████████▍| 883/932 [08:49<00:27,  1.78file/s]"
     ]
    },
    {
     "name": "stdout",
     "output_type": "stream",
     "text": [
      "dump tr\n",
      "Vehicle Prediction: dump tr\n",
      "Validation Result: False\n"
     ]
    },
    {
     "name": "stderr",
     "output_type": "stream",
     "text": [
      "Processing: truck 5:  95%|█████████▍| 884/932 [08:50<00:24,  1.93file/s]"
     ]
    },
    {
     "name": "stdout",
     "output_type": "stream",
     "text": [
      "dump tr\n",
      "Vehicle Prediction: dump tr\n",
      "Validation Result: False\n"
     ]
    },
    {
     "name": "stderr",
     "output_type": "stream",
     "text": [
      "Processing: truck 5:  95%|█████████▍| 885/932 [08:50<00:23,  2.04file/s]"
     ]
    },
    {
     "name": "stdout",
     "output_type": "stream",
     "text": [
      "dump tr\n",
      "Vehicle Prediction: dump tr\n",
      "Validation Result: False\n"
     ]
    },
    {
     "name": "stderr",
     "output_type": "stream",
     "text": [
      "Processing: truck 5:  95%|█████████▌| 886/932 [08:51<00:23,  1.94file/s]"
     ]
    },
    {
     "name": "stdout",
     "output_type": "stream",
     "text": [
      "dump tr\n",
      "Vehicle Prediction: dump tr\n",
      "Validation Result: False\n",
      "truck\n",
      "Vehicle Prediction: truck\n"
     ]
    },
    {
     "name": "stderr",
     "output_type": "stream",
     "text": [
      "Processing: truck 5:  95%|█████████▌| 887/932 [08:52<00:29,  1.50file/s]"
     ]
    },
    {
     "name": "stdout",
     "output_type": "stream",
     "text": [
      "no\n",
      "Is Pickup Truck: no\n",
      "Validation Result: True\n"
     ]
    },
    {
     "name": "stderr",
     "output_type": "stream",
     "text": [
      "Processing: truck 5:  95%|█████████▌| 888/932 [08:52<00:26,  1.69file/s]"
     ]
    },
    {
     "name": "stdout",
     "output_type": "stream",
     "text": [
      "dump tr\n",
      "Vehicle Prediction: dump tr\n",
      "Validation Result: False\n",
      "truck\n",
      "Vehicle Prediction: truck\n"
     ]
    },
    {
     "name": "stderr",
     "output_type": "stream",
     "text": [
      "Processing: truck 5:  95%|█████████▌| 889/932 [08:53<00:28,  1.52file/s]"
     ]
    },
    {
     "name": "stdout",
     "output_type": "stream",
     "text": [
      "no\n",
      "Is Pickup Truck: no\n",
      "Validation Result: True\n"
     ]
    },
    {
     "name": "stderr",
     "output_type": "stream",
     "text": [
      "Processing: truck 5:  95%|█████████▌| 890/932 [08:53<00:25,  1.63file/s]"
     ]
    },
    {
     "name": "stdout",
     "output_type": "stream",
     "text": [
      "dump tr\n",
      "Vehicle Prediction: dump tr\n",
      "Validation Result: False\n",
      "truck\n",
      "Vehicle Prediction: truck\n"
     ]
    },
    {
     "name": "stderr",
     "output_type": "stream",
     "text": [
      "Processing: truck 5:  96%|█████████▌| 891/932 [08:54<00:27,  1.50file/s]"
     ]
    },
    {
     "name": "stdout",
     "output_type": "stream",
     "text": [
      "no\n",
      "Is Pickup Truck: no\n",
      "Validation Result: True\n",
      "truck\n",
      "Vehicle Prediction: truck\n"
     ]
    },
    {
     "name": "stderr",
     "output_type": "stream",
     "text": [
      "Processing: truck 5:  96%|█████████▌| 892/932 [08:55<00:28,  1.42file/s]"
     ]
    },
    {
     "name": "stdout",
     "output_type": "stream",
     "text": [
      "no\n",
      "Is Pickup Truck: no\n",
      "Validation Result: True\n"
     ]
    },
    {
     "name": "stderr",
     "output_type": "stream",
     "text": [
      "Processing: truck 5:  96%|█████████▌| 893/932 [08:55<00:24,  1.62file/s]"
     ]
    },
    {
     "name": "stdout",
     "output_type": "stream",
     "text": [
      "dump tr\n",
      "Vehicle Prediction: dump tr\n",
      "Validation Result: False\n"
     ]
    },
    {
     "name": "stderr",
     "output_type": "stream",
     "text": [
      "Processing: truck 5:  96%|█████████▌| 894/932 [08:56<00:21,  1.79file/s]"
     ]
    },
    {
     "name": "stdout",
     "output_type": "stream",
     "text": [
      "dump tr\n",
      "Vehicle Prediction: dump tr\n",
      "Validation Result: False\n"
     ]
    },
    {
     "name": "stderr",
     "output_type": "stream",
     "text": [
      "Processing: truck 5:  96%|█████████▌| 895/932 [08:56<00:20,  1.79file/s]"
     ]
    },
    {
     "name": "stdout",
     "output_type": "stream",
     "text": [
      "dump tr\n",
      "Vehicle Prediction: dump tr\n",
      "Validation Result: False\n"
     ]
    },
    {
     "name": "stderr",
     "output_type": "stream",
     "text": [
      "Processing: truck 5:  96%|█████████▌| 896/932 [08:57<00:18,  1.93file/s]"
     ]
    },
    {
     "name": "stdout",
     "output_type": "stream",
     "text": [
      "dump tr\n",
      "Vehicle Prediction: dump tr\n",
      "Validation Result: False\n"
     ]
    },
    {
     "name": "stderr",
     "output_type": "stream",
     "text": [
      "Processing: truck 5:  96%|█████████▌| 897/932 [08:57<00:17,  2.04file/s]"
     ]
    },
    {
     "name": "stdout",
     "output_type": "stream",
     "text": [
      "dump tr\n",
      "Vehicle Prediction: dump tr\n",
      "Validation Result: False\n"
     ]
    },
    {
     "name": "stderr",
     "output_type": "stream",
     "text": [
      "Processing: truck 5:  96%|█████████▋| 898/932 [08:58<00:16,  2.11file/s]"
     ]
    },
    {
     "name": "stdout",
     "output_type": "stream",
     "text": [
      "dump tr\n",
      "Vehicle Prediction: dump tr\n",
      "Validation Result: False\n",
      "truck\n",
      "Vehicle Prediction: truck\n"
     ]
    },
    {
     "name": "stderr",
     "output_type": "stream",
     "text": [
      "Processing: truck 5:  96%|█████████▋| 899/932 [08:59<00:20,  1.62file/s]"
     ]
    },
    {
     "name": "stdout",
     "output_type": "stream",
     "text": [
      "no\n",
      "Is Pickup Truck: no\n",
      "Validation Result: True\n"
     ]
    },
    {
     "name": "stderr",
     "output_type": "stream",
     "text": [
      "Processing: truck 5:  97%|█████████▋| 900/932 [08:59<00:17,  1.78file/s]"
     ]
    },
    {
     "name": "stdout",
     "output_type": "stream",
     "text": [
      "dump tr\n",
      "Vehicle Prediction: dump tr\n",
      "Validation Result: False\n"
     ]
    },
    {
     "name": "stderr",
     "output_type": "stream",
     "text": [
      "Processing: truck 5:  97%|█████████▋| 901/932 [09:00<00:17,  1.80file/s]"
     ]
    },
    {
     "name": "stdout",
     "output_type": "stream",
     "text": [
      "dump tr\n",
      "Vehicle Prediction: dump tr\n",
      "Validation Result: False\n",
      "truck\n",
      "Vehicle Prediction: truck\n"
     ]
    },
    {
     "name": "stderr",
     "output_type": "stream",
     "text": [
      "Processing: truck 5:  97%|█████████▋| 902/932 [09:00<00:18,  1.61file/s]"
     ]
    },
    {
     "name": "stdout",
     "output_type": "stream",
     "text": [
      "no\n",
      "Is Pickup Truck: no\n",
      "Validation Result: True\n"
     ]
    },
    {
     "name": "stderr",
     "output_type": "stream",
     "text": [
      "Processing: truck 5:  97%|█████████▋| 903/932 [09:01<00:16,  1.77file/s]"
     ]
    },
    {
     "name": "stdout",
     "output_type": "stream",
     "text": [
      "lorry\n",
      "Vehicle Prediction: lorry\n",
      "Validation Result: True\n"
     ]
    },
    {
     "name": "stderr",
     "output_type": "stream",
     "text": [
      "Processing: truck 5:  97%|█████████▋| 904/932 [09:01<00:14,  1.90file/s]"
     ]
    },
    {
     "name": "stdout",
     "output_type": "stream",
     "text": [
      "dump tr\n",
      "Vehicle Prediction: dump tr\n",
      "Validation Result: False\n"
     ]
    },
    {
     "name": "stderr",
     "output_type": "stream",
     "text": [
      "Processing: truck 5:  97%|█████████▋| 905/932 [09:02<00:13,  2.00file/s]"
     ]
    }
   ],
   "source": [
    "for models in model_id:\n",
    "    print(models)\n",
    "    model = AutoModelForCausalLM.from_pretrained(\n",
    "    models,\n",
    "    device_map=\"cuda\",\n",
    "    trust_remote_code=True,\n",
    "    torch_dtype=\"auto\",\n",
    "    _attn_implementation='eager'\n",
    "    )\n",
    "\n",
    "# for best performance, use num_crops=4 for multi-frame, num_crops=16 for single-frame.\n",
    "    processor = AutoProcessor.from_pretrained(models,\n",
    "    trust_remote_code=True,\n",
    "    num_crops=16\n",
    "    )\n",
    "        \n",
    "    \n",
    "    wrong_predictions_dir = f'experiment_data/{models}/wrong_predictions'  # Directory to store wrongly predicted images\n",
    "    os.makedirs(wrong_predictions_dir, exist_ok=True)\n",
    "    run = main_loop(wrong_predictions_dir = wrong_predictions_dir)\n",
    "    export_results(run[0], models, run[1], run[2])\n",
    "    \n",
    "        "
   ]
  },
  {
   "cell_type": "code",
   "execution_count": null,
   "metadata": {},
   "outputs": [],
   "source": []
  }
 ],
 "metadata": {
  "accelerator": "GPU",
  "colab": {
   "gpuType": "T4",
   "provenance": []
  },
  "kernelspec": {
   "display_name": "Python 3 (ipykernel)",
   "language": "python",
   "name": "python3"
  },
  "language_info": {
   "codemirror_mode": {
    "name": "ipython",
    "version": 3
   },
   "file_extension": ".py",
   "mimetype": "text/x-python",
   "name": "python",
   "nbconvert_exporter": "python",
   "pygments_lexer": "ipython3",
   "version": "3.11.10"
  },
  "widgets": {
   "application/vnd.jupyter.widget-state+json": {
    "03fb4a86fd634888a5b7b79b8de644c0": {
     "model_module": "@jupyter-widgets/controls",
     "model_module_version": "1.5.0",
     "model_name": "FloatProgressModel",
     "state": {
      "_dom_classes": [],
      "_model_module": "@jupyter-widgets/controls",
      "_model_module_version": "1.5.0",
      "_model_name": "FloatProgressModel",
      "_view_count": null,
      "_view_module": "@jupyter-widgets/controls",
      "_view_module_version": "1.5.0",
      "_view_name": "ProgressView",
      "bar_style": "success",
      "description": "",
      "description_tooltip": null,
      "layout": "IPY_MODEL_ac395c5cf8984c588b5aec4b16d3ecd7",
      "max": 2,
      "min": 0,
      "orientation": "horizontal",
      "style": "IPY_MODEL_b2b2c799c6424b3d8c04b6b0d740495f",
      "value": 2
     }
    },
    "1c8a0accbd9e4ecd92ea6759abcb90b8": {
     "model_module": "@jupyter-widgets/controls",
     "model_module_version": "1.5.0",
     "model_name": "DescriptionStyleModel",
     "state": {
      "_model_module": "@jupyter-widgets/controls",
      "_model_module_version": "1.5.0",
      "_model_name": "DescriptionStyleModel",
      "_view_count": null,
      "_view_module": "@jupyter-widgets/base",
      "_view_module_version": "1.2.0",
      "_view_name": "StyleView",
      "description_width": ""
     }
    },
    "24bdb648a9924a1e9c7492bfad303051": {
     "model_module": "@jupyter-widgets/base",
     "model_module_version": "1.2.0",
     "model_name": "LayoutModel",
     "state": {
      "_model_module": "@jupyter-widgets/base",
      "_model_module_version": "1.2.0",
      "_model_name": "LayoutModel",
      "_view_count": null,
      "_view_module": "@jupyter-widgets/base",
      "_view_module_version": "1.2.0",
      "_view_name": "LayoutView",
      "align_content": null,
      "align_items": null,
      "align_self": null,
      "border": null,
      "bottom": null,
      "display": null,
      "flex": null,
      "flex_flow": null,
      "grid_area": null,
      "grid_auto_columns": null,
      "grid_auto_flow": null,
      "grid_auto_rows": null,
      "grid_column": null,
      "grid_gap": null,
      "grid_row": null,
      "grid_template_areas": null,
      "grid_template_columns": null,
      "grid_template_rows": null,
      "height": null,
      "justify_content": null,
      "justify_items": null,
      "left": null,
      "margin": null,
      "max_height": null,
      "max_width": null,
      "min_height": null,
      "min_width": null,
      "object_fit": null,
      "object_position": null,
      "order": null,
      "overflow": null,
      "overflow_x": null,
      "overflow_y": null,
      "padding": null,
      "right": null,
      "top": null,
      "visibility": null,
      "width": null
     }
    },
    "35e83eef2b3942de9988b141242abf26": {
     "model_module": "@jupyter-widgets/controls",
     "model_module_version": "1.5.0",
     "model_name": "DescriptionStyleModel",
     "state": {
      "_model_module": "@jupyter-widgets/controls",
      "_model_module_version": "1.5.0",
      "_model_name": "DescriptionStyleModel",
      "_view_count": null,
      "_view_module": "@jupyter-widgets/base",
      "_view_module_version": "1.2.0",
      "_view_name": "StyleView",
      "description_width": ""
     }
    },
    "6872ab4ee023411b83902a76159f51a5": {
     "model_module": "@jupyter-widgets/controls",
     "model_module_version": "1.5.0",
     "model_name": "HTMLModel",
     "state": {
      "_dom_classes": [],
      "_model_module": "@jupyter-widgets/controls",
      "_model_module_version": "1.5.0",
      "_model_name": "HTMLModel",
      "_view_count": null,
      "_view_module": "@jupyter-widgets/controls",
      "_view_module_version": "1.5.0",
      "_view_name": "HTMLView",
      "description": "",
      "description_tooltip": null,
      "layout": "IPY_MODEL_e320a6d270f944fcb0002ef0f8316f55",
      "placeholder": "​",
      "style": "IPY_MODEL_1c8a0accbd9e4ecd92ea6759abcb90b8",
      "value": "Loading checkpoint shards: 100%"
     }
    },
    "6b414c9df53d4cff91d850c1ec206af4": {
     "model_module": "@jupyter-widgets/controls",
     "model_module_version": "1.5.0",
     "model_name": "HTMLModel",
     "state": {
      "_dom_classes": [],
      "_model_module": "@jupyter-widgets/controls",
      "_model_module_version": "1.5.0",
      "_model_name": "HTMLModel",
      "_view_count": null,
      "_view_module": "@jupyter-widgets/controls",
      "_view_module_version": "1.5.0",
      "_view_name": "HTMLView",
      "description": "",
      "description_tooltip": null,
      "layout": "IPY_MODEL_c14df69eb5b34254aab962df8ff25261",
      "placeholder": "​",
      "style": "IPY_MODEL_35e83eef2b3942de9988b141242abf26",
      "value": " 2/2 [00:15&lt;00:00,  7.38s/it]"
     }
    },
    "ac395c5cf8984c588b5aec4b16d3ecd7": {
     "model_module": "@jupyter-widgets/base",
     "model_module_version": "1.2.0",
     "model_name": "LayoutModel",
     "state": {
      "_model_module": "@jupyter-widgets/base",
      "_model_module_version": "1.2.0",
      "_model_name": "LayoutModel",
      "_view_count": null,
      "_view_module": "@jupyter-widgets/base",
      "_view_module_version": "1.2.0",
      "_view_name": "LayoutView",
      "align_content": null,
      "align_items": null,
      "align_self": null,
      "border": null,
      "bottom": null,
      "display": null,
      "flex": null,
      "flex_flow": null,
      "grid_area": null,
      "grid_auto_columns": null,
      "grid_auto_flow": null,
      "grid_auto_rows": null,
      "grid_column": null,
      "grid_gap": null,
      "grid_row": null,
      "grid_template_areas": null,
      "grid_template_columns": null,
      "grid_template_rows": null,
      "height": null,
      "justify_content": null,
      "justify_items": null,
      "left": null,
      "margin": null,
      "max_height": null,
      "max_width": null,
      "min_height": null,
      "min_width": null,
      "object_fit": null,
      "object_position": null,
      "order": null,
      "overflow": null,
      "overflow_x": null,
      "overflow_y": null,
      "padding": null,
      "right": null,
      "top": null,
      "visibility": null,
      "width": null
     }
    },
    "b2b2c799c6424b3d8c04b6b0d740495f": {
     "model_module": "@jupyter-widgets/controls",
     "model_module_version": "1.5.0",
     "model_name": "ProgressStyleModel",
     "state": {
      "_model_module": "@jupyter-widgets/controls",
      "_model_module_version": "1.5.0",
      "_model_name": "ProgressStyleModel",
      "_view_count": null,
      "_view_module": "@jupyter-widgets/base",
      "_view_module_version": "1.2.0",
      "_view_name": "StyleView",
      "bar_color": null,
      "description_width": ""
     }
    },
    "beff6fe1bbfd489c88b4d0f9940a1d01": {
     "model_module": "@jupyter-widgets/controls",
     "model_module_version": "1.5.0",
     "model_name": "HBoxModel",
     "state": {
      "_dom_classes": [],
      "_model_module": "@jupyter-widgets/controls",
      "_model_module_version": "1.5.0",
      "_model_name": "HBoxModel",
      "_view_count": null,
      "_view_module": "@jupyter-widgets/controls",
      "_view_module_version": "1.5.0",
      "_view_name": "HBoxView",
      "box_style": "",
      "children": [
       "IPY_MODEL_6872ab4ee023411b83902a76159f51a5",
       "IPY_MODEL_03fb4a86fd634888a5b7b79b8de644c0",
       "IPY_MODEL_6b414c9df53d4cff91d850c1ec206af4"
      ],
      "layout": "IPY_MODEL_24bdb648a9924a1e9c7492bfad303051"
     }
    },
    "c14df69eb5b34254aab962df8ff25261": {
     "model_module": "@jupyter-widgets/base",
     "model_module_version": "1.2.0",
     "model_name": "LayoutModel",
     "state": {
      "_model_module": "@jupyter-widgets/base",
      "_model_module_version": "1.2.0",
      "_model_name": "LayoutModel",
      "_view_count": null,
      "_view_module": "@jupyter-widgets/base",
      "_view_module_version": "1.2.0",
      "_view_name": "LayoutView",
      "align_content": null,
      "align_items": null,
      "align_self": null,
      "border": null,
      "bottom": null,
      "display": null,
      "flex": null,
      "flex_flow": null,
      "grid_area": null,
      "grid_auto_columns": null,
      "grid_auto_flow": null,
      "grid_auto_rows": null,
      "grid_column": null,
      "grid_gap": null,
      "grid_row": null,
      "grid_template_areas": null,
      "grid_template_columns": null,
      "grid_template_rows": null,
      "height": null,
      "justify_content": null,
      "justify_items": null,
      "left": null,
      "margin": null,
      "max_height": null,
      "max_width": null,
      "min_height": null,
      "min_width": null,
      "object_fit": null,
      "object_position": null,
      "order": null,
      "overflow": null,
      "overflow_x": null,
      "overflow_y": null,
      "padding": null,
      "right": null,
      "top": null,
      "visibility": null,
      "width": null
     }
    },
    "e320a6d270f944fcb0002ef0f8316f55": {
     "model_module": "@jupyter-widgets/base",
     "model_module_version": "1.2.0",
     "model_name": "LayoutModel",
     "state": {
      "_model_module": "@jupyter-widgets/base",
      "_model_module_version": "1.2.0",
      "_model_name": "LayoutModel",
      "_view_count": null,
      "_view_module": "@jupyter-widgets/base",
      "_view_module_version": "1.2.0",
      "_view_name": "LayoutView",
      "align_content": null,
      "align_items": null,
      "align_self": null,
      "border": null,
      "bottom": null,
      "display": null,
      "flex": null,
      "flex_flow": null,
      "grid_area": null,
      "grid_auto_columns": null,
      "grid_auto_flow": null,
      "grid_auto_rows": null,
      "grid_column": null,
      "grid_gap": null,
      "grid_row": null,
      "grid_template_areas": null,
      "grid_template_columns": null,
      "grid_template_rows": null,
      "height": null,
      "justify_content": null,
      "justify_items": null,
      "left": null,
      "margin": null,
      "max_height": null,
      "max_width": null,
      "min_height": null,
      "min_width": null,
      "object_fit": null,
      "object_position": null,
      "order": null,
      "overflow": null,
      "overflow_x": null,
      "overflow_y": null,
      "padding": null,
      "right": null,
      "top": null,
      "visibility": null,
      "width": null
     }
    }
   }
  }
 },
 "nbformat": 4,
 "nbformat_minor": 4
}
