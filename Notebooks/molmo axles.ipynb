{
 "cells": [
  {
   "cell_type": "code",
   "execution_count": 5,
   "metadata": {
    "editable": false,
    "execution": {
     "iopub.execute_input": "2024-12-25T15:08:29.170601Z",
     "iopub.status.busy": "2024-12-25T15:08:29.170184Z",
     "iopub.status.idle": "2024-12-25T15:08:36.891309Z",
     "shell.execute_reply": "2024-12-25T15:08:36.890321Z",
     "shell.execute_reply.started": "2024-12-25T15:08:29.170567Z"
    },
    "trusted": true
   },
   "outputs": [
    {
     "name": "stderr",
     "output_type": "stream",
     "text": [
      "/usr/lib/python3.10/pty.py:89: RuntimeWarning: os.fork() was called. os.fork() is incompatible with multithreaded code, and JAX is multithreaded, so this will likely lead to a deadlock.\n",
      "  pid, fd = os.forkpty()\n"
     ]
    },
    {
     "name": "stdout",
     "output_type": "stream",
     "text": [
      "Requirement already satisfied: einops in /usr/local/lib/python3.10/dist-packages (0.8.0)\n",
      "Requirement already satisfied: tensorflow-cpu in /usr/local/lib/python3.10/dist-packages (2.18.0)\n",
      "Requirement already satisfied: transformers in /usr/local/lib/python3.10/dist-packages (4.44.2)\n",
      "Requirement already satisfied: accelerate in /usr/local/lib/python3.10/dist-packages (0.34.2)\n",
      "Requirement already satisfied: bitsandbytes in /usr/local/lib/python3.10/dist-packages (0.45.0)\n",
      "Collecting codecarbon\n",
      "  Downloading codecarbon-2.8.2-py3-none-any.whl.metadata (8.7 kB)\n",
      "Requirement already satisfied: absl-py>=1.0.0 in /usr/local/lib/python3.10/dist-packages (from tensorflow-cpu) (1.4.0)\n",
      "Requirement already satisfied: astunparse>=1.6.0 in /usr/local/lib/python3.10/dist-packages (from tensorflow-cpu) (1.6.3)\n",
      "Requirement already satisfied: flatbuffers>=24.3.25 in /usr/local/lib/python3.10/dist-packages (from tensorflow-cpu) (24.3.25)\n",
      "Requirement already satisfied: gast!=0.5.0,!=0.5.1,!=0.5.2,>=0.2.1 in /usr/local/lib/python3.10/dist-packages (from tensorflow-cpu) (0.6.0)\n",
      "Requirement already satisfied: google-pasta>=0.1.1 in /usr/local/lib/python3.10/dist-packages (from tensorflow-cpu) (0.2.0)\n",
      "Requirement already satisfied: libclang>=13.0.0 in /usr/local/lib/python3.10/dist-packages (from tensorflow-cpu) (18.1.1)\n",
      "Requirement already satisfied: opt-einsum>=2.3.2 in /usr/local/lib/python3.10/dist-packages (from tensorflow-cpu) (3.3.0)\n",
      "Requirement already satisfied: packaging in /usr/local/lib/python3.10/dist-packages (from tensorflow-cpu) (24.1)\n",
      "Requirement already satisfied: protobuf!=4.21.0,!=4.21.1,!=4.21.2,!=4.21.3,!=4.21.4,!=4.21.5,<6.0.0dev,>=3.20.3 in /usr/local/lib/python3.10/dist-packages (from tensorflow-cpu) (3.20.3)\n",
      "Requirement already satisfied: requests<3,>=2.21.0 in /usr/local/lib/python3.10/dist-packages (from tensorflow-cpu) (2.32.3)\n",
      "Requirement already satisfied: setuptools in /usr/local/lib/python3.10/dist-packages (from tensorflow-cpu) (71.0.4)\n",
      "Requirement already satisfied: six>=1.12.0 in /usr/local/lib/python3.10/dist-packages (from tensorflow-cpu) (1.16.0)\n",
      "Requirement already satisfied: termcolor>=1.1.0 in /usr/local/lib/python3.10/dist-packages (from tensorflow-cpu) (2.4.0)\n",
      "Requirement already satisfied: typing-extensions>=3.6.6 in /usr/local/lib/python3.10/dist-packages (from tensorflow-cpu) (4.12.2)\n",
      "Requirement already satisfied: wrapt>=1.11.0 in /usr/local/lib/python3.10/dist-packages (from tensorflow-cpu) (1.16.0)\n",
      "Requirement already satisfied: grpcio<2.0,>=1.24.3 in /usr/local/lib/python3.10/dist-packages (from tensorflow-cpu) (1.64.1)\n",
      "Requirement already satisfied: tensorboard<2.19,>=2.18 in /usr/local/lib/python3.10/dist-packages (from tensorflow-cpu) (2.18.0)\n",
      "Requirement already satisfied: keras>=3.5.0 in /usr/local/lib/python3.10/dist-packages (from tensorflow-cpu) (3.7.0)\n",
      "Requirement already satisfied: numpy<2.1.0,>=1.26.0 in /usr/local/lib/python3.10/dist-packages (from tensorflow-cpu) (1.26.4)\n",
      "Requirement already satisfied: h5py>=3.11.0 in /usr/local/lib/python3.10/dist-packages (from tensorflow-cpu) (3.11.0)\n",
      "Requirement already satisfied: ml-dtypes<0.5.0,>=0.4.0 in /usr/local/lib/python3.10/dist-packages (from tensorflow-cpu) (0.4.1)\n",
      "Requirement already satisfied: tensorflow-io-gcs-filesystem>=0.23.1 in /usr/local/lib/python3.10/dist-packages (from tensorflow-cpu) (0.37.1)\n",
      "Requirement already satisfied: filelock in /usr/local/lib/python3.10/dist-packages (from transformers) (3.16.1)\n",
      "Requirement already satisfied: huggingface-hub<1.0,>=0.23.2 in /usr/local/lib/python3.10/dist-packages (from transformers) (0.24.7)\n",
      "Requirement already satisfied: pyyaml>=5.1 in /usr/local/lib/python3.10/dist-packages (from transformers) (6.0.2)\n",
      "Requirement already satisfied: regex!=2019.12.17 in /usr/local/lib/python3.10/dist-packages (from transformers) (2024.9.11)\n",
      "Requirement already satisfied: safetensors>=0.4.1 in /usr/local/lib/python3.10/dist-packages (from transformers) (0.4.5)\n",
      "Requirement already satisfied: tokenizers<0.20,>=0.19 in /usr/local/lib/python3.10/dist-packages (from transformers) (0.19.1)\n",
      "Requirement already satisfied: tqdm>=4.27 in /usr/local/lib/python3.10/dist-packages (from transformers) (4.66.5)\n",
      "Requirement already satisfied: psutil in /usr/local/lib/python3.10/dist-packages (from accelerate) (5.9.5)\n",
      "Requirement already satisfied: torch>=1.10.0 in /usr/local/lib/python3.10/dist-packages (from accelerate) (2.4.1+cu121)\n",
      "Requirement already satisfied: arrow in /usr/local/lib/python3.10/dist-packages (from codecarbon) (1.3.0)\n",
      "Requirement already satisfied: click in /usr/local/lib/python3.10/dist-packages (from codecarbon) (8.1.7)\n",
      "Collecting fief-client[cli] (from codecarbon)\n",
      "  Downloading fief_client-0.20.0-py3-none-any.whl.metadata (2.1 kB)\n",
      "Requirement already satisfied: pandas in /usr/local/lib/python3.10/dist-packages (from codecarbon) (2.1.4)\n",
      "Requirement already satisfied: prometheus-client in /usr/local/lib/python3.10/dist-packages (from codecarbon) (0.20.0)\n",
      "Requirement already satisfied: py-cpuinfo in /usr/local/lib/python3.10/dist-packages (from codecarbon) (9.0.0)\n",
      "Collecting pynvml (from codecarbon)\n",
      "  Downloading pynvml-12.0.0-py3-none-any.whl.metadata (5.4 kB)\n",
      "Collecting questionary (from codecarbon)\n",
      "  Downloading questionary-2.0.1-py3-none-any.whl.metadata (5.4 kB)\n",
      "Collecting rapidfuzz (from codecarbon)\n",
      "  Downloading rapidfuzz-3.11.0-cp310-cp310-manylinux_2_17_x86_64.manylinux2014_x86_64.whl.metadata (11 kB)\n",
      "Requirement already satisfied: rich in /usr/local/lib/python3.10/dist-packages (from codecarbon) (13.8.1)\n",
      "Requirement already satisfied: typer in /usr/local/lib/python3.10/dist-packages (from codecarbon) (0.12.5)\n",
      "Requirement already satisfied: wheel<1.0,>=0.23.0 in /usr/local/lib/python3.10/dist-packages (from astunparse>=1.6.0->tensorflow-cpu) (0.44.0)\n",
      "Requirement already satisfied: fsspec>=2023.5.0 in /usr/local/lib/python3.10/dist-packages (from huggingface-hub<1.0,>=0.23.2->transformers) (2024.6.1)\n",
      "Requirement already satisfied: namex in /usr/local/lib/python3.10/dist-packages (from keras>=3.5.0->tensorflow-cpu) (0.0.8)\n",
      "Requirement already satisfied: optree in /usr/local/lib/python3.10/dist-packages (from keras>=3.5.0->tensorflow-cpu) (0.12.1)\n",
      "Requirement already satisfied: charset-normalizer<4,>=2 in /usr/local/lib/python3.10/dist-packages (from requests<3,>=2.21.0->tensorflow-cpu) (3.3.2)\n",
      "Requirement already satisfied: idna<4,>=2.5 in /usr/local/lib/python3.10/dist-packages (from requests<3,>=2.21.0->tensorflow-cpu) (3.10)\n",
      "Requirement already satisfied: urllib3<3,>=1.21.1 in /usr/local/lib/python3.10/dist-packages (from requests<3,>=2.21.0->tensorflow-cpu) (2.2.3)\n",
      "Requirement already satisfied: certifi>=2017.4.17 in /usr/local/lib/python3.10/dist-packages (from requests<3,>=2.21.0->tensorflow-cpu) (2024.8.30)\n",
      "Requirement already satisfied: markdown>=2.6.8 in /usr/local/lib/python3.10/dist-packages (from tensorboard<2.19,>=2.18->tensorflow-cpu) (3.7)\n",
      "Requirement already satisfied: tensorboard-data-server<0.8.0,>=0.7.0 in /usr/local/lib/python3.10/dist-packages (from tensorboard<2.19,>=2.18->tensorflow-cpu) (0.7.2)\n",
      "Requirement already satisfied: werkzeug>=1.0.1 in /usr/local/lib/python3.10/dist-packages (from tensorboard<2.19,>=2.18->tensorflow-cpu) (3.0.4)\n",
      "Requirement already satisfied: sympy in /usr/local/lib/python3.10/dist-packages (from torch>=1.10.0->accelerate) (1.13.3)\n",
      "Requirement already satisfied: networkx in /usr/local/lib/python3.10/dist-packages (from torch>=1.10.0->accelerate) (3.3)\n",
      "Requirement already satisfied: jinja2 in /usr/local/lib/python3.10/dist-packages (from torch>=1.10.0->accelerate) (3.1.4)\n",
      "Requirement already satisfied: python-dateutil>=2.7.0 in /usr/local/lib/python3.10/dist-packages (from arrow->codecarbon) (2.8.2)\n",
      "Requirement already satisfied: types-python-dateutil>=2.8.10 in /usr/local/lib/python3.10/dist-packages (from arrow->codecarbon) (2.9.0.20241206)\n",
      "Collecting httpx<0.28.0,>=0.21.3 (from fief-client[cli]->codecarbon)\n",
      "  Downloading httpx-0.27.2-py3-none-any.whl.metadata (7.1 kB)\n",
      "Collecting jwcrypto<2.0.0,>=1.4 (from fief-client[cli]->codecarbon)\n",
      "  Downloading jwcrypto-1.5.6-py3-none-any.whl.metadata (3.1 kB)\n",
      "Collecting yaspin (from fief-client[cli]->codecarbon)\n",
      "  Downloading yaspin-3.1.0-py3-none-any.whl.metadata (14 kB)\n",
      "Requirement already satisfied: pytz>=2020.1 in /usr/local/lib/python3.10/dist-packages (from pandas->codecarbon) (2024.2)\n",
      "Requirement already satisfied: tzdata>=2022.1 in /usr/local/lib/python3.10/dist-packages (from pandas->codecarbon) (2024.1)\n",
      "Collecting nvidia-ml-py<13.0.0a0,>=12.0.0 (from pynvml->codecarbon)\n",
      "  Downloading nvidia_ml_py-12.560.30-py3-none-any.whl.metadata (8.6 kB)\n",
      "Collecting prompt_toolkit<=3.0.36,>=2.0 (from questionary->codecarbon)\n",
      "  Downloading prompt_toolkit-3.0.36-py3-none-any.whl.metadata (7.0 kB)\n",
      "Requirement already satisfied: markdown-it-py>=2.2.0 in /usr/local/lib/python3.10/dist-packages (from rich->codecarbon) (3.0.0)\n",
      "Requirement already satisfied: pygments<3.0.0,>=2.13.0 in /usr/local/lib/python3.10/dist-packages (from rich->codecarbon) (2.18.0)\n",
      "Requirement already satisfied: shellingham>=1.3.0 in /usr/local/lib/python3.10/dist-packages (from typer->codecarbon) (1.5.4)\n",
      "Requirement already satisfied: anyio in /usr/local/lib/python3.10/dist-packages (from httpx<0.28.0,>=0.21.3->fief-client[cli]->codecarbon) (3.7.1)\n",
      "Collecting httpcore==1.* (from httpx<0.28.0,>=0.21.3->fief-client[cli]->codecarbon)\n",
      "  Downloading httpcore-1.0.7-py3-none-any.whl.metadata (21 kB)\n",
      "Requirement already satisfied: sniffio in /usr/local/lib/python3.10/dist-packages (from httpx<0.28.0,>=0.21.3->fief-client[cli]->codecarbon) (1.3.1)\n",
      "Collecting h11<0.15,>=0.13 (from httpcore==1.*->httpx<0.28.0,>=0.21.3->fief-client[cli]->codecarbon)\n",
      "  Downloading h11-0.14.0-py3-none-any.whl.metadata (8.2 kB)\n",
      "Requirement already satisfied: cryptography>=3.4 in /usr/local/lib/python3.10/dist-packages (from jwcrypto<2.0.0,>=1.4->fief-client[cli]->codecarbon) (43.0.1)\n",
      "Requirement already satisfied: mdurl~=0.1 in /usr/local/lib/python3.10/dist-packages (from markdown-it-py>=2.2.0->rich->codecarbon) (0.1.2)\n",
      "Requirement already satisfied: wcwidth in /usr/local/lib/python3.10/dist-packages (from prompt_toolkit<=3.0.36,>=2.0->questionary->codecarbon) (0.2.13)\n",
      "Requirement already satisfied: MarkupSafe>=2.1.1 in /usr/local/lib/python3.10/dist-packages (from werkzeug>=1.0.1->tensorboard<2.19,>=2.18->tensorflow-cpu) (2.1.5)\n",
      "Requirement already satisfied: mpmath<1.4,>=1.1.0 in /usr/local/lib/python3.10/dist-packages (from sympy->torch>=1.10.0->accelerate) (1.3.0)\n",
      "Collecting termcolor>=1.1.0 (from tensorflow-cpu)\n",
      "  Downloading termcolor-2.3.0-py3-none-any.whl.metadata (5.3 kB)\n",
      "Requirement already satisfied: cffi>=1.12 in /usr/local/lib/python3.10/dist-packages (from cryptography>=3.4->jwcrypto<2.0.0,>=1.4->fief-client[cli]->codecarbon) (1.17.1)\n",
      "Requirement already satisfied: exceptiongroup in /usr/local/lib/python3.10/dist-packages (from anyio->httpx<0.28.0,>=0.21.3->fief-client[cli]->codecarbon) (1.2.2)\n",
      "Requirement already satisfied: pycparser in /usr/local/lib/python3.10/dist-packages (from cffi>=1.12->cryptography>=3.4->jwcrypto<2.0.0,>=1.4->fief-client[cli]->codecarbon) (2.22)\n",
      "Downloading codecarbon-2.8.2-py3-none-any.whl (516 kB)\n",
      "\u001b[2K   \u001b[90m━━━━━━━━━━━━━━━━━━━━━━━━━━━━━━━━━━━━━━━━\u001b[0m \u001b[32m516.6/516.6 kB\u001b[0m \u001b[31m9.7 MB/s\u001b[0m eta \u001b[36m0:00:00\u001b[0mta \u001b[36m0:00:01\u001b[0m\n",
      "\u001b[?25hDownloading pynvml-12.0.0-py3-none-any.whl (26 kB)\n",
      "Downloading questionary-2.0.1-py3-none-any.whl (34 kB)\n",
      "Downloading rapidfuzz-3.11.0-cp310-cp310-manylinux_2_17_x86_64.manylinux2014_x86_64.whl (3.1 MB)\n",
      "\u001b[2K   \u001b[90m━━━━━━━━━━━━━━━━━━━━━━━━━━━━━━━━━━━━━━━━\u001b[0m \u001b[32m3.1/3.1 MB\u001b[0m \u001b[31m61.7 MB/s\u001b[0m eta \u001b[36m0:00:00\u001b[0m:00:01\u001b[0m\n",
      "\u001b[?25hDownloading httpx-0.27.2-py3-none-any.whl (76 kB)\n",
      "\u001b[2K   \u001b[90m━━━━━━━━━━━━━━━━━━━━━━━━━━━━━━━━━━━━━━━━\u001b[0m \u001b[32m76.4/76.4 kB\u001b[0m \u001b[31m6.2 MB/s\u001b[0m eta \u001b[36m0:00:00\u001b[0m\n",
      "\u001b[?25hDownloading httpcore-1.0.7-py3-none-any.whl (78 kB)\n",
      "\u001b[2K   \u001b[90m━━━━━━━━━━━━━━━━━━━━━━━━━━━━━━━━━━━━━━━━\u001b[0m \u001b[32m78.6/78.6 kB\u001b[0m \u001b[31m6.4 MB/s\u001b[0m eta \u001b[36m0:00:00\u001b[0m\n",
      "\u001b[?25hDownloading jwcrypto-1.5.6-py3-none-any.whl (92 kB)\n",
      "\u001b[2K   \u001b[90m━━━━━━━━━━━━━━━━━━━━━━━━━━━━━━━━━━━━━━━━\u001b[0m \u001b[32m92.5/92.5 kB\u001b[0m \u001b[31m7.1 MB/s\u001b[0m eta \u001b[36m0:00:00\u001b[0m\n",
      "\u001b[?25hDownloading nvidia_ml_py-12.560.30-py3-none-any.whl (40 kB)\n",
      "\u001b[2K   \u001b[90m━━━━━━━━━━━━━━━━━━━━━━━━━━━━━━━━━━━━━━━━\u001b[0m \u001b[32m40.5/40.5 kB\u001b[0m \u001b[31m3.3 MB/s\u001b[0m eta \u001b[36m0:00:00\u001b[0m\n",
      "\u001b[?25hDownloading prompt_toolkit-3.0.36-py3-none-any.whl (386 kB)\n",
      "\u001b[2K   \u001b[90m━━━━━━━━━━━━━━━━━━━━━━━━━━━━━━━━━━━━━━━━\u001b[0m \u001b[32m386.4/386.4 kB\u001b[0m \u001b[31m25.8 MB/s\u001b[0m eta \u001b[36m0:00:00\u001b[0m\n",
      "\u001b[?25hDownloading fief_client-0.20.0-py3-none-any.whl (20 kB)\n",
      "Downloading yaspin-3.1.0-py3-none-any.whl (18 kB)\n",
      "Downloading termcolor-2.3.0-py3-none-any.whl (6.9 kB)\n",
      "Downloading h11-0.14.0-py3-none-any.whl (58 kB)\n",
      "\u001b[2K   \u001b[90m━━━━━━━━━━━━━━━━━━━━━━━━━━━━━━━━━━━━━━━━\u001b[0m \u001b[32m58.3/58.3 kB\u001b[0m \u001b[31m4.4 MB/s\u001b[0m eta \u001b[36m0:00:00\u001b[0m\n",
      "\u001b[?25hInstalling collected packages: nvidia-ml-py, termcolor, rapidfuzz, pynvml, prompt_toolkit, h11, yaspin, questionary, httpcore, jwcrypto, httpx, fief-client, codecarbon\n",
      "  Attempting uninstall: termcolor\n",
      "    Found existing installation: termcolor 2.4.0\n",
      "    Uninstalling termcolor-2.4.0:\n",
      "      Successfully uninstalled termcolor-2.4.0\n",
      "  Attempting uninstall: prompt_toolkit\n",
      "    Found existing installation: prompt_toolkit 3.0.47\n",
      "    Uninstalling prompt_toolkit-3.0.47:\n",
      "      Successfully uninstalled prompt_toolkit-3.0.47\n",
      "\u001b[31mERROR: pip's dependency resolver does not currently take into account all the packages that are installed. This behaviour is the source of the following dependency conflicts.\n",
      "tensorflow 2.17.0 requires tensorboard<2.18,>=2.17, but you have tensorboard 2.18.0 which is incompatible.\u001b[0m\u001b[31m\n",
      "\u001b[0mSuccessfully installed codecarbon-2.8.2 fief-client-0.20.0 h11-0.14.0 httpcore-1.0.7 httpx-0.27.2 jwcrypto-1.5.6 nvidia-ml-py-12.560.30 prompt_toolkit-3.0.36 pynvml-12.0.0 questionary-2.0.1 rapidfuzz-3.11.0 termcolor-2.3.0 yaspin-3.1.0\n"
     ]
    }
   ],
   "source": [
    "!pip install einops tensorflow-cpu transformers accelerate bitsandbytes codecarbon"
   ]
  },
  {
   "cell_type": "code",
   "execution_count": 2,
   "metadata": {
    "colab": {
     "base_uri": "https://localhost:8080/"
    },
    "editable": false,
    "execution": {
     "iopub.execute_input": "2024-12-25T15:06:29.181769Z",
     "iopub.status.busy": "2024-12-25T15:06:29.181475Z",
     "iopub.status.idle": "2024-12-25T15:06:33.378503Z",
     "shell.execute_reply": "2024-12-25T15:06:33.377642Z",
     "shell.execute_reply.started": "2024-12-25T15:06:29.181747Z"
    },
    "id": "o2vP9MtDmuLm",
    "outputId": "8d2200b2-9935-462c-9c42-a7e648d8d36a",
    "trusted": true
   },
   "outputs": [
    {
     "name": "stdout",
     "output_type": "stream",
     "text": [
      "Cloning into 'benchmark_vlm'...\n",
      "remote: Enumerating objects: 2212, done.\u001b[K\n",
      "remote: Counting objects: 100% (20/20), done.\u001b[K\n",
      "remote: Compressing objects: 100% (17/17), done.\u001b[K\n",
      "remote: Total 2212 (delta 1), reused 11 (delta 1), pack-reused 2192 (from 1)\u001b[K\n",
      "Receiving objects: 100% (2212/2212), 133.63 MiB | 50.42 MiB/s, done.\n",
      "Resolving deltas: 100% (1/1), done.\n"
     ]
    }
   ],
   "source": [
    "!git clone https://github.com/muqtasid87/benchmark_vlm"
   ]
  },
  {
   "cell_type": "code",
   "execution_count": 6,
   "metadata": {
    "editable": false,
    "execution": {
     "iopub.execute_input": "2024-12-25T15:09:31.978723Z",
     "iopub.status.busy": "2024-12-25T15:09:31.978399Z",
     "iopub.status.idle": "2024-12-25T15:09:32.074717Z",
     "shell.execute_reply": "2024-12-25T15:09:32.073857Z",
     "shell.execute_reply.started": "2024-12-25T15:09:31.978698Z"
    },
    "id": "plFroaGkxr7n",
    "trusted": true
   },
   "outputs": [],
   "source": [
    "\n",
    "from transformers import BitsAndBytesConfig\n",
    "from transformers import (\n",
    "    AutoModelForCausalLM,\n",
    "    AutoProcessor,\n",
    "    GenerationConfig,\n",
    ")\n",
    "from transformers.image_utils import load_image\n",
    "import torch\n",
    "import csv\n",
    "import platform\n",
    "from transformers import pipeline\n",
    "import psutil\n",
    "import numpy as np\n",
    "from PIL import Image\n",
    "import os\n",
    "import shutil\n",
    "import time\n",
    "from codecarbon import EmissionsTracker\n",
    "import requests\n",
    "from transformers import AutoModelForCausalLM\n",
    "from transformers import AutoProcessor"
   ]
  },
  {
   "cell_type": "code",
   "execution_count": 7,
   "metadata": {
    "colab": {
     "base_uri": "https://localhost:8080/",
     "height": 49,
     "referenced_widgets": [
      "beff6fe1bbfd489c88b4d0f9940a1d01",
      "6872ab4ee023411b83902a76159f51a5",
      "03fb4a86fd634888a5b7b79b8de644c0",
      "6b414c9df53d4cff91d850c1ec206af4",
      "24bdb648a9924a1e9c7492bfad303051",
      "e320a6d270f944fcb0002ef0f8316f55",
      "1c8a0accbd9e4ecd92ea6759abcb90b8",
      "ac395c5cf8984c588b5aec4b16d3ecd7",
      "b2b2c799c6424b3d8c04b6b0d740495f",
      "c14df69eb5b34254aab962df8ff25261",
      "35e83eef2b3942de9988b141242abf26"
     ]
    },
    "editable": false,
    "execution": {
     "iopub.execute_input": "2024-12-25T15:09:33.033671Z",
     "iopub.status.busy": "2024-12-25T15:09:33.033348Z",
     "iopub.status.idle": "2024-12-25T15:09:33.037173Z",
     "shell.execute_reply": "2024-12-25T15:09:33.036346Z",
     "shell.execute_reply.started": "2024-12-25T15:09:33.033641Z"
    },
    "id": "hdmdVbNBxaZl",
    "outputId": "4e6c4c7a-c491-4f59-a7f2-6d9f04ecd6e9",
    "trusted": true
   },
   "outputs": [],
   "source": [
    "model_id = [\"cyan2k/molmo-7B-D-bnb-4bit\"]"
   ]
  },
  {
   "cell_type": "code",
   "execution_count": 8,
   "metadata": {
    "editable": false,
    "execution": {
     "iopub.execute_input": "2024-12-25T15:09:33.455422Z",
     "iopub.status.busy": "2024-12-25T15:09:33.455180Z",
     "iopub.status.idle": "2024-12-25T15:09:33.459013Z",
     "shell.execute_reply": "2024-12-25T15:09:33.458082Z",
     "shell.execute_reply.started": "2024-12-25T15:09:33.455402Z"
    },
    "id": "L10lGQF8yCdE",
    "trusted": true
   },
   "outputs": [],
   "source": [
    "# Image directory\n",
    "img_dir = 'benchmark_vlm/master'"
   ]
  },
  {
   "cell_type": "markdown",
   "metadata": {
    "editable": false,
    "id": "8k86dXQJ9_81"
   },
   "source": [
    "### Inference Function"
   ]
  },
  {
   "cell_type": "code",
   "execution_count": 9,
   "metadata": {
    "editable": false,
    "execution": {
     "iopub.execute_input": "2024-12-25T15:09:36.394294Z",
     "iopub.status.busy": "2024-12-25T15:09:36.394003Z",
     "iopub.status.idle": "2024-12-25T15:09:36.397579Z",
     "shell.execute_reply": "2024-12-25T15:09:36.396885Z",
     "shell.execute_reply.started": "2024-12-25T15:09:36.394273Z"
    },
    "trusted": true
   },
   "outputs": [],
   "source": [
    "# model = AutoModelForCausalLM.from_pretrained(\n",
    "#   model_id[0],\n",
    "#   device_map=\"cuda\",\n",
    "#   trust_remote_code=True,\n",
    "#   torch_dtype=\"auto\",\n",
    "#   _attn_implementation='eager'\n",
    "# )\n",
    "\n",
    "# # for best performance, use num_crops=4 for multi-frame, num_crops=16 for single-frame.\n",
    "# processor = AutoProcessor.from_pretrained(model_id[0],\n",
    "#   trust_remote_code=True,\n",
    "#   num_crops=16\n",
    "# )"
   ]
  },
  {
   "cell_type": "code",
   "execution_count": 10,
   "metadata": {
    "editable": false,
    "execution": {
     "iopub.execute_input": "2024-12-25T15:09:36.793016Z",
     "iopub.status.busy": "2024-12-25T15:09:36.792709Z",
     "iopub.status.idle": "2024-12-25T15:09:36.798298Z",
     "shell.execute_reply": "2024-12-25T15:09:36.797597Z",
     "shell.execute_reply.started": "2024-12-25T15:09:36.792990Z"
    },
    "id": "iDIEGC215lsG",
    "trusted": true
   },
   "outputs": [],
   "source": [
    "# Function to run inference\n",
    "def infer_image(image_path, prompt):\n",
    "    with open(image_path, \"rb\") as f:\n",
    "          input_image = Image.open(f).convert(\"RGB\")\n",
    "          \n",
    "    \n",
    "    inputs = processor.process(\n",
    "    images=input_image,\n",
    "    text=prompt,\n",
    ")\n",
    "    inputs = {k: v.to(model.device).unsqueeze(0) for k, v in inputs.items()}\n",
    "    \n",
    "    # generate output; maximum 200 new tokens; stop generation when <|endoftext|> is generated\n",
    "    output = model.generate_from_batch(\n",
    "    inputs,\n",
    "    GenerationConfig(max_new_tokens=2, stop_strings=\"<|endoftext|>\"),\n",
    "    tokenizer=processor.tokenizer,\n",
    ")\n",
    "\n",
    "# only get generated tokens; decode them to text\n",
    "    generated_tokens = output[0, inputs[\"input_ids\"].size(1) :]\n",
    "    generated_text = processor.tokenizer.decode(generated_tokens, skip_special_tokens=True)\n",
    "    \n",
    "    return generated_text.strip().lower()"
   ]
  },
  {
   "cell_type": "markdown",
   "metadata": {
    "editable": false,
    "id": "kymovqsQ99A_"
   },
   "source": [
    "### Validation function"
   ]
  },
  {
   "cell_type": "code",
   "execution_count": 11,
   "metadata": {
    "editable": false,
    "execution": {
     "iopub.execute_input": "2024-12-25T15:09:37.316353Z",
     "iopub.status.busy": "2024-12-25T15:09:37.316068Z",
     "iopub.status.idle": "2024-12-25T15:09:37.322529Z",
     "shell.execute_reply": "2024-12-25T15:09:37.321561Z",
     "shell.execute_reply.started": "2024-12-25T15:09:37.316331Z"
    },
    "id": "NM8O5ht0-G9x",
    "trusted": true
   },
   "outputs": [],
   "source": [
    "# Define vehicle classes for validation\n",
    "vehicle_classes = {\n",
    "    \"Class 1 - Motorcycles\": [\"motorcycle\", \"motorbike\", \"bike\", \"scooter\", \"motor\", \"moped\"],\n",
    "    \"Class 2 - Car, SUV, Station Wagons\": [\"car\", \"sedan\", \"hatchback\", \"suv\", \"mpv\", \"crossover\", \"station wagon\",  'coupe', 'convertible', 'sports car', \"stationwagon\",'sportscar'],\n",
    "    \"Class 3 - 2 axle lorry, van, pickup\": [\"pickup\", \"van\", \"minivan\"],\n",
    "    \"Class 4 - 2 axles, 5 or 6 wheels bus or truck\": [\"bus\", \"truck\", 'trailer', 'lorry', 'tractor', 'tanker', 'dump truck', \"tow truck\", \"dump trailer\"],\n",
    "    \"Class 5 - 3 axle truck, bus\": [\"bus\", \"truck\"],\n",
    "    \"Class 6 - 4 axles\": [\"coach\", \"bus\", \"truck\", 'trailer', 'lorry', 'tractor', 'tanker', 'dump truck', \"tow truck\", \"dump trailer\"],\n",
    "    \"Class 7 - 5 or more axles\": [\"coach\", \"bus\", \"truck\", 'trailer', 'lorry', 'tractor', 'tanker', 'dump truck', \"tow truck\", \"dump trailer\", \"towtruck\",\"dumptrailer\"],\n",
    "    \"bus 2\" : [\"coach\", \"bus\", \"minibus\"],\n",
    "    \"bus 3\" : [\"coach\", \"bus\"],\n",
    "    \"truck 2\" : [\"truck\", 'trailer', 'lorry', 'tractor', 'tanker', 'dump truck', \"tow truck\", \"dump trailer\", \"towtruck\",\"dumptrailer\"],\n",
    "    \"truck 3\" : [\"truck\", 'trailer', 'lorry', 'tractor', 'tanker', 'dump truck', \"tow truck\", \"dump trailer\", \"towtruck\",\"dumptrailer\"],\n",
    "    \"truck 4\" : [\"truck\", 'trailer', 'lorry', 'tractor', 'tanker', 'dump truck', \"tow truck\", \"dump trailer\", \"towtruck\",\"dumptrailer\"],\n",
    "    \"truck 5\" : [\"truck\", 'trailer', 'lorry', 'tractor', 'tanker', 'dump truck', \"tow truck\", \"dump trailer\", \"towtruck\",\"dumptrailer\"],\n",
    "    \"van\" : [\"van\", \"minivan\", 'minibus'],\n",
    "    \"pickup\" : [\"pickup\", \"pickup truck\", \"camper\", \"pickuptruck\"],\n",
    "}\n",
    "\n",
    "valid_vehicle_types = {type for sublist in vehicle_classes.values() for type in sublist}"
   ]
  },
  {
   "cell_type": "code",
   "execution_count": 12,
   "metadata": {
    "editable": false,
    "execution": {
     "iopub.execute_input": "2024-12-25T15:09:37.522897Z",
     "iopub.status.busy": "2024-12-25T15:09:37.522600Z",
     "iopub.status.idle": "2024-12-25T15:09:37.528014Z",
     "shell.execute_reply": "2024-12-25T15:09:37.527202Z",
     "shell.execute_reply.started": "2024-12-25T15:09:37.522871Z"
    },
    "id": "thh669gy5oLj",
    "trusted": true
   },
   "outputs": [],
   "source": [
    "# Validate predictions\n",
    "\n",
    "def validate_prediction(folder_name, prediction, axles=None):\n",
    "    # Extract folder label\n",
    "    for class_name, valid_labels in vehicle_classes.items():\n",
    "        if folder_name.startswith(class_name):\n",
    "            if axles:  # Use axle count for bus/truck\n",
    "                if axles == 1 or 0:\n",
    "                  return False\n",
    "                elif axles == 2:\n",
    "                    return \"2\" in folder_name[-1]\n",
    "                elif axles == 3:\n",
    "                    return \"3\" in folder_name[-1]\n",
    "                elif axles == 4:\n",
    "                    return \"4\" in folder_name[-1]\n",
    "                elif axles >= 5:\n",
    "                    return \"5\" in folder_name[-1]\n",
    "            if isinstance(valid_labels, list):\n",
    "                return prediction in valid_labels\n",
    "            return prediction == valid_labels\n",
    "    return False"
   ]
  },
  {
   "cell_type": "markdown",
   "metadata": {
    "editable": false,
    "id": "mYX4uILS97b0"
   },
   "source": [
    "# Main Loop"
   ]
  },
  {
   "cell_type": "code",
   "execution_count": 13,
   "metadata": {
    "editable": false,
    "execution": {
     "iopub.execute_input": "2024-12-25T15:09:37.932602Z",
     "iopub.status.busy": "2024-12-25T15:09:37.932306Z",
     "iopub.status.idle": "2024-12-25T15:09:37.936283Z",
     "shell.execute_reply": "2024-12-25T15:09:37.935467Z",
     "shell.execute_reply.started": "2024-12-25T15:09:37.932571Z"
    },
    "trusted": true
   },
   "outputs": [],
   "source": [
    "from tqdm import tqdm"
   ]
  },
  {
   "cell_type": "code",
   "execution_count": 14,
   "metadata": {
    "colab": {
     "base_uri": "https://localhost:8080/"
    },
    "editable": false,
    "execution": {
     "iopub.execute_input": "2024-12-25T15:09:38.067161Z",
     "iopub.status.busy": "2024-12-25T15:09:38.066932Z",
     "iopub.status.idle": "2024-12-25T15:09:38.078231Z",
     "shell.execute_reply": "2024-12-25T15:09:38.077390Z",
     "shell.execute_reply.started": "2024-12-25T15:09:38.067141Z"
    },
    "id": "as1UY4lBj0Ha",
    "outputId": "5a7878a3-4ca6-4958-a2b8-646dfb69a5ac",
    "trusted": true
   },
   "outputs": [],
   "source": [
    "def main_loop(wrong_predictions_dir, img_dir=img_dir, use_axles=True, valid_vehicle_types=valid_vehicle_types):\n",
    "    total_files = sum(len(files) for _, _, files in os.walk(img_dir))\n",
    "    progress_bar = tqdm(total=total_files, desc=\"Processing Images\", unit=\"file\")\n",
    "    # Main processing loop\n",
    "    start_time = time.time()\n",
    "    tracker = EmissionsTracker()\n",
    "    tracker.start()\n",
    "    results = []\n",
    "    for root, dirs, files in os.walk(img_dir):\n",
    "        for file in files:\n",
    "            if file.endswith((\".jpg\", \".png\", \".jpeg\")):\n",
    "                image_path = os.path.join(root, file)\n",
    "                folder_name = os.path.basename(os.path.dirname(image_path))\n",
    "                progress_bar.set_description(f\"Processing: {folder_name}\")\n",
    "                progress_bar.update(1)  # Increment the progress bar\n",
    "\n",
    "                try:\n",
    "                    # First inference: vehicle type\n",
    "                    # vehicle_prompt = f\"<image> answer en What type of vehicle is this? Answer in only one word.\"\n",
    "                    vehicle_prompt = f\"What type of vehicle is this? Choose one from: {', '.join(valid_vehicle_types)}. Answer in one word\"\n",
    "                    prediction = infer_image(image_path, vehicle_prompt)\n",
    "                    print(f\"Vehicle Prediction: {prediction}\")\n",
    "\n",
    "                    # Handle buses and trucks\n",
    "                    axles = None\n",
    "                    if prediction in [\"bus\", \"truck\", 'trailer', 'lorry', 'tractor', 'tanker', 'dump truck',  \"tow truck\", \"dump trailer\"]:\n",
    "                        # Check if it's a pickup truck\n",
    "                        if prediction == 'truck':\n",
    "                            pickup_prompt = \"Is this a pickup truck? Respond with only yes or no.\"\n",
    "                            is_pickup = infer_image(image_path, pickup_prompt).strip().lower()\n",
    "                            print(f\"Is Pickup Truck: {is_pickup}\")\n",
    "                            if is_pickup == \"yes\":\n",
    "                                prediction = \"pickup truck\"\n",
    "                            elif use_axles:\n",
    "                                # Predict axles for non-pickup trucks\n",
    "                                axle_prompt = \"How many axles does this vehicle have? Output a single integer value.\"\n",
    "                                axle_prediction = infer_image(image_path, axle_prompt)\n",
    "                                print(f\"Axle Prediction: {axle_prediction}\")\n",
    "                    \n",
    "                                try:\n",
    "                                    axles = int(axle_prediction)\n",
    "                                except ValueError:\n",
    "                                    print(f\"Invalid axle prediction: {axle_prediction}\")\n",
    "                                    axles = None  # Fallback if parsing fails\n",
    "                        elif use_axles:\n",
    "\n",
    "                            axle_prompt = \"How many axles does this vehicle have? Output a single integer value\"\n",
    "                            axle_prediction = infer_image(image_path, axle_prompt)\n",
    "                            print(f\"Axle Prediction: {axle_prediction}\")\n",
    "    \n",
    "                            try:\n",
    "                                axles = int(axle_prediction)\n",
    "                            except ValueError:\n",
    "                                print(f\"Invalid axle prediction: {axle_prediction}\")\n",
    "\n",
    "                    # Validate prediction\n",
    "                    is_correct = validate_prediction(folder_name, prediction, axles)\n",
    "                    print(f\"Validation Result: {is_correct}\")\n",
    "\n",
    "                    # Store results\n",
    "                    results.append({\n",
    "                        \"image\": image_path,\n",
    "                        \"folder_label\": folder_name,\n",
    "                        \"prediction\": prediction,\n",
    "                        \"axles\": axles,\n",
    "                        \"is_correct\": is_correct\n",
    "                    })\n",
    "\n",
    "                    # Handle wrong predictions\n",
    "                    if not is_correct:\n",
    "                        # Create a folder for the wrong prediction\n",
    "                        wrong_folder = os.path.join(wrong_predictions_dir, prediction, str(axles))\n",
    "                        os.makedirs(wrong_folder, exist_ok=True)\n",
    "\n",
    "                        # Copy the image to the folder\n",
    "                        shutil.copy(image_path, os.path.join(wrong_folder, file))\n",
    "                except Exception as e:\n",
    "                    print(f\"Error processing {image_path}: {e}\")\n",
    "                    continue\n",
    "    \n",
    "    progress_bar.close()\n",
    "    emissions = tracker.stop()\n",
    "    # Stop the timer\n",
    "    end_time = time.time()\n",
    "    elapsed_time = end_time - start_time\n",
    "    print(f\"Total processing time: {elapsed_time:.2f} seconds\")\n",
    "    print(f\"CO2 emissions: {emissions:.6f} kg\")\n",
    "    return (results, elapsed_time, emissions)"
   ]
  },
  {
   "cell_type": "code",
   "execution_count": 15,
   "metadata": {
    "colab": {
     "base_uri": "https://localhost:8080/"
    },
    "editable": false,
    "execution": {
     "iopub.execute_input": "2024-12-25T15:09:38.281101Z",
     "iopub.status.busy": "2024-12-25T15:09:38.280872Z",
     "iopub.status.idle": "2024-12-25T15:09:38.290042Z",
     "shell.execute_reply": "2024-12-25T15:09:38.289207Z",
     "shell.execute_reply.started": "2024-12-25T15:09:38.281083Z"
    },
    "id": "H4COQqG95sqN",
    "outputId": "59ceb760-001c-4faf-cf3d-740399491993",
    "trusted": true
   },
   "outputs": [],
   "source": [
    "# Save results to CSV\n",
    "def export_results(results, model_id, elapsed_time, emissions):\n",
    "# Save results to CSV\n",
    "    output_csv = f'experiment_data/{models}/axles/results.csv'\n",
    "    with open(output_csv, mode=\"w\", newline=\"\") as file:\n",
    "        writer = csv.DictWriter(file, fieldnames=[\"image\", \"folder_label\", \"prediction\", \"axles\", \"is_correct\"])\n",
    "        writer.writeheader()\n",
    "        writer.writerows(results)\n",
    "\n",
    "    # Metrics calculation\n",
    "    correct_predictions = sum(1 for r in results if r[\"is_correct\"])\n",
    "    total_images = len(results)\n",
    "    accuracy = correct_predictions / total_images * 100 if total_images > 0 else 0\n",
    "    wrong_predictions = total_images - correct_predictions\n",
    "\n",
    "    # Per-class metrics\n",
    "    class_metrics = {}\n",
    "    for result in results:\n",
    "        label = result[\"folder_label\"]\n",
    "        correct = result[\"is_correct\"]\n",
    "        if label not in class_metrics:\n",
    "            class_metrics[label] = {\"correct\": 0, \"total\": 0}\n",
    "        class_metrics[label][\"total\"] += 1\n",
    "        if correct:\n",
    "            class_metrics[label][\"correct\"] += 1\n",
    "\n",
    "    # Aggregate class metrics\n",
    "    per_class_accuracy = {\n",
    "        label: (data[\"correct\"] / data[\"total\"]) * 100\n",
    "        for label, data in class_metrics.items()\n",
    "    }\n",
    "    per_class_error_rate = {\n",
    "        label: 100 - acc for label, acc in per_class_accuracy.items()\n",
    "    }\n",
    "\n",
    "    # Collect system configuration\n",
    "    system_config = {\n",
    "        \"Processor\": platform.processor(),\n",
    "        \"CPU Count\": psutil.cpu_count(logical=True),\n",
    "        \"Memory (GB)\": round(psutil.virtual_memory().total / (1024 ** 3), 2),\n",
    "        \"Elapsed Time (seconds)\": elapsed_time,\n",
    "        \"CO2 Emissions (kg)\": round(emissions, 6)\n",
    "    }\n",
    "\n",
    "    # Metrics dictionarya\n",
    "    metrics = {\n",
    "        \"Total Images\": total_images,\n",
    "        \"Correct Predictions\": correct_predictions,\n",
    "        \"Wrong Predictions\": wrong_predictions,\n",
    "        \"Accuracy (%)\": accuracy,\n",
    "        \"Error Rate (%)\": 100 - accuracy\n",
    "    }\n",
    "\n",
    "    # Save metrics to CSV\n",
    "    metrics_csv = f'experiment_data/{models}/axles/metrics.csv'\n",
    "    with open(metrics_csv, mode=\"w\", newline=\"\") as file:\n",
    "        writer = csv.writer(file)\n",
    "        writer.writerow([\"Model\", \"Metric\", \"Value\"])\n",
    "        for key, value in metrics.items():\n",
    "            writer.writerow([model_id, key, value])\n",
    "        for label, acc in per_class_accuracy.items():\n",
    "            writer.writerow([model_id, f\"Per-Class Accuracy: {label}\", acc])\n",
    "            writer.writerow([model_id, f\"Per-Class Error Rate: {label}\", per_class_error_rate[label]])\n",
    "        for key, value in system_config.items():\n",
    "            writer.writerow([model_id, key, value])\n",
    "\n",
    "    # Print final metrics\n",
    "    print(\"\\n--- Metrics ---\")\n",
    "    for key, value in metrics.items():\n",
    "        print(f\"{key}: {value}\")\n",
    "    for label, acc in per_class_accuracy.items():\n",
    "        print(f\"Class '{label}' - Accuracy: {acc:.2f}%, Error Rate: {per_class_error_rate[label]:.2f}%\")\n",
    "    for key, value in system_config.items():\n",
    "        print(f\"{key}: {value}\")"
   ]
  },
  {
   "cell_type": "code",
   "execution_count": 16,
   "metadata": {
    "editable": false,
    "execution": {
     "iopub.execute_input": "2024-12-25T15:09:38.423881Z",
     "iopub.status.busy": "2024-12-25T15:09:38.423632Z",
     "iopub.status.idle": "2024-12-25T16:46:45.539322Z",
     "shell.execute_reply": "2024-12-25T16:46:45.538376Z",
     "shell.execute_reply.started": "2024-12-25T15:09:38.423861Z"
    },
    "trusted": true
   },
   "outputs": [
    {
     "name": "stdout",
     "output_type": "stream",
     "text": [
      "cyan2k/molmo-7B-D-bnb-4bit\n"
     ]
    },
    {
     "data": {
      "application/vnd.jupyter.widget-view+json": {
       "model_id": "4fdca028ef4243e0a942cbd2d529b889",
       "version_major": 2,
       "version_minor": 0
      },
      "text/plain": [
       "processor_config.json:   0%|          | 0.00/127 [00:00<?, ?B/s]"
      ]
     },
     "metadata": {},
     "output_type": "display_data"
    },
    {
     "data": {
      "application/vnd.jupyter.widget-view+json": {
       "model_id": "c3354e14dcbb4c2eb933e42480620f37",
       "version_major": 2,
       "version_minor": 0
      },
      "text/plain": [
       "preprocessing_molmo.py:   0%|          | 0.00/5.79k [00:00<?, ?B/s]"
      ]
     },
     "metadata": {},
     "output_type": "display_data"
    },
    {
     "data": {
      "application/vnd.jupyter.widget-view+json": {
       "model_id": "d936adbe803c4ee7b3b8c3d3722b7421",
       "version_major": 2,
       "version_minor": 0
      },
      "text/plain": [
       "image_preprocessing_molmo.py:   0%|          | 0.00/22.8k [00:00<?, ?B/s]"
      ]
     },
     "metadata": {},
     "output_type": "display_data"
    },
    {
     "name": "stderr",
     "output_type": "stream",
     "text": [
      "A new version of the following files was downloaded from https://huggingface.co/cyan2k/molmo-7B-D-bnb-4bit:\n",
      "- image_preprocessing_molmo.py\n",
      ". Make sure to double-check they do not contain any added malicious code. To avoid downloading new versions of the code file, you can pin a revision.\n",
      "A new version of the following files was downloaded from https://huggingface.co/cyan2k/molmo-7B-D-bnb-4bit:\n",
      "- preprocessing_molmo.py\n",
      "- image_preprocessing_molmo.py\n",
      ". Make sure to double-check they do not contain any added malicious code. To avoid downloading new versions of the code file, you can pin a revision.\n"
     ]
    },
    {
     "data": {
      "application/vnd.jupyter.widget-view+json": {
       "model_id": "3fdb582519d046988344bee142618271",
       "version_major": 2,
       "version_minor": 0
      },
      "text/plain": [
       "preprocessor_config.json:   0%|          | 0.00/666 [00:00<?, ?B/s]"
      ]
     },
     "metadata": {},
     "output_type": "display_data"
    },
    {
     "data": {
      "application/vnd.jupyter.widget-view+json": {
       "model_id": "ae1b6b3a0932416d86cefbadcdce0ff7",
       "version_major": 2,
       "version_minor": 0
      },
      "text/plain": [
       "tokenizer_config.json:   0%|          | 0.00/95.9k [00:00<?, ?B/s]"
      ]
     },
     "metadata": {},
     "output_type": "display_data"
    },
    {
     "data": {
      "application/vnd.jupyter.widget-view+json": {
       "model_id": "d46a2027b69a4b52a2d685a57a7054c7",
       "version_major": 2,
       "version_minor": 0
      },
      "text/plain": [
       "vocab.json:   0%|          | 0.00/2.78M [00:00<?, ?B/s]"
      ]
     },
     "metadata": {},
     "output_type": "display_data"
    },
    {
     "data": {
      "application/vnd.jupyter.widget-view+json": {
       "model_id": "187bed2f354a4e69b9117362799aeca5",
       "version_major": 2,
       "version_minor": 0
      },
      "text/plain": [
       "merges.txt:   0%|          | 0.00/1.67M [00:00<?, ?B/s]"
      ]
     },
     "metadata": {},
     "output_type": "display_data"
    },
    {
     "data": {
      "application/vnd.jupyter.widget-view+json": {
       "model_id": "a1540ef83c434ed69b9dd353604858b0",
       "version_major": 2,
       "version_minor": 0
      },
      "text/plain": [
       "tokenizer.json:   0%|          | 0.00/7.11M [00:00<?, ?B/s]"
      ]
     },
     "metadata": {},
     "output_type": "display_data"
    },
    {
     "data": {
      "application/vnd.jupyter.widget-view+json": {
       "model_id": "e8248d20d4f844abac00a3b9db1bf857",
       "version_major": 2,
       "version_minor": 0
      },
      "text/plain": [
       "added_tokens.json:   0%|          | 0.00/14.7k [00:00<?, ?B/s]"
      ]
     },
     "metadata": {},
     "output_type": "display_data"
    },
    {
     "data": {
      "application/vnd.jupyter.widget-view+json": {
       "model_id": "59e39dbeff904dde95baf3aa7d64a5b2",
       "version_major": 2,
       "version_minor": 0
      },
      "text/plain": [
       "special_tokens_map.json:   0%|          | 0.00/12.5k [00:00<?, ?B/s]"
      ]
     },
     "metadata": {},
     "output_type": "display_data"
    },
    {
     "data": {
      "application/vnd.jupyter.widget-view+json": {
       "model_id": "58599b0561b9475f88d6ea6730bd5303",
       "version_major": 2,
       "version_minor": 0
      },
      "text/plain": [
       "config.json:   0%|          | 0.00/1.34k [00:00<?, ?B/s]"
      ]
     },
     "metadata": {},
     "output_type": "display_data"
    },
    {
     "data": {
      "application/vnd.jupyter.widget-view+json": {
       "model_id": "7367094b08ef42bf956aba5a95f176dc",
       "version_major": 2,
       "version_minor": 0
      },
      "text/plain": [
       "config_molmo.py:   0%|          | 0.00/1.98k [00:00<?, ?B/s]"
      ]
     },
     "metadata": {},
     "output_type": "display_data"
    },
    {
     "name": "stderr",
     "output_type": "stream",
     "text": [
      "A new version of the following files was downloaded from https://huggingface.co/cyan2k/molmo-7B-D-bnb-4bit:\n",
      "- config_molmo.py\n",
      ". Make sure to double-check they do not contain any added malicious code. To avoid downloading new versions of the code file, you can pin a revision.\n"
     ]
    },
    {
     "data": {
      "application/vnd.jupyter.widget-view+json": {
       "model_id": "d277575da6a343208ee7719a006bf4cf",
       "version_major": 2,
       "version_minor": 0
      },
      "text/plain": [
       "modeling_molmo.py:   0%|          | 0.00/107k [00:00<?, ?B/s]"
      ]
     },
     "metadata": {},
     "output_type": "display_data"
    },
    {
     "name": "stderr",
     "output_type": "stream",
     "text": [
      "A new version of the following files was downloaded from https://huggingface.co/cyan2k/molmo-7B-D-bnb-4bit:\n",
      "- modeling_molmo.py\n",
      ". Make sure to double-check they do not contain any added malicious code. To avoid downloading new versions of the code file, you can pin a revision.\n",
      "Unused kwargs: ['_load_in_4bit', '_load_in_8bit', 'quant_method']. These kwargs are not used in <class 'transformers.utils.quantization_config.BitsAndBytesConfig'>.\n"
     ]
    },
    {
     "data": {
      "application/vnd.jupyter.widget-view+json": {
       "model_id": "a95c3aa54f154d96867e2f056525c155",
       "version_major": 2,
       "version_minor": 0
      },
      "text/plain": [
       "model.safetensors.index.json:   0%|          | 0.00/220k [00:00<?, ?B/s]"
      ]
     },
     "metadata": {},
     "output_type": "display_data"
    },
    {
     "data": {
      "application/vnd.jupyter.widget-view+json": {
       "model_id": "e3ac33fd547f4a4591fa9582a0ba4ae6",
       "version_major": 2,
       "version_minor": 0
      },
      "text/plain": [
       "Downloading shards:   0%|          | 0/2 [00:00<?, ?it/s]"
      ]
     },
     "metadata": {},
     "output_type": "display_data"
    },
    {
     "data": {
      "application/vnd.jupyter.widget-view+json": {
       "model_id": "9f414aa675b648678b31f4742d39c4e8",
       "version_major": 2,
       "version_minor": 0
      },
      "text/plain": [
       "model-00001-of-00002.safetensors:   0%|          | 0.00/5.00G [00:00<?, ?B/s]"
      ]
     },
     "metadata": {},
     "output_type": "display_data"
    },
    {
     "data": {
      "application/vnd.jupyter.widget-view+json": {
       "model_id": "e12aa2773f414f019d402e8069ed36dd",
       "version_major": 2,
       "version_minor": 0
      },
      "text/plain": [
       "model-00002-of-00002.safetensors:   0%|          | 0.00/2.94G [00:00<?, ?B/s]"
      ]
     },
     "metadata": {},
     "output_type": "display_data"
    },
    {
     "data": {
      "application/vnd.jupyter.widget-view+json": {
       "model_id": "538fbd53915c44e98a80fddf6227aaec",
       "version_major": 2,
       "version_minor": 0
      },
      "text/plain": [
       "Loading checkpoint shards:   0%|          | 0/2 [00:00<?, ?it/s]"
      ]
     },
     "metadata": {},
     "output_type": "display_data"
    },
    {
     "data": {
      "application/vnd.jupyter.widget-view+json": {
       "model_id": "f05026990e474c99891b0662cb41ad62",
       "version_major": 2,
       "version_minor": 0
      },
      "text/plain": [
       "generation_config.json:   0%|          | 0.00/73.0 [00:00<?, ?B/s]"
      ]
     },
     "metadata": {},
     "output_type": "display_data"
    },
    {
     "name": "stderr",
     "output_type": "stream",
     "text": [
      "Processing Images:   0%|          | 0/932 [00:00<?, ?file/s][codecarbon INFO @ 15:12:57] [setup] RAM Tracking...\n",
      "[codecarbon INFO @ 15:12:57] [setup] CPU Tracking...\n",
      "[codecarbon WARNING @ 15:12:57] No CPU tracking mode found. Falling back on CPU constant mode. \n",
      " Linux OS detected: Please ensure RAPL files exist at \\sys\\class\\powercap\\intel-rapl to measure CPU\n",
      "\n",
      "[codecarbon WARNING @ 15:12:58] We saw that you have a Intel(R) Xeon(R) CPU @ 2.00GHz but we don't know it. Please contact us.\n",
      "[codecarbon INFO @ 15:12:58] CPU Model on constant consumption mode: Intel(R) Xeon(R) CPU @ 2.00GHz\n",
      "[codecarbon INFO @ 15:12:58] [setup] GPU Tracking...\n",
      "[codecarbon INFO @ 15:12:58] Tracking Nvidia GPU via pynvml\n",
      "[codecarbon INFO @ 15:12:58] >>> Tracker's metadata:\n",
      "[codecarbon INFO @ 15:12:58]   Platform system: Linux-6.6.56+-x86_64-with-glibc2.35\n",
      "[codecarbon INFO @ 15:12:58]   Python version: 3.10.12\n",
      "[codecarbon INFO @ 15:12:58]   CodeCarbon version: 2.8.2\n",
      "[codecarbon INFO @ 15:12:58]   Available RAM : 31.351 GB\n",
      "[codecarbon INFO @ 15:12:58]   CPU count: 4\n",
      "[codecarbon INFO @ 15:12:58]   CPU model: Intel(R) Xeon(R) CPU @ 2.00GHz\n",
      "[codecarbon INFO @ 15:12:58]   GPU count: 2\n",
      "[codecarbon INFO @ 15:12:58]   GPU model: 2 x Tesla T4\n",
      "[codecarbon INFO @ 15:13:01] Saving emissions data to file /kaggle/working/emissions.csv\n",
      "Processing: van:   0%|          | 2/932 [00:13<1:52:11,  7.24s/file]"
     ]
    },
    {
     "name": "stdout",
     "output_type": "stream",
     "text": [
      "Vehicle Prediction: minivan\n",
      "Validation Result: True\n"
     ]
    },
    {
     "name": "stderr",
     "output_type": "stream",
     "text": [
      "Processing: van:   0%|          | 3/932 [00:16<1:18:03,  5.04s/file]"
     ]
    },
    {
     "name": "stdout",
     "output_type": "stream",
     "text": [
      "Vehicle Prediction: van\n",
      "Validation Result: True\n"
     ]
    },
    {
     "name": "stderr",
     "output_type": "stream",
     "text": [
      "[codecarbon INFO @ 15:13:16] Energy consumed for RAM : 0.000049 kWh. RAM Power : 11.756441116333008 W\n",
      "[codecarbon INFO @ 15:13:16] Energy consumed for all CPUs : 0.000177 kWh. Total CPU Power : 42.5 W\n",
      "[codecarbon INFO @ 15:13:16] Energy consumed for all GPUs : 0.000377 kWh. Total GPU Power : 90.53821292110547 W\n",
      "[codecarbon INFO @ 15:13:16] 0.000604 kWh of electricity used since the beginning.\n",
      "Processing: van:   0%|          | 4/932 [00:20<1:13:05,  4.73s/file]"
     ]
    },
    {
     "name": "stdout",
     "output_type": "stream",
     "text": [
      "Vehicle Prediction: minivan\n",
      "Validation Result: True\n"
     ]
    },
    {
     "name": "stderr",
     "output_type": "stream",
     "text": [
      "Processing: van:   1%|          | 5/932 [00:22<1:00:18,  3.90s/file]"
     ]
    },
    {
     "name": "stdout",
     "output_type": "stream",
     "text": [
      "Vehicle Prediction: van\n",
      "Validation Result: True\n"
     ]
    },
    {
     "name": "stderr",
     "output_type": "stream",
     "text": [
      "Processing: van:   1%|          | 6/932 [00:26<1:01:56,  4.01s/file]"
     ]
    },
    {
     "name": "stdout",
     "output_type": "stream",
     "text": [
      "Vehicle Prediction: minivan\n",
      "Validation Result: True\n"
     ]
    },
    {
     "name": "stderr",
     "output_type": "stream",
     "text": [
      "Processing: van:   1%|          | 7/932 [00:30<1:01:00,  3.96s/file]"
     ]
    },
    {
     "name": "stdout",
     "output_type": "stream",
     "text": [
      "Vehicle Prediction: minivan\n",
      "Validation Result: True\n"
     ]
    },
    {
     "name": "stderr",
     "output_type": "stream",
     "text": [
      "[codecarbon INFO @ 15:13:31] Energy consumed for RAM : 0.000098 kWh. RAM Power : 11.756441116333008 W\n",
      "[codecarbon INFO @ 15:13:31] Energy consumed for all CPUs : 0.000354 kWh. Total CPU Power : 42.5 W\n",
      "[codecarbon INFO @ 15:13:31] Energy consumed for all GPUs : 0.000777 kWh. Total GPU Power : 95.97804086240409 W\n",
      "[codecarbon INFO @ 15:13:31] 0.001229 kWh of electricity used since the beginning.\n",
      "Processing: van:   1%|          | 8/932 [00:35<1:02:41,  4.07s/file]"
     ]
    },
    {
     "name": "stdout",
     "output_type": "stream",
     "text": [
      "Vehicle Prediction: minivan\n",
      "Validation Result: True\n"
     ]
    },
    {
     "name": "stderr",
     "output_type": "stream",
     "text": [
      "Processing: van:   1%|          | 9/932 [00:39<1:04:06,  4.17s/file]"
     ]
    },
    {
     "name": "stdout",
     "output_type": "stream",
     "text": [
      "Vehicle Prediction: minivan\n",
      "Validation Result: True\n"
     ]
    },
    {
     "name": "stderr",
     "output_type": "stream",
     "text": [
      "Processing: van:   1%|          | 10/932 [00:42<56:38,  3.69s/file] "
     ]
    },
    {
     "name": "stdout",
     "output_type": "stream",
     "text": [
      "Vehicle Prediction: van\n",
      "Validation Result: True\n"
     ]
    },
    {
     "name": "stderr",
     "output_type": "stream",
     "text": [
      "Processing: van:   1%|          | 11/932 [00:46<1:00:20,  3.93s/file]"
     ]
    },
    {
     "name": "stdout",
     "output_type": "stream",
     "text": [
      "Vehicle Prediction: van\n",
      "Validation Result: True\n"
     ]
    },
    {
     "name": "stderr",
     "output_type": "stream",
     "text": [
      "[codecarbon INFO @ 15:13:46] Energy consumed for RAM : 0.000147 kWh. RAM Power : 11.756441116333008 W\n",
      "[codecarbon INFO @ 15:13:46] Energy consumed for all CPUs : 0.000531 kWh. Total CPU Power : 42.5 W\n",
      "[codecarbon INFO @ 15:13:46] Energy consumed for all GPUs : 0.001179 kWh. Total GPU Power : 96.47001271118567 W\n",
      "[codecarbon INFO @ 15:13:46] 0.001857 kWh of electricity used since the beginning.\n",
      "Processing: van:   1%|▏         | 12/932 [00:54<1:19:13,  5.17s/file]"
     ]
    },
    {
     "name": "stdout",
     "output_type": "stream",
     "text": [
      "Vehicle Prediction: minivan\n",
      "Validation Result: True\n"
     ]
    },
    {
     "name": "stderr",
     "output_type": "stream",
     "text": [
      "Processing: van:   1%|▏         | 13/932 [00:59<1:16:12,  4.98s/file]"
     ]
    },
    {
     "name": "stdout",
     "output_type": "stream",
     "text": [
      "Vehicle Prediction: minivan\n",
      "Validation Result: True\n"
     ]
    },
    {
     "name": "stderr",
     "output_type": "stream",
     "text": [
      "Processing: van:   2%|▏         | 14/932 [01:03<1:14:29,  4.87s/file]"
     ]
    },
    {
     "name": "stdout",
     "output_type": "stream",
     "text": [
      "Vehicle Prediction: suv\n",
      "Validation Result: False\n"
     ]
    },
    {
     "name": "stderr",
     "output_type": "stream",
     "text": [
      "[codecarbon INFO @ 15:14:01] Energy consumed for RAM : 0.000196 kWh. RAM Power : 11.756441116333008 W\n",
      "[codecarbon INFO @ 15:14:01] Energy consumed for all CPUs : 0.000708 kWh. Total CPU Power : 42.5 W\n",
      "[codecarbon INFO @ 15:14:01] Energy consumed for all GPUs : 0.001579 kWh. Total GPU Power : 95.97484017583912 W\n",
      "[codecarbon INFO @ 15:14:01] 0.002483 kWh of electricity used since the beginning.\n",
      "Processing: van:   2%|▏         | 15/932 [01:11<1:30:00,  5.89s/file]"
     ]
    },
    {
     "name": "stdout",
     "output_type": "stream",
     "text": [
      "Vehicle Prediction: minivan\n",
      "Validation Result: True\n"
     ]
    },
    {
     "name": "stderr",
     "output_type": "stream",
     "text": [
      "Processing: van:   2%|▏         | 16/932 [01:16<1:24:25,  5.53s/file]"
     ]
    },
    {
     "name": "stdout",
     "output_type": "stream",
     "text": [
      "Vehicle Prediction: minivan\n",
      "Validation Result: True\n"
     ]
    },
    {
     "name": "stderr",
     "output_type": "stream",
     "text": [
      "[codecarbon INFO @ 15:14:16] Energy consumed for RAM : 0.000245 kWh. RAM Power : 11.756441116333008 W\n",
      "[codecarbon INFO @ 15:14:16] Energy consumed for all CPUs : 0.000885 kWh. Total CPU Power : 42.5 W\n",
      "[codecarbon INFO @ 15:14:16] Energy consumed for all GPUs : 0.001981 kWh. Total GPU Power : 96.6590931408327 W\n",
      "[codecarbon INFO @ 15:14:16] 0.003111 kWh of electricity used since the beginning.\n",
      "Processing: van:   2%|▏         | 17/932 [01:21<1:20:39,  5.29s/file]"
     ]
    },
    {
     "name": "stdout",
     "output_type": "stream",
     "text": [
      "Vehicle Prediction: van\n",
      "Validation Result: True\n"
     ]
    },
    {
     "name": "stderr",
     "output_type": "stream",
     "text": [
      "Processing: van:   2%|▏         | 18/932 [01:24<1:09:07,  4.54s/file]"
     ]
    },
    {
     "name": "stdout",
     "output_type": "stream",
     "text": [
      "Vehicle Prediction: minivan\n",
      "Validation Result: True\n"
     ]
    },
    {
     "name": "stderr",
     "output_type": "stream",
     "text": [
      "Processing: van:   2%|▏         | 19/932 [01:29<1:10:27,  4.63s/file]"
     ]
    },
    {
     "name": "stdout",
     "output_type": "stream",
     "text": [
      "Vehicle Prediction: minivan\n",
      "Validation Result: True\n"
     ]
    },
    {
     "name": "stderr",
     "output_type": "stream",
     "text": [
      "Processing: van:   2%|▏         | 20/932 [01:31<1:02:19,  4.10s/file]"
     ]
    },
    {
     "name": "stdout",
     "output_type": "stream",
     "text": [
      "Vehicle Prediction: minivan\n",
      "Validation Result: True\n"
     ]
    },
    {
     "name": "stderr",
     "output_type": "stream",
     "text": [
      "[codecarbon INFO @ 15:14:31] Energy consumed for RAM : 0.000294 kWh. RAM Power : 11.756441116333008 W\n",
      "[codecarbon INFO @ 15:14:31] Energy consumed for all CPUs : 0.001062 kWh. Total CPU Power : 42.5 W\n",
      "[codecarbon INFO @ 15:14:31] Energy consumed for all GPUs : 0.002382 kWh. Total GPU Power : 96.18468003329998 W\n",
      "[codecarbon INFO @ 15:14:31] 0.003738 kWh of electricity used since the beginning.\n",
      "Processing: van:   2%|▏         | 21/932 [01:34<56:47,  3.74s/file]  "
     ]
    },
    {
     "name": "stdout",
     "output_type": "stream",
     "text": [
      "Vehicle Prediction: minivan\n",
      "Validation Result: True\n"
     ]
    },
    {
     "name": "stderr",
     "output_type": "stream",
     "text": [
      "Processing: van:   2%|▏         | 22/932 [01:39<1:00:20,  3.98s/file]"
     ]
    },
    {
     "name": "stdout",
     "output_type": "stream",
     "text": [
      "Vehicle Prediction: van\n",
      "Validation Result: True\n"
     ]
    },
    {
     "name": "stderr",
     "output_type": "stream",
     "text": [
      "Processing: van:   2%|▏         | 23/932 [01:42<55:42,  3.68s/file]  "
     ]
    },
    {
     "name": "stdout",
     "output_type": "stream",
     "text": [
      "Vehicle Prediction: van\n",
      "Validation Result: True\n"
     ]
    },
    {
     "name": "stderr",
     "output_type": "stream",
     "text": [
      "Processing: van:   3%|▎         | 24/932 [01:45<52:26,  3.47s/file]"
     ]
    },
    {
     "name": "stdout",
     "output_type": "stream",
     "text": [
      "Vehicle Prediction: van\n",
      "Validation Result: True\n"
     ]
    },
    {
     "name": "stderr",
     "output_type": "stream",
     "text": [
      "Processing: van:   3%|▎         | 25/932 [01:48<50:25,  3.34s/file]"
     ]
    },
    {
     "name": "stdout",
     "output_type": "stream",
     "text": [
      "Vehicle Prediction: van\n",
      "Validation Result: True\n"
     ]
    },
    {
     "name": "stderr",
     "output_type": "stream",
     "text": [
      "[codecarbon INFO @ 15:14:46] Energy consumed for RAM : 0.000343 kWh. RAM Power : 11.756441116333008 W\n",
      "[codecarbon INFO @ 15:14:46] Energy consumed for all CPUs : 0.001239 kWh. Total CPU Power : 42.5 W\n",
      "[codecarbon INFO @ 15:14:46] Energy consumed for all GPUs : 0.002781 kWh. Total GPU Power : 95.77967464621105 W\n",
      "[codecarbon INFO @ 15:14:46] 0.004363 kWh of electricity used since the beginning.\n",
      "Processing: van:   3%|▎         | 26/932 [01:57<1:18:05,  5.17s/file]"
     ]
    },
    {
     "name": "stdout",
     "output_type": "stream",
     "text": [
      "Vehicle Prediction: minivan\n",
      "Validation Result: True\n"
     ]
    },
    {
     "name": "stderr",
     "output_type": "stream",
     "text": [
      "Processing: van:   3%|▎         | 27/932 [02:00<1:08:36,  4.55s/file]"
     ]
    },
    {
     "name": "stdout",
     "output_type": "stream",
     "text": [
      "Vehicle Prediction: van\n",
      "Validation Result: True\n"
     ]
    },
    {
     "name": "stderr",
     "output_type": "stream",
     "text": [
      "Processing: van:   3%|▎         | 28/932 [02:03<1:01:54,  4.11s/file]"
     ]
    },
    {
     "name": "stdout",
     "output_type": "stream",
     "text": [
      "Vehicle Prediction: van\n",
      "Validation Result: True\n"
     ]
    },
    {
     "name": "stderr",
     "output_type": "stream",
     "text": [
      "[codecarbon INFO @ 15:15:01] Energy consumed for RAM : 0.000392 kWh. RAM Power : 11.756441116333008 W\n",
      "[codecarbon INFO @ 15:15:01] Energy consumed for all CPUs : 0.001416 kWh. Total CPU Power : 42.5 W\n",
      "[codecarbon INFO @ 15:15:01] Energy consumed for all GPUs : 0.003181 kWh. Total GPU Power : 96.1113240380988 W\n",
      "[codecarbon INFO @ 15:15:01] 0.004989 kWh of electricity used since the beginning.\n",
      "[codecarbon INFO @ 15:15:01] 0.011868 g.CO2eq/s mean an estimation of 374.2662961037211 kg.CO2eq/year\n",
      "Processing: van:   3%|▎         | 29/932 [02:07<57:09,  3.80s/file]  "
     ]
    },
    {
     "name": "stdout",
     "output_type": "stream",
     "text": [
      "Vehicle Prediction: station wagon\n",
      "Validation Result: False\n"
     ]
    },
    {
     "name": "stderr",
     "output_type": "stream",
     "text": [
      "Processing: van:   3%|▎         | 30/932 [02:11<1:01:11,  4.07s/file]"
     ]
    },
    {
     "name": "stdout",
     "output_type": "stream",
     "text": [
      "Vehicle Prediction: minivan\n",
      "Validation Result: True\n"
     ]
    },
    {
     "name": "stderr",
     "output_type": "stream",
     "text": [
      "Processing: van:   3%|▎         | 31/932 [02:14<56:10,  3.74s/file]  "
     ]
    },
    {
     "name": "stdout",
     "output_type": "stream",
     "text": [
      "Vehicle Prediction: minivan\n",
      "Validation Result: True\n"
     ]
    },
    {
     "name": "stderr",
     "output_type": "stream",
     "text": [
      "[codecarbon INFO @ 15:15:16] Energy consumed for RAM : 0.000441 kWh. RAM Power : 11.756441116333008 W\n",
      "[codecarbon INFO @ 15:15:16] Energy consumed for all CPUs : 0.001593 kWh. Total CPU Power : 42.5 W\n",
      "[codecarbon INFO @ 15:15:16] Energy consumed for all GPUs : 0.003581 kWh. Total GPU Power : 96.1013535211508 W\n",
      "[codecarbon INFO @ 15:15:16] 0.005615 kWh of electricity used since the beginning.\n",
      "Processing: van:   3%|▎         | 32/932 [02:19<1:02:04,  4.14s/file]"
     ]
    },
    {
     "name": "stdout",
     "output_type": "stream",
     "text": [
      "Vehicle Prediction: minivan\n",
      "Validation Result: True\n"
     ]
    },
    {
     "name": "stderr",
     "output_type": "stream",
     "text": [
      "Processing: van:   4%|▎         | 33/932 [02:22<56:39,  3.78s/file]  "
     ]
    },
    {
     "name": "stdout",
     "output_type": "stream",
     "text": [
      "Vehicle Prediction: van\n",
      "Validation Result: True\n"
     ]
    },
    {
     "name": "stderr",
     "output_type": "stream",
     "text": [
      "Processing: van:   4%|▎         | 34/932 [02:25<52:45,  3.52s/file]"
     ]
    },
    {
     "name": "stdout",
     "output_type": "stream",
     "text": [
      "Vehicle Prediction: van\n",
      "Validation Result: True\n"
     ]
    },
    {
     "name": "stderr",
     "output_type": "stream",
     "text": [
      "Processing: van:   4%|▍         | 35/932 [02:30<59:06,  3.95s/file]"
     ]
    },
    {
     "name": "stdout",
     "output_type": "stream",
     "text": [
      "Vehicle Prediction: van\n",
      "Validation Result: True\n"
     ]
    },
    {
     "name": "stderr",
     "output_type": "stream",
     "text": [
      "Processing: van:   4%|▍         | 36/932 [02:33<54:21,  3.64s/file]"
     ]
    },
    {
     "name": "stdout",
     "output_type": "stream",
     "text": [
      "Vehicle Prediction: van\n",
      "Validation Result: True\n"
     ]
    },
    {
     "name": "stderr",
     "output_type": "stream",
     "text": [
      "[codecarbon INFO @ 15:15:31] Energy consumed for RAM : 0.000490 kWh. RAM Power : 11.756441116333008 W\n",
      "[codecarbon INFO @ 15:15:31] Energy consumed for all CPUs : 0.001770 kWh. Total CPU Power : 42.5 W\n",
      "[codecarbon INFO @ 15:15:31] Energy consumed for all GPUs : 0.003978 kWh. Total GPU Power : 95.28685798348884 W\n",
      "[codecarbon INFO @ 15:15:31] 0.006238 kWh of electricity used since the beginning.\n",
      "Processing: van:   4%|▍         | 37/932 [02:36<50:55,  3.41s/file]"
     ]
    },
    {
     "name": "stdout",
     "output_type": "stream",
     "text": [
      "Vehicle Prediction: van\n",
      "Validation Result: True\n"
     ]
    },
    {
     "name": "stderr",
     "output_type": "stream",
     "text": [
      "Processing: van:   4%|▍         | 38/932 [02:39<48:28,  3.25s/file]"
     ]
    },
    {
     "name": "stdout",
     "output_type": "stream",
     "text": [
      "Vehicle Prediction: minivan\n",
      "Validation Result: True\n"
     ]
    },
    {
     "name": "stderr",
     "output_type": "stream",
     "text": [
      "Processing: van:   4%|▍         | 39/932 [02:44<55:49,  3.75s/file]"
     ]
    },
    {
     "name": "stdout",
     "output_type": "stream",
     "text": [
      "Vehicle Prediction: van\n",
      "Validation Result: True\n"
     ]
    },
    {
     "name": "stderr",
     "output_type": "stream",
     "text": [
      "Processing: van:   4%|▍         | 40/932 [02:48<58:57,  3.97s/file]"
     ]
    },
    {
     "name": "stdout",
     "output_type": "stream",
     "text": [
      "Vehicle Prediction: minivan\n",
      "Validation Result: True\n"
     ]
    },
    {
     "name": "stderr",
     "output_type": "stream",
     "text": [
      "[codecarbon INFO @ 15:15:46] Energy consumed for RAM : 0.000539 kWh. RAM Power : 11.756441116333008 W\n",
      "[codecarbon INFO @ 15:15:46] Energy consumed for all CPUs : 0.001947 kWh. Total CPU Power : 42.5 W\n",
      "[codecarbon INFO @ 15:15:46] Energy consumed for all GPUs : 0.004378 kWh. Total GPU Power : 95.92547782711003 W\n",
      "[codecarbon INFO @ 15:15:46] 0.006863 kWh of electricity used since the beginning.\n",
      "Processing: van:   4%|▍         | 41/932 [02:53<1:01:12,  4.12s/file]"
     ]
    },
    {
     "name": "stdout",
     "output_type": "stream",
     "text": [
      "Vehicle Prediction: van\n",
      "Validation Result: True\n"
     ]
    },
    {
     "name": "stderr",
     "output_type": "stream",
     "text": [
      "Processing: van:   5%|▍         | 42/932 [02:58<1:04:49,  4.37s/file]"
     ]
    },
    {
     "name": "stdout",
     "output_type": "stream",
     "text": [
      "Vehicle Prediction: van\n",
      "Validation Result: True\n"
     ]
    },
    {
     "name": "stderr",
     "output_type": "stream",
     "text": [
      "Processing: van:   5%|▍         | 43/932 [03:03<1:07:26,  4.55s/file]"
     ]
    },
    {
     "name": "stdout",
     "output_type": "stream",
     "text": [
      "Vehicle Prediction: van\n",
      "Validation Result: True\n"
     ]
    },
    {
     "name": "stderr",
     "output_type": "stream",
     "text": [
      "[codecarbon INFO @ 15:16:01] Energy consumed for RAM : 0.000588 kWh. RAM Power : 11.756441116333008 W\n",
      "[codecarbon INFO @ 15:16:01] Energy consumed for all CPUs : 0.002124 kWh. Total CPU Power : 42.5 W\n",
      "[codecarbon INFO @ 15:16:01] Energy consumed for all GPUs : 0.004779 kWh. Total GPU Power : 96.31607970478899 W\n",
      "[codecarbon INFO @ 15:16:01] 0.007490 kWh of electricity used since the beginning.\n",
      "Processing: van:   5%|▍         | 44/932 [03:05<1:00:07,  4.06s/file]"
     ]
    },
    {
     "name": "stdout",
     "output_type": "stream",
     "text": [
      "Vehicle Prediction: minivan\n",
      "Validation Result: True\n"
     ]
    },
    {
     "name": "stderr",
     "output_type": "stream",
     "text": [
      "Processing: van:   5%|▍         | 45/932 [03:08<55:02,  3.72s/file]  "
     ]
    },
    {
     "name": "stdout",
     "output_type": "stream",
     "text": [
      "Vehicle Prediction: minivan\n",
      "Validation Result: True\n"
     ]
    },
    {
     "name": "stderr",
     "output_type": "stream",
     "text": [
      "Processing: van:   5%|▍         | 46/932 [03:13<1:00:44,  4.11s/file]"
     ]
    },
    {
     "name": "stdout",
     "output_type": "stream",
     "text": [
      "Vehicle Prediction: van\n",
      "Validation Result: True\n"
     ]
    },
    {
     "name": "stderr",
     "output_type": "stream",
     "text": [
      "Processing: van:   5%|▌         | 47/932 [03:18<1:02:44,  4.25s/file]"
     ]
    },
    {
     "name": "stdout",
     "output_type": "stream",
     "text": [
      "Vehicle Prediction: minivan\n",
      "Validation Result: True\n"
     ]
    },
    {
     "name": "stderr",
     "output_type": "stream",
     "text": [
      "[codecarbon INFO @ 15:16:16] Energy consumed for RAM : 0.000636 kWh. RAM Power : 11.756441116333008 W\n",
      "[codecarbon INFO @ 15:16:16] Energy consumed for all CPUs : 0.002301 kWh. Total CPU Power : 42.5 W\n",
      "[codecarbon INFO @ 15:16:16] Energy consumed for all GPUs : 0.005179 kWh. Total GPU Power : 96.11202918244197 W\n",
      "[codecarbon INFO @ 15:16:16] 0.008117 kWh of electricity used since the beginning.\n",
      "Processing: van:   5%|▌         | 48/932 [03:21<56:58,  3.87s/file]  "
     ]
    },
    {
     "name": "stdout",
     "output_type": "stream",
     "text": [
      "Vehicle Prediction: minivan\n",
      "Validation Result: True\n"
     ]
    },
    {
     "name": "stderr",
     "output_type": "stream",
     "text": [
      "Processing: van:   5%|▌         | 49/932 [03:26<1:02:08,  4.22s/file]"
     ]
    },
    {
     "name": "stdout",
     "output_type": "stream",
     "text": [
      "Vehicle Prediction: van\n",
      "Validation Result: True\n"
     ]
    },
    {
     "name": "stderr",
     "output_type": "stream",
     "text": [
      "[codecarbon INFO @ 15:16:31] Energy consumed for RAM : 0.000685 kWh. RAM Power : 11.756441116333008 W\n",
      "[codecarbon INFO @ 15:16:31] Energy consumed for all CPUs : 0.002478 kWh. Total CPU Power : 42.5 W\n",
      "[codecarbon INFO @ 15:16:31] Energy consumed for all GPUs : 0.005577 kWh. Total GPU Power : 95.60453997873269 W\n",
      "[codecarbon INFO @ 15:16:31] 0.008741 kWh of electricity used since the beginning.\n",
      "Processing: van:   5%|▌         | 50/932 [03:35<1:23:41,  5.69s/file]"
     ]
    },
    {
     "name": "stdout",
     "output_type": "stream",
     "text": [
      "Vehicle Prediction: van\n",
      "Validation Result: True\n"
     ]
    },
    {
     "name": "stderr",
     "output_type": "stream",
     "text": [
      "Processing: van:   5%|▌         | 51/932 [03:38<1:11:33,  4.87s/file]"
     ]
    },
    {
     "name": "stdout",
     "output_type": "stream",
     "text": [
      "Vehicle Prediction: minivan\n",
      "Validation Result: True\n"
     ]
    },
    {
     "name": "stderr",
     "output_type": "stream",
     "text": [
      "Processing: van:   6%|▌         | 52/932 [03:41<1:03:05,  4.30s/file]"
     ]
    },
    {
     "name": "stdout",
     "output_type": "stream",
     "text": [
      "Vehicle Prediction: van\n",
      "Validation Result: True\n"
     ]
    },
    {
     "name": "stderr",
     "output_type": "stream",
     "text": [
      "Processing: van:   6%|▌         | 53/932 [03:44<57:09,  3.90s/file]  "
     ]
    },
    {
     "name": "stdout",
     "output_type": "stream",
     "text": [
      "Vehicle Prediction: van\n",
      "Validation Result: True\n"
     ]
    },
    {
     "name": "stderr",
     "output_type": "stream",
     "text": [
      "[codecarbon INFO @ 15:16:46] Energy consumed for RAM : 0.000734 kWh. RAM Power : 11.756441116333008 W\n",
      "[codecarbon INFO @ 15:16:46] Energy consumed for all CPUs : 0.002655 kWh. Total CPU Power : 42.5 W\n",
      "[codecarbon INFO @ 15:16:46] Energy consumed for all GPUs : 0.005973 kWh. Total GPU Power : 94.91562602244252 W\n",
      "[codecarbon INFO @ 15:16:46] 0.009362 kWh of electricity used since the beginning.\n",
      "Processing: van:   6%|▌         | 54/932 [03:49<1:02:06,  4.24s/file]"
     ]
    },
    {
     "name": "stdout",
     "output_type": "stream",
     "text": [
      "Vehicle Prediction: minivan\n",
      "Validation Result: True\n"
     ]
    },
    {
     "name": "stderr",
     "output_type": "stream",
     "text": [
      "Processing: van:   6%|▌         | 55/932 [03:54<1:03:28,  4.34s/file]"
     ]
    },
    {
     "name": "stdout",
     "output_type": "stream",
     "text": [
      "Vehicle Prediction: van\n",
      "Validation Result: True\n"
     ]
    },
    {
     "name": "stderr",
     "output_type": "stream",
     "text": [
      "Processing: van:   6%|▌         | 56/932 [03:57<57:14,  3.92s/file]  "
     ]
    },
    {
     "name": "stdout",
     "output_type": "stream",
     "text": [
      "Vehicle Prediction: van\n",
      "Validation Result: True\n"
     ]
    },
    {
     "name": "stderr",
     "output_type": "stream",
     "text": [
      "Processing: van:   6%|▌         | 57/932 [04:00<52:49,  3.62s/file]"
     ]
    },
    {
     "name": "stdout",
     "output_type": "stream",
     "text": [
      "Vehicle Prediction: van\n",
      "Validation Result: True\n"
     ]
    },
    {
     "name": "stderr",
     "output_type": "stream",
     "text": [
      "Processing: van:   6%|▌         | 58/932 [04:02<49:53,  3.43s/file]"
     ]
    },
    {
     "name": "stdout",
     "output_type": "stream",
     "text": [
      "Vehicle Prediction: van\n",
      "Validation Result: True\n"
     ]
    },
    {
     "name": "stderr",
     "output_type": "stream",
     "text": [
      "[codecarbon INFO @ 15:17:01] Energy consumed for RAM : 0.000783 kWh. RAM Power : 11.756441116333008 W\n",
      "[codecarbon INFO @ 15:17:01] Energy consumed for all CPUs : 0.002832 kWh. Total CPU Power : 42.5 W\n",
      "[codecarbon INFO @ 15:17:01] Energy consumed for all GPUs : 0.006369 kWh. Total GPU Power : 95.08804455663139 W\n",
      "[codecarbon INFO @ 15:17:01] 0.009984 kWh of electricity used since the beginning.\n",
      "[codecarbon INFO @ 15:17:01] 0.011883 g.CO2eq/s mean an estimation of 374.74808877898374 kg.CO2eq/year\n",
      "Processing: van:   6%|▋         | 59/932 [04:08<56:52,  3.91s/file]"
     ]
    },
    {
     "name": "stdout",
     "output_type": "stream",
     "text": [
      "Vehicle Prediction: minivan\n",
      "Validation Result: True\n"
     ]
    },
    {
     "name": "stderr",
     "output_type": "stream",
     "text": [
      "Processing: van:   6%|▋         | 60/932 [04:13<1:01:40,  4.24s/file]"
     ]
    },
    {
     "name": "stdout",
     "output_type": "stream",
     "text": [
      "Vehicle Prediction: minivan\n",
      "Validation Result: True\n"
     ]
    },
    {
     "name": "stderr",
     "output_type": "stream",
     "text": [
      "Processing: van:   7%|▋         | 61/932 [04:16<56:02,  3.86s/file]  "
     ]
    },
    {
     "name": "stdout",
     "output_type": "stream",
     "text": [
      "Vehicle Prediction: minivan\n",
      "Validation Result: True\n"
     ]
    },
    {
     "name": "stderr",
     "output_type": "stream",
     "text": [
      "Processing: van:   7%|▋         | 62/932 [04:18<52:03,  3.59s/file]"
     ]
    },
    {
     "name": "stdout",
     "output_type": "stream",
     "text": [
      "Vehicle Prediction: van\n",
      "Validation Result: True\n"
     ]
    },
    {
     "name": "stderr",
     "output_type": "stream",
     "text": [
      "[codecarbon INFO @ 15:17:16] Energy consumed for RAM : 0.000832 kWh. RAM Power : 11.756441116333008 W\n",
      "[codecarbon INFO @ 15:17:16] Energy consumed for all CPUs : 0.003009 kWh. Total CPU Power : 42.5 W\n",
      "[codecarbon INFO @ 15:17:16] Energy consumed for all GPUs : 0.006767 kWh. Total GPU Power : 95.75991751910689 W\n",
      "[codecarbon INFO @ 15:17:16] 0.010609 kWh of electricity used since the beginning.\n",
      "Processing: van:   7%|▋         | 63/932 [04:24<58:11,  4.02s/file]"
     ]
    },
    {
     "name": "stdout",
     "output_type": "stream",
     "text": [
      "Vehicle Prediction: minivan\n",
      "Validation Result: True\n"
     ]
    },
    {
     "name": "stderr",
     "output_type": "stream",
     "text": [
      "Processing: van:   7%|▋         | 64/932 [04:26<53:35,  3.70s/file]"
     ]
    },
    {
     "name": "stdout",
     "output_type": "stream",
     "text": [
      "Vehicle Prediction: minivan\n",
      "Validation Result: True\n"
     ]
    },
    {
     "name": "stderr",
     "output_type": "stream",
     "text": [
      "Processing: van:   7%|▋         | 65/932 [04:32<59:17,  4.10s/file]"
     ]
    },
    {
     "name": "stdout",
     "output_type": "stream",
     "text": [
      "Vehicle Prediction: van\n",
      "Validation Result: True\n"
     ]
    },
    {
     "name": "stderr",
     "output_type": "stream",
     "text": [
      "[codecarbon INFO @ 15:17:31] Energy consumed for RAM : 0.000881 kWh. RAM Power : 11.756441116333008 W\n",
      "[codecarbon INFO @ 15:17:31] Energy consumed for all CPUs : 0.003186 kWh. Total CPU Power : 42.5 W\n",
      "[codecarbon INFO @ 15:17:31] Energy consumed for all GPUs : 0.007165 kWh. Total GPU Power : 95.5499043127053 W\n",
      "[codecarbon INFO @ 15:17:31] 0.011232 kWh of electricity used since the beginning.\n",
      "Processing: van:   7%|▋         | 66/932 [04:34<54:13,  3.76s/file]"
     ]
    },
    {
     "name": "stdout",
     "output_type": "stream",
     "text": [
      "Vehicle Prediction: minivan\n",
      "Validation Result: True\n"
     ]
    },
    {
     "name": "stderr",
     "output_type": "stream",
     "text": [
      "Processing: van:   7%|▋         | 67/932 [04:44<1:17:13,  5.36s/file]"
     ]
    },
    {
     "name": "stdout",
     "output_type": "stream",
     "text": [
      "Vehicle Prediction: van\n",
      "Validation Result: True\n"
     ]
    },
    {
     "name": "stderr",
     "output_type": "stream",
     "text": [
      "[codecarbon INFO @ 15:17:46] Energy consumed for RAM : 0.000930 kWh. RAM Power : 11.756441116333008 W\n",
      "[codecarbon INFO @ 15:17:46] Energy consumed for all CPUs : 0.003363 kWh. Total CPU Power : 42.5 W\n",
      "[codecarbon INFO @ 15:17:46] Energy consumed for all GPUs : 0.007569 kWh. Total GPU Power : 96.99120847849981 W\n",
      "[codecarbon INFO @ 15:17:46] 0.011862 kWh of electricity used since the beginning.\n",
      "Processing: van:   7%|▋         | 68/932 [04:53<1:32:52,  6.45s/file]"
     ]
    },
    {
     "name": "stdout",
     "output_type": "stream",
     "text": [
      "Vehicle Prediction: minivan\n",
      "Validation Result: True\n"
     ]
    },
    {
     "name": "stderr",
     "output_type": "stream",
     "text": [
      "Processing: van:   7%|▋         | 69/932 [05:02<1:43:56,  7.23s/file]"
     ]
    },
    {
     "name": "stdout",
     "output_type": "stream",
     "text": [
      "Vehicle Prediction: van\n",
      "Validation Result: True\n"
     ]
    },
    {
     "name": "stderr",
     "output_type": "stream",
     "text": [
      "[codecarbon INFO @ 15:18:01] Energy consumed for RAM : 0.000979 kWh. RAM Power : 11.756441116333008 W\n",
      "[codecarbon INFO @ 15:18:01] Energy consumed for all CPUs : 0.003540 kWh. Total CPU Power : 42.5 W\n",
      "[codecarbon INFO @ 15:18:01] Energy consumed for all GPUs : 0.007964 kWh. Total GPU Power : 94.75086086158622 W\n",
      "[codecarbon INFO @ 15:18:01] 0.012483 kWh of electricity used since the beginning.\n",
      "Processing: van:   8%|▊         | 70/932 [05:11<1:51:31,  7.76s/file]"
     ]
    },
    {
     "name": "stdout",
     "output_type": "stream",
     "text": [
      "Vehicle Prediction: minivan\n",
      "Validation Result: True\n"
     ]
    },
    {
     "name": "stderr",
     "output_type": "stream",
     "text": [
      "Processing: van:   8%|▊         | 71/932 [05:16<1:39:34,  6.94s/file]"
     ]
    },
    {
     "name": "stdout",
     "output_type": "stream",
     "text": [
      "Vehicle Prediction: van\n",
      "Validation Result: True\n"
     ]
    },
    {
     "name": "stderr",
     "output_type": "stream",
     "text": [
      "[codecarbon INFO @ 15:18:16] Energy consumed for RAM : 0.001028 kWh. RAM Power : 11.756441116333008 W\n",
      "[codecarbon INFO @ 15:18:16] Energy consumed for all CPUs : 0.003717 kWh. Total CPU Power : 42.5 W\n",
      "[codecarbon INFO @ 15:18:16] Energy consumed for all GPUs : 0.008367 kWh. Total GPU Power : 96.76417138728907 W\n",
      "[codecarbon INFO @ 15:18:16] 0.013112 kWh of electricity used since the beginning.\n",
      "Processing: van:   8%|▊         | 72/932 [05:25<1:48:27,  7.57s/file]"
     ]
    },
    {
     "name": "stdout",
     "output_type": "stream",
     "text": [
      "Vehicle Prediction: van\n",
      "Validation Result: True\n"
     ]
    },
    {
     "name": "stderr",
     "output_type": "stream",
     "text": [
      "Processing: van:   8%|▊         | 73/932 [05:28<1:28:31,  6.18s/file]"
     ]
    },
    {
     "name": "stdout",
     "output_type": "stream",
     "text": [
      "Vehicle Prediction: minivan\n",
      "Validation Result: True\n"
     ]
    },
    {
     "name": "stderr",
     "output_type": "stream",
     "text": [
      "Processing: van:   8%|▊         | 74/932 [05:33<1:23:23,  5.83s/file]"
     ]
    },
    {
     "name": "stdout",
     "output_type": "stream",
     "text": [
      "Vehicle Prediction: station wagon\n",
      "Validation Result: False\n"
     ]
    },
    {
     "name": "stderr",
     "output_type": "stream",
     "text": [
      "[codecarbon INFO @ 15:18:31] Energy consumed for RAM : 0.001077 kWh. RAM Power : 11.756441116333008 W\n",
      "[codecarbon INFO @ 15:18:31] Energy consumed for all CPUs : 0.003894 kWh. Total CPU Power : 42.5 W\n",
      "[codecarbon INFO @ 15:18:31] Energy consumed for all GPUs : 0.008764 kWh. Total GPU Power : 95.46225933805243 W\n",
      "[codecarbon INFO @ 15:18:31] 0.013735 kWh of electricity used since the beginning.\n",
      "Processing: van:   8%|▊         | 75/932 [05:36<1:10:51,  4.96s/file]"
     ]
    },
    {
     "name": "stdout",
     "output_type": "stream",
     "text": [
      "Vehicle Prediction: minivan\n",
      "Validation Result: True\n"
     ]
    },
    {
     "name": "stderr",
     "output_type": "stream",
     "text": [
      "Processing: van:   8%|▊         | 76/932 [05:40<1:08:59,  4.84s/file]"
     ]
    },
    {
     "name": "stdout",
     "output_type": "stream",
     "text": [
      "Vehicle Prediction: suv\n",
      "Validation Result: False\n"
     ]
    },
    {
     "name": "stderr",
     "output_type": "stream",
     "text": [
      "Processing: van:   8%|▊         | 77/932 [05:43<1:00:47,  4.27s/file]"
     ]
    },
    {
     "name": "stdout",
     "output_type": "stream",
     "text": [
      "Vehicle Prediction: minivan\n",
      "Validation Result: True\n"
     ]
    },
    {
     "name": "stderr",
     "output_type": "stream",
     "text": [
      "Processing: van:   8%|▊         | 78/932 [05:48<1:02:01,  4.36s/file]"
     ]
    },
    {
     "name": "stdout",
     "output_type": "stream",
     "text": [
      "Vehicle Prediction: minivan\n",
      "Validation Result: True\n"
     ]
    },
    {
     "name": "stderr",
     "output_type": "stream",
     "text": [
      "[codecarbon INFO @ 15:18:46] Energy consumed for RAM : 0.001126 kWh. RAM Power : 11.756441116333008 W\n",
      "[codecarbon INFO @ 15:18:46] Energy consumed for all CPUs : 0.004071 kWh. Total CPU Power : 42.5 W\n",
      "[codecarbon INFO @ 15:18:46] Energy consumed for all GPUs : 0.009159 kWh. Total GPU Power : 94.79096890019942 W\n",
      "[codecarbon INFO @ 15:18:46] 0.014356 kWh of electricity used since the beginning.\n",
      "Processing: van:   8%|▊         | 79/932 [05:53<1:04:54,  4.57s/file]"
     ]
    },
    {
     "name": "stdout",
     "output_type": "stream",
     "text": [
      "Vehicle Prediction: van\n",
      "Validation Result: True\n"
     ]
    },
    {
     "name": "stderr",
     "output_type": "stream",
     "text": [
      "Processing: van:   9%|▊         | 80/932 [05:57<1:04:49,  4.57s/file]"
     ]
    },
    {
     "name": "stdout",
     "output_type": "stream",
     "text": [
      "Vehicle Prediction: minivan\n",
      "Validation Result: True\n"
     ]
    },
    {
     "name": "stderr",
     "output_type": "stream",
     "text": [
      "Processing: van:   9%|▊         | 81/932 [06:00<57:51,  4.08s/file]  "
     ]
    },
    {
     "name": "stdout",
     "output_type": "stream",
     "text": [
      "Vehicle Prediction: minivan\n",
      "Validation Result: True\n"
     ]
    },
    {
     "name": "stderr",
     "output_type": "stream",
     "text": [
      "Processing: van:   9%|▉         | 82/932 [06:03<53:01,  3.74s/file]"
     ]
    },
    {
     "name": "stdout",
     "output_type": "stream",
     "text": [
      "Vehicle Prediction: minivan\n",
      "Validation Result: True\n"
     ]
    },
    {
     "name": "stderr",
     "output_type": "stream",
     "text": [
      "[codecarbon INFO @ 15:19:01] Energy consumed for RAM : 0.001175 kWh. RAM Power : 11.756441116333008 W\n",
      "[codecarbon INFO @ 15:19:01] Energy consumed for all CPUs : 0.004248 kWh. Total CPU Power : 42.5 W\n",
      "[codecarbon INFO @ 15:19:01] Energy consumed for all GPUs : 0.009555 kWh. Total GPU Power : 95.18556146166806 W\n",
      "[codecarbon INFO @ 15:19:01] 0.014978 kWh of electricity used since the beginning.\n",
      "[codecarbon INFO @ 15:19:01] 0.011883 g.CO2eq/s mean an estimation of 374.7341769957182 kg.CO2eq/year\n",
      "Processing: van:   9%|▉         | 83/932 [06:12<1:15:43,  5.35s/file]"
     ]
    },
    {
     "name": "stdout",
     "output_type": "stream",
     "text": [
      "Vehicle Prediction: van\n",
      "Validation Result: True\n"
     ]
    },
    {
     "name": "stderr",
     "output_type": "stream",
     "text": [
      "Processing: van:   9%|▉         | 84/932 [06:15<1:05:25,  4.63s/file]"
     ]
    },
    {
     "name": "stdout",
     "output_type": "stream",
     "text": [
      "Vehicle Prediction: minivan\n",
      "Validation Result: True\n"
     ]
    },
    {
     "name": "stderr",
     "output_type": "stream",
     "text": [
      "[codecarbon INFO @ 15:19:16] Energy consumed for RAM : 0.001224 kWh. RAM Power : 11.756441116333008 W\n",
      "[codecarbon INFO @ 15:19:16] Energy consumed for all CPUs : 0.004425 kWh. Total CPU Power : 42.5 W\n",
      "[codecarbon INFO @ 15:19:16] Energy consumed for all GPUs : 0.009954 kWh. Total GPU Power : 95.70363419755276 W\n",
      "[codecarbon INFO @ 15:19:16] 0.015603 kWh of electricity used since the beginning.\n",
      "Processing: van:   9%|▉         | 85/932 [06:20<1:05:07,  4.61s/file]"
     ]
    },
    {
     "name": "stdout",
     "output_type": "stream",
     "text": [
      "Vehicle Prediction: minivan\n",
      "Validation Result: True\n"
     ]
    },
    {
     "name": "stderr",
     "output_type": "stream",
     "text": [
      "Processing: van:   9%|▉         | 86/932 [06:25<1:06:55,  4.75s/file]"
     ]
    },
    {
     "name": "stdout",
     "output_type": "stream",
     "text": [
      "Vehicle Prediction: minivan\n",
      "Validation Result: True\n"
     ]
    },
    {
     "name": "stderr",
     "output_type": "stream",
     "text": [
      "Processing: van:   9%|▉         | 87/932 [06:30<1:08:09,  4.84s/file]"
     ]
    },
    {
     "name": "stdout",
     "output_type": "stream",
     "text": [
      "Vehicle Prediction: van\n",
      "Validation Result: True\n"
     ]
    },
    {
     "name": "stderr",
     "output_type": "stream",
     "text": [
      "Processing: van:   9%|▉         | 88/932 [06:33<1:00:09,  4.28s/file]"
     ]
    },
    {
     "name": "stdout",
     "output_type": "stream",
     "text": [
      "Vehicle Prediction: minivan\n",
      "Validation Result: True\n"
     ]
    },
    {
     "name": "stderr",
     "output_type": "stream",
     "text": [
      "[codecarbon INFO @ 15:19:31] Energy consumed for RAM : 0.001273 kWh. RAM Power : 11.756441116333008 W\n",
      "[codecarbon INFO @ 15:19:31] Energy consumed for all CPUs : 0.004602 kWh. Total CPU Power : 42.5 W\n",
      "[codecarbon INFO @ 15:19:31] Energy consumed for all GPUs : 0.010353 kWh. Total GPU Power : 95.73326444226821 W\n",
      "[codecarbon INFO @ 15:19:31] 0.016228 kWh of electricity used since the beginning.\n",
      "Processing: van:  10%|▉         | 89/932 [06:36<54:31,  3.88s/file]  "
     ]
    },
    {
     "name": "stdout",
     "output_type": "stream",
     "text": [
      "Vehicle Prediction: van\n",
      "Validation Result: True\n"
     ]
    },
    {
     "name": "stderr",
     "output_type": "stream",
     "text": [
      "Processing: van:  10%|▉         | 90/932 [06:39<50:30,  3.60s/file]"
     ]
    },
    {
     "name": "stdout",
     "output_type": "stream",
     "text": [
      "Vehicle Prediction: van\n",
      "Validation Result: True\n"
     ]
    },
    {
     "name": "stderr",
     "output_type": "stream",
     "text": [
      "Processing: van:  10%|▉         | 91/932 [06:42<47:37,  3.40s/file]"
     ]
    },
    {
     "name": "stdout",
     "output_type": "stream",
     "text": [
      "Vehicle Prediction: van\n",
      "Validation Result: True\n"
     ]
    },
    {
     "name": "stderr",
     "output_type": "stream",
     "text": [
      "Processing: van:  10%|▉         | 92/932 [06:47<54:22,  3.88s/file]"
     ]
    },
    {
     "name": "stdout",
     "output_type": "stream",
     "text": [
      "Vehicle Prediction: minivan\n",
      "Validation Result: True\n"
     ]
    },
    {
     "name": "stderr",
     "output_type": "stream",
     "text": [
      "[codecarbon INFO @ 15:19:46] Energy consumed for RAM : 0.001322 kWh. RAM Power : 11.756441116333008 W\n",
      "[codecarbon INFO @ 15:19:46] Energy consumed for all CPUs : 0.004779 kWh. Total CPU Power : 42.5 W\n",
      "[codecarbon INFO @ 15:19:46] Energy consumed for all GPUs : 0.010748 kWh. Total GPU Power : 94.97242952741095 W\n",
      "[codecarbon INFO @ 15:19:46] 0.016849 kWh of electricity used since the beginning.\n",
      "Processing: van:  10%|▉         | 93/932 [06:56<1:16:05,  5.44s/file]"
     ]
    },
    {
     "name": "stdout",
     "output_type": "stream",
     "text": [
      "Vehicle Prediction: wagon\n",
      "Validation Result: False\n"
     ]
    },
    {
     "name": "stderr",
     "output_type": "stream",
     "text": [
      "Processing: van:  10%|█         | 94/932 [07:01<1:14:12,  5.31s/file]"
     ]
    },
    {
     "name": "stdout",
     "output_type": "stream",
     "text": [
      "Vehicle Prediction: van\n",
      "Validation Result: True\n"
     ]
    },
    {
     "name": "stderr",
     "output_type": "stream",
     "text": [
      "Processing: van:  10%|█         | 95/932 [07:04<1:04:10,  4.60s/file][codecarbon INFO @ 15:20:01] Energy consumed for RAM : 0.001371 kWh. RAM Power : 11.756441116333008 W\n",
      "[codecarbon INFO @ 15:20:01] Energy consumed for all CPUs : 0.004956 kWh. Total CPU Power : 42.5 W\n",
      "[codecarbon INFO @ 15:20:01] Energy consumed for all GPUs : 0.011146 kWh. Total GPU Power : 95.33797452260633 W\n",
      "[codecarbon INFO @ 15:20:01] 0.017472 kWh of electricity used since the beginning.\n"
     ]
    },
    {
     "name": "stdout",
     "output_type": "stream",
     "text": [
      "Vehicle Prediction: van\n",
      "Validation Result: True\n"
     ]
    },
    {
     "name": "stderr",
     "output_type": "stream",
     "text": [
      "Processing: van:  10%|█         | 96/932 [07:09<1:05:53,  4.73s/file]"
     ]
    },
    {
     "name": "stdout",
     "output_type": "stream",
     "text": [
      "Vehicle Prediction: van\n",
      "Validation Result: True\n"
     ]
    },
    {
     "name": "stderr",
     "output_type": "stream",
     "text": [
      "Processing: van:  10%|█         | 97/932 [07:14<1:07:07,  4.82s/file]"
     ]
    },
    {
     "name": "stdout",
     "output_type": "stream",
     "text": [
      "Vehicle Prediction: van\n",
      "Validation Result: True\n"
     ]
    },
    {
     "name": "stderr",
     "output_type": "stream",
     "text": [
      "Processing: van:  11%|█         | 98/932 [07:19<1:07:56,  4.89s/file][codecarbon INFO @ 15:20:16] Energy consumed for RAM : 0.001420 kWh. RAM Power : 11.756441116333008 W\n",
      "[codecarbon INFO @ 15:20:16] Energy consumed for all CPUs : 0.005134 kWh. Total CPU Power : 42.5 W\n",
      "[codecarbon INFO @ 15:20:16] Energy consumed for all GPUs : 0.011547 kWh. Total GPU Power : 95.91197287283909 W\n",
      "[codecarbon INFO @ 15:20:16] 0.018101 kWh of electricity used since the beginning.\n"
     ]
    },
    {
     "name": "stdout",
     "output_type": "stream",
     "text": [
      "Vehicle Prediction: minivan\n",
      "Validation Result: True\n"
     ]
    },
    {
     "name": "stderr",
     "output_type": "stream",
     "text": [
      "Processing: van:  11%|█         | 99/932 [07:24<1:08:28,  4.93s/file]"
     ]
    },
    {
     "name": "stdout",
     "output_type": "stream",
     "text": [
      "Vehicle Prediction: minivan\n",
      "Validation Result: True\n"
     ]
    },
    {
     "name": "stderr",
     "output_type": "stream",
     "text": [
      "Processing: van:  11%|█         | 100/932 [07:27<1:00:06,  4.34s/file]"
     ]
    },
    {
     "name": "stdout",
     "output_type": "stream",
     "text": [
      "Vehicle Prediction: van\n",
      "Validation Result: True\n"
     ]
    },
    {
     "name": "stderr",
     "output_type": "stream",
     "text": [
      "Processing: pickup:  11%|█         | 101/932 [07:31<1:01:02,  4.41s/file]"
     ]
    },
    {
     "name": "stdout",
     "output_type": "stream",
     "text": [
      "Vehicle Prediction: van\n",
      "Validation Result: True\n"
     ]
    },
    {
     "name": "stderr",
     "output_type": "stream",
     "text": [
      "[codecarbon INFO @ 15:20:31] Energy consumed for RAM : 0.001469 kWh. RAM Power : 11.756441116333008 W\n",
      "[codecarbon INFO @ 15:20:31] Energy consumed for all CPUs : 0.005311 kWh. Total CPU Power : 42.5 W\n",
      "[codecarbon INFO @ 15:20:31] Energy consumed for all GPUs : 0.011945 kWh. Total GPU Power : 95.66167562819969 W\n",
      "[codecarbon INFO @ 15:20:31] 0.018725 kWh of electricity used since the beginning.\n",
      "Processing: pickup:  11%|█         | 102/932 [07:36<1:03:38,  4.60s/file]"
     ]
    },
    {
     "name": "stdout",
     "output_type": "stream",
     "text": [
      "Vehicle Prediction: pickup\n",
      "Validation Result: True\n"
     ]
    },
    {
     "name": "stderr",
     "output_type": "stream",
     "text": [
      "Processing: pickup:  11%|█         | 103/932 [07:41<1:05:22,  4.73s/file]"
     ]
    },
    {
     "name": "stdout",
     "output_type": "stream",
     "text": [
      "Vehicle Prediction: pickup\n",
      "Validation Result: True\n"
     ]
    },
    {
     "name": "stderr",
     "output_type": "stream",
     "text": [
      "Processing: pickup:  11%|█         | 104/932 [07:46<1:06:36,  4.83s/file]"
     ]
    },
    {
     "name": "stdout",
     "output_type": "stream",
     "text": [
      "Vehicle Prediction: pickup\n",
      "Validation Result: True\n"
     ]
    },
    {
     "name": "stderr",
     "output_type": "stream",
     "text": [
      "[codecarbon INFO @ 15:20:46] Energy consumed for RAM : 0.001518 kWh. RAM Power : 11.756441116333008 W\n",
      "[codecarbon INFO @ 15:20:46] Energy consumed for all CPUs : 0.005488 kWh. Total CPU Power : 42.5 W\n",
      "[codecarbon INFO @ 15:20:46] Energy consumed for all GPUs : 0.012345 kWh. Total GPU Power : 95.99809748342447 W\n",
      "[codecarbon INFO @ 15:20:46] 0.019351 kWh of electricity used since the beginning.\n",
      "Processing: pickup:  11%|█▏        | 105/932 [07:52<1:07:21,  4.89s/file]"
     ]
    },
    {
     "name": "stdout",
     "output_type": "stream",
     "text": [
      "Vehicle Prediction: pickup\n",
      "Validation Result: True\n"
     ]
    },
    {
     "name": "stderr",
     "output_type": "stream",
     "text": [
      "Processing: pickup:  11%|█▏        | 106/932 [07:56<1:05:55,  4.79s/file]"
     ]
    },
    {
     "name": "stdout",
     "output_type": "stream",
     "text": [
      "Vehicle Prediction: pickup\n",
      "Validation Result: True\n"
     ]
    },
    {
     "name": "stderr",
     "output_type": "stream",
     "text": [
      "Processing: pickup:  11%|█▏        | 107/932 [08:01<1:06:50,  4.86s/file]"
     ]
    },
    {
     "name": "stdout",
     "output_type": "stream",
     "text": [
      "Vehicle Prediction: pickup\n",
      "Validation Result: True\n"
     ]
    },
    {
     "name": "stderr",
     "output_type": "stream",
     "text": [
      "[codecarbon INFO @ 15:21:01] Energy consumed for RAM : 0.001567 kWh. RAM Power : 11.756441116333008 W\n",
      "[codecarbon INFO @ 15:21:01] Energy consumed for all CPUs : 0.005665 kWh. Total CPU Power : 42.5 W\n",
      "[codecarbon INFO @ 15:21:01] Energy consumed for all GPUs : 0.012742 kWh. Total GPU Power : 95.22368072942281 W\n",
      "[codecarbon INFO @ 15:21:01] 0.019974 kWh of electricity used since the beginning.\n",
      "[codecarbon INFO @ 15:21:01] 0.011877 g.CO2eq/s mean an estimation of 374.54448156173805 kg.CO2eq/year\n",
      "Processing: pickup:  12%|█▏        | 108/932 [08:10<1:24:01,  6.12s/file]"
     ]
    },
    {
     "name": "stdout",
     "output_type": "stream",
     "text": [
      "Vehicle Prediction: pickup\n",
      "Validation Result: True\n"
     ]
    },
    {
     "name": "stderr",
     "output_type": "stream",
     "text": [
      "Processing: pickup:  12%|█▏        | 109/932 [08:15<1:19:21,  5.79s/file]"
     ]
    },
    {
     "name": "stdout",
     "output_type": "stream",
     "text": [
      "Vehicle Prediction: pickuptruck\n",
      "Validation Result: False\n"
     ]
    },
    {
     "name": "stderr",
     "output_type": "stream",
     "text": [
      "[codecarbon INFO @ 15:21:16] Energy consumed for RAM : 0.001616 kWh. RAM Power : 11.756441116333008 W\n",
      "[codecarbon INFO @ 15:21:16] Energy consumed for all CPUs : 0.005842 kWh. Total CPU Power : 42.5 W\n",
      "[codecarbon INFO @ 15:21:16] Energy consumed for all GPUs : 0.013143 kWh. Total GPU Power : 96.26491236481095 W\n",
      "[codecarbon INFO @ 15:21:16] 0.020601 kWh of electricity used since the beginning.\n",
      "Processing: pickup:  12%|█▏        | 110/932 [08:20<1:16:03,  5.55s/file]"
     ]
    },
    {
     "name": "stdout",
     "output_type": "stream",
     "text": [
      "Vehicle Prediction: pickuptruck\n",
      "Validation Result: False\n"
     ]
    },
    {
     "name": "stderr",
     "output_type": "stream",
     "text": [
      "Processing: pickup:  12%|█▏        | 111/932 [08:25<1:13:46,  5.39s/file]"
     ]
    },
    {
     "name": "stdout",
     "output_type": "stream",
     "text": [
      "Vehicle Prediction: pickup\n",
      "Validation Result: True\n"
     ]
    },
    {
     "name": "stderr",
     "output_type": "stream",
     "text": [
      "Processing: pickup:  12%|█▏        | 112/932 [08:28<1:03:34,  4.65s/file]"
     ]
    },
    {
     "name": "stdout",
     "output_type": "stream",
     "text": [
      "Vehicle Prediction: pickup\n",
      "Validation Result: True\n"
     ]
    },
    {
     "name": "stderr",
     "output_type": "stream",
     "text": [
      "Processing: pickup:  12%|█▏        | 113/932 [08:31<56:27,  4.14s/file]  "
     ]
    },
    {
     "name": "stdout",
     "output_type": "stream",
     "text": [
      "Vehicle Prediction: pickup\n",
      "Validation Result: True\n"
     ]
    },
    {
     "name": "stderr",
     "output_type": "stream",
     "text": [
      "[codecarbon INFO @ 15:21:31] Energy consumed for RAM : 0.001665 kWh. RAM Power : 11.756441116333008 W\n",
      "[codecarbon INFO @ 15:21:31] Energy consumed for all CPUs : 0.006019 kWh. Total CPU Power : 42.5 W\n",
      "[codecarbon INFO @ 15:21:31] Energy consumed for all GPUs : 0.013542 kWh. Total GPU Power : 95.78816974917794 W\n",
      "[codecarbon INFO @ 15:21:31] 0.021226 kWh of electricity used since the beginning.\n",
      "Processing: pickup:  12%|█▏        | 114/932 [08:36<59:56,  4.40s/file]"
     ]
    },
    {
     "name": "stdout",
     "output_type": "stream",
     "text": [
      "Vehicle Prediction: pickup\n",
      "Validation Result: True\n"
     ]
    },
    {
     "name": "stderr",
     "output_type": "stream",
     "text": [
      "Processing: pickup:  12%|█▏        | 115/932 [08:41<1:02:22,  4.58s/file]"
     ]
    },
    {
     "name": "stdout",
     "output_type": "stream",
     "text": [
      "Vehicle Prediction: pickup\n",
      "Validation Result: True\n"
     ]
    },
    {
     "name": "stderr",
     "output_type": "stream",
     "text": [
      "Processing: pickup:  12%|█▏        | 116/932 [08:46<1:02:09,  4.57s/file]"
     ]
    },
    {
     "name": "stdout",
     "output_type": "stream",
     "text": [
      "Vehicle Prediction: pickup\n",
      "Validation Result: True\n"
     ]
    },
    {
     "name": "stderr",
     "output_type": "stream",
     "text": [
      "Processing: pickup:  13%|█▎        | 117/932 [08:49<55:24,  4.08s/file]  "
     ]
    },
    {
     "name": "stdout",
     "output_type": "stream",
     "text": [
      "Vehicle Prediction: pickup\n",
      "Validation Result: True\n"
     ]
    },
    {
     "name": "stderr",
     "output_type": "stream",
     "text": [
      "[codecarbon INFO @ 15:21:46] Energy consumed for RAM : 0.001714 kWh. RAM Power : 11.756441116333008 W\n",
      "[codecarbon INFO @ 15:21:46] Energy consumed for all CPUs : 0.006196 kWh. Total CPU Power : 42.5 W\n",
      "[codecarbon INFO @ 15:21:46] Energy consumed for all GPUs : 0.013940 kWh. Total GPU Power : 95.58928418474066 W\n",
      "[codecarbon INFO @ 15:21:46] 0.021850 kWh of electricity used since the beginning.\n",
      "Processing: pickup:  13%|█▎        | 118/932 [08:51<50:40,  3.73s/file]"
     ]
    },
    {
     "name": "stdout",
     "output_type": "stream",
     "text": [
      "Vehicle Prediction: pickup\n",
      "Validation Result: True\n"
     ]
    },
    {
     "name": "stderr",
     "output_type": "stream",
     "text": [
      "Processing: pickup:  13%|█▎        | 119/932 [08:56<53:55,  3.98s/file]"
     ]
    },
    {
     "name": "stdout",
     "output_type": "stream",
     "text": [
      "Vehicle Prediction: pickup\n",
      "Validation Result: True\n"
     ]
    },
    {
     "name": "stderr",
     "output_type": "stream",
     "text": [
      "Processing: pickup:  13%|█▎        | 120/932 [08:59<49:32,  3.66s/file]"
     ]
    },
    {
     "name": "stdout",
     "output_type": "stream",
     "text": [
      "Vehicle Prediction: pickup\n",
      "Validation Result: True\n"
     ]
    },
    {
     "name": "stderr",
     "output_type": "stream",
     "text": [
      "[codecarbon INFO @ 15:22:01] Energy consumed for RAM : 0.001763 kWh. RAM Power : 11.756441116333008 W\n",
      "[codecarbon INFO @ 15:22:01] Energy consumed for all CPUs : 0.006373 kWh. Total CPU Power : 42.5 W\n",
      "[codecarbon INFO @ 15:22:01] Energy consumed for all GPUs : 0.014338 kWh. Total GPU Power : 95.57660912479658 W\n",
      "[codecarbon INFO @ 15:22:01] 0.022474 kWh of electricity used since the beginning.\n",
      "Processing: pickup:  13%|█▎        | 121/932 [09:04<54:54,  4.06s/file]"
     ]
    },
    {
     "name": "stdout",
     "output_type": "stream",
     "text": [
      "Vehicle Prediction: pickup\n",
      "Validation Result: True\n"
     ]
    },
    {
     "name": "stderr",
     "output_type": "stream",
     "text": [
      "Processing: pickup:  13%|█▎        | 122/932 [09:07<50:17,  3.73s/file]"
     ]
    },
    {
     "name": "stdout",
     "output_type": "stream",
     "text": [
      "Vehicle Prediction: pickup\n",
      "Validation Result: True\n"
     ]
    },
    {
     "name": "stderr",
     "output_type": "stream",
     "text": [
      "Processing: pickup:  13%|█▎        | 123/932 [09:12<55:28,  4.11s/file]"
     ]
    },
    {
     "name": "stdout",
     "output_type": "stream",
     "text": [
      "Vehicle Prediction: pickup\n",
      "Validation Result: True\n"
     ]
    },
    {
     "name": "stderr",
     "output_type": "stream",
     "text": [
      "[codecarbon INFO @ 15:22:16] Energy consumed for RAM : 0.001812 kWh. RAM Power : 11.756441116333008 W\n",
      "[codecarbon INFO @ 15:22:16] Energy consumed for all CPUs : 0.006550 kWh. Total CPU Power : 42.5 W\n",
      "[codecarbon INFO @ 15:22:16] Energy consumed for all GPUs : 0.014735 kWh. Total GPU Power : 95.29368342340281 W\n",
      "[codecarbon INFO @ 15:22:16] 0.023097 kWh of electricity used since the beginning.\n",
      "Processing: pickup:  13%|█▎        | 124/932 [09:21<1:15:21,  5.60s/file]"
     ]
    },
    {
     "name": "stdout",
     "output_type": "stream",
     "text": [
      "Vehicle Prediction: pickup\n",
      "Validation Result: True\n"
     ]
    },
    {
     "name": "stderr",
     "output_type": "stream",
     "text": [
      "Processing: pickup:  13%|█▎        | 125/932 [09:24<1:04:31,  4.80s/file]"
     ]
    },
    {
     "name": "stdout",
     "output_type": "stream",
     "text": [
      "Vehicle Prediction: pickup\n",
      "Validation Result: True\n"
     ]
    },
    {
     "name": "stderr",
     "output_type": "stream",
     "text": [
      "Processing: pickup:  14%|█▎        | 126/932 [09:29<1:05:24,  4.87s/file]"
     ]
    },
    {
     "name": "stdout",
     "output_type": "stream",
     "text": [
      "Vehicle Prediction: pickup\n",
      "Validation Result: True\n"
     ]
    },
    {
     "name": "stderr",
     "output_type": "stream",
     "text": [
      "Processing: pickup:  14%|█▎        | 127/932 [09:32<57:33,  4.29s/file]  "
     ]
    },
    {
     "name": "stdout",
     "output_type": "stream",
     "text": [
      "Vehicle Prediction: pickup\n",
      "Validation Result: True\n"
     ]
    },
    {
     "name": "stderr",
     "output_type": "stream",
     "text": [
      "[codecarbon INFO @ 15:22:31] Energy consumed for RAM : 0.001861 kWh. RAM Power : 11.756441116333008 W\n",
      "[codecarbon INFO @ 15:22:31] Energy consumed for all CPUs : 0.006727 kWh. Total CPU Power : 42.5 W\n",
      "[codecarbon INFO @ 15:22:31] Energy consumed for all GPUs : 0.015131 kWh. Total GPU Power : 95.09348430164259 W\n",
      "[codecarbon INFO @ 15:22:31] 0.023719 kWh of electricity used since the beginning.\n",
      "Processing: pickup:  14%|█▎        | 128/932 [09:35<52:04,  3.89s/file]"
     ]
    },
    {
     "name": "stdout",
     "output_type": "stream",
     "text": [
      "Vehicle Prediction: pickup\n",
      "Validation Result: True\n"
     ]
    },
    {
     "name": "stderr",
     "output_type": "stream",
     "text": [
      "Processing: pickup:  14%|█▍        | 129/932 [09:40<56:38,  4.23s/file]"
     ]
    },
    {
     "name": "stdout",
     "output_type": "stream",
     "text": [
      "Vehicle Prediction: pickup\n",
      "Validation Result: True\n"
     ]
    },
    {
     "name": "stderr",
     "output_type": "stream",
     "text": [
      "Processing: pickup:  14%|█▍        | 130/932 [09:43<51:26,  3.85s/file]"
     ]
    },
    {
     "name": "stdout",
     "output_type": "stream",
     "text": [
      "Vehicle Prediction: pickup\n",
      "Validation Result: True\n"
     ]
    },
    {
     "name": "stderr",
     "output_type": "stream",
     "text": [
      "Processing: pickup:  14%|█▍        | 131/932 [09:46<47:50,  3.58s/file]"
     ]
    },
    {
     "name": "stdout",
     "output_type": "stream",
     "text": [
      "Vehicle Prediction: suv\n",
      "Validation Result: False\n"
     ]
    },
    {
     "name": "stderr",
     "output_type": "stream",
     "text": [
      "[codecarbon INFO @ 15:22:46] Energy consumed for RAM : 0.001910 kWh. RAM Power : 11.756441116333008 W\n",
      "[codecarbon INFO @ 15:22:46] Energy consumed for all CPUs : 0.006904 kWh. Total CPU Power : 42.5 W\n",
      "[codecarbon INFO @ 15:22:46] Energy consumed for all GPUs : 0.015529 kWh. Total GPU Power : 95.54659289316619 W\n",
      "[codecarbon INFO @ 15:22:46] 0.024343 kWh of electricity used since the beginning.\n",
      "Processing: pickup:  14%|█▍        | 132/932 [09:51<53:38,  4.02s/file]"
     ]
    },
    {
     "name": "stdout",
     "output_type": "stream",
     "text": [
      "Vehicle Prediction: pickup truck\n",
      "Validation Result: True\n"
     ]
    },
    {
     "name": "stderr",
     "output_type": "stream",
     "text": [
      "Processing: pickup:  14%|█▍        | 133/932 [09:54<49:23,  3.71s/file]"
     ]
    },
    {
     "name": "stdout",
     "output_type": "stream",
     "text": [
      "Vehicle Prediction: pickuptruck\n",
      "Validation Result: False\n"
     ]
    },
    {
     "name": "stderr",
     "output_type": "stream",
     "text": [
      "Processing: pickup:  14%|█▍        | 134/932 [09:57<46:22,  3.49s/file]"
     ]
    },
    {
     "name": "stdout",
     "output_type": "stream",
     "text": [
      "Vehicle Prediction: pickup\n",
      "Validation Result: True\n"
     ]
    },
    {
     "name": "stderr",
     "output_type": "stream",
     "text": [
      "Processing: pickup:  14%|█▍        | 135/932 [10:02<52:28,  3.95s/file]"
     ]
    },
    {
     "name": "stdout",
     "output_type": "stream",
     "text": [
      "Vehicle Prediction: pickup\n",
      "Validation Result: True\n"
     ]
    },
    {
     "name": "stderr",
     "output_type": "stream",
     "text": [
      "[codecarbon INFO @ 15:23:01] Energy consumed for RAM : 0.001959 kWh. RAM Power : 11.756441116333008 W\n",
      "[codecarbon INFO @ 15:23:01] Energy consumed for all CPUs : 0.007081 kWh. Total CPU Power : 42.5 W\n",
      "[codecarbon INFO @ 15:23:01] Energy consumed for all GPUs : 0.015926 kWh. Total GPU Power : 95.19825658644157 W\n",
      "[codecarbon INFO @ 15:23:01] 0.024965 kWh of electricity used since the beginning.\n",
      "[codecarbon INFO @ 15:23:01] 0.011875 g.CO2eq/s mean an estimation of 374.48215392806827 kg.CO2eq/year\n",
      "Processing: pickup:  15%|█▍        | 136/932 [10:06<54:49,  4.13s/file]"
     ]
    },
    {
     "name": "stdout",
     "output_type": "stream",
     "text": [
      "Vehicle Prediction: pickup\n",
      "Validation Result: True\n"
     ]
    },
    {
     "name": "stderr",
     "output_type": "stream",
     "text": [
      "Processing: pickup:  15%|█▍        | 137/932 [10:11<58:15,  4.40s/file]"
     ]
    },
    {
     "name": "stdout",
     "output_type": "stream",
     "text": [
      "Vehicle Prediction: pickuptruck\n",
      "Validation Result: False\n"
     ]
    },
    {
     "name": "stderr",
     "output_type": "stream",
     "text": [
      "[codecarbon INFO @ 15:23:16] Energy consumed for RAM : 0.002007 kWh. RAM Power : 11.756441116333008 W\n",
      "[codecarbon INFO @ 15:23:16] Energy consumed for all CPUs : 0.007258 kWh. Total CPU Power : 42.5 W\n",
      "[codecarbon INFO @ 15:23:16] Energy consumed for all GPUs : 0.016323 kWh. Total GPU Power : 95.41041046863266 W\n",
      "[codecarbon INFO @ 15:23:16] 0.025588 kWh of electricity used since the beginning.\n",
      "Processing: pickup:  15%|█▍        | 138/932 [10:21<1:17:07,  5.83s/file]"
     ]
    },
    {
     "name": "stdout",
     "output_type": "stream",
     "text": [
      "Vehicle Prediction: pickup\n",
      "Validation Result: True\n"
     ]
    },
    {
     "name": "stderr",
     "output_type": "stream",
     "text": [
      "Processing: pickup:  15%|█▍        | 139/932 [10:26<1:13:44,  5.58s/file]"
     ]
    },
    {
     "name": "stdout",
     "output_type": "stream",
     "text": [
      "Vehicle Prediction: pickup\n",
      "Validation Result: True\n"
     ]
    },
    {
     "name": "stderr",
     "output_type": "stream",
     "text": [
      "Processing: pickup:  15%|█▌        | 140/932 [10:31<1:11:22,  5.41s/file]"
     ]
    },
    {
     "name": "stdout",
     "output_type": "stream",
     "text": [
      "Vehicle Prediction: pickup\n",
      "Validation Result: True\n"
     ]
    },
    {
     "name": "stderr",
     "output_type": "stream",
     "text": [
      "[codecarbon INFO @ 15:23:31] Energy consumed for RAM : 0.002056 kWh. RAM Power : 11.756441116333008 W\n",
      "[codecarbon INFO @ 15:23:31] Energy consumed for all CPUs : 0.007435 kWh. Total CPU Power : 42.5 W\n",
      "[codecarbon INFO @ 15:23:31] Energy consumed for all GPUs : 0.016721 kWh. Total GPU Power : 95.47422946197396 W\n",
      "[codecarbon INFO @ 15:23:31] 0.026212 kWh of electricity used since the beginning.\n",
      "Processing: pickup:  15%|█▌        | 141/932 [10:36<1:09:41,  5.29s/file]"
     ]
    },
    {
     "name": "stdout",
     "output_type": "stream",
     "text": [
      "Vehicle Prediction: pickuptruck\n",
      "Validation Result: False\n"
     ]
    },
    {
     "name": "stderr",
     "output_type": "stream",
     "text": [
      "Processing: pickup:  15%|█▌        | 142/932 [10:38<1:00:15,  4.58s/file]"
     ]
    },
    {
     "name": "stdout",
     "output_type": "stream",
     "text": [
      "Vehicle Prediction: pickup\n",
      "Validation Result: True\n"
     ]
    },
    {
     "name": "stderr",
     "output_type": "stream",
     "text": [
      "Processing: pickup:  15%|█▌        | 143/932 [10:47<1:17:40,  5.91s/file]"
     ]
    },
    {
     "name": "stdout",
     "output_type": "stream",
     "text": [
      "Vehicle Prediction: pickup\n",
      "Validation Result: True\n"
     ]
    },
    {
     "name": "stderr",
     "output_type": "stream",
     "text": [
      "[codecarbon INFO @ 15:23:46] Energy consumed for RAM : 0.002105 kWh. RAM Power : 11.756441116333008 W\n",
      "[codecarbon INFO @ 15:23:46] Energy consumed for all CPUs : 0.007612 kWh. Total CPU Power : 42.5 W\n",
      "[codecarbon INFO @ 15:23:46] Energy consumed for all GPUs : 0.017120 kWh. Total GPU Power : 95.97935076956418 W\n",
      "[codecarbon INFO @ 15:23:46] 0.026838 kWh of electricity used since the beginning.\n",
      "Processing: pickup:  15%|█▌        | 144/932 [10:50<1:05:54,  5.02s/file]"
     ]
    },
    {
     "name": "stdout",
     "output_type": "stream",
     "text": [
      "Vehicle Prediction: pickup\n",
      "Validation Result: True\n"
     ]
    },
    {
     "name": "stderr",
     "output_type": "stream",
     "text": [
      "Processing: pickup:  16%|█▌        | 145/932 [10:53<57:34,  4.39s/file]  "
     ]
    },
    {
     "name": "stdout",
     "output_type": "stream",
     "text": [
      "Vehicle Prediction: pickup\n",
      "Validation Result: True\n"
     ]
    },
    {
     "name": "stderr",
     "output_type": "stream",
     "text": [
      "Processing: pickup:  16%|█▌        | 146/932 [10:56<51:44,  3.95s/file]"
     ]
    },
    {
     "name": "stdout",
     "output_type": "stream",
     "text": [
      "Vehicle Prediction: pickup\n",
      "Validation Result: True\n"
     ]
    },
    {
     "name": "stderr",
     "output_type": "stream",
     "text": [
      "Processing: pickup:  16%|█▌        | 147/932 [10:59<47:44,  3.65s/file]"
     ]
    },
    {
     "name": "stdout",
     "output_type": "stream",
     "text": [
      "Vehicle Prediction: pickup\n",
      "Validation Result: True\n"
     ]
    },
    {
     "name": "stderr",
     "output_type": "stream",
     "text": [
      "Processing: pickup:  16%|█▌        | 148/932 [11:02<44:51,  3.43s/file]"
     ]
    },
    {
     "name": "stdout",
     "output_type": "stream",
     "text": [
      "Vehicle Prediction: pickup\n",
      "Validation Result: True\n"
     ]
    },
    {
     "name": "stderr",
     "output_type": "stream",
     "text": [
      "[codecarbon INFO @ 15:24:01] Energy consumed for RAM : 0.002154 kWh. RAM Power : 11.756441116333008 W\n",
      "[codecarbon INFO @ 15:24:01] Energy consumed for all CPUs : 0.007789 kWh. Total CPU Power : 42.5 W\n",
      "[codecarbon INFO @ 15:24:01] Energy consumed for all GPUs : 0.017517 kWh. Total GPU Power : 95.30392065431815 W\n",
      "[codecarbon INFO @ 15:24:01] 0.027461 kWh of electricity used since the beginning.\n",
      "Processing: pickup:  16%|█▌        | 149/932 [11:07<50:53,  3.90s/file]"
     ]
    },
    {
     "name": "stdout",
     "output_type": "stream",
     "text": [
      "Vehicle Prediction: pickup\n",
      "Validation Result: True\n"
     ]
    },
    {
     "name": "stderr",
     "output_type": "stream",
     "text": [
      "Processing: pickup:  16%|█▌        | 150/932 [11:10<47:03,  3.61s/file]"
     ]
    },
    {
     "name": "stdout",
     "output_type": "stream",
     "text": [
      "Vehicle Prediction: pickup\n",
      "Validation Result: True\n"
     ]
    },
    {
     "name": "stderr",
     "output_type": "stream",
     "text": [
      "Processing: pickup:  16%|█▌        | 151/932 [11:13<44:17,  3.40s/file]"
     ]
    },
    {
     "name": "stdout",
     "output_type": "stream",
     "text": [
      "Vehicle Prediction: pickup\n",
      "Validation Result: True\n"
     ]
    },
    {
     "name": "stderr",
     "output_type": "stream",
     "text": [
      "Processing: pickup:  16%|█▋        | 152/932 [11:18<50:21,  3.87s/file]"
     ]
    },
    {
     "name": "stdout",
     "output_type": "stream",
     "text": [
      "Vehicle Prediction: pickup\n",
      "Validation Result: True\n"
     ]
    },
    {
     "name": "stderr",
     "output_type": "stream",
     "text": [
      "[codecarbon INFO @ 15:24:16] Energy consumed for RAM : 0.002203 kWh. RAM Power : 11.756441116333008 W\n",
      "[codecarbon INFO @ 15:24:16] Energy consumed for all CPUs : 0.007966 kWh. Total CPU Power : 42.5 W\n",
      "[codecarbon INFO @ 15:24:16] Energy consumed for all GPUs : 0.017913 kWh. Total GPU Power : 95.0487765198265 W\n",
      "[codecarbon INFO @ 15:24:16] 0.028082 kWh of electricity used since the beginning.\n",
      "Processing: pickup:  16%|█▋        | 153/932 [11:23<54:38,  4.21s/file]"
     ]
    },
    {
     "name": "stdout",
     "output_type": "stream",
     "text": [
      "Vehicle Prediction: pickup\n",
      "Validation Result: True\n"
     ]
    },
    {
     "name": "stderr",
     "output_type": "stream",
     "text": [
      "Processing: pickup:  17%|█▋        | 154/932 [11:28<57:40,  4.45s/file]"
     ]
    },
    {
     "name": "stdout",
     "output_type": "stream",
     "text": [
      "Vehicle Prediction: pickup\n",
      "Validation Result: True\n"
     ]
    },
    {
     "name": "stderr",
     "output_type": "stream",
     "text": [
      "Processing: pickup:  17%|█▋        | 155/932 [11:33<58:01,  4.48s/file]"
     ]
    },
    {
     "name": "stdout",
     "output_type": "stream",
     "text": [
      "Vehicle Prediction: pickup\n",
      "Validation Result: True\n"
     ]
    },
    {
     "name": "stderr",
     "output_type": "stream",
     "text": [
      "[codecarbon INFO @ 15:24:31] Energy consumed for RAM : 0.002252 kWh. RAM Power : 11.756441116333008 W\n",
      "[codecarbon INFO @ 15:24:31] Energy consumed for all CPUs : 0.008143 kWh. Total CPU Power : 42.5 W\n",
      "[codecarbon INFO @ 15:24:31] Energy consumed for all GPUs : 0.018314 kWh. Total GPU Power : 96.20728671108236 W\n",
      "[codecarbon INFO @ 15:24:31] 0.028709 kWh of electricity used since the beginning.\n",
      "Processing: pickup:  17%|█▋        | 156/932 [11:38<1:00:00,  4.64s/file]"
     ]
    },
    {
     "name": "stdout",
     "output_type": "stream",
     "text": [
      "Vehicle Prediction: pickup\n",
      "Validation Result: True\n"
     ]
    },
    {
     "name": "stderr",
     "output_type": "stream",
     "text": [
      "Processing: pickup:  17%|█▋        | 157/932 [11:47<1:16:55,  5.96s/file]"
     ]
    },
    {
     "name": "stdout",
     "output_type": "stream",
     "text": [
      "Vehicle Prediction: pickup\n",
      "Validation Result: True\n"
     ]
    },
    {
     "name": "stderr",
     "output_type": "stream",
     "text": [
      "[codecarbon INFO @ 15:24:46] Energy consumed for RAM : 0.002301 kWh. RAM Power : 11.756441116333008 W\n",
      "[codecarbon INFO @ 15:24:46] Energy consumed for all CPUs : 0.008320 kWh. Total CPU Power : 42.5 W\n",
      "[codecarbon INFO @ 15:24:46] Energy consumed for all GPUs : 0.018710 kWh. Total GPU Power : 95.18404479177616 W\n",
      "[codecarbon INFO @ 15:24:46] 0.029331 kWh of electricity used since the beginning.\n",
      "Processing: pickup:  17%|█▋        | 158/932 [11:52<1:13:15,  5.68s/file]"
     ]
    },
    {
     "name": "stdout",
     "output_type": "stream",
     "text": [
      "Vehicle Prediction: pickup truck\n",
      "Validation Result: True\n"
     ]
    },
    {
     "name": "stderr",
     "output_type": "stream",
     "text": [
      "Processing: pickup:  17%|█▋        | 159/932 [11:55<1:02:32,  4.85s/file]"
     ]
    },
    {
     "name": "stdout",
     "output_type": "stream",
     "text": [
      "Vehicle Prediction: pickup\n",
      "Validation Result: True\n"
     ]
    },
    {
     "name": "stderr",
     "output_type": "stream",
     "text": [
      "Processing: pickup:  17%|█▋        | 160/932 [12:00<1:03:14,  4.92s/file]"
     ]
    },
    {
     "name": "stdout",
     "output_type": "stream",
     "text": [
      "Vehicle Prediction: pickup\n",
      "Validation Result: True\n"
     ]
    },
    {
     "name": "stderr",
     "output_type": "stream",
     "text": [
      "[codecarbon INFO @ 15:25:01] Energy consumed for RAM : 0.002350 kWh. RAM Power : 11.756441116333008 W\n",
      "[codecarbon INFO @ 15:25:01] Energy consumed for all CPUs : 0.008497 kWh. Total CPU Power : 42.5 W\n",
      "[codecarbon INFO @ 15:25:01] Energy consumed for all GPUs : 0.019107 kWh. Total GPU Power : 95.35764120419037 W\n",
      "[codecarbon INFO @ 15:25:01] 0.029955 kWh of electricity used since the beginning.\n",
      "[codecarbon INFO @ 15:25:01] 0.011871 g.CO2eq/s mean an estimation of 374.3697596789738 kg.CO2eq/year\n",
      "Processing: pickup:  17%|█▋        | 161/932 [12:05<1:03:42,  4.96s/file]"
     ]
    },
    {
     "name": "stdout",
     "output_type": "stream",
     "text": [
      "Vehicle Prediction: pickup truck\n",
      "Validation Result: True\n"
     ]
    },
    {
     "name": "stderr",
     "output_type": "stream",
     "text": [
      "Processing: pickup:  17%|█▋        | 162/932 [12:10<1:04:00,  4.99s/file]"
     ]
    },
    {
     "name": "stdout",
     "output_type": "stream",
     "text": [
      "Vehicle Prediction: pickup\n",
      "Validation Result: True\n"
     ]
    },
    {
     "name": "stderr",
     "output_type": "stream",
     "text": [
      "Processing: pickup:  17%|█▋        | 163/932 [12:13<56:05,  4.38s/file]  "
     ]
    },
    {
     "name": "stdout",
     "output_type": "stream",
     "text": [
      "Vehicle Prediction: pickup\n",
      "Validation Result: True\n"
     ]
    },
    {
     "name": "stderr",
     "output_type": "stream",
     "text": [
      "Processing: pickup:  18%|█▊        | 164/932 [12:17<56:41,  4.43s/file]"
     ]
    },
    {
     "name": "stdout",
     "output_type": "stream",
     "text": [
      "Vehicle Prediction: pickup\n",
      "Validation Result: True\n"
     ]
    },
    {
     "name": "stderr",
     "output_type": "stream",
     "text": [
      "[codecarbon INFO @ 15:25:16] Energy consumed for RAM : 0.002399 kWh. RAM Power : 11.756441116333008 W\n",
      "[codecarbon INFO @ 15:25:16] Energy consumed for all CPUs : 0.008674 kWh. Total CPU Power : 42.5 W\n",
      "[codecarbon INFO @ 15:25:16] Energy consumed for all GPUs : 0.019504 kWh. Total GPU Power : 95.17671130784191 W\n",
      "[codecarbon INFO @ 15:25:16] 0.030577 kWh of electricity used since the beginning.\n",
      "Processing: pickup:  18%|█▊        | 165/932 [12:22<58:50,  4.60s/file]"
     ]
    },
    {
     "name": "stdout",
     "output_type": "stream",
     "text": [
      "Vehicle Prediction: pickup\n",
      "Validation Result: True\n"
     ]
    },
    {
     "name": "stderr",
     "output_type": "stream",
     "text": [
      "Processing: pickup:  18%|█▊        | 166/932 [12:31<1:15:49,  5.94s/file]"
     ]
    },
    {
     "name": "stdout",
     "output_type": "stream",
     "text": [
      "Vehicle Prediction: pickup\n",
      "Validation Result: True\n"
     ]
    },
    {
     "name": "stderr",
     "output_type": "stream",
     "text": [
      "[codecarbon INFO @ 15:25:31] Energy consumed for RAM : 0.002448 kWh. RAM Power : 11.756441116333008 W\n",
      "[codecarbon INFO @ 15:25:31] Energy consumed for all CPUs : 0.008851 kWh. Total CPU Power : 42.5 W\n",
      "[codecarbon INFO @ 15:25:31] Energy consumed for all GPUs : 0.019903 kWh. Total GPU Power : 95.80546983926152 W\n",
      "[codecarbon INFO @ 15:25:31] 0.031202 kWh of electricity used since the beginning.\n",
      "Processing: pickup:  18%|█▊        | 167/932 [12:34<1:04:17,  5.04s/file]"
     ]
    },
    {
     "name": "stdout",
     "output_type": "stream",
     "text": [
      "Vehicle Prediction: pickup\n",
      "Validation Result: True\n"
     ]
    },
    {
     "name": "stderr",
     "output_type": "stream",
     "text": [
      "Processing: pickup:  18%|█▊        | 168/932 [12:39<1:04:04,  5.03s/file]"
     ]
    },
    {
     "name": "stdout",
     "output_type": "stream",
     "text": [
      "Vehicle Prediction: pickup\n",
      "Validation Result: True\n"
     ]
    },
    {
     "name": "stderr",
     "output_type": "stream",
     "text": [
      "Processing: pickup:  18%|█▊        | 169/932 [12:42<56:00,  4.40s/file]  "
     ]
    },
    {
     "name": "stdout",
     "output_type": "stream",
     "text": [
      "Vehicle Prediction: pickup\n",
      "Validation Result: True\n"
     ]
    },
    {
     "name": "stderr",
     "output_type": "stream",
     "text": [
      "Processing: pickup:  18%|█▊        | 170/932 [12:45<50:20,  3.96s/file]"
     ]
    },
    {
     "name": "stdout",
     "output_type": "stream",
     "text": [
      "Vehicle Prediction: pickup\n",
      "Validation Result: True\n"
     ]
    },
    {
     "name": "stderr",
     "output_type": "stream",
     "text": [
      "[codecarbon INFO @ 15:25:46] Energy consumed for RAM : 0.002497 kWh. RAM Power : 11.756441116333008 W\n",
      "[codecarbon INFO @ 15:25:46] Energy consumed for all CPUs : 0.009028 kWh. Total CPU Power : 42.5 W\n",
      "[codecarbon INFO @ 15:25:46] Energy consumed for all GPUs : 0.020298 kWh. Total GPU Power : 94.79599127134917 W\n",
      "[codecarbon INFO @ 15:25:46] 0.031823 kWh of electricity used since the beginning.\n",
      "Processing: pickup:  18%|█▊        | 171/932 [12:50<52:32,  4.14s/file]"
     ]
    },
    {
     "name": "stdout",
     "output_type": "stream",
     "text": [
      "Vehicle Prediction: pickup\n",
      "Validation Result: True\n"
     ]
    },
    {
     "name": "stderr",
     "output_type": "stream",
     "text": [
      "Processing: pickup:  18%|█▊        | 172/932 [12:54<54:00,  4.26s/file]"
     ]
    },
    {
     "name": "stdout",
     "output_type": "stream",
     "text": [
      "Vehicle Prediction: pickup\n",
      "Validation Result: True\n"
     ]
    },
    {
     "name": "stderr",
     "output_type": "stream",
     "text": [
      "Processing: pickup:  19%|█▊        | 173/932 [12:57<48:51,  3.86s/file]"
     ]
    },
    {
     "name": "stdout",
     "output_type": "stream",
     "text": [
      "Vehicle Prediction: pickup\n",
      "Validation Result: True\n"
     ]
    },
    {
     "name": "stderr",
     "output_type": "stream",
     "text": [
      "Processing: pickup:  19%|█▊        | 174/932 [13:00<45:23,  3.59s/file]"
     ]
    },
    {
     "name": "stdout",
     "output_type": "stream",
     "text": [
      "Vehicle Prediction: pickup\n",
      "Validation Result: True\n"
     ]
    },
    {
     "name": "stderr",
     "output_type": "stream",
     "text": [
      "Processing: pickup:  19%|█▉        | 175/932 [13:03<42:52,  3.40s/file]"
     ]
    },
    {
     "name": "stdout",
     "output_type": "stream",
     "text": [
      "Vehicle Prediction: pickup\n",
      "Validation Result: True\n"
     ]
    },
    {
     "name": "stderr",
     "output_type": "stream",
     "text": [
      "[codecarbon INFO @ 15:26:01] Energy consumed for RAM : 0.002546 kWh. RAM Power : 11.756441116333008 W\n",
      "[codecarbon INFO @ 15:26:01] Energy consumed for all CPUs : 0.009205 kWh. Total CPU Power : 42.5 W\n",
      "[codecarbon INFO @ 15:26:01] Energy consumed for all GPUs : 0.020693 kWh. Total GPU Power : 94.94672160316053 W\n",
      "[codecarbon INFO @ 15:26:01] 0.032444 kWh of electricity used since the beginning.\n",
      "Processing: pickup:  19%|█▉        | 176/932 [13:12<1:04:05,  5.09s/file]"
     ]
    },
    {
     "name": "stdout",
     "output_type": "stream",
     "text": [
      "Vehicle Prediction: pickup\n",
      "Validation Result: True\n"
     ]
    },
    {
     "name": "stderr",
     "output_type": "stream",
     "text": [
      "Processing: pickup:  19%|█▉        | 177/932 [13:15<55:49,  4.44s/file]  "
     ]
    },
    {
     "name": "stdout",
     "output_type": "stream",
     "text": [
      "Vehicle Prediction: pickup\n",
      "Validation Result: True\n"
     ]
    },
    {
     "name": "stderr",
     "output_type": "stream",
     "text": [
      "[codecarbon INFO @ 15:26:16] Energy consumed for RAM : 0.002595 kWh. RAM Power : 11.756441116333008 W\n",
      "[codecarbon INFO @ 15:26:16] Energy consumed for all CPUs : 0.009382 kWh. Total CPU Power : 42.5 W\n",
      "[codecarbon INFO @ 15:26:16] Energy consumed for all GPUs : 0.021095 kWh. Total GPU Power : 96.33819108300112 W\n",
      "[codecarbon INFO @ 15:26:16] 0.033072 kWh of electricity used since the beginning.\n",
      "Processing: pickup:  19%|█▉        | 178/932 [13:24<1:13:04,  5.81s/file]"
     ]
    },
    {
     "name": "stdout",
     "output_type": "stream",
     "text": [
      "Vehicle Prediction: pickup truck\n",
      "Validation Result: True\n"
     ]
    },
    {
     "name": "stderr",
     "output_type": "stream",
     "text": [
      "Processing: pickup:  19%|█▉        | 179/932 [13:27<1:02:12,  4.96s/file]"
     ]
    },
    {
     "name": "stdout",
     "output_type": "stream",
     "text": [
      "Vehicle Prediction: pickup\n",
      "Validation Result: True\n"
     ]
    },
    {
     "name": "stderr",
     "output_type": "stream",
     "text": [
      "Processing: pickup:  19%|█▉        | 180/932 [13:32<1:02:19,  4.97s/file]"
     ]
    },
    {
     "name": "stdout",
     "output_type": "stream",
     "text": [
      "Vehicle Prediction: pickup\n",
      "Validation Result: True\n"
     ]
    },
    {
     "name": "stderr",
     "output_type": "stream",
     "text": [
      "[codecarbon INFO @ 15:26:31] Energy consumed for RAM : 0.002644 kWh. RAM Power : 11.756441116333008 W\n",
      "[codecarbon INFO @ 15:26:31] Energy consumed for all CPUs : 0.009559 kWh. Total CPU Power : 42.5 W\n",
      "[codecarbon INFO @ 15:26:31] Energy consumed for all GPUs : 0.021492 kWh. Total GPU Power : 95.3549526566795 W\n",
      "[codecarbon INFO @ 15:26:31] 0.033695 kWh of electricity used since the beginning.\n",
      "Processing: pickup:  19%|█▉        | 181/932 [13:35<54:40,  4.37s/file]  "
     ]
    },
    {
     "name": "stdout",
     "output_type": "stream",
     "text": [
      "Vehicle Prediction: pickup\n",
      "Validation Result: True\n"
     ]
    },
    {
     "name": "stderr",
     "output_type": "stream",
     "text": [
      "Processing: pickup:  20%|█▉        | 182/932 [13:40<57:00,  4.56s/file]"
     ]
    },
    {
     "name": "stdout",
     "output_type": "stream",
     "text": [
      "Vehicle Prediction: pickup\n",
      "Validation Result: True\n"
     ]
    },
    {
     "name": "stderr",
     "output_type": "stream",
     "text": [
      "[codecarbon INFO @ 15:26:46] Energy consumed for RAM : 0.002693 kWh. RAM Power : 11.756441116333008 W\n",
      "[codecarbon INFO @ 15:26:46] Energy consumed for all CPUs : 0.009736 kWh. Total CPU Power : 42.5 W\n",
      "[codecarbon INFO @ 15:26:46] Energy consumed for all GPUs : 0.021888 kWh. Total GPU Power : 95.14055848630991 W\n",
      "[codecarbon INFO @ 15:26:46] 0.034317 kWh of electricity used since the beginning.\n",
      "Processing: pickup:  20%|█▉        | 183/932 [13:49<1:13:44,  5.91s/file]"
     ]
    },
    {
     "name": "stdout",
     "output_type": "stream",
     "text": [
      "Vehicle Prediction: pickup\n",
      "Validation Result: True\n"
     ]
    },
    {
     "name": "stderr",
     "output_type": "stream",
     "text": [
      "Processing: pickup:  20%|█▉        | 184/932 [13:52<1:02:30,  5.01s/file]"
     ]
    },
    {
     "name": "stdout",
     "output_type": "stream",
     "text": [
      "Vehicle Prediction: pickup\n",
      "Validation Result: True\n"
     ]
    },
    {
     "name": "stderr",
     "output_type": "stream",
     "text": [
      "Processing: pickup:  20%|█▉        | 185/932 [13:55<54:41,  4.39s/file]  "
     ]
    },
    {
     "name": "stdout",
     "output_type": "stream",
     "text": [
      "Vehicle Prediction: pickup\n",
      "Validation Result: True\n"
     ]
    },
    {
     "name": "stderr",
     "output_type": "stream",
     "text": [
      "Processing: pickup:  20%|█▉        | 186/932 [13:58<49:16,  3.96s/file]"
     ]
    },
    {
     "name": "stdout",
     "output_type": "stream",
     "text": [
      "Vehicle Prediction: pickup\n",
      "Validation Result: True\n"
     ]
    },
    {
     "name": "stderr",
     "output_type": "stream",
     "text": [
      "Processing: pickup:  20%|██        | 187/932 [14:03<53:09,  4.28s/file]"
     ]
    },
    {
     "name": "stdout",
     "output_type": "stream",
     "text": [
      "Vehicle Prediction: pickup\n",
      "Validation Result: True\n"
     ]
    },
    {
     "name": "stderr",
     "output_type": "stream",
     "text": [
      "[codecarbon INFO @ 15:27:01] Energy consumed for RAM : 0.002742 kWh. RAM Power : 11.756441116333008 W\n",
      "[codecarbon INFO @ 15:27:01] Energy consumed for all CPUs : 0.009913 kWh. Total CPU Power : 42.5 W\n",
      "[codecarbon INFO @ 15:27:01] Energy consumed for all GPUs : 0.022286 kWh. Total GPU Power : 95.50045816670844 W\n",
      "[codecarbon INFO @ 15:27:01] 0.034941 kWh of electricity used since the beginning.\n",
      "[codecarbon INFO @ 15:27:01] 0.011862 g.CO2eq/s mean an estimation of 374.0814815532308 kg.CO2eq/year\n",
      "Processing: pickup:  20%|██        | 188/932 [14:08<55:53,  4.51s/file]"
     ]
    },
    {
     "name": "stdout",
     "output_type": "stream",
     "text": [
      "Vehicle Prediction: pickuptruck\n",
      "Validation Result: False\n"
     ]
    },
    {
     "name": "stderr",
     "output_type": "stream",
     "text": [
      "Processing: pickup:  20%|██        | 189/932 [14:12<56:07,  4.53s/file]"
     ]
    },
    {
     "name": "stdout",
     "output_type": "stream",
     "text": [
      "Vehicle Prediction: pickup\n",
      "Validation Result: True\n"
     ]
    },
    {
     "name": "stderr",
     "output_type": "stream",
     "text": [
      "[codecarbon INFO @ 15:27:16] Energy consumed for RAM : 0.002791 kWh. RAM Power : 11.756441116333008 W\n",
      "[codecarbon INFO @ 15:27:16] Energy consumed for all CPUs : 0.010090 kWh. Total CPU Power : 42.5 W\n",
      "[codecarbon INFO @ 15:27:16] Energy consumed for all GPUs : 0.022687 kWh. Total GPU Power : 96.31724436294759 W\n",
      "[codecarbon INFO @ 15:27:16] 0.035568 kWh of electricity used since the beginning.\n",
      "Processing: pickup:  20%|██        | 190/932 [14:22<1:12:57,  5.90s/file]"
     ]
    },
    {
     "name": "stdout",
     "output_type": "stream",
     "text": [
      "Vehicle Prediction: pickup truck\n",
      "Validation Result: True\n"
     ]
    },
    {
     "name": "stderr",
     "output_type": "stream",
     "text": [
      "Processing: pickup:  20%|██        | 191/932 [14:27<1:09:39,  5.64s/file]"
     ]
    },
    {
     "name": "stdout",
     "output_type": "stream",
     "text": [
      "Vehicle Prediction: pickup\n",
      "Validation Result: True\n"
     ]
    },
    {
     "name": "stderr",
     "output_type": "stream",
     "text": [
      "Processing: pickup:  21%|██        | 192/932 [14:32<1:07:18,  5.46s/file]"
     ]
    },
    {
     "name": "stdout",
     "output_type": "stream",
     "text": [
      "Vehicle Prediction: pickup\n",
      "Validation Result: True\n"
     ]
    },
    {
     "name": "stderr",
     "output_type": "stream",
     "text": [
      "[codecarbon INFO @ 15:27:31] Energy consumed for RAM : 0.002840 kWh. RAM Power : 11.756441116333008 W\n",
      "[codecarbon INFO @ 15:27:31] Energy consumed for all CPUs : 0.010267 kWh. Total CPU Power : 42.5 W\n",
      "[codecarbon INFO @ 15:27:31] Energy consumed for all GPUs : 0.023083 kWh. Total GPU Power : 95.11001731880425 W\n",
      "[codecarbon INFO @ 15:27:31] 0.036190 kWh of electricity used since the beginning.\n",
      "Processing: pickup:  21%|██        | 193/932 [14:35<57:57,  4.71s/file]  "
     ]
    },
    {
     "name": "stdout",
     "output_type": "stream",
     "text": [
      "Vehicle Prediction: pickup\n",
      "Validation Result: True\n"
     ]
    },
    {
     "name": "stderr",
     "output_type": "stream",
     "text": [
      "Processing: pickup:  21%|██        | 194/932 [14:38<51:23,  4.18s/file]"
     ]
    },
    {
     "name": "stdout",
     "output_type": "stream",
     "text": [
      "Vehicle Prediction: pickup\n",
      "Validation Result: True\n"
     ]
    },
    {
     "name": "stderr",
     "output_type": "stream",
     "text": [
      "Processing: pickup:  21%|██        | 195/932 [14:40<46:43,  3.80s/file]"
     ]
    },
    {
     "name": "stdout",
     "output_type": "stream",
     "text": [
      "Vehicle Prediction: pickup\n",
      "Validation Result: True\n"
     ]
    },
    {
     "name": "stderr",
     "output_type": "stream",
     "text": [
      "Processing: pickup:  21%|██        | 196/932 [14:43<43:28,  3.54s/file]"
     ]
    },
    {
     "name": "stdout",
     "output_type": "stream",
     "text": [
      "Vehicle Prediction: pickup\n",
      "Validation Result: True\n"
     ]
    },
    {
     "name": "stderr",
     "output_type": "stream",
     "text": [
      "[codecarbon INFO @ 15:27:46] Energy consumed for RAM : 0.002889 kWh. RAM Power : 11.756441116333008 W\n",
      "[codecarbon INFO @ 15:27:46] Energy consumed for all CPUs : 0.010444 kWh. Total CPU Power : 42.5 W\n",
      "[codecarbon INFO @ 15:27:46] Energy consumed for all GPUs : 0.023481 kWh. Total GPU Power : 95.54817820478681 W\n",
      "[codecarbon INFO @ 15:27:46] 0.036813 kWh of electricity used since the beginning.\n",
      "Processing: pickup:  21%|██        | 197/932 [14:52<1:03:34,  5.19s/file]"
     ]
    },
    {
     "name": "stdout",
     "output_type": "stream",
     "text": [
      "Vehicle Prediction: pickup\n",
      "Validation Result: True\n"
     ]
    },
    {
     "name": "stderr",
     "output_type": "stream",
     "text": [
      "Processing: pickup:  21%|██        | 198/932 [14:55<55:10,  4.51s/file]  "
     ]
    },
    {
     "name": "stdout",
     "output_type": "stream",
     "text": [
      "Vehicle Prediction: pickup\n",
      "Validation Result: True\n"
     ]
    },
    {
     "name": "stderr",
     "output_type": "stream",
     "text": [
      "Processing: pickup:  21%|██▏       | 199/932 [15:01<1:00:32,  4.96s/file]"
     ]
    },
    {
     "name": "stdout",
     "output_type": "stream",
     "text": [
      "Vehicle Prediction: pickup\n",
      "Validation Result: True\n"
     ]
    },
    {
     "name": "stderr",
     "output_type": "stream",
     "text": [
      "[codecarbon INFO @ 15:28:01] Energy consumed for RAM : 0.002938 kWh. RAM Power : 11.756441116333008 W\n",
      "[codecarbon INFO @ 15:28:01] Energy consumed for all CPUs : 0.010621 kWh. Total CPU Power : 42.5 W\n",
      "[codecarbon INFO @ 15:28:01] Energy consumed for all GPUs : 0.023877 kWh. Total GPU Power : 95.04140757067663 W\n",
      "[codecarbon INFO @ 15:28:01] 0.037435 kWh of electricity used since the beginning.\n",
      "Processing: pickup:  21%|██▏       | 200/932 [15:04<53:02,  4.35s/file]  "
     ]
    },
    {
     "name": "stdout",
     "output_type": "stream",
     "text": [
      "Vehicle Prediction: pickup\n",
      "Validation Result: True\n"
     ]
    },
    {
     "name": "stderr",
     "output_type": "stream",
     "text": [
      "Processing: truck 2:  22%|██▏       | 201/932 [15:07<47:54,  3.93s/file]"
     ]
    },
    {
     "name": "stdout",
     "output_type": "stream",
     "text": [
      "Vehicle Prediction: pickup\n",
      "Validation Result: True\n"
     ]
    },
    {
     "name": "stderr",
     "output_type": "stream",
     "text": [
      "Processing: truck 2:  22%|██▏       | 202/932 [15:16<1:06:26,  5.46s/file]"
     ]
    },
    {
     "name": "stdout",
     "output_type": "stream",
     "text": [
      "Vehicle Prediction: trailer\n",
      "Validation Result: True\n"
     ]
    },
    {
     "name": "stderr",
     "output_type": "stream",
     "text": [
      "[codecarbon INFO @ 15:28:16] Energy consumed for RAM : 0.002987 kWh. RAM Power : 11.756441116333008 W\n",
      "[codecarbon INFO @ 15:28:16] Energy consumed for all CPUs : 0.010798 kWh. Total CPU Power : 42.5 W\n",
      "[codecarbon INFO @ 15:28:16] Energy consumed for all GPUs : 0.024275 kWh. Total GPU Power : 95.72999156743698 W\n",
      "[codecarbon INFO @ 15:28:16] 0.038060 kWh of electricity used since the beginning.\n",
      "Processing: truck 2:  22%|██▏       | 203/932 [15:21<1:04:44,  5.33s/file]"
     ]
    },
    {
     "name": "stdout",
     "output_type": "stream",
     "text": [
      "Vehicle Prediction: trailer\n",
      "Validation Result: True\n"
     ]
    },
    {
     "name": "stderr",
     "output_type": "stream",
     "text": [
      "Processing: truck 2:  22%|██▏       | 204/932 [15:30<1:18:06,  6.44s/file]"
     ]
    },
    {
     "name": "stdout",
     "output_type": "stream",
     "text": [
      "Vehicle Prediction: trailer\n",
      "Validation Result: True\n"
     ]
    },
    {
     "name": "stderr",
     "output_type": "stream",
     "text": [
      "[codecarbon INFO @ 15:28:31] Energy consumed for RAM : 0.003036 kWh. RAM Power : 11.756441116333008 W\n",
      "[codecarbon INFO @ 15:28:31] Energy consumed for all CPUs : 0.010975 kWh. Total CPU Power : 42.5 W\n",
      "[codecarbon INFO @ 15:28:31] Energy consumed for all GPUs : 0.024674 kWh. Total GPU Power : 95.81244202126629 W\n",
      "[codecarbon INFO @ 15:28:31] 0.038685 kWh of electricity used since the beginning.\n",
      "Processing: truck 2:  22%|██▏       | 205/932 [15:35<1:11:15,  5.88s/file]"
     ]
    },
    {
     "name": "stdout",
     "output_type": "stream",
     "text": [
      "Vehicle Prediction: dumptruck\n",
      "Validation Result: False\n"
     ]
    },
    {
     "name": "stderr",
     "output_type": "stream",
     "text": [
      "Processing: truck 2:  22%|██▏       | 206/932 [15:44<1:22:34,  6.83s/file]"
     ]
    },
    {
     "name": "stdout",
     "output_type": "stream",
     "text": [
      "Vehicle Prediction: pickup\n",
      "Validation Result: False\n",
      "Vehicle Prediction: truck\n"
     ]
    },
    {
     "name": "stderr",
     "output_type": "stream",
     "text": [
      "[codecarbon INFO @ 15:28:46] Energy consumed for RAM : 0.003085 kWh. RAM Power : 11.756441116333008 W\n",
      "[codecarbon INFO @ 15:28:46] Energy consumed for all CPUs : 0.011152 kWh. Total CPU Power : 42.5 W\n",
      "[codecarbon INFO @ 15:28:46] Energy consumed for all GPUs : 0.025070 kWh. Total GPU Power : 94.92801923418668 W\n",
      "[codecarbon INFO @ 15:28:46] 0.039306 kWh of electricity used since the beginning.\n",
      "Processing: truck 2:  22%|██▏       | 207/932 [15:49<1:16:44,  6.35s/file]"
     ]
    },
    {
     "name": "stdout",
     "output_type": "stream",
     "text": [
      "Is Pickup Truck: no.\n",
      "Validation Result: True\n"
     ]
    },
    {
     "name": "stderr",
     "output_type": "stream",
     "text": [
      "Processing: truck 2:  22%|██▏       | 208/932 [15:58<1:26:34,  7.18s/file]"
     ]
    },
    {
     "name": "stdout",
     "output_type": "stream",
     "text": [
      "Vehicle Prediction: van\n",
      "Validation Result: False\n"
     ]
    },
    {
     "name": "stderr",
     "output_type": "stream",
     "text": [
      "Processing: truck 2:  22%|██▏       | 209/932 [16:03<1:18:41,  6.53s/file]"
     ]
    },
    {
     "name": "stdout",
     "output_type": "stream",
     "text": [
      "Vehicle Prediction: trailer\n",
      "Validation Result: True\n"
     ]
    },
    {
     "name": "stderr",
     "output_type": "stream",
     "text": [
      "[codecarbon INFO @ 15:29:01] Energy consumed for RAM : 0.003133 kWh. RAM Power : 11.756441116333008 W\n",
      "[codecarbon INFO @ 15:29:01] Energy consumed for all CPUs : 0.011329 kWh. Total CPU Power : 42.5 W\n",
      "[codecarbon INFO @ 15:29:01] Energy consumed for all GPUs : 0.025468 kWh. Total GPU Power : 95.60749849760549 W\n",
      "[codecarbon INFO @ 15:29:01] 0.039930 kWh of electricity used since the beginning.\n",
      "[codecarbon INFO @ 15:29:01] 0.011871 g.CO2eq/s mean an estimation of 374.37953524260354 kg.CO2eq/year\n",
      "Processing: truck 2:  23%|██▎       | 210/932 [16:12<1:28:02,  7.32s/file]"
     ]
    },
    {
     "name": "stdout",
     "output_type": "stream",
     "text": [
      "Vehicle Prediction: trailer\n",
      "Validation Result: True\n",
      "Vehicle Prediction: truck\n"
     ]
    },
    {
     "name": "stderr",
     "output_type": "stream",
     "text": [
      "Processing: truck 2:  23%|██▎       | 211/932 [16:18<1:20:28,  6.70s/file]"
     ]
    },
    {
     "name": "stdout",
     "output_type": "stream",
     "text": [
      "Is Pickup Truck: no.\n",
      "Validation Result: True\n"
     ]
    },
    {
     "name": "stderr",
     "output_type": "stream",
     "text": [
      "[codecarbon INFO @ 15:29:16] Energy consumed for RAM : 0.003182 kWh. RAM Power : 11.756441116333008 W\n",
      "[codecarbon INFO @ 15:29:16] Energy consumed for all CPUs : 0.011506 kWh. Total CPU Power : 42.5 W\n",
      "[codecarbon INFO @ 15:29:16] Energy consumed for all GPUs : 0.025865 kWh. Total GPU Power : 95.33534880323538 W\n",
      "[codecarbon INFO @ 15:29:16] 0.040553 kWh of electricity used since the beginning.\n",
      "Processing: truck 2:  23%|██▎       | 212/932 [16:27<1:28:51,  7.40s/file]"
     ]
    },
    {
     "name": "stdout",
     "output_type": "stream",
     "text": [
      "Vehicle Prediction: lorry\n",
      "Validation Result: True\n"
     ]
    },
    {
     "name": "stderr",
     "output_type": "stream",
     "text": [
      "[codecarbon INFO @ 15:29:31] Energy consumed for RAM : 0.003231 kWh. RAM Power : 11.756441116333008 W\n",
      "[codecarbon INFO @ 15:29:31] Energy consumed for all CPUs : 0.011683 kWh. Total CPU Power : 42.5 W\n",
      "[codecarbon INFO @ 15:29:31] Energy consumed for all GPUs : 0.026266 kWh. Total GPU Power : 96.23802779455134 W\n",
      "[codecarbon INFO @ 15:29:31] 0.041180 kWh of electricity used since the beginning.\n",
      "Processing: truck 2:  23%|██▎       | 213/932 [16:36<1:34:34,  7.89s/file]"
     ]
    },
    {
     "name": "stdout",
     "output_type": "stream",
     "text": [
      "Vehicle Prediction: trailer\n",
      "Validation Result: True\n"
     ]
    },
    {
     "name": "stderr",
     "output_type": "stream",
     "text": [
      "Processing: truck 2:  23%|██▎       | 214/932 [16:39<1:16:42,  6.41s/file]"
     ]
    },
    {
     "name": "stdout",
     "output_type": "stream",
     "text": [
      "Vehicle Prediction: dumptruck\n",
      "Validation Result: False\n"
     ]
    },
    {
     "name": "stderr",
     "output_type": "stream",
     "text": [
      "Processing: truck 2:  23%|██▎       | 215/932 [16:48<1:26:06,  7.21s/file]"
     ]
    },
    {
     "name": "stdout",
     "output_type": "stream",
     "text": [
      "Vehicle Prediction: pickup\n",
      "Validation Result: False\n"
     ]
    },
    {
     "name": "stderr",
     "output_type": "stream",
     "text": [
      "[codecarbon INFO @ 15:29:46] Energy consumed for RAM : 0.003280 kWh. RAM Power : 11.756441116333008 W\n",
      "[codecarbon INFO @ 15:29:46] Energy consumed for all CPUs : 0.011860 kWh. Total CPU Power : 42.5 W\n",
      "[codecarbon INFO @ 15:29:46] Energy consumed for all GPUs : 0.026663 kWh. Total GPU Power : 95.41524346646166 W\n",
      "[codecarbon INFO @ 15:29:46] 0.041803 kWh of electricity used since the beginning.\n"
     ]
    },
    {
     "name": "stdout",
     "output_type": "stream",
     "text": [
      "Vehicle Prediction: truck\n"
     ]
    },
    {
     "name": "stderr",
     "output_type": "stream",
     "text": [
      "Processing: truck 2:  23%|██▎       | 216/932 [16:53<1:19:02,  6.62s/file]"
     ]
    },
    {
     "name": "stdout",
     "output_type": "stream",
     "text": [
      "Is Pickup Truck: no.\n",
      "Validation Result: True\n",
      "Vehicle Prediction: truck\n"
     ]
    },
    {
     "name": "stderr",
     "output_type": "stream",
     "text": [
      "[codecarbon INFO @ 15:30:01] Energy consumed for RAM : 0.003329 kWh. RAM Power : 11.756441116333008 W\n",
      "[codecarbon INFO @ 15:30:01] Energy consumed for all CPUs : 0.012037 kWh. Total CPU Power : 42.5 W\n",
      "[codecarbon INFO @ 15:30:01] Energy consumed for all GPUs : 0.027059 kWh. Total GPU Power : 95.06018387479132 W\n",
      "[codecarbon INFO @ 15:30:01] 0.042425 kWh of electricity used since the beginning.\n",
      "Processing: truck 2:  23%|██▎       | 217/932 [17:11<1:58:02,  9.91s/file]"
     ]
    },
    {
     "name": "stdout",
     "output_type": "stream",
     "text": [
      "Is Pickup Truck: no.\n",
      "Validation Result: True\n"
     ]
    },
    {
     "name": "stderr",
     "output_type": "stream",
     "text": [
      "[codecarbon INFO @ 15:30:16] Energy consumed for RAM : 0.003378 kWh. RAM Power : 11.756441116333008 W\n",
      "[codecarbon INFO @ 15:30:16] Energy consumed for all CPUs : 0.012214 kWh. Total CPU Power : 42.5 W\n",
      "[codecarbon INFO @ 15:30:16] Energy consumed for all GPUs : 0.027457 kWh. Total GPU Power : 95.59243482377238 W\n",
      "[codecarbon INFO @ 15:30:16] 0.043049 kWh of electricity used since the beginning.\n"
     ]
    },
    {
     "name": "stdout",
     "output_type": "stream",
     "text": [
      "Vehicle Prediction: truck\n"
     ]
    },
    {
     "name": "stderr",
     "output_type": "stream",
     "text": [
      "Processing: truck 2:  23%|██▎       | 218/932 [17:28<2:25:01, 12.19s/file]"
     ]
    },
    {
     "name": "stdout",
     "output_type": "stream",
     "text": [
      "Is Pickup Truck: no.\n",
      "Validation Result: True\n"
     ]
    },
    {
     "name": "stderr",
     "output_type": "stream",
     "text": [
      "[codecarbon INFO @ 15:30:31] Energy consumed for RAM : 0.003427 kWh. RAM Power : 11.756441116333008 W\n",
      "[codecarbon INFO @ 15:30:31] Energy consumed for all CPUs : 0.012391 kWh. Total CPU Power : 42.5 W\n",
      "[codecarbon INFO @ 15:30:31] Energy consumed for all GPUs : 0.027859 kWh. Total GPU Power : 96.49959273002196 W\n",
      "[codecarbon INFO @ 15:30:31] 0.043677 kWh of electricity used since the beginning.\n"
     ]
    },
    {
     "name": "stdout",
     "output_type": "stream",
     "text": [
      "Vehicle Prediction: truck\n"
     ]
    },
    {
     "name": "stderr",
     "output_type": "stream",
     "text": [
      "Processing: truck 2:  23%|██▎       | 219/932 [17:46<2:43:52, 13.79s/file]"
     ]
    },
    {
     "name": "stdout",
     "output_type": "stream",
     "text": [
      "Is Pickup Truck: no.\n",
      "Validation Result: True\n"
     ]
    },
    {
     "name": "stderr",
     "output_type": "stream",
     "text": [
      "[codecarbon INFO @ 15:30:46] Energy consumed for RAM : 0.003476 kWh. RAM Power : 11.756441116333008 W\n",
      "[codecarbon INFO @ 15:30:46] Energy consumed for all CPUs : 0.012568 kWh. Total CPU Power : 42.5 W\n",
      "[codecarbon INFO @ 15:30:46] Energy consumed for all GPUs : 0.028258 kWh. Total GPU Power : 95.7891578161873 W\n",
      "[codecarbon INFO @ 15:30:46] 0.044302 kWh of electricity used since the beginning.\n",
      "Processing: truck 2:  24%|██▎       | 220/932 [17:55<2:26:52, 12.38s/file]"
     ]
    },
    {
     "name": "stdout",
     "output_type": "stream",
     "text": [
      "Vehicle Prediction: trailer\n",
      "Validation Result: True\n"
     ]
    },
    {
     "name": "stderr",
     "output_type": "stream",
     "text": [
      "[codecarbon INFO @ 15:31:01] Energy consumed for RAM : 0.003525 kWh. RAM Power : 11.756441116333008 W\n",
      "[codecarbon INFO @ 15:31:01] Energy consumed for all CPUs : 0.012745 kWh. Total CPU Power : 42.5 W\n",
      "[codecarbon INFO @ 15:31:01] Energy consumed for all GPUs : 0.028656 kWh. Total GPU Power : 95.62310415247657 W\n",
      "[codecarbon INFO @ 15:31:01] 0.044926 kWh of electricity used since the beginning.\n",
      "[codecarbon INFO @ 15:31:01] 0.011885 g.CO2eq/s mean an estimation of 374.8075711426243 kg.CO2eq/year\n"
     ]
    },
    {
     "name": "stdout",
     "output_type": "stream",
     "text": [
      "Vehicle Prediction: truck\n"
     ]
    },
    {
     "name": "stderr",
     "output_type": "stream",
     "text": [
      "Processing: truck 2:  24%|██▎       | 221/932 [18:12<2:45:36, 13.97s/file]"
     ]
    },
    {
     "name": "stdout",
     "output_type": "stream",
     "text": [
      "Is Pickup Truck: no.\n",
      "Validation Result: True\n"
     ]
    },
    {
     "name": "stderr",
     "output_type": "stream",
     "text": [
      "Processing: truck 2:  24%|██▍       | 222/932 [18:17<2:11:54, 11.15s/file]"
     ]
    },
    {
     "name": "stdout",
     "output_type": "stream",
     "text": [
      "Vehicle Prediction: lorry\n",
      "Validation Result: True\n"
     ]
    },
    {
     "name": "stderr",
     "output_type": "stream",
     "text": [
      "[codecarbon INFO @ 15:31:16] Energy consumed for RAM : 0.003574 kWh. RAM Power : 11.756441116333008 W\n",
      "[codecarbon INFO @ 15:31:16] Energy consumed for all CPUs : 0.012922 kWh. Total CPU Power : 42.5 W\n",
      "[codecarbon INFO @ 15:31:16] Energy consumed for all GPUs : 0.029052 kWh. Total GPU Power : 95.0121553362697 W\n",
      "[codecarbon INFO @ 15:31:16] 0.045548 kWh of electricity used since the beginning.\n"
     ]
    },
    {
     "name": "stdout",
     "output_type": "stream",
     "text": [
      "Vehicle Prediction: truck\n"
     ]
    },
    {
     "name": "stderr",
     "output_type": "stream",
     "text": [
      "Processing: truck 2:  24%|██▍       | 223/932 [18:22<1:50:44,  9.37s/file]"
     ]
    },
    {
     "name": "stdout",
     "output_type": "stream",
     "text": [
      "Is Pickup Truck: no.\n",
      "Validation Result: True\n"
     ]
    },
    {
     "name": "stderr",
     "output_type": "stream",
     "text": [
      "Processing: truck 2:  24%|██▍       | 224/932 [18:27<1:35:09,  8.06s/file]"
     ]
    },
    {
     "name": "stdout",
     "output_type": "stream",
     "text": [
      "Vehicle Prediction: trailer\n",
      "Validation Result: True\n"
     ]
    },
    {
     "name": "stderr",
     "output_type": "stream",
     "text": [
      "[codecarbon INFO @ 15:31:31] Energy consumed for RAM : 0.003623 kWh. RAM Power : 11.756441116333008 W\n",
      "[codecarbon INFO @ 15:31:31] Energy consumed for all CPUs : 0.013099 kWh. Total CPU Power : 42.5 W\n",
      "[codecarbon INFO @ 15:31:31] Energy consumed for all GPUs : 0.029451 kWh. Total GPU Power : 95.78625843504564 W\n",
      "[codecarbon INFO @ 15:31:31] 0.046173 kWh of electricity used since the beginning.\n",
      "Processing: truck 2:  24%|██▍       | 225/932 [18:35<1:33:04,  7.90s/file]"
     ]
    },
    {
     "name": "stdout",
     "output_type": "stream",
     "text": [
      "Vehicle Prediction: trailer\n",
      "Validation Result: True\n",
      "Vehicle Prediction: truck\n"
     ]
    },
    {
     "name": "stderr",
     "output_type": "stream",
     "text": [
      "Processing: truck 2:  24%|██▍       | 226/932 [18:40<1:23:35,  7.10s/file]"
     ]
    },
    {
     "name": "stdout",
     "output_type": "stream",
     "text": [
      "Is Pickup Truck: no.\n",
      "Validation Result: True\n"
     ]
    },
    {
     "name": "stderr",
     "output_type": "stream",
     "text": [
      "[codecarbon INFO @ 15:31:46] Energy consumed for RAM : 0.003672 kWh. RAM Power : 11.756441116333008 W\n",
      "[codecarbon INFO @ 15:31:46] Energy consumed for all CPUs : 0.013276 kWh. Total CPU Power : 42.5 W\n",
      "[codecarbon INFO @ 15:31:46] Energy consumed for all GPUs : 0.029847 kWh. Total GPU Power : 95.17414703949325 W\n",
      "[codecarbon INFO @ 15:31:46] 0.046795 kWh of electricity used since the beginning.\n"
     ]
    },
    {
     "name": "stdout",
     "output_type": "stream",
     "text": [
      "Vehicle Prediction: truck\n"
     ]
    },
    {
     "name": "stderr",
     "output_type": "stream",
     "text": [
      "Processing: truck 2:  24%|██▍       | 227/932 [18:58<2:00:13, 10.23s/file]"
     ]
    },
    {
     "name": "stdout",
     "output_type": "stream",
     "text": [
      "Is Pickup Truck: no.\n",
      "Validation Result: True\n"
     ]
    },
    {
     "name": "stderr",
     "output_type": "stream",
     "text": [
      "[codecarbon INFO @ 15:32:01] Energy consumed for RAM : 0.003721 kWh. RAM Power : 11.756441116333008 W\n",
      "[codecarbon INFO @ 15:32:01] Energy consumed for all CPUs : 0.013453 kWh. Total CPU Power : 42.5 W\n",
      "[codecarbon INFO @ 15:32:01] Energy consumed for all GPUs : 0.030247 kWh. Total GPU Power : 96.10872430419712 W\n",
      "[codecarbon INFO @ 15:32:01] 0.047421 kWh of electricity used since the beginning.\n"
     ]
    },
    {
     "name": "stdout",
     "output_type": "stream",
     "text": [
      "Vehicle Prediction: truck\n"
     ]
    },
    {
     "name": "stderr",
     "output_type": "stream",
     "text": [
      "Processing: truck 2:  24%|██▍       | 228/932 [19:15<2:25:41, 12.42s/file]"
     ]
    },
    {
     "name": "stdout",
     "output_type": "stream",
     "text": [
      "Is Pickup Truck: no.\n",
      "Validation Result: True\n"
     ]
    },
    {
     "name": "stderr",
     "output_type": "stream",
     "text": [
      "Processing: truck 2:  25%|██▍       | 229/932 [19:18<1:52:15,  9.58s/file]"
     ]
    },
    {
     "name": "stdout",
     "output_type": "stream",
     "text": [
      "Vehicle Prediction: dumptruck\n",
      "Validation Result: False\n"
     ]
    },
    {
     "name": "stderr",
     "output_type": "stream",
     "text": [
      "[codecarbon INFO @ 15:32:16] Energy consumed for RAM : 0.003770 kWh. RAM Power : 11.756441116333008 W\n",
      "[codecarbon INFO @ 15:32:16] Energy consumed for all CPUs : 0.013630 kWh. Total CPU Power : 42.5 W\n",
      "[codecarbon INFO @ 15:32:16] Energy consumed for all GPUs : 0.030643 kWh. Total GPU Power : 94.90827431660023 W\n",
      "[codecarbon INFO @ 15:32:16] 0.048042 kWh of electricity used since the beginning.\n",
      "Processing: truck 2:  25%|██▍       | 230/932 [19:23<1:36:09,  8.22s/file]"
     ]
    },
    {
     "name": "stdout",
     "output_type": "stream",
     "text": [
      "Vehicle Prediction: dumptruck\n",
      "Validation Result: False\n",
      "Vehicle Prediction: truck\n"
     ]
    },
    {
     "name": "stderr",
     "output_type": "stream",
     "text": [
      "[codecarbon INFO @ 15:32:31] Energy consumed for RAM : 0.003819 kWh. RAM Power : 11.756441116333008 W\n",
      "[codecarbon INFO @ 15:32:31] Energy consumed for all CPUs : 0.013807 kWh. Total CPU Power : 42.5 W\n",
      "[codecarbon INFO @ 15:32:31] Energy consumed for all GPUs : 0.031040 kWh. Total GPU Power : 95.32552868299015 W\n",
      "[codecarbon INFO @ 15:32:31] 0.048665 kWh of electricity used since the beginning.\n",
      "Processing: truck 2:  25%|██▍       | 231/932 [19:41<2:09:02, 11.04s/file]"
     ]
    },
    {
     "name": "stdout",
     "output_type": "stream",
     "text": [
      "Is Pickup Truck: no.\n",
      "Validation Result: True\n"
     ]
    },
    {
     "name": "stderr",
     "output_type": "stream",
     "text": [
      "[codecarbon INFO @ 15:32:46] Energy consumed for RAM : 0.003868 kWh. RAM Power : 11.756441116333008 W\n",
      "[codecarbon INFO @ 15:32:46] Energy consumed for all CPUs : 0.013984 kWh. Total CPU Power : 42.5 W\n",
      "[codecarbon INFO @ 15:32:46] Energy consumed for all GPUs : 0.031439 kWh. Total GPU Power : 95.9279751891417 W\n",
      "[codecarbon INFO @ 15:32:46] 0.049290 kWh of electricity used since the beginning.\n",
      "Processing: truck 2:  25%|██▍       | 232/932 [19:50<2:02:19, 10.48s/file]"
     ]
    },
    {
     "name": "stdout",
     "output_type": "stream",
     "text": [
      "Vehicle Prediction: pickuptruck\n",
      "Validation Result: False\n",
      "Vehicle Prediction: truck\n"
     ]
    },
    {
     "name": "stderr",
     "output_type": "stream",
     "text": [
      "Processing: truck 2:  25%|██▌       | 233/932 [20:00<1:59:19, 10.24s/file]"
     ]
    },
    {
     "name": "stdout",
     "output_type": "stream",
     "text": [
      "Is Pickup Truck: no.\n",
      "Validation Result: True\n"
     ]
    },
    {
     "name": "stderr",
     "output_type": "stream",
     "text": [
      "[codecarbon INFO @ 15:33:01] Energy consumed for RAM : 0.003917 kWh. RAM Power : 11.756441116333008 W\n",
      "[codecarbon INFO @ 15:33:01] Energy consumed for all CPUs : 0.014161 kWh. Total CPU Power : 42.5 W\n",
      "[codecarbon INFO @ 15:33:01] Energy consumed for all GPUs : 0.031838 kWh. Total GPU Power : 95.86265586726053 W\n",
      "[codecarbon INFO @ 15:33:01] 0.049915 kWh of electricity used since the beginning.\n",
      "[codecarbon INFO @ 15:33:01] 0.011871 g.CO2eq/s mean an estimation of 374.3578288374487 kg.CO2eq/year\n",
      "Processing: truck 2:  25%|██▌       | 234/932 [20:05<1:41:00,  8.68s/file]"
     ]
    },
    {
     "name": "stdout",
     "output_type": "stream",
     "text": [
      "Vehicle Prediction: trailer\n",
      "Validation Result: True\n",
      "Vehicle Prediction: truck\n"
     ]
    },
    {
     "name": "stderr",
     "output_type": "stream",
     "text": [
      "Processing: truck 2:  25%|██▌       | 235/932 [20:14<1:44:18,  8.98s/file]"
     ]
    },
    {
     "name": "stdout",
     "output_type": "stream",
     "text": [
      "Is Pickup Truck: no.\n",
      "Validation Result: True\n"
     ]
    },
    {
     "name": "stderr",
     "output_type": "stream",
     "text": [
      "[codecarbon INFO @ 15:33:16] Energy consumed for RAM : 0.003966 kWh. RAM Power : 11.756441116333008 W\n",
      "[codecarbon INFO @ 15:33:16] Energy consumed for all CPUs : 0.014338 kWh. Total CPU Power : 42.5 W\n",
      "[codecarbon INFO @ 15:33:16] Energy consumed for all GPUs : 0.032236 kWh. Total GPU Power : 95.44782188371279 W\n",
      "[codecarbon INFO @ 15:33:16] 0.050539 kWh of electricity used since the beginning.\n",
      "Processing: truck 2:  25%|██▌       | 236/932 [20:23<1:44:50,  9.04s/file]"
     ]
    },
    {
     "name": "stdout",
     "output_type": "stream",
     "text": [
      "Vehicle Prediction: pickup\n",
      "Validation Result: False\n",
      "Vehicle Prediction: truck\n"
     ]
    },
    {
     "name": "stderr",
     "output_type": "stream",
     "text": [
      "[codecarbon INFO @ 15:33:31] Energy consumed for RAM : 0.004015 kWh. RAM Power : 11.756441116333008 W\n",
      "[codecarbon INFO @ 15:33:31] Energy consumed for all CPUs : 0.014515 kWh. Total CPU Power : 42.5 W\n",
      "[codecarbon INFO @ 15:33:31] Energy consumed for all GPUs : 0.032630 kWh. Total GPU Power : 94.75543589072731 W\n",
      "[codecarbon INFO @ 15:33:31] 0.051159 kWh of electricity used since the beginning.\n",
      "Processing: truck 2:  25%|██▌       | 237/932 [20:41<2:14:09, 11.58s/file]"
     ]
    },
    {
     "name": "stdout",
     "output_type": "stream",
     "text": [
      "Is Pickup Truck: no.\n",
      "Validation Result: True\n",
      "Vehicle Prediction: truck\n"
     ]
    },
    {
     "name": "stderr",
     "output_type": "stream",
     "text": [
      "[codecarbon INFO @ 15:33:46] Energy consumed for RAM : 0.004064 kWh. RAM Power : 11.756441116333008 W\n",
      "[codecarbon INFO @ 15:33:46] Energy consumed for all CPUs : 0.014692 kWh. Total CPU Power : 42.5 W\n",
      "[codecarbon INFO @ 15:33:46] Energy consumed for all GPUs : 0.033030 kWh. Total GPU Power : 96.01844737454051 W\n",
      "[codecarbon INFO @ 15:33:46] 0.051785 kWh of electricity used since the beginning.\n",
      "Processing: truck 2:  26%|██▌       | 238/932 [20:51<2:07:17, 11.01s/file]"
     ]
    },
    {
     "name": "stdout",
     "output_type": "stream",
     "text": [
      "Is Pickup Truck: no.\n",
      "Validation Result: True\n"
     ]
    },
    {
     "name": "stderr",
     "output_type": "stream",
     "text": [
      "Processing: truck 2:  26%|██▌       | 239/932 [21:00<2:00:34, 10.44s/file]"
     ]
    },
    {
     "name": "stdout",
     "output_type": "stream",
     "text": [
      "Vehicle Prediction: trailer\n",
      "Validation Result: True\n"
     ]
    },
    {
     "name": "stderr",
     "output_type": "stream",
     "text": [
      "[codecarbon INFO @ 15:34:01] Energy consumed for RAM : 0.004112 kWh. RAM Power : 11.756441116333008 W\n",
      "[codecarbon INFO @ 15:34:01] Energy consumed for all CPUs : 0.014869 kWh. Total CPU Power : 42.5 W\n",
      "[codecarbon INFO @ 15:34:01] Energy consumed for all GPUs : 0.033428 kWh. Total GPU Power : 95.58839604411138 W\n",
      "[codecarbon INFO @ 15:34:01] 0.052409 kWh of electricity used since the beginning.\n"
     ]
    },
    {
     "name": "stdout",
     "output_type": "stream",
     "text": [
      "Vehicle Prediction: truck\n"
     ]
    },
    {
     "name": "stderr",
     "output_type": "stream",
     "text": [
      "Processing: truck 2:  26%|██▌       | 240/932 [21:09<1:57:48, 10.21s/file]"
     ]
    },
    {
     "name": "stdout",
     "output_type": "stream",
     "text": [
      "Is Pickup Truck: no.\n",
      "Validation Result: True\n",
      "Vehicle Prediction: truck\n"
     ]
    },
    {
     "name": "stderr",
     "output_type": "stream",
     "text": [
      "Processing: truck 2:  26%|██▌       | 241/932 [21:17<1:48:25,  9.42s/file]"
     ]
    },
    {
     "name": "stdout",
     "output_type": "stream",
     "text": [
      "Is Pickup Truck: no.\n",
      "Validation Result: True\n"
     ]
    },
    {
     "name": "stderr",
     "output_type": "stream",
     "text": [
      "[codecarbon INFO @ 15:34:16] Energy consumed for RAM : 0.004161 kWh. RAM Power : 11.756441116333008 W\n",
      "[codecarbon INFO @ 15:34:16] Energy consumed for all CPUs : 0.015046 kWh. Total CPU Power : 42.5 W\n",
      "[codecarbon INFO @ 15:34:16] Energy consumed for all GPUs : 0.033823 kWh. Total GPU Power : 94.87789354670326 W\n",
      "[codecarbon INFO @ 15:34:16] 0.053030 kWh of electricity used since the beginning.\n",
      "Processing: truck 2:  26%|██▌       | 242/932 [21:20<1:25:57,  7.47s/file]"
     ]
    },
    {
     "name": "stdout",
     "output_type": "stream",
     "text": [
      "Vehicle Prediction: tow truck\n",
      "Validation Result: True\n"
     ]
    },
    {
     "name": "stderr",
     "output_type": "stream",
     "text": [
      "Processing: truck 2:  26%|██▌       | 243/932 [21:25<1:17:22,  6.74s/file]"
     ]
    },
    {
     "name": "stdout",
     "output_type": "stream",
     "text": [
      "Vehicle Prediction: trailer\n",
      "Validation Result: True\n"
     ]
    },
    {
     "name": "stderr",
     "output_type": "stream",
     "text": [
      "[codecarbon INFO @ 15:34:31] Energy consumed for RAM : 0.004210 kWh. RAM Power : 11.756441116333008 W\n",
      "[codecarbon INFO @ 15:34:31] Energy consumed for all CPUs : 0.015223 kWh. Total CPU Power : 42.5 W\n",
      "[codecarbon INFO @ 15:34:31] Energy consumed for all GPUs : 0.034221 kWh. Total GPU Power : 95.45575198944589 W\n",
      "[codecarbon INFO @ 15:34:31] 0.053654 kWh of electricity used since the beginning.\n",
      "Processing: truck 2:  26%|██▌       | 244/932 [21:34<1:25:12,  7.43s/file]"
     ]
    },
    {
     "name": "stdout",
     "output_type": "stream",
     "text": [
      "Vehicle Prediction: trailer\n",
      "Validation Result: True\n"
     ]
    },
    {
     "name": "stderr",
     "output_type": "stream",
     "text": [
      "Processing: truck 2:  26%|██▋       | 245/932 [21:37<1:09:38,  6.08s/file]"
     ]
    },
    {
     "name": "stdout",
     "output_type": "stream",
     "text": [
      "Vehicle Prediction: dumptruck\n",
      "Validation Result: False\n"
     ]
    },
    {
     "name": "stderr",
     "output_type": "stream",
     "text": [
      "Processing: truck 2:  26%|██▋       | 246/932 [21:41<1:04:16,  5.62s/file]"
     ]
    },
    {
     "name": "stdout",
     "output_type": "stream",
     "text": [
      "Vehicle Prediction: trailer\n",
      "Validation Result: True\n"
     ]
    },
    {
     "name": "stderr",
     "output_type": "stream",
     "text": [
      "[codecarbon INFO @ 15:34:46] Energy consumed for RAM : 0.004259 kWh. RAM Power : 11.756441116333008 W\n",
      "[codecarbon INFO @ 15:34:46] Energy consumed for all CPUs : 0.015400 kWh. Total CPU Power : 42.5 W\n",
      "[codecarbon INFO @ 15:34:46] Energy consumed for all GPUs : 0.034619 kWh. Total GPU Power : 95.66869365079204 W\n",
      "[codecarbon INFO @ 15:34:46] 0.054278 kWh of electricity used since the beginning.\n"
     ]
    },
    {
     "name": "stdout",
     "output_type": "stream",
     "text": [
      "Vehicle Prediction: truck\n"
     ]
    },
    {
     "name": "stderr",
     "output_type": "stream",
     "text": [
      "Processing: truck 2:  27%|██▋       | 247/932 [21:59<1:44:32,  9.16s/file]"
     ]
    },
    {
     "name": "stdout",
     "output_type": "stream",
     "text": [
      "Is Pickup Truck: yes.\n",
      "Validation Result: True\n"
     ]
    },
    {
     "name": "stderr",
     "output_type": "stream",
     "text": [
      "Processing: truck 2:  27%|██▋       | 248/932 [22:02<1:23:05,  7.29s/file]"
     ]
    },
    {
     "name": "stdout",
     "output_type": "stream",
     "text": [
      "Vehicle Prediction: trailer\n",
      "Validation Result: True\n"
     ]
    },
    {
     "name": "stderr",
     "output_type": "stream",
     "text": [
      "[codecarbon INFO @ 15:35:01] Energy consumed for RAM : 0.004308 kWh. RAM Power : 11.756441116333008 W\n",
      "[codecarbon INFO @ 15:35:01] Energy consumed for all CPUs : 0.015577 kWh. Total CPU Power : 42.5 W\n",
      "[codecarbon INFO @ 15:35:01] Energy consumed for all GPUs : 0.035016 kWh. Total GPU Power : 95.18327949403597 W\n",
      "[codecarbon INFO @ 15:35:01] 0.054901 kWh of electricity used since the beginning.\n",
      "[codecarbon INFO @ 15:35:01] 0.011860 g.CO2eq/s mean an estimation of 374.0315197934416 kg.CO2eq/year\n"
     ]
    },
    {
     "name": "stdout",
     "output_type": "stream",
     "text": [
      "Vehicle Prediction: truck\n"
     ]
    },
    {
     "name": "stderr",
     "output_type": "stream",
     "text": [
      "Processing: truck 2:  27%|██▋       | 249/932 [22:07<1:15:58,  6.67s/file]"
     ]
    },
    {
     "name": "stdout",
     "output_type": "stream",
     "text": [
      "Is Pickup Truck: no.\n",
      "Validation Result: True\n"
     ]
    },
    {
     "name": "stderr",
     "output_type": "stream",
     "text": [
      "Processing: truck 2:  27%|██▋       | 250/932 [22:12<1:10:07,  6.17s/file]"
     ]
    },
    {
     "name": "stdout",
     "output_type": "stream",
     "text": [
      "Vehicle Prediction: trailer\n",
      "Validation Result: True\n"
     ]
    },
    {
     "name": "stderr",
     "output_type": "stream",
     "text": [
      "Processing: truck 2:  27%|██▋       | 251/932 [22:18<1:09:26,  6.12s/file]"
     ]
    },
    {
     "name": "stdout",
     "output_type": "stream",
     "text": [
      "Vehicle Prediction: dumptruck\n",
      "Validation Result: False\n"
     ]
    },
    {
     "name": "stderr",
     "output_type": "stream",
     "text": [
      "[codecarbon INFO @ 15:35:16] Energy consumed for RAM : 0.004357 kWh. RAM Power : 11.756441116333008 W\n",
      "[codecarbon INFO @ 15:35:16] Energy consumed for all CPUs : 0.015754 kWh. Total CPU Power : 42.5 W\n",
      "[codecarbon INFO @ 15:35:16] Energy consumed for all GPUs : 0.035411 kWh. Total GPU Power : 94.86579339918376 W\n",
      "[codecarbon INFO @ 15:35:16] 0.055522 kWh of electricity used since the beginning.\n",
      "Processing: truck 2:  27%|██▋       | 252/932 [22:27<1:19:06,  6.98s/file]"
     ]
    },
    {
     "name": "stdout",
     "output_type": "stream",
     "text": [
      "Vehicle Prediction: pickup\n",
      "Validation Result: False\n"
     ]
    },
    {
     "name": "stderr",
     "output_type": "stream",
     "text": [
      "Processing: truck 2:  27%|██▋       | 253/932 [22:32<1:12:17,  6.39s/file]"
     ]
    },
    {
     "name": "stdout",
     "output_type": "stream",
     "text": [
      "Vehicle Prediction: trailer\n",
      "Validation Result: True\n"
     ]
    },
    {
     "name": "stderr",
     "output_type": "stream",
     "text": [
      "[codecarbon INFO @ 15:35:31] Energy consumed for RAM : 0.004406 kWh. RAM Power : 11.756441116333008 W\n",
      "[codecarbon INFO @ 15:35:31] Energy consumed for all CPUs : 0.015931 kWh. Total CPU Power : 42.5 W\n",
      "[codecarbon INFO @ 15:35:31] Energy consumed for all GPUs : 0.035812 kWh. Total GPU Power : 96.36224605866884 W\n",
      "[codecarbon INFO @ 15:35:31] 0.056149 kWh of electricity used since the beginning.\n",
      "Processing: truck 2:  27%|██▋       | 254/932 [22:35<1:00:28,  5.35s/file]"
     ]
    },
    {
     "name": "stdout",
     "output_type": "stream",
     "text": [
      "Vehicle Prediction: van\n",
      "Validation Result: False\n",
      "Vehicle Prediction: truck\n"
     ]
    },
    {
     "name": "stderr",
     "output_type": "stream",
     "text": [
      "Processing: truck 2:  27%|██▋       | 255/932 [22:40<59:57,  5.31s/file]  "
     ]
    },
    {
     "name": "stdout",
     "output_type": "stream",
     "text": [
      "Is Pickup Truck: no.\n",
      "Validation Result: True\n"
     ]
    },
    {
     "name": "stderr",
     "output_type": "stream",
     "text": [
      "[codecarbon INFO @ 15:35:46] Energy consumed for RAM : 0.004455 kWh. RAM Power : 11.756441116333008 W\n",
      "[codecarbon INFO @ 15:35:46] Energy consumed for all CPUs : 0.016108 kWh. Total CPU Power : 42.5 W\n",
      "[codecarbon INFO @ 15:35:46] Energy consumed for all GPUs : 0.036209 kWh. Total GPU Power : 95.29405720821023 W\n",
      "[codecarbon INFO @ 15:35:46] 0.056772 kWh of electricity used since the beginning.\n"
     ]
    },
    {
     "name": "stdout",
     "output_type": "stream",
     "text": [
      "Vehicle Prediction: truck\n"
     ]
    },
    {
     "name": "stderr",
     "output_type": "stream",
     "text": [
      "Processing: truck 2:  27%|██▋       | 256/932 [22:58<1:40:51,  8.95s/file]"
     ]
    },
    {
     "name": "stdout",
     "output_type": "stream",
     "text": [
      "Is Pickup Truck: no.\n",
      "Validation Result: True\n",
      "Vehicle Prediction: truck\n"
     ]
    },
    {
     "name": "stderr",
     "output_type": "stream",
     "text": [
      "Processing: truck 2:  28%|██▊       | 257/932 [23:03<1:28:18,  7.85s/file]"
     ]
    },
    {
     "name": "stdout",
     "output_type": "stream",
     "text": [
      "Is Pickup Truck: no.\n",
      "Validation Result: True\n"
     ]
    },
    {
     "name": "stderr",
     "output_type": "stream",
     "text": [
      "[codecarbon INFO @ 15:36:01] Energy consumed for RAM : 0.004504 kWh. RAM Power : 11.756441116333008 W\n",
      "[codecarbon INFO @ 15:36:01] Energy consumed for all CPUs : 0.016285 kWh. Total CPU Power : 42.5 W\n",
      "[codecarbon INFO @ 15:36:01] Energy consumed for all GPUs : 0.036606 kWh. Total GPU Power : 95.26802520755392 W\n",
      "[codecarbon INFO @ 15:36:01] 0.057395 kWh of electricity used since the beginning.\n",
      "Processing: truck 2:  28%|██▊       | 258/932 [23:06<1:11:37,  6.38s/file]"
     ]
    },
    {
     "name": "stdout",
     "output_type": "stream",
     "text": [
      "Vehicle Prediction: lorry\n",
      "Validation Result: True\n"
     ]
    },
    {
     "name": "stderr",
     "output_type": "stream",
     "text": [
      "Processing: truck 2:  28%|██▊       | 259/932 [23:15<1:20:43,  7.20s/file]"
     ]
    },
    {
     "name": "stdout",
     "output_type": "stream",
     "text": [
      "Vehicle Prediction: trailer\n",
      "Validation Result: True\n"
     ]
    },
    {
     "name": "stderr",
     "output_type": "stream",
     "text": [
      "[codecarbon INFO @ 15:36:16] Energy consumed for RAM : 0.004553 kWh. RAM Power : 11.756441116333008 W\n",
      "[codecarbon INFO @ 15:36:16] Energy consumed for all CPUs : 0.016462 kWh. Total CPU Power : 42.5 W\n",
      "[codecarbon INFO @ 15:36:16] Energy consumed for all GPUs : 0.037005 kWh. Total GPU Power : 95.86962806253693 W\n",
      "[codecarbon INFO @ 15:36:16] 0.058020 kWh of electricity used since the beginning.\n",
      "Processing: truck 2:  28%|██▊       | 260/932 [23:21<1:16:36,  6.84s/file]"
     ]
    },
    {
     "name": "stdout",
     "output_type": "stream",
     "text": [
      "Vehicle Prediction: trailer\n",
      "Validation Result: True\n"
     ]
    },
    {
     "name": "stderr",
     "output_type": "stream",
     "text": [
      "Processing: truck 2:  28%|██▊       | 261/932 [23:24<1:03:31,  5.68s/file]"
     ]
    },
    {
     "name": "stdout",
     "output_type": "stream",
     "text": [
      "Vehicle Prediction: trailer\n",
      "Validation Result: True\n"
     ]
    },
    {
     "name": "stderr",
     "output_type": "stream",
     "text": [
      "Processing: truck 2:  28%|██▊       | 262/932 [23:33<1:14:50,  6.70s/file]"
     ]
    },
    {
     "name": "stdout",
     "output_type": "stream",
     "text": [
      "Vehicle Prediction: pickup\n",
      "Validation Result: False\n"
     ]
    },
    {
     "name": "stderr",
     "output_type": "stream",
     "text": [
      "[codecarbon INFO @ 15:36:31] Energy consumed for RAM : 0.004602 kWh. RAM Power : 11.756441116333008 W\n",
      "[codecarbon INFO @ 15:36:31] Energy consumed for all CPUs : 0.016639 kWh. Total CPU Power : 42.5 W\n",
      "[codecarbon INFO @ 15:36:31] Energy consumed for all GPUs : 0.037401 kWh. Total GPU Power : 95.00617748103599 W\n",
      "[codecarbon INFO @ 15:36:31] 0.058642 kWh of electricity used since the beginning.\n",
      "Processing: truck 2:  28%|██▊       | 263/932 [23:36<1:02:08,  5.57s/file]"
     ]
    },
    {
     "name": "stdout",
     "output_type": "stream",
     "text": [
      "Vehicle Prediction: pickup\n",
      "Validation Result: False\n",
      "Vehicle Prediction: truck\n"
     ]
    },
    {
     "name": "stderr",
     "output_type": "stream",
     "text": [
      "Processing: truck 2:  28%|██▊       | 264/932 [23:41<1:01:01,  5.48s/file]"
     ]
    },
    {
     "name": "stdout",
     "output_type": "stream",
     "text": [
      "Is Pickup Truck: no.\n",
      "Validation Result: True\n"
     ]
    },
    {
     "name": "stderr",
     "output_type": "stream",
     "text": [
      "[codecarbon INFO @ 15:36:46] Energy consumed for RAM : 0.004651 kWh. RAM Power : 11.756441116333008 W\n",
      "[codecarbon INFO @ 15:36:46] Energy consumed for all CPUs : 0.016816 kWh. Total CPU Power : 42.5 W\n",
      "[codecarbon INFO @ 15:36:46] Energy consumed for all GPUs : 0.037797 kWh. Total GPU Power : 95.11613193828303 W\n",
      "[codecarbon INFO @ 15:36:46] 0.059264 kWh of electricity used since the beginning.\n"
     ]
    },
    {
     "name": "stdout",
     "output_type": "stream",
     "text": [
      "Vehicle Prediction: truck\n"
     ]
    },
    {
     "name": "stderr",
     "output_type": "stream",
     "text": [
      "Processing: truck 2:  28%|██▊       | 265/932 [23:59<1:40:39,  9.06s/file]"
     ]
    },
    {
     "name": "stdout",
     "output_type": "stream",
     "text": [
      "Is Pickup Truck: no.\n",
      "Validation Result: True\n"
     ]
    },
    {
     "name": "stderr",
     "output_type": "stream",
     "text": [
      "Processing: truck 2:  29%|██▊       | 266/932 [24:04<1:27:03,  7.84s/file]"
     ]
    },
    {
     "name": "stdout",
     "output_type": "stream",
     "text": [
      "Vehicle Prediction: pickuptruck\n",
      "Validation Result: False\n"
     ]
    },
    {
     "name": "stderr",
     "output_type": "stream",
     "text": [
      "[codecarbon INFO @ 15:37:01] Energy consumed for RAM : 0.004700 kWh. RAM Power : 11.756441116333008 W\n",
      "[codecarbon INFO @ 15:37:01] Energy consumed for all CPUs : 0.016993 kWh. Total CPU Power : 42.5 W\n",
      "[codecarbon INFO @ 15:37:01] Energy consumed for all GPUs : 0.038194 kWh. Total GPU Power : 95.38865834997465 W\n",
      "[codecarbon INFO @ 15:37:01] 0.059887 kWh of electricity used since the beginning.\n",
      "[codecarbon INFO @ 15:37:01] 0.011863 g.CO2eq/s mean an estimation of 374.1054387725559 kg.CO2eq/year\n",
      "Processing: truck 2:  29%|██▊       | 267/932 [24:13<1:30:41,  8.18s/file]"
     ]
    },
    {
     "name": "stdout",
     "output_type": "stream",
     "text": [
      "Vehicle Prediction: dumptruck\n",
      "Validation Result: False\n"
     ]
    },
    {
     "name": "stderr",
     "output_type": "stream",
     "text": [
      "[codecarbon INFO @ 15:37:16] Energy consumed for RAM : 0.004749 kWh. RAM Power : 11.756441116333008 W\n",
      "[codecarbon INFO @ 15:37:16] Energy consumed for all CPUs : 0.017170 kWh. Total CPU Power : 42.5 W\n",
      "[codecarbon INFO @ 15:37:16] Energy consumed for all GPUs : 0.038597 kWh. Total GPU Power : 96.67310584717715 W\n",
      "[codecarbon INFO @ 15:37:16] 0.060515 kWh of electricity used since the beginning.\n",
      "Processing: truck 2:  29%|██▉       | 268/932 [24:22<1:33:17,  8.43s/file]"
     ]
    },
    {
     "name": "stdout",
     "output_type": "stream",
     "text": [
      "Vehicle Prediction: dumptruck\n",
      "Validation Result: False\n"
     ]
    },
    {
     "name": "stderr",
     "output_type": "stream",
     "text": [
      "Processing: truck 2:  29%|██▉       | 269/932 [24:31<1:34:53,  8.59s/file]"
     ]
    },
    {
     "name": "stdout",
     "output_type": "stream",
     "text": [
      "Vehicle Prediction: tow truck\n",
      "Validation Result: True\n"
     ]
    },
    {
     "name": "stderr",
     "output_type": "stream",
     "text": [
      "[codecarbon INFO @ 15:37:31] Energy consumed for RAM : 0.004798 kWh. RAM Power : 11.756441116333008 W\n",
      "[codecarbon INFO @ 15:37:31] Energy consumed for all CPUs : 0.017346 kWh. Total CPU Power : 42.5 W\n",
      "[codecarbon INFO @ 15:37:31] Energy consumed for all GPUs : 0.038995 kWh. Total GPU Power : 95.54039223739102 W\n",
      "[codecarbon INFO @ 15:37:31] 0.061139 kWh of electricity used since the beginning.\n",
      "Processing: truck 2:  29%|██▉       | 270/932 [24:40<1:35:57,  8.70s/file]"
     ]
    },
    {
     "name": "stdout",
     "output_type": "stream",
     "text": [
      "Vehicle Prediction: dumptruck\n",
      "Validation Result: False\n"
     ]
    },
    {
     "name": "stderr",
     "output_type": "stream",
     "text": [
      "Processing: truck 2:  29%|██▉       | 271/932 [24:49<1:36:42,  8.78s/file]"
     ]
    },
    {
     "name": "stdout",
     "output_type": "stream",
     "text": [
      "Vehicle Prediction: pickup\n",
      "Validation Result: False\n"
     ]
    },
    {
     "name": "stderr",
     "output_type": "stream",
     "text": [
      "[codecarbon INFO @ 15:37:46] Energy consumed for RAM : 0.004847 kWh. RAM Power : 11.756441116333008 W\n",
      "[codecarbon INFO @ 15:37:46] Energy consumed for all CPUs : 0.017523 kWh. Total CPU Power : 42.5 W\n",
      "[codecarbon INFO @ 15:37:46] Energy consumed for all GPUs : 0.039392 kWh. Total GPU Power : 95.33657920233675 W\n",
      "[codecarbon INFO @ 15:37:46] 0.061762 kWh of electricity used since the beginning.\n"
     ]
    },
    {
     "name": "stdout",
     "output_type": "stream",
     "text": [
      "Vehicle Prediction: truck\n"
     ]
    },
    {
     "name": "stderr",
     "output_type": "stream",
     "text": [
      "[codecarbon INFO @ 15:38:01] Energy consumed for RAM : 0.004896 kWh. RAM Power : 11.756441116333008 W\n",
      "[codecarbon INFO @ 15:38:01] Energy consumed for all CPUs : 0.017700 kWh. Total CPU Power : 42.5 W\n",
      "[codecarbon INFO @ 15:38:01] Energy consumed for all GPUs : 0.039792 kWh. Total GPU Power : 96.16302098259928 W\n",
      "[codecarbon INFO @ 15:38:01] 0.062388 kWh of electricity used since the beginning.\n",
      "Processing: truck 2:  29%|██▉       | 272/932 [25:06<2:04:45, 11.34s/file]"
     ]
    },
    {
     "name": "stdout",
     "output_type": "stream",
     "text": [
      "Is Pickup Truck: no.\n",
      "Validation Result: True\n",
      "Vehicle Prediction: truck\n"
     ]
    },
    {
     "name": "stderr",
     "output_type": "stream",
     "text": [
      "Processing: truck 2:  29%|██▉       | 273/932 [25:11<1:44:20,  9.50s/file]"
     ]
    },
    {
     "name": "stdout",
     "output_type": "stream",
     "text": [
      "Is Pickup Truck: no.\n",
      "Validation Result: True\n",
      "Vehicle Prediction: truck\n"
     ]
    },
    {
     "name": "stderr",
     "output_type": "stream",
     "text": [
      "Processing: truck 2:  29%|██▉       | 274/932 [25:16<1:30:05,  8.22s/file]"
     ]
    },
    {
     "name": "stdout",
     "output_type": "stream",
     "text": [
      "Is Pickup Truck: no.\n",
      "Validation Result: True\n"
     ]
    },
    {
     "name": "stderr",
     "output_type": "stream",
     "text": [
      "[codecarbon INFO @ 15:38:16] Energy consumed for RAM : 0.004945 kWh. RAM Power : 11.756441116333008 W\n",
      "[codecarbon INFO @ 15:38:16] Energy consumed for all CPUs : 0.017877 kWh. Total CPU Power : 42.5 W\n",
      "[codecarbon INFO @ 15:38:16] Energy consumed for all GPUs : 0.040188 kWh. Total GPU Power : 94.92661502818034 W\n",
      "[codecarbon INFO @ 15:38:16] 0.063010 kWh of electricity used since the beginning.\n"
     ]
    },
    {
     "name": "stdout",
     "output_type": "stream",
     "text": [
      "Vehicle Prediction: truck\n"
     ]
    },
    {
     "name": "stderr",
     "output_type": "stream",
     "text": [
      "Processing: truck 2:  30%|██▉       | 275/932 [25:21<1:20:04,  7.31s/file]"
     ]
    },
    {
     "name": "stdout",
     "output_type": "stream",
     "text": [
      "Is Pickup Truck: no.\n",
      "Validation Result: True\n",
      "Vehicle Prediction: truck\n"
     ]
    },
    {
     "name": "stderr",
     "output_type": "stream",
     "text": [
      "Processing: truck 2:  30%|██▉       | 276/932 [25:31<1:27:29,  8.00s/file]"
     ]
    },
    {
     "name": "stdout",
     "output_type": "stream",
     "text": [
      "Is Pickup Truck: no.\n",
      "Validation Result: True\n"
     ]
    },
    {
     "name": "stderr",
     "output_type": "stream",
     "text": [
      "[codecarbon INFO @ 15:38:31] Energy consumed for RAM : 0.004994 kWh. RAM Power : 11.756441116333008 W\n",
      "[codecarbon INFO @ 15:38:31] Energy consumed for all CPUs : 0.018054 kWh. Total CPU Power : 42.5 W\n",
      "[codecarbon INFO @ 15:38:31] Energy consumed for all GPUs : 0.040583 kWh. Total GPU Power : 94.9990181101946 W\n",
      "[codecarbon INFO @ 15:38:31] 0.063631 kWh of electricity used since the beginning.\n",
      "Processing: truck 2:  30%|██▉       | 277/932 [25:36<1:17:30,  7.10s/file]"
     ]
    },
    {
     "name": "stdout",
     "output_type": "stream",
     "text": [
      "Vehicle Prediction: trailer\n",
      "Validation Result: True\n"
     ]
    },
    {
     "name": "stderr",
     "output_type": "stream",
     "text": [
      "Processing: truck 2:  30%|██▉       | 278/932 [25:45<1:23:43,  7.68s/file]"
     ]
    },
    {
     "name": "stdout",
     "output_type": "stream",
     "text": [
      "Vehicle Prediction: pickup\n",
      "Validation Result: False\n"
     ]
    },
    {
     "name": "stderr",
     "output_type": "stream",
     "text": [
      "Processing: truck 2:  30%|██▉       | 279/932 [25:48<1:08:05,  6.26s/file]"
     ]
    },
    {
     "name": "stdout",
     "output_type": "stream",
     "text": [
      "Vehicle Prediction: lorry\n",
      "Validation Result: True\n"
     ]
    },
    {
     "name": "stderr",
     "output_type": "stream",
     "text": [
      "[codecarbon INFO @ 15:38:46] Energy consumed for RAM : 0.005043 kWh. RAM Power : 11.756441116333008 W\n",
      "[codecarbon INFO @ 15:38:46] Energy consumed for all CPUs : 0.018231 kWh. Total CPU Power : 42.5 W\n",
      "[codecarbon INFO @ 15:38:46] Energy consumed for all GPUs : 0.040984 kWh. Total GPU Power : 96.22835324678006 W\n",
      "[codecarbon INFO @ 15:38:46] 0.064258 kWh of electricity used since the beginning.\n",
      "Processing: truck 2:  30%|███       | 280/932 [25:51<57:09,  5.26s/file]  "
     ]
    },
    {
     "name": "stdout",
     "output_type": "stream",
     "text": [
      "Vehicle Prediction: van\n",
      "Validation Result: False\n"
     ]
    },
    {
     "name": "stderr",
     "output_type": "stream",
     "text": [
      "Processing: truck 2:  30%|███       | 281/932 [25:56<56:18,  5.19s/file]"
     ]
    },
    {
     "name": "stdout",
     "output_type": "stream",
     "text": [
      "Vehicle Prediction: trailer\n",
      "Validation Result: True\n",
      "Vehicle Prediction: truck\n"
     ]
    },
    {
     "name": "stderr",
     "output_type": "stream",
     "text": [
      "Processing: truck 2:  30%|███       | 282/932 [26:01<56:22,  5.20s/file]"
     ]
    },
    {
     "name": "stdout",
     "output_type": "stream",
     "text": [
      "Is Pickup Truck: no.\n",
      "Validation Result: True\n"
     ]
    },
    {
     "name": "stderr",
     "output_type": "stream",
     "text": [
      "[codecarbon INFO @ 15:39:01] Energy consumed for RAM : 0.005092 kWh. RAM Power : 11.756441116333008 W\n",
      "[codecarbon INFO @ 15:39:01] Energy consumed for all CPUs : 0.018408 kWh. Total CPU Power : 42.5 W\n",
      "[codecarbon INFO @ 15:39:01] Energy consumed for all GPUs : 0.041382 kWh. Total GPU Power : 95.56581239162513 W\n",
      "[codecarbon INFO @ 15:39:01] 0.064882 kWh of electricity used since the beginning.\n",
      "[codecarbon INFO @ 15:39:01] 0.011885 g.CO2eq/s mean an estimation of 374.8008656069542 kg.CO2eq/year\n",
      "Processing: truck 2:  30%|███       | 283/932 [26:07<58:54,  5.45s/file]"
     ]
    },
    {
     "name": "stdout",
     "output_type": "stream",
     "text": [
      "Vehicle Prediction: lorry\n",
      "Validation Result: True\n"
     ]
    },
    {
     "name": "stderr",
     "output_type": "stream",
     "text": [
      "Processing: truck 2:  30%|███       | 284/932 [26:12<57:28,  5.32s/file]"
     ]
    },
    {
     "name": "stdout",
     "output_type": "stream",
     "text": [
      "Vehicle Prediction: tanker\n",
      "Validation Result: True\n",
      "Vehicle Prediction: truck\n"
     ]
    },
    {
     "name": "stderr",
     "output_type": "stream",
     "text": [
      "Processing: truck 2:  31%|███       | 285/932 [26:18<57:08,  5.30s/file]"
     ]
    },
    {
     "name": "stdout",
     "output_type": "stream",
     "text": [
      "Is Pickup Truck: no.\n",
      "Validation Result: True\n"
     ]
    },
    {
     "name": "stderr",
     "output_type": "stream",
     "text": [
      "[codecarbon INFO @ 15:39:16] Energy consumed for RAM : 0.005141 kWh. RAM Power : 11.756441116333008 W\n",
      "[codecarbon INFO @ 15:39:16] Energy consumed for all CPUs : 0.018585 kWh. Total CPU Power : 42.5 W\n",
      "[codecarbon INFO @ 15:39:16] Energy consumed for all GPUs : 0.041778 kWh. Total GPU Power : 94.9348002822464 W\n",
      "[codecarbon INFO @ 15:39:16] 0.065504 kWh of electricity used since the beginning.\n"
     ]
    },
    {
     "name": "stdout",
     "output_type": "stream",
     "text": [
      "Vehicle Prediction: truck\n"
     ]
    },
    {
     "name": "stderr",
     "output_type": "stream",
     "text": [
      "Processing: truck 2:  31%|███       | 286/932 [26:23<56:58,  5.29s/file]"
     ]
    },
    {
     "name": "stdout",
     "output_type": "stream",
     "text": [
      "Is Pickup Truck: no.\n",
      "Validation Result: True\n"
     ]
    },
    {
     "name": "stderr",
     "output_type": "stream",
     "text": [
      "Processing: truck 2:  31%|███       | 287/932 [26:31<1:05:55,  6.13s/file]"
     ]
    },
    {
     "name": "stdout",
     "output_type": "stream",
     "text": [
      "Vehicle Prediction: pickup\n",
      "Validation Result: False\n"
     ]
    },
    {
     "name": "stderr",
     "output_type": "stream",
     "text": [
      "[codecarbon INFO @ 15:39:31] Energy consumed for RAM : 0.005189 kWh. RAM Power : 11.756441116333008 W\n",
      "[codecarbon INFO @ 15:39:31] Energy consumed for all CPUs : 0.018762 kWh. Total CPU Power : 42.5 W\n",
      "[codecarbon INFO @ 15:39:31] Energy consumed for all GPUs : 0.042175 kWh. Total GPU Power : 95.34950428931693 W\n",
      "[codecarbon INFO @ 15:39:31] 0.066127 kWh of electricity used since the beginning.\n"
     ]
    },
    {
     "name": "stdout",
     "output_type": "stream",
     "text": [
      "Vehicle Prediction: truck\n"
     ]
    },
    {
     "name": "stderr",
     "output_type": "stream",
     "text": [
      "Processing: truck 2:  31%|███       | 288/932 [26:48<1:42:37,  9.56s/file]"
     ]
    },
    {
     "name": "stdout",
     "output_type": "stream",
     "text": [
      "Is Pickup Truck: no.\n",
      "Validation Result: True\n"
     ]
    },
    {
     "name": "stderr",
     "output_type": "stream",
     "text": [
      "[codecarbon INFO @ 15:39:46] Energy consumed for RAM : 0.005238 kWh. RAM Power : 11.756441116333008 W\n",
      "[codecarbon INFO @ 15:39:46] Energy consumed for all CPUs : 0.018939 kWh. Total CPU Power : 42.5 W\n",
      "[codecarbon INFO @ 15:39:46] Energy consumed for all GPUs : 0.042571 kWh. Total GPU Power : 95.13617133921225 W\n",
      "[codecarbon INFO @ 15:39:46] 0.066749 kWh of electricity used since the beginning.\n"
     ]
    },
    {
     "name": "stdout",
     "output_type": "stream",
     "text": [
      "Vehicle Prediction: truck\n"
     ]
    },
    {
     "name": "stderr",
     "output_type": "stream",
     "text": [
      "Processing: truck 2:  31%|███       | 289/932 [26:54<1:28:37,  8.27s/file]"
     ]
    },
    {
     "name": "stdout",
     "output_type": "stream",
     "text": [
      "Is Pickup Truck: no.\n",
      "Validation Result: True\n"
     ]
    },
    {
     "name": "stderr",
     "output_type": "stream",
     "text": [
      "Processing: truck 2:  31%|███       | 290/932 [26:57<1:11:27,  6.68s/file]"
     ]
    },
    {
     "name": "stdout",
     "output_type": "stream",
     "text": [
      "Vehicle Prediction: dumptruck\n",
      "Validation Result: False\n"
     ]
    },
    {
     "name": "stderr",
     "output_type": "stream",
     "text": [
      "[codecarbon INFO @ 15:40:01] Energy consumed for RAM : 0.005287 kWh. RAM Power : 11.756441116333008 W\n",
      "[codecarbon INFO @ 15:40:01] Energy consumed for all CPUs : 0.019116 kWh. Total CPU Power : 42.5 W\n",
      "[codecarbon INFO @ 15:40:01] Energy consumed for all GPUs : 0.042970 kWh. Total GPU Power : 95.73408106032461 W\n",
      "[codecarbon INFO @ 15:40:01] 0.067374 kWh of electricity used since the beginning.\n"
     ]
    },
    {
     "name": "stdout",
     "output_type": "stream",
     "text": [
      "Vehicle Prediction: truck\n"
     ]
    },
    {
     "name": "stderr",
     "output_type": "stream",
     "text": [
      "Processing: truck 2:  31%|███       | 291/932 [27:14<1:45:55,  9.91s/file]"
     ]
    },
    {
     "name": "stdout",
     "output_type": "stream",
     "text": [
      "Is Pickup Truck: no.\n",
      "Validation Result: True\n"
     ]
    },
    {
     "name": "stderr",
     "output_type": "stream",
     "text": [
      "Processing: truck 2:  31%|███▏      | 292/932 [27:17<1:23:27,  7.82s/file]"
     ]
    },
    {
     "name": "stdout",
     "output_type": "stream",
     "text": [
      "Vehicle Prediction: trailer\n",
      "Validation Result: True\n"
     ]
    },
    {
     "name": "stderr",
     "output_type": "stream",
     "text": [
      "[codecarbon INFO @ 15:40:16] Energy consumed for RAM : 0.005336 kWh. RAM Power : 11.756441116333008 W\n",
      "[codecarbon INFO @ 15:40:16] Energy consumed for all CPUs : 0.019293 kWh. Total CPU Power : 42.5 W\n",
      "[codecarbon INFO @ 15:40:16] Energy consumed for all GPUs : 0.043367 kWh. Total GPU Power : 95.32459054768995 W\n",
      "[codecarbon INFO @ 15:40:16] 0.067997 kWh of electricity used since the beginning.\n"
     ]
    },
    {
     "name": "stdout",
     "output_type": "stream",
     "text": [
      "Vehicle Prediction: truck\n"
     ]
    },
    {
     "name": "stderr",
     "output_type": "stream",
     "text": [
      "Processing: truck 2:  31%|███▏      | 293/932 [27:22<1:15:05,  7.05s/file]"
     ]
    },
    {
     "name": "stdout",
     "output_type": "stream",
     "text": [
      "Is Pickup Truck: no.\n",
      "Validation Result: True\n",
      "Vehicle Prediction: truck\n"
     ]
    },
    {
     "name": "stderr",
     "output_type": "stream",
     "text": [
      "Processing: truck 2:  32%|███▏      | 294/932 [27:28<1:09:10,  6.51s/file]"
     ]
    },
    {
     "name": "stdout",
     "output_type": "stream",
     "text": [
      "Is Pickup Truck: no.\n",
      "Validation Result: True\n"
     ]
    },
    {
     "name": "stderr",
     "output_type": "stream",
     "text": [
      "[codecarbon INFO @ 15:40:31] Energy consumed for RAM : 0.005385 kWh. RAM Power : 11.756441116333008 W\n",
      "[codecarbon INFO @ 15:40:31] Energy consumed for all CPUs : 0.019470 kWh. Total CPU Power : 42.5 W\n",
      "[codecarbon INFO @ 15:40:31] Energy consumed for all GPUs : 0.043767 kWh. Total GPU Power : 96.09621740955976 W\n",
      "[codecarbon INFO @ 15:40:31] 0.068623 kWh of electricity used since the beginning.\n",
      "Processing: truck 2:  32%|███▏      | 295/932 [27:37<1:17:09,  7.27s/file]"
     ]
    },
    {
     "name": "stdout",
     "output_type": "stream",
     "text": [
      "Vehicle Prediction: trailer\n",
      "Validation Result: True\n"
     ]
    },
    {
     "name": "stderr",
     "output_type": "stream",
     "text": [
      "Processing: truck 2:  32%|███▏      | 296/932 [27:46<1:22:45,  7.81s/file]"
     ]
    },
    {
     "name": "stdout",
     "output_type": "stream",
     "text": [
      "Vehicle Prediction: trailer\n",
      "Validation Result: True\n"
     ]
    },
    {
     "name": "stderr",
     "output_type": "stream",
     "text": [
      "[codecarbon INFO @ 15:40:46] Energy consumed for RAM : 0.005434 kWh. RAM Power : 11.756441116333008 W\n",
      "[codecarbon INFO @ 15:40:46] Energy consumed for all CPUs : 0.019647 kWh. Total CPU Power : 42.5 W\n",
      "[codecarbon INFO @ 15:40:46] Energy consumed for all GPUs : 0.044164 kWh. Total GPU Power : 95.37830377956365 W\n",
      "[codecarbon INFO @ 15:40:46] 0.069246 kWh of electricity used since the beginning.\n",
      "Processing: truck 2:  32%|███▏      | 297/932 [27:51<1:13:47,  6.97s/file]"
     ]
    },
    {
     "name": "stdout",
     "output_type": "stream",
     "text": [
      "Vehicle Prediction: tow-tr\n",
      "Validation Result: False\n"
     ]
    },
    {
     "name": "stderr",
     "output_type": "stream",
     "text": [
      "Processing: truck 2:  32%|███▏      | 298/932 [28:00<1:20:23,  7.61s/file]"
     ]
    },
    {
     "name": "stdout",
     "output_type": "stream",
     "text": [
      "Vehicle Prediction: pickuptruck\n",
      "Validation Result: False\n"
     ]
    },
    {
     "name": "stderr",
     "output_type": "stream",
     "text": [
      "[codecarbon INFO @ 15:41:01] Energy consumed for RAM : 0.005483 kWh. RAM Power : 11.756441116333008 W\n",
      "[codecarbon INFO @ 15:41:01] Energy consumed for all CPUs : 0.019824 kWh. Total CPU Power : 42.5 W\n",
      "[codecarbon INFO @ 15:41:01] Energy consumed for all GPUs : 0.044563 kWh. Total GPU Power : 95.72120519640343 W\n",
      "[codecarbon INFO @ 15:41:01] 0.069871 kWh of electricity used since the beginning.\n",
      "[codecarbon INFO @ 15:41:01] 0.011867 g.CO2eq/s mean an estimation of 374.2527744968597 kg.CO2eq/year\n",
      "Processing: truck 2:  32%|███▏      | 299/932 [28:06<1:15:10,  7.12s/file]"
     ]
    },
    {
     "name": "stdout",
     "output_type": "stream",
     "text": [
      "Vehicle Prediction: pickup\n",
      "Validation Result: False\n"
     ]
    },
    {
     "name": "stderr",
     "output_type": "stream",
     "text": [
      "Processing: truck 2:  32%|███▏      | 300/932 [28:15<1:21:16,  7.72s/file]"
     ]
    },
    {
     "name": "stdout",
     "output_type": "stream",
     "text": [
      "Vehicle Prediction: dumptruck\n",
      "Validation Result: False\n"
     ]
    },
    {
     "name": "stderr",
     "output_type": "stream",
     "text": [
      "[codecarbon INFO @ 15:41:16] Energy consumed for RAM : 0.005532 kWh. RAM Power : 11.756441116333008 W\n",
      "[codecarbon INFO @ 15:41:16] Energy consumed for all CPUs : 0.020001 kWh. Total CPU Power : 42.5 W\n",
      "[codecarbon INFO @ 15:41:16] Energy consumed for all GPUs : 0.044960 kWh. Total GPU Power : 95.45341283246228 W\n",
      "[codecarbon INFO @ 15:41:16] 0.070494 kWh of electricity used since the beginning.\n",
      "Processing: truck 2:  32%|███▏      | 301/932 [28:20<1:12:45,  6.92s/file]"
     ]
    },
    {
     "name": "stdout",
     "output_type": "stream",
     "text": [
      "Vehicle Prediction: trailer\n",
      "Validation Result: True\n",
      "Vehicle Prediction: truck\n"
     ]
    },
    {
     "name": "stderr",
     "output_type": "stream",
     "text": [
      "Processing: bus 2:  32%|███▏      | 302/932 [28:25<1:07:25,  6.42s/file]  "
     ]
    },
    {
     "name": "stdout",
     "output_type": "stream",
     "text": [
      "Is Pickup Truck: no.\n",
      "Validation Result: True\n"
     ]
    },
    {
     "name": "stderr",
     "output_type": "stream",
     "text": [
      "[codecarbon INFO @ 15:41:31] Energy consumed for RAM : 0.005581 kWh. RAM Power : 11.756441116333008 W\n",
      "[codecarbon INFO @ 15:41:31] Energy consumed for all CPUs : 0.020178 kWh. Total CPU Power : 42.5 W\n",
      "[codecarbon INFO @ 15:41:31] Energy consumed for all GPUs : 0.045360 kWh. Total GPU Power : 95.8559617410567 W\n",
      "[codecarbon INFO @ 15:41:31] 0.071119 kWh of electricity used since the beginning.\n",
      "Processing: bus 2:  33%|███▎      | 303/932 [28:34<1:15:43,  7.22s/file]"
     ]
    },
    {
     "name": "stdout",
     "output_type": "stream",
     "text": [
      "Vehicle Prediction: minibus\n",
      "Validation Result: False\n"
     ]
    },
    {
     "name": "stderr",
     "output_type": "stream",
     "text": [
      "Processing: bus 2:  33%|███▎      | 304/932 [28:43<1:21:27,  7.78s/file]"
     ]
    },
    {
     "name": "stdout",
     "output_type": "stream",
     "text": [
      "Vehicle Prediction: minibus\n",
      "Validation Result: False\n"
     ]
    },
    {
     "name": "stderr",
     "output_type": "stream",
     "text": [
      "Processing: bus 2:  33%|███▎      | 305/932 [28:48<1:12:46,  6.96s/file]"
     ]
    },
    {
     "name": "stdout",
     "output_type": "stream",
     "text": [
      "Vehicle Prediction: bus\n",
      "Validation Result: True\n"
     ]
    },
    {
     "name": "stderr",
     "output_type": "stream",
     "text": [
      "[codecarbon INFO @ 15:41:46] Energy consumed for RAM : 0.005630 kWh. RAM Power : 11.756441116333008 W\n",
      "[codecarbon INFO @ 15:41:46] Energy consumed for all CPUs : 0.020355 kWh. Total CPU Power : 42.5 W\n",
      "[codecarbon INFO @ 15:41:46] Energy consumed for all GPUs : 0.045756 kWh. Total GPU Power : 95.12336389876559 W\n",
      "[codecarbon INFO @ 15:41:46] 0.071741 kWh of electricity used since the beginning.\n",
      "Processing: bus 2:  33%|███▎      | 306/932 [28:51<1:00:04,  5.76s/file]"
     ]
    },
    {
     "name": "stdout",
     "output_type": "stream",
     "text": [
      "Vehicle Prediction: bus\n",
      "Validation Result: True\n"
     ]
    },
    {
     "name": "stderr",
     "output_type": "stream",
     "text": [
      "Processing: bus 2:  33%|███▎      | 307/932 [29:00<1:10:19,  6.75s/file]"
     ]
    },
    {
     "name": "stdout",
     "output_type": "stream",
     "text": [
      "Vehicle Prediction: coach\n",
      "Validation Result: True\n"
     ]
    },
    {
     "name": "stderr",
     "output_type": "stream",
     "text": [
      "Processing: bus 2:  33%|███▎      | 308/932 [29:03<58:18,  5.61s/file]  "
     ]
    },
    {
     "name": "stdout",
     "output_type": "stream",
     "text": [
      "Vehicle Prediction: coach\n",
      "Validation Result: True\n"
     ]
    },
    {
     "name": "stderr",
     "output_type": "stream",
     "text": [
      "[codecarbon INFO @ 15:42:01] Energy consumed for RAM : 0.005679 kWh. RAM Power : 11.756441116333008 W\n",
      "[codecarbon INFO @ 15:42:01] Energy consumed for all CPUs : 0.020532 kWh. Total CPU Power : 42.5 W\n",
      "[codecarbon INFO @ 15:42:01] Energy consumed for all GPUs : 0.046154 kWh. Total GPU Power : 95.59722081809474 W\n",
      "[codecarbon INFO @ 15:42:01] 0.072365 kWh of electricity used since the beginning.\n",
      "Processing: bus 2:  33%|███▎      | 309/932 [29:06<49:52,  4.80s/file]"
     ]
    },
    {
     "name": "stdout",
     "output_type": "stream",
     "text": [
      "Vehicle Prediction: bus\n",
      "Validation Result: True\n"
     ]
    },
    {
     "name": "stderr",
     "output_type": "stream",
     "text": [
      "Processing: bus 2:  33%|███▎      | 310/932 [29:15<1:02:50,  6.06s/file]"
     ]
    },
    {
     "name": "stdout",
     "output_type": "stream",
     "text": [
      "Vehicle Prediction: bus\n",
      "Validation Result: True\n"
     ]
    },
    {
     "name": "stderr",
     "output_type": "stream",
     "text": [
      "Processing: bus 2:  33%|███▎      | 311/932 [29:18<53:02,  5.13s/file]  "
     ]
    },
    {
     "name": "stdout",
     "output_type": "stream",
     "text": [
      "Vehicle Prediction: bus\n",
      "Validation Result: True\n"
     ]
    },
    {
     "name": "stderr",
     "output_type": "stream",
     "text": [
      "[codecarbon INFO @ 15:42:16] Energy consumed for RAM : 0.005728 kWh. RAM Power : 11.756441116333008 W\n",
      "[codecarbon INFO @ 15:42:16] Energy consumed for all CPUs : 0.020709 kWh. Total CPU Power : 42.5 W\n",
      "[codecarbon INFO @ 15:42:16] Energy consumed for all GPUs : 0.046553 kWh. Total GPU Power : 95.88073782021856 W\n",
      "[codecarbon INFO @ 15:42:16] 0.072990 kWh of electricity used since the beginning.\n",
      "Processing: bus 2:  33%|███▎      | 312/932 [29:21<46:10,  4.47s/file]"
     ]
    },
    {
     "name": "stdout",
     "output_type": "stream",
     "text": [
      "Vehicle Prediction: minibus\n",
      "Validation Result: False\n"
     ]
    },
    {
     "name": "stderr",
     "output_type": "stream",
     "text": [
      "Processing: bus 2:  34%|███▎      | 313/932 [29:30<1:00:10,  5.83s/file]"
     ]
    },
    {
     "name": "stdout",
     "output_type": "stream",
     "text": [
      "Vehicle Prediction: coach\n",
      "Validation Result: True\n"
     ]
    },
    {
     "name": "stderr",
     "output_type": "stream",
     "text": [
      "Processing: bus 2:  34%|███▎      | 314/932 [29:33<51:06,  4.96s/file]  "
     ]
    },
    {
     "name": "stdout",
     "output_type": "stream",
     "text": [
      "Vehicle Prediction: bus\n",
      "Validation Result: True\n"
     ]
    },
    {
     "name": "stderr",
     "output_type": "stream",
     "text": [
      "[codecarbon INFO @ 15:42:31] Energy consumed for RAM : 0.005777 kWh. RAM Power : 11.756441116333008 W\n",
      "[codecarbon INFO @ 15:42:31] Energy consumed for all CPUs : 0.020886 kWh. Total CPU Power : 42.5 W\n",
      "[codecarbon INFO @ 15:42:31] Energy consumed for all GPUs : 0.046948 kWh. Total GPU Power : 94.8464771210052 W\n",
      "[codecarbon INFO @ 15:42:31] 0.073611 kWh of electricity used since the beginning.\n",
      "Processing: bus 2:  34%|███▍      | 315/932 [29:42<1:03:31,  6.18s/file]"
     ]
    },
    {
     "name": "stdout",
     "output_type": "stream",
     "text": [
      "Vehicle Prediction: bus\n",
      "Validation Result: True\n"
     ]
    },
    {
     "name": "stderr",
     "output_type": "stream",
     "text": [
      "[codecarbon INFO @ 15:42:46] Energy consumed for RAM : 0.005826 kWh. RAM Power : 11.756441116333008 W\n",
      "[codecarbon INFO @ 15:42:46] Energy consumed for all CPUs : 0.021063 kWh. Total CPU Power : 42.5 W\n",
      "[codecarbon INFO @ 15:42:46] Energy consumed for all GPUs : 0.047349 kWh. Total GPU Power : 96.20647654691834 W\n",
      "[codecarbon INFO @ 15:42:46] 0.074238 kWh of electricity used since the beginning.\n",
      "Processing: bus 2:  34%|███▍      | 316/932 [29:51<1:12:10,  7.03s/file]"
     ]
    },
    {
     "name": "stdout",
     "output_type": "stream",
     "text": [
      "Vehicle Prediction: bus\n",
      "Validation Result: True\n"
     ]
    },
    {
     "name": "stderr",
     "output_type": "stream",
     "text": [
      "Processing: bus 2:  34%|███▍      | 317/932 [29:54<59:26,  5.80s/file]  "
     ]
    },
    {
     "name": "stdout",
     "output_type": "stream",
     "text": [
      "Vehicle Prediction: bus\n",
      "Validation Result: True\n"
     ]
    },
    {
     "name": "stderr",
     "output_type": "stream",
     "text": [
      "Processing: bus 2:  34%|███▍      | 318/932 [29:57<50:31,  4.94s/file]"
     ]
    },
    {
     "name": "stdout",
     "output_type": "stream",
     "text": [
      "Vehicle Prediction: bus\n",
      "Validation Result: True\n"
     ]
    },
    {
     "name": "stderr",
     "output_type": "stream",
     "text": [
      "[codecarbon INFO @ 15:43:01] Energy consumed for RAM : 0.005875 kWh. RAM Power : 11.756441116333008 W\n",
      "[codecarbon INFO @ 15:43:01] Energy consumed for all CPUs : 0.021240 kWh. Total CPU Power : 42.5 W\n",
      "[codecarbon INFO @ 15:43:01] Energy consumed for all GPUs : 0.047747 kWh. Total GPU Power : 95.75872706100306 W\n",
      "[codecarbon INFO @ 15:43:01] 0.074862 kWh of electricity used since the beginning.\n",
      "[codecarbon INFO @ 15:43:01] 0.011877 g.CO2eq/s mean an estimation of 374.5483182502734 kg.CO2eq/year\n",
      "Processing: bus 2:  34%|███▍      | 319/932 [30:06<1:02:55,  6.16s/file]"
     ]
    },
    {
     "name": "stdout",
     "output_type": "stream",
     "text": [
      "Vehicle Prediction: bus\n",
      "Validation Result: True\n"
     ]
    },
    {
     "name": "stderr",
     "output_type": "stream",
     "text": [
      "Processing: bus 2:  34%|███▍      | 320/932 [30:09<52:57,  5.19s/file]  "
     ]
    },
    {
     "name": "stdout",
     "output_type": "stream",
     "text": [
      "Vehicle Prediction: minibus\n",
      "Validation Result: False\n"
     ]
    },
    {
     "name": "stderr",
     "output_type": "stream",
     "text": [
      "Processing: bus 2:  34%|███▍      | 321/932 [30:12<45:58,  4.52s/file]"
     ]
    },
    {
     "name": "stdout",
     "output_type": "stream",
     "text": [
      "Vehicle Prediction: bus\n",
      "Validation Result: True\n"
     ]
    },
    {
     "name": "stderr",
     "output_type": "stream",
     "text": [
      "[codecarbon INFO @ 15:43:16] Energy consumed for RAM : 0.005924 kWh. RAM Power : 11.756441116333008 W\n",
      "[codecarbon INFO @ 15:43:16] Energy consumed for all CPUs : 0.021417 kWh. Total CPU Power : 42.5 W\n",
      "[codecarbon INFO @ 15:43:16] Energy consumed for all GPUs : 0.048146 kWh. Total GPU Power : 95.63011495550853 W\n",
      "[codecarbon INFO @ 15:43:16] 0.075487 kWh of electricity used since the beginning.\n",
      "Processing: bus 2:  35%|███▍      | 322/932 [30:21<59:41,  5.87s/file]"
     ]
    },
    {
     "name": "stdout",
     "output_type": "stream",
     "text": [
      "Vehicle Prediction: minibus\n",
      "Validation Result: False\n"
     ]
    },
    {
     "name": "stderr",
     "output_type": "stream",
     "text": [
      "Processing: bus 2:  35%|███▍      | 323/932 [30:24<50:39,  4.99s/file]"
     ]
    },
    {
     "name": "stdout",
     "output_type": "stream",
     "text": [
      "Vehicle Prediction: minibus\n",
      "Validation Result: False\n"
     ]
    },
    {
     "name": "stderr",
     "output_type": "stream",
     "text": [
      "Processing: bus 2:  35%|███▍      | 324/932 [30:33<1:02:52,  6.20s/file]"
     ]
    },
    {
     "name": "stdout",
     "output_type": "stream",
     "text": [
      "Vehicle Prediction: bus\n",
      "Validation Result: True\n"
     ]
    },
    {
     "name": "stderr",
     "output_type": "stream",
     "text": [
      "[codecarbon INFO @ 15:43:31] Energy consumed for RAM : 0.005973 kWh. RAM Power : 11.756441116333008 W\n",
      "[codecarbon INFO @ 15:43:31] Energy consumed for all CPUs : 0.021594 kWh. Total CPU Power : 42.5 W\n",
      "[codecarbon INFO @ 15:43:31] Energy consumed for all GPUs : 0.048541 kWh. Total GPU Power : 94.9105990912331 W\n",
      "[codecarbon INFO @ 15:43:31] 0.076108 kWh of electricity used since the beginning.\n",
      "Processing: bus 2:  35%|███▍      | 325/932 [30:38<59:11,  5.85s/file]  "
     ]
    },
    {
     "name": "stdout",
     "output_type": "stream",
     "text": [
      "Vehicle Prediction: bus\n",
      "Validation Result: True\n"
     ]
    },
    {
     "name": "stderr",
     "output_type": "stream",
     "text": [
      "Processing: bus 2:  35%|███▍      | 326/932 [30:43<56:38,  5.61s/file]"
     ]
    },
    {
     "name": "stdout",
     "output_type": "stream",
     "text": [
      "Vehicle Prediction: bus\n",
      "Validation Result: True\n"
     ]
    },
    {
     "name": "stderr",
     "output_type": "stream",
     "text": [
      "Processing: bus 2:  35%|███▌      | 327/932 [30:46<48:29,  4.81s/file]"
     ]
    },
    {
     "name": "stdout",
     "output_type": "stream",
     "text": [
      "Vehicle Prediction: bus\n",
      "Validation Result: True\n"
     ]
    },
    {
     "name": "stderr",
     "output_type": "stream",
     "text": [
      "[codecarbon INFO @ 15:43:46] Energy consumed for RAM : 0.006022 kWh. RAM Power : 11.756441116333008 W\n",
      "[codecarbon INFO @ 15:43:46] Energy consumed for all CPUs : 0.021771 kWh. Total CPU Power : 42.5 W\n",
      "[codecarbon INFO @ 15:43:46] Energy consumed for all GPUs : 0.048942 kWh. Total GPU Power : 96.30239418354469 W\n",
      "[codecarbon INFO @ 15:43:46] 0.076735 kWh of electricity used since the beginning.\n",
      "Processing: bus 2:  35%|███▌      | 328/932 [30:55<1:01:15,  6.09s/file]"
     ]
    },
    {
     "name": "stdout",
     "output_type": "stream",
     "text": [
      "Vehicle Prediction: bus\n",
      "Validation Result: True\n"
     ]
    },
    {
     "name": "stderr",
     "output_type": "stream",
     "text": [
      "Processing: bus 2:  35%|███▌      | 329/932 [30:58<51:49,  5.16s/file]  "
     ]
    },
    {
     "name": "stdout",
     "output_type": "stream",
     "text": [
      "Vehicle Prediction: bus\n",
      "Validation Result: True\n"
     ]
    },
    {
     "name": "stderr",
     "output_type": "stream",
     "text": [
      "[codecarbon INFO @ 15:44:01] Energy consumed for RAM : 0.006071 kWh. RAM Power : 11.756441116333008 W\n",
      "[codecarbon INFO @ 15:44:01] Energy consumed for all CPUs : 0.021948 kWh. Total CPU Power : 42.5 W\n",
      "[codecarbon INFO @ 15:44:01] Energy consumed for all GPUs : 0.049340 kWh. Total GPU Power : 95.63027708480678 W\n",
      "[codecarbon INFO @ 15:44:01] 0.077359 kWh of electricity used since the beginning.\n",
      "Processing: bus 2:  35%|███▌      | 330/932 [31:07<1:03:36,  6.34s/file]"
     ]
    },
    {
     "name": "stdout",
     "output_type": "stream",
     "text": [
      "Vehicle Prediction: bus\n",
      "Validation Result: True\n"
     ]
    },
    {
     "name": "stderr",
     "output_type": "stream",
     "text": [
      "Processing: bus 2:  36%|███▌      | 331/932 [31:16<1:11:50,  7.17s/file]"
     ]
    },
    {
     "name": "stdout",
     "output_type": "stream",
     "text": [
      "Vehicle Prediction: coach\n",
      "Validation Result: True\n"
     ]
    },
    {
     "name": "stderr",
     "output_type": "stream",
     "text": [
      "[codecarbon INFO @ 15:44:16] Energy consumed for RAM : 0.006120 kWh. RAM Power : 11.756441116333008 W\n",
      "[codecarbon INFO @ 15:44:16] Energy consumed for all CPUs : 0.022125 kWh. Total CPU Power : 42.5 W\n",
      "[codecarbon INFO @ 15:44:16] Energy consumed for all GPUs : 0.049736 kWh. Total GPU Power : 94.88299800120623 W\n",
      "[codecarbon INFO @ 15:44:16] 0.077981 kWh of electricity used since the beginning.\n",
      "Processing: bus 2:  36%|███▌      | 332/932 [31:25<1:17:22,  7.74s/file]"
     ]
    },
    {
     "name": "stdout",
     "output_type": "stream",
     "text": [
      "Vehicle Prediction: coach\n",
      "Validation Result: True\n"
     ]
    },
    {
     "name": "stderr",
     "output_type": "stream",
     "text": [
      "[codecarbon INFO @ 15:44:31] Energy consumed for RAM : 0.006169 kWh. RAM Power : 11.756441116333008 W\n",
      "[codecarbon INFO @ 15:44:31] Energy consumed for all CPUs : 0.022302 kWh. Total CPU Power : 42.5 W\n",
      "[codecarbon INFO @ 15:44:31] Energy consumed for all GPUs : 0.050133 kWh. Total GPU Power : 95.46679949676158 W\n",
      "[codecarbon INFO @ 15:44:31] 0.078604 kWh of electricity used since the beginning.\n",
      "Processing: bus 2:  36%|███▌      | 333/932 [31:34<1:21:04,  8.12s/file]"
     ]
    },
    {
     "name": "stdout",
     "output_type": "stream",
     "text": [
      "Vehicle Prediction: coach\n",
      "Validation Result: True\n"
     ]
    },
    {
     "name": "stderr",
     "output_type": "stream",
     "text": [
      "Processing: bus 2:  36%|███▌      | 334/932 [31:39<1:11:40,  7.19s/file]"
     ]
    },
    {
     "name": "stdout",
     "output_type": "stream",
     "text": [
      "Vehicle Prediction: coach\n",
      "Validation Result: True\n"
     ]
    },
    {
     "name": "stderr",
     "output_type": "stream",
     "text": [
      "Processing: bus 2:  36%|███▌      | 335/932 [31:48<1:17:08,  7.75s/file]"
     ]
    },
    {
     "name": "stdout",
     "output_type": "stream",
     "text": [
      "Vehicle Prediction: coach\n",
      "Validation Result: True\n"
     ]
    },
    {
     "name": "stderr",
     "output_type": "stream",
     "text": [
      "[codecarbon INFO @ 15:44:46] Energy consumed for RAM : 0.006218 kWh. RAM Power : 11.756441116333008 W\n",
      "[codecarbon INFO @ 15:44:46] Energy consumed for all CPUs : 0.022479 kWh. Total CPU Power : 42.5 W\n",
      "[codecarbon INFO @ 15:44:46] Energy consumed for all GPUs : 0.050530 kWh. Total GPU Power : 95.29011328029831 W\n",
      "[codecarbon INFO @ 15:44:46] 0.079227 kWh of electricity used since the beginning.\n",
      "Processing: bus 2:  36%|███▌      | 336/932 [31:57<1:20:50,  8.14s/file]"
     ]
    },
    {
     "name": "stdout",
     "output_type": "stream",
     "text": [
      "Vehicle Prediction: bus\n",
      "Validation Result: True\n"
     ]
    },
    {
     "name": "stderr",
     "output_type": "stream",
     "text": [
      "[codecarbon INFO @ 15:45:01] Energy consumed for RAM : 0.006266 kWh. RAM Power : 11.756441116333008 W\n",
      "[codecarbon INFO @ 15:45:01] Energy consumed for all CPUs : 0.022656 kWh. Total CPU Power : 42.5 W\n",
      "[codecarbon INFO @ 15:45:01] Energy consumed for all GPUs : 0.050930 kWh. Total GPU Power : 95.95067675153092 W\n",
      "[codecarbon INFO @ 15:45:01] 0.079853 kWh of electricity used since the beginning.\n",
      "[codecarbon INFO @ 15:45:01] 0.011872 g.CO2eq/s mean an estimation of 374.4088771976178 kg.CO2eq/year\n",
      "Processing: bus 2:  36%|███▌      | 337/932 [32:06<1:23:25,  8.41s/file]"
     ]
    },
    {
     "name": "stdout",
     "output_type": "stream",
     "text": [
      "Vehicle Prediction: bus\n",
      "Validation Result: True\n"
     ]
    },
    {
     "name": "stderr",
     "output_type": "stream",
     "text": [
      "Processing: bus 2:  36%|███▋      | 338/932 [32:11<1:13:11,  7.39s/file]"
     ]
    },
    {
     "name": "stdout",
     "output_type": "stream",
     "text": [
      "Vehicle Prediction: bus\n",
      "Validation Result: True\n"
     ]
    },
    {
     "name": "stderr",
     "output_type": "stream",
     "text": [
      "Processing: bus 2:  36%|███▋      | 339/932 [32:14<59:52,  6.06s/file]  "
     ]
    },
    {
     "name": "stdout",
     "output_type": "stream",
     "text": [
      "Vehicle Prediction: bus\n",
      "Validation Result: True\n"
     ]
    },
    {
     "name": "stderr",
     "output_type": "stream",
     "text": [
      "[codecarbon INFO @ 15:45:16] Energy consumed for RAM : 0.006315 kWh. RAM Power : 11.756441116333008 W\n",
      "[codecarbon INFO @ 15:45:16] Energy consumed for all CPUs : 0.022833 kWh. Total CPU Power : 42.5 W\n",
      "[codecarbon INFO @ 15:45:16] Energy consumed for all GPUs : 0.051328 kWh. Total GPU Power : 95.7081360814854 W\n",
      "[codecarbon INFO @ 15:45:16] 0.080477 kWh of electricity used since the beginning.\n",
      "Processing: bus 2:  36%|███▋      | 340/932 [32:23<1:08:41,  6.96s/file]"
     ]
    },
    {
     "name": "stdout",
     "output_type": "stream",
     "text": [
      "Vehicle Prediction: coach\n",
      "Validation Result: True\n"
     ]
    },
    {
     "name": "stderr",
     "output_type": "stream",
     "text": [
      "Processing: bus 2:  37%|███▋      | 341/932 [32:26<56:41,  5.76s/file]  "
     ]
    },
    {
     "name": "stdout",
     "output_type": "stream",
     "text": [
      "Vehicle Prediction: coach\n",
      "Validation Result: True\n"
     ]
    },
    {
     "name": "stderr",
     "output_type": "stream",
     "text": [
      "Processing: bus 2:  37%|███▋      | 342/932 [32:29<48:17,  4.91s/file]"
     ]
    },
    {
     "name": "stdout",
     "output_type": "stream",
     "text": [
      "Vehicle Prediction: minibus\n",
      "Validation Result: False\n"
     ]
    },
    {
     "name": "stderr",
     "output_type": "stream",
     "text": [
      "[codecarbon INFO @ 15:45:31] Energy consumed for RAM : 0.006364 kWh. RAM Power : 11.756441116333008 W\n",
      "[codecarbon INFO @ 15:45:31] Energy consumed for all CPUs : 0.023010 kWh. Total CPU Power : 42.5 W\n",
      "[codecarbon INFO @ 15:45:31] Energy consumed for all GPUs : 0.051725 kWh. Total GPU Power : 95.1713297879873 W\n",
      "[codecarbon INFO @ 15:45:31] 0.081100 kWh of electricity used since the beginning.\n",
      "Processing: bus 2:  37%|███▋      | 343/932 [32:34<48:31,  4.94s/file]"
     ]
    },
    {
     "name": "stdout",
     "output_type": "stream",
     "text": [
      "Vehicle Prediction: coach\n",
      "Validation Result: True\n"
     ]
    },
    {
     "name": "stderr",
     "output_type": "stream",
     "text": [
      "Processing: Class 2 - Car, SUV, Station Wagons:  37%|███▋      | 344/932 [32:43<1:00:36,  6.18s/file]"
     ]
    },
    {
     "name": "stdout",
     "output_type": "stream",
     "text": [
      "Vehicle Prediction: coach\n",
      "Validation Result: True\n"
     ]
    },
    {
     "name": "stderr",
     "output_type": "stream",
     "text": [
      "Processing: Class 2 - Car, SUV, Station Wagons:  37%|███▋      | 345/932 [32:48<57:08,  5.84s/file]  "
     ]
    },
    {
     "name": "stdout",
     "output_type": "stream",
     "text": [
      "Vehicle Prediction: hatchback\n",
      "Validation Result: True\n"
     ]
    },
    {
     "name": "stderr",
     "output_type": "stream",
     "text": [
      "[codecarbon INFO @ 15:45:46] Energy consumed for RAM : 0.006413 kWh. RAM Power : 11.756441116333008 W\n",
      "[codecarbon INFO @ 15:45:46] Energy consumed for all CPUs : 0.023187 kWh. Total CPU Power : 42.5 W\n",
      "[codecarbon INFO @ 15:45:46] Energy consumed for all GPUs : 0.052123 kWh. Total GPU Power : 95.57069254283732 W\n",
      "[codecarbon INFO @ 15:45:46] 0.081724 kWh of electricity used since the beginning.\n",
      "Processing: Class 2 - Car, SUV, Station Wagons:  37%|███▋      | 346/932 [32:54<54:42,  5.60s/file]"
     ]
    },
    {
     "name": "stdout",
     "output_type": "stream",
     "text": [
      "Vehicle Prediction: hatchback\n",
      "Validation Result: True\n"
     ]
    },
    {
     "name": "stderr",
     "output_type": "stream",
     "text": [
      "Processing: Class 2 - Car, SUV, Station Wagons:  37%|███▋      | 347/932 [32:58<51:33,  5.29s/file]"
     ]
    },
    {
     "name": "stdout",
     "output_type": "stream",
     "text": [
      "Vehicle Prediction: suv\n",
      "Validation Result: True\n"
     ]
    },
    {
     "name": "stderr",
     "output_type": "stream",
     "text": [
      "Processing: Class 2 - Car, SUV, Station Wagons:  37%|███▋      | 348/932 [33:03<49:19,  5.07s/file]"
     ]
    },
    {
     "name": "stdout",
     "output_type": "stream",
     "text": [
      "Vehicle Prediction: wagon\n",
      "Validation Result: True\n"
     ]
    },
    {
     "name": "stderr",
     "output_type": "stream",
     "text": [
      "[codecarbon INFO @ 15:46:01] Energy consumed for RAM : 0.006462 kWh. RAM Power : 11.756441116333008 W\n",
      "[codecarbon INFO @ 15:46:01] Energy consumed for all CPUs : 0.023364 kWh. Total CPU Power : 42.5 W\n",
      "[codecarbon INFO @ 15:46:01] Energy consumed for all GPUs : 0.052519 kWh. Total GPU Power : 95.06777313619494 W\n",
      "[codecarbon INFO @ 15:46:01] 0.082346 kWh of electricity used since the beginning.\n",
      "Processing: Class 2 - Car, SUV, Station Wagons:  37%|███▋      | 349/932 [33:12<1:00:57,  6.27s/file]"
     ]
    },
    {
     "name": "stdout",
     "output_type": "stream",
     "text": [
      "Vehicle Prediction: hatchback\n",
      "Validation Result: True\n"
     ]
    },
    {
     "name": "stderr",
     "output_type": "stream",
     "text": [
      "Processing: Class 2 - Car, SUV, Station Wagons:  38%|███▊      | 350/932 [33:16<55:58,  5.77s/file]  "
     ]
    },
    {
     "name": "stdout",
     "output_type": "stream",
     "text": [
      "Vehicle Prediction: suv\n",
      "Validation Result: True\n"
     ]
    },
    {
     "name": "stderr",
     "output_type": "stream",
     "text": [
      "[codecarbon INFO @ 15:46:16] Energy consumed for RAM : 0.006511 kWh. RAM Power : 11.756441116333008 W\n",
      "[codecarbon INFO @ 15:46:16] Energy consumed for all CPUs : 0.023541 kWh. Total CPU Power : 42.5 W\n",
      "[codecarbon INFO @ 15:46:16] Energy consumed for all GPUs : 0.052919 kWh. Total GPU Power : 95.99267583648037 W\n",
      "[codecarbon INFO @ 15:46:16] 0.082971 kWh of electricity used since the beginning.\n",
      "Processing: Class 2 - Car, SUV, Station Wagons:  38%|███▊      | 351/932 [33:21<53:41,  5.54s/file]"
     ]
    },
    {
     "name": "stdout",
     "output_type": "stream",
     "text": [
      "Vehicle Prediction: coupe\n",
      "Validation Result: True\n"
     ]
    },
    {
     "name": "stderr",
     "output_type": "stream",
     "text": [
      "Processing: Class 2 - Car, SUV, Station Wagons:  38%|███▊      | 352/932 [33:30<1:03:47,  6.60s/file]"
     ]
    },
    {
     "name": "stdout",
     "output_type": "stream",
     "text": [
      "Vehicle Prediction: suv\n",
      "Validation Result: True\n"
     ]
    },
    {
     "name": "stderr",
     "output_type": "stream",
     "text": [
      "[codecarbon INFO @ 15:46:31] Energy consumed for RAM : 0.006560 kWh. RAM Power : 11.756441116333008 W\n",
      "[codecarbon INFO @ 15:46:31] Energy consumed for all CPUs : 0.023718 kWh. Total CPU Power : 42.5 W\n",
      "[codecarbon INFO @ 15:46:31] Energy consumed for all GPUs : 0.053321 kWh. Total GPU Power : 96.49939729716647 W\n",
      "[codecarbon INFO @ 15:46:31] 0.083599 kWh of electricity used since the beginning.\n",
      "Processing: Class 2 - Car, SUV, Station Wagons:  38%|███▊      | 353/932 [33:39<1:10:47,  7.34s/file]"
     ]
    },
    {
     "name": "stdout",
     "output_type": "stream",
     "text": [
      "Vehicle Prediction: coupe\n",
      "Validation Result: True\n"
     ]
    },
    {
     "name": "stderr",
     "output_type": "stream",
     "text": [
      "Processing: Class 2 - Car, SUV, Station Wagons:  38%|███▊      | 354/932 [33:49<1:15:45,  7.86s/file]"
     ]
    },
    {
     "name": "stdout",
     "output_type": "stream",
     "text": [
      "Vehicle Prediction: car\n",
      "Validation Result: True\n"
     ]
    },
    {
     "name": "stderr",
     "output_type": "stream",
     "text": [
      "[codecarbon INFO @ 15:46:46] Energy consumed for RAM : 0.006609 kWh. RAM Power : 11.756441116333008 W\n",
      "[codecarbon INFO @ 15:46:46] Energy consumed for all CPUs : 0.023895 kWh. Total CPU Power : 42.5 W\n",
      "[codecarbon INFO @ 15:46:46] Energy consumed for all GPUs : 0.053718 kWh. Total GPU Power : 95.46836085480402 W\n",
      "[codecarbon INFO @ 15:46:46] 0.084223 kWh of electricity used since the beginning.\n",
      "Processing: Class 2 - Car, SUV, Station Wagons:  38%|███▊      | 355/932 [33:52<1:01:30,  6.40s/file]"
     ]
    },
    {
     "name": "stdout",
     "output_type": "stream",
     "text": [
      "Vehicle Prediction: coupe\n",
      "Validation Result: True\n"
     ]
    },
    {
     "name": "stderr",
     "output_type": "stream",
     "text": [
      "Processing: Class 2 - Car, SUV, Station Wagons:  38%|███▊      | 356/932 [34:01<1:09:08,  7.20s/file]"
     ]
    },
    {
     "name": "stdout",
     "output_type": "stream",
     "text": [
      "Vehicle Prediction: stationwagon\n",
      "Validation Result: False\n"
     ]
    },
    {
     "name": "stderr",
     "output_type": "stream",
     "text": [
      "[codecarbon INFO @ 15:47:01] Energy consumed for RAM : 0.006658 kWh. RAM Power : 11.756441116333008 W\n",
      "[codecarbon INFO @ 15:47:01] Energy consumed for all CPUs : 0.024072 kWh. Total CPU Power : 42.5 W\n",
      "[codecarbon INFO @ 15:47:01] Energy consumed for all GPUs : 0.054115 kWh. Total GPU Power : 95.31413658955584 W\n",
      "[codecarbon INFO @ 15:47:01] 0.084846 kWh of electricity used since the beginning.\n",
      "[codecarbon INFO @ 15:47:01] 0.011879 g.CO2eq/s mean an estimation of 374.63149298354574 kg.CO2eq/year\n",
      "Processing: Class 2 - Car, SUV, Station Wagons:  38%|███▊      | 357/932 [34:10<1:14:32,  7.78s/file]"
     ]
    },
    {
     "name": "stdout",
     "output_type": "stream",
     "text": [
      "Vehicle Prediction: hatchback\n",
      "Validation Result: True\n"
     ]
    },
    {
     "name": "stderr",
     "output_type": "stream",
     "text": [
      "Processing: Class 2 - Car, SUV, Station Wagons:  38%|███▊      | 358/932 [34:15<1:06:34,  6.96s/file]"
     ]
    },
    {
     "name": "stdout",
     "output_type": "stream",
     "text": [
      "Vehicle Prediction: hatchback\n",
      "Validation Result: True\n"
     ]
    },
    {
     "name": "stderr",
     "output_type": "stream",
     "text": [
      "[codecarbon INFO @ 15:47:16] Energy consumed for RAM : 0.006707 kWh. RAM Power : 11.756441116333008 W\n",
      "[codecarbon INFO @ 15:47:16] Energy consumed for all CPUs : 0.024249 kWh. Total CPU Power : 42.5 W\n",
      "[codecarbon INFO @ 15:47:16] Energy consumed for all GPUs : 0.054513 kWh. Total GPU Power : 95.4686949708508 W\n",
      "[codecarbon INFO @ 15:47:16] 0.085469 kWh of electricity used since the beginning.\n",
      "Processing: Class 2 - Car, SUV, Station Wagons:  39%|███▊      | 359/932 [34:21<1:03:49,  6.68s/file]"
     ]
    },
    {
     "name": "stdout",
     "output_type": "stream",
     "text": [
      "Vehicle Prediction: hatchback\n",
      "Validation Result: True\n"
     ]
    },
    {
     "name": "stderr",
     "output_type": "stream",
     "text": [
      "Processing: Class 2 - Car, SUV, Station Wagons:  39%|███▊      | 360/932 [34:25<57:43,  6.06s/file]  "
     ]
    },
    {
     "name": "stdout",
     "output_type": "stream",
     "text": [
      "Vehicle Prediction: coupe\n",
      "Validation Result: True\n"
     ]
    },
    {
     "name": "stderr",
     "output_type": "stream",
     "text": [
      "Processing: Class 2 - Car, SUV, Station Wagons:  39%|███▊      | 361/932 [34:30<54:43,  5.75s/file]"
     ]
    },
    {
     "name": "stdout",
     "output_type": "stream",
     "text": [
      "Vehicle Prediction: hatchback\n",
      "Validation Result: True\n"
     ]
    },
    {
     "name": "stderr",
     "output_type": "stream",
     "text": [
      "Processing: Class 2 - Car, SUV, Station Wagons:  39%|███▉      | 362/932 [34:33<46:39,  4.91s/file]"
     ]
    },
    {
     "name": "stdout",
     "output_type": "stream",
     "text": [
      "Vehicle Prediction: station wagon\n",
      "Validation Result: True\n"
     ]
    },
    {
     "name": "stderr",
     "output_type": "stream",
     "text": [
      "[codecarbon INFO @ 15:47:31] Energy consumed for RAM : 0.006756 kWh. RAM Power : 11.756441116333008 W\n",
      "[codecarbon INFO @ 15:47:31] Energy consumed for all CPUs : 0.024426 kWh. Total CPU Power : 42.5 W\n",
      "[codecarbon INFO @ 15:47:31] Energy consumed for all GPUs : 0.054909 kWh. Total GPU Power : 95.13291019244693 W\n",
      "[codecarbon INFO @ 15:47:31] 0.086092 kWh of electricity used since the beginning.\n",
      "Processing: Class 2 - Car, SUV, Station Wagons:  39%|███▉      | 363/932 [34:38<46:57,  4.95s/file]"
     ]
    },
    {
     "name": "stdout",
     "output_type": "stream",
     "text": [
      "Vehicle Prediction: coupe\n",
      "Validation Result: True\n"
     ]
    },
    {
     "name": "stderr",
     "output_type": "stream",
     "text": [
      "Processing: Class 2 - Car, SUV, Station Wagons:  39%|███▉      | 364/932 [34:41<41:11,  4.35s/file]"
     ]
    },
    {
     "name": "stdout",
     "output_type": "stream",
     "text": [
      "Vehicle Prediction: suv\n",
      "Validation Result: True\n"
     ]
    },
    {
     "name": "stderr",
     "output_type": "stream",
     "text": [
      "[codecarbon INFO @ 15:47:46] Energy consumed for RAM : 0.006805 kWh. RAM Power : 11.756441116333008 W\n",
      "[codecarbon INFO @ 15:47:46] Energy consumed for all CPUs : 0.024603 kWh. Total CPU Power : 42.5 W\n",
      "[codecarbon INFO @ 15:47:46] Energy consumed for all GPUs : 0.055307 kWh. Total GPU Power : 95.44842897171712 W\n",
      "[codecarbon INFO @ 15:47:46] 0.086715 kWh of electricity used since the beginning.\n",
      "Processing: Class 2 - Car, SUV, Station Wagons:  39%|███▉      | 365/932 [34:50<54:33,  5.77s/file]"
     ]
    },
    {
     "name": "stdout",
     "output_type": "stream",
     "text": [
      "Vehicle Prediction: coupe\n",
      "Validation Result: True\n"
     ]
    },
    {
     "name": "stderr",
     "output_type": "stream",
     "text": [
      "Processing: Class 2 - Car, SUV, Station Wagons:  39%|███▉      | 366/932 [34:55<52:18,  5.55s/file]"
     ]
    },
    {
     "name": "stdout",
     "output_type": "stream",
     "text": [
      "Vehicle Prediction: suv\n",
      "Validation Result: True\n"
     ]
    },
    {
     "name": "stderr",
     "output_type": "stream",
     "text": [
      "Processing: Class 2 - Car, SUV, Station Wagons:  39%|███▉      | 367/932 [34:58<44:49,  4.76s/file]"
     ]
    },
    {
     "name": "stdout",
     "output_type": "stream",
     "text": [
      "Vehicle Prediction: car\n",
      "Validation Result: True\n"
     ]
    },
    {
     "name": "stderr",
     "output_type": "stream",
     "text": [
      "Processing: Class 2 - Car, SUV, Station Wagons:  39%|███▉      | 368/932 [35:01<39:34,  4.21s/file]"
     ]
    },
    {
     "name": "stdout",
     "output_type": "stream",
     "text": [
      "Vehicle Prediction: suv\n",
      "Validation Result: True\n"
     ]
    },
    {
     "name": "stderr",
     "output_type": "stream",
     "text": [
      "[codecarbon INFO @ 15:48:01] Energy consumed for RAM : 0.006854 kWh. RAM Power : 11.756441116333008 W\n",
      "[codecarbon INFO @ 15:48:01] Energy consumed for all CPUs : 0.024780 kWh. Total CPU Power : 42.5 W\n",
      "[codecarbon INFO @ 15:48:01] Energy consumed for all GPUs : 0.055704 kWh. Total GPU Power : 95.38532075687367 W\n",
      "[codecarbon INFO @ 15:48:01] 0.087338 kWh of electricity used since the beginning.\n",
      "Processing: Class 2 - Car, SUV, Station Wagons:  40%|███▉      | 369/932 [35:04<35:56,  3.83s/file]"
     ]
    },
    {
     "name": "stdout",
     "output_type": "stream",
     "text": [
      "Vehicle Prediction: coupe\n",
      "Validation Result: True\n"
     ]
    },
    {
     "name": "stderr",
     "output_type": "stream",
     "text": [
      "Processing: Class 2 - Car, SUV, Station Wagons:  40%|███▉      | 370/932 [35:08<35:32,  3.79s/file]"
     ]
    },
    {
     "name": "stdout",
     "output_type": "stream",
     "text": [
      "Vehicle Prediction: suv\n",
      "Validation Result: True\n"
     ]
    },
    {
     "name": "stderr",
     "output_type": "stream",
     "text": [
      "Processing: Class 2 - Car, SUV, Station Wagons:  40%|███▉      | 371/932 [35:13<38:52,  4.16s/file]"
     ]
    },
    {
     "name": "stdout",
     "output_type": "stream",
     "text": [
      "Vehicle Prediction: hatchback\n",
      "Validation Result: True\n"
     ]
    },
    {
     "name": "stderr",
     "output_type": "stream",
     "text": [
      "[codecarbon INFO @ 15:48:16] Energy consumed for RAM : 0.006903 kWh. RAM Power : 11.756441116333008 W\n",
      "[codecarbon INFO @ 15:48:16] Energy consumed for all CPUs : 0.024957 kWh. Total CPU Power : 42.5 W\n",
      "[codecarbon INFO @ 15:48:16] Energy consumed for all GPUs : 0.056105 kWh. Total GPU Power : 96.25418340120711 W\n",
      "[codecarbon INFO @ 15:48:16] 0.087965 kWh of electricity used since the beginning.\n",
      "Processing: Class 2 - Car, SUV, Station Wagons:  40%|███▉      | 372/932 [35:22<52:23,  5.61s/file]"
     ]
    },
    {
     "name": "stdout",
     "output_type": "stream",
     "text": [
      "Vehicle Prediction: hatchback\n",
      "Validation Result: True\n"
     ]
    },
    {
     "name": "stderr",
     "output_type": "stream",
     "text": [
      "Processing: Class 2 - Car, SUV, Station Wagons:  40%|████      | 373/932 [35:26<46:56,  5.04s/file]"
     ]
    },
    {
     "name": "stdout",
     "output_type": "stream",
     "text": [
      "Vehicle Prediction: stationwagon\n",
      "Validation Result: False\n"
     ]
    },
    {
     "name": "stderr",
     "output_type": "stream",
     "text": [
      "Processing: Class 2 - Car, SUV, Station Wagons:  40%|████      | 374/932 [35:29<40:58,  4.41s/file]"
     ]
    },
    {
     "name": "stdout",
     "output_type": "stream",
     "text": [
      "Vehicle Prediction: suv\n",
      "Validation Result: True\n"
     ]
    },
    {
     "name": "stderr",
     "output_type": "stream",
     "text": [
      "[codecarbon INFO @ 15:48:31] Energy consumed for RAM : 0.006952 kWh. RAM Power : 11.756441116333008 W\n",
      "[codecarbon INFO @ 15:48:31] Energy consumed for all CPUs : 0.025134 kWh. Total CPU Power : 42.5 W\n",
      "[codecarbon INFO @ 15:48:31] Energy consumed for all GPUs : 0.056505 kWh. Total GPU Power : 96.01946792035992 W\n",
      "[codecarbon INFO @ 15:48:31] 0.088591 kWh of electricity used since the beginning.\n",
      "Processing: Class 2 - Car, SUV, Station Wagons:  40%|████      | 375/932 [35:38<53:47,  5.79s/file]"
     ]
    },
    {
     "name": "stdout",
     "output_type": "stream",
     "text": [
      "Vehicle Prediction: coupe\n",
      "Validation Result: True\n"
     ]
    },
    {
     "name": "stderr",
     "output_type": "stream",
     "text": [
      "Processing: Class 2 - Car, SUV, Station Wagons:  40%|████      | 376/932 [35:43<51:31,  5.56s/file]"
     ]
    },
    {
     "name": "stdout",
     "output_type": "stream",
     "text": [
      "Vehicle Prediction: coupe\n",
      "Validation Result: True\n"
     ]
    },
    {
     "name": "stderr",
     "output_type": "stream",
     "text": [
      "[codecarbon INFO @ 15:48:46] Energy consumed for RAM : 0.007001 kWh. RAM Power : 11.756441116333008 W\n",
      "[codecarbon INFO @ 15:48:46] Energy consumed for all CPUs : 0.025311 kWh. Total CPU Power : 42.5 W\n",
      "[codecarbon INFO @ 15:48:46] Energy consumed for all GPUs : 0.056904 kWh. Total GPU Power : 95.78875757761563 W\n",
      "[codecarbon INFO @ 15:48:46] 0.089216 kWh of electricity used since the beginning.\n",
      "Processing: Class 2 - Car, SUV, Station Wagons:  40%|████      | 377/932 [35:52<1:01:02,  6.60s/file]"
     ]
    },
    {
     "name": "stdout",
     "output_type": "stream",
     "text": [
      "Vehicle Prediction: hatchback\n",
      "Validation Result: True\n"
     ]
    },
    {
     "name": "stderr",
     "output_type": "stream",
     "text": [
      "Processing: Class 2 - Car, SUV, Station Wagons:  41%|████      | 378/932 [35:55<50:50,  5.51s/file]  "
     ]
    },
    {
     "name": "stdout",
     "output_type": "stream",
     "text": [
      "Vehicle Prediction: stationwagon\n",
      "Validation Result: False\n"
     ]
    },
    {
     "name": "stderr",
     "output_type": "stream",
     "text": [
      "Processing: Class 2 - Car, SUV, Station Wagons:  41%|████      | 379/932 [36:04<1:00:31,  6.57s/file]"
     ]
    },
    {
     "name": "stdout",
     "output_type": "stream",
     "text": [
      "Vehicle Prediction: hatchback\n",
      "Validation Result: True\n"
     ]
    },
    {
     "name": "stderr",
     "output_type": "stream",
     "text": [
      "[codecarbon INFO @ 15:49:01] Energy consumed for RAM : 0.007050 kWh. RAM Power : 11.756441116333008 W\n",
      "[codecarbon INFO @ 15:49:01] Energy consumed for all CPUs : 0.025488 kWh. Total CPU Power : 42.5 W\n",
      "[codecarbon INFO @ 15:49:01] Energy consumed for all GPUs : 0.057300 kWh. Total GPU Power : 95.1719346682286 W\n",
      "[codecarbon INFO @ 15:49:01] 0.089838 kWh of electricity used since the beginning.\n",
      "[codecarbon INFO @ 15:49:01] 0.011878 g.CO2eq/s mean an estimation of 374.5882126767055 kg.CO2eq/year\n",
      "Processing: Class 2 - Car, SUV, Station Wagons:  41%|████      | 380/932 [36:09<56:09,  6.10s/file]  "
     ]
    },
    {
     "name": "stdout",
     "output_type": "stream",
     "text": [
      "Vehicle Prediction: hatchback\n",
      "Validation Result: True\n"
     ]
    },
    {
     "name": "stderr",
     "output_type": "stream",
     "text": [
      "Processing: Class 2 - Car, SUV, Station Wagons:  41%|████      | 381/932 [36:14<53:07,  5.78s/file]"
     ]
    },
    {
     "name": "stdout",
     "output_type": "stream",
     "text": [
      "Vehicle Prediction: suv\n",
      "Validation Result: True\n"
     ]
    },
    {
     "name": "stderr",
     "output_type": "stream",
     "text": [
      "Processing: Class 2 - Car, SUV, Station Wagons:  41%|████      | 382/932 [36:18<49:50,  5.44s/file]"
     ]
    },
    {
     "name": "stdout",
     "output_type": "stream",
     "text": [
      "Vehicle Prediction: suv\n",
      "Validation Result: True\n"
     ]
    },
    {
     "name": "stderr",
     "output_type": "stream",
     "text": [
      "[codecarbon INFO @ 15:49:16] Energy consumed for RAM : 0.007099 kWh. RAM Power : 11.756441116333008 W\n",
      "[codecarbon INFO @ 15:49:16] Energy consumed for all CPUs : 0.025665 kWh. Total CPU Power : 42.5 W\n",
      "[codecarbon INFO @ 15:49:16] Energy consumed for all GPUs : 0.057701 kWh. Total GPU Power : 96.1766372350729 W\n",
      "[codecarbon INFO @ 15:49:16] 0.090465 kWh of electricity used since the beginning.\n",
      "Processing: Class 2 - Car, SUV, Station Wagons:  41%|████      | 383/932 [36:23<48:41,  5.32s/file]"
     ]
    },
    {
     "name": "stdout",
     "output_type": "stream",
     "text": [
      "Vehicle Prediction: suv\n",
      "Validation Result: True\n"
     ]
    },
    {
     "name": "stderr",
     "output_type": "stream",
     "text": [
      "Processing: Class 2 - Car, SUV, Station Wagons:  41%|████      | 384/932 [36:28<47:48,  5.23s/file]"
     ]
    },
    {
     "name": "stdout",
     "output_type": "stream",
     "text": [
      "Vehicle Prediction: coupe\n",
      "Validation Result: True\n"
     ]
    },
    {
     "name": "stderr",
     "output_type": "stream",
     "text": [
      "[codecarbon INFO @ 15:49:31] Energy consumed for RAM : 0.007148 kWh. RAM Power : 11.756441116333008 W\n",
      "[codecarbon INFO @ 15:49:31] Energy consumed for all CPUs : 0.025842 kWh. Total CPU Power : 42.5 W\n",
      "[codecarbon INFO @ 15:49:31] Energy consumed for all GPUs : 0.058096 kWh. Total GPU Power : 94.91903527265238 W\n",
      "[codecarbon INFO @ 15:49:31] 0.091086 kWh of electricity used since the beginning.\n",
      "Processing: Class 2 - Car, SUV, Station Wagons:  41%|████▏     | 385/932 [36:35<49:57,  5.48s/file]"
     ]
    },
    {
     "name": "stdout",
     "output_type": "stream",
     "text": [
      "Vehicle Prediction: suv\n",
      "Validation Result: True\n"
     ]
    },
    {
     "name": "stderr",
     "output_type": "stream",
     "text": [
      "Processing: Class 2 - Car, SUV, Station Wagons:  41%|████▏     | 386/932 [36:38<43:02,  4.73s/file]"
     ]
    },
    {
     "name": "stdout",
     "output_type": "stream",
     "text": [
      "Vehicle Prediction: coupe\n",
      "Validation Result: True\n"
     ]
    },
    {
     "name": "stderr",
     "output_type": "stream",
     "text": [
      "Processing: Class 2 - Car, SUV, Station Wagons:  42%|████▏     | 387/932 [36:41<40:13,  4.43s/file]"
     ]
    },
    {
     "name": "stdout",
     "output_type": "stream",
     "text": [
      "Vehicle Prediction: suv\n",
      "Validation Result: True\n"
     ]
    },
    {
     "name": "stderr",
     "output_type": "stream",
     "text": [
      "[codecarbon INFO @ 15:49:46] Energy consumed for RAM : 0.007197 kWh. RAM Power : 11.756441116333008 W\n",
      "[codecarbon INFO @ 15:49:46] Energy consumed for all CPUs : 0.026019 kWh. Total CPU Power : 42.5 W\n",
      "[codecarbon INFO @ 15:49:46] Energy consumed for all GPUs : 0.058495 kWh. Total GPU Power : 95.79183497046002 W\n",
      "[codecarbon INFO @ 15:49:46] 0.091711 kWh of electricity used since the beginning.\n",
      "Processing: Class 2 - Car, SUV, Station Wagons:  42%|████▏     | 388/932 [36:50<52:43,  5.81s/file]"
     ]
    },
    {
     "name": "stdout",
     "output_type": "stream",
     "text": [
      "Vehicle Prediction: coupe\n",
      "Validation Result: True\n"
     ]
    },
    {
     "name": "stderr",
     "output_type": "stream",
     "text": [
      "Processing: Class 2 - Car, SUV, Station Wagons:  42%|████▏     | 389/932 [36:55<50:30,  5.58s/file]"
     ]
    },
    {
     "name": "stdout",
     "output_type": "stream",
     "text": [
      "Vehicle Prediction: coupe\n",
      "Validation Result: True\n"
     ]
    },
    {
     "name": "stderr",
     "output_type": "stream",
     "text": [
      "[codecarbon INFO @ 15:50:01] Energy consumed for RAM : 0.007246 kWh. RAM Power : 11.756441116333008 W\n",
      "[codecarbon INFO @ 15:50:01] Energy consumed for all CPUs : 0.026196 kWh. Total CPU Power : 42.5 W\n",
      "[codecarbon INFO @ 15:50:01] Energy consumed for all GPUs : 0.058895 kWh. Total GPU Power : 96.06403554362107 W\n",
      "[codecarbon INFO @ 15:50:01] 0.092337 kWh of electricity used since the beginning.\n",
      "Processing: Class 2 - Car, SUV, Station Wagons:  42%|████▏     | 390/932 [37:04<59:43,  6.61s/file]"
     ]
    },
    {
     "name": "stdout",
     "output_type": "stream",
     "text": [
      "Vehicle Prediction: hatchback\n",
      "Validation Result: True\n"
     ]
    },
    {
     "name": "stderr",
     "output_type": "stream",
     "text": [
      "Processing: Class 2 - Car, SUV, Station Wagons:  42%|████▏     | 391/932 [37:13<1:06:14,  7.35s/file]"
     ]
    },
    {
     "name": "stdout",
     "output_type": "stream",
     "text": [
      "Vehicle Prediction: hatchback\n",
      "Validation Result: True\n"
     ]
    },
    {
     "name": "stderr",
     "output_type": "stream",
     "text": [
      "Processing: Class 2 - Car, SUV, Station Wagons:  42%|████▏     | 392/932 [37:18<59:48,  6.64s/file]  "
     ]
    },
    {
     "name": "stdout",
     "output_type": "stream",
     "text": [
      "Vehicle Prediction: coupe\n",
      "Validation Result: True\n"
     ]
    },
    {
     "name": "stderr",
     "output_type": "stream",
     "text": [
      "[codecarbon INFO @ 15:50:16] Energy consumed for RAM : 0.007295 kWh. RAM Power : 11.756441116333008 W\n",
      "[codecarbon INFO @ 15:50:16] Energy consumed for all CPUs : 0.026374 kWh. Total CPU Power : 42.5 W\n",
      "[codecarbon INFO @ 15:50:16] Energy consumed for all GPUs : 0.059295 kWh. Total GPU Power : 96.00064620092179 W\n",
      "[codecarbon INFO @ 15:50:16] 0.092963 kWh of electricity used since the beginning.\n",
      "Processing: Class 2 - Car, SUV, Station Wagons:  42%|████▏     | 393/932 [37:21<49:43,  5.54s/file]"
     ]
    },
    {
     "name": "stdout",
     "output_type": "stream",
     "text": [
      "Vehicle Prediction: suv\n",
      "Validation Result: True\n"
     ]
    },
    {
     "name": "stderr",
     "output_type": "stream",
     "text": [
      "Processing: Class 2 - Car, SUV, Station Wagons:  42%|████▏     | 394/932 [37:27<50:56,  5.68s/file]"
     ]
    },
    {
     "name": "stdout",
     "output_type": "stream",
     "text": [
      "Vehicle Prediction: beetle\n",
      "Validation Result: False\n"
     ]
    },
    {
     "name": "stderr",
     "output_type": "stream",
     "text": [
      "Processing: Class 2 - Car, SUV, Station Wagons:  42%|████▏     | 395/932 [37:32<49:08,  5.49s/file]"
     ]
    },
    {
     "name": "stdout",
     "output_type": "stream",
     "text": [
      "Vehicle Prediction: hatchback\n",
      "Validation Result: True\n"
     ]
    },
    {
     "name": "stderr",
     "output_type": "stream",
     "text": [
      "[codecarbon INFO @ 15:50:31] Energy consumed for RAM : 0.007344 kWh. RAM Power : 11.756441116333008 W\n",
      "[codecarbon INFO @ 15:50:31] Energy consumed for all CPUs : 0.026550 kWh. Total CPU Power : 42.5 W\n",
      "[codecarbon INFO @ 15:50:31] Energy consumed for all GPUs : 0.059691 kWh. Total GPU Power : 95.06395650609345 W\n",
      "[codecarbon INFO @ 15:50:31] 0.093585 kWh of electricity used since the beginning.\n",
      "Processing: Class 2 - Car, SUV, Station Wagons:  42%|████▏     | 396/932 [37:42<58:50,  6.59s/file]"
     ]
    },
    {
     "name": "stdout",
     "output_type": "stream",
     "text": [
      "Vehicle Prediction: hatchback\n",
      "Validation Result: True\n"
     ]
    },
    {
     "name": "stderr",
     "output_type": "stream",
     "text": [
      "Processing: Class 2 - Car, SUV, Station Wagons:  43%|████▎     | 397/932 [37:47<54:32,  6.12s/file]"
     ]
    },
    {
     "name": "stdout",
     "output_type": "stream",
     "text": [
      "Vehicle Prediction: hatchback\n",
      "Validation Result: True\n"
     ]
    },
    {
     "name": "stderr",
     "output_type": "stream",
     "text": [
      "[codecarbon INFO @ 15:50:46] Energy consumed for RAM : 0.007392 kWh. RAM Power : 11.756441116333008 W\n",
      "[codecarbon INFO @ 15:50:46] Energy consumed for all CPUs : 0.026727 kWh. Total CPU Power : 42.5 W\n",
      "[codecarbon INFO @ 15:50:46] Energy consumed for all GPUs : 0.060091 kWh. Total GPU Power : 95.96637646028746 W\n",
      "[codecarbon INFO @ 15:50:46] 0.094210 kWh of electricity used since the beginning.\n",
      "Processing: Class 2 - Car, SUV, Station Wagons:  43%|████▎     | 398/932 [37:51<50:16,  5.65s/file]"
     ]
    },
    {
     "name": "stdout",
     "output_type": "stream",
     "text": [
      "Vehicle Prediction: coupe\n",
      "Validation Result: True\n"
     ]
    },
    {
     "name": "stderr",
     "output_type": "stream",
     "text": [
      "Processing: Class 2 - Car, SUV, Station Wagons:  43%|████▎     | 399/932 [37:56<48:29,  5.46s/file]"
     ]
    },
    {
     "name": "stdout",
     "output_type": "stream",
     "text": [
      "Vehicle Prediction: hatchback\n",
      "Validation Result: True\n"
     ]
    },
    {
     "name": "stderr",
     "output_type": "stream",
     "text": [
      "Processing: Class 2 - Car, SUV, Station Wagons:  43%|████▎     | 400/932 [38:01<47:12,  5.32s/file]"
     ]
    },
    {
     "name": "stdout",
     "output_type": "stream",
     "text": [
      "Vehicle Prediction: suv\n",
      "Validation Result: True\n"
     ]
    },
    {
     "name": "stderr",
     "output_type": "stream",
     "text": [
      "[codecarbon INFO @ 15:51:01] Energy consumed for RAM : 0.007441 kWh. RAM Power : 11.756441116333008 W\n",
      "[codecarbon INFO @ 15:51:01] Energy consumed for all CPUs : 0.026904 kWh. Total CPU Power : 42.5 W\n",
      "[codecarbon INFO @ 15:51:01] Energy consumed for all GPUs : 0.060488 kWh. Total GPU Power : 95.43798401425272 W\n",
      "[codecarbon INFO @ 15:51:01] 0.094834 kWh of electricity used since the beginning.\n",
      "[codecarbon INFO @ 15:51:01] 0.011884 g.CO2eq/s mean an estimation of 374.7889093119113 kg.CO2eq/year\n",
      "Processing: Class 2 - Car, SUV, Station Wagons:  43%|████▎     | 401/932 [38:10<56:58,  6.44s/file]"
     ]
    },
    {
     "name": "stdout",
     "output_type": "stream",
     "text": [
      "Vehicle Prediction: hatchback\n",
      "Validation Result: True\n"
     ]
    },
    {
     "name": "stderr",
     "output_type": "stream",
     "text": [
      "Processing: Class 2 - Car, SUV, Station Wagons:  43%|████▎     | 402/932 [38:15<53:06,  6.01s/file]"
     ]
    },
    {
     "name": "stdout",
     "output_type": "stream",
     "text": [
      "Vehicle Prediction: suv\n",
      "Validation Result: True\n"
     ]
    },
    {
     "name": "stderr",
     "output_type": "stream",
     "text": [
      "[codecarbon INFO @ 15:51:16] Energy consumed for RAM : 0.007490 kWh. RAM Power : 11.756441116333008 W\n",
      "[codecarbon INFO @ 15:51:16] Energy consumed for all CPUs : 0.027081 kWh. Total CPU Power : 42.5 W\n",
      "[codecarbon INFO @ 15:51:16] Energy consumed for all GPUs : 0.060888 kWh. Total GPU Power : 96.05863072826563 W\n",
      "[codecarbon INFO @ 15:51:16] 0.095460 kWh of electricity used since the beginning.\n",
      "Processing: Class 2 - Car, SUV, Station Wagons:  43%|████▎     | 403/932 [38:24<1:00:57,  6.91s/file]"
     ]
    },
    {
     "name": "stdout",
     "output_type": "stream",
     "text": [
      "Vehicle Prediction: car\n",
      "Validation Result: True\n"
     ]
    },
    {
     "name": "stderr",
     "output_type": "stream",
     "text": [
      "Processing: Class 2 - Car, SUV, Station Wagons:  43%|████▎     | 404/932 [38:33<1:06:24,  7.55s/file]"
     ]
    },
    {
     "name": "stdout",
     "output_type": "stream",
     "text": [
      "Vehicle Prediction: coupe\n",
      "Validation Result: True\n"
     ]
    },
    {
     "name": "stderr",
     "output_type": "stream",
     "text": [
      "[codecarbon INFO @ 15:51:31] Energy consumed for RAM : 0.007539 kWh. RAM Power : 11.756441116333008 W\n",
      "[codecarbon INFO @ 15:51:31] Energy consumed for all CPUs : 0.027258 kWh. Total CPU Power : 42.5 W\n",
      "[codecarbon INFO @ 15:51:31] Energy consumed for all GPUs : 0.061283 kWh. Total GPU Power : 94.84719101632535 W\n",
      "[codecarbon INFO @ 15:51:31] 0.096081 kWh of electricity used since the beginning.\n",
      "Processing: Class 2 - Car, SUV, Station Wagons:  43%|████▎     | 405/932 [38:41<1:07:42,  7.71s/file]"
     ]
    },
    {
     "name": "stdout",
     "output_type": "stream",
     "text": [
      "Vehicle Prediction: coupe\n",
      "Validation Result: True\n"
     ]
    },
    {
     "name": "stderr",
     "output_type": "stream",
     "text": [
      "[codecarbon INFO @ 15:51:46] Energy consumed for RAM : 0.007588 kWh. RAM Power : 11.756441116333008 W\n",
      "[codecarbon INFO @ 15:51:46] Energy consumed for all CPUs : 0.027435 kWh. Total CPU Power : 42.5 W\n",
      "[codecarbon INFO @ 15:51:46] Energy consumed for all GPUs : 0.061682 kWh. Total GPU Power : 95.8300330933227 W\n",
      "[codecarbon INFO @ 15:51:46] 0.096706 kWh of electricity used since the beginning.\n",
      "Processing: Class 2 - Car, SUV, Station Wagons:  44%|████▎     | 406/932 [38:50<1:11:04,  8.11s/file]"
     ]
    },
    {
     "name": "stdout",
     "output_type": "stream",
     "text": [
      "Vehicle Prediction: suv\n",
      "Validation Result: True\n"
     ]
    },
    {
     "name": "stderr",
     "output_type": "stream",
     "text": [
      "Processing: Class 2 - Car, SUV, Station Wagons:  44%|████▎     | 407/932 [38:55<1:02:49,  7.18s/file]"
     ]
    },
    {
     "name": "stdout",
     "output_type": "stream",
     "text": [
      "Vehicle Prediction: hatchback\n",
      "Validation Result: True\n"
     ]
    },
    {
     "name": "stderr",
     "output_type": "stream",
     "text": [
      "[codecarbon INFO @ 15:52:01] Energy consumed for RAM : 0.007637 kWh. RAM Power : 11.756441116333008 W\n",
      "[codecarbon INFO @ 15:52:01] Energy consumed for all CPUs : 0.027612 kWh. Total CPU Power : 42.5 W\n",
      "[codecarbon INFO @ 15:52:01] Energy consumed for all GPUs : 0.062081 kWh. Total GPU Power : 95.83547512623423 W\n",
      "[codecarbon INFO @ 15:52:01] 0.097331 kWh of electricity used since the beginning.\n",
      "Processing: Class 2 - Car, SUV, Station Wagons:  44%|████▍     | 408/932 [39:04<1:07:36,  7.74s/file]"
     ]
    },
    {
     "name": "stdout",
     "output_type": "stream",
     "text": [
      "Vehicle Prediction: hatchback\n",
      "Validation Result: True\n"
     ]
    },
    {
     "name": "stderr",
     "output_type": "stream",
     "text": [
      "Processing: Class 2 - Car, SUV, Station Wagons:  44%|████▍     | 409/932 [39:07<55:02,  6.31s/file]  "
     ]
    },
    {
     "name": "stdout",
     "output_type": "stream",
     "text": [
      "Vehicle Prediction: coupe\n",
      "Validation Result: True\n"
     ]
    },
    {
     "name": "stderr",
     "output_type": "stream",
     "text": [
      "Processing: Class 2 - Car, SUV, Station Wagons:  44%|████▍     | 410/932 [39:13<54:07,  6.22s/file]"
     ]
    },
    {
     "name": "stdout",
     "output_type": "stream",
     "text": [
      "Vehicle Prediction: wagon\n",
      "Validation Result: True\n"
     ]
    },
    {
     "name": "stderr",
     "output_type": "stream",
     "text": [
      "Processing: Class 2 - Car, SUV, Station Wagons:  44%|████▍     | 411/932 [39:19<50:59,  5.87s/file]"
     ]
    },
    {
     "name": "stdout",
     "output_type": "stream",
     "text": [
      "Vehicle Prediction: coupe\n",
      "Validation Result: True\n"
     ]
    },
    {
     "name": "stderr",
     "output_type": "stream",
     "text": [
      "[codecarbon INFO @ 15:52:16] Energy consumed for RAM : 0.007686 kWh. RAM Power : 11.756441116333008 W\n",
      "[codecarbon INFO @ 15:52:16] Energy consumed for all CPUs : 0.027789 kWh. Total CPU Power : 42.5 W\n",
      "[codecarbon INFO @ 15:52:16] Energy consumed for all GPUs : 0.062477 kWh. Total GPU Power : 94.95241632051824 W\n",
      "[codecarbon INFO @ 15:52:16] 0.097952 kWh of electricity used since the beginning.\n",
      "Processing: Class 2 - Car, SUV, Station Wagons:  44%|████▍     | 412/932 [39:24<48:44,  5.62s/file]"
     ]
    },
    {
     "name": "stdout",
     "output_type": "stream",
     "text": [
      "Vehicle Prediction: coupe\n",
      "Validation Result: True\n"
     ]
    },
    {
     "name": "stderr",
     "output_type": "stream",
     "text": [
      "Processing: Class 2 - Car, SUV, Station Wagons:  44%|████▍     | 413/932 [39:29<47:08,  5.45s/file]"
     ]
    },
    {
     "name": "stdout",
     "output_type": "stream",
     "text": [
      "Vehicle Prediction: hatchback\n",
      "Validation Result: True\n"
     ]
    },
    {
     "name": "stderr",
     "output_type": "stream",
     "text": [
      "Processing: Class 2 - Car, SUV, Station Wagons:  44%|████▍     | 414/932 [39:32<40:38,  4.71s/file]"
     ]
    },
    {
     "name": "stdout",
     "output_type": "stream",
     "text": [
      "Vehicle Prediction: coupe\n",
      "Validation Result: True\n"
     ]
    },
    {
     "name": "stderr",
     "output_type": "stream",
     "text": [
      "[codecarbon INFO @ 15:52:31] Energy consumed for RAM : 0.007735 kWh. RAM Power : 11.756441116333008 W\n",
      "[codecarbon INFO @ 15:52:31] Energy consumed for all CPUs : 0.027966 kWh. Total CPU Power : 42.5 W\n",
      "[codecarbon INFO @ 15:52:31] Energy consumed for all GPUs : 0.062877 kWh. Total GPU Power : 96.13258278892074 W\n",
      "[codecarbon INFO @ 15:52:31] 0.098579 kWh of electricity used since the beginning.\n",
      "Processing: Class 2 - Car, SUV, Station Wagons:  45%|████▍     | 415/932 [39:36<40:12,  4.67s/file]"
     ]
    },
    {
     "name": "stdout",
     "output_type": "stream",
     "text": [
      "Vehicle Prediction: car\n",
      "Validation Result: True\n"
     ]
    },
    {
     "name": "stderr",
     "output_type": "stream",
     "text": [
      "Processing: Class 2 - Car, SUV, Station Wagons:  45%|████▍     | 416/932 [39:45<51:29,  5.99s/file]"
     ]
    },
    {
     "name": "stdout",
     "output_type": "stream",
     "text": [
      "Vehicle Prediction: coupe\n",
      "Validation Result: True\n"
     ]
    },
    {
     "name": "stderr",
     "output_type": "stream",
     "text": [
      "[codecarbon INFO @ 15:52:46] Energy consumed for RAM : 0.007784 kWh. RAM Power : 11.756441116333008 W\n",
      "[codecarbon INFO @ 15:52:46] Energy consumed for all CPUs : 0.028143 kWh. Total CPU Power : 42.5 W\n",
      "[codecarbon INFO @ 15:52:46] Energy consumed for all GPUs : 0.063276 kWh. Total GPU Power : 95.86173663289787 W\n",
      "[codecarbon INFO @ 15:52:46] 0.099204 kWh of electricity used since the beginning.\n",
      "Processing: Class 2 - Car, SUV, Station Wagons:  45%|████▍     | 417/932 [39:50<48:53,  5.70s/file]"
     ]
    },
    {
     "name": "stdout",
     "output_type": "stream",
     "text": [
      "Vehicle Prediction: suv\n",
      "Validation Result: True\n"
     ]
    },
    {
     "name": "stderr",
     "output_type": "stream",
     "text": [
      "Processing: Class 2 - Car, SUV, Station Wagons:  45%|████▍     | 418/932 [39:59<57:19,  6.69s/file]"
     ]
    },
    {
     "name": "stdout",
     "output_type": "stream",
     "text": [
      "Vehicle Prediction: coupe\n",
      "Validation Result: True\n"
     ]
    },
    {
     "name": "stderr",
     "output_type": "stream",
     "text": [
      "Processing: Class 2 - Car, SUV, Station Wagons:  45%|████▍     | 419/932 [40:02<47:35,  5.57s/file]"
     ]
    },
    {
     "name": "stdout",
     "output_type": "stream",
     "text": [
      "Vehicle Prediction: suv\n",
      "Validation Result: True\n"
     ]
    },
    {
     "name": "stderr",
     "output_type": "stream",
     "text": [
      "[codecarbon INFO @ 15:53:01] Energy consumed for RAM : 0.007833 kWh. RAM Power : 11.756441116333008 W\n",
      "[codecarbon INFO @ 15:53:01] Energy consumed for all CPUs : 0.028320 kWh. Total CPU Power : 42.5 W\n",
      "[codecarbon INFO @ 15:53:01] Energy consumed for all GPUs : 0.063674 kWh. Total GPU Power : 95.41169065967114 W\n",
      "[codecarbon INFO @ 15:53:01] 0.099827 kWh of electricity used since the beginning.\n",
      "[codecarbon INFO @ 15:53:01] 0.011880 g.CO2eq/s mean an estimation of 374.6537408034134 kg.CO2eq/year\n",
      "Processing: Class 2 - Car, SUV, Station Wagons:  45%|████▌     | 420/932 [40:07<46:07,  5.41s/file]"
     ]
    },
    {
     "name": "stdout",
     "output_type": "stream",
     "text": [
      "Vehicle Prediction: hatchback\n",
      "Validation Result: True\n"
     ]
    },
    {
     "name": "stderr",
     "output_type": "stream",
     "text": [
      "Processing: Class 2 - Car, SUV, Station Wagons:  45%|████▌     | 421/932 [40:16<55:23,  6.50s/file]"
     ]
    },
    {
     "name": "stdout",
     "output_type": "stream",
     "text": [
      "Vehicle Prediction: coupe\n",
      "Validation Result: True\n"
     ]
    },
    {
     "name": "stderr",
     "output_type": "stream",
     "text": [
      "[codecarbon INFO @ 15:53:16] Energy consumed for RAM : 0.007882 kWh. RAM Power : 11.756441116333008 W\n",
      "[codecarbon INFO @ 15:53:16] Energy consumed for all CPUs : 0.028497 kWh. Total CPU Power : 42.5 W\n",
      "[codecarbon INFO @ 15:53:16] Energy consumed for all GPUs : 0.064072 kWh. Total GPU Power : 95.68028973653188 W\n",
      "[codecarbon INFO @ 15:53:16] 0.100452 kWh of electricity used since the beginning.\n",
      "Processing: Class 2 - Car, SUV, Station Wagons:  45%|████▌     | 422/932 [40:25<1:01:40,  7.26s/file]"
     ]
    },
    {
     "name": "stdout",
     "output_type": "stream",
     "text": [
      "Vehicle Prediction: coupe\n",
      "Validation Result: True\n"
     ]
    },
    {
     "name": "stderr",
     "output_type": "stream",
     "text": [
      "[codecarbon INFO @ 15:53:31] Energy consumed for RAM : 0.007931 kWh. RAM Power : 11.756441116333008 W\n",
      "[codecarbon INFO @ 15:53:31] Energy consumed for all CPUs : 0.028674 kWh. Total CPU Power : 42.5 W\n",
      "[codecarbon INFO @ 15:53:31] Energy consumed for all GPUs : 0.064470 kWh. Total GPU Power : 95.60788319652363 W\n",
      "[codecarbon INFO @ 15:53:31] 0.101076 kWh of electricity used since the beginning.\n",
      "Processing: Class 2 - Car, SUV, Station Wagons:  45%|████▌     | 423/932 [40:34<1:06:04,  7.79s/file]"
     ]
    },
    {
     "name": "stdout",
     "output_type": "stream",
     "text": [
      "Vehicle Prediction: hatchback\n",
      "Validation Result: True\n"
     ]
    },
    {
     "name": "stderr",
     "output_type": "stream",
     "text": [
      "Processing: Class 2 - Car, SUV, Station Wagons:  45%|████▌     | 424/932 [40:37<53:37,  6.33s/file]  "
     ]
    },
    {
     "name": "stdout",
     "output_type": "stream",
     "text": [
      "Vehicle Prediction: car\n",
      "Validation Result: True\n"
     ]
    },
    {
     "name": "stderr",
     "output_type": "stream",
     "text": [
      "Processing: Class 2 - Car, SUV, Station Wagons:  46%|████▌     | 425/932 [40:46<1:00:42,  7.18s/file]"
     ]
    },
    {
     "name": "stdout",
     "output_type": "stream",
     "text": [
      "Vehicle Prediction: hatchback\n",
      "Validation Result: True\n"
     ]
    },
    {
     "name": "stderr",
     "output_type": "stream",
     "text": [
      "[codecarbon INFO @ 15:53:46] Energy consumed for RAM : 0.007980 kWh. RAM Power : 11.756441116333008 W\n",
      "[codecarbon INFO @ 15:53:46] Energy consumed for all CPUs : 0.028851 kWh. Total CPU Power : 42.5 W\n",
      "[codecarbon INFO @ 15:53:46] Energy consumed for all GPUs : 0.064868 kWh. Total GPU Power : 95.52028100008741 W\n",
      "[codecarbon INFO @ 15:53:46] 0.101699 kWh of electricity used since the beginning.\n",
      "Processing: Class 2 - Car, SUV, Station Wagons:  46%|████▌     | 426/932 [40:49<49:53,  5.92s/file]  "
     ]
    },
    {
     "name": "stdout",
     "output_type": "stream",
     "text": [
      "Vehicle Prediction: hatchback\n",
      "Validation Result: True\n"
     ]
    },
    {
     "name": "stderr",
     "output_type": "stream",
     "text": [
      "Processing: Class 2 - Car, SUV, Station Wagons:  46%|████▌     | 427/932 [40:54<47:34,  5.65s/file]"
     ]
    },
    {
     "name": "stdout",
     "output_type": "stream",
     "text": [
      "Vehicle Prediction: hatchback\n",
      "Validation Result: True\n"
     ]
    },
    {
     "name": "stderr",
     "output_type": "stream",
     "text": [
      "Processing: Class 2 - Car, SUV, Station Wagons:  46%|████▌     | 428/932 [41:04<56:18,  6.70s/file]"
     ]
    },
    {
     "name": "stdout",
     "output_type": "stream",
     "text": [
      "Vehicle Prediction: stationwagon\n",
      "Validation Result: False\n"
     ]
    },
    {
     "name": "stderr",
     "output_type": "stream",
     "text": [
      "[codecarbon INFO @ 15:54:01] Energy consumed for RAM : 0.008029 kWh. RAM Power : 11.756441116333008 W\n",
      "[codecarbon INFO @ 15:54:01] Energy consumed for all CPUs : 0.029028 kWh. Total CPU Power : 42.5 W\n",
      "[codecarbon INFO @ 15:54:01] Energy consumed for all GPUs : 0.065265 kWh. Total GPU Power : 95.37280025811476 W\n",
      "[codecarbon INFO @ 15:54:01] 0.102323 kWh of electricity used since the beginning.\n",
      "Processing: Class 2 - Car, SUV, Station Wagons:  46%|████▌     | 429/932 [41:08<50:57,  6.08s/file]"
     ]
    },
    {
     "name": "stdout",
     "output_type": "stream",
     "text": [
      "Vehicle Prediction: coupe\n",
      "Validation Result: True\n"
     ]
    },
    {
     "name": "stderr",
     "output_type": "stream",
     "text": [
      "Processing: Class 2 - Car, SUV, Station Wagons:  46%|████▌     | 430/932 [41:17<58:24,  6.98s/file]"
     ]
    },
    {
     "name": "stdout",
     "output_type": "stream",
     "text": [
      "Vehicle Prediction: coupe\n",
      "Validation Result: True\n"
     ]
    },
    {
     "name": "stderr",
     "output_type": "stream",
     "text": [
      "[codecarbon INFO @ 15:54:16] Energy consumed for RAM : 0.008078 kWh. RAM Power : 11.756441116333008 W\n",
      "[codecarbon INFO @ 15:54:16] Energy consumed for all CPUs : 0.029205 kWh. Total CPU Power : 42.5 W\n",
      "[codecarbon INFO @ 15:54:16] Energy consumed for all GPUs : 0.065661 kWh. Total GPU Power : 94.9974641810032 W\n",
      "[codecarbon INFO @ 15:54:16] 0.102944 kWh of electricity used since the beginning.\n",
      "Processing: Class 2 - Car, SUV, Station Wagons:  46%|████▌     | 431/932 [41:23<55:53,  6.69s/file]"
     ]
    },
    {
     "name": "stdout",
     "output_type": "stream",
     "text": [
      "Vehicle Prediction: coupe\n",
      "Validation Result: True\n"
     ]
    },
    {
     "name": "stderr",
     "output_type": "stream",
     "text": [
      "Processing: Class 2 - Car, SUV, Station Wagons:  46%|████▋     | 432/932 [41:26<46:25,  5.57s/file]"
     ]
    },
    {
     "name": "stdout",
     "output_type": "stream",
     "text": [
      "Vehicle Prediction: suv\n",
      "Validation Result: True\n"
     ]
    },
    {
     "name": "stderr",
     "output_type": "stream",
     "text": [
      "Processing: Class 2 - Car, SUV, Station Wagons:  46%|████▋     | 433/932 [41:31<45:00,  5.41s/file]"
     ]
    },
    {
     "name": "stdout",
     "output_type": "stream",
     "text": [
      "Vehicle Prediction: coupe\n",
      "Validation Result: True\n"
     ]
    },
    {
     "name": "stderr",
     "output_type": "stream",
     "text": [
      "[codecarbon INFO @ 15:54:31] Energy consumed for RAM : 0.008127 kWh. RAM Power : 11.756441116333008 W\n",
      "[codecarbon INFO @ 15:54:31] Energy consumed for all CPUs : 0.029382 kWh. Total CPU Power : 42.5 W\n",
      "[codecarbon INFO @ 15:54:31] Energy consumed for all GPUs : 0.066062 kWh. Total GPU Power : 96.17000310476492 W\n",
      "[codecarbon INFO @ 15:54:31] 0.103571 kWh of electricity used since the beginning.\n",
      "Processing: Class 2 - Car, SUV, Station Wagons:  47%|████▋     | 434/932 [41:36<44:00,  5.30s/file]"
     ]
    },
    {
     "name": "stdout",
     "output_type": "stream",
     "text": [
      "Vehicle Prediction: car\n",
      "Validation Result: True\n"
     ]
    },
    {
     "name": "stderr",
     "output_type": "stream",
     "text": [
      "Processing: Class 2 - Car, SUV, Station Wagons:  47%|████▋     | 435/932 [41:46<53:33,  6.47s/file]"
     ]
    },
    {
     "name": "stdout",
     "output_type": "stream",
     "text": [
      "Vehicle Prediction: hatchback\n",
      "Validation Result: True\n"
     ]
    },
    {
     "name": "stderr",
     "output_type": "stream",
     "text": [
      "[codecarbon INFO @ 15:54:46] Energy consumed for RAM : 0.008176 kWh. RAM Power : 11.756441116333008 W\n",
      "[codecarbon INFO @ 15:54:46] Energy consumed for all CPUs : 0.029559 kWh. Total CPU Power : 42.5 W\n",
      "[codecarbon INFO @ 15:54:46] Energy consumed for all GPUs : 0.066460 kWh. Total GPU Power : 95.6767988373759 W\n",
      "[codecarbon INFO @ 15:54:46] 0.104195 kWh of electricity used since the beginning.\n",
      "Processing: Class 2 - Car, SUV, Station Wagons:  47%|████▋     | 436/932 [41:50<48:43,  5.89s/file]"
     ]
    },
    {
     "name": "stdout",
     "output_type": "stream",
     "text": [
      "Vehicle Prediction: wagon\n",
      "Validation Result: True\n"
     ]
    },
    {
     "name": "stderr",
     "output_type": "stream",
     "text": [
      "Processing: Class 2 - Car, SUV, Station Wagons:  47%|████▋     | 437/932 [41:59<56:26,  6.84s/file]"
     ]
    },
    {
     "name": "stdout",
     "output_type": "stream",
     "text": [
      "Vehicle Prediction: coupe\n",
      "Validation Result: True\n"
     ]
    },
    {
     "name": "stderr",
     "output_type": "stream",
     "text": [
      "Processing: Class 2 - Car, SUV, Station Wagons:  47%|████▋     | 438/932 [42:02<46:46,  5.68s/file]"
     ]
    },
    {
     "name": "stdout",
     "output_type": "stream",
     "text": [
      "Vehicle Prediction: coupe\n",
      "Validation Result: True\n"
     ]
    },
    {
     "name": "stderr",
     "output_type": "stream",
     "text": [
      "[codecarbon INFO @ 15:55:01] Energy consumed for RAM : 0.008225 kWh. RAM Power : 11.756441116333008 W\n",
      "[codecarbon INFO @ 15:55:01] Energy consumed for all CPUs : 0.029736 kWh. Total CPU Power : 42.5 W\n",
      "[codecarbon INFO @ 15:55:01] Energy consumed for all GPUs : 0.066857 kWh. Total GPU Power : 95.29644484745285 W\n",
      "[codecarbon INFO @ 15:55:01] 0.104818 kWh of electricity used since the beginning.\n",
      "[codecarbon INFO @ 15:55:01] 0.011873 g.CO2eq/s mean an estimation of 374.43611434156594 kg.CO2eq/year\n",
      "Processing: Class 2 - Car, SUV, Station Wagons:  47%|████▋     | 439/932 [42:11<55:03,  6.70s/file]"
     ]
    },
    {
     "name": "stdout",
     "output_type": "stream",
     "text": [
      "Vehicle Prediction: car\n",
      "Validation Result: True\n"
     ]
    },
    {
     "name": "stderr",
     "output_type": "stream",
     "text": [
      "Processing: Class 2 - Car, SUV, Station Wagons:  47%|████▋     | 440/932 [42:14<45:42,  5.57s/file]"
     ]
    },
    {
     "name": "stdout",
     "output_type": "stream",
     "text": [
      "Vehicle Prediction: suv\n",
      "Validation Result: True\n"
     ]
    },
    {
     "name": "stderr",
     "output_type": "stream",
     "text": [
      "[codecarbon INFO @ 15:55:16] Energy consumed for RAM : 0.008274 kWh. RAM Power : 11.756441116333008 W\n",
      "[codecarbon INFO @ 15:55:16] Energy consumed for all CPUs : 0.029913 kWh. Total CPU Power : 42.5 W\n",
      "[codecarbon INFO @ 15:55:16] Energy consumed for all GPUs : 0.067258 kWh. Total GPU Power : 96.41704006957008 W\n",
      "[codecarbon INFO @ 15:55:16] 0.105445 kWh of electricity used since the beginning.\n",
      "Processing: Class 2 - Car, SUV, Station Wagons:  47%|████▋     | 441/932 [42:23<54:16,  6.63s/file]"
     ]
    },
    {
     "name": "stdout",
     "output_type": "stream",
     "text": [
      "Vehicle Prediction: coupe\n",
      "Validation Result: True\n"
     ]
    },
    {
     "name": "stderr",
     "output_type": "stream",
     "text": [
      "Processing: Class 2 - Car, SUV, Station Wagons:  47%|████▋     | 442/932 [42:28<50:15,  6.15s/file]"
     ]
    },
    {
     "name": "stdout",
     "output_type": "stream",
     "text": [
      "Vehicle Prediction: coupe\n",
      "Validation Result: True\n"
     ]
    },
    {
     "name": "stderr",
     "output_type": "stream",
     "text": [
      "[codecarbon INFO @ 15:55:31] Energy consumed for RAM : 0.008323 kWh. RAM Power : 11.756441116333008 W\n",
      "[codecarbon INFO @ 15:55:31] Energy consumed for all CPUs : 0.030090 kWh. Total CPU Power : 42.5 W\n",
      "[codecarbon INFO @ 15:55:31] Energy consumed for all GPUs : 0.067657 kWh. Total GPU Power : 95.56019099678204 W\n",
      "[codecarbon INFO @ 15:55:31] 0.106069 kWh of electricity used since the beginning.\n",
      "Processing: truck 4:  48%|████▊     | 443/932 [42:34<49:49,  6.11s/file]                           "
     ]
    },
    {
     "name": "stdout",
     "output_type": "stream",
     "text": [
      "Vehicle Prediction: coupe\n",
      "Validation Result: True\n"
     ]
    },
    {
     "name": "stderr",
     "output_type": "stream",
     "text": [
      "Processing: truck 4:  48%|████▊     | 444/932 [42:42<54:31,  6.70s/file]"
     ]
    },
    {
     "name": "stdout",
     "output_type": "stream",
     "text": [
      "Vehicle Prediction: dumptruck\n",
      "Validation Result: False\n"
     ]
    },
    {
     "name": "stderr",
     "output_type": "stream",
     "text": [
      "[codecarbon INFO @ 15:55:46] Energy consumed for RAM : 0.008372 kWh. RAM Power : 11.756441116333008 W\n",
      "[codecarbon INFO @ 15:55:46] Energy consumed for all CPUs : 0.030267 kWh. Total CPU Power : 42.5 W\n",
      "[codecarbon INFO @ 15:55:46] Energy consumed for all GPUs : 0.068056 kWh. Total GPU Power : 95.95328317325828 W\n",
      "[codecarbon INFO @ 15:55:46] 0.106695 kWh of electricity used since the beginning.\n",
      "Processing: truck 4:  48%|████▊     | 445/932 [42:50<56:16,  6.93s/file]"
     ]
    },
    {
     "name": "stdout",
     "output_type": "stream",
     "text": [
      "Vehicle Prediction: dumptruck\n",
      "Validation Result: False\n"
     ]
    },
    {
     "name": "stderr",
     "output_type": "stream",
     "text": [
      "Processing: truck 4:  48%|████▊     | 446/932 [42:53<46:26,  5.73s/file]"
     ]
    },
    {
     "name": "stdout",
     "output_type": "stream",
     "text": [
      "Vehicle Prediction: dumptruck\n",
      "Validation Result: False\n"
     ]
    },
    {
     "name": "stderr",
     "output_type": "stream",
     "text": [
      "Processing: truck 4:  48%|████▊     | 447/932 [42:56<39:37,  4.90s/file]"
     ]
    },
    {
     "name": "stdout",
     "output_type": "stream",
     "text": [
      "Vehicle Prediction: dumptruck\n",
      "Validation Result: False\n"
     ]
    },
    {
     "name": "stderr",
     "output_type": "stream",
     "text": [
      "[codecarbon INFO @ 15:56:01] Energy consumed for RAM : 0.008421 kWh. RAM Power : 11.756441116333008 W\n",
      "[codecarbon INFO @ 15:56:01] Energy consumed for all CPUs : 0.030444 kWh. Total CPU Power : 42.5 W\n",
      "[codecarbon INFO @ 15:56:01] Energy consumed for all GPUs : 0.068455 kWh. Total GPU Power : 95.79278938131938 W\n",
      "[codecarbon INFO @ 15:56:01] 0.107320 kWh of electricity used since the beginning.\n",
      "Processing: truck 4:  48%|████▊     | 448/932 [43:05<50:11,  6.22s/file]"
     ]
    },
    {
     "name": "stdout",
     "output_type": "stream",
     "text": [
      "Vehicle Prediction: trailer\n",
      "Validation Result: True\n"
     ]
    },
    {
     "name": "stderr",
     "output_type": "stream",
     "text": [
      "Processing: truck 4:  48%|████▊     | 449/932 [43:10<47:14,  5.87s/file]"
     ]
    },
    {
     "name": "stdout",
     "output_type": "stream",
     "text": [
      "Vehicle Prediction: dumptruck\n",
      "Validation Result: False\n"
     ]
    },
    {
     "name": "stderr",
     "output_type": "stream",
     "text": [
      "Processing: truck 4:  48%|████▊     | 450/932 [43:18<51:08,  6.37s/file]"
     ]
    },
    {
     "name": "stdout",
     "output_type": "stream",
     "text": [
      "Vehicle Prediction: trailer\n",
      "Validation Result: True\n"
     ]
    },
    {
     "name": "stderr",
     "output_type": "stream",
     "text": [
      "[codecarbon INFO @ 15:56:16] Energy consumed for RAM : 0.008470 kWh. RAM Power : 11.756441116333008 W\n",
      "[codecarbon INFO @ 15:56:16] Energy consumed for all CPUs : 0.030621 kWh. Total CPU Power : 42.5 W\n",
      "[codecarbon INFO @ 15:56:16] Energy consumed for all GPUs : 0.068852 kWh. Total GPU Power : 95.34971009172907 W\n",
      "[codecarbon INFO @ 15:56:16] 0.107943 kWh of electricity used since the beginning.\n"
     ]
    },
    {
     "name": "stdout",
     "output_type": "stream",
     "text": [
      "Vehicle Prediction: truck\n"
     ]
    },
    {
     "name": "stderr",
     "output_type": "stream",
     "text": [
      "Processing: truck 4:  48%|████▊     | 451/932 [43:23<48:21,  6.03s/file]"
     ]
    },
    {
     "name": "stdout",
     "output_type": "stream",
     "text": [
      "Is Pickup Truck: no.\n",
      "Validation Result: True\n"
     ]
    },
    {
     "name": "stderr",
     "output_type": "stream",
     "text": [
      "Processing: truck 4:  48%|████▊     | 452/932 [43:26<40:50,  5.10s/file]"
     ]
    },
    {
     "name": "stdout",
     "output_type": "stream",
     "text": [
      "Vehicle Prediction: trailer\n",
      "Validation Result: True\n"
     ]
    },
    {
     "name": "stderr",
     "output_type": "stream",
     "text": [
      "Processing: truck 4:  49%|████▊     | 453/932 [43:33<46:21,  5.81s/file]"
     ]
    },
    {
     "name": "stdout",
     "output_type": "stream",
     "text": [
      "Vehicle Prediction: trailer\n",
      "Validation Result: True\n"
     ]
    },
    {
     "name": "stderr",
     "output_type": "stream",
     "text": [
      "[codecarbon INFO @ 15:56:31] Energy consumed for RAM : 0.008518 kWh. RAM Power : 11.756441116333008 W\n",
      "[codecarbon INFO @ 15:56:31] Energy consumed for all CPUs : 0.030798 kWh. Total CPU Power : 42.5 W\n",
      "[codecarbon INFO @ 15:56:31] Energy consumed for all GPUs : 0.069249 kWh. Total GPU Power : 95.26719955342844 W\n",
      "[codecarbon INFO @ 15:56:31] 0.108566 kWh of electricity used since the beginning.\n",
      "Processing: truck 4:  49%|████▊     | 454/932 [43:41<50:23,  6.33s/file]"
     ]
    },
    {
     "name": "stdout",
     "output_type": "stream",
     "text": [
      "Vehicle Prediction: trailer\n",
      "Validation Result: True\n"
     ]
    },
    {
     "name": "stderr",
     "output_type": "stream",
     "text": [
      "Processing: truck 4:  49%|████▉     | 455/932 [43:44<42:18,  5.32s/file]"
     ]
    },
    {
     "name": "stdout",
     "output_type": "stream",
     "text": [
      "Vehicle Prediction: trailer\n",
      "Validation Result: True\n"
     ]
    },
    {
     "name": "stderr",
     "output_type": "stream",
     "text": [
      "Processing: truck 4:  49%|████▉     | 456/932 [43:47<36:34,  4.61s/file]"
     ]
    },
    {
     "name": "stdout",
     "output_type": "stream",
     "text": [
      "Vehicle Prediction: trailer\n",
      "Validation Result: True\n"
     ]
    },
    {
     "name": "stderr",
     "output_type": "stream",
     "text": [
      "[codecarbon INFO @ 15:56:46] Energy consumed for RAM : 0.008567 kWh. RAM Power : 11.756441116333008 W\n",
      "[codecarbon INFO @ 15:56:46] Energy consumed for all CPUs : 0.030975 kWh. Total CPU Power : 42.5 W\n",
      "[codecarbon INFO @ 15:56:46] Energy consumed for all GPUs : 0.069644 kWh. Total GPU Power : 94.92601976460637 W\n",
      "[codecarbon INFO @ 15:56:46] 0.109187 kWh of electricity used since the beginning.\n",
      "Processing: truck 4:  49%|████▉     | 457/932 [43:52<37:32,  4.74s/file]"
     ]
    },
    {
     "name": "stdout",
     "output_type": "stream",
     "text": [
      "Vehicle Prediction: trailer\n",
      "Validation Result: True\n"
     ]
    },
    {
     "name": "stderr",
     "output_type": "stream",
     "text": [
      "Processing: truck 4:  49%|████▉     | 458/932 [44:01<47:52,  6.06s/file]"
     ]
    },
    {
     "name": "stdout",
     "output_type": "stream",
     "text": [
      "Vehicle Prediction: trailer\n",
      "Validation Result: True\n"
     ]
    },
    {
     "name": "stderr",
     "output_type": "stream",
     "text": [
      "Processing: truck 4:  49%|████▉     | 459/932 [44:04<40:25,  5.13s/file][codecarbon INFO @ 15:57:01] Energy consumed for RAM : 0.008616 kWh. RAM Power : 11.756441116333008 W\n",
      "[codecarbon INFO @ 15:57:01] Energy consumed for all CPUs : 0.031152 kWh. Total CPU Power : 42.5 W\n",
      "[codecarbon INFO @ 15:57:01] Energy consumed for all GPUs : 0.070045 kWh. Total GPU Power : 96.11881777100487 W\n",
      "[codecarbon INFO @ 15:57:01] 0.109813 kWh of electricity used since the beginning.\n",
      "[codecarbon INFO @ 15:57:01] 0.011885 g.CO2eq/s mean an estimation of 374.79853354335717 kg.CO2eq/year\n"
     ]
    },
    {
     "name": "stdout",
     "output_type": "stream",
     "text": [
      "Vehicle Prediction: trailer\n",
      "Validation Result: True\n"
     ]
    },
    {
     "name": "stderr",
     "output_type": "stream",
     "text": [
      "Processing: truck 4:  49%|████▉     | 460/932 [44:07<35:14,  4.48s/file]"
     ]
    },
    {
     "name": "stdout",
     "output_type": "stream",
     "text": [
      "Vehicle Prediction: trailer\n",
      "Validation Result: True\n"
     ]
    },
    {
     "name": "stderr",
     "output_type": "stream",
     "text": [
      "Processing: truck 4:  49%|████▉     | 461/932 [44:14<42:12,  5.38s/file]"
     ]
    },
    {
     "name": "stdout",
     "output_type": "stream",
     "text": [
      "Vehicle Prediction: trailer\n",
      "Validation Result: True\n"
     ]
    },
    {
     "name": "stderr",
     "output_type": "stream",
     "text": [
      "[codecarbon INFO @ 15:57:16] Energy consumed for RAM : 0.008665 kWh. RAM Power : 11.756441116333008 W\n",
      "[codecarbon INFO @ 15:57:16] Energy consumed for all CPUs : 0.031329 kWh. Total CPU Power : 42.5 W\n",
      "[codecarbon INFO @ 15:57:16] Energy consumed for all GPUs : 0.070445 kWh. Total GPU Power : 96.18643492612048 W\n",
      "[codecarbon INFO @ 15:57:16] 0.110440 kWh of electricity used since the beginning.\n",
      "Processing: truck 4:  50%|████▉     | 462/932 [44:22<46:58,  6.00s/file]"
     ]
    },
    {
     "name": "stdout",
     "output_type": "stream",
     "text": [
      "Vehicle Prediction: trailer\n",
      "Validation Result: True\n"
     ]
    },
    {
     "name": "stderr",
     "output_type": "stream",
     "text": [
      "Processing: truck 4:  50%|████▉     | 463/932 [44:31<54:07,  6.92s/file]"
     ]
    },
    {
     "name": "stdout",
     "output_type": "stream",
     "text": [
      "Vehicle Prediction: dumptruck\n",
      "Validation Result: False\n"
     ]
    },
    {
     "name": "stderr",
     "output_type": "stream",
     "text": [
      "[codecarbon INFO @ 15:57:31] Energy consumed for RAM : 0.008714 kWh. RAM Power : 11.756441116333008 W\n",
      "[codecarbon INFO @ 15:57:31] Energy consumed for all CPUs : 0.031506 kWh. Total CPU Power : 42.5 W\n",
      "[codecarbon INFO @ 15:57:31] Energy consumed for all GPUs : 0.070845 kWh. Total GPU Power : 95.85745729350431 W\n",
      "[codecarbon INFO @ 15:57:31] 0.111065 kWh of electricity used since the beginning.\n"
     ]
    },
    {
     "name": "stdout",
     "output_type": "stream",
     "text": [
      "Vehicle Prediction: truck\n"
     ]
    },
    {
     "name": "stderr",
     "output_type": "stream",
     "text": [
      "Processing: truck 4:  50%|████▉     | 464/932 [44:48<1:18:41, 10.09s/file]"
     ]
    },
    {
     "name": "stdout",
     "output_type": "stream",
     "text": [
      "Is Pickup Truck: no.\n",
      "Validation Result: True\n"
     ]
    },
    {
     "name": "stderr",
     "output_type": "stream",
     "text": [
      "[codecarbon INFO @ 15:57:46] Energy consumed for RAM : 0.008763 kWh. RAM Power : 11.756441116333008 W\n",
      "[codecarbon INFO @ 15:57:46] Energy consumed for all CPUs : 0.031683 kWh. Total CPU Power : 42.5 W\n",
      "[codecarbon INFO @ 15:57:46] Energy consumed for all GPUs : 0.071240 kWh. Total GPU Power : 94.95050054710003 W\n",
      "[codecarbon INFO @ 15:57:46] 0.111687 kWh of electricity used since the beginning.\n",
      "Processing: truck 4:  50%|████▉     | 465/932 [44:56<1:12:29,  9.31s/file]"
     ]
    },
    {
     "name": "stdout",
     "output_type": "stream",
     "text": [
      "Vehicle Prediction: trailer\n",
      "Validation Result: True\n"
     ]
    },
    {
     "name": "stderr",
     "output_type": "stream",
     "text": [
      "Processing: truck 4:  50%|█████     | 466/932 [44:59<57:31,  7.41s/file]  "
     ]
    },
    {
     "name": "stdout",
     "output_type": "stream",
     "text": [
      "Vehicle Prediction: trailer\n",
      "Validation Result: True\n"
     ]
    },
    {
     "name": "stderr",
     "output_type": "stream",
     "text": [
      "[codecarbon INFO @ 15:58:01] Energy consumed for RAM : 0.008812 kWh. RAM Power : 11.756441116333008 W\n",
      "[codecarbon INFO @ 15:58:01] Energy consumed for all CPUs : 0.031860 kWh. Total CPU Power : 42.5 W\n",
      "[codecarbon INFO @ 15:58:01] Energy consumed for all GPUs : 0.071641 kWh. Total GPU Power : 96.26258228666737 W\n",
      "[codecarbon INFO @ 15:58:01] 0.112313 kWh of electricity used since the beginning.\n",
      "Processing: truck 4:  50%|█████     | 467/932 [45:06<57:30,  7.42s/file]"
     ]
    },
    {
     "name": "stdout",
     "output_type": "stream",
     "text": [
      "Vehicle Prediction: trailer\n",
      "Validation Result: True\n"
     ]
    },
    {
     "name": "stderr",
     "output_type": "stream",
     "text": [
      "Processing: truck 4:  50%|█████     | 468/932 [45:15<1:01:12,  7.91s/file]"
     ]
    },
    {
     "name": "stdout",
     "output_type": "stream",
     "text": [
      "Vehicle Prediction: trailer\n",
      "Validation Result: True\n"
     ]
    },
    {
     "name": "stderr",
     "output_type": "stream",
     "text": [
      "[codecarbon INFO @ 15:58:16] Energy consumed for RAM : 0.008861 kWh. RAM Power : 11.756441116333008 W\n",
      "[codecarbon INFO @ 15:58:16] Energy consumed for all CPUs : 0.032037 kWh. Total CPU Power : 42.5 W\n",
      "[codecarbon INFO @ 15:58:16] Energy consumed for all GPUs : 0.072040 kWh. Total GPU Power : 95.8576081052958 W\n",
      "[codecarbon INFO @ 15:58:16] 0.112939 kWh of electricity used since the beginning.\n",
      "Processing: truck 4:  50%|█████     | 469/932 [45:20<54:29,  7.06s/file]  "
     ]
    },
    {
     "name": "stdout",
     "output_type": "stream",
     "text": [
      "Vehicle Prediction: dumptruck\n",
      "Validation Result: False\n"
     ]
    },
    {
     "name": "stderr",
     "output_type": "stream",
     "text": [
      "Processing: truck 4:  50%|█████     | 470/932 [45:23<44:53,  5.83s/file]"
     ]
    },
    {
     "name": "stdout",
     "output_type": "stream",
     "text": [
      "Vehicle Prediction: dump-tr\n",
      "Validation Result: False\n",
      "Vehicle Prediction: truck\n"
     ]
    },
    {
     "name": "stderr",
     "output_type": "stream",
     "text": [
      "Processing: truck 4:  51%|█████     | 471/932 [45:29<43:28,  5.66s/file]"
     ]
    },
    {
     "name": "stdout",
     "output_type": "stream",
     "text": [
      "Is Pickup Truck: no.\n",
      "Validation Result: True\n"
     ]
    },
    {
     "name": "stderr",
     "output_type": "stream",
     "text": [
      "Processing: truck 4:  51%|█████     | 472/932 [45:32<37:07,  4.84s/file]"
     ]
    },
    {
     "name": "stdout",
     "output_type": "stream",
     "text": [
      "Vehicle Prediction: dump-tr\n",
      "Validation Result: False\n"
     ]
    },
    {
     "name": "stderr",
     "output_type": "stream",
     "text": [
      "[codecarbon INFO @ 15:58:31] Energy consumed for RAM : 0.008910 kWh. RAM Power : 11.756441116333008 W\n",
      "[codecarbon INFO @ 15:58:31] Energy consumed for all CPUs : 0.032214 kWh. Total CPU Power : 42.5 W\n",
      "[codecarbon INFO @ 15:58:31] Energy consumed for all GPUs : 0.072435 kWh. Total GPU Power : 94.82369373094949 W\n",
      "[codecarbon INFO @ 15:58:31] 0.113559 kWh of electricity used since the beginning.\n"
     ]
    },
    {
     "name": "stdout",
     "output_type": "stream",
     "text": [
      "Vehicle Prediction: truck\n"
     ]
    },
    {
     "name": "stderr",
     "output_type": "stream",
     "text": [
      "Processing: truck 4:  51%|█████     | 473/932 [45:37<37:59,  4.97s/file]"
     ]
    },
    {
     "name": "stdout",
     "output_type": "stream",
     "text": [
      "Is Pickup Truck: no.\n",
      "Validation Result: True\n"
     ]
    },
    {
     "name": "stderr",
     "output_type": "stream",
     "text": [
      "Processing: truck 4:  51%|█████     | 474/932 [45:44<43:36,  5.71s/file]"
     ]
    },
    {
     "name": "stdout",
     "output_type": "stream",
     "text": [
      "Vehicle Prediction: trailer\n",
      "Validation Result: True\n"
     ]
    },
    {
     "name": "stderr",
     "output_type": "stream",
     "text": [
      "Processing: truck 4:  51%|█████     | 475/932 [45:47<37:10,  4.88s/file]"
     ]
    },
    {
     "name": "stdout",
     "output_type": "stream",
     "text": [
      "Vehicle Prediction: trailer\n",
      "Validation Result: True\n"
     ]
    },
    {
     "name": "stderr",
     "output_type": "stream",
     "text": [
      "[codecarbon INFO @ 15:58:46] Energy consumed for RAM : 0.008959 kWh. RAM Power : 11.756441116333008 W\n",
      "[codecarbon INFO @ 15:58:46] Energy consumed for all CPUs : 0.032391 kWh. Total CPU Power : 42.5 W\n",
      "[codecarbon INFO @ 15:58:46] Energy consumed for all GPUs : 0.072833 kWh. Total GPU Power : 95.4434044182343 W\n",
      "[codecarbon INFO @ 15:58:46] 0.114183 kWh of electricity used since the beginning.\n",
      "Processing: truck 4:  51%|█████     | 476/932 [45:55<43:04,  5.67s/file]"
     ]
    },
    {
     "name": "stdout",
     "output_type": "stream",
     "text": [
      "Vehicle Prediction: trailer\n",
      "Validation Result: True\n"
     ]
    },
    {
     "name": "stderr",
     "output_type": "stream",
     "text": [
      "Processing: truck 4:  51%|█████     | 477/932 [45:59<40:25,  5.33s/file]"
     ]
    },
    {
     "name": "stdout",
     "output_type": "stream",
     "text": [
      "Vehicle Prediction: trailer\n",
      "Validation Result: True\n"
     ]
    },
    {
     "name": "stderr",
     "output_type": "stream",
     "text": [
      "Processing: truck 4:  51%|█████▏    | 478/932 [46:02<34:55,  4.61s/file]"
     ]
    },
    {
     "name": "stdout",
     "output_type": "stream",
     "text": [
      "Vehicle Prediction: trailer\n",
      "Validation Result: True\n"
     ]
    },
    {
     "name": "stderr",
     "output_type": "stream",
     "text": [
      "[codecarbon INFO @ 15:59:01] Energy consumed for RAM : 0.009008 kWh. RAM Power : 11.756441116333008 W\n",
      "[codecarbon INFO @ 15:59:01] Energy consumed for all CPUs : 0.032568 kWh. Total CPU Power : 42.5 W\n",
      "[codecarbon INFO @ 15:59:01] Energy consumed for all GPUs : 0.073230 kWh. Total GPU Power : 95.36965196693407 W\n",
      "[codecarbon INFO @ 15:59:01] 0.114806 kWh of electricity used since the beginning.\n",
      "[codecarbon INFO @ 15:59:01] 0.011878 g.CO2eq/s mean an estimation of 374.597278546364 kg.CO2eq/year\n",
      "Processing: truck 4:  51%|█████▏    | 479/932 [46:07<35:42,  4.73s/file]"
     ]
    },
    {
     "name": "stdout",
     "output_type": "stream",
     "text": [
      "Vehicle Prediction: dump-tr\n",
      "Validation Result: False\n"
     ]
    },
    {
     "name": "stderr",
     "output_type": "stream",
     "text": [
      "Processing: truck 4:  52%|█████▏    | 480/932 [46:15<41:53,  5.56s/file]"
     ]
    },
    {
     "name": "stdout",
     "output_type": "stream",
     "text": [
      "Vehicle Prediction: trailer\n",
      "Validation Result: True\n"
     ]
    },
    {
     "name": "stderr",
     "output_type": "stream",
     "text": [
      "[codecarbon INFO @ 15:59:16] Energy consumed for RAM : 0.009057 kWh. RAM Power : 11.756441116333008 W\n",
      "[codecarbon INFO @ 15:59:16] Energy consumed for all CPUs : 0.032745 kWh. Total CPU Power : 42.5 W\n",
      "[codecarbon INFO @ 15:59:16] Energy consumed for all GPUs : 0.073632 kWh. Total GPU Power : 96.49688549516434 W\n",
      "[codecarbon INFO @ 15:59:16] 0.115434 kWh of electricity used since the beginning.\n",
      "Processing: truck 4:  52%|█████▏    | 481/932 [46:22<46:04,  6.13s/file]"
     ]
    },
    {
     "name": "stdout",
     "output_type": "stream",
     "text": [
      "Vehicle Prediction: trailer\n",
      "Validation Result: True\n"
     ]
    },
    {
     "name": "stderr",
     "output_type": "stream",
     "text": [
      "Processing: truck 4:  52%|█████▏    | 482/932 [46:27<43:24,  5.79s/file]"
     ]
    },
    {
     "name": "stdout",
     "output_type": "stream",
     "text": [
      "Vehicle Prediction: dump-tr\n",
      "Validation Result: False\n"
     ]
    },
    {
     "name": "stderr",
     "output_type": "stream",
     "text": [
      "Processing: truck 4:  52%|█████▏    | 483/932 [46:30<36:53,  4.93s/file]"
     ]
    },
    {
     "name": "stdout",
     "output_type": "stream",
     "text": [
      "Vehicle Prediction: dump-tr\n",
      "Validation Result: False\n"
     ]
    },
    {
     "name": "stderr",
     "output_type": "stream",
     "text": [
      "Processing: truck 4:  52%|█████▏    | 484/932 [46:33<32:19,  4.33s/file]"
     ]
    },
    {
     "name": "stdout",
     "output_type": "stream",
     "text": [
      "Vehicle Prediction: trailer\n",
      "Validation Result: True\n"
     ]
    },
    {
     "name": "stderr",
     "output_type": "stream",
     "text": [
      "[codecarbon INFO @ 15:59:31] Energy consumed for RAM : 0.009106 kWh. RAM Power : 11.756441116333008 W\n",
      "[codecarbon INFO @ 15:59:31] Energy consumed for all CPUs : 0.032922 kWh. Total CPU Power : 42.5 W\n",
      "[codecarbon INFO @ 15:59:31] Energy consumed for all GPUs : 0.074027 kWh. Total GPU Power : 94.82382887824092 W\n",
      "[codecarbon INFO @ 15:59:31] 0.116055 kWh of electricity used since the beginning.\n",
      "Processing: truck 4:  52%|█████▏    | 485/932 [46:36<29:08,  3.91s/file]"
     ]
    },
    {
     "name": "stdout",
     "output_type": "stream",
     "text": [
      "Vehicle Prediction: trailer\n",
      "Validation Result: True\n"
     ]
    },
    {
     "name": "stderr",
     "output_type": "stream",
     "text": [
      "Processing: truck 4:  52%|█████▏    | 486/932 [46:43<37:02,  4.98s/file]"
     ]
    },
    {
     "name": "stdout",
     "output_type": "stream",
     "text": [
      "Vehicle Prediction: trailer\n",
      "Validation Result: True\n",
      "Vehicle Prediction: truck\n"
     ]
    },
    {
     "name": "stderr",
     "output_type": "stream",
     "text": [
      "[codecarbon INFO @ 15:59:46] Energy consumed for RAM : 0.009155 kWh. RAM Power : 11.756441116333008 W\n",
      "[codecarbon INFO @ 15:59:46] Energy consumed for all CPUs : 0.033099 kWh. Total CPU Power : 42.5 W\n",
      "[codecarbon INFO @ 15:59:46] Energy consumed for all GPUs : 0.074426 kWh. Total GPU Power : 95.76974162093057 W\n",
      "[codecarbon INFO @ 15:59:46] 0.116680 kWh of electricity used since the beginning.\n",
      "Processing: truck 4:  52%|█████▏    | 487/932 [46:53<47:15,  6.37s/file]"
     ]
    },
    {
     "name": "stdout",
     "output_type": "stream",
     "text": [
      "Is Pickup Truck: no.\n",
      "Validation Result: True\n"
     ]
    },
    {
     "name": "stderr",
     "output_type": "stream",
     "text": [
      "Processing: truck 4:  52%|█████▏    | 488/932 [47:00<49:35,  6.70s/file]"
     ]
    },
    {
     "name": "stdout",
     "output_type": "stream",
     "text": [
      "Vehicle Prediction: dump-tr\n",
      "Validation Result: False\n"
     ]
    },
    {
     "name": "stderr",
     "output_type": "stream",
     "text": [
      "[codecarbon INFO @ 16:00:01] Energy consumed for RAM : 0.009204 kWh. RAM Power : 11.756441116333008 W\n",
      "[codecarbon INFO @ 16:00:01] Energy consumed for all CPUs : 0.033276 kWh. Total CPU Power : 42.5 W\n",
      "[codecarbon INFO @ 16:00:01] Energy consumed for all GPUs : 0.074826 kWh. Total GPU Power : 96.04536245625172 W\n",
      "[codecarbon INFO @ 16:00:01] 0.117306 kWh of electricity used since the beginning.\n",
      "Processing: truck 4:  52%|█████▏    | 489/932 [47:10<54:41,  7.41s/file]"
     ]
    },
    {
     "name": "stdout",
     "output_type": "stream",
     "text": [
      "Vehicle Prediction: dump truck\n",
      "Validation Result: True\n"
     ]
    },
    {
     "name": "stderr",
     "output_type": "stream",
     "text": [
      "Processing: truck 4:  53%|█████▎    | 490/932 [47:14<48:20,  6.56s/file]"
     ]
    },
    {
     "name": "stdout",
     "output_type": "stream",
     "text": [
      "Vehicle Prediction: dumptruck\n",
      "Validation Result: False\n"
     ]
    },
    {
     "name": "stderr",
     "output_type": "stream",
     "text": [
      "[codecarbon INFO @ 16:00:16] Energy consumed for RAM : 0.009253 kWh. RAM Power : 11.756441116333008 W\n",
      "[codecarbon INFO @ 16:00:16] Energy consumed for all CPUs : 0.033453 kWh. Total CPU Power : 42.5 W\n",
      "[codecarbon INFO @ 16:00:16] Energy consumed for all GPUs : 0.075223 kWh. Total GPU Power : 95.44124817715307 W\n",
      "[codecarbon INFO @ 16:00:16] 0.117929 kWh of electricity used since the beginning.\n"
     ]
    },
    {
     "name": "stdout",
     "output_type": "stream",
     "text": [
      "Vehicle Prediction: truck\n"
     ]
    },
    {
     "name": "stderr",
     "output_type": "stream",
     "text": [
      "Processing: truck 4:  53%|█████▎    | 491/932 [47:24<55:07,  7.50s/file]"
     ]
    },
    {
     "name": "stdout",
     "output_type": "stream",
     "text": [
      "Is Pickup Truck: no.\n",
      "Validation Result: True\n"
     ]
    },
    {
     "name": "stderr",
     "output_type": "stream",
     "text": [
      "Processing: truck 4:  53%|█████▎    | 492/932 [47:27<44:57,  6.13s/file]"
     ]
    },
    {
     "name": "stdout",
     "output_type": "stream",
     "text": [
      "Vehicle Prediction: trailer\n",
      "Validation Result: True\n"
     ]
    },
    {
     "name": "stderr",
     "output_type": "stream",
     "text": [
      "[codecarbon INFO @ 16:00:31] Energy consumed for RAM : 0.009302 kWh. RAM Power : 11.756441116333008 W\n",
      "[codecarbon INFO @ 16:00:31] Energy consumed for all CPUs : 0.033630 kWh. Total CPU Power : 42.5 W\n",
      "[codecarbon INFO @ 16:00:31] Energy consumed for all GPUs : 0.075621 kWh. Total GPU Power : 95.41104159685152 W\n",
      "[codecarbon INFO @ 16:00:31] 0.118553 kWh of electricity used since the beginning.\n",
      "Processing: truck 4:  53%|█████▎    | 493/932 [47:36<51:15,  7.01s/file]"
     ]
    },
    {
     "name": "stdout",
     "output_type": "stream",
     "text": [
      "Vehicle Prediction: dumptruck\n",
      "Validation Result: False\n",
      "Vehicle Prediction: truck\n"
     ]
    },
    {
     "name": "stderr",
     "output_type": "stream",
     "text": [
      "[codecarbon INFO @ 16:00:46] Energy consumed for RAM : 0.009351 kWh. RAM Power : 11.756441116333008 W\n",
      "[codecarbon INFO @ 16:00:46] Energy consumed for all CPUs : 0.033807 kWh. Total CPU Power : 42.5 W\n",
      "[codecarbon INFO @ 16:00:46] Energy consumed for all GPUs : 0.076022 kWh. Total GPU Power : 96.42905220863163 W\n",
      "[codecarbon INFO @ 16:00:46] 0.119180 kWh of electricity used since the beginning.\n",
      "Processing: truck 4:  53%|█████▎    | 494/932 [47:53<1:13:56, 10.13s/file]"
     ]
    },
    {
     "name": "stdout",
     "output_type": "stream",
     "text": [
      "Is Pickup Truck: no.\n",
      "Validation Result: True\n"
     ]
    },
    {
     "name": "stderr",
     "output_type": "stream",
     "text": [
      "Processing: truck 4:  53%|█████▎    | 495/932 [48:02<1:11:20,  9.79s/file]"
     ]
    },
    {
     "name": "stdout",
     "output_type": "stream",
     "text": [
      "Vehicle Prediction: trailer\n",
      "Validation Result: True\n"
     ]
    },
    {
     "name": "stderr",
     "output_type": "stream",
     "text": [
      "[codecarbon INFO @ 16:01:01] Energy consumed for RAM : 0.009400 kWh. RAM Power : 11.756441116333008 W\n",
      "[codecarbon INFO @ 16:01:01] Energy consumed for all CPUs : 0.033984 kWh. Total CPU Power : 42.5 W\n",
      "[codecarbon INFO @ 16:01:01] Energy consumed for all GPUs : 0.076418 kWh. Total GPU Power : 95.06954972007028 W\n",
      "[codecarbon INFO @ 16:01:01] 0.119802 kWh of electricity used since the beginning.\n",
      "[codecarbon INFO @ 16:01:01] 0.011886 g.CO2eq/s mean an estimation of 374.8432071052773 kg.CO2eq/year\n",
      "Processing: truck 4:  53%|█████▎    | 496/932 [48:10<1:06:04,  9.09s/file]"
     ]
    },
    {
     "name": "stdout",
     "output_type": "stream",
     "text": [
      "Vehicle Prediction: trailer\n",
      "Validation Result: True\n"
     ]
    },
    {
     "name": "stderr",
     "output_type": "stream",
     "text": [
      "Processing: truck 4:  53%|█████▎    | 497/932 [48:17<1:02:23,  8.61s/file]"
     ]
    },
    {
     "name": "stdout",
     "output_type": "stream",
     "text": [
      "Vehicle Prediction: trailer\n",
      "Validation Result: True\n"
     ]
    },
    {
     "name": "stderr",
     "output_type": "stream",
     "text": [
      "[codecarbon INFO @ 16:01:16] Energy consumed for RAM : 0.009449 kWh. RAM Power : 11.756441116333008 W\n",
      "[codecarbon INFO @ 16:01:16] Energy consumed for all CPUs : 0.034161 kWh. Total CPU Power : 42.5 W\n",
      "[codecarbon INFO @ 16:01:16] Energy consumed for all GPUs : 0.076816 kWh. Total GPU Power : 95.48324125781949 W\n",
      "[codecarbon INFO @ 16:01:16] 0.120426 kWh of electricity used since the beginning.\n",
      "Processing: truck 4:  53%|█████▎    | 498/932 [48:25<59:44,  8.26s/file]  "
     ]
    },
    {
     "name": "stdout",
     "output_type": "stream",
     "text": [
      "Vehicle Prediction: dump-tr\n",
      "Validation Result: False\n"
     ]
    },
    {
     "name": "stderr",
     "output_type": "stream",
     "text": [
      "Processing: truck 4:  54%|█████▎    | 499/932 [48:32<57:55,  8.03s/file]"
     ]
    },
    {
     "name": "stdout",
     "output_type": "stream",
     "text": [
      "Vehicle Prediction: trailer\n",
      "Validation Result: True\n"
     ]
    },
    {
     "name": "stderr",
     "output_type": "stream",
     "text": [
      "[codecarbon INFO @ 16:01:31] Energy consumed for RAM : 0.009498 kWh. RAM Power : 11.756441116333008 W\n",
      "[codecarbon INFO @ 16:01:31] Energy consumed for all CPUs : 0.034338 kWh. Total CPU Power : 42.5 W\n",
      "[codecarbon INFO @ 16:01:31] Energy consumed for all GPUs : 0.077215 kWh. Total GPU Power : 95.97069395337091 W\n",
      "[codecarbon INFO @ 16:01:31] 0.121051 kWh of electricity used since the beginning.\n",
      "Processing: truck 4:  54%|█████▎    | 500/932 [48:35<46:46,  6.50s/file]"
     ]
    },
    {
     "name": "stdout",
     "output_type": "stream",
     "text": [
      "Vehicle Prediction: trailer\n",
      "Validation Result: True\n"
     ]
    },
    {
     "name": "stderr",
     "output_type": "stream",
     "text": [
      "Processing: truck 4:  54%|█████▍    | 501/932 [48:42<48:44,  6.78s/file]"
     ]
    },
    {
     "name": "stdout",
     "output_type": "stream",
     "text": [
      "Vehicle Prediction: trailer\n",
      "Validation Result: True\n"
     ]
    },
    {
     "name": "stderr",
     "output_type": "stream",
     "text": [
      "[codecarbon INFO @ 16:01:46] Energy consumed for RAM : 0.009547 kWh. RAM Power : 11.756441116333008 W\n",
      "[codecarbon INFO @ 16:01:46] Energy consumed for all CPUs : 0.034515 kWh. Total CPU Power : 42.5 W\n",
      "[codecarbon INFO @ 16:01:46] Energy consumed for all GPUs : 0.077616 kWh. Total GPU Power : 96.0911148312794 W\n",
      "[codecarbon INFO @ 16:01:46] 0.121677 kWh of electricity used since the beginning.\n",
      "Processing: truck 4:  54%|█████▍    | 502/932 [48:50<50:03,  6.99s/file]"
     ]
    },
    {
     "name": "stdout",
     "output_type": "stream",
     "text": [
      "Vehicle Prediction: trailer\n",
      "Validation Result: True\n"
     ]
    },
    {
     "name": "stderr",
     "output_type": "stream",
     "text": [
      "Processing: truck 4:  54%|█████▍    | 503/932 [48:57<50:58,  7.13s/file]"
     ]
    },
    {
     "name": "stdout",
     "output_type": "stream",
     "text": [
      "Vehicle Prediction: trailer\n",
      "Validation Result: True\n"
     ]
    },
    {
     "name": "stderr",
     "output_type": "stream",
     "text": [
      "Processing: truck 4:  54%|█████▍    | 504/932 [49:00<41:56,  5.88s/file]"
     ]
    },
    {
     "name": "stdout",
     "output_type": "stream",
     "text": [
      "Vehicle Prediction: dumptruck\n",
      "Validation Result: False\n"
     ]
    },
    {
     "name": "stderr",
     "output_type": "stream",
     "text": [
      "[codecarbon INFO @ 16:02:01] Energy consumed for RAM : 0.009595 kWh. RAM Power : 11.756441116333008 W\n",
      "[codecarbon INFO @ 16:02:01] Energy consumed for all CPUs : 0.034692 kWh. Total CPU Power : 42.5 W\n",
      "[codecarbon INFO @ 16:02:01] Energy consumed for all GPUs : 0.078013 kWh. Total GPU Power : 95.52180851559605 W\n",
      "[codecarbon INFO @ 16:02:01] 0.122301 kWh of electricity used since the beginning.\n",
      "Processing: truck 4:  54%|█████▍    | 505/932 [49:05<40:03,  5.63s/file]"
     ]
    },
    {
     "name": "stdout",
     "output_type": "stream",
     "text": [
      "Vehicle Prediction: dumptruck\n",
      "Validation Result: False\n"
     ]
    },
    {
     "name": "stderr",
     "output_type": "stream",
     "text": [
      "Processing: truck 4:  54%|█████▍    | 506/932 [49:08<34:16,  4.83s/file]"
     ]
    },
    {
     "name": "stdout",
     "output_type": "stream",
     "text": [
      "Vehicle Prediction: dumptruck\n",
      "Validation Result: False\n"
     ]
    },
    {
     "name": "stderr",
     "output_type": "stream",
     "text": [
      "Processing: truck 4:  54%|█████▍    | 507/932 [49:13<34:41,  4.90s/file]"
     ]
    },
    {
     "name": "stdout",
     "output_type": "stream",
     "text": [
      "Vehicle Prediction: dumptruck\n",
      "Validation Result: False\n"
     ]
    },
    {
     "name": "stderr",
     "output_type": "stream",
     "text": [
      "Processing: truck 4:  55%|█████▍    | 508/932 [49:18<33:57,  4.80s/file]"
     ]
    },
    {
     "name": "stdout",
     "output_type": "stream",
     "text": [
      "Vehicle Prediction: trailer\n",
      "Validation Result: True\n"
     ]
    },
    {
     "name": "stderr",
     "output_type": "stream",
     "text": [
      "[codecarbon INFO @ 16:02:16] Energy consumed for RAM : 0.009644 kWh. RAM Power : 11.756441116333008 W\n",
      "[codecarbon INFO @ 16:02:16] Energy consumed for all CPUs : 0.034869 kWh. Total CPU Power : 42.5 W\n",
      "[codecarbon INFO @ 16:02:16] Energy consumed for all GPUs : 0.078412 kWh. Total GPU Power : 95.72431998656187 W\n",
      "[codecarbon INFO @ 16:02:16] 0.122926 kWh of electricity used since the beginning.\n",
      "Processing: truck 4:  55%|█████▍    | 509/932 [49:25<39:33,  5.61s/file]"
     ]
    },
    {
     "name": "stdout",
     "output_type": "stream",
     "text": [
      "Vehicle Prediction: trailer\n",
      "Validation Result: True\n"
     ]
    },
    {
     "name": "stderr",
     "output_type": "stream",
     "text": [
      "Processing: truck 4:  55%|█████▍    | 510/932 [49:30<38:09,  5.43s/file]"
     ]
    },
    {
     "name": "stdout",
     "output_type": "stream",
     "text": [
      "Vehicle Prediction: trailer\n",
      "Validation Result: True\n"
     ]
    },
    {
     "name": "stderr",
     "output_type": "stream",
     "text": [
      "[codecarbon INFO @ 16:02:31] Energy consumed for RAM : 0.009693 kWh. RAM Power : 11.756441116333008 W\n",
      "[codecarbon INFO @ 16:02:31] Energy consumed for all CPUs : 0.035046 kWh. Total CPU Power : 42.5 W\n",
      "[codecarbon INFO @ 16:02:31] Energy consumed for all GPUs : 0.078812 kWh. Total GPU Power : 96.10802482921137 W\n",
      "[codecarbon INFO @ 16:02:31] 0.123552 kWh of electricity used since the beginning.\n"
     ]
    },
    {
     "name": "stdout",
     "output_type": "stream",
     "text": [
      "Vehicle Prediction: truck\n"
     ]
    },
    {
     "name": "stderr",
     "output_type": "stream",
     "text": [
      "Processing: truck 4:  55%|█████▍    | 511/932 [49:48<1:03:26,  9.04s/file]"
     ]
    },
    {
     "name": "stdout",
     "output_type": "stream",
     "text": [
      "Is Pickup Truck: no.\n",
      "Validation Result: True\n"
     ]
    },
    {
     "name": "stderr",
     "output_type": "stream",
     "text": [
      "[codecarbon INFO @ 16:02:46] Energy consumed for RAM : 0.009742 kWh. RAM Power : 11.756441116333008 W\n",
      "[codecarbon INFO @ 16:02:46] Energy consumed for all CPUs : 0.035223 kWh. Total CPU Power : 42.5 W\n",
      "[codecarbon INFO @ 16:02:46] Energy consumed for all GPUs : 0.079209 kWh. Total GPU Power : 95.18918323766316 W\n",
      "[codecarbon INFO @ 16:02:46] 0.124175 kWh of electricity used since the beginning.\n"
     ]
    },
    {
     "name": "stdout",
     "output_type": "stream",
     "text": [
      "Vehicle Prediction: truck\n"
     ]
    },
    {
     "name": "stderr",
     "output_type": "stream",
     "text": [
      "[codecarbon INFO @ 16:03:01] Energy consumed for RAM : 0.009791 kWh. RAM Power : 11.756441116333008 W\n",
      "[codecarbon INFO @ 16:03:01] Energy consumed for all CPUs : 0.035400 kWh. Total CPU Power : 42.5 W\n",
      "[codecarbon INFO @ 16:03:01] Energy consumed for all GPUs : 0.079609 kWh. Total GPU Power : 96.02803667874079 W\n",
      "[codecarbon INFO @ 16:03:01] 0.124800 kWh of electricity used since the beginning.\n",
      "[codecarbon INFO @ 16:03:01] 0.011892 g.CO2eq/s mean an estimation of 375.026104996417 kg.CO2eq/year\n",
      "Processing: truck 4:  55%|█████▍    | 512/932 [50:05<1:20:52, 11.55s/file]"
     ]
    },
    {
     "name": "stdout",
     "output_type": "stream",
     "text": [
      "Is Pickup Truck: no.\n",
      "Validation Result: True\n"
     ]
    },
    {
     "name": "stderr",
     "output_type": "stream",
     "text": [
      "Processing: truck 4:  55%|█████▌    | 513/932 [50:08<1:02:37,  8.97s/file]"
     ]
    },
    {
     "name": "stdout",
     "output_type": "stream",
     "text": [
      "Vehicle Prediction: dumptruck\n",
      "Validation Result: False\n"
     ]
    },
    {
     "name": "stderr",
     "output_type": "stream",
     "text": [
      "Processing: truck 4:  55%|█████▌    | 514/932 [50:11<49:52,  7.16s/file]  "
     ]
    },
    {
     "name": "stdout",
     "output_type": "stream",
     "text": [
      "Vehicle Prediction: dumptruck\n",
      "Validation Result: False\n"
     ]
    },
    {
     "name": "stderr",
     "output_type": "stream",
     "text": [
      "Processing: truck 4:  55%|█████▌    | 515/932 [50:14<40:56,  5.89s/file]"
     ]
    },
    {
     "name": "stdout",
     "output_type": "stream",
     "text": [
      "Vehicle Prediction: trailer\n",
      "Validation Result: True\n"
     ]
    },
    {
     "name": "stderr",
     "output_type": "stream",
     "text": [
      "[codecarbon INFO @ 16:03:16] Energy consumed for RAM : 0.009840 kWh. RAM Power : 11.756441116333008 W\n",
      "[codecarbon INFO @ 16:03:16] Energy consumed for all CPUs : 0.035577 kWh. Total CPU Power : 42.5 W\n",
      "[codecarbon INFO @ 16:03:16] Energy consumed for all GPUs : 0.080008 kWh. Total GPU Power : 95.92327073130637 W\n",
      "[codecarbon INFO @ 16:03:16] 0.125426 kWh of electricity used since the beginning.\n",
      "Processing: truck 4:  55%|█████▌    | 516/932 [50:22<44:08,  6.37s/file]"
     ]
    },
    {
     "name": "stdout",
     "output_type": "stream",
     "text": [
      "Vehicle Prediction: trailer\n",
      "Validation Result: True\n",
      "Vehicle Prediction: truck\n"
     ]
    },
    {
     "name": "stderr",
     "output_type": "stream",
     "text": [
      "Processing: truck 4:  55%|█████▌    | 517/932 [50:27<41:45,  6.04s/file]"
     ]
    },
    {
     "name": "stdout",
     "output_type": "stream",
     "text": [
      "Is Pickup Truck: no.\n",
      "Validation Result: True\n"
     ]
    },
    {
     "name": "stderr",
     "output_type": "stream",
     "text": [
      "[codecarbon INFO @ 16:03:31] Energy consumed for RAM : 0.009889 kWh. RAM Power : 11.756441116333008 W\n",
      "[codecarbon INFO @ 16:03:31] Energy consumed for all CPUs : 0.035754 kWh. Total CPU Power : 42.5 W\n",
      "[codecarbon INFO @ 16:03:31] Energy consumed for all GPUs : 0.080405 kWh. Total GPU Power : 95.26929229365655 W\n",
      "[codecarbon INFO @ 16:03:31] 0.126049 kWh of electricity used since the beginning.\n",
      "Processing: truck 4:  56%|█████▌    | 518/932 [50:36<48:00,  6.96s/file]"
     ]
    },
    {
     "name": "stdout",
     "output_type": "stream",
     "text": [
      "Vehicle Prediction: dumptruck\n",
      "Validation Result: False\n"
     ]
    },
    {
     "name": "stderr",
     "output_type": "stream",
     "text": [
      "Processing: truck 4:  56%|█████▌    | 519/932 [50:45<52:25,  7.62s/file]"
     ]
    },
    {
     "name": "stdout",
     "output_type": "stream",
     "text": [
      "Vehicle Prediction: dumptruck\n",
      "Validation Result: False\n"
     ]
    },
    {
     "name": "stderr",
     "output_type": "stream",
     "text": [
      "[codecarbon INFO @ 16:03:46] Energy consumed for RAM : 0.009938 kWh. RAM Power : 11.756441116333008 W\n",
      "[codecarbon INFO @ 16:03:46] Energy consumed for all CPUs : 0.035931 kWh. Total CPU Power : 42.5 W\n",
      "[codecarbon INFO @ 16:03:46] Energy consumed for all GPUs : 0.080806 kWh. Total GPU Power : 96.27721118079721 W\n",
      "[codecarbon INFO @ 16:03:46] 0.126676 kWh of electricity used since the beginning.\n",
      "Processing: truck 4:  56%|█████▌    | 520/932 [50:54<55:19,  8.06s/file]"
     ]
    },
    {
     "name": "stdout",
     "output_type": "stream",
     "text": [
      "Vehicle Prediction: trailer\n",
      "Validation Result: True\n"
     ]
    },
    {
     "name": "stderr",
     "output_type": "stream",
     "text": [
      "Processing: truck 4:  56%|█████▌    | 521/932 [51:02<54:02,  7.89s/file]"
     ]
    },
    {
     "name": "stdout",
     "output_type": "stream",
     "text": [
      "Vehicle Prediction: trailer\n",
      "Validation Result: True\n"
     ]
    },
    {
     "name": "stderr",
     "output_type": "stream",
     "text": [
      "[codecarbon INFO @ 16:04:01] Energy consumed for RAM : 0.009987 kWh. RAM Power : 11.756441116333008 W\n",
      "[codecarbon INFO @ 16:04:01] Energy consumed for all CPUs : 0.036108 kWh. Total CPU Power : 42.5 W\n",
      "[codecarbon INFO @ 16:04:01] Energy consumed for all GPUs : 0.081203 kWh. Total GPU Power : 95.3714578341938 W\n",
      "[codecarbon INFO @ 16:04:01] 0.127299 kWh of electricity used since the beginning.\n",
      "Processing: truck 4:  56%|█████▌    | 522/932 [51:05<43:45,  6.40s/file]"
     ]
    },
    {
     "name": "stdout",
     "output_type": "stream",
     "text": [
      "Vehicle Prediction: dumptruck\n",
      "Validation Result: False\n"
     ]
    },
    {
     "name": "stderr",
     "output_type": "stream",
     "text": [
      "Processing: truck 4:  56%|█████▌    | 523/932 [51:12<45:48,  6.72s/file]"
     ]
    },
    {
     "name": "stdout",
     "output_type": "stream",
     "text": [
      "Vehicle Prediction: trailer\n",
      "Validation Result: True\n"
     ]
    },
    {
     "name": "stderr",
     "output_type": "stream",
     "text": [
      "Processing: truck 4:  56%|█████▌    | 524/932 [51:17<42:10,  6.20s/file]"
     ]
    },
    {
     "name": "stdout",
     "output_type": "stream",
     "text": [
      "Vehicle Prediction: dumptruck\n",
      "Validation Result: False\n"
     ]
    },
    {
     "name": "stderr",
     "output_type": "stream",
     "text": [
      "[codecarbon INFO @ 16:04:16] Energy consumed for RAM : 0.010036 kWh. RAM Power : 11.756441116333008 W\n",
      "[codecarbon INFO @ 16:04:16] Energy consumed for all CPUs : 0.036285 kWh. Total CPU Power : 42.5 W\n",
      "[codecarbon INFO @ 16:04:16] Energy consumed for all GPUs : 0.081603 kWh. Total GPU Power : 95.90480852541594 W\n",
      "[codecarbon INFO @ 16:04:16] 0.127924 kWh of electricity used since the beginning.\n",
      "Processing: truck 4:  56%|█████▋    | 525/932 [51:22<39:38,  5.84s/file]"
     ]
    },
    {
     "name": "stdout",
     "output_type": "stream",
     "text": [
      "Vehicle Prediction: trailer\n",
      "Validation Result: True\n"
     ]
    },
    {
     "name": "stderr",
     "output_type": "stream",
     "text": [
      "Processing: truck 4:  56%|█████▋    | 526/932 [51:25<33:36,  4.97s/file]"
     ]
    },
    {
     "name": "stdout",
     "output_type": "stream",
     "text": [
      "Vehicle Prediction: trailer\n",
      "Validation Result: True\n"
     ]
    },
    {
     "name": "stderr",
     "output_type": "stream",
     "text": [
      "[codecarbon INFO @ 16:04:31] Energy consumed for RAM : 0.010085 kWh. RAM Power : 11.756441116333008 W\n",
      "[codecarbon INFO @ 16:04:31] Energy consumed for all CPUs : 0.036462 kWh. Total CPU Power : 42.5 W\n",
      "[codecarbon INFO @ 16:04:31] Energy consumed for all GPUs : 0.082002 kWh. Total GPU Power : 95.90847079049871 W\n",
      "[codecarbon INFO @ 16:04:31] 0.128550 kWh of electricity used since the beginning.\n",
      "Processing: truck 4:  57%|█████▋    | 527/932 [51:34<41:50,  6.20s/file]"
     ]
    },
    {
     "name": "stdout",
     "output_type": "stream",
     "text": [
      "Vehicle Prediction: dump-tr\n",
      "Validation Result: False\n"
     ]
    },
    {
     "name": "stderr",
     "output_type": "stream",
     "text": [
      "Processing: truck 4:  57%|█████▋    | 528/932 [51:40<41:14,  6.13s/file]"
     ]
    },
    {
     "name": "stdout",
     "output_type": "stream",
     "text": [
      "Vehicle Prediction: trailer\n",
      "Validation Result: True\n"
     ]
    },
    {
     "name": "stderr",
     "output_type": "stream",
     "text": [
      "Processing: truck 4:  57%|█████▋    | 529/932 [51:48<43:49,  6.52s/file]"
     ]
    },
    {
     "name": "stdout",
     "output_type": "stream",
     "text": [
      "Vehicle Prediction: trailer\n",
      "Validation Result: True\n"
     ]
    },
    {
     "name": "stderr",
     "output_type": "stream",
     "text": [
      "[codecarbon INFO @ 16:04:46] Energy consumed for RAM : 0.010134 kWh. RAM Power : 11.756441116333008 W\n",
      "[codecarbon INFO @ 16:04:46] Energy consumed for all CPUs : 0.036639 kWh. Total CPU Power : 42.5 W\n",
      "[codecarbon INFO @ 16:04:46] Energy consumed for all GPUs : 0.082399 kWh. Total GPU Power : 95.13769911660631 W\n",
      "[codecarbon INFO @ 16:04:46] 0.129172 kWh of electricity used since the beginning.\n"
     ]
    },
    {
     "name": "stdout",
     "output_type": "stream",
     "text": [
      "Vehicle Prediction: truck\n"
     ]
    },
    {
     "name": "stderr",
     "output_type": "stream",
     "text": [
      "[codecarbon INFO @ 16:05:01] Energy consumed for RAM : 0.010183 kWh. RAM Power : 11.756441116333008 W\n",
      "[codecarbon INFO @ 16:05:01] Energy consumed for all CPUs : 0.036816 kWh. Total CPU Power : 42.5 W\n",
      "[codecarbon INFO @ 16:05:01] Energy consumed for all GPUs : 0.082801 kWh. Total GPU Power : 96.7078473856525 W\n",
      "[codecarbon INFO @ 16:05:01] 0.129801 kWh of electricity used since the beginning.\n",
      "[codecarbon INFO @ 16:05:01] 0.011896 g.CO2eq/s mean an estimation of 375.15888511692253 kg.CO2eq/year\n",
      "Processing: Class 1 - Motorcycles:  57%|█████▋    | 530/932 [52:05<1:05:36,  9.79s/file]"
     ]
    },
    {
     "name": "stdout",
     "output_type": "stream",
     "text": [
      "Is Pickup Truck: no.\n",
      "Validation Result: True\n"
     ]
    },
    {
     "name": "stderr",
     "output_type": "stream",
     "text": [
      "Processing: Class 1 - Motorcycles:  57%|█████▋    | 531/932 [52:12<1:00:45,  9.09s/file]"
     ]
    },
    {
     "name": "stdout",
     "output_type": "stream",
     "text": [
      "Vehicle Prediction: motorbike\n",
      "Validation Result: True\n"
     ]
    },
    {
     "name": "stderr",
     "output_type": "stream",
     "text": [
      "[codecarbon INFO @ 16:05:16] Energy consumed for RAM : 0.010232 kWh. RAM Power : 11.756441116333008 W\n",
      "[codecarbon INFO @ 16:05:16] Energy consumed for all CPUs : 0.036993 kWh. Total CPU Power : 42.5 W\n",
      "[codecarbon INFO @ 16:05:16] Energy consumed for all GPUs : 0.083200 kWh. Total GPU Power : 95.5860010809502 W\n",
      "[codecarbon INFO @ 16:05:16] 0.130425 kWh of electricity used since the beginning.\n",
      "Processing: Class 1 - Motorcycles:  57%|█████▋    | 532/932 [52:20<57:17,  8.59s/file]  "
     ]
    },
    {
     "name": "stdout",
     "output_type": "stream",
     "text": [
      "Vehicle Prediction: motorbike\n",
      "Validation Result: True\n"
     ]
    },
    {
     "name": "stderr",
     "output_type": "stream",
     "text": [
      "Processing: Class 1 - Motorcycles:  57%|█████▋    | 533/932 [52:23<45:49,  6.89s/file]"
     ]
    },
    {
     "name": "stdout",
     "output_type": "stream",
     "text": [
      "Vehicle Prediction: moped\n",
      "Validation Result: True\n"
     ]
    },
    {
     "name": "stderr",
     "output_type": "stream",
     "text": [
      "Processing: Class 1 - Motorcycles:  57%|█████▋    | 534/932 [52:30<46:53,  7.07s/file]"
     ]
    },
    {
     "name": "stdout",
     "output_type": "stream",
     "text": [
      "Vehicle Prediction: motorbike\n",
      "Validation Result: True\n"
     ]
    },
    {
     "name": "stderr",
     "output_type": "stream",
     "text": [
      "[codecarbon INFO @ 16:05:31] Energy consumed for RAM : 0.010281 kWh. RAM Power : 11.756441116333008 W\n",
      "[codecarbon INFO @ 16:05:31] Energy consumed for all CPUs : 0.037170 kWh. Total CPU Power : 42.5 W\n",
      "[codecarbon INFO @ 16:05:31] Energy consumed for all GPUs : 0.083599 kWh. Total GPU Power : 95.91853828768215 W\n",
      "[codecarbon INFO @ 16:05:31] 0.131050 kWh of electricity used since the beginning.\n",
      "Processing: Class 1 - Motorcycles:  57%|█████▋    | 535/932 [52:38<47:34,  7.19s/file]"
     ]
    },
    {
     "name": "stdout",
     "output_type": "stream",
     "text": [
      "Vehicle Prediction: motorbike\n",
      "Validation Result: True\n"
     ]
    },
    {
     "name": "stderr",
     "output_type": "stream",
     "text": [
      "Processing: Class 1 - Motorcycles:  58%|█████▊    | 536/932 [52:45<48:00,  7.27s/file]"
     ]
    },
    {
     "name": "stdout",
     "output_type": "stream",
     "text": [
      "Vehicle Prediction: motorbike\n",
      "Validation Result: True\n"
     ]
    },
    {
     "name": "stderr",
     "output_type": "stream",
     "text": [
      "[codecarbon INFO @ 16:05:46] Energy consumed for RAM : 0.010330 kWh. RAM Power : 11.756441116333008 W\n",
      "[codecarbon INFO @ 16:05:46] Energy consumed for all CPUs : 0.037347 kWh. Total CPU Power : 42.5 W\n",
      "[codecarbon INFO @ 16:05:46] Energy consumed for all GPUs : 0.083996 kWh. Total GPU Power : 95.237377583854 W\n",
      "[codecarbon INFO @ 16:05:46] 0.131673 kWh of electricity used since the beginning.\n",
      "Processing: Class 1 - Motorcycles:  58%|█████▊    | 537/932 [52:53<48:15,  7.33s/file]"
     ]
    },
    {
     "name": "stdout",
     "output_type": "stream",
     "text": [
      "Vehicle Prediction: moped\n",
      "Validation Result: True\n"
     ]
    },
    {
     "name": "stderr",
     "output_type": "stream",
     "text": [
      "Processing: Class 1 - Motorcycles:  58%|█████▊    | 538/932 [53:00<48:27,  7.38s/file]"
     ]
    },
    {
     "name": "stdout",
     "output_type": "stream",
     "text": [
      "Vehicle Prediction: motorbike\n",
      "Validation Result: True\n"
     ]
    },
    {
     "name": "stderr",
     "output_type": "stream",
     "text": [
      "[codecarbon INFO @ 16:06:01] Energy consumed for RAM : 0.010379 kWh. RAM Power : 11.756441116333008 W\n",
      "[codecarbon INFO @ 16:06:01] Energy consumed for all CPUs : 0.037524 kWh. Total CPU Power : 42.5 W\n",
      "[codecarbon INFO @ 16:06:01] Energy consumed for all GPUs : 0.084396 kWh. Total GPU Power : 96.18437397347209 W\n",
      "[codecarbon INFO @ 16:06:01] 0.132299 kWh of electricity used since the beginning.\n",
      "Processing: Class 1 - Motorcycles:  58%|█████▊    | 539/932 [53:08<48:28,  7.40s/file]"
     ]
    },
    {
     "name": "stdout",
     "output_type": "stream",
     "text": [
      "Vehicle Prediction: motorbike\n",
      "Validation Result: True\n"
     ]
    },
    {
     "name": "stderr",
     "output_type": "stream",
     "text": [
      "Processing: Class 1 - Motorcycles:  58%|█████▊    | 540/932 [53:15<48:28,  7.42s/file]"
     ]
    },
    {
     "name": "stdout",
     "output_type": "stream",
     "text": [
      "Vehicle Prediction: motorbike\n",
      "Validation Result: True\n"
     ]
    },
    {
     "name": "stderr",
     "output_type": "stream",
     "text": [
      "[codecarbon INFO @ 16:06:16] Energy consumed for RAM : 0.010428 kWh. RAM Power : 11.756441116333008 W\n",
      "[codecarbon INFO @ 16:06:16] Energy consumed for all CPUs : 0.037701 kWh. Total CPU Power : 42.5 W\n",
      "[codecarbon INFO @ 16:06:16] Energy consumed for all GPUs : 0.084791 kWh. Total GPU Power : 94.89454387632635 W\n",
      "[codecarbon INFO @ 16:06:16] 0.132920 kWh of electricity used since the beginning.\n",
      "Processing: Class 1 - Motorcycles:  58%|█████▊    | 541/932 [53:23<48:25,  7.43s/file]"
     ]
    },
    {
     "name": "stdout",
     "output_type": "stream",
     "text": [
      "Vehicle Prediction: motorbike\n",
      "Validation Result: True\n"
     ]
    },
    {
     "name": "stderr",
     "output_type": "stream",
     "text": [
      "Processing: Class 1 - Motorcycles:  58%|█████▊    | 542/932 [53:30<48:23,  7.45s/file]"
     ]
    },
    {
     "name": "stdout",
     "output_type": "stream",
     "text": [
      "Vehicle Prediction: moped\n",
      "Validation Result: True\n"
     ]
    },
    {
     "name": "stderr",
     "output_type": "stream",
     "text": [
      "[codecarbon INFO @ 16:06:31] Energy consumed for RAM : 0.010477 kWh. RAM Power : 11.756441116333008 W\n",
      "[codecarbon INFO @ 16:06:31] Energy consumed for all CPUs : 0.037878 kWh. Total CPU Power : 42.5 W\n",
      "[codecarbon INFO @ 16:06:31] Energy consumed for all GPUs : 0.085192 kWh. Total GPU Power : 96.14154665887371 W\n",
      "[codecarbon INFO @ 16:06:31] 0.133547 kWh of electricity used since the beginning.\n",
      "Processing: Class 1 - Motorcycles:  58%|█████▊    | 543/932 [53:37<48:18,  7.45s/file]"
     ]
    },
    {
     "name": "stdout",
     "output_type": "stream",
     "text": [
      "Vehicle Prediction: moped\n",
      "Validation Result: True\n"
     ]
    },
    {
     "name": "stderr",
     "output_type": "stream",
     "text": [
      "Processing: Class 1 - Motorcycles:  58%|█████▊    | 544/932 [53:45<48:12,  7.46s/file]"
     ]
    },
    {
     "name": "stdout",
     "output_type": "stream",
     "text": [
      "Vehicle Prediction: moped\n",
      "Validation Result: True\n"
     ]
    },
    {
     "name": "stderr",
     "output_type": "stream",
     "text": [
      "[codecarbon INFO @ 16:06:46] Energy consumed for RAM : 0.010526 kWh. RAM Power : 11.756441116333008 W\n",
      "[codecarbon INFO @ 16:06:46] Energy consumed for all CPUs : 0.038055 kWh. Total CPU Power : 42.5 W\n",
      "[codecarbon INFO @ 16:06:46] Energy consumed for all GPUs : 0.085589 kWh. Total GPU Power : 95.4121754597922 W\n",
      "[codecarbon INFO @ 16:06:46] 0.134170 kWh of electricity used since the beginning.\n",
      "Processing: Class 1 - Motorcycles:  58%|█████▊    | 545/932 [53:52<48:06,  7.46s/file]"
     ]
    },
    {
     "name": "stdout",
     "output_type": "stream",
     "text": [
      "Vehicle Prediction: motorbike\n",
      "Validation Result: True\n"
     ]
    },
    {
     "name": "stderr",
     "output_type": "stream",
     "text": [
      "Processing: Class 1 - Motorcycles:  59%|█████▊    | 546/932 [54:00<47:59,  7.46s/file]"
     ]
    },
    {
     "name": "stdout",
     "output_type": "stream",
     "text": [
      "Vehicle Prediction: motorbike\n",
      "Validation Result: True\n"
     ]
    },
    {
     "name": "stderr",
     "output_type": "stream",
     "text": [
      "[codecarbon INFO @ 16:07:01] Energy consumed for RAM : 0.010575 kWh. RAM Power : 11.756441116333008 W\n",
      "[codecarbon INFO @ 16:07:01] Energy consumed for all CPUs : 0.038232 kWh. Total CPU Power : 42.5 W\n",
      "[codecarbon INFO @ 16:07:01] Energy consumed for all GPUs : 0.085987 kWh. Total GPU Power : 95.60965079970366 W\n",
      "[codecarbon INFO @ 16:07:01] 0.134794 kWh of electricity used since the beginning.\n",
      "[codecarbon INFO @ 16:07:01] 0.011880 g.CO2eq/s mean an estimation of 374.6361570715317 kg.CO2eq/year\n",
      "Processing: Class 1 - Motorcycles:  59%|█████▊    | 547/932 [54:07<47:55,  7.47s/file]"
     ]
    },
    {
     "name": "stdout",
     "output_type": "stream",
     "text": [
      "Vehicle Prediction: motorbike\n",
      "Validation Result: True\n"
     ]
    },
    {
     "name": "stderr",
     "output_type": "stream",
     "text": [
      "Processing: Class 1 - Motorcycles:  59%|█████▉    | 548/932 [54:15<47:47,  7.47s/file]"
     ]
    },
    {
     "name": "stdout",
     "output_type": "stream",
     "text": [
      "Vehicle Prediction: moped\n",
      "Validation Result: True\n"
     ]
    },
    {
     "name": "stderr",
     "output_type": "stream",
     "text": [
      "Processing: Class 1 - Motorcycles:  59%|█████▉    | 549/932 [54:18<38:58,  6.11s/file]"
     ]
    },
    {
     "name": "stdout",
     "output_type": "stream",
     "text": [
      "Vehicle Prediction: car\n",
      "Validation Result: False\n"
     ]
    },
    {
     "name": "stderr",
     "output_type": "stream",
     "text": [
      "[codecarbon INFO @ 16:07:16] Energy consumed for RAM : 0.010624 kWh. RAM Power : 11.756441116333008 W\n",
      "[codecarbon INFO @ 16:07:16] Energy consumed for all CPUs : 0.038409 kWh. Total CPU Power : 42.5 W\n",
      "[codecarbon INFO @ 16:07:16] Energy consumed for all GPUs : 0.086384 kWh. Total GPU Power : 95.37582204732178 W\n",
      "[codecarbon INFO @ 16:07:16] 0.135417 kWh of electricity used since the beginning.\n",
      "Processing: Class 1 - Motorcycles:  59%|█████▉    | 550/932 [54:25<41:25,  6.51s/file]"
     ]
    },
    {
     "name": "stdout",
     "output_type": "stream",
     "text": [
      "Vehicle Prediction: moped\n",
      "Validation Result: True\n"
     ]
    },
    {
     "name": "stderr",
     "output_type": "stream",
     "text": [
      "Processing: Class 1 - Motorcycles:  59%|█████▉    | 551/932 [54:28<34:31,  5.44s/file]"
     ]
    },
    {
     "name": "stdout",
     "output_type": "stream",
     "text": [
      "Vehicle Prediction: motorbike\n",
      "Validation Result: True\n"
     ]
    },
    {
     "name": "stderr",
     "output_type": "stream",
     "text": [
      "[codecarbon INFO @ 16:07:31] Energy consumed for RAM : 0.010673 kWh. RAM Power : 11.756441116333008 W\n",
      "[codecarbon INFO @ 16:07:31] Energy consumed for all CPUs : 0.038586 kWh. Total CPU Power : 42.5 W\n",
      "[codecarbon INFO @ 16:07:31] Energy consumed for all GPUs : 0.086787 kWh. Total GPU Power : 96.64340145031366 W\n",
      "[codecarbon INFO @ 16:07:31] 0.136046 kWh of electricity used since the beginning.\n",
      "Processing: Class 1 - Motorcycles:  59%|█████▉    | 552/932 [54:36<38:14,  6.04s/file]"
     ]
    },
    {
     "name": "stdout",
     "output_type": "stream",
     "text": [
      "Vehicle Prediction: motorbike\n",
      "Validation Result: True\n"
     ]
    },
    {
     "name": "stderr",
     "output_type": "stream",
     "text": [
      "Processing: Class 1 - Motorcycles:  59%|█████▉    | 553/932 [54:39<32:16,  5.11s/file]"
     ]
    },
    {
     "name": "stdout",
     "output_type": "stream",
     "text": [
      "Vehicle Prediction: motorbike\n",
      "Validation Result: True\n"
     ]
    },
    {
     "name": "stderr",
     "output_type": "stream",
     "text": [
      "Processing: Class 1 - Motorcycles:  59%|█████▉    | 554/932 [54:46<36:43,  5.83s/file]"
     ]
    },
    {
     "name": "stdout",
     "output_type": "stream",
     "text": [
      "Vehicle Prediction: motorbike\n",
      "Validation Result: True\n"
     ]
    },
    {
     "name": "stderr",
     "output_type": "stream",
     "text": [
      "[codecarbon INFO @ 16:07:46] Energy consumed for RAM : 0.010721 kWh. RAM Power : 11.756441116333008 W\n",
      "[codecarbon INFO @ 16:07:46] Energy consumed for all CPUs : 0.038763 kWh. Total CPU Power : 42.5 W\n",
      "[codecarbon INFO @ 16:07:46] Energy consumed for all GPUs : 0.087184 kWh. Total GPU Power : 95.37594412803014 W\n",
      "[codecarbon INFO @ 16:07:46] 0.136669 kWh of electricity used since the beginning.\n",
      "Processing: Class 1 - Motorcycles:  60%|█████▉    | 555/932 [54:53<39:42,  6.32s/file]"
     ]
    },
    {
     "name": "stdout",
     "output_type": "stream",
     "text": [
      "Vehicle Prediction: motorbike\n",
      "Validation Result: True\n"
     ]
    },
    {
     "name": "stderr",
     "output_type": "stream",
     "text": [
      "Processing: Class 1 - Motorcycles:  60%|█████▉    | 556/932 [55:01<41:43,  6.66s/file]"
     ]
    },
    {
     "name": "stdout",
     "output_type": "stream",
     "text": [
      "Vehicle Prediction: motorbike\n",
      "Validation Result: True\n"
     ]
    },
    {
     "name": "stderr",
     "output_type": "stream",
     "text": [
      "Processing: Class 1 - Motorcycles:  60%|█████▉    | 557/932 [55:04<34:38,  5.54s/file][codecarbon INFO @ 16:08:01] Energy consumed for RAM : 0.010770 kWh. RAM Power : 11.756441116333008 W\n",
      "[codecarbon INFO @ 16:08:01] Energy consumed for all CPUs : 0.038940 kWh. Total CPU Power : 42.5 W\n",
      "[codecarbon INFO @ 16:08:01] Energy consumed for all GPUs : 0.087582 kWh. Total GPU Power : 95.43245664935733 W\n",
      "[codecarbon INFO @ 16:08:01] 0.137293 kWh of electricity used since the beginning.\n"
     ]
    },
    {
     "name": "stdout",
     "output_type": "stream",
     "text": [
      "Vehicle Prediction: motorbike\n",
      "Validation Result: True\n"
     ]
    },
    {
     "name": "stderr",
     "output_type": "stream",
     "text": [
      "Processing: Class 1 - Motorcycles:  60%|█████▉    | 558/932 [55:11<38:06,  6.11s/file]"
     ]
    },
    {
     "name": "stdout",
     "output_type": "stream",
     "text": [
      "Vehicle Prediction: motorbike\n",
      "Validation Result: True\n"
     ]
    },
    {
     "name": "stderr",
     "output_type": "stream",
     "text": [
      "Processing: Class 1 - Motorcycles:  60%|█████▉    | 559/932 [55:19<40:30,  6.51s/file]"
     ]
    },
    {
     "name": "stdout",
     "output_type": "stream",
     "text": [
      "Vehicle Prediction: motorbike\n",
      "Validation Result: True\n"
     ]
    },
    {
     "name": "stderr",
     "output_type": "stream",
     "text": [
      "[codecarbon INFO @ 16:08:16] Energy consumed for RAM : 0.010819 kWh. RAM Power : 11.756441116333008 W\n",
      "[codecarbon INFO @ 16:08:16] Energy consumed for all CPUs : 0.039117 kWh. Total CPU Power : 42.5 W\n",
      "[codecarbon INFO @ 16:08:16] Energy consumed for all GPUs : 0.087981 kWh. Total GPU Power : 95.79824985694772 W\n",
      "[codecarbon INFO @ 16:08:16] 0.137918 kWh of electricity used since the beginning.\n",
      "Processing: Class 1 - Motorcycles:  60%|██████    | 560/932 [55:26<42:08,  6.80s/file]"
     ]
    },
    {
     "name": "stdout",
     "output_type": "stream",
     "text": [
      "Vehicle Prediction: moped\n",
      "Validation Result: True\n"
     ]
    },
    {
     "name": "stderr",
     "output_type": "stream",
     "text": [
      "Processing: Class 1 - Motorcycles:  60%|██████    | 561/932 [55:34<43:17,  7.00s/file]"
     ]
    },
    {
     "name": "stdout",
     "output_type": "stream",
     "text": [
      "Vehicle Prediction: motorbike\n",
      "Validation Result: True\n"
     ]
    },
    {
     "name": "stderr",
     "output_type": "stream",
     "text": [
      "[codecarbon INFO @ 16:08:31] Energy consumed for RAM : 0.010868 kWh. RAM Power : 11.756441116333008 W\n",
      "[codecarbon INFO @ 16:08:31] Energy consumed for all CPUs : 0.039294 kWh. Total CPU Power : 42.5 W\n",
      "[codecarbon INFO @ 16:08:31] Energy consumed for all GPUs : 0.088382 kWh. Total GPU Power : 96.18436141048389 W\n",
      "[codecarbon INFO @ 16:08:31] 0.138544 kWh of electricity used since the beginning.\n",
      "Processing: Class 1 - Motorcycles:  60%|██████    | 562/932 [55:37<35:41,  5.79s/file]"
     ]
    },
    {
     "name": "stdout",
     "output_type": "stream",
     "text": [
      "Vehicle Prediction: motorbike\n",
      "Validation Result: True\n"
     ]
    },
    {
     "name": "stderr",
     "output_type": "stream",
     "text": [
      "Processing: Class 1 - Motorcycles:  60%|██████    | 563/932 [55:44<38:42,  6.29s/file]"
     ]
    },
    {
     "name": "stdout",
     "output_type": "stream",
     "text": [
      "Vehicle Prediction: motorbike\n",
      "Validation Result: True\n"
     ]
    },
    {
     "name": "stderr",
     "output_type": "stream",
     "text": [
      "[codecarbon INFO @ 16:08:46] Energy consumed for RAM : 0.010917 kWh. RAM Power : 11.756441116333008 W\n",
      "[codecarbon INFO @ 16:08:46] Energy consumed for all CPUs : 0.039471 kWh. Total CPU Power : 42.5 W\n",
      "[codecarbon INFO @ 16:08:46] Energy consumed for all GPUs : 0.088777 kWh. Total GPU Power : 94.96421603978875 W\n",
      "[codecarbon INFO @ 16:08:46] 0.139165 kWh of electricity used since the beginning.\n",
      "Processing: Class 1 - Motorcycles:  61%|██████    | 564/932 [55:52<40:42,  6.64s/file]"
     ]
    },
    {
     "name": "stdout",
     "output_type": "stream",
     "text": [
      "Vehicle Prediction: moped\n",
      "Validation Result: True\n"
     ]
    },
    {
     "name": "stderr",
     "output_type": "stream",
     "text": [
      "Processing: Class 1 - Motorcycles:  61%|██████    | 565/932 [55:55<33:50,  5.53s/file]"
     ]
    },
    {
     "name": "stdout",
     "output_type": "stream",
     "text": [
      "Vehicle Prediction: moped\n",
      "Validation Result: True\n"
     ]
    },
    {
     "name": "stderr",
     "output_type": "stream",
     "text": [
      "Processing: Class 1 - Motorcycles:  61%|██████    | 566/932 [55:57<29:03,  4.76s/file]"
     ]
    },
    {
     "name": "stdout",
     "output_type": "stream",
     "text": [
      "Vehicle Prediction: moped\n",
      "Validation Result: True\n"
     ]
    },
    {
     "name": "stderr",
     "output_type": "stream",
     "text": [
      "[codecarbon INFO @ 16:09:01] Energy consumed for RAM : 0.010966 kWh. RAM Power : 11.756441116333008 W\n",
      "[codecarbon INFO @ 16:09:01] Energy consumed for all CPUs : 0.039648 kWh. Total CPU Power : 42.5 W\n",
      "[codecarbon INFO @ 16:09:01] Energy consumed for all GPUs : 0.089176 kWh. Total GPU Power : 95.77632555641323 W\n",
      "[codecarbon INFO @ 16:09:01] 0.139790 kWh of electricity used since the beginning.\n",
      "[codecarbon INFO @ 16:09:01] 0.011887 g.CO2eq/s mean an estimation of 374.8612732975497 kg.CO2eq/year\n",
      "Processing: Class 1 - Motorcycles:  61%|██████    | 567/932 [56:05<33:52,  5.57s/file]"
     ]
    },
    {
     "name": "stdout",
     "output_type": "stream",
     "text": [
      "Vehicle Prediction: moped\n",
      "Validation Result: True\n"
     ]
    },
    {
     "name": "stderr",
     "output_type": "stream",
     "text": [
      "Processing: Class 1 - Motorcycles:  61%|██████    | 568/932 [56:12<37:14,  6.14s/file]"
     ]
    },
    {
     "name": "stdout",
     "output_type": "stream",
     "text": [
      "Vehicle Prediction: motorbike\n",
      "Validation Result: True\n"
     ]
    },
    {
     "name": "stderr",
     "output_type": "stream",
     "text": [
      "[codecarbon INFO @ 16:09:16] Energy consumed for RAM : 0.011015 kWh. RAM Power : 11.756441116333008 W\n",
      "[codecarbon INFO @ 16:09:16] Energy consumed for all CPUs : 0.039825 kWh. Total CPU Power : 42.5 W\n",
      "[codecarbon INFO @ 16:09:16] Energy consumed for all GPUs : 0.089574 kWh. Total GPU Power : 95.52354046183842 W\n",
      "[codecarbon INFO @ 16:09:16] 0.140414 kWh of electricity used since the beginning.\n",
      "Processing: Class 1 - Motorcycles:  61%|██████    | 569/932 [56:20<39:32,  6.54s/file]"
     ]
    },
    {
     "name": "stdout",
     "output_type": "stream",
     "text": [
      "Vehicle Prediction: motorbike\n",
      "Validation Result: True\n"
     ]
    },
    {
     "name": "stderr",
     "output_type": "stream",
     "text": [
      "Processing: Class 1 - Motorcycles:  61%|██████    | 570/932 [56:27<41:06,  6.81s/file]"
     ]
    },
    {
     "name": "stdout",
     "output_type": "stream",
     "text": [
      "Vehicle Prediction: motorbike\n",
      "Validation Result: True\n"
     ]
    },
    {
     "name": "stderr",
     "output_type": "stream",
     "text": [
      "[codecarbon INFO @ 16:09:31] Energy consumed for RAM : 0.011064 kWh. RAM Power : 11.756441116333008 W\n",
      "[codecarbon INFO @ 16:09:31] Energy consumed for all CPUs : 0.040002 kWh. Total CPU Power : 42.5 W\n",
      "[codecarbon INFO @ 16:09:31] Energy consumed for all GPUs : 0.089975 kWh. Total GPU Power : 96.34717526207498 W\n",
      "[codecarbon INFO @ 16:09:31] 0.141041 kWh of electricity used since the beginning.\n",
      "Processing: Class 1 - Motorcycles:  61%|██████▏   | 571/932 [56:35<42:11,  7.01s/file]"
     ]
    },
    {
     "name": "stdout",
     "output_type": "stream",
     "text": [
      "Vehicle Prediction: motorbike\n",
      "Validation Result: True\n"
     ]
    },
    {
     "name": "stderr",
     "output_type": "stream",
     "text": [
      "Processing: Class 1 - Motorcycles:  61%|██████▏   | 572/932 [56:42<42:52,  7.15s/file]"
     ]
    },
    {
     "name": "stdout",
     "output_type": "stream",
     "text": [
      "Vehicle Prediction: motorbike\n",
      "Validation Result: True\n"
     ]
    },
    {
     "name": "stderr",
     "output_type": "stream",
     "text": [
      "[codecarbon INFO @ 16:09:46] Energy consumed for RAM : 0.011113 kWh. RAM Power : 11.756441116333008 W\n",
      "[codecarbon INFO @ 16:09:46] Energy consumed for all CPUs : 0.040179 kWh. Total CPU Power : 42.5 W\n",
      "[codecarbon INFO @ 16:09:46] Energy consumed for all GPUs : 0.090371 kWh. Total GPU Power : 95.16534488499026 W\n",
      "[codecarbon INFO @ 16:09:46] 0.141664 kWh of electricity used since the beginning.\n",
      "Processing: Class 1 - Motorcycles:  61%|██████▏   | 573/932 [56:50<43:17,  7.23s/file]"
     ]
    },
    {
     "name": "stdout",
     "output_type": "stream",
     "text": [
      "Vehicle Prediction: motorbike\n",
      "Validation Result: True\n"
     ]
    },
    {
     "name": "stderr",
     "output_type": "stream",
     "text": [
      "Processing: Class 1 - Motorcycles:  62%|██████▏   | 574/932 [56:57<43:31,  7.30s/file]"
     ]
    },
    {
     "name": "stdout",
     "output_type": "stream",
     "text": [
      "Vehicle Prediction: motorbike\n",
      "Validation Result: True\n"
     ]
    },
    {
     "name": "stderr",
     "output_type": "stream",
     "text": [
      "[codecarbon INFO @ 16:10:01] Energy consumed for RAM : 0.011162 kWh. RAM Power : 11.756441116333008 W\n",
      "[codecarbon INFO @ 16:10:01] Energy consumed for all CPUs : 0.040356 kWh. Total CPU Power : 42.5 W\n",
      "[codecarbon INFO @ 16:10:01] Energy consumed for all GPUs : 0.090769 kWh. Total GPU Power : 95.5111602030066 W\n",
      "[codecarbon INFO @ 16:10:01] 0.142288 kWh of electricity used since the beginning.\n",
      "Processing: Class 1 - Motorcycles:  62%|██████▏   | 575/932 [57:05<43:40,  7.34s/file]"
     ]
    },
    {
     "name": "stdout",
     "output_type": "stream",
     "text": [
      "Vehicle Prediction: motorbike\n",
      "Validation Result: True\n"
     ]
    },
    {
     "name": "stderr",
     "output_type": "stream",
     "text": [
      "Processing: Class 1 - Motorcycles:  62%|██████▏   | 576/932 [57:12<43:48,  7.38s/file]"
     ]
    },
    {
     "name": "stdout",
     "output_type": "stream",
     "text": [
      "Vehicle Prediction: motorbike\n",
      "Validation Result: True\n"
     ]
    },
    {
     "name": "stderr",
     "output_type": "stream",
     "text": [
      "Processing: Class 1 - Motorcycles:  62%|██████▏   | 577/932 [57:15<35:47,  6.05s/file]"
     ]
    },
    {
     "name": "stdout",
     "output_type": "stream",
     "text": [
      "Vehicle Prediction: moped\n",
      "Validation Result: True\n"
     ]
    },
    {
     "name": "stderr",
     "output_type": "stream",
     "text": [
      "[codecarbon INFO @ 16:10:16] Energy consumed for RAM : 0.011211 kWh. RAM Power : 11.756441116333008 W\n",
      "[codecarbon INFO @ 16:10:16] Energy consumed for all CPUs : 0.040533 kWh. Total CPU Power : 42.5 W\n",
      "[codecarbon INFO @ 16:10:16] Energy consumed for all GPUs : 0.091168 kWh. Total GPU Power : 95.73814892442752 W\n",
      "[codecarbon INFO @ 16:10:16] 0.142912 kWh of electricity used since the beginning.\n",
      "Processing: Class 1 - Motorcycles:  62%|██████▏   | 578/932 [57:22<38:12,  6.48s/file]"
     ]
    },
    {
     "name": "stdout",
     "output_type": "stream",
     "text": [
      "Vehicle Prediction: motorbike\n",
      "Validation Result: True\n"
     ]
    },
    {
     "name": "stderr",
     "output_type": "stream",
     "text": [
      "Processing: Class 1 - Motorcycles:  62%|██████▏   | 579/932 [57:25<31:51,  5.42s/file]"
     ]
    },
    {
     "name": "stdout",
     "output_type": "stream",
     "text": [
      "Vehicle Prediction: moped\n",
      "Validation Result: True\n"
     ]
    },
    {
     "name": "stderr",
     "output_type": "stream",
     "text": [
      "Processing: Class 1 - Motorcycles:  62%|██████▏   | 580/932 [57:33<35:18,  6.02s/file]"
     ]
    },
    {
     "name": "stdout",
     "output_type": "stream",
     "text": [
      "Vehicle Prediction: motorbike\n",
      "Validation Result: True\n"
     ]
    },
    {
     "name": "stderr",
     "output_type": "stream",
     "text": [
      "[codecarbon INFO @ 16:10:31] Energy consumed for RAM : 0.011260 kWh. RAM Power : 11.756441116333008 W\n",
      "[codecarbon INFO @ 16:10:31] Energy consumed for all CPUs : 0.040710 kWh. Total CPU Power : 42.5 W\n",
      "[codecarbon INFO @ 16:10:31] Energy consumed for all GPUs : 0.091565 kWh. Total GPU Power : 95.35006435652188 W\n",
      "[codecarbon INFO @ 16:10:31] 0.143535 kWh of electricity used since the beginning.\n",
      "Processing: Class 1 - Motorcycles:  62%|██████▏   | 581/932 [57:40<37:41,  6.44s/file]"
     ]
    },
    {
     "name": "stdout",
     "output_type": "stream",
     "text": [
      "Vehicle Prediction: motorbike\n",
      "Validation Result: True\n"
     ]
    },
    {
     "name": "stderr",
     "output_type": "stream",
     "text": [
      "Processing: Class 1 - Motorcycles:  62%|██████▏   | 582/932 [57:48<39:23,  6.75s/file]"
     ]
    },
    {
     "name": "stdout",
     "output_type": "stream",
     "text": [
      "Vehicle Prediction: moped\n",
      "Validation Result: True\n"
     ]
    },
    {
     "name": "stderr",
     "output_type": "stream",
     "text": [
      "[codecarbon INFO @ 16:10:46] Energy consumed for RAM : 0.011309 kWh. RAM Power : 11.756441116333008 W\n",
      "[codecarbon INFO @ 16:10:46] Energy consumed for all CPUs : 0.040887 kWh. Total CPU Power : 42.5 W\n",
      "[codecarbon INFO @ 16:10:46] Energy consumed for all GPUs : 0.091961 kWh. Total GPU Power : 95.23281170215587 W\n",
      "[codecarbon INFO @ 16:10:46] 0.144158 kWh of electricity used since the beginning.\n",
      "Processing: Class 1 - Motorcycles:  63%|██████▎   | 583/932 [57:55<40:33,  6.97s/file]"
     ]
    },
    {
     "name": "stdout",
     "output_type": "stream",
     "text": [
      "Vehicle Prediction: motorbike\n",
      "Validation Result: True\n"
     ]
    },
    {
     "name": "stderr",
     "output_type": "stream",
     "text": [
      "Processing: Class 1 - Motorcycles:  63%|██████▎   | 584/932 [57:58<33:27,  5.77s/file]"
     ]
    },
    {
     "name": "stdout",
     "output_type": "stream",
     "text": [
      "Vehicle Prediction: motorbike\n",
      "Validation Result: True\n"
     ]
    },
    {
     "name": "stderr",
     "output_type": "stream",
     "text": [
      "[codecarbon INFO @ 16:11:01] Energy consumed for RAM : 0.011358 kWh. RAM Power : 11.756441116333008 W\n",
      "[codecarbon INFO @ 16:11:01] Energy consumed for all CPUs : 0.041064 kWh. Total CPU Power : 42.5 W\n",
      "[codecarbon INFO @ 16:11:01] Energy consumed for all GPUs : 0.092363 kWh. Total GPU Power : 96.30189895041471 W\n",
      "[codecarbon INFO @ 16:11:01] 0.144785 kWh of electricity used since the beginning.\n",
      "[codecarbon INFO @ 16:11:01] 0.011882 g.CO2eq/s mean an estimation of 374.71253037102446 kg.CO2eq/year\n",
      "Processing: Class 1 - Motorcycles:  63%|██████▎   | 585/932 [58:06<36:20,  6.28s/file]"
     ]
    },
    {
     "name": "stdout",
     "output_type": "stream",
     "text": [
      "Vehicle Prediction: motorbike\n",
      "Validation Result: True\n"
     ]
    },
    {
     "name": "stderr",
     "output_type": "stream",
     "text": [
      "Processing: Class 1 - Motorcycles:  63%|██████▎   | 586/932 [58:09<30:27,  5.28s/file]"
     ]
    },
    {
     "name": "stdout",
     "output_type": "stream",
     "text": [
      "Vehicle Prediction: motorbike\n",
      "Validation Result: True\n"
     ]
    },
    {
     "name": "stderr",
     "output_type": "stream",
     "text": [
      "Processing: Class 1 - Motorcycles:  63%|██████▎   | 587/932 [58:16<34:07,  5.93s/file]"
     ]
    },
    {
     "name": "stdout",
     "output_type": "stream",
     "text": [
      "Vehicle Prediction: moped\n",
      "Validation Result: True\n"
     ]
    },
    {
     "name": "stderr",
     "output_type": "stream",
     "text": [
      "[codecarbon INFO @ 16:11:16] Energy consumed for RAM : 0.011407 kWh. RAM Power : 11.756441116333008 W\n",
      "[codecarbon INFO @ 16:11:16] Energy consumed for all CPUs : 0.041241 kWh. Total CPU Power : 42.5 W\n",
      "[codecarbon INFO @ 16:11:16] Energy consumed for all GPUs : 0.092764 kWh. Total GPU Power : 96.30507889343579 W\n",
      "[codecarbon INFO @ 16:11:16] 0.145412 kWh of electricity used since the beginning.\n",
      "Processing: Class 1 - Motorcycles:  63%|██████▎   | 588/932 [58:24<36:36,  6.39s/file]"
     ]
    },
    {
     "name": "stdout",
     "output_type": "stream",
     "text": [
      "Vehicle Prediction: moped\n",
      "Validation Result: True\n"
     ]
    },
    {
     "name": "stderr",
     "output_type": "stream",
     "text": [
      "Processing: Class 1 - Motorcycles:  63%|██████▎   | 589/932 [58:31<38:19,  6.70s/file]"
     ]
    },
    {
     "name": "stdout",
     "output_type": "stream",
     "text": [
      "Vehicle Prediction: motorbike\n",
      "Validation Result: True\n"
     ]
    },
    {
     "name": "stderr",
     "output_type": "stream",
     "text": [
      "[codecarbon INFO @ 16:11:31] Energy consumed for RAM : 0.011456 kWh. RAM Power : 11.756441116333008 W\n",
      "[codecarbon INFO @ 16:11:31] Energy consumed for all CPUs : 0.041418 kWh. Total CPU Power : 42.5 W\n",
      "[codecarbon INFO @ 16:11:31] Energy consumed for all GPUs : 0.093164 kWh. Total GPU Power : 96.00578579430005 W\n",
      "[codecarbon INFO @ 16:11:31] 0.146038 kWh of electricity used since the beginning.\n",
      "Processing: Class 1 - Motorcycles:  63%|██████▎   | 590/932 [58:38<39:26,  6.92s/file]"
     ]
    },
    {
     "name": "stdout",
     "output_type": "stream",
     "text": [
      "Vehicle Prediction: motorbike\n",
      "Validation Result: True\n"
     ]
    },
    {
     "name": "stderr",
     "output_type": "stream",
     "text": [
      "Processing: Class 1 - Motorcycles:  63%|██████▎   | 591/932 [58:46<40:14,  7.08s/file]"
     ]
    },
    {
     "name": "stdout",
     "output_type": "stream",
     "text": [
      "Vehicle Prediction: motorbike\n",
      "Validation Result: True\n"
     ]
    },
    {
     "name": "stderr",
     "output_type": "stream",
     "text": [
      "Processing: Class 1 - Motorcycles:  64%|██████▎   | 592/932 [58:49<33:04,  5.84s/file]"
     ]
    },
    {
     "name": "stdout",
     "output_type": "stream",
     "text": [
      "Vehicle Prediction: motorbike\n",
      "Validation Result: True\n"
     ]
    },
    {
     "name": "stderr",
     "output_type": "stream",
     "text": [
      "[codecarbon INFO @ 16:11:46] Energy consumed for RAM : 0.011505 kWh. RAM Power : 11.756441116333008 W\n",
      "[codecarbon INFO @ 16:11:46] Energy consumed for all CPUs : 0.041595 kWh. Total CPU Power : 42.5 W\n",
      "[codecarbon INFO @ 16:11:46] Energy consumed for all GPUs : 0.093559 kWh. Total GPU Power : 94.90785117813056 W\n",
      "[codecarbon INFO @ 16:11:46] 0.146659 kWh of electricity used since the beginning.\n",
      "Processing: Class 1 - Motorcycles:  64%|██████▎   | 593/932 [58:56<35:43,  6.32s/file]"
     ]
    },
    {
     "name": "stdout",
     "output_type": "stream",
     "text": [
      "Vehicle Prediction: motorbike\n",
      "Validation Result: True\n"
     ]
    },
    {
     "name": "stderr",
     "output_type": "stream",
     "text": [
      "Processing: Class 1 - Motorcycles:  64%|██████▎   | 594/932 [59:04<37:32,  6.67s/file]"
     ]
    },
    {
     "name": "stdout",
     "output_type": "stream",
     "text": [
      "Vehicle Prediction: motorbike\n",
      "Validation Result: True\n"
     ]
    },
    {
     "name": "stderr",
     "output_type": "stream",
     "text": [
      "[codecarbon INFO @ 16:12:01] Energy consumed for RAM : 0.011554 kWh. RAM Power : 11.756441116333008 W\n",
      "[codecarbon INFO @ 16:12:01] Energy consumed for all CPUs : 0.041772 kWh. Total CPU Power : 42.5 W\n",
      "[codecarbon INFO @ 16:12:01] Energy consumed for all GPUs : 0.093958 kWh. Total GPU Power : 95.79504877155482 W\n",
      "[codecarbon INFO @ 16:12:01] 0.147284 kWh of electricity used since the beginning.\n",
      "Processing: Class 1 - Motorcycles:  64%|██████▍   | 595/932 [59:11<38:42,  6.89s/file]"
     ]
    },
    {
     "name": "stdout",
     "output_type": "stream",
     "text": [
      "Vehicle Prediction: motorbike\n",
      "Validation Result: True\n"
     ]
    },
    {
     "name": "stderr",
     "output_type": "stream",
     "text": [
      "Processing: Class 1 - Motorcycles:  64%|██████▍   | 596/932 [59:19<39:31,  7.06s/file]"
     ]
    },
    {
     "name": "stdout",
     "output_type": "stream",
     "text": [
      "Vehicle Prediction: moped\n",
      "Validation Result: True\n"
     ]
    },
    {
     "name": "stderr",
     "output_type": "stream",
     "text": [
      "[codecarbon INFO @ 16:12:16] Energy consumed for RAM : 0.011603 kWh. RAM Power : 11.756441116333008 W\n",
      "[codecarbon INFO @ 16:12:16] Energy consumed for all CPUs : 0.041949 kWh. Total CPU Power : 42.5 W\n",
      "[codecarbon INFO @ 16:12:16] Energy consumed for all GPUs : 0.094356 kWh. Total GPU Power : 95.6789514956849 W\n",
      "[codecarbon INFO @ 16:12:16] 0.147908 kWh of electricity used since the beginning.\n",
      "Processing: Class 1 - Motorcycles:  64%|██████▍   | 597/932 [59:26<40:05,  7.18s/file]"
     ]
    },
    {
     "name": "stdout",
     "output_type": "stream",
     "text": [
      "Vehicle Prediction: moped\n",
      "Validation Result: True\n"
     ]
    },
    {
     "name": "stderr",
     "output_type": "stream",
     "text": [
      "Processing: Class 1 - Motorcycles:  64%|██████▍   | 598/932 [59:34<40:27,  7.27s/file]"
     ]
    },
    {
     "name": "stdout",
     "output_type": "stream",
     "text": [
      "Vehicle Prediction: motorbike\n",
      "Validation Result: True\n"
     ]
    },
    {
     "name": "stderr",
     "output_type": "stream",
     "text": [
      "[codecarbon INFO @ 16:12:31] Energy consumed for RAM : 0.011652 kWh. RAM Power : 11.756441116333008 W\n",
      "[codecarbon INFO @ 16:12:31] Energy consumed for all CPUs : 0.042126 kWh. Total CPU Power : 42.5 W\n",
      "[codecarbon INFO @ 16:12:31] Energy consumed for all GPUs : 0.094754 kWh. Total GPU Power : 95.51479265625979 W\n",
      "[codecarbon INFO @ 16:12:31] 0.148532 kWh of electricity used since the beginning.\n",
      "Processing: Class 1 - Motorcycles:  64%|██████▍   | 599/932 [59:41<40:39,  7.33s/file]"
     ]
    },
    {
     "name": "stdout",
     "output_type": "stream",
     "text": [
      "Vehicle Prediction: motorbike\n",
      "Validation Result: True\n"
     ]
    },
    {
     "name": "stderr",
     "output_type": "stream",
     "text": [
      "Processing: Class 1 - Motorcycles:  64%|██████▍   | 600/932 [59:48<40:46,  7.37s/file]"
     ]
    },
    {
     "name": "stdout",
     "output_type": "stream",
     "text": [
      "Vehicle Prediction: motorbike\n",
      "Validation Result: True\n"
     ]
    },
    {
     "name": "stderr",
     "output_type": "stream",
     "text": [
      "[codecarbon INFO @ 16:12:46] Energy consumed for RAM : 0.011701 kWh. RAM Power : 11.756441116333008 W\n",
      "[codecarbon INFO @ 16:12:46] Energy consumed for all CPUs : 0.042303 kWh. Total CPU Power : 42.5 W\n",
      "[codecarbon INFO @ 16:12:46] Energy consumed for all GPUs : 0.095154 kWh. Total GPU Power : 95.94063328342573 W\n",
      "[codecarbon INFO @ 16:12:46] 0.149158 kWh of electricity used since the beginning.\n",
      "Processing: Class 1 - Motorcycles:  64%|██████▍   | 601/932 [59:56<40:47,  7.39s/file]"
     ]
    },
    {
     "name": "stdout",
     "output_type": "stream",
     "text": [
      "Vehicle Prediction: motorbike\n",
      "Validation Result: True\n"
     ]
    },
    {
     "name": "stderr",
     "output_type": "stream",
     "text": [
      "Processing: Class 1 - Motorcycles:  65%|██████▍   | 602/932 [1:00:03<40:51,  7.43s/file]"
     ]
    },
    {
     "name": "stdout",
     "output_type": "stream",
     "text": [
      "Vehicle Prediction: motorbike\n",
      "Validation Result: True\n"
     ]
    },
    {
     "name": "stderr",
     "output_type": "stream",
     "text": [
      "[codecarbon INFO @ 16:13:01] Energy consumed for RAM : 0.011750 kWh. RAM Power : 11.756441116333008 W\n",
      "[codecarbon INFO @ 16:13:01] Energy consumed for all CPUs : 0.042480 kWh. Total CPU Power : 42.5 W\n",
      "[codecarbon INFO @ 16:13:01] Energy consumed for all GPUs : 0.095554 kWh. Total GPU Power : 96.09638595020309 W\n",
      "[codecarbon INFO @ 16:13:01] 0.149784 kWh of electricity used since the beginning.\n",
      "[codecarbon INFO @ 16:13:01] 0.011893 g.CO2eq/s mean an estimation of 375.07026583096575 kg.CO2eq/year\n",
      "Processing: Class 1 - Motorcycles:  65%|██████▍   | 603/932 [1:00:06<33:23,  6.09s/file]"
     ]
    },
    {
     "name": "stdout",
     "output_type": "stream",
     "text": [
      "Vehicle Prediction: motorbike\n",
      "Validation Result: True\n"
     ]
    },
    {
     "name": "stderr",
     "output_type": "stream",
     "text": [
      "Processing: Class 1 - Motorcycles:  65%|██████▍   | 604/932 [1:00:14<35:32,  6.50s/file]"
     ]
    },
    {
     "name": "stdout",
     "output_type": "stream",
     "text": [
      "Vehicle Prediction: motorbike\n",
      "Validation Result: True\n"
     ]
    },
    {
     "name": "stderr",
     "output_type": "stream",
     "text": [
      "[codecarbon INFO @ 16:13:16] Energy consumed for RAM : 0.011799 kWh. RAM Power : 11.756441116333008 W\n",
      "[codecarbon INFO @ 16:13:16] Energy consumed for all CPUs : 0.042657 kWh. Total CPU Power : 42.5 W\n",
      "[codecarbon INFO @ 16:13:16] Energy consumed for all GPUs : 0.095954 kWh. Total GPU Power : 96.029885184425 W\n",
      "[codecarbon INFO @ 16:13:16] 0.150410 kWh of electricity used since the beginning.\n",
      "Processing: Class 1 - Motorcycles:  65%|██████▍   | 605/932 [1:00:21<37:00,  6.79s/file]"
     ]
    },
    {
     "name": "stdout",
     "output_type": "stream",
     "text": [
      "Vehicle Prediction: motorbike\n",
      "Validation Result: True\n"
     ]
    },
    {
     "name": "stderr",
     "output_type": "stream",
     "text": [
      "Processing: Class 1 - Motorcycles:  65%|██████▌   | 606/932 [1:00:29<37:59,  6.99s/file]"
     ]
    },
    {
     "name": "stdout",
     "output_type": "stream",
     "text": [
      "Vehicle Prediction: moped\n",
      "Validation Result: True\n"
     ]
    },
    {
     "name": "stderr",
     "output_type": "stream",
     "text": [
      "[codecarbon INFO @ 16:13:31] Energy consumed for RAM : 0.011847 kWh. RAM Power : 11.756441116333008 W\n",
      "[codecarbon INFO @ 16:13:31] Energy consumed for all CPUs : 0.042834 kWh. Total CPU Power : 42.5 W\n",
      "[codecarbon INFO @ 16:13:31] Energy consumed for all GPUs : 0.096352 kWh. Total GPU Power : 95.47104812435457 W\n",
      "[codecarbon INFO @ 16:13:31] 0.151033 kWh of electricity used since the beginning.\n",
      "Processing: Class 1 - Motorcycles:  65%|██████▌   | 607/932 [1:00:36<38:34,  7.12s/file]"
     ]
    },
    {
     "name": "stdout",
     "output_type": "stream",
     "text": [
      "Vehicle Prediction: motorbike\n",
      "Validation Result: True\n"
     ]
    },
    {
     "name": "stderr",
     "output_type": "stream",
     "text": [
      "Processing: Class 1 - Motorcycles:  65%|██████▌   | 608/932 [1:00:44<38:56,  7.21s/file]"
     ]
    },
    {
     "name": "stdout",
     "output_type": "stream",
     "text": [
      "Vehicle Prediction: motorbike\n",
      "Validation Result: True\n"
     ]
    },
    {
     "name": "stderr",
     "output_type": "stream",
     "text": [
      "[codecarbon INFO @ 16:13:46] Energy consumed for RAM : 0.011896 kWh. RAM Power : 11.756441116333008 W\n",
      "[codecarbon INFO @ 16:13:46] Energy consumed for all CPUs : 0.043011 kWh. Total CPU Power : 42.5 W\n",
      "[codecarbon INFO @ 16:13:46] Energy consumed for all GPUs : 0.096749 kWh. Total GPU Power : 95.30142649340758 W\n",
      "[codecarbon INFO @ 16:13:46] 0.151656 kWh of electricity used since the beginning.\n",
      "Processing: Class 1 - Motorcycles:  65%|██████▌   | 609/932 [1:00:51<39:08,  7.27s/file]"
     ]
    },
    {
     "name": "stdout",
     "output_type": "stream",
     "text": [
      "Vehicle Prediction: motorbike\n",
      "Validation Result: True\n"
     ]
    },
    {
     "name": "stderr",
     "output_type": "stream",
     "text": [
      "Processing: Class 1 - Motorcycles:  65%|██████▌   | 610/932 [1:00:58<39:17,  7.32s/file]"
     ]
    },
    {
     "name": "stdout",
     "output_type": "stream",
     "text": [
      "Vehicle Prediction: motorbike\n",
      "Validation Result: True\n"
     ]
    },
    {
     "name": "stderr",
     "output_type": "stream",
     "text": [
      "[codecarbon INFO @ 16:14:01] Energy consumed for RAM : 0.011945 kWh. RAM Power : 11.756441116333008 W\n",
      "[codecarbon INFO @ 16:14:01] Energy consumed for all CPUs : 0.043188 kWh. Total CPU Power : 42.5 W\n",
      "[codecarbon INFO @ 16:14:01] Energy consumed for all GPUs : 0.097146 kWh. Total GPU Power : 95.49017013549171 W\n",
      "[codecarbon INFO @ 16:14:01] 0.152280 kWh of electricity used since the beginning.\n",
      "Processing: Class 1 - Motorcycles:  66%|██████▌   | 611/932 [1:01:06<39:22,  7.36s/file]"
     ]
    },
    {
     "name": "stdout",
     "output_type": "stream",
     "text": [
      "Vehicle Prediction: motorbike\n",
      "Validation Result: True\n"
     ]
    },
    {
     "name": "stderr",
     "output_type": "stream",
     "text": [
      "Processing: Class 1 - Motorcycles:  66%|██████▌   | 612/932 [1:01:13<39:27,  7.40s/file]"
     ]
    },
    {
     "name": "stdout",
     "output_type": "stream",
     "text": [
      "Vehicle Prediction: moped\n",
      "Validation Result: True\n"
     ]
    },
    {
     "name": "stderr",
     "output_type": "stream",
     "text": [
      "[codecarbon INFO @ 16:14:16] Energy consumed for RAM : 0.011994 kWh. RAM Power : 11.756441116333008 W\n",
      "[codecarbon INFO @ 16:14:16] Energy consumed for all CPUs : 0.043365 kWh. Total CPU Power : 42.5 W\n",
      "[codecarbon INFO @ 16:14:16] Energy consumed for all GPUs : 0.097547 kWh. Total GPU Power : 96.20088060523891 W\n",
      "[codecarbon INFO @ 16:14:16] 0.152907 kWh of electricity used since the beginning.\n",
      "Processing: Class 1 - Motorcycles:  66%|██████▌   | 613/932 [1:01:21<39:26,  7.42s/file]"
     ]
    },
    {
     "name": "stdout",
     "output_type": "stream",
     "text": [
      "Vehicle Prediction: moped\n",
      "Validation Result: True\n"
     ]
    },
    {
     "name": "stderr",
     "output_type": "stream",
     "text": [
      "Processing: Class 1 - Motorcycles:  66%|██████▌   | 614/932 [1:01:24<32:13,  6.08s/file]"
     ]
    },
    {
     "name": "stdout",
     "output_type": "stream",
     "text": [
      "Vehicle Prediction: motorbike\n",
      "Validation Result: True\n"
     ]
    },
    {
     "name": "stderr",
     "output_type": "stream",
     "text": [
      "Processing: Class 1 - Motorcycles:  66%|██████▌   | 615/932 [1:01:31<34:19,  6.50s/file]"
     ]
    },
    {
     "name": "stdout",
     "output_type": "stream",
     "text": [
      "Vehicle Prediction: motorbike\n",
      "Validation Result: True\n"
     ]
    },
    {
     "name": "stderr",
     "output_type": "stream",
     "text": [
      "[codecarbon INFO @ 16:14:31] Energy consumed for RAM : 0.012043 kWh. RAM Power : 11.756441116333008 W\n",
      "[codecarbon INFO @ 16:14:31] Energy consumed for all CPUs : 0.043542 kWh. Total CPU Power : 42.5 W\n",
      "[codecarbon INFO @ 16:14:31] Energy consumed for all GPUs : 0.097945 kWh. Total GPU Power : 95.4613879730491 W\n",
      "[codecarbon INFO @ 16:14:31] 0.153530 kWh of electricity used since the beginning.\n",
      "Processing: Class 1 - Motorcycles:  66%|██████▌   | 616/932 [1:01:34<28:38,  5.44s/file]"
     ]
    },
    {
     "name": "stdout",
     "output_type": "stream",
     "text": [
      "Vehicle Prediction: motorbike\n",
      "Validation Result: True\n"
     ]
    },
    {
     "name": "stderr",
     "output_type": "stream",
     "text": [
      "Processing: Class 1 - Motorcycles:  66%|██████▌   | 617/932 [1:01:42<31:47,  6.06s/file]"
     ]
    },
    {
     "name": "stdout",
     "output_type": "stream",
     "text": [
      "Vehicle Prediction: motorbike\n",
      "Validation Result: True\n"
     ]
    },
    {
     "name": "stderr",
     "output_type": "stream",
     "text": [
      "[codecarbon INFO @ 16:14:46] Energy consumed for RAM : 0.012092 kWh. RAM Power : 11.756441116333008 W\n",
      "[codecarbon INFO @ 16:14:46] Energy consumed for all CPUs : 0.043719 kWh. Total CPU Power : 42.5 W\n",
      "[codecarbon INFO @ 16:14:46] Energy consumed for all GPUs : 0.098344 kWh. Total GPU Power : 95.94398656657613 W\n",
      "[codecarbon INFO @ 16:14:46] 0.154156 kWh of electricity used since the beginning.\n",
      "Processing: Class 1 - Motorcycles:  66%|██████▋   | 618/932 [1:01:49<33:56,  6.48s/file]"
     ]
    },
    {
     "name": "stdout",
     "output_type": "stream",
     "text": [
      "Vehicle Prediction: moped\n",
      "Validation Result: True\n"
     ]
    },
    {
     "name": "stderr",
     "output_type": "stream",
     "text": [
      "Processing: Class 1 - Motorcycles:  66%|██████▋   | 619/932 [1:01:57<35:21,  6.78s/file]"
     ]
    },
    {
     "name": "stdout",
     "output_type": "stream",
     "text": [
      "Vehicle Prediction: motorbike\n",
      "Validation Result: True\n"
     ]
    },
    {
     "name": "stderr",
     "output_type": "stream",
     "text": [
      "[codecarbon INFO @ 16:15:01] Energy consumed for RAM : 0.012141 kWh. RAM Power : 11.756441116333008 W\n",
      "[codecarbon INFO @ 16:15:01] Energy consumed for all CPUs : 0.043896 kWh. Total CPU Power : 42.5 W\n",
      "[codecarbon INFO @ 16:15:01] Energy consumed for all GPUs : 0.098742 kWh. Total GPU Power : 95.50008814973603 W\n",
      "[codecarbon INFO @ 16:15:01] 0.154779 kWh of electricity used since the beginning.\n",
      "[codecarbon INFO @ 16:15:01] 0.011885 g.CO2eq/s mean an estimation of 374.8111806749139 kg.CO2eq/year\n",
      "Processing: Class 1 - Motorcycles:  67%|██████▋   | 620/932 [1:02:04<36:21,  6.99s/file]"
     ]
    },
    {
     "name": "stdout",
     "output_type": "stream",
     "text": [
      "Vehicle Prediction: motorbike\n",
      "Validation Result: True\n"
     ]
    },
    {
     "name": "stderr",
     "output_type": "stream",
     "text": [
      "Processing: Class 1 - Motorcycles:  67%|██████▋   | 621/932 [1:02:12<36:59,  7.14s/file]"
     ]
    },
    {
     "name": "stdout",
     "output_type": "stream",
     "text": [
      "Vehicle Prediction: motorbike\n",
      "Validation Result: True\n"
     ]
    },
    {
     "name": "stderr",
     "output_type": "stream",
     "text": [
      "[codecarbon INFO @ 16:15:16] Energy consumed for RAM : 0.012190 kWh. RAM Power : 11.756441116333008 W\n",
      "[codecarbon INFO @ 16:15:16] Energy consumed for all CPUs : 0.044073 kWh. Total CPU Power : 42.5 W\n",
      "[codecarbon INFO @ 16:15:16] Energy consumed for all GPUs : 0.099142 kWh. Total GPU Power : 96.06195342222634 W\n",
      "[codecarbon INFO @ 16:15:16] 0.155405 kWh of electricity used since the beginning.\n",
      "Processing: Class 1 - Motorcycles:  67%|██████▋   | 622/932 [1:02:19<37:21,  7.23s/file]"
     ]
    },
    {
     "name": "stdout",
     "output_type": "stream",
     "text": [
      "Vehicle Prediction: moped\n",
      "Validation Result: True\n"
     ]
    },
    {
     "name": "stderr",
     "output_type": "stream",
     "text": [
      "Processing: Class 1 - Motorcycles:  67%|██████▋   | 623/932 [1:02:27<37:34,  7.30s/file]"
     ]
    },
    {
     "name": "stdout",
     "output_type": "stream",
     "text": [
      "Vehicle Prediction: motorbike\n",
      "Validation Result: True\n"
     ]
    },
    {
     "name": "stderr",
     "output_type": "stream",
     "text": [
      "Processing: Class 1 - Motorcycles:  67%|██████▋   | 624/932 [1:02:34<37:40,  7.34s/file][codecarbon INFO @ 16:15:31] Energy consumed for RAM : 0.012239 kWh. RAM Power : 11.756441116333008 W\n",
      "[codecarbon INFO @ 16:15:31] Energy consumed for all CPUs : 0.044250 kWh. Total CPU Power : 42.5 W\n",
      "[codecarbon INFO @ 16:15:31] Energy consumed for all GPUs : 0.099540 kWh. Total GPU Power : 95.5447339076686 W\n",
      "[codecarbon INFO @ 16:15:31] 0.156029 kWh of electricity used since the beginning.\n"
     ]
    },
    {
     "name": "stdout",
     "output_type": "stream",
     "text": [
      "Vehicle Prediction: motorbike\n",
      "Validation Result: True\n"
     ]
    },
    {
     "name": "stderr",
     "output_type": "stream",
     "text": [
      "Processing: Class 1 - Motorcycles:  67%|██████▋   | 625/932 [1:02:41<37:47,  7.38s/file]"
     ]
    },
    {
     "name": "stdout",
     "output_type": "stream",
     "text": [
      "Vehicle Prediction: moped\n",
      "Validation Result: True\n"
     ]
    },
    {
     "name": "stderr",
     "output_type": "stream",
     "text": [
      "Processing: Class 1 - Motorcycles:  67%|██████▋   | 626/932 [1:02:49<37:45,  7.40s/file][codecarbon INFO @ 16:15:46] Energy consumed for RAM : 0.012288 kWh. RAM Power : 11.756441116333008 W\n",
      "[codecarbon INFO @ 16:15:46] Energy consumed for all CPUs : 0.044428 kWh. Total CPU Power : 42.5 W\n",
      "[codecarbon INFO @ 16:15:46] Energy consumed for all GPUs : 0.099941 kWh. Total GPU Power : 95.75872709305946 W\n",
      "[codecarbon INFO @ 16:15:46] 0.156657 kWh of electricity used since the beginning.\n"
     ]
    },
    {
     "name": "stdout",
     "output_type": "stream",
     "text": [
      "Vehicle Prediction: moped\n",
      "Validation Result: True\n"
     ]
    },
    {
     "name": "stderr",
     "output_type": "stream",
     "text": [
      "Processing: Class 1 - Motorcycles:  67%|██████▋   | 627/932 [1:02:56<37:45,  7.43s/file]"
     ]
    },
    {
     "name": "stdout",
     "output_type": "stream",
     "text": [
      "Vehicle Prediction: motorbike\n",
      "Validation Result: True\n"
     ]
    },
    {
     "name": "stderr",
     "output_type": "stream",
     "text": [
      "Processing: Class 1 - Motorcycles:  67%|██████▋   | 628/932 [1:03:04<37:41,  7.44s/file][codecarbon INFO @ 16:16:01] Energy consumed for RAM : 0.012337 kWh. RAM Power : 11.756441116333008 W\n",
      "[codecarbon INFO @ 16:16:01] Energy consumed for all CPUs : 0.044605 kWh. Total CPU Power : 42.5 W\n",
      "[codecarbon INFO @ 16:16:01] Energy consumed for all GPUs : 0.100338 kWh. Total GPU Power : 95.44517120093401 W\n",
      "[codecarbon INFO @ 16:16:01] 0.157280 kWh of electricity used since the beginning.\n"
     ]
    },
    {
     "name": "stdout",
     "output_type": "stream",
     "text": [
      "Vehicle Prediction: moped\n",
      "Validation Result: True\n"
     ]
    },
    {
     "name": "stderr",
     "output_type": "stream",
     "text": [
      "Processing: Class 1 - Motorcycles:  67%|██████▋   | 629/932 [1:03:11<37:36,  7.45s/file]"
     ]
    },
    {
     "name": "stdout",
     "output_type": "stream",
     "text": [
      "Vehicle Prediction: motorbike\n",
      "Validation Result: True\n"
     ]
    },
    {
     "name": "stderr",
     "output_type": "stream",
     "text": [
      "Processing: truck 3:  68%|██████▊   | 630/932 [1:03:19<37:31,  7.46s/file]              "
     ]
    },
    {
     "name": "stdout",
     "output_type": "stream",
     "text": [
      "Vehicle Prediction: moped\n",
      "Validation Result: True\n"
     ]
    },
    {
     "name": "stderr",
     "output_type": "stream",
     "text": [
      "[codecarbon INFO @ 16:16:16] Energy consumed for RAM : 0.012386 kWh. RAM Power : 11.756441116333008 W\n",
      "[codecarbon INFO @ 16:16:16] Energy consumed for all CPUs : 0.044782 kWh. Total CPU Power : 42.5 W\n",
      "[codecarbon INFO @ 16:16:16] Energy consumed for all GPUs : 0.100737 kWh. Total GPU Power : 95.94746818522681 W\n",
      "[codecarbon INFO @ 16:16:16] 0.157905 kWh of electricity used since the beginning.\n",
      "Processing: truck 3:  68%|██████▊   | 631/932 [1:03:26<37:25,  7.46s/file]"
     ]
    },
    {
     "name": "stdout",
     "output_type": "stream",
     "text": [
      "Vehicle Prediction: trailer\n",
      "Validation Result: True\n"
     ]
    },
    {
     "name": "stderr",
     "output_type": "stream",
     "text": [
      "Processing: truck 3:  68%|██████▊   | 632/932 [1:03:34<37:18,  7.46s/file]"
     ]
    },
    {
     "name": "stdout",
     "output_type": "stream",
     "text": [
      "Vehicle Prediction: dumptruck\n",
      "Validation Result: False\n"
     ]
    },
    {
     "name": "stderr",
     "output_type": "stream",
     "text": [
      "[codecarbon INFO @ 16:16:31] Energy consumed for RAM : 0.012435 kWh. RAM Power : 11.756441116333008 W\n",
      "[codecarbon INFO @ 16:16:31] Energy consumed for all CPUs : 0.044959 kWh. Total CPU Power : 42.5 W\n",
      "[codecarbon INFO @ 16:16:31] Energy consumed for all GPUs : 0.101136 kWh. Total GPU Power : 95.67264141256221 W\n",
      "[codecarbon INFO @ 16:16:31] 0.158530 kWh of electricity used since the beginning.\n",
      "Processing: truck 3:  68%|██████▊   | 633/932 [1:03:41<37:12,  7.47s/file]"
     ]
    },
    {
     "name": "stdout",
     "output_type": "stream",
     "text": [
      "Vehicle Prediction: dumptruck\n",
      "Validation Result: False\n"
     ]
    },
    {
     "name": "stderr",
     "output_type": "stream",
     "text": [
      "Processing: truck 3:  68%|██████▊   | 634/932 [1:03:49<37:05,  7.47s/file]"
     ]
    },
    {
     "name": "stdout",
     "output_type": "stream",
     "text": [
      "Vehicle Prediction: dumptruck\n",
      "Validation Result: False\n"
     ]
    },
    {
     "name": "stderr",
     "output_type": "stream",
     "text": [
      "[codecarbon INFO @ 16:16:46] Energy consumed for RAM : 0.012484 kWh. RAM Power : 11.756441116333008 W\n",
      "[codecarbon INFO @ 16:16:46] Energy consumed for all CPUs : 0.045136 kWh. Total CPU Power : 42.5 W\n",
      "[codecarbon INFO @ 16:16:46] Energy consumed for all GPUs : 0.101537 kWh. Total GPU Power : 96.2686329217787 W\n",
      "[codecarbon INFO @ 16:16:46] 0.159157 kWh of electricity used since the beginning.\n",
      "Processing: truck 3:  68%|██████▊   | 635/932 [1:03:56<36:57,  7.47s/file]"
     ]
    },
    {
     "name": "stdout",
     "output_type": "stream",
     "text": [
      "Vehicle Prediction: dumptruck\n",
      "Validation Result: False\n"
     ]
    },
    {
     "name": "stderr",
     "output_type": "stream",
     "text": [
      "Processing: truck 3:  68%|██████▊   | 636/932 [1:04:04<36:46,  7.46s/file]"
     ]
    },
    {
     "name": "stdout",
     "output_type": "stream",
     "text": [
      "Vehicle Prediction: dumptruck\n",
      "Validation Result: False\n"
     ]
    },
    {
     "name": "stderr",
     "output_type": "stream",
     "text": [
      "[codecarbon INFO @ 16:17:01] Energy consumed for RAM : 0.012533 kWh. RAM Power : 11.756441116333008 W\n",
      "[codecarbon INFO @ 16:17:01] Energy consumed for all CPUs : 0.045313 kWh. Total CPU Power : 42.5 W\n",
      "[codecarbon INFO @ 16:17:01] Energy consumed for all GPUs : 0.101935 kWh. Total GPU Power : 95.56109745597341 W\n",
      "[codecarbon INFO @ 16:17:01] 0.159781 kWh of electricity used since the beginning.\n",
      "[codecarbon INFO @ 16:17:01] 0.011894 g.CO2eq/s mean an estimation of 375.07557766508654 kg.CO2eq/year\n",
      "Processing: truck 3:  68%|██████▊   | 637/932 [1:04:11<36:38,  7.45s/file]"
     ]
    },
    {
     "name": "stdout",
     "output_type": "stream",
     "text": [
      "Vehicle Prediction: trailer\n",
      "Validation Result: True\n"
     ]
    },
    {
     "name": "stderr",
     "output_type": "stream",
     "text": [
      "Processing: truck 3:  68%|██████▊   | 638/932 [1:04:18<36:28,  7.45s/file]"
     ]
    },
    {
     "name": "stdout",
     "output_type": "stream",
     "text": [
      "Vehicle Prediction: lorry\n",
      "Validation Result: True\n"
     ]
    },
    {
     "name": "stderr",
     "output_type": "stream",
     "text": [
      "[codecarbon INFO @ 16:17:16] Energy consumed for RAM : 0.012582 kWh. RAM Power : 11.756441116333008 W\n",
      "[codecarbon INFO @ 16:17:16] Energy consumed for all CPUs : 0.045490 kWh. Total CPU Power : 42.5 W\n",
      "[codecarbon INFO @ 16:17:16] Energy consumed for all GPUs : 0.102333 kWh. Total GPU Power : 95.62693899274392 W\n",
      "[codecarbon INFO @ 16:17:16] 0.160405 kWh of electricity used since the beginning.\n",
      "Processing: truck 3:  69%|██████▊   | 639/932 [1:04:26<36:20,  7.44s/file]"
     ]
    },
    {
     "name": "stdout",
     "output_type": "stream",
     "text": [
      "Vehicle Prediction: trailer\n",
      "Validation Result: True\n"
     ]
    },
    {
     "name": "stderr",
     "output_type": "stream",
     "text": [
      "Processing: truck 3:  69%|██████▊   | 640/932 [1:04:33<36:14,  7.45s/file]"
     ]
    },
    {
     "name": "stdout",
     "output_type": "stream",
     "text": [
      "Vehicle Prediction: dumptruck\n",
      "Validation Result: False\n"
     ]
    },
    {
     "name": "stderr",
     "output_type": "stream",
     "text": [
      "[codecarbon INFO @ 16:17:31] Energy consumed for RAM : 0.012631 kWh. RAM Power : 11.756441116333008 W\n",
      "[codecarbon INFO @ 16:17:31] Energy consumed for all CPUs : 0.045667 kWh. Total CPU Power : 42.5 W\n",
      "[codecarbon INFO @ 16:17:31] Energy consumed for all GPUs : 0.102731 kWh. Total GPU Power : 95.47272669151599 W\n",
      "[codecarbon INFO @ 16:17:31] 0.161028 kWh of electricity used since the beginning.\n",
      "Processing: truck 3:  69%|██████▉   | 641/932 [1:04:41<36:06,  7.45s/file]"
     ]
    },
    {
     "name": "stdout",
     "output_type": "stream",
     "text": [
      "Vehicle Prediction: dumptruck\n",
      "Validation Result: False\n"
     ]
    },
    {
     "name": "stderr",
     "output_type": "stream",
     "text": [
      "Processing: truck 3:  69%|██████▉   | 642/932 [1:04:44<29:27,  6.10s/file]"
     ]
    },
    {
     "name": "stdout",
     "output_type": "stream",
     "text": [
      "Vehicle Prediction: trailer\n",
      "Validation Result: True\n"
     ]
    },
    {
     "name": "stderr",
     "output_type": "stream",
     "text": [
      "[codecarbon INFO @ 16:17:46] Energy consumed for RAM : 0.012680 kWh. RAM Power : 11.756441116333008 W\n",
      "[codecarbon INFO @ 16:17:46] Energy consumed for all CPUs : 0.045844 kWh. Total CPU Power : 42.5 W\n",
      "[codecarbon INFO @ 16:17:46] Energy consumed for all GPUs : 0.103129 kWh. Total GPU Power : 95.71098129676854 W\n",
      "[codecarbon INFO @ 16:17:46] 0.161653 kWh of electricity used since the beginning.\n",
      "Processing: truck 3:  69%|██████▉   | 643/932 [1:04:51<31:19,  6.50s/file]"
     ]
    },
    {
     "name": "stdout",
     "output_type": "stream",
     "text": [
      "Vehicle Prediction: dumptruck\n",
      "Validation Result: False\n"
     ]
    },
    {
     "name": "stderr",
     "output_type": "stream",
     "text": [
      "Processing: truck 3:  69%|██████▉   | 644/932 [1:04:59<32:35,  6.79s/file]"
     ]
    },
    {
     "name": "stdout",
     "output_type": "stream",
     "text": [
      "Vehicle Prediction: trailer\n",
      "Validation Result: True\n"
     ]
    },
    {
     "name": "stderr",
     "output_type": "stream",
     "text": [
      "[codecarbon INFO @ 16:18:01] Energy consumed for RAM : 0.012729 kWh. RAM Power : 11.756441116333008 W\n",
      "[codecarbon INFO @ 16:18:01] Energy consumed for all CPUs : 0.046021 kWh. Total CPU Power : 42.5 W\n",
      "[codecarbon INFO @ 16:18:01] Energy consumed for all GPUs : 0.103528 kWh. Total GPU Power : 95.8115409056609 W\n",
      "[codecarbon INFO @ 16:18:01] 0.162278 kWh of electricity used since the beginning.\n",
      "Processing: truck 3:  69%|██████▉   | 645/932 [1:05:06<33:27,  6.99s/file]"
     ]
    },
    {
     "name": "stdout",
     "output_type": "stream",
     "text": [
      "Vehicle Prediction: trailer\n",
      "Validation Result: True\n"
     ]
    },
    {
     "name": "stderr",
     "output_type": "stream",
     "text": [
      "Processing: truck 3:  69%|██████▉   | 646/932 [1:05:14<34:00,  7.13s/file]"
     ]
    },
    {
     "name": "stdout",
     "output_type": "stream",
     "text": [
      "Vehicle Prediction: trailer\n",
      "Validation Result: True\n"
     ]
    },
    {
     "name": "stderr",
     "output_type": "stream",
     "text": [
      "[codecarbon INFO @ 16:18:16] Energy consumed for RAM : 0.012778 kWh. RAM Power : 11.756441116333008 W\n",
      "[codecarbon INFO @ 16:18:16] Energy consumed for all CPUs : 0.046198 kWh. Total CPU Power : 42.5 W\n",
      "[codecarbon INFO @ 16:18:16] Energy consumed for all GPUs : 0.103928 kWh. Total GPU Power : 95.89950586913055 W\n",
      "[codecarbon INFO @ 16:18:16] 0.162903 kWh of electricity used since the beginning.\n"
     ]
    },
    {
     "name": "stdout",
     "output_type": "stream",
     "text": [
      "Vehicle Prediction: truck\n"
     ]
    },
    {
     "name": "stderr",
     "output_type": "stream",
     "text": [
      "Processing: truck 3:  69%|██████▉   | 647/932 [1:05:27<43:00,  9.05s/file]"
     ]
    },
    {
     "name": "stdout",
     "output_type": "stream",
     "text": [
      "Is Pickup Truck: no.\n",
      "Validation Result: True\n"
     ]
    },
    {
     "name": "stderr",
     "output_type": "stream",
     "text": [
      "[codecarbon INFO @ 16:18:31] Energy consumed for RAM : 0.012827 kWh. RAM Power : 11.756441116333008 W\n",
      "[codecarbon INFO @ 16:18:31] Energy consumed for all CPUs : 0.046375 kWh. Total CPU Power : 42.5 W\n",
      "[codecarbon INFO @ 16:18:31] Energy consumed for all GPUs : 0.104324 kWh. Total GPU Power : 95.2172628573483 W\n",
      "[codecarbon INFO @ 16:18:31] 0.163526 kWh of electricity used since the beginning.\n",
      "Processing: truck 3:  70%|██████▉   | 648/932 [1:05:35<40:37,  8.58s/file]"
     ]
    },
    {
     "name": "stdout",
     "output_type": "stream",
     "text": [
      "Vehicle Prediction: dumptruck\n",
      "Validation Result: False\n"
     ]
    },
    {
     "name": "stderr",
     "output_type": "stream",
     "text": [
      "Processing: truck 3:  70%|██████▉   | 649/932 [1:05:42<38:52,  8.24s/file]"
     ]
    },
    {
     "name": "stdout",
     "output_type": "stream",
     "text": [
      "Vehicle Prediction: trailer\n",
      "Validation Result: True\n"
     ]
    },
    {
     "name": "stderr",
     "output_type": "stream",
     "text": [
      "[codecarbon INFO @ 16:18:46] Energy consumed for RAM : 0.012876 kWh. RAM Power : 11.756441116333008 W\n",
      "[codecarbon INFO @ 16:18:46] Energy consumed for all CPUs : 0.046552 kWh. Total CPU Power : 42.5 W\n",
      "[codecarbon INFO @ 16:18:46] Energy consumed for all GPUs : 0.104725 kWh. Total GPU Power : 96.12571418979931 W\n",
      "[codecarbon INFO @ 16:18:46] 0.164152 kWh of electricity used since the beginning.\n",
      "Processing: truck 3:  70%|██████▉   | 650/932 [1:05:50<37:38,  8.01s/file]"
     ]
    },
    {
     "name": "stdout",
     "output_type": "stream",
     "text": [
      "Vehicle Prediction: dumptruck\n",
      "Validation Result: False\n"
     ]
    },
    {
     "name": "stderr",
     "output_type": "stream",
     "text": [
      "Processing: truck 3:  70%|██████▉   | 651/932 [1:05:52<30:22,  6.48s/file]"
     ]
    },
    {
     "name": "stdout",
     "output_type": "stream",
     "text": [
      "Vehicle Prediction: dumptruck\n",
      "Validation Result: False\n"
     ]
    },
    {
     "name": "stderr",
     "output_type": "stream",
     "text": [
      "Processing: truck 3:  70%|██████▉   | 652/932 [1:06:00<31:37,  6.78s/file]"
     ]
    },
    {
     "name": "stdout",
     "output_type": "stream",
     "text": [
      "Vehicle Prediction: dumptruck\n",
      "Validation Result: False\n"
     ]
    },
    {
     "name": "stderr",
     "output_type": "stream",
     "text": [
      "[codecarbon INFO @ 16:19:01] Energy consumed for RAM : 0.012925 kWh. RAM Power : 11.756441116333008 W\n",
      "[codecarbon INFO @ 16:19:01] Energy consumed for all CPUs : 0.046729 kWh. Total CPU Power : 42.5 W\n",
      "[codecarbon INFO @ 16:19:01] Energy consumed for all GPUs : 0.105125 kWh. Total GPU Power : 96.15466039342857 W\n",
      "[codecarbon INFO @ 16:19:01] 0.164779 kWh of electricity used since the beginning.\n",
      "[codecarbon INFO @ 16:19:01] 0.011891 g.CO2eq/s mean an estimation of 375.0020464854455 kg.CO2eq/year\n"
     ]
    },
    {
     "name": "stdout",
     "output_type": "stream",
     "text": [
      "Vehicle Prediction: truck\n"
     ]
    },
    {
     "name": "stderr",
     "output_type": "stream",
     "text": [
      "Processing: truck 3:  70%|███████   | 653/932 [1:06:13<40:55,  8.80s/file]"
     ]
    },
    {
     "name": "stdout",
     "output_type": "stream",
     "text": [
      "Is Pickup Truck: no.\n",
      "Validation Result: True\n"
     ]
    },
    {
     "name": "stderr",
     "output_type": "stream",
     "text": [
      "[codecarbon INFO @ 16:19:16] Energy consumed for RAM : 0.012974 kWh. RAM Power : 11.756441116333008 W\n",
      "[codecarbon INFO @ 16:19:16] Energy consumed for all CPUs : 0.046906 kWh. Total CPU Power : 42.5 W\n",
      "[codecarbon INFO @ 16:19:16] Energy consumed for all GPUs : 0.105521 kWh. Total GPU Power : 95.13893350487369 W\n",
      "[codecarbon INFO @ 16:19:16] 0.165401 kWh of electricity used since the beginning.\n",
      "Processing: truck 3:  70%|███████   | 654/932 [1:06:21<38:58,  8.41s/file]"
     ]
    },
    {
     "name": "stdout",
     "output_type": "stream",
     "text": [
      "Vehicle Prediction: dumptruck\n",
      "Validation Result: False\n"
     ]
    },
    {
     "name": "stderr",
     "output_type": "stream",
     "text": [
      "Processing: truck 3:  70%|███████   | 655/932 [1:06:28<37:31,  8.13s/file]"
     ]
    },
    {
     "name": "stdout",
     "output_type": "stream",
     "text": [
      "Vehicle Prediction: dumptruck\n",
      "Validation Result: False\n"
     ]
    },
    {
     "name": "stderr",
     "output_type": "stream",
     "text": [
      "[codecarbon INFO @ 16:19:31] Energy consumed for RAM : 0.013023 kWh. RAM Power : 11.756441116333008 W\n",
      "[codecarbon INFO @ 16:19:31] Energy consumed for all CPUs : 0.047083 kWh. Total CPU Power : 42.5 W\n",
      "[codecarbon INFO @ 16:19:31] Energy consumed for all GPUs : 0.105921 kWh. Total GPU Power : 96.00410281838697 W\n",
      "[codecarbon INFO @ 16:19:31] 0.166027 kWh of electricity used since the beginning.\n",
      "Processing: truck 3:  70%|███████   | 656/932 [1:06:36<36:28,  7.93s/file]"
     ]
    },
    {
     "name": "stdout",
     "output_type": "stream",
     "text": [
      "Vehicle Prediction: dumptruck\n",
      "Validation Result: False\n"
     ]
    },
    {
     "name": "stderr",
     "output_type": "stream",
     "text": [
      "Processing: truck 3:  70%|███████   | 657/932 [1:06:43<35:44,  7.80s/file]"
     ]
    },
    {
     "name": "stdout",
     "output_type": "stream",
     "text": [
      "Vehicle Prediction: dumptruck\n",
      "Validation Result: False\n"
     ]
    },
    {
     "name": "stderr",
     "output_type": "stream",
     "text": [
      "[codecarbon INFO @ 16:19:46] Energy consumed for RAM : 0.013072 kWh. RAM Power : 11.756441116333008 W\n",
      "[codecarbon INFO @ 16:19:46] Energy consumed for all CPUs : 0.047260 kWh. Total CPU Power : 42.5 W\n",
      "[codecarbon INFO @ 16:19:46] Energy consumed for all GPUs : 0.106321 kWh. Total GPU Power : 95.94781567901136 W\n",
      "[codecarbon INFO @ 16:19:46] 0.166652 kWh of electricity used since the beginning.\n",
      "Processing: truck 3:  71%|███████   | 658/932 [1:06:51<35:11,  7.71s/file]"
     ]
    },
    {
     "name": "stdout",
     "output_type": "stream",
     "text": [
      "Vehicle Prediction: trailer\n",
      "Validation Result: True\n"
     ]
    },
    {
     "name": "stderr",
     "output_type": "stream",
     "text": [
      "Processing: truck 3:  71%|███████   | 659/932 [1:06:58<34:44,  7.63s/file]"
     ]
    },
    {
     "name": "stdout",
     "output_type": "stream",
     "text": [
      "Vehicle Prediction: dumptruck\n",
      "Validation Result: False\n"
     ]
    },
    {
     "name": "stderr",
     "output_type": "stream",
     "text": [
      "[codecarbon INFO @ 16:20:01] Energy consumed for RAM : 0.013121 kWh. RAM Power : 11.756441116333008 W\n",
      "[codecarbon INFO @ 16:20:01] Energy consumed for all CPUs : 0.047437 kWh. Total CPU Power : 42.5 W\n",
      "[codecarbon INFO @ 16:20:01] Energy consumed for all GPUs : 0.106720 kWh. Total GPU Power : 95.77309179665643 W\n",
      "[codecarbon INFO @ 16:20:01] 0.167277 kWh of electricity used since the beginning.\n",
      "Processing: truck 3:  71%|███████   | 660/932 [1:07:07<36:37,  8.08s/file]"
     ]
    },
    {
     "name": "stdout",
     "output_type": "stream",
     "text": [
      "Vehicle Prediction: trailer\n",
      "Validation Result: True\n"
     ]
    },
    {
     "name": "stderr",
     "output_type": "stream",
     "text": [
      "Processing: truck 3:  71%|███████   | 661/932 [1:07:15<35:39,  7.90s/file]"
     ]
    },
    {
     "name": "stdout",
     "output_type": "stream",
     "text": [
      "Vehicle Prediction: dumptruck\n",
      "Validation Result: False\n"
     ]
    },
    {
     "name": "stderr",
     "output_type": "stream",
     "text": [
      "[codecarbon INFO @ 16:20:16] Energy consumed for RAM : 0.013169 kWh. RAM Power : 11.756441116333008 W\n",
      "[codecarbon INFO @ 16:20:16] Energy consumed for all CPUs : 0.047614 kWh. Total CPU Power : 42.5 W\n",
      "[codecarbon INFO @ 16:20:16] Energy consumed for all GPUs : 0.107119 kWh. Total GPU Power : 95.79476591605332 W\n",
      "[codecarbon INFO @ 16:20:16] 0.167902 kWh of electricity used since the beginning.\n",
      "Processing: truck 3:  71%|███████   | 662/932 [1:07:22<34:56,  7.77s/file]"
     ]
    },
    {
     "name": "stdout",
     "output_type": "stream",
     "text": [
      "Vehicle Prediction: trailer\n",
      "Validation Result: True\n"
     ]
    },
    {
     "name": "stderr",
     "output_type": "stream",
     "text": [
      "Processing: truck 3:  71%|███████   | 663/932 [1:07:30<34:24,  7.68s/file]"
     ]
    },
    {
     "name": "stdout",
     "output_type": "stream",
     "text": [
      "Vehicle Prediction: dumptruck\n",
      "Validation Result: False\n"
     ]
    },
    {
     "name": "stderr",
     "output_type": "stream",
     "text": [
      "Processing: truck 3:  71%|███████   | 664/932 [1:07:33<27:57,  6.26s/file]"
     ]
    },
    {
     "name": "stdout",
     "output_type": "stream",
     "text": [
      "Vehicle Prediction: dumptruck\n",
      "Validation Result: False\n"
     ]
    },
    {
     "name": "stderr",
     "output_type": "stream",
     "text": [
      "[codecarbon INFO @ 16:20:31] Energy consumed for RAM : 0.013218 kWh. RAM Power : 11.756441116333008 W\n",
      "[codecarbon INFO @ 16:20:31] Energy consumed for all CPUs : 0.047791 kWh. Total CPU Power : 42.5 W\n",
      "[codecarbon INFO @ 16:20:31] Energy consumed for all GPUs : 0.107516 kWh. Total GPU Power : 95.26200672236332 W\n",
      "[codecarbon INFO @ 16:20:31] 0.168525 kWh of electricity used since the beginning.\n",
      "Processing: truck 3:  71%|███████▏  | 665/932 [1:07:40<29:25,  6.61s/file]"
     ]
    },
    {
     "name": "stdout",
     "output_type": "stream",
     "text": [
      "Vehicle Prediction: dumptruck\n",
      "Validation Result: False\n"
     ]
    },
    {
     "name": "stderr",
     "output_type": "stream",
     "text": [
      "Processing: truck 3:  71%|███████▏  | 666/932 [1:07:48<30:27,  6.87s/file]"
     ]
    },
    {
     "name": "stdout",
     "output_type": "stream",
     "text": [
      "Vehicle Prediction: dumptruck\n",
      "Validation Result: False\n"
     ]
    },
    {
     "name": "stderr",
     "output_type": "stream",
     "text": [
      "[codecarbon INFO @ 16:20:46] Energy consumed for RAM : 0.013267 kWh. RAM Power : 11.756441116333008 W\n",
      "[codecarbon INFO @ 16:20:46] Energy consumed for all CPUs : 0.047968 kWh. Total CPU Power : 42.5 W\n",
      "[codecarbon INFO @ 16:20:46] Energy consumed for all GPUs : 0.107914 kWh. Total GPU Power : 95.71600124870538 W\n",
      "[codecarbon INFO @ 16:20:46] 0.169150 kWh of electricity used since the beginning.\n",
      "Processing: truck 3:  72%|███████▏  | 667/932 [1:07:55<31:07,  7.05s/file]"
     ]
    },
    {
     "name": "stdout",
     "output_type": "stream",
     "text": [
      "Vehicle Prediction: trailer\n",
      "Validation Result: True\n"
     ]
    },
    {
     "name": "stderr",
     "output_type": "stream",
     "text": [
      "Processing: truck 3:  72%|███████▏  | 668/932 [1:08:03<31:33,  7.17s/file]"
     ]
    },
    {
     "name": "stdout",
     "output_type": "stream",
     "text": [
      "Vehicle Prediction: trailer\n",
      "Validation Result: True\n"
     ]
    },
    {
     "name": "stderr",
     "output_type": "stream",
     "text": [
      "[codecarbon INFO @ 16:21:01] Energy consumed for RAM : 0.013316 kWh. RAM Power : 11.756441116333008 W\n",
      "[codecarbon INFO @ 16:21:01] Energy consumed for all CPUs : 0.048145 kWh. Total CPU Power : 42.5 W\n",
      "[codecarbon INFO @ 16:21:01] Energy consumed for all GPUs : 0.108311 kWh. Total GPU Power : 95.25311976919375 W\n",
      "[codecarbon INFO @ 16:21:01] 0.169772 kWh of electricity used since the beginning.\n",
      "[codecarbon INFO @ 16:21:01] 0.011880 g.CO2eq/s mean an estimation of 374.6440642948116 kg.CO2eq/year\n",
      "Processing: truck 3:  72%|███████▏  | 669/932 [1:08:10<31:49,  7.26s/file]"
     ]
    },
    {
     "name": "stdout",
     "output_type": "stream",
     "text": [
      "Vehicle Prediction: dumptruck\n",
      "Validation Result: False\n"
     ]
    },
    {
     "name": "stderr",
     "output_type": "stream",
     "text": [
      "Processing: truck 3:  72%|███████▏  | 670/932 [1:08:18<31:58,  7.32s/file]"
     ]
    },
    {
     "name": "stdout",
     "output_type": "stream",
     "text": [
      "Vehicle Prediction: dumptruck\n",
      "Validation Result: False\n"
     ]
    },
    {
     "name": "stderr",
     "output_type": "stream",
     "text": [
      "[codecarbon INFO @ 16:21:16] Energy consumed for RAM : 0.013365 kWh. RAM Power : 11.756441116333008 W\n",
      "[codecarbon INFO @ 16:21:16] Energy consumed for all CPUs : 0.048322 kWh. Total CPU Power : 42.5 W\n",
      "[codecarbon INFO @ 16:21:16] Energy consumed for all GPUs : 0.108710 kWh. Total GPU Power : 95.89261800830825 W\n",
      "[codecarbon INFO @ 16:21:16] 0.170397 kWh of electricity used since the beginning.\n",
      "Processing: truck 3:  72%|███████▏  | 671/932 [1:08:25<32:02,  7.37s/file]"
     ]
    },
    {
     "name": "stdout",
     "output_type": "stream",
     "text": [
      "Vehicle Prediction: dumptruck\n",
      "Validation Result: False\n"
     ]
    },
    {
     "name": "stderr",
     "output_type": "stream",
     "text": [
      "Processing: truck 3:  72%|███████▏  | 672/932 [1:08:33<32:06,  7.41s/file]"
     ]
    },
    {
     "name": "stdout",
     "output_type": "stream",
     "text": [
      "Vehicle Prediction: trailer\n",
      "Validation Result: True\n"
     ]
    },
    {
     "name": "stderr",
     "output_type": "stream",
     "text": [
      "[codecarbon INFO @ 16:21:31] Energy consumed for RAM : 0.013414 kWh. RAM Power : 11.756441116333008 W\n",
      "[codecarbon INFO @ 16:21:31] Energy consumed for all CPUs : 0.048499 kWh. Total CPU Power : 42.5 W\n",
      "[codecarbon INFO @ 16:21:31] Energy consumed for all GPUs : 0.109106 kWh. Total GPU Power : 95.05285619058505 W\n",
      "[codecarbon INFO @ 16:21:31] 0.171019 kWh of electricity used since the beginning.\n",
      "Processing: truck 3:  72%|███████▏  | 673/932 [1:08:40<32:04,  7.43s/file]"
     ]
    },
    {
     "name": "stdout",
     "output_type": "stream",
     "text": [
      "Vehicle Prediction: dumptruck\n",
      "Validation Result: False\n"
     ]
    },
    {
     "name": "stderr",
     "output_type": "stream",
     "text": [
      "Processing: truck 3:  72%|███████▏  | 674/932 [1:08:47<31:59,  7.44s/file]"
     ]
    },
    {
     "name": "stdout",
     "output_type": "stream",
     "text": [
      "Vehicle Prediction: tow truck\n",
      "Validation Result: True\n"
     ]
    },
    {
     "name": "stderr",
     "output_type": "stream",
     "text": [
      "[codecarbon INFO @ 16:21:46] Energy consumed for RAM : 0.013463 kWh. RAM Power : 11.756441116333008 W\n",
      "[codecarbon INFO @ 16:21:46] Energy consumed for all CPUs : 0.048676 kWh. Total CPU Power : 42.5 W\n",
      "[codecarbon INFO @ 16:21:46] Energy consumed for all GPUs : 0.109506 kWh. Total GPU Power : 95.98763812622332 W\n",
      "[codecarbon INFO @ 16:21:46] 0.171645 kWh of electricity used since the beginning.\n",
      "Processing: truck 3:  72%|███████▏  | 675/932 [1:08:52<28:12,  6.58s/file]"
     ]
    },
    {
     "name": "stdout",
     "output_type": "stream",
     "text": [
      "Vehicle Prediction: trailer\n",
      "Validation Result: True\n"
     ]
    },
    {
     "name": "stderr",
     "output_type": "stream",
     "text": [
      "Processing: truck 3:  73%|███████▎  | 676/932 [1:09:00<29:13,  6.85s/file]"
     ]
    },
    {
     "name": "stdout",
     "output_type": "stream",
     "text": [
      "Vehicle Prediction: dumptruck\n",
      "Validation Result: False\n"
     ]
    },
    {
     "name": "stderr",
     "output_type": "stream",
     "text": [
      "[codecarbon INFO @ 16:22:01] Energy consumed for RAM : 0.013512 kWh. RAM Power : 11.756441116333008 W\n",
      "[codecarbon INFO @ 16:22:01] Energy consumed for all CPUs : 0.048853 kWh. Total CPU Power : 42.5 W\n",
      "[codecarbon INFO @ 16:22:01] Energy consumed for all GPUs : 0.109903 kWh. Total GPU Power : 95.4325943126078 W\n",
      "[codecarbon INFO @ 16:22:01] 0.172269 kWh of electricity used since the beginning.\n",
      "Processing: truck 3:  73%|███████▎  | 677/932 [1:09:07<29:53,  7.03s/file]"
     ]
    },
    {
     "name": "stdout",
     "output_type": "stream",
     "text": [
      "Vehicle Prediction: dumptruck\n",
      "Validation Result: False\n"
     ]
    },
    {
     "name": "stderr",
     "output_type": "stream",
     "text": [
      "Processing: truck 3:  73%|███████▎  | 678/932 [1:09:12<27:15,  6.44s/file]"
     ]
    },
    {
     "name": "stdout",
     "output_type": "stream",
     "text": [
      "Vehicle Prediction: dumptruck\n",
      "Validation Result: False\n"
     ]
    },
    {
     "name": "stderr",
     "output_type": "stream",
     "text": [
      "[codecarbon INFO @ 16:22:16] Energy consumed for RAM : 0.013561 kWh. RAM Power : 11.756441116333008 W\n",
      "[codecarbon INFO @ 16:22:16] Energy consumed for all CPUs : 0.049030 kWh. Total CPU Power : 42.5 W\n",
      "[codecarbon INFO @ 16:22:16] Energy consumed for all GPUs : 0.110303 kWh. Total GPU Power : 95.93723117729813 W\n",
      "[codecarbon INFO @ 16:22:16] 0.172894 kWh of electricity used since the beginning.\n",
      "Processing: truck 3:  73%|███████▎  | 679/932 [1:09:20<28:29,  6.76s/file]"
     ]
    },
    {
     "name": "stdout",
     "output_type": "stream",
     "text": [
      "Vehicle Prediction: dumptruck\n",
      "Validation Result: False\n"
     ]
    },
    {
     "name": "stderr",
     "output_type": "stream",
     "text": [
      "Processing: truck 3:  73%|███████▎  | 680/932 [1:09:27<29:14,  6.96s/file]"
     ]
    },
    {
     "name": "stdout",
     "output_type": "stream",
     "text": [
      "Vehicle Prediction: dumptruck\n",
      "Validation Result: False\n"
     ]
    },
    {
     "name": "stderr",
     "output_type": "stream",
     "text": [
      "[codecarbon INFO @ 16:22:31] Energy consumed for RAM : 0.013610 kWh. RAM Power : 11.756441116333008 W\n",
      "[codecarbon INFO @ 16:22:31] Energy consumed for all CPUs : 0.049207 kWh. Total CPU Power : 42.5 W\n",
      "[codecarbon INFO @ 16:22:31] Energy consumed for all GPUs : 0.110699 kWh. Total GPU Power : 95.10786136514197 W\n",
      "[codecarbon INFO @ 16:22:31] 0.173516 kWh of electricity used since the beginning.\n",
      "Processing: truck 3:  73%|███████▎  | 681/932 [1:09:34<29:43,  7.11s/file]"
     ]
    },
    {
     "name": "stdout",
     "output_type": "stream",
     "text": [
      "Vehicle Prediction: trailer\n",
      "Validation Result: True\n"
     ]
    },
    {
     "name": "stderr",
     "output_type": "stream",
     "text": [
      "Processing: truck 3:  73%|███████▎  | 682/932 [1:09:42<30:05,  7.22s/file]"
     ]
    },
    {
     "name": "stdout",
     "output_type": "stream",
     "text": [
      "Vehicle Prediction: dumptruck\n",
      "Validation Result: False\n"
     ]
    },
    {
     "name": "stderr",
     "output_type": "stream",
     "text": [
      "[codecarbon INFO @ 16:22:46] Energy consumed for RAM : 0.013659 kWh. RAM Power : 11.756441116333008 W\n",
      "[codecarbon INFO @ 16:22:46] Energy consumed for all CPUs : 0.049384 kWh. Total CPU Power : 42.5 W\n",
      "[codecarbon INFO @ 16:22:46] Energy consumed for all GPUs : 0.111098 kWh. Total GPU Power : 95.7418844671718 W\n",
      "[codecarbon INFO @ 16:22:46] 0.174141 kWh of electricity used since the beginning.\n",
      "Processing: truck 3:  73%|███████▎  | 683/932 [1:09:49<30:14,  7.29s/file]"
     ]
    },
    {
     "name": "stdout",
     "output_type": "stream",
     "text": [
      "Vehicle Prediction: dumptruck\n",
      "Validation Result: False\n"
     ]
    },
    {
     "name": "stderr",
     "output_type": "stream",
     "text": [
      "Processing: truck 3:  73%|███████▎  | 684/932 [1:09:57<30:19,  7.34s/file]"
     ]
    },
    {
     "name": "stdout",
     "output_type": "stream",
     "text": [
      "Vehicle Prediction: trailer\n",
      "Validation Result: True\n"
     ]
    },
    {
     "name": "stderr",
     "output_type": "stream",
     "text": [
      "[codecarbon INFO @ 16:23:01] Energy consumed for RAM : 0.013708 kWh. RAM Power : 11.756441116333008 W\n",
      "[codecarbon INFO @ 16:23:01] Energy consumed for all CPUs : 0.049561 kWh. Total CPU Power : 42.5 W\n",
      "[codecarbon INFO @ 16:23:01] Energy consumed for all GPUs : 0.111499 kWh. Total GPU Power : 96.1703737543804 W\n",
      "[codecarbon INFO @ 16:23:01] 0.174768 kWh of electricity used since the beginning.\n",
      "[codecarbon INFO @ 16:23:01] 0.011885 g.CO2eq/s mean an estimation of 374.79118810469834 kg.CO2eq/year\n",
      "Processing: truck 3:  73%|███████▎  | 685/932 [1:10:04<30:21,  7.37s/file]"
     ]
    },
    {
     "name": "stdout",
     "output_type": "stream",
     "text": [
      "Vehicle Prediction: dumptruck\n",
      "Validation Result: False\n"
     ]
    },
    {
     "name": "stderr",
     "output_type": "stream",
     "text": [
      "Processing: truck 3:  74%|███████▎  | 686/932 [1:10:12<30:21,  7.40s/file]"
     ]
    },
    {
     "name": "stdout",
     "output_type": "stream",
     "text": [
      "Vehicle Prediction: dumptruck\n",
      "Validation Result: False\n"
     ]
    },
    {
     "name": "stderr",
     "output_type": "stream",
     "text": [
      "[codecarbon INFO @ 16:23:16] Energy consumed for RAM : 0.013757 kWh. RAM Power : 11.756441116333008 W\n",
      "[codecarbon INFO @ 16:23:16] Energy consumed for all CPUs : 0.049738 kWh. Total CPU Power : 42.5 W\n",
      "[codecarbon INFO @ 16:23:16] Energy consumed for all GPUs : 0.111894 kWh. Total GPU Power : 94.9064162810654 W\n",
      "[codecarbon INFO @ 16:23:16] 0.175389 kWh of electricity used since the beginning.\n",
      "Processing: truck 3:  74%|███████▎  | 687/932 [1:10:19<30:17,  7.42s/file]"
     ]
    },
    {
     "name": "stdout",
     "output_type": "stream",
     "text": [
      "Vehicle Prediction: trailer\n",
      "Validation Result: True\n"
     ]
    },
    {
     "name": "stderr",
     "output_type": "stream",
     "text": [
      "Processing: truck 3:  74%|███████▍  | 688/932 [1:10:27<30:13,  7.43s/file]"
     ]
    },
    {
     "name": "stdout",
     "output_type": "stream",
     "text": [
      "Vehicle Prediction: trailer\n",
      "Validation Result: True\n"
     ]
    },
    {
     "name": "stderr",
     "output_type": "stream",
     "text": [
      "[codecarbon INFO @ 16:23:31] Energy consumed for RAM : 0.013806 kWh. RAM Power : 11.756441116333008 W\n",
      "[codecarbon INFO @ 16:23:31] Energy consumed for all CPUs : 0.049915 kWh. Total CPU Power : 42.5 W\n",
      "[codecarbon INFO @ 16:23:31] Energy consumed for all GPUs : 0.112293 kWh. Total GPU Power : 95.87259238634113 W\n",
      "[codecarbon INFO @ 16:23:31] 0.176014 kWh of electricity used since the beginning.\n",
      "Processing: truck 3:  74%|███████▍  | 689/932 [1:10:34<30:08,  7.44s/file]"
     ]
    },
    {
     "name": "stdout",
     "output_type": "stream",
     "text": [
      "Vehicle Prediction: pickup\n",
      "Validation Result: False\n"
     ]
    },
    {
     "name": "stderr",
     "output_type": "stream",
     "text": [
      "Processing: truck 3:  74%|███████▍  | 690/932 [1:10:42<30:02,  7.45s/file]"
     ]
    },
    {
     "name": "stdout",
     "output_type": "stream",
     "text": [
      "Vehicle Prediction: dumptruck\n",
      "Validation Result: False\n"
     ]
    },
    {
     "name": "stderr",
     "output_type": "stream",
     "text": [
      "Processing: truck 3:  74%|███████▍  | 691/932 [1:10:49<29:56,  7.45s/file][codecarbon INFO @ 16:23:46] Energy consumed for RAM : 0.013855 kWh. RAM Power : 11.756441116333008 W\n",
      "[codecarbon INFO @ 16:23:46] Energy consumed for all CPUs : 0.050092 kWh. Total CPU Power : 42.5 W\n",
      "[codecarbon INFO @ 16:23:46] Energy consumed for all GPUs : 0.112691 kWh. Total GPU Power : 95.47425333989857 W\n",
      "[codecarbon INFO @ 16:23:46] 0.176637 kWh of electricity used since the beginning.\n"
     ]
    },
    {
     "name": "stdout",
     "output_type": "stream",
     "text": [
      "Vehicle Prediction: trailer\n",
      "Validation Result: True\n"
     ]
    },
    {
     "name": "stderr",
     "output_type": "stream",
     "text": [
      "Processing: truck 3:  74%|███████▍  | 692/932 [1:10:57<29:48,  7.45s/file]"
     ]
    },
    {
     "name": "stdout",
     "output_type": "stream",
     "text": [
      "Vehicle Prediction: dump-tr\n",
      "Validation Result: False\n"
     ]
    },
    {
     "name": "stderr",
     "output_type": "stream",
     "text": [
      "Processing: truck 3:  74%|███████▍  | 693/932 [1:11:04<29:44,  7.46s/file][codecarbon INFO @ 16:24:01] Energy consumed for RAM : 0.013904 kWh. RAM Power : 11.756441116333008 W\n",
      "[codecarbon INFO @ 16:24:01] Energy consumed for all CPUs : 0.050270 kWh. Total CPU Power : 42.5 W\n",
      "[codecarbon INFO @ 16:24:01] Energy consumed for all GPUs : 0.113090 kWh. Total GPU Power : 95.46202510187533 W\n",
      "[codecarbon INFO @ 16:24:01] 0.177264 kWh of electricity used since the beginning.\n"
     ]
    },
    {
     "name": "stdout",
     "output_type": "stream",
     "text": [
      "Vehicle Prediction: dumptruck\n",
      "Validation Result: False\n"
     ]
    },
    {
     "name": "stderr",
     "output_type": "stream",
     "text": [
      "Processing: truck 3:  74%|███████▍  | 694/932 [1:11:11<29:37,  7.47s/file]"
     ]
    },
    {
     "name": "stdout",
     "output_type": "stream",
     "text": [
      "Vehicle Prediction: dumptruck\n",
      "Validation Result: False\n"
     ]
    },
    {
     "name": "stderr",
     "output_type": "stream",
     "text": [
      "[codecarbon INFO @ 16:24:16] Energy consumed for RAM : 0.013953 kWh. RAM Power : 11.756441116333008 W\n",
      "[codecarbon INFO @ 16:24:16] Energy consumed for all CPUs : 0.050446 kWh. Total CPU Power : 42.5 W\n",
      "[codecarbon INFO @ 16:24:16] Energy consumed for all GPUs : 0.113487 kWh. Total GPU Power : 95.40918309147473 W\n",
      "[codecarbon INFO @ 16:24:16] 0.177886 kWh of electricity used since the beginning.\n"
     ]
    },
    {
     "name": "stdout",
     "output_type": "stream",
     "text": [
      "Vehicle Prediction: truck\n"
     ]
    },
    {
     "name": "stderr",
     "output_type": "stream",
     "text": [
      "Processing: truck 3:  75%|███████▍  | 695/932 [1:11:25<36:46,  9.31s/file]"
     ]
    },
    {
     "name": "stdout",
     "output_type": "stream",
     "text": [
      "Is Pickup Truck: no.\n",
      "Validation Result: True\n"
     ]
    },
    {
     "name": "stderr",
     "output_type": "stream",
     "text": [
      "Processing: truck 3:  75%|███████▍  | 696/932 [1:11:33<34:27,  8.76s/file]"
     ]
    },
    {
     "name": "stdout",
     "output_type": "stream",
     "text": [
      "Vehicle Prediction: dumptruck\n",
      "Validation Result: False\n"
     ]
    },
    {
     "name": "stderr",
     "output_type": "stream",
     "text": [
      "[codecarbon INFO @ 16:24:31] Energy consumed for RAM : 0.014002 kWh. RAM Power : 11.756441116333008 W\n",
      "[codecarbon INFO @ 16:24:31] Energy consumed for all CPUs : 0.050623 kWh. Total CPU Power : 42.5 W\n",
      "[codecarbon INFO @ 16:24:31] Energy consumed for all GPUs : 0.113885 kWh. Total GPU Power : 95.46790852346437 W\n",
      "[codecarbon INFO @ 16:24:31] 0.178510 kWh of electricity used since the beginning.\n",
      "Processing: truck 3:  75%|███████▍  | 697/932 [1:11:40<32:46,  8.37s/file]"
     ]
    },
    {
     "name": "stdout",
     "output_type": "stream",
     "text": [
      "Vehicle Prediction: trailer\n",
      "Validation Result: True\n"
     ]
    },
    {
     "name": "stderr",
     "output_type": "stream",
     "text": [
      "Processing: truck 3:  75%|███████▍  | 698/932 [1:11:47<31:32,  8.09s/file]"
     ]
    },
    {
     "name": "stdout",
     "output_type": "stream",
     "text": [
      "Vehicle Prediction: dumptruck\n",
      "Validation Result: False\n"
     ]
    },
    {
     "name": "stderr",
     "output_type": "stream",
     "text": [
      "[codecarbon INFO @ 16:24:46] Energy consumed for RAM : 0.014051 kWh. RAM Power : 11.756441116333008 W\n",
      "[codecarbon INFO @ 16:24:46] Energy consumed for all CPUs : 0.050800 kWh. Total CPU Power : 42.5 W\n",
      "[codecarbon INFO @ 16:24:46] Energy consumed for all GPUs : 0.114283 kWh. Total GPU Power : 95.66281930571209 W\n",
      "[codecarbon INFO @ 16:24:46] 0.179134 kWh of electricity used since the beginning.\n",
      "Processing: truck 3:  75%|███████▌  | 699/932 [1:11:55<30:40,  7.90s/file]"
     ]
    },
    {
     "name": "stdout",
     "output_type": "stream",
     "text": [
      "Vehicle Prediction: trailer\n",
      "Validation Result: True\n"
     ]
    },
    {
     "name": "stderr",
     "output_type": "stream",
     "text": [
      "Processing: truck 3:  75%|███████▌  | 700/932 [1:12:04<31:49,  8.23s/file]"
     ]
    },
    {
     "name": "stdout",
     "output_type": "stream",
     "text": [
      "Vehicle Prediction: trailer\n",
      "Validation Result: True\n"
     ]
    },
    {
     "name": "stderr",
     "output_type": "stream",
     "text": [
      "[codecarbon INFO @ 16:25:01] Energy consumed for RAM : 0.014100 kWh. RAM Power : 11.756441116333008 W\n",
      "[codecarbon INFO @ 16:25:01] Energy consumed for all CPUs : 0.050977 kWh. Total CPU Power : 42.5 W\n",
      "[codecarbon INFO @ 16:25:01] Energy consumed for all GPUs : 0.114680 kWh. Total GPU Power : 95.41066930789124 W\n",
      "[codecarbon INFO @ 16:25:01] 0.179757 kWh of electricity used since the beginning.\n",
      "[codecarbon INFO @ 16:25:01] 0.011867 g.CO2eq/s mean an estimation of 374.2419706544753 kg.CO2eq/year\n"
     ]
    },
    {
     "name": "stdout",
     "output_type": "stream",
     "text": [
      "Vehicle Prediction: truck\n"
     ]
    },
    {
     "name": "stderr",
     "output_type": "stream",
     "text": [
      "Processing: truck 3:  75%|███████▌  | 701/932 [1:12:09<28:11,  7.32s/file]"
     ]
    },
    {
     "name": "stdout",
     "output_type": "stream",
     "text": [
      "Is Pickup Truck: no.\n",
      "Validation Result: True\n"
     ]
    },
    {
     "name": "stderr",
     "output_type": "stream",
     "text": [
      "Processing: truck 3:  75%|███████▌  | 702/932 [1:12:18<30:01,  7.83s/file]"
     ]
    },
    {
     "name": "stdout",
     "output_type": "stream",
     "text": [
      "Vehicle Prediction: trailer\n",
      "Validation Result: True\n"
     ]
    },
    {
     "name": "stderr",
     "output_type": "stream",
     "text": [
      "[codecarbon INFO @ 16:25:16] Energy consumed for RAM : 0.014149 kWh. RAM Power : 11.756441116333008 W\n",
      "[codecarbon INFO @ 16:25:16] Energy consumed for all CPUs : 0.051154 kWh. Total CPU Power : 42.5 W\n",
      "[codecarbon INFO @ 16:25:16] Energy consumed for all GPUs : 0.115079 kWh. Total GPU Power : 95.67065517456582 W\n",
      "[codecarbon INFO @ 16:25:16] 0.180382 kWh of electricity used since the beginning.\n",
      "Processing: truck 3:  75%|███████▌  | 703/932 [1:12:26<29:28,  7.72s/file]"
     ]
    },
    {
     "name": "stdout",
     "output_type": "stream",
     "text": [
      "Vehicle Prediction: trailer\n",
      "Validation Result: True\n"
     ]
    },
    {
     "name": "stderr",
     "output_type": "stream",
     "text": [
      "[codecarbon INFO @ 16:25:31] Energy consumed for RAM : 0.014198 kWh. RAM Power : 11.756441116333008 W\n",
      "[codecarbon INFO @ 16:25:31] Energy consumed for all CPUs : 0.051331 kWh. Total CPU Power : 42.5 W\n",
      "[codecarbon INFO @ 16:25:31] Energy consumed for all GPUs : 0.115480 kWh. Total GPU Power : 96.30252292192206 W\n",
      "[codecarbon INFO @ 16:25:31] 0.181009 kWh of electricity used since the beginning.\n",
      "Processing: truck 3:  76%|███████▌  | 704/932 [1:12:35<30:50,  8.12s/file]"
     ]
    },
    {
     "name": "stdout",
     "output_type": "stream",
     "text": [
      "Vehicle Prediction: trailer\n",
      "Validation Result: True\n"
     ]
    },
    {
     "name": "stderr",
     "output_type": "stream",
     "text": [
      "Processing: truck 3:  76%|███████▌  | 705/932 [1:12:42<29:58,  7.92s/file]"
     ]
    },
    {
     "name": "stdout",
     "output_type": "stream",
     "text": [
      "Vehicle Prediction: dumptruck\n",
      "Validation Result: False\n"
     ]
    },
    {
     "name": "stderr",
     "output_type": "stream",
     "text": [
      "[codecarbon INFO @ 16:25:46] Energy consumed for RAM : 0.014247 kWh. RAM Power : 11.756441116333008 W\n",
      "[codecarbon INFO @ 16:25:46] Energy consumed for all CPUs : 0.051508 kWh. Total CPU Power : 42.5 W\n",
      "[codecarbon INFO @ 16:25:46] Energy consumed for all GPUs : 0.115878 kWh. Total GPU Power : 95.66570533381424 W\n",
      "[codecarbon INFO @ 16:25:46] 0.181633 kWh of electricity used since the beginning.\n"
     ]
    },
    {
     "name": "stdout",
     "output_type": "stream",
     "text": [
      "Vehicle Prediction: truck\n"
     ]
    },
    {
     "name": "stderr",
     "output_type": "stream",
     "text": [
      "Processing: truck 3:  76%|███████▌  | 706/932 [1:12:56<36:12,  9.61s/file]"
     ]
    },
    {
     "name": "stdout",
     "output_type": "stream",
     "text": [
      "Is Pickup Truck: no.\n",
      "Validation Result: True\n"
     ]
    },
    {
     "name": "stderr",
     "output_type": "stream",
     "text": [
      "Processing: truck 3:  76%|███████▌  | 707/932 [1:13:03<33:37,  8.97s/file]"
     ]
    },
    {
     "name": "stdout",
     "output_type": "stream",
     "text": [
      "Vehicle Prediction: dumptruck\n",
      "Validation Result: False\n"
     ]
    },
    {
     "name": "stderr",
     "output_type": "stream",
     "text": [
      "[codecarbon INFO @ 16:26:01] Energy consumed for RAM : 0.014296 kWh. RAM Power : 11.756441116333008 W\n",
      "[codecarbon INFO @ 16:26:01] Energy consumed for all CPUs : 0.051685 kWh. Total CPU Power : 42.5 W\n",
      "[codecarbon INFO @ 16:26:01] Energy consumed for all GPUs : 0.116277 kWh. Total GPU Power : 95.65842394608032 W\n",
      "[codecarbon INFO @ 16:26:01] 0.182258 kWh of electricity used since the beginning.\n",
      "Processing: truck 3:  76%|███████▌  | 708/932 [1:13:11<31:46,  8.51s/file]"
     ]
    },
    {
     "name": "stdout",
     "output_type": "stream",
     "text": [
      "Vehicle Prediction: dumptruck\n",
      "Validation Result: False\n"
     ]
    },
    {
     "name": "stderr",
     "output_type": "stream",
     "text": [
      "Processing: truck 3:  76%|███████▌  | 709/932 [1:13:18<30:27,  8.20s/file]"
     ]
    },
    {
     "name": "stdout",
     "output_type": "stream",
     "text": [
      "Vehicle Prediction: dumptruck\n",
      "Validation Result: False\n"
     ]
    },
    {
     "name": "stderr",
     "output_type": "stream",
     "text": [
      "[codecarbon INFO @ 16:26:16] Energy consumed for RAM : 0.014344 kWh. RAM Power : 11.756441116333008 W\n",
      "[codecarbon INFO @ 16:26:16] Energy consumed for all CPUs : 0.051862 kWh. Total CPU Power : 42.5 W\n",
      "[codecarbon INFO @ 16:26:16] Energy consumed for all GPUs : 0.116678 kWh. Total GPU Power : 96.42331351962488 W\n",
      "[codecarbon INFO @ 16:26:16] 0.182885 kWh of electricity used since the beginning.\n",
      "Processing: truck 3:  76%|███████▌  | 710/932 [1:13:26<29:31,  7.98s/file]"
     ]
    },
    {
     "name": "stdout",
     "output_type": "stream",
     "text": [
      "Vehicle Prediction: dumptruck\n",
      "Validation Result: False\n"
     ]
    },
    {
     "name": "stderr",
     "output_type": "stream",
     "text": [
      "Processing: truck 3:  76%|███████▋  | 711/932 [1:13:33<28:47,  7.81s/file]"
     ]
    },
    {
     "name": "stdout",
     "output_type": "stream",
     "text": [
      "Vehicle Prediction: dumptruck\n",
      "Validation Result: False\n"
     ]
    },
    {
     "name": "stderr",
     "output_type": "stream",
     "text": [
      "[codecarbon INFO @ 16:26:31] Energy consumed for RAM : 0.014393 kWh. RAM Power : 11.756441116333008 W\n",
      "[codecarbon INFO @ 16:26:31] Energy consumed for all CPUs : 0.052039 kWh. Total CPU Power : 42.5 W\n",
      "[codecarbon INFO @ 16:26:31] Energy consumed for all GPUs : 0.117076 kWh. Total GPU Power : 95.4115489027839 W\n",
      "[codecarbon INFO @ 16:26:31] 0.183509 kWh of electricity used since the beginning.\n",
      "Processing: truck 3:  76%|███████▋  | 712/932 [1:13:40<28:14,  7.70s/file]"
     ]
    },
    {
     "name": "stdout",
     "output_type": "stream",
     "text": [
      "Vehicle Prediction: dumptruck\n",
      "Validation Result: False\n"
     ]
    },
    {
     "name": "stderr",
     "output_type": "stream",
     "text": [
      "Processing: truck 3:  77%|███████▋  | 713/932 [1:13:48<27:51,  7.63s/file]"
     ]
    },
    {
     "name": "stdout",
     "output_type": "stream",
     "text": [
      "Vehicle Prediction: trailer\n",
      "Validation Result: True\n"
     ]
    },
    {
     "name": "stderr",
     "output_type": "stream",
     "text": [
      "[codecarbon INFO @ 16:26:46] Energy consumed for RAM : 0.014442 kWh. RAM Power : 11.756441116333008 W\n",
      "[codecarbon INFO @ 16:26:46] Energy consumed for all CPUs : 0.052216 kWh. Total CPU Power : 42.5 W\n",
      "[codecarbon INFO @ 16:26:46] Energy consumed for all GPUs : 0.117473 kWh. Total GPU Power : 95.37045984559035 W\n",
      "[codecarbon INFO @ 16:26:46] 0.184132 kWh of electricity used since the beginning.\n",
      "Processing: truck 3:  77%|███████▋  | 714/932 [1:13:55<27:32,  7.58s/file]"
     ]
    },
    {
     "name": "stdout",
     "output_type": "stream",
     "text": [
      "Vehicle Prediction: trailer\n",
      "Validation Result: True\n"
     ]
    },
    {
     "name": "stderr",
     "output_type": "stream",
     "text": [
      "Processing: truck 3:  77%|███████▋  | 715/932 [1:14:03<27:17,  7.55s/file]"
     ]
    },
    {
     "name": "stdout",
     "output_type": "stream",
     "text": [
      "Vehicle Prediction: dumptruck\n",
      "Validation Result: False\n"
     ]
    },
    {
     "name": "stderr",
     "output_type": "stream",
     "text": [
      "[codecarbon INFO @ 16:27:01] Energy consumed for RAM : 0.014491 kWh. RAM Power : 11.756441116333008 W\n",
      "[codecarbon INFO @ 16:27:01] Energy consumed for all CPUs : 0.052393 kWh. Total CPU Power : 42.5 W\n",
      "[codecarbon INFO @ 16:27:01] Energy consumed for all GPUs : 0.117874 kWh. Total GPU Power : 96.24133568788267 W\n",
      "[codecarbon INFO @ 16:27:01] 0.184759 kWh of electricity used since the beginning.\n",
      "[codecarbon INFO @ 16:27:01] 0.011898 g.CO2eq/s mean an estimation of 375.2089776238839 kg.CO2eq/year\n",
      "Processing: truck 3:  77%|███████▋  | 716/932 [1:14:10<27:03,  7.52s/file]"
     ]
    },
    {
     "name": "stdout",
     "output_type": "stream",
     "text": [
      "Vehicle Prediction: dump-tr\n",
      "Validation Result: False\n"
     ]
    },
    {
     "name": "stderr",
     "output_type": "stream",
     "text": [
      "Processing: truck 3:  77%|███████▋  | 717/932 [1:14:18<26:53,  7.51s/file]"
     ]
    },
    {
     "name": "stdout",
     "output_type": "stream",
     "text": [
      "Vehicle Prediction: dumptruck\n",
      "Validation Result: False\n"
     ]
    },
    {
     "name": "stderr",
     "output_type": "stream",
     "text": [
      "[codecarbon INFO @ 16:27:16] Energy consumed for RAM : 0.014540 kWh. RAM Power : 11.756441116333008 W\n",
      "[codecarbon INFO @ 16:27:16] Energy consumed for all CPUs : 0.052570 kWh. Total CPU Power : 42.5 W\n",
      "[codecarbon INFO @ 16:27:16] Energy consumed for all GPUs : 0.118272 kWh. Total GPU Power : 95.58372276441338 W\n",
      "[codecarbon INFO @ 16:27:16] 0.185382 kWh of electricity used since the beginning.\n",
      "Processing: truck 3:  77%|███████▋  | 718/932 [1:14:25<26:45,  7.50s/file]"
     ]
    },
    {
     "name": "stdout",
     "output_type": "stream",
     "text": [
      "Vehicle Prediction: dumptruck\n",
      "Validation Result: False\n"
     ]
    },
    {
     "name": "stderr",
     "output_type": "stream",
     "text": [
      "Processing: truck 3:  77%|███████▋  | 719/932 [1:14:30<24:00,  6.76s/file]"
     ]
    },
    {
     "name": "stdout",
     "output_type": "stream",
     "text": [
      "Vehicle Prediction: trailer\n",
      "Validation Result: True\n"
     ]
    },
    {
     "name": "stderr",
     "output_type": "stream",
     "text": [
      "[codecarbon INFO @ 16:27:31] Energy consumed for RAM : 0.014589 kWh. RAM Power : 11.756441116333008 W\n",
      "[codecarbon INFO @ 16:27:31] Energy consumed for all CPUs : 0.052747 kWh. Total CPU Power : 42.5 W\n",
      "[codecarbon INFO @ 16:27:31] Energy consumed for all GPUs : 0.118671 kWh. Total GPU Power : 95.90066181589297 W\n",
      "[codecarbon INFO @ 16:27:31] 0.186008 kWh of electricity used since the beginning.\n",
      "Processing: truck 3:  77%|███████▋  | 720/932 [1:14:38<24:41,  6.99s/file]"
     ]
    },
    {
     "name": "stdout",
     "output_type": "stream",
     "text": [
      "Vehicle Prediction: dumptruck\n",
      "Validation Result: False\n"
     ]
    },
    {
     "name": "stderr",
     "output_type": "stream",
     "text": [
      "Processing: truck 3:  77%|███████▋  | 721/932 [1:14:45<25:03,  7.12s/file]"
     ]
    },
    {
     "name": "stdout",
     "output_type": "stream",
     "text": [
      "Vehicle Prediction: dumptruck\n",
      "Validation Result: False\n"
     ]
    },
    {
     "name": "stderr",
     "output_type": "stream",
     "text": [
      "[codecarbon INFO @ 16:27:46] Energy consumed for RAM : 0.014638 kWh. RAM Power : 11.756441116333008 W\n",
      "[codecarbon INFO @ 16:27:46] Energy consumed for all CPUs : 0.052924 kWh. Total CPU Power : 42.5 W\n",
      "[codecarbon INFO @ 16:27:46] Energy consumed for all GPUs : 0.119069 kWh. Total GPU Power : 95.52052971162597 W\n",
      "[codecarbon INFO @ 16:27:46] 0.186632 kWh of electricity used since the beginning.\n",
      "Processing: truck 3:  77%|███████▋  | 722/932 [1:14:53<25:17,  7.22s/file]"
     ]
    },
    {
     "name": "stdout",
     "output_type": "stream",
     "text": [
      "Vehicle Prediction: dumptruck\n",
      "Validation Result: False\n"
     ]
    },
    {
     "name": "stderr",
     "output_type": "stream",
     "text": [
      "Processing: truck 3:  78%|███████▊  | 723/932 [1:15:00<25:25,  7.30s/file]"
     ]
    },
    {
     "name": "stdout",
     "output_type": "stream",
     "text": [
      "Vehicle Prediction: trailer\n",
      "Validation Result: True\n"
     ]
    },
    {
     "name": "stderr",
     "output_type": "stream",
     "text": [
      "[codecarbon INFO @ 16:28:01] Energy consumed for RAM : 0.014687 kWh. RAM Power : 11.756441116333008 W\n",
      "[codecarbon INFO @ 16:28:01] Energy consumed for all CPUs : 0.053101 kWh. Total CPU Power : 42.5 W\n",
      "[codecarbon INFO @ 16:28:01] Energy consumed for all GPUs : 0.119471 kWh. Total GPU Power : 96.50503635873883 W\n",
      "[codecarbon INFO @ 16:28:01] 0.187260 kWh of electricity used since the beginning.\n",
      "Processing: truck 3:  78%|███████▊  | 724/932 [1:15:08<25:27,  7.34s/file]"
     ]
    },
    {
     "name": "stdout",
     "output_type": "stream",
     "text": [
      "Vehicle Prediction: dumptruck\n",
      "Validation Result: False\n"
     ]
    },
    {
     "name": "stderr",
     "output_type": "stream",
     "text": [
      "Processing: truck 3:  78%|███████▊  | 725/932 [1:15:15<25:25,  7.37s/file]"
     ]
    },
    {
     "name": "stdout",
     "output_type": "stream",
     "text": [
      "Vehicle Prediction: trailer\n",
      "Validation Result: True\n"
     ]
    },
    {
     "name": "stderr",
     "output_type": "stream",
     "text": [
      "[codecarbon INFO @ 16:28:16] Energy consumed for RAM : 0.014736 kWh. RAM Power : 11.756441116333008 W\n",
      "[codecarbon INFO @ 16:28:16] Energy consumed for all CPUs : 0.053278 kWh. Total CPU Power : 42.5 W\n",
      "[codecarbon INFO @ 16:28:16] Energy consumed for all GPUs : 0.119868 kWh. Total GPU Power : 95.198012089249 W\n",
      "[codecarbon INFO @ 16:28:16] 0.187882 kWh of electricity used since the beginning.\n"
     ]
    },
    {
     "name": "stdout",
     "output_type": "stream",
     "text": [
      "Vehicle Prediction: truck\n"
     ]
    },
    {
     "name": "stderr",
     "output_type": "stream",
     "text": [
      "Processing: truck 3:  78%|███████▊  | 726/932 [1:15:29<31:39,  9.22s/file]"
     ]
    },
    {
     "name": "stdout",
     "output_type": "stream",
     "text": [
      "Is Pickup Truck: no.\n",
      "Validation Result: True\n"
     ]
    },
    {
     "name": "stderr",
     "output_type": "stream",
     "text": [
      "[codecarbon INFO @ 16:28:31] Energy consumed for RAM : 0.014785 kWh. RAM Power : 11.756441116333008 W\n",
      "[codecarbon INFO @ 16:28:31] Energy consumed for all CPUs : 0.053455 kWh. Total CPU Power : 42.5 W\n",
      "[codecarbon INFO @ 16:28:31] Energy consumed for all GPUs : 0.120267 kWh. Total GPU Power : 95.83737223591395 W\n",
      "[codecarbon INFO @ 16:28:31] 0.188507 kWh of electricity used since the beginning.\n",
      "Processing: truck 3:  78%|███████▊  | 727/932 [1:15:38<31:16,  9.16s/file]"
     ]
    },
    {
     "name": "stdout",
     "output_type": "stream",
     "text": [
      "Vehicle Prediction: dumptruck\n",
      "Validation Result: False\n"
     ]
    },
    {
     "name": "stderr",
     "output_type": "stream",
     "text": [
      "Processing: truck 3:  78%|███████▊  | 728/932 [1:15:45<29:27,  8.66s/file]"
     ]
    },
    {
     "name": "stdout",
     "output_type": "stream",
     "text": [
      "Vehicle Prediction: trailer\n",
      "Validation Result: True\n"
     ]
    },
    {
     "name": "stderr",
     "output_type": "stream",
     "text": [
      "[codecarbon INFO @ 16:28:46] Energy consumed for RAM : 0.014834 kWh. RAM Power : 11.756441116333008 W\n",
      "[codecarbon INFO @ 16:28:46] Energy consumed for all CPUs : 0.053632 kWh. Total CPU Power : 42.5 W\n",
      "[codecarbon INFO @ 16:28:46] Energy consumed for all GPUs : 0.120660 kWh. Total GPU Power : 94.45663866565026 W\n",
      "[codecarbon INFO @ 16:28:46] 0.189126 kWh of electricity used since the beginning.\n"
     ]
    },
    {
     "name": "stdout",
     "output_type": "stream",
     "text": [
      "Vehicle Prediction: truck\n"
     ]
    },
    {
     "name": "stderr",
     "output_type": "stream",
     "text": [
      "Processing: truck 3:  78%|███████▊  | 729/932 [1:16:03<39:09, 11.58s/file]"
     ]
    },
    {
     "name": "stdout",
     "output_type": "stream",
     "text": [
      "Is Pickup Truck: no.\n",
      "Validation Result: True\n"
     ]
    },
    {
     "name": "stderr",
     "output_type": "stream",
     "text": [
      "[codecarbon INFO @ 16:29:01] Energy consumed for RAM : 0.014883 kWh. RAM Power : 11.756441116333008 W\n",
      "[codecarbon INFO @ 16:29:01] Energy consumed for all CPUs : 0.053809 kWh. Total CPU Power : 42.5 W\n",
      "[codecarbon INFO @ 16:29:01] Energy consumed for all GPUs : 0.121053 kWh. Total GPU Power : 94.36889929218323 W\n",
      "[codecarbon INFO @ 16:29:01] 0.189746 kWh of electricity used since the beginning.\n",
      "[codecarbon INFO @ 16:29:01] 0.011865 g.CO2eq/s mean an estimation of 374.18071771619987 kg.CO2eq/year\n",
      "Processing: bus 3:  78%|███████▊  | 730/932 [1:16:11<34:49, 10.35s/file]  "
     ]
    },
    {
     "name": "stdout",
     "output_type": "stream",
     "text": [
      "Vehicle Prediction: trailer\n",
      "Validation Result: True\n"
     ]
    },
    {
     "name": "stderr",
     "output_type": "stream",
     "text": [
      "[codecarbon INFO @ 16:29:16] Energy consumed for RAM : 0.014932 kWh. RAM Power : 11.756441116333008 W\n",
      "[codecarbon INFO @ 16:29:16] Energy consumed for all CPUs : 0.053986 kWh. Total CPU Power : 42.5 W\n",
      "[codecarbon INFO @ 16:29:16] Energy consumed for all GPUs : 0.121453 kWh. Total GPU Power : 95.99475189871241 W\n",
      "[codecarbon INFO @ 16:29:16] 0.190371 kWh of electricity used since the beginning.\n",
      "Processing: bus 3:  78%|███████▊  | 731/932 [1:16:20<33:24,  9.97s/file]"
     ]
    },
    {
     "name": "stdout",
     "output_type": "stream",
     "text": [
      "Vehicle Prediction: bus\n",
      "Validation Result: True\n"
     ]
    },
    {
     "name": "stderr",
     "output_type": "stream",
     "text": [
      "Processing: bus 3:  79%|███████▊  | 732/932 [1:16:23<26:13,  7.87s/file]"
     ]
    },
    {
     "name": "stdout",
     "output_type": "stream",
     "text": [
      "Vehicle Prediction: bus\n",
      "Validation Result: True\n"
     ]
    },
    {
     "name": "stderr",
     "output_type": "stream",
     "text": [
      "Processing: bus 3:  79%|███████▊  | 733/932 [1:16:26<21:12,  6.40s/file]"
     ]
    },
    {
     "name": "stdout",
     "output_type": "stream",
     "text": [
      "Vehicle Prediction: bus\n",
      "Validation Result: True\n"
     ]
    },
    {
     "name": "stderr",
     "output_type": "stream",
     "text": [
      "[codecarbon INFO @ 16:29:31] Energy consumed for RAM : 0.014981 kWh. RAM Power : 11.756441116333008 W\n",
      "[codecarbon INFO @ 16:29:31] Energy consumed for all CPUs : 0.054163 kWh. Total CPU Power : 42.5 W\n",
      "[codecarbon INFO @ 16:29:31] Energy consumed for all GPUs : 0.121850 kWh. Total GPU Power : 95.27367937869805 W\n",
      "[codecarbon INFO @ 16:29:31] 0.190994 kWh of electricity used since the beginning.\n",
      "Processing: bus 3:  79%|███████▉  | 734/932 [1:16:35<23:57,  7.26s/file]"
     ]
    },
    {
     "name": "stdout",
     "output_type": "stream",
     "text": [
      "Vehicle Prediction: coach\n",
      "Validation Result: True\n"
     ]
    },
    {
     "name": "stderr",
     "output_type": "stream",
     "text": [
      "Processing: bus 3:  79%|███████▉  | 735/932 [1:16:38<19:35,  5.97s/file]"
     ]
    },
    {
     "name": "stdout",
     "output_type": "stream",
     "text": [
      "Vehicle Prediction: coach\n",
      "Validation Result: True\n"
     ]
    },
    {
     "name": "stderr",
     "output_type": "stream",
     "text": [
      "Processing: bus 3:  79%|███████▉  | 736/932 [1:16:47<22:32,  6.90s/file]"
     ]
    },
    {
     "name": "stdout",
     "output_type": "stream",
     "text": [
      "Vehicle Prediction: coach\n",
      "Validation Result: True\n"
     ]
    },
    {
     "name": "stderr",
     "output_type": "stream",
     "text": [
      "[codecarbon INFO @ 16:29:46] Energy consumed for RAM : 0.015030 kWh. RAM Power : 11.756441116333008 W\n",
      "[codecarbon INFO @ 16:29:46] Energy consumed for all CPUs : 0.054340 kWh. Total CPU Power : 42.5 W\n",
      "[codecarbon INFO @ 16:29:46] Energy consumed for all GPUs : 0.122243 kWh. Total GPU Power : 94.44717312282546 W\n",
      "[codecarbon INFO @ 16:29:46] 0.191613 kWh of electricity used since the beginning.\n",
      "Processing: bus 3:  79%|███████▉  | 737/932 [1:16:56<24:40,  7.59s/file]"
     ]
    },
    {
     "name": "stdout",
     "output_type": "stream",
     "text": [
      "Vehicle Prediction: coach\n",
      "Validation Result: True\n"
     ]
    },
    {
     "name": "stderr",
     "output_type": "stream",
     "text": [
      "Processing: bus 3:  79%|███████▉  | 738/932 [1:16:59<20:03,  6.20s/file]"
     ]
    },
    {
     "name": "stdout",
     "output_type": "stream",
     "text": [
      "Vehicle Prediction: bus\n",
      "Validation Result: True\n"
     ]
    },
    {
     "name": "stderr",
     "output_type": "stream",
     "text": [
      "[codecarbon INFO @ 16:30:01] Energy consumed for RAM : 0.015079 kWh. RAM Power : 11.756441116333008 W\n",
      "[codecarbon INFO @ 16:30:01] Energy consumed for all CPUs : 0.054517 kWh. Total CPU Power : 42.5 W\n",
      "[codecarbon INFO @ 16:30:01] Energy consumed for all GPUs : 0.122642 kWh. Total GPU Power : 95.71796728019171 W\n",
      "[codecarbon INFO @ 16:30:01] 0.192238 kWh of electricity used since the beginning.\n",
      "Processing: bus 3:  79%|███████▉  | 739/932 [1:17:09<23:03,  7.17s/file]"
     ]
    },
    {
     "name": "stdout",
     "output_type": "stream",
     "text": [
      "Vehicle Prediction: bus\n",
      "Validation Result: True\n"
     ]
    },
    {
     "name": "stderr",
     "output_type": "stream",
     "text": [
      "Processing: bus 3:  79%|███████▉  | 740/932 [1:17:12<18:52,  5.90s/file]"
     ]
    },
    {
     "name": "stdout",
     "output_type": "stream",
     "text": [
      "Vehicle Prediction: bus\n",
      "Validation Result: True\n"
     ]
    },
    {
     "name": "stderr",
     "output_type": "stream",
     "text": [
      "[codecarbon INFO @ 16:30:16] Energy consumed for RAM : 0.015128 kWh. RAM Power : 11.756441116333008 W\n",
      "[codecarbon INFO @ 16:30:16] Energy consumed for all CPUs : 0.054694 kWh. Total CPU Power : 42.5 W\n",
      "[codecarbon INFO @ 16:30:16] Energy consumed for all GPUs : 0.123040 kWh. Total GPU Power : 95.53156154021939 W\n",
      "[codecarbon INFO @ 16:30:16] 0.192862 kWh of electricity used since the beginning.\n",
      "Processing: bus 3:  80%|███████▉  | 741/932 [1:17:21<21:57,  6.90s/file]"
     ]
    },
    {
     "name": "stdout",
     "output_type": "stream",
     "text": [
      "Vehicle Prediction: bus\n",
      "Validation Result: True\n"
     ]
    },
    {
     "name": "stderr",
     "output_type": "stream",
     "text": [
      "Processing: bus 3:  80%|███████▉  | 742/932 [1:17:30<23:58,  7.57s/file]"
     ]
    },
    {
     "name": "stdout",
     "output_type": "stream",
     "text": [
      "Vehicle Prediction: coach\n",
      "Validation Result: True\n"
     ]
    },
    {
     "name": "stderr",
     "output_type": "stream",
     "text": [
      "Processing: bus 3:  80%|███████▉  | 743/932 [1:17:33<19:28,  6.18s/file]"
     ]
    },
    {
     "name": "stdout",
     "output_type": "stream",
     "text": [
      "Vehicle Prediction: coach\n",
      "Validation Result: True\n"
     ]
    },
    {
     "name": "stderr",
     "output_type": "stream",
     "text": [
      "[codecarbon INFO @ 16:30:31] Energy consumed for RAM : 0.015177 kWh. RAM Power : 11.756441116333008 W\n",
      "[codecarbon INFO @ 16:30:31] Energy consumed for all CPUs : 0.054871 kWh. Total CPU Power : 42.5 W\n",
      "[codecarbon INFO @ 16:30:31] Energy consumed for all GPUs : 0.123436 kWh. Total GPU Power : 95.18417819253489 W\n",
      "[codecarbon INFO @ 16:30:31] 0.193484 kWh of electricity used since the beginning.\n",
      "Processing: bus 3:  80%|███████▉  | 744/932 [1:17:38<18:19,  5.85s/file]"
     ]
    },
    {
     "name": "stdout",
     "output_type": "stream",
     "text": [
      "Vehicle Prediction: coach\n",
      "Validation Result: True\n"
     ]
    },
    {
     "name": "stderr",
     "output_type": "stream",
     "text": [
      "Processing: bus 3:  80%|███████▉  | 745/932 [1:17:41<15:30,  4.98s/file]"
     ]
    },
    {
     "name": "stdout",
     "output_type": "stream",
     "text": [
      "Vehicle Prediction: bus\n",
      "Validation Result: True\n"
     ]
    },
    {
     "name": "stderr",
     "output_type": "stream",
     "text": [
      "[codecarbon INFO @ 16:30:46] Energy consumed for RAM : 0.015226 kWh. RAM Power : 11.756441116333008 W\n",
      "[codecarbon INFO @ 16:30:46] Energy consumed for all CPUs : 0.055048 kWh. Total CPU Power : 42.5 W\n",
      "[codecarbon INFO @ 16:30:46] Energy consumed for all GPUs : 0.123833 kWh. Total GPU Power : 95.36222861888568 W\n",
      "[codecarbon INFO @ 16:30:46] 0.194107 kWh of electricity used since the beginning.\n",
      "Processing: bus 3:  80%|████████  | 746/932 [1:17:50<19:14,  6.21s/file]"
     ]
    },
    {
     "name": "stdout",
     "output_type": "stream",
     "text": [
      "Vehicle Prediction: bus\n",
      "Validation Result: True\n"
     ]
    },
    {
     "name": "stderr",
     "output_type": "stream",
     "text": [
      "Processing: bus 3:  80%|████████  | 747/932 [1:17:59<21:46,  7.06s/file]"
     ]
    },
    {
     "name": "stdout",
     "output_type": "stream",
     "text": [
      "Vehicle Prediction: bus\n",
      "Validation Result: True\n"
     ]
    },
    {
     "name": "stderr",
     "output_type": "stream",
     "text": [
      "Processing: bus 3:  80%|████████  | 748/932 [1:18:02<17:51,  5.82s/file]"
     ]
    },
    {
     "name": "stdout",
     "output_type": "stream",
     "text": [
      "Vehicle Prediction: bus\n",
      "Validation Result: True\n"
     ]
    },
    {
     "name": "stderr",
     "output_type": "stream",
     "text": [
      "[codecarbon INFO @ 16:31:01] Energy consumed for RAM : 0.015275 kWh. RAM Power : 11.756441116333008 W\n",
      "[codecarbon INFO @ 16:31:01] Energy consumed for all CPUs : 0.055225 kWh. Total CPU Power : 42.5 W\n",
      "[codecarbon INFO @ 16:31:01] Energy consumed for all GPUs : 0.124230 kWh. Total GPU Power : 95.25142342867018 W\n",
      "[codecarbon INFO @ 16:31:01] 0.194730 kWh of electricity used since the beginning.\n",
      "[codecarbon INFO @ 16:31:01] 0.011858 g.CO2eq/s mean an estimation of 373.96024593468616 kg.CO2eq/year\n",
      "Processing: bus 3:  80%|████████  | 749/932 [1:18:11<20:42,  6.79s/file]"
     ]
    },
    {
     "name": "stdout",
     "output_type": "stream",
     "text": [
      "Vehicle Prediction: coach\n",
      "Validation Result: True\n"
     ]
    },
    {
     "name": "stderr",
     "output_type": "stream",
     "text": [
      "Processing: bus 3:  80%|████████  | 750/932 [1:18:14<17:05,  5.64s/file]"
     ]
    },
    {
     "name": "stdout",
     "output_type": "stream",
     "text": [
      "Vehicle Prediction: coach\n",
      "Validation Result: True\n"
     ]
    },
    {
     "name": "stderr",
     "output_type": "stream",
     "text": [
      "Processing: bus 3:  81%|████████  | 751/932 [1:18:17<14:33,  4.83s/file]"
     ]
    },
    {
     "name": "stdout",
     "output_type": "stream",
     "text": [
      "Vehicle Prediction: coach\n",
      "Validation Result: True\n"
     ]
    },
    {
     "name": "stderr",
     "output_type": "stream",
     "text": [
      "[codecarbon INFO @ 16:31:16] Energy consumed for RAM : 0.015324 kWh. RAM Power : 11.756441116333008 W\n",
      "[codecarbon INFO @ 16:31:16] Energy consumed for all CPUs : 0.055402 kWh. Total CPU Power : 42.5 W\n",
      "[codecarbon INFO @ 16:31:16] Energy consumed for all GPUs : 0.124629 kWh. Total GPU Power : 95.90377036647197 W\n",
      "[codecarbon INFO @ 16:31:16] 0.195355 kWh of electricity used since the beginning.\n",
      "Processing: bus 3:  81%|████████  | 752/932 [1:18:20<12:48,  4.27s/file]"
     ]
    },
    {
     "name": "stdout",
     "output_type": "stream",
     "text": [
      "Vehicle Prediction: coach\n",
      "Validation Result: True\n"
     ]
    },
    {
     "name": "stderr",
     "output_type": "stream",
     "text": [
      "Processing: bus 3:  81%|████████  | 753/932 [1:18:29<17:02,  5.71s/file]"
     ]
    },
    {
     "name": "stdout",
     "output_type": "stream",
     "text": [
      "Vehicle Prediction: coach\n",
      "Validation Result: True\n"
     ]
    },
    {
     "name": "stderr",
     "output_type": "stream",
     "text": [
      "Processing: bus 3:  81%|████████  | 754/932 [1:18:32<14:28,  4.88s/file]"
     ]
    },
    {
     "name": "stdout",
     "output_type": "stream",
     "text": [
      "Vehicle Prediction: coach\n",
      "Validation Result: True\n"
     ]
    },
    {
     "name": "stderr",
     "output_type": "stream",
     "text": [
      "[codecarbon INFO @ 16:31:31] Energy consumed for RAM : 0.015373 kWh. RAM Power : 11.756441116333008 W\n",
      "[codecarbon INFO @ 16:31:31] Energy consumed for all CPUs : 0.055579 kWh. Total CPU Power : 42.5 W\n",
      "[codecarbon INFO @ 16:31:31] Energy consumed for all GPUs : 0.125027 kWh. Total GPU Power : 95.39209618878172 W\n",
      "[codecarbon INFO @ 16:31:31] 0.195978 kWh of electricity used since the beginning.\n",
      "Processing: bus 3:  81%|████████  | 755/932 [1:18:35<12:41,  4.30s/file]"
     ]
    },
    {
     "name": "stdout",
     "output_type": "stream",
     "text": [
      "Vehicle Prediction: coach\n",
      "Validation Result: True\n"
     ]
    },
    {
     "name": "stderr",
     "output_type": "stream",
     "text": [
      "Processing: bus 3:  81%|████████  | 756/932 [1:18:40<13:15,  4.52s/file]"
     ]
    },
    {
     "name": "stdout",
     "output_type": "stream",
     "text": [
      "Vehicle Prediction: bus\n",
      "Validation Result: True\n"
     ]
    },
    {
     "name": "stderr",
     "output_type": "stream",
     "text": [
      "Processing: bus 3:  81%|████████  | 757/932 [1:18:49<17:10,  5.89s/file][codecarbon INFO @ 16:31:46] Energy consumed for RAM : 0.015421 kWh. RAM Power : 11.756441116333008 W\n",
      "[codecarbon INFO @ 16:31:46] Energy consumed for all CPUs : 0.055756 kWh. Total CPU Power : 42.5 W\n",
      "[codecarbon INFO @ 16:31:46] Energy consumed for all GPUs : 0.125423 kWh. Total GPU Power : 95.06760558716032 W\n",
      "[codecarbon INFO @ 16:31:46] 0.196600 kWh of electricity used since the beginning.\n"
     ]
    },
    {
     "name": "stdout",
     "output_type": "stream",
     "text": [
      "Vehicle Prediction: bus\n",
      "Validation Result: True\n"
     ]
    },
    {
     "name": "stderr",
     "output_type": "stream",
     "text": [
      "Processing: bus 3:  81%|████████▏ | 758/932 [1:18:57<19:00,  6.55s/file]"
     ]
    },
    {
     "name": "stdout",
     "output_type": "stream",
     "text": [
      "Vehicle Prediction: coach\n",
      "Validation Result: True\n"
     ]
    },
    {
     "name": "stderr",
     "output_type": "stream",
     "text": [
      "Processing: bus 3:  81%|████████▏ | 759/932 [1:19:00<15:46,  5.47s/file]"
     ]
    },
    {
     "name": "stdout",
     "output_type": "stream",
     "text": [
      "Vehicle Prediction: bus\n",
      "Validation Result: True\n"
     ]
    },
    {
     "name": "stderr",
     "output_type": "stream",
     "text": [
      "[codecarbon INFO @ 16:32:01] Energy consumed for RAM : 0.015470 kWh. RAM Power : 11.756441116333008 W\n",
      "[codecarbon INFO @ 16:32:01] Energy consumed for all CPUs : 0.055933 kWh. Total CPU Power : 42.5 W\n",
      "[codecarbon INFO @ 16:32:01] Energy consumed for all GPUs : 0.125822 kWh. Total GPU Power : 95.88961578553717 W\n",
      "[codecarbon INFO @ 16:32:01] 0.197226 kWh of electricity used since the beginning.\n",
      "Processing: bus 3:  82%|████████▏ | 760/932 [1:19:09<18:46,  6.55s/file]"
     ]
    },
    {
     "name": "stdout",
     "output_type": "stream",
     "text": [
      "Vehicle Prediction: bus\n",
      "Validation Result: True\n"
     ]
    },
    {
     "name": "stderr",
     "output_type": "stream",
     "text": [
      "Processing: bus 3:  82%|████████▏ | 761/932 [1:19:12<15:34,  5.47s/file]"
     ]
    },
    {
     "name": "stdout",
     "output_type": "stream",
     "text": [
      "Vehicle Prediction: bus\n",
      "Validation Result: True\n"
     ]
    },
    {
     "name": "stderr",
     "output_type": "stream",
     "text": [
      "Processing: bus 3:  82%|████████▏ | 762/932 [1:19:15<13:20,  4.71s/file]"
     ]
    },
    {
     "name": "stdout",
     "output_type": "stream",
     "text": [
      "Vehicle Prediction: car\n",
      "Validation Result: False\n"
     ]
    },
    {
     "name": "stderr",
     "output_type": "stream",
     "text": [
      "[codecarbon INFO @ 16:32:16] Energy consumed for RAM : 0.015519 kWh. RAM Power : 11.756441116333008 W\n",
      "[codecarbon INFO @ 16:32:16] Energy consumed for all CPUs : 0.056110 kWh. Total CPU Power : 42.5 W\n",
      "[codecarbon INFO @ 16:32:16] Energy consumed for all GPUs : 0.126221 kWh. Total GPU Power : 95.88360135668088 W\n",
      "[codecarbon INFO @ 16:32:16] 0.197851 kWh of electricity used since the beginning.\n",
      "Processing: bus 3:  82%|████████▏ | 763/932 [1:19:24<16:56,  6.01s/file]"
     ]
    },
    {
     "name": "stdout",
     "output_type": "stream",
     "text": [
      "Vehicle Prediction: bus\n",
      "Validation Result: True\n"
     ]
    },
    {
     "name": "stderr",
     "output_type": "stream",
     "text": [
      "Processing: bus 3:  82%|████████▏ | 764/932 [1:19:27<14:14,  5.09s/file]"
     ]
    },
    {
     "name": "stdout",
     "output_type": "stream",
     "text": [
      "Vehicle Prediction: coach\n",
      "Validation Result: True\n"
     ]
    },
    {
     "name": "stderr",
     "output_type": "stream",
     "text": [
      "Processing: bus 3:  82%|████████▏ | 765/932 [1:19:30<12:21,  4.44s/file]"
     ]
    },
    {
     "name": "stdout",
     "output_type": "stream",
     "text": [
      "Vehicle Prediction: bus\n",
      "Validation Result: True\n"
     ]
    },
    {
     "name": "stderr",
     "output_type": "stream",
     "text": [
      "[codecarbon INFO @ 16:32:31] Energy consumed for RAM : 0.015568 kWh. RAM Power : 11.756441116333008 W\n",
      "[codecarbon INFO @ 16:32:31] Energy consumed for all CPUs : 0.056287 kWh. Total CPU Power : 42.5 W\n",
      "[codecarbon INFO @ 16:32:31] Energy consumed for all GPUs : 0.126616 kWh. Total GPU Power : 94.77979111648746 W\n",
      "[codecarbon INFO @ 16:32:31] 0.198472 kWh of electricity used since the beginning.\n",
      "Processing: bus 3:  82%|████████▏ | 766/932 [1:19:39<16:04,  5.81s/file]"
     ]
    },
    {
     "name": "stdout",
     "output_type": "stream",
     "text": [
      "Vehicle Prediction: bus\n",
      "Validation Result: True\n"
     ]
    },
    {
     "name": "stderr",
     "output_type": "stream",
     "text": [
      "Processing: bus 3:  82%|████████▏ | 767/932 [1:19:42<13:36,  4.95s/file]"
     ]
    },
    {
     "name": "stdout",
     "output_type": "stream",
     "text": [
      "Vehicle Prediction: bus\n",
      "Validation Result: True\n"
     ]
    },
    {
     "name": "stderr",
     "output_type": "stream",
     "text": [
      "Processing: bus 3:  82%|████████▏ | 768/932 [1:19:45<11:52,  4.34s/file]"
     ]
    },
    {
     "name": "stdout",
     "output_type": "stream",
     "text": [
      "Vehicle Prediction: coach\n",
      "Validation Result: True\n"
     ]
    },
    {
     "name": "stderr",
     "output_type": "stream",
     "text": [
      "[codecarbon INFO @ 16:32:46] Energy consumed for RAM : 0.015617 kWh. RAM Power : 11.756441116333008 W\n",
      "[codecarbon INFO @ 16:32:46] Energy consumed for all CPUs : 0.056464 kWh. Total CPU Power : 42.5 W\n",
      "[codecarbon INFO @ 16:32:46] Energy consumed for all GPUs : 0.127014 kWh. Total GPU Power : 95.6057714500409 W\n",
      "[codecarbon INFO @ 16:32:46] 0.199096 kWh of electricity used since the beginning.\n",
      "Processing: bus 3:  83%|████████▎ | 769/932 [1:19:52<14:20,  5.28s/file]"
     ]
    },
    {
     "name": "stdout",
     "output_type": "stream",
     "text": [
      "Vehicle Prediction: bus\n",
      "Validation Result: True\n"
     ]
    },
    {
     "name": "stderr",
     "output_type": "stream",
     "text": [
      "Processing: bus 3:  83%|████████▎ | 770/932 [1:19:57<13:40,  5.07s/file]"
     ]
    },
    {
     "name": "stdout",
     "output_type": "stream",
     "text": [
      "Vehicle Prediction: coach\n",
      "Validation Result: True\n"
     ]
    },
    {
     "name": "stderr",
     "output_type": "stream",
     "text": [
      "Processing: bus 3:  83%|████████▎ | 771/932 [1:20:02<13:34,  5.06s/file]"
     ]
    },
    {
     "name": "stdout",
     "output_type": "stream",
     "text": [
      "Vehicle Prediction: coach\n",
      "Validation Result: True\n"
     ]
    },
    {
     "name": "stderr",
     "output_type": "stream",
     "text": [
      "[codecarbon INFO @ 16:33:01] Energy consumed for RAM : 0.015666 kWh. RAM Power : 11.756441116333008 W\n",
      "[codecarbon INFO @ 16:33:01] Energy consumed for all CPUs : 0.056641 kWh. Total CPU Power : 42.5 W\n",
      "[codecarbon INFO @ 16:33:01] Energy consumed for all GPUs : 0.127412 kWh. Total GPU Power : 95.48669037621168 W\n",
      "[codecarbon INFO @ 16:33:01] 0.199719 kWh of electricity used since the beginning.\n",
      "[codecarbon INFO @ 16:33:01] 0.011871 g.CO2eq/s mean an estimation of 374.3584645573297 kg.CO2eq/year\n",
      "Processing: bus 3:  83%|████████▎ | 772/932 [1:20:05<11:47,  4.42s/file]"
     ]
    },
    {
     "name": "stdout",
     "output_type": "stream",
     "text": [
      "Vehicle Prediction: bus\n",
      "Validation Result: True\n"
     ]
    },
    {
     "name": "stderr",
     "output_type": "stream",
     "text": [
      "Processing: bus 3:  83%|████████▎ | 773/932 [1:20:14<15:25,  5.82s/file]"
     ]
    },
    {
     "name": "stdout",
     "output_type": "stream",
     "text": [
      "Vehicle Prediction: bus\n",
      "Validation Result: True\n"
     ]
    },
    {
     "name": "stderr",
     "output_type": "stream",
     "text": [
      "Processing: bus 3:  83%|████████▎ | 774/932 [1:20:17<13:04,  4.96s/file]"
     ]
    },
    {
     "name": "stdout",
     "output_type": "stream",
     "text": [
      "Vehicle Prediction: bus\n",
      "Validation Result: True\n"
     ]
    },
    {
     "name": "stderr",
     "output_type": "stream",
     "text": [
      "[codecarbon INFO @ 16:33:16] Energy consumed for RAM : 0.015715 kWh. RAM Power : 11.756441116333008 W\n",
      "[codecarbon INFO @ 16:33:16] Energy consumed for all CPUs : 0.056818 kWh. Total CPU Power : 42.5 W\n",
      "[codecarbon INFO @ 16:33:16] Energy consumed for all GPUs : 0.127809 kWh. Total GPU Power : 95.36214239057458 W\n",
      "[codecarbon INFO @ 16:33:16] 0.200342 kWh of electricity used since the beginning.\n",
      "Processing: bus 3:  83%|████████▎ | 775/932 [1:20:20<11:24,  4.36s/file]"
     ]
    },
    {
     "name": "stdout",
     "output_type": "stream",
     "text": [
      "Vehicle Prediction: bus\n",
      "Validation Result: True\n"
     ]
    },
    {
     "name": "stderr",
     "output_type": "stream",
     "text": [
      "Processing: bus 3:  83%|████████▎ | 776/932 [1:20:29<15:01,  5.78s/file]"
     ]
    },
    {
     "name": "stdout",
     "output_type": "stream",
     "text": [
      "Vehicle Prediction: bus\n",
      "Validation Result: True\n"
     ]
    },
    {
     "name": "stderr",
     "output_type": "stream",
     "text": [
      "Processing: bus 3:  83%|████████▎ | 777/932 [1:20:34<14:00,  5.42s/file]"
     ]
    },
    {
     "name": "stdout",
     "output_type": "stream",
     "text": [
      "Vehicle Prediction: coach\n",
      "Validation Result: True\n"
     ]
    },
    {
     "name": "stderr",
     "output_type": "stream",
     "text": [
      "[codecarbon INFO @ 16:33:31] Energy consumed for RAM : 0.015764 kWh. RAM Power : 11.756441116333008 W\n",
      "[codecarbon INFO @ 16:33:31] Energy consumed for all CPUs : 0.056995 kWh. Total CPU Power : 42.5 W\n",
      "[codecarbon INFO @ 16:33:31] Energy consumed for all GPUs : 0.128205 kWh. Total GPU Power : 95.10524460457405 W\n",
      "[codecarbon INFO @ 16:33:31] 0.200965 kWh of electricity used since the beginning.\n",
      "Processing: bus 3:  83%|████████▎ | 778/932 [1:20:38<13:15,  5.17s/file]"
     ]
    },
    {
     "name": "stdout",
     "output_type": "stream",
     "text": [
      "Vehicle Prediction: coach\n",
      "Validation Result: True\n"
     ]
    },
    {
     "name": "stderr",
     "output_type": "stream",
     "text": [
      "Processing: bus 3:  84%|████████▎ | 779/932 [1:20:47<16:10,  6.35s/file]"
     ]
    },
    {
     "name": "stdout",
     "output_type": "stream",
     "text": [
      "Vehicle Prediction: coach\n",
      "Validation Result: True\n"
     ]
    },
    {
     "name": "stderr",
     "output_type": "stream",
     "text": [
      "[codecarbon INFO @ 16:33:46] Energy consumed for RAM : 0.015813 kWh. RAM Power : 11.756441116333008 W\n",
      "[codecarbon INFO @ 16:33:46] Energy consumed for all CPUs : 0.057172 kWh. Total CPU Power : 42.5 W\n",
      "[codecarbon INFO @ 16:33:46] Energy consumed for all GPUs : 0.128604 kWh. Total GPU Power : 95.86861043277908 W\n",
      "[codecarbon INFO @ 16:33:46] 0.201590 kWh of electricity used since the beginning.\n",
      "Processing: bus 3:  84%|████████▎ | 780/932 [1:20:50<13:30,  5.33s/file]"
     ]
    },
    {
     "name": "stdout",
     "output_type": "stream",
     "text": [
      "Vehicle Prediction: bus\n",
      "Validation Result: True\n"
     ]
    },
    {
     "name": "stderr",
     "output_type": "stream",
     "text": [
      "Processing: bus 3:  84%|████████▍ | 781/932 [1:20:56<13:58,  5.55s/file]"
     ]
    },
    {
     "name": "stdout",
     "output_type": "stream",
     "text": [
      "Vehicle Prediction: bus\n",
      "Validation Result: True\n"
     ]
    },
    {
     "name": "stderr",
     "output_type": "stream",
     "text": [
      "Processing: bus 3:  84%|████████▍ | 782/932 [1:20:59<11:55,  4.77s/file]"
     ]
    },
    {
     "name": "stdout",
     "output_type": "stream",
     "text": [
      "Vehicle Prediction: bus\n",
      "Validation Result: True\n"
     ]
    },
    {
     "name": "stderr",
     "output_type": "stream",
     "text": [
      "Processing: bus 3:  84%|████████▍ | 783/932 [1:21:02<10:29,  4.22s/file]"
     ]
    },
    {
     "name": "stdout",
     "output_type": "stream",
     "text": [
      "Vehicle Prediction: bus\n",
      "Validation Result: True\n"
     ]
    },
    {
     "name": "stderr",
     "output_type": "stream",
     "text": [
      "[codecarbon INFO @ 16:34:01] Energy consumed for RAM : 0.015862 kWh. RAM Power : 11.756441116333008 W\n",
      "[codecarbon INFO @ 16:34:01] Energy consumed for all CPUs : 0.057349 kWh. Total CPU Power : 42.5 W\n",
      "[codecarbon INFO @ 16:34:01] Energy consumed for all GPUs : 0.128999 kWh. Total GPU Power : 94.85722103672589 W\n",
      "[codecarbon INFO @ 16:34:01] 0.202211 kWh of electricity used since the beginning.\n",
      "Processing: bus 3:  84%|████████▍ | 784/932 [1:21:11<13:59,  5.67s/file]"
     ]
    },
    {
     "name": "stdout",
     "output_type": "stream",
     "text": [
      "Vehicle Prediction: bus\n",
      "Validation Result: True\n"
     ]
    },
    {
     "name": "stderr",
     "output_type": "stream",
     "text": [
      "Processing: bus 3:  84%|████████▍ | 785/932 [1:21:14<11:54,  4.86s/file]"
     ]
    },
    {
     "name": "stdout",
     "output_type": "stream",
     "text": [
      "Vehicle Prediction: coach\n",
      "Validation Result: True\n"
     ]
    },
    {
     "name": "stderr",
     "output_type": "stream",
     "text": [
      "Processing: bus 3:  84%|████████▍ | 786/932 [1:21:17<10:24,  4.28s/file]"
     ]
    },
    {
     "name": "stdout",
     "output_type": "stream",
     "text": [
      "Vehicle Prediction: car\n",
      "Validation Result: False\n"
     ]
    },
    {
     "name": "stderr",
     "output_type": "stream",
     "text": [
      "[codecarbon INFO @ 16:34:16] Energy consumed for RAM : 0.015911 kWh. RAM Power : 11.756441116333008 W\n",
      "[codecarbon INFO @ 16:34:16] Energy consumed for all CPUs : 0.057526 kWh. Total CPU Power : 42.5 W\n",
      "[codecarbon INFO @ 16:34:16] Energy consumed for all GPUs : 0.129399 kWh. Total GPU Power : 95.99202319559504 W\n",
      "[codecarbon INFO @ 16:34:16] 0.202837 kWh of electricity used since the beginning.\n",
      "Processing: bus 3:  84%|████████▍ | 787/932 [1:21:22<10:33,  4.37s/file]"
     ]
    },
    {
     "name": "stdout",
     "output_type": "stream",
     "text": [
      "Vehicle Prediction: coach\n",
      "Validation Result: True\n"
     ]
    },
    {
     "name": "stderr",
     "output_type": "stream",
     "text": [
      "Processing: bus 3:  85%|████████▍ | 788/932 [1:21:31<14:03,  5.86s/file]"
     ]
    },
    {
     "name": "stdout",
     "output_type": "stream",
     "text": [
      "Vehicle Prediction: bus\n",
      "Validation Result: True\n"
     ]
    },
    {
     "name": "stderr",
     "output_type": "stream",
     "text": [
      "[codecarbon INFO @ 16:34:31] Energy consumed for RAM : 0.015960 kWh. RAM Power : 11.756441116333008 W\n",
      "[codecarbon INFO @ 16:34:31] Energy consumed for all CPUs : 0.057703 kWh. Total CPU Power : 42.5 W\n",
      "[codecarbon INFO @ 16:34:31] Energy consumed for all GPUs : 0.129793 kWh. Total GPU Power : 94.57282992061114 W\n",
      "[codecarbon INFO @ 16:34:31] 0.203457 kWh of electricity used since the beginning.\n",
      "Processing: bus 3:  85%|████████▍ | 789/932 [1:21:36<13:03,  5.48s/file]"
     ]
    },
    {
     "name": "stdout",
     "output_type": "stream",
     "text": [
      "Vehicle Prediction: bus\n",
      "Validation Result: True\n"
     ]
    },
    {
     "name": "stderr",
     "output_type": "stream",
     "text": [
      "Processing: bus 3:  85%|████████▍ | 790/932 [1:21:45<15:31,  6.56s/file]"
     ]
    },
    {
     "name": "stdout",
     "output_type": "stream",
     "text": [
      "Vehicle Prediction: coach\n",
      "Validation Result: True\n"
     ]
    },
    {
     "name": "stderr",
     "output_type": "stream",
     "text": [
      "[codecarbon INFO @ 16:34:46] Energy consumed for RAM : 0.016009 kWh. RAM Power : 11.756441116333008 W\n",
      "[codecarbon INFO @ 16:34:46] Energy consumed for all CPUs : 0.057880 kWh. Total CPU Power : 42.5 W\n",
      "[codecarbon INFO @ 16:34:46] Energy consumed for all GPUs : 0.130189 kWh. Total GPU Power : 95.1522719769742 W\n",
      "[codecarbon INFO @ 16:34:46] 0.204079 kWh of electricity used since the beginning.\n",
      "Processing: bus 3:  85%|████████▍ | 791/932 [1:21:54<17:33,  7.47s/file]"
     ]
    },
    {
     "name": "stdout",
     "output_type": "stream",
     "text": [
      "Vehicle Prediction: coach\n",
      "Validation Result: True\n"
     ]
    },
    {
     "name": "stderr",
     "output_type": "stream",
     "text": [
      "Processing: bus 3:  85%|████████▍ | 792/932 [1:22:04<18:41,  8.01s/file]"
     ]
    },
    {
     "name": "stdout",
     "output_type": "stream",
     "text": [
      "Vehicle Prediction: coach\n",
      "Validation Result: True\n"
     ]
    },
    {
     "name": "stderr",
     "output_type": "stream",
     "text": [
      "[codecarbon INFO @ 16:35:01] Energy consumed for RAM : 0.016058 kWh. RAM Power : 11.756441116333008 W\n",
      "[codecarbon INFO @ 16:35:01] Energy consumed for all CPUs : 0.058057 kWh. Total CPU Power : 42.5 W\n",
      "[codecarbon INFO @ 16:35:01] Energy consumed for all GPUs : 0.130585 kWh. Total GPU Power : 94.98759815560639 W\n",
      "[codecarbon INFO @ 16:35:01] 0.204700 kWh of electricity used since the beginning.\n",
      "[codecarbon INFO @ 16:35:01] 0.011849 g.CO2eq/s mean an estimation of 373.68340242961483 kg.CO2eq/year\n",
      "Processing: bus 3:  85%|████████▌ | 793/932 [1:22:13<19:22,  8.36s/file]"
     ]
    },
    {
     "name": "stdout",
     "output_type": "stream",
     "text": [
      "Vehicle Prediction: coach\n",
      "Validation Result: True\n"
     ]
    },
    {
     "name": "stderr",
     "output_type": "stream",
     "text": [
      "Processing: bus 3:  85%|████████▌ | 794/932 [1:22:17<16:37,  7.23s/file]"
     ]
    },
    {
     "name": "stdout",
     "output_type": "stream",
     "text": [
      "Vehicle Prediction: bus\n",
      "Validation Result: True\n"
     ]
    },
    {
     "name": "stderr",
     "output_type": "stream",
     "text": [
      "[codecarbon INFO @ 16:35:16] Energy consumed for RAM : 0.016107 kWh. RAM Power : 11.756441116333008 W\n",
      "[codecarbon INFO @ 16:35:16] Energy consumed for all CPUs : 0.058234 kWh. Total CPU Power : 42.5 W\n",
      "[codecarbon INFO @ 16:35:16] Energy consumed for all GPUs : 0.130984 kWh. Total GPU Power : 95.83300759157325 W\n",
      "[codecarbon INFO @ 16:35:16] 0.205325 kWh of electricity used since the beginning.\n",
      "Processing: bus 3:  85%|████████▌ | 795/932 [1:22:22<14:59,  6.57s/file]"
     ]
    },
    {
     "name": "stdout",
     "output_type": "stream",
     "text": [
      "Vehicle Prediction: coach\n",
      "Validation Result: True\n"
     ]
    },
    {
     "name": "stderr",
     "output_type": "stream",
     "text": [
      "Processing: bus 3:  85%|████████▌ | 796/932 [1:22:25<12:24,  5.48s/file]"
     ]
    },
    {
     "name": "stdout",
     "output_type": "stream",
     "text": [
      "Vehicle Prediction: coach\n",
      "Validation Result: True\n"
     ]
    },
    {
     "name": "stderr",
     "output_type": "stream",
     "text": [
      "Processing: bus 3:  86%|████████▌ | 797/932 [1:22:28<10:35,  4.71s/file]"
     ]
    },
    {
     "name": "stdout",
     "output_type": "stream",
     "text": [
      "Vehicle Prediction: coach\n",
      "Validation Result: True\n"
     ]
    },
    {
     "name": "stderr",
     "output_type": "stream",
     "text": [
      "Processing: bus 3:  86%|████████▌ | 798/932 [1:22:31<09:19,  4.17s/file]"
     ]
    },
    {
     "name": "stdout",
     "output_type": "stream",
     "text": [
      "Vehicle Prediction: bus\n",
      "Validation Result: True\n"
     ]
    },
    {
     "name": "stderr",
     "output_type": "stream",
     "text": [
      "[codecarbon INFO @ 16:35:31] Energy consumed for RAM : 0.016156 kWh. RAM Power : 11.756441116333008 W\n",
      "[codecarbon INFO @ 16:35:31] Energy consumed for all CPUs : 0.058411 kWh. Total CPU Power : 42.5 W\n",
      "[codecarbon INFO @ 16:35:31] Energy consumed for all GPUs : 0.131381 kWh. Total GPU Power : 95.45181525480737 W\n",
      "[codecarbon INFO @ 16:35:31] 0.205948 kWh of electricity used since the beginning.\n",
      "Processing: bus 3:  86%|████████▌ | 799/932 [1:22:40<12:28,  5.63s/file]"
     ]
    },
    {
     "name": "stdout",
     "output_type": "stream",
     "text": [
      "Vehicle Prediction: coach\n",
      "Validation Result: True\n"
     ]
    },
    {
     "name": "stderr",
     "output_type": "stream",
     "text": [
      "Processing: bus 3:  86%|████████▌ | 800/932 [1:22:43<10:35,  4.81s/file]"
     ]
    },
    {
     "name": "stdout",
     "output_type": "stream",
     "text": [
      "Vehicle Prediction: coach\n",
      "Validation Result: True\n"
     ]
    },
    {
     "name": "stderr",
     "output_type": "stream",
     "text": [
      "[codecarbon INFO @ 16:35:46] Energy consumed for RAM : 0.016205 kWh. RAM Power : 11.756441116333008 W\n",
      "[codecarbon INFO @ 16:35:46] Energy consumed for all CPUs : 0.058588 kWh. Total CPU Power : 42.5 W\n",
      "[codecarbon INFO @ 16:35:46] Energy consumed for all GPUs : 0.131781 kWh. Total GPU Power : 95.84501524020092 W\n",
      "[codecarbon INFO @ 16:35:46] 0.206574 kWh of electricity used since the beginning.\n",
      "Processing: bus 3:  86%|████████▌ | 801/932 [1:22:52<13:23,  6.14s/file]"
     ]
    },
    {
     "name": "stdout",
     "output_type": "stream",
     "text": [
      "Vehicle Prediction: bus\n",
      "Validation Result: True\n"
     ]
    },
    {
     "name": "stderr",
     "output_type": "stream",
     "text": [
      "Processing: bus 3:  86%|████████▌ | 802/932 [1:23:02<15:33,  7.18s/file]"
     ]
    },
    {
     "name": "stdout",
     "output_type": "stream",
     "text": [
      "Vehicle Prediction: bus\n",
      "Validation Result: True\n"
     ]
    },
    {
     "name": "stderr",
     "output_type": "stream",
     "text": [
      "[codecarbon INFO @ 16:36:01] Energy consumed for RAM : 0.016254 kWh. RAM Power : 11.756441116333008 W\n",
      "[codecarbon INFO @ 16:36:01] Energy consumed for all CPUs : 0.058765 kWh. Total CPU Power : 42.5 W\n",
      "[codecarbon INFO @ 16:36:01] Energy consumed for all GPUs : 0.132168 kWh. Total GPU Power : 93.09739797443532 W\n",
      "[codecarbon INFO @ 16:36:01] 0.207187 kWh of electricity used since the beginning.\n",
      "Processing: bus 3:  86%|████████▌ | 803/932 [1:23:11<16:53,  7.85s/file]"
     ]
    },
    {
     "name": "stdout",
     "output_type": "stream",
     "text": [
      "Vehicle Prediction: bus\n",
      "Validation Result: True\n"
     ]
    },
    {
     "name": "stderr",
     "output_type": "stream",
     "text": [
      "Processing: bus 3:  86%|████████▋ | 804/932 [1:23:19<16:30,  7.74s/file]"
     ]
    },
    {
     "name": "stdout",
     "output_type": "stream",
     "text": [
      "Vehicle Prediction: coach\n",
      "Validation Result: True\n"
     ]
    },
    {
     "name": "stderr",
     "output_type": "stream",
     "text": [
      "[codecarbon INFO @ 16:36:16] Energy consumed for RAM : 0.016303 kWh. RAM Power : 11.756441116333008 W\n",
      "[codecarbon INFO @ 16:36:16] Energy consumed for all CPUs : 0.058942 kWh. Total CPU Power : 42.5 W\n",
      "[codecarbon INFO @ 16:36:16] Energy consumed for all GPUs : 0.132567 kWh. Total GPU Power : 95.56136257406175 W\n",
      "[codecarbon INFO @ 16:36:16] 0.207811 kWh of electricity used since the beginning.\n",
      "Processing: bus 3:  86%|████████▋ | 805/932 [1:23:28<17:24,  8.22s/file]"
     ]
    },
    {
     "name": "stdout",
     "output_type": "stream",
     "text": [
      "Vehicle Prediction: coach\n",
      "Validation Result: True\n"
     ]
    },
    {
     "name": "stderr",
     "output_type": "stream",
     "text": [
      "[codecarbon INFO @ 16:36:31] Energy consumed for RAM : 0.016352 kWh. RAM Power : 11.756441116333008 W\n",
      "[codecarbon INFO @ 16:36:31] Energy consumed for all CPUs : 0.059119 kWh. Total CPU Power : 42.5 W\n",
      "[codecarbon INFO @ 16:36:31] Energy consumed for all GPUs : 0.132966 kWh. Total GPU Power : 96.04954103878447 W\n",
      "[codecarbon INFO @ 16:36:31] 0.208437 kWh of electricity used since the beginning.\n",
      "Processing: bus 3:  86%|████████▋ | 806/932 [1:23:37<17:46,  8.47s/file]"
     ]
    },
    {
     "name": "stdout",
     "output_type": "stream",
     "text": [
      "Vehicle Prediction: bus\n",
      "Validation Result: True\n"
     ]
    },
    {
     "name": "stderr",
     "output_type": "stream",
     "text": [
      "Processing: bus 3:  87%|████████▋ | 807/932 [1:23:40<14:11,  6.81s/file]"
     ]
    },
    {
     "name": "stdout",
     "output_type": "stream",
     "text": [
      "Vehicle Prediction: bus\n",
      "Validation Result: True\n"
     ]
    },
    {
     "name": "stderr",
     "output_type": "stream",
     "text": [
      "Processing: bus 3:  87%|████████▋ | 808/932 [1:23:43<11:41,  5.66s/file]"
     ]
    },
    {
     "name": "stdout",
     "output_type": "stream",
     "text": [
      "Vehicle Prediction: bus\n",
      "Validation Result: True\n"
     ]
    },
    {
     "name": "stderr",
     "output_type": "stream",
     "text": [
      "Processing: bus 3:  87%|████████▋ | 809/932 [1:23:46<09:56,  4.85s/file]"
     ]
    },
    {
     "name": "stdout",
     "output_type": "stream",
     "text": [
      "Vehicle Prediction: coach\n",
      "Validation Result: True\n"
     ]
    },
    {
     "name": "stderr",
     "output_type": "stream",
     "text": [
      "[codecarbon INFO @ 16:36:46] Energy consumed for RAM : 0.016401 kWh. RAM Power : 11.756441116333008 W\n",
      "[codecarbon INFO @ 16:36:46] Energy consumed for all CPUs : 0.059296 kWh. Total CPU Power : 42.5 W\n",
      "[codecarbon INFO @ 16:36:46] Energy consumed for all GPUs : 0.133349 kWh. Total GPU Power : 91.87550423679839 W\n",
      "[codecarbon INFO @ 16:36:46] 0.209046 kWh of electricity used since the beginning.\n",
      "Processing: bus 3:  87%|████████▋ | 810/932 [1:23:57<13:20,  6.57s/file]"
     ]
    },
    {
     "name": "stdout",
     "output_type": "stream",
     "text": [
      "Vehicle Prediction: coach\n",
      "Validation Result: True\n"
     ]
    },
    {
     "name": "stderr",
     "output_type": "stream",
     "text": [
      "[codecarbon INFO @ 16:37:01] Energy consumed for RAM : 0.016450 kWh. RAM Power : 11.756441116333008 W\n",
      "[codecarbon INFO @ 16:37:01] Energy consumed for all CPUs : 0.059473 kWh. Total CPU Power : 42.5 W\n",
      "[codecarbon INFO @ 16:37:01] Energy consumed for all GPUs : 0.133749 kWh. Total GPU Power : 96.03191162924084 W\n",
      "[codecarbon INFO @ 16:37:01] 0.209672 kWh of electricity used since the beginning.\n",
      "[codecarbon INFO @ 16:37:01] 0.011828 g.CO2eq/s mean an estimation of 373.02192651338333 kg.CO2eq/year\n",
      "Processing: bus 3:  87%|████████▋ | 811/932 [1:24:06<14:45,  7.32s/file]"
     ]
    },
    {
     "name": "stdout",
     "output_type": "stream",
     "text": [
      "Vehicle Prediction: coach\n",
      "Validation Result: True\n"
     ]
    },
    {
     "name": "stderr",
     "output_type": "stream",
     "text": [
      "Processing: bus 3:  87%|████████▋ | 812/932 [1:24:09<12:01,  6.01s/file]"
     ]
    },
    {
     "name": "stdout",
     "output_type": "stream",
     "text": [
      "Vehicle Prediction: bus\n",
      "Validation Result: True\n"
     ]
    },
    {
     "name": "stderr",
     "output_type": "stream",
     "text": [
      "Processing: bus 3:  87%|████████▋ | 813/932 [1:24:14<11:21,  5.73s/file]"
     ]
    },
    {
     "name": "stdout",
     "output_type": "stream",
     "text": [
      "Vehicle Prediction: coach\n",
      "Validation Result: True\n"
     ]
    },
    {
     "name": "stderr",
     "output_type": "stream",
     "text": [
      "[codecarbon INFO @ 16:37:16] Energy consumed for RAM : 0.016498 kWh. RAM Power : 11.756441116333008 W\n",
      "[codecarbon INFO @ 16:37:16] Energy consumed for all CPUs : 0.059650 kWh. Total CPU Power : 42.5 W\n",
      "[codecarbon INFO @ 16:37:16] Energy consumed for all GPUs : 0.134145 kWh. Total GPU Power : 94.94366722032588 W\n",
      "[codecarbon INFO @ 16:37:16] 0.210293 kWh of electricity used since the beginning.\n",
      "Processing: bus 3:  87%|████████▋ | 814/932 [1:24:23<13:16,  6.75s/file]"
     ]
    },
    {
     "name": "stdout",
     "output_type": "stream",
     "text": [
      "Vehicle Prediction: bus\n",
      "Validation Result: True\n"
     ]
    },
    {
     "name": "stderr",
     "output_type": "stream",
     "text": [
      "Processing: bus 3:  87%|████████▋ | 815/932 [1:24:32<14:32,  7.45s/file]"
     ]
    },
    {
     "name": "stdout",
     "output_type": "stream",
     "text": [
      "Vehicle Prediction: coach\n",
      "Validation Result: True\n"
     ]
    },
    {
     "name": "stderr",
     "output_type": "stream",
     "text": [
      "[codecarbon INFO @ 16:37:31] Energy consumed for RAM : 0.016547 kWh. RAM Power : 11.756441116333008 W\n",
      "[codecarbon INFO @ 16:37:31] Energy consumed for all CPUs : 0.059827 kWh. Total CPU Power : 42.5 W\n",
      "[codecarbon INFO @ 16:37:31] Energy consumed for all GPUs : 0.134542 kWh. Total GPU Power : 95.38925627535127 W\n",
      "[codecarbon INFO @ 16:37:31] 0.210916 kWh of electricity used since the beginning.\n",
      "Processing: bus 3:  88%|████████▊ | 816/932 [1:24:41<15:20,  7.94s/file]"
     ]
    },
    {
     "name": "stdout",
     "output_type": "stream",
     "text": [
      "Vehicle Prediction: coach\n",
      "Validation Result: True\n"
     ]
    },
    {
     "name": "stderr",
     "output_type": "stream",
     "text": [
      "Processing: bus 3:  88%|████████▊ | 817/932 [1:24:44<12:20,  6.44s/file]"
     ]
    },
    {
     "name": "stdout",
     "output_type": "stream",
     "text": [
      "Vehicle Prediction: bus\n",
      "Validation Result: True\n"
     ]
    },
    {
     "name": "stderr",
     "output_type": "stream",
     "text": [
      "Processing: bus 3:  88%|████████▊ | 818/932 [1:24:47<10:14,  5.39s/file]"
     ]
    },
    {
     "name": "stdout",
     "output_type": "stream",
     "text": [
      "Vehicle Prediction: bus\n",
      "Validation Result: True\n"
     ]
    },
    {
     "name": "stderr",
     "output_type": "stream",
     "text": [
      "[codecarbon INFO @ 16:37:46] Energy consumed for RAM : 0.016596 kWh. RAM Power : 11.756441116333008 W\n",
      "[codecarbon INFO @ 16:37:46] Energy consumed for all CPUs : 0.060004 kWh. Total CPU Power : 42.5 W\n",
      "[codecarbon INFO @ 16:37:46] Energy consumed for all GPUs : 0.134939 kWh. Total GPU Power : 95.38558924989896 W\n",
      "[codecarbon INFO @ 16:37:46] 0.211540 kWh of electricity used since the beginning.\n",
      "Processing: bus 3:  88%|████████▊ | 819/932 [1:24:56<12:11,  6.48s/file]"
     ]
    },
    {
     "name": "stdout",
     "output_type": "stream",
     "text": [
      "Vehicle Prediction: coach\n",
      "Validation Result: True\n"
     ]
    },
    {
     "name": "stderr",
     "output_type": "stream",
     "text": [
      "Processing: bus 3:  88%|████████▊ | 820/932 [1:24:59<10:06,  5.41s/file]"
     ]
    },
    {
     "name": "stdout",
     "output_type": "stream",
     "text": [
      "Vehicle Prediction: coach\n",
      "Validation Result: True\n"
     ]
    },
    {
     "name": "stderr",
     "output_type": "stream",
     "text": [
      "[codecarbon INFO @ 16:38:01] Energy consumed for RAM : 0.016645 kWh. RAM Power : 11.756441116333008 W\n",
      "[codecarbon INFO @ 16:38:01] Energy consumed for all CPUs : 0.060181 kWh. Total CPU Power : 42.5 W\n",
      "[codecarbon INFO @ 16:38:01] Energy consumed for all GPUs : 0.135340 kWh. Total GPU Power : 96.27009549710569 W\n",
      "[codecarbon INFO @ 16:38:01] 0.212167 kWh of electricity used since the beginning.\n",
      "Processing: bus 3:  88%|████████▊ | 821/932 [1:25:08<12:01,  6.50s/file]"
     ]
    },
    {
     "name": "stdout",
     "output_type": "stream",
     "text": [
      "Vehicle Prediction: bus\n",
      "Validation Result: True\n"
     ]
    },
    {
     "name": "stderr",
     "output_type": "stream",
     "text": [
      "Processing: bus 3:  88%|████████▊ | 822/932 [1:25:11<09:56,  5.43s/file]"
     ]
    },
    {
     "name": "stdout",
     "output_type": "stream",
     "text": [
      "Vehicle Prediction: coach\n",
      "Validation Result: True\n"
     ]
    },
    {
     "name": "stderr",
     "output_type": "stream",
     "text": [
      "[codecarbon INFO @ 16:38:16] Energy consumed for RAM : 0.016694 kWh. RAM Power : 11.756441116333008 W\n",
      "[codecarbon INFO @ 16:38:16] Energy consumed for all CPUs : 0.060358 kWh. Total CPU Power : 42.5 W\n",
      "[codecarbon INFO @ 16:38:16] Energy consumed for all GPUs : 0.135738 kWh. Total GPU Power : 95.46090791650182 W\n",
      "[codecarbon INFO @ 16:38:16] 0.212790 kWh of electricity used since the beginning.\n",
      "Processing: bus 3:  88%|████████▊ | 823/932 [1:25:20<11:49,  6.51s/file]"
     ]
    },
    {
     "name": "stdout",
     "output_type": "stream",
     "text": [
      "Vehicle Prediction: bus\n",
      "Validation Result: True\n"
     ]
    },
    {
     "name": "stderr",
     "output_type": "stream",
     "text": [
      "Processing: bus 3:  88%|████████▊ | 824/932 [1:25:29<13:05,  7.27s/file]"
     ]
    },
    {
     "name": "stdout",
     "output_type": "stream",
     "text": [
      "Vehicle Prediction: bus\n",
      "Validation Result: True\n"
     ]
    },
    {
     "name": "stderr",
     "output_type": "stream",
     "text": [
      "[codecarbon INFO @ 16:38:31] Energy consumed for RAM : 0.016743 kWh. RAM Power : 11.756441116333008 W\n",
      "[codecarbon INFO @ 16:38:31] Energy consumed for all CPUs : 0.060535 kWh. Total CPU Power : 42.5 W\n",
      "[codecarbon INFO @ 16:38:31] Energy consumed for all GPUs : 0.136136 kWh. Total GPU Power : 95.59156100316119 W\n",
      "[codecarbon INFO @ 16:38:31] 0.213414 kWh of electricity used since the beginning.\n",
      "Processing: bus 3:  89%|████████▊ | 825/932 [1:25:35<12:15,  6.87s/file]"
     ]
    },
    {
     "name": "stdout",
     "output_type": "stream",
     "text": [
      "Vehicle Prediction: coach\n",
      "Validation Result: True\n"
     ]
    },
    {
     "name": "stderr",
     "output_type": "stream",
     "text": [
      "Processing: bus 3:  89%|████████▊ | 826/932 [1:25:44<13:17,  7.52s/file]"
     ]
    },
    {
     "name": "stdout",
     "output_type": "stream",
     "text": [
      "Vehicle Prediction: bus\n",
      "Validation Result: True\n"
     ]
    },
    {
     "name": "stderr",
     "output_type": "stream",
     "text": [
      "[codecarbon INFO @ 16:38:46] Energy consumed for RAM : 0.016792 kWh. RAM Power : 11.756441116333008 W\n",
      "[codecarbon INFO @ 16:38:46] Energy consumed for all CPUs : 0.060712 kWh. Total CPU Power : 42.5 W\n",
      "[codecarbon INFO @ 16:38:46] Energy consumed for all GPUs : 0.136534 kWh. Total GPU Power : 95.63263655983981 W\n",
      "[codecarbon INFO @ 16:38:46] 0.214038 kWh of electricity used since the beginning.\n",
      "Processing: bus 3:  89%|████████▊ | 827/932 [1:25:53<13:59,  8.00s/file]"
     ]
    },
    {
     "name": "stdout",
     "output_type": "stream",
     "text": [
      "Vehicle Prediction: bus\n",
      "Validation Result: True\n"
     ]
    },
    {
     "name": "stderr",
     "output_type": "stream",
     "text": [
      "Processing: truck 5:  89%|████████▉ | 828/932 [1:26:02<14:26,  8.33s/file]"
     ]
    },
    {
     "name": "stdout",
     "output_type": "stream",
     "text": [
      "Vehicle Prediction: bus\n",
      "Validation Result: True\n"
     ]
    },
    {
     "name": "stderr",
     "output_type": "stream",
     "text": [
      "[codecarbon INFO @ 16:39:01] Energy consumed for RAM : 0.016841 kWh. RAM Power : 11.756441116333008 W\n",
      "[codecarbon INFO @ 16:39:01] Energy consumed for all CPUs : 0.060889 kWh. Total CPU Power : 42.5 W\n",
      "[codecarbon INFO @ 16:39:01] Energy consumed for all GPUs : 0.136930 kWh. Total GPU Power : 95.13341456678667 W\n",
      "[codecarbon INFO @ 16:39:01] 0.214661 kWh of electricity used since the beginning.\n",
      "[codecarbon INFO @ 16:39:01] 0.011869 g.CO2eq/s mean an estimation of 374.3061625015086 kg.CO2eq/year\n",
      "Processing: truck 5:  89%|████████▉ | 829/932 [1:26:05<11:31,  6.72s/file]"
     ]
    },
    {
     "name": "stdout",
     "output_type": "stream",
     "text": [
      "Vehicle Prediction: trailer\n",
      "Validation Result: True\n"
     ]
    },
    {
     "name": "stderr",
     "output_type": "stream",
     "text": [
      "Processing: truck 5:  89%|████████▉ | 830/932 [1:26:08<09:30,  5.59s/file]"
     ]
    },
    {
     "name": "stdout",
     "output_type": "stream",
     "text": [
      "Vehicle Prediction: trailer\n",
      "Validation Result: True\n"
     ]
    },
    {
     "name": "stderr",
     "output_type": "stream",
     "text": [
      "Processing: truck 5:  89%|████████▉ | 831/932 [1:26:11<08:04,  4.80s/file]"
     ]
    },
    {
     "name": "stdout",
     "output_type": "stream",
     "text": [
      "Vehicle Prediction: dump-tr\n",
      "Validation Result: False\n"
     ]
    },
    {
     "name": "stderr",
     "output_type": "stream",
     "text": [
      "Processing: truck 5:  89%|████████▉ | 832/932 [1:26:14<07:04,  4.25s/file]"
     ]
    },
    {
     "name": "stdout",
     "output_type": "stream",
     "text": [
      "Vehicle Prediction: dumptruck\n",
      "Validation Result: False\n"
     ]
    },
    {
     "name": "stderr",
     "output_type": "stream",
     "text": [
      "[codecarbon INFO @ 16:39:16] Energy consumed for RAM : 0.016890 kWh. RAM Power : 11.756441116333008 W\n",
      "[codecarbon INFO @ 16:39:16] Energy consumed for all CPUs : 0.061066 kWh. Total CPU Power : 42.5 W\n",
      "[codecarbon INFO @ 16:39:16] Energy consumed for all GPUs : 0.137321 kWh. Total GPU Power : 93.78105316483493 W\n",
      "[codecarbon INFO @ 16:39:16] 0.215277 kWh of electricity used since the beginning.\n",
      "Processing: truck 5:  89%|████████▉ | 833/932 [1:26:24<09:49,  5.96s/file]"
     ]
    },
    {
     "name": "stdout",
     "output_type": "stream",
     "text": [
      "Vehicle Prediction: dump-tr\n",
      "Validation Result: False\n"
     ]
    },
    {
     "name": "stderr",
     "output_type": "stream",
     "text": [
      "Processing: truck 5:  89%|████████▉ | 834/932 [1:26:27<08:14,  5.05s/file]"
     ]
    },
    {
     "name": "stdout",
     "output_type": "stream",
     "text": [
      "Vehicle Prediction: trailer\n",
      "Validation Result: True\n"
     ]
    },
    {
     "name": "stderr",
     "output_type": "stream",
     "text": [
      "[codecarbon INFO @ 16:39:31] Energy consumed for RAM : 0.016939 kWh. RAM Power : 11.756441116333008 W\n",
      "[codecarbon INFO @ 16:39:31] Energy consumed for all CPUs : 0.061243 kWh. Total CPU Power : 42.5 W\n",
      "[codecarbon INFO @ 16:39:31] Energy consumed for all GPUs : 0.137719 kWh. Total GPU Power : 95.48687031170911 W\n",
      "[codecarbon INFO @ 16:39:31] 0.215901 kWh of electricity used since the beginning.\n",
      "Processing: truck 5:  90%|████████▉ | 835/932 [1:26:34<09:19,  5.77s/file]"
     ]
    },
    {
     "name": "stdout",
     "output_type": "stream",
     "text": [
      "Vehicle Prediction: trailer\n",
      "Validation Result: True\n"
     ]
    },
    {
     "name": "stderr",
     "output_type": "stream",
     "text": [
      "Processing: truck 5:  90%|████████▉ | 836/932 [1:26:37<07:52,  4.92s/file]"
     ]
    },
    {
     "name": "stdout",
     "output_type": "stream",
     "text": [
      "Vehicle Prediction: dumptruck\n",
      "Validation Result: False\n"
     ]
    },
    {
     "name": "stderr",
     "output_type": "stream",
     "text": [
      "Processing: truck 5:  90%|████████▉ | 837/932 [1:26:40<06:51,  4.33s/file]"
     ]
    },
    {
     "name": "stdout",
     "output_type": "stream",
     "text": [
      "Vehicle Prediction: pickup\n",
      "Validation Result: False\n",
      "Vehicle Prediction: truck\n"
     ]
    },
    {
     "name": "stderr",
     "output_type": "stream",
     "text": [
      "Processing: truck 5:  90%|████████▉ | 838/932 [1:26:45<07:13,  4.61s/file]"
     ]
    },
    {
     "name": "stdout",
     "output_type": "stream",
     "text": [
      "Is Pickup Truck: no.\n",
      "Validation Result: True\n"
     ]
    },
    {
     "name": "stderr",
     "output_type": "stream",
     "text": [
      "Processing: truck 5:  90%|█████████ | 839/932 [1:26:48<06:22,  4.11s/file]"
     ]
    },
    {
     "name": "stdout",
     "output_type": "stream",
     "text": [
      "Vehicle Prediction: dump-tr\n",
      "Validation Result: False\n"
     ]
    },
    {
     "name": "stderr",
     "output_type": "stream",
     "text": [
      "[codecarbon INFO @ 16:39:46] Energy consumed for RAM : 0.016988 kWh. RAM Power : 11.756441116333008 W\n",
      "[codecarbon INFO @ 16:39:46] Energy consumed for all CPUs : 0.061420 kWh. Total CPU Power : 42.5 W\n",
      "[codecarbon INFO @ 16:39:46] Energy consumed for all GPUs : 0.138113 kWh. Total GPU Power : 94.61661276467603 W\n",
      "[codecarbon INFO @ 16:39:46] 0.216521 kWh of electricity used since the beginning.\n",
      "Processing: truck 5:  90%|█████████ | 840/932 [1:26:57<08:12,  5.36s/file]"
     ]
    },
    {
     "name": "stdout",
     "output_type": "stream",
     "text": [
      "Vehicle Prediction: trailer\n",
      "Validation Result: True\n"
     ]
    },
    {
     "name": "stderr",
     "output_type": "stream",
     "text": [
      "Processing: truck 5:  90%|█████████ | 841/932 [1:27:00<07:01,  4.64s/file]"
     ]
    },
    {
     "name": "stdout",
     "output_type": "stream",
     "text": [
      "Vehicle Prediction: dumptruck\n",
      "Validation Result: False\n"
     ]
    },
    {
     "name": "stderr",
     "output_type": "stream",
     "text": [
      "Processing: truck 5:  90%|█████████ | 842/932 [1:27:03<06:12,  4.14s/file]"
     ]
    },
    {
     "name": "stdout",
     "output_type": "stream",
     "text": [
      "Vehicle Prediction: trailer\n",
      "Validation Result: True\n"
     ]
    },
    {
     "name": "stderr",
     "output_type": "stream",
     "text": [
      "[codecarbon INFO @ 16:40:01] Energy consumed for RAM : 0.017037 kWh. RAM Power : 11.756441116333008 W\n",
      "[codecarbon INFO @ 16:40:01] Energy consumed for all CPUs : 0.061597 kWh. Total CPU Power : 42.5 W\n",
      "[codecarbon INFO @ 16:40:01] Energy consumed for all GPUs : 0.138509 kWh. Total GPU Power : 95.08855054436293 W\n",
      "[codecarbon INFO @ 16:40:01] 0.217143 kWh of electricity used since the beginning.\n",
      "Processing: truck 5:  90%|█████████ | 843/932 [1:27:06<05:36,  3.79s/file]"
     ]
    },
    {
     "name": "stdout",
     "output_type": "stream",
     "text": [
      "Vehicle Prediction: trailer\n",
      "Validation Result: True\n"
     ]
    },
    {
     "name": "stderr",
     "output_type": "stream",
     "text": [
      "Processing: truck 5:  91%|█████████ | 844/932 [1:27:11<06:06,  4.16s/file]"
     ]
    },
    {
     "name": "stdout",
     "output_type": "stream",
     "text": [
      "Vehicle Prediction: dumptruck\n",
      "Validation Result: False\n"
     ]
    },
    {
     "name": "stderr",
     "output_type": "stream",
     "text": [
      "Processing: truck 5:  91%|█████████ | 845/932 [1:27:14<05:30,  3.80s/file]"
     ]
    },
    {
     "name": "stdout",
     "output_type": "stream",
     "text": [
      "Vehicle Prediction: tow-tr\n",
      "Validation Result: False\n"
     ]
    },
    {
     "name": "stderr",
     "output_type": "stream",
     "text": [
      "Processing: truck 5:  91%|█████████ | 846/932 [1:27:17<05:04,  3.55s/file]"
     ]
    },
    {
     "name": "stdout",
     "output_type": "stream",
     "text": [
      "Vehicle Prediction: pickup\n",
      "Validation Result: False\n"
     ]
    },
    {
     "name": "stderr",
     "output_type": "stream",
     "text": [
      "[codecarbon INFO @ 16:40:16] Energy consumed for RAM : 0.017086 kWh. RAM Power : 11.756441116333008 W\n",
      "[codecarbon INFO @ 16:40:16] Energy consumed for all CPUs : 0.061774 kWh. Total CPU Power : 42.5 W\n",
      "[codecarbon INFO @ 16:40:16] Energy consumed for all GPUs : 0.138905 kWh. Total GPU Power : 95.1158475240709 W\n",
      "[codecarbon INFO @ 16:40:16] 0.217765 kWh of electricity used since the beginning.\n",
      "Processing: truck 5:  91%|█████████ | 847/932 [1:27:19<04:46,  3.37s/file]"
     ]
    },
    {
     "name": "stdout",
     "output_type": "stream",
     "text": [
      "Vehicle Prediction: dumptruck\n",
      "Validation Result: False\n"
     ]
    },
    {
     "name": "stderr",
     "output_type": "stream",
     "text": [
      "Processing: truck 5:  91%|█████████ | 848/932 [1:27:22<04:31,  3.24s/file]"
     ]
    },
    {
     "name": "stdout",
     "output_type": "stream",
     "text": [
      "Vehicle Prediction: dumptruck\n",
      "Validation Result: False\n"
     ]
    },
    {
     "name": "stderr",
     "output_type": "stream",
     "text": [
      "Processing: truck 5:  91%|█████████ | 849/932 [1:27:30<06:13,  4.51s/file]"
     ]
    },
    {
     "name": "stdout",
     "output_type": "stream",
     "text": [
      "Vehicle Prediction: trailer\n",
      "Validation Result: True\n"
     ]
    },
    {
     "name": "stderr",
     "output_type": "stream",
     "text": [
      "Processing: truck 5:  91%|█████████ | 850/932 [1:27:33<05:30,  4.03s/file]"
     ]
    },
    {
     "name": "stdout",
     "output_type": "stream",
     "text": [
      "Vehicle Prediction: dumptruck\n",
      "Validation Result: False\n"
     ]
    },
    {
     "name": "stderr",
     "output_type": "stream",
     "text": [
      "[codecarbon INFO @ 16:40:31] Energy consumed for RAM : 0.017135 kWh. RAM Power : 11.756441116333008 W\n",
      "[codecarbon INFO @ 16:40:31] Energy consumed for all CPUs : 0.061951 kWh. Total CPU Power : 42.5 W\n",
      "[codecarbon INFO @ 16:40:31] Energy consumed for all GPUs : 0.139304 kWh. Total GPU Power : 95.86110460995623 W\n",
      "[codecarbon INFO @ 16:40:31] 0.218390 kWh of electricity used since the beginning.\n",
      "Processing: truck 5:  91%|█████████▏| 851/932 [1:27:36<04:59,  3.70s/file]"
     ]
    },
    {
     "name": "stdout",
     "output_type": "stream",
     "text": [
      "Vehicle Prediction: dumptruck\n",
      "Validation Result: False\n"
     ]
    },
    {
     "name": "stderr",
     "output_type": "stream",
     "text": [
      "Processing: truck 5:  91%|█████████▏| 852/932 [1:27:45<07:03,  5.30s/file]"
     ]
    },
    {
     "name": "stdout",
     "output_type": "stream",
     "text": [
      "Vehicle Prediction: trailer\n",
      "Validation Result: True\n"
     ]
    },
    {
     "name": "stderr",
     "output_type": "stream",
     "text": [
      "Processing: truck 5:  92%|█████████▏| 853/932 [1:27:48<06:02,  4.59s/file]"
     ]
    },
    {
     "name": "stdout",
     "output_type": "stream",
     "text": [
      "Vehicle Prediction: trailer\n",
      "Validation Result: True\n"
     ]
    },
    {
     "name": "stderr",
     "output_type": "stream",
     "text": [
      "[codecarbon INFO @ 16:40:46] Energy consumed for RAM : 0.017184 kWh. RAM Power : 11.756441116333008 W\n",
      "[codecarbon INFO @ 16:40:46] Energy consumed for all CPUs : 0.062128 kWh. Total CPU Power : 42.5 W\n",
      "[codecarbon INFO @ 16:40:46] Energy consumed for all GPUs : 0.139701 kWh. Total GPU Power : 95.25131027992639 W\n",
      "[codecarbon INFO @ 16:40:46] 0.219013 kWh of electricity used since the beginning.\n",
      "Processing: truck 5:  92%|█████████▏| 854/932 [1:27:55<07:05,  5.46s/file]"
     ]
    },
    {
     "name": "stdout",
     "output_type": "stream",
     "text": [
      "Vehicle Prediction: trailer\n",
      "Validation Result: True\n"
     ]
    },
    {
     "name": "stderr",
     "output_type": "stream",
     "text": [
      "Processing: truck 5:  92%|█████████▏| 855/932 [1:27:58<06:01,  4.70s/file]"
     ]
    },
    {
     "name": "stdout",
     "output_type": "stream",
     "text": [
      "Vehicle Prediction: trailer\n",
      "Validation Result: True\n"
     ]
    },
    {
     "name": "stderr",
     "output_type": "stream",
     "text": [
      "[codecarbon INFO @ 16:41:01] Energy consumed for RAM : 0.017233 kWh. RAM Power : 11.756441116333008 W\n",
      "[codecarbon INFO @ 16:41:01] Energy consumed for all CPUs : 0.062305 kWh. Total CPU Power : 42.5 W\n",
      "[codecarbon INFO @ 16:41:01] Energy consumed for all GPUs : 0.140100 kWh. Total GPU Power : 95.78061013512452 W\n",
      "[codecarbon INFO @ 16:41:01] 0.219638 kWh of electricity used since the beginning.\n",
      "[codecarbon INFO @ 16:41:01] 0.011841 g.CO2eq/s mean an estimation of 373.41759807756716 kg.CO2eq/year\n",
      "Processing: truck 5:  92%|█████████▏| 856/932 [1:28:07<07:35,  5.99s/file]"
     ]
    },
    {
     "name": "stdout",
     "output_type": "stream",
     "text": [
      "Vehicle Prediction: coach\n",
      "Validation Result: False\n"
     ]
    },
    {
     "name": "stderr",
     "output_type": "stream",
     "text": [
      "Processing: truck 5:  92%|█████████▏| 857/932 [1:28:16<08:40,  6.94s/file]"
     ]
    },
    {
     "name": "stdout",
     "output_type": "stream",
     "text": [
      "Vehicle Prediction: dump-tr\n",
      "Validation Result: False\n"
     ]
    },
    {
     "name": "stderr",
     "output_type": "stream",
     "text": [
      "[codecarbon INFO @ 16:41:16] Energy consumed for RAM : 0.017282 kWh. RAM Power : 11.756441116333008 W\n",
      "[codecarbon INFO @ 16:41:16] Energy consumed for all CPUs : 0.062482 kWh. Total CPU Power : 42.5 W\n",
      "[codecarbon INFO @ 16:41:16] Energy consumed for all GPUs : 0.140498 kWh. Total GPU Power : 95.60313966497696 W\n",
      "[codecarbon INFO @ 16:41:16] 0.220262 kWh of electricity used since the beginning.\n",
      "Processing: truck 5:  92%|█████████▏| 858/932 [1:28:24<08:44,  7.09s/file]"
     ]
    },
    {
     "name": "stdout",
     "output_type": "stream",
     "text": [
      "Vehicle Prediction: trailer\n",
      "Validation Result: True\n"
     ]
    },
    {
     "name": "stderr",
     "output_type": "stream",
     "text": [
      "Processing: truck 5:  92%|█████████▏| 859/932 [1:28:31<08:45,  7.20s/file]"
     ]
    },
    {
     "name": "stdout",
     "output_type": "stream",
     "text": [
      "Vehicle Prediction: trailer\n",
      "Validation Result: True\n"
     ]
    },
    {
     "name": "stderr",
     "output_type": "stream",
     "text": [
      "Processing: truck 5:  92%|█████████▏| 860/932 [1:28:34<07:06,  5.92s/file][codecarbon INFO @ 16:41:31] Energy consumed for RAM : 0.017331 kWh. RAM Power : 11.756441116333008 W\n",
      "[codecarbon INFO @ 16:41:31] Energy consumed for all CPUs : 0.062659 kWh. Total CPU Power : 42.5 W\n",
      "[codecarbon INFO @ 16:41:31] Energy consumed for all GPUs : 0.140895 kWh. Total GPU Power : 95.18299809323439 W\n",
      "[codecarbon INFO @ 16:41:31] 0.220885 kWh of electricity used since the beginning.\n"
     ]
    },
    {
     "name": "stdout",
     "output_type": "stream",
     "text": [
      "Vehicle Prediction: dump-tr\n",
      "Validation Result: False\n"
     ]
    },
    {
     "name": "stderr",
     "output_type": "stream",
     "text": [
      "Processing: truck 5:  92%|█████████▏| 861/932 [1:28:37<05:57,  5.03s/file]"
     ]
    },
    {
     "name": "stdout",
     "output_type": "stream",
     "text": [
      "Vehicle Prediction: dumptruck\n",
      "Validation Result: False\n"
     ]
    },
    {
     "name": "stderr",
     "output_type": "stream",
     "text": [
      "Processing: truck 5:  92%|█████████▏| 862/932 [1:28:40<05:08,  4.41s/file]"
     ]
    },
    {
     "name": "stdout",
     "output_type": "stream",
     "text": [
      "Vehicle Prediction: trailer\n",
      "Validation Result: True\n"
     ]
    },
    {
     "name": "stderr",
     "output_type": "stream",
     "text": [
      "Processing: truck 5:  93%|█████████▎| 863/932 [1:28:43<04:33,  3.97s/file]"
     ]
    },
    {
     "name": "stdout",
     "output_type": "stream",
     "text": [
      "Vehicle Prediction: dumptruck\n",
      "Validation Result: False\n"
     ]
    },
    {
     "name": "stderr",
     "output_type": "stream",
     "text": [
      "Processing: truck 5:  93%|█████████▎| 864/932 [1:28:46<04:09,  3.67s/file]"
     ]
    },
    {
     "name": "stdout",
     "output_type": "stream",
     "text": [
      "Vehicle Prediction: trailer\n",
      "Validation Result: True\n",
      "Vehicle Prediction: truck\n"
     ]
    },
    {
     "name": "stderr",
     "output_type": "stream",
     "text": [
      "[codecarbon INFO @ 16:41:46] Energy consumed for RAM : 0.017380 kWh. RAM Power : 11.756441116333008 W\n",
      "[codecarbon INFO @ 16:41:46] Energy consumed for all CPUs : 0.062836 kWh. Total CPU Power : 42.5 W\n",
      "[codecarbon INFO @ 16:41:46] Energy consumed for all GPUs : 0.141292 kWh. Total GPU Power : 95.34000380310954 W\n",
      "[codecarbon INFO @ 16:41:46] 0.221508 kWh of electricity used since the beginning.\n",
      "Processing: truck 5:  93%|█████████▎| 865/932 [1:28:52<04:55,  4.40s/file]"
     ]
    },
    {
     "name": "stdout",
     "output_type": "stream",
     "text": [
      "Is Pickup Truck: no.\n",
      "Validation Result: True\n"
     ]
    },
    {
     "name": "stderr",
     "output_type": "stream",
     "text": [
      "Processing: truck 5:  93%|█████████▎| 866/932 [1:29:00<05:51,  5.33s/file]"
     ]
    },
    {
     "name": "stdout",
     "output_type": "stream",
     "text": [
      "Vehicle Prediction: trailer\n",
      "Validation Result: True\n"
     ]
    },
    {
     "name": "stderr",
     "output_type": "stream",
     "text": [
      "[codecarbon INFO @ 16:42:01] Energy consumed for RAM : 0.017429 kWh. RAM Power : 11.756441116333008 W\n",
      "[codecarbon INFO @ 16:42:01] Energy consumed for all CPUs : 0.063013 kWh. Total CPU Power : 42.5 W\n",
      "[codecarbon INFO @ 16:42:01] Energy consumed for all GPUs : 0.141689 kWh. Total GPU Power : 95.20599272876223 W\n",
      "[codecarbon INFO @ 16:42:01] 0.222131 kWh of electricity used since the beginning.\n",
      "Processing: truck 5:  93%|█████████▎| 867/932 [1:29:07<06:28,  5.97s/file]"
     ]
    },
    {
     "name": "stdout",
     "output_type": "stream",
     "text": [
      "Vehicle Prediction: trailer\n",
      "Validation Result: True\n"
     ]
    },
    {
     "name": "stderr",
     "output_type": "stream",
     "text": [
      "Processing: truck 5:  93%|█████████▎| 868/932 [1:29:10<05:24,  5.07s/file]"
     ]
    },
    {
     "name": "stdout",
     "output_type": "stream",
     "text": [
      "Vehicle Prediction: tow-tr\n",
      "Validation Result: False\n"
     ]
    },
    {
     "name": "stderr",
     "output_type": "stream",
     "text": [
      "Processing: truck 5:  93%|█████████▎| 869/932 [1:29:17<06:05,  5.80s/file]"
     ]
    },
    {
     "name": "stdout",
     "output_type": "stream",
     "text": [
      "Vehicle Prediction: trailer\n",
      "Validation Result: True\n"
     ]
    },
    {
     "name": "stderr",
     "output_type": "stream",
     "text": [
      "[codecarbon INFO @ 16:42:16] Energy consumed for RAM : 0.017478 kWh. RAM Power : 11.756441116333008 W\n",
      "[codecarbon INFO @ 16:42:16] Energy consumed for all CPUs : 0.063190 kWh. Total CPU Power : 42.5 W\n",
      "[codecarbon INFO @ 16:42:16] Energy consumed for all GPUs : 0.142087 kWh. Total GPU Power : 95.71653405237201 W\n",
      "[codecarbon INFO @ 16:42:16] 0.222755 kWh of electricity used since the beginning.\n",
      "Processing: truck 5:  93%|█████████▎| 870/932 [1:29:20<05:06,  4.94s/file]"
     ]
    },
    {
     "name": "stdout",
     "output_type": "stream",
     "text": [
      "Vehicle Prediction: trailer\n",
      "Validation Result: True\n"
     ]
    },
    {
     "name": "stderr",
     "output_type": "stream",
     "text": [
      "Processing: truck 5:  93%|█████████▎| 871/932 [1:29:29<06:16,  6.18s/file]"
     ]
    },
    {
     "name": "stdout",
     "output_type": "stream",
     "text": [
      "Vehicle Prediction: trailer\n",
      "Validation Result: True\n"
     ]
    },
    {
     "name": "stderr",
     "output_type": "stream",
     "text": [
      "[codecarbon INFO @ 16:42:31] Energy consumed for RAM : 0.017527 kWh. RAM Power : 11.756441116333008 W\n",
      "[codecarbon INFO @ 16:42:31] Energy consumed for all CPUs : 0.063367 kWh. Total CPU Power : 42.5 W\n",
      "[codecarbon INFO @ 16:42:31] Energy consumed for all GPUs : 0.142486 kWh. Total GPU Power : 95.70794358914245 W\n",
      "[codecarbon INFO @ 16:42:31] 0.223380 kWh of electricity used since the beginning.\n",
      "Processing: truck 5:  94%|█████████▎| 872/932 [1:29:35<05:50,  5.84s/file]"
     ]
    },
    {
     "name": "stdout",
     "output_type": "stream",
     "text": [
      "Vehicle Prediction: trailer\n",
      "Validation Result: True\n"
     ]
    },
    {
     "name": "stderr",
     "output_type": "stream",
     "text": [
      "Processing: truck 5:  94%|█████████▎| 873/932 [1:29:37<04:53,  4.98s/file]"
     ]
    },
    {
     "name": "stdout",
     "output_type": "stream",
     "text": [
      "Vehicle Prediction: dumptruck\n",
      "Validation Result: False\n"
     ]
    },
    {
     "name": "stderr",
     "output_type": "stream",
     "text": [
      "Processing: truck 5:  94%|█████████▍| 874/932 [1:29:40<04:13,  4.37s/file]"
     ]
    },
    {
     "name": "stdout",
     "output_type": "stream",
     "text": [
      "Vehicle Prediction: dumptruck\n",
      "Validation Result: False\n"
     ]
    },
    {
     "name": "stderr",
     "output_type": "stream",
     "text": [
      "Processing: truck 5:  94%|█████████▍| 875/932 [1:29:48<05:02,  5.30s/file]"
     ]
    },
    {
     "name": "stdout",
     "output_type": "stream",
     "text": [
      "Vehicle Prediction: trailer\n",
      "Validation Result: True\n"
     ]
    },
    {
     "name": "stderr",
     "output_type": "stream",
     "text": [
      "[codecarbon INFO @ 16:42:46] Energy consumed for RAM : 0.017576 kWh. RAM Power : 11.756441116333008 W\n",
      "[codecarbon INFO @ 16:42:46] Energy consumed for all CPUs : 0.063544 kWh. Total CPU Power : 42.5 W\n",
      "[codecarbon INFO @ 16:42:46] Energy consumed for all GPUs : 0.142885 kWh. Total GPU Power : 95.71671152615134 W\n",
      "[codecarbon INFO @ 16:42:46] 0.224005 kWh of electricity used since the beginning.\n",
      "Processing: truck 5:  94%|█████████▍| 876/932 [1:29:51<04:17,  4.60s/file]"
     ]
    },
    {
     "name": "stdout",
     "output_type": "stream",
     "text": [
      "Vehicle Prediction: dumptruck\n",
      "Validation Result: False\n"
     ]
    },
    {
     "name": "stderr",
     "output_type": "stream",
     "text": [
      "Processing: truck 5:  94%|█████████▍| 877/932 [1:29:54<03:45,  4.10s/file]"
     ]
    },
    {
     "name": "stdout",
     "output_type": "stream",
     "text": [
      "Vehicle Prediction: dumptruck\n",
      "Validation Result: False\n"
     ]
    },
    {
     "name": "stderr",
     "output_type": "stream",
     "text": [
      "Processing: truck 5:  94%|█████████▍| 878/932 [1:29:57<03:22,  3.75s/file]"
     ]
    },
    {
     "name": "stdout",
     "output_type": "stream",
     "text": [
      "Vehicle Prediction: coach\n",
      "Validation Result: False\n"
     ]
    },
    {
     "name": "stderr",
     "output_type": "stream",
     "text": [
      "Processing: truck 5:  94%|█████████▍| 879/932 [1:30:00<03:05,  3.51s/file]"
     ]
    },
    {
     "name": "stdout",
     "output_type": "stream",
     "text": [
      "Vehicle Prediction: dumptruck\n",
      "Validation Result: False\n"
     ]
    },
    {
     "name": "stderr",
     "output_type": "stream",
     "text": [
      "Processing: truck 5:  94%|█████████▍| 880/932 [1:30:03<02:53,  3.34s/file]"
     ]
    },
    {
     "name": "stdout",
     "output_type": "stream",
     "text": [
      "Vehicle Prediction: trailer\n",
      "Validation Result: True\n"
     ]
    },
    {
     "name": "stderr",
     "output_type": "stream",
     "text": [
      "[codecarbon INFO @ 16:43:01] Energy consumed for RAM : 0.017625 kWh. RAM Power : 11.756441116333008 W\n",
      "[codecarbon INFO @ 16:43:01] Energy consumed for all CPUs : 0.063721 kWh. Total CPU Power : 42.5 W\n",
      "[codecarbon INFO @ 16:43:01] Energy consumed for all GPUs : 0.143280 kWh. Total GPU Power : 94.94287993096295 W\n",
      "[codecarbon INFO @ 16:43:01] 0.224626 kWh of electricity used since the beginning.\n",
      "[codecarbon INFO @ 16:43:01] 0.011865 g.CO2eq/s mean an estimation of 374.18698934086854 kg.CO2eq/year\n",
      "Processing: truck 5:  95%|█████████▍| 881/932 [1:30:10<03:53,  4.57s/file]"
     ]
    },
    {
     "name": "stdout",
     "output_type": "stream",
     "text": [
      "Vehicle Prediction: trailer\n",
      "Validation Result: True\n"
     ]
    },
    {
     "name": "stderr",
     "output_type": "stream",
     "text": [
      "Processing: truck 5:  95%|█████████▍| 882/932 [1:30:13<03:24,  4.08s/file]"
     ]
    },
    {
     "name": "stdout",
     "output_type": "stream",
     "text": [
      "Vehicle Prediction: trailer\n",
      "Validation Result: True\n"
     ]
    },
    {
     "name": "stderr",
     "output_type": "stream",
     "text": [
      "Processing: truck 5:  95%|█████████▍| 883/932 [1:30:16<03:03,  3.74s/file]"
     ]
    },
    {
     "name": "stdout",
     "output_type": "stream",
     "text": [
      "Vehicle Prediction: dumptruck\n",
      "Validation Result: False\n"
     ]
    },
    {
     "name": "stderr",
     "output_type": "stream",
     "text": [
      "Processing: truck 5:  95%|█████████▍| 884/932 [1:30:19<02:47,  3.50s/file]"
     ]
    },
    {
     "name": "stdout",
     "output_type": "stream",
     "text": [
      "Vehicle Prediction: dumptruck\n",
      "Validation Result: False\n"
     ]
    },
    {
     "name": "stderr",
     "output_type": "stream",
     "text": [
      "[codecarbon INFO @ 16:43:16] Energy consumed for RAM : 0.017673 kWh. RAM Power : 11.756441116333008 W\n",
      "[codecarbon INFO @ 16:43:16] Energy consumed for all CPUs : 0.063898 kWh. Total CPU Power : 42.5 W\n",
      "[codecarbon INFO @ 16:43:16] Energy consumed for all GPUs : 0.143676 kWh. Total GPU Power : 95.15947582510398 W\n",
      "[codecarbon INFO @ 16:43:16] 0.225248 kWh of electricity used since the beginning.\n",
      "Processing: truck 5:  95%|█████████▍| 885/932 [1:30:22<02:36,  3.33s/file]"
     ]
    },
    {
     "name": "stdout",
     "output_type": "stream",
     "text": [
      "Vehicle Prediction: trailer\n",
      "Validation Result: True\n"
     ]
    },
    {
     "name": "stderr",
     "output_type": "stream",
     "text": [
      "Processing: truck 5:  95%|█████████▌| 886/932 [1:30:29<03:29,  4.56s/file]"
     ]
    },
    {
     "name": "stdout",
     "output_type": "stream",
     "text": [
      "Vehicle Prediction: trailer\n",
      "Validation Result: True\n"
     ]
    },
    {
     "name": "stderr",
     "output_type": "stream",
     "text": [
      "Processing: truck 5:  95%|█████████▌| 887/932 [1:30:32<03:03,  4.08s/file]"
     ]
    },
    {
     "name": "stdout",
     "output_type": "stream",
     "text": [
      "Vehicle Prediction: dumptruck\n",
      "Validation Result: False\n"
     ]
    },
    {
     "name": "stderr",
     "output_type": "stream",
     "text": [
      "[codecarbon INFO @ 16:43:31] Energy consumed for RAM : 0.017722 kWh. RAM Power : 11.756441116333008 W\n",
      "[codecarbon INFO @ 16:43:31] Energy consumed for all CPUs : 0.064075 kWh. Total CPU Power : 42.5 W\n",
      "[codecarbon INFO @ 16:43:31] Energy consumed for all GPUs : 0.144075 kWh. Total GPU Power : 95.7878713913275 W\n",
      "[codecarbon INFO @ 16:43:31] 0.225873 kWh of electricity used since the beginning.\n",
      "Processing: truck 5:  95%|█████████▌| 888/932 [1:30:35<02:44,  3.73s/file]"
     ]
    },
    {
     "name": "stdout",
     "output_type": "stream",
     "text": [
      "Vehicle Prediction: dumptruck\n",
      "Validation Result: False\n"
     ]
    },
    {
     "name": "stderr",
     "output_type": "stream",
     "text": [
      "Processing: truck 5:  95%|█████████▌| 889/932 [1:30:38<02:30,  3.49s/file]"
     ]
    },
    {
     "name": "stdout",
     "output_type": "stream",
     "text": [
      "Vehicle Prediction: trailer\n",
      "Validation Result: True\n"
     ]
    },
    {
     "name": "stderr",
     "output_type": "stream",
     "text": [
      "Processing: truck 5:  95%|█████████▌| 890/932 [1:30:41<02:19,  3.33s/file]"
     ]
    },
    {
     "name": "stdout",
     "output_type": "stream",
     "text": [
      "Vehicle Prediction: dumptruck\n",
      "Validation Result: False\n"
     ]
    },
    {
     "name": "stderr",
     "output_type": "stream",
     "text": [
      "Processing: truck 5:  96%|█████████▌| 891/932 [1:30:44<02:11,  3.21s/file]"
     ]
    },
    {
     "name": "stdout",
     "output_type": "stream",
     "text": [
      "Vehicle Prediction: dump-tr\n",
      "Validation Result: False\n"
     ]
    },
    {
     "name": "stderr",
     "output_type": "stream",
     "text": [
      "Processing: truck 5:  96%|█████████▌| 892/932 [1:30:47<02:04,  3.12s/file]"
     ]
    },
    {
     "name": "stdout",
     "output_type": "stream",
     "text": [
      "Vehicle Prediction: trailer\n",
      "Validation Result: True\n"
     ]
    },
    {
     "name": "stderr",
     "output_type": "stream",
     "text": [
      "[codecarbon INFO @ 16:43:46] Energy consumed for RAM : 0.017771 kWh. RAM Power : 11.756441116333008 W\n",
      "[codecarbon INFO @ 16:43:46] Energy consumed for all CPUs : 0.064252 kWh. Total CPU Power : 42.5 W\n",
      "[codecarbon INFO @ 16:43:46] Energy consumed for all GPUs : 0.144473 kWh. Total GPU Power : 95.44935614009799 W\n",
      "[codecarbon INFO @ 16:43:46] 0.226496 kWh of electricity used since the beginning.\n",
      "Processing: truck 5:  96%|█████████▌| 893/932 [1:30:56<03:10,  4.90s/file]"
     ]
    },
    {
     "name": "stdout",
     "output_type": "stream",
     "text": [
      "Vehicle Prediction: dumptruck\n",
      "Validation Result: False\n"
     ]
    },
    {
     "name": "stderr",
     "output_type": "stream",
     "text": [
      "Processing: truck 5:  96%|█████████▌| 894/932 [1:31:03<03:35,  5.67s/file]"
     ]
    },
    {
     "name": "stdout",
     "output_type": "stream",
     "text": [
      "Vehicle Prediction: dumptruck\n",
      "Validation Result: False\n"
     ]
    },
    {
     "name": "stderr",
     "output_type": "stream",
     "text": [
      "[codecarbon INFO @ 16:44:01] Energy consumed for RAM : 0.017820 kWh. RAM Power : 11.756441116333008 W\n",
      "[codecarbon INFO @ 16:44:01] Energy consumed for all CPUs : 0.064429 kWh. Total CPU Power : 42.5 W\n",
      "[codecarbon INFO @ 16:44:01] Energy consumed for all GPUs : 0.144874 kWh. Total GPU Power : 96.28921734088749 W\n",
      "[codecarbon INFO @ 16:44:01] 0.227123 kWh of electricity used since the beginning.\n",
      "Processing: truck 5:  96%|█████████▌| 895/932 [1:31:11<03:49,  6.20s/file]"
     ]
    },
    {
     "name": "stdout",
     "output_type": "stream",
     "text": [
      "Vehicle Prediction: trailer\n",
      "Validation Result: True\n"
     ]
    },
    {
     "name": "stderr",
     "output_type": "stream",
     "text": [
      "Processing: truck 5:  96%|█████████▌| 896/932 [1:31:14<03:08,  5.23s/file]"
     ]
    },
    {
     "name": "stdout",
     "output_type": "stream",
     "text": [
      "Vehicle Prediction: dump-tr\n",
      "Validation Result: False\n"
     ]
    },
    {
     "name": "stderr",
     "output_type": "stream",
     "text": [
      "[codecarbon INFO @ 16:44:16] Energy consumed for RAM : 0.017869 kWh. RAM Power : 11.756441116333008 W\n",
      "[codecarbon INFO @ 16:44:16] Energy consumed for all CPUs : 0.064606 kWh. Total CPU Power : 42.5 W\n",
      "[codecarbon INFO @ 16:44:16] Energy consumed for all GPUs : 0.145272 kWh. Total GPU Power : 95.71678931330123 W\n",
      "[codecarbon INFO @ 16:44:16] 0.227748 kWh of electricity used since the beginning.\n",
      "Processing: truck 5:  96%|█████████▌| 897/932 [1:31:21<03:26,  5.90s/file]"
     ]
    },
    {
     "name": "stdout",
     "output_type": "stream",
     "text": [
      "Vehicle Prediction: trailer\n",
      "Validation Result: True\n"
     ]
    },
    {
     "name": "stderr",
     "output_type": "stream",
     "text": [
      "Processing: truck 5:  96%|█████████▋| 898/932 [1:31:24<02:50,  5.01s/file]"
     ]
    },
    {
     "name": "stdout",
     "output_type": "stream",
     "text": [
      "Vehicle Prediction: dump-tr\n",
      "Validation Result: False\n"
     ]
    },
    {
     "name": "stderr",
     "output_type": "stream",
     "text": [
      "Processing: truck 5:  96%|█████████▋| 899/932 [1:31:27<02:25,  4.40s/file]"
     ]
    },
    {
     "name": "stdout",
     "output_type": "stream",
     "text": [
      "Vehicle Prediction: dumptruck\n",
      "Validation Result: False\n"
     ]
    },
    {
     "name": "stderr",
     "output_type": "stream",
     "text": [
      "Processing: truck 5:  97%|█████████▋| 900/932 [1:31:30<02:06,  3.96s/file]"
     ]
    },
    {
     "name": "stdout",
     "output_type": "stream",
     "text": [
      "Vehicle Prediction: dump-tr\n",
      "Validation Result: False\n"
     ]
    },
    {
     "name": "stderr",
     "output_type": "stream",
     "text": [
      "Processing: truck 5:  97%|█████████▋| 901/932 [1:31:33<01:53,  3.66s/file]"
     ]
    },
    {
     "name": "stdout",
     "output_type": "stream",
     "text": [
      "Vehicle Prediction: trailer\n",
      "Validation Result: True\n"
     ]
    },
    {
     "name": "stderr",
     "output_type": "stream",
     "text": [
      "[codecarbon INFO @ 16:44:31] Energy consumed for RAM : 0.017918 kWh. RAM Power : 11.756441116333008 W\n",
      "[codecarbon INFO @ 16:44:31] Energy consumed for all CPUs : 0.064783 kWh. Total CPU Power : 42.5 W\n",
      "[codecarbon INFO @ 16:44:31] Energy consumed for all GPUs : 0.145669 kWh. Total GPU Power : 95.16630346908175 W\n",
      "[codecarbon INFO @ 16:44:31] 0.228370 kWh of electricity used since the beginning.\n",
      "Processing: truck 5:  97%|█████████▋| 902/932 [1:31:36<01:43,  3.44s/file]"
     ]
    },
    {
     "name": "stdout",
     "output_type": "stream",
     "text": [
      "Vehicle Prediction: dumptruck\n",
      "Validation Result: False\n"
     ]
    },
    {
     "name": "stderr",
     "output_type": "stream",
     "text": [
      "Processing: truck 5:  97%|█████████▋| 903/932 [1:31:45<02:28,  5.13s/file]"
     ]
    },
    {
     "name": "stdout",
     "output_type": "stream",
     "text": [
      "Vehicle Prediction: trailer\n",
      "Validation Result: True\n"
     ]
    },
    {
     "name": "stderr",
     "output_type": "stream",
     "text": [
      "[codecarbon INFO @ 16:44:46] Energy consumed for RAM : 0.017967 kWh. RAM Power : 11.756441116333008 W\n",
      "[codecarbon INFO @ 16:44:46] Energy consumed for all CPUs : 0.064960 kWh. Total CPU Power : 42.5 W\n",
      "[codecarbon INFO @ 16:44:46] Energy consumed for all GPUs : 0.146070 kWh. Total GPU Power : 96.3290921014995 W\n",
      "[codecarbon INFO @ 16:44:46] 0.228997 kWh of electricity used since the beginning.\n",
      "Processing: truck 5:  97%|█████████▋| 904/932 [1:31:53<02:43,  5.83s/file]"
     ]
    },
    {
     "name": "stdout",
     "output_type": "stream",
     "text": [
      "Vehicle Prediction: trailer\n",
      "Validation Result: True\n"
     ]
    },
    {
     "name": "stderr",
     "output_type": "stream",
     "text": [
      "Processing: truck 5:  97%|█████████▋| 905/932 [1:31:55<02:14,  4.97s/file]"
     ]
    },
    {
     "name": "stdout",
     "output_type": "stream",
     "text": [
      "Vehicle Prediction: trailer\n",
      "Validation Result: True\n"
     ]
    },
    {
     "name": "stderr",
     "output_type": "stream",
     "text": [
      "Processing: truck 5:  97%|█████████▋| 906/932 [1:31:58<01:53,  4.37s/file]"
     ]
    },
    {
     "name": "stdout",
     "output_type": "stream",
     "text": [
      "Vehicle Prediction: trailer\n",
      "Validation Result: True\n"
     ]
    },
    {
     "name": "stderr",
     "output_type": "stream",
     "text": [
      "Processing: truck 5:  97%|█████████▋| 907/932 [1:32:01<01:38,  3.94s/file]"
     ]
    },
    {
     "name": "stdout",
     "output_type": "stream",
     "text": [
      "Vehicle Prediction: trailer\n",
      "Validation Result: True\n"
     ]
    },
    {
     "name": "stderr",
     "output_type": "stream",
     "text": [
      "[codecarbon INFO @ 16:45:01] Energy consumed for RAM : 0.018016 kWh. RAM Power : 11.756441116333008 W\n",
      "[codecarbon INFO @ 16:45:01] Energy consumed for all CPUs : 0.065137 kWh. Total CPU Power : 42.5 W\n",
      "[codecarbon INFO @ 16:45:01] Energy consumed for all GPUs : 0.146465 kWh. Total GPU Power : 95.00233532147087 W\n",
      "[codecarbon INFO @ 16:45:01] 0.229619 kWh of electricity used since the beginning.\n",
      "[codecarbon INFO @ 16:45:01] 0.011879 g.CO2eq/s mean an estimation of 374.6230919131365 kg.CO2eq/year\n",
      "Processing: truck 5:  97%|█████████▋| 908/932 [1:32:09<01:59,  5.00s/file]"
     ]
    },
    {
     "name": "stdout",
     "output_type": "stream",
     "text": [
      "Vehicle Prediction: trailer\n",
      "Validation Result: True\n"
     ]
    },
    {
     "name": "stderr",
     "output_type": "stream",
     "text": [
      "Processing: truck 5:  98%|█████████▊| 909/932 [1:32:12<01:40,  4.38s/file]"
     ]
    },
    {
     "name": "stdout",
     "output_type": "stream",
     "text": [
      "Vehicle Prediction: trailer\n",
      "Validation Result: True\n"
     ]
    },
    {
     "name": "stderr",
     "output_type": "stream",
     "text": [
      "Processing: truck 5:  98%|█████████▊| 910/932 [1:32:15<01:26,  3.95s/file]"
     ]
    },
    {
     "name": "stdout",
     "output_type": "stream",
     "text": [
      "Vehicle Prediction: dumptruck\n",
      "Validation Result: False\n"
     ]
    },
    {
     "name": "stderr",
     "output_type": "stream",
     "text": [
      "Processing: truck 5:  98%|█████████▊| 911/932 [1:32:18<01:16,  3.65s/file]"
     ]
    },
    {
     "name": "stdout",
     "output_type": "stream",
     "text": [
      "Vehicle Prediction: trailer\n",
      "Validation Result: True\n"
     ]
    },
    {
     "name": "stderr",
     "output_type": "stream",
     "text": [
      "[codecarbon INFO @ 16:45:16] Energy consumed for RAM : 0.018065 kWh. RAM Power : 11.756441116333008 W\n",
      "[codecarbon INFO @ 16:45:16] Energy consumed for all CPUs : 0.065314 kWh. Total CPU Power : 42.5 W\n",
      "[codecarbon INFO @ 16:45:16] Energy consumed for all GPUs : 0.146862 kWh. Total GPU Power : 95.27091615920038 W\n",
      "[codecarbon INFO @ 16:45:16] 0.230242 kWh of electricity used since the beginning.\n",
      "Processing: truck 5:  98%|█████████▊| 912/932 [1:32:21<01:08,  3.43s/file]"
     ]
    },
    {
     "name": "stdout",
     "output_type": "stream",
     "text": [
      "Vehicle Prediction: trailer\n",
      "Validation Result: True\n"
     ]
    },
    {
     "name": "stderr",
     "output_type": "stream",
     "text": [
      "Processing: truck 5:  98%|█████████▊| 913/932 [1:32:24<01:02,  3.29s/file]"
     ]
    },
    {
     "name": "stdout",
     "output_type": "stream",
     "text": [
      "Vehicle Prediction: dumptruck\n",
      "Validation Result: False\n"
     ]
    },
    {
     "name": "stderr",
     "output_type": "stream",
     "text": [
      "Processing: truck 5:  98%|█████████▊| 914/932 [1:32:30<01:13,  4.11s/file]"
     ]
    },
    {
     "name": "stdout",
     "output_type": "stream",
     "text": [
      "Vehicle Prediction: trailer\n",
      "Validation Result: True\n"
     ]
    },
    {
     "name": "stderr",
     "output_type": "stream",
     "text": [
      "Processing: truck 5:  98%|█████████▊| 915/932 [1:32:33<01:03,  3.76s/file]"
     ]
    },
    {
     "name": "stdout",
     "output_type": "stream",
     "text": [
      "Vehicle Prediction: dumptruck\n",
      "Validation Result: False\n"
     ]
    },
    {
     "name": "stderr",
     "output_type": "stream",
     "text": [
      "[codecarbon INFO @ 16:45:31] Energy consumed for RAM : 0.018114 kWh. RAM Power : 11.756441116333008 W\n",
      "[codecarbon INFO @ 16:45:31] Energy consumed for all CPUs : 0.065491 kWh. Total CPU Power : 42.5 W\n",
      "[codecarbon INFO @ 16:45:31] Energy consumed for all GPUs : 0.147256 kWh. Total GPU Power : 94.65570865016677 W\n",
      "[codecarbon INFO @ 16:45:31] 0.230862 kWh of electricity used since the beginning.\n"
     ]
    },
    {
     "name": "stdout",
     "output_type": "stream",
     "text": [
      "Vehicle Prediction: truck\n"
     ]
    },
    {
     "name": "stderr",
     "output_type": "stream",
     "text": [
      "[codecarbon INFO @ 16:45:46] Energy consumed for RAM : 0.018163 kWh. RAM Power : 11.756441116333008 W\n",
      "[codecarbon INFO @ 16:45:46] Energy consumed for all CPUs : 0.065668 kWh. Total CPU Power : 42.5 W\n",
      "[codecarbon INFO @ 16:45:46] Energy consumed for all GPUs : 0.147656 kWh. Total GPU Power : 96.0151373764771 W\n",
      "[codecarbon INFO @ 16:45:46] 0.231488 kWh of electricity used since the beginning.\n",
      "Processing: truck 5:  98%|█████████▊| 916/932 [1:32:50<02:06,  7.89s/file]"
     ]
    },
    {
     "name": "stdout",
     "output_type": "stream",
     "text": [
      "Is Pickup Truck: no.\n",
      "Validation Result: True\n"
     ]
    },
    {
     "name": "stderr",
     "output_type": "stream",
     "text": [
      "Processing: truck 5:  98%|█████████▊| 917/932 [1:32:55<01:43,  6.90s/file]"
     ]
    },
    {
     "name": "stdout",
     "output_type": "stream",
     "text": [
      "Vehicle Prediction: trailer\n",
      "Validation Result: True\n"
     ]
    },
    {
     "name": "stderr",
     "output_type": "stream",
     "text": [
      "Processing: truck 5:  98%|█████████▊| 918/932 [1:32:58<01:20,  5.72s/file]"
     ]
    },
    {
     "name": "stdout",
     "output_type": "stream",
     "text": [
      "Vehicle Prediction: trailer\n",
      "Validation Result: True\n"
     ]
    },
    {
     "name": "stderr",
     "output_type": "stream",
     "text": [
      "Processing: truck 5:  99%|█████████▊| 919/932 [1:33:01<01:03,  4.89s/file]"
     ]
    },
    {
     "name": "stdout",
     "output_type": "stream",
     "text": [
      "Vehicle Prediction: trailer\n",
      "Validation Result: True\n"
     ]
    },
    {
     "name": "stderr",
     "output_type": "stream",
     "text": [
      "[codecarbon INFO @ 16:46:01] Energy consumed for RAM : 0.018212 kWh. RAM Power : 11.756441116333008 W\n",
      "[codecarbon INFO @ 16:46:01] Energy consumed for all CPUs : 0.065845 kWh. Total CPU Power : 42.5 W\n",
      "[codecarbon INFO @ 16:46:01] Energy consumed for all GPUs : 0.148055 kWh. Total GPU Power : 95.71275533081646 W\n",
      "[codecarbon INFO @ 16:46:01] 0.232112 kWh of electricity used since the beginning.\n",
      "Processing: truck 5:  99%|█████████▊| 920/932 [1:33:10<01:13,  6.15s/file]"
     ]
    },
    {
     "name": "stdout",
     "output_type": "stream",
     "text": [
      "Vehicle Prediction: trailer\n",
      "Validation Result: True\n"
     ]
    },
    {
     "name": "stderr",
     "output_type": "stream",
     "text": [
      "Processing: truck 5:  99%|█████████▉| 921/932 [1:33:13<00:57,  5.19s/file]"
     ]
    },
    {
     "name": "stdout",
     "output_type": "stream",
     "text": [
      "Vehicle Prediction: trailer\n",
      "Validation Result: True\n"
     ]
    },
    {
     "name": "stderr",
     "output_type": "stream",
     "text": [
      "Processing: truck 5:  99%|█████████▉| 922/932 [1:33:16<00:45,  4.51s/file]"
     ]
    },
    {
     "name": "stdout",
     "output_type": "stream",
     "text": [
      "Vehicle Prediction: dump-tr\n",
      "Validation Result: False\n"
     ]
    },
    {
     "name": "stderr",
     "output_type": "stream",
     "text": [
      "Processing: truck 5:  99%|█████████▉| 923/932 [1:33:18<00:36,  4.04s/file]"
     ]
    },
    {
     "name": "stdout",
     "output_type": "stream",
     "text": [
      "Vehicle Prediction: dumptruck\n",
      "Validation Result: False\n"
     ]
    },
    {
     "name": "stderr",
     "output_type": "stream",
     "text": [
      "[codecarbon INFO @ 16:46:16] Energy consumed for RAM : 0.018261 kWh. RAM Power : 11.756441116333008 W\n",
      "[codecarbon INFO @ 16:46:16] Energy consumed for all CPUs : 0.066022 kWh. Total CPU Power : 42.5 W\n",
      "[codecarbon INFO @ 16:46:16] Energy consumed for all GPUs : 0.148451 kWh. Total GPU Power : 95.02133517010166 W\n",
      "[codecarbon INFO @ 16:46:16] 0.232734 kWh of electricity used since the beginning.\n",
      "Processing: truck 5:  99%|█████████▉| 924/932 [1:33:28<00:44,  5.55s/file]"
     ]
    },
    {
     "name": "stdout",
     "output_type": "stream",
     "text": [
      "Vehicle Prediction: trailer\n",
      "Validation Result: True\n",
      "Vehicle Prediction: truck\n"
     ]
    },
    {
     "name": "stderr",
     "output_type": "stream",
     "text": [
      "Processing: truck 5:  99%|█████████▉| 925/932 [1:33:33<00:38,  5.46s/file]"
     ]
    },
    {
     "name": "stdout",
     "output_type": "stream",
     "text": [
      "Is Pickup Truck: no.\n",
      "Validation Result: True\n"
     ]
    },
    {
     "name": "stderr",
     "output_type": "stream",
     "text": [
      "[codecarbon INFO @ 16:46:31] Energy consumed for RAM : 0.018310 kWh. RAM Power : 11.756441116333008 W\n",
      "[codecarbon INFO @ 16:46:31] Energy consumed for all CPUs : 0.066199 kWh. Total CPU Power : 42.5 W\n",
      "[codecarbon INFO @ 16:46:31] Energy consumed for all GPUs : 0.148848 kWh. Total GPU Power : 95.3134150685154 W\n",
      "[codecarbon INFO @ 16:46:31] 0.233357 kWh of electricity used since the beginning.\n",
      "Processing: truck 5:  99%|█████████▉| 926/932 [1:33:40<00:36,  6.06s/file]"
     ]
    },
    {
     "name": "stdout",
     "output_type": "stream",
     "text": [
      "Vehicle Prediction: trailer\n",
      "Validation Result: True\n"
     ]
    },
    {
     "name": "stderr",
     "output_type": "stream",
     "text": [
      "Processing: truck 5:  99%|█████████▉| 927/932 [1:33:45<00:28,  5.61s/file]"
     ]
    },
    {
     "name": "stdout",
     "output_type": "stream",
     "text": [
      "Vehicle Prediction: trailer\n",
      "Validation Result: True\n"
     ]
    },
    {
     "name": "stderr",
     "output_type": "stream",
     "text": [
      "Processing: truck 5:  99%|█████████▉| 927/932 [1:33:48<00:30,  6.07s/file]\n",
      "[codecarbon INFO @ 16:46:45] Energy consumed for RAM : 0.018354 kWh. RAM Power : 11.756441116333008 W\n",
      "[codecarbon INFO @ 16:46:45] Energy consumed for all CPUs : 0.066359 kWh. Total CPU Power : 42.5 W\n",
      "[codecarbon INFO @ 16:46:45] Energy consumed for all GPUs : 0.149208 kWh. Total GPU Power : 95.74779024174299 W\n",
      "[codecarbon INFO @ 16:46:45] 0.233922 kWh of electricity used since the beginning.\n"
     ]
    },
    {
     "name": "stdout",
     "output_type": "stream",
     "text": [
      "Vehicle Prediction: dumptruck\n",
      "Validation Result: False\n",
      "Total processing time: 5628.27 seconds\n",
      "CO2 emissions: 0.066785 kg\n",
      "\n",
      "--- Metrics ---\n",
      "Total Images: 927\n",
      "Correct Predictions: 742\n",
      "Wrong Predictions: 185\n",
      "Accuracy (%): 80.04314994606257\n",
      "Error Rate (%): 19.95685005393743\n",
      "Class 'van' - Accuracy: 95.00%, Error Rate: 5.00%\n",
      "Class 'pickup' - Accuracy: 93.00%, Error Rate: 7.00%\n",
      "Class 'truck 2' - Accuracy: 72.28%, Error Rate: 27.72%\n",
      "Class 'bus 2' - Accuracy: 83.33%, Error Rate: 16.67%\n",
      "Class 'Class 2 - Car, SUV, Station Wagons' - Accuracy: 94.95%, Error Rate: 5.05%\n",
      "Class 'truck 4' - Accuracy: 68.97%, Error Rate: 31.03%\n",
      "Class 'Class 1 - Motorcycles' - Accuracy: 99.00%, Error Rate: 1.00%\n",
      "Class 'truck 3' - Accuracy: 42.00%, Error Rate: 58.00%\n",
      "Class 'bus 3' - Accuracy: 97.96%, Error Rate: 2.04%\n",
      "Class 'truck 5' - Accuracy: 55.00%, Error Rate: 45.00%\n",
      "Processor: x86_64\n",
      "CPU Count: 4\n",
      "Memory (GB): 31.35\n",
      "Elapsed Time (seconds): 5628.269790172577\n",
      "CO2 Emissions (kg): 0.066785\n"
     ]
    },
    {
     "name": "stderr",
     "output_type": "stream",
     "text": [
      "/usr/local/lib/python3.10/dist-packages/codecarbon/output_methods/file.py:52: FutureWarning: The behavior of DataFrame concatenation with empty or all-NA entries is deprecated. In a future version, this will no longer exclude empty or all-NA columns when determining the result dtypes. To retain the old behavior, exclude the relevant entries before the concat operation.\n",
      "  df = pd.concat([df, pd.DataFrame.from_records([dict(total.values)])])\n"
     ]
    }
   ],
   "source": [
    "for models in model_id:\n",
    "    print(models)\n",
    "    arguments = {\"device_map\": \"balanced\", \"torch_dtype\": \"auto\", \"trust_remote_code\": True}\n",
    "    processor = AutoProcessor.from_pretrained(models, **arguments)\n",
    "    model = AutoModelForCausalLM.from_pretrained(models, **arguments)\n",
    "        \n",
    "    \n",
    "    wrong_predictions_dir = f'experiment_data/{models}/axles/wrong_predictions'  # Directory to store wrongly predicted images\n",
    "    os.makedirs(wrong_predictions_dir, exist_ok=True)\n",
    "    run = main_loop(wrong_predictions_dir = wrong_predictions_dir)\n",
    "    export_results(run[0], models, run[1], run[2])\n",
    "    \n",
    "        "
   ]
  },
  {
   "cell_type": "code",
   "execution_count": null,
   "metadata": {
    "editable": false,
    "trusted": true
   },
   "outputs": [],
   "source": []
  },
  {
   "cell_type": "code",
   "execution_count": null,
   "metadata": {
    "editable": false,
    "trusted": true
   },
   "outputs": [],
   "source": []
  },
  {
   "cell_type": "code",
   "execution_count": null,
   "metadata": {
    "editable": false,
    "trusted": true
   },
   "outputs": [],
   "source": []
  },
  {
   "cell_type": "code",
   "execution_count": null,
   "metadata": {
    "editable": false,
    "trusted": true
   },
   "outputs": [],
   "source": []
  }
 ],
 "metadata": {
  "accelerator": "GPU",
  "colab": {
   "gpuType": "T4",
   "provenance": []
  },
  "kaggle": {
   "accelerator": "nvidiaTeslaT4",
   "dataSources": [],
   "dockerImageVersionId": 30823,
   "isGpuEnabled": true,
   "isInternetEnabled": true,
   "language": "python",
   "sourceType": "notebook"
  },
  "kernelspec": {
   "display_name": "Python 3",
   "language": "python",
   "name": "python3"
  },
  "language_info": {
   "codemirror_mode": {
    "name": "ipython",
    "version": 3
   },
   "file_extension": ".py",
   "mimetype": "text/x-python",
   "name": "python",
   "nbconvert_exporter": "python",
   "pygments_lexer": "ipython3",
   "version": "3.10.12"
  },
  "widgets": {
   "application/vnd.jupyter.widget-state+json": {
    "03fb4a86fd634888a5b7b79b8de644c0": {
     "model_module": "@jupyter-widgets/controls",
     "model_module_version": "1.5.0",
     "model_name": "FloatProgressModel",
     "state": {
      "_dom_classes": [],
      "_model_module": "@jupyter-widgets/controls",
      "_model_module_version": "1.5.0",
      "_model_name": "FloatProgressModel",
      "_view_count": null,
      "_view_module": "@jupyter-widgets/controls",
      "_view_module_version": "1.5.0",
      "_view_name": "ProgressView",
      "bar_style": "success",
      "description": "",
      "description_tooltip": null,
      "layout": "IPY_MODEL_ac395c5cf8984c588b5aec4b16d3ecd7",
      "max": 2,
      "min": 0,
      "orientation": "horizontal",
      "style": "IPY_MODEL_b2b2c799c6424b3d8c04b6b0d740495f",
      "value": 2
     }
    },
    "1c8a0accbd9e4ecd92ea6759abcb90b8": {
     "model_module": "@jupyter-widgets/controls",
     "model_module_version": "1.5.0",
     "model_name": "DescriptionStyleModel",
     "state": {
      "_model_module": "@jupyter-widgets/controls",
      "_model_module_version": "1.5.0",
      "_model_name": "DescriptionStyleModel",
      "_view_count": null,
      "_view_module": "@jupyter-widgets/base",
      "_view_module_version": "1.2.0",
      "_view_name": "StyleView",
      "description_width": ""
     }
    },
    "24bdb648a9924a1e9c7492bfad303051": {
     "model_module": "@jupyter-widgets/base",
     "model_module_version": "1.2.0",
     "model_name": "LayoutModel",
     "state": {
      "_model_module": "@jupyter-widgets/base",
      "_model_module_version": "1.2.0",
      "_model_name": "LayoutModel",
      "_view_count": null,
      "_view_module": "@jupyter-widgets/base",
      "_view_module_version": "1.2.0",
      "_view_name": "LayoutView",
      "align_content": null,
      "align_items": null,
      "align_self": null,
      "border": null,
      "bottom": null,
      "display": null,
      "flex": null,
      "flex_flow": null,
      "grid_area": null,
      "grid_auto_columns": null,
      "grid_auto_flow": null,
      "grid_auto_rows": null,
      "grid_column": null,
      "grid_gap": null,
      "grid_row": null,
      "grid_template_areas": null,
      "grid_template_columns": null,
      "grid_template_rows": null,
      "height": null,
      "justify_content": null,
      "justify_items": null,
      "left": null,
      "margin": null,
      "max_height": null,
      "max_width": null,
      "min_height": null,
      "min_width": null,
      "object_fit": null,
      "object_position": null,
      "order": null,
      "overflow": null,
      "overflow_x": null,
      "overflow_y": null,
      "padding": null,
      "right": null,
      "top": null,
      "visibility": null,
      "width": null
     }
    },
    "35e83eef2b3942de9988b141242abf26": {
     "model_module": "@jupyter-widgets/controls",
     "model_module_version": "1.5.0",
     "model_name": "DescriptionStyleModel",
     "state": {
      "_model_module": "@jupyter-widgets/controls",
      "_model_module_version": "1.5.0",
      "_model_name": "DescriptionStyleModel",
      "_view_count": null,
      "_view_module": "@jupyter-widgets/base",
      "_view_module_version": "1.2.0",
      "_view_name": "StyleView",
      "description_width": ""
     }
    },
    "6872ab4ee023411b83902a76159f51a5": {
     "model_module": "@jupyter-widgets/controls",
     "model_module_version": "1.5.0",
     "model_name": "HTMLModel",
     "state": {
      "_dom_classes": [],
      "_model_module": "@jupyter-widgets/controls",
      "_model_module_version": "1.5.0",
      "_model_name": "HTMLModel",
      "_view_count": null,
      "_view_module": "@jupyter-widgets/controls",
      "_view_module_version": "1.5.0",
      "_view_name": "HTMLView",
      "description": "",
      "description_tooltip": null,
      "layout": "IPY_MODEL_e320a6d270f944fcb0002ef0f8316f55",
      "placeholder": "​",
      "style": "IPY_MODEL_1c8a0accbd9e4ecd92ea6759abcb90b8",
      "value": "Loading checkpoint shards: 100%"
     }
    },
    "6b414c9df53d4cff91d850c1ec206af4": {
     "model_module": "@jupyter-widgets/controls",
     "model_module_version": "1.5.0",
     "model_name": "HTMLModel",
     "state": {
      "_dom_classes": [],
      "_model_module": "@jupyter-widgets/controls",
      "_model_module_version": "1.5.0",
      "_model_name": "HTMLModel",
      "_view_count": null,
      "_view_module": "@jupyter-widgets/controls",
      "_view_module_version": "1.5.0",
      "_view_name": "HTMLView",
      "description": "",
      "description_tooltip": null,
      "layout": "IPY_MODEL_c14df69eb5b34254aab962df8ff25261",
      "placeholder": "​",
      "style": "IPY_MODEL_35e83eef2b3942de9988b141242abf26",
      "value": " 2/2 [00:15&lt;00:00,  7.38s/it]"
     }
    },
    "ac395c5cf8984c588b5aec4b16d3ecd7": {
     "model_module": "@jupyter-widgets/base",
     "model_module_version": "1.2.0",
     "model_name": "LayoutModel",
     "state": {
      "_model_module": "@jupyter-widgets/base",
      "_model_module_version": "1.2.0",
      "_model_name": "LayoutModel",
      "_view_count": null,
      "_view_module": "@jupyter-widgets/base",
      "_view_module_version": "1.2.0",
      "_view_name": "LayoutView",
      "align_content": null,
      "align_items": null,
      "align_self": null,
      "border": null,
      "bottom": null,
      "display": null,
      "flex": null,
      "flex_flow": null,
      "grid_area": null,
      "grid_auto_columns": null,
      "grid_auto_flow": null,
      "grid_auto_rows": null,
      "grid_column": null,
      "grid_gap": null,
      "grid_row": null,
      "grid_template_areas": null,
      "grid_template_columns": null,
      "grid_template_rows": null,
      "height": null,
      "justify_content": null,
      "justify_items": null,
      "left": null,
      "margin": null,
      "max_height": null,
      "max_width": null,
      "min_height": null,
      "min_width": null,
      "object_fit": null,
      "object_position": null,
      "order": null,
      "overflow": null,
      "overflow_x": null,
      "overflow_y": null,
      "padding": null,
      "right": null,
      "top": null,
      "visibility": null,
      "width": null
     }
    },
    "b2b2c799c6424b3d8c04b6b0d740495f": {
     "model_module": "@jupyter-widgets/controls",
     "model_module_version": "1.5.0",
     "model_name": "ProgressStyleModel",
     "state": {
      "_model_module": "@jupyter-widgets/controls",
      "_model_module_version": "1.5.0",
      "_model_name": "ProgressStyleModel",
      "_view_count": null,
      "_view_module": "@jupyter-widgets/base",
      "_view_module_version": "1.2.0",
      "_view_name": "StyleView",
      "bar_color": null,
      "description_width": ""
     }
    },
    "beff6fe1bbfd489c88b4d0f9940a1d01": {
     "model_module": "@jupyter-widgets/controls",
     "model_module_version": "1.5.0",
     "model_name": "HBoxModel",
     "state": {
      "_dom_classes": [],
      "_model_module": "@jupyter-widgets/controls",
      "_model_module_version": "1.5.0",
      "_model_name": "HBoxModel",
      "_view_count": null,
      "_view_module": "@jupyter-widgets/controls",
      "_view_module_version": "1.5.0",
      "_view_name": "HBoxView",
      "box_style": "",
      "children": [
       "IPY_MODEL_6872ab4ee023411b83902a76159f51a5",
       "IPY_MODEL_03fb4a86fd634888a5b7b79b8de644c0",
       "IPY_MODEL_6b414c9df53d4cff91d850c1ec206af4"
      ],
      "layout": "IPY_MODEL_24bdb648a9924a1e9c7492bfad303051"
     }
    },
    "c14df69eb5b34254aab962df8ff25261": {
     "model_module": "@jupyter-widgets/base",
     "model_module_version": "1.2.0",
     "model_name": "LayoutModel",
     "state": {
      "_model_module": "@jupyter-widgets/base",
      "_model_module_version": "1.2.0",
      "_model_name": "LayoutModel",
      "_view_count": null,
      "_view_module": "@jupyter-widgets/base",
      "_view_module_version": "1.2.0",
      "_view_name": "LayoutView",
      "align_content": null,
      "align_items": null,
      "align_self": null,
      "border": null,
      "bottom": null,
      "display": null,
      "flex": null,
      "flex_flow": null,
      "grid_area": null,
      "grid_auto_columns": null,
      "grid_auto_flow": null,
      "grid_auto_rows": null,
      "grid_column": null,
      "grid_gap": null,
      "grid_row": null,
      "grid_template_areas": null,
      "grid_template_columns": null,
      "grid_template_rows": null,
      "height": null,
      "justify_content": null,
      "justify_items": null,
      "left": null,
      "margin": null,
      "max_height": null,
      "max_width": null,
      "min_height": null,
      "min_width": null,
      "object_fit": null,
      "object_position": null,
      "order": null,
      "overflow": null,
      "overflow_x": null,
      "overflow_y": null,
      "padding": null,
      "right": null,
      "top": null,
      "visibility": null,
      "width": null
     }
    },
    "e320a6d270f944fcb0002ef0f8316f55": {
     "model_module": "@jupyter-widgets/base",
     "model_module_version": "1.2.0",
     "model_name": "LayoutModel",
     "state": {
      "_model_module": "@jupyter-widgets/base",
      "_model_module_version": "1.2.0",
      "_model_name": "LayoutModel",
      "_view_count": null,
      "_view_module": "@jupyter-widgets/base",
      "_view_module_version": "1.2.0",
      "_view_name": "LayoutView",
      "align_content": null,
      "align_items": null,
      "align_self": null,
      "border": null,
      "bottom": null,
      "display": null,
      "flex": null,
      "flex_flow": null,
      "grid_area": null,
      "grid_auto_columns": null,
      "grid_auto_flow": null,
      "grid_auto_rows": null,
      "grid_column": null,
      "grid_gap": null,
      "grid_row": null,
      "grid_template_areas": null,
      "grid_template_columns": null,
      "grid_template_rows": null,
      "height": null,
      "justify_content": null,
      "justify_items": null,
      "left": null,
      "margin": null,
      "max_height": null,
      "max_width": null,
      "min_height": null,
      "min_width": null,
      "object_fit": null,
      "object_position": null,
      "order": null,
      "overflow": null,
      "overflow_x": null,
      "overflow_y": null,
      "padding": null,
      "right": null,
      "top": null,
      "visibility": null,
      "width": null
     }
    }
   }
  }
 },
 "nbformat": 4,
 "nbformat_minor": 4
}
