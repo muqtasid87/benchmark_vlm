{
 "cells": [
  {
   "cell_type": "code",
   "execution_count": 1,
   "metadata": {
    "id": "UgyXFQ3Pmdjq"
   },
   "outputs": [
    {
     "name": "stdout",
     "output_type": "stream",
     "text": [
      "Requirement already satisfied: bitsandbytes in /opt/conda/lib/python3.11/site-packages (0.45.0)\n",
      "Requirement already satisfied: transformers in /opt/conda/lib/python3.11/site-packages (4.47.1)\n",
      "Requirement already satisfied: accelerate in /opt/conda/lib/python3.11/site-packages (1.2.1)\n",
      "Requirement already satisfied: codecarbon in /opt/conda/lib/python3.11/site-packages (2.8.2)\n",
      "Requirement already satisfied: torch in /opt/conda/lib/python3.11/site-packages (from bitsandbytes) (2.5.1+cu124)\n",
      "Requirement already satisfied: numpy in /opt/conda/lib/python3.11/site-packages (from bitsandbytes) (2.1.2)\n",
      "Requirement already satisfied: typing_extensions>=4.8.0 in /opt/conda/lib/python3.11/site-packages (from bitsandbytes) (4.12.2)\n",
      "Requirement already satisfied: filelock in /opt/conda/lib/python3.11/site-packages (from transformers) (3.16.1)\n",
      "Requirement already satisfied: huggingface-hub<1.0,>=0.24.0 in /opt/conda/lib/python3.11/site-packages (from transformers) (0.27.0)\n",
      "Requirement already satisfied: packaging>=20.0 in /opt/conda/lib/python3.11/site-packages (from transformers) (24.1)\n",
      "Requirement already satisfied: pyyaml>=5.1 in /opt/conda/lib/python3.11/site-packages (from transformers) (6.0.2)\n",
      "Requirement already satisfied: regex!=2019.12.17 in /opt/conda/lib/python3.11/site-packages (from transformers) (2024.11.6)\n",
      "Requirement already satisfied: requests in /opt/conda/lib/python3.11/site-packages (from transformers) (2.32.3)\n",
      "Requirement already satisfied: tokenizers<0.22,>=0.21 in /opt/conda/lib/python3.11/site-packages (from transformers) (0.21.0)\n",
      "Requirement already satisfied: safetensors>=0.4.1 in /opt/conda/lib/python3.11/site-packages (from transformers) (0.4.5)\n",
      "Requirement already satisfied: tqdm>=4.27 in /opt/conda/lib/python3.11/site-packages (from transformers) (4.66.5)\n",
      "Requirement already satisfied: psutil in /opt/conda/lib/python3.11/site-packages (from accelerate) (6.1.0)\n",
      "Requirement already satisfied: arrow in /opt/conda/lib/python3.11/site-packages (from codecarbon) (1.3.0)\n",
      "Requirement already satisfied: click in /opt/conda/lib/python3.11/site-packages (from codecarbon) (8.1.7)\n",
      "Requirement already satisfied: fief-client[cli] in /opt/conda/lib/python3.11/site-packages (from codecarbon) (0.20.0)\n",
      "Requirement already satisfied: pandas in /opt/conda/lib/python3.11/site-packages (from codecarbon) (2.2.3)\n",
      "Requirement already satisfied: prometheus-client in /opt/conda/lib/python3.11/site-packages (from codecarbon) (0.21.0)\n",
      "Requirement already satisfied: py-cpuinfo in /opt/conda/lib/python3.11/site-packages (from codecarbon) (9.0.0)\n",
      "Requirement already satisfied: pynvml in /opt/conda/lib/python3.11/site-packages (from codecarbon) (12.0.0)\n",
      "Requirement already satisfied: questionary in /opt/conda/lib/python3.11/site-packages (from codecarbon) (2.0.1)\n",
      "Requirement already satisfied: rapidfuzz in /opt/conda/lib/python3.11/site-packages (from codecarbon) (3.11.0)\n",
      "Requirement already satisfied: rich in /opt/conda/lib/python3.11/site-packages (from codecarbon) (13.9.4)\n",
      "Requirement already satisfied: typer in /opt/conda/lib/python3.11/site-packages (from codecarbon) (0.15.1)\n",
      "Requirement already satisfied: fsspec>=2023.5.0 in /opt/conda/lib/python3.11/site-packages (from huggingface-hub<1.0,>=0.24.0->transformers) (2024.10.0)\n",
      "Requirement already satisfied: networkx in /opt/conda/lib/python3.11/site-packages (from torch->bitsandbytes) (3.4.2)\n",
      "Requirement already satisfied: jinja2 in /opt/conda/lib/python3.11/site-packages (from torch->bitsandbytes) (3.1.4)\n",
      "Requirement already satisfied: nvidia-cuda-nvrtc-cu12==12.4.127 in /opt/conda/lib/python3.11/site-packages (from torch->bitsandbytes) (12.4.127)\n",
      "Requirement already satisfied: nvidia-cuda-runtime-cu12==12.4.127 in /opt/conda/lib/python3.11/site-packages (from torch->bitsandbytes) (12.4.127)\n",
      "Requirement already satisfied: nvidia-cuda-cupti-cu12==12.4.127 in /opt/conda/lib/python3.11/site-packages (from torch->bitsandbytes) (12.4.127)\n",
      "Requirement already satisfied: nvidia-cudnn-cu12==9.1.0.70 in /opt/conda/lib/python3.11/site-packages (from torch->bitsandbytes) (9.1.0.70)\n",
      "Requirement already satisfied: nvidia-cublas-cu12==12.4.5.8 in /opt/conda/lib/python3.11/site-packages (from torch->bitsandbytes) (12.4.5.8)\n",
      "Requirement already satisfied: nvidia-cufft-cu12==11.2.1.3 in /opt/conda/lib/python3.11/site-packages (from torch->bitsandbytes) (11.2.1.3)\n",
      "Requirement already satisfied: nvidia-curand-cu12==10.3.5.147 in /opt/conda/lib/python3.11/site-packages (from torch->bitsandbytes) (10.3.5.147)\n",
      "Requirement already satisfied: nvidia-cusolver-cu12==11.6.1.9 in /opt/conda/lib/python3.11/site-packages (from torch->bitsandbytes) (11.6.1.9)\n",
      "Requirement already satisfied: nvidia-cusparse-cu12==12.3.1.170 in /opt/conda/lib/python3.11/site-packages (from torch->bitsandbytes) (12.3.1.170)\n",
      "Requirement already satisfied: nvidia-nccl-cu12==2.21.5 in /opt/conda/lib/python3.11/site-packages (from torch->bitsandbytes) (2.21.5)\n",
      "Requirement already satisfied: nvidia-nvtx-cu12==12.4.127 in /opt/conda/lib/python3.11/site-packages (from torch->bitsandbytes) (12.4.127)\n",
      "Requirement already satisfied: nvidia-nvjitlink-cu12==12.4.127 in /opt/conda/lib/python3.11/site-packages (from torch->bitsandbytes) (12.4.127)\n",
      "Requirement already satisfied: triton==3.1.0 in /opt/conda/lib/python3.11/site-packages (from torch->bitsandbytes) (3.1.0)\n",
      "Requirement already satisfied: sympy==1.13.1 in /opt/conda/lib/python3.11/site-packages (from torch->bitsandbytes) (1.13.1)\n",
      "Requirement already satisfied: mpmath<1.4,>=1.1.0 in /opt/conda/lib/python3.11/site-packages (from sympy==1.13.1->torch->bitsandbytes) (1.3.0)\n",
      "Requirement already satisfied: python-dateutil>=2.7.0 in /opt/conda/lib/python3.11/site-packages (from arrow->codecarbon) (2.9.0.post0)\n",
      "Requirement already satisfied: types-python-dateutil>=2.8.10 in /opt/conda/lib/python3.11/site-packages (from arrow->codecarbon) (2.9.0.20241003)\n",
      "Requirement already satisfied: httpx<0.28.0,>=0.21.3 in /opt/conda/lib/python3.11/site-packages (from fief-client[cli]->codecarbon) (0.27.2)\n",
      "Requirement already satisfied: jwcrypto<2.0.0,>=1.4 in /opt/conda/lib/python3.11/site-packages (from fief-client[cli]->codecarbon) (1.5.6)\n",
      "Requirement already satisfied: yaspin in /opt/conda/lib/python3.11/site-packages (from fief-client[cli]->codecarbon) (3.1.0)\n",
      "Requirement already satisfied: pytz>=2020.1 in /opt/conda/lib/python3.11/site-packages (from pandas->codecarbon) (2024.2)\n",
      "Requirement already satisfied: tzdata>=2022.7 in /opt/conda/lib/python3.11/site-packages (from pandas->codecarbon) (2024.2)\n",
      "Requirement already satisfied: nvidia-ml-py<13.0.0a0,>=12.0.0 in /opt/conda/lib/python3.11/site-packages (from pynvml->codecarbon) (12.560.30)\n",
      "Requirement already satisfied: prompt_toolkit<=3.0.36,>=2.0 in /opt/conda/lib/python3.11/site-packages (from questionary->codecarbon) (3.0.36)\n",
      "Requirement already satisfied: charset-normalizer<4,>=2 in /opt/conda/lib/python3.11/site-packages (from requests->transformers) (3.4.0)\n",
      "Requirement already satisfied: idna<4,>=2.5 in /opt/conda/lib/python3.11/site-packages (from requests->transformers) (3.10)\n",
      "Requirement already satisfied: urllib3<3,>=1.21.1 in /opt/conda/lib/python3.11/site-packages (from requests->transformers) (2.2.3)\n",
      "Requirement already satisfied: certifi>=2017.4.17 in /opt/conda/lib/python3.11/site-packages (from requests->transformers) (2024.8.30)\n",
      "Requirement already satisfied: markdown-it-py>=2.2.0 in /opt/conda/lib/python3.11/site-packages (from rich->codecarbon) (3.0.0)\n",
      "Requirement already satisfied: pygments<3.0.0,>=2.13.0 in /opt/conda/lib/python3.11/site-packages (from rich->codecarbon) (2.18.0)\n",
      "Requirement already satisfied: shellingham>=1.3.0 in /opt/conda/lib/python3.11/site-packages (from typer->codecarbon) (1.5.4)\n",
      "Requirement already satisfied: anyio in /opt/conda/lib/python3.11/site-packages (from httpx<0.28.0,>=0.21.3->fief-client[cli]->codecarbon) (4.6.2.post1)\n",
      "Requirement already satisfied: httpcore==1.* in /opt/conda/lib/python3.11/site-packages (from httpx<0.28.0,>=0.21.3->fief-client[cli]->codecarbon) (1.0.7)\n",
      "Requirement already satisfied: sniffio in /opt/conda/lib/python3.11/site-packages (from httpx<0.28.0,>=0.21.3->fief-client[cli]->codecarbon) (1.3.1)\n",
      "Requirement already satisfied: h11<0.15,>=0.13 in /opt/conda/lib/python3.11/site-packages (from httpcore==1.*->httpx<0.28.0,>=0.21.3->fief-client[cli]->codecarbon) (0.14.0)\n",
      "Requirement already satisfied: cryptography>=3.4 in /opt/conda/lib/python3.11/site-packages (from jwcrypto<2.0.0,>=1.4->fief-client[cli]->codecarbon) (44.0.0)\n",
      "Requirement already satisfied: mdurl~=0.1 in /opt/conda/lib/python3.11/site-packages (from markdown-it-py>=2.2.0->rich->codecarbon) (0.1.2)\n",
      "Requirement already satisfied: wcwidth in /opt/conda/lib/python3.11/site-packages (from prompt_toolkit<=3.0.36,>=2.0->questionary->codecarbon) (0.2.13)\n",
      "Requirement already satisfied: six>=1.5 in /opt/conda/lib/python3.11/site-packages (from python-dateutil>=2.7.0->arrow->codecarbon) (1.16.0)\n",
      "Requirement already satisfied: MarkupSafe>=2.0 in /opt/conda/lib/python3.11/site-packages (from jinja2->torch->bitsandbytes) (3.0.2)\n",
      "Requirement already satisfied: termcolor<2.4.0,>=2.2.0 in /opt/conda/lib/python3.11/site-packages (from yaspin->fief-client[cli]->codecarbon) (2.3.0)\n",
      "Requirement already satisfied: cffi>=1.12 in /opt/conda/lib/python3.11/site-packages (from cryptography>=3.4->jwcrypto<2.0.0,>=1.4->fief-client[cli]->codecarbon) (1.17.1)\n",
      "Requirement already satisfied: pycparser in /opt/conda/lib/python3.11/site-packages (from cffi>=1.12->cryptography>=3.4->jwcrypto<2.0.0,>=1.4->fief-client[cli]->codecarbon) (2.22)\n",
      "\u001b[33mWARNING: Running pip as the 'root' user can result in broken permissions and conflicting behaviour with the system package manager, possibly rendering your system unusable.It is recommended to use a virtual environment instead: https://pip.pypa.io/warnings/venv. Use the --root-user-action option if you know what you are doing and want to suppress this warning.\u001b[0m\u001b[33m\n",
      "\u001b[0m"
     ]
    }
   ],
   "source": [
    "!pip install bitsandbytes transformers accelerate codecarbon"
   ]
  },
  {
   "cell_type": "code",
   "execution_count": 2,
   "metadata": {
    "colab": {
     "base_uri": "https://localhost:8080/"
    },
    "id": "o2vP9MtDmuLm",
    "outputId": "8d2200b2-9935-462c-9c42-a7e648d8d36a"
   },
   "outputs": [
    {
     "name": "stdout",
     "output_type": "stream",
     "text": [
      "fatal: destination path 'benchmark_vlm' already exists and is not an empty directory.\n"
     ]
    }
   ],
   "source": [
    "!git clone https://github.com/muqtasid87/benchmark_vlm"
   ]
  },
  {
   "cell_type": "code",
   "execution_count": 3,
   "metadata": {
    "id": "plFroaGkxr7n"
   },
   "outputs": [],
   "source": [
    "from transformers import PaliGemmaProcessor, PaliGemmaForConditionalGeneration, AutoTokenizer, BitsAndBytesConfig\n",
    "from transformers.image_utils import load_image\n",
    "import torch\n",
    "import csv\n",
    "import platform\n",
    "import psutil\n",
    "import numpy as np\n",
    "from PIL import Image\n",
    "import os\n",
    "import shutil\n",
    "import time\n",
    "from codecarbon import EmissionsTracker"
   ]
  },
  {
   "cell_type": "code",
   "execution_count": 4,
   "metadata": {
    "colab": {
     "base_uri": "https://localhost:8080/",
     "height": 49,
     "referenced_widgets": [
      "beff6fe1bbfd489c88b4d0f9940a1d01",
      "6872ab4ee023411b83902a76159f51a5",
      "03fb4a86fd634888a5b7b79b8de644c0",
      "6b414c9df53d4cff91d850c1ec206af4",
      "24bdb648a9924a1e9c7492bfad303051",
      "e320a6d270f944fcb0002ef0f8316f55",
      "1c8a0accbd9e4ecd92ea6759abcb90b8",
      "ac395c5cf8984c588b5aec4b16d3ecd7",
      "b2b2c799c6424b3d8c04b6b0d740495f",
      "c14df69eb5b34254aab962df8ff25261",
      "35e83eef2b3942de9988b141242abf26"
     ]
    },
    "id": "hdmdVbNBxaZl",
    "outputId": "4e6c4c7a-c491-4f59-a7f2-6d9f04ecd6e9"
   },
   "outputs": [],
   "source": [
    "# Load model and processor\n",
    "nf4_config = BitsAndBytesConfig(\n",
    "   load_in_4bit=True,\n",
    "   bnb_4bit_quant_type=\"nf4\",\n",
    "   bnb_4bit_use_double_quant=True,\n",
    "   bnb_4bit_compute_dtype=torch.bfloat16\n",
    ")\n",
    "\n",
    "model_id = [\"google/paligemma2-3b-pt-224\", \"google/paligemma2-3b-ft-docci-448\", \"google/paligemma2-10b-ft-docci-448\", \"google/paligemma2-10b-pt-896\"]"
   ]
  },
  {
   "cell_type": "code",
   "execution_count": 5,
   "metadata": {
    "id": "L10lGQF8yCdE"
   },
   "outputs": [],
   "source": [
    "# Image directory\n",
    "img_dir = 'benchmark_vlm/master'"
   ]
  },
  {
   "cell_type": "markdown",
   "metadata": {
    "id": "8k86dXQJ9_81"
   },
   "source": [
    "### Inference Function"
   ]
  },
  {
   "cell_type": "code",
   "execution_count": 6,
   "metadata": {
    "id": "iDIEGC215lsG"
   },
   "outputs": [],
   "source": [
    "# Function to run inference\n",
    "def infer_image(image_path, prompt):\n",
    "    with open(image_path, \"rb\") as f:\n",
    "        input_image = Image.open(f).convert(\"RGB\")\n",
    "\n",
    "    model_inputs = processor(\n",
    "        text=prompt, images=input_image, return_tensors=\"pt\").to(torch.bfloat16).to(model.device)\n",
    "    input_len = model_inputs[\"input_ids\"].shape[-1]\n",
    "\n",
    "    with torch.inference_mode():\n",
    "        generation = model.generate(**model_inputs, max_new_tokens=2, do_sample=False)\n",
    "        generation = generation[0][input_len:]\n",
    "        decoded = processor.decode(generation, skip_special_tokens=True)\n",
    "    return decoded.strip().lower() #outputs only vlm response token in string format"
   ]
  },
  {
   "cell_type": "markdown",
   "metadata": {
    "id": "kymovqsQ99A_"
   },
   "source": [
    "### Validation function"
   ]
  },
  {
   "cell_type": "code",
   "execution_count": 7,
   "metadata": {
    "id": "NM8O5ht0-G9x"
   },
   "outputs": [],
   "source": [
    "# Define vehicle classes for validation\n",
    "vehicle_classes = {\n",
    "    \"Class 1 - Motorcycles\": [\"motorcycle\", \"motorbike\", \"bike\", \"scooter\", \"motor\", \"moped\"],\n",
    "    \"Class 2 - Car, SUV, Station Wagons\": [\"car\", \"sedan\", \"hatchback\", \"suv\", \"mpv\", \"crossover\", \"station wagon\", \"wagon\", 'coupe', 'convertible', 'sports car'],\n",
    "    \"Class 3 - 2 axle lorry, van, pickup\": [\"pickup\", \"van\", \"minivan\"],\n",
    "    \"Class 4 - 2 axles, 5 or 6 wheels bus or truck\": [\"bus\", \"truck\", 'trailer', 'lorry', 'tractor', 'tanker', 'dump truck', \"tow truck\", \"dump trailer\"],\n",
    "    \"Class 5 - 3 axle truck, bus\": [\"bus\", \"truck\"],\n",
    "    \"Class 6 - 4 axles\": [\"coach\", \"bus\", \"truck\", 'trailer', 'lorry', 'tractor', 'tanker', 'dump truck', \"tow truck\", \"dump trailer\"],\n",
    "    \"Class 7 - 5 or more axles\": [\"coach\", \"bus\", \"truck\", 'trailer', 'lorry', 'tractor', 'tanker', 'dump truck', \"tow truck\", \"dump trailer\"],\n",
    "    \"bus 2\" : [\"coach\", \"bus\"],\n",
    "    \"bus 3\" : [\"coach\", \"bus\"],\n",
    "    \"truck 2\" : [\"truck\", 'trailer', 'lorry', 'tractor', 'tanker', 'dump truck', \"tow truck\", \"dump trailer\"],\n",
    "    \"truck 3\" : [\"truck\", 'trailer', 'lorry', 'tractor', 'tanker', 'dump truck', \"tow truck\", \"dump trailer\"],\n",
    "    \"truck 4\" : [\"truck\", 'trailer', 'lorry', 'tractor', 'tanker', 'dump truck', \"tow truck\", \"dump trailer\"],\n",
    "    \"truck 5\" : [\"truck\", 'trailer', 'lorry', 'tractor', 'tanker', 'dump truck', \"tow truck\", \"dump trailer\"],\n",
    "    \"van\" : [\"van\", \"minivan\", 'minibus'],\n",
    "    \"pickup\" : [\"pickup\", \"pickup truck\", \"camper\"],\n",
    "}\n",
    "\n",
    "valid_vehicle_types = {type for sublist in vehicle_classes.values() for type in sublist}"
   ]
  },
  {
   "cell_type": "code",
   "execution_count": 8,
   "metadata": {
    "id": "thh669gy5oLj"
   },
   "outputs": [],
   "source": [
    "# Validate predictions\n",
    "\n",
    "def validate_prediction(folder_name, prediction, axles=None):\n",
    "    # Extract folder label\n",
    "    for class_name, valid_labels in vehicle_classes.items():\n",
    "        if folder_name.startswith(class_name):\n",
    "            if axles:  # Use axle count for bus/truck\n",
    "                if axles == 1 or 0:\n",
    "                  return False\n",
    "                elif axles == 2:\n",
    "                    return \"2\" in folder_name[-1]\n",
    "                elif axles == 3:\n",
    "                    return \"3\" in folder_name[-1]\n",
    "                elif axles == 4:\n",
    "                    return \"4\" in folder_name[-1]\n",
    "                elif axles >= 5:\n",
    "                    return \"5\" in folder_name[-1]\n",
    "            if isinstance(valid_labels, list):\n",
    "                return prediction in valid_labels\n",
    "            return prediction == valid_labels\n",
    "    return False"
   ]
  },
  {
   "cell_type": "markdown",
   "metadata": {
    "id": "mYX4uILS97b0"
   },
   "source": [
    "# Main Loop"
   ]
  },
  {
   "cell_type": "code",
   "execution_count": 9,
   "metadata": {},
   "outputs": [],
   "source": [
    "from tqdm import tqdm"
   ]
  },
  {
   "cell_type": "code",
   "execution_count": 10,
   "metadata": {
    "colab": {
     "base_uri": "https://localhost:8080/"
    },
    "id": "as1UY4lBj0Ha",
    "outputId": "5a7878a3-4ca6-4958-a2b8-646dfb69a5ac"
   },
   "outputs": [],
   "source": [
    "def main_loop(wrong_predictions_dir, img_dir=img_dir, use_axles=False, valid_vehicle_types=valid_vehicle_types):\n",
    "    total_files = sum(len(files) for _, _, files in os.walk(img_dir))\n",
    "    progress_bar = tqdm(total=total_files, desc=\"Processing Images\", unit=\"file\")\n",
    "    # Main processing loop\n",
    "    start_time = time.time()\n",
    "    tracker = EmissionsTracker()\n",
    "    tracker.start()\n",
    "    results = []\n",
    "    for root, dirs, files in os.walk(img_dir):\n",
    "        for file in files:\n",
    "            if file.endswith((\".jpg\", \".png\", \".jpeg\")):\n",
    "                image_path = os.path.join(root, file)\n",
    "                folder_name = os.path.basename(os.path.dirname(image_path))\n",
    "                progress_bar.set_description(f\"Processing: {folder_name}\")\n",
    "                progress_bar.update(1)  # Increment the progress bar\n",
    "\n",
    "                try:\n",
    "                    # First inference: vehicle type\n",
    "                    vehicle_prompt = f\"<image> answer en What type of vehicle is this?\"\n",
    "                    # vehicle_prompt = f\"<image> answer en What type of vehicle is this? Choose one from: {', '.join(valid_vehicle_types)}. Answer in one word\"\n",
    "                    prediction = infer_image(image_path, vehicle_prompt)\n",
    "                    # print(f\"Vehicle Prediction: {prediction}\")\n",
    "\n",
    "                    # Handle buses and trucks\n",
    "                    axles = None\n",
    "                    if prediction in [\"bus\", \"truck\", 'trailer', 'lorry', 'tractor', 'tanker', 'dump truck',  \"tow truck\", \"dump trailer\"]:\n",
    "                        # Check if it's a pickup truck\n",
    "                        if prediction == 'truck':\n",
    "                            pickup_prompt = \"<image> answer en Is this a pickup truck? Respond with only yes or no.\"\n",
    "                            is_pickup = infer_image(image_path, pickup_prompt).strip().lower()\n",
    "                            print(f\"Is Pickup Truck: {is_pickup}\")\n",
    "                            if is_pickup == \"yes\":\n",
    "                                prediction = \"pickup truck\"\n",
    "                            elif use_axles:\n",
    "                                # Predict axles for non-pickup trucks\n",
    "                                axle_prompt = \"<image> answer en How many axles does this vehicle have? Output a single integer value.\"\n",
    "                                axle_prediction = infer_image(image_path, axle_prompt)\n",
    "                                # print(f\"Axle Prediction: {axle_prediction}\")\n",
    "                    \n",
    "                                try:\n",
    "                                    axles = int(axle_prediction)\n",
    "                                except ValueError:\n",
    "                                    print(f\"Invalid axle prediction: {axle_prediction}\")\n",
    "                                    axles = None  # Fallback if parsing fails\n",
    "                        elif use_axles:\n",
    "\n",
    "                            axle_prompt = \"<image> answer en How many axles does this vehicle have? Output a single integer value\"\n",
    "                            axle_prediction = infer_image(image_path, axle_prompt)\n",
    "                            # print(f\"Axle Prediction: {axle_prediction}\")\n",
    "    \n",
    "                            try:\n",
    "                                axles = int(axle_prediction)\n",
    "                            except ValueError:\n",
    "                                print(f\"Invalid axle prediction: {axle_prediction}\")\n",
    "\n",
    "                    # Validate prediction\n",
    "                    is_correct = validate_prediction(folder_name, prediction, axles)\n",
    "                    # print(f\"Validation Result: {is_correct}\")\n",
    "\n",
    "                    # Store results\n",
    "                    results.append({\n",
    "                        \"image\": image_path,\n",
    "                        \"folder_label\": folder_name,\n",
    "                        \"prediction\": prediction,\n",
    "                        \"axles\": axles,\n",
    "                        \"is_correct\": is_correct\n",
    "                    })\n",
    "\n",
    "                    # Handle wrong predictions\n",
    "                    if not is_correct:\n",
    "                        # Create a folder for the wrong prediction\n",
    "                        wrong_folder = os.path.join(wrong_predictions_dir, prediction, str(axles))\n",
    "                        os.makedirs(wrong_folder, exist_ok=True)\n",
    "\n",
    "                        # Copy the image to the folder\n",
    "                        shutil.copy(image_path, os.path.join(wrong_folder, file))\n",
    "                except Exception as e:\n",
    "                    print(f\"Error processing {image_path}: {e}\")\n",
    "                    continue\n",
    "    \n",
    "    progress_bar.close()\n",
    "    emissions = tracker.stop()\n",
    "    # Stop the timer\n",
    "    end_time = time.time()\n",
    "    elapsed_time = end_time - start_time\n",
    "    print(f\"Total processing time: {elapsed_time:.2f} seconds\")\n",
    "    print(f\"CO2 emissions: {emissions:.6f} kg\")\n",
    "    return (results, elapsed_time, emissions)"
   ]
  },
  {
   "cell_type": "code",
   "execution_count": 15,
   "metadata": {
    "colab": {
     "base_uri": "https://localhost:8080/"
    },
    "id": "H4COQqG95sqN",
    "outputId": "59ceb760-001c-4faf-cf3d-740399491993"
   },
   "outputs": [],
   "source": [
    "# Save results to CSV\n",
    "def export_results(results, model_id, elapsed_time, emissions):\n",
    "# Save results to CSV\n",
    "    output_csv = f'experiment_data/{models}/results.csv'\n",
    "    with open(output_csv, mode=\"w\", newline=\"\") as file:\n",
    "        writer = csv.DictWriter(file, fieldnames=[\"image\", \"folder_label\", \"prediction\", \"axles\", \"is_correct\"])\n",
    "        writer.writeheader()\n",
    "        writer.writerows(results)\n",
    "\n",
    "    # Metrics calculation\n",
    "    correct_predictions = sum(1 for r in results if r[\"is_correct\"])\n",
    "    total_images = len(results)\n",
    "    accuracy = correct_predictions / total_images * 100 if total_images > 0 else 0\n",
    "    wrong_predictions = total_images - correct_predictions\n",
    "\n",
    "    # Per-class metrics\n",
    "    class_metrics = {}\n",
    "    for result in results:\n",
    "        label = result[\"folder_label\"]\n",
    "        correct = result[\"is_correct\"]\n",
    "        if label not in class_metrics:\n",
    "            class_metrics[label] = {\"correct\": 0, \"total\": 0}\n",
    "        class_metrics[label][\"total\"] += 1\n",
    "        if correct:\n",
    "            class_metrics[label][\"correct\"] += 1\n",
    "\n",
    "    # Aggregate class metrics\n",
    "    per_class_accuracy = {\n",
    "        label: (data[\"correct\"] / data[\"total\"]) * 100\n",
    "        for label, data in class_metrics.items()\n",
    "    }\n",
    "    per_class_error_rate = {\n",
    "        label: 100 - acc for label, acc in per_class_accuracy.items()\n",
    "    }\n",
    "\n",
    "    # Collect system configuration\n",
    "    system_config = {\n",
    "        \"Processor\": platform.processor(),\n",
    "        \"CPU Count\": psutil.cpu_count(logical=True),\n",
    "        \"Memory (GB)\": round(psutil.virtual_memory().total / (1024 ** 3), 2),\n",
    "        \"Elapsed Time (seconds)\": elapsed_time,\n",
    "        \"CO2 Emissions (kg)\": round(emissions, 6)\n",
    "    }\n",
    "\n",
    "    # Metrics dictionarya\n",
    "    metrics = {\n",
    "        \"Total Images\": total_images,\n",
    "        \"Correct Predictions\": correct_predictions,\n",
    "        \"Wrong Predictions\": wrong_predictions,\n",
    "        \"Accuracy (%)\": accuracy,\n",
    "        \"Error Rate (%)\": 100 - accuracy\n",
    "    }\n",
    "\n",
    "    # Save metrics to CSV\n",
    "    metrics_csv = f'experiment_data/{models}/metrics.csv'\n",
    "    with open(metrics_csv, mode=\"w\", newline=\"\") as file:\n",
    "        writer = csv.writer(file)\n",
    "        writer.writerow([\"Model\", \"Metric\", \"Value\"])\n",
    "        for key, value in metrics.items():\n",
    "            writer.writerow([model_id, key, value])\n",
    "        for label, acc in per_class_accuracy.items():\n",
    "            writer.writerow([model_id, f\"Per-Class Accuracy: {label}\", acc])\n",
    "            writer.writerow([model_id, f\"Per-Class Error Rate: {label}\", per_class_error_rate[label]])\n",
    "        for key, value in system_config.items():\n",
    "            writer.writerow([model_id, key, value])\n",
    "\n",
    "    # Print final metrics\n",
    "    print(\"\\n--- Metrics ---\")\n",
    "    for key, value in metrics.items():\n",
    "        print(f\"{key}: {value}\")\n",
    "    for label, acc in per_class_accuracy.items():\n",
    "        print(f\"Class '{label}' - Accuracy: {acc:.2f}%, Error Rate: {per_class_error_rate[label]:.2f}%\")\n",
    "    for key, value in system_config.items():\n",
    "        print(f\"{key}: {value}\")"
   ]
  },
  {
   "cell_type": "code",
   "execution_count": null,
   "metadata": {},
   "outputs": [
    {
     "name": "stdout",
     "output_type": "stream",
     "text": [
      "google/paligemma2-3b-pt-224\n"
     ]
    },
    {
     "data": {
      "application/vnd.jupyter.widget-view+json": {
       "model_id": "272fc0e26ac44c7eb350389562d894b8",
       "version_major": 2,
       "version_minor": 0
      },
      "text/plain": [
       "Loading checkpoint shards:   0%|          | 0/2 [00:00<?, ?it/s]"
      ]
     },
     "metadata": {},
     "output_type": "display_data"
    },
    {
     "name": "stderr",
     "output_type": "stream",
     "text": [
      "Processing Images:   0%|          | 0/932 [00:00<?, ?file/s][codecarbon INFO @ 02:15:35] [setup] RAM Tracking...\n",
      "[codecarbon INFO @ 02:15:35] [setup] CPU Tracking...\n",
      "[codecarbon WARNING @ 02:15:35] No CPU tracking mode found. Falling back on CPU constant mode. \n",
      " Linux OS detected: Please ensure RAPL files exist at \\sys\\class\\powercap\\intel-rapl to measure CPU\n",
      "\n",
      "[codecarbon INFO @ 02:15:36] CPU Model on constant consumption mode: AMD EPYC 7513 32-Core Processor\n",
      "[codecarbon INFO @ 02:15:36] [setup] GPU Tracking...\n",
      "[codecarbon INFO @ 02:15:36] Tracking Nvidia GPU via pynvml\n",
      "[codecarbon INFO @ 02:15:36] >>> Tracker's metadata:\n",
      "[codecarbon INFO @ 02:15:36]   Platform system: Linux-6.8.0-45-generic-x86_64-with-glibc2.35\n",
      "[codecarbon INFO @ 02:15:36]   Python version: 3.11.10\n",
      "[codecarbon INFO @ 02:15:36]   CodeCarbon version: 2.8.2\n",
      "[codecarbon INFO @ 02:15:36]   Available RAM : 503.464 GB\n",
      "[codecarbon INFO @ 02:15:36]   CPU count: 128\n",
      "[codecarbon INFO @ 02:15:36]   CPU model: AMD EPYC 7513 32-Core Processor\n",
      "[codecarbon INFO @ 02:15:36]   GPU count: 1\n",
      "[codecarbon INFO @ 02:15:36]   GPU model: 1 x NVIDIA A100-SXM4-80GB\n",
      "[codecarbon INFO @ 02:15:39] Saving emissions data to file /emissions.csv\n",
      "Processing: Class 2 - Car, SUV, Station Wagons:  11%|█         | 102/932 [00:19<02:00,  6.88file/s][codecarbon INFO @ 02:15:54] Energy consumed for RAM : 0.000787 kWh. RAM Power : 188.79906034469604 W\n",
      "[codecarbon INFO @ 02:15:54] Energy consumed for all CPUs : 0.000417 kWh. Total CPU Power : 100.0 W\n",
      "[codecarbon INFO @ 02:15:54] Energy consumed for all GPUs : 0.000525 kWh. Total GPU Power : 125.97392414529222 W\n",
      "[codecarbon INFO @ 02:15:54] 0.001729 kWh of electricity used since the beginning.\n",
      "Processing: pickup:  22%|██▏       | 201/932 [00:34<02:25,  5.04file/s]                            [codecarbon INFO @ 02:16:09] Energy consumed for RAM : 0.001573 kWh. RAM Power : 188.79906034469604 W\n",
      "[codecarbon INFO @ 02:16:09] Energy consumed for all CPUs : 0.000833 kWh. Total CPU Power : 100.0 W\n",
      "[codecarbon INFO @ 02:16:09] Energy consumed for all GPUs : 0.001056 kWh. Total GPU Power : 127.42534648265475 W\n",
      "[codecarbon INFO @ 02:16:09] 0.003463 kWh of electricity used since the beginning.\n"
     ]
    },
    {
     "name": "stdout",
     "output_type": "stream",
     "text": [
      "Is Pickup Truck: no\n"
     ]
    },
    {
     "name": "stderr",
     "output_type": "stream",
     "text": [
      "Processing: pickup:  22%|██▏       | 202/932 [00:34<02:47,  4.37file/s]"
     ]
    },
    {
     "name": "stdout",
     "output_type": "stream",
     "text": [
      "Is Pickup Truck: yes\n"
     ]
    },
    {
     "name": "stderr",
     "output_type": "stream",
     "text": [
      "Processing: pickup:  22%|██▏       | 203/932 [00:34<03:00,  4.04file/s]"
     ]
    },
    {
     "name": "stdout",
     "output_type": "stream",
     "text": [
      "Is Pickup Truck: yes\n"
     ]
    },
    {
     "name": "stderr",
     "output_type": "stream",
     "text": [
      "Processing: pickup:  22%|██▏       | 204/932 [00:35<03:09,  3.83file/s]"
     ]
    },
    {
     "name": "stdout",
     "output_type": "stream",
     "text": [
      "Is Pickup Truck: no\n"
     ]
    },
    {
     "name": "stderr",
     "output_type": "stream",
     "text": [
      "Processing: pickup:  22%|██▏       | 205/932 [00:35<03:16,  3.70file/s]"
     ]
    },
    {
     "name": "stdout",
     "output_type": "stream",
     "text": [
      "Is Pickup Truck: yes\n"
     ]
    },
    {
     "name": "stderr",
     "output_type": "stream",
     "text": [
      "Processing: pickup:  22%|██▏       | 206/932 [00:35<03:23,  3.56file/s]"
     ]
    },
    {
     "name": "stdout",
     "output_type": "stream",
     "text": [
      "Is Pickup Truck: yes\n"
     ]
    },
    {
     "name": "stderr",
     "output_type": "stream",
     "text": [
      "Processing: pickup:  22%|██▏       | 207/932 [00:35<03:26,  3.51file/s]"
     ]
    },
    {
     "name": "stdout",
     "output_type": "stream",
     "text": [
      "Is Pickup Truck: no\n"
     ]
    },
    {
     "name": "stderr",
     "output_type": "stream",
     "text": [
      "Processing: pickup:  22%|██▏       | 208/932 [00:36<03:26,  3.51file/s]"
     ]
    },
    {
     "name": "stdout",
     "output_type": "stream",
     "text": [
      "Is Pickup Truck: yes\n"
     ]
    },
    {
     "name": "stderr",
     "output_type": "stream",
     "text": [
      "Processing: pickup:  22%|██▏       | 209/932 [00:36<03:25,  3.52file/s]"
     ]
    },
    {
     "name": "stdout",
     "output_type": "stream",
     "text": [
      "Is Pickup Truck: no\n"
     ]
    },
    {
     "name": "stderr",
     "output_type": "stream",
     "text": [
      "Processing: pickup:  23%|██▎       | 210/932 [00:36<03:25,  3.52file/s]"
     ]
    },
    {
     "name": "stdout",
     "output_type": "stream",
     "text": [
      "Is Pickup Truck: yes\n"
     ]
    },
    {
     "name": "stderr",
     "output_type": "stream",
     "text": [
      "Processing: pickup:  23%|██▎       | 211/932 [00:37<03:23,  3.54file/s]"
     ]
    },
    {
     "name": "stdout",
     "output_type": "stream",
     "text": [
      "Is Pickup Truck: yes\n"
     ]
    },
    {
     "name": "stderr",
     "output_type": "stream",
     "text": [
      "Processing: pickup:  23%|██▎       | 212/932 [00:37<03:26,  3.49file/s]"
     ]
    },
    {
     "name": "stdout",
     "output_type": "stream",
     "text": [
      "Is Pickup Truck: yes\n"
     ]
    },
    {
     "name": "stderr",
     "output_type": "stream",
     "text": [
      "Processing: pickup:  23%|██▎       | 213/932 [00:37<03:28,  3.46file/s]"
     ]
    },
    {
     "name": "stdout",
     "output_type": "stream",
     "text": [
      "Is Pickup Truck: no\n"
     ]
    },
    {
     "name": "stderr",
     "output_type": "stream",
     "text": [
      "Processing: pickup:  23%|██▎       | 214/932 [00:37<03:29,  3.43file/s]"
     ]
    },
    {
     "name": "stdout",
     "output_type": "stream",
     "text": [
      "Is Pickup Truck: yes\n"
     ]
    },
    {
     "name": "stderr",
     "output_type": "stream",
     "text": [
      "Processing: pickup:  23%|██▎       | 215/932 [00:38<03:31,  3.40file/s]"
     ]
    },
    {
     "name": "stdout",
     "output_type": "stream",
     "text": [
      "Is Pickup Truck: yes\n"
     ]
    },
    {
     "name": "stderr",
     "output_type": "stream",
     "text": [
      "Processing: pickup:  23%|██▎       | 216/932 [00:38<03:29,  3.42file/s]"
     ]
    },
    {
     "name": "stdout",
     "output_type": "stream",
     "text": [
      "Is Pickup Truck: yes\n"
     ]
    },
    {
     "name": "stderr",
     "output_type": "stream",
     "text": [
      "Processing: pickup:  23%|██▎       | 217/932 [00:38<03:29,  3.42file/s]"
     ]
    },
    {
     "name": "stdout",
     "output_type": "stream",
     "text": [
      "Is Pickup Truck: no\n"
     ]
    },
    {
     "name": "stderr",
     "output_type": "stream",
     "text": [
      "Processing: pickup:  23%|██▎       | 218/932 [00:39<03:33,  3.35file/s]"
     ]
    },
    {
     "name": "stdout",
     "output_type": "stream",
     "text": [
      "Is Pickup Truck: yes\n"
     ]
    },
    {
     "name": "stderr",
     "output_type": "stream",
     "text": [
      "Processing: pickup:  23%|██▎       | 219/932 [00:39<03:32,  3.35file/s]"
     ]
    },
    {
     "name": "stdout",
     "output_type": "stream",
     "text": [
      "Is Pickup Truck: yes\n"
     ]
    },
    {
     "name": "stderr",
     "output_type": "stream",
     "text": [
      "Processing: pickup:  24%|██▎       | 220/932 [00:39<03:31,  3.36file/s]"
     ]
    },
    {
     "name": "stdout",
     "output_type": "stream",
     "text": [
      "Is Pickup Truck: yes\n"
     ]
    },
    {
     "name": "stderr",
     "output_type": "stream",
     "text": [
      "Processing: pickup:  24%|██▎       | 221/932 [00:40<03:30,  3.39file/s]"
     ]
    },
    {
     "name": "stdout",
     "output_type": "stream",
     "text": [
      "Is Pickup Truck: yes\n"
     ]
    },
    {
     "name": "stderr",
     "output_type": "stream",
     "text": [
      "Processing: pickup:  24%|██▍       | 222/932 [00:40<03:29,  3.39file/s]"
     ]
    },
    {
     "name": "stdout",
     "output_type": "stream",
     "text": [
      "Is Pickup Truck: yes\n"
     ]
    },
    {
     "name": "stderr",
     "output_type": "stream",
     "text": [
      "Processing: pickup:  24%|██▍       | 223/932 [00:40<03:29,  3.39file/s]"
     ]
    },
    {
     "name": "stdout",
     "output_type": "stream",
     "text": [
      "Is Pickup Truck: yes\n"
     ]
    },
    {
     "name": "stderr",
     "output_type": "stream",
     "text": [
      "Processing: pickup:  24%|██▍       | 224/932 [00:40<03:27,  3.41file/s]"
     ]
    },
    {
     "name": "stdout",
     "output_type": "stream",
     "text": [
      "Is Pickup Truck: yes\n"
     ]
    },
    {
     "name": "stderr",
     "output_type": "stream",
     "text": [
      "Processing: pickup:  24%|██▍       | 225/932 [00:41<03:28,  3.39file/s]"
     ]
    },
    {
     "name": "stdout",
     "output_type": "stream",
     "text": [
      "Is Pickup Truck: yes\n"
     ]
    },
    {
     "name": "stderr",
     "output_type": "stream",
     "text": [
      "Processing: pickup:  24%|██▍       | 226/932 [00:41<03:46,  3.12file/s]"
     ]
    },
    {
     "name": "stdout",
     "output_type": "stream",
     "text": [
      "Is Pickup Truck: yes\n"
     ]
    },
    {
     "name": "stderr",
     "output_type": "stream",
     "text": [
      "Processing: pickup:  24%|██▍       | 227/932 [00:41<03:42,  3.17file/s]"
     ]
    },
    {
     "name": "stdout",
     "output_type": "stream",
     "text": [
      "Is Pickup Truck: yes\n"
     ]
    },
    {
     "name": "stderr",
     "output_type": "stream",
     "text": [
      "Processing: pickup:  24%|██▍       | 228/932 [00:42<03:40,  3.19file/s]"
     ]
    },
    {
     "name": "stdout",
     "output_type": "stream",
     "text": [
      "Is Pickup Truck: yes\n"
     ]
    },
    {
     "name": "stderr",
     "output_type": "stream",
     "text": [
      "Processing: pickup:  25%|██▍       | 229/932 [00:42<03:35,  3.26file/s]"
     ]
    },
    {
     "name": "stdout",
     "output_type": "stream",
     "text": [
      "Is Pickup Truck: yes\n"
     ]
    },
    {
     "name": "stderr",
     "output_type": "stream",
     "text": [
      "Processing: pickup:  25%|██▍       | 230/932 [00:42<03:35,  3.26file/s]"
     ]
    },
    {
     "name": "stdout",
     "output_type": "stream",
     "text": [
      "Is Pickup Truck: yes\n"
     ]
    },
    {
     "name": "stderr",
     "output_type": "stream",
     "text": [
      "Processing: pickup:  25%|██▍       | 231/932 [00:43<03:32,  3.30file/s]"
     ]
    },
    {
     "name": "stdout",
     "output_type": "stream",
     "text": [
      "Is Pickup Truck: no\n"
     ]
    },
    {
     "name": "stderr",
     "output_type": "stream",
     "text": [
      "Processing: pickup:  25%|██▍       | 232/932 [00:43<03:33,  3.28file/s]"
     ]
    },
    {
     "name": "stdout",
     "output_type": "stream",
     "text": [
      "Is Pickup Truck: yes\n"
     ]
    },
    {
     "name": "stderr",
     "output_type": "stream",
     "text": [
      "Processing: pickup:  25%|██▌       | 233/932 [00:43<03:30,  3.33file/s]"
     ]
    },
    {
     "name": "stdout",
     "output_type": "stream",
     "text": [
      "Is Pickup Truck: yes\n"
     ]
    },
    {
     "name": "stderr",
     "output_type": "stream",
     "text": [
      "Processing: pickup:  25%|██▌       | 234/932 [00:44<03:27,  3.36file/s]"
     ]
    },
    {
     "name": "stdout",
     "output_type": "stream",
     "text": [
      "Is Pickup Truck: yes\n"
     ]
    },
    {
     "name": "stderr",
     "output_type": "stream",
     "text": [
      "Processing: pickup:  25%|██▌       | 235/932 [00:44<03:23,  3.42file/s]"
     ]
    },
    {
     "name": "stdout",
     "output_type": "stream",
     "text": [
      "Is Pickup Truck: no\n"
     ]
    },
    {
     "name": "stderr",
     "output_type": "stream",
     "text": [
      "Processing: pickup:  25%|██▌       | 236/932 [00:44<03:25,  3.39file/s]"
     ]
    },
    {
     "name": "stdout",
     "output_type": "stream",
     "text": [
      "Is Pickup Truck: yes\n"
     ]
    },
    {
     "name": "stderr",
     "output_type": "stream",
     "text": [
      "Processing: pickup:  25%|██▌       | 237/932 [00:44<03:22,  3.44file/s]"
     ]
    },
    {
     "name": "stdout",
     "output_type": "stream",
     "text": [
      "Is Pickup Truck: yes\n"
     ]
    },
    {
     "name": "stderr",
     "output_type": "stream",
     "text": [
      "Processing: pickup:  26%|██▌       | 238/932 [00:45<03:19,  3.47file/s]"
     ]
    },
    {
     "name": "stdout",
     "output_type": "stream",
     "text": [
      "Is Pickup Truck: no\n"
     ]
    },
    {
     "name": "stderr",
     "output_type": "stream",
     "text": [
      "Processing: pickup:  26%|██▌       | 239/932 [00:45<03:31,  3.27file/s]"
     ]
    },
    {
     "name": "stdout",
     "output_type": "stream",
     "text": [
      "Is Pickup Truck: no\n"
     ]
    },
    {
     "name": "stderr",
     "output_type": "stream",
     "text": [
      "Processing: pickup:  26%|██▌       | 240/932 [00:45<03:27,  3.34file/s]"
     ]
    },
    {
     "name": "stdout",
     "output_type": "stream",
     "text": [
      "Is Pickup Truck: no\n"
     ]
    },
    {
     "name": "stderr",
     "output_type": "stream",
     "text": [
      "Processing: pickup:  26%|██▌       | 241/932 [00:46<03:22,  3.42file/s]"
     ]
    },
    {
     "name": "stdout",
     "output_type": "stream",
     "text": [
      "Is Pickup Truck: yes\n"
     ]
    },
    {
     "name": "stderr",
     "output_type": "stream",
     "text": [
      "Processing: pickup:  26%|██▌       | 242/932 [00:46<03:18,  3.48file/s]"
     ]
    },
    {
     "name": "stdout",
     "output_type": "stream",
     "text": [
      "Is Pickup Truck: yes\n"
     ]
    },
    {
     "name": "stderr",
     "output_type": "stream",
     "text": [
      "Processing: pickup:  26%|██▌       | 243/932 [00:46<03:16,  3.51file/s]"
     ]
    },
    {
     "name": "stdout",
     "output_type": "stream",
     "text": [
      "Is Pickup Truck: yes\n"
     ]
    },
    {
     "name": "stderr",
     "output_type": "stream",
     "text": [
      "Processing: pickup:  26%|██▌       | 244/932 [00:46<03:14,  3.53file/s]"
     ]
    },
    {
     "name": "stdout",
     "output_type": "stream",
     "text": [
      "Is Pickup Truck: no\n"
     ]
    },
    {
     "name": "stderr",
     "output_type": "stream",
     "text": [
      "Processing: pickup:  26%|██▋       | 245/932 [00:47<03:16,  3.50file/s]"
     ]
    },
    {
     "name": "stdout",
     "output_type": "stream",
     "text": [
      "Is Pickup Truck: yes\n"
     ]
    },
    {
     "name": "stderr",
     "output_type": "stream",
     "text": [
      "Processing: pickup:  26%|██▋       | 246/932 [00:47<03:14,  3.52file/s]"
     ]
    },
    {
     "name": "stdout",
     "output_type": "stream",
     "text": [
      "Is Pickup Truck: yes\n"
     ]
    },
    {
     "name": "stderr",
     "output_type": "stream",
     "text": [
      "Processing: pickup:  27%|██▋       | 248/932 [00:47<02:42,  4.20file/s]"
     ]
    },
    {
     "name": "stdout",
     "output_type": "stream",
     "text": [
      "Is Pickup Truck: yes\n"
     ]
    },
    {
     "name": "stderr",
     "output_type": "stream",
     "text": [
      "Processing: pickup:  27%|██▋       | 249/932 [00:48<02:50,  4.01file/s]"
     ]
    },
    {
     "name": "stdout",
     "output_type": "stream",
     "text": [
      "Is Pickup Truck: yes\n"
     ]
    },
    {
     "name": "stderr",
     "output_type": "stream",
     "text": [
      "Processing: pickup:  27%|██▋       | 250/932 [00:48<02:55,  3.89file/s]"
     ]
    },
    {
     "name": "stdout",
     "output_type": "stream",
     "text": [
      "Is Pickup Truck: no\n"
     ]
    },
    {
     "name": "stderr",
     "output_type": "stream",
     "text": [
      "Processing: pickup:  27%|██▋       | 251/932 [00:48<02:59,  3.80file/s]"
     ]
    },
    {
     "name": "stdout",
     "output_type": "stream",
     "text": [
      "Is Pickup Truck: no\n"
     ]
    },
    {
     "name": "stderr",
     "output_type": "stream",
     "text": [
      "Processing: pickup:  27%|██▋       | 252/932 [00:49<03:02,  3.73file/s]"
     ]
    },
    {
     "name": "stdout",
     "output_type": "stream",
     "text": [
      "Is Pickup Truck: yes\n"
     ]
    },
    {
     "name": "stderr",
     "output_type": "stream",
     "text": [
      "Processing: pickup:  27%|██▋       | 253/932 [00:49<03:05,  3.65file/s][codecarbon INFO @ 02:16:24] Energy consumed for RAM : 0.002360 kWh. RAM Power : 188.79906034469604 W\n",
      "[codecarbon INFO @ 02:16:24] Energy consumed for all CPUs : 0.001250 kWh. Total CPU Power : 100.0 W\n",
      "[codecarbon INFO @ 02:16:24] Energy consumed for all GPUs : 0.001596 kWh. Total GPU Power : 129.58163076404796 W\n",
      "[codecarbon INFO @ 02:16:24] 0.005205 kWh of electricity used since the beginning.\n"
     ]
    },
    {
     "name": "stdout",
     "output_type": "stream",
     "text": [
      "Is Pickup Truck: no\n"
     ]
    },
    {
     "name": "stderr",
     "output_type": "stream",
     "text": [
      "Processing: pickup:  27%|██▋       | 254/932 [00:49<03:09,  3.57file/s]"
     ]
    },
    {
     "name": "stdout",
     "output_type": "stream",
     "text": [
      "Is Pickup Truck: yes\n"
     ]
    },
    {
     "name": "stderr",
     "output_type": "stream",
     "text": [
      "Processing: pickup:  27%|██▋       | 255/932 [00:49<03:11,  3.54file/s]"
     ]
    },
    {
     "name": "stdout",
     "output_type": "stream",
     "text": [
      "Is Pickup Truck: no\n"
     ]
    },
    {
     "name": "stderr",
     "output_type": "stream",
     "text": [
      "Processing: pickup:  27%|██▋       | 256/932 [00:50<03:13,  3.49file/s]"
     ]
    },
    {
     "name": "stdout",
     "output_type": "stream",
     "text": [
      "Is Pickup Truck: no\n"
     ]
    },
    {
     "name": "stderr",
     "output_type": "stream",
     "text": [
      "Processing: pickup:  28%|██▊       | 257/932 [00:50<03:11,  3.53file/s]"
     ]
    },
    {
     "name": "stdout",
     "output_type": "stream",
     "text": [
      "Is Pickup Truck: yes\n"
     ]
    },
    {
     "name": "stderr",
     "output_type": "stream",
     "text": [
      "Processing: pickup:  28%|██▊       | 258/932 [00:50<03:08,  3.57file/s]"
     ]
    },
    {
     "name": "stdout",
     "output_type": "stream",
     "text": [
      "Is Pickup Truck: no\n"
     ]
    },
    {
     "name": "stderr",
     "output_type": "stream",
     "text": [
      "Processing: pickup:  28%|██▊       | 259/932 [00:50<03:08,  3.57file/s]"
     ]
    },
    {
     "name": "stdout",
     "output_type": "stream",
     "text": [
      "Is Pickup Truck: no\n"
     ]
    },
    {
     "name": "stderr",
     "output_type": "stream",
     "text": [
      "Processing: pickup:  28%|██▊       | 260/932 [00:51<03:09,  3.55file/s]"
     ]
    },
    {
     "name": "stdout",
     "output_type": "stream",
     "text": [
      "Is Pickup Truck: yes\n"
     ]
    },
    {
     "name": "stderr",
     "output_type": "stream",
     "text": [
      "Processing: pickup:  28%|██▊       | 261/932 [00:51<03:10,  3.53file/s]"
     ]
    },
    {
     "name": "stdout",
     "output_type": "stream",
     "text": [
      "Is Pickup Truck: no\n"
     ]
    },
    {
     "name": "stderr",
     "output_type": "stream",
     "text": [
      "Processing: pickup:  28%|██▊       | 262/932 [00:51<03:11,  3.50file/s]"
     ]
    },
    {
     "name": "stdout",
     "output_type": "stream",
     "text": [
      "Is Pickup Truck: yes\n"
     ]
    },
    {
     "name": "stderr",
     "output_type": "stream",
     "text": [
      "Processing: pickup:  28%|██▊       | 263/932 [00:52<03:11,  3.50file/s]"
     ]
    },
    {
     "name": "stdout",
     "output_type": "stream",
     "text": [
      "Is Pickup Truck: no\n"
     ]
    },
    {
     "name": "stderr",
     "output_type": "stream",
     "text": [
      "Processing: pickup:  28%|██▊       | 264/932 [00:52<03:09,  3.53file/s]"
     ]
    },
    {
     "name": "stdout",
     "output_type": "stream",
     "text": [
      "Is Pickup Truck: yes\n"
     ]
    },
    {
     "name": "stderr",
     "output_type": "stream",
     "text": [
      "Processing: pickup:  29%|██▊       | 266/932 [00:52<02:40,  4.16file/s]"
     ]
    },
    {
     "name": "stdout",
     "output_type": "stream",
     "text": [
      "Is Pickup Truck: no\n"
     ]
    },
    {
     "name": "stderr",
     "output_type": "stream",
     "text": [
      "Processing: pickup:  29%|██▊       | 267/932 [00:53<02:49,  3.92file/s]"
     ]
    },
    {
     "name": "stdout",
     "output_type": "stream",
     "text": [
      "Is Pickup Truck: no\n"
     ]
    },
    {
     "name": "stderr",
     "output_type": "stream",
     "text": [
      "Processing: pickup:  29%|██▉       | 268/932 [00:53<02:59,  3.70file/s]"
     ]
    },
    {
     "name": "stdout",
     "output_type": "stream",
     "text": [
      "Is Pickup Truck: yes\n"
     ]
    },
    {
     "name": "stderr",
     "output_type": "stream",
     "text": [
      "Processing: pickup:  29%|██▉       | 269/932 [00:53<03:00,  3.67file/s]"
     ]
    },
    {
     "name": "stdout",
     "output_type": "stream",
     "text": [
      "Is Pickup Truck: no\n"
     ]
    },
    {
     "name": "stderr",
     "output_type": "stream",
     "text": [
      "Processing: pickup:  29%|██▉       | 270/932 [00:53<03:00,  3.67file/s]"
     ]
    },
    {
     "name": "stdout",
     "output_type": "stream",
     "text": [
      "Is Pickup Truck: yes\n"
     ]
    },
    {
     "name": "stderr",
     "output_type": "stream",
     "text": [
      "Processing: pickup:  29%|██▉       | 271/932 [00:54<03:00,  3.66file/s]"
     ]
    },
    {
     "name": "stdout",
     "output_type": "stream",
     "text": [
      "Is Pickup Truck: yes\n"
     ]
    },
    {
     "name": "stderr",
     "output_type": "stream",
     "text": [
      "Processing: pickup:  29%|██▉       | 272/932 [00:54<03:00,  3.65file/s]"
     ]
    },
    {
     "name": "stdout",
     "output_type": "stream",
     "text": [
      "Is Pickup Truck: no\n"
     ]
    },
    {
     "name": "stderr",
     "output_type": "stream",
     "text": [
      "Processing: pickup:  29%|██▉       | 273/932 [00:54<03:04,  3.58file/s]"
     ]
    },
    {
     "name": "stdout",
     "output_type": "stream",
     "text": [
      "Is Pickup Truck: no\n"
     ]
    },
    {
     "name": "stderr",
     "output_type": "stream",
     "text": [
      "Processing: pickup:  29%|██▉       | 274/932 [00:55<03:02,  3.61file/s]"
     ]
    },
    {
     "name": "stdout",
     "output_type": "stream",
     "text": [
      "Is Pickup Truck: yes\n"
     ]
    },
    {
     "name": "stderr",
     "output_type": "stream",
     "text": [
      "Processing: pickup:  30%|██▉       | 275/932 [00:55<03:13,  3.40file/s]"
     ]
    },
    {
     "name": "stdout",
     "output_type": "stream",
     "text": [
      "Is Pickup Truck: no\n"
     ]
    },
    {
     "name": "stderr",
     "output_type": "stream",
     "text": [
      "Processing: pickup:  30%|██▉       | 276/932 [00:55<03:12,  3.41file/s]"
     ]
    },
    {
     "name": "stdout",
     "output_type": "stream",
     "text": [
      "Is Pickup Truck: no\n"
     ]
    },
    {
     "name": "stderr",
     "output_type": "stream",
     "text": [
      "Processing: pickup:  30%|██▉       | 277/932 [00:56<03:11,  3.42file/s]"
     ]
    },
    {
     "name": "stdout",
     "output_type": "stream",
     "text": [
      "Is Pickup Truck: yes\n"
     ]
    },
    {
     "name": "stderr",
     "output_type": "stream",
     "text": [
      "Processing: pickup:  30%|██▉       | 278/932 [00:56<03:10,  3.43file/s]"
     ]
    },
    {
     "name": "stdout",
     "output_type": "stream",
     "text": [
      "Is Pickup Truck: no\n"
     ]
    },
    {
     "name": "stderr",
     "output_type": "stream",
     "text": [
      "Processing: pickup:  30%|██▉       | 279/932 [00:56<03:07,  3.48file/s]"
     ]
    },
    {
     "name": "stdout",
     "output_type": "stream",
     "text": [
      "Is Pickup Truck: no\n"
     ]
    },
    {
     "name": "stderr",
     "output_type": "stream",
     "text": [
      "Processing: pickup:  30%|███       | 280/932 [00:56<03:06,  3.50file/s]"
     ]
    },
    {
     "name": "stdout",
     "output_type": "stream",
     "text": [
      "Is Pickup Truck: no\n"
     ]
    },
    {
     "name": "stderr",
     "output_type": "stream",
     "text": [
      "Processing: pickup:  30%|███       | 281/932 [00:57<03:07,  3.48file/s]"
     ]
    },
    {
     "name": "stdout",
     "output_type": "stream",
     "text": [
      "Is Pickup Truck: yes\n"
     ]
    },
    {
     "name": "stderr",
     "output_type": "stream",
     "text": [
      "Processing: pickup:  30%|███       | 282/932 [00:57<03:06,  3.48file/s]"
     ]
    },
    {
     "name": "stdout",
     "output_type": "stream",
     "text": [
      "Is Pickup Truck: yes\n"
     ]
    },
    {
     "name": "stderr",
     "output_type": "stream",
     "text": [
      "Processing: pickup:  30%|███       | 283/932 [00:57<03:09,  3.42file/s]"
     ]
    },
    {
     "name": "stdout",
     "output_type": "stream",
     "text": [
      "Is Pickup Truck: yes\n"
     ]
    },
    {
     "name": "stderr",
     "output_type": "stream",
     "text": [
      "Processing: pickup:  30%|███       | 284/932 [00:58<03:17,  3.28file/s]"
     ]
    },
    {
     "name": "stdout",
     "output_type": "stream",
     "text": [
      "Is Pickup Truck: yes\n"
     ]
    },
    {
     "name": "stderr",
     "output_type": "stream",
     "text": [
      "Processing: pickup:  31%|███       | 285/932 [00:58<03:14,  3.32file/s]"
     ]
    },
    {
     "name": "stdout",
     "output_type": "stream",
     "text": [
      "Is Pickup Truck: no\n"
     ]
    },
    {
     "name": "stderr",
     "output_type": "stream",
     "text": [
      "Processing: pickup:  31%|███       | 286/932 [00:58<03:13,  3.34file/s]"
     ]
    },
    {
     "name": "stdout",
     "output_type": "stream",
     "text": [
      "Is Pickup Truck: no\n"
     ]
    },
    {
     "name": "stderr",
     "output_type": "stream",
     "text": [
      "Processing: pickup:  31%|███       | 287/932 [00:58<03:10,  3.39file/s]"
     ]
    },
    {
     "name": "stdout",
     "output_type": "stream",
     "text": [
      "Is Pickup Truck: yes\n"
     ]
    },
    {
     "name": "stderr",
     "output_type": "stream",
     "text": [
      "Processing: pickup:  31%|███       | 288/932 [00:59<03:13,  3.32file/s]"
     ]
    },
    {
     "name": "stdout",
     "output_type": "stream",
     "text": [
      "Is Pickup Truck: no\n"
     ]
    },
    {
     "name": "stderr",
     "output_type": "stream",
     "text": [
      "Processing: pickup:  31%|███       | 289/932 [00:59<03:09,  3.39file/s]"
     ]
    },
    {
     "name": "stdout",
     "output_type": "stream",
     "text": [
      "Is Pickup Truck: no\n"
     ]
    },
    {
     "name": "stderr",
     "output_type": "stream",
     "text": [
      "Processing: pickup:  31%|███       | 290/932 [00:59<03:07,  3.43file/s]"
     ]
    },
    {
     "name": "stdout",
     "output_type": "stream",
     "text": [
      "Is Pickup Truck: yes\n"
     ]
    },
    {
     "name": "stderr",
     "output_type": "stream",
     "text": [
      "Processing: pickup:  31%|███       | 291/932 [01:00<03:10,  3.37file/s]"
     ]
    },
    {
     "name": "stdout",
     "output_type": "stream",
     "text": [
      "Is Pickup Truck: no\n"
     ]
    },
    {
     "name": "stderr",
     "output_type": "stream",
     "text": [
      "Processing: pickup:  31%|███▏      | 292/932 [01:00<03:10,  3.36file/s]"
     ]
    },
    {
     "name": "stdout",
     "output_type": "stream",
     "text": [
      "Is Pickup Truck: yes\n"
     ]
    },
    {
     "name": "stderr",
     "output_type": "stream",
     "text": [
      "Processing: pickup:  31%|███▏      | 293/932 [01:00<03:09,  3.38file/s]"
     ]
    },
    {
     "name": "stdout",
     "output_type": "stream",
     "text": [
      "Is Pickup Truck: no\n"
     ]
    },
    {
     "name": "stderr",
     "output_type": "stream",
     "text": [
      "Processing: pickup:  32%|███▏      | 294/932 [01:01<03:09,  3.37file/s]"
     ]
    },
    {
     "name": "stdout",
     "output_type": "stream",
     "text": [
      "Is Pickup Truck: yes\n"
     ]
    },
    {
     "name": "stderr",
     "output_type": "stream",
     "text": [
      "Processing: pickup:  32%|███▏      | 295/932 [01:01<03:09,  3.36file/s]"
     ]
    },
    {
     "name": "stdout",
     "output_type": "stream",
     "text": [
      "Is Pickup Truck: yes\n"
     ]
    },
    {
     "name": "stderr",
     "output_type": "stream",
     "text": [
      "Processing: pickup:  32%|███▏      | 296/932 [01:01<03:08,  3.37file/s]"
     ]
    },
    {
     "name": "stdout",
     "output_type": "stream",
     "text": [
      "Is Pickup Truck: no\n"
     ]
    },
    {
     "name": "stderr",
     "output_type": "stream",
     "text": [
      "Processing: pickup:  32%|███▏      | 297/932 [01:01<03:07,  3.39file/s]"
     ]
    },
    {
     "name": "stdout",
     "output_type": "stream",
     "text": [
      "Is Pickup Truck: no\n"
     ]
    },
    {
     "name": "stderr",
     "output_type": "stream",
     "text": [
      "Processing: pickup:  32%|███▏      | 298/932 [01:02<03:07,  3.38file/s]"
     ]
    },
    {
     "name": "stdout",
     "output_type": "stream",
     "text": [
      "Is Pickup Truck: no\n"
     ]
    },
    {
     "name": "stderr",
     "output_type": "stream",
     "text": [
      "Processing: pickup:  32%|███▏      | 299/932 [01:02<03:05,  3.41file/s]"
     ]
    },
    {
     "name": "stdout",
     "output_type": "stream",
     "text": [
      "Is Pickup Truck: yes\n"
     ]
    },
    {
     "name": "stderr",
     "output_type": "stream",
     "text": [
      "Processing: van:  32%|███▏      | 301/932 [01:02<02:35,  4.05file/s]   "
     ]
    },
    {
     "name": "stdout",
     "output_type": "stream",
     "text": [
      "Is Pickup Truck: yes\n"
     ]
    },
    {
     "name": "stderr",
     "output_type": "stream",
     "text": [
      "Processing: van:  33%|███▎      | 310/932 [01:04<01:33,  6.65file/s][codecarbon INFO @ 02:16:39] Energy consumed for RAM : 0.003146 kWh. RAM Power : 188.79906034469604 W\n",
      "[codecarbon INFO @ 02:16:39] Energy consumed for all CPUs : 0.001666 kWh. Total CPU Power : 100.0 W\n",
      "[codecarbon INFO @ 02:16:39] Energy consumed for all GPUs : 0.002137 kWh. Total GPU Power : 129.8409298782999 W\n",
      "[codecarbon INFO @ 02:16:39] 0.006949 kWh of electricity used since the beginning.\n",
      "Processing: van:  39%|███▉      | 364/932 [01:12<01:44,  5.45file/s]"
     ]
    },
    {
     "name": "stdout",
     "output_type": "stream",
     "text": [
      "Is Pickup Truck: no\n"
     ]
    },
    {
     "name": "stderr",
     "output_type": "stream",
     "text": [
      "Processing: van:  39%|███▉      | 365/932 [01:12<02:00,  4.69file/s]"
     ]
    },
    {
     "name": "stdout",
     "output_type": "stream",
     "text": [
      "Is Pickup Truck: no\n"
     ]
    },
    {
     "name": "stderr",
     "output_type": "stream",
     "text": [
      "Processing: van:  39%|███▉      | 366/932 [01:12<02:12,  4.26file/s]"
     ]
    },
    {
     "name": "stdout",
     "output_type": "stream",
     "text": [
      "Is Pickup Truck: no\n"
     ]
    },
    {
     "name": "stderr",
     "output_type": "stream",
     "text": [
      "Processing: van:  39%|███▉      | 368/932 [01:13<02:02,  4.61file/s]"
     ]
    },
    {
     "name": "stdout",
     "output_type": "stream",
     "text": [
      "Is Pickup Truck: no\n"
     ]
    },
    {
     "name": "stderr",
     "output_type": "stream",
     "text": [
      "Processing: van:  42%|████▏     | 395/932 [01:17<01:39,  5.41file/s]"
     ]
    },
    {
     "name": "stdout",
     "output_type": "stream",
     "text": [
      "Is Pickup Truck: no\n"
     ]
    },
    {
     "name": "stderr",
     "output_type": "stream",
     "text": [
      "Processing: bus 2:  44%|████▍     | 408/932 [01:19<01:23,  6.27file/s][codecarbon INFO @ 02:16:54] Energy consumed for RAM : 0.003932 kWh. RAM Power : 188.79906034469604 W\n",
      "[codecarbon INFO @ 02:16:54] Energy consumed for all CPUs : 0.002083 kWh. Total CPU Power : 100.0 W\n",
      "[codecarbon INFO @ 02:16:54] Energy consumed for all GPUs : 0.002673 kWh. Total GPU Power : 128.66811473960172 W\n",
      "[codecarbon INFO @ 02:16:54] 0.008688 kWh of electricity used since the beginning.\n",
      "Processing: truck 2:  48%|████▊     | 443/932 [01:24<01:36,  5.06file/s]"
     ]
    },
    {
     "name": "stdout",
     "output_type": "stream",
     "text": [
      "Is Pickup Truck: yes\n"
     ]
    },
    {
     "name": "stderr",
     "output_type": "stream",
     "text": [
      "Processing: truck 2:  48%|████▊     | 444/932 [01:24<01:49,  4.47file/s]"
     ]
    },
    {
     "name": "stdout",
     "output_type": "stream",
     "text": [
      "Is Pickup Truck: no\n"
     ]
    },
    {
     "name": "stderr",
     "output_type": "stream",
     "text": [
      "Processing: truck 2:  48%|████▊     | 445/932 [01:25<01:59,  4.07file/s]"
     ]
    },
    {
     "name": "stdout",
     "output_type": "stream",
     "text": [
      "Is Pickup Truck: yes\n"
     ]
    },
    {
     "name": "stderr",
     "output_type": "stream",
     "text": [
      "Processing: truck 2:  48%|████▊     | 446/932 [01:25<02:08,  3.78file/s]"
     ]
    },
    {
     "name": "stdout",
     "output_type": "stream",
     "text": [
      "Is Pickup Truck: yes\n"
     ]
    },
    {
     "name": "stderr",
     "output_type": "stream",
     "text": [
      "Processing: truck 2:  48%|████▊     | 447/932 [01:25<02:14,  3.59file/s]"
     ]
    },
    {
     "name": "stdout",
     "output_type": "stream",
     "text": [
      "Is Pickup Truck: yes\n"
     ]
    },
    {
     "name": "stderr",
     "output_type": "stream",
     "text": [
      "Processing: truck 2:  48%|████▊     | 448/932 [01:26<02:28,  3.26file/s]"
     ]
    },
    {
     "name": "stdout",
     "output_type": "stream",
     "text": [
      "Is Pickup Truck: no\n"
     ]
    },
    {
     "name": "stderr",
     "output_type": "stream",
     "text": [
      "Processing: truck 2:  48%|████▊     | 449/932 [01:26<02:26,  3.29file/s]"
     ]
    },
    {
     "name": "stdout",
     "output_type": "stream",
     "text": [
      "Is Pickup Truck: no\n"
     ]
    },
    {
     "name": "stderr",
     "output_type": "stream",
     "text": [
      "Processing: truck 2:  48%|████▊     | 450/932 [01:26<02:25,  3.31file/s]"
     ]
    },
    {
     "name": "stdout",
     "output_type": "stream",
     "text": [
      "Is Pickup Truck: yes\n"
     ]
    },
    {
     "name": "stderr",
     "output_type": "stream",
     "text": [
      "Processing: truck 2:  48%|████▊     | 451/932 [01:27<02:27,  3.27file/s]"
     ]
    },
    {
     "name": "stdout",
     "output_type": "stream",
     "text": [
      "Is Pickup Truck: no\n"
     ]
    },
    {
     "name": "stderr",
     "output_type": "stream",
     "text": [
      "Processing: truck 2:  48%|████▊     | 452/932 [01:27<02:26,  3.28file/s]"
     ]
    },
    {
     "name": "stdout",
     "output_type": "stream",
     "text": [
      "Is Pickup Truck: no\n"
     ]
    },
    {
     "name": "stderr",
     "output_type": "stream",
     "text": [
      "Processing: truck 2:  49%|████▊     | 453/932 [01:27<02:25,  3.30file/s]"
     ]
    },
    {
     "name": "stdout",
     "output_type": "stream",
     "text": [
      "Is Pickup Truck: no\n"
     ]
    },
    {
     "name": "stderr",
     "output_type": "stream",
     "text": [
      "Processing: truck 2:  49%|████▊     | 454/932 [01:28<02:24,  3.32file/s]"
     ]
    },
    {
     "name": "stdout",
     "output_type": "stream",
     "text": [
      "Is Pickup Truck: no\n"
     ]
    },
    {
     "name": "stderr",
     "output_type": "stream",
     "text": [
      "Processing: truck 2:  49%|████▉     | 455/932 [01:28<02:23,  3.32file/s]"
     ]
    },
    {
     "name": "stdout",
     "output_type": "stream",
     "text": [
      "Is Pickup Truck: no\n"
     ]
    },
    {
     "name": "stderr",
     "output_type": "stream",
     "text": [
      "Processing: truck 2:  49%|████▉     | 456/932 [01:28<02:22,  3.34file/s]"
     ]
    },
    {
     "name": "stdout",
     "output_type": "stream",
     "text": [
      "Is Pickup Truck: yes\n"
     ]
    },
    {
     "name": "stderr",
     "output_type": "stream",
     "text": [
      "Processing: truck 2:  49%|████▉     | 457/932 [01:28<02:22,  3.34file/s]"
     ]
    },
    {
     "name": "stdout",
     "output_type": "stream",
     "text": [
      "Is Pickup Truck: no\n"
     ]
    },
    {
     "name": "stderr",
     "output_type": "stream",
     "text": [
      "Processing: truck 2:  49%|████▉     | 458/932 [01:29<02:25,  3.25file/s]"
     ]
    },
    {
     "name": "stdout",
     "output_type": "stream",
     "text": [
      "Is Pickup Truck: no\n"
     ]
    },
    {
     "name": "stderr",
     "output_type": "stream",
     "text": [
      "Processing: truck 2:  49%|████▉     | 459/932 [01:29<02:23,  3.29file/s]"
     ]
    },
    {
     "name": "stdout",
     "output_type": "stream",
     "text": [
      "Is Pickup Truck: no\n"
     ]
    },
    {
     "name": "stderr",
     "output_type": "stream",
     "text": [
      "Processing: truck 2:  49%|████▉     | 460/932 [01:29<02:21,  3.33file/s]"
     ]
    },
    {
     "name": "stdout",
     "output_type": "stream",
     "text": [
      "Is Pickup Truck: no\n"
     ]
    },
    {
     "name": "stderr",
     "output_type": "stream",
     "text": [
      "Processing: truck 2:  49%|████▉     | 461/932 [01:30<02:20,  3.35file/s]"
     ]
    },
    {
     "name": "stdout",
     "output_type": "stream",
     "text": [
      "Is Pickup Truck: no\n"
     ]
    },
    {
     "name": "stderr",
     "output_type": "stream",
     "text": [
      "Processing: truck 2:  50%|████▉     | 462/932 [01:30<02:18,  3.40file/s]"
     ]
    },
    {
     "name": "stdout",
     "output_type": "stream",
     "text": [
      "Is Pickup Truck: no\n"
     ]
    },
    {
     "name": "stderr",
     "output_type": "stream",
     "text": [
      "Processing: truck 2:  50%|████▉     | 463/932 [01:30<02:16,  3.44file/s]"
     ]
    },
    {
     "name": "stdout",
     "output_type": "stream",
     "text": [
      "Is Pickup Truck: no\n"
     ]
    },
    {
     "name": "stderr",
     "output_type": "stream",
     "text": [
      "Processing: truck 2:  50%|████▉     | 464/932 [01:30<02:15,  3.46file/s]"
     ]
    },
    {
     "name": "stdout",
     "output_type": "stream",
     "text": [
      "Is Pickup Truck: no\n"
     ]
    },
    {
     "name": "stderr",
     "output_type": "stream",
     "text": [
      "Processing: truck 2:  50%|████▉     | 465/932 [01:31<02:16,  3.42file/s]"
     ]
    },
    {
     "name": "stdout",
     "output_type": "stream",
     "text": [
      "Is Pickup Truck: no\n"
     ]
    },
    {
     "name": "stderr",
     "output_type": "stream",
     "text": [
      "Processing: truck 2:  50%|█████     | 466/932 [01:31<02:19,  3.35file/s]"
     ]
    },
    {
     "name": "stdout",
     "output_type": "stream",
     "text": [
      "Is Pickup Truck: no\n"
     ]
    },
    {
     "name": "stderr",
     "output_type": "stream",
     "text": [
      "Processing: truck 2:  50%|█████     | 467/932 [01:31<02:17,  3.37file/s]"
     ]
    },
    {
     "name": "stdout",
     "output_type": "stream",
     "text": [
      "Is Pickup Truck: no\n"
     ]
    },
    {
     "name": "stderr",
     "output_type": "stream",
     "text": [
      "Processing: truck 2:  50%|█████     | 468/932 [01:32<02:21,  3.29file/s]"
     ]
    },
    {
     "name": "stdout",
     "output_type": "stream",
     "text": [
      "Is Pickup Truck: no\n"
     ]
    },
    {
     "name": "stderr",
     "output_type": "stream",
     "text": [
      "Processing: truck 2:  50%|█████     | 469/932 [01:32<02:20,  3.30file/s]"
     ]
    },
    {
     "name": "stdout",
     "output_type": "stream",
     "text": [
      "Is Pickup Truck: no\n"
     ]
    },
    {
     "name": "stderr",
     "output_type": "stream",
     "text": [
      "Processing: truck 2:  50%|█████     | 470/932 [01:32<02:19,  3.31file/s]"
     ]
    },
    {
     "name": "stdout",
     "output_type": "stream",
     "text": [
      "Is Pickup Truck: no\n"
     ]
    },
    {
     "name": "stderr",
     "output_type": "stream",
     "text": [
      "Processing: truck 2:  51%|█████     | 471/932 [01:33<02:22,  3.23file/s]"
     ]
    },
    {
     "name": "stdout",
     "output_type": "stream",
     "text": [
      "Is Pickup Truck: no\n"
     ]
    },
    {
     "name": "stderr",
     "output_type": "stream",
     "text": [
      "Processing: truck 2:  51%|█████     | 472/932 [01:33<02:21,  3.24file/s]"
     ]
    },
    {
     "name": "stdout",
     "output_type": "stream",
     "text": [
      "Is Pickup Truck: no\n"
     ]
    },
    {
     "name": "stderr",
     "output_type": "stream",
     "text": [
      "Processing: truck 2:  51%|█████     | 473/932 [01:33<02:21,  3.24file/s]"
     ]
    },
    {
     "name": "stdout",
     "output_type": "stream",
     "text": [
      "Is Pickup Truck: yes\n"
     ]
    },
    {
     "name": "stderr",
     "output_type": "stream",
     "text": [
      "Processing: truck 2:  51%|█████     | 474/932 [01:34<02:19,  3.28file/s]"
     ]
    },
    {
     "name": "stdout",
     "output_type": "stream",
     "text": [
      "Is Pickup Truck: no\n"
     ]
    },
    {
     "name": "stderr",
     "output_type": "stream",
     "text": [
      "Processing: truck 2:  51%|█████     | 475/932 [01:34<02:19,  3.29file/s][codecarbon INFO @ 02:17:09] Energy consumed for RAM : 0.004719 kWh. RAM Power : 188.79906034469604 W\n",
      "[codecarbon INFO @ 02:17:09] Energy consumed for all CPUs : 0.002500 kWh. Total CPU Power : 100.0 W\n",
      "[codecarbon INFO @ 02:17:09] Energy consumed for all GPUs : 0.003201 kWh. Total GPU Power : 126.781802655925 W\n",
      "[codecarbon INFO @ 02:17:09] 0.010419 kWh of electricity used since the beginning.\n"
     ]
    },
    {
     "name": "stdout",
     "output_type": "stream",
     "text": [
      "Is Pickup Truck: yes\n"
     ]
    },
    {
     "name": "stderr",
     "output_type": "stream",
     "text": [
      "Processing: truck 2:  51%|█████     | 476/932 [01:34<02:18,  3.29file/s]"
     ]
    },
    {
     "name": "stdout",
     "output_type": "stream",
     "text": [
      "Is Pickup Truck: no\n"
     ]
    },
    {
     "name": "stderr",
     "output_type": "stream",
     "text": [
      "Processing: truck 2:  51%|█████     | 477/932 [01:34<02:18,  3.30file/s]"
     ]
    },
    {
     "name": "stdout",
     "output_type": "stream",
     "text": [
      "Is Pickup Truck: no\n"
     ]
    },
    {
     "name": "stderr",
     "output_type": "stream",
     "text": [
      "Processing: truck 2:  51%|█████▏    | 478/932 [01:35<02:16,  3.32file/s]"
     ]
    },
    {
     "name": "stdout",
     "output_type": "stream",
     "text": [
      "Is Pickup Truck: no\n"
     ]
    },
    {
     "name": "stderr",
     "output_type": "stream",
     "text": [
      "Processing: truck 2:  51%|█████▏    | 479/932 [01:35<02:14,  3.36file/s]"
     ]
    },
    {
     "name": "stdout",
     "output_type": "stream",
     "text": [
      "Is Pickup Truck: no\n"
     ]
    },
    {
     "name": "stderr",
     "output_type": "stream",
     "text": [
      "Processing: truck 2:  52%|█████▏    | 480/932 [01:35<02:15,  3.34file/s]"
     ]
    },
    {
     "name": "stdout",
     "output_type": "stream",
     "text": [
      "Is Pickup Truck: no\n"
     ]
    },
    {
     "name": "stderr",
     "output_type": "stream",
     "text": [
      "Processing: truck 2:  52%|█████▏    | 481/932 [01:36<02:15,  3.33file/s]"
     ]
    },
    {
     "name": "stdout",
     "output_type": "stream",
     "text": [
      "Is Pickup Truck: no\n"
     ]
    },
    {
     "name": "stderr",
     "output_type": "stream",
     "text": [
      "Processing: truck 2:  52%|█████▏    | 482/932 [01:36<02:16,  3.31file/s]"
     ]
    },
    {
     "name": "stdout",
     "output_type": "stream",
     "text": [
      "Is Pickup Truck: no\n"
     ]
    },
    {
     "name": "stderr",
     "output_type": "stream",
     "text": [
      "Processing: truck 2:  52%|█████▏    | 484/932 [01:36<01:53,  3.95file/s]"
     ]
    },
    {
     "name": "stdout",
     "output_type": "stream",
     "text": [
      "Is Pickup Truck: yes\n"
     ]
    },
    {
     "name": "stderr",
     "output_type": "stream",
     "text": [
      "Processing: truck 2:  52%|█████▏    | 485/932 [01:37<01:57,  3.79file/s]"
     ]
    },
    {
     "name": "stdout",
     "output_type": "stream",
     "text": [
      "Is Pickup Truck: no\n"
     ]
    },
    {
     "name": "stderr",
     "output_type": "stream",
     "text": [
      "Processing: truck 2:  52%|█████▏    | 486/932 [01:37<02:00,  3.69file/s]"
     ]
    },
    {
     "name": "stdout",
     "output_type": "stream",
     "text": [
      "Is Pickup Truck: yes\n"
     ]
    },
    {
     "name": "stderr",
     "output_type": "stream",
     "text": [
      "Processing: truck 2:  52%|█████▏    | 487/932 [01:37<02:01,  3.67file/s]"
     ]
    },
    {
     "name": "stdout",
     "output_type": "stream",
     "text": [
      "Is Pickup Truck: no\n"
     ]
    },
    {
     "name": "stderr",
     "output_type": "stream",
     "text": [
      "Processing: truck 2:  52%|█████▏    | 488/932 [01:38<02:01,  3.65file/s]"
     ]
    },
    {
     "name": "stdout",
     "output_type": "stream",
     "text": [
      "Is Pickup Truck: no\n"
     ]
    },
    {
     "name": "stderr",
     "output_type": "stream",
     "text": [
      "Processing: truck 2:  52%|█████▏    | 489/932 [01:38<02:01,  3.63file/s]"
     ]
    },
    {
     "name": "stdout",
     "output_type": "stream",
     "text": [
      "Is Pickup Truck: yes\n"
     ]
    },
    {
     "name": "stderr",
     "output_type": "stream",
     "text": [
      "Processing: truck 2:  53%|█████▎    | 490/932 [01:38<02:01,  3.64file/s]"
     ]
    },
    {
     "name": "stdout",
     "output_type": "stream",
     "text": [
      "Is Pickup Truck: no\n"
     ]
    },
    {
     "name": "stderr",
     "output_type": "stream",
     "text": [
      "Processing: truck 2:  53%|█████▎    | 491/932 [01:38<02:01,  3.64file/s]"
     ]
    },
    {
     "name": "stdout",
     "output_type": "stream",
     "text": [
      "Is Pickup Truck: no\n"
     ]
    },
    {
     "name": "stderr",
     "output_type": "stream",
     "text": [
      "Processing: truck 2:  53%|█████▎    | 493/932 [01:39<01:42,  4.28file/s]"
     ]
    },
    {
     "name": "stdout",
     "output_type": "stream",
     "text": [
      "Is Pickup Truck: yes\n"
     ]
    },
    {
     "name": "stderr",
     "output_type": "stream",
     "text": [
      "Processing: truck 2:  53%|█████▎    | 494/932 [01:39<01:47,  4.06file/s]"
     ]
    },
    {
     "name": "stdout",
     "output_type": "stream",
     "text": [
      "Is Pickup Truck: yes\n"
     ]
    },
    {
     "name": "stderr",
     "output_type": "stream",
     "text": [
      "Processing: truck 2:  53%|█████▎    | 495/932 [01:39<01:50,  3.94file/s]"
     ]
    },
    {
     "name": "stdout",
     "output_type": "stream",
     "text": [
      "Is Pickup Truck: no\n"
     ]
    },
    {
     "name": "stderr",
     "output_type": "stream",
     "text": [
      "Processing: truck 2:  53%|█████▎    | 496/932 [01:40<01:53,  3.85file/s]"
     ]
    },
    {
     "name": "stdout",
     "output_type": "stream",
     "text": [
      "Is Pickup Truck: no\n"
     ]
    },
    {
     "name": "stderr",
     "output_type": "stream",
     "text": [
      "Processing: truck 2:  53%|█████▎    | 497/932 [01:40<01:55,  3.78file/s]"
     ]
    },
    {
     "name": "stdout",
     "output_type": "stream",
     "text": [
      "Is Pickup Truck: no\n"
     ]
    },
    {
     "name": "stderr",
     "output_type": "stream",
     "text": [
      "Processing: truck 2:  53%|█████▎    | 498/932 [01:40<01:56,  3.73file/s]"
     ]
    },
    {
     "name": "stdout",
     "output_type": "stream",
     "text": [
      "Is Pickup Truck: no\n"
     ]
    },
    {
     "name": "stderr",
     "output_type": "stream",
     "text": [
      "Processing: truck 2:  54%|█████▎    | 499/932 [01:40<01:57,  3.69file/s]"
     ]
    },
    {
     "name": "stdout",
     "output_type": "stream",
     "text": [
      "Is Pickup Truck: no\n"
     ]
    },
    {
     "name": "stderr",
     "output_type": "stream",
     "text": [
      "Processing: truck 2:  54%|█████▎    | 500/932 [01:41<01:57,  3.67file/s]"
     ]
    },
    {
     "name": "stdout",
     "output_type": "stream",
     "text": [
      "Is Pickup Truck: no\n"
     ]
    },
    {
     "name": "stderr",
     "output_type": "stream",
     "text": [
      "Processing: truck 2:  54%|█████▍    | 501/932 [01:41<01:58,  3.65file/s]"
     ]
    },
    {
     "name": "stdout",
     "output_type": "stream",
     "text": [
      "Is Pickup Truck: no\n"
     ]
    },
    {
     "name": "stderr",
     "output_type": "stream",
     "text": [
      "Processing: truck 2:  54%|█████▍    | 502/932 [01:41<01:58,  3.64file/s]"
     ]
    },
    {
     "name": "stdout",
     "output_type": "stream",
     "text": [
      "Is Pickup Truck: no\n"
     ]
    },
    {
     "name": "stderr",
     "output_type": "stream",
     "text": [
      "Processing: truck 2:  54%|█████▍    | 503/932 [01:42<02:00,  3.57file/s]"
     ]
    },
    {
     "name": "stdout",
     "output_type": "stream",
     "text": [
      "Is Pickup Truck: no\n"
     ]
    },
    {
     "name": "stderr",
     "output_type": "stream",
     "text": [
      "Processing: truck 2:  54%|█████▍    | 504/932 [01:42<02:02,  3.51file/s]"
     ]
    },
    {
     "name": "stdout",
     "output_type": "stream",
     "text": [
      "Is Pickup Truck: no\n"
     ]
    },
    {
     "name": "stderr",
     "output_type": "stream",
     "text": [
      "Processing: truck 2:  54%|█████▍    | 505/932 [01:42<02:03,  3.47file/s]"
     ]
    },
    {
     "name": "stdout",
     "output_type": "stream",
     "text": [
      "Is Pickup Truck: no\n"
     ]
    },
    {
     "name": "stderr",
     "output_type": "stream",
     "text": [
      "Processing: truck 2:  54%|█████▍    | 506/932 [01:42<02:03,  3.46file/s]"
     ]
    },
    {
     "name": "stdout",
     "output_type": "stream",
     "text": [
      "Is Pickup Truck: yes\n"
     ]
    },
    {
     "name": "stderr",
     "output_type": "stream",
     "text": [
      "Processing: truck 2:  55%|█████▍    | 508/932 [01:43<01:44,  4.05file/s]"
     ]
    },
    {
     "name": "stdout",
     "output_type": "stream",
     "text": [
      "Is Pickup Truck: no\n"
     ]
    },
    {
     "name": "stderr",
     "output_type": "stream",
     "text": [
      "Processing: truck 2:  55%|█████▍    | 509/932 [01:43<01:50,  3.84file/s]"
     ]
    },
    {
     "name": "stdout",
     "output_type": "stream",
     "text": [
      "Is Pickup Truck: no\n"
     ]
    },
    {
     "name": "stderr",
     "output_type": "stream",
     "text": [
      "Processing: truck 2:  55%|█████▍    | 510/932 [01:43<01:53,  3.71file/s]"
     ]
    },
    {
     "name": "stdout",
     "output_type": "stream",
     "text": [
      "Is Pickup Truck: no\n"
     ]
    },
    {
     "name": "stderr",
     "output_type": "stream",
     "text": [
      "Processing: truck 2:  55%|█████▍    | 511/932 [01:44<01:55,  3.63file/s]"
     ]
    },
    {
     "name": "stdout",
     "output_type": "stream",
     "text": [
      "Is Pickup Truck: no\n"
     ]
    },
    {
     "name": "stderr",
     "output_type": "stream",
     "text": [
      "Processing: truck 2:  55%|█████▍    | 512/932 [01:44<01:57,  3.59file/s]"
     ]
    },
    {
     "name": "stdout",
     "output_type": "stream",
     "text": [
      "Is Pickup Truck: yes\n"
     ]
    },
    {
     "name": "stderr",
     "output_type": "stream",
     "text": [
      "Processing: truck 2:  55%|█████▌    | 513/932 [01:44<01:58,  3.53file/s]"
     ]
    },
    {
     "name": "stdout",
     "output_type": "stream",
     "text": [
      "Is Pickup Truck: yes\n"
     ]
    },
    {
     "name": "stderr",
     "output_type": "stream",
     "text": [
      "Processing: truck 2:  55%|█████▌    | 514/932 [01:45<02:03,  3.38file/s]"
     ]
    },
    {
     "name": "stdout",
     "output_type": "stream",
     "text": [
      "Is Pickup Truck: no\n"
     ]
    },
    {
     "name": "stderr",
     "output_type": "stream",
     "text": [
      "Processing: truck 2:  55%|█████▌    | 515/932 [01:45<02:04,  3.35file/s]"
     ]
    },
    {
     "name": "stdout",
     "output_type": "stream",
     "text": [
      "Is Pickup Truck: no\n"
     ]
    },
    {
     "name": "stderr",
     "output_type": "stream",
     "text": [
      "Processing: truck 2:  55%|█████▌    | 516/932 [01:45<02:04,  3.35file/s]"
     ]
    },
    {
     "name": "stdout",
     "output_type": "stream",
     "text": [
      "Is Pickup Truck: no\n"
     ]
    },
    {
     "name": "stderr",
     "output_type": "stream",
     "text": [
      "Processing: truck 2:  55%|█████▌    | 517/932 [01:46<02:04,  3.33file/s]"
     ]
    },
    {
     "name": "stdout",
     "output_type": "stream",
     "text": [
      "Is Pickup Truck: no\n"
     ]
    },
    {
     "name": "stderr",
     "output_type": "stream",
     "text": [
      "Processing: truck 2:  56%|█████▌    | 518/932 [01:46<02:03,  3.34file/s]"
     ]
    },
    {
     "name": "stdout",
     "output_type": "stream",
     "text": [
      "Is Pickup Truck: no\n"
     ]
    },
    {
     "name": "stderr",
     "output_type": "stream",
     "text": [
      "Processing: truck 2:  56%|█████▌    | 519/932 [01:46<02:07,  3.23file/s]"
     ]
    },
    {
     "name": "stdout",
     "output_type": "stream",
     "text": [
      "Is Pickup Truck: no\n"
     ]
    },
    {
     "name": "stderr",
     "output_type": "stream",
     "text": [
      "Processing: truck 2:  56%|█████▌    | 520/932 [01:47<02:14,  3.06file/s]"
     ]
    },
    {
     "name": "stdout",
     "output_type": "stream",
     "text": [
      "Is Pickup Truck: no\n"
     ]
    },
    {
     "name": "stderr",
     "output_type": "stream",
     "text": [
      "Processing: truck 2:  56%|█████▌    | 521/932 [01:47<02:10,  3.15file/s]"
     ]
    },
    {
     "name": "stdout",
     "output_type": "stream",
     "text": [
      "Is Pickup Truck: yes\n"
     ]
    },
    {
     "name": "stderr",
     "output_type": "stream",
     "text": [
      "Processing: truck 2:  56%|█████▌    | 522/932 [01:47<02:11,  3.11file/s]"
     ]
    },
    {
     "name": "stdout",
     "output_type": "stream",
     "text": [
      "Is Pickup Truck: no\n"
     ]
    },
    {
     "name": "stderr",
     "output_type": "stream",
     "text": [
      "Processing: truck 2:  56%|█████▌    | 523/932 [01:47<02:09,  3.15file/s]"
     ]
    },
    {
     "name": "stdout",
     "output_type": "stream",
     "text": [
      "Is Pickup Truck: no\n"
     ]
    },
    {
     "name": "stderr",
     "output_type": "stream",
     "text": [
      "Processing: truck 2:  56%|█████▌    | 524/932 [01:48<02:07,  3.20file/s]"
     ]
    },
    {
     "name": "stdout",
     "output_type": "stream",
     "text": [
      "Is Pickup Truck: no\n"
     ]
    },
    {
     "name": "stderr",
     "output_type": "stream",
     "text": [
      "Processing: truck 2:  56%|█████▋    | 525/932 [01:48<02:05,  3.24file/s]"
     ]
    },
    {
     "name": "stdout",
     "output_type": "stream",
     "text": [
      "Is Pickup Truck: no\n"
     ]
    },
    {
     "name": "stderr",
     "output_type": "stream",
     "text": [
      "Processing: truck 2:  56%|█████▋    | 526/932 [01:48<02:04,  3.26file/s]"
     ]
    },
    {
     "name": "stdout",
     "output_type": "stream",
     "text": [
      "Is Pickup Truck: yes\n"
     ]
    },
    {
     "name": "stderr",
     "output_type": "stream",
     "text": [
      "Processing: truck 2:  57%|█████▋    | 527/932 [01:49<02:03,  3.28file/s][codecarbon INFO @ 02:17:24] Energy consumed for RAM : 0.005505 kWh. RAM Power : 188.79906034469604 W\n",
      "[codecarbon INFO @ 02:17:24] Energy consumed for all CPUs : 0.002916 kWh. Total CPU Power : 100.0 W\n",
      "[codecarbon INFO @ 02:17:24] Energy consumed for all GPUs : 0.003742 kWh. Total GPU Power : 129.9235303216342 W\n",
      "[codecarbon INFO @ 02:17:24] 0.012163 kWh of electricity used since the beginning.\n"
     ]
    },
    {
     "name": "stdout",
     "output_type": "stream",
     "text": [
      "Is Pickup Truck: no\n"
     ]
    },
    {
     "name": "stderr",
     "output_type": "stream",
     "text": [
      "Processing: truck 2:  57%|█████▋    | 528/932 [01:49<02:01,  3.33file/s]"
     ]
    },
    {
     "name": "stdout",
     "output_type": "stream",
     "text": [
      "Is Pickup Truck: no\n"
     ]
    },
    {
     "name": "stderr",
     "output_type": "stream",
     "text": [
      "Processing: truck 2:  57%|█████▋    | 529/932 [01:49<02:07,  3.17file/s]"
     ]
    },
    {
     "name": "stdout",
     "output_type": "stream",
     "text": [
      "Is Pickup Truck: no\n"
     ]
    },
    {
     "name": "stderr",
     "output_type": "stream",
     "text": [
      "Processing: truck 2:  57%|█████▋    | 530/932 [01:50<02:06,  3.19file/s]"
     ]
    },
    {
     "name": "stdout",
     "output_type": "stream",
     "text": [
      "Is Pickup Truck: no\n"
     ]
    },
    {
     "name": "stderr",
     "output_type": "stream",
     "text": [
      "Processing: truck 2:  57%|█████▋    | 531/932 [01:50<02:05,  3.19file/s]"
     ]
    },
    {
     "name": "stdout",
     "output_type": "stream",
     "text": [
      "Is Pickup Truck: no\n"
     ]
    },
    {
     "name": "stderr",
     "output_type": "stream",
     "text": [
      "Processing: truck 2:  57%|█████▋    | 532/932 [01:50<02:04,  3.21file/s]"
     ]
    },
    {
     "name": "stdout",
     "output_type": "stream",
     "text": [
      "Is Pickup Truck: yes\n"
     ]
    },
    {
     "name": "stderr",
     "output_type": "stream",
     "text": [
      "Processing: truck 2:  57%|█████▋    | 533/932 [01:51<02:01,  3.28file/s]"
     ]
    },
    {
     "name": "stdout",
     "output_type": "stream",
     "text": [
      "Is Pickup Truck: no\n"
     ]
    },
    {
     "name": "stderr",
     "output_type": "stream",
     "text": [
      "Processing: truck 2:  57%|█████▋    | 534/932 [01:51<01:58,  3.36file/s]"
     ]
    },
    {
     "name": "stdout",
     "output_type": "stream",
     "text": [
      "Is Pickup Truck: no\n"
     ]
    },
    {
     "name": "stderr",
     "output_type": "stream",
     "text": [
      "Processing: truck 2:  57%|█████▋    | 535/932 [01:51<02:03,  3.22file/s]"
     ]
    },
    {
     "name": "stdout",
     "output_type": "stream",
     "text": [
      "Is Pickup Truck: no\n"
     ]
    },
    {
     "name": "stderr",
     "output_type": "stream",
     "text": [
      "Processing: truck 2:  58%|█████▊    | 536/932 [01:51<02:03,  3.22file/s]"
     ]
    },
    {
     "name": "stdout",
     "output_type": "stream",
     "text": [
      "Is Pickup Truck: no\n"
     ]
    },
    {
     "name": "stderr",
     "output_type": "stream",
     "text": [
      "Processing: truck 2:  58%|█████▊    | 537/932 [01:52<02:01,  3.26file/s]"
     ]
    },
    {
     "name": "stdout",
     "output_type": "stream",
     "text": [
      "Is Pickup Truck: no\n"
     ]
    },
    {
     "name": "stderr",
     "output_type": "stream",
     "text": [
      "Processing: truck 2:  58%|█████▊    | 538/932 [01:52<01:59,  3.30file/s]"
     ]
    },
    {
     "name": "stdout",
     "output_type": "stream",
     "text": [
      "Is Pickup Truck: no\n"
     ]
    },
    {
     "name": "stderr",
     "output_type": "stream",
     "text": [
      "Processing: truck 2:  58%|█████▊    | 539/932 [01:52<02:02,  3.20file/s]"
     ]
    },
    {
     "name": "stdout",
     "output_type": "stream",
     "text": [
      "Is Pickup Truck: no\n"
     ]
    },
    {
     "name": "stderr",
     "output_type": "stream",
     "text": [
      "Processing: truck 2:  58%|█████▊    | 540/932 [01:53<01:59,  3.27file/s]"
     ]
    },
    {
     "name": "stdout",
     "output_type": "stream",
     "text": [
      "Is Pickup Truck: no\n"
     ]
    },
    {
     "name": "stderr",
     "output_type": "stream",
     "text": [
      "Processing: truck 2:  58%|█████▊    | 541/932 [01:53<02:00,  3.25file/s]"
     ]
    },
    {
     "name": "stdout",
     "output_type": "stream",
     "text": [
      "Is Pickup Truck: no\n"
     ]
    },
    {
     "name": "stderr",
     "output_type": "stream",
     "text": [
      "Processing: truck 2:  58%|█████▊    | 542/932 [01:53<01:58,  3.28file/s]"
     ]
    },
    {
     "name": "stdout",
     "output_type": "stream",
     "text": [
      "Is Pickup Truck: no\n"
     ]
    },
    {
     "name": "stderr",
     "output_type": "stream",
     "text": [
      "Processing: bus 3:  58%|█████▊    | 544/932 [01:54<01:41,  3.83file/s]  "
     ]
    },
    {
     "name": "stdout",
     "output_type": "stream",
     "text": [
      "Is Pickup Truck: no\n"
     ]
    },
    {
     "name": "stderr",
     "output_type": "stream",
     "text": [
      "Processing: bus 3:  65%|██████▍   | 604/932 [02:04<00:45,  7.16file/s][codecarbon INFO @ 02:17:39] Energy consumed for RAM : 0.006292 kWh. RAM Power : 188.79906034469604 W\n",
      "[codecarbon INFO @ 02:17:39] Energy consumed for all CPUs : 0.003333 kWh. Total CPU Power : 100.0 W\n",
      "[codecarbon INFO @ 02:17:39] Energy consumed for all GPUs : 0.004252 kWh. Total GPU Power : 122.36118478355883 W\n",
      "[codecarbon INFO @ 02:17:39] 0.013876 kWh of electricity used since the beginning.\n",
      "[codecarbon INFO @ 02:17:39] 0.051997 g.CO2eq/s mean an estimation of 1,639.7817631273915 kg.CO2eq/year\n",
      "Processing: truck 3:  69%|██████▉   | 642/932 [02:10<00:57,  5.02file/s]"
     ]
    },
    {
     "name": "stdout",
     "output_type": "stream",
     "text": [
      "Is Pickup Truck: yes\n"
     ]
    },
    {
     "name": "stderr",
     "output_type": "stream",
     "text": [
      "Processing: truck 3:  69%|██████▉   | 643/932 [02:10<01:05,  4.40file/s]"
     ]
    },
    {
     "name": "stdout",
     "output_type": "stream",
     "text": [
      "Is Pickup Truck: no\n"
     ]
    },
    {
     "name": "stderr",
     "output_type": "stream",
     "text": [
      "Processing: truck 3:  69%|██████▉   | 644/932 [02:11<01:10,  4.06file/s]"
     ]
    },
    {
     "name": "stdout",
     "output_type": "stream",
     "text": [
      "Is Pickup Truck: no\n"
     ]
    },
    {
     "name": "stderr",
     "output_type": "stream",
     "text": [
      "Processing: truck 3:  69%|██████▉   | 645/932 [02:11<01:15,  3.82file/s]"
     ]
    },
    {
     "name": "stdout",
     "output_type": "stream",
     "text": [
      "Is Pickup Truck: no\n"
     ]
    },
    {
     "name": "stderr",
     "output_type": "stream",
     "text": [
      "Processing: truck 3:  69%|██████▉   | 646/932 [02:11<01:17,  3.69file/s]"
     ]
    },
    {
     "name": "stdout",
     "output_type": "stream",
     "text": [
      "Is Pickup Truck: no\n"
     ]
    },
    {
     "name": "stderr",
     "output_type": "stream",
     "text": [
      "Processing: truck 3:  69%|██████▉   | 647/932 [02:11<01:19,  3.59file/s]"
     ]
    },
    {
     "name": "stdout",
     "output_type": "stream",
     "text": [
      "Is Pickup Truck: no\n"
     ]
    },
    {
     "name": "stderr",
     "output_type": "stream",
     "text": [
      "Processing: truck 3:  70%|██████▉   | 648/932 [02:12<01:20,  3.54file/s]"
     ]
    },
    {
     "name": "stdout",
     "output_type": "stream",
     "text": [
      "Is Pickup Truck: no\n"
     ]
    },
    {
     "name": "stderr",
     "output_type": "stream",
     "text": [
      "Processing: truck 3:  70%|██████▉   | 649/932 [02:12<01:21,  3.49file/s]"
     ]
    },
    {
     "name": "stdout",
     "output_type": "stream",
     "text": [
      "Is Pickup Truck: no\n"
     ]
    },
    {
     "name": "stderr",
     "output_type": "stream",
     "text": [
      "Processing: truck 3:  70%|██████▉   | 650/932 [02:12<01:21,  3.47file/s]"
     ]
    },
    {
     "name": "stdout",
     "output_type": "stream",
     "text": [
      "Is Pickup Truck: no\n"
     ]
    },
    {
     "name": "stderr",
     "output_type": "stream",
     "text": [
      "Processing: truck 3:  70%|██████▉   | 651/932 [02:13<01:21,  3.44file/s]"
     ]
    },
    {
     "name": "stdout",
     "output_type": "stream",
     "text": [
      "Is Pickup Truck: no\n"
     ]
    },
    {
     "name": "stderr",
     "output_type": "stream",
     "text": [
      "Processing: truck 3:  70%|██████▉   | 652/932 [02:13<01:22,  3.41file/s]"
     ]
    },
    {
     "name": "stdout",
     "output_type": "stream",
     "text": [
      "Is Pickup Truck: no\n"
     ]
    },
    {
     "name": "stderr",
     "output_type": "stream",
     "text": [
      "Processing: truck 3:  70%|███████   | 653/932 [02:13<01:21,  3.43file/s]"
     ]
    },
    {
     "name": "stdout",
     "output_type": "stream",
     "text": [
      "Is Pickup Truck: no\n"
     ]
    },
    {
     "name": "stderr",
     "output_type": "stream",
     "text": [
      "Processing: truck 3:  70%|███████   | 654/932 [02:14<01:22,  3.39file/s]"
     ]
    },
    {
     "name": "stdout",
     "output_type": "stream",
     "text": [
      "Is Pickup Truck: no\n"
     ]
    },
    {
     "name": "stderr",
     "output_type": "stream",
     "text": [
      "Processing: truck 3:  70%|███████   | 655/932 [02:14<01:22,  3.38file/s]"
     ]
    },
    {
     "name": "stdout",
     "output_type": "stream",
     "text": [
      "Is Pickup Truck: no\n"
     ]
    },
    {
     "name": "stderr",
     "output_type": "stream",
     "text": [
      "Processing: truck 3:  70%|███████   | 656/932 [02:14<01:21,  3.39file/s]"
     ]
    },
    {
     "name": "stdout",
     "output_type": "stream",
     "text": [
      "Is Pickup Truck: no\n"
     ]
    },
    {
     "name": "stderr",
     "output_type": "stream",
     "text": [
      "Processing: truck 3:  70%|███████   | 657/932 [02:14<01:20,  3.41file/s]"
     ]
    },
    {
     "name": "stdout",
     "output_type": "stream",
     "text": [
      "Is Pickup Truck: no\n"
     ]
    },
    {
     "name": "stderr",
     "output_type": "stream",
     "text": [
      "Processing: truck 3:  71%|███████   | 658/932 [02:15<01:19,  3.44file/s]"
     ]
    },
    {
     "name": "stdout",
     "output_type": "stream",
     "text": [
      "Is Pickup Truck: no\n"
     ]
    },
    {
     "name": "stderr",
     "output_type": "stream",
     "text": [
      "Processing: truck 3:  71%|███████   | 659/932 [02:15<01:19,  3.45file/s]"
     ]
    },
    {
     "name": "stdout",
     "output_type": "stream",
     "text": [
      "Is Pickup Truck: no\n"
     ]
    },
    {
     "name": "stderr",
     "output_type": "stream",
     "text": [
      "Processing: truck 3:  71%|███████   | 660/932 [02:15<01:18,  3.46file/s]"
     ]
    },
    {
     "name": "stdout",
     "output_type": "stream",
     "text": [
      "Is Pickup Truck: no\n"
     ]
    },
    {
     "name": "stderr",
     "output_type": "stream",
     "text": [
      "Processing: truck 3:  71%|███████   | 661/932 [02:16<01:19,  3.42file/s]"
     ]
    },
    {
     "name": "stdout",
     "output_type": "stream",
     "text": [
      "Is Pickup Truck: no\n"
     ]
    },
    {
     "name": "stderr",
     "output_type": "stream",
     "text": [
      "Processing: truck 3:  71%|███████   | 662/932 [02:16<01:19,  3.41file/s]"
     ]
    },
    {
     "name": "stdout",
     "output_type": "stream",
     "text": [
      "Is Pickup Truck: no\n"
     ]
    },
    {
     "name": "stderr",
     "output_type": "stream",
     "text": [
      "Processing: truck 3:  71%|███████   | 663/932 [02:16<01:19,  3.39file/s]"
     ]
    },
    {
     "name": "stdout",
     "output_type": "stream",
     "text": [
      "Is Pickup Truck: no\n"
     ]
    },
    {
     "name": "stderr",
     "output_type": "stream",
     "text": [
      "Processing: truck 3:  71%|███████   | 664/932 [02:16<01:19,  3.36file/s]"
     ]
    },
    {
     "name": "stdout",
     "output_type": "stream",
     "text": [
      "Is Pickup Truck: no\n"
     ]
    },
    {
     "name": "stderr",
     "output_type": "stream",
     "text": [
      "Processing: truck 3:  71%|███████▏  | 665/932 [02:17<01:19,  3.36file/s]"
     ]
    },
    {
     "name": "stdout",
     "output_type": "stream",
     "text": [
      "Is Pickup Truck: no\n"
     ]
    },
    {
     "name": "stderr",
     "output_type": "stream",
     "text": [
      "Processing: truck 3:  71%|███████▏  | 666/932 [02:17<01:18,  3.39file/s]"
     ]
    },
    {
     "name": "stdout",
     "output_type": "stream",
     "text": [
      "Is Pickup Truck: no\n"
     ]
    },
    {
     "name": "stderr",
     "output_type": "stream",
     "text": [
      "Processing: truck 3:  72%|███████▏  | 667/932 [02:17<01:18,  3.37file/s]"
     ]
    },
    {
     "name": "stdout",
     "output_type": "stream",
     "text": [
      "Is Pickup Truck: no\n"
     ]
    },
    {
     "name": "stderr",
     "output_type": "stream",
     "text": [
      "Processing: truck 3:  72%|███████▏  | 668/932 [02:18<01:18,  3.37file/s]"
     ]
    },
    {
     "name": "stdout",
     "output_type": "stream",
     "text": [
      "Is Pickup Truck: no\n"
     ]
    },
    {
     "name": "stderr",
     "output_type": "stream",
     "text": [
      "Processing: truck 3:  72%|███████▏  | 669/932 [02:18<01:18,  3.36file/s]"
     ]
    },
    {
     "name": "stdout",
     "output_type": "stream",
     "text": [
      "Is Pickup Truck: no\n"
     ]
    },
    {
     "name": "stderr",
     "output_type": "stream",
     "text": [
      "Processing: truck 3:  72%|███████▏  | 670/932 [02:18<01:17,  3.36file/s]"
     ]
    },
    {
     "name": "stdout",
     "output_type": "stream",
     "text": [
      "Is Pickup Truck: no\n"
     ]
    },
    {
     "name": "stderr",
     "output_type": "stream",
     "text": [
      "Processing: truck 3:  72%|███████▏  | 671/932 [02:19<01:17,  3.36file/s]"
     ]
    },
    {
     "name": "stdout",
     "output_type": "stream",
     "text": [
      "Is Pickup Truck: yes\n"
     ]
    },
    {
     "name": "stderr",
     "output_type": "stream",
     "text": [
      "Processing: truck 3:  72%|███████▏  | 672/932 [02:19<01:16,  3.39file/s][codecarbon INFO @ 02:17:54] Energy consumed for RAM : 0.007078 kWh. RAM Power : 188.79906034469604 W\n",
      "[codecarbon INFO @ 02:17:54] Energy consumed for all CPUs : 0.003749 kWh. Total CPU Power : 100.0 W\n",
      "[codecarbon INFO @ 02:17:54] Energy consumed for all GPUs : 0.004779 kWh. Total GPU Power : 126.4970399434833 W\n",
      "[codecarbon INFO @ 02:17:54] 0.015606 kWh of electricity used since the beginning.\n"
     ]
    },
    {
     "name": "stdout",
     "output_type": "stream",
     "text": [
      "Is Pickup Truck: no\n"
     ]
    },
    {
     "name": "stderr",
     "output_type": "stream",
     "text": [
      "Processing: truck 3:  72%|███████▏  | 673/932 [02:19<01:15,  3.41file/s]"
     ]
    },
    {
     "name": "stdout",
     "output_type": "stream",
     "text": [
      "Is Pickup Truck: no\n"
     ]
    },
    {
     "name": "stderr",
     "output_type": "stream",
     "text": [
      "Processing: truck 3:  72%|███████▏  | 674/932 [02:19<01:15,  3.43file/s]"
     ]
    },
    {
     "name": "stdout",
     "output_type": "stream",
     "text": [
      "Is Pickup Truck: yes\n"
     ]
    },
    {
     "name": "stderr",
     "output_type": "stream",
     "text": [
      "Processing: truck 3:  72%|███████▏  | 675/932 [02:20<01:15,  3.40file/s]"
     ]
    },
    {
     "name": "stdout",
     "output_type": "stream",
     "text": [
      "Is Pickup Truck: no\n"
     ]
    },
    {
     "name": "stderr",
     "output_type": "stream",
     "text": [
      "Processing: truck 3:  73%|███████▎  | 676/932 [02:20<01:14,  3.42file/s]"
     ]
    },
    {
     "name": "stdout",
     "output_type": "stream",
     "text": [
      "Is Pickup Truck: no\n"
     ]
    },
    {
     "name": "stderr",
     "output_type": "stream",
     "text": [
      "Processing: truck 3:  73%|███████▎  | 677/932 [02:20<01:15,  3.40file/s]"
     ]
    },
    {
     "name": "stdout",
     "output_type": "stream",
     "text": [
      "Is Pickup Truck: no\n"
     ]
    },
    {
     "name": "stderr",
     "output_type": "stream",
     "text": [
      "Processing: truck 3:  73%|███████▎  | 678/932 [02:21<01:15,  3.38file/s]"
     ]
    },
    {
     "name": "stdout",
     "output_type": "stream",
     "text": [
      "Is Pickup Truck: no\n"
     ]
    },
    {
     "name": "stderr",
     "output_type": "stream",
     "text": [
      "Processing: truck 3:  73%|███████▎  | 679/932 [02:21<01:15,  3.37file/s]"
     ]
    },
    {
     "name": "stdout",
     "output_type": "stream",
     "text": [
      "Is Pickup Truck: no\n"
     ]
    },
    {
     "name": "stderr",
     "output_type": "stream",
     "text": [
      "Processing: truck 3:  73%|███████▎  | 680/932 [02:21<01:15,  3.32file/s]"
     ]
    },
    {
     "name": "stdout",
     "output_type": "stream",
     "text": [
      "Is Pickup Truck: no\n"
     ]
    },
    {
     "name": "stderr",
     "output_type": "stream",
     "text": [
      "Processing: truck 3:  73%|███████▎  | 681/932 [02:22<01:16,  3.29file/s]"
     ]
    },
    {
     "name": "stdout",
     "output_type": "stream",
     "text": [
      "Is Pickup Truck: no\n"
     ]
    },
    {
     "name": "stderr",
     "output_type": "stream",
     "text": [
      "Processing: truck 3:  73%|███████▎  | 682/932 [02:22<01:15,  3.30file/s]"
     ]
    },
    {
     "name": "stdout",
     "output_type": "stream",
     "text": [
      "Is Pickup Truck: no\n"
     ]
    },
    {
     "name": "stderr",
     "output_type": "stream",
     "text": [
      "Processing: truck 3:  73%|███████▎  | 683/932 [02:22<01:14,  3.32file/s]"
     ]
    },
    {
     "name": "stdout",
     "output_type": "stream",
     "text": [
      "Is Pickup Truck: no\n"
     ]
    },
    {
     "name": "stderr",
     "output_type": "stream",
     "text": [
      "Processing: truck 3:  73%|███████▎  | 684/932 [02:22<01:13,  3.36file/s]"
     ]
    },
    {
     "name": "stdout",
     "output_type": "stream",
     "text": [
      "Is Pickup Truck: no\n"
     ]
    },
    {
     "name": "stderr",
     "output_type": "stream",
     "text": [
      "Processing: truck 3:  73%|███████▎  | 685/932 [02:23<01:13,  3.35file/s]"
     ]
    },
    {
     "name": "stdout",
     "output_type": "stream",
     "text": [
      "Is Pickup Truck: no\n"
     ]
    },
    {
     "name": "stderr",
     "output_type": "stream",
     "text": [
      "Processing: truck 3:  74%|███████▎  | 686/932 [02:23<01:13,  3.36file/s]"
     ]
    },
    {
     "name": "stdout",
     "output_type": "stream",
     "text": [
      "Is Pickup Truck: no\n"
     ]
    },
    {
     "name": "stderr",
     "output_type": "stream",
     "text": [
      "Processing: truck 3:  74%|███████▎  | 687/932 [02:23<01:12,  3.36file/s]"
     ]
    },
    {
     "name": "stdout",
     "output_type": "stream",
     "text": [
      "Is Pickup Truck: no\n"
     ]
    },
    {
     "name": "stderr",
     "output_type": "stream",
     "text": [
      "Processing: truck 3:  74%|███████▍  | 688/932 [02:24<01:12,  3.37file/s]"
     ]
    },
    {
     "name": "stdout",
     "output_type": "stream",
     "text": [
      "Is Pickup Truck: no\n"
     ]
    },
    {
     "name": "stderr",
     "output_type": "stream",
     "text": [
      "Processing: truck 3:  74%|███████▍  | 689/932 [02:24<01:12,  3.37file/s]"
     ]
    },
    {
     "name": "stdout",
     "output_type": "stream",
     "text": [
      "Is Pickup Truck: no\n"
     ]
    },
    {
     "name": "stderr",
     "output_type": "stream",
     "text": [
      "Processing: truck 3:  74%|███████▍  | 690/932 [02:24<01:11,  3.37file/s]"
     ]
    },
    {
     "name": "stdout",
     "output_type": "stream",
     "text": [
      "Is Pickup Truck: no\n"
     ]
    },
    {
     "name": "stderr",
     "output_type": "stream",
     "text": [
      "Processing: truck 3:  74%|███████▍  | 691/932 [02:24<01:11,  3.37file/s]"
     ]
    },
    {
     "name": "stdout",
     "output_type": "stream",
     "text": [
      "Is Pickup Truck: no\n"
     ]
    },
    {
     "name": "stderr",
     "output_type": "stream",
     "text": [
      "Processing: truck 3:  74%|███████▍  | 692/932 [02:25<01:11,  3.34file/s]"
     ]
    },
    {
     "name": "stdout",
     "output_type": "stream",
     "text": [
      "Is Pickup Truck: yes\n"
     ]
    },
    {
     "name": "stderr",
     "output_type": "stream",
     "text": [
      "Processing: truck 3:  74%|███████▍  | 693/932 [02:25<01:11,  3.35file/s]"
     ]
    },
    {
     "name": "stdout",
     "output_type": "stream",
     "text": [
      "Is Pickup Truck: yes\n"
     ]
    },
    {
     "name": "stderr",
     "output_type": "stream",
     "text": [
      "Processing: truck 3:  74%|███████▍  | 694/932 [02:25<01:11,  3.34file/s]"
     ]
    },
    {
     "name": "stdout",
     "output_type": "stream",
     "text": [
      "Is Pickup Truck: no\n"
     ]
    },
    {
     "name": "stderr",
     "output_type": "stream",
     "text": [
      "Processing: truck 3:  75%|███████▍  | 695/932 [02:26<01:10,  3.38file/s]"
     ]
    },
    {
     "name": "stdout",
     "output_type": "stream",
     "text": [
      "Is Pickup Truck: no\n"
     ]
    },
    {
     "name": "stderr",
     "output_type": "stream",
     "text": [
      "Processing: truck 3:  75%|███████▍  | 696/932 [02:26<01:09,  3.42file/s]"
     ]
    },
    {
     "name": "stdout",
     "output_type": "stream",
     "text": [
      "Is Pickup Truck: no\n"
     ]
    },
    {
     "name": "stderr",
     "output_type": "stream",
     "text": [
      "Processing: truck 3:  75%|███████▍  | 697/932 [02:26<01:09,  3.39file/s]"
     ]
    },
    {
     "name": "stdout",
     "output_type": "stream",
     "text": [
      "Is Pickup Truck: no\n"
     ]
    },
    {
     "name": "stderr",
     "output_type": "stream",
     "text": [
      "Processing: truck 3:  75%|███████▍  | 698/932 [02:27<01:09,  3.35file/s]"
     ]
    },
    {
     "name": "stdout",
     "output_type": "stream",
     "text": [
      "Is Pickup Truck: no\n"
     ]
    },
    {
     "name": "stderr",
     "output_type": "stream",
     "text": [
      "Processing: truck 3:  75%|███████▌  | 699/932 [02:27<01:09,  3.33file/s]"
     ]
    },
    {
     "name": "stdout",
     "output_type": "stream",
     "text": [
      "Is Pickup Truck: no\n"
     ]
    },
    {
     "name": "stderr",
     "output_type": "stream",
     "text": [
      "Processing: truck 3:  75%|███████▌  | 700/932 [02:27<01:09,  3.34file/s]"
     ]
    },
    {
     "name": "stdout",
     "output_type": "stream",
     "text": [
      "Is Pickup Truck: yes\n"
     ]
    },
    {
     "name": "stderr",
     "output_type": "stream",
     "text": [
      "Processing: truck 3:  75%|███████▌  | 701/932 [02:27<01:08,  3.36file/s]"
     ]
    },
    {
     "name": "stdout",
     "output_type": "stream",
     "text": [
      "Is Pickup Truck: no\n"
     ]
    },
    {
     "name": "stderr",
     "output_type": "stream",
     "text": [
      "Processing: truck 3:  75%|███████▌  | 702/932 [02:28<01:07,  3.38file/s]"
     ]
    },
    {
     "name": "stdout",
     "output_type": "stream",
     "text": [
      "Is Pickup Truck: no\n"
     ]
    },
    {
     "name": "stderr",
     "output_type": "stream",
     "text": [
      "Processing: truck 3:  75%|███████▌  | 703/932 [02:28<01:07,  3.38file/s]"
     ]
    },
    {
     "name": "stdout",
     "output_type": "stream",
     "text": [
      "Is Pickup Truck: no\n"
     ]
    },
    {
     "name": "stderr",
     "output_type": "stream",
     "text": [
      "Processing: truck 3:  76%|███████▌  | 704/932 [02:28<01:07,  3.40file/s]"
     ]
    },
    {
     "name": "stdout",
     "output_type": "stream",
     "text": [
      "Is Pickup Truck: no\n"
     ]
    },
    {
     "name": "stderr",
     "output_type": "stream",
     "text": [
      "Processing: truck 3:  76%|███████▌  | 705/932 [02:29<01:06,  3.43file/s]"
     ]
    },
    {
     "name": "stdout",
     "output_type": "stream",
     "text": [
      "Is Pickup Truck: no\n"
     ]
    },
    {
     "name": "stderr",
     "output_type": "stream",
     "text": [
      "Processing: truck 3:  76%|███████▌  | 706/932 [02:29<01:05,  3.44file/s]"
     ]
    },
    {
     "name": "stdout",
     "output_type": "stream",
     "text": [
      "Is Pickup Truck: no\n"
     ]
    },
    {
     "name": "stderr",
     "output_type": "stream",
     "text": [
      "Processing: truck 3:  76%|███████▌  | 707/932 [02:29<01:05,  3.44file/s]"
     ]
    },
    {
     "name": "stdout",
     "output_type": "stream",
     "text": [
      "Is Pickup Truck: no\n"
     ]
    },
    {
     "name": "stderr",
     "output_type": "stream",
     "text": [
      "Processing: truck 3:  76%|███████▌  | 708/932 [02:29<01:05,  3.41file/s]"
     ]
    },
    {
     "name": "stdout",
     "output_type": "stream",
     "text": [
      "Is Pickup Truck: no\n"
     ]
    },
    {
     "name": "stderr",
     "output_type": "stream",
     "text": [
      "Processing: truck 3:  76%|███████▌  | 709/932 [02:30<01:05,  3.41file/s]"
     ]
    },
    {
     "name": "stdout",
     "output_type": "stream",
     "text": [
      "Is Pickup Truck: no\n"
     ]
    },
    {
     "name": "stderr",
     "output_type": "stream",
     "text": [
      "Processing: truck 3:  76%|███████▌  | 710/932 [02:30<01:05,  3.37file/s]"
     ]
    },
    {
     "name": "stdout",
     "output_type": "stream",
     "text": [
      "Is Pickup Truck: no\n"
     ]
    },
    {
     "name": "stderr",
     "output_type": "stream",
     "text": [
      "Processing: truck 3:  76%|███████▋  | 711/932 [02:30<01:05,  3.37file/s]"
     ]
    },
    {
     "name": "stdout",
     "output_type": "stream",
     "text": [
      "Is Pickup Truck: no\n"
     ]
    },
    {
     "name": "stderr",
     "output_type": "stream",
     "text": [
      "Processing: truck 3:  76%|███████▋  | 712/932 [02:31<01:05,  3.38file/s]"
     ]
    },
    {
     "name": "stdout",
     "output_type": "stream",
     "text": [
      "Is Pickup Truck: no\n"
     ]
    },
    {
     "name": "stderr",
     "output_type": "stream",
     "text": [
      "Processing: truck 3:  77%|███████▋  | 713/932 [02:31<01:04,  3.40file/s]"
     ]
    },
    {
     "name": "stdout",
     "output_type": "stream",
     "text": [
      "Is Pickup Truck: no\n"
     ]
    },
    {
     "name": "stderr",
     "output_type": "stream",
     "text": [
      "Processing: truck 3:  77%|███████▋  | 714/932 [02:31<01:03,  3.43file/s]"
     ]
    },
    {
     "name": "stdout",
     "output_type": "stream",
     "text": [
      "Is Pickup Truck: no\n"
     ]
    },
    {
     "name": "stderr",
     "output_type": "stream",
     "text": [
      "Processing: truck 3:  77%|███████▋  | 715/932 [02:32<01:02,  3.45file/s]"
     ]
    },
    {
     "name": "stdout",
     "output_type": "stream",
     "text": [
      "Is Pickup Truck: no\n"
     ]
    },
    {
     "name": "stderr",
     "output_type": "stream",
     "text": [
      "Processing: truck 3:  77%|███████▋  | 716/932 [02:32<01:02,  3.47file/s]"
     ]
    },
    {
     "name": "stdout",
     "output_type": "stream",
     "text": [
      "Is Pickup Truck: no\n"
     ]
    },
    {
     "name": "stderr",
     "output_type": "stream",
     "text": [
      "Processing: truck 3:  77%|███████▋  | 717/932 [02:32<01:01,  3.48file/s]"
     ]
    },
    {
     "name": "stdout",
     "output_type": "stream",
     "text": [
      "Is Pickup Truck: no\n"
     ]
    },
    {
     "name": "stderr",
     "output_type": "stream",
     "text": [
      "Processing: truck 3:  77%|███████▋  | 718/932 [02:32<01:01,  3.48file/s]"
     ]
    },
    {
     "name": "stdout",
     "output_type": "stream",
     "text": [
      "Is Pickup Truck: no\n"
     ]
    },
    {
     "name": "stderr",
     "output_type": "stream",
     "text": [
      "Processing: truck 3:  77%|███████▋  | 719/932 [02:33<01:01,  3.49file/s]"
     ]
    },
    {
     "name": "stdout",
     "output_type": "stream",
     "text": [
      "Is Pickup Truck: no\n"
     ]
    },
    {
     "name": "stderr",
     "output_type": "stream",
     "text": [
      "Processing: truck 3:  77%|███████▋  | 720/932 [02:33<01:01,  3.47file/s]"
     ]
    },
    {
     "name": "stdout",
     "output_type": "stream",
     "text": [
      "Is Pickup Truck: no\n"
     ]
    },
    {
     "name": "stderr",
     "output_type": "stream",
     "text": [
      "Processing: truck 3:  77%|███████▋  | 721/932 [02:33<01:01,  3.42file/s]"
     ]
    },
    {
     "name": "stdout",
     "output_type": "stream",
     "text": [
      "Is Pickup Truck: no\n"
     ]
    },
    {
     "name": "stderr",
     "output_type": "stream",
     "text": [
      "Processing: truck 3:  77%|███████▋  | 722/932 [02:34<01:01,  3.41file/s]"
     ]
    },
    {
     "name": "stdout",
     "output_type": "stream",
     "text": [
      "Is Pickup Truck: no\n"
     ]
    },
    {
     "name": "stderr",
     "output_type": "stream",
     "text": [
      "[codecarbon INFO @ 02:18:09] Energy consumed for RAM : 0.007864 kWh. RAM Power : 188.79906034469604 W\n",
      "[codecarbon INFO @ 02:18:09] Energy consumed for all CPUs : 0.004166 kWh. Total CPU Power : 100.0 W\n",
      "[codecarbon INFO @ 02:18:09] Energy consumed for all GPUs : 0.005316 kWh. Total GPU Power : 129.12019352076342 W\n",
      "[codecarbon INFO @ 02:18:09] 0.017347 kWh of electricity used since the beginning.\n",
      "Processing: truck 3:  78%|███████▊  | 723/932 [02:34<01:01,  3.38file/s]"
     ]
    },
    {
     "name": "stdout",
     "output_type": "stream",
     "text": [
      "Is Pickup Truck: no\n"
     ]
    },
    {
     "name": "stderr",
     "output_type": "stream",
     "text": [
      "Processing: truck 3:  78%|███████▊  | 724/932 [02:34<01:01,  3.37file/s]"
     ]
    },
    {
     "name": "stdout",
     "output_type": "stream",
     "text": [
      "Is Pickup Truck: no\n"
     ]
    },
    {
     "name": "stderr",
     "output_type": "stream",
     "text": [
      "Processing: truck 3:  78%|███████▊  | 725/932 [02:34<01:01,  3.36file/s]"
     ]
    },
    {
     "name": "stdout",
     "output_type": "stream",
     "text": [
      "Is Pickup Truck: no\n"
     ]
    },
    {
     "name": "stderr",
     "output_type": "stream",
     "text": [
      "Processing: truck 3:  78%|███████▊  | 726/932 [02:35<01:00,  3.38file/s]"
     ]
    },
    {
     "name": "stdout",
     "output_type": "stream",
     "text": [
      "Is Pickup Truck: no\n"
     ]
    },
    {
     "name": "stderr",
     "output_type": "stream",
     "text": [
      "Processing: truck 3:  78%|███████▊  | 727/932 [02:35<01:00,  3.40file/s]"
     ]
    },
    {
     "name": "stdout",
     "output_type": "stream",
     "text": [
      "Is Pickup Truck: no\n"
     ]
    },
    {
     "name": "stderr",
     "output_type": "stream",
     "text": [
      "Processing: truck 3:  78%|███████▊  | 728/932 [02:35<00:59,  3.41file/s]"
     ]
    },
    {
     "name": "stdout",
     "output_type": "stream",
     "text": [
      "Is Pickup Truck: no\n"
     ]
    },
    {
     "name": "stderr",
     "output_type": "stream",
     "text": [
      "Processing: truck 3:  78%|███████▊  | 729/932 [02:36<00:59,  3.42file/s]"
     ]
    },
    {
     "name": "stdout",
     "output_type": "stream",
     "text": [
      "Is Pickup Truck: no\n"
     ]
    },
    {
     "name": "stderr",
     "output_type": "stream",
     "text": [
      "Processing: truck 3:  78%|███████▊  | 730/932 [02:36<00:59,  3.40file/s]"
     ]
    },
    {
     "name": "stdout",
     "output_type": "stream",
     "text": [
      "Is Pickup Truck: no\n"
     ]
    },
    {
     "name": "stderr",
     "output_type": "stream",
     "text": [
      "Processing: truck 3:  78%|███████▊  | 731/932 [02:36<00:59,  3.39file/s]"
     ]
    },
    {
     "name": "stdout",
     "output_type": "stream",
     "text": [
      "Is Pickup Truck: no\n"
     ]
    },
    {
     "name": "stderr",
     "output_type": "stream",
     "text": [
      "Processing: truck 3:  79%|███████▊  | 732/932 [02:37<01:16,  2.60file/s]"
     ]
    },
    {
     "name": "stdout",
     "output_type": "stream",
     "text": [
      "Is Pickup Truck: no\n"
     ]
    },
    {
     "name": "stderr",
     "output_type": "stream",
     "text": [
      "Processing: truck 3:  79%|███████▊  | 733/932 [02:37<01:10,  2.81file/s]"
     ]
    },
    {
     "name": "stdout",
     "output_type": "stream",
     "text": [
      "Is Pickup Truck: no\n"
     ]
    },
    {
     "name": "stderr",
     "output_type": "stream",
     "text": [
      "Processing: truck 3:  79%|███████▉  | 734/932 [02:37<01:06,  2.98file/s]"
     ]
    },
    {
     "name": "stdout",
     "output_type": "stream",
     "text": [
      "Is Pickup Truck: no\n"
     ]
    },
    {
     "name": "stderr",
     "output_type": "stream",
     "text": [
      "Processing: truck 3:  79%|███████▉  | 735/932 [02:38<01:03,  3.12file/s]"
     ]
    },
    {
     "name": "stdout",
     "output_type": "stream",
     "text": [
      "Is Pickup Truck: no\n"
     ]
    },
    {
     "name": "stderr",
     "output_type": "stream",
     "text": [
      "Processing: truck 3:  79%|███████▉  | 736/932 [02:38<01:01,  3.18file/s]"
     ]
    },
    {
     "name": "stdout",
     "output_type": "stream",
     "text": [
      "Is Pickup Truck: no\n"
     ]
    },
    {
     "name": "stderr",
     "output_type": "stream",
     "text": [
      "Processing: truck 3:  79%|███████▉  | 737/932 [02:38<01:00,  3.20file/s]"
     ]
    },
    {
     "name": "stdout",
     "output_type": "stream",
     "text": [
      "Is Pickup Truck: no\n"
     ]
    },
    {
     "name": "stderr",
     "output_type": "stream",
     "text": [
      "Processing: truck 3:  79%|███████▉  | 738/932 [02:39<01:00,  3.20file/s]"
     ]
    },
    {
     "name": "stdout",
     "output_type": "stream",
     "text": [
      "Is Pickup Truck: yes\n"
     ]
    },
    {
     "name": "stderr",
     "output_type": "stream",
     "text": [
      "Processing: truck 3:  79%|███████▉  | 739/932 [02:39<00:59,  3.24file/s]"
     ]
    },
    {
     "name": "stdout",
     "output_type": "stream",
     "text": [
      "Is Pickup Truck: no\n"
     ]
    },
    {
     "name": "stderr",
     "output_type": "stream",
     "text": [
      "Processing: truck 3:  79%|███████▉  | 740/932 [02:39<00:58,  3.31file/s]"
     ]
    },
    {
     "name": "stdout",
     "output_type": "stream",
     "text": [
      "Is Pickup Truck: no\n"
     ]
    },
    {
     "name": "stderr",
     "output_type": "stream",
     "text": [
      "Processing: truck 4:  80%|███████▉  | 742/932 [02:40<00:48,  3.90file/s]"
     ]
    },
    {
     "name": "stdout",
     "output_type": "stream",
     "text": [
      "Is Pickup Truck: no\n"
     ]
    },
    {
     "name": "stderr",
     "output_type": "stream",
     "text": [
      "Processing: truck 4:  80%|████████  | 747/932 [02:41<00:36,  5.07file/s]"
     ]
    },
    {
     "name": "stdout",
     "output_type": "stream",
     "text": [
      "Is Pickup Truck: no\n"
     ]
    },
    {
     "name": "stderr",
     "output_type": "stream",
     "text": [
      "Processing: truck 4:  81%|████████  | 752/932 [02:41<00:33,  5.32file/s]"
     ]
    },
    {
     "name": "stdout",
     "output_type": "stream",
     "text": [
      "Is Pickup Truck: no\n"
     ]
    },
    {
     "name": "stderr",
     "output_type": "stream",
     "text": [
      "Processing: truck 4:  81%|████████  | 753/932 [02:42<00:41,  4.34file/s]"
     ]
    },
    {
     "name": "stdout",
     "output_type": "stream",
     "text": [
      "Is Pickup Truck: no\n"
     ]
    },
    {
     "name": "stderr",
     "output_type": "stream",
     "text": [
      "Processing: truck 4:  81%|████████  | 754/932 [02:42<00:44,  4.04file/s]"
     ]
    },
    {
     "name": "stdout",
     "output_type": "stream",
     "text": [
      "Is Pickup Truck: no\n"
     ]
    },
    {
     "name": "stderr",
     "output_type": "stream",
     "text": [
      "Processing: truck 4:  81%|████████  | 755/932 [02:42<00:49,  3.56file/s]"
     ]
    },
    {
     "name": "stdout",
     "output_type": "stream",
     "text": [
      "Is Pickup Truck: no\n"
     ]
    },
    {
     "name": "stderr",
     "output_type": "stream",
     "text": [
      "Processing: truck 4:  81%|████████  | 756/932 [02:43<00:50,  3.51file/s]"
     ]
    },
    {
     "name": "stdout",
     "output_type": "stream",
     "text": [
      "Is Pickup Truck: no\n"
     ]
    },
    {
     "name": "stderr",
     "output_type": "stream",
     "text": [
      "Processing: truck 4:  81%|████████  | 757/932 [02:43<00:49,  3.51file/s]"
     ]
    },
    {
     "name": "stdout",
     "output_type": "stream",
     "text": [
      "Is Pickup Truck: no\n"
     ]
    },
    {
     "name": "stderr",
     "output_type": "stream",
     "text": [
      "Processing: truck 4:  81%|████████▏ | 759/932 [02:43<00:44,  3.87file/s]"
     ]
    },
    {
     "name": "stdout",
     "output_type": "stream",
     "text": [
      "Is Pickup Truck: no\n"
     ]
    },
    {
     "name": "stderr",
     "output_type": "stream",
     "text": [
      "Processing: truck 4:  82%|████████▏ | 761/932 [02:44<00:42,  4.00file/s]"
     ]
    },
    {
     "name": "stdout",
     "output_type": "stream",
     "text": [
      "Is Pickup Truck: no\n"
     ]
    },
    {
     "name": "stderr",
     "output_type": "stream",
     "text": [
      "Processing: truck 4:  82%|████████▏ | 762/932 [02:44<00:44,  3.79file/s]"
     ]
    },
    {
     "name": "stdout",
     "output_type": "stream",
     "text": [
      "Is Pickup Truck: no\n"
     ]
    },
    {
     "name": "stderr",
     "output_type": "stream",
     "text": [
      "Processing: truck 4:  82%|████████▏ | 764/932 [02:45<00:45,  3.67file/s]"
     ]
    },
    {
     "name": "stdout",
     "output_type": "stream",
     "text": [
      "Is Pickup Truck: no\n"
     ]
    },
    {
     "name": "stderr",
     "output_type": "stream",
     "text": [
      "Processing: truck 4:  82%|████████▏ | 766/932 [02:45<00:40,  4.11file/s]"
     ]
    },
    {
     "name": "stdout",
     "output_type": "stream",
     "text": [
      "Is Pickup Truck: no\n"
     ]
    },
    {
     "name": "stderr",
     "output_type": "stream",
     "text": [
      "Processing: truck 4:  83%|████████▎ | 769/932 [02:46<00:35,  4.62file/s]"
     ]
    },
    {
     "name": "stdout",
     "output_type": "stream",
     "text": [
      "Is Pickup Truck: no\n"
     ]
    },
    {
     "name": "stderr",
     "output_type": "stream",
     "text": [
      "Processing: truck 4:  83%|████████▎ | 771/932 [02:46<00:36,  4.36file/s]"
     ]
    },
    {
     "name": "stdout",
     "output_type": "stream",
     "text": [
      "Is Pickup Truck: no\n"
     ]
    },
    {
     "name": "stderr",
     "output_type": "stream",
     "text": [
      "Processing: truck 4:  83%|████████▎ | 772/932 [02:47<00:42,  3.73file/s]"
     ]
    },
    {
     "name": "stdout",
     "output_type": "stream",
     "text": [
      "Is Pickup Truck: no\n"
     ]
    },
    {
     "name": "stderr",
     "output_type": "stream",
     "text": [
      "Processing: truck 4:  83%|████████▎ | 773/932 [02:47<00:45,  3.50file/s]"
     ]
    },
    {
     "name": "stdout",
     "output_type": "stream",
     "text": [
      "Is Pickup Truck: no\n"
     ]
    },
    {
     "name": "stderr",
     "output_type": "stream",
     "text": [
      "Processing: truck 4:  83%|████████▎ | 775/932 [02:47<00:38,  4.04file/s]"
     ]
    },
    {
     "name": "stdout",
     "output_type": "stream",
     "text": [
      "Is Pickup Truck: no\n"
     ]
    },
    {
     "name": "stderr",
     "output_type": "stream",
     "text": [
      "Processing: truck 4:  83%|████████▎ | 776/932 [02:48<00:44,  3.54file/s]"
     ]
    },
    {
     "name": "stdout",
     "output_type": "stream",
     "text": [
      "Is Pickup Truck: no\n"
     ]
    },
    {
     "name": "stderr",
     "output_type": "stream",
     "text": [
      "Processing: truck 4:  83%|████████▎ | 778/932 [02:48<00:38,  4.05file/s]"
     ]
    },
    {
     "name": "stdout",
     "output_type": "stream",
     "text": [
      "Is Pickup Truck: yes\n"
     ]
    },
    {
     "name": "stderr",
     "output_type": "stream",
     "text": [
      "Processing: truck 4:  84%|████████▎ | 780/932 [02:49<00:39,  3.84file/s][codecarbon INFO @ 02:18:24] Energy consumed for RAM : 0.008651 kWh. RAM Power : 188.79906034469604 W\n",
      "[codecarbon INFO @ 02:18:24] Energy consumed for all CPUs : 0.004582 kWh. Total CPU Power : 100.0 W\n",
      "[codecarbon INFO @ 02:18:24] Energy consumed for all GPUs : 0.005836 kWh. Total GPU Power : 124.71837333525204 W\n",
      "[codecarbon INFO @ 02:18:24] 0.019069 kWh of electricity used since the beginning.\n"
     ]
    },
    {
     "name": "stdout",
     "output_type": "stream",
     "text": [
      "Is Pickup Truck: no\n"
     ]
    },
    {
     "name": "stderr",
     "output_type": "stream",
     "text": [
      "Processing: truck 4:  84%|████████▍ | 781/932 [02:49<00:41,  3.67file/s]"
     ]
    },
    {
     "name": "stdout",
     "output_type": "stream",
     "text": [
      "Is Pickup Truck: no\n"
     ]
    },
    {
     "name": "stderr",
     "output_type": "stream",
     "text": [
      "Processing: truck 4:  84%|████████▍ | 782/932 [02:49<00:41,  3.62file/s]"
     ]
    },
    {
     "name": "stdout",
     "output_type": "stream",
     "text": [
      "Is Pickup Truck: no\n"
     ]
    },
    {
     "name": "stderr",
     "output_type": "stream",
     "text": [
      "Processing: truck 4:  84%|████████▍ | 783/932 [02:50<00:43,  3.46file/s]"
     ]
    },
    {
     "name": "stdout",
     "output_type": "stream",
     "text": [
      "Is Pickup Truck: no\n"
     ]
    },
    {
     "name": "stderr",
     "output_type": "stream",
     "text": [
      "Processing: truck 4:  84%|████████▍ | 784/932 [02:50<00:43,  3.43file/s]"
     ]
    },
    {
     "name": "stdout",
     "output_type": "stream",
     "text": [
      "Is Pickup Truck: no\n"
     ]
    },
    {
     "name": "stderr",
     "output_type": "stream",
     "text": [
      "Processing: truck 4:  84%|████████▍ | 785/932 [02:50<00:44,  3.27file/s]"
     ]
    },
    {
     "name": "stdout",
     "output_type": "stream",
     "text": [
      "Is Pickup Truck: no\n"
     ]
    },
    {
     "name": "stderr",
     "output_type": "stream",
     "text": [
      "Processing: truck 4:  84%|████████▍ | 786/932 [02:51<00:46,  3.11file/s]"
     ]
    },
    {
     "name": "stdout",
     "output_type": "stream",
     "text": [
      "Is Pickup Truck: no\n"
     ]
    },
    {
     "name": "stderr",
     "output_type": "stream",
     "text": [
      "Processing: truck 4:  84%|████████▍ | 787/932 [02:51<00:46,  3.13file/s]"
     ]
    },
    {
     "name": "stdout",
     "output_type": "stream",
     "text": [
      "Is Pickup Truck: no\n"
     ]
    },
    {
     "name": "stderr",
     "output_type": "stream",
     "text": [
      "Processing: truck 4:  85%|████████▍ | 788/932 [02:51<00:45,  3.15file/s]"
     ]
    },
    {
     "name": "stdout",
     "output_type": "stream",
     "text": [
      "Is Pickup Truck: no\n"
     ]
    },
    {
     "name": "stderr",
     "output_type": "stream",
     "text": [
      "Processing: truck 4:  85%|████████▍ | 790/932 [02:52<00:38,  3.74file/s]"
     ]
    },
    {
     "name": "stdout",
     "output_type": "stream",
     "text": [
      "Is Pickup Truck: no\n"
     ]
    },
    {
     "name": "stderr",
     "output_type": "stream",
     "text": [
      "Processing: truck 4:  85%|████████▍ | 791/932 [02:52<00:39,  3.53file/s]"
     ]
    },
    {
     "name": "stdout",
     "output_type": "stream",
     "text": [
      "Is Pickup Truck: yes\n"
     ]
    },
    {
     "name": "stderr",
     "output_type": "stream",
     "text": [
      "Processing: truck 4:  85%|████████▌ | 793/932 [02:53<00:35,  3.93file/s]"
     ]
    },
    {
     "name": "stdout",
     "output_type": "stream",
     "text": [
      "Is Pickup Truck: no\n"
     ]
    },
    {
     "name": "stderr",
     "output_type": "stream",
     "text": [
      "Processing: truck 4:  85%|████████▌ | 795/932 [02:53<00:31,  4.34file/s]"
     ]
    },
    {
     "name": "stdout",
     "output_type": "stream",
     "text": [
      "Is Pickup Truck: no\n"
     ]
    },
    {
     "name": "stderr",
     "output_type": "stream",
     "text": [
      "Processing: truck 4:  85%|████████▌ | 796/932 [02:53<00:33,  4.05file/s]"
     ]
    },
    {
     "name": "stdout",
     "output_type": "stream",
     "text": [
      "Is Pickup Truck: no\n"
     ]
    },
    {
     "name": "stderr",
     "output_type": "stream",
     "text": [
      "Processing: truck 4:  86%|████████▌ | 798/932 [02:54<00:30,  4.46file/s]"
     ]
    },
    {
     "name": "stdout",
     "output_type": "stream",
     "text": [
      "Is Pickup Truck: no\n"
     ]
    },
    {
     "name": "stderr",
     "output_type": "stream",
     "text": [
      "Processing: truck 4:  86%|████████▌ | 800/932 [02:54<00:27,  4.74file/s]"
     ]
    },
    {
     "name": "stdout",
     "output_type": "stream",
     "text": [
      "Is Pickup Truck: no\n"
     ]
    },
    {
     "name": "stderr",
     "output_type": "stream",
     "text": [
      "Processing: truck 4:  86%|████████▌ | 801/932 [02:54<00:30,  4.26file/s]"
     ]
    },
    {
     "name": "stdout",
     "output_type": "stream",
     "text": [
      "Is Pickup Truck: yes\n"
     ]
    },
    {
     "name": "stderr",
     "output_type": "stream",
     "text": [
      "Processing: truck 4:  86%|████████▌ | 802/932 [02:55<00:32,  3.99file/s]"
     ]
    },
    {
     "name": "stdout",
     "output_type": "stream",
     "text": [
      "Is Pickup Truck: no\n"
     ]
    },
    {
     "name": "stderr",
     "output_type": "stream",
     "text": [
      "Processing: truck 4:  86%|████████▌ | 803/932 [02:55<00:33,  3.81file/s]"
     ]
    },
    {
     "name": "stdout",
     "output_type": "stream",
     "text": [
      "Is Pickup Truck: no\n"
     ]
    },
    {
     "name": "stderr",
     "output_type": "stream",
     "text": [
      "Processing: truck 4:  86%|████████▋ | 804/932 [02:55<00:34,  3.72file/s]"
     ]
    },
    {
     "name": "stdout",
     "output_type": "stream",
     "text": [
      "Is Pickup Truck: no\n"
     ]
    },
    {
     "name": "stderr",
     "output_type": "stream",
     "text": [
      "Processing: truck 4:  86%|████████▋ | 805/932 [02:56<00:34,  3.68file/s]"
     ]
    },
    {
     "name": "stdout",
     "output_type": "stream",
     "text": [
      "Is Pickup Truck: no\n"
     ]
    },
    {
     "name": "stderr",
     "output_type": "stream",
     "text": [
      "Processing: truck 4:  86%|████████▋ | 806/932 [02:56<00:34,  3.65file/s]"
     ]
    },
    {
     "name": "stdout",
     "output_type": "stream",
     "text": [
      "Is Pickup Truck: no\n"
     ]
    },
    {
     "name": "stderr",
     "output_type": "stream",
     "text": [
      "Processing: truck 4:  87%|████████▋ | 807/932 [02:56<00:34,  3.64file/s]"
     ]
    },
    {
     "name": "stdout",
     "output_type": "stream",
     "text": [
      "Is Pickup Truck: no\n"
     ]
    },
    {
     "name": "stderr",
     "output_type": "stream",
     "text": [
      "Processing: truck 4:  87%|████████▋ | 808/932 [02:56<00:34,  3.61file/s]"
     ]
    },
    {
     "name": "stdout",
     "output_type": "stream",
     "text": [
      "Is Pickup Truck: no\n"
     ]
    },
    {
     "name": "stderr",
     "output_type": "stream",
     "text": [
      "Processing: truck 4:  87%|████████▋ | 809/932 [02:57<00:34,  3.61file/s]"
     ]
    },
    {
     "name": "stdout",
     "output_type": "stream",
     "text": [
      "Is Pickup Truck: no\n"
     ]
    },
    {
     "name": "stderr",
     "output_type": "stream",
     "text": [
      "Processing: truck 4:  87%|████████▋ | 810/932 [02:57<00:33,  3.62file/s]"
     ]
    },
    {
     "name": "stdout",
     "output_type": "stream",
     "text": [
      "Is Pickup Truck: no\n"
     ]
    },
    {
     "name": "stderr",
     "output_type": "stream",
     "text": [
      "Processing: truck 4:  87%|████████▋ | 811/932 [02:57<00:33,  3.62file/s]"
     ]
    },
    {
     "name": "stdout",
     "output_type": "stream",
     "text": [
      "Is Pickup Truck: no\n"
     ]
    },
    {
     "name": "stderr",
     "output_type": "stream",
     "text": [
      "Processing: truck 4:  87%|████████▋ | 812/932 [02:58<00:33,  3.62file/s]"
     ]
    },
    {
     "name": "stdout",
     "output_type": "stream",
     "text": [
      "Is Pickup Truck: no\n"
     ]
    },
    {
     "name": "stderr",
     "output_type": "stream",
     "text": [
      "Processing: truck 4:  87%|████████▋ | 813/932 [02:58<00:32,  3.62file/s]"
     ]
    },
    {
     "name": "stdout",
     "output_type": "stream",
     "text": [
      "Is Pickup Truck: no\n"
     ]
    },
    {
     "name": "stderr",
     "output_type": "stream",
     "text": [
      "Processing: truck 4:  87%|████████▋ | 815/932 [02:58<00:27,  4.26file/s]"
     ]
    },
    {
     "name": "stdout",
     "output_type": "stream",
     "text": [
      "Is Pickup Truck: no\n"
     ]
    },
    {
     "name": "stderr",
     "output_type": "stream",
     "text": [
      "Processing: truck 4:  88%|████████▊ | 816/932 [02:59<00:28,  4.04file/s]"
     ]
    },
    {
     "name": "stdout",
     "output_type": "stream",
     "text": [
      "Is Pickup Truck: no\n"
     ]
    },
    {
     "name": "stderr",
     "output_type": "stream",
     "text": [
      "Processing: truck 4:  88%|████████▊ | 817/932 [02:59<00:29,  3.90file/s]"
     ]
    },
    {
     "name": "stdout",
     "output_type": "stream",
     "text": [
      "Is Pickup Truck: no\n"
     ]
    },
    {
     "name": "stderr",
     "output_type": "stream",
     "text": [
      "Processing: truck 4:  88%|████████▊ | 819/932 [02:59<00:25,  4.44file/s]"
     ]
    },
    {
     "name": "stdout",
     "output_type": "stream",
     "text": [
      "Is Pickup Truck: no\n"
     ]
    },
    {
     "name": "stderr",
     "output_type": "stream",
     "text": [
      "Processing: truck 4:  88%|████████▊ | 820/932 [03:00<00:29,  3.81file/s]"
     ]
    },
    {
     "name": "stdout",
     "output_type": "stream",
     "text": [
      "Is Pickup Truck: no\n"
     ]
    },
    {
     "name": "stderr",
     "output_type": "stream",
     "text": [
      "Processing: truck 4:  88%|████████▊ | 821/932 [03:00<00:30,  3.62file/s]"
     ]
    },
    {
     "name": "stdout",
     "output_type": "stream",
     "text": [
      "Is Pickup Truck: no\n"
     ]
    },
    {
     "name": "stderr",
     "output_type": "stream",
     "text": [
      "Processing: truck 4:  88%|████████▊ | 822/932 [03:00<00:31,  3.53file/s]"
     ]
    },
    {
     "name": "stdout",
     "output_type": "stream",
     "text": [
      "Is Pickup Truck: no\n"
     ]
    },
    {
     "name": "stderr",
     "output_type": "stream",
     "text": [
      "Processing: truck 4:  88%|████████▊ | 823/932 [03:00<00:31,  3.45file/s]"
     ]
    },
    {
     "name": "stdout",
     "output_type": "stream",
     "text": [
      "Is Pickup Truck: no\n"
     ]
    },
    {
     "name": "stderr",
     "output_type": "stream",
     "text": [
      "Processing: truck 4:  88%|████████▊ | 824/932 [03:01<00:32,  3.37file/s]"
     ]
    },
    {
     "name": "stdout",
     "output_type": "stream",
     "text": [
      "Is Pickup Truck: no\n"
     ]
    },
    {
     "name": "stderr",
     "output_type": "stream",
     "text": [
      "Processing: truck 4:  89%|████████▊ | 825/932 [03:01<00:31,  3.38file/s]"
     ]
    },
    {
     "name": "stdout",
     "output_type": "stream",
     "text": [
      "Is Pickup Truck: no\n"
     ]
    },
    {
     "name": "stderr",
     "output_type": "stream",
     "text": [
      "Processing: truck 4:  89%|████████▊ | 826/932 [03:01<00:31,  3.36file/s]"
     ]
    },
    {
     "name": "stdout",
     "output_type": "stream",
     "text": [
      "Is Pickup Truck: no\n"
     ]
    },
    {
     "name": "stderr",
     "output_type": "stream",
     "text": [
      "Processing: truck 4:  89%|████████▊ | 827/932 [03:02<00:31,  3.36file/s]"
     ]
    },
    {
     "name": "stdout",
     "output_type": "stream",
     "text": [
      "Is Pickup Truck: no\n"
     ]
    },
    {
     "name": "stderr",
     "output_type": "stream",
     "text": [
      "Processing: truck 5:  89%|████████▉ | 828/932 [03:02<00:31,  3.35file/s]"
     ]
    },
    {
     "name": "stdout",
     "output_type": "stream",
     "text": [
      "Is Pickup Truck: no\n"
     ]
    },
    {
     "name": "stderr",
     "output_type": "stream",
     "text": [
      "Processing: truck 5:  89%|████████▉ | 829/932 [03:02<00:30,  3.35file/s]"
     ]
    },
    {
     "name": "stdout",
     "output_type": "stream",
     "text": [
      "Is Pickup Truck: no\n"
     ]
    },
    {
     "name": "stderr",
     "output_type": "stream",
     "text": [
      "Processing: truck 5:  89%|████████▉ | 830/932 [03:03<00:30,  3.33file/s]"
     ]
    },
    {
     "name": "stdout",
     "output_type": "stream",
     "text": [
      "Is Pickup Truck: no\n"
     ]
    },
    {
     "name": "stderr",
     "output_type": "stream",
     "text": [
      "Processing: truck 5:  89%|████████▉ | 831/932 [03:03<00:30,  3.27file/s]"
     ]
    },
    {
     "name": "stdout",
     "output_type": "stream",
     "text": [
      "Is Pickup Truck: no\n"
     ]
    },
    {
     "name": "stderr",
     "output_type": "stream",
     "text": [
      "Processing: truck 5:  89%|████████▉ | 832/932 [03:03<00:30,  3.27file/s]"
     ]
    },
    {
     "name": "stdout",
     "output_type": "stream",
     "text": [
      "Is Pickup Truck: no\n"
     ]
    },
    {
     "name": "stderr",
     "output_type": "stream",
     "text": [
      "Processing: truck 5:  89%|████████▉ | 833/932 [03:03<00:30,  3.28file/s]"
     ]
    },
    {
     "name": "stdout",
     "output_type": "stream",
     "text": [
      "Is Pickup Truck: no\n"
     ]
    },
    {
     "name": "stderr",
     "output_type": "stream",
     "text": [
      "Processing: truck 5:  89%|████████▉ | 834/932 [03:04<00:30,  3.24file/s][codecarbon INFO @ 02:18:39] Energy consumed for RAM : 0.009437 kWh. RAM Power : 188.79906034469604 W\n",
      "[codecarbon INFO @ 02:18:39] Energy consumed for all CPUs : 0.004999 kWh. Total CPU Power : 100.0 W\n",
      "[codecarbon INFO @ 02:18:39] Energy consumed for all GPUs : 0.006367 kWh. Total GPU Power : 127.45199116070403 W\n",
      "[codecarbon INFO @ 02:18:39] 0.020803 kWh of electricity used since the beginning.\n"
     ]
    },
    {
     "name": "stdout",
     "output_type": "stream",
     "text": [
      "Is Pickup Truck: no\n"
     ]
    },
    {
     "name": "stderr",
     "output_type": "stream",
     "text": [
      "Processing: truck 5:  90%|████████▉ | 835/932 [03:04<00:30,  3.23file/s]"
     ]
    },
    {
     "name": "stdout",
     "output_type": "stream",
     "text": [
      "Is Pickup Truck: no\n"
     ]
    },
    {
     "name": "stderr",
     "output_type": "stream",
     "text": [
      "Processing: truck 5:  90%|████████▉ | 836/932 [03:04<00:29,  3.31file/s]"
     ]
    },
    {
     "name": "stdout",
     "output_type": "stream",
     "text": [
      "Is Pickup Truck: no\n"
     ]
    },
    {
     "name": "stderr",
     "output_type": "stream",
     "text": [
      "Processing: truck 5:  90%|████████▉ | 837/932 [03:05<00:43,  2.17file/s]"
     ]
    },
    {
     "name": "stdout",
     "output_type": "stream",
     "text": [
      "Is Pickup Truck: no\n"
     ]
    },
    {
     "name": "stderr",
     "output_type": "stream",
     "text": [
      "Processing: truck 5:  90%|████████▉ | 838/932 [03:06<00:38,  2.43file/s]"
     ]
    },
    {
     "name": "stdout",
     "output_type": "stream",
     "text": [
      "Is Pickup Truck: no\n"
     ]
    },
    {
     "name": "stderr",
     "output_type": "stream",
     "text": [
      "Processing: truck 5:  90%|█████████ | 839/932 [03:06<00:35,  2.64file/s]"
     ]
    },
    {
     "name": "stdout",
     "output_type": "stream",
     "text": [
      "Is Pickup Truck: no\n"
     ]
    },
    {
     "name": "stderr",
     "output_type": "stream",
     "text": [
      "Processing: truck 5:  90%|█████████ | 840/932 [03:06<00:32,  2.83file/s]"
     ]
    },
    {
     "name": "stdout",
     "output_type": "stream",
     "text": [
      "Is Pickup Truck: no\n"
     ]
    },
    {
     "name": "stderr",
     "output_type": "stream",
     "text": [
      "Processing: truck 5:  90%|█████████ | 841/932 [03:06<00:30,  2.96file/s]"
     ]
    },
    {
     "name": "stdout",
     "output_type": "stream",
     "text": [
      "Is Pickup Truck: no\n"
     ]
    },
    {
     "name": "stderr",
     "output_type": "stream",
     "text": [
      "Processing: truck 5:  90%|█████████ | 842/932 [03:07<00:29,  3.06file/s]"
     ]
    },
    {
     "name": "stdout",
     "output_type": "stream",
     "text": [
      "Is Pickup Truck: no\n"
     ]
    },
    {
     "name": "stderr",
     "output_type": "stream",
     "text": [
      "Processing: truck 5:  90%|█████████ | 843/932 [03:07<00:28,  3.14file/s]"
     ]
    },
    {
     "name": "stdout",
     "output_type": "stream",
     "text": [
      "Is Pickup Truck: no\n"
     ]
    },
    {
     "name": "stderr",
     "output_type": "stream",
     "text": [
      "Processing: truck 5:  91%|█████████ | 844/932 [03:07<00:27,  3.20file/s]"
     ]
    },
    {
     "name": "stdout",
     "output_type": "stream",
     "text": [
      "Is Pickup Truck: no\n"
     ]
    },
    {
     "name": "stderr",
     "output_type": "stream",
     "text": [
      "Processing: truck 5:  91%|█████████ | 845/932 [03:08<00:26,  3.26file/s]"
     ]
    },
    {
     "name": "stdout",
     "output_type": "stream",
     "text": [
      "Is Pickup Truck: no\n"
     ]
    },
    {
     "name": "stderr",
     "output_type": "stream",
     "text": [
      "Processing: truck 5:  91%|█████████ | 846/932 [03:08<00:25,  3.32file/s]"
     ]
    },
    {
     "name": "stdout",
     "output_type": "stream",
     "text": [
      "Is Pickup Truck: no\n"
     ]
    },
    {
     "name": "stderr",
     "output_type": "stream",
     "text": [
      "Processing: truck 5:  91%|█████████ | 848/932 [03:08<00:23,  3.60file/s]"
     ]
    },
    {
     "name": "stdout",
     "output_type": "stream",
     "text": [
      "Is Pickup Truck: no\n"
     ]
    },
    {
     "name": "stderr",
     "output_type": "stream",
     "text": [
      "Processing: truck 5:  91%|█████████ | 849/932 [03:09<00:23,  3.53file/s]"
     ]
    },
    {
     "name": "stdout",
     "output_type": "stream",
     "text": [
      "Is Pickup Truck: no\n"
     ]
    },
    {
     "name": "stderr",
     "output_type": "stream",
     "text": [
      "Processing: truck 5:  91%|█████████ | 850/932 [03:09<00:23,  3.46file/s]"
     ]
    },
    {
     "name": "stdout",
     "output_type": "stream",
     "text": [
      "Is Pickup Truck: no\n"
     ]
    },
    {
     "name": "stderr",
     "output_type": "stream",
     "text": [
      "Processing: truck 5:  91%|█████████▏| 851/932 [03:09<00:23,  3.45file/s]"
     ]
    },
    {
     "name": "stdout",
     "output_type": "stream",
     "text": [
      "Is Pickup Truck: no\n"
     ]
    },
    {
     "name": "stderr",
     "output_type": "stream",
     "text": [
      "Processing: truck 5:  91%|█████████▏| 852/932 [03:10<00:23,  3.43file/s]"
     ]
    },
    {
     "name": "stdout",
     "output_type": "stream",
     "text": [
      "Is Pickup Truck: no\n"
     ]
    },
    {
     "name": "stderr",
     "output_type": "stream",
     "text": [
      "Processing: truck 5:  92%|█████████▏| 853/932 [03:10<00:23,  3.42file/s]"
     ]
    },
    {
     "name": "stdout",
     "output_type": "stream",
     "text": [
      "Is Pickup Truck: no\n"
     ]
    },
    {
     "name": "stderr",
     "output_type": "stream",
     "text": [
      "Processing: truck 5:  92%|█████████▏| 854/932 [03:10<00:22,  3.40file/s]"
     ]
    },
    {
     "name": "stdout",
     "output_type": "stream",
     "text": [
      "Is Pickup Truck: no\n"
     ]
    },
    {
     "name": "stderr",
     "output_type": "stream",
     "text": [
      "Processing: truck 5:  92%|█████████▏| 855/932 [03:11<00:22,  3.39file/s]"
     ]
    },
    {
     "name": "stdout",
     "output_type": "stream",
     "text": [
      "Is Pickup Truck: yes\n"
     ]
    },
    {
     "name": "stderr",
     "output_type": "stream",
     "text": [
      "Processing: truck 5:  92%|█████████▏| 856/932 [03:11<00:22,  3.41file/s]"
     ]
    },
    {
     "name": "stdout",
     "output_type": "stream",
     "text": [
      "Is Pickup Truck: no\n"
     ]
    },
    {
     "name": "stderr",
     "output_type": "stream",
     "text": [
      "Processing: truck 5:  92%|█████████▏| 857/932 [03:11<00:21,  3.46file/s]"
     ]
    },
    {
     "name": "stdout",
     "output_type": "stream",
     "text": [
      "Is Pickup Truck: no\n"
     ]
    },
    {
     "name": "stderr",
     "output_type": "stream",
     "text": [
      "Processing: truck 5:  92%|█████████▏| 858/932 [03:11<00:21,  3.48file/s]"
     ]
    },
    {
     "name": "stdout",
     "output_type": "stream",
     "text": [
      "Is Pickup Truck: no\n"
     ]
    },
    {
     "name": "stderr",
     "output_type": "stream",
     "text": [
      "Processing: truck 5:  92%|█████████▏| 859/932 [03:12<00:21,  3.40file/s]"
     ]
    },
    {
     "name": "stdout",
     "output_type": "stream",
     "text": [
      "Is Pickup Truck: no\n"
     ]
    },
    {
     "name": "stderr",
     "output_type": "stream",
     "text": [
      "Processing: truck 5:  92%|█████████▏| 860/932 [03:12<00:21,  3.41file/s]"
     ]
    },
    {
     "name": "stdout",
     "output_type": "stream",
     "text": [
      "Is Pickup Truck: no\n"
     ]
    },
    {
     "name": "stderr",
     "output_type": "stream",
     "text": [
      "Processing: truck 5:  92%|█████████▏| 861/932 [03:12<00:20,  3.43file/s]"
     ]
    },
    {
     "name": "stdout",
     "output_type": "stream",
     "text": [
      "Is Pickup Truck: no\n"
     ]
    },
    {
     "name": "stderr",
     "output_type": "stream",
     "text": [
      "Processing: truck 5:  92%|█████████▏| 862/932 [03:13<00:20,  3.46file/s]"
     ]
    },
    {
     "name": "stdout",
     "output_type": "stream",
     "text": [
      "Is Pickup Truck: no\n"
     ]
    },
    {
     "name": "stderr",
     "output_type": "stream",
     "text": [
      "Processing: truck 5:  93%|█████████▎| 863/932 [03:13<00:20,  3.45file/s]"
     ]
    },
    {
     "name": "stdout",
     "output_type": "stream",
     "text": [
      "Is Pickup Truck: no\n"
     ]
    },
    {
     "name": "stderr",
     "output_type": "stream",
     "text": [
      "Processing: truck 5:  93%|█████████▎| 864/932 [03:13<00:19,  3.45file/s]"
     ]
    },
    {
     "name": "stdout",
     "output_type": "stream",
     "text": [
      "Is Pickup Truck: no\n"
     ]
    },
    {
     "name": "stderr",
     "output_type": "stream",
     "text": [
      "Processing: truck 5:  93%|█████████▎| 865/932 [03:13<00:19,  3.45file/s]"
     ]
    },
    {
     "name": "stdout",
     "output_type": "stream",
     "text": [
      "Is Pickup Truck: no\n"
     ]
    },
    {
     "name": "stderr",
     "output_type": "stream",
     "text": [
      "Processing: truck 5:  93%|█████████▎| 866/932 [03:14<00:18,  3.48file/s]"
     ]
    },
    {
     "name": "stdout",
     "output_type": "stream",
     "text": [
      "Is Pickup Truck: no\n"
     ]
    },
    {
     "name": "stderr",
     "output_type": "stream",
     "text": [
      "Processing: truck 5:  93%|█████████▎| 867/932 [03:14<00:18,  3.49file/s]"
     ]
    },
    {
     "name": "stdout",
     "output_type": "stream",
     "text": [
      "Is Pickup Truck: no\n"
     ]
    },
    {
     "name": "stderr",
     "output_type": "stream",
     "text": [
      "Processing: truck 5:  93%|█████████▎| 868/932 [03:14<00:18,  3.51file/s]"
     ]
    },
    {
     "name": "stdout",
     "output_type": "stream",
     "text": [
      "Is Pickup Truck: no\n"
     ]
    },
    {
     "name": "stderr",
     "output_type": "stream",
     "text": [
      "Processing: truck 5:  93%|█████████▎| 869/932 [03:15<00:17,  3.52file/s]"
     ]
    },
    {
     "name": "stdout",
     "output_type": "stream",
     "text": [
      "Is Pickup Truck: no\n"
     ]
    },
    {
     "name": "stderr",
     "output_type": "stream",
     "text": [
      "Processing: truck 5:  93%|█████████▎| 870/932 [03:15<00:17,  3.52file/s]"
     ]
    },
    {
     "name": "stdout",
     "output_type": "stream",
     "text": [
      "Is Pickup Truck: no\n"
     ]
    },
    {
     "name": "stderr",
     "output_type": "stream",
     "text": [
      "Processing: truck 5:  93%|█████████▎| 871/932 [03:15<00:17,  3.49file/s]"
     ]
    },
    {
     "name": "stdout",
     "output_type": "stream",
     "text": [
      "Is Pickup Truck: no\n"
     ]
    },
    {
     "name": "stderr",
     "output_type": "stream",
     "text": [
      "Processing: truck 5:  94%|█████████▎| 872/932 [03:15<00:17,  3.48file/s]"
     ]
    },
    {
     "name": "stdout",
     "output_type": "stream",
     "text": [
      "Is Pickup Truck: no\n"
     ]
    },
    {
     "name": "stderr",
     "output_type": "stream",
     "text": [
      "Processing: truck 5:  94%|█████████▎| 873/932 [03:16<00:19,  3.05file/s]"
     ]
    },
    {
     "name": "stdout",
     "output_type": "stream",
     "text": [
      "Is Pickup Truck: no\n"
     ]
    },
    {
     "name": "stderr",
     "output_type": "stream",
     "text": [
      "Processing: truck 5:  94%|█████████▍| 874/932 [03:16<00:18,  3.14file/s]"
     ]
    },
    {
     "name": "stdout",
     "output_type": "stream",
     "text": [
      "Is Pickup Truck: no\n"
     ]
    },
    {
     "name": "stderr",
     "output_type": "stream",
     "text": [
      "Processing: truck 5:  94%|█████████▍| 875/932 [03:16<00:17,  3.21file/s]"
     ]
    },
    {
     "name": "stdout",
     "output_type": "stream",
     "text": [
      "Is Pickup Truck: no\n"
     ]
    },
    {
     "name": "stderr",
     "output_type": "stream",
     "text": [
      "Processing: truck 5:  94%|█████████▍| 876/932 [03:17<00:17,  3.28file/s]"
     ]
    },
    {
     "name": "stdout",
     "output_type": "stream",
     "text": [
      "Is Pickup Truck: no\n"
     ]
    },
    {
     "name": "stderr",
     "output_type": "stream",
     "text": [
      "Processing: truck 5:  94%|█████████▍| 877/932 [03:17<00:16,  3.34file/s]"
     ]
    },
    {
     "name": "stdout",
     "output_type": "stream",
     "text": [
      "Is Pickup Truck: no\n"
     ]
    },
    {
     "name": "stderr",
     "output_type": "stream",
     "text": [
      "Processing: truck 5:  94%|█████████▍| 878/932 [03:17<00:15,  3.38file/s]"
     ]
    },
    {
     "name": "stdout",
     "output_type": "stream",
     "text": [
      "Is Pickup Truck: no\n"
     ]
    },
    {
     "name": "stderr",
     "output_type": "stream",
     "text": [
      "Processing: truck 5:  94%|█████████▍| 879/932 [03:18<00:15,  3.40file/s]"
     ]
    },
    {
     "name": "stdout",
     "output_type": "stream",
     "text": [
      "Is Pickup Truck: no\n"
     ]
    },
    {
     "name": "stderr",
     "output_type": "stream",
     "text": [
      "Processing: truck 5:  94%|█████████▍| 880/932 [03:18<00:15,  3.43file/s]"
     ]
    },
    {
     "name": "stdout",
     "output_type": "stream",
     "text": [
      "Is Pickup Truck: no\n"
     ]
    },
    {
     "name": "stderr",
     "output_type": "stream",
     "text": [
      "Processing: truck 5:  95%|█████████▍| 881/932 [03:18<00:14,  3.40file/s]"
     ]
    },
    {
     "name": "stdout",
     "output_type": "stream",
     "text": [
      "Is Pickup Truck: no\n"
     ]
    },
    {
     "name": "stderr",
     "output_type": "stream",
     "text": [
      "Processing: truck 5:  95%|█████████▍| 882/932 [03:18<00:14,  3.41file/s]"
     ]
    },
    {
     "name": "stdout",
     "output_type": "stream",
     "text": [
      "Is Pickup Truck: no\n"
     ]
    },
    {
     "name": "stderr",
     "output_type": "stream",
     "text": [
      "Processing: truck 5:  95%|█████████▍| 883/932 [03:19<00:14,  3.44file/s][codecarbon INFO @ 02:18:54] Energy consumed for RAM : 0.010223 kWh. RAM Power : 188.79906034469604 W\n",
      "[codecarbon INFO @ 02:18:54] Energy consumed for all CPUs : 0.005415 kWh. Total CPU Power : 100.0 W\n",
      "[codecarbon INFO @ 02:18:54] Energy consumed for all GPUs : 0.006884 kWh. Total GPU Power : 124.15196175363825 W\n",
      "[codecarbon INFO @ 02:18:54] 0.022523 kWh of electricity used since the beginning.\n"
     ]
    },
    {
     "name": "stdout",
     "output_type": "stream",
     "text": [
      "Is Pickup Truck: no\n"
     ]
    },
    {
     "name": "stderr",
     "output_type": "stream",
     "text": [
      "Processing: truck 5:  95%|█████████▍| 884/932 [03:19<00:13,  3.46file/s]"
     ]
    },
    {
     "name": "stdout",
     "output_type": "stream",
     "text": [
      "Is Pickup Truck: no\n"
     ]
    },
    {
     "name": "stderr",
     "output_type": "stream",
     "text": [
      "Processing: truck 5:  95%|█████████▍| 885/932 [03:19<00:13,  3.49file/s]"
     ]
    },
    {
     "name": "stdout",
     "output_type": "stream",
     "text": [
      "Is Pickup Truck: no\n"
     ]
    },
    {
     "name": "stderr",
     "output_type": "stream",
     "text": [
      "Processing: truck 5:  95%|█████████▌| 886/932 [03:20<00:13,  3.52file/s]"
     ]
    },
    {
     "name": "stdout",
     "output_type": "stream",
     "text": [
      "Is Pickup Truck: no\n"
     ]
    },
    {
     "name": "stderr",
     "output_type": "stream",
     "text": [
      "Processing: truck 5:  95%|█████████▌| 887/932 [03:20<00:12,  3.54file/s]"
     ]
    },
    {
     "name": "stdout",
     "output_type": "stream",
     "text": [
      "Is Pickup Truck: no\n"
     ]
    },
    {
     "name": "stderr",
     "output_type": "stream",
     "text": [
      "Processing: truck 5:  95%|█████████▌| 888/932 [03:20<00:12,  3.57file/s]"
     ]
    },
    {
     "name": "stdout",
     "output_type": "stream",
     "text": [
      "Is Pickup Truck: no\n"
     ]
    },
    {
     "name": "stderr",
     "output_type": "stream",
     "text": [
      "Processing: truck 5:  95%|█████████▌| 889/932 [03:20<00:11,  3.60file/s]"
     ]
    },
    {
     "name": "stdout",
     "output_type": "stream",
     "text": [
      "Is Pickup Truck: no\n"
     ]
    },
    {
     "name": "stderr",
     "output_type": "stream",
     "text": [
      "Processing: truck 5:  95%|█████████▌| 890/932 [03:21<00:11,  3.60file/s]"
     ]
    },
    {
     "name": "stdout",
     "output_type": "stream",
     "text": [
      "Is Pickup Truck: no\n"
     ]
    },
    {
     "name": "stderr",
     "output_type": "stream",
     "text": [
      "Processing: truck 5:  96%|█████████▌| 891/932 [03:21<00:11,  3.57file/s]"
     ]
    },
    {
     "name": "stdout",
     "output_type": "stream",
     "text": [
      "Is Pickup Truck: no\n"
     ]
    },
    {
     "name": "stderr",
     "output_type": "stream",
     "text": [
      "Processing: truck 5:  96%|█████████▌| 892/932 [03:21<00:11,  3.53file/s]"
     ]
    },
    {
     "name": "stdout",
     "output_type": "stream",
     "text": [
      "Is Pickup Truck: no\n"
     ]
    },
    {
     "name": "stderr",
     "output_type": "stream",
     "text": [
      "Processing: truck 5:  96%|█████████▌| 893/932 [03:22<00:10,  3.56file/s]"
     ]
    },
    {
     "name": "stdout",
     "output_type": "stream",
     "text": [
      "Is Pickup Truck: no\n"
     ]
    },
    {
     "name": "stderr",
     "output_type": "stream",
     "text": [
      "Processing: truck 5:  96%|█████████▌| 894/932 [03:22<00:10,  3.58file/s]"
     ]
    },
    {
     "name": "stdout",
     "output_type": "stream",
     "text": [
      "Is Pickup Truck: no\n"
     ]
    },
    {
     "name": "stderr",
     "output_type": "stream",
     "text": [
      "Processing: truck 5:  96%|█████████▌| 895/932 [03:22<00:10,  3.59file/s]"
     ]
    },
    {
     "name": "stdout",
     "output_type": "stream",
     "text": [
      "Is Pickup Truck: no\n"
     ]
    },
    {
     "name": "stderr",
     "output_type": "stream",
     "text": [
      "Processing: truck 5:  96%|█████████▌| 896/932 [03:22<00:10,  3.60file/s]"
     ]
    },
    {
     "name": "stdout",
     "output_type": "stream",
     "text": [
      "Is Pickup Truck: no\n"
     ]
    },
    {
     "name": "stderr",
     "output_type": "stream",
     "text": [
      "Processing: truck 5:  96%|█████████▌| 897/932 [03:23<00:09,  3.60file/s]"
     ]
    },
    {
     "name": "stdout",
     "output_type": "stream",
     "text": [
      "Is Pickup Truck: no\n"
     ]
    },
    {
     "name": "stderr",
     "output_type": "stream",
     "text": [
      "Processing: truck 5:  96%|█████████▋| 898/932 [03:23<00:09,  3.61file/s]"
     ]
    },
    {
     "name": "stdout",
     "output_type": "stream",
     "text": [
      "Is Pickup Truck: no\n"
     ]
    },
    {
     "name": "stderr",
     "output_type": "stream",
     "text": [
      "Processing: truck 5:  96%|█████████▋| 899/932 [03:23<00:09,  3.61file/s]"
     ]
    },
    {
     "name": "stdout",
     "output_type": "stream",
     "text": [
      "Is Pickup Truck: no\n"
     ]
    },
    {
     "name": "stderr",
     "output_type": "stream",
     "text": [
      "Processing: truck 5:  97%|█████████▋| 900/932 [03:23<00:08,  3.61file/s]"
     ]
    },
    {
     "name": "stdout",
     "output_type": "stream",
     "text": [
      "Is Pickup Truck: no\n"
     ]
    },
    {
     "name": "stderr",
     "output_type": "stream",
     "text": [
      "Processing: truck 5:  97%|█████████▋| 901/932 [03:24<00:08,  3.62file/s]"
     ]
    },
    {
     "name": "stdout",
     "output_type": "stream",
     "text": [
      "Is Pickup Truck: no\n"
     ]
    },
    {
     "name": "stderr",
     "output_type": "stream",
     "text": [
      "Processing: truck 5:  97%|█████████▋| 902/932 [03:24<00:08,  3.62file/s]"
     ]
    },
    {
     "name": "stdout",
     "output_type": "stream",
     "text": [
      "Is Pickup Truck: no\n"
     ]
    },
    {
     "name": "stderr",
     "output_type": "stream",
     "text": [
      "Processing: truck 5:  97%|█████████▋| 903/932 [03:24<00:08,  3.55file/s]"
     ]
    },
    {
     "name": "stdout",
     "output_type": "stream",
     "text": [
      "Is Pickup Truck: no\n"
     ]
    },
    {
     "name": "stderr",
     "output_type": "stream",
     "text": [
      "Processing: truck 5:  97%|█████████▋| 904/932 [03:25<00:07,  3.52file/s]"
     ]
    },
    {
     "name": "stdout",
     "output_type": "stream",
     "text": [
      "Is Pickup Truck: no\n"
     ]
    },
    {
     "name": "stderr",
     "output_type": "stream",
     "text": [
      "Processing: truck 5:  97%|█████████▋| 905/932 [03:25<00:07,  3.52file/s]"
     ]
    },
    {
     "name": "stdout",
     "output_type": "stream",
     "text": [
      "Is Pickup Truck: no\n"
     ]
    },
    {
     "name": "stderr",
     "output_type": "stream",
     "text": [
      "Processing: truck 5:  97%|█████████▋| 906/932 [03:25<00:07,  3.50file/s]"
     ]
    },
    {
     "name": "stdout",
     "output_type": "stream",
     "text": [
      "Is Pickup Truck: no\n"
     ]
    },
    {
     "name": "stderr",
     "output_type": "stream",
     "text": [
      "Processing: truck 5:  97%|█████████▋| 907/932 [03:25<00:07,  3.52file/s]"
     ]
    },
    {
     "name": "stdout",
     "output_type": "stream",
     "text": [
      "Is Pickup Truck: no\n"
     ]
    },
    {
     "name": "stderr",
     "output_type": "stream",
     "text": [
      "Processing: truck 5:  97%|█████████▋| 908/932 [03:26<00:06,  3.55file/s]"
     ]
    },
    {
     "name": "stdout",
     "output_type": "stream",
     "text": [
      "Is Pickup Truck: no\n"
     ]
    },
    {
     "name": "stderr",
     "output_type": "stream",
     "text": [
      "Processing: truck 5:  98%|█████████▊| 909/932 [03:26<00:06,  3.53file/s]"
     ]
    },
    {
     "name": "stdout",
     "output_type": "stream",
     "text": [
      "Is Pickup Truck: no\n"
     ]
    },
    {
     "name": "stderr",
     "output_type": "stream",
     "text": [
      "Processing: truck 5:  98%|█████████▊| 910/932 [03:26<00:06,  3.51file/s]"
     ]
    },
    {
     "name": "stdout",
     "output_type": "stream",
     "text": [
      "Is Pickup Truck: no\n"
     ]
    },
    {
     "name": "stderr",
     "output_type": "stream",
     "text": [
      "Processing: truck 5:  98%|█████████▊| 911/932 [03:27<00:06,  3.47file/s]"
     ]
    },
    {
     "name": "stdout",
     "output_type": "stream",
     "text": [
      "Is Pickup Truck: no\n"
     ]
    },
    {
     "name": "stderr",
     "output_type": "stream",
     "text": [
      "Processing: truck 5:  98%|█████████▊| 912/932 [03:27<00:05,  3.48file/s]"
     ]
    },
    {
     "name": "stdout",
     "output_type": "stream",
     "text": [
      "Is Pickup Truck: no\n"
     ]
    },
    {
     "name": "stderr",
     "output_type": "stream",
     "text": [
      "Processing: truck 5:  98%|█████████▊| 913/932 [03:27<00:05,  3.53file/s]"
     ]
    },
    {
     "name": "stdout",
     "output_type": "stream",
     "text": [
      "Is Pickup Truck: no\n"
     ]
    },
    {
     "name": "stderr",
     "output_type": "stream",
     "text": [
      "Processing: truck 5:  98%|█████████▊| 914/932 [03:27<00:05,  3.54file/s]"
     ]
    },
    {
     "name": "stdout",
     "output_type": "stream",
     "text": [
      "Is Pickup Truck: no\n"
     ]
    },
    {
     "name": "stderr",
     "output_type": "stream",
     "text": [
      "Processing: truck 5:  98%|█████████▊| 915/932 [03:28<00:04,  3.51file/s]"
     ]
    },
    {
     "name": "stdout",
     "output_type": "stream",
     "text": [
      "Is Pickup Truck: no\n"
     ]
    },
    {
     "name": "stderr",
     "output_type": "stream",
     "text": [
      "Processing: truck 5:  98%|█████████▊| 916/932 [03:28<00:04,  3.50file/s]"
     ]
    },
    {
     "name": "stdout",
     "output_type": "stream",
     "text": [
      "Is Pickup Truck: no\n"
     ]
    },
    {
     "name": "stderr",
     "output_type": "stream",
     "text": [
      "Processing: truck 5:  98%|█████████▊| 917/932 [03:28<00:04,  3.49file/s]"
     ]
    },
    {
     "name": "stdout",
     "output_type": "stream",
     "text": [
      "Is Pickup Truck: no\n"
     ]
    },
    {
     "name": "stderr",
     "output_type": "stream",
     "text": [
      "Processing: truck 5:  98%|█████████▊| 918/932 [03:29<00:04,  3.49file/s]"
     ]
    },
    {
     "name": "stdout",
     "output_type": "stream",
     "text": [
      "Is Pickup Truck: no\n"
     ]
    },
    {
     "name": "stderr",
     "output_type": "stream",
     "text": [
      "Processing: truck 5:  99%|█████████▊| 919/932 [03:29<00:03,  3.48file/s]"
     ]
    },
    {
     "name": "stdout",
     "output_type": "stream",
     "text": [
      "Is Pickup Truck: no\n"
     ]
    },
    {
     "name": "stderr",
     "output_type": "stream",
     "text": [
      "Processing: truck 5:  99%|█████████▊| 920/932 [03:29<00:03,  3.48file/s]"
     ]
    },
    {
     "name": "stdout",
     "output_type": "stream",
     "text": [
      "Is Pickup Truck: no\n"
     ]
    },
    {
     "name": "stderr",
     "output_type": "stream",
     "text": [
      "Processing: truck 5:  99%|█████████▉| 921/932 [03:29<00:03,  3.48file/s]"
     ]
    },
    {
     "name": "stdout",
     "output_type": "stream",
     "text": [
      "Is Pickup Truck: no\n"
     ]
    },
    {
     "name": "stderr",
     "output_type": "stream",
     "text": [
      "Processing: truck 5:  99%|█████████▉| 922/932 [03:30<00:02,  3.45file/s]"
     ]
    },
    {
     "name": "stdout",
     "output_type": "stream",
     "text": [
      "Is Pickup Truck: no\n"
     ]
    },
    {
     "name": "stderr",
     "output_type": "stream",
     "text": [
      "Processing: truck 5:  99%|█████████▉| 923/932 [03:30<00:02,  3.46file/s]"
     ]
    },
    {
     "name": "stdout",
     "output_type": "stream",
     "text": [
      "Is Pickup Truck: no\n"
     ]
    },
    {
     "name": "stderr",
     "output_type": "stream",
     "text": [
      "Processing: truck 5:  99%|█████████▉| 924/932 [03:30<00:02,  3.47file/s]"
     ]
    },
    {
     "name": "stdout",
     "output_type": "stream",
     "text": [
      "Is Pickup Truck: no\n"
     ]
    },
    {
     "name": "stderr",
     "output_type": "stream",
     "text": [
      "Processing: truck 5:  99%|█████████▉| 925/932 [03:31<00:02,  3.41file/s]"
     ]
    },
    {
     "name": "stdout",
     "output_type": "stream",
     "text": [
      "Is Pickup Truck: no\n"
     ]
    },
    {
     "name": "stderr",
     "output_type": "stream",
     "text": [
      "Processing: truck 5:  99%|█████████▉| 926/932 [03:31<00:01,  3.39file/s]"
     ]
    },
    {
     "name": "stdout",
     "output_type": "stream",
     "text": [
      "Is Pickup Truck: no\n"
     ]
    },
    {
     "name": "stderr",
     "output_type": "stream",
     "text": [
      "Processing: truck 5:  99%|█████████▉| 927/932 [03:31<00:01,  3.37file/s]"
     ]
    },
    {
     "name": "stdout",
     "output_type": "stream",
     "text": [
      "Is Pickup Truck: no\n"
     ]
    },
    {
     "name": "stderr",
     "output_type": "stream",
     "text": [
      "Processing: truck 5:  99%|█████████▉| 927/932 [03:32<00:01,  4.37file/s]\n",
      "[codecarbon INFO @ 02:19:07] Energy consumed for RAM : 0.010889 kWh. RAM Power : 188.79906034469604 W\n",
      "[codecarbon INFO @ 02:19:07] Energy consumed for all CPUs : 0.005768 kWh. Total CPU Power : 100.0 W\n",
      "[codecarbon INFO @ 02:19:07] Energy consumed for all GPUs : 0.007339 kWh. Total GPU Power : 128.98217648154005 W\n",
      "[codecarbon INFO @ 02:19:07] 0.023995 kWh of electricity used since the beginning.\n"
     ]
    },
    {
     "name": "stdout",
     "output_type": "stream",
     "text": [
      "Is Pickup Truck: no\n",
      "Total processing time: 212.07 seconds\n",
      "CO2 emissions: 0.010791 kg\n",
      "\n",
      "--- Metrics ---\n",
      "Total Images: 927\n",
      "Correct Predictions: 838\n",
      "Wrong Predictions: 89\n",
      "Accuracy (%): 90.39913700107874\n",
      "Error Rate (%): 9.600862998921258\n",
      "Class 'Class 1 - Motorcycles' - Accuracy: 99.00%, Error Rate: 1.00%\n",
      "Class 'Class 2 - Car, SUV, Station Wagons' - Accuracy: 92.93%, Error Rate: 7.07%\n",
      "Class 'pickup' - Accuracy: 59.00%, Error Rate: 41.00%\n",
      "Class 'van' - Accuracy: 94.00%, Error Rate: 6.00%\n",
      "Class 'bus 2' - Accuracy: 97.62%, Error Rate: 2.38%\n",
      "Class 'truck 2' - Accuracy: 78.22%, Error Rate: 21.78%\n",
      "Class 'bus 3' - Accuracy: 100.00%, Error Rate: 0.00%\n",
      "Class 'truck 3' - Accuracy: 93.00%, Error Rate: 7.00%\n",
      "Class 'truck 4' - Accuracy: 96.55%, Error Rate: 3.45%\n",
      "Class 'truck 5' - Accuracy: 99.00%, Error Rate: 1.00%\n",
      "Processor: x86_64\n",
      "CPU Count: 128\n",
      "Memory (GB): 503.46\n",
      "Elapsed Time (seconds): 212.0664246082306\n",
      "CO2 Emissions (kg): 0.010791\n",
      "google/paligemma2-3b-ft-docci-448\n"
     ]
    },
    {
     "name": "stderr",
     "output_type": "stream",
     "text": [
      "/opt/conda/lib/python3.11/site-packages/codecarbon/output_methods/file.py:52: FutureWarning: The behavior of DataFrame concatenation with empty or all-NA entries is deprecated. In a future version, this will no longer exclude empty or all-NA columns when determining the result dtypes. To retain the old behavior, exclude the relevant entries before the concat operation.\n",
      "  df = pd.concat([df, pd.DataFrame.from_records([dict(total.values)])])\n"
     ]
    },
    {
     "data": {
      "application/vnd.jupyter.widget-view+json": {
       "model_id": "6f8ab1534acc43b8974bfa3b74736c1c",
       "version_major": 2,
       "version_minor": 0
      },
      "text/plain": [
       "config.json:   0%|          | 0.00/1.36k [00:00<?, ?B/s]"
      ]
     },
     "metadata": {},
     "output_type": "display_data"
    },
    {
     "data": {
      "application/vnd.jupyter.widget-view+json": {
       "model_id": "3a4fef1d5e2a4a07a457cc8bfef9c849",
       "version_major": 2,
       "version_minor": 0
      },
      "text/plain": [
       "model.safetensors.index.json:   0%|          | 0.00/75.1k [00:00<?, ?B/s]"
      ]
     },
     "metadata": {},
     "output_type": "display_data"
    },
    {
     "data": {
      "application/vnd.jupyter.widget-view+json": {
       "model_id": "31d3a1f71b924877aedc212cba965edc",
       "version_major": 2,
       "version_minor": 0
      },
      "text/plain": [
       "Downloading shards:   0%|          | 0/2 [00:00<?, ?it/s]"
      ]
     },
     "metadata": {},
     "output_type": "display_data"
    },
    {
     "data": {
      "application/vnd.jupyter.widget-view+json": {
       "model_id": "ca02d45a4e2b430498795de8d7f77bfa",
       "version_major": 2,
       "version_minor": 0
      },
      "text/plain": [
       "model-00001-of-00002.safetensors:   0%|          | 0.00/5.00G [00:00<?, ?B/s]"
      ]
     },
     "metadata": {},
     "output_type": "display_data"
    },
    {
     "data": {
      "application/vnd.jupyter.widget-view+json": {
       "model_id": "eac34b56908a40b7a9067a9501a66377",
       "version_major": 2,
       "version_minor": 0
      },
      "text/plain": [
       "model-00002-of-00002.safetensors:   0%|          | 0.00/1.07G [00:00<?, ?B/s]"
      ]
     },
     "metadata": {},
     "output_type": "display_data"
    },
    {
     "data": {
      "application/vnd.jupyter.widget-view+json": {
       "model_id": "5b4d9df311664024830204b130eab3b5",
       "version_major": 2,
       "version_minor": 0
      },
      "text/plain": [
       "Loading checkpoint shards:   0%|          | 0/2 [00:00<?, ?it/s]"
      ]
     },
     "metadata": {},
     "output_type": "display_data"
    },
    {
     "data": {
      "application/vnd.jupyter.widget-view+json": {
       "model_id": "b952da1a9b6142bda98901b585ef7c5d",
       "version_major": 2,
       "version_minor": 0
      },
      "text/plain": [
       "generation_config.json:   0%|          | 0.00/173 [00:00<?, ?B/s]"
      ]
     },
     "metadata": {},
     "output_type": "display_data"
    },
    {
     "data": {
      "application/vnd.jupyter.widget-view+json": {
       "model_id": "eebd2427209942618bc59daeddcfe3ea",
       "version_major": 2,
       "version_minor": 0
      },
      "text/plain": [
       "preprocessor_config.json:   0%|          | 0.00/425 [00:00<?, ?B/s]"
      ]
     },
     "metadata": {},
     "output_type": "display_data"
    },
    {
     "data": {
      "application/vnd.jupyter.widget-view+json": {
       "model_id": "f94e24a892b446feb210468183e602cf",
       "version_major": 2,
       "version_minor": 0
      },
      "text/plain": [
       "tokenizer_config.json:   0%|          | 0.00/243k [00:00<?, ?B/s]"
      ]
     },
     "metadata": {},
     "output_type": "display_data"
    },
    {
     "data": {
      "application/vnd.jupyter.widget-view+json": {
       "model_id": "98aacd6342224c51b35a043870fb9f34",
       "version_major": 2,
       "version_minor": 0
      },
      "text/plain": [
       "tokenizer.json:   0%|          | 0.00/34.6M [00:00<?, ?B/s]"
      ]
     },
     "metadata": {},
     "output_type": "display_data"
    },
    {
     "data": {
      "application/vnd.jupyter.widget-view+json": {
       "model_id": "79d6279410b441179e5267c294377cec",
       "version_major": 2,
       "version_minor": 0
      },
      "text/plain": [
       "special_tokens_map.json:   0%|          | 0.00/733 [00:00<?, ?B/s]"
      ]
     },
     "metadata": {},
     "output_type": "display_data"
    },
    {
     "name": "stderr",
     "output_type": "stream",
     "text": [
      "Processing Images:   0%|          | 0/932 [00:00<?, ?file/s][codecarbon INFO @ 02:21:40] [setup] RAM Tracking...\n",
      "[codecarbon INFO @ 02:21:40] [setup] CPU Tracking...\n",
      "[codecarbon WARNING @ 02:21:40] No CPU tracking mode found. Falling back on CPU constant mode. \n",
      " Linux OS detected: Please ensure RAPL files exist at \\sys\\class\\powercap\\intel-rapl to measure CPU\n",
      "\n",
      "[codecarbon INFO @ 02:21:41] CPU Model on constant consumption mode: AMD EPYC 7513 32-Core Processor\n",
      "[codecarbon INFO @ 02:21:41] [setup] GPU Tracking...\n",
      "[codecarbon INFO @ 02:21:41] Tracking Nvidia GPU via pynvml\n",
      "[codecarbon INFO @ 02:21:41] >>> Tracker's metadata:\n",
      "[codecarbon INFO @ 02:21:41]   Platform system: Linux-6.8.0-45-generic-x86_64-with-glibc2.35\n",
      "[codecarbon INFO @ 02:21:41]   Python version: 3.11.10\n",
      "[codecarbon INFO @ 02:21:41]   CodeCarbon version: 2.8.2\n",
      "[codecarbon INFO @ 02:21:41]   Available RAM : 503.464 GB\n",
      "[codecarbon INFO @ 02:21:41]   CPU count: 128\n",
      "[codecarbon INFO @ 02:21:41]   CPU model: AMD EPYC 7513 32-Core Processor\n",
      "[codecarbon INFO @ 02:21:41]   GPU count: 1\n",
      "[codecarbon INFO @ 02:21:41]   GPU model: 1 x NVIDIA A100-SXM4-80GB\n",
      "[codecarbon INFO @ 02:21:44] Saving emissions data to file /emissions.csv\n",
      "Processing: Class 1 - Motorcycles:  10%|▉         | 92/932 [00:19<02:11,  6.40file/s] [codecarbon INFO @ 02:21:59] Energy consumed for RAM : 0.000787 kWh. RAM Power : 188.79906034469604 W\n",
      "[codecarbon INFO @ 02:21:59] Energy consumed for all CPUs : 0.000417 kWh. Total CPU Power : 100.0 W\n",
      "[codecarbon INFO @ 02:21:59] Energy consumed for all GPUs : 0.000772 kWh. Total GPU Power : 185.18467699142514 W\n",
      "[codecarbon INFO @ 02:21:59] 0.001976 kWh of electricity used since the beginning.\n",
      "Processing: Class 2 - Car, SUV, Station Wagons:  20%|█▉        | 183/932 [00:34<02:06,  5.92file/s][codecarbon INFO @ 02:22:14] Energy consumed for RAM : 0.001573 kWh. RAM Power : 188.79906034469604 W\n",
      "[codecarbon INFO @ 02:22:14] Energy consumed for all CPUs : 0.000833 kWh. Total CPU Power : 100.0 W\n",
      "[codecarbon INFO @ 02:22:14] Energy consumed for all GPUs : 0.001530 kWh. Total GPU Power : 181.92387205601906 W\n",
      "[codecarbon INFO @ 02:22:14] 0.003937 kWh of electricity used since the beginning.\n",
      "Processing: pickup:  22%|██▏       | 201/932 [00:37<02:35,  4.70file/s]                            "
     ]
    },
    {
     "name": "stdout",
     "output_type": "stream",
     "text": [
      "Is Pickup Truck: yes\n"
     ]
    },
    {
     "name": "stderr",
     "output_type": "stream",
     "text": [
      "Processing: pickup:  22%|██▏       | 202/932 [00:37<02:56,  4.14file/s]"
     ]
    },
    {
     "name": "stdout",
     "output_type": "stream",
     "text": [
      "Is Pickup Truck: yes\n"
     ]
    },
    {
     "name": "stderr",
     "output_type": "stream",
     "text": [
      "Processing: pickup:  22%|██▏       | 204/932 [00:38<02:48,  4.33file/s]"
     ]
    },
    {
     "name": "stdout",
     "output_type": "stream",
     "text": [
      "Is Pickup Truck: yes\n"
     ]
    },
    {
     "name": "stderr",
     "output_type": "stream",
     "text": [
      "Processing: pickup:  22%|██▏       | 205/932 [00:38<03:05,  3.91file/s]"
     ]
    },
    {
     "name": "stdout",
     "output_type": "stream",
     "text": [
      "Is Pickup Truck: yes\n"
     ]
    },
    {
     "name": "stderr",
     "output_type": "stream",
     "text": [
      "Processing: pickup:  22%|██▏       | 206/932 [00:38<03:17,  3.68file/s]"
     ]
    },
    {
     "name": "stdout",
     "output_type": "stream",
     "text": [
      "Is Pickup Truck: yes\n"
     ]
    },
    {
     "name": "stderr",
     "output_type": "stream",
     "text": [
      "Processing: pickup:  22%|██▏       | 207/932 [00:39<03:24,  3.55file/s]"
     ]
    },
    {
     "name": "stdout",
     "output_type": "stream",
     "text": [
      "Is Pickup Truck: yes\n"
     ]
    },
    {
     "name": "stderr",
     "output_type": "stream",
     "text": [
      "Processing: pickup:  22%|██▏       | 208/932 [00:39<03:31,  3.43file/s]"
     ]
    },
    {
     "name": "stdout",
     "output_type": "stream",
     "text": [
      "Is Pickup Truck: yes\n"
     ]
    },
    {
     "name": "stderr",
     "output_type": "stream",
     "text": [
      "Processing: pickup:  22%|██▏       | 209/932 [00:39<03:33,  3.38file/s]"
     ]
    },
    {
     "name": "stdout",
     "output_type": "stream",
     "text": [
      "Is Pickup Truck: yes\n"
     ]
    },
    {
     "name": "stderr",
     "output_type": "stream",
     "text": [
      "Processing: pickup:  23%|██▎       | 210/932 [00:40<03:37,  3.31file/s]"
     ]
    },
    {
     "name": "stdout",
     "output_type": "stream",
     "text": [
      "Is Pickup Truck: yes\n"
     ]
    },
    {
     "name": "stderr",
     "output_type": "stream",
     "text": [
      "Processing: pickup:  23%|██▎       | 211/932 [00:40<03:39,  3.28file/s]"
     ]
    },
    {
     "name": "stdout",
     "output_type": "stream",
     "text": [
      "Is Pickup Truck: yes\n"
     ]
    },
    {
     "name": "stderr",
     "output_type": "stream",
     "text": [
      "Processing: pickup:  23%|██▎       | 212/932 [00:40<03:41,  3.26file/s]"
     ]
    },
    {
     "name": "stdout",
     "output_type": "stream",
     "text": [
      "Is Pickup Truck: yes\n"
     ]
    },
    {
     "name": "stderr",
     "output_type": "stream",
     "text": [
      "Processing: pickup:  23%|██▎       | 213/932 [00:41<03:41,  3.24file/s]"
     ]
    },
    {
     "name": "stdout",
     "output_type": "stream",
     "text": [
      "Is Pickup Truck: yes\n"
     ]
    },
    {
     "name": "stderr",
     "output_type": "stream",
     "text": [
      "Processing: pickup:  23%|██▎       | 214/932 [00:41<03:42,  3.22file/s]"
     ]
    },
    {
     "name": "stdout",
     "output_type": "stream",
     "text": [
      "Is Pickup Truck: yes\n"
     ]
    },
    {
     "name": "stderr",
     "output_type": "stream",
     "text": [
      "Processing: pickup:  23%|██▎       | 215/932 [00:41<03:43,  3.21file/s]"
     ]
    },
    {
     "name": "stdout",
     "output_type": "stream",
     "text": [
      "Is Pickup Truck: yes\n"
     ]
    },
    {
     "name": "stderr",
     "output_type": "stream",
     "text": [
      "Processing: pickup:  23%|██▎       | 216/932 [00:42<03:41,  3.23file/s]"
     ]
    },
    {
     "name": "stdout",
     "output_type": "stream",
     "text": [
      "Is Pickup Truck: yes\n"
     ]
    },
    {
     "name": "stderr",
     "output_type": "stream",
     "text": [
      "Processing: pickup:  23%|██▎       | 218/932 [00:42<03:07,  3.81file/s]"
     ]
    },
    {
     "name": "stdout",
     "output_type": "stream",
     "text": [
      "Is Pickup Truck: yes\n"
     ]
    },
    {
     "name": "stderr",
     "output_type": "stream",
     "text": [
      "Processing: pickup:  23%|██▎       | 219/932 [00:42<03:17,  3.62file/s]"
     ]
    },
    {
     "name": "stdout",
     "output_type": "stream",
     "text": [
      "Is Pickup Truck: yes\n"
     ]
    },
    {
     "name": "stderr",
     "output_type": "stream",
     "text": [
      "Processing: pickup:  24%|██▎       | 220/932 [00:43<03:26,  3.45file/s]"
     ]
    },
    {
     "name": "stdout",
     "output_type": "stream",
     "text": [
      "Is Pickup Truck: yes\n"
     ]
    },
    {
     "name": "stderr",
     "output_type": "stream",
     "text": [
      "Processing: pickup:  24%|██▎       | 221/932 [00:43<03:31,  3.36file/s]"
     ]
    },
    {
     "name": "stdout",
     "output_type": "stream",
     "text": [
      "Is Pickup Truck: yes\n"
     ]
    },
    {
     "name": "stderr",
     "output_type": "stream",
     "text": [
      "Processing: pickup:  24%|██▍       | 222/932 [00:43<03:33,  3.32file/s]"
     ]
    },
    {
     "name": "stdout",
     "output_type": "stream",
     "text": [
      "Is Pickup Truck: yes\n"
     ]
    },
    {
     "name": "stderr",
     "output_type": "stream",
     "text": [
      "Processing: pickup:  24%|██▍       | 223/932 [00:44<03:36,  3.27file/s]"
     ]
    },
    {
     "name": "stdout",
     "output_type": "stream",
     "text": [
      "Is Pickup Truck: yes\n"
     ]
    },
    {
     "name": "stderr",
     "output_type": "stream",
     "text": [
      "Processing: pickup:  24%|██▍       | 224/932 [00:44<03:37,  3.26file/s]"
     ]
    },
    {
     "name": "stdout",
     "output_type": "stream",
     "text": [
      "Is Pickup Truck: yes\n"
     ]
    },
    {
     "name": "stderr",
     "output_type": "stream",
     "text": [
      "Processing: pickup:  24%|██▍       | 225/932 [00:44<03:37,  3.25file/s]"
     ]
    },
    {
     "name": "stdout",
     "output_type": "stream",
     "text": [
      "Is Pickup Truck: yes\n"
     ]
    },
    {
     "name": "stderr",
     "output_type": "stream",
     "text": [
      "Processing: pickup:  24%|██▍       | 226/932 [00:45<03:56,  2.99file/s]"
     ]
    },
    {
     "name": "stdout",
     "output_type": "stream",
     "text": [
      "Is Pickup Truck: yes\n"
     ]
    },
    {
     "name": "stderr",
     "output_type": "stream",
     "text": [
      "Processing: pickup:  24%|██▍       | 227/932 [00:45<03:53,  3.03file/s]"
     ]
    },
    {
     "name": "stdout",
     "output_type": "stream",
     "text": [
      "Is Pickup Truck: yes\n"
     ]
    },
    {
     "name": "stderr",
     "output_type": "stream",
     "text": [
      "Processing: pickup:  24%|██▍       | 228/932 [00:45<03:48,  3.08file/s]"
     ]
    },
    {
     "name": "stdout",
     "output_type": "stream",
     "text": [
      "Is Pickup Truck: yes\n"
     ]
    },
    {
     "name": "stderr",
     "output_type": "stream",
     "text": [
      "Processing: pickup:  25%|██▍       | 229/932 [00:45<03:43,  3.14file/s]"
     ]
    },
    {
     "name": "stdout",
     "output_type": "stream",
     "text": [
      "Is Pickup Truck: yes\n"
     ]
    },
    {
     "name": "stderr",
     "output_type": "stream",
     "text": [
      "Processing: pickup:  25%|██▍       | 230/932 [00:46<03:43,  3.14file/s]"
     ]
    },
    {
     "name": "stdout",
     "output_type": "stream",
     "text": [
      "Is Pickup Truck: yes\n"
     ]
    },
    {
     "name": "stderr",
     "output_type": "stream",
     "text": [
      "Processing: pickup:  25%|██▍       | 231/932 [00:46<03:40,  3.18file/s]"
     ]
    },
    {
     "name": "stdout",
     "output_type": "stream",
     "text": [
      "Is Pickup Truck: yes\n"
     ]
    },
    {
     "name": "stderr",
     "output_type": "stream",
     "text": [
      "Processing: pickup:  25%|██▌       | 233/932 [00:47<03:05,  3.77file/s]"
     ]
    },
    {
     "name": "stdout",
     "output_type": "stream",
     "text": [
      "Is Pickup Truck: yes\n"
     ]
    },
    {
     "name": "stderr",
     "output_type": "stream",
     "text": [
      "Processing: pickup:  25%|██▌       | 234/932 [00:47<03:14,  3.58file/s]"
     ]
    },
    {
     "name": "stdout",
     "output_type": "stream",
     "text": [
      "Is Pickup Truck: yes\n"
     ]
    },
    {
     "name": "stderr",
     "output_type": "stream",
     "text": [
      "Processing: pickup:  25%|██▌       | 235/932 [00:47<03:20,  3.48file/s]"
     ]
    },
    {
     "name": "stdout",
     "output_type": "stream",
     "text": [
      "Is Pickup Truck: yes\n"
     ]
    },
    {
     "name": "stderr",
     "output_type": "stream",
     "text": [
      "Processing: pickup:  25%|██▌       | 236/932 [00:48<03:29,  3.32file/s]"
     ]
    },
    {
     "name": "stdout",
     "output_type": "stream",
     "text": [
      "Is Pickup Truck: yes\n"
     ]
    },
    {
     "name": "stderr",
     "output_type": "stream",
     "text": [
      "Processing: pickup:  25%|██▌       | 237/932 [00:48<03:31,  3.28file/s]"
     ]
    },
    {
     "name": "stdout",
     "output_type": "stream",
     "text": [
      "Is Pickup Truck: yes\n"
     ]
    },
    {
     "name": "stderr",
     "output_type": "stream",
     "text": [
      "Processing: pickup:  26%|██▌       | 239/932 [00:48<03:01,  3.82file/s]"
     ]
    },
    {
     "name": "stdout",
     "output_type": "stream",
     "text": [
      "Is Pickup Truck: yes\n"
     ]
    },
    {
     "name": "stderr",
     "output_type": "stream",
     "text": [
      "Processing: pickup:  26%|██▌       | 240/932 [00:49<03:11,  3.62file/s]"
     ]
    },
    {
     "name": "stdout",
     "output_type": "stream",
     "text": [
      "Is Pickup Truck: yes\n"
     ]
    },
    {
     "name": "stderr",
     "output_type": "stream",
     "text": [
      "[codecarbon INFO @ 02:22:29] Energy consumed for RAM : 0.002360 kWh. RAM Power : 188.79906034469604 W\n",
      "[codecarbon INFO @ 02:22:29] Energy consumed for all CPUs : 0.001250 kWh. Total CPU Power : 100.0 W\n",
      "[codecarbon INFO @ 02:22:29] Energy consumed for all GPUs : 0.002311 kWh. Total GPU Power : 187.5377763254328 W\n",
      "[codecarbon INFO @ 02:22:29] 0.005921 kWh of electricity used since the beginning.\n",
      "Processing: pickup:  26%|██▌       | 241/932 [00:49<03:18,  3.48file/s]"
     ]
    },
    {
     "name": "stdout",
     "output_type": "stream",
     "text": [
      "Is Pickup Truck: yes\n"
     ]
    },
    {
     "name": "stderr",
     "output_type": "stream",
     "text": [
      "Processing: pickup:  26%|██▌       | 242/932 [00:49<03:23,  3.39file/s]"
     ]
    },
    {
     "name": "stdout",
     "output_type": "stream",
     "text": [
      "Is Pickup Truck: yes\n"
     ]
    },
    {
     "name": "stderr",
     "output_type": "stream",
     "text": [
      "Processing: pickup:  26%|██▌       | 244/932 [00:50<02:58,  3.86file/s]"
     ]
    },
    {
     "name": "stdout",
     "output_type": "stream",
     "text": [
      "Is Pickup Truck: yes\n"
     ]
    },
    {
     "name": "stderr",
     "output_type": "stream",
     "text": [
      "Processing: pickup:  26%|██▋       | 245/932 [00:50<03:12,  3.56file/s]"
     ]
    },
    {
     "name": "stdout",
     "output_type": "stream",
     "text": [
      "Is Pickup Truck: yes\n"
     ]
    },
    {
     "name": "stderr",
     "output_type": "stream",
     "text": [
      "Processing: pickup:  26%|██▋       | 246/932 [00:50<03:19,  3.45file/s]"
     ]
    },
    {
     "name": "stdout",
     "output_type": "stream",
     "text": [
      "Is Pickup Truck: yes\n"
     ]
    },
    {
     "name": "stderr",
     "output_type": "stream",
     "text": [
      "Processing: pickup:  27%|██▋       | 248/932 [00:51<02:52,  3.96file/s]"
     ]
    },
    {
     "name": "stdout",
     "output_type": "stream",
     "text": [
      "Is Pickup Truck: yes\n"
     ]
    },
    {
     "name": "stderr",
     "output_type": "stream",
     "text": [
      "Processing: pickup:  27%|██▋       | 250/932 [00:51<02:43,  4.18file/s]"
     ]
    },
    {
     "name": "stdout",
     "output_type": "stream",
     "text": [
      "Is Pickup Truck: yes\n"
     ]
    },
    {
     "name": "stderr",
     "output_type": "stream",
     "text": [
      "Processing: pickup:  27%|██▋       | 252/932 [00:52<02:37,  4.33file/s]"
     ]
    },
    {
     "name": "stdout",
     "output_type": "stream",
     "text": [
      "Is Pickup Truck: yes\n"
     ]
    },
    {
     "name": "stderr",
     "output_type": "stream",
     "text": [
      "Processing: pickup:  27%|██▋       | 253/932 [00:52<02:54,  3.90file/s]"
     ]
    },
    {
     "name": "stdout",
     "output_type": "stream",
     "text": [
      "Is Pickup Truck: yes\n"
     ]
    },
    {
     "name": "stderr",
     "output_type": "stream",
     "text": [
      "Processing: pickup:  27%|██▋       | 254/932 [00:52<03:19,  3.40file/s]"
     ]
    },
    {
     "name": "stdout",
     "output_type": "stream",
     "text": [
      "Is Pickup Truck: yes\n"
     ]
    },
    {
     "name": "stderr",
     "output_type": "stream",
     "text": [
      "Processing: pickup:  27%|██▋       | 256/932 [00:53<03:02,  3.70file/s]"
     ]
    },
    {
     "name": "stdout",
     "output_type": "stream",
     "text": [
      "Is Pickup Truck: yes\n"
     ]
    },
    {
     "name": "stderr",
     "output_type": "stream",
     "text": [
      "Processing: pickup:  28%|██▊       | 257/932 [00:53<03:11,  3.53file/s]"
     ]
    },
    {
     "name": "stdout",
     "output_type": "stream",
     "text": [
      "Is Pickup Truck: yes\n"
     ]
    },
    {
     "name": "stderr",
     "output_type": "stream",
     "text": [
      "Processing: pickup:  28%|██▊       | 258/932 [00:54<03:15,  3.44file/s]"
     ]
    },
    {
     "name": "stdout",
     "output_type": "stream",
     "text": [
      "Is Pickup Truck: yes\n"
     ]
    },
    {
     "name": "stderr",
     "output_type": "stream",
     "text": [
      "Processing: pickup:  28%|██▊       | 259/932 [00:54<03:19,  3.37file/s]"
     ]
    },
    {
     "name": "stdout",
     "output_type": "stream",
     "text": [
      "Is Pickup Truck: yes\n"
     ]
    },
    {
     "name": "stderr",
     "output_type": "stream",
     "text": [
      "Processing: pickup:  28%|██▊       | 260/932 [00:54<03:21,  3.34file/s]"
     ]
    },
    {
     "name": "stdout",
     "output_type": "stream",
     "text": [
      "Is Pickup Truck: yes\n"
     ]
    },
    {
     "name": "stderr",
     "output_type": "stream",
     "text": [
      "Processing: pickup:  28%|██▊       | 261/932 [00:55<03:23,  3.30file/s]"
     ]
    },
    {
     "name": "stdout",
     "output_type": "stream",
     "text": [
      "Is Pickup Truck: yes\n"
     ]
    },
    {
     "name": "stderr",
     "output_type": "stream",
     "text": [
      "Processing: pickup:  28%|██▊       | 262/932 [00:55<03:25,  3.26file/s]"
     ]
    },
    {
     "name": "stdout",
     "output_type": "stream",
     "text": [
      "Is Pickup Truck: yes\n"
     ]
    },
    {
     "name": "stderr",
     "output_type": "stream",
     "text": [
      "Processing: pickup:  28%|██▊       | 263/932 [00:55<03:28,  3.20file/s]"
     ]
    },
    {
     "name": "stdout",
     "output_type": "stream",
     "text": [
      "Is Pickup Truck: yes\n"
     ]
    },
    {
     "name": "stderr",
     "output_type": "stream",
     "text": [
      "Processing: pickup:  28%|██▊       | 264/932 [00:56<03:28,  3.21file/s]"
     ]
    },
    {
     "name": "stdout",
     "output_type": "stream",
     "text": [
      "Is Pickup Truck: yes\n"
     ]
    },
    {
     "name": "stderr",
     "output_type": "stream",
     "text": [
      "Processing: pickup:  28%|██▊       | 265/932 [00:56<03:26,  3.24file/s]"
     ]
    },
    {
     "name": "stdout",
     "output_type": "stream",
     "text": [
      "Is Pickup Truck: yes\n"
     ]
    },
    {
     "name": "stderr",
     "output_type": "stream",
     "text": [
      "Processing: pickup:  29%|██▊       | 266/932 [00:56<03:26,  3.22file/s]"
     ]
    },
    {
     "name": "stdout",
     "output_type": "stream",
     "text": [
      "Is Pickup Truck: no\n"
     ]
    },
    {
     "name": "stderr",
     "output_type": "stream",
     "text": [
      "Processing: pickup:  29%|██▊       | 267/932 [00:56<03:29,  3.18file/s]"
     ]
    },
    {
     "name": "stdout",
     "output_type": "stream",
     "text": [
      "Is Pickup Truck: yes\n"
     ]
    },
    {
     "name": "stderr",
     "output_type": "stream",
     "text": [
      "Processing: pickup:  29%|██▉       | 268/932 [00:57<03:31,  3.13file/s]"
     ]
    },
    {
     "name": "stdout",
     "output_type": "stream",
     "text": [
      "Is Pickup Truck: yes\n"
     ]
    },
    {
     "name": "stderr",
     "output_type": "stream",
     "text": [
      "Processing: pickup:  29%|██▉       | 269/932 [00:57<03:30,  3.15file/s]"
     ]
    },
    {
     "name": "stdout",
     "output_type": "stream",
     "text": [
      "Is Pickup Truck: yes\n"
     ]
    },
    {
     "name": "stderr",
     "output_type": "stream",
     "text": [
      "Processing: pickup:  29%|██▉       | 270/932 [00:57<03:27,  3.19file/s]"
     ]
    },
    {
     "name": "stdout",
     "output_type": "stream",
     "text": [
      "Is Pickup Truck: yes\n"
     ]
    },
    {
     "name": "stderr",
     "output_type": "stream",
     "text": [
      "Processing: pickup:  29%|██▉       | 271/932 [00:58<03:25,  3.22file/s]"
     ]
    },
    {
     "name": "stdout",
     "output_type": "stream",
     "text": [
      "Is Pickup Truck: yes\n"
     ]
    },
    {
     "name": "stderr",
     "output_type": "stream",
     "text": [
      "Processing: pickup:  29%|██▉       | 272/932 [00:58<03:23,  3.24file/s]"
     ]
    },
    {
     "name": "stdout",
     "output_type": "stream",
     "text": [
      "Is Pickup Truck: yes\n"
     ]
    },
    {
     "name": "stderr",
     "output_type": "stream",
     "text": [
      "Processing: pickup:  29%|██▉       | 273/932 [00:58<03:26,  3.19file/s]"
     ]
    },
    {
     "name": "stdout",
     "output_type": "stream",
     "text": [
      "Is Pickup Truck: yes\n"
     ]
    },
    {
     "name": "stderr",
     "output_type": "stream",
     "text": [
      "Processing: pickup:  29%|██▉       | 274/932 [00:59<03:23,  3.23file/s]"
     ]
    },
    {
     "name": "stdout",
     "output_type": "stream",
     "text": [
      "Is Pickup Truck: yes\n"
     ]
    },
    {
     "name": "stderr",
     "output_type": "stream",
     "text": [
      "Processing: pickup:  30%|██▉       | 275/932 [00:59<03:24,  3.22file/s]"
     ]
    },
    {
     "name": "stdout",
     "output_type": "stream",
     "text": [
      "Is Pickup Truck: yes\n"
     ]
    },
    {
     "name": "stderr",
     "output_type": "stream",
     "text": [
      "Processing: pickup:  30%|██▉       | 276/932 [00:59<03:22,  3.24file/s]"
     ]
    },
    {
     "name": "stdout",
     "output_type": "stream",
     "text": [
      "Is Pickup Truck: yes\n"
     ]
    },
    {
     "name": "stderr",
     "output_type": "stream",
     "text": [
      "Processing: pickup:  30%|██▉       | 277/932 [01:00<03:22,  3.24file/s]"
     ]
    },
    {
     "name": "stdout",
     "output_type": "stream",
     "text": [
      "Is Pickup Truck: yes\n"
     ]
    },
    {
     "name": "stderr",
     "output_type": "stream",
     "text": [
      "Processing: pickup:  30%|██▉       | 278/932 [01:00<03:21,  3.25file/s]"
     ]
    },
    {
     "name": "stdout",
     "output_type": "stream",
     "text": [
      "Is Pickup Truck: yes\n"
     ]
    },
    {
     "name": "stderr",
     "output_type": "stream",
     "text": [
      "Processing: pickup:  30%|███       | 280/932 [01:00<02:51,  3.80file/s]"
     ]
    },
    {
     "name": "stdout",
     "output_type": "stream",
     "text": [
      "Is Pickup Truck: yes\n"
     ]
    },
    {
     "name": "stderr",
     "output_type": "stream",
     "text": [
      "Processing: pickup:  30%|███       | 281/932 [01:01<02:59,  3.62file/s]"
     ]
    },
    {
     "name": "stdout",
     "output_type": "stream",
     "text": [
      "Is Pickup Truck: yes\n"
     ]
    },
    {
     "name": "stderr",
     "output_type": "stream",
     "text": [
      "Processing: pickup:  30%|███       | 282/932 [01:01<03:05,  3.51file/s]"
     ]
    },
    {
     "name": "stdout",
     "output_type": "stream",
     "text": [
      "Is Pickup Truck: yes\n"
     ]
    },
    {
     "name": "stderr",
     "output_type": "stream",
     "text": [
      "Processing: pickup:  30%|███       | 283/932 [01:01<03:13,  3.35file/s]"
     ]
    },
    {
     "name": "stdout",
     "output_type": "stream",
     "text": [
      "Is Pickup Truck: yes\n"
     ]
    },
    {
     "name": "stderr",
     "output_type": "stream",
     "text": [
      "Processing: pickup:  31%|███       | 285/932 [01:02<02:54,  3.72file/s]"
     ]
    },
    {
     "name": "stdout",
     "output_type": "stream",
     "text": [
      "Is Pickup Truck: yes\n"
     ]
    },
    {
     "name": "stderr",
     "output_type": "stream",
     "text": [
      "Processing: pickup:  31%|███       | 287/932 [01:02<02:36,  4.12file/s]"
     ]
    },
    {
     "name": "stdout",
     "output_type": "stream",
     "text": [
      "Is Pickup Truck: yes\n"
     ]
    },
    {
     "name": "stderr",
     "output_type": "stream",
     "text": [
      "Processing: pickup:  31%|███       | 289/932 [01:03<02:31,  4.24file/s]"
     ]
    },
    {
     "name": "stdout",
     "output_type": "stream",
     "text": [
      "Is Pickup Truck: yes\n"
     ]
    },
    {
     "name": "stderr",
     "output_type": "stream",
     "text": [
      "Processing: pickup:  31%|███       | 290/932 [01:03<02:46,  3.86file/s]"
     ]
    },
    {
     "name": "stdout",
     "output_type": "stream",
     "text": [
      "Is Pickup Truck: yes\n"
     ]
    },
    {
     "name": "stderr",
     "output_type": "stream",
     "text": [
      "Processing: pickup:  31%|███       | 291/932 [01:03<02:54,  3.68file/s]"
     ]
    },
    {
     "name": "stdout",
     "output_type": "stream",
     "text": [
      "Is Pickup Truck: yes\n"
     ]
    },
    {
     "name": "stderr",
     "output_type": "stream",
     "text": [
      "Processing: pickup:  31%|███▏      | 292/932 [01:04<03:00,  3.55file/s]"
     ]
    },
    {
     "name": "stdout",
     "output_type": "stream",
     "text": [
      "Is Pickup Truck: yes\n"
     ]
    },
    {
     "name": "stderr",
     "output_type": "stream",
     "text": [
      "[codecarbon INFO @ 02:22:44] Energy consumed for RAM : 0.003146 kWh. RAM Power : 188.79906034469604 W\n",
      "[codecarbon INFO @ 02:22:44] Energy consumed for all CPUs : 0.001666 kWh. Total CPU Power : 100.0 W\n",
      "[codecarbon INFO @ 02:22:44] Energy consumed for all GPUs : 0.003096 kWh. Total GPU Power : 188.35826593008673 W\n",
      "[codecarbon INFO @ 02:22:44] 0.007908 kWh of electricity used since the beginning.\n",
      "Processing: pickup:  31%|███▏      | 293/932 [01:04<03:06,  3.43file/s]"
     ]
    },
    {
     "name": "stdout",
     "output_type": "stream",
     "text": [
      "Is Pickup Truck: yes\n"
     ]
    },
    {
     "name": "stderr",
     "output_type": "stream",
     "text": [
      "Processing: pickup:  32%|███▏      | 294/932 [01:04<03:11,  3.34file/s]"
     ]
    },
    {
     "name": "stdout",
     "output_type": "stream",
     "text": [
      "Is Pickup Truck: yes\n"
     ]
    },
    {
     "name": "stderr",
     "output_type": "stream",
     "text": [
      "Processing: pickup:  32%|███▏      | 295/932 [01:05<03:17,  3.23file/s]"
     ]
    },
    {
     "name": "stdout",
     "output_type": "stream",
     "text": [
      "Is Pickup Truck: yes\n"
     ]
    },
    {
     "name": "stderr",
     "output_type": "stream",
     "text": [
      "Processing: pickup:  32%|███▏      | 296/932 [01:05<03:18,  3.21file/s]"
     ]
    },
    {
     "name": "stdout",
     "output_type": "stream",
     "text": [
      "Is Pickup Truck: yes\n"
     ]
    },
    {
     "name": "stderr",
     "output_type": "stream",
     "text": [
      "Processing: pickup:  32%|███▏      | 297/932 [01:05<03:17,  3.21file/s]"
     ]
    },
    {
     "name": "stdout",
     "output_type": "stream",
     "text": [
      "Is Pickup Truck: yes\n"
     ]
    },
    {
     "name": "stderr",
     "output_type": "stream",
     "text": [
      "Processing: pickup:  32%|███▏      | 298/932 [01:06<03:18,  3.19file/s]"
     ]
    },
    {
     "name": "stdout",
     "output_type": "stream",
     "text": [
      "Is Pickup Truck: yes\n"
     ]
    },
    {
     "name": "stderr",
     "output_type": "stream",
     "text": [
      "Processing: pickup:  32%|███▏      | 299/932 [01:06<03:16,  3.23file/s]"
     ]
    },
    {
     "name": "stdout",
     "output_type": "stream",
     "text": [
      "Is Pickup Truck: yes\n"
     ]
    },
    {
     "name": "stderr",
     "output_type": "stream",
     "text": [
      "Processing: van:  32%|███▏      | 301/932 [01:06<02:46,  3.79file/s]   "
     ]
    },
    {
     "name": "stdout",
     "output_type": "stream",
     "text": [
      "Is Pickup Truck: yes\n"
     ]
    },
    {
     "name": "stderr",
     "output_type": "stream",
     "text": [
      "Processing: van:  41%|████      | 381/932 [01:19<01:26,  6.37file/s][codecarbon INFO @ 02:22:59] Energy consumed for RAM : 0.003932 kWh. RAM Power : 188.79906034469604 W\n",
      "[codecarbon INFO @ 02:22:59] Energy consumed for all CPUs : 0.002083 kWh. Total CPU Power : 100.0 W\n",
      "[codecarbon INFO @ 02:22:59] Energy consumed for all GPUs : 0.003889 kWh. Total GPU Power : 190.50880202015253 W\n",
      "[codecarbon INFO @ 02:22:59] 0.009905 kWh of electricity used since the beginning.\n",
      "Processing: truck 2:  48%|████▊     | 443/932 [01:29<01:43,  4.71file/s]"
     ]
    },
    {
     "name": "stdout",
     "output_type": "stream",
     "text": [
      "Is Pickup Truck: no\n"
     ]
    },
    {
     "name": "stderr",
     "output_type": "stream",
     "text": [
      "Processing: truck 2:  48%|████▊     | 444/932 [01:29<01:59,  4.10file/s]"
     ]
    },
    {
     "name": "stdout",
     "output_type": "stream",
     "text": [
      "Is Pickup Truck: no\n"
     ]
    },
    {
     "name": "stderr",
     "output_type": "stream",
     "text": [
      "Processing: truck 2:  48%|████▊     | 445/932 [01:30<02:11,  3.71file/s]"
     ]
    },
    {
     "name": "stdout",
     "output_type": "stream",
     "text": [
      "Is Pickup Truck: no\n"
     ]
    },
    {
     "name": "stderr",
     "output_type": "stream",
     "text": [
      "Processing: truck 2:  48%|████▊     | 446/932 [01:30<02:20,  3.47file/s]"
     ]
    },
    {
     "name": "stdout",
     "output_type": "stream",
     "text": [
      "Is Pickup Truck: no\n"
     ]
    },
    {
     "name": "stderr",
     "output_type": "stream",
     "text": [
      "Processing: truck 2:  48%|████▊     | 447/932 [01:30<02:26,  3.32file/s]"
     ]
    },
    {
     "name": "stdout",
     "output_type": "stream",
     "text": [
      "Is Pickup Truck: no\n"
     ]
    },
    {
     "name": "stderr",
     "output_type": "stream",
     "text": [
      "Processing: truck 2:  48%|████▊     | 449/932 [01:31<02:17,  3.51file/s]"
     ]
    },
    {
     "name": "stdout",
     "output_type": "stream",
     "text": [
      "Is Pickup Truck: no\n"
     ]
    },
    {
     "name": "stderr",
     "output_type": "stream",
     "text": [
      "Processing: truck 2:  48%|████▊     | 450/932 [01:31<02:23,  3.35file/s]"
     ]
    },
    {
     "name": "stdout",
     "output_type": "stream",
     "text": [
      "Is Pickup Truck: no\n"
     ]
    },
    {
     "name": "stderr",
     "output_type": "stream",
     "text": [
      "Processing: truck 2:  48%|████▊     | 451/932 [01:32<02:29,  3.22file/s]"
     ]
    },
    {
     "name": "stdout",
     "output_type": "stream",
     "text": [
      "Is Pickup Truck: no\n"
     ]
    },
    {
     "name": "stderr",
     "output_type": "stream",
     "text": [
      "Processing: truck 2:  48%|████▊     | 452/932 [01:32<02:30,  3.18file/s]"
     ]
    },
    {
     "name": "stdout",
     "output_type": "stream",
     "text": [
      "Is Pickup Truck: no\n"
     ]
    },
    {
     "name": "stderr",
     "output_type": "stream",
     "text": [
      "Processing: truck 2:  49%|████▊     | 453/932 [01:32<02:33,  3.12file/s]"
     ]
    },
    {
     "name": "stdout",
     "output_type": "stream",
     "text": [
      "Is Pickup Truck: no\n"
     ]
    },
    {
     "name": "stderr",
     "output_type": "stream",
     "text": [
      "Processing: truck 2:  49%|████▊     | 454/932 [01:33<02:34,  3.10file/s]"
     ]
    },
    {
     "name": "stdout",
     "output_type": "stream",
     "text": [
      "Is Pickup Truck: no\n"
     ]
    },
    {
     "name": "stderr",
     "output_type": "stream",
     "text": [
      "Processing: truck 2:  49%|████▉     | 455/932 [01:33<02:34,  3.09file/s]"
     ]
    },
    {
     "name": "stdout",
     "output_type": "stream",
     "text": [
      "Is Pickup Truck: no\n"
     ]
    },
    {
     "name": "stderr",
     "output_type": "stream",
     "text": [
      "Processing: truck 2:  49%|████▉     | 456/932 [01:33<02:32,  3.12file/s]"
     ]
    },
    {
     "name": "stdout",
     "output_type": "stream",
     "text": [
      "Is Pickup Truck: no\n"
     ]
    },
    {
     "name": "stderr",
     "output_type": "stream",
     "text": [
      "Processing: truck 2:  49%|████▉     | 457/932 [01:34<02:31,  3.13file/s]"
     ]
    },
    {
     "name": "stdout",
     "output_type": "stream",
     "text": [
      "Is Pickup Truck: no\n"
     ]
    },
    {
     "name": "stderr",
     "output_type": "stream",
     "text": [
      "[codecarbon INFO @ 02:23:14] Energy consumed for RAM : 0.004719 kWh. RAM Power : 188.79906034469604 W\n",
      "[codecarbon INFO @ 02:23:14] Energy consumed for all CPUs : 0.002500 kWh. Total CPU Power : 100.0 W\n",
      "[codecarbon INFO @ 02:23:14] Energy consumed for all GPUs : 0.004661 kWh. Total GPU Power : 185.28651412040958 W\n",
      "[codecarbon INFO @ 02:23:14] 0.011879 kWh of electricity used since the beginning.\n",
      "Processing: truck 2:  49%|████▉     | 458/932 [01:34<02:37,  3.00file/s]"
     ]
    },
    {
     "name": "stdout",
     "output_type": "stream",
     "text": [
      "Is Pickup Truck: no\n"
     ]
    },
    {
     "name": "stderr",
     "output_type": "stream",
     "text": [
      "Processing: truck 2:  49%|████▉     | 459/932 [01:34<02:36,  3.03file/s]"
     ]
    },
    {
     "name": "stdout",
     "output_type": "stream",
     "text": [
      "Is Pickup Truck: no\n"
     ]
    },
    {
     "name": "stderr",
     "output_type": "stream",
     "text": [
      "Processing: truck 2:  49%|████▉     | 460/932 [01:35<02:33,  3.07file/s]"
     ]
    },
    {
     "name": "stdout",
     "output_type": "stream",
     "text": [
      "Is Pickup Truck: no\n"
     ]
    },
    {
     "name": "stderr",
     "output_type": "stream",
     "text": [
      "Processing: truck 2:  49%|████▉     | 461/932 [01:35<02:33,  3.07file/s]"
     ]
    },
    {
     "name": "stdout",
     "output_type": "stream",
     "text": [
      "Is Pickup Truck: no\n"
     ]
    },
    {
     "name": "stderr",
     "output_type": "stream",
     "text": [
      "Processing: truck 2:  50%|████▉     | 463/932 [01:36<02:15,  3.45file/s]"
     ]
    },
    {
     "name": "stdout",
     "output_type": "stream",
     "text": [
      "Is Pickup Truck: no\n"
     ]
    },
    {
     "name": "stderr",
     "output_type": "stream",
     "text": [
      "Processing: truck 2:  50%|████▉     | 464/932 [01:36<02:20,  3.34file/s]"
     ]
    },
    {
     "name": "stdout",
     "output_type": "stream",
     "text": [
      "Is Pickup Truck: no\n"
     ]
    },
    {
     "name": "stderr",
     "output_type": "stream",
     "text": [
      "Processing: truck 2:  50%|████▉     | 465/932 [01:36<02:22,  3.28file/s]"
     ]
    },
    {
     "name": "stdout",
     "output_type": "stream",
     "text": [
      "Is Pickup Truck: no\n"
     ]
    },
    {
     "name": "stderr",
     "output_type": "stream",
     "text": [
      "Processing: truck 2:  50%|█████     | 466/932 [01:37<02:25,  3.20file/s]"
     ]
    },
    {
     "name": "stdout",
     "output_type": "stream",
     "text": [
      "Is Pickup Truck: no\n"
     ]
    },
    {
     "name": "stderr",
     "output_type": "stream",
     "text": [
      "Processing: truck 2:  50%|█████     | 468/932 [01:37<02:05,  3.69file/s]"
     ]
    },
    {
     "name": "stdout",
     "output_type": "stream",
     "text": [
      "Is Pickup Truck: no\n"
     ]
    },
    {
     "name": "stderr",
     "output_type": "stream",
     "text": [
      "Processing: truck 2:  50%|█████     | 469/932 [01:37<02:12,  3.49file/s]"
     ]
    },
    {
     "name": "stdout",
     "output_type": "stream",
     "text": [
      "Is Pickup Truck: no\n"
     ]
    },
    {
     "name": "stderr",
     "output_type": "stream",
     "text": [
      "Processing: truck 2:  50%|█████     | 470/932 [01:38<02:15,  3.40file/s]"
     ]
    },
    {
     "name": "stdout",
     "output_type": "stream",
     "text": [
      "Is Pickup Truck: no\n"
     ]
    },
    {
     "name": "stderr",
     "output_type": "stream",
     "text": [
      "Processing: truck 2:  51%|█████     | 471/932 [01:38<02:19,  3.29file/s]"
     ]
    },
    {
     "name": "stdout",
     "output_type": "stream",
     "text": [
      "Is Pickup Truck: no\n"
     ]
    },
    {
     "name": "stderr",
     "output_type": "stream",
     "text": [
      "Processing: truck 2:  51%|█████     | 472/932 [01:38<02:22,  3.22file/s]"
     ]
    },
    {
     "name": "stdout",
     "output_type": "stream",
     "text": [
      "Is Pickup Truck: no\n"
     ]
    },
    {
     "name": "stderr",
     "output_type": "stream",
     "text": [
      "Processing: truck 2:  51%|█████     | 473/932 [01:39<02:24,  3.17file/s]"
     ]
    },
    {
     "name": "stdout",
     "output_type": "stream",
     "text": [
      "Is Pickup Truck: no\n"
     ]
    },
    {
     "name": "stderr",
     "output_type": "stream",
     "text": [
      "Processing: truck 2:  51%|█████     | 474/932 [01:39<02:24,  3.16file/s]"
     ]
    },
    {
     "name": "stdout",
     "output_type": "stream",
     "text": [
      "Is Pickup Truck: no\n"
     ]
    },
    {
     "name": "stderr",
     "output_type": "stream",
     "text": [
      "Processing: truck 2:  51%|█████     | 475/932 [01:39<02:25,  3.14file/s]"
     ]
    },
    {
     "name": "stdout",
     "output_type": "stream",
     "text": [
      "Is Pickup Truck: no\n"
     ]
    },
    {
     "name": "stderr",
     "output_type": "stream",
     "text": [
      "Processing: truck 2:  51%|█████     | 476/932 [01:40<02:24,  3.15file/s]"
     ]
    },
    {
     "name": "stdout",
     "output_type": "stream",
     "text": [
      "Is Pickup Truck: no\n"
     ]
    },
    {
     "name": "stderr",
     "output_type": "stream",
     "text": [
      "Processing: truck 2:  51%|█████     | 477/932 [01:40<02:25,  3.13file/s]"
     ]
    },
    {
     "name": "stdout",
     "output_type": "stream",
     "text": [
      "Is Pickup Truck: no\n"
     ]
    },
    {
     "name": "stderr",
     "output_type": "stream",
     "text": [
      "Processing: truck 2:  51%|█████▏    | 478/932 [01:40<02:25,  3.12file/s]"
     ]
    },
    {
     "name": "stdout",
     "output_type": "stream",
     "text": [
      "Is Pickup Truck: no\n"
     ]
    },
    {
     "name": "stderr",
     "output_type": "stream",
     "text": [
      "Processing: truck 2:  52%|█████▏    | 480/932 [01:41<02:02,  3.68file/s]"
     ]
    },
    {
     "name": "stdout",
     "output_type": "stream",
     "text": [
      "Is Pickup Truck: no\n"
     ]
    },
    {
     "name": "stderr",
     "output_type": "stream",
     "text": [
      "Processing: truck 2:  52%|█████▏    | 481/932 [01:41<02:11,  3.42file/s]"
     ]
    },
    {
     "name": "stdout",
     "output_type": "stream",
     "text": [
      "Is Pickup Truck: no\n"
     ]
    },
    {
     "name": "stderr",
     "output_type": "stream",
     "text": [
      "Processing: truck 2:  52%|█████▏    | 482/932 [01:41<02:17,  3.28file/s]"
     ]
    },
    {
     "name": "stdout",
     "output_type": "stream",
     "text": [
      "Is Pickup Truck: no\n"
     ]
    },
    {
     "name": "stderr",
     "output_type": "stream",
     "text": [
      "Processing: truck 2:  52%|█████▏    | 483/932 [01:42<02:18,  3.25file/s]"
     ]
    },
    {
     "name": "stdout",
     "output_type": "stream",
     "text": [
      "Is Pickup Truck: no\n"
     ]
    },
    {
     "name": "stderr",
     "output_type": "stream",
     "text": [
      "Processing: truck 2:  52%|█████▏    | 484/932 [01:42<02:17,  3.25file/s]"
     ]
    },
    {
     "name": "stdout",
     "output_type": "stream",
     "text": [
      "Is Pickup Truck: no\n"
     ]
    },
    {
     "name": "stderr",
     "output_type": "stream",
     "text": [
      "Processing: truck 2:  52%|█████▏    | 485/932 [01:42<02:17,  3.24file/s]"
     ]
    },
    {
     "name": "stdout",
     "output_type": "stream",
     "text": [
      "Is Pickup Truck: no\n"
     ]
    },
    {
     "name": "stderr",
     "output_type": "stream",
     "text": [
      "Processing: truck 2:  52%|█████▏    | 486/932 [01:43<02:17,  3.24file/s]"
     ]
    },
    {
     "name": "stdout",
     "output_type": "stream",
     "text": [
      "Is Pickup Truck: no\n"
     ]
    },
    {
     "name": "stderr",
     "output_type": "stream",
     "text": [
      "Processing: truck 2:  52%|█████▏    | 487/932 [01:43<02:17,  3.25file/s]"
     ]
    },
    {
     "name": "stdout",
     "output_type": "stream",
     "text": [
      "Is Pickup Truck: no\n"
     ]
    },
    {
     "name": "stderr",
     "output_type": "stream",
     "text": [
      "Processing: truck 2:  52%|█████▏    | 488/932 [01:43<02:16,  3.26file/s]"
     ]
    },
    {
     "name": "stdout",
     "output_type": "stream",
     "text": [
      "Is Pickup Truck: no\n"
     ]
    },
    {
     "name": "stderr",
     "output_type": "stream",
     "text": [
      "Processing: truck 2:  52%|█████▏    | 489/932 [01:44<02:15,  3.26file/s]"
     ]
    },
    {
     "name": "stdout",
     "output_type": "stream",
     "text": [
      "Is Pickup Truck: no\n"
     ]
    },
    {
     "name": "stderr",
     "output_type": "stream",
     "text": [
      "Processing: truck 2:  53%|█████▎    | 490/932 [01:44<02:15,  3.25file/s]"
     ]
    },
    {
     "name": "stdout",
     "output_type": "stream",
     "text": [
      "Is Pickup Truck: no\n"
     ]
    },
    {
     "name": "stderr",
     "output_type": "stream",
     "text": [
      "Processing: truck 2:  53%|█████▎    | 492/932 [01:44<01:55,  3.80file/s]"
     ]
    },
    {
     "name": "stdout",
     "output_type": "stream",
     "text": [
      "Is Pickup Truck: no\n"
     ]
    },
    {
     "name": "stderr",
     "output_type": "stream",
     "text": [
      "Processing: truck 2:  53%|█████▎    | 494/932 [01:45<01:51,  3.93file/s]"
     ]
    },
    {
     "name": "stdout",
     "output_type": "stream",
     "text": [
      "Is Pickup Truck: no\n"
     ]
    },
    {
     "name": "stderr",
     "output_type": "stream",
     "text": [
      "Processing: truck 2:  53%|█████▎    | 495/932 [01:45<01:57,  3.71file/s]"
     ]
    },
    {
     "name": "stdout",
     "output_type": "stream",
     "text": [
      "Is Pickup Truck: no\n"
     ]
    },
    {
     "name": "stderr",
     "output_type": "stream",
     "text": [
      "Processing: truck 2:  53%|█████▎    | 496/932 [01:45<02:01,  3.58file/s]"
     ]
    },
    {
     "name": "stdout",
     "output_type": "stream",
     "text": [
      "Is Pickup Truck: no\n"
     ]
    },
    {
     "name": "stderr",
     "output_type": "stream",
     "text": [
      "Processing: truck 2:  53%|█████▎    | 497/932 [01:46<02:05,  3.47file/s]"
     ]
    },
    {
     "name": "stdout",
     "output_type": "stream",
     "text": [
      "Is Pickup Truck: no\n"
     ]
    },
    {
     "name": "stderr",
     "output_type": "stream",
     "text": [
      "Processing: truck 2:  53%|█████▎    | 498/932 [01:46<02:07,  3.41file/s]"
     ]
    },
    {
     "name": "stdout",
     "output_type": "stream",
     "text": [
      "Is Pickup Truck: no\n"
     ]
    },
    {
     "name": "stderr",
     "output_type": "stream",
     "text": [
      "Processing: truck 2:  54%|█████▎    | 499/932 [01:46<02:08,  3.37file/s]"
     ]
    },
    {
     "name": "stdout",
     "output_type": "stream",
     "text": [
      "Is Pickup Truck: no\n"
     ]
    },
    {
     "name": "stderr",
     "output_type": "stream",
     "text": [
      "Processing: truck 2:  54%|█████▎    | 500/932 [01:47<02:09,  3.34file/s]"
     ]
    },
    {
     "name": "stdout",
     "output_type": "stream",
     "text": [
      "Is Pickup Truck: no\n"
     ]
    },
    {
     "name": "stderr",
     "output_type": "stream",
     "text": [
      "Processing: truck 2:  54%|█████▍    | 501/932 [01:47<02:09,  3.33file/s]"
     ]
    },
    {
     "name": "stdout",
     "output_type": "stream",
     "text": [
      "Is Pickup Truck: no\n"
     ]
    },
    {
     "name": "stderr",
     "output_type": "stream",
     "text": [
      "Processing: truck 2:  54%|█████▍    | 502/932 [01:47<02:09,  3.33file/s]"
     ]
    },
    {
     "name": "stdout",
     "output_type": "stream",
     "text": [
      "Is Pickup Truck: no\n"
     ]
    },
    {
     "name": "stderr",
     "output_type": "stream",
     "text": [
      "Processing: truck 2:  54%|█████▍    | 503/932 [01:48<02:09,  3.32file/s]"
     ]
    },
    {
     "name": "stdout",
     "output_type": "stream",
     "text": [
      "Is Pickup Truck: no\n"
     ]
    },
    {
     "name": "stderr",
     "output_type": "stream",
     "text": [
      "Processing: truck 2:  54%|█████▍    | 504/932 [01:48<02:09,  3.31file/s]"
     ]
    },
    {
     "name": "stdout",
     "output_type": "stream",
     "text": [
      "Is Pickup Truck: no\n"
     ]
    },
    {
     "name": "stderr",
     "output_type": "stream",
     "text": [
      "Processing: truck 2:  54%|█████▍    | 505/932 [01:48<02:10,  3.28file/s]"
     ]
    },
    {
     "name": "stdout",
     "output_type": "stream",
     "text": [
      "Is Pickup Truck: no\n"
     ]
    },
    {
     "name": "stderr",
     "output_type": "stream",
     "text": [
      "Processing: truck 2:  54%|█████▍    | 507/932 [01:49<01:51,  3.82file/s]"
     ]
    },
    {
     "name": "stdout",
     "output_type": "stream",
     "text": [
      "Is Pickup Truck: no\n"
     ]
    },
    {
     "name": "stderr",
     "output_type": "stream",
     "text": [
      "[codecarbon INFO @ 02:23:29] Energy consumed for RAM : 0.005505 kWh. RAM Power : 188.79906034469604 W\n",
      "[codecarbon INFO @ 02:23:29] Energy consumed for all CPUs : 0.002916 kWh. Total CPU Power : 100.0 W\n",
      "[codecarbon INFO @ 02:23:29] Energy consumed for all GPUs : 0.005456 kWh. Total GPU Power : 190.90253868687762 W\n",
      "[codecarbon INFO @ 02:23:29] 0.013878 kWh of electricity used since the beginning.\n",
      "Processing: truck 2:  55%|█████▍    | 508/932 [01:49<01:57,  3.60file/s]"
     ]
    },
    {
     "name": "stdout",
     "output_type": "stream",
     "text": [
      "Is Pickup Truck: no\n"
     ]
    },
    {
     "name": "stderr",
     "output_type": "stream",
     "text": [
      "Processing: truck 2:  55%|█████▍    | 509/932 [01:49<02:01,  3.48file/s]"
     ]
    },
    {
     "name": "stdout",
     "output_type": "stream",
     "text": [
      "Is Pickup Truck: no\n"
     ]
    },
    {
     "name": "stderr",
     "output_type": "stream",
     "text": [
      "Processing: truck 2:  55%|█████▍    | 510/932 [01:50<02:04,  3.38file/s]"
     ]
    },
    {
     "name": "stdout",
     "output_type": "stream",
     "text": [
      "Is Pickup Truck: no\n"
     ]
    },
    {
     "name": "stderr",
     "output_type": "stream",
     "text": [
      "Processing: truck 2:  55%|█████▍    | 511/932 [01:50<02:06,  3.33file/s]"
     ]
    },
    {
     "name": "stdout",
     "output_type": "stream",
     "text": [
      "Is Pickup Truck: no\n"
     ]
    },
    {
     "name": "stderr",
     "output_type": "stream",
     "text": [
      "Processing: truck 2:  55%|█████▍    | 512/932 [01:50<02:06,  3.32file/s]"
     ]
    },
    {
     "name": "stdout",
     "output_type": "stream",
     "text": [
      "Is Pickup Truck: no\n"
     ]
    },
    {
     "name": "stderr",
     "output_type": "stream",
     "text": [
      "Processing: truck 2:  55%|█████▌    | 513/932 [01:50<02:06,  3.31file/s]"
     ]
    },
    {
     "name": "stdout",
     "output_type": "stream",
     "text": [
      "Is Pickup Truck: no\n"
     ]
    },
    {
     "name": "stderr",
     "output_type": "stream",
     "text": [
      "Processing: truck 2:  55%|█████▌    | 514/932 [01:51<02:12,  3.15file/s]"
     ]
    },
    {
     "name": "stdout",
     "output_type": "stream",
     "text": [
      "Is Pickup Truck: no\n"
     ]
    },
    {
     "name": "stderr",
     "output_type": "stream",
     "text": [
      "Processing: truck 2:  55%|█████▌    | 515/932 [01:51<02:12,  3.14file/s]"
     ]
    },
    {
     "name": "stdout",
     "output_type": "stream",
     "text": [
      "Is Pickup Truck: no\n"
     ]
    },
    {
     "name": "stderr",
     "output_type": "stream",
     "text": [
      "Processing: truck 2:  55%|█████▌    | 516/932 [01:51<02:12,  3.14file/s]"
     ]
    },
    {
     "name": "stdout",
     "output_type": "stream",
     "text": [
      "Is Pickup Truck: no\n"
     ]
    },
    {
     "name": "stderr",
     "output_type": "stream",
     "text": [
      "Processing: truck 2:  55%|█████▌    | 517/932 [01:52<02:13,  3.12file/s]"
     ]
    },
    {
     "name": "stdout",
     "output_type": "stream",
     "text": [
      "Is Pickup Truck: no\n"
     ]
    },
    {
     "name": "stderr",
     "output_type": "stream",
     "text": [
      "Processing: truck 2:  56%|█████▌    | 518/932 [01:52<02:12,  3.12file/s]"
     ]
    },
    {
     "name": "stdout",
     "output_type": "stream",
     "text": [
      "Is Pickup Truck: no\n"
     ]
    },
    {
     "name": "stderr",
     "output_type": "stream",
     "text": [
      "Processing: truck 2:  56%|█████▌    | 519/932 [01:52<02:16,  3.02file/s]"
     ]
    },
    {
     "name": "stdout",
     "output_type": "stream",
     "text": [
      "Is Pickup Truck: no\n"
     ]
    },
    {
     "name": "stderr",
     "output_type": "stream",
     "text": [
      "Processing: truck 2:  56%|█████▌    | 520/932 [01:53<02:23,  2.87file/s]"
     ]
    },
    {
     "name": "stdout",
     "output_type": "stream",
     "text": [
      "Is Pickup Truck: no\n"
     ]
    },
    {
     "name": "stderr",
     "output_type": "stream",
     "text": [
      "Processing: truck 2:  56%|█████▌    | 521/932 [01:53<02:19,  2.94file/s]"
     ]
    },
    {
     "name": "stdout",
     "output_type": "stream",
     "text": [
      "Is Pickup Truck: no\n"
     ]
    },
    {
     "name": "stderr",
     "output_type": "stream",
     "text": [
      "Processing: truck 2:  56%|█████▌    | 522/932 [01:54<02:21,  2.90file/s]"
     ]
    },
    {
     "name": "stdout",
     "output_type": "stream",
     "text": [
      "Is Pickup Truck: no\n"
     ]
    },
    {
     "name": "stderr",
     "output_type": "stream",
     "text": [
      "Processing: truck 2:  56%|█████▌    | 523/932 [01:54<02:19,  2.94file/s]"
     ]
    },
    {
     "name": "stdout",
     "output_type": "stream",
     "text": [
      "Is Pickup Truck: no\n"
     ]
    },
    {
     "name": "stderr",
     "output_type": "stream",
     "text": [
      "Processing: truck 2:  56%|█████▌    | 524/932 [01:54<02:16,  3.00file/s]"
     ]
    },
    {
     "name": "stdout",
     "output_type": "stream",
     "text": [
      "Is Pickup Truck: no\n"
     ]
    },
    {
     "name": "stderr",
     "output_type": "stream",
     "text": [
      "Processing: truck 2:  56%|█████▋    | 525/932 [01:54<02:15,  3.00file/s]"
     ]
    },
    {
     "name": "stdout",
     "output_type": "stream",
     "text": [
      "Is Pickup Truck: no\n"
     ]
    },
    {
     "name": "stderr",
     "output_type": "stream",
     "text": [
      "Processing: truck 2:  56%|█████▋    | 526/932 [01:55<02:13,  3.04file/s]"
     ]
    },
    {
     "name": "stdout",
     "output_type": "stream",
     "text": [
      "Is Pickup Truck: no\n"
     ]
    },
    {
     "name": "stderr",
     "output_type": "stream",
     "text": [
      "Processing: truck 2:  57%|█████▋    | 527/932 [01:55<02:12,  3.06file/s]"
     ]
    },
    {
     "name": "stdout",
     "output_type": "stream",
     "text": [
      "Is Pickup Truck: no\n"
     ]
    },
    {
     "name": "stderr",
     "output_type": "stream",
     "text": [
      "Processing: truck 2:  57%|█████▋    | 528/932 [01:55<02:10,  3.09file/s]"
     ]
    },
    {
     "name": "stdout",
     "output_type": "stream",
     "text": [
      "Is Pickup Truck: no\n"
     ]
    },
    {
     "name": "stderr",
     "output_type": "stream",
     "text": [
      "Processing: truck 2:  57%|█████▋    | 530/932 [01:56<01:55,  3.47file/s]"
     ]
    },
    {
     "name": "stdout",
     "output_type": "stream",
     "text": [
      "Is Pickup Truck: no\n"
     ]
    },
    {
     "name": "stderr",
     "output_type": "stream",
     "text": [
      "Processing: truck 2:  57%|█████▋    | 531/932 [01:56<02:01,  3.31file/s]"
     ]
    },
    {
     "name": "stdout",
     "output_type": "stream",
     "text": [
      "Is Pickup Truck: no\n"
     ]
    },
    {
     "name": "stderr",
     "output_type": "stream",
     "text": [
      "Processing: truck 2:  57%|█████▋    | 532/932 [01:57<02:04,  3.21file/s]"
     ]
    },
    {
     "name": "stdout",
     "output_type": "stream",
     "text": [
      "Is Pickup Truck: no\n"
     ]
    },
    {
     "name": "stderr",
     "output_type": "stream",
     "text": [
      "Processing: truck 2:  57%|█████▋    | 533/932 [01:57<02:05,  3.18file/s]"
     ]
    },
    {
     "name": "stdout",
     "output_type": "stream",
     "text": [
      "Is Pickup Truck: no\n"
     ]
    },
    {
     "name": "stderr",
     "output_type": "stream",
     "text": [
      "Processing: truck 2:  57%|█████▋    | 534/932 [01:57<02:06,  3.15file/s]"
     ]
    },
    {
     "name": "stdout",
     "output_type": "stream",
     "text": [
      "Is Pickup Truck: no\n"
     ]
    },
    {
     "name": "stderr",
     "output_type": "stream",
     "text": [
      "Processing: truck 2:  57%|█████▋    | 535/932 [01:58<02:13,  2.98file/s]"
     ]
    },
    {
     "name": "stdout",
     "output_type": "stream",
     "text": [
      "Is Pickup Truck: no\n"
     ]
    },
    {
     "name": "stderr",
     "output_type": "stream",
     "text": [
      "Processing: truck 2:  58%|█████▊    | 536/932 [01:58<02:12,  2.98file/s]"
     ]
    },
    {
     "name": "stdout",
     "output_type": "stream",
     "text": [
      "Is Pickup Truck: no\n"
     ]
    },
    {
     "name": "stderr",
     "output_type": "stream",
     "text": [
      "Processing: truck 2:  58%|█████▊    | 537/932 [01:58<02:10,  3.02file/s]"
     ]
    },
    {
     "name": "stdout",
     "output_type": "stream",
     "text": [
      "Is Pickup Truck: no\n"
     ]
    },
    {
     "name": "stderr",
     "output_type": "stream",
     "text": [
      "Processing: truck 2:  58%|█████▊    | 538/932 [01:59<02:09,  3.04file/s]"
     ]
    },
    {
     "name": "stdout",
     "output_type": "stream",
     "text": [
      "Is Pickup Truck: no\n"
     ]
    },
    {
     "name": "stderr",
     "output_type": "stream",
     "text": [
      "Processing: truck 2:  58%|█████▊    | 539/932 [01:59<02:12,  2.97file/s]"
     ]
    },
    {
     "name": "stdout",
     "output_type": "stream",
     "text": [
      "Is Pickup Truck: no\n"
     ]
    },
    {
     "name": "stderr",
     "output_type": "stream",
     "text": [
      "Processing: truck 2:  58%|█████▊    | 540/932 [01:59<02:09,  3.04file/s]"
     ]
    },
    {
     "name": "stdout",
     "output_type": "stream",
     "text": [
      "Is Pickup Truck: no\n"
     ]
    },
    {
     "name": "stderr",
     "output_type": "stream",
     "text": [
      "Processing: truck 2:  58%|█████▊    | 541/932 [02:00<02:08,  3.04file/s]"
     ]
    },
    {
     "name": "stdout",
     "output_type": "stream",
     "text": [
      "Is Pickup Truck: no\n"
     ]
    },
    {
     "name": "stderr",
     "output_type": "stream",
     "text": [
      "Processing: truck 2:  58%|█████▊    | 542/932 [02:00<02:07,  3.05file/s]"
     ]
    },
    {
     "name": "stdout",
     "output_type": "stream",
     "text": [
      "Is Pickup Truck: no\n"
     ]
    },
    {
     "name": "stderr",
     "output_type": "stream",
     "text": [
      "Processing: bus 3:  58%|█████▊    | 544/932 [02:00<01:49,  3.54file/s]  "
     ]
    },
    {
     "name": "stdout",
     "output_type": "stream",
     "text": [
      "Is Pickup Truck: no\n"
     ]
    },
    {
     "name": "stderr",
     "output_type": "stream",
     "text": [
      "Processing: bus 3:  61%|██████    | 564/932 [02:04<01:01,  6.02file/s][codecarbon INFO @ 02:23:44] Energy consumed for RAM : 0.006292 kWh. RAM Power : 188.79906034469604 W\n",
      "[codecarbon INFO @ 02:23:44] Energy consumed for all CPUs : 0.003333 kWh. Total CPU Power : 100.0 W\n",
      "[codecarbon INFO @ 02:23:44] Energy consumed for all GPUs : 0.006235 kWh. Total GPU Power : 187.0153281197924 W\n",
      "[codecarbon INFO @ 02:23:44] 0.015860 kWh of electricity used since the beginning.\n",
      "[codecarbon INFO @ 02:23:44] 0.059414 g.CO2eq/s mean an estimation of 1,873.6744740883794 kg.CO2eq/year\n",
      "Processing: truck 3:  69%|██████▉   | 642/932 [02:18<01:01,  4.70file/s]"
     ]
    },
    {
     "name": "stdout",
     "output_type": "stream",
     "text": [
      "Is Pickup Truck: no\n"
     ]
    },
    {
     "name": "stderr",
     "output_type": "stream",
     "text": [
      "Processing: truck 3:  69%|██████▉   | 643/932 [02:18<01:11,  4.07file/s]"
     ]
    },
    {
     "name": "stdout",
     "output_type": "stream",
     "text": [
      "Is Pickup Truck: no\n"
     ]
    },
    {
     "name": "stderr",
     "output_type": "stream",
     "text": [
      "Processing: truck 3:  69%|██████▉   | 644/932 [02:19<01:17,  3.71file/s]"
     ]
    },
    {
     "name": "stdout",
     "output_type": "stream",
     "text": [
      "Is Pickup Truck: no\n"
     ]
    },
    {
     "name": "stderr",
     "output_type": "stream",
     "text": [
      "[codecarbon INFO @ 02:23:59] Energy consumed for RAM : 0.007076 kWh. RAM Power : 188.79906034469604 W\n",
      "[codecarbon INFO @ 02:23:59] Energy consumed for all CPUs : 0.003748 kWh. Total CPU Power : 100.0 W\n",
      "[codecarbon INFO @ 02:23:59] Energy consumed for all GPUs : 0.006987 kWh. Total GPU Power : 180.86374304001725 W\n",
      "[codecarbon INFO @ 02:23:59] 0.017812 kWh of electricity used since the beginning.\n",
      "Processing: truck 3:  69%|██████▉   | 646/932 [02:19<01:10,  4.03file/s]"
     ]
    },
    {
     "name": "stdout",
     "output_type": "stream",
     "text": [
      "Is Pickup Truck: no\n"
     ]
    },
    {
     "name": "stderr",
     "output_type": "stream",
     "text": [
      "Processing: truck 3:  70%|██████▉   | 650/932 [02:20<01:04,  4.40file/s]"
     ]
    },
    {
     "name": "stdout",
     "output_type": "stream",
     "text": [
      "Is Pickup Truck: no\n"
     ]
    },
    {
     "name": "stderr",
     "output_type": "stream",
     "text": [
      "Processing: truck 3:  70%|██████▉   | 651/932 [02:20<01:11,  3.91file/s]"
     ]
    },
    {
     "name": "stdout",
     "output_type": "stream",
     "text": [
      "Is Pickup Truck: no\n"
     ]
    },
    {
     "name": "stderr",
     "output_type": "stream",
     "text": [
      "Processing: truck 3:  70%|██████▉   | 652/932 [02:21<01:16,  3.64file/s]"
     ]
    },
    {
     "name": "stdout",
     "output_type": "stream",
     "text": [
      "Is Pickup Truck: no\n"
     ]
    },
    {
     "name": "stderr",
     "output_type": "stream",
     "text": [
      "Processing: truck 3:  70%|███████   | 654/932 [02:21<01:09,  4.00file/s]"
     ]
    },
    {
     "name": "stdout",
     "output_type": "stream",
     "text": [
      "Is Pickup Truck: no\n"
     ]
    },
    {
     "name": "stderr",
     "output_type": "stream",
     "text": [
      "Processing: truck 3:  70%|███████   | 656/932 [02:22<01:05,  4.21file/s]"
     ]
    },
    {
     "name": "stdout",
     "output_type": "stream",
     "text": [
      "Is Pickup Truck: no\n"
     ]
    },
    {
     "name": "stderr",
     "output_type": "stream",
     "text": [
      "Processing: truck 3:  70%|███████   | 657/932 [02:22<01:12,  3.81file/s]"
     ]
    },
    {
     "name": "stdout",
     "output_type": "stream",
     "text": [
      "Is Pickup Truck: no\n"
     ]
    },
    {
     "name": "stderr",
     "output_type": "stream",
     "text": [
      "Processing: truck 3:  71%|███████   | 658/932 [02:22<01:16,  3.57file/s]"
     ]
    },
    {
     "name": "stdout",
     "output_type": "stream",
     "text": [
      "Is Pickup Truck: no\n"
     ]
    },
    {
     "name": "stderr",
     "output_type": "stream",
     "text": [
      "Processing: truck 3:  71%|███████   | 660/932 [02:23<01:08,  3.95file/s]"
     ]
    },
    {
     "name": "stdout",
     "output_type": "stream",
     "text": [
      "Is Pickup Truck: no\n"
     ]
    },
    {
     "name": "stderr",
     "output_type": "stream",
     "text": [
      "Processing: truck 3:  71%|███████   | 661/932 [02:23<01:13,  3.66file/s]"
     ]
    },
    {
     "name": "stdout",
     "output_type": "stream",
     "text": [
      "Is Pickup Truck: no\n"
     ]
    },
    {
     "name": "stderr",
     "output_type": "stream",
     "text": [
      "Processing: truck 3:  71%|███████   | 662/932 [02:23<01:17,  3.48file/s]"
     ]
    },
    {
     "name": "stdout",
     "output_type": "stream",
     "text": [
      "Is Pickup Truck: no\n"
     ]
    },
    {
     "name": "stderr",
     "output_type": "stream",
     "text": [
      "Processing: truck 3:  71%|███████   | 663/932 [02:24<01:20,  3.36file/s]"
     ]
    },
    {
     "name": "stdout",
     "output_type": "stream",
     "text": [
      "Is Pickup Truck: no\n"
     ]
    },
    {
     "name": "stderr",
     "output_type": "stream",
     "text": [
      "Processing: truck 3:  71%|███████▏  | 665/932 [02:24<01:09,  3.86file/s]"
     ]
    },
    {
     "name": "stdout",
     "output_type": "stream",
     "text": [
      "Is Pickup Truck: no\n"
     ]
    },
    {
     "name": "stderr",
     "output_type": "stream",
     "text": [
      "Processing: truck 3:  72%|███████▏  | 668/932 [02:25<00:59,  4.41file/s]"
     ]
    },
    {
     "name": "stdout",
     "output_type": "stream",
     "text": [
      "Is Pickup Truck: no\n"
     ]
    },
    {
     "name": "stderr",
     "output_type": "stream",
     "text": [
      "Processing: truck 3:  72%|███████▏  | 670/932 [02:25<00:59,  4.42file/s]"
     ]
    },
    {
     "name": "stdout",
     "output_type": "stream",
     "text": [
      "Is Pickup Truck: no\n"
     ]
    },
    {
     "name": "stderr",
     "output_type": "stream",
     "text": [
      "Processing: truck 3:  72%|███████▏  | 672/932 [02:26<01:03,  4.11file/s]"
     ]
    },
    {
     "name": "stdout",
     "output_type": "stream",
     "text": [
      "Is Pickup Truck: no\n"
     ]
    },
    {
     "name": "stderr",
     "output_type": "stream",
     "text": [
      "Processing: truck 3:  72%|███████▏  | 673/932 [02:26<01:08,  3.77file/s]"
     ]
    },
    {
     "name": "stdout",
     "output_type": "stream",
     "text": [
      "Is Pickup Truck: no\n"
     ]
    },
    {
     "name": "stderr",
     "output_type": "stream",
     "text": [
      "Processing: truck 3:  72%|███████▏  | 674/932 [02:26<01:12,  3.54file/s]"
     ]
    },
    {
     "name": "stdout",
     "output_type": "stream",
     "text": [
      "Is Pickup Truck: no\n"
     ]
    },
    {
     "name": "stderr",
     "output_type": "stream",
     "text": [
      "Processing: truck 3:  72%|███████▏  | 675/932 [02:27<01:15,  3.40file/s]"
     ]
    },
    {
     "name": "stdout",
     "output_type": "stream",
     "text": [
      "Is Pickup Truck: no\n"
     ]
    },
    {
     "name": "stderr",
     "output_type": "stream",
     "text": [
      "Processing: truck 3:  73%|███████▎  | 676/932 [02:27<01:17,  3.32file/s]"
     ]
    },
    {
     "name": "stdout",
     "output_type": "stream",
     "text": [
      "Is Pickup Truck: no\n"
     ]
    },
    {
     "name": "stderr",
     "output_type": "stream",
     "text": [
      "Processing: truck 3:  73%|███████▎  | 677/932 [02:27<01:17,  3.28file/s]"
     ]
    },
    {
     "name": "stdout",
     "output_type": "stream",
     "text": [
      "Is Pickup Truck: no\n"
     ]
    },
    {
     "name": "stderr",
     "output_type": "stream",
     "text": [
      "Processing: truck 3:  73%|███████▎  | 678/932 [02:28<01:18,  3.25file/s]"
     ]
    },
    {
     "name": "stdout",
     "output_type": "stream",
     "text": [
      "Is Pickup Truck: no\n"
     ]
    },
    {
     "name": "stderr",
     "output_type": "stream",
     "text": [
      "Processing: truck 3:  73%|███████▎  | 679/932 [02:28<01:18,  3.23file/s]"
     ]
    },
    {
     "name": "stdout",
     "output_type": "stream",
     "text": [
      "Is Pickup Truck: no\n"
     ]
    },
    {
     "name": "stderr",
     "output_type": "stream",
     "text": [
      "Processing: truck 3:  73%|███████▎  | 680/932 [02:28<01:18,  3.21file/s]"
     ]
    },
    {
     "name": "stdout",
     "output_type": "stream",
     "text": [
      "Is Pickup Truck: no\n"
     ]
    },
    {
     "name": "stderr",
     "output_type": "stream",
     "text": [
      "Processing: truck 3:  73%|███████▎  | 681/932 [02:29<01:18,  3.20file/s]"
     ]
    },
    {
     "name": "stdout",
     "output_type": "stream",
     "text": [
      "Is Pickup Truck: no\n"
     ]
    },
    {
     "name": "stderr",
     "output_type": "stream",
     "text": [
      "Processing: truck 3:  73%|███████▎  | 682/932 [02:29<01:18,  3.19file/s]"
     ]
    },
    {
     "name": "stdout",
     "output_type": "stream",
     "text": [
      "Is Pickup Truck: no\n"
     ]
    },
    {
     "name": "stderr",
     "output_type": "stream",
     "text": [
      "Processing: truck 3:  73%|███████▎  | 683/932 [02:29<01:18,  3.18file/s]"
     ]
    },
    {
     "name": "stdout",
     "output_type": "stream",
     "text": [
      "Is Pickup Truck: no\n"
     ]
    },
    {
     "name": "stderr",
     "output_type": "stream",
     "text": [
      "Processing: truck 3:  73%|███████▎  | 684/932 [02:29<01:18,  3.17file/s]"
     ]
    },
    {
     "name": "stdout",
     "output_type": "stream",
     "text": [
      "Is Pickup Truck: no\n"
     ]
    },
    {
     "name": "stderr",
     "output_type": "stream",
     "text": [
      "Processing: truck 3:  73%|███████▎  | 685/932 [02:30<01:18,  3.15file/s]"
     ]
    },
    {
     "name": "stdout",
     "output_type": "stream",
     "text": [
      "Is Pickup Truck: no\n"
     ]
    },
    {
     "name": "stderr",
     "output_type": "stream",
     "text": [
      "Processing: truck 3:  74%|███████▎  | 686/932 [02:30<01:17,  3.16file/s]"
     ]
    },
    {
     "name": "stdout",
     "output_type": "stream",
     "text": [
      "Is Pickup Truck: no\n"
     ]
    },
    {
     "name": "stderr",
     "output_type": "stream",
     "text": [
      "Processing: truck 3:  74%|███████▎  | 687/932 [02:30<01:17,  3.15file/s]"
     ]
    },
    {
     "name": "stdout",
     "output_type": "stream",
     "text": [
      "Is Pickup Truck: no\n"
     ]
    },
    {
     "name": "stderr",
     "output_type": "stream",
     "text": [
      "Processing: truck 3:  74%|███████▍  | 689/932 [02:31<01:05,  3.70file/s]"
     ]
    },
    {
     "name": "stdout",
     "output_type": "stream",
     "text": [
      "Is Pickup Truck: no\n"
     ]
    },
    {
     "name": "stderr",
     "output_type": "stream",
     "text": [
      "Processing: truck 3:  74%|███████▍  | 690/932 [02:31<01:08,  3.52file/s]"
     ]
    },
    {
     "name": "stdout",
     "output_type": "stream",
     "text": [
      "Is Pickup Truck: no\n"
     ]
    },
    {
     "name": "stderr",
     "output_type": "stream",
     "text": [
      "Processing: truck 3:  74%|███████▍  | 691/932 [02:32<01:11,  3.38file/s]"
     ]
    },
    {
     "name": "stdout",
     "output_type": "stream",
     "text": [
      "Is Pickup Truck: no\n"
     ]
    },
    {
     "name": "stderr",
     "output_type": "stream",
     "text": [
      "Processing: truck 3:  74%|███████▍  | 693/932 [02:32<01:01,  3.87file/s]"
     ]
    },
    {
     "name": "stdout",
     "output_type": "stream",
     "text": [
      "Is Pickup Truck: no\n"
     ]
    },
    {
     "name": "stderr",
     "output_type": "stream",
     "text": [
      "Processing: truck 3:  75%|███████▍  | 696/932 [02:33<00:53,  4.40file/s]"
     ]
    },
    {
     "name": "stdout",
     "output_type": "stream",
     "text": [
      "Is Pickup Truck: no\n"
     ]
    },
    {
     "name": "stderr",
     "output_type": "stream",
     "text": [
      "Processing: truck 3:  75%|███████▍  | 697/932 [02:33<01:00,  3.89file/s]"
     ]
    },
    {
     "name": "stdout",
     "output_type": "stream",
     "text": [
      "Is Pickup Truck: no\n"
     ]
    },
    {
     "name": "stderr",
     "output_type": "stream",
     "text": [
      "Processing: truck 3:  75%|███████▍  | 698/932 [02:33<01:05,  3.60file/s]"
     ]
    },
    {
     "name": "stdout",
     "output_type": "stream",
     "text": [
      "Is Pickup Truck: no\n"
     ]
    },
    {
     "name": "stderr",
     "output_type": "stream",
     "text": [
      "Processing: truck 3:  75%|███████▌  | 699/932 [02:34<01:07,  3.44file/s]"
     ]
    },
    {
     "name": "stdout",
     "output_type": "stream",
     "text": [
      "Is Pickup Truck: no\n"
     ]
    },
    {
     "name": "stderr",
     "output_type": "stream",
     "text": [
      "[codecarbon INFO @ 02:24:14] Energy consumed for RAM : 0.007863 kWh. RAM Power : 188.79906034469604 W\n",
      "[codecarbon INFO @ 02:24:14] Energy consumed for all CPUs : 0.004165 kWh. Total CPU Power : 100.0 W\n",
      "[codecarbon INFO @ 02:24:14] Energy consumed for all GPUs : 0.007791 kWh. Total GPU Power : 193.04703500160576 W\n",
      "[codecarbon INFO @ 02:24:14] 0.019819 kWh of electricity used since the beginning.\n",
      "Processing: truck 3:  75%|███████▌  | 701/932 [02:34<00:59,  3.86file/s]"
     ]
    },
    {
     "name": "stdout",
     "output_type": "stream",
     "text": [
      "Is Pickup Truck: no\n"
     ]
    },
    {
     "name": "stderr",
     "output_type": "stream",
     "text": [
      "Processing: truck 3:  75%|███████▌  | 703/932 [02:35<00:59,  3.88file/s]"
     ]
    },
    {
     "name": "stdout",
     "output_type": "stream",
     "text": [
      "Is Pickup Truck: no\n"
     ]
    },
    {
     "name": "stderr",
     "output_type": "stream",
     "text": [
      "Processing: truck 3:  76%|███████▌  | 704/932 [02:35<01:03,  3.60file/s]"
     ]
    },
    {
     "name": "stdout",
     "output_type": "stream",
     "text": [
      "Is Pickup Truck: no\n"
     ]
    },
    {
     "name": "stderr",
     "output_type": "stream",
     "text": [
      "Processing: truck 3:  76%|███████▌  | 705/932 [02:35<01:06,  3.43file/s]"
     ]
    },
    {
     "name": "stdout",
     "output_type": "stream",
     "text": [
      "Is Pickup Truck: no\n"
     ]
    },
    {
     "name": "stderr",
     "output_type": "stream",
     "text": [
      "Processing: truck 3:  76%|███████▌  | 707/932 [02:36<00:58,  3.87file/s]"
     ]
    },
    {
     "name": "stdout",
     "output_type": "stream",
     "text": [
      "Is Pickup Truck: no\n"
     ]
    },
    {
     "name": "stderr",
     "output_type": "stream",
     "text": [
      "Processing: truck 3:  76%|███████▌  | 708/932 [02:36<01:01,  3.62file/s]"
     ]
    },
    {
     "name": "stdout",
     "output_type": "stream",
     "text": [
      "Is Pickup Truck: no\n"
     ]
    },
    {
     "name": "stderr",
     "output_type": "stream",
     "text": [
      "Processing: truck 3:  76%|███████▌  | 710/932 [02:37<00:55,  4.01file/s]"
     ]
    },
    {
     "name": "stdout",
     "output_type": "stream",
     "text": [
      "Is Pickup Truck: no\n"
     ]
    },
    {
     "name": "stderr",
     "output_type": "stream",
     "text": [
      "Processing: truck 3:  76%|███████▋  | 711/932 [02:37<00:59,  3.73file/s]"
     ]
    },
    {
     "name": "stdout",
     "output_type": "stream",
     "text": [
      "Is Pickup Truck: no\n"
     ]
    },
    {
     "name": "stderr",
     "output_type": "stream",
     "text": [
      "Processing: truck 3:  76%|███████▋  | 712/932 [02:37<01:06,  3.32file/s]"
     ]
    },
    {
     "name": "stdout",
     "output_type": "stream",
     "text": [
      "Is Pickup Truck: no\n"
     ]
    },
    {
     "name": "stderr",
     "output_type": "stream",
     "text": [
      "Processing: truck 3:  77%|███████▋  | 713/932 [02:38<01:08,  3.19file/s]"
     ]
    },
    {
     "name": "stdout",
     "output_type": "stream",
     "text": [
      "Is Pickup Truck: no\n"
     ]
    },
    {
     "name": "stderr",
     "output_type": "stream",
     "text": [
      "Processing: truck 3:  77%|███████▋  | 714/932 [02:38<01:08,  3.17file/s]"
     ]
    },
    {
     "name": "stdout",
     "output_type": "stream",
     "text": [
      "Is Pickup Truck: no\n"
     ]
    },
    {
     "name": "stderr",
     "output_type": "stream",
     "text": [
      "Processing: truck 3:  77%|███████▋  | 716/932 [02:38<00:58,  3.71file/s]"
     ]
    },
    {
     "name": "stdout",
     "output_type": "stream",
     "text": [
      "Is Pickup Truck: no\n"
     ]
    },
    {
     "name": "stderr",
     "output_type": "stream",
     "text": [
      "Processing: truck 3:  77%|███████▋  | 718/932 [02:39<00:53,  4.02file/s]"
     ]
    },
    {
     "name": "stdout",
     "output_type": "stream",
     "text": [
      "Is Pickup Truck: no\n"
     ]
    },
    {
     "name": "stderr",
     "output_type": "stream",
     "text": [
      "Processing: truck 3:  77%|███████▋  | 719/932 [02:39<00:57,  3.69file/s]"
     ]
    },
    {
     "name": "stdout",
     "output_type": "stream",
     "text": [
      "Is Pickup Truck: no\n"
     ]
    },
    {
     "name": "stderr",
     "output_type": "stream",
     "text": [
      "Processing: truck 3:  77%|███████▋  | 720/932 [02:39<01:00,  3.50file/s]"
     ]
    },
    {
     "name": "stdout",
     "output_type": "stream",
     "text": [
      "Is Pickup Truck: no\n"
     ]
    },
    {
     "name": "stderr",
     "output_type": "stream",
     "text": [
      "Processing: truck 3:  77%|███████▋  | 721/932 [02:40<01:02,  3.39file/s]"
     ]
    },
    {
     "name": "stdout",
     "output_type": "stream",
     "text": [
      "Is Pickup Truck: no\n"
     ]
    },
    {
     "name": "stderr",
     "output_type": "stream",
     "text": [
      "Processing: truck 3:  77%|███████▋  | 722/932 [02:40<01:03,  3.29file/s]"
     ]
    },
    {
     "name": "stdout",
     "output_type": "stream",
     "text": [
      "Is Pickup Truck: no\n"
     ]
    },
    {
     "name": "stderr",
     "output_type": "stream",
     "text": [
      "Processing: truck 3:  78%|███████▊  | 723/932 [02:40<01:04,  3.23file/s]"
     ]
    },
    {
     "name": "stdout",
     "output_type": "stream",
     "text": [
      "Is Pickup Truck: no\n"
     ]
    },
    {
     "name": "stderr",
     "output_type": "stream",
     "text": [
      "Processing: truck 3:  78%|███████▊  | 724/932 [02:41<01:05,  3.17file/s]"
     ]
    },
    {
     "name": "stdout",
     "output_type": "stream",
     "text": [
      "Is Pickup Truck: no\n"
     ]
    },
    {
     "name": "stderr",
     "output_type": "stream",
     "text": [
      "Processing: truck 3:  78%|███████▊  | 725/932 [02:41<01:05,  3.15file/s]"
     ]
    },
    {
     "name": "stdout",
     "output_type": "stream",
     "text": [
      "Is Pickup Truck: no\n"
     ]
    },
    {
     "name": "stderr",
     "output_type": "stream",
     "text": [
      "Processing: truck 3:  78%|███████▊  | 726/932 [02:41<01:05,  3.14file/s]"
     ]
    },
    {
     "name": "stdout",
     "output_type": "stream",
     "text": [
      "Is Pickup Truck: no\n"
     ]
    },
    {
     "name": "stderr",
     "output_type": "stream",
     "text": [
      "Processing: truck 3:  78%|███████▊  | 727/932 [02:42<01:05,  3.13file/s]"
     ]
    },
    {
     "name": "stdout",
     "output_type": "stream",
     "text": [
      "Is Pickup Truck: no\n"
     ]
    },
    {
     "name": "stderr",
     "output_type": "stream",
     "text": [
      "Processing: truck 3:  78%|███████▊  | 728/932 [02:42<01:05,  3.13file/s]"
     ]
    },
    {
     "name": "stdout",
     "output_type": "stream",
     "text": [
      "Is Pickup Truck: no\n"
     ]
    },
    {
     "name": "stderr",
     "output_type": "stream",
     "text": [
      "Processing: truck 3:  78%|███████▊  | 730/932 [02:43<00:55,  3.66file/s]"
     ]
    },
    {
     "name": "stdout",
     "output_type": "stream",
     "text": [
      "Is Pickup Truck: no\n"
     ]
    },
    {
     "name": "stderr",
     "output_type": "stream",
     "text": [
      "Processing: truck 3:  78%|███████▊  | 731/932 [02:43<00:57,  3.48file/s]"
     ]
    },
    {
     "name": "stdout",
     "output_type": "stream",
     "text": [
      "Is Pickup Truck: no\n"
     ]
    },
    {
     "name": "stderr",
     "output_type": "stream",
     "text": [
      "Processing: truck 3:  79%|███████▊  | 732/932 [02:43<01:17,  2.58file/s]"
     ]
    },
    {
     "name": "stdout",
     "output_type": "stream",
     "text": [
      "Is Pickup Truck: no\n"
     ]
    },
    {
     "name": "stderr",
     "output_type": "stream",
     "text": [
      "Processing: truck 3:  79%|███████▊  | 733/932 [02:44<01:11,  2.76file/s]"
     ]
    },
    {
     "name": "stdout",
     "output_type": "stream",
     "text": [
      "Is Pickup Truck: no\n"
     ]
    },
    {
     "name": "stderr",
     "output_type": "stream",
     "text": [
      "Processing: truck 3:  79%|███████▉  | 734/932 [02:44<01:08,  2.89file/s]"
     ]
    },
    {
     "name": "stdout",
     "output_type": "stream",
     "text": [
      "Is Pickup Truck: no\n"
     ]
    },
    {
     "name": "stderr",
     "output_type": "stream",
     "text": [
      "Processing: truck 3:  79%|███████▉  | 735/932 [02:44<01:05,  2.99file/s]"
     ]
    },
    {
     "name": "stdout",
     "output_type": "stream",
     "text": [
      "Is Pickup Truck: no\n"
     ]
    },
    {
     "name": "stderr",
     "output_type": "stream",
     "text": [
      "Processing: truck 3:  79%|███████▉  | 736/932 [02:45<01:04,  3.04file/s]"
     ]
    },
    {
     "name": "stdout",
     "output_type": "stream",
     "text": [
      "Is Pickup Truck: no\n"
     ]
    },
    {
     "name": "stderr",
     "output_type": "stream",
     "text": [
      "Processing: truck 3:  79%|███████▉  | 737/932 [02:45<01:03,  3.05file/s]"
     ]
    },
    {
     "name": "stdout",
     "output_type": "stream",
     "text": [
      "Is Pickup Truck: no\n"
     ]
    },
    {
     "name": "stderr",
     "output_type": "stream",
     "text": [
      "Processing: truck 3:  79%|███████▉  | 738/932 [02:45<01:03,  3.06file/s]"
     ]
    },
    {
     "name": "stdout",
     "output_type": "stream",
     "text": [
      "Is Pickup Truck: no\n"
     ]
    },
    {
     "name": "stderr",
     "output_type": "stream",
     "text": [
      "Processing: truck 3:  79%|███████▉  | 739/932 [02:46<01:02,  3.07file/s]"
     ]
    },
    {
     "name": "stdout",
     "output_type": "stream",
     "text": [
      "Is Pickup Truck: no\n"
     ]
    },
    {
     "name": "stderr",
     "output_type": "stream",
     "text": [
      "Processing: truck 3:  79%|███████▉  | 740/932 [02:46<01:01,  3.12file/s]"
     ]
    },
    {
     "name": "stdout",
     "output_type": "stream",
     "text": [
      "Is Pickup Truck: no\n"
     ]
    },
    {
     "name": "stderr",
     "output_type": "stream",
     "text": [
      "Processing: truck 4:  80%|███████▉  | 742/932 [02:47<00:52,  3.61file/s]"
     ]
    },
    {
     "name": "stdout",
     "output_type": "stream",
     "text": [
      "Is Pickup Truck: no\n"
     ]
    },
    {
     "name": "stderr",
     "output_type": "stream",
     "text": [
      "Processing: truck 4:  81%|████████  | 755/932 [02:49<00:41,  4.28file/s][codecarbon INFO @ 02:24:29] Energy consumed for RAM : 0.008649 kWh. RAM Power : 188.79906034469604 W\n",
      "[codecarbon INFO @ 02:24:29] Energy consumed for all CPUs : 0.004581 kWh. Total CPU Power : 100.0 W\n"
     ]
    },
    {
     "name": "stdout",
     "output_type": "stream",
     "text": [
      "Is Pickup Truck: no\n"
     ]
    },
    {
     "name": "stderr",
     "output_type": "stream",
     "text": [
      "[codecarbon INFO @ 02:24:30] Energy consumed for all GPUs : 0.008588 kWh. Total GPU Power : 191.25960402308252 W\n",
      "[codecarbon INFO @ 02:24:30] 0.021818 kWh of electricity used since the beginning.\n",
      "Processing: truck 4:  81%|████████  | 757/932 [02:49<00:40,  4.37file/s]"
     ]
    },
    {
     "name": "stdout",
     "output_type": "stream",
     "text": [
      "Is Pickup Truck: no\n"
     ]
    },
    {
     "name": "stderr",
     "output_type": "stream",
     "text": [
      "Processing: truck 4:  82%|████████▏ | 762/932 [02:50<00:37,  4.50file/s]"
     ]
    },
    {
     "name": "stdout",
     "output_type": "stream",
     "text": [
      "Is Pickup Truck: no\n"
     ]
    },
    {
     "name": "stderr",
     "output_type": "stream",
     "text": [
      "Processing: truck 4:  82%|████████▏ | 766/932 [02:51<00:37,  4.46file/s]"
     ]
    },
    {
     "name": "stdout",
     "output_type": "stream",
     "text": [
      "Is Pickup Truck: no\n"
     ]
    },
    {
     "name": "stderr",
     "output_type": "stream",
     "text": [
      "Processing: truck 4:  83%|████████▎ | 774/932 [02:53<00:32,  4.80file/s]"
     ]
    },
    {
     "name": "stdout",
     "output_type": "stream",
     "text": [
      "Is Pickup Truck: no\n"
     ]
    },
    {
     "name": "stderr",
     "output_type": "stream",
     "text": [
      "Processing: truck 4:  83%|████████▎ | 777/932 [02:53<00:34,  4.48file/s]"
     ]
    },
    {
     "name": "stdout",
     "output_type": "stream",
     "text": [
      "Is Pickup Truck: no\n"
     ]
    },
    {
     "name": "stderr",
     "output_type": "stream",
     "text": [
      "Processing: truck 4:  84%|████████▍ | 782/932 [02:54<00:33,  4.53file/s]"
     ]
    },
    {
     "name": "stdout",
     "output_type": "stream",
     "text": [
      "Is Pickup Truck: no\n"
     ]
    },
    {
     "name": "stderr",
     "output_type": "stream",
     "text": [
      "Processing: truck 4:  84%|████████▍ | 783/932 [02:55<00:37,  3.94file/s]"
     ]
    },
    {
     "name": "stdout",
     "output_type": "stream",
     "text": [
      "Is Pickup Truck: no\n"
     ]
    },
    {
     "name": "stderr",
     "output_type": "stream",
     "text": [
      "Processing: truck 4:  84%|████████▍ | 784/932 [02:55<00:40,  3.68file/s]"
     ]
    },
    {
     "name": "stdout",
     "output_type": "stream",
     "text": [
      "Is Pickup Truck: no\n"
     ]
    },
    {
     "name": "stderr",
     "output_type": "stream",
     "text": [
      "Processing: truck 4:  84%|████████▍ | 785/932 [02:55<00:43,  3.37file/s]"
     ]
    },
    {
     "name": "stdout",
     "output_type": "stream",
     "text": [
      "Is Pickup Truck: no\n"
     ]
    },
    {
     "name": "stderr",
     "output_type": "stream",
     "text": [
      "Processing: truck 4:  84%|████████▍ | 787/932 [02:56<00:40,  3.62file/s]"
     ]
    },
    {
     "name": "stdout",
     "output_type": "stream",
     "text": [
      "Is Pickup Truck: no\n"
     ]
    },
    {
     "name": "stderr",
     "output_type": "stream",
     "text": [
      "Processing: truck 4:  85%|████████▍ | 790/932 [02:57<00:33,  4.19file/s]"
     ]
    },
    {
     "name": "stdout",
     "output_type": "stream",
     "text": [
      "Is Pickup Truck: no\n"
     ]
    },
    {
     "name": "stderr",
     "output_type": "stream",
     "text": [
      "Processing: truck 4:  85%|████████▌ | 796/932 [02:58<00:29,  4.61file/s]"
     ]
    },
    {
     "name": "stdout",
     "output_type": "stream",
     "text": [
      "Is Pickup Truck: no\n"
     ]
    },
    {
     "name": "stderr",
     "output_type": "stream",
     "text": [
      "Processing: truck 4:  86%|████████▌ | 798/932 [02:58<00:28,  4.63file/s]"
     ]
    },
    {
     "name": "stdout",
     "output_type": "stream",
     "text": [
      "Is Pickup Truck: no\n"
     ]
    },
    {
     "name": "stderr",
     "output_type": "stream",
     "text": [
      "Processing: truck 4:  86%|████████▌ | 800/932 [02:59<00:28,  4.63file/s]"
     ]
    },
    {
     "name": "stdout",
     "output_type": "stream",
     "text": [
      "Is Pickup Truck: no\n"
     ]
    },
    {
     "name": "stderr",
     "output_type": "stream",
     "text": [
      "Processing: truck 4:  86%|████████▌ | 803/932 [02:59<00:26,  4.86file/s]"
     ]
    },
    {
     "name": "stdout",
     "output_type": "stream",
     "text": [
      "Is Pickup Truck: no\n"
     ]
    },
    {
     "name": "stderr",
     "output_type": "stream",
     "text": [
      "Processing: truck 4:  86%|████████▋ | 804/932 [03:00<00:30,  4.24file/s]"
     ]
    },
    {
     "name": "stdout",
     "output_type": "stream",
     "text": [
      "Is Pickup Truck: no\n"
     ]
    },
    {
     "name": "stderr",
     "output_type": "stream",
     "text": [
      "Processing: truck 4:  86%|████████▋ | 806/932 [03:00<00:28,  4.38file/s]"
     ]
    },
    {
     "name": "stdout",
     "output_type": "stream",
     "text": [
      "Is Pickup Truck: no\n"
     ]
    },
    {
     "name": "stderr",
     "output_type": "stream",
     "text": [
      "Processing: truck 4:  87%|████████▋ | 810/932 [03:01<00:24,  4.90file/s]"
     ]
    },
    {
     "name": "stdout",
     "output_type": "stream",
     "text": [
      "Is Pickup Truck: no\n"
     ]
    },
    {
     "name": "stderr",
     "output_type": "stream",
     "text": [
      "Processing: truck 4:  87%|████████▋ | 812/932 [03:01<00:25,  4.75file/s]"
     ]
    },
    {
     "name": "stdout",
     "output_type": "stream",
     "text": [
      "Is Pickup Truck: no\n"
     ]
    },
    {
     "name": "stderr",
     "output_type": "stream",
     "text": [
      "Processing: truck 4:  87%|████████▋ | 814/932 [03:02<00:25,  4.63file/s]"
     ]
    },
    {
     "name": "stdout",
     "output_type": "stream",
     "text": [
      "Is Pickup Truck: no\n"
     ]
    },
    {
     "name": "stderr",
     "output_type": "stream",
     "text": [
      "Processing: truck 4:  88%|████████▊ | 817/932 [03:02<00:25,  4.45file/s]"
     ]
    },
    {
     "name": "stdout",
     "output_type": "stream",
     "text": [
      "Is Pickup Truck: no\n"
     ]
    },
    {
     "name": "stderr",
     "output_type": "stream",
     "text": [
      "Processing: truck 4:  88%|████████▊ | 819/932 [03:03<00:25,  4.49file/s]"
     ]
    },
    {
     "name": "stdout",
     "output_type": "stream",
     "text": [
      "Is Pickup Truck: no\n"
     ]
    },
    {
     "name": "stderr",
     "output_type": "stream",
     "text": [
      "Processing: truck 4:  88%|████████▊ | 820/932 [03:03<00:30,  3.66file/s]"
     ]
    },
    {
     "name": "stdout",
     "output_type": "stream",
     "text": [
      "Is Pickup Truck: no\n"
     ]
    },
    {
     "name": "stderr",
     "output_type": "stream",
     "text": [
      "Processing: truck 4:  88%|████████▊ | 821/932 [03:04<00:32,  3.47file/s]"
     ]
    },
    {
     "name": "stdout",
     "output_type": "stream",
     "text": [
      "Is Pickup Truck: no\n"
     ]
    },
    {
     "name": "stderr",
     "output_type": "stream",
     "text": [
      "[codecarbon INFO @ 02:24:44] Energy consumed for RAM : 0.009422 kWh. RAM Power : 188.79906034469604 W\n",
      "[codecarbon INFO @ 02:24:44] Energy consumed for all CPUs : 0.004991 kWh. Total CPU Power : 100.0 W\n",
      "[codecarbon INFO @ 02:24:44] Energy consumed for all GPUs : 0.009366 kWh. Total GPU Power : 190.11941685736397 W\n",
      "[codecarbon INFO @ 02:24:44] 0.023779 kWh of electricity used since the beginning.\n",
      "Processing: truck 4:  88%|████████▊ | 822/932 [03:04<00:33,  3.33file/s]"
     ]
    },
    {
     "name": "stdout",
     "output_type": "stream",
     "text": [
      "Is Pickup Truck: no\n"
     ]
    },
    {
     "name": "stderr",
     "output_type": "stream",
     "text": [
      "Processing: truck 4:  88%|████████▊ | 823/932 [03:04<00:33,  3.22file/s]"
     ]
    },
    {
     "name": "stdout",
     "output_type": "stream",
     "text": [
      "Is Pickup Truck: no\n"
     ]
    },
    {
     "name": "stderr",
     "output_type": "stream",
     "text": [
      "Processing: truck 4:  88%|████████▊ | 824/932 [03:05<00:34,  3.16file/s]"
     ]
    },
    {
     "name": "stdout",
     "output_type": "stream",
     "text": [
      "Is Pickup Truck: no\n"
     ]
    },
    {
     "name": "stderr",
     "output_type": "stream",
     "text": [
      "Processing: truck 4:  89%|████████▊ | 825/932 [03:05<00:33,  3.15file/s]"
     ]
    },
    {
     "name": "stdout",
     "output_type": "stream",
     "text": [
      "Is Pickup Truck: no\n"
     ]
    },
    {
     "name": "stderr",
     "output_type": "stream",
     "text": [
      "Processing: truck 4:  89%|████████▊ | 826/932 [03:05<00:33,  3.13file/s]"
     ]
    },
    {
     "name": "stdout",
     "output_type": "stream",
     "text": [
      "Is Pickup Truck: no\n"
     ]
    },
    {
     "name": "stderr",
     "output_type": "stream",
     "text": [
      "Processing: truck 4:  89%|████████▊ | 827/932 [03:06<00:33,  3.12file/s]"
     ]
    },
    {
     "name": "stdout",
     "output_type": "stream",
     "text": [
      "Is Pickup Truck: no\n"
     ]
    },
    {
     "name": "stderr",
     "output_type": "stream",
     "text": [
      "Processing: truck 5:  89%|████████▉ | 829/932 [03:06<00:27,  3.68file/s]"
     ]
    },
    {
     "name": "stdout",
     "output_type": "stream",
     "text": [
      "Is Pickup Truck: no\n"
     ]
    },
    {
     "name": "stderr",
     "output_type": "stream",
     "text": [
      "Processing: truck 5:  89%|████████▉ | 830/932 [03:06<00:29,  3.49file/s]"
     ]
    },
    {
     "name": "stdout",
     "output_type": "stream",
     "text": [
      "Is Pickup Truck: no\n"
     ]
    },
    {
     "name": "stderr",
     "output_type": "stream",
     "text": [
      "Processing: truck 5:  89%|████████▉ | 832/932 [03:07<00:26,  3.80file/s]"
     ]
    },
    {
     "name": "stdout",
     "output_type": "stream",
     "text": [
      "Is Pickup Truck: no\n"
     ]
    },
    {
     "name": "stderr",
     "output_type": "stream",
     "text": [
      "Processing: truck 5:  89%|████████▉ | 834/932 [03:07<00:25,  3.78file/s]"
     ]
    },
    {
     "name": "stdout",
     "output_type": "stream",
     "text": [
      "Is Pickup Truck: no\n"
     ]
    },
    {
     "name": "stderr",
     "output_type": "stream",
     "text": [
      "Processing: truck 5:  90%|████████▉ | 836/932 [03:08<00:23,  4.10file/s]"
     ]
    },
    {
     "name": "stdout",
     "output_type": "stream",
     "text": [
      "Is Pickup Truck: no\n"
     ]
    },
    {
     "name": "stderr",
     "output_type": "stream",
     "text": [
      "Processing: truck 5:  90%|████████▉ | 838/932 [03:09<00:28,  3.25file/s]"
     ]
    },
    {
     "name": "stdout",
     "output_type": "stream",
     "text": [
      "Is Pickup Truck: no\n"
     ]
    },
    {
     "name": "stderr",
     "output_type": "stream",
     "text": [
      "Processing: truck 5:  90%|█████████ | 839/932 [03:09<00:28,  3.21file/s]"
     ]
    },
    {
     "name": "stdout",
     "output_type": "stream",
     "text": [
      "Is Pickup Truck: no\n"
     ]
    },
    {
     "name": "stderr",
     "output_type": "stream",
     "text": [
      "Processing: truck 5:  90%|█████████ | 840/932 [03:09<00:28,  3.19file/s]"
     ]
    },
    {
     "name": "stdout",
     "output_type": "stream",
     "text": [
      "Is Pickup Truck: no\n"
     ]
    },
    {
     "name": "stderr",
     "output_type": "stream",
     "text": [
      "Processing: truck 5:  90%|█████████ | 841/932 [03:10<00:28,  3.17file/s]"
     ]
    },
    {
     "name": "stdout",
     "output_type": "stream",
     "text": [
      "Is Pickup Truck: no\n"
     ]
    },
    {
     "name": "stderr",
     "output_type": "stream",
     "text": [
      "Processing: truck 5:  90%|█████████ | 842/932 [03:10<00:28,  3.16file/s]"
     ]
    },
    {
     "name": "stdout",
     "output_type": "stream",
     "text": [
      "Is Pickup Truck: no\n"
     ]
    },
    {
     "name": "stderr",
     "output_type": "stream",
     "text": [
      "Processing: truck 5:  90%|█████████ | 843/932 [03:10<00:28,  3.15file/s]"
     ]
    },
    {
     "name": "stdout",
     "output_type": "stream",
     "text": [
      "Is Pickup Truck: no\n"
     ]
    },
    {
     "name": "stderr",
     "output_type": "stream",
     "text": [
      "Processing: truck 5:  91%|█████████ | 844/932 [03:11<00:28,  3.14file/s]"
     ]
    },
    {
     "name": "stdout",
     "output_type": "stream",
     "text": [
      "Is Pickup Truck: no\n"
     ]
    },
    {
     "name": "stderr",
     "output_type": "stream",
     "text": [
      "Processing: truck 5:  91%|█████████ | 845/932 [03:11<00:27,  3.13file/s]"
     ]
    },
    {
     "name": "stdout",
     "output_type": "stream",
     "text": [
      "Is Pickup Truck: no\n"
     ]
    },
    {
     "name": "stderr",
     "output_type": "stream",
     "text": [
      "Processing: truck 5:  91%|█████████ | 846/932 [03:11<00:27,  3.12file/s]"
     ]
    },
    {
     "name": "stdout",
     "output_type": "stream",
     "text": [
      "Is Pickup Truck: no\n"
     ]
    },
    {
     "name": "stderr",
     "output_type": "stream",
     "text": [
      "Processing: truck 5:  91%|█████████ | 848/932 [03:12<00:25,  3.35file/s]"
     ]
    },
    {
     "name": "stdout",
     "output_type": "stream",
     "text": [
      "Is Pickup Truck: no\n"
     ]
    },
    {
     "name": "stderr",
     "output_type": "stream",
     "text": [
      "Processing: truck 5:  91%|█████████ | 850/932 [03:12<00:21,  3.81file/s]"
     ]
    },
    {
     "name": "stdout",
     "output_type": "stream",
     "text": [
      "Is Pickup Truck: no\n"
     ]
    },
    {
     "name": "stderr",
     "output_type": "stream",
     "text": [
      "Processing: truck 5:  91%|█████████▏| 851/932 [03:13<00:22,  3.56file/s]"
     ]
    },
    {
     "name": "stdout",
     "output_type": "stream",
     "text": [
      "Is Pickup Truck: no\n"
     ]
    },
    {
     "name": "stderr",
     "output_type": "stream",
     "text": [
      "Processing: truck 5:  91%|█████████▏| 852/932 [03:13<00:23,  3.41file/s]"
     ]
    },
    {
     "name": "stdout",
     "output_type": "stream",
     "text": [
      "Is Pickup Truck: no\n"
     ]
    },
    {
     "name": "stderr",
     "output_type": "stream",
     "text": [
      "Processing: truck 5:  92%|█████████▏| 853/932 [03:13<00:23,  3.34file/s]"
     ]
    },
    {
     "name": "stdout",
     "output_type": "stream",
     "text": [
      "Is Pickup Truck: no\n"
     ]
    },
    {
     "name": "stderr",
     "output_type": "stream",
     "text": [
      "Processing: truck 5:  92%|█████████▏| 854/932 [03:14<00:23,  3.29file/s]"
     ]
    },
    {
     "name": "stdout",
     "output_type": "stream",
     "text": [
      "Is Pickup Truck: no\n"
     ]
    },
    {
     "name": "stderr",
     "output_type": "stream",
     "text": [
      "Processing: truck 5:  92%|█████████▏| 856/932 [03:14<00:20,  3.78file/s]"
     ]
    },
    {
     "name": "stdout",
     "output_type": "stream",
     "text": [
      "Is Pickup Truck: no\n"
     ]
    },
    {
     "name": "stderr",
     "output_type": "stream",
     "text": [
      "Processing: truck 5:  92%|█████████▏| 857/932 [03:14<00:20,  3.58file/s]"
     ]
    },
    {
     "name": "stdout",
     "output_type": "stream",
     "text": [
      "Is Pickup Truck: no\n"
     ]
    },
    {
     "name": "stderr",
     "output_type": "stream",
     "text": [
      "Processing: truck 5:  92%|█████████▏| 858/932 [03:15<00:21,  3.44file/s]"
     ]
    },
    {
     "name": "stdout",
     "output_type": "stream",
     "text": [
      "Is Pickup Truck: no\n"
     ]
    },
    {
     "name": "stderr",
     "output_type": "stream",
     "text": [
      "Processing: truck 5:  92%|█████████▏| 859/932 [03:15<00:22,  3.31file/s]"
     ]
    },
    {
     "name": "stdout",
     "output_type": "stream",
     "text": [
      "Is Pickup Truck: no\n"
     ]
    },
    {
     "name": "stderr",
     "output_type": "stream",
     "text": [
      "Processing: truck 5:  92%|█████████▏| 860/932 [03:15<00:21,  3.27file/s]"
     ]
    },
    {
     "name": "stdout",
     "output_type": "stream",
     "text": [
      "Is Pickup Truck: no\n"
     ]
    },
    {
     "name": "stderr",
     "output_type": "stream",
     "text": [
      "Processing: truck 5:  92%|█████████▏| 861/932 [03:16<00:21,  3.26file/s]"
     ]
    },
    {
     "name": "stdout",
     "output_type": "stream",
     "text": [
      "Is Pickup Truck: no\n"
     ]
    },
    {
     "name": "stderr",
     "output_type": "stream",
     "text": [
      "Processing: truck 5:  92%|█████████▏| 862/932 [03:16<00:21,  3.25file/s]"
     ]
    },
    {
     "name": "stdout",
     "output_type": "stream",
     "text": [
      "Is Pickup Truck: no\n"
     ]
    },
    {
     "name": "stderr",
     "output_type": "stream",
     "text": [
      "Processing: truck 5:  93%|█████████▎| 863/932 [03:16<00:21,  3.20file/s]"
     ]
    },
    {
     "name": "stdout",
     "output_type": "stream",
     "text": [
      "Is Pickup Truck: no\n"
     ]
    },
    {
     "name": "stderr",
     "output_type": "stream",
     "text": [
      "Processing: truck 5:  93%|█████████▎| 864/932 [03:17<00:21,  3.21file/s]"
     ]
    },
    {
     "name": "stdout",
     "output_type": "stream",
     "text": [
      "Is Pickup Truck: no\n"
     ]
    },
    {
     "name": "stderr",
     "output_type": "stream",
     "text": [
      "Processing: truck 5:  93%|█████████▎| 865/932 [03:17<00:20,  3.21file/s]"
     ]
    },
    {
     "name": "stdout",
     "output_type": "stream",
     "text": [
      "Is Pickup Truck: no\n"
     ]
    },
    {
     "name": "stderr",
     "output_type": "stream",
     "text": [
      "Processing: truck 5:  93%|█████████▎| 866/932 [03:17<00:20,  3.22file/s]"
     ]
    },
    {
     "name": "stdout",
     "output_type": "stream",
     "text": [
      "Is Pickup Truck: no\n"
     ]
    },
    {
     "name": "stderr",
     "output_type": "stream",
     "text": [
      "Processing: truck 5:  93%|█████████▎| 867/932 [03:17<00:20,  3.24file/s]"
     ]
    },
    {
     "name": "stdout",
     "output_type": "stream",
     "text": [
      "Is Pickup Truck: no\n"
     ]
    },
    {
     "name": "stderr",
     "output_type": "stream",
     "text": [
      "Processing: truck 5:  93%|█████████▎| 868/932 [03:18<00:19,  3.26file/s]"
     ]
    },
    {
     "name": "stdout",
     "output_type": "stream",
     "text": [
      "Is Pickup Truck: no\n"
     ]
    },
    {
     "name": "stderr",
     "output_type": "stream",
     "text": [
      "Processing: truck 5:  93%|█████████▎| 869/932 [03:18<00:19,  3.26file/s]"
     ]
    },
    {
     "name": "stdout",
     "output_type": "stream",
     "text": [
      "Is Pickup Truck: no\n"
     ]
    },
    {
     "name": "stderr",
     "output_type": "stream",
     "text": [
      "Processing: truck 5:  93%|█████████▎| 871/932 [03:19<00:16,  3.80file/s]"
     ]
    },
    {
     "name": "stdout",
     "output_type": "stream",
     "text": [
      "Is Pickup Truck: no\n"
     ]
    },
    {
     "name": "stderr",
     "output_type": "stream",
     "text": [
      "Processing: truck 5:  94%|█████████▎| 872/932 [03:19<00:16,  3.62file/s][codecarbon INFO @ 02:24:59] Energy consumed for RAM : 0.010208 kWh. RAM Power : 188.79906034469604 W\n",
      "[codecarbon INFO @ 02:24:59] Energy consumed for all CPUs : 0.005407 kWh. Total CPU Power : 100.0 W\n",
      "[codecarbon INFO @ 02:24:59] Energy consumed for all GPUs : 0.010160 kWh. Total GPU Power : 190.6310569365278 W\n",
      "[codecarbon INFO @ 02:24:59] 0.025776 kWh of electricity used since the beginning.\n"
     ]
    },
    {
     "name": "stdout",
     "output_type": "stream",
     "text": [
      "Is Pickup Truck: no\n"
     ]
    },
    {
     "name": "stderr",
     "output_type": "stream",
     "text": [
      "Processing: truck 5:  94%|█████████▎| 873/932 [03:19<00:19,  3.04file/s]"
     ]
    },
    {
     "name": "stdout",
     "output_type": "stream",
     "text": [
      "Is Pickup Truck: no\n"
     ]
    },
    {
     "name": "stderr",
     "output_type": "stream",
     "text": [
      "Processing: truck 5:  94%|█████████▍| 875/932 [03:20<00:15,  3.66file/s]"
     ]
    },
    {
     "name": "stdout",
     "output_type": "stream",
     "text": [
      "Is Pickup Truck: no\n"
     ]
    },
    {
     "name": "stderr",
     "output_type": "stream",
     "text": [
      "Processing: truck 5:  94%|█████████▍| 876/932 [03:20<00:15,  3.53file/s]"
     ]
    },
    {
     "name": "stdout",
     "output_type": "stream",
     "text": [
      "Is Pickup Truck: no\n"
     ]
    },
    {
     "name": "stderr",
     "output_type": "stream",
     "text": [
      "Processing: truck 5:  94%|█████████▍| 877/932 [03:20<00:15,  3.45file/s]"
     ]
    },
    {
     "name": "stdout",
     "output_type": "stream",
     "text": [
      "Is Pickup Truck: no\n"
     ]
    },
    {
     "name": "stderr",
     "output_type": "stream",
     "text": [
      "Processing: truck 5:  94%|█████████▍| 878/932 [03:21<00:15,  3.40file/s]"
     ]
    },
    {
     "name": "stdout",
     "output_type": "stream",
     "text": [
      "Is Pickup Truck: no\n"
     ]
    },
    {
     "name": "stderr",
     "output_type": "stream",
     "text": [
      "Processing: truck 5:  94%|█████████▍| 879/932 [03:21<00:15,  3.37file/s]"
     ]
    },
    {
     "name": "stdout",
     "output_type": "stream",
     "text": [
      "Is Pickup Truck: no\n"
     ]
    },
    {
     "name": "stderr",
     "output_type": "stream",
     "text": [
      "Processing: truck 5:  95%|█████████▍| 881/932 [03:21<00:13,  3.91file/s]"
     ]
    },
    {
     "name": "stdout",
     "output_type": "stream",
     "text": [
      "Is Pickup Truck: no\n"
     ]
    },
    {
     "name": "stderr",
     "output_type": "stream",
     "text": [
      "Processing: truck 5:  95%|█████████▍| 882/932 [03:22<00:13,  3.70file/s]"
     ]
    },
    {
     "name": "stdout",
     "output_type": "stream",
     "text": [
      "Is Pickup Truck: no\n"
     ]
    },
    {
     "name": "stderr",
     "output_type": "stream",
     "text": [
      "Processing: truck 5:  95%|█████████▍| 883/932 [03:22<00:13,  3.56file/s]"
     ]
    },
    {
     "name": "stdout",
     "output_type": "stream",
     "text": [
      "Is Pickup Truck: no\n"
     ]
    },
    {
     "name": "stderr",
     "output_type": "stream",
     "text": [
      "Processing: truck 5:  95%|█████████▍| 885/932 [03:22<00:11,  4.05file/s]"
     ]
    },
    {
     "name": "stdout",
     "output_type": "stream",
     "text": [
      "Is Pickup Truck: no\n"
     ]
    },
    {
     "name": "stderr",
     "output_type": "stream",
     "text": [
      "Processing: truck 5:  95%|█████████▌| 886/932 [03:23<00:12,  3.78file/s]"
     ]
    },
    {
     "name": "stdout",
     "output_type": "stream",
     "text": [
      "Is Pickup Truck: no\n"
     ]
    },
    {
     "name": "stderr",
     "output_type": "stream",
     "text": [
      "Processing: truck 5:  95%|█████████▌| 887/932 [03:23<00:12,  3.62file/s]"
     ]
    },
    {
     "name": "stdout",
     "output_type": "stream",
     "text": [
      "Is Pickup Truck: no\n"
     ]
    },
    {
     "name": "stderr",
     "output_type": "stream",
     "text": [
      "Processing: truck 5:  95%|█████████▌| 888/932 [03:23<00:12,  3.51file/s]"
     ]
    },
    {
     "name": "stdout",
     "output_type": "stream",
     "text": [
      "Is Pickup Truck: no\n"
     ]
    },
    {
     "name": "stderr",
     "output_type": "stream",
     "text": [
      "Processing: truck 5:  95%|█████████▌| 889/932 [03:24<00:12,  3.40file/s]"
     ]
    },
    {
     "name": "stdout",
     "output_type": "stream",
     "text": [
      "Is Pickup Truck: no\n"
     ]
    },
    {
     "name": "stderr",
     "output_type": "stream",
     "text": [
      "Processing: truck 5:  95%|█████████▌| 890/932 [03:24<00:12,  3.37file/s]"
     ]
    },
    {
     "name": "stdout",
     "output_type": "stream",
     "text": [
      "Is Pickup Truck: no\n"
     ]
    },
    {
     "name": "stderr",
     "output_type": "stream",
     "text": [
      "Processing: truck 5:  96%|█████████▌| 891/932 [03:24<00:12,  3.32file/s]"
     ]
    },
    {
     "name": "stdout",
     "output_type": "stream",
     "text": [
      "Is Pickup Truck: no\n"
     ]
    },
    {
     "name": "stderr",
     "output_type": "stream",
     "text": [
      "Processing: truck 5:  96%|█████████▌| 892/932 [03:25<00:12,  3.29file/s]"
     ]
    },
    {
     "name": "stdout",
     "output_type": "stream",
     "text": [
      "Is Pickup Truck: no\n"
     ]
    },
    {
     "name": "stderr",
     "output_type": "stream",
     "text": [
      "Processing: truck 5:  96%|█████████▌| 893/932 [03:25<00:11,  3.26file/s]"
     ]
    },
    {
     "name": "stdout",
     "output_type": "stream",
     "text": [
      "Is Pickup Truck: no\n"
     ]
    },
    {
     "name": "stderr",
     "output_type": "stream",
     "text": [
      "Processing: truck 5:  96%|█████████▌| 894/932 [03:25<00:11,  3.24file/s]"
     ]
    },
    {
     "name": "stdout",
     "output_type": "stream",
     "text": [
      "Is Pickup Truck: no\n"
     ]
    },
    {
     "name": "stderr",
     "output_type": "stream",
     "text": [
      "Processing: truck 5:  96%|█████████▌| 895/932 [03:26<00:11,  3.23file/s]"
     ]
    },
    {
     "name": "stdout",
     "output_type": "stream",
     "text": [
      "Is Pickup Truck: no\n"
     ]
    },
    {
     "name": "stderr",
     "output_type": "stream",
     "text": [
      "Processing: truck 5:  96%|█████████▌| 897/932 [03:26<00:09,  3.79file/s]"
     ]
    },
    {
     "name": "stdout",
     "output_type": "stream",
     "text": [
      "Is Pickup Truck: no\n"
     ]
    },
    {
     "name": "stderr",
     "output_type": "stream",
     "text": [
      "Processing: truck 5:  96%|█████████▋| 898/932 [03:26<00:09,  3.60file/s]"
     ]
    },
    {
     "name": "stdout",
     "output_type": "stream",
     "text": [
      "Is Pickup Truck: no\n"
     ]
    },
    {
     "name": "stderr",
     "output_type": "stream",
     "text": [
      "Processing: truck 5:  96%|█████████▋| 899/932 [03:27<00:09,  3.47file/s]"
     ]
    },
    {
     "name": "stdout",
     "output_type": "stream",
     "text": [
      "Is Pickup Truck: no\n"
     ]
    },
    {
     "name": "stderr",
     "output_type": "stream",
     "text": [
      "Processing: truck 5:  97%|█████████▋| 901/932 [03:27<00:07,  3.95file/s]"
     ]
    },
    {
     "name": "stdout",
     "output_type": "stream",
     "text": [
      "Is Pickup Truck: no\n"
     ]
    },
    {
     "name": "stderr",
     "output_type": "stream",
     "text": [
      "Processing: truck 5:  97%|█████████▋| 902/932 [03:27<00:08,  3.69file/s]"
     ]
    },
    {
     "name": "stdout",
     "output_type": "stream",
     "text": [
      "Is Pickup Truck: no\n"
     ]
    },
    {
     "name": "stderr",
     "output_type": "stream",
     "text": [
      "Processing: truck 5:  97%|█████████▋| 903/932 [03:28<00:08,  3.52file/s]"
     ]
    },
    {
     "name": "stdout",
     "output_type": "stream",
     "text": [
      "Is Pickup Truck: no\n"
     ]
    },
    {
     "name": "stderr",
     "output_type": "stream",
     "text": [
      "Processing: truck 5:  97%|█████████▋| 904/932 [03:28<00:08,  3.42file/s]"
     ]
    },
    {
     "name": "stdout",
     "output_type": "stream",
     "text": [
      "Is Pickup Truck: no\n"
     ]
    },
    {
     "name": "stderr",
     "output_type": "stream",
     "text": [
      "Processing: truck 5:  97%|█████████▋| 906/932 [03:29<00:06,  3.90file/s]"
     ]
    },
    {
     "name": "stdout",
     "output_type": "stream",
     "text": [
      "Is Pickup Truck: no\n"
     ]
    },
    {
     "name": "stderr",
     "output_type": "stream",
     "text": [
      "Processing: truck 5:  98%|█████████▊| 910/932 [03:29<00:04,  4.43file/s]"
     ]
    },
    {
     "name": "stdout",
     "output_type": "stream",
     "text": [
      "Is Pickup Truck: no\n"
     ]
    },
    {
     "name": "stderr",
     "output_type": "stream",
     "text": [
      "Processing: truck 5:  98%|█████████▊| 912/932 [03:30<00:04,  4.53file/s]"
     ]
    },
    {
     "name": "stdout",
     "output_type": "stream",
     "text": [
      "Is Pickup Truck: no\n"
     ]
    },
    {
     "name": "stderr",
     "output_type": "stream",
     "text": [
      "Processing: truck 5:  98%|█████████▊| 913/932 [03:30<00:04,  4.04file/s]"
     ]
    },
    {
     "name": "stdout",
     "output_type": "stream",
     "text": [
      "Is Pickup Truck: no\n"
     ]
    },
    {
     "name": "stderr",
     "output_type": "stream",
     "text": [
      "Processing: truck 5:  98%|█████████▊| 914/932 [03:30<00:04,  3.74file/s]"
     ]
    },
    {
     "name": "stdout",
     "output_type": "stream",
     "text": [
      "Is Pickup Truck: no\n"
     ]
    },
    {
     "name": "stderr",
     "output_type": "stream",
     "text": [
      "Processing: truck 5:  98%|█████████▊| 916/932 [03:31<00:03,  4.13file/s]"
     ]
    },
    {
     "name": "stdout",
     "output_type": "stream",
     "text": [
      "Is Pickup Truck: no\n"
     ]
    },
    {
     "name": "stderr",
     "output_type": "stream",
     "text": [
      "Processing: truck 5:  98%|█████████▊| 918/932 [03:31<00:03,  4.35file/s]"
     ]
    },
    {
     "name": "stdout",
     "output_type": "stream",
     "text": [
      "Is Pickup Truck: no\n"
     ]
    },
    {
     "name": "stderr",
     "output_type": "stream",
     "text": [
      "Processing: truck 5:  99%|█████████▊| 920/932 [03:32<00:02,  4.45file/s]"
     ]
    },
    {
     "name": "stdout",
     "output_type": "stream",
     "text": [
      "Is Pickup Truck: no\n"
     ]
    },
    {
     "name": "stderr",
     "output_type": "stream",
     "text": [
      "Processing: truck 5:  99%|█████████▉| 923/932 [03:32<00:01,  4.73file/s]"
     ]
    },
    {
     "name": "stdout",
     "output_type": "stream",
     "text": [
      "Is Pickup Truck: no\n"
     ]
    },
    {
     "name": "stderr",
     "output_type": "stream",
     "text": [
      "Processing: truck 5:  99%|█████████▉| 924/932 [03:33<00:01,  4.19file/s]"
     ]
    },
    {
     "name": "stdout",
     "output_type": "stream",
     "text": [
      "Is Pickup Truck: no\n"
     ]
    },
    {
     "name": "stderr",
     "output_type": "stream",
     "text": [
      "Processing: truck 5:  99%|█████████▉| 926/932 [03:33<00:01,  4.24file/s]"
     ]
    },
    {
     "name": "stdout",
     "output_type": "stream",
     "text": [
      "Is Pickup Truck: no\n"
     ]
    },
    {
     "name": "stderr",
     "output_type": "stream",
     "text": [
      "Processing: truck 5:  99%|█████████▉| 927/932 [03:34<00:01,  3.78file/s]"
     ]
    },
    {
     "name": "stdout",
     "output_type": "stream",
     "text": [
      "Is Pickup Truck: no\n"
     ]
    },
    {
     "name": "stderr",
     "output_type": "stream",
     "text": [
      "Processing: truck 5:  99%|█████████▉| 927/932 [03:34<00:01,  4.32file/s]\n",
      "[codecarbon INFO @ 02:25:14] Energy consumed for RAM : 0.010994 kWh. RAM Power : 188.79906034469604 W\n",
      "[codecarbon INFO @ 02:25:14] Energy consumed for all CPUs : 0.005823 kWh. Total CPU Power : 100.0 W\n",
      "[codecarbon INFO @ 02:25:14] Energy consumed for all GPUs : 0.010974 kWh. Total GPU Power : 195.64583932658851 W\n",
      "[codecarbon INFO @ 02:25:14] 0.027792 kWh of electricity used since the beginning.\n"
     ]
    },
    {
     "name": "stdout",
     "output_type": "stream",
     "text": [
      "Is Pickup Truck: no\n",
      "Total processing time: 214.37 seconds\n",
      "CO2 emissions: 0.012499 kg\n",
      "\n",
      "--- Metrics ---\n",
      "Total Images: 927\n",
      "Correct Predictions: 909\n",
      "Wrong Predictions: 18\n",
      "Accuracy (%): 98.05825242718447\n",
      "Error Rate (%): 1.9417475728155296\n",
      "Class 'Class 1 - Motorcycles' - Accuracy: 99.00%, Error Rate: 1.00%\n",
      "Class 'Class 2 - Car, SUV, Station Wagons' - Accuracy: 94.95%, Error Rate: 5.05%\n",
      "Class 'pickup' - Accuracy: 99.00%, Error Rate: 1.00%\n",
      "Class 'van' - Accuracy: 100.00%, Error Rate: 0.00%\n",
      "Class 'bus 2' - Accuracy: 95.24%, Error Rate: 4.76%\n",
      "Class 'truck 2' - Accuracy: 94.06%, Error Rate: 5.94%\n",
      "Class 'bus 3' - Accuracy: 100.00%, Error Rate: 0.00%\n",
      "Class 'truck 3' - Accuracy: 100.00%, Error Rate: 0.00%\n",
      "Class 'truck 4' - Accuracy: 96.55%, Error Rate: 3.45%\n",
      "Class 'truck 5' - Accuracy: 100.00%, Error Rate: 0.00%\n",
      "Processor: x86_64\n",
      "CPU Count: 128\n",
      "Memory (GB): 503.46\n",
      "Elapsed Time (seconds): 214.37395334243774\n",
      "CO2 Emissions (kg): 0.012499\n",
      "google/paligemma2-10b-ft-docci-448\n"
     ]
    },
    {
     "data": {
      "application/vnd.jupyter.widget-view+json": {
       "model_id": "8e68ff566a134a7784947fd2f47b4731",
       "version_major": 2,
       "version_minor": 0
      },
      "text/plain": [
       "config.json:   0%|          | 0.00/1.36k [00:00<?, ?B/s]"
      ]
     },
     "metadata": {},
     "output_type": "display_data"
    },
    {
     "data": {
      "application/vnd.jupyter.widget-view+json": {
       "model_id": "cdbd9ee8a8c2477faaf9886944fa438b",
       "version_major": 2,
       "version_minor": 0
      },
      "text/plain": [
       "model.safetensors.index.json:   0%|          | 0.00/92.6k [00:00<?, ?B/s]"
      ]
     },
     "metadata": {},
     "output_type": "display_data"
    },
    {
     "data": {
      "application/vnd.jupyter.widget-view+json": {
       "model_id": "5f57bad86b314b16ae1c1a94a432cb38",
       "version_major": 2,
       "version_minor": 0
      },
      "text/plain": [
       "Downloading shards:   0%|          | 0/4 [00:00<?, ?it/s]"
      ]
     },
     "metadata": {},
     "output_type": "display_data"
    },
    {
     "data": {
      "application/vnd.jupyter.widget-view+json": {
       "model_id": "2ac3049f38c64b21a592f72e781f318b",
       "version_major": 2,
       "version_minor": 0
      },
      "text/plain": [
       "model-00001-of-00004.safetensors:   0%|          | 0.00/4.95G [00:00<?, ?B/s]"
      ]
     },
     "metadata": {},
     "output_type": "display_data"
    },
    {
     "data": {
      "application/vnd.jupyter.widget-view+json": {
       "model_id": "73356cfa0cac44d282ecbd002a0cb9d9",
       "version_major": 2,
       "version_minor": 0
      },
      "text/plain": [
       "model-00002-of-00004.safetensors:   0%|          | 0.00/4.95G [00:00<?, ?B/s]"
      ]
     },
     "metadata": {},
     "output_type": "display_data"
    },
    {
     "data": {
      "application/vnd.jupyter.widget-view+json": {
       "model_id": "dc8e764111f24497b79e75bc6fc727c9",
       "version_major": 2,
       "version_minor": 0
      },
      "text/plain": [
       "model-00003-of-00004.safetensors:   0%|          | 0.00/4.96G [00:00<?, ?B/s]"
      ]
     },
     "metadata": {},
     "output_type": "display_data"
    },
    {
     "data": {
      "application/vnd.jupyter.widget-view+json": {
       "model_id": "5b9453b5280347de8ddedda608ac120c",
       "version_major": 2,
       "version_minor": 0
      },
      "text/plain": [
       "model-00004-of-00004.safetensors:   0%|          | 0.00/4.46G [00:00<?, ?B/s]"
      ]
     },
     "metadata": {},
     "output_type": "display_data"
    },
    {
     "data": {
      "application/vnd.jupyter.widget-view+json": {
       "model_id": "3a6f3e2ca307462d82303b204c8886e6",
       "version_major": 2,
       "version_minor": 0
      },
      "text/plain": [
       "Loading checkpoint shards:   0%|          | 0/4 [00:00<?, ?it/s]"
      ]
     },
     "metadata": {},
     "output_type": "display_data"
    },
    {
     "data": {
      "application/vnd.jupyter.widget-view+json": {
       "model_id": "7917bf505ce844f1a0f7b6a860fa67d4",
       "version_major": 2,
       "version_minor": 0
      },
      "text/plain": [
       "generation_config.json:   0%|          | 0.00/173 [00:00<?, ?B/s]"
      ]
     },
     "metadata": {},
     "output_type": "display_data"
    },
    {
     "data": {
      "application/vnd.jupyter.widget-view+json": {
       "model_id": "8e6e84ae6bdc455cad3ad3513bcf5219",
       "version_major": 2,
       "version_minor": 0
      },
      "text/plain": [
       "preprocessor_config.json:   0%|          | 0.00/425 [00:00<?, ?B/s]"
      ]
     },
     "metadata": {},
     "output_type": "display_data"
    },
    {
     "data": {
      "application/vnd.jupyter.widget-view+json": {
       "model_id": "783da531a1314ca39e1ca13b726f3885",
       "version_major": 2,
       "version_minor": 0
      },
      "text/plain": [
       "tokenizer_config.json:   0%|          | 0.00/243k [00:00<?, ?B/s]"
      ]
     },
     "metadata": {},
     "output_type": "display_data"
    },
    {
     "data": {
      "application/vnd.jupyter.widget-view+json": {
       "model_id": "f19cba81c67040c08afebc57734a77fb",
       "version_major": 2,
       "version_minor": 0
      },
      "text/plain": [
       "tokenizer.json:   0%|          | 0.00/34.6M [00:00<?, ?B/s]"
      ]
     },
     "metadata": {},
     "output_type": "display_data"
    },
    {
     "data": {
      "application/vnd.jupyter.widget-view+json": {
       "model_id": "40c6b58ef38844d3a9697466d92ee544",
       "version_major": 2,
       "version_minor": 0
      },
      "text/plain": [
       "special_tokens_map.json:   0%|          | 0.00/733 [00:00<?, ?B/s]"
      ]
     },
     "metadata": {},
     "output_type": "display_data"
    },
    {
     "name": "stderr",
     "output_type": "stream",
     "text": [
      "Processing Images:   0%|          | 0/932 [00:00<?, ?file/s][codecarbon INFO @ 02:33:07] [setup] RAM Tracking...\n",
      "[codecarbon INFO @ 02:33:07] [setup] CPU Tracking...\n",
      "[codecarbon WARNING @ 02:33:07] No CPU tracking mode found. Falling back on CPU constant mode. \n",
      " Linux OS detected: Please ensure RAPL files exist at \\sys\\class\\powercap\\intel-rapl to measure CPU\n",
      "\n",
      "[codecarbon INFO @ 02:33:08] CPU Model on constant consumption mode: AMD EPYC 7513 32-Core Processor\n",
      "[codecarbon INFO @ 02:33:08] [setup] GPU Tracking...\n",
      "[codecarbon INFO @ 02:33:08] Tracking Nvidia GPU via pynvml\n",
      "[codecarbon INFO @ 02:33:08] >>> Tracker's metadata:\n",
      "[codecarbon INFO @ 02:33:08]   Platform system: Linux-6.8.0-45-generic-x86_64-with-glibc2.35\n",
      "[codecarbon INFO @ 02:33:08]   Python version: 3.11.10\n",
      "[codecarbon INFO @ 02:33:08]   CodeCarbon version: 2.8.2\n",
      "[codecarbon INFO @ 02:33:08]   Available RAM : 503.464 GB\n",
      "[codecarbon INFO @ 02:33:08]   CPU count: 128\n",
      "[codecarbon INFO @ 02:33:08]   CPU model: AMD EPYC 7513 32-Core Processor\n",
      "[codecarbon INFO @ 02:33:08]   GPU count: 1\n",
      "[codecarbon INFO @ 02:33:08]   GPU model: 1 x NVIDIA A100-SXM4-80GB\n",
      "[codecarbon INFO @ 02:33:11] Saving emissions data to file /emissions.csv\n",
      "Processing: Class 1 - Motorcycles:   5%|▍         | 45/932 [00:19<04:58,  2.98file/s] [codecarbon INFO @ 02:33:26] Energy consumed for RAM : 0.000787 kWh. RAM Power : 188.79906034469604 W\n",
      "[codecarbon INFO @ 02:33:26] Energy consumed for all CPUs : 0.000417 kWh. Total CPU Power : 100.0 W\n",
      "[codecarbon INFO @ 02:33:26] Energy consumed for all GPUs : 0.001055 kWh. Total GPU Power : 253.0973830573864 W\n",
      "[codecarbon INFO @ 02:33:26] 0.002259 kWh of electricity used since the beginning.\n",
      "Processing: Class 1 - Motorcycles:  10%|▉         | 90/932 [00:34<04:39,  3.01file/s][codecarbon INFO @ 02:33:41] Energy consumed for RAM : 0.001573 kWh. RAM Power : 188.79906034469604 W\n",
      "[codecarbon INFO @ 02:33:41] Energy consumed for all CPUs : 0.000833 kWh. Total CPU Power : 100.0 W\n",
      "[codecarbon INFO @ 02:33:41] Energy consumed for all GPUs : 0.002124 kWh. Total GPU Power : 256.5873624133363 W\n",
      "[codecarbon INFO @ 02:33:41] 0.004530 kWh of electricity used since the beginning.\n",
      "Processing: Class 2 - Car, SUV, Station Wagons:  14%|█▍        | 134/932 [00:49<04:27,  2.99file/s][codecarbon INFO @ 02:33:56] Energy consumed for RAM : 0.002360 kWh. RAM Power : 188.79906034469604 W\n",
      "[codecarbon INFO @ 02:33:56] Energy consumed for all CPUs : 0.001250 kWh. Total CPU Power : 100.0 W\n",
      "Processing: Class 2 - Car, SUV, Station Wagons:  14%|█▍        | 135/932 [00:49<04:29,  2.95file/s][codecarbon INFO @ 02:33:57] Energy consumed for all GPUs : 0.003230 kWh. Total GPU Power : 265.61355510734904 W\n",
      "[codecarbon INFO @ 02:33:57] 0.006840 kWh of electricity used since the beginning.\n",
      "Processing: Class 2 - Car, SUV, Station Wagons:  19%|█▉        | 179/932 [01:04<04:18,  2.91file/s][codecarbon INFO @ 02:34:11] Energy consumed for RAM : 0.003130 kWh. RAM Power : 188.79906034469604 W\n",
      "[codecarbon INFO @ 02:34:11] Energy consumed for all CPUs : 0.001658 kWh. Total CPU Power : 100.0 W\n",
      "[codecarbon INFO @ 02:34:11] Energy consumed for all GPUs : 0.004282 kWh. Total GPU Power : 257.54209511845124 W\n",
      "[codecarbon INFO @ 02:34:11] 0.009070 kWh of electricity used since the beginning.\n",
      "Processing: pickup:  22%|██▏       | 201/932 [01:12<05:23,  2.26file/s]                            "
     ]
    },
    {
     "name": "stdout",
     "output_type": "stream",
     "text": [
      "Is Pickup Truck: yes\n"
     ]
    },
    {
     "name": "stderr",
     "output_type": "stream",
     "text": [
      "Processing: pickup:  22%|██▏       | 202/932 [01:12<06:12,  1.96file/s]"
     ]
    },
    {
     "name": "stdout",
     "output_type": "stream",
     "text": [
      "Is Pickup Truck: yes\n"
     ]
    },
    {
     "name": "stderr",
     "output_type": "stream",
     "text": [
      "Processing: pickup:  22%|██▏       | 203/932 [01:13<06:44,  1.80file/s]"
     ]
    },
    {
     "name": "stdout",
     "output_type": "stream",
     "text": [
      "Is Pickup Truck: yes\n"
     ]
    },
    {
     "name": "stderr",
     "output_type": "stream",
     "text": [
      "Processing: pickup:  22%|██▏       | 204/932 [01:14<07:08,  1.70file/s]"
     ]
    },
    {
     "name": "stdout",
     "output_type": "stream",
     "text": [
      "Is Pickup Truck: yes\n"
     ]
    },
    {
     "name": "stderr",
     "output_type": "stream",
     "text": [
      "Processing: pickup:  22%|██▏       | 205/932 [01:14<07:26,  1.63file/s]"
     ]
    },
    {
     "name": "stdout",
     "output_type": "stream",
     "text": [
      "Is Pickup Truck: yes\n"
     ]
    },
    {
     "name": "stderr",
     "output_type": "stream",
     "text": [
      "Processing: pickup:  22%|██▏       | 206/932 [01:15<07:36,  1.59file/s]"
     ]
    },
    {
     "name": "stdout",
     "output_type": "stream",
     "text": [
      "Is Pickup Truck: yes\n"
     ]
    },
    {
     "name": "stderr",
     "output_type": "stream",
     "text": [
      "Processing: pickup:  22%|██▏       | 208/932 [01:16<06:58,  1.73file/s]"
     ]
    },
    {
     "name": "stdout",
     "output_type": "stream",
     "text": [
      "Is Pickup Truck: yes\n"
     ]
    },
    {
     "name": "stderr",
     "output_type": "stream",
     "text": [
      "Processing: pickup:  22%|██▏       | 209/932 [01:17<07:17,  1.65file/s]"
     ]
    },
    {
     "name": "stdout",
     "output_type": "stream",
     "text": [
      "Is Pickup Truck: yes\n"
     ]
    },
    {
     "name": "stderr",
     "output_type": "stream",
     "text": [
      "Processing: pickup:  23%|██▎       | 210/932 [01:17<07:32,  1.59file/s]"
     ]
    },
    {
     "name": "stdout",
     "output_type": "stream",
     "text": [
      "Is Pickup Truck: yes\n"
     ]
    },
    {
     "name": "stderr",
     "output_type": "stream",
     "text": [
      "Processing: pickup:  23%|██▎       | 211/932 [01:18<07:40,  1.57file/s]"
     ]
    },
    {
     "name": "stdout",
     "output_type": "stream",
     "text": [
      "Is Pickup Truck: yes\n"
     ]
    },
    {
     "name": "stderr",
     "output_type": "stream",
     "text": [
      "Processing: pickup:  23%|██▎       | 212/932 [01:19<07:45,  1.55file/s]"
     ]
    },
    {
     "name": "stdout",
     "output_type": "stream",
     "text": [
      "Is Pickup Truck: yes\n"
     ]
    },
    {
     "name": "stderr",
     "output_type": "stream",
     "text": [
      "[codecarbon INFO @ 02:34:26] Energy consumed for RAM : 0.003917 kWh. RAM Power : 188.79906034469604 W\n",
      "[codecarbon INFO @ 02:34:26] Energy consumed for all CPUs : 0.002075 kWh. Total CPU Power : 100.0 W\n",
      "[codecarbon INFO @ 02:34:26] Energy consumed for all GPUs : 0.005364 kWh. Total GPU Power : 259.9003976339672 W\n",
      "[codecarbon INFO @ 02:34:26] 0.011356 kWh of electricity used since the beginning.\n",
      "Processing: pickup:  23%|██▎       | 213/932 [01:19<07:49,  1.53file/s]"
     ]
    },
    {
     "name": "stdout",
     "output_type": "stream",
     "text": [
      "Is Pickup Truck: yes\n"
     ]
    },
    {
     "name": "stderr",
     "output_type": "stream",
     "text": [
      "Processing: pickup:  23%|██▎       | 214/932 [01:20<07:51,  1.52file/s]"
     ]
    },
    {
     "name": "stdout",
     "output_type": "stream",
     "text": [
      "Is Pickup Truck: yes\n"
     ]
    },
    {
     "name": "stderr",
     "output_type": "stream",
     "text": [
      "Processing: pickup:  23%|██▎       | 215/932 [01:21<07:53,  1.51file/s]"
     ]
    },
    {
     "name": "stdout",
     "output_type": "stream",
     "text": [
      "Is Pickup Truck: yes\n"
     ]
    },
    {
     "name": "stderr",
     "output_type": "stream",
     "text": [
      "Processing: pickup:  23%|██▎       | 216/932 [01:21<07:54,  1.51file/s]"
     ]
    },
    {
     "name": "stdout",
     "output_type": "stream",
     "text": [
      "Is Pickup Truck: yes\n"
     ]
    },
    {
     "name": "stderr",
     "output_type": "stream",
     "text": [
      "Processing: pickup:  23%|██▎       | 217/932 [01:22<07:53,  1.51file/s]"
     ]
    },
    {
     "name": "stdout",
     "output_type": "stream",
     "text": [
      "Is Pickup Truck: yes\n"
     ]
    },
    {
     "name": "stderr",
     "output_type": "stream",
     "text": [
      "Processing: pickup:  23%|██▎       | 218/932 [01:23<07:54,  1.50file/s]"
     ]
    },
    {
     "name": "stdout",
     "output_type": "stream",
     "text": [
      "Is Pickup Truck: yes\n"
     ]
    },
    {
     "name": "stderr",
     "output_type": "stream",
     "text": [
      "Processing: pickup:  23%|██▎       | 219/932 [01:23<07:52,  1.51file/s]"
     ]
    },
    {
     "name": "stdout",
     "output_type": "stream",
     "text": [
      "Is Pickup Truck: yes\n"
     ]
    },
    {
     "name": "stderr",
     "output_type": "stream",
     "text": [
      "Processing: pickup:  24%|██▎       | 220/932 [01:24<07:53,  1.50file/s]"
     ]
    },
    {
     "name": "stdout",
     "output_type": "stream",
     "text": [
      "Is Pickup Truck: yes\n"
     ]
    },
    {
     "name": "stderr",
     "output_type": "stream",
     "text": [
      "Processing: pickup:  24%|██▎       | 221/932 [01:25<07:52,  1.51file/s]"
     ]
    },
    {
     "name": "stdout",
     "output_type": "stream",
     "text": [
      "Is Pickup Truck: yes\n"
     ]
    },
    {
     "name": "stderr",
     "output_type": "stream",
     "text": [
      "Processing: pickup:  24%|██▍       | 222/932 [01:25<07:50,  1.51file/s]"
     ]
    },
    {
     "name": "stdout",
     "output_type": "stream",
     "text": [
      "Is Pickup Truck: yes\n"
     ]
    },
    {
     "name": "stderr",
     "output_type": "stream",
     "text": [
      "Processing: pickup:  24%|██▍       | 223/932 [01:26<07:48,  1.51file/s]"
     ]
    },
    {
     "name": "stdout",
     "output_type": "stream",
     "text": [
      "Is Pickup Truck: yes\n"
     ]
    },
    {
     "name": "stderr",
     "output_type": "stream",
     "text": [
      "Processing: pickup:  24%|██▍       | 224/932 [01:27<07:47,  1.51file/s]"
     ]
    },
    {
     "name": "stdout",
     "output_type": "stream",
     "text": [
      "Is Pickup Truck: yes\n"
     ]
    },
    {
     "name": "stderr",
     "output_type": "stream",
     "text": [
      "Processing: pickup:  24%|██▍       | 225/932 [01:27<07:49,  1.50file/s]"
     ]
    },
    {
     "name": "stdout",
     "output_type": "stream",
     "text": [
      "Is Pickup Truck: yes\n"
     ]
    },
    {
     "name": "stderr",
     "output_type": "stream",
     "text": [
      "Processing: pickup:  24%|██▍       | 226/932 [01:28<08:09,  1.44file/s]"
     ]
    },
    {
     "name": "stdout",
     "output_type": "stream",
     "text": [
      "Is Pickup Truck: yes\n"
     ]
    },
    {
     "name": "stderr",
     "output_type": "stream",
     "text": [
      "Processing: pickup:  24%|██▍       | 227/932 [01:29<08:05,  1.45file/s]"
     ]
    },
    {
     "name": "stdout",
     "output_type": "stream",
     "text": [
      "Is Pickup Truck: yes\n"
     ]
    },
    {
     "name": "stderr",
     "output_type": "stream",
     "text": [
      "Processing: pickup:  24%|██▍       | 228/932 [01:29<07:59,  1.47file/s]"
     ]
    },
    {
     "name": "stdout",
     "output_type": "stream",
     "text": [
      "Is Pickup Truck: yes\n"
     ]
    },
    {
     "name": "stderr",
     "output_type": "stream",
     "text": [
      "Processing: pickup:  25%|██▍       | 229/932 [01:30<07:53,  1.48file/s]"
     ]
    },
    {
     "name": "stdout",
     "output_type": "stream",
     "text": [
      "Is Pickup Truck: yes\n"
     ]
    },
    {
     "name": "stderr",
     "output_type": "stream",
     "text": [
      "Processing: pickup:  25%|██▍       | 230/932 [01:31<07:56,  1.47file/s]"
     ]
    },
    {
     "name": "stdout",
     "output_type": "stream",
     "text": [
      "Is Pickup Truck: yes\n"
     ]
    },
    {
     "name": "stderr",
     "output_type": "stream",
     "text": [
      "Processing: pickup:  25%|██▍       | 231/932 [01:31<07:54,  1.48file/s]"
     ]
    },
    {
     "name": "stdout",
     "output_type": "stream",
     "text": [
      "Is Pickup Truck: yes\n"
     ]
    },
    {
     "name": "stderr",
     "output_type": "stream",
     "text": [
      "Processing: pickup:  25%|██▍       | 232/932 [01:32<07:52,  1.48file/s]"
     ]
    },
    {
     "name": "stdout",
     "output_type": "stream",
     "text": [
      "Is Pickup Truck: yes\n"
     ]
    },
    {
     "name": "stderr",
     "output_type": "stream",
     "text": [
      "Processing: pickup:  25%|██▌       | 233/932 [01:33<07:51,  1.48file/s]"
     ]
    },
    {
     "name": "stdout",
     "output_type": "stream",
     "text": [
      "Is Pickup Truck: yes\n"
     ]
    },
    {
     "name": "stderr",
     "output_type": "stream",
     "text": [
      "Processing: pickup:  25%|██▌       | 234/932 [01:33<07:49,  1.49file/s]"
     ]
    },
    {
     "name": "stdout",
     "output_type": "stream",
     "text": [
      "Is Pickup Truck: yes\n"
     ]
    },
    {
     "name": "stderr",
     "output_type": "stream",
     "text": [
      "[codecarbon INFO @ 02:34:41] Energy consumed for RAM : 0.004703 kWh. RAM Power : 188.79906034469604 W\n",
      "[codecarbon INFO @ 02:34:41] Energy consumed for all CPUs : 0.002491 kWh. Total CPU Power : 100.0 W\n",
      "[codecarbon INFO @ 02:34:41] Energy consumed for all GPUs : 0.006448 kWh. Total GPU Power : 260.04393095155234 W\n",
      "[codecarbon INFO @ 02:34:41] 0.013642 kWh of electricity used since the beginning.\n",
      "Processing: pickup:  25%|██▌       | 235/932 [01:34<07:45,  1.50file/s]"
     ]
    },
    {
     "name": "stdout",
     "output_type": "stream",
     "text": [
      "Is Pickup Truck: yes\n"
     ]
    },
    {
     "name": "stderr",
     "output_type": "stream",
     "text": [
      "Processing: pickup:  25%|██▌       | 236/932 [01:35<07:47,  1.49file/s]"
     ]
    },
    {
     "name": "stdout",
     "output_type": "stream",
     "text": [
      "Is Pickup Truck: yes\n"
     ]
    },
    {
     "name": "stderr",
     "output_type": "stream",
     "text": [
      "Processing: pickup:  25%|██▌       | 237/932 [01:35<07:44,  1.50file/s]"
     ]
    },
    {
     "name": "stdout",
     "output_type": "stream",
     "text": [
      "Is Pickup Truck: yes\n"
     ]
    },
    {
     "name": "stderr",
     "output_type": "stream",
     "text": [
      "Processing: pickup:  26%|██▌       | 238/932 [01:36<07:42,  1.50file/s]"
     ]
    },
    {
     "name": "stdout",
     "output_type": "stream",
     "text": [
      "Is Pickup Truck: yes\n"
     ]
    },
    {
     "name": "stderr",
     "output_type": "stream",
     "text": [
      "Processing: pickup:  26%|██▌       | 239/932 [01:37<07:40,  1.50file/s]"
     ]
    },
    {
     "name": "stdout",
     "output_type": "stream",
     "text": [
      "Is Pickup Truck: yes\n"
     ]
    },
    {
     "name": "stderr",
     "output_type": "stream",
     "text": [
      "Processing: pickup:  26%|██▌       | 240/932 [01:37<07:41,  1.50file/s]"
     ]
    },
    {
     "name": "stdout",
     "output_type": "stream",
     "text": [
      "Is Pickup Truck: yes\n"
     ]
    },
    {
     "name": "stderr",
     "output_type": "stream",
     "text": [
      "Processing: pickup:  26%|██▌       | 241/932 [01:38<07:40,  1.50file/s]"
     ]
    },
    {
     "name": "stdout",
     "output_type": "stream",
     "text": [
      "Is Pickup Truck: yes\n"
     ]
    },
    {
     "name": "stderr",
     "output_type": "stream",
     "text": [
      "Processing: pickup:  26%|██▌       | 242/932 [01:39<07:40,  1.50file/s]"
     ]
    },
    {
     "name": "stdout",
     "output_type": "stream",
     "text": [
      "Is Pickup Truck: yes\n"
     ]
    },
    {
     "name": "stderr",
     "output_type": "stream",
     "text": [
      "Processing: pickup:  26%|██▌       | 243/932 [01:39<07:40,  1.50file/s]"
     ]
    },
    {
     "name": "stdout",
     "output_type": "stream",
     "text": [
      "Is Pickup Truck: yes\n"
     ]
    },
    {
     "name": "stderr",
     "output_type": "stream",
     "text": [
      "Processing: pickup:  26%|██▌       | 244/932 [01:40<07:39,  1.50file/s]"
     ]
    },
    {
     "name": "stdout",
     "output_type": "stream",
     "text": [
      "Is Pickup Truck: yes\n"
     ]
    },
    {
     "name": "stderr",
     "output_type": "stream",
     "text": [
      "Processing: pickup:  26%|██▋       | 245/932 [01:41<07:41,  1.49file/s]"
     ]
    },
    {
     "name": "stdout",
     "output_type": "stream",
     "text": [
      "Is Pickup Truck: yes\n"
     ]
    },
    {
     "name": "stderr",
     "output_type": "stream",
     "text": [
      "Processing: pickup:  26%|██▋       | 246/932 [01:41<07:41,  1.49file/s]"
     ]
    },
    {
     "name": "stdout",
     "output_type": "stream",
     "text": [
      "Is Pickup Truck: yes\n"
     ]
    },
    {
     "name": "stderr",
     "output_type": "stream",
     "text": [
      "Processing: pickup:  27%|██▋       | 247/932 [01:42<07:39,  1.49file/s]"
     ]
    },
    {
     "name": "stdout",
     "output_type": "stream",
     "text": [
      "Is Pickup Truck: yes\n"
     ]
    },
    {
     "name": "stderr",
     "output_type": "stream",
     "text": [
      "Processing: pickup:  27%|██▋       | 248/932 [01:43<07:38,  1.49file/s]"
     ]
    },
    {
     "name": "stdout",
     "output_type": "stream",
     "text": [
      "Is Pickup Truck: yes\n"
     ]
    },
    {
     "name": "stderr",
     "output_type": "stream",
     "text": [
      "Processing: pickup:  27%|██▋       | 249/932 [01:43<07:36,  1.50file/s]"
     ]
    },
    {
     "name": "stdout",
     "output_type": "stream",
     "text": [
      "Is Pickup Truck: yes\n"
     ]
    },
    {
     "name": "stderr",
     "output_type": "stream",
     "text": [
      "Processing: pickup:  27%|██▋       | 250/932 [01:44<07:37,  1.49file/s]"
     ]
    },
    {
     "name": "stdout",
     "output_type": "stream",
     "text": [
      "Is Pickup Truck: yes\n"
     ]
    },
    {
     "name": "stderr",
     "output_type": "stream",
     "text": [
      "Processing: pickup:  27%|██▋       | 251/932 [01:45<07:36,  1.49file/s]"
     ]
    },
    {
     "name": "stdout",
     "output_type": "stream",
     "text": [
      "Is Pickup Truck: yes\n"
     ]
    },
    {
     "name": "stderr",
     "output_type": "stream",
     "text": [
      "Processing: pickup:  27%|██▋       | 252/932 [01:45<07:36,  1.49file/s]"
     ]
    },
    {
     "name": "stdout",
     "output_type": "stream",
     "text": [
      "Is Pickup Truck: yes\n"
     ]
    },
    {
     "name": "stderr",
     "output_type": "stream",
     "text": [
      "Processing: pickup:  27%|██▋       | 253/932 [01:46<07:35,  1.49file/s]"
     ]
    },
    {
     "name": "stdout",
     "output_type": "stream",
     "text": [
      "Is Pickup Truck: yes\n"
     ]
    },
    {
     "name": "stderr",
     "output_type": "stream",
     "text": [
      "Processing: pickup:  27%|██▋       | 254/932 [01:47<07:34,  1.49file/s]"
     ]
    },
    {
     "name": "stdout",
     "output_type": "stream",
     "text": [
      "Is Pickup Truck: yes\n"
     ]
    },
    {
     "name": "stderr",
     "output_type": "stream",
     "text": [
      "Processing: pickup:  27%|██▋       | 255/932 [01:47<07:31,  1.50file/s]"
     ]
    },
    {
     "name": "stdout",
     "output_type": "stream",
     "text": [
      "Is Pickup Truck: yes\n"
     ]
    },
    {
     "name": "stderr",
     "output_type": "stream",
     "text": [
      "Processing: pickup:  27%|██▋       | 256/932 [01:48<07:29,  1.50file/s]"
     ]
    },
    {
     "name": "stdout",
     "output_type": "stream",
     "text": [
      "Is Pickup Truck: yes\n"
     ]
    },
    {
     "name": "stderr",
     "output_type": "stream",
     "text": [
      "Processing: pickup:  28%|██▊       | 257/932 [01:49<07:27,  1.51file/s][codecarbon INFO @ 02:34:56] Energy consumed for RAM : 0.005489 kWh. RAM Power : 188.79906034469604 W\n",
      "[codecarbon INFO @ 02:34:56] Energy consumed for all CPUs : 0.002908 kWh. Total CPU Power : 100.0 W\n",
      "[codecarbon INFO @ 02:34:56] Energy consumed for all GPUs : 0.007535 kWh. Total GPU Power : 261.02370757398137 W\n",
      "[codecarbon INFO @ 02:34:56] 0.015932 kWh of electricity used since the beginning.\n"
     ]
    },
    {
     "name": "stdout",
     "output_type": "stream",
     "text": [
      "Is Pickup Truck: yes\n"
     ]
    },
    {
     "name": "stderr",
     "output_type": "stream",
     "text": [
      "Processing: pickup:  28%|██▊       | 258/932 [01:49<07:26,  1.51file/s]"
     ]
    },
    {
     "name": "stdout",
     "output_type": "stream",
     "text": [
      "Is Pickup Truck: yes\n"
     ]
    },
    {
     "name": "stderr",
     "output_type": "stream",
     "text": [
      "Processing: pickup:  28%|██▊       | 259/932 [01:50<07:25,  1.51file/s]"
     ]
    },
    {
     "name": "stdout",
     "output_type": "stream",
     "text": [
      "Is Pickup Truck: yes\n"
     ]
    },
    {
     "name": "stderr",
     "output_type": "stream",
     "text": [
      "Processing: pickup:  28%|██▊       | 260/932 [01:51<07:23,  1.52file/s]"
     ]
    },
    {
     "name": "stdout",
     "output_type": "stream",
     "text": [
      "Is Pickup Truck: yes\n"
     ]
    },
    {
     "name": "stderr",
     "output_type": "stream",
     "text": [
      "Processing: pickup:  28%|██▊       | 261/932 [01:51<07:22,  1.52file/s]"
     ]
    },
    {
     "name": "stdout",
     "output_type": "stream",
     "text": [
      "Is Pickup Truck: yes\n"
     ]
    },
    {
     "name": "stderr",
     "output_type": "stream",
     "text": [
      "Processing: pickup:  28%|██▊       | 262/932 [01:52<07:21,  1.52file/s]"
     ]
    },
    {
     "name": "stdout",
     "output_type": "stream",
     "text": [
      "Is Pickup Truck: yes\n"
     ]
    },
    {
     "name": "stderr",
     "output_type": "stream",
     "text": [
      "Processing: pickup:  28%|██▊       | 263/932 [01:53<07:20,  1.52file/s]"
     ]
    },
    {
     "name": "stdout",
     "output_type": "stream",
     "text": [
      "Is Pickup Truck: yes\n"
     ]
    },
    {
     "name": "stderr",
     "output_type": "stream",
     "text": [
      "Processing: pickup:  28%|██▊       | 264/932 [01:53<07:18,  1.52file/s]"
     ]
    },
    {
     "name": "stdout",
     "output_type": "stream",
     "text": [
      "Is Pickup Truck: yes\n"
     ]
    },
    {
     "name": "stderr",
     "output_type": "stream",
     "text": [
      "Processing: pickup:  28%|██▊       | 265/932 [01:54<07:18,  1.52file/s]"
     ]
    },
    {
     "name": "stdout",
     "output_type": "stream",
     "text": [
      "Is Pickup Truck: yes\n"
     ]
    },
    {
     "name": "stderr",
     "output_type": "stream",
     "text": [
      "Processing: pickup:  29%|██▊       | 266/932 [01:55<07:20,  1.51file/s]"
     ]
    },
    {
     "name": "stdout",
     "output_type": "stream",
     "text": [
      "Is Pickup Truck: yes\n"
     ]
    },
    {
     "name": "stderr",
     "output_type": "stream",
     "text": [
      "Processing: pickup:  29%|██▊       | 267/932 [01:55<07:20,  1.51file/s]"
     ]
    },
    {
     "name": "stdout",
     "output_type": "stream",
     "text": [
      "Is Pickup Truck: yes\n"
     ]
    },
    {
     "name": "stderr",
     "output_type": "stream",
     "text": [
      "Processing: pickup:  29%|██▉       | 268/932 [01:56<07:22,  1.50file/s]"
     ]
    },
    {
     "name": "stdout",
     "output_type": "stream",
     "text": [
      "Is Pickup Truck: yes\n"
     ]
    },
    {
     "name": "stderr",
     "output_type": "stream",
     "text": [
      "Processing: pickup:  29%|██▉       | 269/932 [01:57<07:21,  1.50file/s]"
     ]
    },
    {
     "name": "stdout",
     "output_type": "stream",
     "text": [
      "Is Pickup Truck: yes\n"
     ]
    },
    {
     "name": "stderr",
     "output_type": "stream",
     "text": [
      "Processing: pickup:  29%|██▉       | 270/932 [01:57<07:21,  1.50file/s]"
     ]
    },
    {
     "name": "stdout",
     "output_type": "stream",
     "text": [
      "Is Pickup Truck: yes\n"
     ]
    },
    {
     "name": "stderr",
     "output_type": "stream",
     "text": [
      "Processing: pickup:  29%|██▉       | 271/932 [01:58<07:20,  1.50file/s]"
     ]
    },
    {
     "name": "stdout",
     "output_type": "stream",
     "text": [
      "Is Pickup Truck: yes\n"
     ]
    },
    {
     "name": "stderr",
     "output_type": "stream",
     "text": [
      "Processing: pickup:  29%|██▉       | 272/932 [01:59<07:19,  1.50file/s]"
     ]
    },
    {
     "name": "stdout",
     "output_type": "stream",
     "text": [
      "Is Pickup Truck: yes\n"
     ]
    },
    {
     "name": "stderr",
     "output_type": "stream",
     "text": [
      "Processing: pickup:  29%|██▉       | 273/932 [01:59<07:22,  1.49file/s]"
     ]
    },
    {
     "name": "stdout",
     "output_type": "stream",
     "text": [
      "Is Pickup Truck: yes\n"
     ]
    },
    {
     "name": "stderr",
     "output_type": "stream",
     "text": [
      "Processing: pickup:  29%|██▉       | 274/932 [02:00<07:19,  1.50file/s]"
     ]
    },
    {
     "name": "stdout",
     "output_type": "stream",
     "text": [
      "Is Pickup Truck: yes\n"
     ]
    },
    {
     "name": "stderr",
     "output_type": "stream",
     "text": [
      "Processing: pickup:  30%|██▉       | 275/932 [02:01<07:17,  1.50file/s]"
     ]
    },
    {
     "name": "stdout",
     "output_type": "stream",
     "text": [
      "Is Pickup Truck: yes\n"
     ]
    },
    {
     "name": "stderr",
     "output_type": "stream",
     "text": [
      "Processing: pickup:  30%|██▉       | 276/932 [02:01<07:14,  1.51file/s]"
     ]
    },
    {
     "name": "stdout",
     "output_type": "stream",
     "text": [
      "Is Pickup Truck: yes\n"
     ]
    },
    {
     "name": "stderr",
     "output_type": "stream",
     "text": [
      "Processing: pickup:  30%|██▉       | 277/932 [02:02<07:16,  1.50file/s]"
     ]
    },
    {
     "name": "stdout",
     "output_type": "stream",
     "text": [
      "Is Pickup Truck: yes\n"
     ]
    },
    {
     "name": "stderr",
     "output_type": "stream",
     "text": [
      "Processing: pickup:  30%|██▉       | 278/932 [02:03<07:15,  1.50file/s]"
     ]
    },
    {
     "name": "stdout",
     "output_type": "stream",
     "text": [
      "Is Pickup Truck: yes\n"
     ]
    },
    {
     "name": "stderr",
     "output_type": "stream",
     "text": [
      "Processing: pickup:  30%|██▉       | 279/932 [02:03<07:12,  1.51file/s]"
     ]
    },
    {
     "name": "stdout",
     "output_type": "stream",
     "text": [
      "Is Pickup Truck: yes\n"
     ]
    },
    {
     "name": "stderr",
     "output_type": "stream",
     "text": [
      "[codecarbon INFO @ 02:35:11] Energy consumed for RAM : 0.006276 kWh. RAM Power : 188.79906034469604 W\n",
      "[codecarbon INFO @ 02:35:11] Energy consumed for all CPUs : 0.003324 kWh. Total CPU Power : 100.0 W\n",
      "[codecarbon INFO @ 02:35:12] Energy consumed for all GPUs : 0.008637 kWh. Total GPU Power : 264.6636979048775 W\n",
      "[codecarbon INFO @ 02:35:12] 0.018237 kWh of electricity used since the beginning.\n",
      "[codecarbon INFO @ 02:35:12] 0.068290 g.CO2eq/s mean an estimation of 2,153.5825754683815 kg.CO2eq/year\n",
      "Processing: pickup:  30%|███       | 280/932 [02:04<07:13,  1.50file/s]"
     ]
    },
    {
     "name": "stdout",
     "output_type": "stream",
     "text": [
      "Is Pickup Truck: yes\n"
     ]
    },
    {
     "name": "stderr",
     "output_type": "stream",
     "text": [
      "Processing: pickup:  30%|███       | 281/932 [02:05<07:11,  1.51file/s]"
     ]
    },
    {
     "name": "stdout",
     "output_type": "stream",
     "text": [
      "Is Pickup Truck: yes\n"
     ]
    },
    {
     "name": "stderr",
     "output_type": "stream",
     "text": [
      "Processing: pickup:  30%|███       | 282/932 [02:05<07:08,  1.52file/s]"
     ]
    },
    {
     "name": "stdout",
     "output_type": "stream",
     "text": [
      "Is Pickup Truck: yes\n"
     ]
    },
    {
     "name": "stderr",
     "output_type": "stream",
     "text": [
      "Processing: pickup:  30%|███       | 283/932 [02:06<07:09,  1.51file/s]"
     ]
    },
    {
     "name": "stdout",
     "output_type": "stream",
     "text": [
      "Is Pickup Truck: yes\n"
     ]
    },
    {
     "name": "stderr",
     "output_type": "stream",
     "text": [
      "Processing: pickup:  30%|███       | 284/932 [02:07<07:17,  1.48file/s]"
     ]
    },
    {
     "name": "stdout",
     "output_type": "stream",
     "text": [
      "Is Pickup Truck: yes\n"
     ]
    },
    {
     "name": "stderr",
     "output_type": "stream",
     "text": [
      "Processing: pickup:  31%|███       | 285/932 [02:07<07:14,  1.49file/s]"
     ]
    },
    {
     "name": "stdout",
     "output_type": "stream",
     "text": [
      "Is Pickup Truck: yes\n"
     ]
    },
    {
     "name": "stderr",
     "output_type": "stream",
     "text": [
      "Processing: pickup:  31%|███       | 286/932 [02:08<07:10,  1.50file/s]"
     ]
    },
    {
     "name": "stdout",
     "output_type": "stream",
     "text": [
      "Is Pickup Truck: yes\n"
     ]
    },
    {
     "name": "stderr",
     "output_type": "stream",
     "text": [
      "Processing: pickup:  31%|███       | 287/932 [02:09<07:08,  1.51file/s]"
     ]
    },
    {
     "name": "stdout",
     "output_type": "stream",
     "text": [
      "Is Pickup Truck: yes\n"
     ]
    },
    {
     "name": "stderr",
     "output_type": "stream",
     "text": [
      "Processing: pickup:  31%|███       | 288/932 [02:09<07:10,  1.50file/s]"
     ]
    },
    {
     "name": "stdout",
     "output_type": "stream",
     "text": [
      "Is Pickup Truck: yes\n"
     ]
    },
    {
     "name": "stderr",
     "output_type": "stream",
     "text": [
      "Processing: pickup:  31%|███       | 289/932 [02:10<07:06,  1.51file/s]"
     ]
    },
    {
     "name": "stdout",
     "output_type": "stream",
     "text": [
      "Is Pickup Truck: yes\n"
     ]
    },
    {
     "name": "stderr",
     "output_type": "stream",
     "text": [
      "Processing: pickup:  31%|███       | 290/932 [02:11<07:05,  1.51file/s]"
     ]
    },
    {
     "name": "stdout",
     "output_type": "stream",
     "text": [
      "Is Pickup Truck: yes\n"
     ]
    },
    {
     "name": "stderr",
     "output_type": "stream",
     "text": [
      "Processing: pickup:  31%|███       | 291/932 [02:11<07:03,  1.51file/s]"
     ]
    },
    {
     "name": "stdout",
     "output_type": "stream",
     "text": [
      "Is Pickup Truck: yes\n"
     ]
    },
    {
     "name": "stderr",
     "output_type": "stream",
     "text": [
      "Processing: pickup:  31%|███▏      | 292/932 [02:12<07:02,  1.52file/s]"
     ]
    },
    {
     "name": "stdout",
     "output_type": "stream",
     "text": [
      "Is Pickup Truck: yes\n"
     ]
    },
    {
     "name": "stderr",
     "output_type": "stream",
     "text": [
      "Processing: pickup:  31%|███▏      | 293/932 [02:13<07:01,  1.52file/s]"
     ]
    },
    {
     "name": "stdout",
     "output_type": "stream",
     "text": [
      "Is Pickup Truck: yes\n"
     ]
    },
    {
     "name": "stderr",
     "output_type": "stream",
     "text": [
      "Processing: pickup:  32%|███▏      | 294/932 [02:13<07:01,  1.51file/s]"
     ]
    },
    {
     "name": "stdout",
     "output_type": "stream",
     "text": [
      "Is Pickup Truck: yes\n"
     ]
    },
    {
     "name": "stderr",
     "output_type": "stream",
     "text": [
      "Processing: pickup:  32%|███▏      | 296/932 [02:14<06:16,  1.69file/s]"
     ]
    },
    {
     "name": "stdout",
     "output_type": "stream",
     "text": [
      "Is Pickup Truck: yes\n"
     ]
    },
    {
     "name": "stderr",
     "output_type": "stream",
     "text": [
      "Processing: pickup:  32%|███▏      | 297/932 [02:15<06:27,  1.64file/s]"
     ]
    },
    {
     "name": "stdout",
     "output_type": "stream",
     "text": [
      "Is Pickup Truck: yes\n"
     ]
    },
    {
     "name": "stderr",
     "output_type": "stream",
     "text": [
      "Processing: pickup:  32%|███▏      | 298/932 [02:16<06:36,  1.60file/s]"
     ]
    },
    {
     "name": "stdout",
     "output_type": "stream",
     "text": [
      "Is Pickup Truck: yes\n"
     ]
    },
    {
     "name": "stderr",
     "output_type": "stream",
     "text": [
      "Processing: pickup:  32%|███▏      | 299/932 [02:16<06:42,  1.57file/s]"
     ]
    },
    {
     "name": "stdout",
     "output_type": "stream",
     "text": [
      "Is Pickup Truck: yes\n"
     ]
    },
    {
     "name": "stderr",
     "output_type": "stream",
     "text": [
      "Processing: van:  32%|███▏      | 300/932 [02:17<06:45,  1.56file/s]   "
     ]
    },
    {
     "name": "stdout",
     "output_type": "stream",
     "text": [
      "Is Pickup Truck: yes\n"
     ]
    },
    {
     "name": "stderr",
     "output_type": "stream",
     "text": [
      "Processing: van:  33%|███▎      | 306/932 [02:19<03:45,  2.77file/s][codecarbon INFO @ 02:35:26] Energy consumed for RAM : 0.007057 kWh. RAM Power : 188.79906034469604 W\n",
      "[codecarbon INFO @ 02:35:26] Energy consumed for all CPUs : 0.003738 kWh. Total CPU Power : 100.0 W\n",
      "[codecarbon INFO @ 02:35:26] Energy consumed for all GPUs : 0.009726 kWh. Total GPU Power : 262.8364244814717 W\n",
      "[codecarbon INFO @ 02:35:26] 0.020521 kWh of electricity used since the beginning.\n",
      "Processing: van:  38%|███▊      | 351/932 [02:34<03:09,  3.07file/s][codecarbon INFO @ 02:35:41] Energy consumed for RAM : 0.007844 kWh. RAM Power : 188.79906034469604 W\n",
      "[codecarbon INFO @ 02:35:41] Energy consumed for all CPUs : 0.004155 kWh. Total CPU Power : 100.0 W\n",
      "[codecarbon INFO @ 02:35:41] Energy consumed for all GPUs : 0.010817 kWh. Total GPU Power : 261.948192489154 W\n",
      "[codecarbon INFO @ 02:35:41] 0.022815 kWh of electricity used since the beginning.\n",
      "Processing: van:  42%|████▏     | 396/932 [02:49<03:01,  2.95file/s][codecarbon INFO @ 02:35:56] Energy consumed for RAM : 0.008630 kWh. RAM Power : 188.79906034469604 W\n",
      "[codecarbon INFO @ 02:35:56] Energy consumed for all CPUs : 0.004571 kWh. Total CPU Power : 100.0 W\n",
      "[codecarbon INFO @ 02:35:56] Energy consumed for all GPUs : 0.011912 kWh. Total GPU Power : 263.00274111876854 W\n",
      "[codecarbon INFO @ 02:35:56] 0.025114 kWh of electricity used since the beginning.\n",
      "Processing: bus 2:  47%|████▋     | 441/932 [03:04<02:46,  2.95file/s][codecarbon INFO @ 02:36:11] Energy consumed for RAM : 0.009417 kWh. RAM Power : 188.79906034469604 W\n",
      "[codecarbon INFO @ 02:36:11] Energy consumed for all CPUs : 0.004988 kWh. Total CPU Power : 100.0 W\n",
      "[codecarbon INFO @ 02:36:11] Energy consumed for all GPUs : 0.012990 kWh. Total GPU Power : 258.752550197671 W\n",
      "[codecarbon INFO @ 02:36:11] 0.027395 kWh of electricity used since the beginning.\n",
      "Processing: truck 2:  48%|████▊     | 443/932 [03:05<03:34,  2.28file/s]"
     ]
    },
    {
     "name": "stdout",
     "output_type": "stream",
     "text": [
      "Is Pickup Truck: no\n"
     ]
    },
    {
     "name": "stderr",
     "output_type": "stream",
     "text": [
      "Processing: truck 2:  48%|████▊     | 444/932 [03:05<04:07,  1.97file/s]"
     ]
    },
    {
     "name": "stdout",
     "output_type": "stream",
     "text": [
      "Is Pickup Truck: no\n"
     ]
    },
    {
     "name": "stderr",
     "output_type": "stream",
     "text": [
      "Processing: truck 2:  48%|████▊     | 445/932 [03:06<04:32,  1.79file/s]"
     ]
    },
    {
     "name": "stdout",
     "output_type": "stream",
     "text": [
      "Is Pickup Truck: no\n"
     ]
    },
    {
     "name": "stderr",
     "output_type": "stream",
     "text": [
      "Processing: truck 2:  48%|████▊     | 446/932 [03:07<04:48,  1.68file/s]"
     ]
    },
    {
     "name": "stdout",
     "output_type": "stream",
     "text": [
      "Is Pickup Truck: no\n"
     ]
    },
    {
     "name": "stderr",
     "output_type": "stream",
     "text": [
      "Processing: truck 2:  48%|████▊     | 447/932 [03:07<05:01,  1.61file/s]"
     ]
    },
    {
     "name": "stdout",
     "output_type": "stream",
     "text": [
      "Is Pickup Truck: no\n"
     ]
    },
    {
     "name": "stderr",
     "output_type": "stream",
     "text": [
      "Processing: truck 2:  48%|████▊     | 448/932 [03:08<05:22,  1.50file/s]"
     ]
    },
    {
     "name": "stdout",
     "output_type": "stream",
     "text": [
      "Is Pickup Truck: no\n"
     ]
    },
    {
     "name": "stderr",
     "output_type": "stream",
     "text": [
      "Processing: truck 2:  48%|████▊     | 449/932 [03:09<05:22,  1.50file/s]"
     ]
    },
    {
     "name": "stdout",
     "output_type": "stream",
     "text": [
      "Is Pickup Truck: no\n"
     ]
    },
    {
     "name": "stderr",
     "output_type": "stream",
     "text": [
      "Processing: truck 2:  48%|████▊     | 450/932 [03:10<05:22,  1.49file/s]"
     ]
    },
    {
     "name": "stdout",
     "output_type": "stream",
     "text": [
      "Is Pickup Truck: no\n"
     ]
    },
    {
     "name": "stderr",
     "output_type": "stream",
     "text": [
      "Processing: truck 2:  48%|████▊     | 451/932 [03:10<05:23,  1.48file/s]"
     ]
    },
    {
     "name": "stdout",
     "output_type": "stream",
     "text": [
      "Is Pickup Truck: no\n"
     ]
    },
    {
     "name": "stderr",
     "output_type": "stream",
     "text": [
      "Processing: truck 2:  48%|████▊     | 452/932 [03:11<05:21,  1.49file/s]"
     ]
    },
    {
     "name": "stdout",
     "output_type": "stream",
     "text": [
      "Is Pickup Truck: no\n"
     ]
    },
    {
     "name": "stderr",
     "output_type": "stream",
     "text": [
      "Processing: truck 2:  49%|████▊     | 453/932 [03:12<05:21,  1.49file/s]"
     ]
    },
    {
     "name": "stdout",
     "output_type": "stream",
     "text": [
      "Is Pickup Truck: no\n"
     ]
    },
    {
     "name": "stderr",
     "output_type": "stream",
     "text": [
      "Processing: truck 2:  49%|████▊     | 454/932 [03:12<05:20,  1.49file/s]"
     ]
    },
    {
     "name": "stdout",
     "output_type": "stream",
     "text": [
      "Is Pickup Truck: no\n"
     ]
    },
    {
     "name": "stderr",
     "output_type": "stream",
     "text": [
      "Processing: truck 2:  49%|████▉     | 455/932 [03:13<05:20,  1.49file/s]"
     ]
    },
    {
     "name": "stdout",
     "output_type": "stream",
     "text": [
      "Is Pickup Truck: no\n"
     ]
    },
    {
     "name": "stderr",
     "output_type": "stream",
     "text": [
      "Processing: truck 2:  49%|████▉     | 456/932 [03:14<05:18,  1.49file/s]"
     ]
    },
    {
     "name": "stdout",
     "output_type": "stream",
     "text": [
      "Is Pickup Truck: no\n"
     ]
    },
    {
     "name": "stderr",
     "output_type": "stream",
     "text": [
      "Processing: truck 2:  49%|████▉     | 457/932 [03:14<05:16,  1.50file/s]"
     ]
    },
    {
     "name": "stdout",
     "output_type": "stream",
     "text": [
      "Is Pickup Truck: no\n"
     ]
    },
    {
     "name": "stderr",
     "output_type": "stream",
     "text": [
      "Processing: truck 2:  49%|████▉     | 458/932 [03:15<05:22,  1.47file/s]"
     ]
    },
    {
     "name": "stdout",
     "output_type": "stream",
     "text": [
      "Is Pickup Truck: no\n"
     ]
    },
    {
     "name": "stderr",
     "output_type": "stream",
     "text": [
      "Processing: truck 2:  49%|████▉     | 459/932 [03:16<05:19,  1.48file/s]"
     ]
    },
    {
     "name": "stdout",
     "output_type": "stream",
     "text": [
      "Is Pickup Truck: no\n"
     ]
    },
    {
     "name": "stderr",
     "output_type": "stream",
     "text": [
      "Processing: truck 2:  49%|████▉     | 460/932 [03:16<05:17,  1.49file/s]"
     ]
    },
    {
     "name": "stdout",
     "output_type": "stream",
     "text": [
      "Is Pickup Truck: no\n"
     ]
    },
    {
     "name": "stderr",
     "output_type": "stream",
     "text": [
      "Processing: truck 2:  49%|████▉     | 461/932 [03:17<05:16,  1.49file/s]"
     ]
    },
    {
     "name": "stdout",
     "output_type": "stream",
     "text": [
      "Is Pickup Truck: no\n"
     ]
    },
    {
     "name": "stderr",
     "output_type": "stream",
     "text": [
      "Processing: truck 2:  50%|████▉     | 462/932 [03:18<05:15,  1.49file/s]"
     ]
    },
    {
     "name": "stdout",
     "output_type": "stream",
     "text": [
      "Is Pickup Truck: no\n"
     ]
    },
    {
     "name": "stderr",
     "output_type": "stream",
     "text": [
      "Processing: truck 2:  50%|████▉     | 463/932 [03:18<05:14,  1.49file/s]"
     ]
    },
    {
     "name": "stdout",
     "output_type": "stream",
     "text": [
      "Is Pickup Truck: no\n"
     ]
    },
    {
     "name": "stderr",
     "output_type": "stream",
     "text": [
      "[codecarbon INFO @ 02:36:26] Energy consumed for RAM : 0.010203 kWh. RAM Power : 188.79906034469604 W\n",
      "[codecarbon INFO @ 02:36:26] Energy consumed for all CPUs : 0.005405 kWh. Total CPU Power : 100.0 W\n",
      "[codecarbon INFO @ 02:36:26] Energy consumed for all GPUs : 0.014075 kWh. Total GPU Power : 260.3230165576244 W\n",
      "[codecarbon INFO @ 02:36:26] 0.029682 kWh of electricity used since the beginning.\n",
      "Processing: truck 2:  50%|████▉     | 464/932 [03:19<05:14,  1.49file/s]"
     ]
    },
    {
     "name": "stdout",
     "output_type": "stream",
     "text": [
      "Is Pickup Truck: no\n"
     ]
    },
    {
     "name": "stderr",
     "output_type": "stream",
     "text": [
      "Processing: truck 2:  50%|████▉     | 465/932 [03:20<05:13,  1.49file/s]"
     ]
    },
    {
     "name": "stdout",
     "output_type": "stream",
     "text": [
      "Is Pickup Truck: no\n"
     ]
    },
    {
     "name": "stderr",
     "output_type": "stream",
     "text": [
      "Processing: truck 2:  50%|█████     | 466/932 [03:20<05:13,  1.49file/s]"
     ]
    },
    {
     "name": "stdout",
     "output_type": "stream",
     "text": [
      "Is Pickup Truck: no\n"
     ]
    },
    {
     "name": "stderr",
     "output_type": "stream",
     "text": [
      "Processing: truck 2:  50%|█████     | 467/932 [03:21<05:12,  1.49file/s]"
     ]
    },
    {
     "name": "stdout",
     "output_type": "stream",
     "text": [
      "Is Pickup Truck: no\n"
     ]
    },
    {
     "name": "stderr",
     "output_type": "stream",
     "text": [
      "Processing: truck 2:  50%|█████     | 468/932 [03:22<05:14,  1.47file/s]"
     ]
    },
    {
     "name": "stdout",
     "output_type": "stream",
     "text": [
      "Is Pickup Truck: no\n"
     ]
    },
    {
     "name": "stderr",
     "output_type": "stream",
     "text": [
      "Processing: truck 2:  50%|█████     | 469/932 [03:22<05:14,  1.47file/s]"
     ]
    },
    {
     "name": "stdout",
     "output_type": "stream",
     "text": [
      "Is Pickup Truck: no\n"
     ]
    },
    {
     "name": "stderr",
     "output_type": "stream",
     "text": [
      "Processing: truck 2:  50%|█████     | 470/932 [03:23<05:11,  1.48file/s]"
     ]
    },
    {
     "name": "stdout",
     "output_type": "stream",
     "text": [
      "Is Pickup Truck: no\n"
     ]
    },
    {
     "name": "stderr",
     "output_type": "stream",
     "text": [
      "Processing: truck 2:  51%|█████     | 471/932 [03:24<05:11,  1.48file/s]"
     ]
    },
    {
     "name": "stdout",
     "output_type": "stream",
     "text": [
      "Is Pickup Truck: no\n"
     ]
    },
    {
     "name": "stderr",
     "output_type": "stream",
     "text": [
      "Processing: truck 2:  51%|█████     | 472/932 [03:24<05:11,  1.48file/s]"
     ]
    },
    {
     "name": "stdout",
     "output_type": "stream",
     "text": [
      "Is Pickup Truck: no\n"
     ]
    },
    {
     "name": "stderr",
     "output_type": "stream",
     "text": [
      "Processing: truck 2:  51%|█████     | 473/932 [03:25<05:10,  1.48file/s]"
     ]
    },
    {
     "name": "stdout",
     "output_type": "stream",
     "text": [
      "Is Pickup Truck: yes\n"
     ]
    },
    {
     "name": "stderr",
     "output_type": "stream",
     "text": [
      "Processing: truck 2:  51%|█████     | 474/932 [03:26<05:06,  1.49file/s]"
     ]
    },
    {
     "name": "stdout",
     "output_type": "stream",
     "text": [
      "Is Pickup Truck: no\n"
     ]
    },
    {
     "name": "stderr",
     "output_type": "stream",
     "text": [
      "Processing: truck 2:  51%|█████     | 475/932 [03:26<05:07,  1.49file/s]"
     ]
    },
    {
     "name": "stdout",
     "output_type": "stream",
     "text": [
      "Is Pickup Truck: no\n"
     ]
    },
    {
     "name": "stderr",
     "output_type": "stream",
     "text": [
      "Processing: truck 2:  51%|█████     | 476/932 [03:27<05:06,  1.49file/s]"
     ]
    },
    {
     "name": "stdout",
     "output_type": "stream",
     "text": [
      "Is Pickup Truck: no\n"
     ]
    },
    {
     "name": "stderr",
     "output_type": "stream",
     "text": [
      "Processing: truck 2:  51%|█████     | 477/932 [03:28<05:05,  1.49file/s]"
     ]
    },
    {
     "name": "stdout",
     "output_type": "stream",
     "text": [
      "Is Pickup Truck: no\n"
     ]
    },
    {
     "name": "stderr",
     "output_type": "stream",
     "text": [
      "Processing: truck 2:  51%|█████▏    | 478/932 [03:28<05:05,  1.49file/s]"
     ]
    },
    {
     "name": "stdout",
     "output_type": "stream",
     "text": [
      "Is Pickup Truck: no\n"
     ]
    },
    {
     "name": "stderr",
     "output_type": "stream",
     "text": [
      "Processing: truck 2:  51%|█████▏    | 479/932 [03:29<05:02,  1.50file/s]"
     ]
    },
    {
     "name": "stdout",
     "output_type": "stream",
     "text": [
      "Is Pickup Truck: no\n"
     ]
    },
    {
     "name": "stderr",
     "output_type": "stream",
     "text": [
      "Processing: truck 2:  52%|█████▏    | 480/932 [03:30<05:01,  1.50file/s]"
     ]
    },
    {
     "name": "stdout",
     "output_type": "stream",
     "text": [
      "Is Pickup Truck: no\n"
     ]
    },
    {
     "name": "stderr",
     "output_type": "stream",
     "text": [
      "Processing: truck 2:  52%|█████▏    | 481/932 [03:30<05:03,  1.49file/s]"
     ]
    },
    {
     "name": "stdout",
     "output_type": "stream",
     "text": [
      "Is Pickup Truck: no\n"
     ]
    },
    {
     "name": "stderr",
     "output_type": "stream",
     "text": [
      "Processing: truck 2:  52%|█████▏    | 482/932 [03:31<05:04,  1.48file/s]"
     ]
    },
    {
     "name": "stdout",
     "output_type": "stream",
     "text": [
      "Is Pickup Truck: no\n"
     ]
    },
    {
     "name": "stderr",
     "output_type": "stream",
     "text": [
      "Processing: truck 2:  52%|█████▏    | 483/932 [03:32<05:02,  1.48file/s]"
     ]
    },
    {
     "name": "stdout",
     "output_type": "stream",
     "text": [
      "Is Pickup Truck: no\n"
     ]
    },
    {
     "name": "stderr",
     "output_type": "stream",
     "text": [
      "Processing: truck 2:  52%|█████▏    | 484/932 [03:32<04:59,  1.49file/s]"
     ]
    },
    {
     "name": "stdout",
     "output_type": "stream",
     "text": [
      "Is Pickup Truck: no\n"
     ]
    },
    {
     "name": "stderr",
     "output_type": "stream",
     "text": [
      "Processing: truck 2:  52%|█████▏    | 485/932 [03:33<04:57,  1.50file/s]"
     ]
    },
    {
     "name": "stdout",
     "output_type": "stream",
     "text": [
      "Is Pickup Truck: no\n"
     ]
    },
    {
     "name": "stderr",
     "output_type": "stream",
     "text": [
      "Processing: truck 2:  52%|█████▏    | 486/932 [03:34<04:56,  1.50file/s][codecarbon INFO @ 02:36:41] Energy consumed for RAM : 0.010989 kWh. RAM Power : 188.79906034469604 W\n",
      "[codecarbon INFO @ 02:36:41] Energy consumed for all CPUs : 0.005821 kWh. Total CPU Power : 100.0 W\n",
      "[codecarbon INFO @ 02:36:41] Energy consumed for all GPUs : 0.015155 kWh. Total GPU Power : 259.3971086341593 W\n",
      "[codecarbon INFO @ 02:36:41] 0.031965 kWh of electricity used since the beginning.\n"
     ]
    },
    {
     "name": "stdout",
     "output_type": "stream",
     "text": [
      "Is Pickup Truck: no\n"
     ]
    },
    {
     "name": "stderr",
     "output_type": "stream",
     "text": [
      "Processing: truck 2:  52%|█████▏    | 487/932 [03:34<04:56,  1.50file/s]"
     ]
    },
    {
     "name": "stdout",
     "output_type": "stream",
     "text": [
      "Is Pickup Truck: no\n"
     ]
    },
    {
     "name": "stderr",
     "output_type": "stream",
     "text": [
      "Processing: truck 2:  52%|█████▏    | 488/932 [03:35<04:53,  1.51file/s]"
     ]
    },
    {
     "name": "stdout",
     "output_type": "stream",
     "text": [
      "Is Pickup Truck: no\n"
     ]
    },
    {
     "name": "stderr",
     "output_type": "stream",
     "text": [
      "Processing: truck 2:  52%|█████▏    | 489/932 [03:36<04:51,  1.52file/s]"
     ]
    },
    {
     "name": "stdout",
     "output_type": "stream",
     "text": [
      "Is Pickup Truck: no\n"
     ]
    },
    {
     "name": "stderr",
     "output_type": "stream",
     "text": [
      "Processing: truck 2:  53%|█████▎    | 490/932 [03:36<04:48,  1.53file/s]"
     ]
    },
    {
     "name": "stdout",
     "output_type": "stream",
     "text": [
      "Is Pickup Truck: no\n"
     ]
    },
    {
     "name": "stderr",
     "output_type": "stream",
     "text": [
      "Processing: truck 2:  53%|█████▎    | 491/932 [03:37<04:47,  1.53file/s]"
     ]
    },
    {
     "name": "stdout",
     "output_type": "stream",
     "text": [
      "Is Pickup Truck: no\n"
     ]
    },
    {
     "name": "stderr",
     "output_type": "stream",
     "text": [
      "Processing: truck 2:  53%|█████▎    | 492/932 [03:38<04:46,  1.53file/s]"
     ]
    },
    {
     "name": "stdout",
     "output_type": "stream",
     "text": [
      "Is Pickup Truck: no\n"
     ]
    },
    {
     "name": "stderr",
     "output_type": "stream",
     "text": [
      "Processing: truck 2:  53%|█████▎    | 494/932 [03:39<04:17,  1.70file/s]"
     ]
    },
    {
     "name": "stdout",
     "output_type": "stream",
     "text": [
      "Is Pickup Truck: no\n"
     ]
    },
    {
     "name": "stderr",
     "output_type": "stream",
     "text": [
      "Processing: truck 2:  53%|█████▎    | 495/932 [03:39<04:26,  1.64file/s]"
     ]
    },
    {
     "name": "stdout",
     "output_type": "stream",
     "text": [
      "Is Pickup Truck: no\n"
     ]
    },
    {
     "name": "stderr",
     "output_type": "stream",
     "text": [
      "Processing: truck 2:  53%|█████▎    | 496/932 [03:40<04:32,  1.60file/s]"
     ]
    },
    {
     "name": "stdout",
     "output_type": "stream",
     "text": [
      "Is Pickup Truck: no\n"
     ]
    },
    {
     "name": "stderr",
     "output_type": "stream",
     "text": [
      "Processing: truck 2:  53%|█████▎    | 497/932 [03:41<04:35,  1.58file/s]"
     ]
    },
    {
     "name": "stdout",
     "output_type": "stream",
     "text": [
      "Is Pickup Truck: no\n"
     ]
    },
    {
     "name": "stderr",
     "output_type": "stream",
     "text": [
      "Processing: truck 2:  53%|█████▎    | 498/932 [03:41<04:37,  1.57file/s]"
     ]
    },
    {
     "name": "stdout",
     "output_type": "stream",
     "text": [
      "Is Pickup Truck: no\n"
     ]
    },
    {
     "name": "stderr",
     "output_type": "stream",
     "text": [
      "Processing: truck 2:  54%|█████▎    | 499/932 [03:42<04:38,  1.56file/s]"
     ]
    },
    {
     "name": "stdout",
     "output_type": "stream",
     "text": [
      "Is Pickup Truck: no\n"
     ]
    },
    {
     "name": "stderr",
     "output_type": "stream",
     "text": [
      "Processing: truck 2:  54%|█████▎    | 500/932 [03:43<04:40,  1.54file/s]"
     ]
    },
    {
     "name": "stdout",
     "output_type": "stream",
     "text": [
      "Is Pickup Truck: no\n"
     ]
    },
    {
     "name": "stderr",
     "output_type": "stream",
     "text": [
      "Processing: truck 2:  54%|█████▍    | 501/932 [03:43<04:40,  1.53file/s]"
     ]
    },
    {
     "name": "stdout",
     "output_type": "stream",
     "text": [
      "Is Pickup Truck: no\n"
     ]
    },
    {
     "name": "stderr",
     "output_type": "stream",
     "text": [
      "Processing: truck 2:  54%|█████▍    | 502/932 [03:44<04:41,  1.53file/s]"
     ]
    },
    {
     "name": "stdout",
     "output_type": "stream",
     "text": [
      "Is Pickup Truck: no\n"
     ]
    },
    {
     "name": "stderr",
     "output_type": "stream",
     "text": [
      "Processing: truck 2:  54%|█████▍    | 503/932 [03:45<04:41,  1.52file/s]"
     ]
    },
    {
     "name": "stdout",
     "output_type": "stream",
     "text": [
      "Is Pickup Truck: no\n"
     ]
    },
    {
     "name": "stderr",
     "output_type": "stream",
     "text": [
      "Processing: truck 2:  54%|█████▍    | 504/932 [03:45<04:41,  1.52file/s]"
     ]
    },
    {
     "name": "stdout",
     "output_type": "stream",
     "text": [
      "Is Pickup Truck: no\n"
     ]
    },
    {
     "name": "stderr",
     "output_type": "stream",
     "text": [
      "Processing: truck 2:  54%|█████▍    | 505/932 [03:46<04:41,  1.52file/s]"
     ]
    },
    {
     "name": "stdout",
     "output_type": "stream",
     "text": [
      "Is Pickup Truck: no\n"
     ]
    },
    {
     "name": "stderr",
     "output_type": "stream",
     "text": [
      "Processing: truck 2:  54%|█████▍    | 506/932 [03:47<04:40,  1.52file/s]"
     ]
    },
    {
     "name": "stdout",
     "output_type": "stream",
     "text": [
      "Is Pickup Truck: no\n"
     ]
    },
    {
     "name": "stderr",
     "output_type": "stream",
     "text": [
      "Processing: truck 2:  54%|█████▍    | 507/932 [03:47<04:39,  1.52file/s]"
     ]
    },
    {
     "name": "stdout",
     "output_type": "stream",
     "text": [
      "Is Pickup Truck: no\n"
     ]
    },
    {
     "name": "stderr",
     "output_type": "stream",
     "text": [
      "Processing: truck 2:  55%|█████▍    | 508/932 [03:48<04:39,  1.52file/s]"
     ]
    },
    {
     "name": "stdout",
     "output_type": "stream",
     "text": [
      "Is Pickup Truck: no\n"
     ]
    },
    {
     "name": "stderr",
     "output_type": "stream",
     "text": [
      "Processing: truck 2:  55%|█████▍    | 509/932 [03:48<03:57,  1.78file/s][codecarbon INFO @ 02:36:56] Energy consumed for RAM : 0.011776 kWh. RAM Power : 188.79906034469604 W\n",
      "[codecarbon INFO @ 02:36:56] Energy consumed for all CPUs : 0.006238 kWh. Total CPU Power : 100.0 W\n",
      "[codecarbon INFO @ 02:36:56] Energy consumed for all GPUs : 0.016260 kWh. Total GPU Power : 265.1880975606158 W\n",
      "[codecarbon INFO @ 02:36:56] 0.034273 kWh of electricity used since the beginning.\n",
      "Processing: truck 2:  55%|█████▍    | 510/932 [03:49<04:09,  1.69file/s]"
     ]
    },
    {
     "name": "stdout",
     "output_type": "stream",
     "text": [
      "Is Pickup Truck: no\n"
     ]
    },
    {
     "name": "stderr",
     "output_type": "stream",
     "text": [
      "Processing: truck 2:  55%|█████▍    | 511/932 [03:50<04:17,  1.64file/s]"
     ]
    },
    {
     "name": "stdout",
     "output_type": "stream",
     "text": [
      "Is Pickup Truck: no\n"
     ]
    },
    {
     "name": "stderr",
     "output_type": "stream",
     "text": [
      "Processing: truck 2:  55%|█████▍    | 512/932 [03:50<04:21,  1.60file/s]"
     ]
    },
    {
     "name": "stdout",
     "output_type": "stream",
     "text": [
      "Is Pickup Truck: no\n"
     ]
    },
    {
     "name": "stderr",
     "output_type": "stream",
     "text": [
      "Processing: truck 2:  55%|█████▌    | 513/932 [03:51<04:25,  1.58file/s]"
     ]
    },
    {
     "name": "stdout",
     "output_type": "stream",
     "text": [
      "Is Pickup Truck: no\n"
     ]
    },
    {
     "name": "stderr",
     "output_type": "stream",
     "text": [
      "Processing: truck 2:  55%|█████▌    | 514/932 [03:52<04:32,  1.53file/s]"
     ]
    },
    {
     "name": "stdout",
     "output_type": "stream",
     "text": [
      "Is Pickup Truck: no\n"
     ]
    },
    {
     "name": "stderr",
     "output_type": "stream",
     "text": [
      "Processing: truck 2:  55%|█████▌    | 515/932 [03:52<04:34,  1.52file/s]"
     ]
    },
    {
     "name": "stdout",
     "output_type": "stream",
     "text": [
      "Is Pickup Truck: no\n"
     ]
    },
    {
     "name": "stderr",
     "output_type": "stream",
     "text": [
      "Processing: truck 2:  55%|█████▌    | 516/932 [03:53<04:35,  1.51file/s]"
     ]
    },
    {
     "name": "stdout",
     "output_type": "stream",
     "text": [
      "Is Pickup Truck: no\n"
     ]
    },
    {
     "name": "stderr",
     "output_type": "stream",
     "text": [
      "Processing: truck 2:  55%|█████▌    | 517/932 [03:54<04:36,  1.50file/s]"
     ]
    },
    {
     "name": "stdout",
     "output_type": "stream",
     "text": [
      "Is Pickup Truck: no\n"
     ]
    },
    {
     "name": "stderr",
     "output_type": "stream",
     "text": [
      "Processing: truck 2:  56%|█████▌    | 518/932 [03:54<04:35,  1.50file/s]"
     ]
    },
    {
     "name": "stdout",
     "output_type": "stream",
     "text": [
      "Is Pickup Truck: no\n"
     ]
    },
    {
     "name": "stderr",
     "output_type": "stream",
     "text": [
      "Processing: truck 2:  56%|█████▌    | 519/932 [03:55<04:39,  1.48file/s]"
     ]
    },
    {
     "name": "stdout",
     "output_type": "stream",
     "text": [
      "Is Pickup Truck: no\n"
     ]
    },
    {
     "name": "stderr",
     "output_type": "stream",
     "text": [
      "Processing: truck 2:  56%|█████▌    | 520/932 [03:56<04:46,  1.44file/s]"
     ]
    },
    {
     "name": "stdout",
     "output_type": "stream",
     "text": [
      "Is Pickup Truck: no\n"
     ]
    },
    {
     "name": "stderr",
     "output_type": "stream",
     "text": [
      "Processing: truck 2:  56%|█████▌    | 521/932 [03:56<04:42,  1.46file/s]"
     ]
    },
    {
     "name": "stdout",
     "output_type": "stream",
     "text": [
      "Is Pickup Truck: no\n"
     ]
    },
    {
     "name": "stderr",
     "output_type": "stream",
     "text": [
      "Processing: truck 2:  56%|█████▌    | 522/932 [03:57<04:43,  1.44file/s]"
     ]
    },
    {
     "name": "stdout",
     "output_type": "stream",
     "text": [
      "Is Pickup Truck: no\n"
     ]
    },
    {
     "name": "stderr",
     "output_type": "stream",
     "text": [
      "Processing: truck 2:  56%|█████▌    | 523/932 [03:58<04:41,  1.45file/s]"
     ]
    },
    {
     "name": "stdout",
     "output_type": "stream",
     "text": [
      "Is Pickup Truck: no\n"
     ]
    },
    {
     "name": "stderr",
     "output_type": "stream",
     "text": [
      "Processing: truck 2:  56%|█████▌    | 524/932 [03:58<04:38,  1.46file/s]"
     ]
    },
    {
     "name": "stdout",
     "output_type": "stream",
     "text": [
      "Is Pickup Truck: no\n"
     ]
    },
    {
     "name": "stderr",
     "output_type": "stream",
     "text": [
      "Processing: truck 2:  56%|█████▋    | 525/932 [03:59<04:37,  1.47file/s]"
     ]
    },
    {
     "name": "stdout",
     "output_type": "stream",
     "text": [
      "Is Pickup Truck: no\n"
     ]
    },
    {
     "name": "stderr",
     "output_type": "stream",
     "text": [
      "Processing: truck 2:  56%|█████▋    | 526/932 [04:00<04:34,  1.48file/s]"
     ]
    },
    {
     "name": "stdout",
     "output_type": "stream",
     "text": [
      "Is Pickup Truck: no\n"
     ]
    },
    {
     "name": "stderr",
     "output_type": "stream",
     "text": [
      "Processing: truck 2:  57%|█████▋    | 527/932 [04:00<04:31,  1.49file/s]"
     ]
    },
    {
     "name": "stdout",
     "output_type": "stream",
     "text": [
      "Is Pickup Truck: no\n"
     ]
    },
    {
     "name": "stderr",
     "output_type": "stream",
     "text": [
      "Processing: truck 2:  57%|█████▋    | 528/932 [04:01<04:28,  1.50file/s]"
     ]
    },
    {
     "name": "stdout",
     "output_type": "stream",
     "text": [
      "Is Pickup Truck: no\n"
     ]
    },
    {
     "name": "stderr",
     "output_type": "stream",
     "text": [
      "Processing: truck 2:  57%|█████▋    | 531/932 [04:02<03:41,  1.81file/s]"
     ]
    },
    {
     "name": "stdout",
     "output_type": "stream",
     "text": [
      "Is Pickup Truck: no\n"
     ]
    },
    {
     "name": "stderr",
     "output_type": "stream",
     "text": [
      "Processing: truck 2:  57%|█████▋    | 532/932 [04:03<03:55,  1.70file/s]"
     ]
    },
    {
     "name": "stdout",
     "output_type": "stream",
     "text": [
      "Is Pickup Truck: no\n"
     ]
    },
    {
     "name": "stderr",
     "output_type": "stream",
     "text": [
      "Processing: truck 2:  57%|█████▋    | 533/932 [04:04<04:04,  1.63file/s][codecarbon INFO @ 02:37:11] Energy consumed for RAM : 0.012562 kWh. RAM Power : 188.79906034469604 W\n",
      "[codecarbon INFO @ 02:37:11] Energy consumed for all CPUs : 0.006654 kWh. Total CPU Power : 100.0 W\n",
      "[codecarbon INFO @ 02:37:11] Energy consumed for all GPUs : 0.017340 kWh. Total GPU Power : 259.33421738933464 W\n",
      "[codecarbon INFO @ 02:37:11] 0.036556 kWh of electricity used since the beginning.\n",
      "[codecarbon INFO @ 02:37:11] 0.068702 g.CO2eq/s mean an estimation of 2,166.593564343365 kg.CO2eq/year\n"
     ]
    },
    {
     "name": "stdout",
     "output_type": "stream",
     "text": [
      "Is Pickup Truck: no\n"
     ]
    },
    {
     "name": "stderr",
     "output_type": "stream",
     "text": [
      "Processing: truck 2:  57%|█████▋    | 534/932 [04:04<04:09,  1.59file/s]"
     ]
    },
    {
     "name": "stdout",
     "output_type": "stream",
     "text": [
      "Is Pickup Truck: no\n"
     ]
    },
    {
     "name": "stderr",
     "output_type": "stream",
     "text": [
      "Processing: truck 2:  57%|█████▋    | 535/932 [04:05<04:20,  1.53file/s]"
     ]
    },
    {
     "name": "stdout",
     "output_type": "stream",
     "text": [
      "Is Pickup Truck: no\n"
     ]
    },
    {
     "name": "stderr",
     "output_type": "stream",
     "text": [
      "Processing: truck 2:  58%|█████▊    | 536/932 [04:06<04:22,  1.51file/s]"
     ]
    },
    {
     "name": "stdout",
     "output_type": "stream",
     "text": [
      "Is Pickup Truck: no\n"
     ]
    },
    {
     "name": "stderr",
     "output_type": "stream",
     "text": [
      "Processing: truck 2:  58%|█████▊    | 537/932 [04:06<04:22,  1.50file/s]"
     ]
    },
    {
     "name": "stdout",
     "output_type": "stream",
     "text": [
      "Is Pickup Truck: no\n"
     ]
    },
    {
     "name": "stderr",
     "output_type": "stream",
     "text": [
      "Processing: truck 2:  58%|█████▊    | 538/932 [04:07<04:22,  1.50file/s]"
     ]
    },
    {
     "name": "stdout",
     "output_type": "stream",
     "text": [
      "Is Pickup Truck: no\n"
     ]
    },
    {
     "name": "stderr",
     "output_type": "stream",
     "text": [
      "Processing: truck 2:  58%|█████▊    | 539/932 [04:08<04:26,  1.48file/s]"
     ]
    },
    {
     "name": "stdout",
     "output_type": "stream",
     "text": [
      "Is Pickup Truck: no\n"
     ]
    },
    {
     "name": "stderr",
     "output_type": "stream",
     "text": [
      "Processing: truck 2:  58%|█████▊    | 540/932 [04:09<04:24,  1.48file/s]"
     ]
    },
    {
     "name": "stdout",
     "output_type": "stream",
     "text": [
      "Is Pickup Truck: no\n"
     ]
    },
    {
     "name": "stderr",
     "output_type": "stream",
     "text": [
      "Processing: truck 2:  58%|█████▊    | 541/932 [04:09<04:24,  1.48file/s]"
     ]
    },
    {
     "name": "stdout",
     "output_type": "stream",
     "text": [
      "Is Pickup Truck: no\n"
     ]
    },
    {
     "name": "stderr",
     "output_type": "stream",
     "text": [
      "Processing: truck 2:  58%|█████▊    | 542/932 [04:10<04:22,  1.48file/s]"
     ]
    },
    {
     "name": "stdout",
     "output_type": "stream",
     "text": [
      "Is Pickup Truck: no\n"
     ]
    },
    {
     "name": "stderr",
     "output_type": "stream",
     "text": [
      "Processing: bus 3:  58%|█████▊    | 543/932 [04:11<04:20,  1.49file/s]  "
     ]
    },
    {
     "name": "stdout",
     "output_type": "stream",
     "text": [
      "Is Pickup Truck: no\n"
     ]
    },
    {
     "name": "stderr",
     "output_type": "stream",
     "text": [
      "Processing: bus 3:  61%|██████    | 567/932 [04:19<02:03,  2.95file/s][codecarbon INFO @ 02:37:26] Energy consumed for RAM : 0.013348 kWh. RAM Power : 188.79906034469604 W\n",
      "[codecarbon INFO @ 02:37:26] Energy consumed for all CPUs : 0.007071 kWh. Total CPU Power : 100.0 W\n",
      "Processing: bus 3:  61%|██████    | 568/932 [04:19<02:03,  2.95file/s][codecarbon INFO @ 02:37:27] Energy consumed for all GPUs : 0.018442 kWh. Total GPU Power : 264.50114312440934 W\n",
      "[codecarbon INFO @ 02:37:27] 0.038861 kWh of electricity used since the beginning.\n",
      "Processing: bus 3:  65%|██████▌   | 608/932 [04:34<01:47,  3.01file/s][codecarbon INFO @ 02:37:41] Energy consumed for RAM : 0.014121 kWh. RAM Power : 188.79906034469604 W\n",
      "[codecarbon INFO @ 02:37:41] Energy consumed for all CPUs : 0.007480 kWh. Total CPU Power : 100.0 W\n",
      "[codecarbon INFO @ 02:37:41] Energy consumed for all GPUs : 0.019462 kWh. Total GPU Power : 249.3285954566066 W\n",
      "[codecarbon INFO @ 02:37:41] 0.041062 kWh of electricity used since the beginning.\n",
      "Processing: truck 3:  69%|██████▉   | 642/932 [04:46<02:07,  2.28file/s]"
     ]
    },
    {
     "name": "stdout",
     "output_type": "stream",
     "text": [
      "Is Pickup Truck: no\n"
     ]
    },
    {
     "name": "stderr",
     "output_type": "stream",
     "text": [
      "Processing: truck 3:  69%|██████▉   | 643/932 [04:46<02:26,  1.97file/s]"
     ]
    },
    {
     "name": "stdout",
     "output_type": "stream",
     "text": [
      "Is Pickup Truck: no\n"
     ]
    },
    {
     "name": "stderr",
     "output_type": "stream",
     "text": [
      "Processing: truck 3:  69%|██████▉   | 645/932 [04:47<02:28,  1.93file/s]"
     ]
    },
    {
     "name": "stdout",
     "output_type": "stream",
     "text": [
      "Is Pickup Truck: no\n"
     ]
    },
    {
     "name": "stderr",
     "output_type": "stream",
     "text": [
      "Processing: truck 3:  69%|██████▉   | 646/932 [04:48<02:40,  1.78file/s]"
     ]
    },
    {
     "name": "stdout",
     "output_type": "stream",
     "text": [
      "Is Pickup Truck: no\n"
     ]
    },
    {
     "name": "stderr",
     "output_type": "stream",
     "text": [
      "Processing: truck 3:  69%|██████▉   | 647/932 [04:48<02:20,  2.03file/s][codecarbon INFO @ 02:37:56] Energy consumed for RAM : 0.014907 kWh. RAM Power : 188.79906034469604 W\n",
      "[codecarbon INFO @ 02:37:56] Energy consumed for all CPUs : 0.007896 kWh. Total CPU Power : 100.0 W\n",
      "[codecarbon INFO @ 02:37:56] Energy consumed for all GPUs : 0.020535 kWh. Total GPU Power : 257.6705605748033 W\n",
      "[codecarbon INFO @ 02:37:56] 0.043338 kWh of electricity used since the beginning.\n",
      "Processing: truck 3:  70%|██████▉   | 648/932 [04:49<02:34,  1.84file/s]"
     ]
    },
    {
     "name": "stdout",
     "output_type": "stream",
     "text": [
      "Is Pickup Truck: no\n"
     ]
    },
    {
     "name": "stderr",
     "output_type": "stream",
     "text": [
      "Processing: truck 3:  70%|██████▉   | 649/932 [04:50<02:44,  1.72file/s]"
     ]
    },
    {
     "name": "stdout",
     "output_type": "stream",
     "text": [
      "Is Pickup Truck: no\n"
     ]
    },
    {
     "name": "stderr",
     "output_type": "stream",
     "text": [
      "Processing: truck 3:  70%|██████▉   | 650/932 [04:50<02:50,  1.65file/s]"
     ]
    },
    {
     "name": "stdout",
     "output_type": "stream",
     "text": [
      "Is Pickup Truck: no\n"
     ]
    },
    {
     "name": "stderr",
     "output_type": "stream",
     "text": [
      "Processing: truck 3:  70%|██████▉   | 652/932 [04:51<02:39,  1.76file/s]"
     ]
    },
    {
     "name": "stdout",
     "output_type": "stream",
     "text": [
      "Is Pickup Truck: no\n"
     ]
    },
    {
     "name": "stderr",
     "output_type": "stream",
     "text": [
      "Processing: truck 3:  70%|███████   | 653/932 [04:52<02:47,  1.67file/s]"
     ]
    },
    {
     "name": "stdout",
     "output_type": "stream",
     "text": [
      "Is Pickup Truck: no\n"
     ]
    },
    {
     "name": "stderr",
     "output_type": "stream",
     "text": [
      "Processing: truck 3:  70%|███████   | 655/932 [04:53<02:35,  1.78file/s]"
     ]
    },
    {
     "name": "stdout",
     "output_type": "stream",
     "text": [
      "Is Pickup Truck: no\n"
     ]
    },
    {
     "name": "stderr",
     "output_type": "stream",
     "text": [
      "Processing: truck 3:  70%|███████   | 656/932 [04:54<02:42,  1.70file/s]"
     ]
    },
    {
     "name": "stdout",
     "output_type": "stream",
     "text": [
      "Is Pickup Truck: no\n"
     ]
    },
    {
     "name": "stderr",
     "output_type": "stream",
     "text": [
      "Processing: truck 3:  70%|███████   | 657/932 [04:54<02:47,  1.64file/s]"
     ]
    },
    {
     "name": "stdout",
     "output_type": "stream",
     "text": [
      "Is Pickup Truck: no\n"
     ]
    },
    {
     "name": "stderr",
     "output_type": "stream",
     "text": [
      "Processing: truck 3:  71%|███████   | 658/932 [04:55<02:51,  1.60file/s]"
     ]
    },
    {
     "name": "stdout",
     "output_type": "stream",
     "text": [
      "Is Pickup Truck: no\n"
     ]
    },
    {
     "name": "stderr",
     "output_type": "stream",
     "text": [
      "Processing: truck 3:  71%|███████   | 659/932 [04:56<02:54,  1.57file/s]"
     ]
    },
    {
     "name": "stdout",
     "output_type": "stream",
     "text": [
      "Is Pickup Truck: no\n"
     ]
    },
    {
     "name": "stderr",
     "output_type": "stream",
     "text": [
      "Processing: truck 3:  71%|███████   | 661/932 [04:57<02:37,  1.72file/s]"
     ]
    },
    {
     "name": "stdout",
     "output_type": "stream",
     "text": [
      "Is Pickup Truck: no\n"
     ]
    },
    {
     "name": "stderr",
     "output_type": "stream",
     "text": [
      "Processing: truck 3:  71%|███████   | 662/932 [04:57<02:44,  1.64file/s]"
     ]
    },
    {
     "name": "stdout",
     "output_type": "stream",
     "text": [
      "Is Pickup Truck: no\n"
     ]
    },
    {
     "name": "stderr",
     "output_type": "stream",
     "text": [
      "Processing: truck 3:  71%|███████   | 663/932 [04:58<02:48,  1.59file/s]"
     ]
    },
    {
     "name": "stdout",
     "output_type": "stream",
     "text": [
      "Is Pickup Truck: no\n"
     ]
    },
    {
     "name": "stderr",
     "output_type": "stream",
     "text": [
      "Processing: truck 3:  71%|███████   | 664/932 [04:59<02:50,  1.57file/s]"
     ]
    },
    {
     "name": "stdout",
     "output_type": "stream",
     "text": [
      "Is Pickup Truck: no\n"
     ]
    },
    {
     "name": "stderr",
     "output_type": "stream",
     "text": [
      "Processing: truck 3:  71%|███████▏  | 665/932 [04:59<02:52,  1.55file/s]"
     ]
    },
    {
     "name": "stdout",
     "output_type": "stream",
     "text": [
      "Is Pickup Truck: no\n"
     ]
    },
    {
     "name": "stderr",
     "output_type": "stream",
     "text": [
      "Processing: truck 3:  71%|███████▏  | 666/932 [05:00<02:53,  1.53file/s]"
     ]
    },
    {
     "name": "stdout",
     "output_type": "stream",
     "text": [
      "Is Pickup Truck: no\n"
     ]
    },
    {
     "name": "stderr",
     "output_type": "stream",
     "text": [
      "Processing: truck 3:  72%|███████▏  | 667/932 [05:01<02:54,  1.51file/s]"
     ]
    },
    {
     "name": "stdout",
     "output_type": "stream",
     "text": [
      "Is Pickup Truck: no\n"
     ]
    },
    {
     "name": "stderr",
     "output_type": "stream",
     "text": [
      "Processing: truck 3:  72%|███████▏  | 668/932 [05:01<02:55,  1.51file/s]"
     ]
    },
    {
     "name": "stdout",
     "output_type": "stream",
     "text": [
      "Is Pickup Truck: no\n"
     ]
    },
    {
     "name": "stderr",
     "output_type": "stream",
     "text": [
      "Processing: truck 3:  72%|███████▏  | 669/932 [05:02<02:54,  1.50file/s]"
     ]
    },
    {
     "name": "stdout",
     "output_type": "stream",
     "text": [
      "Is Pickup Truck: no\n"
     ]
    },
    {
     "name": "stderr",
     "output_type": "stream",
     "text": [
      "Processing: truck 3:  72%|███████▏  | 671/932 [05:03<02:35,  1.68file/s]"
     ]
    },
    {
     "name": "stdout",
     "output_type": "stream",
     "text": [
      "Is Pickup Truck: no\n"
     ]
    },
    {
     "name": "stderr",
     "output_type": "stream",
     "text": [
      "Processing: truck 3:  72%|███████▏  | 672/932 [05:04<02:40,  1.62file/s]"
     ]
    },
    {
     "name": "stdout",
     "output_type": "stream",
     "text": [
      "Is Pickup Truck: no\n"
     ]
    },
    {
     "name": "stderr",
     "output_type": "stream",
     "text": [
      "[codecarbon INFO @ 02:38:11] Energy consumed for RAM : 0.015693 kWh. RAM Power : 188.79906034469604 W\n",
      "[codecarbon INFO @ 02:38:11] Energy consumed for all CPUs : 0.008313 kWh. Total CPU Power : 100.0 W\n",
      "[codecarbon INFO @ 02:38:11] Energy consumed for all GPUs : 0.021631 kWh. Total GPU Power : 263.1403123659494 W\n",
      "[codecarbon INFO @ 02:38:11] 0.045637 kWh of electricity used since the beginning.\n",
      "Processing: truck 3:  72%|███████▏  | 674/932 [05:05<02:27,  1.74file/s]"
     ]
    },
    {
     "name": "stdout",
     "output_type": "stream",
     "text": [
      "Is Pickup Truck: no\n"
     ]
    },
    {
     "name": "stderr",
     "output_type": "stream",
     "text": [
      "Processing: truck 3:  72%|███████▏  | 675/932 [05:05<02:34,  1.66file/s]"
     ]
    },
    {
     "name": "stdout",
     "output_type": "stream",
     "text": [
      "Is Pickup Truck: no\n"
     ]
    },
    {
     "name": "stderr",
     "output_type": "stream",
     "text": [
      "Processing: truck 3:  73%|███████▎  | 677/932 [05:06<02:24,  1.77file/s]"
     ]
    },
    {
     "name": "stdout",
     "output_type": "stream",
     "text": [
      "Is Pickup Truck: no\n"
     ]
    },
    {
     "name": "stderr",
     "output_type": "stream",
     "text": [
      "Processing: truck 3:  73%|███████▎  | 678/932 [05:07<02:30,  1.68file/s]"
     ]
    },
    {
     "name": "stdout",
     "output_type": "stream",
     "text": [
      "Is Pickup Truck: no\n"
     ]
    },
    {
     "name": "stderr",
     "output_type": "stream",
     "text": [
      "Processing: truck 3:  73%|███████▎  | 679/932 [05:08<02:35,  1.62file/s]"
     ]
    },
    {
     "name": "stdout",
     "output_type": "stream",
     "text": [
      "Is Pickup Truck: no\n"
     ]
    },
    {
     "name": "stderr",
     "output_type": "stream",
     "text": [
      "Processing: truck 3:  73%|███████▎  | 681/932 [05:09<02:22,  1.76file/s]"
     ]
    },
    {
     "name": "stdout",
     "output_type": "stream",
     "text": [
      "Is Pickup Truck: no\n"
     ]
    },
    {
     "name": "stderr",
     "output_type": "stream",
     "text": [
      "Processing: truck 3:  73%|███████▎  | 682/932 [05:09<02:29,  1.68file/s]"
     ]
    },
    {
     "name": "stdout",
     "output_type": "stream",
     "text": [
      "Is Pickup Truck: no\n"
     ]
    },
    {
     "name": "stderr",
     "output_type": "stream",
     "text": [
      "Processing: truck 3:  73%|███████▎  | 683/932 [05:10<02:33,  1.62file/s]"
     ]
    },
    {
     "name": "stdout",
     "output_type": "stream",
     "text": [
      "Is Pickup Truck: no\n"
     ]
    },
    {
     "name": "stderr",
     "output_type": "stream",
     "text": [
      "Processing: truck 3:  73%|███████▎  | 684/932 [05:11<02:37,  1.58file/s]"
     ]
    },
    {
     "name": "stdout",
     "output_type": "stream",
     "text": [
      "Is Pickup Truck: no\n"
     ]
    },
    {
     "name": "stderr",
     "output_type": "stream",
     "text": [
      "Processing: truck 3:  73%|███████▎  | 685/932 [05:11<02:39,  1.55file/s]"
     ]
    },
    {
     "name": "stdout",
     "output_type": "stream",
     "text": [
      "Is Pickup Truck: no\n"
     ]
    },
    {
     "name": "stderr",
     "output_type": "stream",
     "text": [
      "Processing: truck 3:  74%|███████▎  | 686/932 [05:12<02:40,  1.53file/s]"
     ]
    },
    {
     "name": "stdout",
     "output_type": "stream",
     "text": [
      "Is Pickup Truck: no\n"
     ]
    },
    {
     "name": "stderr",
     "output_type": "stream",
     "text": [
      "Processing: truck 3:  74%|███████▎  | 687/932 [05:13<02:41,  1.52file/s]"
     ]
    },
    {
     "name": "stdout",
     "output_type": "stream",
     "text": [
      "Is Pickup Truck: no\n"
     ]
    },
    {
     "name": "stderr",
     "output_type": "stream",
     "text": [
      "Processing: truck 3:  74%|███████▍  | 688/932 [05:13<02:41,  1.51file/s]"
     ]
    },
    {
     "name": "stdout",
     "output_type": "stream",
     "text": [
      "Is Pickup Truck: no\n"
     ]
    },
    {
     "name": "stderr",
     "output_type": "stream",
     "text": [
      "Processing: truck 3:  74%|███████▍  | 691/932 [05:15<02:11,  1.83file/s]"
     ]
    },
    {
     "name": "stdout",
     "output_type": "stream",
     "text": [
      "Is Pickup Truck: no\n"
     ]
    },
    {
     "name": "stderr",
     "output_type": "stream",
     "text": [
      "Processing: truck 3:  74%|███████▍  | 692/932 [05:15<02:19,  1.72file/s]"
     ]
    },
    {
     "name": "stdout",
     "output_type": "stream",
     "text": [
      "Is Pickup Truck: no\n"
     ]
    },
    {
     "name": "stderr",
     "output_type": "stream",
     "text": [
      "Processing: truck 3:  74%|███████▍  | 693/932 [05:16<02:25,  1.65file/s]"
     ]
    },
    {
     "name": "stdout",
     "output_type": "stream",
     "text": [
      "Is Pickup Truck: no\n"
     ]
    },
    {
     "name": "stderr",
     "output_type": "stream",
     "text": [
      "Processing: truck 3:  75%|███████▍  | 695/932 [05:17<02:14,  1.76file/s]"
     ]
    },
    {
     "name": "stdout",
     "output_type": "stream",
     "text": [
      "Is Pickup Truck: no\n"
     ]
    },
    {
     "name": "stderr",
     "output_type": "stream",
     "text": [
      "Processing: truck 3:  75%|███████▍  | 696/932 [05:18<02:20,  1.68file/s]"
     ]
    },
    {
     "name": "stdout",
     "output_type": "stream",
     "text": [
      "Is Pickup Truck: no\n"
     ]
    },
    {
     "name": "stderr",
     "output_type": "stream",
     "text": [
      "Processing: truck 3:  75%|███████▍  | 697/932 [05:18<02:24,  1.63file/s]"
     ]
    },
    {
     "name": "stdout",
     "output_type": "stream",
     "text": [
      "Is Pickup Truck: no\n"
     ]
    },
    {
     "name": "stderr",
     "output_type": "stream",
     "text": [
      "[codecarbon INFO @ 02:38:26] Energy consumed for RAM : 0.016480 kWh. RAM Power : 188.79906034469604 W\n",
      "[codecarbon INFO @ 02:38:26] Energy consumed for all CPUs : 0.008729 kWh. Total CPU Power : 100.0 W\n",
      "[codecarbon INFO @ 02:38:26] Energy consumed for all GPUs : 0.022745 kWh. Total GPU Power : 267.38226533628523 W\n",
      "[codecarbon INFO @ 02:38:26] 0.047954 kWh of electricity used since the beginning.\n",
      "Processing: truck 3:  75%|███████▍  | 698/932 [05:19<02:27,  1.59file/s]"
     ]
    },
    {
     "name": "stdout",
     "output_type": "stream",
     "text": [
      "Is Pickup Truck: no\n"
     ]
    },
    {
     "name": "stderr",
     "output_type": "stream",
     "text": [
      "Processing: truck 3:  75%|███████▌  | 699/932 [05:20<02:28,  1.57file/s]"
     ]
    },
    {
     "name": "stdout",
     "output_type": "stream",
     "text": [
      "Is Pickup Truck: no\n"
     ]
    },
    {
     "name": "stderr",
     "output_type": "stream",
     "text": [
      "Processing: truck 3:  75%|███████▌  | 700/932 [05:20<02:29,  1.55file/s]"
     ]
    },
    {
     "name": "stdout",
     "output_type": "stream",
     "text": [
      "Is Pickup Truck: no\n"
     ]
    },
    {
     "name": "stderr",
     "output_type": "stream",
     "text": [
      "Processing: truck 3:  75%|███████▌  | 703/932 [05:22<02:03,  1.86file/s]"
     ]
    },
    {
     "name": "stdout",
     "output_type": "stream",
     "text": [
      "Is Pickup Truck: no\n"
     ]
    },
    {
     "name": "stderr",
     "output_type": "stream",
     "text": [
      "Processing: truck 3:  76%|███████▌  | 704/932 [05:22<02:11,  1.73file/s]"
     ]
    },
    {
     "name": "stdout",
     "output_type": "stream",
     "text": [
      "Is Pickup Truck: no\n"
     ]
    },
    {
     "name": "stderr",
     "output_type": "stream",
     "text": [
      "Processing: truck 3:  76%|███████▌  | 705/932 [05:23<02:17,  1.65file/s]"
     ]
    },
    {
     "name": "stdout",
     "output_type": "stream",
     "text": [
      "Is Pickup Truck: no\n"
     ]
    },
    {
     "name": "stderr",
     "output_type": "stream",
     "text": [
      "Processing: truck 3:  76%|███████▌  | 706/932 [05:24<02:21,  1.60file/s]"
     ]
    },
    {
     "name": "stdout",
     "output_type": "stream",
     "text": [
      "Is Pickup Truck: no\n"
     ]
    },
    {
     "name": "stderr",
     "output_type": "stream",
     "text": [
      "Processing: truck 3:  76%|███████▌  | 708/932 [05:25<02:09,  1.73file/s]"
     ]
    },
    {
     "name": "stdout",
     "output_type": "stream",
     "text": [
      "Is Pickup Truck: no\n"
     ]
    },
    {
     "name": "stderr",
     "output_type": "stream",
     "text": [
      "Processing: truck 3:  76%|███████▌  | 709/932 [05:25<02:14,  1.65file/s]"
     ]
    },
    {
     "name": "stdout",
     "output_type": "stream",
     "text": [
      "Is Pickup Truck: no\n"
     ]
    },
    {
     "name": "stderr",
     "output_type": "stream",
     "text": [
      "Processing: truck 3:  76%|███████▋  | 711/932 [05:26<02:05,  1.77file/s]"
     ]
    },
    {
     "name": "stdout",
     "output_type": "stream",
     "text": [
      "Is Pickup Truck: no\n"
     ]
    },
    {
     "name": "stderr",
     "output_type": "stream",
     "text": [
      "Processing: truck 3:  76%|███████▋  | 712/932 [05:27<02:11,  1.68file/s]"
     ]
    },
    {
     "name": "stdout",
     "output_type": "stream",
     "text": [
      "Is Pickup Truck: no\n"
     ]
    },
    {
     "name": "stderr",
     "output_type": "stream",
     "text": [
      "Processing: truck 3:  77%|███████▋  | 713/932 [05:28<02:15,  1.61file/s]"
     ]
    },
    {
     "name": "stdout",
     "output_type": "stream",
     "text": [
      "Is Pickup Truck: no\n"
     ]
    },
    {
     "name": "stderr",
     "output_type": "stream",
     "text": [
      "Processing: truck 3:  77%|███████▋  | 714/932 [05:28<02:17,  1.58file/s]"
     ]
    },
    {
     "name": "stdout",
     "output_type": "stream",
     "text": [
      "Is Pickup Truck: no\n"
     ]
    },
    {
     "name": "stderr",
     "output_type": "stream",
     "text": [
      "Processing: truck 3:  77%|███████▋  | 715/932 [05:29<02:19,  1.56file/s]"
     ]
    },
    {
     "name": "stdout",
     "output_type": "stream",
     "text": [
      "Is Pickup Truck: no\n"
     ]
    },
    {
     "name": "stderr",
     "output_type": "stream",
     "text": [
      "Processing: truck 3:  77%|███████▋  | 716/932 [05:30<02:20,  1.54file/s]"
     ]
    },
    {
     "name": "stdout",
     "output_type": "stream",
     "text": [
      "Is Pickup Truck: no\n"
     ]
    },
    {
     "name": "stderr",
     "output_type": "stream",
     "text": [
      "Processing: truck 3:  77%|███████▋  | 717/932 [05:30<02:20,  1.53file/s]"
     ]
    },
    {
     "name": "stdout",
     "output_type": "stream",
     "text": [
      "Is Pickup Truck: no\n"
     ]
    },
    {
     "name": "stderr",
     "output_type": "stream",
     "text": [
      "Processing: truck 3:  77%|███████▋  | 718/932 [05:31<02:21,  1.51file/s]"
     ]
    },
    {
     "name": "stdout",
     "output_type": "stream",
     "text": [
      "Is Pickup Truck: no\n"
     ]
    },
    {
     "name": "stderr",
     "output_type": "stream",
     "text": [
      "Processing: truck 3:  77%|███████▋  | 719/932 [05:32<02:21,  1.51file/s]"
     ]
    },
    {
     "name": "stdout",
     "output_type": "stream",
     "text": [
      "Is Pickup Truck: no\n"
     ]
    },
    {
     "name": "stderr",
     "output_type": "stream",
     "text": [
      "Processing: truck 3:  77%|███████▋  | 720/932 [05:32<02:20,  1.51file/s]"
     ]
    },
    {
     "name": "stdout",
     "output_type": "stream",
     "text": [
      "Is Pickup Truck: no\n"
     ]
    },
    {
     "name": "stderr",
     "output_type": "stream",
     "text": [
      "Processing: truck 3:  77%|███████▋  | 721/932 [05:33<02:20,  1.50file/s]"
     ]
    },
    {
     "name": "stdout",
     "output_type": "stream",
     "text": [
      "Is Pickup Truck: no\n"
     ]
    },
    {
     "name": "stderr",
     "output_type": "stream",
     "text": [
      "Processing: truck 3:  77%|███████▋  | 722/932 [05:34<02:20,  1.50file/s]"
     ]
    },
    {
     "name": "stdout",
     "output_type": "stream",
     "text": [
      "Is Pickup Truck: no\n"
     ]
    },
    {
     "name": "stderr",
     "output_type": "stream",
     "text": [
      "[codecarbon INFO @ 02:38:41] Energy consumed for RAM : 0.017266 kWh. RAM Power : 188.79906034469604 W\n",
      "[codecarbon INFO @ 02:38:41] Energy consumed for all CPUs : 0.009146 kWh. Total CPU Power : 100.0 W\n",
      "[codecarbon INFO @ 02:38:42] Energy consumed for all GPUs : 0.023858 kWh. Total GPU Power : 267.30269817017836 W\n",
      "[codecarbon INFO @ 02:38:42] 0.050270 kWh of electricity used since the beginning.\n",
      "Processing: truck 3:  78%|███████▊  | 723/932 [05:34<02:19,  1.50file/s]"
     ]
    },
    {
     "name": "stdout",
     "output_type": "stream",
     "text": [
      "Is Pickup Truck: no\n"
     ]
    },
    {
     "name": "stderr",
     "output_type": "stream",
     "text": [
      "Processing: truck 3:  78%|███████▊  | 725/932 [05:35<02:03,  1.68file/s]"
     ]
    },
    {
     "name": "stdout",
     "output_type": "stream",
     "text": [
      "Is Pickup Truck: no\n"
     ]
    },
    {
     "name": "stderr",
     "output_type": "stream",
     "text": [
      "Processing: truck 3:  78%|███████▊  | 726/932 [05:36<02:07,  1.62file/s]"
     ]
    },
    {
     "name": "stdout",
     "output_type": "stream",
     "text": [
      "Is Pickup Truck: no\n"
     ]
    },
    {
     "name": "stderr",
     "output_type": "stream",
     "text": [
      "Processing: truck 3:  78%|███████▊  | 727/932 [05:37<02:09,  1.58file/s]"
     ]
    },
    {
     "name": "stdout",
     "output_type": "stream",
     "text": [
      "Is Pickup Truck: no\n"
     ]
    },
    {
     "name": "stderr",
     "output_type": "stream",
     "text": [
      "Processing: truck 3:  78%|███████▊  | 728/932 [05:37<02:11,  1.56file/s]"
     ]
    },
    {
     "name": "stdout",
     "output_type": "stream",
     "text": [
      "Is Pickup Truck: no\n"
     ]
    },
    {
     "name": "stderr",
     "output_type": "stream",
     "text": [
      "Processing: truck 3:  78%|███████▊  | 729/932 [05:38<02:12,  1.54file/s]"
     ]
    },
    {
     "name": "stdout",
     "output_type": "stream",
     "text": [
      "Is Pickup Truck: no\n"
     ]
    },
    {
     "name": "stderr",
     "output_type": "stream",
     "text": [
      "Processing: truck 3:  78%|███████▊  | 730/932 [05:39<02:12,  1.53file/s]"
     ]
    },
    {
     "name": "stdout",
     "output_type": "stream",
     "text": [
      "Is Pickup Truck: no\n"
     ]
    },
    {
     "name": "stderr",
     "output_type": "stream",
     "text": [
      "Processing: truck 3:  78%|███████▊  | 731/932 [05:39<02:12,  1.51file/s]"
     ]
    },
    {
     "name": "stdout",
     "output_type": "stream",
     "text": [
      "Is Pickup Truck: no\n"
     ]
    },
    {
     "name": "stderr",
     "output_type": "stream",
     "text": [
      "Processing: truck 3:  79%|███████▊  | 732/932 [05:40<02:31,  1.32file/s]"
     ]
    },
    {
     "name": "stdout",
     "output_type": "stream",
     "text": [
      "Is Pickup Truck: no\n"
     ]
    },
    {
     "name": "stderr",
     "output_type": "stream",
     "text": [
      "Processing: truck 3:  79%|███████▊  | 733/932 [05:41<02:25,  1.37file/s]"
     ]
    },
    {
     "name": "stdout",
     "output_type": "stream",
     "text": [
      "Is Pickup Truck: no\n"
     ]
    },
    {
     "name": "stderr",
     "output_type": "stream",
     "text": [
      "Processing: truck 3:  79%|███████▉  | 734/932 [05:42<02:20,  1.41file/s]"
     ]
    },
    {
     "name": "stdout",
     "output_type": "stream",
     "text": [
      "Is Pickup Truck: no\n"
     ]
    },
    {
     "name": "stderr",
     "output_type": "stream",
     "text": [
      "Processing: truck 3:  79%|███████▉  | 735/932 [05:42<02:17,  1.43file/s]"
     ]
    },
    {
     "name": "stdout",
     "output_type": "stream",
     "text": [
      "Is Pickup Truck: no\n"
     ]
    },
    {
     "name": "stderr",
     "output_type": "stream",
     "text": [
      "Processing: truck 3:  79%|███████▉  | 737/932 [05:43<01:59,  1.63file/s]"
     ]
    },
    {
     "name": "stdout",
     "output_type": "stream",
     "text": [
      "Is Pickup Truck: no\n"
     ]
    },
    {
     "name": "stderr",
     "output_type": "stream",
     "text": [
      "Processing: truck 3:  79%|███████▉  | 738/932 [05:44<02:03,  1.57file/s]"
     ]
    },
    {
     "name": "stdout",
     "output_type": "stream",
     "text": [
      "Is Pickup Truck: no\n"
     ]
    },
    {
     "name": "stderr",
     "output_type": "stream",
     "text": [
      "Processing: truck 3:  79%|███████▉  | 739/932 [05:45<02:04,  1.55file/s]"
     ]
    },
    {
     "name": "stdout",
     "output_type": "stream",
     "text": [
      "Is Pickup Truck: no\n"
     ]
    },
    {
     "name": "stderr",
     "output_type": "stream",
     "text": [
      "Processing: truck 3:  79%|███████▉  | 740/932 [05:45<02:04,  1.55file/s]"
     ]
    },
    {
     "name": "stdout",
     "output_type": "stream",
     "text": [
      "Is Pickup Truck: no\n"
     ]
    },
    {
     "name": "stderr",
     "output_type": "stream",
     "text": [
      "Processing: truck 4:  80%|███████▉  | 741/932 [05:46<02:05,  1.53file/s]"
     ]
    },
    {
     "name": "stdout",
     "output_type": "stream",
     "text": [
      "Is Pickup Truck: no\n"
     ]
    },
    {
     "name": "stderr",
     "output_type": "stream",
     "text": [
      "Processing: truck 4:  80%|████████  | 749/932 [05:49<01:05,  2.79file/s][codecarbon INFO @ 02:38:56] Energy consumed for RAM : 0.018051 kWh. RAM Power : 188.79906034469604 W\n",
      "[codecarbon INFO @ 02:38:56] Energy consumed for all CPUs : 0.009562 kWh. Total CPU Power : 100.0 W\n",
      "[codecarbon INFO @ 02:38:56] Energy consumed for all GPUs : 0.024955 kWh. Total GPU Power : 263.72824431401864 W\n",
      "[codecarbon INFO @ 02:38:56] 0.052569 kWh of electricity used since the beginning.\n",
      "Processing: truck 4:  81%|████████  | 755/932 [05:51<01:21,  2.17file/s]"
     ]
    },
    {
     "name": "stdout",
     "output_type": "stream",
     "text": [
      "Is Pickup Truck: no\n"
     ]
    },
    {
     "name": "stderr",
     "output_type": "stream",
     "text": [
      "Processing: truck 4:  81%|████████  | 756/932 [05:52<01:31,  1.92file/s]"
     ]
    },
    {
     "name": "stdout",
     "output_type": "stream",
     "text": [
      "Is Pickup Truck: no\n"
     ]
    },
    {
     "name": "stderr",
     "output_type": "stream",
     "text": [
      "Processing: truck 4:  82%|████████▏ | 762/932 [05:54<01:18,  2.16file/s]"
     ]
    },
    {
     "name": "stdout",
     "output_type": "stream",
     "text": [
      "Is Pickup Truck: no\n"
     ]
    },
    {
     "name": "stderr",
     "output_type": "stream",
     "text": [
      "Processing: truck 4:  82%|████████▏ | 764/932 [05:55<01:27,  1.93file/s]"
     ]
    },
    {
     "name": "stdout",
     "output_type": "stream",
     "text": [
      "Is Pickup Truck: no\n"
     ]
    },
    {
     "name": "stderr",
     "output_type": "stream",
     "text": [
      "Processing: truck 4:  83%|████████▎ | 773/932 [05:59<01:12,  2.20file/s]"
     ]
    },
    {
     "name": "stdout",
     "output_type": "stream",
     "text": [
      "Is Pickup Truck: no\n"
     ]
    },
    {
     "name": "stderr",
     "output_type": "stream",
     "text": [
      "Processing: truck 4:  83%|████████▎ | 774/932 [05:59<01:22,  1.92file/s]"
     ]
    },
    {
     "name": "stdout",
     "output_type": "stream",
     "text": [
      "Is Pickup Truck: no\n"
     ]
    },
    {
     "name": "stderr",
     "output_type": "stream",
     "text": [
      "Processing: truck 4:  83%|████████▎ | 776/932 [06:00<01:24,  1.84file/s]"
     ]
    },
    {
     "name": "stdout",
     "output_type": "stream",
     "text": [
      "Is Pickup Truck: no\n"
     ]
    },
    {
     "name": "stderr",
     "output_type": "stream",
     "text": [
      "Processing: truck 4:  83%|████████▎ | 777/932 [06:01<01:30,  1.72file/s]"
     ]
    },
    {
     "name": "stdout",
     "output_type": "stream",
     "text": [
      "Is Pickup Truck: no\n"
     ]
    },
    {
     "name": "stderr",
     "output_type": "stream",
     "text": [
      "Processing: truck 4:  84%|████████▍ | 781/932 [06:03<01:16,  1.97file/s]"
     ]
    },
    {
     "name": "stdout",
     "output_type": "stream",
     "text": [
      "Is Pickup Truck: no\n"
     ]
    },
    {
     "name": "stderr",
     "output_type": "stream",
     "text": [
      "Processing: truck 4:  84%|████████▍ | 782/932 [06:04<01:23,  1.81file/s]"
     ]
    },
    {
     "name": "stdout",
     "output_type": "stream",
     "text": [
      "Is Pickup Truck: no\n"
     ]
    },
    {
     "name": "stderr",
     "output_type": "stream",
     "text": [
      "[codecarbon INFO @ 02:39:11] Energy consumed for RAM : 0.018838 kWh. RAM Power : 188.79906034469604 W\n",
      "[codecarbon INFO @ 02:39:11] Energy consumed for all CPUs : 0.009978 kWh. Total CPU Power : 100.0 W\n",
      "[codecarbon INFO @ 02:39:11] Energy consumed for all GPUs : 0.026047 kWh. Total GPU Power : 262.056130841158 W\n",
      "[codecarbon INFO @ 02:39:11] 0.054864 kWh of electricity used since the beginning.\n",
      "[codecarbon INFO @ 02:39:11] 0.068610 g.CO2eq/s mean an estimation of 2,163.700291593903 kg.CO2eq/year\n",
      "Processing: truck 4:  84%|████████▍ | 783/932 [06:04<01:28,  1.68file/s]"
     ]
    },
    {
     "name": "stdout",
     "output_type": "stream",
     "text": [
      "Is Pickup Truck: no\n"
     ]
    },
    {
     "name": "stderr",
     "output_type": "stream",
     "text": [
      "Processing: truck 4:  84%|████████▍ | 785/932 [06:05<01:24,  1.75file/s]"
     ]
    },
    {
     "name": "stdout",
     "output_type": "stream",
     "text": [
      "Is Pickup Truck: no\n"
     ]
    },
    {
     "name": "stderr",
     "output_type": "stream",
     "text": [
      "Processing: truck 4:  84%|████████▍ | 786/932 [06:06<01:30,  1.61file/s]"
     ]
    },
    {
     "name": "stdout",
     "output_type": "stream",
     "text": [
      "Is Pickup Truck: no\n"
     ]
    },
    {
     "name": "stderr",
     "output_type": "stream",
     "text": [
      "Processing: truck 4:  85%|████████▍ | 788/932 [06:07<01:23,  1.72file/s]"
     ]
    },
    {
     "name": "stdout",
     "output_type": "stream",
     "text": [
      "Is Pickup Truck: no\n"
     ]
    },
    {
     "name": "stderr",
     "output_type": "stream",
     "text": [
      "Processing: truck 4:  85%|████████▍ | 789/932 [06:08<01:27,  1.63file/s]"
     ]
    },
    {
     "name": "stdout",
     "output_type": "stream",
     "text": [
      "Is Pickup Truck: no\n"
     ]
    },
    {
     "name": "stderr",
     "output_type": "stream",
     "text": [
      "Processing: truck 4:  85%|████████▍ | 791/932 [06:09<01:21,  1.73file/s]"
     ]
    },
    {
     "name": "stdout",
     "output_type": "stream",
     "text": [
      "Is Pickup Truck: no\n"
     ]
    },
    {
     "name": "stderr",
     "output_type": "stream",
     "text": [
      "Processing: truck 4:  85%|████████▍ | 792/932 [06:09<01:25,  1.63file/s]"
     ]
    },
    {
     "name": "stdout",
     "output_type": "stream",
     "text": [
      "Is Pickup Truck: no\n"
     ]
    },
    {
     "name": "stderr",
     "output_type": "stream",
     "text": [
      "Processing: truck 4:  85%|████████▌ | 794/932 [06:10<01:18,  1.76file/s]"
     ]
    },
    {
     "name": "stdout",
     "output_type": "stream",
     "text": [
      "Is Pickup Truck: no\n"
     ]
    },
    {
     "name": "stderr",
     "output_type": "stream",
     "text": [
      "Processing: truck 4:  85%|████████▌ | 796/932 [06:11<01:13,  1.84file/s]"
     ]
    },
    {
     "name": "stdout",
     "output_type": "stream",
     "text": [
      "Is Pickup Truck: no\n"
     ]
    },
    {
     "name": "stderr",
     "output_type": "stream",
     "text": [
      "Processing: truck 4:  86%|████████▌ | 799/932 [06:13<01:06,  2.00file/s]"
     ]
    },
    {
     "name": "stdout",
     "output_type": "stream",
     "text": [
      "Is Pickup Truck: no\n"
     ]
    },
    {
     "name": "stderr",
     "output_type": "stream",
     "text": [
      "Processing: truck 4:  86%|████████▌ | 801/932 [06:14<01:07,  1.95file/s]"
     ]
    },
    {
     "name": "stdout",
     "output_type": "stream",
     "text": [
      "Is Pickup Truck: no\n"
     ]
    },
    {
     "name": "stderr",
     "output_type": "stream",
     "text": [
      "Processing: truck 4:  86%|████████▌ | 802/932 [06:14<01:12,  1.80file/s]"
     ]
    },
    {
     "name": "stdout",
     "output_type": "stream",
     "text": [
      "Is Pickup Truck: no\n"
     ]
    },
    {
     "name": "stderr",
     "output_type": "stream",
     "text": [
      "Processing: truck 4:  86%|████████▋ | 804/932 [06:15<01:08,  1.86file/s]"
     ]
    },
    {
     "name": "stdout",
     "output_type": "stream",
     "text": [
      "Is Pickup Truck: no\n"
     ]
    },
    {
     "name": "stderr",
     "output_type": "stream",
     "text": [
      "Processing: truck 4:  86%|████████▋ | 805/932 [06:16<01:13,  1.74file/s]"
     ]
    },
    {
     "name": "stdout",
     "output_type": "stream",
     "text": [
      "Is Pickup Truck: no\n"
     ]
    },
    {
     "name": "stderr",
     "output_type": "stream",
     "text": [
      "Processing: truck 4:  86%|████████▋ | 806/932 [06:17<01:15,  1.67file/s]"
     ]
    },
    {
     "name": "stdout",
     "output_type": "stream",
     "text": [
      "Is Pickup Truck: no\n"
     ]
    },
    {
     "name": "stderr",
     "output_type": "stream",
     "text": [
      "Processing: truck 4:  87%|████████▋ | 809/932 [06:18<01:03,  1.93file/s]"
     ]
    },
    {
     "name": "stdout",
     "output_type": "stream",
     "text": [
      "Is Pickup Truck: no\n"
     ]
    },
    {
     "name": "stderr",
     "output_type": "stream",
     "text": [
      "Processing: truck 4:  87%|████████▋ | 810/932 [06:18<00:56,  2.16file/s][codecarbon INFO @ 02:39:26] Energy consumed for RAM : 0.019624 kWh. RAM Power : 188.79906034469604 W\n",
      "[codecarbon INFO @ 02:39:26] Energy consumed for all CPUs : 0.010395 kWh. Total CPU Power : 100.0 W\n",
      "[codecarbon INFO @ 02:39:26] Energy consumed for all GPUs : 0.027157 kWh. Total GPU Power : 266.53053280379436 W\n",
      "[codecarbon INFO @ 02:39:26] 0.057177 kWh of electricity used since the beginning.\n",
      "Processing: truck 4:  87%|████████▋ | 811/932 [06:19<01:03,  1.92file/s]"
     ]
    },
    {
     "name": "stdout",
     "output_type": "stream",
     "text": [
      "Is Pickup Truck: no\n"
     ]
    },
    {
     "name": "stderr",
     "output_type": "stream",
     "text": [
      "Processing: truck 4:  87%|████████▋ | 813/932 [06:20<01:02,  1.91file/s]"
     ]
    },
    {
     "name": "stdout",
     "output_type": "stream",
     "text": [
      "Is Pickup Truck: no\n"
     ]
    },
    {
     "name": "stderr",
     "output_type": "stream",
     "text": [
      "Processing: truck 4:  88%|████████▊ | 816/932 [06:21<00:57,  2.03file/s]"
     ]
    },
    {
     "name": "stdout",
     "output_type": "stream",
     "text": [
      "Is Pickup Truck: no\n"
     ]
    },
    {
     "name": "stderr",
     "output_type": "stream",
     "text": [
      "Processing: truck 4:  88%|████████▊ | 817/932 [06:22<01:02,  1.84file/s]"
     ]
    },
    {
     "name": "stdout",
     "output_type": "stream",
     "text": [
      "Is Pickup Truck: no\n"
     ]
    },
    {
     "name": "stderr",
     "output_type": "stream",
     "text": [
      "Processing: truck 4:  88%|████████▊ | 818/932 [06:23<01:05,  1.73file/s]"
     ]
    },
    {
     "name": "stdout",
     "output_type": "stream",
     "text": [
      "Is Pickup Truck: no\n"
     ]
    },
    {
     "name": "stderr",
     "output_type": "stream",
     "text": [
      "Processing: truck 4:  88%|████████▊ | 820/932 [06:24<01:04,  1.75file/s]"
     ]
    },
    {
     "name": "stdout",
     "output_type": "stream",
     "text": [
      "Is Pickup Truck: no\n"
     ]
    },
    {
     "name": "stderr",
     "output_type": "stream",
     "text": [
      "Processing: truck 4:  88%|████████▊ | 821/932 [06:24<01:07,  1.66file/s]"
     ]
    },
    {
     "name": "stdout",
     "output_type": "stream",
     "text": [
      "Is Pickup Truck: no\n"
     ]
    },
    {
     "name": "stderr",
     "output_type": "stream",
     "text": [
      "Processing: truck 4:  88%|████████▊ | 822/932 [06:25<01:08,  1.60file/s]"
     ]
    },
    {
     "name": "stdout",
     "output_type": "stream",
     "text": [
      "Is Pickup Truck: no\n"
     ]
    },
    {
     "name": "stderr",
     "output_type": "stream",
     "text": [
      "Processing: truck 4:  88%|████████▊ | 823/932 [06:26<01:10,  1.56file/s]"
     ]
    },
    {
     "name": "stdout",
     "output_type": "stream",
     "text": [
      "Is Pickup Truck: no\n"
     ]
    },
    {
     "name": "stderr",
     "output_type": "stream",
     "text": [
      "Processing: truck 4:  88%|████████▊ | 824/932 [06:26<01:10,  1.53file/s]"
     ]
    },
    {
     "name": "stdout",
     "output_type": "stream",
     "text": [
      "Is Pickup Truck: no\n"
     ]
    },
    {
     "name": "stderr",
     "output_type": "stream",
     "text": [
      "Processing: truck 4:  89%|████████▊ | 825/932 [06:27<01:10,  1.52file/s]"
     ]
    },
    {
     "name": "stdout",
     "output_type": "stream",
     "text": [
      "Is Pickup Truck: no\n"
     ]
    },
    {
     "name": "stderr",
     "output_type": "stream",
     "text": [
      "Processing: truck 4:  89%|████████▊ | 826/932 [06:28<01:09,  1.52file/s]"
     ]
    },
    {
     "name": "stdout",
     "output_type": "stream",
     "text": [
      "Is Pickup Truck: no\n"
     ]
    },
    {
     "name": "stderr",
     "output_type": "stream",
     "text": [
      "Processing: truck 4:  89%|████████▊ | 827/932 [06:28<01:09,  1.51file/s]"
     ]
    },
    {
     "name": "stdout",
     "output_type": "stream",
     "text": [
      "Is Pickup Truck: no\n"
     ]
    },
    {
     "name": "stderr",
     "output_type": "stream",
     "text": [
      "Processing: truck 5:  89%|████████▉ | 828/932 [06:29<01:08,  1.51file/s]"
     ]
    },
    {
     "name": "stdout",
     "output_type": "stream",
     "text": [
      "Is Pickup Truck: no\n"
     ]
    },
    {
     "name": "stderr",
     "output_type": "stream",
     "text": [
      "Processing: truck 5:  89%|████████▉ | 829/932 [06:30<01:08,  1.50file/s]"
     ]
    },
    {
     "name": "stdout",
     "output_type": "stream",
     "text": [
      "Is Pickup Truck: no\n"
     ]
    },
    {
     "name": "stderr",
     "output_type": "stream",
     "text": [
      "Processing: truck 5:  89%|████████▉ | 830/932 [06:30<01:08,  1.49file/s]"
     ]
    },
    {
     "name": "stdout",
     "output_type": "stream",
     "text": [
      "Is Pickup Truck: no\n"
     ]
    },
    {
     "name": "stderr",
     "output_type": "stream",
     "text": [
      "Processing: truck 5:  89%|████████▉ | 831/932 [06:31<01:08,  1.47file/s]"
     ]
    },
    {
     "name": "stdout",
     "output_type": "stream",
     "text": [
      "Is Pickup Truck: no\n"
     ]
    },
    {
     "name": "stderr",
     "output_type": "stream",
     "text": [
      "Processing: truck 5:  89%|████████▉ | 833/932 [06:32<00:59,  1.66file/s]"
     ]
    },
    {
     "name": "stdout",
     "output_type": "stream",
     "text": [
      "Is Pickup Truck: no\n"
     ]
    },
    {
     "name": "stderr",
     "output_type": "stream",
     "text": [
      "Processing: truck 5:  89%|████████▉ | 834/932 [06:33<01:01,  1.59file/s]"
     ]
    },
    {
     "name": "stdout",
     "output_type": "stream",
     "text": [
      "Is Pickup Truck: no\n"
     ]
    },
    {
     "name": "stderr",
     "output_type": "stream",
     "text": [
      "Processing: truck 5:  90%|████████▉ | 835/932 [06:33<01:02,  1.56file/s]"
     ]
    },
    {
     "name": "stdout",
     "output_type": "stream",
     "text": [
      "Is Pickup Truck: no\n"
     ]
    },
    {
     "name": "stderr",
     "output_type": "stream",
     "text": [
      "Processing: truck 5:  90%|████████▉ | 836/932 [06:34<00:52,  1.83file/s][codecarbon INFO @ 02:39:41] Energy consumed for RAM : 0.020411 kWh. RAM Power : 188.79906034469604 W\n",
      "[codecarbon INFO @ 02:39:41] Energy consumed for all CPUs : 0.010812 kWh. Total CPU Power : 100.0 W\n",
      "[codecarbon INFO @ 02:39:42] Energy consumed for all GPUs : 0.028275 kWh. Total GPU Power : 268.22551750469495 W\n",
      "[codecarbon INFO @ 02:39:42] 0.059497 kWh of electricity used since the beginning.\n",
      "Processing: truck 5:  90%|████████▉ | 837/932 [06:35<01:11,  1.32file/s]"
     ]
    },
    {
     "name": "stdout",
     "output_type": "stream",
     "text": [
      "Is Pickup Truck: no\n"
     ]
    },
    {
     "name": "stderr",
     "output_type": "stream",
     "text": [
      "Processing: truck 5:  90%|████████▉ | 838/932 [06:36<01:08,  1.37file/s]"
     ]
    },
    {
     "name": "stdout",
     "output_type": "stream",
     "text": [
      "Is Pickup Truck: no\n"
     ]
    },
    {
     "name": "stderr",
     "output_type": "stream",
     "text": [
      "Processing: truck 5:  90%|█████████ | 839/932 [06:36<01:05,  1.41file/s]"
     ]
    },
    {
     "name": "stdout",
     "output_type": "stream",
     "text": [
      "Is Pickup Truck: no\n"
     ]
    },
    {
     "name": "stderr",
     "output_type": "stream",
     "text": [
      "Processing: truck 5:  90%|█████████ | 840/932 [06:37<01:03,  1.44file/s]"
     ]
    },
    {
     "name": "stdout",
     "output_type": "stream",
     "text": [
      "Is Pickup Truck: no\n"
     ]
    },
    {
     "name": "stderr",
     "output_type": "stream",
     "text": [
      "Processing: truck 5:  90%|█████████ | 841/932 [06:38<01:02,  1.46file/s]"
     ]
    },
    {
     "name": "stdout",
     "output_type": "stream",
     "text": [
      "Is Pickup Truck: no\n"
     ]
    },
    {
     "name": "stderr",
     "output_type": "stream",
     "text": [
      "Processing: truck 5:  90%|█████████ | 842/932 [06:38<01:00,  1.48file/s]"
     ]
    },
    {
     "name": "stdout",
     "output_type": "stream",
     "text": [
      "Is Pickup Truck: no\n"
     ]
    },
    {
     "name": "stderr",
     "output_type": "stream",
     "text": [
      "Processing: truck 5:  90%|█████████ | 843/932 [06:39<00:59,  1.49file/s]"
     ]
    },
    {
     "name": "stdout",
     "output_type": "stream",
     "text": [
      "Is Pickup Truck: no\n"
     ]
    },
    {
     "name": "stderr",
     "output_type": "stream",
     "text": [
      "Processing: truck 5:  91%|█████████ | 844/932 [06:40<00:58,  1.50file/s]"
     ]
    },
    {
     "name": "stdout",
     "output_type": "stream",
     "text": [
      "Is Pickup Truck: no\n"
     ]
    },
    {
     "name": "stderr",
     "output_type": "stream",
     "text": [
      "Processing: truck 5:  91%|█████████ | 845/932 [06:40<00:58,  1.50file/s]"
     ]
    },
    {
     "name": "stdout",
     "output_type": "stream",
     "text": [
      "Is Pickup Truck: no\n"
     ]
    },
    {
     "name": "stderr",
     "output_type": "stream",
     "text": [
      "Processing: truck 5:  91%|█████████ | 848/932 [06:42<00:47,  1.78file/s]"
     ]
    },
    {
     "name": "stdout",
     "output_type": "stream",
     "text": [
      "Is Pickup Truck: no\n"
     ]
    },
    {
     "name": "stderr",
     "output_type": "stream",
     "text": [
      "Processing: truck 5:  91%|█████████ | 849/932 [06:42<00:49,  1.69file/s]"
     ]
    },
    {
     "name": "stdout",
     "output_type": "stream",
     "text": [
      "Is Pickup Truck: no\n"
     ]
    },
    {
     "name": "stderr",
     "output_type": "stream",
     "text": [
      "Processing: truck 5:  91%|█████████▏| 851/932 [06:43<00:45,  1.79file/s]"
     ]
    },
    {
     "name": "stdout",
     "output_type": "stream",
     "text": [
      "Is Pickup Truck: no\n"
     ]
    },
    {
     "name": "stderr",
     "output_type": "stream",
     "text": [
      "Processing: truck 5:  91%|█████████▏| 852/932 [06:44<00:47,  1.69file/s]"
     ]
    },
    {
     "name": "stdout",
     "output_type": "stream",
     "text": [
      "Is Pickup Truck: no\n"
     ]
    },
    {
     "name": "stderr",
     "output_type": "stream",
     "text": [
      "Processing: truck 5:  92%|█████████▏| 853/932 [06:45<00:48,  1.63file/s]"
     ]
    },
    {
     "name": "stdout",
     "output_type": "stream",
     "text": [
      "Is Pickup Truck: no\n"
     ]
    },
    {
     "name": "stderr",
     "output_type": "stream",
     "text": [
      "Processing: truck 5:  92%|█████████▏| 854/932 [06:45<00:49,  1.58file/s]"
     ]
    },
    {
     "name": "stdout",
     "output_type": "stream",
     "text": [
      "Is Pickup Truck: no\n"
     ]
    },
    {
     "name": "stderr",
     "output_type": "stream",
     "text": [
      "Processing: truck 5:  92%|█████████▏| 855/932 [06:46<00:49,  1.55file/s]"
     ]
    },
    {
     "name": "stdout",
     "output_type": "stream",
     "text": [
      "Is Pickup Truck: no\n"
     ]
    },
    {
     "name": "stderr",
     "output_type": "stream",
     "text": [
      "Processing: truck 5:  92%|█████████▏| 856/932 [06:47<00:49,  1.54file/s]"
     ]
    },
    {
     "name": "stdout",
     "output_type": "stream",
     "text": [
      "Is Pickup Truck: no\n"
     ]
    },
    {
     "name": "stderr",
     "output_type": "stream",
     "text": [
      "Processing: truck 5:  92%|█████████▏| 857/932 [06:47<00:49,  1.53file/s]"
     ]
    },
    {
     "name": "stdout",
     "output_type": "stream",
     "text": [
      "Is Pickup Truck: no\n"
     ]
    },
    {
     "name": "stderr",
     "output_type": "stream",
     "text": [
      "Processing: truck 5:  92%|█████████▏| 858/932 [06:48<00:48,  1.52file/s]"
     ]
    },
    {
     "name": "stdout",
     "output_type": "stream",
     "text": [
      "Is Pickup Truck: no\n"
     ]
    },
    {
     "name": "stderr",
     "output_type": "stream",
     "text": [
      "Processing: truck 5:  92%|█████████▏| 859/932 [06:49<00:48,  1.50file/s][codecarbon INFO @ 02:39:56] Energy consumed for RAM : 0.021186 kWh. RAM Power : 188.79906034469604 W\n",
      "[codecarbon INFO @ 02:39:56] Energy consumed for all CPUs : 0.011222 kWh. Total CPU Power : 100.0 W\n",
      "[codecarbon INFO @ 02:39:56] Energy consumed for all GPUs : 0.029351 kWh. Total GPU Power : 262.10433822012396 W\n",
      "[codecarbon INFO @ 02:39:56] 0.061758 kWh of electricity used since the beginning.\n"
     ]
    },
    {
     "name": "stdout",
     "output_type": "stream",
     "text": [
      "Is Pickup Truck: no\n"
     ]
    },
    {
     "name": "stderr",
     "output_type": "stream",
     "text": [
      "Processing: truck 5:  92%|█████████▏| 860/932 [06:49<00:47,  1.50file/s]"
     ]
    },
    {
     "name": "stdout",
     "output_type": "stream",
     "text": [
      "Is Pickup Truck: no\n"
     ]
    },
    {
     "name": "stderr",
     "output_type": "stream",
     "text": [
      "Processing: truck 5:  92%|█████████▏| 861/932 [06:50<00:47,  1.51file/s]"
     ]
    },
    {
     "name": "stdout",
     "output_type": "stream",
     "text": [
      "Is Pickup Truck: no\n"
     ]
    },
    {
     "name": "stderr",
     "output_type": "stream",
     "text": [
      "Processing: truck 5:  92%|█████████▏| 862/932 [06:51<00:46,  1.51file/s]"
     ]
    },
    {
     "name": "stdout",
     "output_type": "stream",
     "text": [
      "Is Pickup Truck: no\n"
     ]
    },
    {
     "name": "stderr",
     "output_type": "stream",
     "text": [
      "Processing: truck 5:  93%|█████████▎| 863/932 [06:51<00:45,  1.51file/s]"
     ]
    },
    {
     "name": "stdout",
     "output_type": "stream",
     "text": [
      "Is Pickup Truck: no\n"
     ]
    },
    {
     "name": "stderr",
     "output_type": "stream",
     "text": [
      "Processing: truck 5:  93%|█████████▎| 865/932 [06:52<00:39,  1.68file/s]"
     ]
    },
    {
     "name": "stdout",
     "output_type": "stream",
     "text": [
      "Is Pickup Truck: no\n"
     ]
    },
    {
     "name": "stderr",
     "output_type": "stream",
     "text": [
      "Processing: truck 5:  93%|█████████▎| 866/932 [06:53<00:40,  1.63file/s]"
     ]
    },
    {
     "name": "stdout",
     "output_type": "stream",
     "text": [
      "Is Pickup Truck: no\n"
     ]
    },
    {
     "name": "stderr",
     "output_type": "stream",
     "text": [
      "Processing: truck 5:  93%|█████████▎| 868/932 [06:54<00:36,  1.76file/s]"
     ]
    },
    {
     "name": "stdout",
     "output_type": "stream",
     "text": [
      "Is Pickup Truck: no\n"
     ]
    },
    {
     "name": "stderr",
     "output_type": "stream",
     "text": [
      "Processing: truck 5:  93%|█████████▎| 869/932 [06:55<00:37,  1.68file/s]"
     ]
    },
    {
     "name": "stdout",
     "output_type": "stream",
     "text": [
      "Is Pickup Truck: no\n"
     ]
    },
    {
     "name": "stderr",
     "output_type": "stream",
     "text": [
      "Processing: truck 5:  93%|█████████▎| 870/932 [06:55<00:38,  1.62file/s]"
     ]
    },
    {
     "name": "stdout",
     "output_type": "stream",
     "text": [
      "Is Pickup Truck: no\n"
     ]
    },
    {
     "name": "stderr",
     "output_type": "stream",
     "text": [
      "Processing: truck 5:  94%|█████████▎| 872/932 [06:56<00:34,  1.76file/s]"
     ]
    },
    {
     "name": "stdout",
     "output_type": "stream",
     "text": [
      "Is Pickup Truck: no\n"
     ]
    },
    {
     "name": "stderr",
     "output_type": "stream",
     "text": [
      "Processing: truck 5:  94%|█████████▎| 873/932 [06:57<00:37,  1.57file/s]"
     ]
    },
    {
     "name": "stdout",
     "output_type": "stream",
     "text": [
      "Is Pickup Truck: no\n"
     ]
    },
    {
     "name": "stderr",
     "output_type": "stream",
     "text": [
      "Processing: truck 5:  94%|█████████▍| 874/932 [06:58<00:37,  1.56file/s]"
     ]
    },
    {
     "name": "stdout",
     "output_type": "stream",
     "text": [
      "Is Pickup Truck: no\n"
     ]
    },
    {
     "name": "stderr",
     "output_type": "stream",
     "text": [
      "Processing: truck 5:  94%|█████████▍| 876/932 [06:59<00:32,  1.72file/s]"
     ]
    },
    {
     "name": "stdout",
     "output_type": "stream",
     "text": [
      "Is Pickup Truck: no\n"
     ]
    },
    {
     "name": "stderr",
     "output_type": "stream",
     "text": [
      "Processing: truck 5:  94%|█████████▍| 877/932 [06:59<00:33,  1.66file/s]"
     ]
    },
    {
     "name": "stdout",
     "output_type": "stream",
     "text": [
      "Is Pickup Truck: no\n"
     ]
    },
    {
     "name": "stderr",
     "output_type": "stream",
     "text": [
      "Processing: truck 5:  94%|█████████▍| 878/932 [07:00<00:33,  1.62file/s]"
     ]
    },
    {
     "name": "stdout",
     "output_type": "stream",
     "text": [
      "Is Pickup Truck: no\n"
     ]
    },
    {
     "name": "stderr",
     "output_type": "stream",
     "text": [
      "Processing: truck 5:  94%|█████████▍| 879/932 [07:01<00:33,  1.59file/s]"
     ]
    },
    {
     "name": "stdout",
     "output_type": "stream",
     "text": [
      "Is Pickup Truck: no\n"
     ]
    },
    {
     "name": "stderr",
     "output_type": "stream",
     "text": [
      "Processing: truck 5:  94%|█████████▍| 880/932 [07:01<00:33,  1.57file/s]"
     ]
    },
    {
     "name": "stdout",
     "output_type": "stream",
     "text": [
      "Is Pickup Truck: no\n"
     ]
    },
    {
     "name": "stderr",
     "output_type": "stream",
     "text": [
      "Processing: truck 5:  95%|█████████▍| 882/932 [07:02<00:28,  1.73file/s]"
     ]
    },
    {
     "name": "stdout",
     "output_type": "stream",
     "text": [
      "Is Pickup Truck: no\n"
     ]
    },
    {
     "name": "stderr",
     "output_type": "stream",
     "text": [
      "Processing: truck 5:  95%|█████████▍| 883/932 [07:03<00:29,  1.67file/s]"
     ]
    },
    {
     "name": "stdout",
     "output_type": "stream",
     "text": [
      "Is Pickup Truck: no\n"
     ]
    },
    {
     "name": "stderr",
     "output_type": "stream",
     "text": [
      "Processing: truck 5:  95%|█████████▍| 885/932 [07:04<00:21,  2.17file/s][codecarbon INFO @ 02:40:11] Energy consumed for RAM : 0.021972 kWh. RAM Power : 188.79906034469604 W\n",
      "[codecarbon INFO @ 02:40:11] Energy consumed for all CPUs : 0.011639 kWh. Total CPU Power : 100.0 W\n",
      "[codecarbon INFO @ 02:40:11] Energy consumed for all GPUs : 0.030477 kWh. Total GPU Power : 270.29197340250187 W\n",
      "[codecarbon INFO @ 02:40:11] 0.064087 kWh of electricity used since the beginning.\n",
      "Processing: truck 5:  95%|█████████▌| 886/932 [07:04<00:23,  1.93file/s]"
     ]
    },
    {
     "name": "stdout",
     "output_type": "stream",
     "text": [
      "Is Pickup Truck: no\n"
     ]
    },
    {
     "name": "stderr",
     "output_type": "stream",
     "text": [
      "Processing: truck 5:  95%|█████████▌| 889/932 [07:06<00:21,  2.04file/s]"
     ]
    },
    {
     "name": "stdout",
     "output_type": "stream",
     "text": [
      "Is Pickup Truck: no\n"
     ]
    },
    {
     "name": "stderr",
     "output_type": "stream",
     "text": [
      "Processing: truck 5:  95%|█████████▌| 890/932 [07:06<00:22,  1.86file/s]"
     ]
    },
    {
     "name": "stdout",
     "output_type": "stream",
     "text": [
      "Is Pickup Truck: no\n"
     ]
    },
    {
     "name": "stderr",
     "output_type": "stream",
     "text": [
      "Processing: truck 5:  96%|█████████▌| 891/932 [07:07<00:23,  1.75file/s]"
     ]
    },
    {
     "name": "stdout",
     "output_type": "stream",
     "text": [
      "Is Pickup Truck: no\n"
     ]
    },
    {
     "name": "stderr",
     "output_type": "stream",
     "text": [
      "Processing: truck 5:  96%|█████████▌| 892/932 [07:08<00:24,  1.67file/s]"
     ]
    },
    {
     "name": "stdout",
     "output_type": "stream",
     "text": [
      "Is Pickup Truck: no\n"
     ]
    },
    {
     "name": "stderr",
     "output_type": "stream",
     "text": [
      "Processing: truck 5:  96%|█████████▌| 896/932 [07:09<00:17,  2.03file/s]"
     ]
    },
    {
     "name": "stdout",
     "output_type": "stream",
     "text": [
      "Is Pickup Truck: no\n"
     ]
    },
    {
     "name": "stderr",
     "output_type": "stream",
     "text": [
      "Processing: truck 5:  96%|█████████▌| 897/932 [07:10<00:19,  1.84file/s]"
     ]
    },
    {
     "name": "stdout",
     "output_type": "stream",
     "text": [
      "Is Pickup Truck: no\n"
     ]
    },
    {
     "name": "stderr",
     "output_type": "stream",
     "text": [
      "Processing: truck 5:  96%|█████████▋| 899/932 [07:11<00:17,  1.87file/s]"
     ]
    },
    {
     "name": "stdout",
     "output_type": "stream",
     "text": [
      "Is Pickup Truck: no\n"
     ]
    },
    {
     "name": "stderr",
     "output_type": "stream",
     "text": [
      "Processing: truck 5:  97%|█████████▋| 902/932 [07:12<00:15,  1.99file/s]"
     ]
    },
    {
     "name": "stdout",
     "output_type": "stream",
     "text": [
      "Is Pickup Truck: no\n"
     ]
    },
    {
     "name": "stderr",
     "output_type": "stream",
     "text": [
      "Processing: truck 5:  97%|█████████▋| 903/932 [07:13<00:15,  1.82file/s]"
     ]
    },
    {
     "name": "stdout",
     "output_type": "stream",
     "text": [
      "Is Pickup Truck: no\n"
     ]
    },
    {
     "name": "stderr",
     "output_type": "stream",
     "text": [
      "Processing: truck 5:  97%|█████████▋| 905/932 [07:14<00:14,  1.87file/s]"
     ]
    },
    {
     "name": "stdout",
     "output_type": "stream",
     "text": [
      "Is Pickup Truck: no\n"
     ]
    },
    {
     "name": "stderr",
     "output_type": "stream",
     "text": [
      "Processing: truck 5:  97%|█████████▋| 907/932 [07:15<00:13,  1.89file/s]"
     ]
    },
    {
     "name": "stdout",
     "output_type": "stream",
     "text": [
      "Is Pickup Truck: no\n"
     ]
    },
    {
     "name": "stderr",
     "output_type": "stream",
     "text": [
      "Processing: truck 5:  98%|█████████▊| 910/932 [07:16<00:10,  2.02file/s]"
     ]
    },
    {
     "name": "stdout",
     "output_type": "stream",
     "text": [
      "Is Pickup Truck: no\n"
     ]
    },
    {
     "name": "stderr",
     "output_type": "stream",
     "text": [
      "Processing: truck 5:  98%|█████████▊| 911/932 [07:17<00:11,  1.84file/s]"
     ]
    },
    {
     "name": "stdout",
     "output_type": "stream",
     "text": [
      "Is Pickup Truck: no\n"
     ]
    },
    {
     "name": "stderr",
     "output_type": "stream",
     "text": [
      "Processing: truck 5:  98%|█████████▊| 912/932 [07:17<00:11,  1.73file/s]"
     ]
    },
    {
     "name": "stdout",
     "output_type": "stream",
     "text": [
      "Is Pickup Truck: no\n"
     ]
    },
    {
     "name": "stderr",
     "output_type": "stream",
     "text": [
      "Processing: truck 5:  98%|█████████▊| 913/932 [07:18<00:11,  1.65file/s]"
     ]
    },
    {
     "name": "stdout",
     "output_type": "stream",
     "text": [
      "Is Pickup Truck: no\n"
     ]
    },
    {
     "name": "stderr",
     "output_type": "stream",
     "text": [
      "Processing: truck 5:  98%|█████████▊| 914/932 [07:19<00:11,  1.61file/s][codecarbon INFO @ 02:40:26] Energy consumed for RAM : 0.022758 kWh. RAM Power : 188.79906034469604 W\n",
      "[codecarbon INFO @ 02:40:26] Energy consumed for all CPUs : 0.012055 kWh. Total CPU Power : 100.0 W\n",
      "[codecarbon INFO @ 02:40:26] Energy consumed for all GPUs : 0.031597 kWh. Total GPU Power : 269.04224604100693 W\n",
      "[codecarbon INFO @ 02:40:26] 0.066411 kWh of electricity used since the beginning.\n"
     ]
    },
    {
     "name": "stdout",
     "output_type": "stream",
     "text": [
      "Is Pickup Truck: no\n"
     ]
    },
    {
     "name": "stderr",
     "output_type": "stream",
     "text": [
      "Processing: truck 5:  98%|█████████▊| 915/932 [07:19<00:10,  1.59file/s]"
     ]
    },
    {
     "name": "stdout",
     "output_type": "stream",
     "text": [
      "Is Pickup Truck: no\n"
     ]
    },
    {
     "name": "stderr",
     "output_type": "stream",
     "text": [
      "Processing: truck 5:  98%|█████████▊| 916/932 [07:20<00:10,  1.57file/s]"
     ]
    },
    {
     "name": "stdout",
     "output_type": "stream",
     "text": [
      "Is Pickup Truck: no\n"
     ]
    },
    {
     "name": "stderr",
     "output_type": "stream",
     "text": [
      "Processing: truck 5:  98%|█████████▊| 917/932 [07:21<00:09,  1.55file/s]"
     ]
    },
    {
     "name": "stdout",
     "output_type": "stream",
     "text": [
      "Is Pickup Truck: no\n"
     ]
    },
    {
     "name": "stderr",
     "output_type": "stream",
     "text": [
      "Processing: truck 5:  99%|█████████▊| 919/932 [07:22<00:07,  1.71file/s]"
     ]
    },
    {
     "name": "stdout",
     "output_type": "stream",
     "text": [
      "Is Pickup Truck: no\n"
     ]
    },
    {
     "name": "stderr",
     "output_type": "stream",
     "text": [
      "Processing: truck 5:  99%|█████████▉| 923/932 [07:23<00:04,  2.05file/s]"
     ]
    },
    {
     "name": "stdout",
     "output_type": "stream",
     "text": [
      "Is Pickup Truck: no\n"
     ]
    },
    {
     "name": "stderr",
     "output_type": "stream",
     "text": [
      "Processing: truck 5:  99%|█████████▉| 924/932 [07:24<00:04,  1.86file/s]"
     ]
    },
    {
     "name": "stdout",
     "output_type": "stream",
     "text": [
      "Is Pickup Truck: no\n"
     ]
    },
    {
     "name": "stderr",
     "output_type": "stream",
     "text": [
      "Processing: truck 5:  99%|█████████▉| 925/932 [07:25<00:04,  1.73file/s]"
     ]
    },
    {
     "name": "stdout",
     "output_type": "stream",
     "text": [
      "Is Pickup Truck: no\n"
     ]
    },
    {
     "name": "stderr",
     "output_type": "stream",
     "text": [
      "Processing: truck 5:  99%|█████████▉| 927/932 [07:26<00:02,  2.08file/s]\n",
      "[codecarbon INFO @ 02:40:34] Energy consumed for RAM : 0.023136 kWh. RAM Power : 188.79906034469604 W\n",
      "[codecarbon INFO @ 02:40:34] Energy consumed for all CPUs : 0.012255 kWh. Total CPU Power : 100.0 W\n",
      "[codecarbon INFO @ 02:40:34] Energy consumed for all GPUs : 0.032133 kWh. Total GPU Power : 267.92056804501965 W\n",
      "[codecarbon INFO @ 02:40:34] 0.067523 kWh of electricity used since the beginning.\n"
     ]
    },
    {
     "name": "stdout",
     "output_type": "stream",
     "text": [
      "Is Pickup Truck: no\n",
      "Total processing time: 446.56 seconds\n",
      "CO2 emissions: 0.030367 kg\n",
      "\n",
      "--- Metrics ---\n",
      "Total Images: 927\n",
      "Correct Predictions: 912\n",
      "Wrong Predictions: 15\n",
      "Accuracy (%): 98.38187702265373\n",
      "Error Rate (%): 1.6181229773462746\n",
      "Class 'Class 1 - Motorcycles' - Accuracy: 96.00%, Error Rate: 4.00%\n",
      "Class 'Class 2 - Car, SUV, Station Wagons' - Accuracy: 94.95%, Error Rate: 5.05%\n",
      "Class 'pickup' - Accuracy: 98.00%, Error Rate: 2.00%\n",
      "Class 'van' - Accuracy: 100.00%, Error Rate: 0.00%\n",
      "Class 'bus 2' - Accuracy: 100.00%, Error Rate: 0.00%\n",
      "Class 'truck 2' - Accuracy: 96.04%, Error Rate: 3.96%\n",
      "Class 'bus 3' - Accuracy: 100.00%, Error Rate: 0.00%\n",
      "Class 'truck 3' - Accuracy: 100.00%, Error Rate: 0.00%\n",
      "Class 'truck 4' - Accuracy: 100.00%, Error Rate: 0.00%\n",
      "Class 'truck 5' - Accuracy: 100.00%, Error Rate: 0.00%\n",
      "Processor: x86_64\n",
      "CPU Count: 128\n",
      "Memory (GB): 503.46\n",
      "Elapsed Time (seconds): 446.5639898777008\n",
      "CO2 Emissions (kg): 0.030367\n",
      "google/paligemma2-10b-pt-896\n"
     ]
    },
    {
     "data": {
      "application/vnd.jupyter.widget-view+json": {
       "model_id": "457a60b4397141518f9dd896d40d478c",
       "version_major": 2,
       "version_minor": 0
      },
      "text/plain": [
       "config.json:   0%|          | 0.00/1.36k [00:00<?, ?B/s]"
      ]
     },
     "metadata": {},
     "output_type": "display_data"
    },
    {
     "data": {
      "application/vnd.jupyter.widget-view+json": {
       "model_id": "6250eb0a50ef4100816b362fb492fe67",
       "version_major": 2,
       "version_minor": 0
      },
      "text/plain": [
       "model.safetensors.index.json:   0%|          | 0.00/92.6k [00:00<?, ?B/s]"
      ]
     },
     "metadata": {},
     "output_type": "display_data"
    },
    {
     "data": {
      "application/vnd.jupyter.widget-view+json": {
       "model_id": "f070c3352e7b40918c0e812da65bb1a2",
       "version_major": 2,
       "version_minor": 0
      },
      "text/plain": [
       "Downloading shards:   0%|          | 0/4 [00:00<?, ?it/s]"
      ]
     },
     "metadata": {},
     "output_type": "display_data"
    },
    {
     "data": {
      "application/vnd.jupyter.widget-view+json": {
       "model_id": "25343cb174ee4708afdb2ee497b4c5f2",
       "version_major": 2,
       "version_minor": 0
      },
      "text/plain": [
       "model-00001-of-00004.safetensors:   0%|          | 0.00/4.96G [00:00<?, ?B/s]"
      ]
     },
     "metadata": {},
     "output_type": "display_data"
    },
    {
     "data": {
      "application/vnd.jupyter.widget-view+json": {
       "model_id": "75a9c1d807224227a7400e661fe1b461",
       "version_major": 2,
       "version_minor": 0
      },
      "text/plain": [
       "model-00002-of-00004.safetensors:   0%|          | 0.00/4.95G [00:00<?, ?B/s]"
      ]
     },
     "metadata": {},
     "output_type": "display_data"
    },
    {
     "data": {
      "application/vnd.jupyter.widget-view+json": {
       "model_id": "f6697c99765e40a29ec1a180d4e1d6cb",
       "version_major": 2,
       "version_minor": 0
      },
      "text/plain": [
       "model-00003-of-00004.safetensors:   0%|          | 0.00/4.96G [00:00<?, ?B/s]"
      ]
     },
     "metadata": {},
     "output_type": "display_data"
    },
    {
     "data": {
      "application/vnd.jupyter.widget-view+json": {
       "model_id": "a04972bde16d430b8e7b4c70f0fba16e",
       "version_major": 2,
       "version_minor": 0
      },
      "text/plain": [
       "model-00004-of-00004.safetensors:   0%|          | 0.00/4.46G [00:00<?, ?B/s]"
      ]
     },
     "metadata": {},
     "output_type": "display_data"
    },
    {
     "data": {
      "application/vnd.jupyter.widget-view+json": {
       "model_id": "3f1eba1c391549deabf25cbc4c83eb17",
       "version_major": 2,
       "version_minor": 0
      },
      "text/plain": [
       "Loading checkpoint shards:   0%|          | 0/4 [00:00<?, ?it/s]"
      ]
     },
     "metadata": {},
     "output_type": "display_data"
    },
    {
     "data": {
      "application/vnd.jupyter.widget-view+json": {
       "model_id": "f7c8a8b027024cd39d82fd352c17b2c6",
       "version_major": 2,
       "version_minor": 0
      },
      "text/plain": [
       "generation_config.json:   0%|          | 0.00/173 [00:00<?, ?B/s]"
      ]
     },
     "metadata": {},
     "output_type": "display_data"
    },
    {
     "data": {
      "application/vnd.jupyter.widget-view+json": {
       "model_id": "96c61038bd654ba080dee681c265ba89",
       "version_major": 2,
       "version_minor": 0
      },
      "text/plain": [
       "preprocessor_config.json:   0%|          | 0.00/425 [00:00<?, ?B/s]"
      ]
     },
     "metadata": {},
     "output_type": "display_data"
    },
    {
     "data": {
      "application/vnd.jupyter.widget-view+json": {
       "model_id": "039b06ee80d042f4a73f3983ade5b2f5",
       "version_major": 2,
       "version_minor": 0
      },
      "text/plain": [
       "tokenizer_config.json:   0%|          | 0.00/243k [00:00<?, ?B/s]"
      ]
     },
     "metadata": {},
     "output_type": "display_data"
    },
    {
     "data": {
      "application/vnd.jupyter.widget-view+json": {
       "model_id": "cc67083b11464f44a99418cc6b4aee4b",
       "version_major": 2,
       "version_minor": 0
      },
      "text/plain": [
       "tokenizer.json:   0%|          | 0.00/34.6M [00:00<?, ?B/s]"
      ]
     },
     "metadata": {},
     "output_type": "display_data"
    },
    {
     "data": {
      "application/vnd.jupyter.widget-view+json": {
       "model_id": "8ad2487f060640018907df30335c2f8b",
       "version_major": 2,
       "version_minor": 0
      },
      "text/plain": [
       "special_tokens_map.json:   0%|          | 0.00/733 [00:00<?, ?B/s]"
      ]
     },
     "metadata": {},
     "output_type": "display_data"
    },
    {
     "name": "stderr",
     "output_type": "stream",
     "text": [
      "Processing Images:   0%|          | 0/932 [00:00<?, ?file/s][codecarbon INFO @ 02:48:28] [setup] RAM Tracking...\n",
      "[codecarbon INFO @ 02:48:28] [setup] CPU Tracking...\n",
      "[codecarbon WARNING @ 02:48:28] No CPU tracking mode found. Falling back on CPU constant mode. \n",
      " Linux OS detected: Please ensure RAPL files exist at \\sys\\class\\powercap\\intel-rapl to measure CPU\n",
      "\n",
      "[codecarbon INFO @ 02:48:29] CPU Model on constant consumption mode: AMD EPYC 7513 32-Core Processor\n",
      "[codecarbon INFO @ 02:48:29] [setup] GPU Tracking...\n",
      "[codecarbon INFO @ 02:48:29] Tracking Nvidia GPU via pynvml\n",
      "[codecarbon INFO @ 02:48:29] >>> Tracker's metadata:\n",
      "[codecarbon INFO @ 02:48:29]   Platform system: Linux-6.8.0-45-generic-x86_64-with-glibc2.35\n",
      "[codecarbon INFO @ 02:48:29]   Python version: 3.11.10\n",
      "[codecarbon INFO @ 02:48:29]   CodeCarbon version: 2.8.2\n",
      "[codecarbon INFO @ 02:48:29]   Available RAM : 503.464 GB\n",
      "[codecarbon INFO @ 02:48:29]   CPU count: 128\n",
      "[codecarbon INFO @ 02:48:29]   CPU model: AMD EPYC 7513 32-Core Processor\n",
      "[codecarbon INFO @ 02:48:29]   GPU count: 1\n",
      "[codecarbon INFO @ 02:48:29]   GPU model: 1 x NVIDIA A100-SXM4-80GB\n",
      "[codecarbon INFO @ 02:48:32] Saving emissions data to file /emissions.csv\n",
      "Processing: Class 1 - Motorcycles:   1%|▏         | 13/932 [00:18<18:26,  1.20s/file] [codecarbon INFO @ 02:48:47] Energy consumed for RAM : 0.000787 kWh. RAM Power : 188.79906034469604 W\n",
      "[codecarbon INFO @ 02:48:47] Energy consumed for all CPUs : 0.000417 kWh. Total CPU Power : 100.0 W\n",
      "[codecarbon INFO @ 02:48:47] Energy consumed for all GPUs : 0.001304 kWh. Total GPU Power : 312.85387578941567 W\n",
      "[codecarbon INFO @ 02:48:47] 0.002508 kWh of electricity used since the beginning.\n",
      "Processing: Class 1 - Motorcycles:   3%|▎         | 26/932 [00:34<17:52,  1.18s/file][codecarbon INFO @ 02:49:02] Energy consumed for RAM : 0.001573 kWh. RAM Power : 188.79906034469604 W\n",
      "[codecarbon INFO @ 02:49:02] Energy consumed for all CPUs : 0.000833 kWh. Total CPU Power : 100.0 W\n",
      "[codecarbon INFO @ 02:49:02] Energy consumed for all GPUs : 0.002648 kWh. Total GPU Power : 322.6005506124445 W\n",
      "[codecarbon INFO @ 02:49:02] 0.005054 kWh of electricity used since the beginning.\n",
      "Processing: Class 1 - Motorcycles:   4%|▍         | 38/932 [00:48<17:31,  1.18s/file][codecarbon INFO @ 02:49:17] Energy consumed for RAM : 0.002358 kWh. RAM Power : 188.79906034469604 W\n",
      "[codecarbon INFO @ 02:49:17] Energy consumed for all CPUs : 0.001249 kWh. Total CPU Power : 100.0 W\n",
      "[codecarbon INFO @ 02:49:17] Energy consumed for all GPUs : 0.004012 kWh. Total GPU Power : 328.0587023722058 W\n",
      "[codecarbon INFO @ 02:49:17] 0.007620 kWh of electricity used since the beginning.\n",
      "Processing: Class 1 - Motorcycles:   5%|▌         | 51/932 [01:03<17:19,  1.18s/file][codecarbon INFO @ 02:49:32] Energy consumed for RAM : 0.003145 kWh. RAM Power : 188.79906034469604 W\n",
      "[codecarbon INFO @ 02:49:32] Energy consumed for all CPUs : 0.001666 kWh. Total CPU Power : 100.0 W\n",
      "[codecarbon INFO @ 02:49:32] Energy consumed for all GPUs : 0.005384 kWh. Total GPU Power : 329.2793909798238 W\n",
      "[codecarbon INFO @ 02:49:32] 0.010194 kWh of electricity used since the beginning.\n",
      "Processing: Class 1 - Motorcycles:   7%|▋         | 64/932 [01:18<17:03,  1.18s/file][codecarbon INFO @ 02:49:47] Energy consumed for RAM : 0.003931 kWh. RAM Power : 188.79906034469604 W\n",
      "[codecarbon INFO @ 02:49:47] Energy consumed for all CPUs : 0.002082 kWh. Total CPU Power : 100.0 W\n",
      "[codecarbon INFO @ 02:49:47] Energy consumed for all GPUs : 0.006779 kWh. Total GPU Power : 334.85861797249254 W\n",
      "[codecarbon INFO @ 02:49:47] 0.012792 kWh of electricity used since the beginning.\n",
      "Processing: Class 1 - Motorcycles:   8%|▊         | 77/932 [01:34<16:47,  1.18s/file][codecarbon INFO @ 02:50:02] Energy consumed for RAM : 0.004717 kWh. RAM Power : 188.79906034469604 W\n",
      "[codecarbon INFO @ 02:50:02] Energy consumed for all CPUs : 0.002499 kWh. Total CPU Power : 100.0 W\n",
      "[codecarbon INFO @ 02:50:02] Energy consumed for all GPUs : 0.008171 kWh. Total GPU Power : 334.21472142206136 W\n",
      "[codecarbon INFO @ 02:50:02] 0.015387 kWh of electricity used since the beginning.\n",
      "Processing: Class 1 - Motorcycles:  10%|▉         | 89/932 [01:48<16:31,  1.18s/file][codecarbon INFO @ 02:50:17] Energy consumed for RAM : 0.005504 kWh. RAM Power : 188.79906034469604 W\n",
      "[codecarbon INFO @ 02:50:17] Energy consumed for all CPUs : 0.002915 kWh. Total CPU Power : 100.0 W\n",
      "[codecarbon INFO @ 02:50:17] Energy consumed for all GPUs : 0.009576 kWh. Total GPU Power : 337.39058866705017 W\n",
      "[codecarbon INFO @ 02:50:17] 0.017996 kWh of electricity used since the beginning.\n",
      "Processing: Class 2 - Car, SUV, Station Wagons:  11%|█         | 102/932 [02:03<16:18,  1.18s/file][codecarbon INFO @ 02:50:32] Energy consumed for RAM : 0.006290 kWh. RAM Power : 188.79906034469604 W\n",
      "[codecarbon INFO @ 02:50:32] Energy consumed for all CPUs : 0.003332 kWh. Total CPU Power : 100.0 W\n",
      "[codecarbon INFO @ 02:50:32] Energy consumed for all GPUs : 0.010983 kWh. Total GPU Power : 337.5704544853033 W\n",
      "[codecarbon INFO @ 02:50:32] 0.020605 kWh of electricity used since the beginning.\n",
      "[codecarbon INFO @ 02:50:32] 0.077212 g.CO2eq/s mean an estimation of 2,434.96996391342 kg.CO2eq/year\n",
      "Processing: Class 2 - Car, SUV, Station Wagons:  12%|█▏        | 115/932 [02:19<16:02,  1.18s/file][codecarbon INFO @ 02:50:47] Energy consumed for RAM : 0.007077 kWh. RAM Power : 188.79906034469604 W\n",
      "[codecarbon INFO @ 02:50:47] Energy consumed for all CPUs : 0.003749 kWh. Total CPU Power : 100.0 W\n",
      "[codecarbon INFO @ 02:50:47] Energy consumed for all GPUs : 0.012398 kWh. Total GPU Power : 339.7463498222798 W\n",
      "[codecarbon INFO @ 02:50:47] 0.023223 kWh of electricity used since the beginning.\n",
      "Processing: Class 2 - Car, SUV, Station Wagons:  14%|█▎        | 127/932 [02:33<15:48,  1.18s/file][codecarbon INFO @ 02:51:02] Energy consumed for RAM : 0.007863 kWh. RAM Power : 188.79906034469604 W\n",
      "[codecarbon INFO @ 02:51:02] Energy consumed for all CPUs : 0.004165 kWh. Total CPU Power : 100.0 W\n",
      "Processing: Class 2 - Car, SUV, Station Wagons:  14%|█▎        | 128/932 [02:34<15:47,  1.18s/file][codecarbon INFO @ 02:51:02] Energy consumed for all GPUs : 0.013823 kWh. Total GPU Power : 342.1775217752887 W\n",
      "[codecarbon INFO @ 02:51:02] 0.025851 kWh of electricity used since the beginning.\n",
      "Processing: Class 2 - Car, SUV, Station Wagons:  15%|█▌        | 140/932 [02:48<15:38,  1.19s/file][codecarbon INFO @ 02:51:17] Energy consumed for RAM : 0.008649 kWh. RAM Power : 188.79906034469604 W\n",
      "[codecarbon INFO @ 02:51:17] Energy consumed for all CPUs : 0.004582 kWh. Total CPU Power : 100.0 W\n",
      "[codecarbon INFO @ 02:51:17] Energy consumed for all GPUs : 0.015251 kWh. Total GPU Power : 342.71821280669633 W\n",
      "[codecarbon INFO @ 02:51:17] 0.028481 kWh of electricity used since the beginning.\n",
      "Processing: Class 2 - Car, SUV, Station Wagons:  16%|█▌        | 151/932 [03:01<15:20,  1.18s/file]"
     ]
    }
   ],
   "source": [
    "for models in model_id:\n",
    "    print(models)\n",
    "    model = PaliGemmaForConditionalGeneration.from_pretrained(models, torch_dtype=torch.bfloat16, quantization_config=nf4_config, device_map=\"auto\").eval()\n",
    "    processor = PaliGemmaProcessor.from_pretrained(models)\n",
    "    wrong_predictions_dir = f'experiment_data/{models}/wrong_predictions'  # Directory to store wrongly predicted images\n",
    "    os.makedirs(wrong_predictions_dir, exist_ok=True)\n",
    "    run = main_loop(wrong_predictions_dir = wrong_predictions_dir)\n",
    "    export_results(run[0], models, run[1], run[2])\n",
    "    \n",
    "        "
   ]
  },
  {
   "cell_type": "code",
   "execution_count": null,
   "metadata": {},
   "outputs": [],
   "source": []
  },
  {
   "cell_type": "code",
   "execution_count": null,
   "metadata": {},
   "outputs": [],
   "source": []
  },
  {
   "cell_type": "code",
   "execution_count": null,
   "metadata": {},
   "outputs": [],
   "source": []
  }
 ],
 "metadata": {
  "accelerator": "GPU",
  "colab": {
   "gpuType": "T4",
   "provenance": []
  },
  "kernelspec": {
   "display_name": "Python 3 (ipykernel)",
   "language": "python",
   "name": "python3"
  },
  "language_info": {
   "codemirror_mode": {
    "name": "ipython",
    "version": 3
   },
   "file_extension": ".py",
   "mimetype": "text/x-python",
   "name": "python",
   "nbconvert_exporter": "python",
   "pygments_lexer": "ipython3",
   "version": "3.11.10"
  },
  "widgets": {
   "application/vnd.jupyter.widget-state+json": {
    "03fb4a86fd634888a5b7b79b8de644c0": {
     "model_module": "@jupyter-widgets/controls",
     "model_module_version": "1.5.0",
     "model_name": "FloatProgressModel",
     "state": {
      "_dom_classes": [],
      "_model_module": "@jupyter-widgets/controls",
      "_model_module_version": "1.5.0",
      "_model_name": "FloatProgressModel",
      "_view_count": null,
      "_view_module": "@jupyter-widgets/controls",
      "_view_module_version": "1.5.0",
      "_view_name": "ProgressView",
      "bar_style": "success",
      "description": "",
      "description_tooltip": null,
      "layout": "IPY_MODEL_ac395c5cf8984c588b5aec4b16d3ecd7",
      "max": 2,
      "min": 0,
      "orientation": "horizontal",
      "style": "IPY_MODEL_b2b2c799c6424b3d8c04b6b0d740495f",
      "value": 2
     }
    },
    "1c8a0accbd9e4ecd92ea6759abcb90b8": {
     "model_module": "@jupyter-widgets/controls",
     "model_module_version": "1.5.0",
     "model_name": "DescriptionStyleModel",
     "state": {
      "_model_module": "@jupyter-widgets/controls",
      "_model_module_version": "1.5.0",
      "_model_name": "DescriptionStyleModel",
      "_view_count": null,
      "_view_module": "@jupyter-widgets/base",
      "_view_module_version": "1.2.0",
      "_view_name": "StyleView",
      "description_width": ""
     }
    },
    "24bdb648a9924a1e9c7492bfad303051": {
     "model_module": "@jupyter-widgets/base",
     "model_module_version": "1.2.0",
     "model_name": "LayoutModel",
     "state": {
      "_model_module": "@jupyter-widgets/base",
      "_model_module_version": "1.2.0",
      "_model_name": "LayoutModel",
      "_view_count": null,
      "_view_module": "@jupyter-widgets/base",
      "_view_module_version": "1.2.0",
      "_view_name": "LayoutView",
      "align_content": null,
      "align_items": null,
      "align_self": null,
      "border": null,
      "bottom": null,
      "display": null,
      "flex": null,
      "flex_flow": null,
      "grid_area": null,
      "grid_auto_columns": null,
      "grid_auto_flow": null,
      "grid_auto_rows": null,
      "grid_column": null,
      "grid_gap": null,
      "grid_row": null,
      "grid_template_areas": null,
      "grid_template_columns": null,
      "grid_template_rows": null,
      "height": null,
      "justify_content": null,
      "justify_items": null,
      "left": null,
      "margin": null,
      "max_height": null,
      "max_width": null,
      "min_height": null,
      "min_width": null,
      "object_fit": null,
      "object_position": null,
      "order": null,
      "overflow": null,
      "overflow_x": null,
      "overflow_y": null,
      "padding": null,
      "right": null,
      "top": null,
      "visibility": null,
      "width": null
     }
    },
    "35e83eef2b3942de9988b141242abf26": {
     "model_module": "@jupyter-widgets/controls",
     "model_module_version": "1.5.0",
     "model_name": "DescriptionStyleModel",
     "state": {
      "_model_module": "@jupyter-widgets/controls",
      "_model_module_version": "1.5.0",
      "_model_name": "DescriptionStyleModel",
      "_view_count": null,
      "_view_module": "@jupyter-widgets/base",
      "_view_module_version": "1.2.0",
      "_view_name": "StyleView",
      "description_width": ""
     }
    },
    "6872ab4ee023411b83902a76159f51a5": {
     "model_module": "@jupyter-widgets/controls",
     "model_module_version": "1.5.0",
     "model_name": "HTMLModel",
     "state": {
      "_dom_classes": [],
      "_model_module": "@jupyter-widgets/controls",
      "_model_module_version": "1.5.0",
      "_model_name": "HTMLModel",
      "_view_count": null,
      "_view_module": "@jupyter-widgets/controls",
      "_view_module_version": "1.5.0",
      "_view_name": "HTMLView",
      "description": "",
      "description_tooltip": null,
      "layout": "IPY_MODEL_e320a6d270f944fcb0002ef0f8316f55",
      "placeholder": "​",
      "style": "IPY_MODEL_1c8a0accbd9e4ecd92ea6759abcb90b8",
      "value": "Loading checkpoint shards: 100%"
     }
    },
    "6b414c9df53d4cff91d850c1ec206af4": {
     "model_module": "@jupyter-widgets/controls",
     "model_module_version": "1.5.0",
     "model_name": "HTMLModel",
     "state": {
      "_dom_classes": [],
      "_model_module": "@jupyter-widgets/controls",
      "_model_module_version": "1.5.0",
      "_model_name": "HTMLModel",
      "_view_count": null,
      "_view_module": "@jupyter-widgets/controls",
      "_view_module_version": "1.5.0",
      "_view_name": "HTMLView",
      "description": "",
      "description_tooltip": null,
      "layout": "IPY_MODEL_c14df69eb5b34254aab962df8ff25261",
      "placeholder": "​",
      "style": "IPY_MODEL_35e83eef2b3942de9988b141242abf26",
      "value": " 2/2 [00:15&lt;00:00,  7.38s/it]"
     }
    },
    "ac395c5cf8984c588b5aec4b16d3ecd7": {
     "model_module": "@jupyter-widgets/base",
     "model_module_version": "1.2.0",
     "model_name": "LayoutModel",
     "state": {
      "_model_module": "@jupyter-widgets/base",
      "_model_module_version": "1.2.0",
      "_model_name": "LayoutModel",
      "_view_count": null,
      "_view_module": "@jupyter-widgets/base",
      "_view_module_version": "1.2.0",
      "_view_name": "LayoutView",
      "align_content": null,
      "align_items": null,
      "align_self": null,
      "border": null,
      "bottom": null,
      "display": null,
      "flex": null,
      "flex_flow": null,
      "grid_area": null,
      "grid_auto_columns": null,
      "grid_auto_flow": null,
      "grid_auto_rows": null,
      "grid_column": null,
      "grid_gap": null,
      "grid_row": null,
      "grid_template_areas": null,
      "grid_template_columns": null,
      "grid_template_rows": null,
      "height": null,
      "justify_content": null,
      "justify_items": null,
      "left": null,
      "margin": null,
      "max_height": null,
      "max_width": null,
      "min_height": null,
      "min_width": null,
      "object_fit": null,
      "object_position": null,
      "order": null,
      "overflow": null,
      "overflow_x": null,
      "overflow_y": null,
      "padding": null,
      "right": null,
      "top": null,
      "visibility": null,
      "width": null
     }
    },
    "b2b2c799c6424b3d8c04b6b0d740495f": {
     "model_module": "@jupyter-widgets/controls",
     "model_module_version": "1.5.0",
     "model_name": "ProgressStyleModel",
     "state": {
      "_model_module": "@jupyter-widgets/controls",
      "_model_module_version": "1.5.0",
      "_model_name": "ProgressStyleModel",
      "_view_count": null,
      "_view_module": "@jupyter-widgets/base",
      "_view_module_version": "1.2.0",
      "_view_name": "StyleView",
      "bar_color": null,
      "description_width": ""
     }
    },
    "beff6fe1bbfd489c88b4d0f9940a1d01": {
     "model_module": "@jupyter-widgets/controls",
     "model_module_version": "1.5.0",
     "model_name": "HBoxModel",
     "state": {
      "_dom_classes": [],
      "_model_module": "@jupyter-widgets/controls",
      "_model_module_version": "1.5.0",
      "_model_name": "HBoxModel",
      "_view_count": null,
      "_view_module": "@jupyter-widgets/controls",
      "_view_module_version": "1.5.0",
      "_view_name": "HBoxView",
      "box_style": "",
      "children": [
       "IPY_MODEL_6872ab4ee023411b83902a76159f51a5",
       "IPY_MODEL_03fb4a86fd634888a5b7b79b8de644c0",
       "IPY_MODEL_6b414c9df53d4cff91d850c1ec206af4"
      ],
      "layout": "IPY_MODEL_24bdb648a9924a1e9c7492bfad303051"
     }
    },
    "c14df69eb5b34254aab962df8ff25261": {
     "model_module": "@jupyter-widgets/base",
     "model_module_version": "1.2.0",
     "model_name": "LayoutModel",
     "state": {
      "_model_module": "@jupyter-widgets/base",
      "_model_module_version": "1.2.0",
      "_model_name": "LayoutModel",
      "_view_count": null,
      "_view_module": "@jupyter-widgets/base",
      "_view_module_version": "1.2.0",
      "_view_name": "LayoutView",
      "align_content": null,
      "align_items": null,
      "align_self": null,
      "border": null,
      "bottom": null,
      "display": null,
      "flex": null,
      "flex_flow": null,
      "grid_area": null,
      "grid_auto_columns": null,
      "grid_auto_flow": null,
      "grid_auto_rows": null,
      "grid_column": null,
      "grid_gap": null,
      "grid_row": null,
      "grid_template_areas": null,
      "grid_template_columns": null,
      "grid_template_rows": null,
      "height": null,
      "justify_content": null,
      "justify_items": null,
      "left": null,
      "margin": null,
      "max_height": null,
      "max_width": null,
      "min_height": null,
      "min_width": null,
      "object_fit": null,
      "object_position": null,
      "order": null,
      "overflow": null,
      "overflow_x": null,
      "overflow_y": null,
      "padding": null,
      "right": null,
      "top": null,
      "visibility": null,
      "width": null
     }
    },
    "e320a6d270f944fcb0002ef0f8316f55": {
     "model_module": "@jupyter-widgets/base",
     "model_module_version": "1.2.0",
     "model_name": "LayoutModel",
     "state": {
      "_model_module": "@jupyter-widgets/base",
      "_model_module_version": "1.2.0",
      "_model_name": "LayoutModel",
      "_view_count": null,
      "_view_module": "@jupyter-widgets/base",
      "_view_module_version": "1.2.0",
      "_view_name": "LayoutView",
      "align_content": null,
      "align_items": null,
      "align_self": null,
      "border": null,
      "bottom": null,
      "display": null,
      "flex": null,
      "flex_flow": null,
      "grid_area": null,
      "grid_auto_columns": null,
      "grid_auto_flow": null,
      "grid_auto_rows": null,
      "grid_column": null,
      "grid_gap": null,
      "grid_row": null,
      "grid_template_areas": null,
      "grid_template_columns": null,
      "grid_template_rows": null,
      "height": null,
      "justify_content": null,
      "justify_items": null,
      "left": null,
      "margin": null,
      "max_height": null,
      "max_width": null,
      "min_height": null,
      "min_width": null,
      "object_fit": null,
      "object_position": null,
      "order": null,
      "overflow": null,
      "overflow_x": null,
      "overflow_y": null,
      "padding": null,
      "right": null,
      "top": null,
      "visibility": null,
      "width": null
     }
    }
   }
  }
 },
 "nbformat": 4,
 "nbformat_minor": 4
}
